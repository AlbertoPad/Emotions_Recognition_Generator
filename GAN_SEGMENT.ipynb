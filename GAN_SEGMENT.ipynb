{
 "cells": [
  {
   "cell_type": "markdown",
   "id": "10cae63e",
   "metadata": {},
   "source": [
    "# CPU or GPU "
   ]
  },
  {
   "cell_type": "code",
   "execution_count": null,
   "id": "9b1be9fc",
   "metadata": {},
   "outputs": [],
   "source": [
    "# !pip uninstall mne\n",
    "# pip install entropy\n",
    "# !pip install --upgrade entropy"
   ]
  },
  {
   "cell_type": "code",
   "execution_count": 1,
   "id": "1b5f13c5",
   "metadata": {},
   "outputs": [],
   "source": [
    "import tensorflow as tf\n",
    "# Configuración de TensorFlow para usar la GPU\n",
    "gpus = tf.config.experimental.list_physical_devices('GPU')\n",
    "if gpus:\n",
    "    try:\n",
    "        for gpu in gpus:\n",
    "            tf.config.experimental.set_memory_growth(gpu, True)\n",
    "    except RuntimeError as e:\n",
    "        print(e)\n",
    "\n",
    "# # Configuración de TensorFlow para usar la CPU\n",
    "# tf.config.set_visible_devices([], 'GPU')"
   ]
  },
  {
   "cell_type": "markdown",
   "id": "3386fa7f",
   "metadata": {},
   "source": [
    "# LIBRARIES "
   ]
  },
  {
   "cell_type": "code",
   "execution_count": 2,
   "id": "6731123e",
   "metadata": {},
   "outputs": [],
   "source": [
    "# !pip list"
   ]
  },
  {
   "cell_type": "code",
   "execution_count": 3,
   "id": "c130517a",
   "metadata": {},
   "outputs": [],
   "source": [
    "# Library EEG\n",
    "import mne\n",
    "\n",
    "# Library System \n",
    "import os\n",
    "import numpy as np\n",
    "from tqdm import tqdm\n",
    "import time\n",
    "\n",
    "# Library Statistics\n",
    "import scipy.stats\n",
    "import random\n",
    "from scipy.stats import entropy\n",
    "from scipy.fft import fft\n",
    "from scipy.signal import welch\n",
    "from scipy.signal import butter, filtfilt\n",
    "from sklearn.decomposition import PCA\n",
    "\n",
    "\n",
    "# Library GAN\n",
    "from tensorflow.keras.layers import Input, Dense, LeakyReLU, BatchNormalization, Reshape, Conv2DTranspose, Conv2D, Flatten, Dropout\n",
    "from tensorflow.keras.models import Model\n",
    "from tensorflow.keras.optimizers import Adam\n",
    "\n",
    "# Library Graph\n",
    "import matplotlib.pyplot as plt\n",
    "import seaborn as sns\n",
    "\n",
    "# No Warning\n",
    "import warnings\n",
    "warnings.filterwarnings(\"ignore\")\n",
    "mne.set_log_level(\"ERROR\")"
   ]
  },
  {
   "cell_type": "code",
   "execution_count": 4,
   "id": "597da088",
   "metadata": {},
   "outputs": [
    {
     "data": {
      "text/plain": [
       "'C:\\\\Users\\\\macka\\\\TFM_WD\\\\ORI\\\\SEED_GER'"
      ]
     },
     "execution_count": 4,
     "metadata": {},
     "output_type": "execute_result"
    }
   ],
   "source": [
    "os.getcwd()"
   ]
  },
  {
   "cell_type": "markdown",
   "id": "c0c1d2ba",
   "metadata": {},
   "source": [
    "# DATA"
   ]
  },
  {
   "cell_type": "markdown",
   "id": "54e30d44",
   "metadata": {},
   "source": [
    "### Lista de archivos"
   ]
  },
  {
   "cell_type": "code",
   "execution_count": 5,
   "id": "4db733d2",
   "metadata": {},
   "outputs": [],
   "source": [
    "# Ruta\n",
    "emotion = 'POSITIVE'  # 'NEGATIVE' 'NEUTRAL'\n",
    "emotion_folder = f'C://Users//macka//TFM_WD//ORI//SEED_GER//01-EEG-raw//SEED_GER//{emotion}'\n",
    "\n",
    "# \n",
    "archivos = os.listdir(emotion_folder)\n",
    "names=[]\n",
    "# imprime los nombres de los archivos\n",
    "for archivo in archivos:\n",
    "    if archivo.endswith(\".fif\"):\n",
    "        names.append(archivo)\n",
    "        \n",
    "os.chdir(emotion_folder)"
   ]
  },
  {
   "cell_type": "markdown",
   "id": "b6119315",
   "metadata": {},
   "source": [
    "### Lectura de 1 archivo"
   ]
  },
  {
   "cell_type": "code",
   "execution_count": 6,
   "id": "df63daa3",
   "metadata": {},
   "outputs": [],
   "source": [
    "electrode_positions= {\n",
    "    \"AF3\": (3, 6),\n",
    "    \"FP1\": (3, 8),\n",
    "    \"FPZ\": (3, 10),\n",
    "    \"FP2\": (3, 12),\n",
    "    \"AF4\": (3, 14),\n",
    "    ############\n",
    "    \"F7\": (5, 2),\n",
    "    \"F5\": (5, 4),\n",
    "    \"F3\": (5, 6),\n",
    "    \"F1\": (5, 8),\n",
    "    \"FZ\": (5, 10),\n",
    "    \"F2\": (5, 12),\n",
    "    \"F4\": (5, 14),\n",
    "    \"F6\": (5, 16),\n",
    "    \"F8\": (5, 18),\n",
    "    ###############\n",
    "    \"FT7\": (7, 2),\n",
    "    \"FC5\": (7, 4),\n",
    "    \"FC3\": (7, 6),\n",
    "    \"FC1\": (7, 8),\n",
    "    # \"FCZ\": (7, 10),\n",
    "    \"FC2\": (7, 12),\n",
    "    \"FC4\": (7, 14),\n",
    "    \"FC6\": (7, 16),\n",
    "    \"FT8\": (7, 18),\n",
    "    ##############\n",
    "    \"T7\": (9, 2),\n",
    "    \"C5\": (9, 4),\n",
    "    \"C3\": (9, 6),\n",
    "    \"C1\": (9, 8),\n",
    "    \"CZ\": (9, 10),\n",
    "    \"C2\": (9, 12),\n",
    "    \"C4\": (9, 14),\n",
    "    \"C6\": (9, 16),\n",
    "    \"T8\": (9, 18),\n",
    "    ##############\n",
    "    \"TP7\": (11, 2),\n",
    "    \"CP5\": (11, 4),\n",
    "    \"CP3\":(11, 6),\n",
    "    \"CP1\": (11, 8),\n",
    "    \"CPZ\": (11, 10),\n",
    "    \"CP2\": (11, 12),\n",
    "    \"CP4\": (11, 14),\n",
    "    \"CP6\": (11, 16),\n",
    "    \"TP8\": (11, 18),\n",
    "    ###############\n",
    "    \"P7\": (13, 2),\n",
    "    \"P5\":(13, 4),\n",
    "    \"P3\":(13, 6),\n",
    "    \"P1\":(13, 8),\n",
    "    \"PZ\":(13, 10),\n",
    "    \"P2\": (13, 12),\n",
    "    \"P4\": (13, 14),\n",
    "    \"P6\": (13, 16),\n",
    "    \"P8\": (13, 18),\n",
    "    ##############\n",
    "    \"PO7\": (15, 4),\n",
    "    \"PO5\":(15, 6),\n",
    "    \"PO3\": (15, 8),\n",
    "    \"POZ\":(15, 10),\n",
    "    \"PO4\": (15, 12),\n",
    "    \"PO6\": (15, 14),\n",
    "    \"PO8\": (15, 16),\n",
    "    ###############\n",
    "    \"CB1\": (17, 6),\n",
    "    \"O1\":(17, 8),\n",
    "    \"OZ\":(17, 10),\n",
    "    # \"OZ\":(17, 12),\n",
    "    \"CB2\": (17, 14),\n",
    "}"
   ]
  },
  {
   "cell_type": "code",
   "execution_count": 7,
   "id": "681d6fcd",
   "metadata": {},
   "outputs": [
    {
     "data": {
      "image/png": "[encoded data removed]",
      "text/plain": [
       "<Figure size 1000x1000 with 1 Axes>"
      ]
     },
     "metadata": {},
     "output_type": "display_data"
    }
   ],
   "source": [
    "import matplotlib.pyplot as plt\n",
    "h, w = 19, 19\n",
    "# Creamos una figura\n",
    "fig, ax = plt.subplots(figsize=(10, 10))\n",
    "\n",
    "# Recorremos el diccionario de posiciones y añadimos un cuadrado y el nombre de cada electrodo en su posición reflejada\n",
    "for electrode, position in electrode_positions.items():\n",
    "    y,x = position\n",
    "    x_reflejado = x\n",
    "    y_reflejado = h - y + 1\n",
    "    ax.add_patch(plt.Rectangle((x_reflejado - 0.5, y_reflejado - 0.5), 1, 1, fill=True, alpha=0.5))\n",
    "    ax.text(x_reflejado, y_reflejado, electrode, ha='center', va='center', fontsize=12)\n",
    "\n",
    "# Configuramos el título, etiquetas de los ejes\n",
    "ax.set_title('Posiciones de los electrodos')\n",
    "ax.set_xlabel('Columnas')\n",
    "ax.set_ylabel('Filas')\n",
    "ax.set_xlim([0, 19])\n",
    "ax.set_ylim([0, 19])\n",
    "\n",
    "# Mostramos la figura\n",
    "plt.show()"
   ]
  },
  {
   "cell_type": "code",
   "execution_count": 31,
   "id": "72cc716b",
   "metadata": {},
   "outputs": [
    {
     "ename": "TqdmKeyError",
     "evalue": "\"Unknown argument(s): {'des': 'Procesing...', 'leaves': False}\"",
     "output_type": "error",
     "traceback": [
      "\u001b[1;31m---------------------------------------------------------------------------\u001b[0m",
      "\u001b[1;31mTqdmKeyError\u001b[0m                              Traceback (most recent call last)",
      "Cell \u001b[1;32mIn[31], line 43\u001b[0m\n\u001b[0;32m     39\u001b[0m freq_band_data_list \u001b[38;5;241m=\u001b[39m []\n\u001b[0;32m     41\u001b[0m \u001b[38;5;66;03m# Creación Ventana\u001b[39;00m\n\u001b[0;32m     42\u001b[0m \u001b[38;5;66;03m# Recorrer cada ventana y aplicar el filtro pasa banda a los datos de EEG para cada banda de frecuencia\u001b[39;00m\n\u001b[1;32m---> 43\u001b[0m \u001b[38;5;28;01mfor\u001b[39;00m i \u001b[38;5;129;01min\u001b[39;00m \u001b[43mtqdm\u001b[49m\u001b[43m(\u001b[49m\u001b[38;5;28;43mrange\u001b[39;49m\u001b[43m(\u001b[49m\u001b[43mtotal_windows\u001b[49m\u001b[43m)\u001b[49m\u001b[43m,\u001b[49m\u001b[43mdes\u001b[49m\u001b[38;5;241;43m=\u001b[39;49m\u001b[38;5;124;43m\"\u001b[39;49m\u001b[38;5;124;43mProcesing...\u001b[39;49m\u001b[38;5;124;43m\"\u001b[39;49m\u001b[43m,\u001b[49m\u001b[43m \u001b[49m\u001b[43mleaves\u001b[49m\u001b[38;5;241;43m=\u001b[39;49m\u001b[38;5;28;43;01mFalse\u001b[39;49;00m\u001b[43m)\u001b[49m: \u001b[38;5;66;03m# 1=total_windows\u001b[39;00m\n\u001b[0;32m     44\u001b[0m     \u001b[38;5;66;03m# Obtener los datos de EEG para la ventana actual\u001b[39;00m\n\u001b[0;32m     45\u001b[0m     start_idx \u001b[38;5;241m=\u001b[39m i \u001b[38;5;241m*\u001b[39m win_samples\n\u001b[0;32m     46\u001b[0m     stop_idx \u001b[38;5;241m=\u001b[39m (i \u001b[38;5;241m+\u001b[39m \u001b[38;5;241m1\u001b[39m) \u001b[38;5;241m*\u001b[39m win_samples\n",
      "File \u001b[1;32m~\\anaconda3\\envs\\tf2.6\\lib\\site-packages\\tqdm\\std.py:1012\u001b[0m, in \u001b[0;36mtqdm.__init__\u001b[1;34m(self, iterable, desc, total, leave, file, ncols, mininterval, maxinterval, miniters, ascii, disable, unit, unit_scale, dynamic_ncols, smoothing, bar_format, initial, position, postfix, unit_divisor, write_bytes, lock_args, nrows, colour, delay, gui, **kwargs)\u001b[0m\n\u001b[0;32m   1010\u001b[0m         \u001b[38;5;28mself\u001b[39m\u001b[38;5;241m.\u001b[39mpos \u001b[38;5;241m=\u001b[39m \u001b[38;5;28mself\u001b[39m\u001b[38;5;241m.\u001b[39m_get_free_pos(\u001b[38;5;28mself\u001b[39m)\n\u001b[0;32m   1011\u001b[0m         \u001b[38;5;28mself\u001b[39m\u001b[38;5;241m.\u001b[39m_instances\u001b[38;5;241m.\u001b[39mremove(\u001b[38;5;28mself\u001b[39m)\n\u001b[1;32m-> 1012\u001b[0m     \u001b[38;5;28;01mraise\u001b[39;00m (\n\u001b[0;32m   1013\u001b[0m         TqdmDeprecationWarning(\n\u001b[0;32m   1014\u001b[0m             \u001b[38;5;124m\"\u001b[39m\u001b[38;5;124m`nested` is deprecated and automated.\u001b[39m\u001b[38;5;130;01m\\n\u001b[39;00m\u001b[38;5;124m\"\u001b[39m\n\u001b[0;32m   1015\u001b[0m             \u001b[38;5;124m\"\u001b[39m\u001b[38;5;124mUse `position` instead for manual control.\u001b[39m\u001b[38;5;130;01m\\n\u001b[39;00m\u001b[38;5;124m\"\u001b[39m,\n\u001b[0;32m   1016\u001b[0m             fp_write\u001b[38;5;241m=\u001b[39m\u001b[38;5;28mgetattr\u001b[39m(file, \u001b[38;5;124m'\u001b[39m\u001b[38;5;124mwrite\u001b[39m\u001b[38;5;124m'\u001b[39m, sys\u001b[38;5;241m.\u001b[39mstderr\u001b[38;5;241m.\u001b[39mwrite))\n\u001b[0;32m   1017\u001b[0m         \u001b[38;5;28;01mif\u001b[39;00m \u001b[38;5;124m\"\u001b[39m\u001b[38;5;124mnested\u001b[39m\u001b[38;5;124m\"\u001b[39m \u001b[38;5;129;01min\u001b[39;00m kwargs \u001b[38;5;28;01melse\u001b[39;00m\n\u001b[0;32m   1018\u001b[0m         TqdmKeyError(\u001b[38;5;124m\"\u001b[39m\u001b[38;5;124mUnknown argument(s): \u001b[39m\u001b[38;5;124m\"\u001b[39m \u001b[38;5;241m+\u001b[39m \u001b[38;5;28mstr\u001b[39m(kwargs)))\n\u001b[0;32m   1020\u001b[0m \u001b[38;5;66;03m# Preprocess the arguments\u001b[39;00m\n\u001b[0;32m   1021\u001b[0m \u001b[38;5;28;01mif\u001b[39;00m (\n\u001b[0;32m   1022\u001b[0m     (ncols \u001b[38;5;129;01mis\u001b[39;00m \u001b[38;5;28;01mNone\u001b[39;00m \u001b[38;5;129;01mor\u001b[39;00m nrows \u001b[38;5;129;01mis\u001b[39;00m \u001b[38;5;28;01mNone\u001b[39;00m) \u001b[38;5;129;01mand\u001b[39;00m (file \u001b[38;5;129;01min\u001b[39;00m (sys\u001b[38;5;241m.\u001b[39mstderr, sys\u001b[38;5;241m.\u001b[39mstdout))\n\u001b[0;32m   1023\u001b[0m ) \u001b[38;5;129;01mor\u001b[39;00m dynamic_ncols:  \u001b[38;5;66;03m# pragma: no cover\u001b[39;00m\n",
      "\u001b[1;31mTqdmKeyError\u001b[0m: \"Unknown argument(s): {'des': 'Procesing...', 'leaves': False}\""
     ]
    }
   ],
   "source": [
    "start_time = time.time()  # Record the start time\n",
    "# Definir los nombres de las bandas de frecuencia\n",
    "freq_bands = {'delta': [0.5, 4],\n",
    "              'theta': [4, 8],\n",
    "              'alpha': [8, 12],\n",
    "              'beta': [12, 30],\n",
    "              'gamma': [30, 52]}\n",
    "\n",
    "psd_data = {}\n",
    "de_data = {}\n",
    "\n",
    "\n",
    "def differential_entropy(psd):\n",
    "    de=0.5 * np.log2(2 * np.pi * np.exp(1) * np.mean(psd))\n",
    "    return de\n",
    "\n",
    "# Cargar el Archivo\n",
    "for name in names:\n",
    "    # Definir la ruta del archivo EEG\n",
    "    file = name\n",
    "    file_path = os.path.join(emotion_folder, file)\n",
    "\n",
    "    # Cargar los datos EEG\n",
    "    eeg_data = mne.io.read_raw_fif(file_path, preload=True)\n",
    "\n",
    "    # Definir la frecuencia de muestreo\n",
    "    sfreq = eeg_data.info['sfreq']\n",
    "\n",
    "    # Definir Caracteristicas de la VENTANA (4 segundos)\n",
    "    win_sec = 4\n",
    "    win_samples = int(win_sec * sfreq)\n",
    "    total_windows = int(np.floor(len(eeg_data.times) / win_samples))\n",
    "    \n",
    "    # Map 2D\n",
    "    h, w = 19, 19\n",
    "    num_freq_bands = len(freq_bands)\n",
    "    num_channels = len(electrode_positions)\n",
    "    data_4d = np.zeros((h, w, 2 * num_freq_bands, 2 * win_sec))\n",
    "    # Inicializar una lista para almacenar los datos de cada banda de frecuencia, DE y PSD\n",
    "    freq_band_data_list = []\n",
    "    \n",
    "    # Creación Ventana\n",
    "    # Recorrer cada ventana y aplicar el filtro pasa banda a los datos de EEG para cada banda de frecuencia\n",
    "    for i in tqdm(range(total_windows),desc=\"Procesing...\", leaves=False): # 1=total_windows\n",
    "        # Obtener los datos de EEG para la ventana actual\n",
    "        start_idx = i * win_samples\n",
    "        stop_idx = (i + 1) * win_samples\n",
    "        data_descompose = eeg_data.copy().crop(tmin=start_idx / sfreq, tmax=stop_idx / sfreq)\n",
    "        \n",
    "        # Crea Las Bandas de Frecuencia para CADA VENTANA\n",
    "        # Aplicar un filtro pasa banda a los datos de EEG para cada banda de frecuencia\n",
    "\n",
    "        for band_name, (low_freq, high_freq) in freq_bands.items():\n",
    "            filtered_data = data_descompose.copy().filter(l_freq=low_freq, h_freq=high_freq)\n",
    "        \n",
    "            # Calcular la PSD usando la función 'psd_welch' de MNE\n",
    "            psd, freqs = mne.time_frequency.psd_array_welch(filtered_data.get_data(), sfreq, fmin=low_freq, fmax=high_freq, n_fft=int(sfreq), n_overlap=int(sfreq / 2))\n",
    "            psd_data[band_name] = psd\n",
    "\n",
    "            # Calcular la entropía diferencial para la PSD\n",
    "            de= np.apply_along_axis(differential_entropy, 1, psd)\n",
    "            de_data[band_name] = de\n",
    "            \n",
    "            \n",
    "elapsed_time = time.time() - start_time\n",
    "print(f\"El código tardó {elapsed_time:.2f} segundos en ejecutarse.\")"
   ]
  },
  {
   "cell_type": "code",
   "execution_count": null,
   "id": "84300668",
   "metadata": {},
   "outputs": [],
   "source": [
    "psd_da"
   ]
  },
  {
   "cell_type": "code",
   "execution_count": 15,
   "id": "437edc83",
   "metadata": {},
   "outputs": [
    {
     "data": {
      "image/png": "[encoded data removed]",
      "text/plain": [
       "<Figure size 640x480 with 1 Axes>"
      ]
     },
     "metadata": {},
     "output_type": "display_data"
    }
   ],
   "source": [
    "import mne\n",
    "import numpy as np\n",
    "import scipy.stats as stats\n",
    "import matplotlib.pyplot as plt\n",
    "\n",
    "# Cargar datos del EEG\n",
    "file = names[0]\n",
    "file_path = os.path.join(emotion_folder, file)\n",
    "raw = mne.io.read_raw_fif(file_path, preload=True)\n",
    "\n",
    "# Preprocesamiento (filtrado y remoción de artefactos)\n",
    "raw.filter(l_freq=1, h_freq=50)  # Filtrado pasa-banda entre 1 y 50 Hz\n",
    "# Puedes agregar aquí otros pasos de preprocesamiento si es necesario\n",
    "\n",
    "# Parametros\n",
    "segment_duration = 4  # segundos\n",
    "num_bins = 60  # número de bins para el histograma\n",
    "\n",
    "# Segmentar la señal\n",
    "epochs = mne.make_fixed_length_epochs(raw, duration=segment_duration, preload=True)\n",
    "num_channels = len(epochs.ch_names)\n",
    "num_segments = len(epochs)\n",
    "\n",
    "# Calcular la entropía diferencial\n",
    "entropy = np.zeros((num_channels, num_segments))\n",
    "\n",
    "for i, epoch in enumerate(epochs):\n",
    "    for j, channel_data in enumerate(epoch):\n",
    "        # Estimar la función de densidad de probabilidad (PDF) usando un histograma\n",
    "        hist, bin_edges = np.histogram(channel_data, bins=num_bins, density=True)\n",
    "        bin_centers = (bin_edges[:-1] + bin_edges[1:]) / 2\n",
    "\n",
    "        # Calcular la entropía diferencial para el segmento y canal actual\n",
    "        pdf_values = hist[np.nonzero(hist)]  # Eliminar valores 0 para evitar log(0)\n",
    "        entropy[j, i] = -np.sum(pdf_values * np.log2(pdf_values))\n",
    "\n",
    "# Promediar la entropía diferencial en todos los segmentos\n",
    "avg_entropy = np.mean(entropy, axis=1)\n",
    "\n",
    "# Graficar la entropía diferencial promedio para cada canal\n",
    "plt.bar(range(num_channels), avg_entropy)\n",
    "plt.xlabel(\"Canal\")\n",
    "plt.ylabel(\"Entropía diferencial promedio\")\n",
    "plt.title(\"Entropía diferencial promedio para cada canal del EEG\")\n",
    "plt.show()\n"
   ]
  },
  {
   "cell_type": "code",
   "execution_count": 17,
   "id": "3999ebef",
   "metadata": {},
   "outputs": [
    {
     "data": {
      "text/plain": [
       "(60,)"
      ]
     },
     "execution_count": 17,
     "metadata": {},
     "output_type": "execute_result"
    }
   ],
   "source": [
    "avg_entropy.shape"
   ]
  },
  {
   "cell_type": "code",
   "execution_count": null,
   "id": "a3a8a2bf",
   "metadata": {},
   "outputs": [],
   "source": [
    "            for band_idx, band_name in enumerate(freq_bands.keys()):\n",
    "                for segment_idx in range(1): # 1=total_windows\n",
    "                    for ch_idx, ch_name in enumerate(filtered_data.ch_names):\n",
    "                        if ch_name in electrode_positions:\n",
    "                            x, y = electrode_positions[ch_name]\n",
    "                            print(f\"PSD data dimensions for {band_name}: {psd_data[band_name].shape}\")\n",
    "                            print(f\"DE data dimensions for {band_name}: {de_data[band_name].shape}\")\n",
    "                            data_4d[y, x, 2 * band_idx, 2 * segment_idx] = psd_data[band_name][segment_idx][0][ch_idx]\n",
    "                            data_4d[y, x, 2 * band_idx + 1, 2 * segment_idx + 1] = de_data[band_name][segment_idx][ch_idx]"
   ]
  },
  {
   "cell_type": "code",
   "execution_count": null,
   "id": "f27b9e72",
   "metadata": {},
   "outputs": [],
   "source": []
  },
  {
   "cell_type": "code",
   "execution_count": null,
   "id": "60b19d1b",
   "metadata": {},
   "outputs": [],
   "source": [
    "def differential_entropy(psd):\n",
    "    de=0.5 * np.log2(2 * np.pi * np.exp(1) * np.mean(psd))\n",
    "    return de\n",
    "\n",
    "def butter_bandpass_filter(data, lowcut, highcut, fs, order=5):\n",
    "    nyq = 0.5 * fs\n",
    "    low = lowcut / nyq\n",
    "    high = highcut / nyq\n",
    "    b, a = butter(order, [low, high], btype='band')\n",
    "    return filtfilt(b, a, data)\n",
    "\n",
    "def calculate_de_psd(data, sfreq, t_segment, f_ranges):\n",
    "    n_samples = int(sfreq * t_segment)\n",
    "    n_segments = data.shape[1] // n_samples\n",
    "    de_psd = []\n",
    "    \n",
    "    for fmin, fmax in f_ranges:\n",
    "        filtered_data = np.apply_along_axis(butter_bandpass_filter, 1, data, fmin, fmax, sfreq)\n",
    "        segments = np.array_split(filtered_data, n_segments, axis=1)\n",
    "        de_psd_band = []\n",
    "        \n",
    "        for segment in segments:\n",
    "            psd, freqs = mne.time_frequency.psd_array_welch(segment, sfreq, fmin=fmin, fmax=fmax, n_fft=int(sfreq), n_overlap=int(sfreq / 2))\n",
    "            de = np.apply_along_axis(differential_entropy, 1, psd)\n",
    "            de_psd_band.append(de[:, np.newaxis])\n",
    "        \n",
    "        de_psd.append(np.concatenate(de_psd_band, axis=1))\n",
    "    \n",
    "    return np.stack(de_psd, axis=2)\n",
    "\n",
    "# Asumiendo que `raw` es un objeto MNE Raw que contiene tus datos EEG\n",
    "file = names[0]\n",
    "file_path = os.path.join(emotion_folder, file)\n",
    "\n",
    "# Cargar los datos EEG\n",
    "eeg_data = mne.io.read_raw_fif(file_path, preload=True)\n",
    "data=eeg_data.get_data()\n",
    "sfreq = eeg_data.info['sfreq']\n",
    "\n",
    "# Parámetros\n",
    "t_segment = 1.0  # Duración de cada segmento en segundos\n",
    "f_ranges = [(0.5, 4), (4, 8), (8, 12), (12, 30), (30, 52)]  # Rangos de frecuencia para las bandas delta, theta, alpha, beta y gamma\n",
    "\n",
    "# Calcular la representación espacial-espectral-temporal\n",
    "spatial_spectral_temporal_repr = calculate_de_psd(data, sfreq, t_segment, f_ranges)\n"
   ]
  },
  {
   "cell_type": "code",
   "execution_count": null,
   "id": "b7db6036",
   "metadata": {},
   "outputs": [],
   "source": [
    "calculate_de_psd(data, sfreq, t_segment, f_ranges)"
   ]
  },
  {
   "cell_type": "markdown",
   "id": "b4c9661d",
   "metadata": {},
   "source": [
    "### 2D"
   ]
  },
  {
   "cell_type": "code",
   "execution_count": null,
   "id": "d2149215",
   "metadata": {
    "scrolled": true
   },
   "outputs": [],
   "source": [
    "len(psd_data['delta'][0])"
   ]
  },
  {
   "cell_type": "markdown",
   "id": "738a1594",
   "metadata": {},
   "source": [
    "### Ceación Segmento [δ, θ, α, β, γ] =[DE+PSD]"
   ]
  },
  {
   "cell_type": "markdown",
   "id": "12429675",
   "metadata": {},
   "source": [
    "## "
   ]
  },
  {
   "cell_type": "code",
   "execution_count": null,
   "id": "223b033f",
   "metadata": {},
   "outputs": [],
   "source": [
    "freq_band_data"
   ]
  },
  {
   "cell_type": "code",
   "execution_count": null,
   "id": "a819fdf9",
   "metadata": {},
   "outputs": [],
   "source": [
    "# 1 archivo EEG\n",
    "file=names[0]\n",
    "file_path = os.path.join(emotion_folder, file)\n",
    "eeg_data = mne.io.read_raw_fif(file_path, preload=True)\n",
    "#eeg_data_list.append(eeg_data.get_data())\n"
   ]
  },
  {
   "cell_type": "code",
   "execution_count": null,
   "id": "875400ce",
   "metadata": {},
   "outputs": [],
   "source": [
    "eeg_data.plot(block=True, lowpass=52) #lowpass:muestera frecuencias pord ebajo"
   ]
  },
  {
   "cell_type": "code",
   "execution_count": null,
   "id": "7237775f",
   "metadata": {},
   "outputs": [],
   "source": [
    "eeg_data.get_data().mean(axis = 1) # Media de Todos los canales."
   ]
  },
  {
   "cell_type": "code",
   "execution_count": null,
   "id": "0285a7b2",
   "metadata": {},
   "outputs": [],
   "source": [
    "eeg_data.set_eeg_reference('average', projection=True)\n",
    "# Give the sample rate\n",
    "print('sample rate:', eeg_data.info['sfreq'], 'Hz')\n",
    "# Give the size of the data matrix\n",
    "print('%s channels x %s samples' % (len(eeg_data), len(eeg_data.times)))"
   ]
  },
  {
   "cell_type": "markdown",
   "id": "60d467a9",
   "metadata": {},
   "source": [
    "### Descomposición de 1 archivo"
   ]
  },
  {
   "cell_type": "code",
   "execution_count": null,
   "id": "71f6f04d",
   "metadata": {},
   "outputs": [],
   "source": [
    "eeg_data"
   ]
  },
  {
   "cell_type": "code",
   "execution_count": null,
   "id": "f0bb1a9a",
   "metadata": {},
   "outputs": [],
   "source": [
    "# Extract data, from 1 s to 4 s.\n",
    "sfreq = eeg_data.info['sfreq']\n",
    "data, times = eeg_data[:, int(sfreq * 0):int(sfreq * 4)]\n",
    "_ = plt.plot(times, data.T)\n",
    "_ = plt.title('Sample channels')\n",
    "\n",
    "plt.show()"
   ]
  },
  {
   "cell_type": "code",
   "execution_count": null,
   "id": "13a705c0",
   "metadata": {},
   "outputs": [],
   "source": [
    "len(times)"
   ]
  },
  {
   "cell_type": "code",
   "execution_count": null,
   "id": "5c5b8dcb",
   "metadata": {},
   "outputs": [],
   "source": []
  },
  {
   "cell_type": "markdown",
   "id": "da789eb9",
   "metadata": {},
   "source": [
    "### Bandas de Frecuencia."
   ]
  },
  {
   "cell_type": "code",
   "execution_count": null,
   "id": "5cde8f6b",
   "metadata": {},
   "outputs": [],
   "source": [
    "# Filtre los datos en bruto para la banda delta (0.5-4 Hz)\n",
    "eeg_data_delta = eeg_data.copy().filter(l_freq=0.5, h_freq=4)\n",
    "\n",
    "# Filtre los datos en bruto para la banda theta (4-8 Hz)\n",
    "eeg_data_theta = eeg_data.copy().filter(l_freq=4, h_freq=8)\n",
    "\n",
    "# Filtre los datos en bruto para la banda alfa (8-13 Hz)\n",
    "eeg_data_alpha = eeg_data.copy().filter(l_freq=8, h_freq=13)\n",
    "\n",
    "# Filtre los datos en bruto para la banda beta (13-30 Hz)\n",
    "eeg_data_beta = eeg_data.copy().filter(l_freq=13, h_freq=30)\n",
    "\n",
    "# Filtre los datos en bruto para la banda gamma (30-52 Hz)\n",
    "eeg_data_gamma = eeg_data.copy().filter(l_freq=30, h_freq=100)"
   ]
  },
  {
   "cell_type": "markdown",
   "id": "188b9686",
   "metadata": {},
   "source": [
    "### DE y PSD"
   ]
  },
  {
   "cell_type": "code",
   "execution_count": null,
   "id": "29b71778",
   "metadata": {},
   "outputs": [],
   "source": []
  },
  {
   "cell_type": "markdown",
   "id": "5b1727c7",
   "metadata": {},
   "source": [
    "# GANs"
   ]
  },
  {
   "cell_type": "code",
   "execution_count": null,
   "id": "4312ca1d",
   "metadata": {},
   "outputs": [],
   "source": [
    "start_time = time.time()\n",
    "# 1. Cargar y preparar los datos\n",
    "emotion = 'POSITIVE'  # 'NEGATIVE' 'NEUTRAL'\n",
    "emotion_folder = f'C://Users//macka//TFM_WD//ORI//SEED_GER//01-EEG-raw//SEED_GER//{emotion}'\n",
    "file_list = [file for file in os.listdir(emotion_folder) if file.endswith('.fif')]\n",
    "\n",
    "eeg_data_list = []\n",
    "for file in file_list:\n",
    "    file_path = os.path.join(emotion_folder, file)\n",
    "    eeg_data = mne.io.read_raw_fif(file_path, preload=False)\n",
    "    eeg_data_list.append(eeg_data.get_data())\n",
    "\n",
    "# Determine the common length for interpolation\n",
    "common_length = 50000  # You can adjust this value depending on your needs\n",
    "\n",
    "interpolated_eeg_data_list = []\n",
    "\n",
    "for eeg_data in eeg_data_list:\n",
    "    num_channels = eeg_data.shape[0]\n",
    "    original_length = eeg_data.shape[1]\n",
    "    new_eeg_data = np.zeros((num_channels, common_length), dtype=np.float32)\n",
    "\n",
    "    for ch_idx in range(num_channels):\n",
    "        x_original = np.linspace(0, 1, original_length)\n",
    "        x_new = np.linspace(0, 1, common_length)\n",
    "        new_eeg_data[ch_idx] = np.interp(x_new, x_original, eeg_data[ch_idx])\n",
    "\n",
    "    interpolated_eeg_data_list.append(new_eeg_data)\n",
    "\n",
    "eeg_data_tensor = np.stack(interpolated_eeg_data_list, axis=0).astype(np.float32)\n",
    "eeg_data_tensor = (eeg_data_tensor - np.min(eeg_data_tensor)) / (np.max(eeg_data_tensor) - np.min(eeg_data_tensor)) * 2 - 1\n",
    "\n",
    "# 2. Crear el modelo GAN\n",
    "# Generador\n",
    "def build_generator(latent_dim):\n",
    "    input_layer = Input(shape=(latent_dim,))\n",
    "    \n",
    "    x = Dense(64)(input_layer)\n",
    "    x = LeakyReLU(alpha=0.2)(x)\n",
    "    x = BatchNormalization()(x)\n",
    "    \n",
    "    x = Dense(128)(x)\n",
    "    x = LeakyReLU(alpha=0.2)(x)\n",
    "    x = BatchNormalization()(x)\n",
    "    \n",
    "    x = Dense(256)(x)\n",
    "    x = LeakyReLU(alpha=0.2)(x)\n",
    "    x = BatchNormalization()(x)\n",
    "\n",
    "    x = Dense(512)(x)\n",
    "    x = LeakyReLU(alpha=0.2)(x)\n",
    "    x = BatchNormalization()(x)\n",
    "\n",
    "    x = Dense(np.prod(eeg_data_tensor.shape[1:]), activation='tanh')(x)\n",
    "    output_layer = Reshape(eeg_data_tensor.shape[1:])(x)\n",
    "\n",
    "    return Model(input_layer, output_layer)\n",
    "\n",
    "# Discriminador\n",
    "def build_discriminator():\n",
    "    input_layer = Input(shape=eeg_data_tensor.shape[1:])\n",
    "    x = Flatten()(input_layer)\n",
    "    x = Dense(512)(x)\n",
    "    x = LeakyReLU(alpha=0.2)(x)\n",
    "    x = Dropout(0.5)(x)\n",
    "    x = Dense(256)(x)\n",
    "    x = LeakyReLU(alpha=0.2)(x)\n",
    "    x = Dropout(0.5)(x)\n",
    "    x = Dense(128)(x)\n",
    "    x = LeakyReLU(alpha=0.2)(x)\n",
    "    output_layer = Dense(1, activation='sigmoid')(x)\n",
    "\n",
    "    return Model(input_layer, output_layer)\n",
    "\n",
    "# GAN\n",
    "def build_gan(generator, discriminator):\n",
    "    z = Input(shape=(latent_dim,))\n",
    "    generated_eeg = generator(z)\n",
    "    validity = discriminator(generated_eeg)\n",
    "\n",
    "    return Model(z, validity)\n",
    "\n",
    "latent_dim = 100\n",
    "generator = build_generator(latent_dim)\n",
    "discriminator = build_discriminator()\n",
    "discriminator.compile(loss='binary_crossentropy', optimizer=Adam(0.0002, 0.5), metrics=['accuracy'])\n",
    "discriminator.trainable = False\n",
    "\n",
    "gan = build_gan(generator, discriminator)\n",
    "gan.compile(loss='binary_crossentropy', optimizer=Adam(0.0002, 0.5))\n",
    "\n",
    "# 3. Entrenar el GAN\n",
    "# Aquí puedes agregar el código para entrenar el GAN utilizando tus datos de EEG preprocesados (eeg_data_tensor).\n",
    "# Consulta este tutorial para entender cómo entrenar\n",
    "# 3. Entrenar el GAN\n",
    "epochs = 200\n",
    "batch_size = 32\n",
    "half_batch = int(batch_size / 2)\n",
    "\n",
    "for epoch in range(epochs):\n",
    "    # Seleccionar un batch aleatorio de EEG reales\n",
    "    idx = np.random.randint(0, eeg_data_tensor.shape[0], half_batch)\n",
    "    real_eegs = eeg_data_tensor[idx]\n",
    "\n",
    "    # Generar un batch de EEG falsos\n",
    "    noise = np.random.normal(0, 1, (half_batch, latent_dim))\n",
    "    fake_eegs = generator.predict(noise)\n",
    "\n",
    "    # Entrenar el discriminador\n",
    "    real_loss = discriminator.train_on_batch(real_eegs, np.ones((half_batch, 1)))\n",
    "    fake_loss = discriminator.train_on_batch(fake_eegs, np.zeros((half_batch, 1)))\n",
    "    d_loss = 0.5 * np.add(real_loss, fake_loss)\n",
    "\n",
    "    # Entrenar el generador\n",
    "    noise = np.random.normal(0, 1, (batch_size, latent_dim))\n",
    "    g_loss = gan.train_on_batch(noise, np.ones((batch_size, 1)))\n",
    "\n",
    "    # Imprimir el progreso\n",
    "    print(f\"Epoch {epoch}/{epochs} [D loss: {d_loss[0]}, acc.: {100 * d_loss[1]}] [G loss: {g_loss}]\")\n",
    "\n",
    "elapsed_time = time.time() - start_time\n",
    "print(f\"El código tardó {elapsed_time:.2f} segundos en ejecutarse.\")"
   ]
  },
  {
   "cell_type": "markdown",
   "id": "8cc18b54",
   "metadata": {},
   "source": [
    "**D_loss (Discriminator loss):** Es la pérdida del discriminador, que mide qué tan bien el discriminador puede distinguir entre datos reales y datos generados. Un valor bajo de D_loss indica que el discriminador tiene un buen rendimiento en la clasificación de los datos de entrada como reales o falsos. En el ejemplo proporcionado, D_loss es 0.0039080461574485525, lo que sugiere que el discriminador está haciendo un buen trabajo en este punto del entrenamiento.\n",
    "\n",
    "**acc. (Discriminator accuracy):** Es la precisión del discriminador, que mide el porcentaje de datos de entrada que el discriminador clasifica correctamente como reales o falsos. En el ejemplo proporcionado, la precisión del discriminador es del 100%, lo que significa que el discriminador ha clasificado correctamente todos los datos de entrada en esta época.\n",
    "\n",
    "**G_loss (Generator loss):** Es la pérdida del generador, que mide qué tan bien el generador puede engañar al discriminador generando datos falsos que se parezcan a los datos reales. Un valor alto de G_loss indica que el generador necesita mejorar su capacidad para generar datos que parezcan reales. En el ejemplo proporcionado, G_loss es 5.9058027267456055, lo que sugiere que el generador aún puede mejorar en la generación de datos que parezcan reales."
   ]
  },
  {
   "cell_type": "code",
   "execution_count": null,
   "id": "9a1e88bc",
   "metadata": {},
   "outputs": [],
   "source": [
    "# Función para generar un EEG artificial\n",
    "def generate_artificial_eeg(generator, latent_dim):\n",
    "    noise = np.random.normal(0, 1, (1, latent_dim))\n",
    "    artificial_eeg = generator.predict(noise)\n",
    "    return artificial_eeg\n",
    "\n",
    "# Generar un EEG artificial\n",
    "generated_eeg = generate_artificial_eeg(generator, latent_dim)\n",
    "\n",
    "# Convertir el EEG artificial a su rango original de valores\n",
    "original_range_generated_eeg = (generated_eeg + 1) / 2 * (np.max(eeg_data_tensor) - np.min(eeg_data_tensor)) + np.min(eeg_data_tensor)\n"
   ]
  },
  {
   "cell_type": "code",
   "execution_count": null,
   "id": "fc59afd3",
   "metadata": {},
   "outputs": [],
   "source": [
    "original_range_generated_eeg"
   ]
  },
  {
   "cell_type": "code",
   "execution_count": null,
   "id": "b35d99e1",
   "metadata": {},
   "outputs": [],
   "source": [
    "start_time = time.time()\n",
    "\n",
    "# Función para graficar las señales de cada canal del EEG artificial\n",
    "def plot_artificial_eeg(artificial_eeg, channel_names):\n",
    "    num_channels = artificial_eeg.shape[-1]\n",
    "    \n",
    "    fig, ax = plt.subplots(figsize=(15, 10))\n",
    "    \n",
    "    for i in tqdm(range(num_channels), desc=\"Graficando canales\", leave=False):\n",
    "        ax.plot(artificial_eeg[0, :, i], label=channel_names[i])\n",
    "    \n",
    "    ax.set_xlabel('Time (samples)')\n",
    "    ax.set_ylabel('Amplitude')\n",
    "    ax.legend(loc='upper right')\n",
    "    plt.tight_layout()\n",
    "    plt.show()\n",
    "\n",
    "channel_names = ['FP1', 'FPZ', 'FP2', 'AF3', 'AF4', 'F7', 'F5', 'F3', 'F1', 'FZ', 'F2', 'F4', 'F6', 'F8', 'FT7', 'FC5', 'FC3', 'FC1', 'FC2', 'FC4', 'FC6', 'FT8', 'T7', 'C5', 'C3', 'C1', 'CZ', 'C2', 'C4', 'C6', 'T8', 'TP7', 'CP5', 'CP3', 'CP1', 'CPZ', 'CP2', 'CP4', 'CP6', 'TP8', 'P7', 'P5', 'P3', 'P1', 'PZ', 'P2', 'P4', 'P6', 'P8', 'PO7', 'PO5', 'PO3', 'POZ', 'PO4', 'PO6', 'PO8', 'CB1', 'A1', 'OZ', 'CB2']\n",
    "\n",
    "# Visualizar las señales de cada canal del EEG artificial\n",
    "plot_artificial_eeg(original_range_generated_eeg, channel_names)\n",
    "\n",
    "elapsed_time = time.time() - start_time\n",
    "print(f\"El código tardó {elapsed_time:.2f} segundos en ejecutarse.\")"
   ]
  },
  {
   "cell_type": "code",
   "execution_count": null,
   "id": "866de5a7",
   "metadata": {},
   "outputs": [],
   "source": [
    "channel_names_sd=['FP1', 'FPZ', 'FP2', 'AF3', 'AF4', 'F7', 'F5', 'F3', 'F1', 'FZ', 'F2', 'F4', 'F6', 'F8', 'FT7', 'FC5', 'FC3', 'FC1', \n",
    " 'FC2', 'FC4', 'FC6', 'FT8', 'T7', 'C5', 'C3', 'C1', 'CZ', 'C2', 'C4', 'C6', 'T8', 'TP7', 'CP5', 'CP3', 'CP1', 'CPZ',\n",
    " 'CP2', 'CP4', 'CP6', 'TP8', 'P7', 'P5', 'P3', 'P1', 'PZ', 'P2', 'P4', 'P6', 'P8', 'PO7', 'PO5', 'PO3', 'POZ', 'PO4',\n",
    " 'PO6', 'PO8', 'CB1', 'O1', 'OZ', 'CB2']\n"
   ]
  },
  {
   "cell_type": "code",
   "execution_count": null,
   "id": "e8bf2a52",
   "metadata": {},
   "outputs": [],
   "source": [
    "import os\n",
    "\n",
    "# Crear un directorio para guardar los modelos\n",
    "model_dir = \"MODEL_GAN\"\n",
    "if not os.path.exists(model_dir):\n",
    "    os.makedirs(model_dir)\n",
    "\n",
    "# Guardar el modelo generador\n",
    "generator.save(os.path.join(model_dir, \"generator.h5\"))\n",
    "\n",
    "# Guardar el modelo discriminador\n",
    "discriminator.save(os.path.join(model_dir, \"discriminator.h5\"))\n",
    "\n",
    "# Guardar el modelo GAN\n",
    "gan.save(os.path.join(model_dir, \"gan.h5\"))\n",
    "\n",
    "# Guardar los pesos del generador\n",
    "generator.save_weights(os.path.join(model_dir, \"generator_weights.h5\"))\n",
    "\n",
    "# Guardar los pesos del discriminador\n",
    "discriminator.save_weights(os.path.join(model_dir, \"discriminator_weights.h5\"))\n",
    "\n",
    "# Guardar los pesos del GAN\n",
    "gan.save_weights(os.path.join(model_dir, \"gan_weights.h5\"))"
   ]
  },
  {
   "cell_type": "code",
   "execution_count": null,
   "id": "6d43f363",
   "metadata": {},
   "outputs": [],
   "source": [
    "## GENERATOR MAX COMPLEX\n",
    "# def build_generator(latent_dim):\n",
    "#     input_layer = Input(shape=(latent_dim,))\n",
    "    \n",
    "#     x = Dense(256)(input_layer)\n",
    "#     x = LeakyReLU(alpha=0.2)(x)\n",
    "#     x = BatchNormalization()(x)\n",
    "#     x = Dropout(0.3)(x)\n",
    "    \n",
    "#     x = Dense(512)(x)\n",
    "#     x = LeakyReLU(alpha=0.2)(x)\n",
    "#     x = BatchNormalization()(x)\n",
    "#     x = Dropout(0.3)(x)\n",
    "    \n",
    "#     x = Dense(1024)(x)\n",
    "#     x = LeakyReLU(alpha=0.2)(x)\n",
    "#     x = BatchNormalization()(x)\n",
    "#     x = Dropout(0.3)(x)\n",
    "    \n",
    "#     x = Dense(2048)(x)\n",
    "#     x = LeakyReLU(alpha=0.2)(x)\n",
    "#     x = BatchNormalization()(x)\n",
    "#     x = Dropout(0.3)(x)\n",
    "    \n",
    "#     x = Dense(np.prod(eeg_data_tensor.shape[1:]), activation='tanh')(x)\n",
    "#     output_layer = Reshape(eeg_data_tensor.shape[1:])(x)\n",
    "\n",
    "#     return Model(input_layer, output_layer)"
   ]
  },
  {
   "cell_type": "code",
   "execution_count": null,
   "id": "2e8dd1e4",
   "metadata": {},
   "outputs": [],
   "source": []
  }
 ],
 "metadata": {
  "kernelspec": {
   "display_name": "Python 3 (ipykernel)",
   "language": "python",
   "name": "python3"
  },
  "language_info": {
   "codemirror_mode": {
    "name": "ipython",
    "version": 3
   },
   "file_extension": ".py",
   "mimetype": "text/x-python",
   "name": "python",
   "nbconvert_exporter": "python",
   "pygments_lexer": "ipython3",
   "version": "3.9.0"
  },
  "toc": {
   "base_numbering": 1,
   "nav_menu": {},
   "number_sections": true,
   "sideBar": true,
   "skip_h1_title": false,
   "title_cell": "Table of Contents",
   "title_sidebar": "Contents",
   "toc_cell": false,
   "toc_position": {},
   "toc_section_display": true,
   "toc_window_display": false
  }
 },
 "nbformat": 4,
 "nbformat_minor": 5
}
