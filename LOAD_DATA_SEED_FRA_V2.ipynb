{
 "cells": [
  {
   "cell_type": "code",
   "execution_count": 1,
   "id": "eb140f36",
   "metadata": {
    "scrolled": true
   },
   "outputs": [],
   "source": [
    "#We are going to use mne to import tables\n",
    "import os\n",
    "from tqdm import tqdm #Library used to see the progress of our loop\n",
    "import mne\n",
    "import pandas as pd\n",
    "import numpy as np"
   ]
  },
  {
   "cell_type": "markdown",
   "id": "af07d638",
   "metadata": {},
   "source": [
    "There is some information about the data in a file called `French_information_.xlsx` . We get that information first:"
   ]
  },
  {
   "cell_type": "code",
   "execution_count": 2,
   "id": "c33c2f4a",
   "metadata": {
    "scrolled": true
   },
   "outputs": [],
   "source": [
    "df_info = pd.read_excel(\"SEED_FRA/French_information_.xlsx\")"
   ]
  },
  {
   "cell_type": "code",
   "execution_count": 3,
   "id": "34eba2cc",
   "metadata": {},
   "outputs": [],
   "source": [
    "n_trials = 20\n",
    "\n",
    "trial_num = tuple(f\"Trial_{i}\" for i in range(n_trials+1))\n",
    "start_second = df_info[\"Trial Start second\"][:n_trials+1]\n",
    "end_second = df_info[\"Trial End second\"][:n_trials+1]"
   ]
  },
  {
   "cell_type": "markdown",
   "id": "ea3cdc01",
   "metadata": {},
   "source": [
    "We create folders to use to divide our data for emotion"
   ]
  },
  {
   "cell_type": "code",
   "execution_count": 12,
   "id": "c1f27e3d",
   "metadata": {},
   "outputs": [],
   "source": [
    "os.makedirs(\"SEED_FRA_OUTPUT/POSITIVE\")\n",
    "os.makedirs(\"SEED_FRA_OUTPUT/NEGATIVE\")\n",
    "os.makedirs(\"SEED_FRA_OUTPUT/NEUTRAL\")"
   ]
  },
  {
   "cell_type": "code",
   "execution_count": 4,
   "id": "af891bba",
   "metadata": {},
   "outputs": [
    {
     "data": {
      "text/plain": [
       "['POSITIVE',\n",
       " 'NEGATIVE',\n",
       " 'NEUTRAL',\n",
       " 'NEGATIVE',\n",
       " 'POSITIVE',\n",
       " 'NEUTRAL',\n",
       " 'NEGATIVE',\n",
       " 'NEUTRAL',\n",
       " 'POSITIVE',\n",
       " 'NEGATIVE',\n",
       " 'NEUTRAL',\n",
       " 'POSITIVE',\n",
       " 'POSITIVE',\n",
       " 'NEUTRAL',\n",
       " 'NEGATIVE',\n",
       " 'NEGATIVE',\n",
       " 'NEUTRAL',\n",
       " 'POSITIVE',\n",
       " 'NEGATIVE',\n",
       " 'NEUTRAL',\n",
       " 'POSITIVE']"
      ]
     },
     "execution_count": 4,
     "metadata": {},
     "output_type": "execute_result"
    }
   ],
   "source": [
    "emotions_dict = {1: \"POSITIVE\", -1:\"NEGATIVE\", 0:\"NEUTRAL\" }\n",
    "trial_emotion = [emotions_dict[x] for x in df_info[:21][\"label\"] ]\n",
    "trial_emotion"
   ]
  },
  {
   "cell_type": "markdown",
   "id": "d1c22164",
   "metadata": {},
   "source": [
    "See which channels are used and see if the order is correct"
   ]
  },
  {
   "cell_type": "code",
   "execution_count": 10,
   "id": "029af3e4",
   "metadata": {},
   "outputs": [],
   "source": [
    "#Reading a cnt\n",
    "def read_cnt(_path, _name, _trial_num, _start_second, _end_second):\n",
    "    \"\"\"Reads a .cnt file and stores in a parquet file the value of each signal\"\"\"\n",
    "    eeg_raw = mne.io.read_raw_cnt(_path, preload=True)\n",
    "    useless_ch = ['M1', 'M2', 'VEO', 'HEO']\n",
    "    eeg_raw.drop_channels(useless_ch)\n",
    "    new_ch = eeg_raw.ch_names\n",
    "    \n",
    "    # Aplicar filtro pasa-banda para eliminar ruido\n",
    "    l_freq = 0.5  # Frecuencia de corte baja\n",
    "    h_freq = 55  # Frecuencia de corte alta\n",
    "    eeg_raw.filter(l_freq, h_freq)\n",
    "    \n",
    "    sample_freq = 1000\n",
    "    \n",
    "    for trial, start, end, i in tqdm(zip(_trial_num, _start_second, _end_second, range(n_trials+1)), desc=\"Processing\", total=len(_trial_num)):\n",
    "        \n",
    "        #Para comprobar que todas las frecuencias de muestreo\n",
    "        #son las mismas\n",
    "        ####\n",
    "        print(eeg_raw.info['sfreq'])\n",
    "        ####\n",
    "        \n",
    "        start_sample = int(start * eeg_raw.info['sfreq'] )\n",
    "        end_sample = int(end * eeg_raw.info['sfreq'] )\n",
    "        #start_sample = int(start * sample_freq)\n",
    "        #end_sample = int(end * sample_freq)\n",
    "\n",
    "        # Read data in chunks and concatenate them\n",
    "#         chunk_size = 10000\n",
    "#         chunks = []\n",
    "#         for chunk_start in range(start_sample, end_sample, chunk_size):\n",
    "#             chunk_end = min(chunk_start + chunk_size, end_sample)\n",
    "#             chunk_data = eeg_raw.get_data(start=chunk_start, stop=chunk_end)\n",
    "#             chunks.append(chunk_data)\n",
    "        eeg_trial = eeg_raw.copy().crop(tmin=start_sample / eeg_raw.info['sfreq'], tmax=end_sample / eeg_raw.info['sfreq'])\n",
    "        \n",
    "        \n",
    "        #data_name = np.concatenate(chunks, axis=1).T\n",
    "        #df = pd.DataFrame(data_name, columns=new_ch)\n",
    "        new_file_name = f\"{_name.rstrip('.cnt')}_trial_{i}_signals.fif\"\n",
    "        output_path = f\"SEED_FRA_OUTPUT/{trial_emotion[i]}/{new_file_name}\"\n",
    "        #df.to_parquet(f\"SEED_FRA_OUTPUT/{trial_emotion[i]}/{new_file_name}\", compression='gzip')\n",
    "        eeg_trial.save(output_path, overwrite=True)"
   ]
  },
  {
   "cell_type": "code",
   "execution_count": 6,
   "id": "c68583ae",
   "metadata": {},
   "outputs": [],
   "source": [
    "#Gets the file names in the folder and selects just those with .cnt extension\n",
    "file_names = os.listdir(\"SEED_FRA/EEG_raw\")\n",
    "cnt_names = tuple(filter(lambda s: \".cnt\" in s, file_names))"
   ]
  },
  {
   "cell_type": "code",
   "execution_count": 13,
   "id": "61212b7b",
   "metadata": {
    "scrolled": false
   },
   "outputs": [
    {
     "name": "stdout",
     "output_type": "stream",
     "text": [
      "Reading 0 ... 3815559  =      0.000 ...  3815.559 secs...\n"
     ]
    },
    {
     "name": "stderr",
     "output_type": "stream",
     "text": [
      "C:\\Users\\marco\\AppData\\Local\\Temp\\ipykernel_14260\\1741641518.py:4: RuntimeWarning:   Could not parse meas date from the header. Setting to None.\n",
      "  eeg_raw = mne.io.read_raw_cnt(_path, preload=True)\n"
     ]
    },
    {
     "name": "stdout",
     "output_type": "stream",
     "text": [
      "Filtering raw data in 1 contiguous segment\n",
      "Setting up band-pass filter from 0.5 - 55 Hz\n",
      "\n",
      "FIR filter parameters\n",
      "---------------------\n",
      "Designing a one-pass, zero-phase, non-causal bandpass filter:\n",
      "- Windowed time-domain design (firwin) method\n",
      "- Hamming window with 0.0194 passband ripple and 53 dB stopband attenuation\n",
      "- Lower passband edge: 0.50\n",
      "- Lower transition bandwidth: 0.50 Hz (-6 dB cutoff frequency: 0.25 Hz)\n",
      "- Upper passband edge: 55.00 Hz\n",
      "- Upper transition bandwidth: 13.75 Hz (-6 dB cutoff frequency: 61.88 Hz)\n",
      "- Filter length: 6601 samples (6.601 sec)\n",
      "\n"
     ]
    },
    {
     "name": "stderr",
     "output_type": "stream",
     "text": [
      "\r",
      "Processing:   0%|                                                                               | 0/21 [00:00<?, ?it/s]"
     ]
    },
    {
     "name": "stdout",
     "output_type": "stream",
     "text": [
      "1000.0\n",
      "Writing C:\\Users\\marco\\Documents\\MASTER_DATA_SCIENTIST\\TFM_MSD\\SEED_FRA_OUTPUT\\POSITIVE\\1_1_trial_0_signals.fif\n"
     ]
    },
    {
     "name": "stderr",
     "output_type": "stream",
     "text": [
      "C:\\Users\\marco\\AppData\\Local\\Temp\\ipykernel_14260\\1741641518.py:44: RuntimeWarning: This filename (C:\\Users\\marco\\Documents\\MASTER_DATA_SCIENTIST\\TFM_MSD\\SEED_FRA_OUTPUT\\POSITIVE\\1_1_trial_0_signals.fif) does not conform to MNE naming conventions. All raw files should end with raw.fif, raw_sss.fif, raw_tsss.fif, _meg.fif, _eeg.fif, _ieeg.fif, raw.fif.gz, raw_sss.fif.gz, raw_tsss.fif.gz, _meg.fif.gz, _eeg.fif.gz or _ieeg.fif.gz\n",
      "  eeg_trial.save(output_path, overwrite=True)\n"
     ]
    },
    {
     "name": "stdout",
     "output_type": "stream",
     "text": [
      "Closing C:\\Users\\marco\\Documents\\MASTER_DATA_SCIENTIST\\TFM_MSD\\SEED_FRA_OUTPUT\\POSITIVE\\1_1_trial_0_signals.fif\n",
      "[done]\n"
     ]
    },
    {
     "name": "stderr",
     "output_type": "stream",
     "text": [
      "\r",
      "Processing:   5%|███▍                                                                   | 1/21 [00:01<00:39,  1.96s/it]"
     ]
    },
    {
     "name": "stdout",
     "output_type": "stream",
     "text": [
      "1000.0\n",
      "Writing C:\\Users\\marco\\Documents\\MASTER_DATA_SCIENTIST\\TFM_MSD\\SEED_FRA_OUTPUT\\NEGATIVE\\1_1_trial_1_signals.fif\n"
     ]
    },
    {
     "name": "stderr",
     "output_type": "stream",
     "text": [
      "C:\\Users\\marco\\AppData\\Local\\Temp\\ipykernel_14260\\1741641518.py:44: RuntimeWarning: This filename (C:\\Users\\marco\\Documents\\MASTER_DATA_SCIENTIST\\TFM_MSD\\SEED_FRA_OUTPUT\\NEGATIVE\\1_1_trial_1_signals.fif) does not conform to MNE naming conventions. All raw files should end with raw.fif, raw_sss.fif, raw_tsss.fif, _meg.fif, _eeg.fif, _ieeg.fif, raw.fif.gz, raw_sss.fif.gz, raw_tsss.fif.gz, _meg.fif.gz, _eeg.fif.gz or _ieeg.fif.gz\n",
      "  eeg_trial.save(output_path, overwrite=True)\n"
     ]
    },
    {
     "name": "stdout",
     "output_type": "stream",
     "text": [
      "Closing C:\\Users\\marco\\Documents\\MASTER_DATA_SCIENTIST\\TFM_MSD\\SEED_FRA_OUTPUT\\NEGATIVE\\1_1_trial_1_signals.fif\n",
      "[done]\n"
     ]
    },
    {
     "name": "stderr",
     "output_type": "stream",
     "text": [
      "\r",
      "Processing:  10%|██████▊                                                                | 2/21 [00:04<00:38,  2.05s/it]"
     ]
    },
    {
     "name": "stdout",
     "output_type": "stream",
     "text": [
      "1000.0\n",
      "Writing C:\\Users\\marco\\Documents\\MASTER_DATA_SCIENTIST\\TFM_MSD\\SEED_FRA_OUTPUT\\NEUTRAL\\1_1_trial_2_signals.fif\n"
     ]
    },
    {
     "name": "stderr",
     "output_type": "stream",
     "text": [
      "C:\\Users\\marco\\AppData\\Local\\Temp\\ipykernel_14260\\1741641518.py:44: RuntimeWarning: This filename (C:\\Users\\marco\\Documents\\MASTER_DATA_SCIENTIST\\TFM_MSD\\SEED_FRA_OUTPUT\\NEUTRAL\\1_1_trial_2_signals.fif) does not conform to MNE naming conventions. All raw files should end with raw.fif, raw_sss.fif, raw_tsss.fif, _meg.fif, _eeg.fif, _ieeg.fif, raw.fif.gz, raw_sss.fif.gz, raw_tsss.fif.gz, _meg.fif.gz, _eeg.fif.gz or _ieeg.fif.gz\n",
      "  eeg_trial.save(output_path, overwrite=True)\n"
     ]
    },
    {
     "name": "stdout",
     "output_type": "stream",
     "text": [
      "Closing C:\\Users\\marco\\Documents\\MASTER_DATA_SCIENTIST\\TFM_MSD\\SEED_FRA_OUTPUT\\NEUTRAL\\1_1_trial_2_signals.fif\n",
      "[done]\n"
     ]
    },
    {
     "name": "stderr",
     "output_type": "stream",
     "text": [
      "\r",
      "Processing:  14%|██████████▏                                                            | 3/21 [00:05<00:35,  1.98s/it]"
     ]
    },
    {
     "name": "stdout",
     "output_type": "stream",
     "text": [
      "1000.0\n",
      "Writing C:\\Users\\marco\\Documents\\MASTER_DATA_SCIENTIST\\TFM_MSD\\SEED_FRA_OUTPUT\\NEGATIVE\\1_1_trial_3_signals.fif\n"
     ]
    },
    {
     "name": "stderr",
     "output_type": "stream",
     "text": [
      "C:\\Users\\marco\\AppData\\Local\\Temp\\ipykernel_14260\\1741641518.py:44: RuntimeWarning: This filename (C:\\Users\\marco\\Documents\\MASTER_DATA_SCIENTIST\\TFM_MSD\\SEED_FRA_OUTPUT\\NEGATIVE\\1_1_trial_3_signals.fif) does not conform to MNE naming conventions. All raw files should end with raw.fif, raw_sss.fif, raw_tsss.fif, _meg.fif, _eeg.fif, _ieeg.fif, raw.fif.gz, raw_sss.fif.gz, raw_tsss.fif.gz, _meg.fif.gz, _eeg.fif.gz or _ieeg.fif.gz\n",
      "  eeg_trial.save(output_path, overwrite=True)\n"
     ]
    },
    {
     "name": "stdout",
     "output_type": "stream",
     "text": [
      "Closing C:\\Users\\marco\\Documents\\MASTER_DATA_SCIENTIST\\TFM_MSD\\SEED_FRA_OUTPUT\\NEGATIVE\\1_1_trial_3_signals.fif\n",
      "[done]\n"
     ]
    },
    {
     "name": "stderr",
     "output_type": "stream",
     "text": [
      "\r",
      "Processing:  19%|█████████████▌                                                         | 4/21 [00:08<00:36,  2.14s/it]"
     ]
    },
    {
     "name": "stdout",
     "output_type": "stream",
     "text": [
      "1000.0\n",
      "Writing C:\\Users\\marco\\Documents\\MASTER_DATA_SCIENTIST\\TFM_MSD\\SEED_FRA_OUTPUT\\POSITIVE\\1_1_trial_4_signals.fif\n"
     ]
    },
    {
     "name": "stderr",
     "output_type": "stream",
     "text": [
      "C:\\Users\\marco\\AppData\\Local\\Temp\\ipykernel_14260\\1741641518.py:44: RuntimeWarning: This filename (C:\\Users\\marco\\Documents\\MASTER_DATA_SCIENTIST\\TFM_MSD\\SEED_FRA_OUTPUT\\POSITIVE\\1_1_trial_4_signals.fif) does not conform to MNE naming conventions. All raw files should end with raw.fif, raw_sss.fif, raw_tsss.fif, _meg.fif, _eeg.fif, _ieeg.fif, raw.fif.gz, raw_sss.fif.gz, raw_tsss.fif.gz, _meg.fif.gz, _eeg.fif.gz or _ieeg.fif.gz\n",
      "  eeg_trial.save(output_path, overwrite=True)\n"
     ]
    },
    {
     "name": "stdout",
     "output_type": "stream",
     "text": [
      "Closing C:\\Users\\marco\\Documents\\MASTER_DATA_SCIENTIST\\TFM_MSD\\SEED_FRA_OUTPUT\\POSITIVE\\1_1_trial_4_signals.fif\n",
      "[done]\n"
     ]
    },
    {
     "name": "stderr",
     "output_type": "stream",
     "text": [
      "\r",
      "Processing:  24%|████████████████▉                                                      | 5/21 [00:10<00:31,  1.99s/it]"
     ]
    },
    {
     "name": "stdout",
     "output_type": "stream",
     "text": [
      "1000.0\n",
      "Writing C:\\Users\\marco\\Documents\\MASTER_DATA_SCIENTIST\\TFM_MSD\\SEED_FRA_OUTPUT\\NEUTRAL\\1_1_trial_5_signals.fif\n"
     ]
    },
    {
     "name": "stderr",
     "output_type": "stream",
     "text": [
      "C:\\Users\\marco\\AppData\\Local\\Temp\\ipykernel_14260\\1741641518.py:44: RuntimeWarning: This filename (C:\\Users\\marco\\Documents\\MASTER_DATA_SCIENTIST\\TFM_MSD\\SEED_FRA_OUTPUT\\NEUTRAL\\1_1_trial_5_signals.fif) does not conform to MNE naming conventions. All raw files should end with raw.fif, raw_sss.fif, raw_tsss.fif, _meg.fif, _eeg.fif, _ieeg.fif, raw.fif.gz, raw_sss.fif.gz, raw_tsss.fif.gz, _meg.fif.gz, _eeg.fif.gz or _ieeg.fif.gz\n",
      "  eeg_trial.save(output_path, overwrite=True)\n"
     ]
    },
    {
     "name": "stdout",
     "output_type": "stream",
     "text": [
      "Closing C:\\Users\\marco\\Documents\\MASTER_DATA_SCIENTIST\\TFM_MSD\\SEED_FRA_OUTPUT\\NEUTRAL\\1_1_trial_5_signals.fif\n",
      "[done]\n"
     ]
    },
    {
     "name": "stderr",
     "output_type": "stream",
     "text": [
      "\r",
      "Processing:  29%|████████████████████▎                                                  | 6/21 [00:12<00:30,  2.02s/it]"
     ]
    },
    {
     "name": "stdout",
     "output_type": "stream",
     "text": [
      "1000.0\n",
      "Writing C:\\Users\\marco\\Documents\\MASTER_DATA_SCIENTIST\\TFM_MSD\\SEED_FRA_OUTPUT\\NEGATIVE\\1_1_trial_6_signals.fif\n"
     ]
    },
    {
     "name": "stderr",
     "output_type": "stream",
     "text": [
      "C:\\Users\\marco\\AppData\\Local\\Temp\\ipykernel_14260\\1741641518.py:44: RuntimeWarning: This filename (C:\\Users\\marco\\Documents\\MASTER_DATA_SCIENTIST\\TFM_MSD\\SEED_FRA_OUTPUT\\NEGATIVE\\1_1_trial_6_signals.fif) does not conform to MNE naming conventions. All raw files should end with raw.fif, raw_sss.fif, raw_tsss.fif, _meg.fif, _eeg.fif, _ieeg.fif, raw.fif.gz, raw_sss.fif.gz, raw_tsss.fif.gz, _meg.fif.gz, _eeg.fif.gz or _ieeg.fif.gz\n",
      "  eeg_trial.save(output_path, overwrite=True)\n"
     ]
    },
    {
     "name": "stdout",
     "output_type": "stream",
     "text": [
      "Closing C:\\Users\\marco\\Documents\\MASTER_DATA_SCIENTIST\\TFM_MSD\\SEED_FRA_OUTPUT\\NEGATIVE\\1_1_trial_6_signals.fif\n",
      "[done]\n"
     ]
    },
    {
     "name": "stderr",
     "output_type": "stream",
     "text": [
      "\r",
      "Processing:  33%|███████████████████████▋                                               | 7/21 [00:14<00:30,  2.17s/it]"
     ]
    },
    {
     "name": "stdout",
     "output_type": "stream",
     "text": [
      "1000.0\n",
      "Writing C:\\Users\\marco\\Documents\\MASTER_DATA_SCIENTIST\\TFM_MSD\\SEED_FRA_OUTPUT\\NEUTRAL\\1_1_trial_7_signals.fif\n"
     ]
    },
    {
     "name": "stderr",
     "output_type": "stream",
     "text": [
      "C:\\Users\\marco\\AppData\\Local\\Temp\\ipykernel_14260\\1741641518.py:44: RuntimeWarning: This filename (C:\\Users\\marco\\Documents\\MASTER_DATA_SCIENTIST\\TFM_MSD\\SEED_FRA_OUTPUT\\NEUTRAL\\1_1_trial_7_signals.fif) does not conform to MNE naming conventions. All raw files should end with raw.fif, raw_sss.fif, raw_tsss.fif, _meg.fif, _eeg.fif, _ieeg.fif, raw.fif.gz, raw_sss.fif.gz, raw_tsss.fif.gz, _meg.fif.gz, _eeg.fif.gz or _ieeg.fif.gz\n",
      "  eeg_trial.save(output_path, overwrite=True)\n"
     ]
    },
    {
     "name": "stdout",
     "output_type": "stream",
     "text": [
      "Closing C:\\Users\\marco\\Documents\\MASTER_DATA_SCIENTIST\\TFM_MSD\\SEED_FRA_OUTPUT\\NEUTRAL\\1_1_trial_7_signals.fif\n",
      "[done]\n"
     ]
    },
    {
     "name": "stderr",
     "output_type": "stream",
     "text": [
      "\r",
      "Processing:  38%|███████████████████████████                                            | 8/21 [00:16<00:28,  2.16s/it]"
     ]
    },
    {
     "name": "stdout",
     "output_type": "stream",
     "text": [
      "1000.0\n",
      "Writing C:\\Users\\marco\\Documents\\MASTER_DATA_SCIENTIST\\TFM_MSD\\SEED_FRA_OUTPUT\\POSITIVE\\1_1_trial_8_signals.fif\n"
     ]
    },
    {
     "name": "stderr",
     "output_type": "stream",
     "text": [
      "C:\\Users\\marco\\AppData\\Local\\Temp\\ipykernel_14260\\1741641518.py:44: RuntimeWarning: This filename (C:\\Users\\marco\\Documents\\MASTER_DATA_SCIENTIST\\TFM_MSD\\SEED_FRA_OUTPUT\\POSITIVE\\1_1_trial_8_signals.fif) does not conform to MNE naming conventions. All raw files should end with raw.fif, raw_sss.fif, raw_tsss.fif, _meg.fif, _eeg.fif, _ieeg.fif, raw.fif.gz, raw_sss.fif.gz, raw_tsss.fif.gz, _meg.fif.gz, _eeg.fif.gz or _ieeg.fif.gz\n",
      "  eeg_trial.save(output_path, overwrite=True)\n"
     ]
    },
    {
     "name": "stdout",
     "output_type": "stream",
     "text": [
      "Closing C:\\Users\\marco\\Documents\\MASTER_DATA_SCIENTIST\\TFM_MSD\\SEED_FRA_OUTPUT\\POSITIVE\\1_1_trial_8_signals.fif\n",
      "[done]\n"
     ]
    },
    {
     "name": "stderr",
     "output_type": "stream",
     "text": [
      "\r",
      "Processing:  43%|██████████████████████████████▍                                        | 9/21 [00:18<00:25,  2.16s/it]"
     ]
    },
    {
     "name": "stdout",
     "output_type": "stream",
     "text": [
      "1000.0\n",
      "Writing C:\\Users\\marco\\Documents\\MASTER_DATA_SCIENTIST\\TFM_MSD\\SEED_FRA_OUTPUT\\NEGATIVE\\1_1_trial_9_signals.fif\n"
     ]
    },
    {
     "name": "stderr",
     "output_type": "stream",
     "text": [
      "C:\\Users\\marco\\AppData\\Local\\Temp\\ipykernel_14260\\1741641518.py:44: RuntimeWarning: This filename (C:\\Users\\marco\\Documents\\MASTER_DATA_SCIENTIST\\TFM_MSD\\SEED_FRA_OUTPUT\\NEGATIVE\\1_1_trial_9_signals.fif) does not conform to MNE naming conventions. All raw files should end with raw.fif, raw_sss.fif, raw_tsss.fif, _meg.fif, _eeg.fif, _ieeg.fif, raw.fif.gz, raw_sss.fif.gz, raw_tsss.fif.gz, _meg.fif.gz, _eeg.fif.gz or _ieeg.fif.gz\n",
      "  eeg_trial.save(output_path, overwrite=True)\n"
     ]
    },
    {
     "name": "stdout",
     "output_type": "stream",
     "text": [
      "Closing C:\\Users\\marco\\Documents\\MASTER_DATA_SCIENTIST\\TFM_MSD\\SEED_FRA_OUTPUT\\NEGATIVE\\1_1_trial_9_signals.fif\n",
      "[done]\n"
     ]
    },
    {
     "name": "stderr",
     "output_type": "stream",
     "text": [
      "\r",
      "Processing:  48%|█████████████████████████████████▎                                    | 10/21 [00:21<00:24,  2.22s/it]"
     ]
    },
    {
     "name": "stdout",
     "output_type": "stream",
     "text": [
      "1000.0\n",
      "Writing C:\\Users\\marco\\Documents\\MASTER_DATA_SCIENTIST\\TFM_MSD\\SEED_FRA_OUTPUT\\NEUTRAL\\1_1_trial_10_signals.fif\n"
     ]
    },
    {
     "name": "stderr",
     "output_type": "stream",
     "text": [
      "C:\\Users\\marco\\AppData\\Local\\Temp\\ipykernel_14260\\1741641518.py:44: RuntimeWarning: This filename (C:\\Users\\marco\\Documents\\MASTER_DATA_SCIENTIST\\TFM_MSD\\SEED_FRA_OUTPUT\\NEUTRAL\\1_1_trial_10_signals.fif) does not conform to MNE naming conventions. All raw files should end with raw.fif, raw_sss.fif, raw_tsss.fif, _meg.fif, _eeg.fif, _ieeg.fif, raw.fif.gz, raw_sss.fif.gz, raw_tsss.fif.gz, _meg.fif.gz, _eeg.fif.gz or _ieeg.fif.gz\n",
      "  eeg_trial.save(output_path, overwrite=True)\n"
     ]
    },
    {
     "name": "stdout",
     "output_type": "stream",
     "text": [
      "Closing C:\\Users\\marco\\Documents\\MASTER_DATA_SCIENTIST\\TFM_MSD\\SEED_FRA_OUTPUT\\NEUTRAL\\1_1_trial_10_signals.fif\n",
      "[done]\n"
     ]
    },
    {
     "name": "stderr",
     "output_type": "stream",
     "text": [
      "\r",
      "Processing:  52%|████████████████████████████████████▋                                 | 11/21 [00:23<00:21,  2.13s/it]"
     ]
    },
    {
     "name": "stdout",
     "output_type": "stream",
     "text": [
      "1000.0\n",
      "Writing C:\\Users\\marco\\Documents\\MASTER_DATA_SCIENTIST\\TFM_MSD\\SEED_FRA_OUTPUT\\POSITIVE\\1_1_trial_11_signals.fif\n"
     ]
    },
    {
     "name": "stderr",
     "output_type": "stream",
     "text": [
      "C:\\Users\\marco\\AppData\\Local\\Temp\\ipykernel_14260\\1741641518.py:44: RuntimeWarning: This filename (C:\\Users\\marco\\Documents\\MASTER_DATA_SCIENTIST\\TFM_MSD\\SEED_FRA_OUTPUT\\POSITIVE\\1_1_trial_11_signals.fif) does not conform to MNE naming conventions. All raw files should end with raw.fif, raw_sss.fif, raw_tsss.fif, _meg.fif, _eeg.fif, _ieeg.fif, raw.fif.gz, raw_sss.fif.gz, raw_tsss.fif.gz, _meg.fif.gz, _eeg.fif.gz or _ieeg.fif.gz\n",
      "  eeg_trial.save(output_path, overwrite=True)\n"
     ]
    },
    {
     "name": "stdout",
     "output_type": "stream",
     "text": [
      "Closing C:\\Users\\marco\\Documents\\MASTER_DATA_SCIENTIST\\TFM_MSD\\SEED_FRA_OUTPUT\\POSITIVE\\1_1_trial_11_signals.fif\n",
      "[done]\n"
     ]
    },
    {
     "name": "stderr",
     "output_type": "stream",
     "text": [
      "\r",
      "Processing:  57%|████████████████████████████████████████                              | 12/21 [00:25<00:18,  2.08s/it]"
     ]
    },
    {
     "name": "stdout",
     "output_type": "stream",
     "text": [
      "1000.0\n",
      "Writing C:\\Users\\marco\\Documents\\MASTER_DATA_SCIENTIST\\TFM_MSD\\SEED_FRA_OUTPUT\\POSITIVE\\1_1_trial_12_signals.fif\n"
     ]
    },
    {
     "name": "stderr",
     "output_type": "stream",
     "text": [
      "C:\\Users\\marco\\AppData\\Local\\Temp\\ipykernel_14260\\1741641518.py:44: RuntimeWarning: This filename (C:\\Users\\marco\\Documents\\MASTER_DATA_SCIENTIST\\TFM_MSD\\SEED_FRA_OUTPUT\\POSITIVE\\1_1_trial_12_signals.fif) does not conform to MNE naming conventions. All raw files should end with raw.fif, raw_sss.fif, raw_tsss.fif, _meg.fif, _eeg.fif, _ieeg.fif, raw.fif.gz, raw_sss.fif.gz, raw_tsss.fif.gz, _meg.fif.gz, _eeg.fif.gz or _ieeg.fif.gz\n",
      "  eeg_trial.save(output_path, overwrite=True)\n"
     ]
    },
    {
     "name": "stdout",
     "output_type": "stream",
     "text": [
      "Closing C:\\Users\\marco\\Documents\\MASTER_DATA_SCIENTIST\\TFM_MSD\\SEED_FRA_OUTPUT\\POSITIVE\\1_1_trial_12_signals.fif\n",
      "[done]\n"
     ]
    },
    {
     "name": "stderr",
     "output_type": "stream",
     "text": [
      "\r",
      "Processing:  62%|███████████████████████████████████████████▎                          | 13/21 [00:27<00:16,  2.03s/it]"
     ]
    },
    {
     "name": "stdout",
     "output_type": "stream",
     "text": [
      "1000.0\n",
      "Writing C:\\Users\\marco\\Documents\\MASTER_DATA_SCIENTIST\\TFM_MSD\\SEED_FRA_OUTPUT\\NEUTRAL\\1_1_trial_13_signals.fif\n"
     ]
    },
    {
     "name": "stderr",
     "output_type": "stream",
     "text": [
      "C:\\Users\\marco\\AppData\\Local\\Temp\\ipykernel_14260\\1741641518.py:44: RuntimeWarning: This filename (C:\\Users\\marco\\Documents\\MASTER_DATA_SCIENTIST\\TFM_MSD\\SEED_FRA_OUTPUT\\NEUTRAL\\1_1_trial_13_signals.fif) does not conform to MNE naming conventions. All raw files should end with raw.fif, raw_sss.fif, raw_tsss.fif, _meg.fif, _eeg.fif, _ieeg.fif, raw.fif.gz, raw_sss.fif.gz, raw_tsss.fif.gz, _meg.fif.gz, _eeg.fif.gz or _ieeg.fif.gz\n",
      "  eeg_trial.save(output_path, overwrite=True)\n"
     ]
    },
    {
     "name": "stdout",
     "output_type": "stream",
     "text": [
      "Closing C:\\Users\\marco\\Documents\\MASTER_DATA_SCIENTIST\\TFM_MSD\\SEED_FRA_OUTPUT\\NEUTRAL\\1_1_trial_13_signals.fif\n",
      "[done]\n"
     ]
    },
    {
     "name": "stderr",
     "output_type": "stream",
     "text": [
      "\r",
      "Processing:  67%|██████████████████████████████████████████████▋                       | 14/21 [00:29<00:14,  2.03s/it]"
     ]
    },
    {
     "name": "stdout",
     "output_type": "stream",
     "text": [
      "1000.0\n",
      "Writing C:\\Users\\marco\\Documents\\MASTER_DATA_SCIENTIST\\TFM_MSD\\SEED_FRA_OUTPUT\\NEGATIVE\\1_1_trial_14_signals.fif\n"
     ]
    },
    {
     "name": "stderr",
     "output_type": "stream",
     "text": [
      "C:\\Users\\marco\\AppData\\Local\\Temp\\ipykernel_14260\\1741641518.py:44: RuntimeWarning: This filename (C:\\Users\\marco\\Documents\\MASTER_DATA_SCIENTIST\\TFM_MSD\\SEED_FRA_OUTPUT\\NEGATIVE\\1_1_trial_14_signals.fif) does not conform to MNE naming conventions. All raw files should end with raw.fif, raw_sss.fif, raw_tsss.fif, _meg.fif, _eeg.fif, _ieeg.fif, raw.fif.gz, raw_sss.fif.gz, raw_tsss.fif.gz, _meg.fif.gz, _eeg.fif.gz or _ieeg.fif.gz\n",
      "  eeg_trial.save(output_path, overwrite=True)\n"
     ]
    },
    {
     "name": "stdout",
     "output_type": "stream",
     "text": [
      "Closing C:\\Users\\marco\\Documents\\MASTER_DATA_SCIENTIST\\TFM_MSD\\SEED_FRA_OUTPUT\\NEGATIVE\\1_1_trial_14_signals.fif\n",
      "[done]\n"
     ]
    },
    {
     "name": "stderr",
     "output_type": "stream",
     "text": [
      "\r",
      "Processing:  71%|██████████████████████████████████████████████████                    | 15/21 [00:31<00:12,  2.03s/it]"
     ]
    },
    {
     "name": "stdout",
     "output_type": "stream",
     "text": [
      "1000.0\n",
      "Writing C:\\Users\\marco\\Documents\\MASTER_DATA_SCIENTIST\\TFM_MSD\\SEED_FRA_OUTPUT\\NEGATIVE\\1_1_trial_15_signals.fif\n"
     ]
    },
    {
     "name": "stderr",
     "output_type": "stream",
     "text": [
      "C:\\Users\\marco\\AppData\\Local\\Temp\\ipykernel_14260\\1741641518.py:44: RuntimeWarning: This filename (C:\\Users\\marco\\Documents\\MASTER_DATA_SCIENTIST\\TFM_MSD\\SEED_FRA_OUTPUT\\NEGATIVE\\1_1_trial_15_signals.fif) does not conform to MNE naming conventions. All raw files should end with raw.fif, raw_sss.fif, raw_tsss.fif, _meg.fif, _eeg.fif, _ieeg.fif, raw.fif.gz, raw_sss.fif.gz, raw_tsss.fif.gz, _meg.fif.gz, _eeg.fif.gz or _ieeg.fif.gz\n",
      "  eeg_trial.save(output_path, overwrite=True)\n"
     ]
    },
    {
     "name": "stdout",
     "output_type": "stream",
     "text": [
      "Closing C:\\Users\\marco\\Documents\\MASTER_DATA_SCIENTIST\\TFM_MSD\\SEED_FRA_OUTPUT\\NEGATIVE\\1_1_trial_15_signals.fif\n",
      "[done]\n"
     ]
    },
    {
     "name": "stderr",
     "output_type": "stream",
     "text": [
      "\r",
      "Processing:  76%|█████████████████████████████████████████████████████▎                | 16/21 [00:33<00:09,  1.99s/it]"
     ]
    },
    {
     "name": "stdout",
     "output_type": "stream",
     "text": [
      "1000.0\n",
      "Writing C:\\Users\\marco\\Documents\\MASTER_DATA_SCIENTIST\\TFM_MSD\\SEED_FRA_OUTPUT\\NEUTRAL\\1_1_trial_16_signals.fif\n"
     ]
    },
    {
     "name": "stderr",
     "output_type": "stream",
     "text": [
      "C:\\Users\\marco\\AppData\\Local\\Temp\\ipykernel_14260\\1741641518.py:44: RuntimeWarning: This filename (C:\\Users\\marco\\Documents\\MASTER_DATA_SCIENTIST\\TFM_MSD\\SEED_FRA_OUTPUT\\NEUTRAL\\1_1_trial_16_signals.fif) does not conform to MNE naming conventions. All raw files should end with raw.fif, raw_sss.fif, raw_tsss.fif, _meg.fif, _eeg.fif, _ieeg.fif, raw.fif.gz, raw_sss.fif.gz, raw_tsss.fif.gz, _meg.fif.gz, _eeg.fif.gz or _ieeg.fif.gz\n",
      "  eeg_trial.save(output_path, overwrite=True)\n"
     ]
    },
    {
     "name": "stdout",
     "output_type": "stream",
     "text": [
      "Closing C:\\Users\\marco\\Documents\\MASTER_DATA_SCIENTIST\\TFM_MSD\\SEED_FRA_OUTPUT\\NEUTRAL\\1_1_trial_16_signals.fif\n",
      "[done]\n"
     ]
    },
    {
     "name": "stderr",
     "output_type": "stream",
     "text": [
      "\r",
      "Processing:  81%|████████████████████████████████████████████████████████▋             | 17/21 [00:35<00:08,  2.03s/it]"
     ]
    },
    {
     "name": "stdout",
     "output_type": "stream",
     "text": [
      "1000.0\n",
      "Writing C:\\Users\\marco\\Documents\\MASTER_DATA_SCIENTIST\\TFM_MSD\\SEED_FRA_OUTPUT\\POSITIVE\\1_1_trial_17_signals.fif\n"
     ]
    },
    {
     "name": "stderr",
     "output_type": "stream",
     "text": [
      "C:\\Users\\marco\\AppData\\Local\\Temp\\ipykernel_14260\\1741641518.py:44: RuntimeWarning: This filename (C:\\Users\\marco\\Documents\\MASTER_DATA_SCIENTIST\\TFM_MSD\\SEED_FRA_OUTPUT\\POSITIVE\\1_1_trial_17_signals.fif) does not conform to MNE naming conventions. All raw files should end with raw.fif, raw_sss.fif, raw_tsss.fif, _meg.fif, _eeg.fif, _ieeg.fif, raw.fif.gz, raw_sss.fif.gz, raw_tsss.fif.gz, _meg.fif.gz, _eeg.fif.gz or _ieeg.fif.gz\n",
      "  eeg_trial.save(output_path, overwrite=True)\n"
     ]
    },
    {
     "name": "stdout",
     "output_type": "stream",
     "text": [
      "Closing C:\\Users\\marco\\Documents\\MASTER_DATA_SCIENTIST\\TFM_MSD\\SEED_FRA_OUTPUT\\POSITIVE\\1_1_trial_17_signals.fif\n",
      "[done]\n"
     ]
    },
    {
     "name": "stderr",
     "output_type": "stream",
     "text": [
      "\r",
      "Processing:  86%|████████████████████████████████████████████████████████████          | 18/21 [00:37<00:06,  2.06s/it]"
     ]
    },
    {
     "name": "stdout",
     "output_type": "stream",
     "text": [
      "1000.0\n",
      "Writing C:\\Users\\marco\\Documents\\MASTER_DATA_SCIENTIST\\TFM_MSD\\SEED_FRA_OUTPUT\\NEGATIVE\\1_1_trial_18_signals.fif\n"
     ]
    },
    {
     "name": "stderr",
     "output_type": "stream",
     "text": [
      "C:\\Users\\marco\\AppData\\Local\\Temp\\ipykernel_14260\\1741641518.py:44: RuntimeWarning: This filename (C:\\Users\\marco\\Documents\\MASTER_DATA_SCIENTIST\\TFM_MSD\\SEED_FRA_OUTPUT\\NEGATIVE\\1_1_trial_18_signals.fif) does not conform to MNE naming conventions. All raw files should end with raw.fif, raw_sss.fif, raw_tsss.fif, _meg.fif, _eeg.fif, _ieeg.fif, raw.fif.gz, raw_sss.fif.gz, raw_tsss.fif.gz, _meg.fif.gz, _eeg.fif.gz or _ieeg.fif.gz\n",
      "  eeg_trial.save(output_path, overwrite=True)\n"
     ]
    },
    {
     "name": "stdout",
     "output_type": "stream",
     "text": [
      "Closing C:\\Users\\marco\\Documents\\MASTER_DATA_SCIENTIST\\TFM_MSD\\SEED_FRA_OUTPUT\\NEGATIVE\\1_1_trial_18_signals.fif\n",
      "[done]\n"
     ]
    },
    {
     "name": "stderr",
     "output_type": "stream",
     "text": [
      "\r",
      "Processing:  90%|███████████████████████████████████████████████████████████████▎      | 19/21 [00:39<00:04,  2.06s/it]"
     ]
    },
    {
     "name": "stdout",
     "output_type": "stream",
     "text": [
      "1000.0\n",
      "Writing C:\\Users\\marco\\Documents\\MASTER_DATA_SCIENTIST\\TFM_MSD\\SEED_FRA_OUTPUT\\NEUTRAL\\1_1_trial_19_signals.fif\n"
     ]
    },
    {
     "name": "stderr",
     "output_type": "stream",
     "text": [
      "C:\\Users\\marco\\AppData\\Local\\Temp\\ipykernel_14260\\1741641518.py:44: RuntimeWarning: This filename (C:\\Users\\marco\\Documents\\MASTER_DATA_SCIENTIST\\TFM_MSD\\SEED_FRA_OUTPUT\\NEUTRAL\\1_1_trial_19_signals.fif) does not conform to MNE naming conventions. All raw files should end with raw.fif, raw_sss.fif, raw_tsss.fif, _meg.fif, _eeg.fif, _ieeg.fif, raw.fif.gz, raw_sss.fif.gz, raw_tsss.fif.gz, _meg.fif.gz, _eeg.fif.gz or _ieeg.fif.gz\n",
      "  eeg_trial.save(output_path, overwrite=True)\n"
     ]
    },
    {
     "name": "stdout",
     "output_type": "stream",
     "text": [
      "Closing C:\\Users\\marco\\Documents\\MASTER_DATA_SCIENTIST\\TFM_MSD\\SEED_FRA_OUTPUT\\NEUTRAL\\1_1_trial_19_signals.fif\n",
      "[done]\n"
     ]
    },
    {
     "name": "stderr",
     "output_type": "stream",
     "text": [
      "\r",
      "Processing:  95%|██████████████████████████████████████████████████████████████████▋   | 20/21 [00:41<00:02,  2.02s/it]"
     ]
    },
    {
     "name": "stdout",
     "output_type": "stream",
     "text": [
      "1000.0\n",
      "Writing C:\\Users\\marco\\Documents\\MASTER_DATA_SCIENTIST\\TFM_MSD\\SEED_FRA_OUTPUT\\POSITIVE\\1_1_trial_20_signals.fif\n"
     ]
    },
    {
     "name": "stderr",
     "output_type": "stream",
     "text": [
      "C:\\Users\\marco\\AppData\\Local\\Temp\\ipykernel_14260\\1741641518.py:44: RuntimeWarning: This filename (C:\\Users\\marco\\Documents\\MASTER_DATA_SCIENTIST\\TFM_MSD\\SEED_FRA_OUTPUT\\POSITIVE\\1_1_trial_20_signals.fif) does not conform to MNE naming conventions. All raw files should end with raw.fif, raw_sss.fif, raw_tsss.fif, _meg.fif, _eeg.fif, _ieeg.fif, raw.fif.gz, raw_sss.fif.gz, raw_tsss.fif.gz, _meg.fif.gz, _eeg.fif.gz or _ieeg.fif.gz\n",
      "  eeg_trial.save(output_path, overwrite=True)\n"
     ]
    },
    {
     "name": "stdout",
     "output_type": "stream",
     "text": [
      "Closing C:\\Users\\marco\\Documents\\MASTER_DATA_SCIENTIST\\TFM_MSD\\SEED_FRA_OUTPUT\\POSITIVE\\1_1_trial_20_signals.fif\n",
      "[done]\n"
     ]
    },
    {
     "name": "stderr",
     "output_type": "stream",
     "text": [
      "Processing: 100%|██████████████████████████████████████████████████████████████████████| 21/21 [00:43<00:00,  2.06s/it]\n"
     ]
    },
    {
     "name": "stdout",
     "output_type": "stream",
     "text": [
      "Reading 0 ... 3815919  =      0.000 ...  3815.919 secs...\n"
     ]
    },
    {
     "name": "stderr",
     "output_type": "stream",
     "text": [
      "C:\\Users\\marco\\AppData\\Local\\Temp\\ipykernel_14260\\1741641518.py:4: RuntimeWarning:   Could not parse meas date from the header. Setting to None.\n",
      "  eeg_raw = mne.io.read_raw_cnt(_path, preload=True)\n"
     ]
    },
    {
     "name": "stdout",
     "output_type": "stream",
     "text": [
      "Filtering raw data in 1 contiguous segment\n",
      "Setting up band-pass filter from 0.5 - 55 Hz\n",
      "\n",
      "FIR filter parameters\n",
      "---------------------\n",
      "Designing a one-pass, zero-phase, non-causal bandpass filter:\n",
      "- Windowed time-domain design (firwin) method\n",
      "- Hamming window with 0.0194 passband ripple and 53 dB stopband attenuation\n",
      "- Lower passband edge: 0.50\n",
      "- Lower transition bandwidth: 0.50 Hz (-6 dB cutoff frequency: 0.25 Hz)\n",
      "- Upper passband edge: 55.00 Hz\n",
      "- Upper transition bandwidth: 13.75 Hz (-6 dB cutoff frequency: 61.88 Hz)\n",
      "- Filter length: 6601 samples (6.601 sec)\n",
      "\n"
     ]
    },
    {
     "name": "stderr",
     "output_type": "stream",
     "text": [
      "\r",
      "Processing:   0%|                                                                               | 0/21 [00:00<?, ?it/s]"
     ]
    },
    {
     "name": "stdout",
     "output_type": "stream",
     "text": [
      "1000.0\n",
      "Writing C:\\Users\\marco\\Documents\\MASTER_DATA_SCIENTIST\\TFM_MSD\\SEED_FRA_OUTPUT\\POSITIVE\\1_2_trial_0_signals.fif\n"
     ]
    },
    {
     "name": "stderr",
     "output_type": "stream",
     "text": [
      "C:\\Users\\marco\\AppData\\Local\\Temp\\ipykernel_14260\\1741641518.py:44: RuntimeWarning: This filename (C:\\Users\\marco\\Documents\\MASTER_DATA_SCIENTIST\\TFM_MSD\\SEED_FRA_OUTPUT\\POSITIVE\\1_2_trial_0_signals.fif) does not conform to MNE naming conventions. All raw files should end with raw.fif, raw_sss.fif, raw_tsss.fif, _meg.fif, _eeg.fif, _ieeg.fif, raw.fif.gz, raw_sss.fif.gz, raw_tsss.fif.gz, _meg.fif.gz, _eeg.fif.gz or _ieeg.fif.gz\n",
      "  eeg_trial.save(output_path, overwrite=True)\n"
     ]
    },
    {
     "name": "stdout",
     "output_type": "stream",
     "text": [
      "Closing C:\\Users\\marco\\Documents\\MASTER_DATA_SCIENTIST\\TFM_MSD\\SEED_FRA_OUTPUT\\POSITIVE\\1_2_trial_0_signals.fif\n",
      "[done]\n"
     ]
    },
    {
     "name": "stderr",
     "output_type": "stream",
     "text": [
      "\r",
      "Processing:   5%|███▍                                                                   | 1/21 [00:01<00:31,  1.59s/it]"
     ]
    },
    {
     "name": "stdout",
     "output_type": "stream",
     "text": [
      "1000.0\n",
      "Writing C:\\Users\\marco\\Documents\\MASTER_DATA_SCIENTIST\\TFM_MSD\\SEED_FRA_OUTPUT\\NEGATIVE\\1_2_trial_1_signals.fif\n"
     ]
    },
    {
     "name": "stderr",
     "output_type": "stream",
     "text": [
      "C:\\Users\\marco\\AppData\\Local\\Temp\\ipykernel_14260\\1741641518.py:44: RuntimeWarning: This filename (C:\\Users\\marco\\Documents\\MASTER_DATA_SCIENTIST\\TFM_MSD\\SEED_FRA_OUTPUT\\NEGATIVE\\1_2_trial_1_signals.fif) does not conform to MNE naming conventions. All raw files should end with raw.fif, raw_sss.fif, raw_tsss.fif, _meg.fif, _eeg.fif, _ieeg.fif, raw.fif.gz, raw_sss.fif.gz, raw_tsss.fif.gz, _meg.fif.gz, _eeg.fif.gz or _ieeg.fif.gz\n",
      "  eeg_trial.save(output_path, overwrite=True)\n"
     ]
    },
    {
     "name": "stdout",
     "output_type": "stream",
     "text": [
      "Closing C:\\Users\\marco\\Documents\\MASTER_DATA_SCIENTIST\\TFM_MSD\\SEED_FRA_OUTPUT\\NEGATIVE\\1_2_trial_1_signals.fif\n",
      "[done]\n"
     ]
    },
    {
     "name": "stderr",
     "output_type": "stream",
     "text": [
      "\r",
      "Processing:  10%|██████▊                                                                | 2/21 [00:03<00:35,  1.89s/it]"
     ]
    },
    {
     "name": "stdout",
     "output_type": "stream",
     "text": [
      "1000.0\n",
      "Writing C:\\Users\\marco\\Documents\\MASTER_DATA_SCIENTIST\\TFM_MSD\\SEED_FRA_OUTPUT\\NEUTRAL\\1_2_trial_2_signals.fif\n"
     ]
    },
    {
     "name": "stderr",
     "output_type": "stream",
     "text": [
      "C:\\Users\\marco\\AppData\\Local\\Temp\\ipykernel_14260\\1741641518.py:44: RuntimeWarning: This filename (C:\\Users\\marco\\Documents\\MASTER_DATA_SCIENTIST\\TFM_MSD\\SEED_FRA_OUTPUT\\NEUTRAL\\1_2_trial_2_signals.fif) does not conform to MNE naming conventions. All raw files should end with raw.fif, raw_sss.fif, raw_tsss.fif, _meg.fif, _eeg.fif, _ieeg.fif, raw.fif.gz, raw_sss.fif.gz, raw_tsss.fif.gz, _meg.fif.gz, _eeg.fif.gz or _ieeg.fif.gz\n",
      "  eeg_trial.save(output_path, overwrite=True)\n"
     ]
    },
    {
     "name": "stdout",
     "output_type": "stream",
     "text": [
      "Closing C:\\Users\\marco\\Documents\\MASTER_DATA_SCIENTIST\\TFM_MSD\\SEED_FRA_OUTPUT\\NEUTRAL\\1_2_trial_2_signals.fif\n",
      "[done]\n"
     ]
    },
    {
     "name": "stderr",
     "output_type": "stream",
     "text": [
      "\r",
      "Processing:  14%|██████████▏                                                            | 3/21 [00:05<00:34,  1.89s/it]"
     ]
    },
    {
     "name": "stdout",
     "output_type": "stream",
     "text": [
      "1000.0\n",
      "Writing C:\\Users\\marco\\Documents\\MASTER_DATA_SCIENTIST\\TFM_MSD\\SEED_FRA_OUTPUT\\NEGATIVE\\1_2_trial_3_signals.fif\n"
     ]
    },
    {
     "name": "stderr",
     "output_type": "stream",
     "text": [
      "C:\\Users\\marco\\AppData\\Local\\Temp\\ipykernel_14260\\1741641518.py:44: RuntimeWarning: This filename (C:\\Users\\marco\\Documents\\MASTER_DATA_SCIENTIST\\TFM_MSD\\SEED_FRA_OUTPUT\\NEGATIVE\\1_2_trial_3_signals.fif) does not conform to MNE naming conventions. All raw files should end with raw.fif, raw_sss.fif, raw_tsss.fif, _meg.fif, _eeg.fif, _ieeg.fif, raw.fif.gz, raw_sss.fif.gz, raw_tsss.fif.gz, _meg.fif.gz, _eeg.fif.gz or _ieeg.fif.gz\n",
      "  eeg_trial.save(output_path, overwrite=True)\n"
     ]
    },
    {
     "name": "stdout",
     "output_type": "stream",
     "text": [
      "Closing C:\\Users\\marco\\Documents\\MASTER_DATA_SCIENTIST\\TFM_MSD\\SEED_FRA_OUTPUT\\NEGATIVE\\1_2_trial_3_signals.fif\n",
      "[done]\n"
     ]
    },
    {
     "name": "stderr",
     "output_type": "stream",
     "text": [
      "\r",
      "Processing:  19%|█████████████▌                                                         | 4/21 [00:07<00:34,  2.05s/it]"
     ]
    },
    {
     "name": "stdout",
     "output_type": "stream",
     "text": [
      "1000.0\n",
      "Writing C:\\Users\\marco\\Documents\\MASTER_DATA_SCIENTIST\\TFM_MSD\\SEED_FRA_OUTPUT\\POSITIVE\\1_2_trial_4_signals.fif\n"
     ]
    },
    {
     "name": "stderr",
     "output_type": "stream",
     "text": [
      "C:\\Users\\marco\\AppData\\Local\\Temp\\ipykernel_14260\\1741641518.py:44: RuntimeWarning: This filename (C:\\Users\\marco\\Documents\\MASTER_DATA_SCIENTIST\\TFM_MSD\\SEED_FRA_OUTPUT\\POSITIVE\\1_2_trial_4_signals.fif) does not conform to MNE naming conventions. All raw files should end with raw.fif, raw_sss.fif, raw_tsss.fif, _meg.fif, _eeg.fif, _ieeg.fif, raw.fif.gz, raw_sss.fif.gz, raw_tsss.fif.gz, _meg.fif.gz, _eeg.fif.gz or _ieeg.fif.gz\n",
      "  eeg_trial.save(output_path, overwrite=True)\n"
     ]
    },
    {
     "name": "stdout",
     "output_type": "stream",
     "text": [
      "Closing C:\\Users\\marco\\Documents\\MASTER_DATA_SCIENTIST\\TFM_MSD\\SEED_FRA_OUTPUT\\POSITIVE\\1_2_trial_4_signals.fif\n",
      "[done]\n"
     ]
    },
    {
     "name": "stderr",
     "output_type": "stream",
     "text": [
      "\r",
      "Processing:  24%|████████████████▉                                                      | 5/21 [00:09<00:32,  2.04s/it]"
     ]
    },
    {
     "name": "stdout",
     "output_type": "stream",
     "text": [
      "1000.0\n",
      "Writing C:\\Users\\marco\\Documents\\MASTER_DATA_SCIENTIST\\TFM_MSD\\SEED_FRA_OUTPUT\\NEUTRAL\\1_2_trial_5_signals.fif\n"
     ]
    },
    {
     "name": "stderr",
     "output_type": "stream",
     "text": [
      "C:\\Users\\marco\\AppData\\Local\\Temp\\ipykernel_14260\\1741641518.py:44: RuntimeWarning: This filename (C:\\Users\\marco\\Documents\\MASTER_DATA_SCIENTIST\\TFM_MSD\\SEED_FRA_OUTPUT\\NEUTRAL\\1_2_trial_5_signals.fif) does not conform to MNE naming conventions. All raw files should end with raw.fif, raw_sss.fif, raw_tsss.fif, _meg.fif, _eeg.fif, _ieeg.fif, raw.fif.gz, raw_sss.fif.gz, raw_tsss.fif.gz, _meg.fif.gz, _eeg.fif.gz or _ieeg.fif.gz\n",
      "  eeg_trial.save(output_path, overwrite=True)\n"
     ]
    },
    {
     "name": "stdout",
     "output_type": "stream",
     "text": [
      "Closing C:\\Users\\marco\\Documents\\MASTER_DATA_SCIENTIST\\TFM_MSD\\SEED_FRA_OUTPUT\\NEUTRAL\\1_2_trial_5_signals.fif\n",
      "[done]\n"
     ]
    },
    {
     "name": "stderr",
     "output_type": "stream",
     "text": [
      "\r",
      "Processing:  29%|████████████████████▎                                                  | 6/21 [00:11<00:30,  2.02s/it]"
     ]
    },
    {
     "name": "stdout",
     "output_type": "stream",
     "text": [
      "1000.0\n",
      "Writing C:\\Users\\marco\\Documents\\MASTER_DATA_SCIENTIST\\TFM_MSD\\SEED_FRA_OUTPUT\\NEGATIVE\\1_2_trial_6_signals.fif\n"
     ]
    },
    {
     "name": "stderr",
     "output_type": "stream",
     "text": [
      "C:\\Users\\marco\\AppData\\Local\\Temp\\ipykernel_14260\\1741641518.py:44: RuntimeWarning: This filename (C:\\Users\\marco\\Documents\\MASTER_DATA_SCIENTIST\\TFM_MSD\\SEED_FRA_OUTPUT\\NEGATIVE\\1_2_trial_6_signals.fif) does not conform to MNE naming conventions. All raw files should end with raw.fif, raw_sss.fif, raw_tsss.fif, _meg.fif, _eeg.fif, _ieeg.fif, raw.fif.gz, raw_sss.fif.gz, raw_tsss.fif.gz, _meg.fif.gz, _eeg.fif.gz or _ieeg.fif.gz\n",
      "  eeg_trial.save(output_path, overwrite=True)\n"
     ]
    },
    {
     "name": "stdout",
     "output_type": "stream",
     "text": [
      "Closing C:\\Users\\marco\\Documents\\MASTER_DATA_SCIENTIST\\TFM_MSD\\SEED_FRA_OUTPUT\\NEGATIVE\\1_2_trial_6_signals.fif\n",
      "[done]\n"
     ]
    },
    {
     "name": "stderr",
     "output_type": "stream",
     "text": [
      "\r",
      "Processing:  33%|███████████████████████▋                                               | 7/21 [00:14<00:29,  2.12s/it]"
     ]
    },
    {
     "name": "stdout",
     "output_type": "stream",
     "text": [
      "1000.0\n",
      "Writing C:\\Users\\marco\\Documents\\MASTER_DATA_SCIENTIST\\TFM_MSD\\SEED_FRA_OUTPUT\\NEUTRAL\\1_2_trial_7_signals.fif\n"
     ]
    },
    {
     "name": "stderr",
     "output_type": "stream",
     "text": [
      "C:\\Users\\marco\\AppData\\Local\\Temp\\ipykernel_14260\\1741641518.py:44: RuntimeWarning: This filename (C:\\Users\\marco\\Documents\\MASTER_DATA_SCIENTIST\\TFM_MSD\\SEED_FRA_OUTPUT\\NEUTRAL\\1_2_trial_7_signals.fif) does not conform to MNE naming conventions. All raw files should end with raw.fif, raw_sss.fif, raw_tsss.fif, _meg.fif, _eeg.fif, _ieeg.fif, raw.fif.gz, raw_sss.fif.gz, raw_tsss.fif.gz, _meg.fif.gz, _eeg.fif.gz or _ieeg.fif.gz\n",
      "  eeg_trial.save(output_path, overwrite=True)\n"
     ]
    },
    {
     "name": "stdout",
     "output_type": "stream",
     "text": [
      "Closing C:\\Users\\marco\\Documents\\MASTER_DATA_SCIENTIST\\TFM_MSD\\SEED_FRA_OUTPUT\\NEUTRAL\\1_2_trial_7_signals.fif\n",
      "[done]\n"
     ]
    },
    {
     "name": "stderr",
     "output_type": "stream",
     "text": [
      "\r",
      "Processing:  38%|███████████████████████████                                            | 8/21 [00:16<00:27,  2.10s/it]"
     ]
    },
    {
     "name": "stdout",
     "output_type": "stream",
     "text": [
      "1000.0\n",
      "Writing C:\\Users\\marco\\Documents\\MASTER_DATA_SCIENTIST\\TFM_MSD\\SEED_FRA_OUTPUT\\POSITIVE\\1_2_trial_8_signals.fif\n"
     ]
    },
    {
     "name": "stderr",
     "output_type": "stream",
     "text": [
      "C:\\Users\\marco\\AppData\\Local\\Temp\\ipykernel_14260\\1741641518.py:44: RuntimeWarning: This filename (C:\\Users\\marco\\Documents\\MASTER_DATA_SCIENTIST\\TFM_MSD\\SEED_FRA_OUTPUT\\POSITIVE\\1_2_trial_8_signals.fif) does not conform to MNE naming conventions. All raw files should end with raw.fif, raw_sss.fif, raw_tsss.fif, _meg.fif, _eeg.fif, _ieeg.fif, raw.fif.gz, raw_sss.fif.gz, raw_tsss.fif.gz, _meg.fif.gz, _eeg.fif.gz or _ieeg.fif.gz\n",
      "  eeg_trial.save(output_path, overwrite=True)\n"
     ]
    },
    {
     "name": "stdout",
     "output_type": "stream",
     "text": [
      "Closing C:\\Users\\marco\\Documents\\MASTER_DATA_SCIENTIST\\TFM_MSD\\SEED_FRA_OUTPUT\\POSITIVE\\1_2_trial_8_signals.fif\n",
      "[done]\n"
     ]
    },
    {
     "name": "stderr",
     "output_type": "stream",
     "text": [
      "\r",
      "Processing:  43%|██████████████████████████████▍                                        | 9/21 [00:18<00:25,  2.10s/it]"
     ]
    },
    {
     "name": "stdout",
     "output_type": "stream",
     "text": [
      "1000.0\n",
      "Writing C:\\Users\\marco\\Documents\\MASTER_DATA_SCIENTIST\\TFM_MSD\\SEED_FRA_OUTPUT\\NEGATIVE\\1_2_trial_9_signals.fif\n"
     ]
    },
    {
     "name": "stderr",
     "output_type": "stream",
     "text": [
      "C:\\Users\\marco\\AppData\\Local\\Temp\\ipykernel_14260\\1741641518.py:44: RuntimeWarning: This filename (C:\\Users\\marco\\Documents\\MASTER_DATA_SCIENTIST\\TFM_MSD\\SEED_FRA_OUTPUT\\NEGATIVE\\1_2_trial_9_signals.fif) does not conform to MNE naming conventions. All raw files should end with raw.fif, raw_sss.fif, raw_tsss.fif, _meg.fif, _eeg.fif, _ieeg.fif, raw.fif.gz, raw_sss.fif.gz, raw_tsss.fif.gz, _meg.fif.gz, _eeg.fif.gz or _ieeg.fif.gz\n",
      "  eeg_trial.save(output_path, overwrite=True)\n"
     ]
    },
    {
     "name": "stdout",
     "output_type": "stream",
     "text": [
      "Closing C:\\Users\\marco\\Documents\\MASTER_DATA_SCIENTIST\\TFM_MSD\\SEED_FRA_OUTPUT\\NEGATIVE\\1_2_trial_9_signals.fif\n",
      "[done]\n"
     ]
    },
    {
     "name": "stderr",
     "output_type": "stream",
     "text": [
      "\r",
      "Processing:  48%|█████████████████████████████████▎                                    | 10/21 [00:20<00:22,  2.04s/it]"
     ]
    },
    {
     "name": "stdout",
     "output_type": "stream",
     "text": [
      "1000.0\n",
      "Writing C:\\Users\\marco\\Documents\\MASTER_DATA_SCIENTIST\\TFM_MSD\\SEED_FRA_OUTPUT\\NEUTRAL\\1_2_trial_10_signals.fif\n"
     ]
    },
    {
     "name": "stderr",
     "output_type": "stream",
     "text": [
      "C:\\Users\\marco\\AppData\\Local\\Temp\\ipykernel_14260\\1741641518.py:44: RuntimeWarning: This filename (C:\\Users\\marco\\Documents\\MASTER_DATA_SCIENTIST\\TFM_MSD\\SEED_FRA_OUTPUT\\NEUTRAL\\1_2_trial_10_signals.fif) does not conform to MNE naming conventions. All raw files should end with raw.fif, raw_sss.fif, raw_tsss.fif, _meg.fif, _eeg.fif, _ieeg.fif, raw.fif.gz, raw_sss.fif.gz, raw_tsss.fif.gz, _meg.fif.gz, _eeg.fif.gz or _ieeg.fif.gz\n",
      "  eeg_trial.save(output_path, overwrite=True)\n"
     ]
    },
    {
     "name": "stdout",
     "output_type": "stream",
     "text": [
      "Closing C:\\Users\\marco\\Documents\\MASTER_DATA_SCIENTIST\\TFM_MSD\\SEED_FRA_OUTPUT\\NEUTRAL\\1_2_trial_10_signals.fif\n",
      "[done]\n"
     ]
    },
    {
     "name": "stderr",
     "output_type": "stream",
     "text": [
      "\r",
      "Processing:  52%|████████████████████████████████████▋                                 | 11/21 [00:22<00:20,  2.05s/it]"
     ]
    },
    {
     "name": "stdout",
     "output_type": "stream",
     "text": [
      "1000.0\n",
      "Writing C:\\Users\\marco\\Documents\\MASTER_DATA_SCIENTIST\\TFM_MSD\\SEED_FRA_OUTPUT\\POSITIVE\\1_2_trial_11_signals.fif\n"
     ]
    },
    {
     "name": "stderr",
     "output_type": "stream",
     "text": [
      "C:\\Users\\marco\\AppData\\Local\\Temp\\ipykernel_14260\\1741641518.py:44: RuntimeWarning: This filename (C:\\Users\\marco\\Documents\\MASTER_DATA_SCIENTIST\\TFM_MSD\\SEED_FRA_OUTPUT\\POSITIVE\\1_2_trial_11_signals.fif) does not conform to MNE naming conventions. All raw files should end with raw.fif, raw_sss.fif, raw_tsss.fif, _meg.fif, _eeg.fif, _ieeg.fif, raw.fif.gz, raw_sss.fif.gz, raw_tsss.fif.gz, _meg.fif.gz, _eeg.fif.gz or _ieeg.fif.gz\n",
      "  eeg_trial.save(output_path, overwrite=True)\n"
     ]
    },
    {
     "name": "stdout",
     "output_type": "stream",
     "text": [
      "Closing C:\\Users\\marco\\Documents\\MASTER_DATA_SCIENTIST\\TFM_MSD\\SEED_FRA_OUTPUT\\POSITIVE\\1_2_trial_11_signals.fif\n",
      "[done]\n"
     ]
    },
    {
     "name": "stderr",
     "output_type": "stream",
     "text": [
      "\r",
      "Processing:  57%|████████████████████████████████████████                              | 12/21 [00:24<00:17,  1.95s/it]"
     ]
    },
    {
     "name": "stdout",
     "output_type": "stream",
     "text": [
      "1000.0\n",
      "Writing C:\\Users\\marco\\Documents\\MASTER_DATA_SCIENTIST\\TFM_MSD\\SEED_FRA_OUTPUT\\POSITIVE\\1_2_trial_12_signals.fif\n"
     ]
    },
    {
     "name": "stderr",
     "output_type": "stream",
     "text": [
      "C:\\Users\\marco\\AppData\\Local\\Temp\\ipykernel_14260\\1741641518.py:44: RuntimeWarning: This filename (C:\\Users\\marco\\Documents\\MASTER_DATA_SCIENTIST\\TFM_MSD\\SEED_FRA_OUTPUT\\POSITIVE\\1_2_trial_12_signals.fif) does not conform to MNE naming conventions. All raw files should end with raw.fif, raw_sss.fif, raw_tsss.fif, _meg.fif, _eeg.fif, _ieeg.fif, raw.fif.gz, raw_sss.fif.gz, raw_tsss.fif.gz, _meg.fif.gz, _eeg.fif.gz or _ieeg.fif.gz\n",
      "  eeg_trial.save(output_path, overwrite=True)\n"
     ]
    },
    {
     "name": "stdout",
     "output_type": "stream",
     "text": [
      "Closing C:\\Users\\marco\\Documents\\MASTER_DATA_SCIENTIST\\TFM_MSD\\SEED_FRA_OUTPUT\\POSITIVE\\1_2_trial_12_signals.fif\n",
      "[done]\n"
     ]
    },
    {
     "name": "stderr",
     "output_type": "stream",
     "text": [
      "\r",
      "Processing:  62%|███████████████████████████████████████████▎                          | 13/21 [00:26<00:15,  1.97s/it]"
     ]
    },
    {
     "name": "stdout",
     "output_type": "stream",
     "text": [
      "1000.0\n",
      "Writing C:\\Users\\marco\\Documents\\MASTER_DATA_SCIENTIST\\TFM_MSD\\SEED_FRA_OUTPUT\\NEUTRAL\\1_2_trial_13_signals.fif\n"
     ]
    },
    {
     "name": "stderr",
     "output_type": "stream",
     "text": [
      "C:\\Users\\marco\\AppData\\Local\\Temp\\ipykernel_14260\\1741641518.py:44: RuntimeWarning: This filename (C:\\Users\\marco\\Documents\\MASTER_DATA_SCIENTIST\\TFM_MSD\\SEED_FRA_OUTPUT\\NEUTRAL\\1_2_trial_13_signals.fif) does not conform to MNE naming conventions. All raw files should end with raw.fif, raw_sss.fif, raw_tsss.fif, _meg.fif, _eeg.fif, _ieeg.fif, raw.fif.gz, raw_sss.fif.gz, raw_tsss.fif.gz, _meg.fif.gz, _eeg.fif.gz or _ieeg.fif.gz\n",
      "  eeg_trial.save(output_path, overwrite=True)\n"
     ]
    },
    {
     "name": "stdout",
     "output_type": "stream",
     "text": [
      "Closing C:\\Users\\marco\\Documents\\MASTER_DATA_SCIENTIST\\TFM_MSD\\SEED_FRA_OUTPUT\\NEUTRAL\\1_2_trial_13_signals.fif\n",
      "[done]\n"
     ]
    },
    {
     "name": "stderr",
     "output_type": "stream",
     "text": [
      "\r",
      "Processing:  67%|██████████████████████████████████████████████▋                       | 14/21 [00:27<00:13,  1.87s/it]"
     ]
    },
    {
     "name": "stdout",
     "output_type": "stream",
     "text": [
      "1000.0\n",
      "Writing C:\\Users\\marco\\Documents\\MASTER_DATA_SCIENTIST\\TFM_MSD\\SEED_FRA_OUTPUT\\NEGATIVE\\1_2_trial_14_signals.fif\n"
     ]
    },
    {
     "name": "stderr",
     "output_type": "stream",
     "text": [
      "C:\\Users\\marco\\AppData\\Local\\Temp\\ipykernel_14260\\1741641518.py:44: RuntimeWarning: This filename (C:\\Users\\marco\\Documents\\MASTER_DATA_SCIENTIST\\TFM_MSD\\SEED_FRA_OUTPUT\\NEGATIVE\\1_2_trial_14_signals.fif) does not conform to MNE naming conventions. All raw files should end with raw.fif, raw_sss.fif, raw_tsss.fif, _meg.fif, _eeg.fif, _ieeg.fif, raw.fif.gz, raw_sss.fif.gz, raw_tsss.fif.gz, _meg.fif.gz, _eeg.fif.gz or _ieeg.fif.gz\n",
      "  eeg_trial.save(output_path, overwrite=True)\n"
     ]
    },
    {
     "name": "stdout",
     "output_type": "stream",
     "text": [
      "Closing C:\\Users\\marco\\Documents\\MASTER_DATA_SCIENTIST\\TFM_MSD\\SEED_FRA_OUTPUT\\NEGATIVE\\1_2_trial_14_signals.fif\n",
      "[done]\n"
     ]
    },
    {
     "name": "stderr",
     "output_type": "stream",
     "text": [
      "\r",
      "Processing:  71%|██████████████████████████████████████████████████                    | 15/21 [00:29<00:11,  1.89s/it]"
     ]
    },
    {
     "name": "stdout",
     "output_type": "stream",
     "text": [
      "1000.0\n",
      "Writing C:\\Users\\marco\\Documents\\MASTER_DATA_SCIENTIST\\TFM_MSD\\SEED_FRA_OUTPUT\\NEGATIVE\\1_2_trial_15_signals.fif\n",
      "Closing C:\\Users\\marco\\Documents\\MASTER_DATA_SCIENTIST\\TFM_MSD\\SEED_FRA_OUTPUT\\NEGATIVE\\1_2_trial_15_signals.fif\n"
     ]
    },
    {
     "name": "stderr",
     "output_type": "stream",
     "text": [
      "C:\\Users\\marco\\AppData\\Local\\Temp\\ipykernel_14260\\1741641518.py:44: RuntimeWarning: This filename (C:\\Users\\marco\\Documents\\MASTER_DATA_SCIENTIST\\TFM_MSD\\SEED_FRA_OUTPUT\\NEGATIVE\\1_2_trial_15_signals.fif) does not conform to MNE naming conventions. All raw files should end with raw.fif, raw_sss.fif, raw_tsss.fif, _meg.fif, _eeg.fif, _ieeg.fif, raw.fif.gz, raw_sss.fif.gz, raw_tsss.fif.gz, _meg.fif.gz, _eeg.fif.gz or _ieeg.fif.gz\n",
      "  eeg_trial.save(output_path, overwrite=True)\n"
     ]
    },
    {
     "name": "stdout",
     "output_type": "stream",
     "text": [
      "[done]\n"
     ]
    },
    {
     "name": "stderr",
     "output_type": "stream",
     "text": [
      "\r",
      "Processing:  76%|█████████████████████████████████████████████████████▎                | 16/21 [00:31<00:09,  1.87s/it]"
     ]
    },
    {
     "name": "stdout",
     "output_type": "stream",
     "text": [
      "1000.0\n",
      "Writing C:\\Users\\marco\\Documents\\MASTER_DATA_SCIENTIST\\TFM_MSD\\SEED_FRA_OUTPUT\\NEUTRAL\\1_2_trial_16_signals.fif\n"
     ]
    },
    {
     "name": "stderr",
     "output_type": "stream",
     "text": [
      "C:\\Users\\marco\\AppData\\Local\\Temp\\ipykernel_14260\\1741641518.py:44: RuntimeWarning: This filename (C:\\Users\\marco\\Documents\\MASTER_DATA_SCIENTIST\\TFM_MSD\\SEED_FRA_OUTPUT\\NEUTRAL\\1_2_trial_16_signals.fif) does not conform to MNE naming conventions. All raw files should end with raw.fif, raw_sss.fif, raw_tsss.fif, _meg.fif, _eeg.fif, _ieeg.fif, raw.fif.gz, raw_sss.fif.gz, raw_tsss.fif.gz, _meg.fif.gz, _eeg.fif.gz or _ieeg.fif.gz\n",
      "  eeg_trial.save(output_path, overwrite=True)\n"
     ]
    },
    {
     "name": "stdout",
     "output_type": "stream",
     "text": [
      "Closing C:\\Users\\marco\\Documents\\MASTER_DATA_SCIENTIST\\TFM_MSD\\SEED_FRA_OUTPUT\\NEUTRAL\\1_2_trial_16_signals.fif\n",
      "[done]\n"
     ]
    },
    {
     "name": "stderr",
     "output_type": "stream",
     "text": [
      "\r",
      "Processing:  81%|████████████████████████████████████████████████████████▋             | 17/21 [00:33<00:07,  1.95s/it]"
     ]
    },
    {
     "name": "stdout",
     "output_type": "stream",
     "text": [
      "1000.0\n",
      "Writing C:\\Users\\marco\\Documents\\MASTER_DATA_SCIENTIST\\TFM_MSD\\SEED_FRA_OUTPUT\\POSITIVE\\1_2_trial_17_signals.fif\n"
     ]
    },
    {
     "name": "stderr",
     "output_type": "stream",
     "text": [
      "C:\\Users\\marco\\AppData\\Local\\Temp\\ipykernel_14260\\1741641518.py:44: RuntimeWarning: This filename (C:\\Users\\marco\\Documents\\MASTER_DATA_SCIENTIST\\TFM_MSD\\SEED_FRA_OUTPUT\\POSITIVE\\1_2_trial_17_signals.fif) does not conform to MNE naming conventions. All raw files should end with raw.fif, raw_sss.fif, raw_tsss.fif, _meg.fif, _eeg.fif, _ieeg.fif, raw.fif.gz, raw_sss.fif.gz, raw_tsss.fif.gz, _meg.fif.gz, _eeg.fif.gz or _ieeg.fif.gz\n",
      "  eeg_trial.save(output_path, overwrite=True)\n"
     ]
    },
    {
     "name": "stdout",
     "output_type": "stream",
     "text": [
      "Closing C:\\Users\\marco\\Documents\\MASTER_DATA_SCIENTIST\\TFM_MSD\\SEED_FRA_OUTPUT\\POSITIVE\\1_2_trial_17_signals.fif\n",
      "[done]\n"
     ]
    },
    {
     "name": "stderr",
     "output_type": "stream",
     "text": [
      "\r",
      "Processing:  86%|████████████████████████████████████████████████████████████          | 18/21 [00:35<00:05,  1.98s/it]"
     ]
    },
    {
     "name": "stdout",
     "output_type": "stream",
     "text": [
      "1000.0\n",
      "Writing C:\\Users\\marco\\Documents\\MASTER_DATA_SCIENTIST\\TFM_MSD\\SEED_FRA_OUTPUT\\NEGATIVE\\1_2_trial_18_signals.fif\n"
     ]
    },
    {
     "name": "stderr",
     "output_type": "stream",
     "text": [
      "C:\\Users\\marco\\AppData\\Local\\Temp\\ipykernel_14260\\1741641518.py:44: RuntimeWarning: This filename (C:\\Users\\marco\\Documents\\MASTER_DATA_SCIENTIST\\TFM_MSD\\SEED_FRA_OUTPUT\\NEGATIVE\\1_2_trial_18_signals.fif) does not conform to MNE naming conventions. All raw files should end with raw.fif, raw_sss.fif, raw_tsss.fif, _meg.fif, _eeg.fif, _ieeg.fif, raw.fif.gz, raw_sss.fif.gz, raw_tsss.fif.gz, _meg.fif.gz, _eeg.fif.gz or _ieeg.fif.gz\n",
      "  eeg_trial.save(output_path, overwrite=True)\n"
     ]
    },
    {
     "name": "stdout",
     "output_type": "stream",
     "text": [
      "Closing C:\\Users\\marco\\Documents\\MASTER_DATA_SCIENTIST\\TFM_MSD\\SEED_FRA_OUTPUT\\NEGATIVE\\1_2_trial_18_signals.fif\n",
      "[done]\n"
     ]
    },
    {
     "name": "stderr",
     "output_type": "stream",
     "text": [
      "\r",
      "Processing:  90%|███████████████████████████████████████████████████████████████▎      | 19/21 [00:37<00:04,  2.01s/it]"
     ]
    },
    {
     "name": "stdout",
     "output_type": "stream",
     "text": [
      "1000.0\n",
      "Writing C:\\Users\\marco\\Documents\\MASTER_DATA_SCIENTIST\\TFM_MSD\\SEED_FRA_OUTPUT\\NEUTRAL\\1_2_trial_19_signals.fif\n",
      "Closing C:\\Users\\marco\\Documents\\MASTER_DATA_SCIENTIST\\TFM_MSD\\SEED_FRA_OUTPUT\\NEUTRAL\\1_2_trial_19_signals.fif\n"
     ]
    },
    {
     "name": "stderr",
     "output_type": "stream",
     "text": [
      "C:\\Users\\marco\\AppData\\Local\\Temp\\ipykernel_14260\\1741641518.py:44: RuntimeWarning: This filename (C:\\Users\\marco\\Documents\\MASTER_DATA_SCIENTIST\\TFM_MSD\\SEED_FRA_OUTPUT\\NEUTRAL\\1_2_trial_19_signals.fif) does not conform to MNE naming conventions. All raw files should end with raw.fif, raw_sss.fif, raw_tsss.fif, _meg.fif, _eeg.fif, _ieeg.fif, raw.fif.gz, raw_sss.fif.gz, raw_tsss.fif.gz, _meg.fif.gz, _eeg.fif.gz or _ieeg.fif.gz\n",
      "  eeg_trial.save(output_path, overwrite=True)\n"
     ]
    },
    {
     "name": "stdout",
     "output_type": "stream",
     "text": [
      "[done]\n"
     ]
    },
    {
     "name": "stderr",
     "output_type": "stream",
     "text": [
      "\r",
      "Processing:  95%|██████████████████████████████████████████████████████████████████▋   | 20/21 [00:39<00:01,  1.96s/it]"
     ]
    },
    {
     "name": "stdout",
     "output_type": "stream",
     "text": [
      "1000.0\n",
      "Writing C:\\Users\\marco\\Documents\\MASTER_DATA_SCIENTIST\\TFM_MSD\\SEED_FRA_OUTPUT\\POSITIVE\\1_2_trial_20_signals.fif\n"
     ]
    },
    {
     "name": "stderr",
     "output_type": "stream",
     "text": [
      "C:\\Users\\marco\\AppData\\Local\\Temp\\ipykernel_14260\\1741641518.py:44: RuntimeWarning: This filename (C:\\Users\\marco\\Documents\\MASTER_DATA_SCIENTIST\\TFM_MSD\\SEED_FRA_OUTPUT\\POSITIVE\\1_2_trial_20_signals.fif) does not conform to MNE naming conventions. All raw files should end with raw.fif, raw_sss.fif, raw_tsss.fif, _meg.fif, _eeg.fif, _ieeg.fif, raw.fif.gz, raw_sss.fif.gz, raw_tsss.fif.gz, _meg.fif.gz, _eeg.fif.gz or _ieeg.fif.gz\n",
      "  eeg_trial.save(output_path, overwrite=True)\n"
     ]
    },
    {
     "name": "stdout",
     "output_type": "stream",
     "text": [
      "Closing C:\\Users\\marco\\Documents\\MASTER_DATA_SCIENTIST\\TFM_MSD\\SEED_FRA_OUTPUT\\POSITIVE\\1_2_trial_20_signals.fif\n",
      "[done]\n"
     ]
    },
    {
     "name": "stderr",
     "output_type": "stream",
     "text": [
      "Processing: 100%|██████████████████████████████████████████████████████████████████████| 21/21 [00:41<00:00,  1.99s/it]\n"
     ]
    },
    {
     "name": "stdout",
     "output_type": "stream",
     "text": [
      "Reading 0 ... 3954399  =      0.000 ...  3954.399 secs...\n"
     ]
    },
    {
     "name": "stderr",
     "output_type": "stream",
     "text": [
      "C:\\Users\\marco\\AppData\\Local\\Temp\\ipykernel_14260\\1741641518.py:4: RuntimeWarning:   Could not parse meas date from the header. Setting to None.\n",
      "  eeg_raw = mne.io.read_raw_cnt(_path, preload=True)\n"
     ]
    },
    {
     "name": "stdout",
     "output_type": "stream",
     "text": [
      "Filtering raw data in 1 contiguous segment\n",
      "Setting up band-pass filter from 0.5 - 55 Hz\n",
      "\n",
      "FIR filter parameters\n",
      "---------------------\n",
      "Designing a one-pass, zero-phase, non-causal bandpass filter:\n",
      "- Windowed time-domain design (firwin) method\n",
      "- Hamming window with 0.0194 passband ripple and 53 dB stopband attenuation\n",
      "- Lower passband edge: 0.50\n",
      "- Lower transition bandwidth: 0.50 Hz (-6 dB cutoff frequency: 0.25 Hz)\n",
      "- Upper passband edge: 55.00 Hz\n",
      "- Upper transition bandwidth: 13.75 Hz (-6 dB cutoff frequency: 61.88 Hz)\n",
      "- Filter length: 6601 samples (6.601 sec)\n",
      "\n"
     ]
    },
    {
     "name": "stderr",
     "output_type": "stream",
     "text": [
      "\r",
      "Processing:   0%|                                                                               | 0/21 [00:00<?, ?it/s]"
     ]
    },
    {
     "name": "stdout",
     "output_type": "stream",
     "text": [
      "1000.0\n",
      "Writing C:\\Users\\marco\\Documents\\MASTER_DATA_SCIENTIST\\TFM_MSD\\SEED_FRA_OUTPUT\\POSITIVE\\1_3_trial_0_signals.fif\n"
     ]
    },
    {
     "name": "stderr",
     "output_type": "stream",
     "text": [
      "C:\\Users\\marco\\AppData\\Local\\Temp\\ipykernel_14260\\1741641518.py:44: RuntimeWarning: This filename (C:\\Users\\marco\\Documents\\MASTER_DATA_SCIENTIST\\TFM_MSD\\SEED_FRA_OUTPUT\\POSITIVE\\1_3_trial_0_signals.fif) does not conform to MNE naming conventions. All raw files should end with raw.fif, raw_sss.fif, raw_tsss.fif, _meg.fif, _eeg.fif, _ieeg.fif, raw.fif.gz, raw_sss.fif.gz, raw_tsss.fif.gz, _meg.fif.gz, _eeg.fif.gz or _ieeg.fif.gz\n",
      "  eeg_trial.save(output_path, overwrite=True)\n"
     ]
    },
    {
     "name": "stdout",
     "output_type": "stream",
     "text": [
      "Closing C:\\Users\\marco\\Documents\\MASTER_DATA_SCIENTIST\\TFM_MSD\\SEED_FRA_OUTPUT\\POSITIVE\\1_3_trial_0_signals.fif\n",
      "[done]\n"
     ]
    },
    {
     "name": "stderr",
     "output_type": "stream",
     "text": [
      "\r",
      "Processing:   5%|███▍                                                                   | 1/21 [00:01<00:38,  1.92s/it]"
     ]
    },
    {
     "name": "stdout",
     "output_type": "stream",
     "text": [
      "1000.0\n",
      "Writing C:\\Users\\marco\\Documents\\MASTER_DATA_SCIENTIST\\TFM_MSD\\SEED_FRA_OUTPUT\\NEGATIVE\\1_3_trial_1_signals.fif\n"
     ]
    },
    {
     "name": "stderr",
     "output_type": "stream",
     "text": [
      "C:\\Users\\marco\\AppData\\Local\\Temp\\ipykernel_14260\\1741641518.py:44: RuntimeWarning: This filename (C:\\Users\\marco\\Documents\\MASTER_DATA_SCIENTIST\\TFM_MSD\\SEED_FRA_OUTPUT\\NEGATIVE\\1_3_trial_1_signals.fif) does not conform to MNE naming conventions. All raw files should end with raw.fif, raw_sss.fif, raw_tsss.fif, _meg.fif, _eeg.fif, _ieeg.fif, raw.fif.gz, raw_sss.fif.gz, raw_tsss.fif.gz, _meg.fif.gz, _eeg.fif.gz or _ieeg.fif.gz\n",
      "  eeg_trial.save(output_path, overwrite=True)\n"
     ]
    },
    {
     "name": "stdout",
     "output_type": "stream",
     "text": [
      "Closing C:\\Users\\marco\\Documents\\MASTER_DATA_SCIENTIST\\TFM_MSD\\SEED_FRA_OUTPUT\\NEGATIVE\\1_3_trial_1_signals.fif\n",
      "[done]\n"
     ]
    },
    {
     "name": "stderr",
     "output_type": "stream",
     "text": [
      "\r",
      "Processing:  10%|██████▊                                                                | 2/21 [00:03<00:36,  1.93s/it]"
     ]
    },
    {
     "name": "stdout",
     "output_type": "stream",
     "text": [
      "1000.0\n",
      "Writing C:\\Users\\marco\\Documents\\MASTER_DATA_SCIENTIST\\TFM_MSD\\SEED_FRA_OUTPUT\\NEUTRAL\\1_3_trial_2_signals.fif\n"
     ]
    },
    {
     "name": "stderr",
     "output_type": "stream",
     "text": [
      "C:\\Users\\marco\\AppData\\Local\\Temp\\ipykernel_14260\\1741641518.py:44: RuntimeWarning: This filename (C:\\Users\\marco\\Documents\\MASTER_DATA_SCIENTIST\\TFM_MSD\\SEED_FRA_OUTPUT\\NEUTRAL\\1_3_trial_2_signals.fif) does not conform to MNE naming conventions. All raw files should end with raw.fif, raw_sss.fif, raw_tsss.fif, _meg.fif, _eeg.fif, _ieeg.fif, raw.fif.gz, raw_sss.fif.gz, raw_tsss.fif.gz, _meg.fif.gz, _eeg.fif.gz or _ieeg.fif.gz\n",
      "  eeg_trial.save(output_path, overwrite=True)\n"
     ]
    },
    {
     "name": "stdout",
     "output_type": "stream",
     "text": [
      "Closing C:\\Users\\marco\\Documents\\MASTER_DATA_SCIENTIST\\TFM_MSD\\SEED_FRA_OUTPUT\\NEUTRAL\\1_3_trial_2_signals.fif\n",
      "[done]\n"
     ]
    },
    {
     "name": "stderr",
     "output_type": "stream",
     "text": [
      "\r",
      "Processing:  14%|██████████▏                                                            | 3/21 [00:05<00:36,  2.01s/it]"
     ]
    },
    {
     "name": "stdout",
     "output_type": "stream",
     "text": [
      "1000.0\n",
      "Writing C:\\Users\\marco\\Documents\\MASTER_DATA_SCIENTIST\\TFM_MSD\\SEED_FRA_OUTPUT\\NEGATIVE\\1_3_trial_3_signals.fif\n"
     ]
    },
    {
     "name": "stderr",
     "output_type": "stream",
     "text": [
      "C:\\Users\\marco\\AppData\\Local\\Temp\\ipykernel_14260\\1741641518.py:44: RuntimeWarning: This filename (C:\\Users\\marco\\Documents\\MASTER_DATA_SCIENTIST\\TFM_MSD\\SEED_FRA_OUTPUT\\NEGATIVE\\1_3_trial_3_signals.fif) does not conform to MNE naming conventions. All raw files should end with raw.fif, raw_sss.fif, raw_tsss.fif, _meg.fif, _eeg.fif, _ieeg.fif, raw.fif.gz, raw_sss.fif.gz, raw_tsss.fif.gz, _meg.fif.gz, _eeg.fif.gz or _ieeg.fif.gz\n",
      "  eeg_trial.save(output_path, overwrite=True)\n"
     ]
    },
    {
     "name": "stdout",
     "output_type": "stream",
     "text": [
      "Closing C:\\Users\\marco\\Documents\\MASTER_DATA_SCIENTIST\\TFM_MSD\\SEED_FRA_OUTPUT\\NEGATIVE\\1_3_trial_3_signals.fif\n",
      "[done]\n"
     ]
    },
    {
     "name": "stderr",
     "output_type": "stream",
     "text": [
      "\r",
      "Processing:  19%|█████████████▌                                                         | 4/21 [00:08<00:37,  2.22s/it]"
     ]
    },
    {
     "name": "stdout",
     "output_type": "stream",
     "text": [
      "1000.0\n",
      "Writing C:\\Users\\marco\\Documents\\MASTER_DATA_SCIENTIST\\TFM_MSD\\SEED_FRA_OUTPUT\\POSITIVE\\1_3_trial_4_signals.fif\n"
     ]
    },
    {
     "name": "stderr",
     "output_type": "stream",
     "text": [
      "C:\\Users\\marco\\AppData\\Local\\Temp\\ipykernel_14260\\1741641518.py:44: RuntimeWarning: This filename (C:\\Users\\marco\\Documents\\MASTER_DATA_SCIENTIST\\TFM_MSD\\SEED_FRA_OUTPUT\\POSITIVE\\1_3_trial_4_signals.fif) does not conform to MNE naming conventions. All raw files should end with raw.fif, raw_sss.fif, raw_tsss.fif, _meg.fif, _eeg.fif, _ieeg.fif, raw.fif.gz, raw_sss.fif.gz, raw_tsss.fif.gz, _meg.fif.gz, _eeg.fif.gz or _ieeg.fif.gz\n",
      "  eeg_trial.save(output_path, overwrite=True)\n"
     ]
    },
    {
     "name": "stdout",
     "output_type": "stream",
     "text": [
      "Closing C:\\Users\\marco\\Documents\\MASTER_DATA_SCIENTIST\\TFM_MSD\\SEED_FRA_OUTPUT\\POSITIVE\\1_3_trial_4_signals.fif\n",
      "[done]\n"
     ]
    },
    {
     "name": "stderr",
     "output_type": "stream",
     "text": [
      "\r",
      "Processing:  24%|████████████████▉                                                      | 5/21 [00:10<00:34,  2.13s/it]"
     ]
    },
    {
     "name": "stdout",
     "output_type": "stream",
     "text": [
      "1000.0\n",
      "Writing C:\\Users\\marco\\Documents\\MASTER_DATA_SCIENTIST\\TFM_MSD\\SEED_FRA_OUTPUT\\NEUTRAL\\1_3_trial_5_signals.fif\n"
     ]
    },
    {
     "name": "stderr",
     "output_type": "stream",
     "text": [
      "C:\\Users\\marco\\AppData\\Local\\Temp\\ipykernel_14260\\1741641518.py:44: RuntimeWarning: This filename (C:\\Users\\marco\\Documents\\MASTER_DATA_SCIENTIST\\TFM_MSD\\SEED_FRA_OUTPUT\\NEUTRAL\\1_3_trial_5_signals.fif) does not conform to MNE naming conventions. All raw files should end with raw.fif, raw_sss.fif, raw_tsss.fif, _meg.fif, _eeg.fif, _ieeg.fif, raw.fif.gz, raw_sss.fif.gz, raw_tsss.fif.gz, _meg.fif.gz, _eeg.fif.gz or _ieeg.fif.gz\n",
      "  eeg_trial.save(output_path, overwrite=True)\n"
     ]
    },
    {
     "name": "stdout",
     "output_type": "stream",
     "text": [
      "Closing C:\\Users\\marco\\Documents\\MASTER_DATA_SCIENTIST\\TFM_MSD\\SEED_FRA_OUTPUT\\NEUTRAL\\1_3_trial_5_signals.fif\n",
      "[done]\n"
     ]
    },
    {
     "name": "stderr",
     "output_type": "stream",
     "text": [
      "\r",
      "Processing:  29%|████████████████████▎                                                  | 6/21 [00:12<00:31,  2.07s/it]"
     ]
    },
    {
     "name": "stdout",
     "output_type": "stream",
     "text": [
      "1000.0\n",
      "Writing C:\\Users\\marco\\Documents\\MASTER_DATA_SCIENTIST\\TFM_MSD\\SEED_FRA_OUTPUT\\NEGATIVE\\1_3_trial_6_signals.fif\n"
     ]
    },
    {
     "name": "stderr",
     "output_type": "stream",
     "text": [
      "C:\\Users\\marco\\AppData\\Local\\Temp\\ipykernel_14260\\1741641518.py:44: RuntimeWarning: This filename (C:\\Users\\marco\\Documents\\MASTER_DATA_SCIENTIST\\TFM_MSD\\SEED_FRA_OUTPUT\\NEGATIVE\\1_3_trial_6_signals.fif) does not conform to MNE naming conventions. All raw files should end with raw.fif, raw_sss.fif, raw_tsss.fif, _meg.fif, _eeg.fif, _ieeg.fif, raw.fif.gz, raw_sss.fif.gz, raw_tsss.fif.gz, _meg.fif.gz, _eeg.fif.gz or _ieeg.fif.gz\n",
      "  eeg_trial.save(output_path, overwrite=True)\n"
     ]
    },
    {
     "name": "stdout",
     "output_type": "stream",
     "text": [
      "Closing C:\\Users\\marco\\Documents\\MASTER_DATA_SCIENTIST\\TFM_MSD\\SEED_FRA_OUTPUT\\NEGATIVE\\1_3_trial_6_signals.fif\n",
      "[done]\n"
     ]
    },
    {
     "name": "stderr",
     "output_type": "stream",
     "text": [
      "\r",
      "Processing:  33%|███████████████████████▋                                               | 7/21 [00:14<00:30,  2.16s/it]"
     ]
    },
    {
     "name": "stdout",
     "output_type": "stream",
     "text": [
      "1000.0\n",
      "Writing C:\\Users\\marco\\Documents\\MASTER_DATA_SCIENTIST\\TFM_MSD\\SEED_FRA_OUTPUT\\NEUTRAL\\1_3_trial_7_signals.fif\n"
     ]
    },
    {
     "name": "stderr",
     "output_type": "stream",
     "text": [
      "C:\\Users\\marco\\AppData\\Local\\Temp\\ipykernel_14260\\1741641518.py:44: RuntimeWarning: This filename (C:\\Users\\marco\\Documents\\MASTER_DATA_SCIENTIST\\TFM_MSD\\SEED_FRA_OUTPUT\\NEUTRAL\\1_3_trial_7_signals.fif) does not conform to MNE naming conventions. All raw files should end with raw.fif, raw_sss.fif, raw_tsss.fif, _meg.fif, _eeg.fif, _ieeg.fif, raw.fif.gz, raw_sss.fif.gz, raw_tsss.fif.gz, _meg.fif.gz, _eeg.fif.gz or _ieeg.fif.gz\n",
      "  eeg_trial.save(output_path, overwrite=True)\n"
     ]
    },
    {
     "name": "stdout",
     "output_type": "stream",
     "text": [
      "Closing C:\\Users\\marco\\Documents\\MASTER_DATA_SCIENTIST\\TFM_MSD\\SEED_FRA_OUTPUT\\NEUTRAL\\1_3_trial_7_signals.fif\n",
      "[done]\n"
     ]
    },
    {
     "name": "stderr",
     "output_type": "stream",
     "text": [
      "\r",
      "Processing:  38%|███████████████████████████                                            | 8/21 [00:16<00:27,  2.09s/it]"
     ]
    },
    {
     "name": "stdout",
     "output_type": "stream",
     "text": [
      "1000.0\n",
      "Writing C:\\Users\\marco\\Documents\\MASTER_DATA_SCIENTIST\\TFM_MSD\\SEED_FRA_OUTPUT\\POSITIVE\\1_3_trial_8_signals.fif\n"
     ]
    },
    {
     "name": "stderr",
     "output_type": "stream",
     "text": [
      "C:\\Users\\marco\\AppData\\Local\\Temp\\ipykernel_14260\\1741641518.py:44: RuntimeWarning: This filename (C:\\Users\\marco\\Documents\\MASTER_DATA_SCIENTIST\\TFM_MSD\\SEED_FRA_OUTPUT\\POSITIVE\\1_3_trial_8_signals.fif) does not conform to MNE naming conventions. All raw files should end with raw.fif, raw_sss.fif, raw_tsss.fif, _meg.fif, _eeg.fif, _ieeg.fif, raw.fif.gz, raw_sss.fif.gz, raw_tsss.fif.gz, _meg.fif.gz, _eeg.fif.gz or _ieeg.fif.gz\n",
      "  eeg_trial.save(output_path, overwrite=True)\n"
     ]
    },
    {
     "name": "stdout",
     "output_type": "stream",
     "text": [
      "Closing C:\\Users\\marco\\Documents\\MASTER_DATA_SCIENTIST\\TFM_MSD\\SEED_FRA_OUTPUT\\POSITIVE\\1_3_trial_8_signals.fif\n",
      "[done]\n"
     ]
    },
    {
     "name": "stderr",
     "output_type": "stream",
     "text": [
      "\r",
      "Processing:  43%|██████████████████████████████▍                                        | 9/21 [00:18<00:24,  2.04s/it]"
     ]
    },
    {
     "name": "stdout",
     "output_type": "stream",
     "text": [
      "1000.0\n",
      "Writing C:\\Users\\marco\\Documents\\MASTER_DATA_SCIENTIST\\TFM_MSD\\SEED_FRA_OUTPUT\\NEGATIVE\\1_3_trial_9_signals.fif\n"
     ]
    },
    {
     "name": "stderr",
     "output_type": "stream",
     "text": [
      "C:\\Users\\marco\\AppData\\Local\\Temp\\ipykernel_14260\\1741641518.py:44: RuntimeWarning: This filename (C:\\Users\\marco\\Documents\\MASTER_DATA_SCIENTIST\\TFM_MSD\\SEED_FRA_OUTPUT\\NEGATIVE\\1_3_trial_9_signals.fif) does not conform to MNE naming conventions. All raw files should end with raw.fif, raw_sss.fif, raw_tsss.fif, _meg.fif, _eeg.fif, _ieeg.fif, raw.fif.gz, raw_sss.fif.gz, raw_tsss.fif.gz, _meg.fif.gz, _eeg.fif.gz or _ieeg.fif.gz\n",
      "  eeg_trial.save(output_path, overwrite=True)\n"
     ]
    },
    {
     "name": "stdout",
     "output_type": "stream",
     "text": [
      "Closing C:\\Users\\marco\\Documents\\MASTER_DATA_SCIENTIST\\TFM_MSD\\SEED_FRA_OUTPUT\\NEGATIVE\\1_3_trial_9_signals.fif\n",
      "[done]\n"
     ]
    },
    {
     "name": "stderr",
     "output_type": "stream",
     "text": [
      "\r",
      "Processing:  48%|█████████████████████████████████▎                                    | 10/21 [00:21<00:23,  2.17s/it]"
     ]
    },
    {
     "name": "stdout",
     "output_type": "stream",
     "text": [
      "1000.0\n",
      "Writing C:\\Users\\marco\\Documents\\MASTER_DATA_SCIENTIST\\TFM_MSD\\SEED_FRA_OUTPUT\\NEUTRAL\\1_3_trial_10_signals.fif\n"
     ]
    },
    {
     "name": "stderr",
     "output_type": "stream",
     "text": [
      "C:\\Users\\marco\\AppData\\Local\\Temp\\ipykernel_14260\\1741641518.py:44: RuntimeWarning: This filename (C:\\Users\\marco\\Documents\\MASTER_DATA_SCIENTIST\\TFM_MSD\\SEED_FRA_OUTPUT\\NEUTRAL\\1_3_trial_10_signals.fif) does not conform to MNE naming conventions. All raw files should end with raw.fif, raw_sss.fif, raw_tsss.fif, _meg.fif, _eeg.fif, _ieeg.fif, raw.fif.gz, raw_sss.fif.gz, raw_tsss.fif.gz, _meg.fif.gz, _eeg.fif.gz or _ieeg.fif.gz\n",
      "  eeg_trial.save(output_path, overwrite=True)\n"
     ]
    },
    {
     "name": "stdout",
     "output_type": "stream",
     "text": [
      "Closing C:\\Users\\marco\\Documents\\MASTER_DATA_SCIENTIST\\TFM_MSD\\SEED_FRA_OUTPUT\\NEUTRAL\\1_3_trial_10_signals.fif\n",
      "[done]\n"
     ]
    },
    {
     "name": "stderr",
     "output_type": "stream",
     "text": [
      "\r",
      "Processing:  52%|████████████████████████████████████▋                                 | 11/21 [00:23<00:21,  2.17s/it]"
     ]
    },
    {
     "name": "stdout",
     "output_type": "stream",
     "text": [
      "1000.0\n",
      "Writing C:\\Users\\marco\\Documents\\MASTER_DATA_SCIENTIST\\TFM_MSD\\SEED_FRA_OUTPUT\\POSITIVE\\1_3_trial_11_signals.fif\n"
     ]
    },
    {
     "name": "stderr",
     "output_type": "stream",
     "text": [
      "C:\\Users\\marco\\AppData\\Local\\Temp\\ipykernel_14260\\1741641518.py:44: RuntimeWarning: This filename (C:\\Users\\marco\\Documents\\MASTER_DATA_SCIENTIST\\TFM_MSD\\SEED_FRA_OUTPUT\\POSITIVE\\1_3_trial_11_signals.fif) does not conform to MNE naming conventions. All raw files should end with raw.fif, raw_sss.fif, raw_tsss.fif, _meg.fif, _eeg.fif, _ieeg.fif, raw.fif.gz, raw_sss.fif.gz, raw_tsss.fif.gz, _meg.fif.gz, _eeg.fif.gz or _ieeg.fif.gz\n",
      "  eeg_trial.save(output_path, overwrite=True)\n"
     ]
    },
    {
     "name": "stdout",
     "output_type": "stream",
     "text": [
      "Closing C:\\Users\\marco\\Documents\\MASTER_DATA_SCIENTIST\\TFM_MSD\\SEED_FRA_OUTPUT\\POSITIVE\\1_3_trial_11_signals.fif\n",
      "[done]\n"
     ]
    },
    {
     "name": "stderr",
     "output_type": "stream",
     "text": [
      "\r",
      "Processing:  57%|████████████████████████████████████████                              | 12/21 [00:25<00:19,  2.14s/it]"
     ]
    },
    {
     "name": "stdout",
     "output_type": "stream",
     "text": [
      "1000.0\n",
      "Writing C:\\Users\\marco\\Documents\\MASTER_DATA_SCIENTIST\\TFM_MSD\\SEED_FRA_OUTPUT\\POSITIVE\\1_3_trial_12_signals.fif\n"
     ]
    },
    {
     "name": "stderr",
     "output_type": "stream",
     "text": [
      "C:\\Users\\marco\\AppData\\Local\\Temp\\ipykernel_14260\\1741641518.py:44: RuntimeWarning: This filename (C:\\Users\\marco\\Documents\\MASTER_DATA_SCIENTIST\\TFM_MSD\\SEED_FRA_OUTPUT\\POSITIVE\\1_3_trial_12_signals.fif) does not conform to MNE naming conventions. All raw files should end with raw.fif, raw_sss.fif, raw_tsss.fif, _meg.fif, _eeg.fif, _ieeg.fif, raw.fif.gz, raw_sss.fif.gz, raw_tsss.fif.gz, _meg.fif.gz, _eeg.fif.gz or _ieeg.fif.gz\n",
      "  eeg_trial.save(output_path, overwrite=True)\n"
     ]
    },
    {
     "name": "stdout",
     "output_type": "stream",
     "text": [
      "Closing C:\\Users\\marco\\Documents\\MASTER_DATA_SCIENTIST\\TFM_MSD\\SEED_FRA_OUTPUT\\POSITIVE\\1_3_trial_12_signals.fif\n",
      "[done]\n"
     ]
    },
    {
     "name": "stderr",
     "output_type": "stream",
     "text": [
      "\r",
      "Processing:  62%|███████████████████████████████████████████▎                          | 13/21 [00:27<00:16,  2.05s/it]"
     ]
    },
    {
     "name": "stdout",
     "output_type": "stream",
     "text": [
      "1000.0\n",
      "Writing C:\\Users\\marco\\Documents\\MASTER_DATA_SCIENTIST\\TFM_MSD\\SEED_FRA_OUTPUT\\NEUTRAL\\1_3_trial_13_signals.fif\n"
     ]
    },
    {
     "name": "stderr",
     "output_type": "stream",
     "text": [
      "C:\\Users\\marco\\AppData\\Local\\Temp\\ipykernel_14260\\1741641518.py:44: RuntimeWarning: This filename (C:\\Users\\marco\\Documents\\MASTER_DATA_SCIENTIST\\TFM_MSD\\SEED_FRA_OUTPUT\\NEUTRAL\\1_3_trial_13_signals.fif) does not conform to MNE naming conventions. All raw files should end with raw.fif, raw_sss.fif, raw_tsss.fif, _meg.fif, _eeg.fif, _ieeg.fif, raw.fif.gz, raw_sss.fif.gz, raw_tsss.fif.gz, _meg.fif.gz, _eeg.fif.gz or _ieeg.fif.gz\n",
      "  eeg_trial.save(output_path, overwrite=True)\n"
     ]
    },
    {
     "name": "stdout",
     "output_type": "stream",
     "text": [
      "Closing C:\\Users\\marco\\Documents\\MASTER_DATA_SCIENTIST\\TFM_MSD\\SEED_FRA_OUTPUT\\NEUTRAL\\1_3_trial_13_signals.fif\n",
      "[done]\n"
     ]
    },
    {
     "name": "stderr",
     "output_type": "stream",
     "text": [
      "\r",
      "Processing:  67%|██████████████████████████████████████████████▋                       | 14/21 [00:29<00:13,  2.00s/it]"
     ]
    },
    {
     "name": "stdout",
     "output_type": "stream",
     "text": [
      "1000.0\n",
      "Writing C:\\Users\\marco\\Documents\\MASTER_DATA_SCIENTIST\\TFM_MSD\\SEED_FRA_OUTPUT\\NEGATIVE\\1_3_trial_14_signals.fif\n"
     ]
    },
    {
     "name": "stderr",
     "output_type": "stream",
     "text": [
      "C:\\Users\\marco\\AppData\\Local\\Temp\\ipykernel_14260\\1741641518.py:44: RuntimeWarning: This filename (C:\\Users\\marco\\Documents\\MASTER_DATA_SCIENTIST\\TFM_MSD\\SEED_FRA_OUTPUT\\NEGATIVE\\1_3_trial_14_signals.fif) does not conform to MNE naming conventions. All raw files should end with raw.fif, raw_sss.fif, raw_tsss.fif, _meg.fif, _eeg.fif, _ieeg.fif, raw.fif.gz, raw_sss.fif.gz, raw_tsss.fif.gz, _meg.fif.gz, _eeg.fif.gz or _ieeg.fif.gz\n",
      "  eeg_trial.save(output_path, overwrite=True)\n"
     ]
    },
    {
     "name": "stdout",
     "output_type": "stream",
     "text": [
      "Closing C:\\Users\\marco\\Documents\\MASTER_DATA_SCIENTIST\\TFM_MSD\\SEED_FRA_OUTPUT\\NEGATIVE\\1_3_trial_14_signals.fif\n",
      "[done]\n"
     ]
    },
    {
     "name": "stderr",
     "output_type": "stream",
     "text": [
      "\r",
      "Processing:  71%|██████████████████████████████████████████████████                    | 15/21 [00:30<00:11,  1.97s/it]"
     ]
    },
    {
     "name": "stdout",
     "output_type": "stream",
     "text": [
      "1000.0\n",
      "Writing C:\\Users\\marco\\Documents\\MASTER_DATA_SCIENTIST\\TFM_MSD\\SEED_FRA_OUTPUT\\NEGATIVE\\1_3_trial_15_signals.fif\n",
      "Closing C:\\Users\\marco\\Documents\\MASTER_DATA_SCIENTIST\\TFM_MSD\\SEED_FRA_OUTPUT\\NEGATIVE\\1_3_trial_15_signals.fif\n"
     ]
    },
    {
     "name": "stderr",
     "output_type": "stream",
     "text": [
      "C:\\Users\\marco\\AppData\\Local\\Temp\\ipykernel_14260\\1741641518.py:44: RuntimeWarning: This filename (C:\\Users\\marco\\Documents\\MASTER_DATA_SCIENTIST\\TFM_MSD\\SEED_FRA_OUTPUT\\NEGATIVE\\1_3_trial_15_signals.fif) does not conform to MNE naming conventions. All raw files should end with raw.fif, raw_sss.fif, raw_tsss.fif, _meg.fif, _eeg.fif, _ieeg.fif, raw.fif.gz, raw_sss.fif.gz, raw_tsss.fif.gz, _meg.fif.gz, _eeg.fif.gz or _ieeg.fif.gz\n",
      "  eeg_trial.save(output_path, overwrite=True)\n"
     ]
    },
    {
     "name": "stdout",
     "output_type": "stream",
     "text": [
      "[done]\n"
     ]
    },
    {
     "name": "stderr",
     "output_type": "stream",
     "text": [
      "\r",
      "Processing:  76%|█████████████████████████████████████████████████████▎                | 16/21 [00:32<00:09,  1.87s/it]"
     ]
    },
    {
     "name": "stdout",
     "output_type": "stream",
     "text": [
      "1000.0\n",
      "Writing C:\\Users\\marco\\Documents\\MASTER_DATA_SCIENTIST\\TFM_MSD\\SEED_FRA_OUTPUT\\NEUTRAL\\1_3_trial_16_signals.fif\n"
     ]
    },
    {
     "name": "stderr",
     "output_type": "stream",
     "text": [
      "C:\\Users\\marco\\AppData\\Local\\Temp\\ipykernel_14260\\1741641518.py:44: RuntimeWarning: This filename (C:\\Users\\marco\\Documents\\MASTER_DATA_SCIENTIST\\TFM_MSD\\SEED_FRA_OUTPUT\\NEUTRAL\\1_3_trial_16_signals.fif) does not conform to MNE naming conventions. All raw files should end with raw.fif, raw_sss.fif, raw_tsss.fif, _meg.fif, _eeg.fif, _ieeg.fif, raw.fif.gz, raw_sss.fif.gz, raw_tsss.fif.gz, _meg.fif.gz, _eeg.fif.gz or _ieeg.fif.gz\n",
      "  eeg_trial.save(output_path, overwrite=True)\n"
     ]
    },
    {
     "name": "stdout",
     "output_type": "stream",
     "text": [
      "Closing C:\\Users\\marco\\Documents\\MASTER_DATA_SCIENTIST\\TFM_MSD\\SEED_FRA_OUTPUT\\NEUTRAL\\1_3_trial_16_signals.fif\n",
      "[done]\n"
     ]
    },
    {
     "name": "stderr",
     "output_type": "stream",
     "text": [
      "\r",
      "Processing:  81%|████████████████████████████████████████████████████████▋             | 17/21 [00:34<00:07,  1.90s/it]"
     ]
    },
    {
     "name": "stdout",
     "output_type": "stream",
     "text": [
      "1000.0\n",
      "Writing C:\\Users\\marco\\Documents\\MASTER_DATA_SCIENTIST\\TFM_MSD\\SEED_FRA_OUTPUT\\POSITIVE\\1_3_trial_17_signals.fif\n"
     ]
    },
    {
     "name": "stderr",
     "output_type": "stream",
     "text": [
      "C:\\Users\\marco\\AppData\\Local\\Temp\\ipykernel_14260\\1741641518.py:44: RuntimeWarning: This filename (C:\\Users\\marco\\Documents\\MASTER_DATA_SCIENTIST\\TFM_MSD\\SEED_FRA_OUTPUT\\POSITIVE\\1_3_trial_17_signals.fif) does not conform to MNE naming conventions. All raw files should end with raw.fif, raw_sss.fif, raw_tsss.fif, _meg.fif, _eeg.fif, _ieeg.fif, raw.fif.gz, raw_sss.fif.gz, raw_tsss.fif.gz, _meg.fif.gz, _eeg.fif.gz or _ieeg.fif.gz\n",
      "  eeg_trial.save(output_path, overwrite=True)\n"
     ]
    },
    {
     "name": "stdout",
     "output_type": "stream",
     "text": [
      "Closing C:\\Users\\marco\\Documents\\MASTER_DATA_SCIENTIST\\TFM_MSD\\SEED_FRA_OUTPUT\\POSITIVE\\1_3_trial_17_signals.fif\n",
      "[done]\n"
     ]
    },
    {
     "name": "stderr",
     "output_type": "stream",
     "text": [
      "\r",
      "Processing:  86%|████████████████████████████████████████████████████████████          | 18/21 [00:36<00:05,  1.94s/it]"
     ]
    },
    {
     "name": "stdout",
     "output_type": "stream",
     "text": [
      "1000.0\n",
      "Writing C:\\Users\\marco\\Documents\\MASTER_DATA_SCIENTIST\\TFM_MSD\\SEED_FRA_OUTPUT\\NEGATIVE\\1_3_trial_18_signals.fif\n"
     ]
    },
    {
     "name": "stderr",
     "output_type": "stream",
     "text": [
      "C:\\Users\\marco\\AppData\\Local\\Temp\\ipykernel_14260\\1741641518.py:44: RuntimeWarning: This filename (C:\\Users\\marco\\Documents\\MASTER_DATA_SCIENTIST\\TFM_MSD\\SEED_FRA_OUTPUT\\NEGATIVE\\1_3_trial_18_signals.fif) does not conform to MNE naming conventions. All raw files should end with raw.fif, raw_sss.fif, raw_tsss.fif, _meg.fif, _eeg.fif, _ieeg.fif, raw.fif.gz, raw_sss.fif.gz, raw_tsss.fif.gz, _meg.fif.gz, _eeg.fif.gz or _ieeg.fif.gz\n",
      "  eeg_trial.save(output_path, overwrite=True)\n"
     ]
    },
    {
     "name": "stdout",
     "output_type": "stream",
     "text": [
      "Closing C:\\Users\\marco\\Documents\\MASTER_DATA_SCIENTIST\\TFM_MSD\\SEED_FRA_OUTPUT\\NEGATIVE\\1_3_trial_18_signals.fif\n",
      "[done]\n"
     ]
    },
    {
     "name": "stderr",
     "output_type": "stream",
     "text": [
      "\r",
      "Processing:  90%|███████████████████████████████████████████████████████████████▎      | 19/21 [00:38<00:03,  1.95s/it]"
     ]
    },
    {
     "name": "stdout",
     "output_type": "stream",
     "text": [
      "1000.0\n",
      "Writing C:\\Users\\marco\\Documents\\MASTER_DATA_SCIENTIST\\TFM_MSD\\SEED_FRA_OUTPUT\\NEUTRAL\\1_3_trial_19_signals.fif\n"
     ]
    },
    {
     "name": "stderr",
     "output_type": "stream",
     "text": [
      "C:\\Users\\marco\\AppData\\Local\\Temp\\ipykernel_14260\\1741641518.py:44: RuntimeWarning: This filename (C:\\Users\\marco\\Documents\\MASTER_DATA_SCIENTIST\\TFM_MSD\\SEED_FRA_OUTPUT\\NEUTRAL\\1_3_trial_19_signals.fif) does not conform to MNE naming conventions. All raw files should end with raw.fif, raw_sss.fif, raw_tsss.fif, _meg.fif, _eeg.fif, _ieeg.fif, raw.fif.gz, raw_sss.fif.gz, raw_tsss.fif.gz, _meg.fif.gz, _eeg.fif.gz or _ieeg.fif.gz\n",
      "  eeg_trial.save(output_path, overwrite=True)\n"
     ]
    },
    {
     "name": "stdout",
     "output_type": "stream",
     "text": [
      "Closing C:\\Users\\marco\\Documents\\MASTER_DATA_SCIENTIST\\TFM_MSD\\SEED_FRA_OUTPUT\\NEUTRAL\\1_3_trial_19_signals.fif\n",
      "[done]\n"
     ]
    },
    {
     "name": "stderr",
     "output_type": "stream",
     "text": [
      "\r",
      "Processing:  95%|██████████████████████████████████████████████████████████████████▋   | 20/21 [00:40<00:01,  1.95s/it]"
     ]
    },
    {
     "name": "stdout",
     "output_type": "stream",
     "text": [
      "1000.0\n",
      "Writing C:\\Users\\marco\\Documents\\MASTER_DATA_SCIENTIST\\TFM_MSD\\SEED_FRA_OUTPUT\\POSITIVE\\1_3_trial_20_signals.fif\n"
     ]
    },
    {
     "name": "stderr",
     "output_type": "stream",
     "text": [
      "C:\\Users\\marco\\AppData\\Local\\Temp\\ipykernel_14260\\1741641518.py:44: RuntimeWarning: This filename (C:\\Users\\marco\\Documents\\MASTER_DATA_SCIENTIST\\TFM_MSD\\SEED_FRA_OUTPUT\\POSITIVE\\1_3_trial_20_signals.fif) does not conform to MNE naming conventions. All raw files should end with raw.fif, raw_sss.fif, raw_tsss.fif, _meg.fif, _eeg.fif, _ieeg.fif, raw.fif.gz, raw_sss.fif.gz, raw_tsss.fif.gz, _meg.fif.gz, _eeg.fif.gz or _ieeg.fif.gz\n",
      "  eeg_trial.save(output_path, overwrite=True)\n"
     ]
    },
    {
     "name": "stdout",
     "output_type": "stream",
     "text": [
      "Closing C:\\Users\\marco\\Documents\\MASTER_DATA_SCIENTIST\\TFM_MSD\\SEED_FRA_OUTPUT\\POSITIVE\\1_3_trial_20_signals.fif\n",
      "[done]\n"
     ]
    },
    {
     "name": "stderr",
     "output_type": "stream",
     "text": [
      "Processing: 100%|██████████████████████████████████████████████████████████████████████| 21/21 [00:42<00:00,  2.03s/it]\n"
     ]
    },
    {
     "name": "stdout",
     "output_type": "stream",
     "text": [
      "Reading 0 ... 3823839  =      0.000 ...  3823.839 secs...\n",
      "Filtering raw data in 1 contiguous segment\n",
      "Setting up band-pass filter from 0.5 - 55 Hz\n",
      "\n",
      "FIR filter parameters\n",
      "---------------------\n",
      "Designing a one-pass, zero-phase, non-causal bandpass filter:\n",
      "- Windowed time-domain design (firwin) method\n",
      "- Hamming window with 0.0194 passband ripple and 53 dB stopband attenuation\n",
      "- Lower passband edge: 0.50\n",
      "- Lower transition bandwidth: 0.50 Hz (-6 dB cutoff frequency: 0.25 Hz)\n",
      "- Upper passband edge: 55.00 Hz\n",
      "- Upper transition bandwidth: 13.75 Hz (-6 dB cutoff frequency: 61.88 Hz)\n",
      "- Filter length: 6601 samples (6.601 sec)\n",
      "\n"
     ]
    },
    {
     "name": "stderr",
     "output_type": "stream",
     "text": [
      "\r",
      "Processing:   0%|                                                                               | 0/21 [00:00<?, ?it/s]"
     ]
    },
    {
     "name": "stdout",
     "output_type": "stream",
     "text": [
      "1000.0\n",
      "Writing C:\\Users\\marco\\Documents\\MASTER_DATA_SCIENTIST\\TFM_MSD\\SEED_FRA_OUTPUT\\POSITIVE\\2_1_trial_0_signals.fif\n"
     ]
    },
    {
     "name": "stderr",
     "output_type": "stream",
     "text": [
      "C:\\Users\\marco\\AppData\\Local\\Temp\\ipykernel_14260\\1741641518.py:44: RuntimeWarning: This filename (C:\\Users\\marco\\Documents\\MASTER_DATA_SCIENTIST\\TFM_MSD\\SEED_FRA_OUTPUT\\POSITIVE\\2_1_trial_0_signals.fif) does not conform to MNE naming conventions. All raw files should end with raw.fif, raw_sss.fif, raw_tsss.fif, _meg.fif, _eeg.fif, _ieeg.fif, raw.fif.gz, raw_sss.fif.gz, raw_tsss.fif.gz, _meg.fif.gz, _eeg.fif.gz or _ieeg.fif.gz\n",
      "  eeg_trial.save(output_path, overwrite=True)\n"
     ]
    },
    {
     "name": "stdout",
     "output_type": "stream",
     "text": [
      "Closing C:\\Users\\marco\\Documents\\MASTER_DATA_SCIENTIST\\TFM_MSD\\SEED_FRA_OUTPUT\\POSITIVE\\2_1_trial_0_signals.fif\n",
      "[done]\n"
     ]
    },
    {
     "name": "stderr",
     "output_type": "stream",
     "text": [
      "\r",
      "Processing:   5%|███▍                                                                   | 1/21 [00:01<00:36,  1.82s/it]"
     ]
    },
    {
     "name": "stdout",
     "output_type": "stream",
     "text": [
      "1000.0\n",
      "Writing C:\\Users\\marco\\Documents\\MASTER_DATA_SCIENTIST\\TFM_MSD\\SEED_FRA_OUTPUT\\NEGATIVE\\2_1_trial_1_signals.fif\n"
     ]
    },
    {
     "name": "stderr",
     "output_type": "stream",
     "text": [
      "C:\\Users\\marco\\AppData\\Local\\Temp\\ipykernel_14260\\1741641518.py:44: RuntimeWarning: This filename (C:\\Users\\marco\\Documents\\MASTER_DATA_SCIENTIST\\TFM_MSD\\SEED_FRA_OUTPUT\\NEGATIVE\\2_1_trial_1_signals.fif) does not conform to MNE naming conventions. All raw files should end with raw.fif, raw_sss.fif, raw_tsss.fif, _meg.fif, _eeg.fif, _ieeg.fif, raw.fif.gz, raw_sss.fif.gz, raw_tsss.fif.gz, _meg.fif.gz, _eeg.fif.gz or _ieeg.fif.gz\n",
      "  eeg_trial.save(output_path, overwrite=True)\n"
     ]
    },
    {
     "name": "stdout",
     "output_type": "stream",
     "text": [
      "Closing C:\\Users\\marco\\Documents\\MASTER_DATA_SCIENTIST\\TFM_MSD\\SEED_FRA_OUTPUT\\NEGATIVE\\2_1_trial_1_signals.fif\n",
      "[done]\n"
     ]
    },
    {
     "name": "stderr",
     "output_type": "stream",
     "text": [
      "\r",
      "Processing:  10%|██████▊                                                                | 2/21 [00:03<00:36,  1.90s/it]"
     ]
    },
    {
     "name": "stdout",
     "output_type": "stream",
     "text": [
      "1000.0\n",
      "Writing C:\\Users\\marco\\Documents\\MASTER_DATA_SCIENTIST\\TFM_MSD\\SEED_FRA_OUTPUT\\NEUTRAL\\2_1_trial_2_signals.fif\n"
     ]
    },
    {
     "name": "stderr",
     "output_type": "stream",
     "text": [
      "C:\\Users\\marco\\AppData\\Local\\Temp\\ipykernel_14260\\1741641518.py:44: RuntimeWarning: This filename (C:\\Users\\marco\\Documents\\MASTER_DATA_SCIENTIST\\TFM_MSD\\SEED_FRA_OUTPUT\\NEUTRAL\\2_1_trial_2_signals.fif) does not conform to MNE naming conventions. All raw files should end with raw.fif, raw_sss.fif, raw_tsss.fif, _meg.fif, _eeg.fif, _ieeg.fif, raw.fif.gz, raw_sss.fif.gz, raw_tsss.fif.gz, _meg.fif.gz, _eeg.fif.gz or _ieeg.fif.gz\n",
      "  eeg_trial.save(output_path, overwrite=True)\n"
     ]
    },
    {
     "name": "stdout",
     "output_type": "stream",
     "text": [
      "Closing C:\\Users\\marco\\Documents\\MASTER_DATA_SCIENTIST\\TFM_MSD\\SEED_FRA_OUTPUT\\NEUTRAL\\2_1_trial_2_signals.fif\n",
      "[done]\n"
     ]
    },
    {
     "name": "stderr",
     "output_type": "stream",
     "text": [
      "\r",
      "Processing:  14%|██████████▏                                                            | 3/21 [00:05<00:36,  2.02s/it]"
     ]
    },
    {
     "name": "stdout",
     "output_type": "stream",
     "text": [
      "1000.0\n",
      "Writing C:\\Users\\marco\\Documents\\MASTER_DATA_SCIENTIST\\TFM_MSD\\SEED_FRA_OUTPUT\\NEGATIVE\\2_1_trial_3_signals.fif\n"
     ]
    },
    {
     "name": "stderr",
     "output_type": "stream",
     "text": [
      "C:\\Users\\marco\\AppData\\Local\\Temp\\ipykernel_14260\\1741641518.py:44: RuntimeWarning: This filename (C:\\Users\\marco\\Documents\\MASTER_DATA_SCIENTIST\\TFM_MSD\\SEED_FRA_OUTPUT\\NEGATIVE\\2_1_trial_3_signals.fif) does not conform to MNE naming conventions. All raw files should end with raw.fif, raw_sss.fif, raw_tsss.fif, _meg.fif, _eeg.fif, _ieeg.fif, raw.fif.gz, raw_sss.fif.gz, raw_tsss.fif.gz, _meg.fif.gz, _eeg.fif.gz or _ieeg.fif.gz\n",
      "  eeg_trial.save(output_path, overwrite=True)\n"
     ]
    },
    {
     "name": "stdout",
     "output_type": "stream",
     "text": [
      "Closing C:\\Users\\marco\\Documents\\MASTER_DATA_SCIENTIST\\TFM_MSD\\SEED_FRA_OUTPUT\\NEGATIVE\\2_1_trial_3_signals.fif\n",
      "[done]\n"
     ]
    },
    {
     "name": "stderr",
     "output_type": "stream",
     "text": [
      "\r",
      "Processing:  19%|█████████████▌                                                         | 4/21 [00:07<00:34,  2.02s/it]"
     ]
    },
    {
     "name": "stdout",
     "output_type": "stream",
     "text": [
      "1000.0\n",
      "Writing C:\\Users\\marco\\Documents\\MASTER_DATA_SCIENTIST\\TFM_MSD\\SEED_FRA_OUTPUT\\POSITIVE\\2_1_trial_4_signals.fif\n"
     ]
    },
    {
     "name": "stderr",
     "output_type": "stream",
     "text": [
      "C:\\Users\\marco\\AppData\\Local\\Temp\\ipykernel_14260\\1741641518.py:44: RuntimeWarning: This filename (C:\\Users\\marco\\Documents\\MASTER_DATA_SCIENTIST\\TFM_MSD\\SEED_FRA_OUTPUT\\POSITIVE\\2_1_trial_4_signals.fif) does not conform to MNE naming conventions. All raw files should end with raw.fif, raw_sss.fif, raw_tsss.fif, _meg.fif, _eeg.fif, _ieeg.fif, raw.fif.gz, raw_sss.fif.gz, raw_tsss.fif.gz, _meg.fif.gz, _eeg.fif.gz or _ieeg.fif.gz\n",
      "  eeg_trial.save(output_path, overwrite=True)\n"
     ]
    },
    {
     "name": "stdout",
     "output_type": "stream",
     "text": [
      "Closing C:\\Users\\marco\\Documents\\MASTER_DATA_SCIENTIST\\TFM_MSD\\SEED_FRA_OUTPUT\\POSITIVE\\2_1_trial_4_signals.fif\n",
      "[done]\n"
     ]
    },
    {
     "name": "stderr",
     "output_type": "stream",
     "text": [
      "\r",
      "Processing:  24%|████████████████▉                                                      | 5/21 [00:09<00:31,  1.98s/it]"
     ]
    },
    {
     "name": "stdout",
     "output_type": "stream",
     "text": [
      "1000.0\n",
      "Writing C:\\Users\\marco\\Documents\\MASTER_DATA_SCIENTIST\\TFM_MSD\\SEED_FRA_OUTPUT\\NEUTRAL\\2_1_trial_5_signals.fif\n"
     ]
    },
    {
     "name": "stderr",
     "output_type": "stream",
     "text": [
      "C:\\Users\\marco\\AppData\\Local\\Temp\\ipykernel_14260\\1741641518.py:44: RuntimeWarning: This filename (C:\\Users\\marco\\Documents\\MASTER_DATA_SCIENTIST\\TFM_MSD\\SEED_FRA_OUTPUT\\NEUTRAL\\2_1_trial_5_signals.fif) does not conform to MNE naming conventions. All raw files should end with raw.fif, raw_sss.fif, raw_tsss.fif, _meg.fif, _eeg.fif, _ieeg.fif, raw.fif.gz, raw_sss.fif.gz, raw_tsss.fif.gz, _meg.fif.gz, _eeg.fif.gz or _ieeg.fif.gz\n",
      "  eeg_trial.save(output_path, overwrite=True)\n"
     ]
    },
    {
     "name": "stdout",
     "output_type": "stream",
     "text": [
      "Closing C:\\Users\\marco\\Documents\\MASTER_DATA_SCIENTIST\\TFM_MSD\\SEED_FRA_OUTPUT\\NEUTRAL\\2_1_trial_5_signals.fif\n",
      "[done]\n"
     ]
    },
    {
     "name": "stderr",
     "output_type": "stream",
     "text": [
      "\r",
      "Processing:  29%|████████████████████▎                                                  | 6/21 [00:11<00:28,  1.92s/it]"
     ]
    },
    {
     "name": "stdout",
     "output_type": "stream",
     "text": [
      "1000.0\n",
      "Writing C:\\Users\\marco\\Documents\\MASTER_DATA_SCIENTIST\\TFM_MSD\\SEED_FRA_OUTPUT\\NEGATIVE\\2_1_trial_6_signals.fif\n"
     ]
    },
    {
     "name": "stderr",
     "output_type": "stream",
     "text": [
      "C:\\Users\\marco\\AppData\\Local\\Temp\\ipykernel_14260\\1741641518.py:44: RuntimeWarning: This filename (C:\\Users\\marco\\Documents\\MASTER_DATA_SCIENTIST\\TFM_MSD\\SEED_FRA_OUTPUT\\NEGATIVE\\2_1_trial_6_signals.fif) does not conform to MNE naming conventions. All raw files should end with raw.fif, raw_sss.fif, raw_tsss.fif, _meg.fif, _eeg.fif, _ieeg.fif, raw.fif.gz, raw_sss.fif.gz, raw_tsss.fif.gz, _meg.fif.gz, _eeg.fif.gz or _ieeg.fif.gz\n",
      "  eeg_trial.save(output_path, overwrite=True)\n"
     ]
    },
    {
     "name": "stdout",
     "output_type": "stream",
     "text": [
      "Closing C:\\Users\\marco\\Documents\\MASTER_DATA_SCIENTIST\\TFM_MSD\\SEED_FRA_OUTPUT\\NEGATIVE\\2_1_trial_6_signals.fif\n",
      "[done]\n"
     ]
    },
    {
     "name": "stderr",
     "output_type": "stream",
     "text": [
      "\r",
      "Processing:  33%|███████████████████████▋                                               | 7/21 [00:13<00:28,  2.04s/it]"
     ]
    },
    {
     "name": "stdout",
     "output_type": "stream",
     "text": [
      "1000.0\n",
      "Writing C:\\Users\\marco\\Documents\\MASTER_DATA_SCIENTIST\\TFM_MSD\\SEED_FRA_OUTPUT\\NEUTRAL\\2_1_trial_7_signals.fif\n"
     ]
    },
    {
     "name": "stderr",
     "output_type": "stream",
     "text": [
      "C:\\Users\\marco\\AppData\\Local\\Temp\\ipykernel_14260\\1741641518.py:44: RuntimeWarning: This filename (C:\\Users\\marco\\Documents\\MASTER_DATA_SCIENTIST\\TFM_MSD\\SEED_FRA_OUTPUT\\NEUTRAL\\2_1_trial_7_signals.fif) does not conform to MNE naming conventions. All raw files should end with raw.fif, raw_sss.fif, raw_tsss.fif, _meg.fif, _eeg.fif, _ieeg.fif, raw.fif.gz, raw_sss.fif.gz, raw_tsss.fif.gz, _meg.fif.gz, _eeg.fif.gz or _ieeg.fif.gz\n",
      "  eeg_trial.save(output_path, overwrite=True)\n"
     ]
    },
    {
     "name": "stdout",
     "output_type": "stream",
     "text": [
      "Closing C:\\Users\\marco\\Documents\\MASTER_DATA_SCIENTIST\\TFM_MSD\\SEED_FRA_OUTPUT\\NEUTRAL\\2_1_trial_7_signals.fif\n",
      "[done]\n"
     ]
    },
    {
     "name": "stderr",
     "output_type": "stream",
     "text": [
      "\r",
      "Processing:  38%|███████████████████████████                                            | 8/21 [00:15<00:25,  1.96s/it]"
     ]
    },
    {
     "name": "stdout",
     "output_type": "stream",
     "text": [
      "1000.0\n",
      "Writing C:\\Users\\marco\\Documents\\MASTER_DATA_SCIENTIST\\TFM_MSD\\SEED_FRA_OUTPUT\\POSITIVE\\2_1_trial_8_signals.fif\n"
     ]
    },
    {
     "name": "stderr",
     "output_type": "stream",
     "text": [
      "C:\\Users\\marco\\AppData\\Local\\Temp\\ipykernel_14260\\1741641518.py:44: RuntimeWarning: This filename (C:\\Users\\marco\\Documents\\MASTER_DATA_SCIENTIST\\TFM_MSD\\SEED_FRA_OUTPUT\\POSITIVE\\2_1_trial_8_signals.fif) does not conform to MNE naming conventions. All raw files should end with raw.fif, raw_sss.fif, raw_tsss.fif, _meg.fif, _eeg.fif, _ieeg.fif, raw.fif.gz, raw_sss.fif.gz, raw_tsss.fif.gz, _meg.fif.gz, _eeg.fif.gz or _ieeg.fif.gz\n",
      "  eeg_trial.save(output_path, overwrite=True)\n"
     ]
    },
    {
     "name": "stdout",
     "output_type": "stream",
     "text": [
      "Closing C:\\Users\\marco\\Documents\\MASTER_DATA_SCIENTIST\\TFM_MSD\\SEED_FRA_OUTPUT\\POSITIVE\\2_1_trial_8_signals.fif\n",
      "[done]\n"
     ]
    },
    {
     "name": "stderr",
     "output_type": "stream",
     "text": [
      "\r",
      "Processing:  43%|██████████████████████████████▍                                        | 9/21 [00:17<00:21,  1.81s/it]"
     ]
    },
    {
     "name": "stdout",
     "output_type": "stream",
     "text": [
      "1000.0\n",
      "Writing C:\\Users\\marco\\Documents\\MASTER_DATA_SCIENTIST\\TFM_MSD\\SEED_FRA_OUTPUT\\NEGATIVE\\2_1_trial_9_signals.fif\n"
     ]
    },
    {
     "name": "stderr",
     "output_type": "stream",
     "text": [
      "C:\\Users\\marco\\AppData\\Local\\Temp\\ipykernel_14260\\1741641518.py:44: RuntimeWarning: This filename (C:\\Users\\marco\\Documents\\MASTER_DATA_SCIENTIST\\TFM_MSD\\SEED_FRA_OUTPUT\\NEGATIVE\\2_1_trial_9_signals.fif) does not conform to MNE naming conventions. All raw files should end with raw.fif, raw_sss.fif, raw_tsss.fif, _meg.fif, _eeg.fif, _ieeg.fif, raw.fif.gz, raw_sss.fif.gz, raw_tsss.fif.gz, _meg.fif.gz, _eeg.fif.gz or _ieeg.fif.gz\n",
      "  eeg_trial.save(output_path, overwrite=True)\n"
     ]
    },
    {
     "name": "stdout",
     "output_type": "stream",
     "text": [
      "Closing C:\\Users\\marco\\Documents\\MASTER_DATA_SCIENTIST\\TFM_MSD\\SEED_FRA_OUTPUT\\NEGATIVE\\2_1_trial_9_signals.fif\n",
      "[done]\n"
     ]
    },
    {
     "name": "stderr",
     "output_type": "stream",
     "text": [
      "\r",
      "Processing:  48%|█████████████████████████████████▎                                    | 10/21 [00:19<00:20,  1.91s/it]"
     ]
    },
    {
     "name": "stdout",
     "output_type": "stream",
     "text": [
      "1000.0\n",
      "Writing C:\\Users\\marco\\Documents\\MASTER_DATA_SCIENTIST\\TFM_MSD\\SEED_FRA_OUTPUT\\NEUTRAL\\2_1_trial_10_signals.fif\n"
     ]
    },
    {
     "name": "stderr",
     "output_type": "stream",
     "text": [
      "C:\\Users\\marco\\AppData\\Local\\Temp\\ipykernel_14260\\1741641518.py:44: RuntimeWarning: This filename (C:\\Users\\marco\\Documents\\MASTER_DATA_SCIENTIST\\TFM_MSD\\SEED_FRA_OUTPUT\\NEUTRAL\\2_1_trial_10_signals.fif) does not conform to MNE naming conventions. All raw files should end with raw.fif, raw_sss.fif, raw_tsss.fif, _meg.fif, _eeg.fif, _ieeg.fif, raw.fif.gz, raw_sss.fif.gz, raw_tsss.fif.gz, _meg.fif.gz, _eeg.fif.gz or _ieeg.fif.gz\n",
      "  eeg_trial.save(output_path, overwrite=True)\n"
     ]
    },
    {
     "name": "stdout",
     "output_type": "stream",
     "text": [
      "Closing C:\\Users\\marco\\Documents\\MASTER_DATA_SCIENTIST\\TFM_MSD\\SEED_FRA_OUTPUT\\NEUTRAL\\2_1_trial_10_signals.fif\n",
      "[done]\n"
     ]
    },
    {
     "name": "stderr",
     "output_type": "stream",
     "text": [
      "\r",
      "Processing:  52%|████████████████████████████████████▋                                 | 11/21 [00:21<00:19,  1.91s/it]"
     ]
    },
    {
     "name": "stdout",
     "output_type": "stream",
     "text": [
      "1000.0\n",
      "Writing C:\\Users\\marco\\Documents\\MASTER_DATA_SCIENTIST\\TFM_MSD\\SEED_FRA_OUTPUT\\POSITIVE\\2_1_trial_11_signals.fif\n"
     ]
    },
    {
     "name": "stderr",
     "output_type": "stream",
     "text": [
      "C:\\Users\\marco\\AppData\\Local\\Temp\\ipykernel_14260\\1741641518.py:44: RuntimeWarning: This filename (C:\\Users\\marco\\Documents\\MASTER_DATA_SCIENTIST\\TFM_MSD\\SEED_FRA_OUTPUT\\POSITIVE\\2_1_trial_11_signals.fif) does not conform to MNE naming conventions. All raw files should end with raw.fif, raw_sss.fif, raw_tsss.fif, _meg.fif, _eeg.fif, _ieeg.fif, raw.fif.gz, raw_sss.fif.gz, raw_tsss.fif.gz, _meg.fif.gz, _eeg.fif.gz or _ieeg.fif.gz\n",
      "  eeg_trial.save(output_path, overwrite=True)\n"
     ]
    },
    {
     "name": "stdout",
     "output_type": "stream",
     "text": [
      "Closing C:\\Users\\marco\\Documents\\MASTER_DATA_SCIENTIST\\TFM_MSD\\SEED_FRA_OUTPUT\\POSITIVE\\2_1_trial_11_signals.fif\n",
      "[done]\n"
     ]
    },
    {
     "name": "stderr",
     "output_type": "stream",
     "text": [
      "\r",
      "Processing:  57%|████████████████████████████████████████                              | 12/21 [00:23<00:17,  1.93s/it]"
     ]
    },
    {
     "name": "stdout",
     "output_type": "stream",
     "text": [
      "1000.0\n",
      "Writing C:\\Users\\marco\\Documents\\MASTER_DATA_SCIENTIST\\TFM_MSD\\SEED_FRA_OUTPUT\\POSITIVE\\2_1_trial_12_signals.fif\n"
     ]
    },
    {
     "name": "stderr",
     "output_type": "stream",
     "text": [
      "C:\\Users\\marco\\AppData\\Local\\Temp\\ipykernel_14260\\1741641518.py:44: RuntimeWarning: This filename (C:\\Users\\marco\\Documents\\MASTER_DATA_SCIENTIST\\TFM_MSD\\SEED_FRA_OUTPUT\\POSITIVE\\2_1_trial_12_signals.fif) does not conform to MNE naming conventions. All raw files should end with raw.fif, raw_sss.fif, raw_tsss.fif, _meg.fif, _eeg.fif, _ieeg.fif, raw.fif.gz, raw_sss.fif.gz, raw_tsss.fif.gz, _meg.fif.gz, _eeg.fif.gz or _ieeg.fif.gz\n",
      "  eeg_trial.save(output_path, overwrite=True)\n"
     ]
    },
    {
     "name": "stdout",
     "output_type": "stream",
     "text": [
      "Closing C:\\Users\\marco\\Documents\\MASTER_DATA_SCIENTIST\\TFM_MSD\\SEED_FRA_OUTPUT\\POSITIVE\\2_1_trial_12_signals.fif\n",
      "[done]\n"
     ]
    },
    {
     "name": "stderr",
     "output_type": "stream",
     "text": [
      "\r",
      "Processing:  62%|███████████████████████████████████████████▎                          | 13/21 [00:25<00:15,  1.92s/it]"
     ]
    },
    {
     "name": "stdout",
     "output_type": "stream",
     "text": [
      "1000.0\n",
      "Writing C:\\Users\\marco\\Documents\\MASTER_DATA_SCIENTIST\\TFM_MSD\\SEED_FRA_OUTPUT\\NEUTRAL\\2_1_trial_13_signals.fif\n"
     ]
    },
    {
     "name": "stderr",
     "output_type": "stream",
     "text": [
      "C:\\Users\\marco\\AppData\\Local\\Temp\\ipykernel_14260\\1741641518.py:44: RuntimeWarning: This filename (C:\\Users\\marco\\Documents\\MASTER_DATA_SCIENTIST\\TFM_MSD\\SEED_FRA_OUTPUT\\NEUTRAL\\2_1_trial_13_signals.fif) does not conform to MNE naming conventions. All raw files should end with raw.fif, raw_sss.fif, raw_tsss.fif, _meg.fif, _eeg.fif, _ieeg.fif, raw.fif.gz, raw_sss.fif.gz, raw_tsss.fif.gz, _meg.fif.gz, _eeg.fif.gz or _ieeg.fif.gz\n",
      "  eeg_trial.save(output_path, overwrite=True)\n"
     ]
    },
    {
     "name": "stdout",
     "output_type": "stream",
     "text": [
      "Closing C:\\Users\\marco\\Documents\\MASTER_DATA_SCIENTIST\\TFM_MSD\\SEED_FRA_OUTPUT\\NEUTRAL\\2_1_trial_13_signals.fif\n",
      "[done]\n"
     ]
    },
    {
     "name": "stderr",
     "output_type": "stream",
     "text": [
      "\r",
      "Processing:  67%|██████████████████████████████████████████████▋                       | 14/21 [00:27<00:13,  2.00s/it]"
     ]
    },
    {
     "name": "stdout",
     "output_type": "stream",
     "text": [
      "1000.0\n",
      "Writing C:\\Users\\marco\\Documents\\MASTER_DATA_SCIENTIST\\TFM_MSD\\SEED_FRA_OUTPUT\\NEGATIVE\\2_1_trial_14_signals.fif\n"
     ]
    },
    {
     "name": "stderr",
     "output_type": "stream",
     "text": [
      "C:\\Users\\marco\\AppData\\Local\\Temp\\ipykernel_14260\\1741641518.py:44: RuntimeWarning: This filename (C:\\Users\\marco\\Documents\\MASTER_DATA_SCIENTIST\\TFM_MSD\\SEED_FRA_OUTPUT\\NEGATIVE\\2_1_trial_14_signals.fif) does not conform to MNE naming conventions. All raw files should end with raw.fif, raw_sss.fif, raw_tsss.fif, _meg.fif, _eeg.fif, _ieeg.fif, raw.fif.gz, raw_sss.fif.gz, raw_tsss.fif.gz, _meg.fif.gz, _eeg.fif.gz or _ieeg.fif.gz\n",
      "  eeg_trial.save(output_path, overwrite=True)\n"
     ]
    },
    {
     "name": "stdout",
     "output_type": "stream",
     "text": [
      "Closing C:\\Users\\marco\\Documents\\MASTER_DATA_SCIENTIST\\TFM_MSD\\SEED_FRA_OUTPUT\\NEGATIVE\\2_1_trial_14_signals.fif\n",
      "[done]\n"
     ]
    },
    {
     "name": "stderr",
     "output_type": "stream",
     "text": [
      "\r",
      "Processing:  71%|██████████████████████████████████████████████████                    | 15/21 [00:29<00:11,  1.97s/it]"
     ]
    },
    {
     "name": "stdout",
     "output_type": "stream",
     "text": [
      "1000.0\n",
      "Writing C:\\Users\\marco\\Documents\\MASTER_DATA_SCIENTIST\\TFM_MSD\\SEED_FRA_OUTPUT\\NEGATIVE\\2_1_trial_15_signals.fif\n",
      "Closing C:\\Users\\marco\\Documents\\MASTER_DATA_SCIENTIST\\TFM_MSD\\SEED_FRA_OUTPUT\\NEGATIVE\\2_1_trial_15_signals.fif\n",
      "[done]\n"
     ]
    },
    {
     "name": "stderr",
     "output_type": "stream",
     "text": [
      "C:\\Users\\marco\\AppData\\Local\\Temp\\ipykernel_14260\\1741641518.py:44: RuntimeWarning: This filename (C:\\Users\\marco\\Documents\\MASTER_DATA_SCIENTIST\\TFM_MSD\\SEED_FRA_OUTPUT\\NEGATIVE\\2_1_trial_15_signals.fif) does not conform to MNE naming conventions. All raw files should end with raw.fif, raw_sss.fif, raw_tsss.fif, _meg.fif, _eeg.fif, _ieeg.fif, raw.fif.gz, raw_sss.fif.gz, raw_tsss.fif.gz, _meg.fif.gz, _eeg.fif.gz or _ieeg.fif.gz\n",
      "  eeg_trial.save(output_path, overwrite=True)\n",
      "\r",
      "Processing:  76%|█████████████████████████████████████████████████████▎                | 16/21 [00:31<00:09,  1.94s/it]"
     ]
    },
    {
     "name": "stdout",
     "output_type": "stream",
     "text": [
      "1000.0\n",
      "Writing C:\\Users\\marco\\Documents\\MASTER_DATA_SCIENTIST\\TFM_MSD\\SEED_FRA_OUTPUT\\NEUTRAL\\2_1_trial_16_signals.fif\n"
     ]
    },
    {
     "name": "stderr",
     "output_type": "stream",
     "text": [
      "C:\\Users\\marco\\AppData\\Local\\Temp\\ipykernel_14260\\1741641518.py:44: RuntimeWarning: This filename (C:\\Users\\marco\\Documents\\MASTER_DATA_SCIENTIST\\TFM_MSD\\SEED_FRA_OUTPUT\\NEUTRAL\\2_1_trial_16_signals.fif) does not conform to MNE naming conventions. All raw files should end with raw.fif, raw_sss.fif, raw_tsss.fif, _meg.fif, _eeg.fif, _ieeg.fif, raw.fif.gz, raw_sss.fif.gz, raw_tsss.fif.gz, _meg.fif.gz, _eeg.fif.gz or _ieeg.fif.gz\n",
      "  eeg_trial.save(output_path, overwrite=True)\n"
     ]
    },
    {
     "name": "stdout",
     "output_type": "stream",
     "text": [
      "Closing C:\\Users\\marco\\Documents\\MASTER_DATA_SCIENTIST\\TFM_MSD\\SEED_FRA_OUTPUT\\NEUTRAL\\2_1_trial_16_signals.fif\n",
      "[done]\n"
     ]
    },
    {
     "name": "stderr",
     "output_type": "stream",
     "text": [
      "\r",
      "Processing:  81%|████████████████████████████████████████████████████████▋             | 17/21 [00:33<00:07,  1.99s/it]"
     ]
    },
    {
     "name": "stdout",
     "output_type": "stream",
     "text": [
      "1000.0\n",
      "Writing C:\\Users\\marco\\Documents\\MASTER_DATA_SCIENTIST\\TFM_MSD\\SEED_FRA_OUTPUT\\POSITIVE\\2_1_trial_17_signals.fif\n"
     ]
    },
    {
     "name": "stderr",
     "output_type": "stream",
     "text": [
      "C:\\Users\\marco\\AppData\\Local\\Temp\\ipykernel_14260\\1741641518.py:44: RuntimeWarning: This filename (C:\\Users\\marco\\Documents\\MASTER_DATA_SCIENTIST\\TFM_MSD\\SEED_FRA_OUTPUT\\POSITIVE\\2_1_trial_17_signals.fif) does not conform to MNE naming conventions. All raw files should end with raw.fif, raw_sss.fif, raw_tsss.fif, _meg.fif, _eeg.fif, _ieeg.fif, raw.fif.gz, raw_sss.fif.gz, raw_tsss.fif.gz, _meg.fif.gz, _eeg.fif.gz or _ieeg.fif.gz\n",
      "  eeg_trial.save(output_path, overwrite=True)\n"
     ]
    },
    {
     "name": "stdout",
     "output_type": "stream",
     "text": [
      "Closing C:\\Users\\marco\\Documents\\MASTER_DATA_SCIENTIST\\TFM_MSD\\SEED_FRA_OUTPUT\\POSITIVE\\2_1_trial_17_signals.fif\n",
      "[done]\n"
     ]
    },
    {
     "name": "stderr",
     "output_type": "stream",
     "text": [
      "\r",
      "Processing:  86%|████████████████████████████████████████████████████████████          | 18/21 [00:35<00:06,  2.02s/it]"
     ]
    },
    {
     "name": "stdout",
     "output_type": "stream",
     "text": [
      "1000.0\n",
      "Writing C:\\Users\\marco\\Documents\\MASTER_DATA_SCIENTIST\\TFM_MSD\\SEED_FRA_OUTPUT\\NEGATIVE\\2_1_trial_18_signals.fif\n"
     ]
    },
    {
     "name": "stderr",
     "output_type": "stream",
     "text": [
      "C:\\Users\\marco\\AppData\\Local\\Temp\\ipykernel_14260\\1741641518.py:44: RuntimeWarning: This filename (C:\\Users\\marco\\Documents\\MASTER_DATA_SCIENTIST\\TFM_MSD\\SEED_FRA_OUTPUT\\NEGATIVE\\2_1_trial_18_signals.fif) does not conform to MNE naming conventions. All raw files should end with raw.fif, raw_sss.fif, raw_tsss.fif, _meg.fif, _eeg.fif, _ieeg.fif, raw.fif.gz, raw_sss.fif.gz, raw_tsss.fif.gz, _meg.fif.gz, _eeg.fif.gz or _ieeg.fif.gz\n",
      "  eeg_trial.save(output_path, overwrite=True)\n"
     ]
    },
    {
     "name": "stdout",
     "output_type": "stream",
     "text": [
      "Closing C:\\Users\\marco\\Documents\\MASTER_DATA_SCIENTIST\\TFM_MSD\\SEED_FRA_OUTPUT\\NEGATIVE\\2_1_trial_18_signals.fif\n",
      "[done]\n"
     ]
    },
    {
     "name": "stderr",
     "output_type": "stream",
     "text": [
      "\r",
      "Processing:  90%|███████████████████████████████████████████████████████████████▎      | 19/21 [00:37<00:04,  2.10s/it]"
     ]
    },
    {
     "name": "stdout",
     "output_type": "stream",
     "text": [
      "1000.0\n",
      "Writing C:\\Users\\marco\\Documents\\MASTER_DATA_SCIENTIST\\TFM_MSD\\SEED_FRA_OUTPUT\\NEUTRAL\\2_1_trial_19_signals.fif\n",
      "Closing C:\\Users\\marco\\Documents\\MASTER_DATA_SCIENTIST\\TFM_MSD\\SEED_FRA_OUTPUT\\NEUTRAL\\2_1_trial_19_signals.fif\n"
     ]
    },
    {
     "name": "stderr",
     "output_type": "stream",
     "text": [
      "C:\\Users\\marco\\AppData\\Local\\Temp\\ipykernel_14260\\1741641518.py:44: RuntimeWarning: This filename (C:\\Users\\marco\\Documents\\MASTER_DATA_SCIENTIST\\TFM_MSD\\SEED_FRA_OUTPUT\\NEUTRAL\\2_1_trial_19_signals.fif) does not conform to MNE naming conventions. All raw files should end with raw.fif, raw_sss.fif, raw_tsss.fif, _meg.fif, _eeg.fif, _ieeg.fif, raw.fif.gz, raw_sss.fif.gz, raw_tsss.fif.gz, _meg.fif.gz, _eeg.fif.gz or _ieeg.fif.gz\n",
      "  eeg_trial.save(output_path, overwrite=True)\n"
     ]
    },
    {
     "name": "stdout",
     "output_type": "stream",
     "text": [
      "[done]\n"
     ]
    },
    {
     "name": "stderr",
     "output_type": "stream",
     "text": [
      "\r",
      "Processing:  95%|██████████████████████████████████████████████████████████████████▋   | 20/21 [00:39<00:02,  2.06s/it]"
     ]
    },
    {
     "name": "stdout",
     "output_type": "stream",
     "text": [
      "1000.0\n",
      "Writing C:\\Users\\marco\\Documents\\MASTER_DATA_SCIENTIST\\TFM_MSD\\SEED_FRA_OUTPUT\\POSITIVE\\2_1_trial_20_signals.fif\n"
     ]
    },
    {
     "name": "stderr",
     "output_type": "stream",
     "text": [
      "C:\\Users\\marco\\AppData\\Local\\Temp\\ipykernel_14260\\1741641518.py:44: RuntimeWarning: This filename (C:\\Users\\marco\\Documents\\MASTER_DATA_SCIENTIST\\TFM_MSD\\SEED_FRA_OUTPUT\\POSITIVE\\2_1_trial_20_signals.fif) does not conform to MNE naming conventions. All raw files should end with raw.fif, raw_sss.fif, raw_tsss.fif, _meg.fif, _eeg.fif, _ieeg.fif, raw.fif.gz, raw_sss.fif.gz, raw_tsss.fif.gz, _meg.fif.gz, _eeg.fif.gz or _ieeg.fif.gz\n",
      "  eeg_trial.save(output_path, overwrite=True)\n"
     ]
    },
    {
     "name": "stdout",
     "output_type": "stream",
     "text": [
      "Closing C:\\Users\\marco\\Documents\\MASTER_DATA_SCIENTIST\\TFM_MSD\\SEED_FRA_OUTPUT\\POSITIVE\\2_1_trial_20_signals.fif\n",
      "[done]\n"
     ]
    },
    {
     "name": "stderr",
     "output_type": "stream",
     "text": [
      "Processing: 100%|██████████████████████████████████████████████████████████████████████| 21/21 [00:41<00:00,  1.98s/it]\n"
     ]
    },
    {
     "name": "stdout",
     "output_type": "stream",
     "text": [
      "Reading 0 ... 3820559  =      0.000 ...  3820.559 secs...\n"
     ]
    },
    {
     "name": "stderr",
     "output_type": "stream",
     "text": [
      "C:\\Users\\marco\\AppData\\Local\\Temp\\ipykernel_14260\\1741641518.py:4: RuntimeWarning:   Could not parse meas date from the header. Setting to None.\n",
      "  eeg_raw = mne.io.read_raw_cnt(_path, preload=True)\n"
     ]
    },
    {
     "name": "stdout",
     "output_type": "stream",
     "text": [
      "Filtering raw data in 1 contiguous segment\n",
      "Setting up band-pass filter from 0.5 - 55 Hz\n",
      "\n",
      "FIR filter parameters\n",
      "---------------------\n",
      "Designing a one-pass, zero-phase, non-causal bandpass filter:\n",
      "- Windowed time-domain design (firwin) method\n",
      "- Hamming window with 0.0194 passband ripple and 53 dB stopband attenuation\n",
      "- Lower passband edge: 0.50\n",
      "- Lower transition bandwidth: 0.50 Hz (-6 dB cutoff frequency: 0.25 Hz)\n",
      "- Upper passband edge: 55.00 Hz\n",
      "- Upper transition bandwidth: 13.75 Hz (-6 dB cutoff frequency: 61.88 Hz)\n",
      "- Filter length: 6601 samples (6.601 sec)\n",
      "\n"
     ]
    },
    {
     "name": "stderr",
     "output_type": "stream",
     "text": [
      "\r",
      "Processing:   0%|                                                                               | 0/21 [00:00<?, ?it/s]"
     ]
    },
    {
     "name": "stdout",
     "output_type": "stream",
     "text": [
      "1000.0\n",
      "Writing C:\\Users\\marco\\Documents\\MASTER_DATA_SCIENTIST\\TFM_MSD\\SEED_FRA_OUTPUT\\POSITIVE\\2_2_trial_0_signals.fif\n"
     ]
    },
    {
     "name": "stderr",
     "output_type": "stream",
     "text": [
      "C:\\Users\\marco\\AppData\\Local\\Temp\\ipykernel_14260\\1741641518.py:44: RuntimeWarning: This filename (C:\\Users\\marco\\Documents\\MASTER_DATA_SCIENTIST\\TFM_MSD\\SEED_FRA_OUTPUT\\POSITIVE\\2_2_trial_0_signals.fif) does not conform to MNE naming conventions. All raw files should end with raw.fif, raw_sss.fif, raw_tsss.fif, _meg.fif, _eeg.fif, _ieeg.fif, raw.fif.gz, raw_sss.fif.gz, raw_tsss.fif.gz, _meg.fif.gz, _eeg.fif.gz or _ieeg.fif.gz\n",
      "  eeg_trial.save(output_path, overwrite=True)\n"
     ]
    },
    {
     "name": "stdout",
     "output_type": "stream",
     "text": [
      "Closing C:\\Users\\marco\\Documents\\MASTER_DATA_SCIENTIST\\TFM_MSD\\SEED_FRA_OUTPUT\\POSITIVE\\2_2_trial_0_signals.fif\n",
      "[done]\n"
     ]
    },
    {
     "name": "stderr",
     "output_type": "stream",
     "text": [
      "\r",
      "Processing:   5%|███▍                                                                   | 1/21 [00:01<00:35,  1.77s/it]"
     ]
    },
    {
     "name": "stdout",
     "output_type": "stream",
     "text": [
      "1000.0\n",
      "Writing C:\\Users\\marco\\Documents\\MASTER_DATA_SCIENTIST\\TFM_MSD\\SEED_FRA_OUTPUT\\NEGATIVE\\2_2_trial_1_signals.fif\n"
     ]
    },
    {
     "name": "stderr",
     "output_type": "stream",
     "text": [
      "C:\\Users\\marco\\AppData\\Local\\Temp\\ipykernel_14260\\1741641518.py:44: RuntimeWarning: This filename (C:\\Users\\marco\\Documents\\MASTER_DATA_SCIENTIST\\TFM_MSD\\SEED_FRA_OUTPUT\\NEGATIVE\\2_2_trial_1_signals.fif) does not conform to MNE naming conventions. All raw files should end with raw.fif, raw_sss.fif, raw_tsss.fif, _meg.fif, _eeg.fif, _ieeg.fif, raw.fif.gz, raw_sss.fif.gz, raw_tsss.fif.gz, _meg.fif.gz, _eeg.fif.gz or _ieeg.fif.gz\n",
      "  eeg_trial.save(output_path, overwrite=True)\n"
     ]
    },
    {
     "name": "stdout",
     "output_type": "stream",
     "text": [
      "Closing C:\\Users\\marco\\Documents\\MASTER_DATA_SCIENTIST\\TFM_MSD\\SEED_FRA_OUTPUT\\NEGATIVE\\2_2_trial_1_signals.fif\n",
      "[done]\n"
     ]
    },
    {
     "name": "stderr",
     "output_type": "stream",
     "text": [
      "\r",
      "Processing:  10%|██████▊                                                                | 2/21 [00:03<00:36,  1.91s/it]"
     ]
    },
    {
     "name": "stdout",
     "output_type": "stream",
     "text": [
      "1000.0\n",
      "Writing C:\\Users\\marco\\Documents\\MASTER_DATA_SCIENTIST\\TFM_MSD\\SEED_FRA_OUTPUT\\NEUTRAL\\2_2_trial_2_signals.fif\n"
     ]
    },
    {
     "name": "stderr",
     "output_type": "stream",
     "text": [
      "C:\\Users\\marco\\AppData\\Local\\Temp\\ipykernel_14260\\1741641518.py:44: RuntimeWarning: This filename (C:\\Users\\marco\\Documents\\MASTER_DATA_SCIENTIST\\TFM_MSD\\SEED_FRA_OUTPUT\\NEUTRAL\\2_2_trial_2_signals.fif) does not conform to MNE naming conventions. All raw files should end with raw.fif, raw_sss.fif, raw_tsss.fif, _meg.fif, _eeg.fif, _ieeg.fif, raw.fif.gz, raw_sss.fif.gz, raw_tsss.fif.gz, _meg.fif.gz, _eeg.fif.gz or _ieeg.fif.gz\n",
      "  eeg_trial.save(output_path, overwrite=True)\n"
     ]
    },
    {
     "name": "stdout",
     "output_type": "stream",
     "text": [
      "Closing C:\\Users\\marco\\Documents\\MASTER_DATA_SCIENTIST\\TFM_MSD\\SEED_FRA_OUTPUT\\NEUTRAL\\2_2_trial_2_signals.fif\n",
      "[done]\n"
     ]
    },
    {
     "name": "stderr",
     "output_type": "stream",
     "text": [
      "\r",
      "Processing:  14%|██████████▏                                                            | 3/21 [00:05<00:34,  1.93s/it]"
     ]
    },
    {
     "name": "stdout",
     "output_type": "stream",
     "text": [
      "1000.0\n",
      "Writing C:\\Users\\marco\\Documents\\MASTER_DATA_SCIENTIST\\TFM_MSD\\SEED_FRA_OUTPUT\\NEGATIVE\\2_2_trial_3_signals.fif\n"
     ]
    },
    {
     "name": "stderr",
     "output_type": "stream",
     "text": [
      "C:\\Users\\marco\\AppData\\Local\\Temp\\ipykernel_14260\\1741641518.py:44: RuntimeWarning: This filename (C:\\Users\\marco\\Documents\\MASTER_DATA_SCIENTIST\\TFM_MSD\\SEED_FRA_OUTPUT\\NEGATIVE\\2_2_trial_3_signals.fif) does not conform to MNE naming conventions. All raw files should end with raw.fif, raw_sss.fif, raw_tsss.fif, _meg.fif, _eeg.fif, _ieeg.fif, raw.fif.gz, raw_sss.fif.gz, raw_tsss.fif.gz, _meg.fif.gz, _eeg.fif.gz or _ieeg.fif.gz\n",
      "  eeg_trial.save(output_path, overwrite=True)\n"
     ]
    },
    {
     "name": "stdout",
     "output_type": "stream",
     "text": [
      "Closing C:\\Users\\marco\\Documents\\MASTER_DATA_SCIENTIST\\TFM_MSD\\SEED_FRA_OUTPUT\\NEGATIVE\\2_2_trial_3_signals.fif\n",
      "[done]\n"
     ]
    },
    {
     "name": "stderr",
     "output_type": "stream",
     "text": [
      "\r",
      "Processing:  19%|█████████████▌                                                         | 4/21 [00:07<00:34,  2.05s/it]"
     ]
    },
    {
     "name": "stdout",
     "output_type": "stream",
     "text": [
      "1000.0\n",
      "Writing C:\\Users\\marco\\Documents\\MASTER_DATA_SCIENTIST\\TFM_MSD\\SEED_FRA_OUTPUT\\POSITIVE\\2_2_trial_4_signals.fif\n"
     ]
    },
    {
     "name": "stderr",
     "output_type": "stream",
     "text": [
      "C:\\Users\\marco\\AppData\\Local\\Temp\\ipykernel_14260\\1741641518.py:44: RuntimeWarning: This filename (C:\\Users\\marco\\Documents\\MASTER_DATA_SCIENTIST\\TFM_MSD\\SEED_FRA_OUTPUT\\POSITIVE\\2_2_trial_4_signals.fif) does not conform to MNE naming conventions. All raw files should end with raw.fif, raw_sss.fif, raw_tsss.fif, _meg.fif, _eeg.fif, _ieeg.fif, raw.fif.gz, raw_sss.fif.gz, raw_tsss.fif.gz, _meg.fif.gz, _eeg.fif.gz or _ieeg.fif.gz\n",
      "  eeg_trial.save(output_path, overwrite=True)\n"
     ]
    },
    {
     "name": "stdout",
     "output_type": "stream",
     "text": [
      "Closing C:\\Users\\marco\\Documents\\MASTER_DATA_SCIENTIST\\TFM_MSD\\SEED_FRA_OUTPUT\\POSITIVE\\2_2_trial_4_signals.fif\n",
      "[done]\n"
     ]
    },
    {
     "name": "stderr",
     "output_type": "stream",
     "text": [
      "\r",
      "Processing:  24%|████████████████▉                                                      | 5/21 [00:09<00:32,  2.04s/it]"
     ]
    },
    {
     "name": "stdout",
     "output_type": "stream",
     "text": [
      "1000.0\n",
      "Writing C:\\Users\\marco\\Documents\\MASTER_DATA_SCIENTIST\\TFM_MSD\\SEED_FRA_OUTPUT\\NEUTRAL\\2_2_trial_5_signals.fif\n"
     ]
    },
    {
     "name": "stderr",
     "output_type": "stream",
     "text": [
      "C:\\Users\\marco\\AppData\\Local\\Temp\\ipykernel_14260\\1741641518.py:44: RuntimeWarning: This filename (C:\\Users\\marco\\Documents\\MASTER_DATA_SCIENTIST\\TFM_MSD\\SEED_FRA_OUTPUT\\NEUTRAL\\2_2_trial_5_signals.fif) does not conform to MNE naming conventions. All raw files should end with raw.fif, raw_sss.fif, raw_tsss.fif, _meg.fif, _eeg.fif, _ieeg.fif, raw.fif.gz, raw_sss.fif.gz, raw_tsss.fif.gz, _meg.fif.gz, _eeg.fif.gz or _ieeg.fif.gz\n",
      "  eeg_trial.save(output_path, overwrite=True)\n"
     ]
    },
    {
     "name": "stdout",
     "output_type": "stream",
     "text": [
      "Closing C:\\Users\\marco\\Documents\\MASTER_DATA_SCIENTIST\\TFM_MSD\\SEED_FRA_OUTPUT\\NEUTRAL\\2_2_trial_5_signals.fif\n",
      "[done]\n"
     ]
    },
    {
     "name": "stderr",
     "output_type": "stream",
     "text": [
      "\r",
      "Processing:  29%|████████████████████▎                                                  | 6/21 [00:11<00:29,  1.97s/it]"
     ]
    },
    {
     "name": "stdout",
     "output_type": "stream",
     "text": [
      "1000.0\n",
      "Writing C:\\Users\\marco\\Documents\\MASTER_DATA_SCIENTIST\\TFM_MSD\\SEED_FRA_OUTPUT\\NEGATIVE\\2_2_trial_6_signals.fif\n"
     ]
    },
    {
     "name": "stderr",
     "output_type": "stream",
     "text": [
      "C:\\Users\\marco\\AppData\\Local\\Temp\\ipykernel_14260\\1741641518.py:44: RuntimeWarning: This filename (C:\\Users\\marco\\Documents\\MASTER_DATA_SCIENTIST\\TFM_MSD\\SEED_FRA_OUTPUT\\NEGATIVE\\2_2_trial_6_signals.fif) does not conform to MNE naming conventions. All raw files should end with raw.fif, raw_sss.fif, raw_tsss.fif, _meg.fif, _eeg.fif, _ieeg.fif, raw.fif.gz, raw_sss.fif.gz, raw_tsss.fif.gz, _meg.fif.gz, _eeg.fif.gz or _ieeg.fif.gz\n",
      "  eeg_trial.save(output_path, overwrite=True)\n"
     ]
    },
    {
     "name": "stdout",
     "output_type": "stream",
     "text": [
      "Closing C:\\Users\\marco\\Documents\\MASTER_DATA_SCIENTIST\\TFM_MSD\\SEED_FRA_OUTPUT\\NEGATIVE\\2_2_trial_6_signals.fif\n",
      "[done]\n"
     ]
    },
    {
     "name": "stderr",
     "output_type": "stream",
     "text": [
      "\r",
      "Processing:  33%|███████████████████████▋                                               | 7/21 [00:13<00:28,  2.01s/it]"
     ]
    },
    {
     "name": "stdout",
     "output_type": "stream",
     "text": [
      "1000.0\n",
      "Writing C:\\Users\\marco\\Documents\\MASTER_DATA_SCIENTIST\\TFM_MSD\\SEED_FRA_OUTPUT\\NEUTRAL\\2_2_trial_7_signals.fif\n"
     ]
    },
    {
     "name": "stderr",
     "output_type": "stream",
     "text": [
      "C:\\Users\\marco\\AppData\\Local\\Temp\\ipykernel_14260\\1741641518.py:44: RuntimeWarning: This filename (C:\\Users\\marco\\Documents\\MASTER_DATA_SCIENTIST\\TFM_MSD\\SEED_FRA_OUTPUT\\NEUTRAL\\2_2_trial_7_signals.fif) does not conform to MNE naming conventions. All raw files should end with raw.fif, raw_sss.fif, raw_tsss.fif, _meg.fif, _eeg.fif, _ieeg.fif, raw.fif.gz, raw_sss.fif.gz, raw_tsss.fif.gz, _meg.fif.gz, _eeg.fif.gz or _ieeg.fif.gz\n",
      "  eeg_trial.save(output_path, overwrite=True)\n"
     ]
    },
    {
     "name": "stdout",
     "output_type": "stream",
     "text": [
      "Closing C:\\Users\\marco\\Documents\\MASTER_DATA_SCIENTIST\\TFM_MSD\\SEED_FRA_OUTPUT\\NEUTRAL\\2_2_trial_7_signals.fif\n",
      "[done]\n"
     ]
    },
    {
     "name": "stderr",
     "output_type": "stream",
     "text": [
      "\r",
      "Processing:  38%|███████████████████████████                                            | 8/21 [00:16<00:26,  2.04s/it]"
     ]
    },
    {
     "name": "stdout",
     "output_type": "stream",
     "text": [
      "1000.0\n",
      "Writing C:\\Users\\marco\\Documents\\MASTER_DATA_SCIENTIST\\TFM_MSD\\SEED_FRA_OUTPUT\\POSITIVE\\2_2_trial_8_signals.fif\n"
     ]
    },
    {
     "name": "stderr",
     "output_type": "stream",
     "text": [
      "C:\\Users\\marco\\AppData\\Local\\Temp\\ipykernel_14260\\1741641518.py:44: RuntimeWarning: This filename (C:\\Users\\marco\\Documents\\MASTER_DATA_SCIENTIST\\TFM_MSD\\SEED_FRA_OUTPUT\\POSITIVE\\2_2_trial_8_signals.fif) does not conform to MNE naming conventions. All raw files should end with raw.fif, raw_sss.fif, raw_tsss.fif, _meg.fif, _eeg.fif, _ieeg.fif, raw.fif.gz, raw_sss.fif.gz, raw_tsss.fif.gz, _meg.fif.gz, _eeg.fif.gz or _ieeg.fif.gz\n",
      "  eeg_trial.save(output_path, overwrite=True)\n"
     ]
    },
    {
     "name": "stdout",
     "output_type": "stream",
     "text": [
      "Closing C:\\Users\\marco\\Documents\\MASTER_DATA_SCIENTIST\\TFM_MSD\\SEED_FRA_OUTPUT\\POSITIVE\\2_2_trial_8_signals.fif\n",
      "[done]\n"
     ]
    },
    {
     "name": "stderr",
     "output_type": "stream",
     "text": [
      "\r",
      "Processing:  43%|██████████████████████████████▍                                        | 9/21 [00:17<00:24,  2.01s/it]"
     ]
    },
    {
     "name": "stdout",
     "output_type": "stream",
     "text": [
      "1000.0\n",
      "Writing C:\\Users\\marco\\Documents\\MASTER_DATA_SCIENTIST\\TFM_MSD\\SEED_FRA_OUTPUT\\NEGATIVE\\2_2_trial_9_signals.fif\n"
     ]
    },
    {
     "name": "stderr",
     "output_type": "stream",
     "text": [
      "C:\\Users\\marco\\AppData\\Local\\Temp\\ipykernel_14260\\1741641518.py:44: RuntimeWarning: This filename (C:\\Users\\marco\\Documents\\MASTER_DATA_SCIENTIST\\TFM_MSD\\SEED_FRA_OUTPUT\\NEGATIVE\\2_2_trial_9_signals.fif) does not conform to MNE naming conventions. All raw files should end with raw.fif, raw_sss.fif, raw_tsss.fif, _meg.fif, _eeg.fif, _ieeg.fif, raw.fif.gz, raw_sss.fif.gz, raw_tsss.fif.gz, _meg.fif.gz, _eeg.fif.gz or _ieeg.fif.gz\n",
      "  eeg_trial.save(output_path, overwrite=True)\n"
     ]
    },
    {
     "name": "stdout",
     "output_type": "stream",
     "text": [
      "Closing C:\\Users\\marco\\Documents\\MASTER_DATA_SCIENTIST\\TFM_MSD\\SEED_FRA_OUTPUT\\NEGATIVE\\2_2_trial_9_signals.fif\n",
      "[done]\n"
     ]
    },
    {
     "name": "stderr",
     "output_type": "stream",
     "text": [
      "\r",
      "Processing:  48%|█████████████████████████████████▎                                    | 10/21 [00:20<00:23,  2.10s/it]"
     ]
    },
    {
     "name": "stdout",
     "output_type": "stream",
     "text": [
      "1000.0\n",
      "Writing C:\\Users\\marco\\Documents\\MASTER_DATA_SCIENTIST\\TFM_MSD\\SEED_FRA_OUTPUT\\NEUTRAL\\2_2_trial_10_signals.fif\n"
     ]
    },
    {
     "name": "stderr",
     "output_type": "stream",
     "text": [
      "C:\\Users\\marco\\AppData\\Local\\Temp\\ipykernel_14260\\1741641518.py:44: RuntimeWarning: This filename (C:\\Users\\marco\\Documents\\MASTER_DATA_SCIENTIST\\TFM_MSD\\SEED_FRA_OUTPUT\\NEUTRAL\\2_2_trial_10_signals.fif) does not conform to MNE naming conventions. All raw files should end with raw.fif, raw_sss.fif, raw_tsss.fif, _meg.fif, _eeg.fif, _ieeg.fif, raw.fif.gz, raw_sss.fif.gz, raw_tsss.fif.gz, _meg.fif.gz, _eeg.fif.gz or _ieeg.fif.gz\n",
      "  eeg_trial.save(output_path, overwrite=True)\n"
     ]
    },
    {
     "name": "stdout",
     "output_type": "stream",
     "text": [
      "Closing C:\\Users\\marco\\Documents\\MASTER_DATA_SCIENTIST\\TFM_MSD\\SEED_FRA_OUTPUT\\NEUTRAL\\2_2_trial_10_signals.fif\n",
      "[done]\n"
     ]
    },
    {
     "name": "stderr",
     "output_type": "stream",
     "text": [
      "\r",
      "Processing:  52%|████████████████████████████████████▋                                 | 11/21 [00:21<00:19,  1.96s/it]"
     ]
    },
    {
     "name": "stdout",
     "output_type": "stream",
     "text": [
      "1000.0\n",
      "Writing C:\\Users\\marco\\Documents\\MASTER_DATA_SCIENTIST\\TFM_MSD\\SEED_FRA_OUTPUT\\POSITIVE\\2_2_trial_11_signals.fif\n"
     ]
    },
    {
     "name": "stderr",
     "output_type": "stream",
     "text": [
      "C:\\Users\\marco\\AppData\\Local\\Temp\\ipykernel_14260\\1741641518.py:44: RuntimeWarning: This filename (C:\\Users\\marco\\Documents\\MASTER_DATA_SCIENTIST\\TFM_MSD\\SEED_FRA_OUTPUT\\POSITIVE\\2_2_trial_11_signals.fif) does not conform to MNE naming conventions. All raw files should end with raw.fif, raw_sss.fif, raw_tsss.fif, _meg.fif, _eeg.fif, _ieeg.fif, raw.fif.gz, raw_sss.fif.gz, raw_tsss.fif.gz, _meg.fif.gz, _eeg.fif.gz or _ieeg.fif.gz\n",
      "  eeg_trial.save(output_path, overwrite=True)\n"
     ]
    },
    {
     "name": "stdout",
     "output_type": "stream",
     "text": [
      "Closing C:\\Users\\marco\\Documents\\MASTER_DATA_SCIENTIST\\TFM_MSD\\SEED_FRA_OUTPUT\\POSITIVE\\2_2_trial_11_signals.fif\n",
      "[done]\n"
     ]
    },
    {
     "name": "stderr",
     "output_type": "stream",
     "text": [
      "\r",
      "Processing:  57%|████████████████████████████████████████                              | 12/21 [00:24<00:18,  2.01s/it]"
     ]
    },
    {
     "name": "stdout",
     "output_type": "stream",
     "text": [
      "1000.0\n",
      "Writing C:\\Users\\marco\\Documents\\MASTER_DATA_SCIENTIST\\TFM_MSD\\SEED_FRA_OUTPUT\\POSITIVE\\2_2_trial_12_signals.fif\n"
     ]
    },
    {
     "name": "stderr",
     "output_type": "stream",
     "text": [
      "C:\\Users\\marco\\AppData\\Local\\Temp\\ipykernel_14260\\1741641518.py:44: RuntimeWarning: This filename (C:\\Users\\marco\\Documents\\MASTER_DATA_SCIENTIST\\TFM_MSD\\SEED_FRA_OUTPUT\\POSITIVE\\2_2_trial_12_signals.fif) does not conform to MNE naming conventions. All raw files should end with raw.fif, raw_sss.fif, raw_tsss.fif, _meg.fif, _eeg.fif, _ieeg.fif, raw.fif.gz, raw_sss.fif.gz, raw_tsss.fif.gz, _meg.fif.gz, _eeg.fif.gz or _ieeg.fif.gz\n",
      "  eeg_trial.save(output_path, overwrite=True)\n"
     ]
    },
    {
     "name": "stdout",
     "output_type": "stream",
     "text": [
      "Closing C:\\Users\\marco\\Documents\\MASTER_DATA_SCIENTIST\\TFM_MSD\\SEED_FRA_OUTPUT\\POSITIVE\\2_2_trial_12_signals.fif\n",
      "[done]\n"
     ]
    },
    {
     "name": "stderr",
     "output_type": "stream",
     "text": [
      "\r",
      "Processing:  62%|███████████████████████████████████████████▎                          | 13/21 [00:25<00:15,  1.90s/it]"
     ]
    },
    {
     "name": "stdout",
     "output_type": "stream",
     "text": [
      "1000.0\n",
      "Writing C:\\Users\\marco\\Documents\\MASTER_DATA_SCIENTIST\\TFM_MSD\\SEED_FRA_OUTPUT\\NEUTRAL\\2_2_trial_13_signals.fif\n"
     ]
    },
    {
     "name": "stderr",
     "output_type": "stream",
     "text": [
      "C:\\Users\\marco\\AppData\\Local\\Temp\\ipykernel_14260\\1741641518.py:44: RuntimeWarning: This filename (C:\\Users\\marco\\Documents\\MASTER_DATA_SCIENTIST\\TFM_MSD\\SEED_FRA_OUTPUT\\NEUTRAL\\2_2_trial_13_signals.fif) does not conform to MNE naming conventions. All raw files should end with raw.fif, raw_sss.fif, raw_tsss.fif, _meg.fif, _eeg.fif, _ieeg.fif, raw.fif.gz, raw_sss.fif.gz, raw_tsss.fif.gz, _meg.fif.gz, _eeg.fif.gz or _ieeg.fif.gz\n",
      "  eeg_trial.save(output_path, overwrite=True)\n"
     ]
    },
    {
     "name": "stdout",
     "output_type": "stream",
     "text": [
      "Closing C:\\Users\\marco\\Documents\\MASTER_DATA_SCIENTIST\\TFM_MSD\\SEED_FRA_OUTPUT\\NEUTRAL\\2_2_trial_13_signals.fif\n",
      "[done]\n"
     ]
    },
    {
     "name": "stderr",
     "output_type": "stream",
     "text": [
      "\r",
      "Processing:  67%|██████████████████████████████████████████████▋                       | 14/21 [00:27<00:13,  1.92s/it]"
     ]
    },
    {
     "name": "stdout",
     "output_type": "stream",
     "text": [
      "1000.0\n",
      "Writing C:\\Users\\marco\\Documents\\MASTER_DATA_SCIENTIST\\TFM_MSD\\SEED_FRA_OUTPUT\\NEGATIVE\\2_2_trial_14_signals.fif\n"
     ]
    },
    {
     "name": "stderr",
     "output_type": "stream",
     "text": [
      "C:\\Users\\marco\\AppData\\Local\\Temp\\ipykernel_14260\\1741641518.py:44: RuntimeWarning: This filename (C:\\Users\\marco\\Documents\\MASTER_DATA_SCIENTIST\\TFM_MSD\\SEED_FRA_OUTPUT\\NEGATIVE\\2_2_trial_14_signals.fif) does not conform to MNE naming conventions. All raw files should end with raw.fif, raw_sss.fif, raw_tsss.fif, _meg.fif, _eeg.fif, _ieeg.fif, raw.fif.gz, raw_sss.fif.gz, raw_tsss.fif.gz, _meg.fif.gz, _eeg.fif.gz or _ieeg.fif.gz\n",
      "  eeg_trial.save(output_path, overwrite=True)\n"
     ]
    },
    {
     "name": "stdout",
     "output_type": "stream",
     "text": [
      "Closing C:\\Users\\marco\\Documents\\MASTER_DATA_SCIENTIST\\TFM_MSD\\SEED_FRA_OUTPUT\\NEGATIVE\\2_2_trial_14_signals.fif\n",
      "[done]\n"
     ]
    },
    {
     "name": "stderr",
     "output_type": "stream",
     "text": [
      "\r",
      "Processing:  71%|██████████████████████████████████████████████████                    | 15/21 [00:29<00:11,  1.94s/it]"
     ]
    },
    {
     "name": "stdout",
     "output_type": "stream",
     "text": [
      "1000.0\n",
      "Writing C:\\Users\\marco\\Documents\\MASTER_DATA_SCIENTIST\\TFM_MSD\\SEED_FRA_OUTPUT\\NEGATIVE\\2_2_trial_15_signals.fif\n",
      "Closing C:\\Users\\marco\\Documents\\MASTER_DATA_SCIENTIST\\TFM_MSD\\SEED_FRA_OUTPUT\\NEGATIVE\\2_2_trial_15_signals.fif\n"
     ]
    },
    {
     "name": "stderr",
     "output_type": "stream",
     "text": [
      "C:\\Users\\marco\\AppData\\Local\\Temp\\ipykernel_14260\\1741641518.py:44: RuntimeWarning: This filename (C:\\Users\\marco\\Documents\\MASTER_DATA_SCIENTIST\\TFM_MSD\\SEED_FRA_OUTPUT\\NEGATIVE\\2_2_trial_15_signals.fif) does not conform to MNE naming conventions. All raw files should end with raw.fif, raw_sss.fif, raw_tsss.fif, _meg.fif, _eeg.fif, _ieeg.fif, raw.fif.gz, raw_sss.fif.gz, raw_tsss.fif.gz, _meg.fif.gz, _eeg.fif.gz or _ieeg.fif.gz\n",
      "  eeg_trial.save(output_path, overwrite=True)\n"
     ]
    },
    {
     "name": "stdout",
     "output_type": "stream",
     "text": [
      "[done]\n"
     ]
    },
    {
     "name": "stderr",
     "output_type": "stream",
     "text": [
      "\r",
      "Processing:  76%|█████████████████████████████████████████████████████▎                | 16/21 [00:31<00:09,  1.92s/it]"
     ]
    },
    {
     "name": "stdout",
     "output_type": "stream",
     "text": [
      "1000.0\n",
      "Writing C:\\Users\\marco\\Documents\\MASTER_DATA_SCIENTIST\\TFM_MSD\\SEED_FRA_OUTPUT\\NEUTRAL\\2_2_trial_16_signals.fif\n"
     ]
    },
    {
     "name": "stderr",
     "output_type": "stream",
     "text": [
      "C:\\Users\\marco\\AppData\\Local\\Temp\\ipykernel_14260\\1741641518.py:44: RuntimeWarning: This filename (C:\\Users\\marco\\Documents\\MASTER_DATA_SCIENTIST\\TFM_MSD\\SEED_FRA_OUTPUT\\NEUTRAL\\2_2_trial_16_signals.fif) does not conform to MNE naming conventions. All raw files should end with raw.fif, raw_sss.fif, raw_tsss.fif, _meg.fif, _eeg.fif, _ieeg.fif, raw.fif.gz, raw_sss.fif.gz, raw_tsss.fif.gz, _meg.fif.gz, _eeg.fif.gz or _ieeg.fif.gz\n",
      "  eeg_trial.save(output_path, overwrite=True)\n"
     ]
    },
    {
     "name": "stdout",
     "output_type": "stream",
     "text": [
      "Closing C:\\Users\\marco\\Documents\\MASTER_DATA_SCIENTIST\\TFM_MSD\\SEED_FRA_OUTPUT\\NEUTRAL\\2_2_trial_16_signals.fif\n",
      "[done]\n"
     ]
    },
    {
     "name": "stderr",
     "output_type": "stream",
     "text": [
      "\r",
      "Processing:  81%|████████████████████████████████████████████████████████▋             | 17/21 [00:33<00:07,  1.99s/it]"
     ]
    },
    {
     "name": "stdout",
     "output_type": "stream",
     "text": [
      "1000.0\n",
      "Writing C:\\Users\\marco\\Documents\\MASTER_DATA_SCIENTIST\\TFM_MSD\\SEED_FRA_OUTPUT\\POSITIVE\\2_2_trial_17_signals.fif\n"
     ]
    },
    {
     "name": "stderr",
     "output_type": "stream",
     "text": [
      "C:\\Users\\marco\\AppData\\Local\\Temp\\ipykernel_14260\\1741641518.py:44: RuntimeWarning: This filename (C:\\Users\\marco\\Documents\\MASTER_DATA_SCIENTIST\\TFM_MSD\\SEED_FRA_OUTPUT\\POSITIVE\\2_2_trial_17_signals.fif) does not conform to MNE naming conventions. All raw files should end with raw.fif, raw_sss.fif, raw_tsss.fif, _meg.fif, _eeg.fif, _ieeg.fif, raw.fif.gz, raw_sss.fif.gz, raw_tsss.fif.gz, _meg.fif.gz, _eeg.fif.gz or _ieeg.fif.gz\n",
      "  eeg_trial.save(output_path, overwrite=True)\n"
     ]
    },
    {
     "name": "stdout",
     "output_type": "stream",
     "text": [
      "Closing C:\\Users\\marco\\Documents\\MASTER_DATA_SCIENTIST\\TFM_MSD\\SEED_FRA_OUTPUT\\POSITIVE\\2_2_trial_17_signals.fif\n",
      "[done]\n"
     ]
    },
    {
     "name": "stderr",
     "output_type": "stream",
     "text": [
      "\r",
      "Processing:  86%|████████████████████████████████████████████████████████████          | 18/21 [00:35<00:05,  2.00s/it]"
     ]
    },
    {
     "name": "stdout",
     "output_type": "stream",
     "text": [
      "1000.0\n",
      "Writing C:\\Users\\marco\\Documents\\MASTER_DATA_SCIENTIST\\TFM_MSD\\SEED_FRA_OUTPUT\\NEGATIVE\\2_2_trial_18_signals.fif\n"
     ]
    },
    {
     "name": "stderr",
     "output_type": "stream",
     "text": [
      "C:\\Users\\marco\\AppData\\Local\\Temp\\ipykernel_14260\\1741641518.py:44: RuntimeWarning: This filename (C:\\Users\\marco\\Documents\\MASTER_DATA_SCIENTIST\\TFM_MSD\\SEED_FRA_OUTPUT\\NEGATIVE\\2_2_trial_18_signals.fif) does not conform to MNE naming conventions. All raw files should end with raw.fif, raw_sss.fif, raw_tsss.fif, _meg.fif, _eeg.fif, _ieeg.fif, raw.fif.gz, raw_sss.fif.gz, raw_tsss.fif.gz, _meg.fif.gz, _eeg.fif.gz or _ieeg.fif.gz\n",
      "  eeg_trial.save(output_path, overwrite=True)\n"
     ]
    },
    {
     "name": "stdout",
     "output_type": "stream",
     "text": [
      "Closing C:\\Users\\marco\\Documents\\MASTER_DATA_SCIENTIST\\TFM_MSD\\SEED_FRA_OUTPUT\\NEGATIVE\\2_2_trial_18_signals.fif\n",
      "[done]\n"
     ]
    },
    {
     "name": "stderr",
     "output_type": "stream",
     "text": [
      "\r",
      "Processing:  90%|███████████████████████████████████████████████████████████████▎      | 19/21 [00:37<00:04,  2.03s/it]"
     ]
    },
    {
     "name": "stdout",
     "output_type": "stream",
     "text": [
      "1000.0\n",
      "Writing C:\\Users\\marco\\Documents\\MASTER_DATA_SCIENTIST\\TFM_MSD\\SEED_FRA_OUTPUT\\NEUTRAL\\2_2_trial_19_signals.fif\n",
      "Closing C:\\Users\\marco\\Documents\\MASTER_DATA_SCIENTIST\\TFM_MSD\\SEED_FRA_OUTPUT\\NEUTRAL\\2_2_trial_19_signals.fif\n"
     ]
    },
    {
     "name": "stderr",
     "output_type": "stream",
     "text": [
      "C:\\Users\\marco\\AppData\\Local\\Temp\\ipykernel_14260\\1741641518.py:44: RuntimeWarning: This filename (C:\\Users\\marco\\Documents\\MASTER_DATA_SCIENTIST\\TFM_MSD\\SEED_FRA_OUTPUT\\NEUTRAL\\2_2_trial_19_signals.fif) does not conform to MNE naming conventions. All raw files should end with raw.fif, raw_sss.fif, raw_tsss.fif, _meg.fif, _eeg.fif, _ieeg.fif, raw.fif.gz, raw_sss.fif.gz, raw_tsss.fif.gz, _meg.fif.gz, _eeg.fif.gz or _ieeg.fif.gz\n",
      "  eeg_trial.save(output_path, overwrite=True)\n"
     ]
    },
    {
     "name": "stdout",
     "output_type": "stream",
     "text": [
      "[done]\n"
     ]
    },
    {
     "name": "stderr",
     "output_type": "stream",
     "text": [
      "\r",
      "Processing:  95%|██████████████████████████████████████████████████████████████████▋   | 20/21 [00:39<00:01,  1.96s/it]"
     ]
    },
    {
     "name": "stdout",
     "output_type": "stream",
     "text": [
      "1000.0\n",
      "Writing C:\\Users\\marco\\Documents\\MASTER_DATA_SCIENTIST\\TFM_MSD\\SEED_FRA_OUTPUT\\POSITIVE\\2_2_trial_20_signals.fif\n"
     ]
    },
    {
     "name": "stderr",
     "output_type": "stream",
     "text": [
      "C:\\Users\\marco\\AppData\\Local\\Temp\\ipykernel_14260\\1741641518.py:44: RuntimeWarning: This filename (C:\\Users\\marco\\Documents\\MASTER_DATA_SCIENTIST\\TFM_MSD\\SEED_FRA_OUTPUT\\POSITIVE\\2_2_trial_20_signals.fif) does not conform to MNE naming conventions. All raw files should end with raw.fif, raw_sss.fif, raw_tsss.fif, _meg.fif, _eeg.fif, _ieeg.fif, raw.fif.gz, raw_sss.fif.gz, raw_tsss.fif.gz, _meg.fif.gz, _eeg.fif.gz or _ieeg.fif.gz\n",
      "  eeg_trial.save(output_path, overwrite=True)\n"
     ]
    },
    {
     "name": "stdout",
     "output_type": "stream",
     "text": [
      "Closing C:\\Users\\marco\\Documents\\MASTER_DATA_SCIENTIST\\TFM_MSD\\SEED_FRA_OUTPUT\\POSITIVE\\2_2_trial_20_signals.fif\n",
      "[done]\n"
     ]
    },
    {
     "name": "stderr",
     "output_type": "stream",
     "text": [
      "Processing: 100%|██████████████████████████████████████████████████████████████████████| 21/21 [00:41<00:00,  1.98s/it]\n"
     ]
    },
    {
     "name": "stdout",
     "output_type": "stream",
     "text": [
      "Reading 0 ... 3819839  =      0.000 ...  3819.839 secs...\n",
      "Filtering raw data in 1 contiguous segment\n",
      "Setting up band-pass filter from 0.5 - 55 Hz\n",
      "\n",
      "FIR filter parameters\n",
      "---------------------\n",
      "Designing a one-pass, zero-phase, non-causal bandpass filter:\n",
      "- Windowed time-domain design (firwin) method\n",
      "- Hamming window with 0.0194 passband ripple and 53 dB stopband attenuation\n",
      "- Lower passband edge: 0.50\n",
      "- Lower transition bandwidth: 0.50 Hz (-6 dB cutoff frequency: 0.25 Hz)\n",
      "- Upper passband edge: 55.00 Hz\n",
      "- Upper transition bandwidth: 13.75 Hz (-6 dB cutoff frequency: 61.88 Hz)\n",
      "- Filter length: 6601 samples (6.601 sec)\n",
      "\n"
     ]
    },
    {
     "name": "stderr",
     "output_type": "stream",
     "text": [
      "\r",
      "Processing:   0%|                                                                               | 0/21 [00:00<?, ?it/s]"
     ]
    },
    {
     "name": "stdout",
     "output_type": "stream",
     "text": [
      "1000.0\n",
      "Writing C:\\Users\\marco\\Documents\\MASTER_DATA_SCIENTIST\\TFM_MSD\\SEED_FRA_OUTPUT\\POSITIVE\\2_3_trial_0_signals.fif\n"
     ]
    },
    {
     "name": "stderr",
     "output_type": "stream",
     "text": [
      "C:\\Users\\marco\\AppData\\Local\\Temp\\ipykernel_14260\\1741641518.py:44: RuntimeWarning: This filename (C:\\Users\\marco\\Documents\\MASTER_DATA_SCIENTIST\\TFM_MSD\\SEED_FRA_OUTPUT\\POSITIVE\\2_3_trial_0_signals.fif) does not conform to MNE naming conventions. All raw files should end with raw.fif, raw_sss.fif, raw_tsss.fif, _meg.fif, _eeg.fif, _ieeg.fif, raw.fif.gz, raw_sss.fif.gz, raw_tsss.fif.gz, _meg.fif.gz, _eeg.fif.gz or _ieeg.fif.gz\n",
      "  eeg_trial.save(output_path, overwrite=True)\n"
     ]
    },
    {
     "name": "stdout",
     "output_type": "stream",
     "text": [
      "Closing C:\\Users\\marco\\Documents\\MASTER_DATA_SCIENTIST\\TFM_MSD\\SEED_FRA_OUTPUT\\POSITIVE\\2_3_trial_0_signals.fif\n",
      "[done]\n"
     ]
    },
    {
     "name": "stderr",
     "output_type": "stream",
     "text": [
      "\r",
      "Processing:   5%|███▍                                                                   | 1/21 [00:01<00:36,  1.83s/it]"
     ]
    },
    {
     "name": "stdout",
     "output_type": "stream",
     "text": [
      "1000.0\n",
      "Writing C:\\Users\\marco\\Documents\\MASTER_DATA_SCIENTIST\\TFM_MSD\\SEED_FRA_OUTPUT\\NEGATIVE\\2_3_trial_1_signals.fif\n"
     ]
    },
    {
     "name": "stderr",
     "output_type": "stream",
     "text": [
      "C:\\Users\\marco\\AppData\\Local\\Temp\\ipykernel_14260\\1741641518.py:44: RuntimeWarning: This filename (C:\\Users\\marco\\Documents\\MASTER_DATA_SCIENTIST\\TFM_MSD\\SEED_FRA_OUTPUT\\NEGATIVE\\2_3_trial_1_signals.fif) does not conform to MNE naming conventions. All raw files should end with raw.fif, raw_sss.fif, raw_tsss.fif, _meg.fif, _eeg.fif, _ieeg.fif, raw.fif.gz, raw_sss.fif.gz, raw_tsss.fif.gz, _meg.fif.gz, _eeg.fif.gz or _ieeg.fif.gz\n",
      "  eeg_trial.save(output_path, overwrite=True)\n"
     ]
    },
    {
     "name": "stdout",
     "output_type": "stream",
     "text": [
      "Closing C:\\Users\\marco\\Documents\\MASTER_DATA_SCIENTIST\\TFM_MSD\\SEED_FRA_OUTPUT\\NEGATIVE\\2_3_trial_1_signals.fif\n",
      "[done]\n"
     ]
    },
    {
     "name": "stderr",
     "output_type": "stream",
     "text": [
      "\r",
      "Processing:  10%|██████▊                                                                | 2/21 [00:03<00:35,  1.87s/it]"
     ]
    },
    {
     "name": "stdout",
     "output_type": "stream",
     "text": [
      "1000.0\n",
      "Writing C:\\Users\\marco\\Documents\\MASTER_DATA_SCIENTIST\\TFM_MSD\\SEED_FRA_OUTPUT\\NEUTRAL\\2_3_trial_2_signals.fif\n"
     ]
    },
    {
     "name": "stderr",
     "output_type": "stream",
     "text": [
      "C:\\Users\\marco\\AppData\\Local\\Temp\\ipykernel_14260\\1741641518.py:44: RuntimeWarning: This filename (C:\\Users\\marco\\Documents\\MASTER_DATA_SCIENTIST\\TFM_MSD\\SEED_FRA_OUTPUT\\NEUTRAL\\2_3_trial_2_signals.fif) does not conform to MNE naming conventions. All raw files should end with raw.fif, raw_sss.fif, raw_tsss.fif, _meg.fif, _eeg.fif, _ieeg.fif, raw.fif.gz, raw_sss.fif.gz, raw_tsss.fif.gz, _meg.fif.gz, _eeg.fif.gz or _ieeg.fif.gz\n",
      "  eeg_trial.save(output_path, overwrite=True)\n"
     ]
    },
    {
     "name": "stdout",
     "output_type": "stream",
     "text": [
      "Closing C:\\Users\\marco\\Documents\\MASTER_DATA_SCIENTIST\\TFM_MSD\\SEED_FRA_OUTPUT\\NEUTRAL\\2_3_trial_2_signals.fif\n",
      "[done]\n"
     ]
    },
    {
     "name": "stderr",
     "output_type": "stream",
     "text": [
      "\r",
      "Processing:  14%|██████████▏                                                            | 3/21 [00:05<00:36,  2.01s/it]"
     ]
    },
    {
     "name": "stdout",
     "output_type": "stream",
     "text": [
      "1000.0\n",
      "Writing C:\\Users\\marco\\Documents\\MASTER_DATA_SCIENTIST\\TFM_MSD\\SEED_FRA_OUTPUT\\NEGATIVE\\2_3_trial_3_signals.fif\n"
     ]
    },
    {
     "name": "stderr",
     "output_type": "stream",
     "text": [
      "C:\\Users\\marco\\AppData\\Local\\Temp\\ipykernel_14260\\1741641518.py:44: RuntimeWarning: This filename (C:\\Users\\marco\\Documents\\MASTER_DATA_SCIENTIST\\TFM_MSD\\SEED_FRA_OUTPUT\\NEGATIVE\\2_3_trial_3_signals.fif) does not conform to MNE naming conventions. All raw files should end with raw.fif, raw_sss.fif, raw_tsss.fif, _meg.fif, _eeg.fif, _ieeg.fif, raw.fif.gz, raw_sss.fif.gz, raw_tsss.fif.gz, _meg.fif.gz, _eeg.fif.gz or _ieeg.fif.gz\n",
      "  eeg_trial.save(output_path, overwrite=True)\n"
     ]
    },
    {
     "name": "stdout",
     "output_type": "stream",
     "text": [
      "Closing C:\\Users\\marco\\Documents\\MASTER_DATA_SCIENTIST\\TFM_MSD\\SEED_FRA_OUTPUT\\NEGATIVE\\2_3_trial_3_signals.fif\n",
      "[done]\n"
     ]
    },
    {
     "name": "stderr",
     "output_type": "stream",
     "text": [
      "\r",
      "Processing:  19%|█████████████▌                                                         | 4/21 [00:08<00:36,  2.15s/it]"
     ]
    },
    {
     "name": "stdout",
     "output_type": "stream",
     "text": [
      "1000.0\n",
      "Writing C:\\Users\\marco\\Documents\\MASTER_DATA_SCIENTIST\\TFM_MSD\\SEED_FRA_OUTPUT\\POSITIVE\\2_3_trial_4_signals.fif\n"
     ]
    },
    {
     "name": "stderr",
     "output_type": "stream",
     "text": [
      "C:\\Users\\marco\\AppData\\Local\\Temp\\ipykernel_14260\\1741641518.py:44: RuntimeWarning: This filename (C:\\Users\\marco\\Documents\\MASTER_DATA_SCIENTIST\\TFM_MSD\\SEED_FRA_OUTPUT\\POSITIVE\\2_3_trial_4_signals.fif) does not conform to MNE naming conventions. All raw files should end with raw.fif, raw_sss.fif, raw_tsss.fif, _meg.fif, _eeg.fif, _ieeg.fif, raw.fif.gz, raw_sss.fif.gz, raw_tsss.fif.gz, _meg.fif.gz, _eeg.fif.gz or _ieeg.fif.gz\n",
      "  eeg_trial.save(output_path, overwrite=True)\n"
     ]
    },
    {
     "name": "stdout",
     "output_type": "stream",
     "text": [
      "Closing C:\\Users\\marco\\Documents\\MASTER_DATA_SCIENTIST\\TFM_MSD\\SEED_FRA_OUTPUT\\POSITIVE\\2_3_trial_4_signals.fif\n",
      "[done]\n"
     ]
    },
    {
     "name": "stderr",
     "output_type": "stream",
     "text": [
      "\r",
      "Processing:  24%|████████████████▉                                                      | 5/21 [00:10<00:33,  2.08s/it]"
     ]
    },
    {
     "name": "stdout",
     "output_type": "stream",
     "text": [
      "1000.0\n",
      "Writing C:\\Users\\marco\\Documents\\MASTER_DATA_SCIENTIST\\TFM_MSD\\SEED_FRA_OUTPUT\\NEUTRAL\\2_3_trial_5_signals.fif\n"
     ]
    },
    {
     "name": "stderr",
     "output_type": "stream",
     "text": [
      "C:\\Users\\marco\\AppData\\Local\\Temp\\ipykernel_14260\\1741641518.py:44: RuntimeWarning: This filename (C:\\Users\\marco\\Documents\\MASTER_DATA_SCIENTIST\\TFM_MSD\\SEED_FRA_OUTPUT\\NEUTRAL\\2_3_trial_5_signals.fif) does not conform to MNE naming conventions. All raw files should end with raw.fif, raw_sss.fif, raw_tsss.fif, _meg.fif, _eeg.fif, _ieeg.fif, raw.fif.gz, raw_sss.fif.gz, raw_tsss.fif.gz, _meg.fif.gz, _eeg.fif.gz or _ieeg.fif.gz\n",
      "  eeg_trial.save(output_path, overwrite=True)\n"
     ]
    },
    {
     "name": "stdout",
     "output_type": "stream",
     "text": [
      "Closing C:\\Users\\marco\\Documents\\MASTER_DATA_SCIENTIST\\TFM_MSD\\SEED_FRA_OUTPUT\\NEUTRAL\\2_3_trial_5_signals.fif\n",
      "[done]\n"
     ]
    },
    {
     "name": "stderr",
     "output_type": "stream",
     "text": [
      "\r",
      "Processing:  29%|████████████████████▎                                                  | 6/21 [00:11<00:28,  1.91s/it]"
     ]
    },
    {
     "name": "stdout",
     "output_type": "stream",
     "text": [
      "1000.0\n",
      "Writing C:\\Users\\marco\\Documents\\MASTER_DATA_SCIENTIST\\TFM_MSD\\SEED_FRA_OUTPUT\\NEGATIVE\\2_3_trial_6_signals.fif\n"
     ]
    },
    {
     "name": "stderr",
     "output_type": "stream",
     "text": [
      "C:\\Users\\marco\\AppData\\Local\\Temp\\ipykernel_14260\\1741641518.py:44: RuntimeWarning: This filename (C:\\Users\\marco\\Documents\\MASTER_DATA_SCIENTIST\\TFM_MSD\\SEED_FRA_OUTPUT\\NEGATIVE\\2_3_trial_6_signals.fif) does not conform to MNE naming conventions. All raw files should end with raw.fif, raw_sss.fif, raw_tsss.fif, _meg.fif, _eeg.fif, _ieeg.fif, raw.fif.gz, raw_sss.fif.gz, raw_tsss.fif.gz, _meg.fif.gz, _eeg.fif.gz or _ieeg.fif.gz\n",
      "  eeg_trial.save(output_path, overwrite=True)\n"
     ]
    },
    {
     "name": "stdout",
     "output_type": "stream",
     "text": [
      "Closing C:\\Users\\marco\\Documents\\MASTER_DATA_SCIENTIST\\TFM_MSD\\SEED_FRA_OUTPUT\\NEGATIVE\\2_3_trial_6_signals.fif\n",
      "[done]\n"
     ]
    },
    {
     "name": "stderr",
     "output_type": "stream",
     "text": [
      "\r",
      "Processing:  33%|███████████████████████▋                                               | 7/21 [00:14<00:28,  2.01s/it]"
     ]
    },
    {
     "name": "stdout",
     "output_type": "stream",
     "text": [
      "1000.0\n",
      "Writing C:\\Users\\marco\\Documents\\MASTER_DATA_SCIENTIST\\TFM_MSD\\SEED_FRA_OUTPUT\\NEUTRAL\\2_3_trial_7_signals.fif\n"
     ]
    },
    {
     "name": "stderr",
     "output_type": "stream",
     "text": [
      "C:\\Users\\marco\\AppData\\Local\\Temp\\ipykernel_14260\\1741641518.py:44: RuntimeWarning: This filename (C:\\Users\\marco\\Documents\\MASTER_DATA_SCIENTIST\\TFM_MSD\\SEED_FRA_OUTPUT\\NEUTRAL\\2_3_trial_7_signals.fif) does not conform to MNE naming conventions. All raw files should end with raw.fif, raw_sss.fif, raw_tsss.fif, _meg.fif, _eeg.fif, _ieeg.fif, raw.fif.gz, raw_sss.fif.gz, raw_tsss.fif.gz, _meg.fif.gz, _eeg.fif.gz or _ieeg.fif.gz\n",
      "  eeg_trial.save(output_path, overwrite=True)\n"
     ]
    },
    {
     "name": "stdout",
     "output_type": "stream",
     "text": [
      "Closing C:\\Users\\marco\\Documents\\MASTER_DATA_SCIENTIST\\TFM_MSD\\SEED_FRA_OUTPUT\\NEUTRAL\\2_3_trial_7_signals.fif\n",
      "[done]\n"
     ]
    },
    {
     "name": "stderr",
     "output_type": "stream",
     "text": [
      "\r",
      "Processing:  38%|███████████████████████████                                            | 8/21 [00:15<00:25,  1.96s/it]"
     ]
    },
    {
     "name": "stdout",
     "output_type": "stream",
     "text": [
      "1000.0\n",
      "Writing C:\\Users\\marco\\Documents\\MASTER_DATA_SCIENTIST\\TFM_MSD\\SEED_FRA_OUTPUT\\POSITIVE\\2_3_trial_8_signals.fif\n"
     ]
    },
    {
     "name": "stderr",
     "output_type": "stream",
     "text": [
      "C:\\Users\\marco\\AppData\\Local\\Temp\\ipykernel_14260\\1741641518.py:44: RuntimeWarning: This filename (C:\\Users\\marco\\Documents\\MASTER_DATA_SCIENTIST\\TFM_MSD\\SEED_FRA_OUTPUT\\POSITIVE\\2_3_trial_8_signals.fif) does not conform to MNE naming conventions. All raw files should end with raw.fif, raw_sss.fif, raw_tsss.fif, _meg.fif, _eeg.fif, _ieeg.fif, raw.fif.gz, raw_sss.fif.gz, raw_tsss.fif.gz, _meg.fif.gz, _eeg.fif.gz or _ieeg.fif.gz\n",
      "  eeg_trial.save(output_path, overwrite=True)\n"
     ]
    },
    {
     "name": "stdout",
     "output_type": "stream",
     "text": [
      "Closing C:\\Users\\marco\\Documents\\MASTER_DATA_SCIENTIST\\TFM_MSD\\SEED_FRA_OUTPUT\\POSITIVE\\2_3_trial_8_signals.fif\n",
      "[done]\n"
     ]
    },
    {
     "name": "stderr",
     "output_type": "stream",
     "text": [
      "\r",
      "Processing:  43%|██████████████████████████████▍                                        | 9/21 [00:17<00:23,  1.99s/it]"
     ]
    },
    {
     "name": "stdout",
     "output_type": "stream",
     "text": [
      "1000.0\n",
      "Writing C:\\Users\\marco\\Documents\\MASTER_DATA_SCIENTIST\\TFM_MSD\\SEED_FRA_OUTPUT\\NEGATIVE\\2_3_trial_9_signals.fif\n"
     ]
    },
    {
     "name": "stderr",
     "output_type": "stream",
     "text": [
      "C:\\Users\\marco\\AppData\\Local\\Temp\\ipykernel_14260\\1741641518.py:44: RuntimeWarning: This filename (C:\\Users\\marco\\Documents\\MASTER_DATA_SCIENTIST\\TFM_MSD\\SEED_FRA_OUTPUT\\NEGATIVE\\2_3_trial_9_signals.fif) does not conform to MNE naming conventions. All raw files should end with raw.fif, raw_sss.fif, raw_tsss.fif, _meg.fif, _eeg.fif, _ieeg.fif, raw.fif.gz, raw_sss.fif.gz, raw_tsss.fif.gz, _meg.fif.gz, _eeg.fif.gz or _ieeg.fif.gz\n",
      "  eeg_trial.save(output_path, overwrite=True)\n"
     ]
    },
    {
     "name": "stdout",
     "output_type": "stream",
     "text": [
      "Closing C:\\Users\\marco\\Documents\\MASTER_DATA_SCIENTIST\\TFM_MSD\\SEED_FRA_OUTPUT\\NEGATIVE\\2_3_trial_9_signals.fif\n",
      "[done]\n"
     ]
    },
    {
     "name": "stderr",
     "output_type": "stream",
     "text": [
      "\r",
      "Processing:  48%|█████████████████████████████████▎                                    | 10/21 [00:20<00:22,  2.07s/it]"
     ]
    },
    {
     "name": "stdout",
     "output_type": "stream",
     "text": [
      "1000.0\n",
      "Writing C:\\Users\\marco\\Documents\\MASTER_DATA_SCIENTIST\\TFM_MSD\\SEED_FRA_OUTPUT\\NEUTRAL\\2_3_trial_10_signals.fif\n"
     ]
    },
    {
     "name": "stderr",
     "output_type": "stream",
     "text": [
      "C:\\Users\\marco\\AppData\\Local\\Temp\\ipykernel_14260\\1741641518.py:44: RuntimeWarning: This filename (C:\\Users\\marco\\Documents\\MASTER_DATA_SCIENTIST\\TFM_MSD\\SEED_FRA_OUTPUT\\NEUTRAL\\2_3_trial_10_signals.fif) does not conform to MNE naming conventions. All raw files should end with raw.fif, raw_sss.fif, raw_tsss.fif, _meg.fif, _eeg.fif, _ieeg.fif, raw.fif.gz, raw_sss.fif.gz, raw_tsss.fif.gz, _meg.fif.gz, _eeg.fif.gz or _ieeg.fif.gz\n",
      "  eeg_trial.save(output_path, overwrite=True)\n"
     ]
    },
    {
     "name": "stdout",
     "output_type": "stream",
     "text": [
      "Closing C:\\Users\\marco\\Documents\\MASTER_DATA_SCIENTIST\\TFM_MSD\\SEED_FRA_OUTPUT\\NEUTRAL\\2_3_trial_10_signals.fif\n",
      "[done]\n"
     ]
    },
    {
     "name": "stderr",
     "output_type": "stream",
     "text": [
      "\r",
      "Processing:  52%|████████████████████████████████████▋                                 | 11/21 [00:22<00:20,  2.01s/it]"
     ]
    },
    {
     "name": "stdout",
     "output_type": "stream",
     "text": [
      "1000.0\n",
      "Writing C:\\Users\\marco\\Documents\\MASTER_DATA_SCIENTIST\\TFM_MSD\\SEED_FRA_OUTPUT\\POSITIVE\\2_3_trial_11_signals.fif\n"
     ]
    },
    {
     "name": "stderr",
     "output_type": "stream",
     "text": [
      "C:\\Users\\marco\\AppData\\Local\\Temp\\ipykernel_14260\\1741641518.py:44: RuntimeWarning: This filename (C:\\Users\\marco\\Documents\\MASTER_DATA_SCIENTIST\\TFM_MSD\\SEED_FRA_OUTPUT\\POSITIVE\\2_3_trial_11_signals.fif) does not conform to MNE naming conventions. All raw files should end with raw.fif, raw_sss.fif, raw_tsss.fif, _meg.fif, _eeg.fif, _ieeg.fif, raw.fif.gz, raw_sss.fif.gz, raw_tsss.fif.gz, _meg.fif.gz, _eeg.fif.gz or _ieeg.fif.gz\n",
      "  eeg_trial.save(output_path, overwrite=True)\n"
     ]
    },
    {
     "name": "stdout",
     "output_type": "stream",
     "text": [
      "Closing C:\\Users\\marco\\Documents\\MASTER_DATA_SCIENTIST\\TFM_MSD\\SEED_FRA_OUTPUT\\POSITIVE\\2_3_trial_11_signals.fif\n",
      "[done]\n"
     ]
    },
    {
     "name": "stderr",
     "output_type": "stream",
     "text": [
      "\r",
      "Processing:  57%|████████████████████████████████████████                              | 12/21 [00:23<00:17,  1.99s/it]"
     ]
    },
    {
     "name": "stdout",
     "output_type": "stream",
     "text": [
      "1000.0\n",
      "Writing C:\\Users\\marco\\Documents\\MASTER_DATA_SCIENTIST\\TFM_MSD\\SEED_FRA_OUTPUT\\POSITIVE\\2_3_trial_12_signals.fif\n"
     ]
    },
    {
     "name": "stderr",
     "output_type": "stream",
     "text": [
      "C:\\Users\\marco\\AppData\\Local\\Temp\\ipykernel_14260\\1741641518.py:44: RuntimeWarning: This filename (C:\\Users\\marco\\Documents\\MASTER_DATA_SCIENTIST\\TFM_MSD\\SEED_FRA_OUTPUT\\POSITIVE\\2_3_trial_12_signals.fif) does not conform to MNE naming conventions. All raw files should end with raw.fif, raw_sss.fif, raw_tsss.fif, _meg.fif, _eeg.fif, _ieeg.fif, raw.fif.gz, raw_sss.fif.gz, raw_tsss.fif.gz, _meg.fif.gz, _eeg.fif.gz or _ieeg.fif.gz\n",
      "  eeg_trial.save(output_path, overwrite=True)\n"
     ]
    },
    {
     "name": "stdout",
     "output_type": "stream",
     "text": [
      "Closing C:\\Users\\marco\\Documents\\MASTER_DATA_SCIENTIST\\TFM_MSD\\SEED_FRA_OUTPUT\\POSITIVE\\2_3_trial_12_signals.fif\n",
      "[done]\n"
     ]
    },
    {
     "name": "stderr",
     "output_type": "stream",
     "text": [
      "\r",
      "Processing:  62%|███████████████████████████████████████████▎                          | 13/21 [00:25<00:15,  1.99s/it]"
     ]
    },
    {
     "name": "stdout",
     "output_type": "stream",
     "text": [
      "1000.0\n",
      "Writing C:\\Users\\marco\\Documents\\MASTER_DATA_SCIENTIST\\TFM_MSD\\SEED_FRA_OUTPUT\\NEUTRAL\\2_3_trial_13_signals.fif\n"
     ]
    },
    {
     "name": "stderr",
     "output_type": "stream",
     "text": [
      "C:\\Users\\marco\\AppData\\Local\\Temp\\ipykernel_14260\\1741641518.py:44: RuntimeWarning: This filename (C:\\Users\\marco\\Documents\\MASTER_DATA_SCIENTIST\\TFM_MSD\\SEED_FRA_OUTPUT\\NEUTRAL\\2_3_trial_13_signals.fif) does not conform to MNE naming conventions. All raw files should end with raw.fif, raw_sss.fif, raw_tsss.fif, _meg.fif, _eeg.fif, _ieeg.fif, raw.fif.gz, raw_sss.fif.gz, raw_tsss.fif.gz, _meg.fif.gz, _eeg.fif.gz or _ieeg.fif.gz\n",
      "  eeg_trial.save(output_path, overwrite=True)\n"
     ]
    },
    {
     "name": "stdout",
     "output_type": "stream",
     "text": [
      "Closing C:\\Users\\marco\\Documents\\MASTER_DATA_SCIENTIST\\TFM_MSD\\SEED_FRA_OUTPUT\\NEUTRAL\\2_3_trial_13_signals.fif\n",
      "[done]\n"
     ]
    },
    {
     "name": "stderr",
     "output_type": "stream",
     "text": [
      "\r",
      "Processing:  67%|██████████████████████████████████████████████▋                       | 14/21 [00:27<00:13,  1.87s/it]"
     ]
    },
    {
     "name": "stdout",
     "output_type": "stream",
     "text": [
      "1000.0\n",
      "Writing C:\\Users\\marco\\Documents\\MASTER_DATA_SCIENTIST\\TFM_MSD\\SEED_FRA_OUTPUT\\NEGATIVE\\2_3_trial_14_signals.fif\n"
     ]
    },
    {
     "name": "stderr",
     "output_type": "stream",
     "text": [
      "C:\\Users\\marco\\AppData\\Local\\Temp\\ipykernel_14260\\1741641518.py:44: RuntimeWarning: This filename (C:\\Users\\marco\\Documents\\MASTER_DATA_SCIENTIST\\TFM_MSD\\SEED_FRA_OUTPUT\\NEGATIVE\\2_3_trial_14_signals.fif) does not conform to MNE naming conventions. All raw files should end with raw.fif, raw_sss.fif, raw_tsss.fif, _meg.fif, _eeg.fif, _ieeg.fif, raw.fif.gz, raw_sss.fif.gz, raw_tsss.fif.gz, _meg.fif.gz, _eeg.fif.gz or _ieeg.fif.gz\n",
      "  eeg_trial.save(output_path, overwrite=True)\n"
     ]
    },
    {
     "name": "stdout",
     "output_type": "stream",
     "text": [
      "Closing C:\\Users\\marco\\Documents\\MASTER_DATA_SCIENTIST\\TFM_MSD\\SEED_FRA_OUTPUT\\NEGATIVE\\2_3_trial_14_signals.fif\n",
      "[done]\n"
     ]
    },
    {
     "name": "stderr",
     "output_type": "stream",
     "text": [
      "\r",
      "Processing:  71%|██████████████████████████████████████████████████                    | 15/21 [00:29<00:11,  1.88s/it]"
     ]
    },
    {
     "name": "stdout",
     "output_type": "stream",
     "text": [
      "1000.0\n",
      "Writing C:\\Users\\marco\\Documents\\MASTER_DATA_SCIENTIST\\TFM_MSD\\SEED_FRA_OUTPUT\\NEGATIVE\\2_3_trial_15_signals.fif\n",
      "Closing C:\\Users\\marco\\Documents\\MASTER_DATA_SCIENTIST\\TFM_MSD\\SEED_FRA_OUTPUT\\NEGATIVE\\2_3_trial_15_signals.fif\n"
     ]
    },
    {
     "name": "stderr",
     "output_type": "stream",
     "text": [
      "C:\\Users\\marco\\AppData\\Local\\Temp\\ipykernel_14260\\1741641518.py:44: RuntimeWarning: This filename (C:\\Users\\marco\\Documents\\MASTER_DATA_SCIENTIST\\TFM_MSD\\SEED_FRA_OUTPUT\\NEGATIVE\\2_3_trial_15_signals.fif) does not conform to MNE naming conventions. All raw files should end with raw.fif, raw_sss.fif, raw_tsss.fif, _meg.fif, _eeg.fif, _ieeg.fif, raw.fif.gz, raw_sss.fif.gz, raw_tsss.fif.gz, _meg.fif.gz, _eeg.fif.gz or _ieeg.fif.gz\n",
      "  eeg_trial.save(output_path, overwrite=True)\n"
     ]
    },
    {
     "name": "stdout",
     "output_type": "stream",
     "text": [
      "[done]\n"
     ]
    },
    {
     "name": "stderr",
     "output_type": "stream",
     "text": [
      "\r",
      "Processing:  76%|█████████████████████████████████████████████████████▎                | 16/21 [00:31<00:09,  1.88s/it]"
     ]
    },
    {
     "name": "stdout",
     "output_type": "stream",
     "text": [
      "1000.0\n",
      "Writing C:\\Users\\marco\\Documents\\MASTER_DATA_SCIENTIST\\TFM_MSD\\SEED_FRA_OUTPUT\\NEUTRAL\\2_3_trial_16_signals.fif\n"
     ]
    },
    {
     "name": "stderr",
     "output_type": "stream",
     "text": [
      "C:\\Users\\marco\\AppData\\Local\\Temp\\ipykernel_14260\\1741641518.py:44: RuntimeWarning: This filename (C:\\Users\\marco\\Documents\\MASTER_DATA_SCIENTIST\\TFM_MSD\\SEED_FRA_OUTPUT\\NEUTRAL\\2_3_trial_16_signals.fif) does not conform to MNE naming conventions. All raw files should end with raw.fif, raw_sss.fif, raw_tsss.fif, _meg.fif, _eeg.fif, _ieeg.fif, raw.fif.gz, raw_sss.fif.gz, raw_tsss.fif.gz, _meg.fif.gz, _eeg.fif.gz or _ieeg.fif.gz\n",
      "  eeg_trial.save(output_path, overwrite=True)\n"
     ]
    },
    {
     "name": "stdout",
     "output_type": "stream",
     "text": [
      "Closing C:\\Users\\marco\\Documents\\MASTER_DATA_SCIENTIST\\TFM_MSD\\SEED_FRA_OUTPUT\\NEUTRAL\\2_3_trial_16_signals.fif\n",
      "[done]\n"
     ]
    },
    {
     "name": "stderr",
     "output_type": "stream",
     "text": [
      "\r",
      "Processing:  81%|████████████████████████████████████████████████████████▋             | 17/21 [00:33<00:07,  1.95s/it]"
     ]
    },
    {
     "name": "stdout",
     "output_type": "stream",
     "text": [
      "1000.0\n",
      "Writing C:\\Users\\marco\\Documents\\MASTER_DATA_SCIENTIST\\TFM_MSD\\SEED_FRA_OUTPUT\\POSITIVE\\2_3_trial_17_signals.fif\n"
     ]
    },
    {
     "name": "stderr",
     "output_type": "stream",
     "text": [
      "C:\\Users\\marco\\AppData\\Local\\Temp\\ipykernel_14260\\1741641518.py:44: RuntimeWarning: This filename (C:\\Users\\marco\\Documents\\MASTER_DATA_SCIENTIST\\TFM_MSD\\SEED_FRA_OUTPUT\\POSITIVE\\2_3_trial_17_signals.fif) does not conform to MNE naming conventions. All raw files should end with raw.fif, raw_sss.fif, raw_tsss.fif, _meg.fif, _eeg.fif, _ieeg.fif, raw.fif.gz, raw_sss.fif.gz, raw_tsss.fif.gz, _meg.fif.gz, _eeg.fif.gz or _ieeg.fif.gz\n",
      "  eeg_trial.save(output_path, overwrite=True)\n"
     ]
    },
    {
     "name": "stdout",
     "output_type": "stream",
     "text": [
      "Closing C:\\Users\\marco\\Documents\\MASTER_DATA_SCIENTIST\\TFM_MSD\\SEED_FRA_OUTPUT\\POSITIVE\\2_3_trial_17_signals.fif\n",
      "[done]\n"
     ]
    },
    {
     "name": "stderr",
     "output_type": "stream",
     "text": [
      "\r",
      "Processing:  86%|████████████████████████████████████████████████████████████          | 18/21 [00:35<00:05,  1.97s/it]"
     ]
    },
    {
     "name": "stdout",
     "output_type": "stream",
     "text": [
      "1000.0\n",
      "Writing C:\\Users\\marco\\Documents\\MASTER_DATA_SCIENTIST\\TFM_MSD\\SEED_FRA_OUTPUT\\NEGATIVE\\2_3_trial_18_signals.fif\n"
     ]
    },
    {
     "name": "stderr",
     "output_type": "stream",
     "text": [
      "C:\\Users\\marco\\AppData\\Local\\Temp\\ipykernel_14260\\1741641518.py:44: RuntimeWarning: This filename (C:\\Users\\marco\\Documents\\MASTER_DATA_SCIENTIST\\TFM_MSD\\SEED_FRA_OUTPUT\\NEGATIVE\\2_3_trial_18_signals.fif) does not conform to MNE naming conventions. All raw files should end with raw.fif, raw_sss.fif, raw_tsss.fif, _meg.fif, _eeg.fif, _ieeg.fif, raw.fif.gz, raw_sss.fif.gz, raw_tsss.fif.gz, _meg.fif.gz, _eeg.fif.gz or _ieeg.fif.gz\n",
      "  eeg_trial.save(output_path, overwrite=True)\n"
     ]
    },
    {
     "name": "stdout",
     "output_type": "stream",
     "text": [
      "Closing C:\\Users\\marco\\Documents\\MASTER_DATA_SCIENTIST\\TFM_MSD\\SEED_FRA_OUTPUT\\NEGATIVE\\2_3_trial_18_signals.fif\n",
      "[done]\n"
     ]
    },
    {
     "name": "stderr",
     "output_type": "stream",
     "text": [
      "\r",
      "Processing:  90%|███████████████████████████████████████████████████████████████▎      | 19/21 [00:37<00:03,  1.98s/it]"
     ]
    },
    {
     "name": "stdout",
     "output_type": "stream",
     "text": [
      "1000.0\n",
      "Writing C:\\Users\\marco\\Documents\\MASTER_DATA_SCIENTIST\\TFM_MSD\\SEED_FRA_OUTPUT\\NEUTRAL\\2_3_trial_19_signals.fif\n",
      "Closing C:\\Users\\marco\\Documents\\MASTER_DATA_SCIENTIST\\TFM_MSD\\SEED_FRA_OUTPUT\\NEUTRAL\\2_3_trial_19_signals.fif\n"
     ]
    },
    {
     "name": "stderr",
     "output_type": "stream",
     "text": [
      "C:\\Users\\marco\\AppData\\Local\\Temp\\ipykernel_14260\\1741641518.py:44: RuntimeWarning: This filename (C:\\Users\\marco\\Documents\\MASTER_DATA_SCIENTIST\\TFM_MSD\\SEED_FRA_OUTPUT\\NEUTRAL\\2_3_trial_19_signals.fif) does not conform to MNE naming conventions. All raw files should end with raw.fif, raw_sss.fif, raw_tsss.fif, _meg.fif, _eeg.fif, _ieeg.fif, raw.fif.gz, raw_sss.fif.gz, raw_tsss.fif.gz, _meg.fif.gz, _eeg.fif.gz or _ieeg.fif.gz\n",
      "  eeg_trial.save(output_path, overwrite=True)\n"
     ]
    },
    {
     "name": "stdout",
     "output_type": "stream",
     "text": [
      "[done]\n"
     ]
    },
    {
     "name": "stderr",
     "output_type": "stream",
     "text": [
      "\r",
      "Processing:  95%|██████████████████████████████████████████████████████████████████▋   | 20/21 [00:39<00:01,  1.97s/it]"
     ]
    },
    {
     "name": "stdout",
     "output_type": "stream",
     "text": [
      "1000.0\n",
      "Writing C:\\Users\\marco\\Documents\\MASTER_DATA_SCIENTIST\\TFM_MSD\\SEED_FRA_OUTPUT\\POSITIVE\\2_3_trial_20_signals.fif\n"
     ]
    },
    {
     "name": "stderr",
     "output_type": "stream",
     "text": [
      "C:\\Users\\marco\\AppData\\Local\\Temp\\ipykernel_14260\\1741641518.py:44: RuntimeWarning: This filename (C:\\Users\\marco\\Documents\\MASTER_DATA_SCIENTIST\\TFM_MSD\\SEED_FRA_OUTPUT\\POSITIVE\\2_3_trial_20_signals.fif) does not conform to MNE naming conventions. All raw files should end with raw.fif, raw_sss.fif, raw_tsss.fif, _meg.fif, _eeg.fif, _ieeg.fif, raw.fif.gz, raw_sss.fif.gz, raw_tsss.fif.gz, _meg.fif.gz, _eeg.fif.gz or _ieeg.fif.gz\n",
      "  eeg_trial.save(output_path, overwrite=True)\n"
     ]
    },
    {
     "name": "stdout",
     "output_type": "stream",
     "text": [
      "Closing C:\\Users\\marco\\Documents\\MASTER_DATA_SCIENTIST\\TFM_MSD\\SEED_FRA_OUTPUT\\POSITIVE\\2_3_trial_20_signals.fif\n",
      "[done]\n"
     ]
    },
    {
     "name": "stderr",
     "output_type": "stream",
     "text": [
      "Processing: 100%|██████████████████████████████████████████████████████████████████████| 21/21 [00:41<00:00,  1.98s/it]\n"
     ]
    },
    {
     "name": "stdout",
     "output_type": "stream",
     "text": [
      "Reading 0 ... 3815679  =      0.000 ...  3815.679 secs...\n"
     ]
    },
    {
     "name": "stderr",
     "output_type": "stream",
     "text": [
      "C:\\Users\\marco\\AppData\\Local\\Temp\\ipykernel_14260\\1741641518.py:4: RuntimeWarning:   Could not parse meas date from the header. Setting to None.\n",
      "  eeg_raw = mne.io.read_raw_cnt(_path, preload=True)\n"
     ]
    },
    {
     "name": "stdout",
     "output_type": "stream",
     "text": [
      "Filtering raw data in 1 contiguous segment\n",
      "Setting up band-pass filter from 0.5 - 55 Hz\n",
      "\n",
      "FIR filter parameters\n",
      "---------------------\n",
      "Designing a one-pass, zero-phase, non-causal bandpass filter:\n",
      "- Windowed time-domain design (firwin) method\n",
      "- Hamming window with 0.0194 passband ripple and 53 dB stopband attenuation\n",
      "- Lower passband edge: 0.50\n",
      "- Lower transition bandwidth: 0.50 Hz (-6 dB cutoff frequency: 0.25 Hz)\n",
      "- Upper passband edge: 55.00 Hz\n",
      "- Upper transition bandwidth: 13.75 Hz (-6 dB cutoff frequency: 61.88 Hz)\n",
      "- Filter length: 6601 samples (6.601 sec)\n",
      "\n"
     ]
    },
    {
     "name": "stderr",
     "output_type": "stream",
     "text": [
      "\r",
      "Processing:   0%|                                                                               | 0/21 [00:00<?, ?it/s]"
     ]
    },
    {
     "name": "stdout",
     "output_type": "stream",
     "text": [
      "1000.0\n",
      "Writing C:\\Users\\marco\\Documents\\MASTER_DATA_SCIENTIST\\TFM_MSD\\SEED_FRA_OUTPUT\\POSITIVE\\3_1_trial_0_signals.fif\n"
     ]
    },
    {
     "name": "stderr",
     "output_type": "stream",
     "text": [
      "C:\\Users\\marco\\AppData\\Local\\Temp\\ipykernel_14260\\1741641518.py:44: RuntimeWarning: This filename (C:\\Users\\marco\\Documents\\MASTER_DATA_SCIENTIST\\TFM_MSD\\SEED_FRA_OUTPUT\\POSITIVE\\3_1_trial_0_signals.fif) does not conform to MNE naming conventions. All raw files should end with raw.fif, raw_sss.fif, raw_tsss.fif, _meg.fif, _eeg.fif, _ieeg.fif, raw.fif.gz, raw_sss.fif.gz, raw_tsss.fif.gz, _meg.fif.gz, _eeg.fif.gz or _ieeg.fif.gz\n",
      "  eeg_trial.save(output_path, overwrite=True)\n"
     ]
    },
    {
     "name": "stdout",
     "output_type": "stream",
     "text": [
      "Closing C:\\Users\\marco\\Documents\\MASTER_DATA_SCIENTIST\\TFM_MSD\\SEED_FRA_OUTPUT\\POSITIVE\\3_1_trial_0_signals.fif\n",
      "[done]\n"
     ]
    },
    {
     "name": "stderr",
     "output_type": "stream",
     "text": [
      "\r",
      "Processing:   5%|███▍                                                                   | 1/21 [00:01<00:37,  1.88s/it]"
     ]
    },
    {
     "name": "stdout",
     "output_type": "stream",
     "text": [
      "1000.0\n",
      "Writing C:\\Users\\marco\\Documents\\MASTER_DATA_SCIENTIST\\TFM_MSD\\SEED_FRA_OUTPUT\\NEGATIVE\\3_1_trial_1_signals.fif\n"
     ]
    },
    {
     "name": "stderr",
     "output_type": "stream",
     "text": [
      "C:\\Users\\marco\\AppData\\Local\\Temp\\ipykernel_14260\\1741641518.py:44: RuntimeWarning: This filename (C:\\Users\\marco\\Documents\\MASTER_DATA_SCIENTIST\\TFM_MSD\\SEED_FRA_OUTPUT\\NEGATIVE\\3_1_trial_1_signals.fif) does not conform to MNE naming conventions. All raw files should end with raw.fif, raw_sss.fif, raw_tsss.fif, _meg.fif, _eeg.fif, _ieeg.fif, raw.fif.gz, raw_sss.fif.gz, raw_tsss.fif.gz, _meg.fif.gz, _eeg.fif.gz or _ieeg.fif.gz\n",
      "  eeg_trial.save(output_path, overwrite=True)\n"
     ]
    },
    {
     "name": "stdout",
     "output_type": "stream",
     "text": [
      "Closing C:\\Users\\marco\\Documents\\MASTER_DATA_SCIENTIST\\TFM_MSD\\SEED_FRA_OUTPUT\\NEGATIVE\\3_1_trial_1_signals.fif\n",
      "[done]\n"
     ]
    },
    {
     "name": "stderr",
     "output_type": "stream",
     "text": [
      "\r",
      "Processing:  10%|██████▊                                                                | 2/21 [00:04<00:41,  2.18s/it]"
     ]
    },
    {
     "name": "stdout",
     "output_type": "stream",
     "text": [
      "1000.0\n",
      "Writing C:\\Users\\marco\\Documents\\MASTER_DATA_SCIENTIST\\TFM_MSD\\SEED_FRA_OUTPUT\\NEUTRAL\\3_1_trial_2_signals.fif\n"
     ]
    },
    {
     "name": "stderr",
     "output_type": "stream",
     "text": [
      "C:\\Users\\marco\\AppData\\Local\\Temp\\ipykernel_14260\\1741641518.py:44: RuntimeWarning: This filename (C:\\Users\\marco\\Documents\\MASTER_DATA_SCIENTIST\\TFM_MSD\\SEED_FRA_OUTPUT\\NEUTRAL\\3_1_trial_2_signals.fif) does not conform to MNE naming conventions. All raw files should end with raw.fif, raw_sss.fif, raw_tsss.fif, _meg.fif, _eeg.fif, _ieeg.fif, raw.fif.gz, raw_sss.fif.gz, raw_tsss.fif.gz, _meg.fif.gz, _eeg.fif.gz or _ieeg.fif.gz\n",
      "  eeg_trial.save(output_path, overwrite=True)\n"
     ]
    },
    {
     "name": "stdout",
     "output_type": "stream",
     "text": [
      "Closing C:\\Users\\marco\\Documents\\MASTER_DATA_SCIENTIST\\TFM_MSD\\SEED_FRA_OUTPUT\\NEUTRAL\\3_1_trial_2_signals.fif\n",
      "[done]\n"
     ]
    },
    {
     "name": "stderr",
     "output_type": "stream",
     "text": [
      "\r",
      "Processing:  14%|██████████▏                                                            | 3/21 [00:06<00:37,  2.06s/it]"
     ]
    },
    {
     "name": "stdout",
     "output_type": "stream",
     "text": [
      "1000.0\n",
      "Writing C:\\Users\\marco\\Documents\\MASTER_DATA_SCIENTIST\\TFM_MSD\\SEED_FRA_OUTPUT\\NEGATIVE\\3_1_trial_3_signals.fif\n"
     ]
    },
    {
     "name": "stderr",
     "output_type": "stream",
     "text": [
      "C:\\Users\\marco\\AppData\\Local\\Temp\\ipykernel_14260\\1741641518.py:44: RuntimeWarning: This filename (C:\\Users\\marco\\Documents\\MASTER_DATA_SCIENTIST\\TFM_MSD\\SEED_FRA_OUTPUT\\NEGATIVE\\3_1_trial_3_signals.fif) does not conform to MNE naming conventions. All raw files should end with raw.fif, raw_sss.fif, raw_tsss.fif, _meg.fif, _eeg.fif, _ieeg.fif, raw.fif.gz, raw_sss.fif.gz, raw_tsss.fif.gz, _meg.fif.gz, _eeg.fif.gz or _ieeg.fif.gz\n",
      "  eeg_trial.save(output_path, overwrite=True)\n"
     ]
    },
    {
     "name": "stdout",
     "output_type": "stream",
     "text": [
      "Closing C:\\Users\\marco\\Documents\\MASTER_DATA_SCIENTIST\\TFM_MSD\\SEED_FRA_OUTPUT\\NEGATIVE\\3_1_trial_3_signals.fif\n",
      "[done]\n"
     ]
    },
    {
     "name": "stderr",
     "output_type": "stream",
     "text": [
      "\r",
      "Processing:  19%|█████████████▌                                                         | 4/21 [00:08<00:37,  2.21s/it]"
     ]
    },
    {
     "name": "stdout",
     "output_type": "stream",
     "text": [
      "1000.0\n",
      "Writing C:\\Users\\marco\\Documents\\MASTER_DATA_SCIENTIST\\TFM_MSD\\SEED_FRA_OUTPUT\\POSITIVE\\3_1_trial_4_signals.fif\n"
     ]
    },
    {
     "name": "stderr",
     "output_type": "stream",
     "text": [
      "C:\\Users\\marco\\AppData\\Local\\Temp\\ipykernel_14260\\1741641518.py:44: RuntimeWarning: This filename (C:\\Users\\marco\\Documents\\MASTER_DATA_SCIENTIST\\TFM_MSD\\SEED_FRA_OUTPUT\\POSITIVE\\3_1_trial_4_signals.fif) does not conform to MNE naming conventions. All raw files should end with raw.fif, raw_sss.fif, raw_tsss.fif, _meg.fif, _eeg.fif, _ieeg.fif, raw.fif.gz, raw_sss.fif.gz, raw_tsss.fif.gz, _meg.fif.gz, _eeg.fif.gz or _ieeg.fif.gz\n",
      "  eeg_trial.save(output_path, overwrite=True)\n"
     ]
    },
    {
     "name": "stdout",
     "output_type": "stream",
     "text": [
      "Closing C:\\Users\\marco\\Documents\\MASTER_DATA_SCIENTIST\\TFM_MSD\\SEED_FRA_OUTPUT\\POSITIVE\\3_1_trial_4_signals.fif\n",
      "[done]\n"
     ]
    },
    {
     "name": "stderr",
     "output_type": "stream",
     "text": [
      "\r",
      "Processing:  24%|████████████████▉                                                      | 5/21 [00:10<00:33,  2.10s/it]"
     ]
    },
    {
     "name": "stdout",
     "output_type": "stream",
     "text": [
      "1000.0\n",
      "Writing C:\\Users\\marco\\Documents\\MASTER_DATA_SCIENTIST\\TFM_MSD\\SEED_FRA_OUTPUT\\NEUTRAL\\3_1_trial_5_signals.fif\n"
     ]
    },
    {
     "name": "stderr",
     "output_type": "stream",
     "text": [
      "C:\\Users\\marco\\AppData\\Local\\Temp\\ipykernel_14260\\1741641518.py:44: RuntimeWarning: This filename (C:\\Users\\marco\\Documents\\MASTER_DATA_SCIENTIST\\TFM_MSD\\SEED_FRA_OUTPUT\\NEUTRAL\\3_1_trial_5_signals.fif) does not conform to MNE naming conventions. All raw files should end with raw.fif, raw_sss.fif, raw_tsss.fif, _meg.fif, _eeg.fif, _ieeg.fif, raw.fif.gz, raw_sss.fif.gz, raw_tsss.fif.gz, _meg.fif.gz, _eeg.fif.gz or _ieeg.fif.gz\n",
      "  eeg_trial.save(output_path, overwrite=True)\n"
     ]
    },
    {
     "name": "stdout",
     "output_type": "stream",
     "text": [
      "Closing C:\\Users\\marco\\Documents\\MASTER_DATA_SCIENTIST\\TFM_MSD\\SEED_FRA_OUTPUT\\NEUTRAL\\3_1_trial_5_signals.fif\n",
      "[done]\n"
     ]
    },
    {
     "name": "stderr",
     "output_type": "stream",
     "text": [
      "\r",
      "Processing:  29%|████████████████████▎                                                  | 6/21 [00:12<00:29,  1.95s/it]"
     ]
    },
    {
     "name": "stdout",
     "output_type": "stream",
     "text": [
      "1000.0\n",
      "Writing C:\\Users\\marco\\Documents\\MASTER_DATA_SCIENTIST\\TFM_MSD\\SEED_FRA_OUTPUT\\NEGATIVE\\3_1_trial_6_signals.fif\n"
     ]
    },
    {
     "name": "stderr",
     "output_type": "stream",
     "text": [
      "C:\\Users\\marco\\AppData\\Local\\Temp\\ipykernel_14260\\1741641518.py:44: RuntimeWarning: This filename (C:\\Users\\marco\\Documents\\MASTER_DATA_SCIENTIST\\TFM_MSD\\SEED_FRA_OUTPUT\\NEGATIVE\\3_1_trial_6_signals.fif) does not conform to MNE naming conventions. All raw files should end with raw.fif, raw_sss.fif, raw_tsss.fif, _meg.fif, _eeg.fif, _ieeg.fif, raw.fif.gz, raw_sss.fif.gz, raw_tsss.fif.gz, _meg.fif.gz, _eeg.fif.gz or _ieeg.fif.gz\n",
      "  eeg_trial.save(output_path, overwrite=True)\n"
     ]
    },
    {
     "name": "stdout",
     "output_type": "stream",
     "text": [
      "Closing C:\\Users\\marco\\Documents\\MASTER_DATA_SCIENTIST\\TFM_MSD\\SEED_FRA_OUTPUT\\NEGATIVE\\3_1_trial_6_signals.fif\n",
      "[done]\n"
     ]
    },
    {
     "name": "stderr",
     "output_type": "stream",
     "text": [
      "\r",
      "Processing:  33%|███████████████████████▋                                               | 7/21 [00:14<00:29,  2.10s/it]"
     ]
    },
    {
     "name": "stdout",
     "output_type": "stream",
     "text": [
      "1000.0\n",
      "Writing C:\\Users\\marco\\Documents\\MASTER_DATA_SCIENTIST\\TFM_MSD\\SEED_FRA_OUTPUT\\NEUTRAL\\3_1_trial_7_signals.fif\n"
     ]
    },
    {
     "name": "stderr",
     "output_type": "stream",
     "text": [
      "C:\\Users\\marco\\AppData\\Local\\Temp\\ipykernel_14260\\1741641518.py:44: RuntimeWarning: This filename (C:\\Users\\marco\\Documents\\MASTER_DATA_SCIENTIST\\TFM_MSD\\SEED_FRA_OUTPUT\\NEUTRAL\\3_1_trial_7_signals.fif) does not conform to MNE naming conventions. All raw files should end with raw.fif, raw_sss.fif, raw_tsss.fif, _meg.fif, _eeg.fif, _ieeg.fif, raw.fif.gz, raw_sss.fif.gz, raw_tsss.fif.gz, _meg.fif.gz, _eeg.fif.gz or _ieeg.fif.gz\n",
      "  eeg_trial.save(output_path, overwrite=True)\n"
     ]
    },
    {
     "name": "stdout",
     "output_type": "stream",
     "text": [
      "Closing C:\\Users\\marco\\Documents\\MASTER_DATA_SCIENTIST\\TFM_MSD\\SEED_FRA_OUTPUT\\NEUTRAL\\3_1_trial_7_signals.fif\n",
      "[done]\n"
     ]
    },
    {
     "name": "stderr",
     "output_type": "stream",
     "text": [
      "\r",
      "Processing:  38%|███████████████████████████                                            | 8/21 [00:16<00:27,  2.12s/it]"
     ]
    },
    {
     "name": "stdout",
     "output_type": "stream",
     "text": [
      "1000.0\n",
      "Writing C:\\Users\\marco\\Documents\\MASTER_DATA_SCIENTIST\\TFM_MSD\\SEED_FRA_OUTPUT\\POSITIVE\\3_1_trial_8_signals.fif\n"
     ]
    },
    {
     "name": "stderr",
     "output_type": "stream",
     "text": [
      "C:\\Users\\marco\\AppData\\Local\\Temp\\ipykernel_14260\\1741641518.py:44: RuntimeWarning: This filename (C:\\Users\\marco\\Documents\\MASTER_DATA_SCIENTIST\\TFM_MSD\\SEED_FRA_OUTPUT\\POSITIVE\\3_1_trial_8_signals.fif) does not conform to MNE naming conventions. All raw files should end with raw.fif, raw_sss.fif, raw_tsss.fif, _meg.fif, _eeg.fif, _ieeg.fif, raw.fif.gz, raw_sss.fif.gz, raw_tsss.fif.gz, _meg.fif.gz, _eeg.fif.gz or _ieeg.fif.gz\n",
      "  eeg_trial.save(output_path, overwrite=True)\n"
     ]
    },
    {
     "name": "stdout",
     "output_type": "stream",
     "text": [
      "Closing C:\\Users\\marco\\Documents\\MASTER_DATA_SCIENTIST\\TFM_MSD\\SEED_FRA_OUTPUT\\POSITIVE\\3_1_trial_8_signals.fif\n",
      "[done]\n"
     ]
    },
    {
     "name": "stderr",
     "output_type": "stream",
     "text": [
      "\r",
      "Processing:  43%|██████████████████████████████▍                                        | 9/21 [00:18<00:25,  2.12s/it]"
     ]
    },
    {
     "name": "stdout",
     "output_type": "stream",
     "text": [
      "1000.0\n",
      "Writing C:\\Users\\marco\\Documents\\MASTER_DATA_SCIENTIST\\TFM_MSD\\SEED_FRA_OUTPUT\\NEGATIVE\\3_1_trial_9_signals.fif\n"
     ]
    },
    {
     "name": "stderr",
     "output_type": "stream",
     "text": [
      "C:\\Users\\marco\\AppData\\Local\\Temp\\ipykernel_14260\\1741641518.py:44: RuntimeWarning: This filename (C:\\Users\\marco\\Documents\\MASTER_DATA_SCIENTIST\\TFM_MSD\\SEED_FRA_OUTPUT\\NEGATIVE\\3_1_trial_9_signals.fif) does not conform to MNE naming conventions. All raw files should end with raw.fif, raw_sss.fif, raw_tsss.fif, _meg.fif, _eeg.fif, _ieeg.fif, raw.fif.gz, raw_sss.fif.gz, raw_tsss.fif.gz, _meg.fif.gz, _eeg.fif.gz or _ieeg.fif.gz\n",
      "  eeg_trial.save(output_path, overwrite=True)\n"
     ]
    },
    {
     "name": "stdout",
     "output_type": "stream",
     "text": [
      "Closing C:\\Users\\marco\\Documents\\MASTER_DATA_SCIENTIST\\TFM_MSD\\SEED_FRA_OUTPUT\\NEGATIVE\\3_1_trial_9_signals.fif\n",
      "[done]\n"
     ]
    },
    {
     "name": "stderr",
     "output_type": "stream",
     "text": [
      "\r",
      "Processing:  48%|█████████████████████████████████▎                                    | 10/21 [00:20<00:22,  2.08s/it]"
     ]
    },
    {
     "name": "stdout",
     "output_type": "stream",
     "text": [
      "1000.0\n",
      "Writing C:\\Users\\marco\\Documents\\MASTER_DATA_SCIENTIST\\TFM_MSD\\SEED_FRA_OUTPUT\\NEUTRAL\\3_1_trial_10_signals.fif\n"
     ]
    },
    {
     "name": "stderr",
     "output_type": "stream",
     "text": [
      "C:\\Users\\marco\\AppData\\Local\\Temp\\ipykernel_14260\\1741641518.py:44: RuntimeWarning: This filename (C:\\Users\\marco\\Documents\\MASTER_DATA_SCIENTIST\\TFM_MSD\\SEED_FRA_OUTPUT\\NEUTRAL\\3_1_trial_10_signals.fif) does not conform to MNE naming conventions. All raw files should end with raw.fif, raw_sss.fif, raw_tsss.fif, _meg.fif, _eeg.fif, _ieeg.fif, raw.fif.gz, raw_sss.fif.gz, raw_tsss.fif.gz, _meg.fif.gz, _eeg.fif.gz or _ieeg.fif.gz\n",
      "  eeg_trial.save(output_path, overwrite=True)\n"
     ]
    },
    {
     "name": "stdout",
     "output_type": "stream",
     "text": [
      "Closing C:\\Users\\marco\\Documents\\MASTER_DATA_SCIENTIST\\TFM_MSD\\SEED_FRA_OUTPUT\\NEUTRAL\\3_1_trial_10_signals.fif\n",
      "[done]\n"
     ]
    },
    {
     "name": "stderr",
     "output_type": "stream",
     "text": [
      "\r",
      "Processing:  52%|████████████████████████████████████▋                                 | 11/21 [00:22<00:20,  2.07s/it]"
     ]
    },
    {
     "name": "stdout",
     "output_type": "stream",
     "text": [
      "1000.0\n",
      "Writing C:\\Users\\marco\\Documents\\MASTER_DATA_SCIENTIST\\TFM_MSD\\SEED_FRA_OUTPUT\\POSITIVE\\3_1_trial_11_signals.fif\n"
     ]
    },
    {
     "name": "stderr",
     "output_type": "stream",
     "text": [
      "C:\\Users\\marco\\AppData\\Local\\Temp\\ipykernel_14260\\1741641518.py:44: RuntimeWarning: This filename (C:\\Users\\marco\\Documents\\MASTER_DATA_SCIENTIST\\TFM_MSD\\SEED_FRA_OUTPUT\\POSITIVE\\3_1_trial_11_signals.fif) does not conform to MNE naming conventions. All raw files should end with raw.fif, raw_sss.fif, raw_tsss.fif, _meg.fif, _eeg.fif, _ieeg.fif, raw.fif.gz, raw_sss.fif.gz, raw_tsss.fif.gz, _meg.fif.gz, _eeg.fif.gz or _ieeg.fif.gz\n",
      "  eeg_trial.save(output_path, overwrite=True)\n"
     ]
    },
    {
     "name": "stdout",
     "output_type": "stream",
     "text": [
      "Closing C:\\Users\\marco\\Documents\\MASTER_DATA_SCIENTIST\\TFM_MSD\\SEED_FRA_OUTPUT\\POSITIVE\\3_1_trial_11_signals.fif\n",
      "[done]\n"
     ]
    },
    {
     "name": "stderr",
     "output_type": "stream",
     "text": [
      "\r",
      "Processing:  57%|████████████████████████████████████████                              | 12/21 [00:24<00:18,  2.00s/it]"
     ]
    },
    {
     "name": "stdout",
     "output_type": "stream",
     "text": [
      "1000.0\n",
      "Writing C:\\Users\\marco\\Documents\\MASTER_DATA_SCIENTIST\\TFM_MSD\\SEED_FRA_OUTPUT\\POSITIVE\\3_1_trial_12_signals.fif\n"
     ]
    },
    {
     "name": "stderr",
     "output_type": "stream",
     "text": [
      "C:\\Users\\marco\\AppData\\Local\\Temp\\ipykernel_14260\\1741641518.py:44: RuntimeWarning: This filename (C:\\Users\\marco\\Documents\\MASTER_DATA_SCIENTIST\\TFM_MSD\\SEED_FRA_OUTPUT\\POSITIVE\\3_1_trial_12_signals.fif) does not conform to MNE naming conventions. All raw files should end with raw.fif, raw_sss.fif, raw_tsss.fif, _meg.fif, _eeg.fif, _ieeg.fif, raw.fif.gz, raw_sss.fif.gz, raw_tsss.fif.gz, _meg.fif.gz, _eeg.fif.gz or _ieeg.fif.gz\n",
      "  eeg_trial.save(output_path, overwrite=True)\n"
     ]
    },
    {
     "name": "stdout",
     "output_type": "stream",
     "text": [
      "Closing C:\\Users\\marco\\Documents\\MASTER_DATA_SCIENTIST\\TFM_MSD\\SEED_FRA_OUTPUT\\POSITIVE\\3_1_trial_12_signals.fif\n",
      "[done]\n"
     ]
    },
    {
     "name": "stderr",
     "output_type": "stream",
     "text": [
      "\r",
      "Processing:  62%|███████████████████████████████████████████▎                          | 13/21 [00:26<00:15,  1.97s/it]"
     ]
    },
    {
     "name": "stdout",
     "output_type": "stream",
     "text": [
      "1000.0\n",
      "Writing C:\\Users\\marco\\Documents\\MASTER_DATA_SCIENTIST\\TFM_MSD\\SEED_FRA_OUTPUT\\NEUTRAL\\3_1_trial_13_signals.fif\n"
     ]
    },
    {
     "name": "stderr",
     "output_type": "stream",
     "text": [
      "C:\\Users\\marco\\AppData\\Local\\Temp\\ipykernel_14260\\1741641518.py:44: RuntimeWarning: This filename (C:\\Users\\marco\\Documents\\MASTER_DATA_SCIENTIST\\TFM_MSD\\SEED_FRA_OUTPUT\\NEUTRAL\\3_1_trial_13_signals.fif) does not conform to MNE naming conventions. All raw files should end with raw.fif, raw_sss.fif, raw_tsss.fif, _meg.fif, _eeg.fif, _ieeg.fif, raw.fif.gz, raw_sss.fif.gz, raw_tsss.fif.gz, _meg.fif.gz, _eeg.fif.gz or _ieeg.fif.gz\n",
      "  eeg_trial.save(output_path, overwrite=True)\n"
     ]
    },
    {
     "name": "stdout",
     "output_type": "stream",
     "text": [
      "Closing C:\\Users\\marco\\Documents\\MASTER_DATA_SCIENTIST\\TFM_MSD\\SEED_FRA_OUTPUT\\NEUTRAL\\3_1_trial_13_signals.fif\n",
      "[done]\n"
     ]
    },
    {
     "name": "stderr",
     "output_type": "stream",
     "text": [
      "\r",
      "Processing:  67%|██████████████████████████████████████████████▋                       | 14/21 [00:28<00:13,  1.88s/it]"
     ]
    },
    {
     "name": "stdout",
     "output_type": "stream",
     "text": [
      "1000.0\n",
      "Writing C:\\Users\\marco\\Documents\\MASTER_DATA_SCIENTIST\\TFM_MSD\\SEED_FRA_OUTPUT\\NEGATIVE\\3_1_trial_14_signals.fif\n"
     ]
    },
    {
     "name": "stderr",
     "output_type": "stream",
     "text": [
      "C:\\Users\\marco\\AppData\\Local\\Temp\\ipykernel_14260\\1741641518.py:44: RuntimeWarning: This filename (C:\\Users\\marco\\Documents\\MASTER_DATA_SCIENTIST\\TFM_MSD\\SEED_FRA_OUTPUT\\NEGATIVE\\3_1_trial_14_signals.fif) does not conform to MNE naming conventions. All raw files should end with raw.fif, raw_sss.fif, raw_tsss.fif, _meg.fif, _eeg.fif, _ieeg.fif, raw.fif.gz, raw_sss.fif.gz, raw_tsss.fif.gz, _meg.fif.gz, _eeg.fif.gz or _ieeg.fif.gz\n",
      "  eeg_trial.save(output_path, overwrite=True)\n"
     ]
    },
    {
     "name": "stdout",
     "output_type": "stream",
     "text": [
      "Closing C:\\Users\\marco\\Documents\\MASTER_DATA_SCIENTIST\\TFM_MSD\\SEED_FRA_OUTPUT\\NEGATIVE\\3_1_trial_14_signals.fif\n",
      "[done]\n"
     ]
    },
    {
     "name": "stderr",
     "output_type": "stream",
     "text": [
      "\r",
      "Processing:  71%|██████████████████████████████████████████████████                    | 15/21 [00:30<00:11,  1.85s/it]"
     ]
    },
    {
     "name": "stdout",
     "output_type": "stream",
     "text": [
      "1000.0\n",
      "Writing C:\\Users\\marco\\Documents\\MASTER_DATA_SCIENTIST\\TFM_MSD\\SEED_FRA_OUTPUT\\NEGATIVE\\3_1_trial_15_signals.fif\n",
      "Closing C:\\Users\\marco\\Documents\\MASTER_DATA_SCIENTIST\\TFM_MSD\\SEED_FRA_OUTPUT\\NEGATIVE\\3_1_trial_15_signals.fif\n"
     ]
    },
    {
     "name": "stderr",
     "output_type": "stream",
     "text": [
      "C:\\Users\\marco\\AppData\\Local\\Temp\\ipykernel_14260\\1741641518.py:44: RuntimeWarning: This filename (C:\\Users\\marco\\Documents\\MASTER_DATA_SCIENTIST\\TFM_MSD\\SEED_FRA_OUTPUT\\NEGATIVE\\3_1_trial_15_signals.fif) does not conform to MNE naming conventions. All raw files should end with raw.fif, raw_sss.fif, raw_tsss.fif, _meg.fif, _eeg.fif, _ieeg.fif, raw.fif.gz, raw_sss.fif.gz, raw_tsss.fif.gz, _meg.fif.gz, _eeg.fif.gz or _ieeg.fif.gz\n",
      "  eeg_trial.save(output_path, overwrite=True)\n"
     ]
    },
    {
     "name": "stdout",
     "output_type": "stream",
     "text": [
      "[done]\n"
     ]
    },
    {
     "name": "stderr",
     "output_type": "stream",
     "text": [
      "\r",
      "Processing:  76%|█████████████████████████████████████████████████████▎                | 16/21 [00:31<00:09,  1.85s/it]"
     ]
    },
    {
     "name": "stdout",
     "output_type": "stream",
     "text": [
      "1000.0\n",
      "Writing C:\\Users\\marco\\Documents\\MASTER_DATA_SCIENTIST\\TFM_MSD\\SEED_FRA_OUTPUT\\NEUTRAL\\3_1_trial_16_signals.fif\n"
     ]
    },
    {
     "name": "stderr",
     "output_type": "stream",
     "text": [
      "C:\\Users\\marco\\AppData\\Local\\Temp\\ipykernel_14260\\1741641518.py:44: RuntimeWarning: This filename (C:\\Users\\marco\\Documents\\MASTER_DATA_SCIENTIST\\TFM_MSD\\SEED_FRA_OUTPUT\\NEUTRAL\\3_1_trial_16_signals.fif) does not conform to MNE naming conventions. All raw files should end with raw.fif, raw_sss.fif, raw_tsss.fif, _meg.fif, _eeg.fif, _ieeg.fif, raw.fif.gz, raw_sss.fif.gz, raw_tsss.fif.gz, _meg.fif.gz, _eeg.fif.gz or _ieeg.fif.gz\n",
      "  eeg_trial.save(output_path, overwrite=True)\n"
     ]
    },
    {
     "name": "stdout",
     "output_type": "stream",
     "text": [
      "Closing C:\\Users\\marco\\Documents\\MASTER_DATA_SCIENTIST\\TFM_MSD\\SEED_FRA_OUTPUT\\NEUTRAL\\3_1_trial_16_signals.fif\n",
      "[done]\n"
     ]
    },
    {
     "name": "stderr",
     "output_type": "stream",
     "text": [
      "\r",
      "Processing:  81%|████████████████████████████████████████████████████████▋             | 17/21 [00:34<00:07,  1.91s/it]"
     ]
    },
    {
     "name": "stdout",
     "output_type": "stream",
     "text": [
      "1000.0\n",
      "Writing C:\\Users\\marco\\Documents\\MASTER_DATA_SCIENTIST\\TFM_MSD\\SEED_FRA_OUTPUT\\POSITIVE\\3_1_trial_17_signals.fif\n"
     ]
    },
    {
     "name": "stderr",
     "output_type": "stream",
     "text": [
      "C:\\Users\\marco\\AppData\\Local\\Temp\\ipykernel_14260\\1741641518.py:44: RuntimeWarning: This filename (C:\\Users\\marco\\Documents\\MASTER_DATA_SCIENTIST\\TFM_MSD\\SEED_FRA_OUTPUT\\POSITIVE\\3_1_trial_17_signals.fif) does not conform to MNE naming conventions. All raw files should end with raw.fif, raw_sss.fif, raw_tsss.fif, _meg.fif, _eeg.fif, _ieeg.fif, raw.fif.gz, raw_sss.fif.gz, raw_tsss.fif.gz, _meg.fif.gz, _eeg.fif.gz or _ieeg.fif.gz\n",
      "  eeg_trial.save(output_path, overwrite=True)\n"
     ]
    },
    {
     "name": "stdout",
     "output_type": "stream",
     "text": [
      "Closing C:\\Users\\marco\\Documents\\MASTER_DATA_SCIENTIST\\TFM_MSD\\SEED_FRA_OUTPUT\\POSITIVE\\3_1_trial_17_signals.fif\n",
      "[done]\n"
     ]
    },
    {
     "name": "stderr",
     "output_type": "stream",
     "text": [
      "\r",
      "Processing:  86%|████████████████████████████████████████████████████████████          | 18/21 [00:35<00:05,  1.92s/it]"
     ]
    },
    {
     "name": "stdout",
     "output_type": "stream",
     "text": [
      "1000.0\n",
      "Writing C:\\Users\\marco\\Documents\\MASTER_DATA_SCIENTIST\\TFM_MSD\\SEED_FRA_OUTPUT\\NEGATIVE\\3_1_trial_18_signals.fif\n"
     ]
    },
    {
     "name": "stderr",
     "output_type": "stream",
     "text": [
      "C:\\Users\\marco\\AppData\\Local\\Temp\\ipykernel_14260\\1741641518.py:44: RuntimeWarning: This filename (C:\\Users\\marco\\Documents\\MASTER_DATA_SCIENTIST\\TFM_MSD\\SEED_FRA_OUTPUT\\NEGATIVE\\3_1_trial_18_signals.fif) does not conform to MNE naming conventions. All raw files should end with raw.fif, raw_sss.fif, raw_tsss.fif, _meg.fif, _eeg.fif, _ieeg.fif, raw.fif.gz, raw_sss.fif.gz, raw_tsss.fif.gz, _meg.fif.gz, _eeg.fif.gz or _ieeg.fif.gz\n",
      "  eeg_trial.save(output_path, overwrite=True)\n"
     ]
    },
    {
     "name": "stdout",
     "output_type": "stream",
     "text": [
      "Closing C:\\Users\\marco\\Documents\\MASTER_DATA_SCIENTIST\\TFM_MSD\\SEED_FRA_OUTPUT\\NEGATIVE\\3_1_trial_18_signals.fif\n",
      "[done]\n"
     ]
    },
    {
     "name": "stderr",
     "output_type": "stream",
     "text": [
      "\r",
      "Processing:  90%|███████████████████████████████████████████████████████████████▎      | 19/21 [00:37<00:03,  1.91s/it]"
     ]
    },
    {
     "name": "stdout",
     "output_type": "stream",
     "text": [
      "1000.0\n",
      "Writing C:\\Users\\marco\\Documents\\MASTER_DATA_SCIENTIST\\TFM_MSD\\SEED_FRA_OUTPUT\\NEUTRAL\\3_1_trial_19_signals.fif\n",
      "Closing C:\\Users\\marco\\Documents\\MASTER_DATA_SCIENTIST\\TFM_MSD\\SEED_FRA_OUTPUT\\NEUTRAL\\3_1_trial_19_signals.fif\n"
     ]
    },
    {
     "name": "stderr",
     "output_type": "stream",
     "text": [
      "C:\\Users\\marco\\AppData\\Local\\Temp\\ipykernel_14260\\1741641518.py:44: RuntimeWarning: This filename (C:\\Users\\marco\\Documents\\MASTER_DATA_SCIENTIST\\TFM_MSD\\SEED_FRA_OUTPUT\\NEUTRAL\\3_1_trial_19_signals.fif) does not conform to MNE naming conventions. All raw files should end with raw.fif, raw_sss.fif, raw_tsss.fif, _meg.fif, _eeg.fif, _ieeg.fif, raw.fif.gz, raw_sss.fif.gz, raw_tsss.fif.gz, _meg.fif.gz, _eeg.fif.gz or _ieeg.fif.gz\n",
      "  eeg_trial.save(output_path, overwrite=True)\n"
     ]
    },
    {
     "name": "stdout",
     "output_type": "stream",
     "text": [
      "[done]\n"
     ]
    },
    {
     "name": "stderr",
     "output_type": "stream",
     "text": [
      "\r",
      "Processing:  95%|██████████████████████████████████████████████████████████████████▋   | 20/21 [00:39<00:01,  1.82s/it]"
     ]
    },
    {
     "name": "stdout",
     "output_type": "stream",
     "text": [
      "1000.0\n",
      "Writing C:\\Users\\marco\\Documents\\MASTER_DATA_SCIENTIST\\TFM_MSD\\SEED_FRA_OUTPUT\\POSITIVE\\3_1_trial_20_signals.fif\n"
     ]
    },
    {
     "name": "stderr",
     "output_type": "stream",
     "text": [
      "C:\\Users\\marco\\AppData\\Local\\Temp\\ipykernel_14260\\1741641518.py:44: RuntimeWarning: This filename (C:\\Users\\marco\\Documents\\MASTER_DATA_SCIENTIST\\TFM_MSD\\SEED_FRA_OUTPUT\\POSITIVE\\3_1_trial_20_signals.fif) does not conform to MNE naming conventions. All raw files should end with raw.fif, raw_sss.fif, raw_tsss.fif, _meg.fif, _eeg.fif, _ieeg.fif, raw.fif.gz, raw_sss.fif.gz, raw_tsss.fif.gz, _meg.fif.gz, _eeg.fif.gz or _ieeg.fif.gz\n",
      "  eeg_trial.save(output_path, overwrite=True)\n"
     ]
    },
    {
     "name": "stdout",
     "output_type": "stream",
     "text": [
      "Closing C:\\Users\\marco\\Documents\\MASTER_DATA_SCIENTIST\\TFM_MSD\\SEED_FRA_OUTPUT\\POSITIVE\\3_1_trial_20_signals.fif\n",
      "[done]\n"
     ]
    },
    {
     "name": "stderr",
     "output_type": "stream",
     "text": [
      "Processing: 100%|██████████████████████████████████████████████████████████████████████| 21/21 [00:41<00:00,  1.97s/it]\n"
     ]
    },
    {
     "name": "stdout",
     "output_type": "stream",
     "text": [
      "Reading 0 ... 3813599  =      0.000 ...  3813.599 secs...\n"
     ]
    },
    {
     "name": "stderr",
     "output_type": "stream",
     "text": [
      "C:\\Users\\marco\\AppData\\Local\\Temp\\ipykernel_14260\\1741641518.py:4: RuntimeWarning:   Could not parse meas date from the header. Setting to None.\n",
      "  eeg_raw = mne.io.read_raw_cnt(_path, preload=True)\n"
     ]
    },
    {
     "name": "stdout",
     "output_type": "stream",
     "text": [
      "Filtering raw data in 1 contiguous segment\n",
      "Setting up band-pass filter from 0.5 - 55 Hz\n",
      "\n",
      "FIR filter parameters\n",
      "---------------------\n",
      "Designing a one-pass, zero-phase, non-causal bandpass filter:\n",
      "- Windowed time-domain design (firwin) method\n",
      "- Hamming window with 0.0194 passband ripple and 53 dB stopband attenuation\n",
      "- Lower passband edge: 0.50\n",
      "- Lower transition bandwidth: 0.50 Hz (-6 dB cutoff frequency: 0.25 Hz)\n",
      "- Upper passband edge: 55.00 Hz\n",
      "- Upper transition bandwidth: 13.75 Hz (-6 dB cutoff frequency: 61.88 Hz)\n",
      "- Filter length: 6601 samples (6.601 sec)\n",
      "\n"
     ]
    },
    {
     "name": "stderr",
     "output_type": "stream",
     "text": [
      "\r",
      "Processing:   0%|                                                                               | 0/21 [00:00<?, ?it/s]"
     ]
    },
    {
     "name": "stdout",
     "output_type": "stream",
     "text": [
      "1000.0\n",
      "Writing C:\\Users\\marco\\Documents\\MASTER_DATA_SCIENTIST\\TFM_MSD\\SEED_FRA_OUTPUT\\POSITIVE\\3_2_trial_0_signals.fif\n"
     ]
    },
    {
     "name": "stderr",
     "output_type": "stream",
     "text": [
      "C:\\Users\\marco\\AppData\\Local\\Temp\\ipykernel_14260\\1741641518.py:44: RuntimeWarning: This filename (C:\\Users\\marco\\Documents\\MASTER_DATA_SCIENTIST\\TFM_MSD\\SEED_FRA_OUTPUT\\POSITIVE\\3_2_trial_0_signals.fif) does not conform to MNE naming conventions. All raw files should end with raw.fif, raw_sss.fif, raw_tsss.fif, _meg.fif, _eeg.fif, _ieeg.fif, raw.fif.gz, raw_sss.fif.gz, raw_tsss.fif.gz, _meg.fif.gz, _eeg.fif.gz or _ieeg.fif.gz\n",
      "  eeg_trial.save(output_path, overwrite=True)\n"
     ]
    },
    {
     "name": "stdout",
     "output_type": "stream",
     "text": [
      "Closing C:\\Users\\marco\\Documents\\MASTER_DATA_SCIENTIST\\TFM_MSD\\SEED_FRA_OUTPUT\\POSITIVE\\3_2_trial_0_signals.fif\n",
      "[done]\n"
     ]
    },
    {
     "name": "stderr",
     "output_type": "stream",
     "text": [
      "\r",
      "Processing:   5%|███▍                                                                   | 1/21 [00:01<00:38,  1.93s/it]"
     ]
    },
    {
     "name": "stdout",
     "output_type": "stream",
     "text": [
      "1000.0\n",
      "Writing C:\\Users\\marco\\Documents\\MASTER_DATA_SCIENTIST\\TFM_MSD\\SEED_FRA_OUTPUT\\NEGATIVE\\3_2_trial_1_signals.fif\n"
     ]
    },
    {
     "name": "stderr",
     "output_type": "stream",
     "text": [
      "C:\\Users\\marco\\AppData\\Local\\Temp\\ipykernel_14260\\1741641518.py:44: RuntimeWarning: This filename (C:\\Users\\marco\\Documents\\MASTER_DATA_SCIENTIST\\TFM_MSD\\SEED_FRA_OUTPUT\\NEGATIVE\\3_2_trial_1_signals.fif) does not conform to MNE naming conventions. All raw files should end with raw.fif, raw_sss.fif, raw_tsss.fif, _meg.fif, _eeg.fif, _ieeg.fif, raw.fif.gz, raw_sss.fif.gz, raw_tsss.fif.gz, _meg.fif.gz, _eeg.fif.gz or _ieeg.fif.gz\n",
      "  eeg_trial.save(output_path, overwrite=True)\n"
     ]
    },
    {
     "name": "stdout",
     "output_type": "stream",
     "text": [
      "Closing C:\\Users\\marco\\Documents\\MASTER_DATA_SCIENTIST\\TFM_MSD\\SEED_FRA_OUTPUT\\NEGATIVE\\3_2_trial_1_signals.fif\n",
      "[done]\n"
     ]
    },
    {
     "name": "stderr",
     "output_type": "stream",
     "text": [
      "\r",
      "Processing:  10%|██████▊                                                                | 2/21 [00:04<00:38,  2.02s/it]"
     ]
    },
    {
     "name": "stdout",
     "output_type": "stream",
     "text": [
      "1000.0\n",
      "Writing C:\\Users\\marco\\Documents\\MASTER_DATA_SCIENTIST\\TFM_MSD\\SEED_FRA_OUTPUT\\NEUTRAL\\3_2_trial_2_signals.fif\n"
     ]
    },
    {
     "name": "stderr",
     "output_type": "stream",
     "text": [
      "C:\\Users\\marco\\AppData\\Local\\Temp\\ipykernel_14260\\1741641518.py:44: RuntimeWarning: This filename (C:\\Users\\marco\\Documents\\MASTER_DATA_SCIENTIST\\TFM_MSD\\SEED_FRA_OUTPUT\\NEUTRAL\\3_2_trial_2_signals.fif) does not conform to MNE naming conventions. All raw files should end with raw.fif, raw_sss.fif, raw_tsss.fif, _meg.fif, _eeg.fif, _ieeg.fif, raw.fif.gz, raw_sss.fif.gz, raw_tsss.fif.gz, _meg.fif.gz, _eeg.fif.gz or _ieeg.fif.gz\n",
      "  eeg_trial.save(output_path, overwrite=True)\n"
     ]
    },
    {
     "name": "stdout",
     "output_type": "stream",
     "text": [
      "Closing C:\\Users\\marco\\Documents\\MASTER_DATA_SCIENTIST\\TFM_MSD\\SEED_FRA_OUTPUT\\NEUTRAL\\3_2_trial_2_signals.fif\n",
      "[done]\n"
     ]
    },
    {
     "name": "stderr",
     "output_type": "stream",
     "text": [
      "\r",
      "Processing:  14%|██████████▏                                                            | 3/21 [00:05<00:34,  1.93s/it]"
     ]
    },
    {
     "name": "stdout",
     "output_type": "stream",
     "text": [
      "1000.0\n",
      "Writing C:\\Users\\marco\\Documents\\MASTER_DATA_SCIENTIST\\TFM_MSD\\SEED_FRA_OUTPUT\\NEGATIVE\\3_2_trial_3_signals.fif\n"
     ]
    },
    {
     "name": "stderr",
     "output_type": "stream",
     "text": [
      "C:\\Users\\marco\\AppData\\Local\\Temp\\ipykernel_14260\\1741641518.py:44: RuntimeWarning: This filename (C:\\Users\\marco\\Documents\\MASTER_DATA_SCIENTIST\\TFM_MSD\\SEED_FRA_OUTPUT\\NEGATIVE\\3_2_trial_3_signals.fif) does not conform to MNE naming conventions. All raw files should end with raw.fif, raw_sss.fif, raw_tsss.fif, _meg.fif, _eeg.fif, _ieeg.fif, raw.fif.gz, raw_sss.fif.gz, raw_tsss.fif.gz, _meg.fif.gz, _eeg.fif.gz or _ieeg.fif.gz\n",
      "  eeg_trial.save(output_path, overwrite=True)\n"
     ]
    },
    {
     "name": "stdout",
     "output_type": "stream",
     "text": [
      "Closing C:\\Users\\marco\\Documents\\MASTER_DATA_SCIENTIST\\TFM_MSD\\SEED_FRA_OUTPUT\\NEGATIVE\\3_2_trial_3_signals.fif\n",
      "[done]\n"
     ]
    },
    {
     "name": "stderr",
     "output_type": "stream",
     "text": [
      "\r",
      "Processing:  19%|█████████████▌                                                         | 4/21 [00:08<00:36,  2.13s/it]"
     ]
    },
    {
     "name": "stdout",
     "output_type": "stream",
     "text": [
      "1000.0\n",
      "Writing C:\\Users\\marco\\Documents\\MASTER_DATA_SCIENTIST\\TFM_MSD\\SEED_FRA_OUTPUT\\POSITIVE\\3_2_trial_4_signals.fif\n"
     ]
    },
    {
     "name": "stderr",
     "output_type": "stream",
     "text": [
      "C:\\Users\\marco\\AppData\\Local\\Temp\\ipykernel_14260\\1741641518.py:44: RuntimeWarning: This filename (C:\\Users\\marco\\Documents\\MASTER_DATA_SCIENTIST\\TFM_MSD\\SEED_FRA_OUTPUT\\POSITIVE\\3_2_trial_4_signals.fif) does not conform to MNE naming conventions. All raw files should end with raw.fif, raw_sss.fif, raw_tsss.fif, _meg.fif, _eeg.fif, _ieeg.fif, raw.fif.gz, raw_sss.fif.gz, raw_tsss.fif.gz, _meg.fif.gz, _eeg.fif.gz or _ieeg.fif.gz\n",
      "  eeg_trial.save(output_path, overwrite=True)\n"
     ]
    },
    {
     "name": "stdout",
     "output_type": "stream",
     "text": [
      "Closing C:\\Users\\marco\\Documents\\MASTER_DATA_SCIENTIST\\TFM_MSD\\SEED_FRA_OUTPUT\\POSITIVE\\3_2_trial_4_signals.fif\n",
      "[done]\n"
     ]
    },
    {
     "name": "stderr",
     "output_type": "stream",
     "text": [
      "\r",
      "Processing:  24%|████████████████▉                                                      | 5/21 [00:09<00:31,  1.95s/it]"
     ]
    },
    {
     "name": "stdout",
     "output_type": "stream",
     "text": [
      "1000.0\n",
      "Writing C:\\Users\\marco\\Documents\\MASTER_DATA_SCIENTIST\\TFM_MSD\\SEED_FRA_OUTPUT\\NEUTRAL\\3_2_trial_5_signals.fif\n"
     ]
    },
    {
     "name": "stderr",
     "output_type": "stream",
     "text": [
      "C:\\Users\\marco\\AppData\\Local\\Temp\\ipykernel_14260\\1741641518.py:44: RuntimeWarning: This filename (C:\\Users\\marco\\Documents\\MASTER_DATA_SCIENTIST\\TFM_MSD\\SEED_FRA_OUTPUT\\NEUTRAL\\3_2_trial_5_signals.fif) does not conform to MNE naming conventions. All raw files should end with raw.fif, raw_sss.fif, raw_tsss.fif, _meg.fif, _eeg.fif, _ieeg.fif, raw.fif.gz, raw_sss.fif.gz, raw_tsss.fif.gz, _meg.fif.gz, _eeg.fif.gz or _ieeg.fif.gz\n",
      "  eeg_trial.save(output_path, overwrite=True)\n"
     ]
    },
    {
     "name": "stdout",
     "output_type": "stream",
     "text": [
      "Closing C:\\Users\\marco\\Documents\\MASTER_DATA_SCIENTIST\\TFM_MSD\\SEED_FRA_OUTPUT\\NEUTRAL\\3_2_trial_5_signals.fif\n",
      "[done]\n"
     ]
    },
    {
     "name": "stderr",
     "output_type": "stream",
     "text": [
      "\r",
      "Processing:  29%|████████████████████▎                                                  | 6/21 [00:11<00:28,  1.93s/it]"
     ]
    },
    {
     "name": "stdout",
     "output_type": "stream",
     "text": [
      "1000.0\n",
      "Writing C:\\Users\\marco\\Documents\\MASTER_DATA_SCIENTIST\\TFM_MSD\\SEED_FRA_OUTPUT\\NEGATIVE\\3_2_trial_6_signals.fif\n"
     ]
    },
    {
     "name": "stderr",
     "output_type": "stream",
     "text": [
      "C:\\Users\\marco\\AppData\\Local\\Temp\\ipykernel_14260\\1741641518.py:44: RuntimeWarning: This filename (C:\\Users\\marco\\Documents\\MASTER_DATA_SCIENTIST\\TFM_MSD\\SEED_FRA_OUTPUT\\NEGATIVE\\3_2_trial_6_signals.fif) does not conform to MNE naming conventions. All raw files should end with raw.fif, raw_sss.fif, raw_tsss.fif, _meg.fif, _eeg.fif, _ieeg.fif, raw.fif.gz, raw_sss.fif.gz, raw_tsss.fif.gz, _meg.fif.gz, _eeg.fif.gz or _ieeg.fif.gz\n",
      "  eeg_trial.save(output_path, overwrite=True)\n"
     ]
    },
    {
     "name": "stdout",
     "output_type": "stream",
     "text": [
      "Closing C:\\Users\\marco\\Documents\\MASTER_DATA_SCIENTIST\\TFM_MSD\\SEED_FRA_OUTPUT\\NEGATIVE\\3_2_trial_6_signals.fif\n",
      "[done]\n"
     ]
    },
    {
     "name": "stderr",
     "output_type": "stream",
     "text": [
      "\r",
      "Processing:  33%|███████████████████████▋                                               | 7/21 [00:14<00:28,  2.03s/it]"
     ]
    },
    {
     "name": "stdout",
     "output_type": "stream",
     "text": [
      "1000.0\n",
      "Writing C:\\Users\\marco\\Documents\\MASTER_DATA_SCIENTIST\\TFM_MSD\\SEED_FRA_OUTPUT\\NEUTRAL\\3_2_trial_7_signals.fif\n"
     ]
    },
    {
     "name": "stderr",
     "output_type": "stream",
     "text": [
      "C:\\Users\\marco\\AppData\\Local\\Temp\\ipykernel_14260\\1741641518.py:44: RuntimeWarning: This filename (C:\\Users\\marco\\Documents\\MASTER_DATA_SCIENTIST\\TFM_MSD\\SEED_FRA_OUTPUT\\NEUTRAL\\3_2_trial_7_signals.fif) does not conform to MNE naming conventions. All raw files should end with raw.fif, raw_sss.fif, raw_tsss.fif, _meg.fif, _eeg.fif, _ieeg.fif, raw.fif.gz, raw_sss.fif.gz, raw_tsss.fif.gz, _meg.fif.gz, _eeg.fif.gz or _ieeg.fif.gz\n",
      "  eeg_trial.save(output_path, overwrite=True)\n"
     ]
    },
    {
     "name": "stdout",
     "output_type": "stream",
     "text": [
      "Closing C:\\Users\\marco\\Documents\\MASTER_DATA_SCIENTIST\\TFM_MSD\\SEED_FRA_OUTPUT\\NEUTRAL\\3_2_trial_7_signals.fif\n",
      "[done]\n"
     ]
    },
    {
     "name": "stderr",
     "output_type": "stream",
     "text": [
      "\r",
      "Processing:  38%|███████████████████████████                                            | 8/21 [00:15<00:25,  1.94s/it]"
     ]
    },
    {
     "name": "stdout",
     "output_type": "stream",
     "text": [
      "1000.0\n",
      "Writing C:\\Users\\marco\\Documents\\MASTER_DATA_SCIENTIST\\TFM_MSD\\SEED_FRA_OUTPUT\\POSITIVE\\3_2_trial_8_signals.fif\n"
     ]
    },
    {
     "name": "stderr",
     "output_type": "stream",
     "text": [
      "C:\\Users\\marco\\AppData\\Local\\Temp\\ipykernel_14260\\1741641518.py:44: RuntimeWarning: This filename (C:\\Users\\marco\\Documents\\MASTER_DATA_SCIENTIST\\TFM_MSD\\SEED_FRA_OUTPUT\\POSITIVE\\3_2_trial_8_signals.fif) does not conform to MNE naming conventions. All raw files should end with raw.fif, raw_sss.fif, raw_tsss.fif, _meg.fif, _eeg.fif, _ieeg.fif, raw.fif.gz, raw_sss.fif.gz, raw_tsss.fif.gz, _meg.fif.gz, _eeg.fif.gz or _ieeg.fif.gz\n",
      "  eeg_trial.save(output_path, overwrite=True)\n"
     ]
    },
    {
     "name": "stdout",
     "output_type": "stream",
     "text": [
      "Closing C:\\Users\\marco\\Documents\\MASTER_DATA_SCIENTIST\\TFM_MSD\\SEED_FRA_OUTPUT\\POSITIVE\\3_2_trial_8_signals.fif\n",
      "[done]\n"
     ]
    },
    {
     "name": "stderr",
     "output_type": "stream",
     "text": [
      "\r",
      "Processing:  43%|██████████████████████████████▍                                        | 9/21 [00:17<00:23,  1.96s/it]"
     ]
    },
    {
     "name": "stdout",
     "output_type": "stream",
     "text": [
      "1000.0\n",
      "Writing C:\\Users\\marco\\Documents\\MASTER_DATA_SCIENTIST\\TFM_MSD\\SEED_FRA_OUTPUT\\NEGATIVE\\3_2_trial_9_signals.fif\n"
     ]
    },
    {
     "name": "stderr",
     "output_type": "stream",
     "text": [
      "C:\\Users\\marco\\AppData\\Local\\Temp\\ipykernel_14260\\1741641518.py:44: RuntimeWarning: This filename (C:\\Users\\marco\\Documents\\MASTER_DATA_SCIENTIST\\TFM_MSD\\SEED_FRA_OUTPUT\\NEGATIVE\\3_2_trial_9_signals.fif) does not conform to MNE naming conventions. All raw files should end with raw.fif, raw_sss.fif, raw_tsss.fif, _meg.fif, _eeg.fif, _ieeg.fif, raw.fif.gz, raw_sss.fif.gz, raw_tsss.fif.gz, _meg.fif.gz, _eeg.fif.gz or _ieeg.fif.gz\n",
      "  eeg_trial.save(output_path, overwrite=True)\n"
     ]
    },
    {
     "name": "stdout",
     "output_type": "stream",
     "text": [
      "Closing C:\\Users\\marco\\Documents\\MASTER_DATA_SCIENTIST\\TFM_MSD\\SEED_FRA_OUTPUT\\NEGATIVE\\3_2_trial_9_signals.fif\n",
      "[done]\n"
     ]
    },
    {
     "name": "stderr",
     "output_type": "stream",
     "text": [
      "\r",
      "Processing:  48%|█████████████████████████████████▎                                    | 10/21 [00:19<00:21,  1.97s/it]"
     ]
    },
    {
     "name": "stdout",
     "output_type": "stream",
     "text": [
      "1000.0\n",
      "Writing C:\\Users\\marco\\Documents\\MASTER_DATA_SCIENTIST\\TFM_MSD\\SEED_FRA_OUTPUT\\NEUTRAL\\3_2_trial_10_signals.fif\n"
     ]
    },
    {
     "name": "stderr",
     "output_type": "stream",
     "text": [
      "C:\\Users\\marco\\AppData\\Local\\Temp\\ipykernel_14260\\1741641518.py:44: RuntimeWarning: This filename (C:\\Users\\marco\\Documents\\MASTER_DATA_SCIENTIST\\TFM_MSD\\SEED_FRA_OUTPUT\\NEUTRAL\\3_2_trial_10_signals.fif) does not conform to MNE naming conventions. All raw files should end with raw.fif, raw_sss.fif, raw_tsss.fif, _meg.fif, _eeg.fif, _ieeg.fif, raw.fif.gz, raw_sss.fif.gz, raw_tsss.fif.gz, _meg.fif.gz, _eeg.fif.gz or _ieeg.fif.gz\n",
      "  eeg_trial.save(output_path, overwrite=True)\n"
     ]
    },
    {
     "name": "stdout",
     "output_type": "stream",
     "text": [
      "Closing C:\\Users\\marco\\Documents\\MASTER_DATA_SCIENTIST\\TFM_MSD\\SEED_FRA_OUTPUT\\NEUTRAL\\3_2_trial_10_signals.fif\n",
      "[done]\n"
     ]
    },
    {
     "name": "stderr",
     "output_type": "stream",
     "text": [
      "\r",
      "Processing:  52%|████████████████████████████████████▋                                 | 11/21 [00:21<00:19,  1.98s/it]"
     ]
    },
    {
     "name": "stdout",
     "output_type": "stream",
     "text": [
      "1000.0\n",
      "Writing C:\\Users\\marco\\Documents\\MASTER_DATA_SCIENTIST\\TFM_MSD\\SEED_FRA_OUTPUT\\POSITIVE\\3_2_trial_11_signals.fif\n"
     ]
    },
    {
     "name": "stderr",
     "output_type": "stream",
     "text": [
      "C:\\Users\\marco\\AppData\\Local\\Temp\\ipykernel_14260\\1741641518.py:44: RuntimeWarning: This filename (C:\\Users\\marco\\Documents\\MASTER_DATA_SCIENTIST\\TFM_MSD\\SEED_FRA_OUTPUT\\POSITIVE\\3_2_trial_11_signals.fif) does not conform to MNE naming conventions. All raw files should end with raw.fif, raw_sss.fif, raw_tsss.fif, _meg.fif, _eeg.fif, _ieeg.fif, raw.fif.gz, raw_sss.fif.gz, raw_tsss.fif.gz, _meg.fif.gz, _eeg.fif.gz or _ieeg.fif.gz\n",
      "  eeg_trial.save(output_path, overwrite=True)\n"
     ]
    },
    {
     "name": "stdout",
     "output_type": "stream",
     "text": [
      "Closing C:\\Users\\marco\\Documents\\MASTER_DATA_SCIENTIST\\TFM_MSD\\SEED_FRA_OUTPUT\\POSITIVE\\3_2_trial_11_signals.fif\n",
      "[done]\n"
     ]
    },
    {
     "name": "stderr",
     "output_type": "stream",
     "text": [
      "\r",
      "Processing:  57%|████████████████████████████████████████                              | 12/21 [00:23<00:17,  1.99s/it]"
     ]
    },
    {
     "name": "stdout",
     "output_type": "stream",
     "text": [
      "1000.0\n",
      "Writing C:\\Users\\marco\\Documents\\MASTER_DATA_SCIENTIST\\TFM_MSD\\SEED_FRA_OUTPUT\\POSITIVE\\3_2_trial_12_signals.fif\n"
     ]
    },
    {
     "name": "stderr",
     "output_type": "stream",
     "text": [
      "C:\\Users\\marco\\AppData\\Local\\Temp\\ipykernel_14260\\1741641518.py:44: RuntimeWarning: This filename (C:\\Users\\marco\\Documents\\MASTER_DATA_SCIENTIST\\TFM_MSD\\SEED_FRA_OUTPUT\\POSITIVE\\3_2_trial_12_signals.fif) does not conform to MNE naming conventions. All raw files should end with raw.fif, raw_sss.fif, raw_tsss.fif, _meg.fif, _eeg.fif, _ieeg.fif, raw.fif.gz, raw_sss.fif.gz, raw_tsss.fif.gz, _meg.fif.gz, _eeg.fif.gz or _ieeg.fif.gz\n",
      "  eeg_trial.save(output_path, overwrite=True)\n"
     ]
    },
    {
     "name": "stdout",
     "output_type": "stream",
     "text": [
      "Closing C:\\Users\\marco\\Documents\\MASTER_DATA_SCIENTIST\\TFM_MSD\\SEED_FRA_OUTPUT\\POSITIVE\\3_2_trial_12_signals.fif\n",
      "[done]\n"
     ]
    },
    {
     "name": "stderr",
     "output_type": "stream",
     "text": [
      "\r",
      "Processing:  62%|███████████████████████████████████████████▎                          | 13/21 [00:25<00:14,  1.85s/it]"
     ]
    },
    {
     "name": "stdout",
     "output_type": "stream",
     "text": [
      "1000.0\n",
      "Writing C:\\Users\\marco\\Documents\\MASTER_DATA_SCIENTIST\\TFM_MSD\\SEED_FRA_OUTPUT\\NEUTRAL\\3_2_trial_13_signals.fif\n"
     ]
    },
    {
     "name": "stderr",
     "output_type": "stream",
     "text": [
      "C:\\Users\\marco\\AppData\\Local\\Temp\\ipykernel_14260\\1741641518.py:44: RuntimeWarning: This filename (C:\\Users\\marco\\Documents\\MASTER_DATA_SCIENTIST\\TFM_MSD\\SEED_FRA_OUTPUT\\NEUTRAL\\3_2_trial_13_signals.fif) does not conform to MNE naming conventions. All raw files should end with raw.fif, raw_sss.fif, raw_tsss.fif, _meg.fif, _eeg.fif, _ieeg.fif, raw.fif.gz, raw_sss.fif.gz, raw_tsss.fif.gz, _meg.fif.gz, _eeg.fif.gz or _ieeg.fif.gz\n",
      "  eeg_trial.save(output_path, overwrite=True)\n"
     ]
    },
    {
     "name": "stdout",
     "output_type": "stream",
     "text": [
      "Closing C:\\Users\\marco\\Documents\\MASTER_DATA_SCIENTIST\\TFM_MSD\\SEED_FRA_OUTPUT\\NEUTRAL\\3_2_trial_13_signals.fif\n",
      "[done]\n"
     ]
    },
    {
     "name": "stderr",
     "output_type": "stream",
     "text": [
      "\r",
      "Processing:  67%|██████████████████████████████████████████████▋                       | 14/21 [00:27<00:13,  1.88s/it]"
     ]
    },
    {
     "name": "stdout",
     "output_type": "stream",
     "text": [
      "1000.0\n",
      "Writing C:\\Users\\marco\\Documents\\MASTER_DATA_SCIENTIST\\TFM_MSD\\SEED_FRA_OUTPUT\\NEGATIVE\\3_2_trial_14_signals.fif\n"
     ]
    },
    {
     "name": "stderr",
     "output_type": "stream",
     "text": [
      "C:\\Users\\marco\\AppData\\Local\\Temp\\ipykernel_14260\\1741641518.py:44: RuntimeWarning: This filename (C:\\Users\\marco\\Documents\\MASTER_DATA_SCIENTIST\\TFM_MSD\\SEED_FRA_OUTPUT\\NEGATIVE\\3_2_trial_14_signals.fif) does not conform to MNE naming conventions. All raw files should end with raw.fif, raw_sss.fif, raw_tsss.fif, _meg.fif, _eeg.fif, _ieeg.fif, raw.fif.gz, raw_sss.fif.gz, raw_tsss.fif.gz, _meg.fif.gz, _eeg.fif.gz or _ieeg.fif.gz\n",
      "  eeg_trial.save(output_path, overwrite=True)\n"
     ]
    },
    {
     "name": "stdout",
     "output_type": "stream",
     "text": [
      "Closing C:\\Users\\marco\\Documents\\MASTER_DATA_SCIENTIST\\TFM_MSD\\SEED_FRA_OUTPUT\\NEGATIVE\\3_2_trial_14_signals.fif\n",
      "[done]\n"
     ]
    },
    {
     "name": "stderr",
     "output_type": "stream",
     "text": [
      "\r",
      "Processing:  71%|██████████████████████████████████████████████████                    | 15/21 [00:29<00:11,  1.93s/it]"
     ]
    },
    {
     "name": "stdout",
     "output_type": "stream",
     "text": [
      "1000.0\n",
      "Writing C:\\Users\\marco\\Documents\\MASTER_DATA_SCIENTIST\\TFM_MSD\\SEED_FRA_OUTPUT\\NEGATIVE\\3_2_trial_15_signals.fif\n",
      "Closing C:\\Users\\marco\\Documents\\MASTER_DATA_SCIENTIST\\TFM_MSD\\SEED_FRA_OUTPUT\\NEGATIVE\\3_2_trial_15_signals.fif\n"
     ]
    },
    {
     "name": "stderr",
     "output_type": "stream",
     "text": [
      "C:\\Users\\marco\\AppData\\Local\\Temp\\ipykernel_14260\\1741641518.py:44: RuntimeWarning: This filename (C:\\Users\\marco\\Documents\\MASTER_DATA_SCIENTIST\\TFM_MSD\\SEED_FRA_OUTPUT\\NEGATIVE\\3_2_trial_15_signals.fif) does not conform to MNE naming conventions. All raw files should end with raw.fif, raw_sss.fif, raw_tsss.fif, _meg.fif, _eeg.fif, _ieeg.fif, raw.fif.gz, raw_sss.fif.gz, raw_tsss.fif.gz, _meg.fif.gz, _eeg.fif.gz or _ieeg.fif.gz\n",
      "  eeg_trial.save(output_path, overwrite=True)\n"
     ]
    },
    {
     "name": "stdout",
     "output_type": "stream",
     "text": [
      "[done]\n"
     ]
    },
    {
     "name": "stderr",
     "output_type": "stream",
     "text": [
      "\r",
      "Processing:  76%|█████████████████████████████████████████████████████▎                | 16/21 [00:31<00:09,  1.93s/it]"
     ]
    },
    {
     "name": "stdout",
     "output_type": "stream",
     "text": [
      "1000.0\n",
      "Writing C:\\Users\\marco\\Documents\\MASTER_DATA_SCIENTIST\\TFM_MSD\\SEED_FRA_OUTPUT\\NEUTRAL\\3_2_trial_16_signals.fif\n"
     ]
    },
    {
     "name": "stderr",
     "output_type": "stream",
     "text": [
      "C:\\Users\\marco\\AppData\\Local\\Temp\\ipykernel_14260\\1741641518.py:44: RuntimeWarning: This filename (C:\\Users\\marco\\Documents\\MASTER_DATA_SCIENTIST\\TFM_MSD\\SEED_FRA_OUTPUT\\NEUTRAL\\3_2_trial_16_signals.fif) does not conform to MNE naming conventions. All raw files should end with raw.fif, raw_sss.fif, raw_tsss.fif, _meg.fif, _eeg.fif, _ieeg.fif, raw.fif.gz, raw_sss.fif.gz, raw_tsss.fif.gz, _meg.fif.gz, _eeg.fif.gz or _ieeg.fif.gz\n",
      "  eeg_trial.save(output_path, overwrite=True)\n"
     ]
    },
    {
     "name": "stdout",
     "output_type": "stream",
     "text": [
      "Closing C:\\Users\\marco\\Documents\\MASTER_DATA_SCIENTIST\\TFM_MSD\\SEED_FRA_OUTPUT\\NEUTRAL\\3_2_trial_16_signals.fif\n",
      "[done]\n"
     ]
    },
    {
     "name": "stderr",
     "output_type": "stream",
     "text": [
      "\r",
      "Processing:  81%|████████████████████████████████████████████████████████▋             | 17/21 [00:33<00:07,  1.98s/it]"
     ]
    },
    {
     "name": "stdout",
     "output_type": "stream",
     "text": [
      "1000.0\n",
      "Writing C:\\Users\\marco\\Documents\\MASTER_DATA_SCIENTIST\\TFM_MSD\\SEED_FRA_OUTPUT\\POSITIVE\\3_2_trial_17_signals.fif\n"
     ]
    },
    {
     "name": "stderr",
     "output_type": "stream",
     "text": [
      "C:\\Users\\marco\\AppData\\Local\\Temp\\ipykernel_14260\\1741641518.py:44: RuntimeWarning: This filename (C:\\Users\\marco\\Documents\\MASTER_DATA_SCIENTIST\\TFM_MSD\\SEED_FRA_OUTPUT\\POSITIVE\\3_2_trial_17_signals.fif) does not conform to MNE naming conventions. All raw files should end with raw.fif, raw_sss.fif, raw_tsss.fif, _meg.fif, _eeg.fif, _ieeg.fif, raw.fif.gz, raw_sss.fif.gz, raw_tsss.fif.gz, _meg.fif.gz, _eeg.fif.gz or _ieeg.fif.gz\n",
      "  eeg_trial.save(output_path, overwrite=True)\n"
     ]
    },
    {
     "name": "stdout",
     "output_type": "stream",
     "text": [
      "Closing C:\\Users\\marco\\Documents\\MASTER_DATA_SCIENTIST\\TFM_MSD\\SEED_FRA_OUTPUT\\POSITIVE\\3_2_trial_17_signals.fif\n",
      "[done]\n"
     ]
    },
    {
     "name": "stderr",
     "output_type": "stream",
     "text": [
      "\r",
      "Processing:  86%|████████████████████████████████████████████████████████████          | 18/21 [00:35<00:05,  1.99s/it]"
     ]
    },
    {
     "name": "stdout",
     "output_type": "stream",
     "text": [
      "1000.0\n",
      "Writing C:\\Users\\marco\\Documents\\MASTER_DATA_SCIENTIST\\TFM_MSD\\SEED_FRA_OUTPUT\\NEGATIVE\\3_2_trial_18_signals.fif\n"
     ]
    },
    {
     "name": "stderr",
     "output_type": "stream",
     "text": [
      "C:\\Users\\marco\\AppData\\Local\\Temp\\ipykernel_14260\\1741641518.py:44: RuntimeWarning: This filename (C:\\Users\\marco\\Documents\\MASTER_DATA_SCIENTIST\\TFM_MSD\\SEED_FRA_OUTPUT\\NEGATIVE\\3_2_trial_18_signals.fif) does not conform to MNE naming conventions. All raw files should end with raw.fif, raw_sss.fif, raw_tsss.fif, _meg.fif, _eeg.fif, _ieeg.fif, raw.fif.gz, raw_sss.fif.gz, raw_tsss.fif.gz, _meg.fif.gz, _eeg.fif.gz or _ieeg.fif.gz\n",
      "  eeg_trial.save(output_path, overwrite=True)\n"
     ]
    },
    {
     "name": "stdout",
     "output_type": "stream",
     "text": [
      "Closing C:\\Users\\marco\\Documents\\MASTER_DATA_SCIENTIST\\TFM_MSD\\SEED_FRA_OUTPUT\\NEGATIVE\\3_2_trial_18_signals.fif\n",
      "[done]\n"
     ]
    },
    {
     "name": "stderr",
     "output_type": "stream",
     "text": [
      "\r",
      "Processing:  90%|███████████████████████████████████████████████████████████████▎      | 19/21 [00:37<00:03,  1.99s/it]"
     ]
    },
    {
     "name": "stdout",
     "output_type": "stream",
     "text": [
      "1000.0\n",
      "Writing C:\\Users\\marco\\Documents\\MASTER_DATA_SCIENTIST\\TFM_MSD\\SEED_FRA_OUTPUT\\NEUTRAL\\3_2_trial_19_signals.fif\n",
      "Closing C:\\Users\\marco\\Documents\\MASTER_DATA_SCIENTIST\\TFM_MSD\\SEED_FRA_OUTPUT\\NEUTRAL\\3_2_trial_19_signals.fif\n"
     ]
    },
    {
     "name": "stderr",
     "output_type": "stream",
     "text": [
      "C:\\Users\\marco\\AppData\\Local\\Temp\\ipykernel_14260\\1741641518.py:44: RuntimeWarning: This filename (C:\\Users\\marco\\Documents\\MASTER_DATA_SCIENTIST\\TFM_MSD\\SEED_FRA_OUTPUT\\NEUTRAL\\3_2_trial_19_signals.fif) does not conform to MNE naming conventions. All raw files should end with raw.fif, raw_sss.fif, raw_tsss.fif, _meg.fif, _eeg.fif, _ieeg.fif, raw.fif.gz, raw_sss.fif.gz, raw_tsss.fif.gz, _meg.fif.gz, _eeg.fif.gz or _ieeg.fif.gz\n",
      "  eeg_trial.save(output_path, overwrite=True)\n"
     ]
    },
    {
     "name": "stdout",
     "output_type": "stream",
     "text": [
      "[done]\n"
     ]
    },
    {
     "name": "stderr",
     "output_type": "stream",
     "text": [
      "\r",
      "Processing:  95%|██████████████████████████████████████████████████████████████████▋   | 20/21 [00:39<00:01,  1.97s/it]"
     ]
    },
    {
     "name": "stdout",
     "output_type": "stream",
     "text": [
      "1000.0\n",
      "Writing C:\\Users\\marco\\Documents\\MASTER_DATA_SCIENTIST\\TFM_MSD\\SEED_FRA_OUTPUT\\POSITIVE\\3_2_trial_20_signals.fif\n"
     ]
    },
    {
     "name": "stderr",
     "output_type": "stream",
     "text": [
      "C:\\Users\\marco\\AppData\\Local\\Temp\\ipykernel_14260\\1741641518.py:44: RuntimeWarning: This filename (C:\\Users\\marco\\Documents\\MASTER_DATA_SCIENTIST\\TFM_MSD\\SEED_FRA_OUTPUT\\POSITIVE\\3_2_trial_20_signals.fif) does not conform to MNE naming conventions. All raw files should end with raw.fif, raw_sss.fif, raw_tsss.fif, _meg.fif, _eeg.fif, _ieeg.fif, raw.fif.gz, raw_sss.fif.gz, raw_tsss.fif.gz, _meg.fif.gz, _eeg.fif.gz or _ieeg.fif.gz\n",
      "  eeg_trial.save(output_path, overwrite=True)\n"
     ]
    },
    {
     "name": "stdout",
     "output_type": "stream",
     "text": [
      "Closing C:\\Users\\marco\\Documents\\MASTER_DATA_SCIENTIST\\TFM_MSD\\SEED_FRA_OUTPUT\\POSITIVE\\3_2_trial_20_signals.fif\n",
      "[done]\n"
     ]
    },
    {
     "name": "stderr",
     "output_type": "stream",
     "text": [
      "Processing: 100%|██████████████████████████████████████████████████████████████████████| 21/21 [00:41<00:00,  1.97s/it]\n"
     ]
    },
    {
     "name": "stdout",
     "output_type": "stream",
     "text": [
      "Reading 0 ... 3813719  =      0.000 ...  3813.719 secs...\n",
      "Filtering raw data in 1 contiguous segment\n",
      "Setting up band-pass filter from 0.5 - 55 Hz\n",
      "\n",
      "FIR filter parameters\n",
      "---------------------\n",
      "Designing a one-pass, zero-phase, non-causal bandpass filter:\n",
      "- Windowed time-domain design (firwin) method\n",
      "- Hamming window with 0.0194 passband ripple and 53 dB stopband attenuation\n",
      "- Lower passband edge: 0.50\n",
      "- Lower transition bandwidth: 0.50 Hz (-6 dB cutoff frequency: 0.25 Hz)\n",
      "- Upper passband edge: 55.00 Hz\n",
      "- Upper transition bandwidth: 13.75 Hz (-6 dB cutoff frequency: 61.88 Hz)\n",
      "- Filter length: 6601 samples (6.601 sec)\n",
      "\n"
     ]
    },
    {
     "name": "stderr",
     "output_type": "stream",
     "text": [
      "\r",
      "Processing:   0%|                                                                               | 0/21 [00:00<?, ?it/s]"
     ]
    },
    {
     "name": "stdout",
     "output_type": "stream",
     "text": [
      "1000.0\n",
      "Writing C:\\Users\\marco\\Documents\\MASTER_DATA_SCIENTIST\\TFM_MSD\\SEED_FRA_OUTPUT\\POSITIVE\\3_3_trial_0_signals.fif\n"
     ]
    },
    {
     "name": "stderr",
     "output_type": "stream",
     "text": [
      "C:\\Users\\marco\\AppData\\Local\\Temp\\ipykernel_14260\\1741641518.py:44: RuntimeWarning: This filename (C:\\Users\\marco\\Documents\\MASTER_DATA_SCIENTIST\\TFM_MSD\\SEED_FRA_OUTPUT\\POSITIVE\\3_3_trial_0_signals.fif) does not conform to MNE naming conventions. All raw files should end with raw.fif, raw_sss.fif, raw_tsss.fif, _meg.fif, _eeg.fif, _ieeg.fif, raw.fif.gz, raw_sss.fif.gz, raw_tsss.fif.gz, _meg.fif.gz, _eeg.fif.gz or _ieeg.fif.gz\n",
      "  eeg_trial.save(output_path, overwrite=True)\n"
     ]
    },
    {
     "name": "stdout",
     "output_type": "stream",
     "text": [
      "Closing C:\\Users\\marco\\Documents\\MASTER_DATA_SCIENTIST\\TFM_MSD\\SEED_FRA_OUTPUT\\POSITIVE\\3_3_trial_0_signals.fif\n",
      "[done]\n"
     ]
    },
    {
     "name": "stderr",
     "output_type": "stream",
     "text": [
      "\r",
      "Processing:   5%|███▍                                                                   | 1/21 [00:01<00:35,  1.79s/it]"
     ]
    },
    {
     "name": "stdout",
     "output_type": "stream",
     "text": [
      "1000.0\n",
      "Writing C:\\Users\\marco\\Documents\\MASTER_DATA_SCIENTIST\\TFM_MSD\\SEED_FRA_OUTPUT\\NEGATIVE\\3_3_trial_1_signals.fif\n"
     ]
    },
    {
     "name": "stderr",
     "output_type": "stream",
     "text": [
      "C:\\Users\\marco\\AppData\\Local\\Temp\\ipykernel_14260\\1741641518.py:44: RuntimeWarning: This filename (C:\\Users\\marco\\Documents\\MASTER_DATA_SCIENTIST\\TFM_MSD\\SEED_FRA_OUTPUT\\NEGATIVE\\3_3_trial_1_signals.fif) does not conform to MNE naming conventions. All raw files should end with raw.fif, raw_sss.fif, raw_tsss.fif, _meg.fif, _eeg.fif, _ieeg.fif, raw.fif.gz, raw_sss.fif.gz, raw_tsss.fif.gz, _meg.fif.gz, _eeg.fif.gz or _ieeg.fif.gz\n",
      "  eeg_trial.save(output_path, overwrite=True)\n"
     ]
    },
    {
     "name": "stdout",
     "output_type": "stream",
     "text": [
      "Closing C:\\Users\\marco\\Documents\\MASTER_DATA_SCIENTIST\\TFM_MSD\\SEED_FRA_OUTPUT\\NEGATIVE\\3_3_trial_1_signals.fif\n",
      "[done]\n"
     ]
    },
    {
     "name": "stderr",
     "output_type": "stream",
     "text": [
      "\r",
      "Processing:  10%|██████▊                                                                | 2/21 [00:03<00:37,  1.95s/it]"
     ]
    },
    {
     "name": "stdout",
     "output_type": "stream",
     "text": [
      "1000.0\n",
      "Writing C:\\Users\\marco\\Documents\\MASTER_DATA_SCIENTIST\\TFM_MSD\\SEED_FRA_OUTPUT\\NEUTRAL\\3_3_trial_2_signals.fif\n"
     ]
    },
    {
     "name": "stderr",
     "output_type": "stream",
     "text": [
      "C:\\Users\\marco\\AppData\\Local\\Temp\\ipykernel_14260\\1741641518.py:44: RuntimeWarning: This filename (C:\\Users\\marco\\Documents\\MASTER_DATA_SCIENTIST\\TFM_MSD\\SEED_FRA_OUTPUT\\NEUTRAL\\3_3_trial_2_signals.fif) does not conform to MNE naming conventions. All raw files should end with raw.fif, raw_sss.fif, raw_tsss.fif, _meg.fif, _eeg.fif, _ieeg.fif, raw.fif.gz, raw_sss.fif.gz, raw_tsss.fif.gz, _meg.fif.gz, _eeg.fif.gz or _ieeg.fif.gz\n",
      "  eeg_trial.save(output_path, overwrite=True)\n"
     ]
    },
    {
     "name": "stdout",
     "output_type": "stream",
     "text": [
      "Closing C:\\Users\\marco\\Documents\\MASTER_DATA_SCIENTIST\\TFM_MSD\\SEED_FRA_OUTPUT\\NEUTRAL\\3_3_trial_2_signals.fif\n",
      "[done]\n"
     ]
    },
    {
     "name": "stderr",
     "output_type": "stream",
     "text": [
      "\r",
      "Processing:  14%|██████████▏                                                            | 3/21 [00:05<00:33,  1.87s/it]"
     ]
    },
    {
     "name": "stdout",
     "output_type": "stream",
     "text": [
      "1000.0\n",
      "Writing C:\\Users\\marco\\Documents\\MASTER_DATA_SCIENTIST\\TFM_MSD\\SEED_FRA_OUTPUT\\NEGATIVE\\3_3_trial_3_signals.fif\n"
     ]
    },
    {
     "name": "stderr",
     "output_type": "stream",
     "text": [
      "C:\\Users\\marco\\AppData\\Local\\Temp\\ipykernel_14260\\1741641518.py:44: RuntimeWarning: This filename (C:\\Users\\marco\\Documents\\MASTER_DATA_SCIENTIST\\TFM_MSD\\SEED_FRA_OUTPUT\\NEGATIVE\\3_3_trial_3_signals.fif) does not conform to MNE naming conventions. All raw files should end with raw.fif, raw_sss.fif, raw_tsss.fif, _meg.fif, _eeg.fif, _ieeg.fif, raw.fif.gz, raw_sss.fif.gz, raw_tsss.fif.gz, _meg.fif.gz, _eeg.fif.gz or _ieeg.fif.gz\n",
      "  eeg_trial.save(output_path, overwrite=True)\n"
     ]
    },
    {
     "name": "stdout",
     "output_type": "stream",
     "text": [
      "Closing C:\\Users\\marco\\Documents\\MASTER_DATA_SCIENTIST\\TFM_MSD\\SEED_FRA_OUTPUT\\NEGATIVE\\3_3_trial_3_signals.fif\n",
      "[done]\n"
     ]
    },
    {
     "name": "stderr",
     "output_type": "stream",
     "text": [
      "\r",
      "Processing:  19%|█████████████▌                                                         | 4/21 [00:07<00:33,  1.97s/it]"
     ]
    },
    {
     "name": "stdout",
     "output_type": "stream",
     "text": [
      "1000.0\n",
      "Writing C:\\Users\\marco\\Documents\\MASTER_DATA_SCIENTIST\\TFM_MSD\\SEED_FRA_OUTPUT\\POSITIVE\\3_3_trial_4_signals.fif\n"
     ]
    },
    {
     "name": "stderr",
     "output_type": "stream",
     "text": [
      "C:\\Users\\marco\\AppData\\Local\\Temp\\ipykernel_14260\\1741641518.py:44: RuntimeWarning: This filename (C:\\Users\\marco\\Documents\\MASTER_DATA_SCIENTIST\\TFM_MSD\\SEED_FRA_OUTPUT\\POSITIVE\\3_3_trial_4_signals.fif) does not conform to MNE naming conventions. All raw files should end with raw.fif, raw_sss.fif, raw_tsss.fif, _meg.fif, _eeg.fif, _ieeg.fif, raw.fif.gz, raw_sss.fif.gz, raw_tsss.fif.gz, _meg.fif.gz, _eeg.fif.gz or _ieeg.fif.gz\n",
      "  eeg_trial.save(output_path, overwrite=True)\n"
     ]
    },
    {
     "name": "stdout",
     "output_type": "stream",
     "text": [
      "Closing C:\\Users\\marco\\Documents\\MASTER_DATA_SCIENTIST\\TFM_MSD\\SEED_FRA_OUTPUT\\POSITIVE\\3_3_trial_4_signals.fif\n",
      "[done]\n"
     ]
    },
    {
     "name": "stderr",
     "output_type": "stream",
     "text": [
      "\r",
      "Processing:  24%|████████████████▉                                                      | 5/21 [00:09<00:31,  1.97s/it]"
     ]
    },
    {
     "name": "stdout",
     "output_type": "stream",
     "text": [
      "1000.0\n",
      "Writing C:\\Users\\marco\\Documents\\MASTER_DATA_SCIENTIST\\TFM_MSD\\SEED_FRA_OUTPUT\\NEUTRAL\\3_3_trial_5_signals.fif\n"
     ]
    },
    {
     "name": "stderr",
     "output_type": "stream",
     "text": [
      "C:\\Users\\marco\\AppData\\Local\\Temp\\ipykernel_14260\\1741641518.py:44: RuntimeWarning: This filename (C:\\Users\\marco\\Documents\\MASTER_DATA_SCIENTIST\\TFM_MSD\\SEED_FRA_OUTPUT\\NEUTRAL\\3_3_trial_5_signals.fif) does not conform to MNE naming conventions. All raw files should end with raw.fif, raw_sss.fif, raw_tsss.fif, _meg.fif, _eeg.fif, _ieeg.fif, raw.fif.gz, raw_sss.fif.gz, raw_tsss.fif.gz, _meg.fif.gz, _eeg.fif.gz or _ieeg.fif.gz\n",
      "  eeg_trial.save(output_path, overwrite=True)\n"
     ]
    },
    {
     "name": "stdout",
     "output_type": "stream",
     "text": [
      "Closing C:\\Users\\marco\\Documents\\MASTER_DATA_SCIENTIST\\TFM_MSD\\SEED_FRA_OUTPUT\\NEUTRAL\\3_3_trial_5_signals.fif\n",
      "[done]\n"
     ]
    },
    {
     "name": "stderr",
     "output_type": "stream",
     "text": [
      "\r",
      "Processing:  29%|████████████████████▎                                                  | 6/21 [00:11<00:28,  1.88s/it]"
     ]
    },
    {
     "name": "stdout",
     "output_type": "stream",
     "text": [
      "1000.0\n",
      "Writing C:\\Users\\marco\\Documents\\MASTER_DATA_SCIENTIST\\TFM_MSD\\SEED_FRA_OUTPUT\\NEGATIVE\\3_3_trial_6_signals.fif\n"
     ]
    },
    {
     "name": "stderr",
     "output_type": "stream",
     "text": [
      "C:\\Users\\marco\\AppData\\Local\\Temp\\ipykernel_14260\\1741641518.py:44: RuntimeWarning: This filename (C:\\Users\\marco\\Documents\\MASTER_DATA_SCIENTIST\\TFM_MSD\\SEED_FRA_OUTPUT\\NEGATIVE\\3_3_trial_6_signals.fif) does not conform to MNE naming conventions. All raw files should end with raw.fif, raw_sss.fif, raw_tsss.fif, _meg.fif, _eeg.fif, _ieeg.fif, raw.fif.gz, raw_sss.fif.gz, raw_tsss.fif.gz, _meg.fif.gz, _eeg.fif.gz or _ieeg.fif.gz\n",
      "  eeg_trial.save(output_path, overwrite=True)\n"
     ]
    },
    {
     "name": "stdout",
     "output_type": "stream",
     "text": [
      "Closing C:\\Users\\marco\\Documents\\MASTER_DATA_SCIENTIST\\TFM_MSD\\SEED_FRA_OUTPUT\\NEGATIVE\\3_3_trial_6_signals.fif\n",
      "[done]\n"
     ]
    },
    {
     "name": "stderr",
     "output_type": "stream",
     "text": [
      "\r",
      "Processing:  33%|███████████████████████▋                                               | 7/21 [00:13<00:28,  2.03s/it]"
     ]
    },
    {
     "name": "stdout",
     "output_type": "stream",
     "text": [
      "1000.0\n",
      "Writing C:\\Users\\marco\\Documents\\MASTER_DATA_SCIENTIST\\TFM_MSD\\SEED_FRA_OUTPUT\\NEUTRAL\\3_3_trial_7_signals.fif\n"
     ]
    },
    {
     "name": "stderr",
     "output_type": "stream",
     "text": [
      "C:\\Users\\marco\\AppData\\Local\\Temp\\ipykernel_14260\\1741641518.py:44: RuntimeWarning: This filename (C:\\Users\\marco\\Documents\\MASTER_DATA_SCIENTIST\\TFM_MSD\\SEED_FRA_OUTPUT\\NEUTRAL\\3_3_trial_7_signals.fif) does not conform to MNE naming conventions. All raw files should end with raw.fif, raw_sss.fif, raw_tsss.fif, _meg.fif, _eeg.fif, _ieeg.fif, raw.fif.gz, raw_sss.fif.gz, raw_tsss.fif.gz, _meg.fif.gz, _eeg.fif.gz or _ieeg.fif.gz\n",
      "  eeg_trial.save(output_path, overwrite=True)\n"
     ]
    },
    {
     "name": "stdout",
     "output_type": "stream",
     "text": [
      "Closing C:\\Users\\marco\\Documents\\MASTER_DATA_SCIENTIST\\TFM_MSD\\SEED_FRA_OUTPUT\\NEUTRAL\\3_3_trial_7_signals.fif\n",
      "[done]\n"
     ]
    },
    {
     "name": "stderr",
     "output_type": "stream",
     "text": [
      "\r",
      "Processing:  38%|███████████████████████████                                            | 8/21 [00:15<00:25,  1.95s/it]"
     ]
    },
    {
     "name": "stdout",
     "output_type": "stream",
     "text": [
      "1000.0\n",
      "Writing C:\\Users\\marco\\Documents\\MASTER_DATA_SCIENTIST\\TFM_MSD\\SEED_FRA_OUTPUT\\POSITIVE\\3_3_trial_8_signals.fif\n"
     ]
    },
    {
     "name": "stderr",
     "output_type": "stream",
     "text": [
      "C:\\Users\\marco\\AppData\\Local\\Temp\\ipykernel_14260\\1741641518.py:44: RuntimeWarning: This filename (C:\\Users\\marco\\Documents\\MASTER_DATA_SCIENTIST\\TFM_MSD\\SEED_FRA_OUTPUT\\POSITIVE\\3_3_trial_8_signals.fif) does not conform to MNE naming conventions. All raw files should end with raw.fif, raw_sss.fif, raw_tsss.fif, _meg.fif, _eeg.fif, _ieeg.fif, raw.fif.gz, raw_sss.fif.gz, raw_tsss.fif.gz, _meg.fif.gz, _eeg.fif.gz or _ieeg.fif.gz\n",
      "  eeg_trial.save(output_path, overwrite=True)\n"
     ]
    },
    {
     "name": "stdout",
     "output_type": "stream",
     "text": [
      "Closing C:\\Users\\marco\\Documents\\MASTER_DATA_SCIENTIST\\TFM_MSD\\SEED_FRA_OUTPUT\\POSITIVE\\3_3_trial_8_signals.fif\n",
      "[done]\n"
     ]
    },
    {
     "name": "stderr",
     "output_type": "stream",
     "text": [
      "\r",
      "Processing:  43%|██████████████████████████████▍                                        | 9/21 [00:17<00:23,  1.97s/it]"
     ]
    },
    {
     "name": "stdout",
     "output_type": "stream",
     "text": [
      "1000.0\n",
      "Writing C:\\Users\\marco\\Documents\\MASTER_DATA_SCIENTIST\\TFM_MSD\\SEED_FRA_OUTPUT\\NEGATIVE\\3_3_trial_9_signals.fif\n"
     ]
    },
    {
     "name": "stderr",
     "output_type": "stream",
     "text": [
      "C:\\Users\\marco\\AppData\\Local\\Temp\\ipykernel_14260\\1741641518.py:44: RuntimeWarning: This filename (C:\\Users\\marco\\Documents\\MASTER_DATA_SCIENTIST\\TFM_MSD\\SEED_FRA_OUTPUT\\NEGATIVE\\3_3_trial_9_signals.fif) does not conform to MNE naming conventions. All raw files should end with raw.fif, raw_sss.fif, raw_tsss.fif, _meg.fif, _eeg.fif, _ieeg.fif, raw.fif.gz, raw_sss.fif.gz, raw_tsss.fif.gz, _meg.fif.gz, _eeg.fif.gz or _ieeg.fif.gz\n",
      "  eeg_trial.save(output_path, overwrite=True)\n"
     ]
    },
    {
     "name": "stdout",
     "output_type": "stream",
     "text": [
      "Closing C:\\Users\\marco\\Documents\\MASTER_DATA_SCIENTIST\\TFM_MSD\\SEED_FRA_OUTPUT\\NEGATIVE\\3_3_trial_9_signals.fif\n",
      "[done]\n"
     ]
    },
    {
     "name": "stderr",
     "output_type": "stream",
     "text": [
      "\r",
      "Processing:  48%|█████████████████████████████████▎                                    | 10/21 [00:19<00:21,  1.96s/it]"
     ]
    },
    {
     "name": "stdout",
     "output_type": "stream",
     "text": [
      "1000.0\n",
      "Writing C:\\Users\\marco\\Documents\\MASTER_DATA_SCIENTIST\\TFM_MSD\\SEED_FRA_OUTPUT\\NEUTRAL\\3_3_trial_10_signals.fif\n"
     ]
    },
    {
     "name": "stderr",
     "output_type": "stream",
     "text": [
      "C:\\Users\\marco\\AppData\\Local\\Temp\\ipykernel_14260\\1741641518.py:44: RuntimeWarning: This filename (C:\\Users\\marco\\Documents\\MASTER_DATA_SCIENTIST\\TFM_MSD\\SEED_FRA_OUTPUT\\NEUTRAL\\3_3_trial_10_signals.fif) does not conform to MNE naming conventions. All raw files should end with raw.fif, raw_sss.fif, raw_tsss.fif, _meg.fif, _eeg.fif, _ieeg.fif, raw.fif.gz, raw_sss.fif.gz, raw_tsss.fif.gz, _meg.fif.gz, _eeg.fif.gz or _ieeg.fif.gz\n",
      "  eeg_trial.save(output_path, overwrite=True)\n"
     ]
    },
    {
     "name": "stdout",
     "output_type": "stream",
     "text": [
      "Closing C:\\Users\\marco\\Documents\\MASTER_DATA_SCIENTIST\\TFM_MSD\\SEED_FRA_OUTPUT\\NEUTRAL\\3_3_trial_10_signals.fif\n",
      "[done]\n"
     ]
    },
    {
     "name": "stderr",
     "output_type": "stream",
     "text": [
      "\r",
      "Processing:  52%|████████████████████████████████████▋                                 | 11/21 [00:21<00:20,  2.00s/it]"
     ]
    },
    {
     "name": "stdout",
     "output_type": "stream",
     "text": [
      "1000.0\n",
      "Writing C:\\Users\\marco\\Documents\\MASTER_DATA_SCIENTIST\\TFM_MSD\\SEED_FRA_OUTPUT\\POSITIVE\\3_3_trial_11_signals.fif\n"
     ]
    },
    {
     "name": "stderr",
     "output_type": "stream",
     "text": [
      "C:\\Users\\marco\\AppData\\Local\\Temp\\ipykernel_14260\\1741641518.py:44: RuntimeWarning: This filename (C:\\Users\\marco\\Documents\\MASTER_DATA_SCIENTIST\\TFM_MSD\\SEED_FRA_OUTPUT\\POSITIVE\\3_3_trial_11_signals.fif) does not conform to MNE naming conventions. All raw files should end with raw.fif, raw_sss.fif, raw_tsss.fif, _meg.fif, _eeg.fif, _ieeg.fif, raw.fif.gz, raw_sss.fif.gz, raw_tsss.fif.gz, _meg.fif.gz, _eeg.fif.gz or _ieeg.fif.gz\n",
      "  eeg_trial.save(output_path, overwrite=True)\n"
     ]
    },
    {
     "name": "stdout",
     "output_type": "stream",
     "text": [
      "Closing C:\\Users\\marco\\Documents\\MASTER_DATA_SCIENTIST\\TFM_MSD\\SEED_FRA_OUTPUT\\POSITIVE\\3_3_trial_11_signals.fif\n",
      "[done]\n"
     ]
    },
    {
     "name": "stderr",
     "output_type": "stream",
     "text": [
      "\r",
      "Processing:  57%|████████████████████████████████████████                              | 12/21 [00:23<00:18,  2.00s/it]"
     ]
    },
    {
     "name": "stdout",
     "output_type": "stream",
     "text": [
      "1000.0\n",
      "Writing C:\\Users\\marco\\Documents\\MASTER_DATA_SCIENTIST\\TFM_MSD\\SEED_FRA_OUTPUT\\POSITIVE\\3_3_trial_12_signals.fif\n"
     ]
    },
    {
     "name": "stderr",
     "output_type": "stream",
     "text": [
      "C:\\Users\\marco\\AppData\\Local\\Temp\\ipykernel_14260\\1741641518.py:44: RuntimeWarning: This filename (C:\\Users\\marco\\Documents\\MASTER_DATA_SCIENTIST\\TFM_MSD\\SEED_FRA_OUTPUT\\POSITIVE\\3_3_trial_12_signals.fif) does not conform to MNE naming conventions. All raw files should end with raw.fif, raw_sss.fif, raw_tsss.fif, _meg.fif, _eeg.fif, _ieeg.fif, raw.fif.gz, raw_sss.fif.gz, raw_tsss.fif.gz, _meg.fif.gz, _eeg.fif.gz or _ieeg.fif.gz\n",
      "  eeg_trial.save(output_path, overwrite=True)\n"
     ]
    },
    {
     "name": "stdout",
     "output_type": "stream",
     "text": [
      "Closing C:\\Users\\marco\\Documents\\MASTER_DATA_SCIENTIST\\TFM_MSD\\SEED_FRA_OUTPUT\\POSITIVE\\3_3_trial_12_signals.fif\n",
      "[done]\n"
     ]
    },
    {
     "name": "stderr",
     "output_type": "stream",
     "text": [
      "\r",
      "Processing:  62%|███████████████████████████████████████████▎                          | 13/21 [00:25<00:14,  1.85s/it]"
     ]
    },
    {
     "name": "stdout",
     "output_type": "stream",
     "text": [
      "1000.0\n",
      "Writing C:\\Users\\marco\\Documents\\MASTER_DATA_SCIENTIST\\TFM_MSD\\SEED_FRA_OUTPUT\\NEUTRAL\\3_3_trial_13_signals.fif\n"
     ]
    },
    {
     "name": "stderr",
     "output_type": "stream",
     "text": [
      "C:\\Users\\marco\\AppData\\Local\\Temp\\ipykernel_14260\\1741641518.py:44: RuntimeWarning: This filename (C:\\Users\\marco\\Documents\\MASTER_DATA_SCIENTIST\\TFM_MSD\\SEED_FRA_OUTPUT\\NEUTRAL\\3_3_trial_13_signals.fif) does not conform to MNE naming conventions. All raw files should end with raw.fif, raw_sss.fif, raw_tsss.fif, _meg.fif, _eeg.fif, _ieeg.fif, raw.fif.gz, raw_sss.fif.gz, raw_tsss.fif.gz, _meg.fif.gz, _eeg.fif.gz or _ieeg.fif.gz\n",
      "  eeg_trial.save(output_path, overwrite=True)\n"
     ]
    },
    {
     "name": "stdout",
     "output_type": "stream",
     "text": [
      "Closing C:\\Users\\marco\\Documents\\MASTER_DATA_SCIENTIST\\TFM_MSD\\SEED_FRA_OUTPUT\\NEUTRAL\\3_3_trial_13_signals.fif\n",
      "[done]\n"
     ]
    },
    {
     "name": "stderr",
     "output_type": "stream",
     "text": [
      "\r",
      "Processing:  67%|██████████████████████████████████████████████▋                       | 14/21 [00:27<00:13,  1.87s/it]"
     ]
    },
    {
     "name": "stdout",
     "output_type": "stream",
     "text": [
      "1000.0\n",
      "Writing C:\\Users\\marco\\Documents\\MASTER_DATA_SCIENTIST\\TFM_MSD\\SEED_FRA_OUTPUT\\NEGATIVE\\3_3_trial_14_signals.fif\n"
     ]
    },
    {
     "name": "stderr",
     "output_type": "stream",
     "text": [
      "C:\\Users\\marco\\AppData\\Local\\Temp\\ipykernel_14260\\1741641518.py:44: RuntimeWarning: This filename (C:\\Users\\marco\\Documents\\MASTER_DATA_SCIENTIST\\TFM_MSD\\SEED_FRA_OUTPUT\\NEGATIVE\\3_3_trial_14_signals.fif) does not conform to MNE naming conventions. All raw files should end with raw.fif, raw_sss.fif, raw_tsss.fif, _meg.fif, _eeg.fif, _ieeg.fif, raw.fif.gz, raw_sss.fif.gz, raw_tsss.fif.gz, _meg.fif.gz, _eeg.fif.gz or _ieeg.fif.gz\n",
      "  eeg_trial.save(output_path, overwrite=True)\n"
     ]
    },
    {
     "name": "stdout",
     "output_type": "stream",
     "text": [
      "Closing C:\\Users\\marco\\Documents\\MASTER_DATA_SCIENTIST\\TFM_MSD\\SEED_FRA_OUTPUT\\NEGATIVE\\3_3_trial_14_signals.fif\n",
      "[done]\n"
     ]
    },
    {
     "name": "stderr",
     "output_type": "stream",
     "text": [
      "\r",
      "Processing:  71%|██████████████████████████████████████████████████                    | 15/21 [00:29<00:11,  1.91s/it]"
     ]
    },
    {
     "name": "stdout",
     "output_type": "stream",
     "text": [
      "1000.0\n",
      "Writing C:\\Users\\marco\\Documents\\MASTER_DATA_SCIENTIST\\TFM_MSD\\SEED_FRA_OUTPUT\\NEGATIVE\\3_3_trial_15_signals.fif\n",
      "Closing C:\\Users\\marco\\Documents\\MASTER_DATA_SCIENTIST\\TFM_MSD\\SEED_FRA_OUTPUT\\NEGATIVE\\3_3_trial_15_signals.fif\n"
     ]
    },
    {
     "name": "stderr",
     "output_type": "stream",
     "text": [
      "C:\\Users\\marco\\AppData\\Local\\Temp\\ipykernel_14260\\1741641518.py:44: RuntimeWarning: This filename (C:\\Users\\marco\\Documents\\MASTER_DATA_SCIENTIST\\TFM_MSD\\SEED_FRA_OUTPUT\\NEGATIVE\\3_3_trial_15_signals.fif) does not conform to MNE naming conventions. All raw files should end with raw.fif, raw_sss.fif, raw_tsss.fif, _meg.fif, _eeg.fif, _ieeg.fif, raw.fif.gz, raw_sss.fif.gz, raw_tsss.fif.gz, _meg.fif.gz, _eeg.fif.gz or _ieeg.fif.gz\n",
      "  eeg_trial.save(output_path, overwrite=True)\n"
     ]
    },
    {
     "name": "stdout",
     "output_type": "stream",
     "text": [
      "[done]\n"
     ]
    },
    {
     "name": "stderr",
     "output_type": "stream",
     "text": [
      "\r",
      "Processing:  76%|█████████████████████████████████████████████████████▎                | 16/21 [00:30<00:09,  1.89s/it]"
     ]
    },
    {
     "name": "stdout",
     "output_type": "stream",
     "text": [
      "1000.0\n",
      "Writing C:\\Users\\marco\\Documents\\MASTER_DATA_SCIENTIST\\TFM_MSD\\SEED_FRA_OUTPUT\\NEUTRAL\\3_3_trial_16_signals.fif\n"
     ]
    },
    {
     "name": "stderr",
     "output_type": "stream",
     "text": [
      "C:\\Users\\marco\\AppData\\Local\\Temp\\ipykernel_14260\\1741641518.py:44: RuntimeWarning: This filename (C:\\Users\\marco\\Documents\\MASTER_DATA_SCIENTIST\\TFM_MSD\\SEED_FRA_OUTPUT\\NEUTRAL\\3_3_trial_16_signals.fif) does not conform to MNE naming conventions. All raw files should end with raw.fif, raw_sss.fif, raw_tsss.fif, _meg.fif, _eeg.fif, _ieeg.fif, raw.fif.gz, raw_sss.fif.gz, raw_tsss.fif.gz, _meg.fif.gz, _eeg.fif.gz or _ieeg.fif.gz\n",
      "  eeg_trial.save(output_path, overwrite=True)\n"
     ]
    },
    {
     "name": "stdout",
     "output_type": "stream",
     "text": [
      "Closing C:\\Users\\marco\\Documents\\MASTER_DATA_SCIENTIST\\TFM_MSD\\SEED_FRA_OUTPUT\\NEUTRAL\\3_3_trial_16_signals.fif\n",
      "[done]\n"
     ]
    },
    {
     "name": "stderr",
     "output_type": "stream",
     "text": [
      "\r",
      "Processing:  81%|████████████████████████████████████████████████████████▋             | 17/21 [00:33<00:07,  2.00s/it]"
     ]
    },
    {
     "name": "stdout",
     "output_type": "stream",
     "text": [
      "1000.0\n",
      "Writing C:\\Users\\marco\\Documents\\MASTER_DATA_SCIENTIST\\TFM_MSD\\SEED_FRA_OUTPUT\\POSITIVE\\3_3_trial_17_signals.fif\n"
     ]
    },
    {
     "name": "stderr",
     "output_type": "stream",
     "text": [
      "C:\\Users\\marco\\AppData\\Local\\Temp\\ipykernel_14260\\1741641518.py:44: RuntimeWarning: This filename (C:\\Users\\marco\\Documents\\MASTER_DATA_SCIENTIST\\TFM_MSD\\SEED_FRA_OUTPUT\\POSITIVE\\3_3_trial_17_signals.fif) does not conform to MNE naming conventions. All raw files should end with raw.fif, raw_sss.fif, raw_tsss.fif, _meg.fif, _eeg.fif, _ieeg.fif, raw.fif.gz, raw_sss.fif.gz, raw_tsss.fif.gz, _meg.fif.gz, _eeg.fif.gz or _ieeg.fif.gz\n",
      "  eeg_trial.save(output_path, overwrite=True)\n"
     ]
    },
    {
     "name": "stdout",
     "output_type": "stream",
     "text": [
      "Closing C:\\Users\\marco\\Documents\\MASTER_DATA_SCIENTIST\\TFM_MSD\\SEED_FRA_OUTPUT\\POSITIVE\\3_3_trial_17_signals.fif\n",
      "[done]\n"
     ]
    },
    {
     "name": "stderr",
     "output_type": "stream",
     "text": [
      "\r",
      "Processing:  86%|████████████████████████████████████████████████████████████          | 18/21 [00:35<00:06,  2.01s/it]"
     ]
    },
    {
     "name": "stdout",
     "output_type": "stream",
     "text": [
      "1000.0\n",
      "Writing C:\\Users\\marco\\Documents\\MASTER_DATA_SCIENTIST\\TFM_MSD\\SEED_FRA_OUTPUT\\NEGATIVE\\3_3_trial_18_signals.fif\n"
     ]
    },
    {
     "name": "stderr",
     "output_type": "stream",
     "text": [
      "C:\\Users\\marco\\AppData\\Local\\Temp\\ipykernel_14260\\1741641518.py:44: RuntimeWarning: This filename (C:\\Users\\marco\\Documents\\MASTER_DATA_SCIENTIST\\TFM_MSD\\SEED_FRA_OUTPUT\\NEGATIVE\\3_3_trial_18_signals.fif) does not conform to MNE naming conventions. All raw files should end with raw.fif, raw_sss.fif, raw_tsss.fif, _meg.fif, _eeg.fif, _ieeg.fif, raw.fif.gz, raw_sss.fif.gz, raw_tsss.fif.gz, _meg.fif.gz, _eeg.fif.gz or _ieeg.fif.gz\n",
      "  eeg_trial.save(output_path, overwrite=True)\n"
     ]
    },
    {
     "name": "stdout",
     "output_type": "stream",
     "text": [
      "Closing C:\\Users\\marco\\Documents\\MASTER_DATA_SCIENTIST\\TFM_MSD\\SEED_FRA_OUTPUT\\NEGATIVE\\3_3_trial_18_signals.fif\n",
      "[done]\n"
     ]
    },
    {
     "name": "stderr",
     "output_type": "stream",
     "text": [
      "\r",
      "Processing:  90%|███████████████████████████████████████████████████████████████▎      | 19/21 [00:37<00:04,  2.02s/it]"
     ]
    },
    {
     "name": "stdout",
     "output_type": "stream",
     "text": [
      "1000.0\n",
      "Writing C:\\Users\\marco\\Documents\\MASTER_DATA_SCIENTIST\\TFM_MSD\\SEED_FRA_OUTPUT\\NEUTRAL\\3_3_trial_19_signals.fif\n"
     ]
    },
    {
     "name": "stderr",
     "output_type": "stream",
     "text": [
      "C:\\Users\\marco\\AppData\\Local\\Temp\\ipykernel_14260\\1741641518.py:44: RuntimeWarning: This filename (C:\\Users\\marco\\Documents\\MASTER_DATA_SCIENTIST\\TFM_MSD\\SEED_FRA_OUTPUT\\NEUTRAL\\3_3_trial_19_signals.fif) does not conform to MNE naming conventions. All raw files should end with raw.fif, raw_sss.fif, raw_tsss.fif, _meg.fif, _eeg.fif, _ieeg.fif, raw.fif.gz, raw_sss.fif.gz, raw_tsss.fif.gz, _meg.fif.gz, _eeg.fif.gz or _ieeg.fif.gz\n",
      "  eeg_trial.save(output_path, overwrite=True)\n"
     ]
    },
    {
     "name": "stdout",
     "output_type": "stream",
     "text": [
      "Closing C:\\Users\\marco\\Documents\\MASTER_DATA_SCIENTIST\\TFM_MSD\\SEED_FRA_OUTPUT\\NEUTRAL\\3_3_trial_19_signals.fif\n",
      "[done]\n"
     ]
    },
    {
     "name": "stderr",
     "output_type": "stream",
     "text": [
      "\r",
      "Processing:  95%|██████████████████████████████████████████████████████████████████▋   | 20/21 [00:38<00:01,  1.94s/it]"
     ]
    },
    {
     "name": "stdout",
     "output_type": "stream",
     "text": [
      "1000.0\n",
      "Writing C:\\Users\\marco\\Documents\\MASTER_DATA_SCIENTIST\\TFM_MSD\\SEED_FRA_OUTPUT\\POSITIVE\\3_3_trial_20_signals.fif\n"
     ]
    },
    {
     "name": "stderr",
     "output_type": "stream",
     "text": [
      "C:\\Users\\marco\\AppData\\Local\\Temp\\ipykernel_14260\\1741641518.py:44: RuntimeWarning: This filename (C:\\Users\\marco\\Documents\\MASTER_DATA_SCIENTIST\\TFM_MSD\\SEED_FRA_OUTPUT\\POSITIVE\\3_3_trial_20_signals.fif) does not conform to MNE naming conventions. All raw files should end with raw.fif, raw_sss.fif, raw_tsss.fif, _meg.fif, _eeg.fif, _ieeg.fif, raw.fif.gz, raw_sss.fif.gz, raw_tsss.fif.gz, _meg.fif.gz, _eeg.fif.gz or _ieeg.fif.gz\n",
      "  eeg_trial.save(output_path, overwrite=True)\n"
     ]
    },
    {
     "name": "stdout",
     "output_type": "stream",
     "text": [
      "Closing C:\\Users\\marco\\Documents\\MASTER_DATA_SCIENTIST\\TFM_MSD\\SEED_FRA_OUTPUT\\POSITIVE\\3_3_trial_20_signals.fif\n",
      "[done]\n"
     ]
    },
    {
     "name": "stderr",
     "output_type": "stream",
     "text": [
      "Processing: 100%|██████████████████████████████████████████████████████████████████████| 21/21 [00:40<00:00,  1.94s/it]\n"
     ]
    },
    {
     "name": "stdout",
     "output_type": "stream",
     "text": [
      "Reading 0 ... 3820119  =      0.000 ...  3820.119 secs...\n",
      "Filtering raw data in 1 contiguous segment\n",
      "Setting up band-pass filter from 0.5 - 55 Hz\n",
      "\n",
      "FIR filter parameters\n",
      "---------------------\n",
      "Designing a one-pass, zero-phase, non-causal bandpass filter:\n",
      "- Windowed time-domain design (firwin) method\n",
      "- Hamming window with 0.0194 passband ripple and 53 dB stopband attenuation\n",
      "- Lower passband edge: 0.50\n",
      "- Lower transition bandwidth: 0.50 Hz (-6 dB cutoff frequency: 0.25 Hz)\n",
      "- Upper passband edge: 55.00 Hz\n",
      "- Upper transition bandwidth: 13.75 Hz (-6 dB cutoff frequency: 61.88 Hz)\n",
      "- Filter length: 6601 samples (6.601 sec)\n",
      "\n"
     ]
    },
    {
     "name": "stderr",
     "output_type": "stream",
     "text": [
      "\r",
      "Processing:   0%|                                                                               | 0/21 [00:00<?, ?it/s]"
     ]
    },
    {
     "name": "stdout",
     "output_type": "stream",
     "text": [
      "1000.0\n",
      "Writing C:\\Users\\marco\\Documents\\MASTER_DATA_SCIENTIST\\TFM_MSD\\SEED_FRA_OUTPUT\\POSITIVE\\4_1_trial_0_signals.fif\n"
     ]
    },
    {
     "name": "stderr",
     "output_type": "stream",
     "text": [
      "C:\\Users\\marco\\AppData\\Local\\Temp\\ipykernel_14260\\1741641518.py:44: RuntimeWarning: This filename (C:\\Users\\marco\\Documents\\MASTER_DATA_SCIENTIST\\TFM_MSD\\SEED_FRA_OUTPUT\\POSITIVE\\4_1_trial_0_signals.fif) does not conform to MNE naming conventions. All raw files should end with raw.fif, raw_sss.fif, raw_tsss.fif, _meg.fif, _eeg.fif, _ieeg.fif, raw.fif.gz, raw_sss.fif.gz, raw_tsss.fif.gz, _meg.fif.gz, _eeg.fif.gz or _ieeg.fif.gz\n",
      "  eeg_trial.save(output_path, overwrite=True)\n"
     ]
    },
    {
     "name": "stdout",
     "output_type": "stream",
     "text": [
      "Closing C:\\Users\\marco\\Documents\\MASTER_DATA_SCIENTIST\\TFM_MSD\\SEED_FRA_OUTPUT\\POSITIVE\\4_1_trial_0_signals.fif\n",
      "[done]\n"
     ]
    },
    {
     "name": "stderr",
     "output_type": "stream",
     "text": [
      "\r",
      "Processing:   5%|███▍                                                                   | 1/21 [00:01<00:35,  1.75s/it]"
     ]
    },
    {
     "name": "stdout",
     "output_type": "stream",
     "text": [
      "1000.0\n",
      "Writing C:\\Users\\marco\\Documents\\MASTER_DATA_SCIENTIST\\TFM_MSD\\SEED_FRA_OUTPUT\\NEGATIVE\\4_1_trial_1_signals.fif\n"
     ]
    },
    {
     "name": "stderr",
     "output_type": "stream",
     "text": [
      "C:\\Users\\marco\\AppData\\Local\\Temp\\ipykernel_14260\\1741641518.py:44: RuntimeWarning: This filename (C:\\Users\\marco\\Documents\\MASTER_DATA_SCIENTIST\\TFM_MSD\\SEED_FRA_OUTPUT\\NEGATIVE\\4_1_trial_1_signals.fif) does not conform to MNE naming conventions. All raw files should end with raw.fif, raw_sss.fif, raw_tsss.fif, _meg.fif, _eeg.fif, _ieeg.fif, raw.fif.gz, raw_sss.fif.gz, raw_tsss.fif.gz, _meg.fif.gz, _eeg.fif.gz or _ieeg.fif.gz\n",
      "  eeg_trial.save(output_path, overwrite=True)\n"
     ]
    },
    {
     "name": "stdout",
     "output_type": "stream",
     "text": [
      "Closing C:\\Users\\marco\\Documents\\MASTER_DATA_SCIENTIST\\TFM_MSD\\SEED_FRA_OUTPUT\\NEGATIVE\\4_1_trial_1_signals.fif\n",
      "[done]\n"
     ]
    },
    {
     "name": "stderr",
     "output_type": "stream",
     "text": [
      "\r",
      "Processing:  10%|██████▊                                                                | 2/21 [00:03<00:35,  1.88s/it]"
     ]
    },
    {
     "name": "stdout",
     "output_type": "stream",
     "text": [
      "1000.0\n",
      "Writing C:\\Users\\marco\\Documents\\MASTER_DATA_SCIENTIST\\TFM_MSD\\SEED_FRA_OUTPUT\\NEUTRAL\\4_1_trial_2_signals.fif\n"
     ]
    },
    {
     "name": "stderr",
     "output_type": "stream",
     "text": [
      "C:\\Users\\marco\\AppData\\Local\\Temp\\ipykernel_14260\\1741641518.py:44: RuntimeWarning: This filename (C:\\Users\\marco\\Documents\\MASTER_DATA_SCIENTIST\\TFM_MSD\\SEED_FRA_OUTPUT\\NEUTRAL\\4_1_trial_2_signals.fif) does not conform to MNE naming conventions. All raw files should end with raw.fif, raw_sss.fif, raw_tsss.fif, _meg.fif, _eeg.fif, _ieeg.fif, raw.fif.gz, raw_sss.fif.gz, raw_tsss.fif.gz, _meg.fif.gz, _eeg.fif.gz or _ieeg.fif.gz\n",
      "  eeg_trial.save(output_path, overwrite=True)\n"
     ]
    },
    {
     "name": "stdout",
     "output_type": "stream",
     "text": [
      "Closing C:\\Users\\marco\\Documents\\MASTER_DATA_SCIENTIST\\TFM_MSD\\SEED_FRA_OUTPUT\\NEUTRAL\\4_1_trial_2_signals.fif\n",
      "[done]\n"
     ]
    },
    {
     "name": "stderr",
     "output_type": "stream",
     "text": [
      "\r",
      "Processing:  14%|██████████▏                                                            | 3/21 [00:05<00:34,  1.90s/it]"
     ]
    },
    {
     "name": "stdout",
     "output_type": "stream",
     "text": [
      "1000.0\n",
      "Writing C:\\Users\\marco\\Documents\\MASTER_DATA_SCIENTIST\\TFM_MSD\\SEED_FRA_OUTPUT\\NEGATIVE\\4_1_trial_3_signals.fif\n"
     ]
    },
    {
     "name": "stderr",
     "output_type": "stream",
     "text": [
      "C:\\Users\\marco\\AppData\\Local\\Temp\\ipykernel_14260\\1741641518.py:44: RuntimeWarning: This filename (C:\\Users\\marco\\Documents\\MASTER_DATA_SCIENTIST\\TFM_MSD\\SEED_FRA_OUTPUT\\NEGATIVE\\4_1_trial_3_signals.fif) does not conform to MNE naming conventions. All raw files should end with raw.fif, raw_sss.fif, raw_tsss.fif, _meg.fif, _eeg.fif, _ieeg.fif, raw.fif.gz, raw_sss.fif.gz, raw_tsss.fif.gz, _meg.fif.gz, _eeg.fif.gz or _ieeg.fif.gz\n",
      "  eeg_trial.save(output_path, overwrite=True)\n"
     ]
    },
    {
     "name": "stdout",
     "output_type": "stream",
     "text": [
      "Closing C:\\Users\\marco\\Documents\\MASTER_DATA_SCIENTIST\\TFM_MSD\\SEED_FRA_OUTPUT\\NEGATIVE\\4_1_trial_3_signals.fif\n",
      "[done]\n"
     ]
    },
    {
     "name": "stderr",
     "output_type": "stream",
     "text": [
      "\r",
      "Processing:  19%|█████████████▌                                                         | 4/21 [00:07<00:35,  2.06s/it]"
     ]
    },
    {
     "name": "stdout",
     "output_type": "stream",
     "text": [
      "1000.0\n",
      "Writing C:\\Users\\marco\\Documents\\MASTER_DATA_SCIENTIST\\TFM_MSD\\SEED_FRA_OUTPUT\\POSITIVE\\4_1_trial_4_signals.fif\n"
     ]
    },
    {
     "name": "stderr",
     "output_type": "stream",
     "text": [
      "C:\\Users\\marco\\AppData\\Local\\Temp\\ipykernel_14260\\1741641518.py:44: RuntimeWarning: This filename (C:\\Users\\marco\\Documents\\MASTER_DATA_SCIENTIST\\TFM_MSD\\SEED_FRA_OUTPUT\\POSITIVE\\4_1_trial_4_signals.fif) does not conform to MNE naming conventions. All raw files should end with raw.fif, raw_sss.fif, raw_tsss.fif, _meg.fif, _eeg.fif, _ieeg.fif, raw.fif.gz, raw_sss.fif.gz, raw_tsss.fif.gz, _meg.fif.gz, _eeg.fif.gz or _ieeg.fif.gz\n",
      "  eeg_trial.save(output_path, overwrite=True)\n"
     ]
    },
    {
     "name": "stdout",
     "output_type": "stream",
     "text": [
      "Closing C:\\Users\\marco\\Documents\\MASTER_DATA_SCIENTIST\\TFM_MSD\\SEED_FRA_OUTPUT\\POSITIVE\\4_1_trial_4_signals.fif\n",
      "[done]\n"
     ]
    },
    {
     "name": "stderr",
     "output_type": "stream",
     "text": [
      "\r",
      "Processing:  24%|████████████████▉                                                      | 5/21 [00:09<00:32,  2.04s/it]"
     ]
    },
    {
     "name": "stdout",
     "output_type": "stream",
     "text": [
      "1000.0\n",
      "Writing C:\\Users\\marco\\Documents\\MASTER_DATA_SCIENTIST\\TFM_MSD\\SEED_FRA_OUTPUT\\NEUTRAL\\4_1_trial_5_signals.fif\n"
     ]
    },
    {
     "name": "stderr",
     "output_type": "stream",
     "text": [
      "C:\\Users\\marco\\AppData\\Local\\Temp\\ipykernel_14260\\1741641518.py:44: RuntimeWarning: This filename (C:\\Users\\marco\\Documents\\MASTER_DATA_SCIENTIST\\TFM_MSD\\SEED_FRA_OUTPUT\\NEUTRAL\\4_1_trial_5_signals.fif) does not conform to MNE naming conventions. All raw files should end with raw.fif, raw_sss.fif, raw_tsss.fif, _meg.fif, _eeg.fif, _ieeg.fif, raw.fif.gz, raw_sss.fif.gz, raw_tsss.fif.gz, _meg.fif.gz, _eeg.fif.gz or _ieeg.fif.gz\n",
      "  eeg_trial.save(output_path, overwrite=True)\n"
     ]
    },
    {
     "name": "stdout",
     "output_type": "stream",
     "text": [
      "Closing C:\\Users\\marco\\Documents\\MASTER_DATA_SCIENTIST\\TFM_MSD\\SEED_FRA_OUTPUT\\NEUTRAL\\4_1_trial_5_signals.fif\n",
      "[done]\n"
     ]
    },
    {
     "name": "stderr",
     "output_type": "stream",
     "text": [
      "\r",
      "Processing:  29%|████████████████████▎                                                  | 6/21 [00:11<00:29,  1.97s/it]"
     ]
    },
    {
     "name": "stdout",
     "output_type": "stream",
     "text": [
      "1000.0\n",
      "Writing C:\\Users\\marco\\Documents\\MASTER_DATA_SCIENTIST\\TFM_MSD\\SEED_FRA_OUTPUT\\NEGATIVE\\4_1_trial_6_signals.fif\n"
     ]
    },
    {
     "name": "stderr",
     "output_type": "stream",
     "text": [
      "C:\\Users\\marco\\AppData\\Local\\Temp\\ipykernel_14260\\1741641518.py:44: RuntimeWarning: This filename (C:\\Users\\marco\\Documents\\MASTER_DATA_SCIENTIST\\TFM_MSD\\SEED_FRA_OUTPUT\\NEGATIVE\\4_1_trial_6_signals.fif) does not conform to MNE naming conventions. All raw files should end with raw.fif, raw_sss.fif, raw_tsss.fif, _meg.fif, _eeg.fif, _ieeg.fif, raw.fif.gz, raw_sss.fif.gz, raw_tsss.fif.gz, _meg.fif.gz, _eeg.fif.gz or _ieeg.fif.gz\n",
      "  eeg_trial.save(output_path, overwrite=True)\n"
     ]
    },
    {
     "name": "stdout",
     "output_type": "stream",
     "text": [
      "Closing C:\\Users\\marco\\Documents\\MASTER_DATA_SCIENTIST\\TFM_MSD\\SEED_FRA_OUTPUT\\NEGATIVE\\4_1_trial_6_signals.fif\n",
      "[done]\n"
     ]
    },
    {
     "name": "stderr",
     "output_type": "stream",
     "text": [
      "\r",
      "Processing:  33%|███████████████████████▋                                               | 7/21 [00:13<00:27,  1.99s/it]"
     ]
    },
    {
     "name": "stdout",
     "output_type": "stream",
     "text": [
      "1000.0\n",
      "Writing C:\\Users\\marco\\Documents\\MASTER_DATA_SCIENTIST\\TFM_MSD\\SEED_FRA_OUTPUT\\NEUTRAL\\4_1_trial_7_signals.fif\n"
     ]
    },
    {
     "name": "stderr",
     "output_type": "stream",
     "text": [
      "C:\\Users\\marco\\AppData\\Local\\Temp\\ipykernel_14260\\1741641518.py:44: RuntimeWarning: This filename (C:\\Users\\marco\\Documents\\MASTER_DATA_SCIENTIST\\TFM_MSD\\SEED_FRA_OUTPUT\\NEUTRAL\\4_1_trial_7_signals.fif) does not conform to MNE naming conventions. All raw files should end with raw.fif, raw_sss.fif, raw_tsss.fif, _meg.fif, _eeg.fif, _ieeg.fif, raw.fif.gz, raw_sss.fif.gz, raw_tsss.fif.gz, _meg.fif.gz, _eeg.fif.gz or _ieeg.fif.gz\n",
      "  eeg_trial.save(output_path, overwrite=True)\n"
     ]
    },
    {
     "name": "stdout",
     "output_type": "stream",
     "text": [
      "Closing C:\\Users\\marco\\Documents\\MASTER_DATA_SCIENTIST\\TFM_MSD\\SEED_FRA_OUTPUT\\NEUTRAL\\4_1_trial_7_signals.fif\n",
      "[done]\n"
     ]
    },
    {
     "name": "stderr",
     "output_type": "stream",
     "text": [
      "\r",
      "Processing:  38%|███████████████████████████                                            | 8/21 [00:15<00:26,  2.00s/it]"
     ]
    },
    {
     "name": "stdout",
     "output_type": "stream",
     "text": [
      "1000.0\n",
      "Writing C:\\Users\\marco\\Documents\\MASTER_DATA_SCIENTIST\\TFM_MSD\\SEED_FRA_OUTPUT\\POSITIVE\\4_1_trial_8_signals.fif\n"
     ]
    },
    {
     "name": "stderr",
     "output_type": "stream",
     "text": [
      "C:\\Users\\marco\\AppData\\Local\\Temp\\ipykernel_14260\\1741641518.py:44: RuntimeWarning: This filename (C:\\Users\\marco\\Documents\\MASTER_DATA_SCIENTIST\\TFM_MSD\\SEED_FRA_OUTPUT\\POSITIVE\\4_1_trial_8_signals.fif) does not conform to MNE naming conventions. All raw files should end with raw.fif, raw_sss.fif, raw_tsss.fif, _meg.fif, _eeg.fif, _ieeg.fif, raw.fif.gz, raw_sss.fif.gz, raw_tsss.fif.gz, _meg.fif.gz, _eeg.fif.gz or _ieeg.fif.gz\n",
      "  eeg_trial.save(output_path, overwrite=True)\n"
     ]
    },
    {
     "name": "stdout",
     "output_type": "stream",
     "text": [
      "Closing C:\\Users\\marco\\Documents\\MASTER_DATA_SCIENTIST\\TFM_MSD\\SEED_FRA_OUTPUT\\POSITIVE\\4_1_trial_8_signals.fif\n",
      "[done]\n"
     ]
    },
    {
     "name": "stderr",
     "output_type": "stream",
     "text": [
      "\r",
      "Processing:  43%|██████████████████████████████▍                                        | 9/21 [00:17<00:23,  1.98s/it]"
     ]
    },
    {
     "name": "stdout",
     "output_type": "stream",
     "text": [
      "1000.0\n",
      "Writing C:\\Users\\marco\\Documents\\MASTER_DATA_SCIENTIST\\TFM_MSD\\SEED_FRA_OUTPUT\\NEGATIVE\\4_1_trial_9_signals.fif\n"
     ]
    },
    {
     "name": "stderr",
     "output_type": "stream",
     "text": [
      "C:\\Users\\marco\\AppData\\Local\\Temp\\ipykernel_14260\\1741641518.py:44: RuntimeWarning: This filename (C:\\Users\\marco\\Documents\\MASTER_DATA_SCIENTIST\\TFM_MSD\\SEED_FRA_OUTPUT\\NEGATIVE\\4_1_trial_9_signals.fif) does not conform to MNE naming conventions. All raw files should end with raw.fif, raw_sss.fif, raw_tsss.fif, _meg.fif, _eeg.fif, _ieeg.fif, raw.fif.gz, raw_sss.fif.gz, raw_tsss.fif.gz, _meg.fif.gz, _eeg.fif.gz or _ieeg.fif.gz\n",
      "  eeg_trial.save(output_path, overwrite=True)\n"
     ]
    },
    {
     "name": "stdout",
     "output_type": "stream",
     "text": [
      "Closing C:\\Users\\marco\\Documents\\MASTER_DATA_SCIENTIST\\TFM_MSD\\SEED_FRA_OUTPUT\\NEGATIVE\\4_1_trial_9_signals.fif\n",
      "[done]\n"
     ]
    },
    {
     "name": "stderr",
     "output_type": "stream",
     "text": [
      "\r",
      "Processing:  48%|█████████████████████████████████▎                                    | 10/21 [00:20<00:23,  2.09s/it]"
     ]
    },
    {
     "name": "stdout",
     "output_type": "stream",
     "text": [
      "1000.0\n",
      "Writing C:\\Users\\marco\\Documents\\MASTER_DATA_SCIENTIST\\TFM_MSD\\SEED_FRA_OUTPUT\\NEUTRAL\\4_1_trial_10_signals.fif\n"
     ]
    },
    {
     "name": "stderr",
     "output_type": "stream",
     "text": [
      "C:\\Users\\marco\\AppData\\Local\\Temp\\ipykernel_14260\\1741641518.py:44: RuntimeWarning: This filename (C:\\Users\\marco\\Documents\\MASTER_DATA_SCIENTIST\\TFM_MSD\\SEED_FRA_OUTPUT\\NEUTRAL\\4_1_trial_10_signals.fif) does not conform to MNE naming conventions. All raw files should end with raw.fif, raw_sss.fif, raw_tsss.fif, _meg.fif, _eeg.fif, _ieeg.fif, raw.fif.gz, raw_sss.fif.gz, raw_tsss.fif.gz, _meg.fif.gz, _eeg.fif.gz or _ieeg.fif.gz\n",
      "  eeg_trial.save(output_path, overwrite=True)\n"
     ]
    },
    {
     "name": "stdout",
     "output_type": "stream",
     "text": [
      "Closing C:\\Users\\marco\\Documents\\MASTER_DATA_SCIENTIST\\TFM_MSD\\SEED_FRA_OUTPUT\\NEUTRAL\\4_1_trial_10_signals.fif\n",
      "[done]\n"
     ]
    },
    {
     "name": "stderr",
     "output_type": "stream",
     "text": [
      "\r",
      "Processing:  52%|████████████████████████████████████▋                                 | 11/21 [00:22<00:20,  2.08s/it]"
     ]
    },
    {
     "name": "stdout",
     "output_type": "stream",
     "text": [
      "1000.0\n",
      "Writing C:\\Users\\marco\\Documents\\MASTER_DATA_SCIENTIST\\TFM_MSD\\SEED_FRA_OUTPUT\\POSITIVE\\4_1_trial_11_signals.fif\n"
     ]
    },
    {
     "name": "stderr",
     "output_type": "stream",
     "text": [
      "C:\\Users\\marco\\AppData\\Local\\Temp\\ipykernel_14260\\1741641518.py:44: RuntimeWarning: This filename (C:\\Users\\marco\\Documents\\MASTER_DATA_SCIENTIST\\TFM_MSD\\SEED_FRA_OUTPUT\\POSITIVE\\4_1_trial_11_signals.fif) does not conform to MNE naming conventions. All raw files should end with raw.fif, raw_sss.fif, raw_tsss.fif, _meg.fif, _eeg.fif, _ieeg.fif, raw.fif.gz, raw_sss.fif.gz, raw_tsss.fif.gz, _meg.fif.gz, _eeg.fif.gz or _ieeg.fif.gz\n",
      "  eeg_trial.save(output_path, overwrite=True)\n"
     ]
    },
    {
     "name": "stdout",
     "output_type": "stream",
     "text": [
      "Closing C:\\Users\\marco\\Documents\\MASTER_DATA_SCIENTIST\\TFM_MSD\\SEED_FRA_OUTPUT\\POSITIVE\\4_1_trial_11_signals.fif\n",
      "[done]\n"
     ]
    },
    {
     "name": "stderr",
     "output_type": "stream",
     "text": [
      "\r",
      "Processing:  57%|████████████████████████████████████████                              | 12/21 [00:24<00:18,  2.06s/it]"
     ]
    },
    {
     "name": "stdout",
     "output_type": "stream",
     "text": [
      "1000.0\n",
      "Writing C:\\Users\\marco\\Documents\\MASTER_DATA_SCIENTIST\\TFM_MSD\\SEED_FRA_OUTPUT\\POSITIVE\\4_1_trial_12_signals.fif\n"
     ]
    },
    {
     "name": "stderr",
     "output_type": "stream",
     "text": [
      "C:\\Users\\marco\\AppData\\Local\\Temp\\ipykernel_14260\\1741641518.py:44: RuntimeWarning: This filename (C:\\Users\\marco\\Documents\\MASTER_DATA_SCIENTIST\\TFM_MSD\\SEED_FRA_OUTPUT\\POSITIVE\\4_1_trial_12_signals.fif) does not conform to MNE naming conventions. All raw files should end with raw.fif, raw_sss.fif, raw_tsss.fif, _meg.fif, _eeg.fif, _ieeg.fif, raw.fif.gz, raw_sss.fif.gz, raw_tsss.fif.gz, _meg.fif.gz, _eeg.fif.gz or _ieeg.fif.gz\n",
      "  eeg_trial.save(output_path, overwrite=True)\n"
     ]
    },
    {
     "name": "stdout",
     "output_type": "stream",
     "text": [
      "Closing C:\\Users\\marco\\Documents\\MASTER_DATA_SCIENTIST\\TFM_MSD\\SEED_FRA_OUTPUT\\POSITIVE\\4_1_trial_12_signals.fif\n",
      "[done]\n"
     ]
    },
    {
     "name": "stderr",
     "output_type": "stream",
     "text": [
      "\r",
      "Processing:  62%|███████████████████████████████████████████▎                          | 13/21 [00:25<00:15,  1.91s/it]"
     ]
    },
    {
     "name": "stdout",
     "output_type": "stream",
     "text": [
      "1000.0\n",
      "Writing C:\\Users\\marco\\Documents\\MASTER_DATA_SCIENTIST\\TFM_MSD\\SEED_FRA_OUTPUT\\NEUTRAL\\4_1_trial_13_signals.fif\n"
     ]
    },
    {
     "name": "stderr",
     "output_type": "stream",
     "text": [
      "C:\\Users\\marco\\AppData\\Local\\Temp\\ipykernel_14260\\1741641518.py:44: RuntimeWarning: This filename (C:\\Users\\marco\\Documents\\MASTER_DATA_SCIENTIST\\TFM_MSD\\SEED_FRA_OUTPUT\\NEUTRAL\\4_1_trial_13_signals.fif) does not conform to MNE naming conventions. All raw files should end with raw.fif, raw_sss.fif, raw_tsss.fif, _meg.fif, _eeg.fif, _ieeg.fif, raw.fif.gz, raw_sss.fif.gz, raw_tsss.fif.gz, _meg.fif.gz, _eeg.fif.gz or _ieeg.fif.gz\n",
      "  eeg_trial.save(output_path, overwrite=True)\n"
     ]
    },
    {
     "name": "stdout",
     "output_type": "stream",
     "text": [
      "Closing C:\\Users\\marco\\Documents\\MASTER_DATA_SCIENTIST\\TFM_MSD\\SEED_FRA_OUTPUT\\NEUTRAL\\4_1_trial_13_signals.fif\n",
      "[done]\n"
     ]
    },
    {
     "name": "stderr",
     "output_type": "stream",
     "text": [
      "\r",
      "Processing:  67%|██████████████████████████████████████████████▋                       | 14/21 [00:27<00:13,  1.92s/it]"
     ]
    },
    {
     "name": "stdout",
     "output_type": "stream",
     "text": [
      "1000.0\n",
      "Writing C:\\Users\\marco\\Documents\\MASTER_DATA_SCIENTIST\\TFM_MSD\\SEED_FRA_OUTPUT\\NEGATIVE\\4_1_trial_14_signals.fif\n"
     ]
    },
    {
     "name": "stderr",
     "output_type": "stream",
     "text": [
      "C:\\Users\\marco\\AppData\\Local\\Temp\\ipykernel_14260\\1741641518.py:44: RuntimeWarning: This filename (C:\\Users\\marco\\Documents\\MASTER_DATA_SCIENTIST\\TFM_MSD\\SEED_FRA_OUTPUT\\NEGATIVE\\4_1_trial_14_signals.fif) does not conform to MNE naming conventions. All raw files should end with raw.fif, raw_sss.fif, raw_tsss.fif, _meg.fif, _eeg.fif, _ieeg.fif, raw.fif.gz, raw_sss.fif.gz, raw_tsss.fif.gz, _meg.fif.gz, _eeg.fif.gz or _ieeg.fif.gz\n",
      "  eeg_trial.save(output_path, overwrite=True)\n"
     ]
    },
    {
     "name": "stdout",
     "output_type": "stream",
     "text": [
      "Closing C:\\Users\\marco\\Documents\\MASTER_DATA_SCIENTIST\\TFM_MSD\\SEED_FRA_OUTPUT\\NEGATIVE\\4_1_trial_14_signals.fif\n",
      "[done]\n"
     ]
    },
    {
     "name": "stderr",
     "output_type": "stream",
     "text": [
      "\r",
      "Processing:  71%|██████████████████████████████████████████████████                    | 15/21 [00:29<00:11,  1.94s/it]"
     ]
    },
    {
     "name": "stdout",
     "output_type": "stream",
     "text": [
      "1000.0\n",
      "Writing C:\\Users\\marco\\Documents\\MASTER_DATA_SCIENTIST\\TFM_MSD\\SEED_FRA_OUTPUT\\NEGATIVE\\4_1_trial_15_signals.fif\n",
      "Closing C:\\Users\\marco\\Documents\\MASTER_DATA_SCIENTIST\\TFM_MSD\\SEED_FRA_OUTPUT\\NEGATIVE\\4_1_trial_15_signals.fif\n"
     ]
    },
    {
     "name": "stderr",
     "output_type": "stream",
     "text": [
      "C:\\Users\\marco\\AppData\\Local\\Temp\\ipykernel_14260\\1741641518.py:44: RuntimeWarning: This filename (C:\\Users\\marco\\Documents\\MASTER_DATA_SCIENTIST\\TFM_MSD\\SEED_FRA_OUTPUT\\NEGATIVE\\4_1_trial_15_signals.fif) does not conform to MNE naming conventions. All raw files should end with raw.fif, raw_sss.fif, raw_tsss.fif, _meg.fif, _eeg.fif, _ieeg.fif, raw.fif.gz, raw_sss.fif.gz, raw_tsss.fif.gz, _meg.fif.gz, _eeg.fif.gz or _ieeg.fif.gz\n",
      "  eeg_trial.save(output_path, overwrite=True)\n"
     ]
    },
    {
     "name": "stdout",
     "output_type": "stream",
     "text": [
      "[done]\n"
     ]
    },
    {
     "name": "stderr",
     "output_type": "stream",
     "text": [
      "\r",
      "Processing:  76%|█████████████████████████████████████████████████████▎                | 16/21 [00:31<00:09,  1.88s/it]"
     ]
    },
    {
     "name": "stdout",
     "output_type": "stream",
     "text": [
      "1000.0\n",
      "Writing C:\\Users\\marco\\Documents\\MASTER_DATA_SCIENTIST\\TFM_MSD\\SEED_FRA_OUTPUT\\NEUTRAL\\4_1_trial_16_signals.fif\n"
     ]
    },
    {
     "name": "stderr",
     "output_type": "stream",
     "text": [
      "C:\\Users\\marco\\AppData\\Local\\Temp\\ipykernel_14260\\1741641518.py:44: RuntimeWarning: This filename (C:\\Users\\marco\\Documents\\MASTER_DATA_SCIENTIST\\TFM_MSD\\SEED_FRA_OUTPUT\\NEUTRAL\\4_1_trial_16_signals.fif) does not conform to MNE naming conventions. All raw files should end with raw.fif, raw_sss.fif, raw_tsss.fif, _meg.fif, _eeg.fif, _ieeg.fif, raw.fif.gz, raw_sss.fif.gz, raw_tsss.fif.gz, _meg.fif.gz, _eeg.fif.gz or _ieeg.fif.gz\n",
      "  eeg_trial.save(output_path, overwrite=True)\n"
     ]
    },
    {
     "name": "stdout",
     "output_type": "stream",
     "text": [
      "Closing C:\\Users\\marco\\Documents\\MASTER_DATA_SCIENTIST\\TFM_MSD\\SEED_FRA_OUTPUT\\NEUTRAL\\4_1_trial_16_signals.fif\n",
      "[done]\n"
     ]
    },
    {
     "name": "stderr",
     "output_type": "stream",
     "text": [
      "\r",
      "Processing:  81%|████████████████████████████████████████████████████████▋             | 17/21 [00:33<00:07,  1.94s/it]"
     ]
    },
    {
     "name": "stdout",
     "output_type": "stream",
     "text": [
      "1000.0\n",
      "Writing C:\\Users\\marco\\Documents\\MASTER_DATA_SCIENTIST\\TFM_MSD\\SEED_FRA_OUTPUT\\POSITIVE\\4_1_trial_17_signals.fif\n"
     ]
    },
    {
     "name": "stderr",
     "output_type": "stream",
     "text": [
      "C:\\Users\\marco\\AppData\\Local\\Temp\\ipykernel_14260\\1741641518.py:44: RuntimeWarning: This filename (C:\\Users\\marco\\Documents\\MASTER_DATA_SCIENTIST\\TFM_MSD\\SEED_FRA_OUTPUT\\POSITIVE\\4_1_trial_17_signals.fif) does not conform to MNE naming conventions. All raw files should end with raw.fif, raw_sss.fif, raw_tsss.fif, _meg.fif, _eeg.fif, _ieeg.fif, raw.fif.gz, raw_sss.fif.gz, raw_tsss.fif.gz, _meg.fif.gz, _eeg.fif.gz or _ieeg.fif.gz\n",
      "  eeg_trial.save(output_path, overwrite=True)\n"
     ]
    },
    {
     "name": "stdout",
     "output_type": "stream",
     "text": [
      "Closing C:\\Users\\marco\\Documents\\MASTER_DATA_SCIENTIST\\TFM_MSD\\SEED_FRA_OUTPUT\\POSITIVE\\4_1_trial_17_signals.fif\n",
      "[done]\n"
     ]
    },
    {
     "name": "stderr",
     "output_type": "stream",
     "text": [
      "\r",
      "Processing:  86%|████████████████████████████████████████████████████████████          | 18/21 [00:35<00:05,  1.97s/it]"
     ]
    },
    {
     "name": "stdout",
     "output_type": "stream",
     "text": [
      "1000.0\n",
      "Writing C:\\Users\\marco\\Documents\\MASTER_DATA_SCIENTIST\\TFM_MSD\\SEED_FRA_OUTPUT\\NEGATIVE\\4_1_trial_18_signals.fif\n"
     ]
    },
    {
     "name": "stderr",
     "output_type": "stream",
     "text": [
      "C:\\Users\\marco\\AppData\\Local\\Temp\\ipykernel_14260\\1741641518.py:44: RuntimeWarning: This filename (C:\\Users\\marco\\Documents\\MASTER_DATA_SCIENTIST\\TFM_MSD\\SEED_FRA_OUTPUT\\NEGATIVE\\4_1_trial_18_signals.fif) does not conform to MNE naming conventions. All raw files should end with raw.fif, raw_sss.fif, raw_tsss.fif, _meg.fif, _eeg.fif, _ieeg.fif, raw.fif.gz, raw_sss.fif.gz, raw_tsss.fif.gz, _meg.fif.gz, _eeg.fif.gz or _ieeg.fif.gz\n",
      "  eeg_trial.save(output_path, overwrite=True)\n"
     ]
    },
    {
     "name": "stdout",
     "output_type": "stream",
     "text": [
      "Closing C:\\Users\\marco\\Documents\\MASTER_DATA_SCIENTIST\\TFM_MSD\\SEED_FRA_OUTPUT\\NEGATIVE\\4_1_trial_18_signals.fif\n",
      "[done]\n"
     ]
    },
    {
     "name": "stderr",
     "output_type": "stream",
     "text": [
      "\r",
      "Processing:  90%|███████████████████████████████████████████████████████████████▎      | 19/21 [00:37<00:03,  1.98s/it]"
     ]
    },
    {
     "name": "stdout",
     "output_type": "stream",
     "text": [
      "1000.0\n",
      "Writing C:\\Users\\marco\\Documents\\MASTER_DATA_SCIENTIST\\TFM_MSD\\SEED_FRA_OUTPUT\\NEUTRAL\\4_1_trial_19_signals.fif\n",
      "Closing C:\\Users\\marco\\Documents\\MASTER_DATA_SCIENTIST\\TFM_MSD\\SEED_FRA_OUTPUT\\NEUTRAL\\4_1_trial_19_signals.fif\n"
     ]
    },
    {
     "name": "stderr",
     "output_type": "stream",
     "text": [
      "C:\\Users\\marco\\AppData\\Local\\Temp\\ipykernel_14260\\1741641518.py:44: RuntimeWarning: This filename (C:\\Users\\marco\\Documents\\MASTER_DATA_SCIENTIST\\TFM_MSD\\SEED_FRA_OUTPUT\\NEUTRAL\\4_1_trial_19_signals.fif) does not conform to MNE naming conventions. All raw files should end with raw.fif, raw_sss.fif, raw_tsss.fif, _meg.fif, _eeg.fif, _ieeg.fif, raw.fif.gz, raw_sss.fif.gz, raw_tsss.fif.gz, _meg.fif.gz, _eeg.fif.gz or _ieeg.fif.gz\n",
      "  eeg_trial.save(output_path, overwrite=True)\n"
     ]
    },
    {
     "name": "stdout",
     "output_type": "stream",
     "text": [
      "[done]\n"
     ]
    },
    {
     "name": "stderr",
     "output_type": "stream",
     "text": [
      "\r",
      "Processing:  95%|██████████████████████████████████████████████████████████████████▋   | 20/21 [00:39<00:01,  1.95s/it]"
     ]
    },
    {
     "name": "stdout",
     "output_type": "stream",
     "text": [
      "1000.0\n",
      "Writing C:\\Users\\marco\\Documents\\MASTER_DATA_SCIENTIST\\TFM_MSD\\SEED_FRA_OUTPUT\\POSITIVE\\4_1_trial_20_signals.fif\n"
     ]
    },
    {
     "name": "stderr",
     "output_type": "stream",
     "text": [
      "C:\\Users\\marco\\AppData\\Local\\Temp\\ipykernel_14260\\1741641518.py:44: RuntimeWarning: This filename (C:\\Users\\marco\\Documents\\MASTER_DATA_SCIENTIST\\TFM_MSD\\SEED_FRA_OUTPUT\\POSITIVE\\4_1_trial_20_signals.fif) does not conform to MNE naming conventions. All raw files should end with raw.fif, raw_sss.fif, raw_tsss.fif, _meg.fif, _eeg.fif, _ieeg.fif, raw.fif.gz, raw_sss.fif.gz, raw_tsss.fif.gz, _meg.fif.gz, _eeg.fif.gz or _ieeg.fif.gz\n",
      "  eeg_trial.save(output_path, overwrite=True)\n"
     ]
    },
    {
     "name": "stdout",
     "output_type": "stream",
     "text": [
      "Closing C:\\Users\\marco\\Documents\\MASTER_DATA_SCIENTIST\\TFM_MSD\\SEED_FRA_OUTPUT\\POSITIVE\\4_1_trial_20_signals.fif\n",
      "[done]\n"
     ]
    },
    {
     "name": "stderr",
     "output_type": "stream",
     "text": [
      "Processing: 100%|██████████████████████████████████████████████████████████████████████| 21/21 [00:41<00:00,  1.98s/it]\n"
     ]
    },
    {
     "name": "stdout",
     "output_type": "stream",
     "text": [
      "Reading 0 ... 3821519  =      0.000 ...  3821.519 secs...\n",
      "Filtering raw data in 1 contiguous segment\n",
      "Setting up band-pass filter from 0.5 - 55 Hz\n",
      "\n",
      "FIR filter parameters\n",
      "---------------------\n",
      "Designing a one-pass, zero-phase, non-causal bandpass filter:\n",
      "- Windowed time-domain design (firwin) method\n",
      "- Hamming window with 0.0194 passband ripple and 53 dB stopband attenuation\n",
      "- Lower passband edge: 0.50\n",
      "- Lower transition bandwidth: 0.50 Hz (-6 dB cutoff frequency: 0.25 Hz)\n",
      "- Upper passband edge: 55.00 Hz\n",
      "- Upper transition bandwidth: 13.75 Hz (-6 dB cutoff frequency: 61.88 Hz)\n",
      "- Filter length: 6601 samples (6.601 sec)\n",
      "\n"
     ]
    },
    {
     "name": "stderr",
     "output_type": "stream",
     "text": [
      "\r",
      "Processing:   0%|                                                                               | 0/21 [00:00<?, ?it/s]"
     ]
    },
    {
     "name": "stdout",
     "output_type": "stream",
     "text": [
      "1000.0\n",
      "Writing C:\\Users\\marco\\Documents\\MASTER_DATA_SCIENTIST\\TFM_MSD\\SEED_FRA_OUTPUT\\POSITIVE\\4_2_trial_0_signals.fif\n"
     ]
    },
    {
     "name": "stderr",
     "output_type": "stream",
     "text": [
      "C:\\Users\\marco\\AppData\\Local\\Temp\\ipykernel_14260\\1741641518.py:44: RuntimeWarning: This filename (C:\\Users\\marco\\Documents\\MASTER_DATA_SCIENTIST\\TFM_MSD\\SEED_FRA_OUTPUT\\POSITIVE\\4_2_trial_0_signals.fif) does not conform to MNE naming conventions. All raw files should end with raw.fif, raw_sss.fif, raw_tsss.fif, _meg.fif, _eeg.fif, _ieeg.fif, raw.fif.gz, raw_sss.fif.gz, raw_tsss.fif.gz, _meg.fif.gz, _eeg.fif.gz or _ieeg.fif.gz\n",
      "  eeg_trial.save(output_path, overwrite=True)\n"
     ]
    },
    {
     "name": "stdout",
     "output_type": "stream",
     "text": [
      "Closing C:\\Users\\marco\\Documents\\MASTER_DATA_SCIENTIST\\TFM_MSD\\SEED_FRA_OUTPUT\\POSITIVE\\4_2_trial_0_signals.fif\n",
      "[done]\n"
     ]
    },
    {
     "name": "stderr",
     "output_type": "stream",
     "text": [
      "\r",
      "Processing:   5%|███▍                                                                   | 1/21 [00:01<00:37,  1.87s/it]"
     ]
    },
    {
     "name": "stdout",
     "output_type": "stream",
     "text": [
      "1000.0\n",
      "Writing C:\\Users\\marco\\Documents\\MASTER_DATA_SCIENTIST\\TFM_MSD\\SEED_FRA_OUTPUT\\NEGATIVE\\4_2_trial_1_signals.fif\n"
     ]
    },
    {
     "name": "stderr",
     "output_type": "stream",
     "text": [
      "C:\\Users\\marco\\AppData\\Local\\Temp\\ipykernel_14260\\1741641518.py:44: RuntimeWarning: This filename (C:\\Users\\marco\\Documents\\MASTER_DATA_SCIENTIST\\TFM_MSD\\SEED_FRA_OUTPUT\\NEGATIVE\\4_2_trial_1_signals.fif) does not conform to MNE naming conventions. All raw files should end with raw.fif, raw_sss.fif, raw_tsss.fif, _meg.fif, _eeg.fif, _ieeg.fif, raw.fif.gz, raw_sss.fif.gz, raw_tsss.fif.gz, _meg.fif.gz, _eeg.fif.gz or _ieeg.fif.gz\n",
      "  eeg_trial.save(output_path, overwrite=True)\n"
     ]
    },
    {
     "name": "stdout",
     "output_type": "stream",
     "text": [
      "Closing C:\\Users\\marco\\Documents\\MASTER_DATA_SCIENTIST\\TFM_MSD\\SEED_FRA_OUTPUT\\NEGATIVE\\4_2_trial_1_signals.fif\n",
      "[done]\n"
     ]
    },
    {
     "name": "stderr",
     "output_type": "stream",
     "text": [
      "\r",
      "Processing:  10%|██████▊                                                                | 2/21 [00:03<00:36,  1.92s/it]"
     ]
    },
    {
     "name": "stdout",
     "output_type": "stream",
     "text": [
      "1000.0\n",
      "Writing C:\\Users\\marco\\Documents\\MASTER_DATA_SCIENTIST\\TFM_MSD\\SEED_FRA_OUTPUT\\NEUTRAL\\4_2_trial_2_signals.fif\n"
     ]
    },
    {
     "name": "stderr",
     "output_type": "stream",
     "text": [
      "C:\\Users\\marco\\AppData\\Local\\Temp\\ipykernel_14260\\1741641518.py:44: RuntimeWarning: This filename (C:\\Users\\marco\\Documents\\MASTER_DATA_SCIENTIST\\TFM_MSD\\SEED_FRA_OUTPUT\\NEUTRAL\\4_2_trial_2_signals.fif) does not conform to MNE naming conventions. All raw files should end with raw.fif, raw_sss.fif, raw_tsss.fif, _meg.fif, _eeg.fif, _ieeg.fif, raw.fif.gz, raw_sss.fif.gz, raw_tsss.fif.gz, _meg.fif.gz, _eeg.fif.gz or _ieeg.fif.gz\n",
      "  eeg_trial.save(output_path, overwrite=True)\n"
     ]
    },
    {
     "name": "stdout",
     "output_type": "stream",
     "text": [
      "Closing C:\\Users\\marco\\Documents\\MASTER_DATA_SCIENTIST\\TFM_MSD\\SEED_FRA_OUTPUT\\NEUTRAL\\4_2_trial_2_signals.fif\n",
      "[done]\n"
     ]
    },
    {
     "name": "stderr",
     "output_type": "stream",
     "text": [
      "\r",
      "Processing:  14%|██████████▏                                                            | 3/21 [00:05<00:35,  1.97s/it]"
     ]
    },
    {
     "name": "stdout",
     "output_type": "stream",
     "text": [
      "1000.0\n",
      "Writing C:\\Users\\marco\\Documents\\MASTER_DATA_SCIENTIST\\TFM_MSD\\SEED_FRA_OUTPUT\\NEGATIVE\\4_2_trial_3_signals.fif\n"
     ]
    },
    {
     "name": "stderr",
     "output_type": "stream",
     "text": [
      "C:\\Users\\marco\\AppData\\Local\\Temp\\ipykernel_14260\\1741641518.py:44: RuntimeWarning: This filename (C:\\Users\\marco\\Documents\\MASTER_DATA_SCIENTIST\\TFM_MSD\\SEED_FRA_OUTPUT\\NEGATIVE\\4_2_trial_3_signals.fif) does not conform to MNE naming conventions. All raw files should end with raw.fif, raw_sss.fif, raw_tsss.fif, _meg.fif, _eeg.fif, _ieeg.fif, raw.fif.gz, raw_sss.fif.gz, raw_tsss.fif.gz, _meg.fif.gz, _eeg.fif.gz or _ieeg.fif.gz\n",
      "  eeg_trial.save(output_path, overwrite=True)\n"
     ]
    },
    {
     "name": "stdout",
     "output_type": "stream",
     "text": [
      "Closing C:\\Users\\marco\\Documents\\MASTER_DATA_SCIENTIST\\TFM_MSD\\SEED_FRA_OUTPUT\\NEGATIVE\\4_2_trial_3_signals.fif\n",
      "[done]\n"
     ]
    },
    {
     "name": "stderr",
     "output_type": "stream",
     "text": [
      "\r",
      "Processing:  19%|█████████████▌                                                         | 4/21 [00:08<00:36,  2.16s/it]"
     ]
    },
    {
     "name": "stdout",
     "output_type": "stream",
     "text": [
      "1000.0\n",
      "Writing C:\\Users\\marco\\Documents\\MASTER_DATA_SCIENTIST\\TFM_MSD\\SEED_FRA_OUTPUT\\POSITIVE\\4_2_trial_4_signals.fif\n"
     ]
    },
    {
     "name": "stderr",
     "output_type": "stream",
     "text": [
      "C:\\Users\\marco\\AppData\\Local\\Temp\\ipykernel_14260\\1741641518.py:44: RuntimeWarning: This filename (C:\\Users\\marco\\Documents\\MASTER_DATA_SCIENTIST\\TFM_MSD\\SEED_FRA_OUTPUT\\POSITIVE\\4_2_trial_4_signals.fif) does not conform to MNE naming conventions. All raw files should end with raw.fif, raw_sss.fif, raw_tsss.fif, _meg.fif, _eeg.fif, _ieeg.fif, raw.fif.gz, raw_sss.fif.gz, raw_tsss.fif.gz, _meg.fif.gz, _eeg.fif.gz or _ieeg.fif.gz\n",
      "  eeg_trial.save(output_path, overwrite=True)\n"
     ]
    },
    {
     "name": "stdout",
     "output_type": "stream",
     "text": [
      "Closing C:\\Users\\marco\\Documents\\MASTER_DATA_SCIENTIST\\TFM_MSD\\SEED_FRA_OUTPUT\\POSITIVE\\4_2_trial_4_signals.fif\n",
      "[done]\n"
     ]
    },
    {
     "name": "stderr",
     "output_type": "stream",
     "text": [
      "\r",
      "Processing:  24%|████████████████▉                                                      | 5/21 [00:10<00:33,  2.06s/it]"
     ]
    },
    {
     "name": "stdout",
     "output_type": "stream",
     "text": [
      "1000.0\n",
      "Writing C:\\Users\\marco\\Documents\\MASTER_DATA_SCIENTIST\\TFM_MSD\\SEED_FRA_OUTPUT\\NEUTRAL\\4_2_trial_5_signals.fif\n"
     ]
    },
    {
     "name": "stderr",
     "output_type": "stream",
     "text": [
      "C:\\Users\\marco\\AppData\\Local\\Temp\\ipykernel_14260\\1741641518.py:44: RuntimeWarning: This filename (C:\\Users\\marco\\Documents\\MASTER_DATA_SCIENTIST\\TFM_MSD\\SEED_FRA_OUTPUT\\NEUTRAL\\4_2_trial_5_signals.fif) does not conform to MNE naming conventions. All raw files should end with raw.fif, raw_sss.fif, raw_tsss.fif, _meg.fif, _eeg.fif, _ieeg.fif, raw.fif.gz, raw_sss.fif.gz, raw_tsss.fif.gz, _meg.fif.gz, _eeg.fif.gz or _ieeg.fif.gz\n",
      "  eeg_trial.save(output_path, overwrite=True)\n"
     ]
    },
    {
     "name": "stdout",
     "output_type": "stream",
     "text": [
      "Closing C:\\Users\\marco\\Documents\\MASTER_DATA_SCIENTIST\\TFM_MSD\\SEED_FRA_OUTPUT\\NEUTRAL\\4_2_trial_5_signals.fif\n",
      "[done]\n"
     ]
    },
    {
     "name": "stderr",
     "output_type": "stream",
     "text": [
      "\r",
      "Processing:  29%|████████████████████▎                                                  | 6/21 [00:12<00:30,  2.03s/it]"
     ]
    },
    {
     "name": "stdout",
     "output_type": "stream",
     "text": [
      "1000.0\n",
      "Writing C:\\Users\\marco\\Documents\\MASTER_DATA_SCIENTIST\\TFM_MSD\\SEED_FRA_OUTPUT\\NEGATIVE\\4_2_trial_6_signals.fif\n"
     ]
    },
    {
     "name": "stderr",
     "output_type": "stream",
     "text": [
      "C:\\Users\\marco\\AppData\\Local\\Temp\\ipykernel_14260\\1741641518.py:44: RuntimeWarning: This filename (C:\\Users\\marco\\Documents\\MASTER_DATA_SCIENTIST\\TFM_MSD\\SEED_FRA_OUTPUT\\NEGATIVE\\4_2_trial_6_signals.fif) does not conform to MNE naming conventions. All raw files should end with raw.fif, raw_sss.fif, raw_tsss.fif, _meg.fif, _eeg.fif, _ieeg.fif, raw.fif.gz, raw_sss.fif.gz, raw_tsss.fif.gz, _meg.fif.gz, _eeg.fif.gz or _ieeg.fif.gz\n",
      "  eeg_trial.save(output_path, overwrite=True)\n"
     ]
    },
    {
     "name": "stdout",
     "output_type": "stream",
     "text": [
      "Closing C:\\Users\\marco\\Documents\\MASTER_DATA_SCIENTIST\\TFM_MSD\\SEED_FRA_OUTPUT\\NEGATIVE\\4_2_trial_6_signals.fif\n",
      "[done]\n"
     ]
    },
    {
     "name": "stderr",
     "output_type": "stream",
     "text": [
      "\r",
      "Processing:  33%|███████████████████████▋                                               | 7/21 [00:14<00:28,  2.05s/it]"
     ]
    },
    {
     "name": "stdout",
     "output_type": "stream",
     "text": [
      "1000.0\n",
      "Writing C:\\Users\\marco\\Documents\\MASTER_DATA_SCIENTIST\\TFM_MSD\\SEED_FRA_OUTPUT\\NEUTRAL\\4_2_trial_7_signals.fif\n"
     ]
    },
    {
     "name": "stderr",
     "output_type": "stream",
     "text": [
      "C:\\Users\\marco\\AppData\\Local\\Temp\\ipykernel_14260\\1741641518.py:44: RuntimeWarning: This filename (C:\\Users\\marco\\Documents\\MASTER_DATA_SCIENTIST\\TFM_MSD\\SEED_FRA_OUTPUT\\NEUTRAL\\4_2_trial_7_signals.fif) does not conform to MNE naming conventions. All raw files should end with raw.fif, raw_sss.fif, raw_tsss.fif, _meg.fif, _eeg.fif, _ieeg.fif, raw.fif.gz, raw_sss.fif.gz, raw_tsss.fif.gz, _meg.fif.gz, _eeg.fif.gz or _ieeg.fif.gz\n",
      "  eeg_trial.save(output_path, overwrite=True)\n"
     ]
    },
    {
     "name": "stdout",
     "output_type": "stream",
     "text": [
      "Closing C:\\Users\\marco\\Documents\\MASTER_DATA_SCIENTIST\\TFM_MSD\\SEED_FRA_OUTPUT\\NEUTRAL\\4_2_trial_7_signals.fif\n",
      "[done]\n"
     ]
    },
    {
     "name": "stderr",
     "output_type": "stream",
     "text": [
      "\r",
      "Processing:  38%|███████████████████████████                                            | 8/21 [00:15<00:25,  1.95s/it]"
     ]
    },
    {
     "name": "stdout",
     "output_type": "stream",
     "text": [
      "1000.0\n",
      "Writing C:\\Users\\marco\\Documents\\MASTER_DATA_SCIENTIST\\TFM_MSD\\SEED_FRA_OUTPUT\\POSITIVE\\4_2_trial_8_signals.fif\n"
     ]
    },
    {
     "name": "stderr",
     "output_type": "stream",
     "text": [
      "C:\\Users\\marco\\AppData\\Local\\Temp\\ipykernel_14260\\1741641518.py:44: RuntimeWarning: This filename (C:\\Users\\marco\\Documents\\MASTER_DATA_SCIENTIST\\TFM_MSD\\SEED_FRA_OUTPUT\\POSITIVE\\4_2_trial_8_signals.fif) does not conform to MNE naming conventions. All raw files should end with raw.fif, raw_sss.fif, raw_tsss.fif, _meg.fif, _eeg.fif, _ieeg.fif, raw.fif.gz, raw_sss.fif.gz, raw_tsss.fif.gz, _meg.fif.gz, _eeg.fif.gz or _ieeg.fif.gz\n",
      "  eeg_trial.save(output_path, overwrite=True)\n"
     ]
    },
    {
     "name": "stdout",
     "output_type": "stream",
     "text": [
      "Closing C:\\Users\\marco\\Documents\\MASTER_DATA_SCIENTIST\\TFM_MSD\\SEED_FRA_OUTPUT\\POSITIVE\\4_2_trial_8_signals.fif\n",
      "[done]\n"
     ]
    },
    {
     "name": "stderr",
     "output_type": "stream",
     "text": [
      "\r",
      "Processing:  43%|██████████████████████████████▍                                        | 9/21 [00:18<00:23,  1.98s/it]"
     ]
    },
    {
     "name": "stdout",
     "output_type": "stream",
     "text": [
      "1000.0\n",
      "Writing C:\\Users\\marco\\Documents\\MASTER_DATA_SCIENTIST\\TFM_MSD\\SEED_FRA_OUTPUT\\NEGATIVE\\4_2_trial_9_signals.fif\n"
     ]
    },
    {
     "name": "stderr",
     "output_type": "stream",
     "text": [
      "C:\\Users\\marco\\AppData\\Local\\Temp\\ipykernel_14260\\1741641518.py:44: RuntimeWarning: This filename (C:\\Users\\marco\\Documents\\MASTER_DATA_SCIENTIST\\TFM_MSD\\SEED_FRA_OUTPUT\\NEGATIVE\\4_2_trial_9_signals.fif) does not conform to MNE naming conventions. All raw files should end with raw.fif, raw_sss.fif, raw_tsss.fif, _meg.fif, _eeg.fif, _ieeg.fif, raw.fif.gz, raw_sss.fif.gz, raw_tsss.fif.gz, _meg.fif.gz, _eeg.fif.gz or _ieeg.fif.gz\n",
      "  eeg_trial.save(output_path, overwrite=True)\n"
     ]
    },
    {
     "name": "stdout",
     "output_type": "stream",
     "text": [
      "Closing C:\\Users\\marco\\Documents\\MASTER_DATA_SCIENTIST\\TFM_MSD\\SEED_FRA_OUTPUT\\NEGATIVE\\4_2_trial_9_signals.fif\n",
      "[done]\n"
     ]
    },
    {
     "name": "stderr",
     "output_type": "stream",
     "text": [
      "\r",
      "Processing:  48%|█████████████████████████████████▎                                    | 10/21 [00:20<00:23,  2.11s/it]"
     ]
    },
    {
     "name": "stdout",
     "output_type": "stream",
     "text": [
      "1000.0\n",
      "Writing C:\\Users\\marco\\Documents\\MASTER_DATA_SCIENTIST\\TFM_MSD\\SEED_FRA_OUTPUT\\NEUTRAL\\4_2_trial_10_signals.fif\n"
     ]
    },
    {
     "name": "stderr",
     "output_type": "stream",
     "text": [
      "C:\\Users\\marco\\AppData\\Local\\Temp\\ipykernel_14260\\1741641518.py:44: RuntimeWarning: This filename (C:\\Users\\marco\\Documents\\MASTER_DATA_SCIENTIST\\TFM_MSD\\SEED_FRA_OUTPUT\\NEUTRAL\\4_2_trial_10_signals.fif) does not conform to MNE naming conventions. All raw files should end with raw.fif, raw_sss.fif, raw_tsss.fif, _meg.fif, _eeg.fif, _ieeg.fif, raw.fif.gz, raw_sss.fif.gz, raw_tsss.fif.gz, _meg.fif.gz, _eeg.fif.gz or _ieeg.fif.gz\n",
      "  eeg_trial.save(output_path, overwrite=True)\n"
     ]
    },
    {
     "name": "stdout",
     "output_type": "stream",
     "text": [
      "Closing C:\\Users\\marco\\Documents\\MASTER_DATA_SCIENTIST\\TFM_MSD\\SEED_FRA_OUTPUT\\NEUTRAL\\4_2_trial_10_signals.fif\n",
      "[done]\n"
     ]
    },
    {
     "name": "stderr",
     "output_type": "stream",
     "text": [
      "\r",
      "Processing:  52%|████████████████████████████████████▋                                 | 11/21 [00:22<00:19,  1.96s/it]"
     ]
    },
    {
     "name": "stdout",
     "output_type": "stream",
     "text": [
      "1000.0\n",
      "Writing C:\\Users\\marco\\Documents\\MASTER_DATA_SCIENTIST\\TFM_MSD\\SEED_FRA_OUTPUT\\POSITIVE\\4_2_trial_11_signals.fif\n"
     ]
    },
    {
     "name": "stderr",
     "output_type": "stream",
     "text": [
      "C:\\Users\\marco\\AppData\\Local\\Temp\\ipykernel_14260\\1741641518.py:44: RuntimeWarning: This filename (C:\\Users\\marco\\Documents\\MASTER_DATA_SCIENTIST\\TFM_MSD\\SEED_FRA_OUTPUT\\POSITIVE\\4_2_trial_11_signals.fif) does not conform to MNE naming conventions. All raw files should end with raw.fif, raw_sss.fif, raw_tsss.fif, _meg.fif, _eeg.fif, _ieeg.fif, raw.fif.gz, raw_sss.fif.gz, raw_tsss.fif.gz, _meg.fif.gz, _eeg.fif.gz or _ieeg.fif.gz\n",
      "  eeg_trial.save(output_path, overwrite=True)\n"
     ]
    },
    {
     "name": "stdout",
     "output_type": "stream",
     "text": [
      "Closing C:\\Users\\marco\\Documents\\MASTER_DATA_SCIENTIST\\TFM_MSD\\SEED_FRA_OUTPUT\\POSITIVE\\4_2_trial_11_signals.fif\n",
      "[done]\n"
     ]
    },
    {
     "name": "stderr",
     "output_type": "stream",
     "text": [
      "\r",
      "Processing:  57%|████████████████████████████████████████                              | 12/21 [00:24<00:17,  1.98s/it]"
     ]
    },
    {
     "name": "stdout",
     "output_type": "stream",
     "text": [
      "1000.0\n",
      "Writing C:\\Users\\marco\\Documents\\MASTER_DATA_SCIENTIST\\TFM_MSD\\SEED_FRA_OUTPUT\\POSITIVE\\4_2_trial_12_signals.fif\n"
     ]
    },
    {
     "name": "stderr",
     "output_type": "stream",
     "text": [
      "C:\\Users\\marco\\AppData\\Local\\Temp\\ipykernel_14260\\1741641518.py:44: RuntimeWarning: This filename (C:\\Users\\marco\\Documents\\MASTER_DATA_SCIENTIST\\TFM_MSD\\SEED_FRA_OUTPUT\\POSITIVE\\4_2_trial_12_signals.fif) does not conform to MNE naming conventions. All raw files should end with raw.fif, raw_sss.fif, raw_tsss.fif, _meg.fif, _eeg.fif, _ieeg.fif, raw.fif.gz, raw_sss.fif.gz, raw_tsss.fif.gz, _meg.fif.gz, _eeg.fif.gz or _ieeg.fif.gz\n",
      "  eeg_trial.save(output_path, overwrite=True)\n"
     ]
    },
    {
     "name": "stdout",
     "output_type": "stream",
     "text": [
      "Closing C:\\Users\\marco\\Documents\\MASTER_DATA_SCIENTIST\\TFM_MSD\\SEED_FRA_OUTPUT\\POSITIVE\\4_2_trial_12_signals.fif\n",
      "[done]\n"
     ]
    },
    {
     "name": "stderr",
     "output_type": "stream",
     "text": [
      "\r",
      "Processing:  62%|███████████████████████████████████████████▎                          | 13/21 [00:25<00:15,  1.90s/it]"
     ]
    },
    {
     "name": "stdout",
     "output_type": "stream",
     "text": [
      "1000.0\n",
      "Writing C:\\Users\\marco\\Documents\\MASTER_DATA_SCIENTIST\\TFM_MSD\\SEED_FRA_OUTPUT\\NEUTRAL\\4_2_trial_13_signals.fif\n"
     ]
    },
    {
     "name": "stderr",
     "output_type": "stream",
     "text": [
      "C:\\Users\\marco\\AppData\\Local\\Temp\\ipykernel_14260\\1741641518.py:44: RuntimeWarning: This filename (C:\\Users\\marco\\Documents\\MASTER_DATA_SCIENTIST\\TFM_MSD\\SEED_FRA_OUTPUT\\NEUTRAL\\4_2_trial_13_signals.fif) does not conform to MNE naming conventions. All raw files should end with raw.fif, raw_sss.fif, raw_tsss.fif, _meg.fif, _eeg.fif, _ieeg.fif, raw.fif.gz, raw_sss.fif.gz, raw_tsss.fif.gz, _meg.fif.gz, _eeg.fif.gz or _ieeg.fif.gz\n",
      "  eeg_trial.save(output_path, overwrite=True)\n"
     ]
    },
    {
     "name": "stdout",
     "output_type": "stream",
     "text": [
      "Closing C:\\Users\\marco\\Documents\\MASTER_DATA_SCIENTIST\\TFM_MSD\\SEED_FRA_OUTPUT\\NEUTRAL\\4_2_trial_13_signals.fif\n",
      "[done]\n"
     ]
    },
    {
     "name": "stderr",
     "output_type": "stream",
     "text": [
      "\r",
      "Processing:  67%|██████████████████████████████████████████████▋                       | 14/21 [00:27<00:13,  1.94s/it]"
     ]
    },
    {
     "name": "stdout",
     "output_type": "stream",
     "text": [
      "1000.0\n",
      "Writing C:\\Users\\marco\\Documents\\MASTER_DATA_SCIENTIST\\TFM_MSD\\SEED_FRA_OUTPUT\\NEGATIVE\\4_2_trial_14_signals.fif\n"
     ]
    },
    {
     "name": "stderr",
     "output_type": "stream",
     "text": [
      "C:\\Users\\marco\\AppData\\Local\\Temp\\ipykernel_14260\\1741641518.py:44: RuntimeWarning: This filename (C:\\Users\\marco\\Documents\\MASTER_DATA_SCIENTIST\\TFM_MSD\\SEED_FRA_OUTPUT\\NEGATIVE\\4_2_trial_14_signals.fif) does not conform to MNE naming conventions. All raw files should end with raw.fif, raw_sss.fif, raw_tsss.fif, _meg.fif, _eeg.fif, _ieeg.fif, raw.fif.gz, raw_sss.fif.gz, raw_tsss.fif.gz, _meg.fif.gz, _eeg.fif.gz or _ieeg.fif.gz\n",
      "  eeg_trial.save(output_path, overwrite=True)\n"
     ]
    },
    {
     "name": "stdout",
     "output_type": "stream",
     "text": [
      "Closing C:\\Users\\marco\\Documents\\MASTER_DATA_SCIENTIST\\TFM_MSD\\SEED_FRA_OUTPUT\\NEGATIVE\\4_2_trial_14_signals.fif\n",
      "[done]\n"
     ]
    },
    {
     "name": "stderr",
     "output_type": "stream",
     "text": [
      "\r",
      "Processing:  71%|██████████████████████████████████████████████████                    | 15/21 [00:29<00:11,  1.97s/it]"
     ]
    },
    {
     "name": "stdout",
     "output_type": "stream",
     "text": [
      "1000.0\n",
      "Writing C:\\Users\\marco\\Documents\\MASTER_DATA_SCIENTIST\\TFM_MSD\\SEED_FRA_OUTPUT\\NEGATIVE\\4_2_trial_15_signals.fif\n",
      "Closing C:\\Users\\marco\\Documents\\MASTER_DATA_SCIENTIST\\TFM_MSD\\SEED_FRA_OUTPUT\\NEGATIVE\\4_2_trial_15_signals.fif\n"
     ]
    },
    {
     "name": "stderr",
     "output_type": "stream",
     "text": [
      "C:\\Users\\marco\\AppData\\Local\\Temp\\ipykernel_14260\\1741641518.py:44: RuntimeWarning: This filename (C:\\Users\\marco\\Documents\\MASTER_DATA_SCIENTIST\\TFM_MSD\\SEED_FRA_OUTPUT\\NEGATIVE\\4_2_trial_15_signals.fif) does not conform to MNE naming conventions. All raw files should end with raw.fif, raw_sss.fif, raw_tsss.fif, _meg.fif, _eeg.fif, _ieeg.fif, raw.fif.gz, raw_sss.fif.gz, raw_tsss.fif.gz, _meg.fif.gz, _eeg.fif.gz or _ieeg.fif.gz\n",
      "  eeg_trial.save(output_path, overwrite=True)\n"
     ]
    },
    {
     "name": "stdout",
     "output_type": "stream",
     "text": [
      "[done]\n"
     ]
    },
    {
     "name": "stderr",
     "output_type": "stream",
     "text": [
      "\r",
      "Processing:  76%|█████████████████████████████████████████████████████▎                | 16/21 [00:31<00:09,  1.95s/it]"
     ]
    },
    {
     "name": "stdout",
     "output_type": "stream",
     "text": [
      "1000.0\n",
      "Writing C:\\Users\\marco\\Documents\\MASTER_DATA_SCIENTIST\\TFM_MSD\\SEED_FRA_OUTPUT\\NEUTRAL\\4_2_trial_16_signals.fif\n"
     ]
    },
    {
     "name": "stderr",
     "output_type": "stream",
     "text": [
      "C:\\Users\\marco\\AppData\\Local\\Temp\\ipykernel_14260\\1741641518.py:44: RuntimeWarning: This filename (C:\\Users\\marco\\Documents\\MASTER_DATA_SCIENTIST\\TFM_MSD\\SEED_FRA_OUTPUT\\NEUTRAL\\4_2_trial_16_signals.fif) does not conform to MNE naming conventions. All raw files should end with raw.fif, raw_sss.fif, raw_tsss.fif, _meg.fif, _eeg.fif, _ieeg.fif, raw.fif.gz, raw_sss.fif.gz, raw_tsss.fif.gz, _meg.fif.gz, _eeg.fif.gz or _ieeg.fif.gz\n",
      "  eeg_trial.save(output_path, overwrite=True)\n"
     ]
    },
    {
     "name": "stdout",
     "output_type": "stream",
     "text": [
      "Closing C:\\Users\\marco\\Documents\\MASTER_DATA_SCIENTIST\\TFM_MSD\\SEED_FRA_OUTPUT\\NEUTRAL\\4_2_trial_16_signals.fif\n",
      "[done]\n"
     ]
    },
    {
     "name": "stderr",
     "output_type": "stream",
     "text": [
      "\r",
      "Processing:  81%|████████████████████████████████████████████████████████▋             | 17/21 [00:33<00:07,  1.98s/it]"
     ]
    },
    {
     "name": "stdout",
     "output_type": "stream",
     "text": [
      "1000.0\n",
      "Writing C:\\Users\\marco\\Documents\\MASTER_DATA_SCIENTIST\\TFM_MSD\\SEED_FRA_OUTPUT\\POSITIVE\\4_2_trial_17_signals.fif\n"
     ]
    },
    {
     "name": "stderr",
     "output_type": "stream",
     "text": [
      "C:\\Users\\marco\\AppData\\Local\\Temp\\ipykernel_14260\\1741641518.py:44: RuntimeWarning: This filename (C:\\Users\\marco\\Documents\\MASTER_DATA_SCIENTIST\\TFM_MSD\\SEED_FRA_OUTPUT\\POSITIVE\\4_2_trial_17_signals.fif) does not conform to MNE naming conventions. All raw files should end with raw.fif, raw_sss.fif, raw_tsss.fif, _meg.fif, _eeg.fif, _ieeg.fif, raw.fif.gz, raw_sss.fif.gz, raw_tsss.fif.gz, _meg.fif.gz, _eeg.fif.gz or _ieeg.fif.gz\n",
      "  eeg_trial.save(output_path, overwrite=True)\n"
     ]
    },
    {
     "name": "stdout",
     "output_type": "stream",
     "text": [
      "Closing C:\\Users\\marco\\Documents\\MASTER_DATA_SCIENTIST\\TFM_MSD\\SEED_FRA_OUTPUT\\POSITIVE\\4_2_trial_17_signals.fif\n",
      "[done]\n"
     ]
    },
    {
     "name": "stderr",
     "output_type": "stream",
     "text": [
      "\r",
      "Processing:  86%|████████████████████████████████████████████████████████████          | 18/21 [00:35<00:06,  2.03s/it]"
     ]
    },
    {
     "name": "stdout",
     "output_type": "stream",
     "text": [
      "1000.0\n",
      "Writing C:\\Users\\marco\\Documents\\MASTER_DATA_SCIENTIST\\TFM_MSD\\SEED_FRA_OUTPUT\\NEGATIVE\\4_2_trial_18_signals.fif\n"
     ]
    },
    {
     "name": "stderr",
     "output_type": "stream",
     "text": [
      "C:\\Users\\marco\\AppData\\Local\\Temp\\ipykernel_14260\\1741641518.py:44: RuntimeWarning: This filename (C:\\Users\\marco\\Documents\\MASTER_DATA_SCIENTIST\\TFM_MSD\\SEED_FRA_OUTPUT\\NEGATIVE\\4_2_trial_18_signals.fif) does not conform to MNE naming conventions. All raw files should end with raw.fif, raw_sss.fif, raw_tsss.fif, _meg.fif, _eeg.fif, _ieeg.fif, raw.fif.gz, raw_sss.fif.gz, raw_tsss.fif.gz, _meg.fif.gz, _eeg.fif.gz or _ieeg.fif.gz\n",
      "  eeg_trial.save(output_path, overwrite=True)\n"
     ]
    },
    {
     "name": "stdout",
     "output_type": "stream",
     "text": [
      "Closing C:\\Users\\marco\\Documents\\MASTER_DATA_SCIENTIST\\TFM_MSD\\SEED_FRA_OUTPUT\\NEGATIVE\\4_2_trial_18_signals.fif\n",
      "[done]\n"
     ]
    },
    {
     "name": "stderr",
     "output_type": "stream",
     "text": [
      "\r",
      "Processing:  90%|███████████████████████████████████████████████████████████████▎      | 19/21 [00:37<00:04,  2.01s/it]"
     ]
    },
    {
     "name": "stdout",
     "output_type": "stream",
     "text": [
      "1000.0\n",
      "Writing C:\\Users\\marco\\Documents\\MASTER_DATA_SCIENTIST\\TFM_MSD\\SEED_FRA_OUTPUT\\NEUTRAL\\4_2_trial_19_signals.fif\n"
     ]
    },
    {
     "name": "stderr",
     "output_type": "stream",
     "text": [
      "C:\\Users\\marco\\AppData\\Local\\Temp\\ipykernel_14260\\1741641518.py:44: RuntimeWarning: This filename (C:\\Users\\marco\\Documents\\MASTER_DATA_SCIENTIST\\TFM_MSD\\SEED_FRA_OUTPUT\\NEUTRAL\\4_2_trial_19_signals.fif) does not conform to MNE naming conventions. All raw files should end with raw.fif, raw_sss.fif, raw_tsss.fif, _meg.fif, _eeg.fif, _ieeg.fif, raw.fif.gz, raw_sss.fif.gz, raw_tsss.fif.gz, _meg.fif.gz, _eeg.fif.gz or _ieeg.fif.gz\n",
      "  eeg_trial.save(output_path, overwrite=True)\n"
     ]
    },
    {
     "name": "stdout",
     "output_type": "stream",
     "text": [
      "Closing C:\\Users\\marco\\Documents\\MASTER_DATA_SCIENTIST\\TFM_MSD\\SEED_FRA_OUTPUT\\NEUTRAL\\4_2_trial_19_signals.fif\n",
      "[done]\n"
     ]
    },
    {
     "name": "stderr",
     "output_type": "stream",
     "text": [
      "\r",
      "Processing:  95%|██████████████████████████████████████████████████████████████████▋   | 20/21 [00:39<00:01,  1.97s/it]"
     ]
    },
    {
     "name": "stdout",
     "output_type": "stream",
     "text": [
      "1000.0\n",
      "Writing C:\\Users\\marco\\Documents\\MASTER_DATA_SCIENTIST\\TFM_MSD\\SEED_FRA_OUTPUT\\POSITIVE\\4_2_trial_20_signals.fif\n"
     ]
    },
    {
     "name": "stderr",
     "output_type": "stream",
     "text": [
      "C:\\Users\\marco\\AppData\\Local\\Temp\\ipykernel_14260\\1741641518.py:44: RuntimeWarning: This filename (C:\\Users\\marco\\Documents\\MASTER_DATA_SCIENTIST\\TFM_MSD\\SEED_FRA_OUTPUT\\POSITIVE\\4_2_trial_20_signals.fif) does not conform to MNE naming conventions. All raw files should end with raw.fif, raw_sss.fif, raw_tsss.fif, _meg.fif, _eeg.fif, _ieeg.fif, raw.fif.gz, raw_sss.fif.gz, raw_tsss.fif.gz, _meg.fif.gz, _eeg.fif.gz or _ieeg.fif.gz\n",
      "  eeg_trial.save(output_path, overwrite=True)\n"
     ]
    },
    {
     "name": "stdout",
     "output_type": "stream",
     "text": [
      "Closing C:\\Users\\marco\\Documents\\MASTER_DATA_SCIENTIST\\TFM_MSD\\SEED_FRA_OUTPUT\\POSITIVE\\4_2_trial_20_signals.fif\n",
      "[done]\n"
     ]
    },
    {
     "name": "stderr",
     "output_type": "stream",
     "text": [
      "Processing: 100%|██████████████████████████████████████████████████████████████████████| 21/21 [00:41<00:00,  1.98s/it]\n"
     ]
    },
    {
     "name": "stdout",
     "output_type": "stream",
     "text": [
      "Reading 0 ... 3833639  =      0.000 ...  3833.639 secs...\n"
     ]
    },
    {
     "name": "stderr",
     "output_type": "stream",
     "text": [
      "C:\\Users\\marco\\AppData\\Local\\Temp\\ipykernel_14260\\1741641518.py:4: RuntimeWarning:   Could not parse meas date from the header. Setting to None.\n",
      "  eeg_raw = mne.io.read_raw_cnt(_path, preload=True)\n"
     ]
    },
    {
     "name": "stdout",
     "output_type": "stream",
     "text": [
      "Filtering raw data in 1 contiguous segment\n",
      "Setting up band-pass filter from 0.5 - 55 Hz\n",
      "\n",
      "FIR filter parameters\n",
      "---------------------\n",
      "Designing a one-pass, zero-phase, non-causal bandpass filter:\n",
      "- Windowed time-domain design (firwin) method\n",
      "- Hamming window with 0.0194 passband ripple and 53 dB stopband attenuation\n",
      "- Lower passband edge: 0.50\n",
      "- Lower transition bandwidth: 0.50 Hz (-6 dB cutoff frequency: 0.25 Hz)\n",
      "- Upper passband edge: 55.00 Hz\n",
      "- Upper transition bandwidth: 13.75 Hz (-6 dB cutoff frequency: 61.88 Hz)\n",
      "- Filter length: 6601 samples (6.601 sec)\n",
      "\n"
     ]
    },
    {
     "name": "stderr",
     "output_type": "stream",
     "text": [
      "\r",
      "Processing:   0%|                                                                               | 0/21 [00:00<?, ?it/s]"
     ]
    },
    {
     "name": "stdout",
     "output_type": "stream",
     "text": [
      "1000.0\n",
      "Writing C:\\Users\\marco\\Documents\\MASTER_DATA_SCIENTIST\\TFM_MSD\\SEED_FRA_OUTPUT\\POSITIVE\\4_3_trial_0_signals.fif\n"
     ]
    },
    {
     "name": "stderr",
     "output_type": "stream",
     "text": [
      "C:\\Users\\marco\\AppData\\Local\\Temp\\ipykernel_14260\\1741641518.py:44: RuntimeWarning: This filename (C:\\Users\\marco\\Documents\\MASTER_DATA_SCIENTIST\\TFM_MSD\\SEED_FRA_OUTPUT\\POSITIVE\\4_3_trial_0_signals.fif) does not conform to MNE naming conventions. All raw files should end with raw.fif, raw_sss.fif, raw_tsss.fif, _meg.fif, _eeg.fif, _ieeg.fif, raw.fif.gz, raw_sss.fif.gz, raw_tsss.fif.gz, _meg.fif.gz, _eeg.fif.gz or _ieeg.fif.gz\n",
      "  eeg_trial.save(output_path, overwrite=True)\n"
     ]
    },
    {
     "name": "stdout",
     "output_type": "stream",
     "text": [
      "Closing C:\\Users\\marco\\Documents\\MASTER_DATA_SCIENTIST\\TFM_MSD\\SEED_FRA_OUTPUT\\POSITIVE\\4_3_trial_0_signals.fif\n",
      "[done]\n"
     ]
    },
    {
     "name": "stderr",
     "output_type": "stream",
     "text": [
      "\r",
      "Processing:   5%|███▍                                                                   | 1/21 [00:01<00:38,  1.92s/it]"
     ]
    },
    {
     "name": "stdout",
     "output_type": "stream",
     "text": [
      "1000.0\n",
      "Writing C:\\Users\\marco\\Documents\\MASTER_DATA_SCIENTIST\\TFM_MSD\\SEED_FRA_OUTPUT\\NEGATIVE\\4_3_trial_1_signals.fif\n"
     ]
    },
    {
     "name": "stderr",
     "output_type": "stream",
     "text": [
      "C:\\Users\\marco\\AppData\\Local\\Temp\\ipykernel_14260\\1741641518.py:44: RuntimeWarning: This filename (C:\\Users\\marco\\Documents\\MASTER_DATA_SCIENTIST\\TFM_MSD\\SEED_FRA_OUTPUT\\NEGATIVE\\4_3_trial_1_signals.fif) does not conform to MNE naming conventions. All raw files should end with raw.fif, raw_sss.fif, raw_tsss.fif, _meg.fif, _eeg.fif, _ieeg.fif, raw.fif.gz, raw_sss.fif.gz, raw_tsss.fif.gz, _meg.fif.gz, _eeg.fif.gz or _ieeg.fif.gz\n",
      "  eeg_trial.save(output_path, overwrite=True)\n"
     ]
    },
    {
     "name": "stdout",
     "output_type": "stream",
     "text": [
      "Closing C:\\Users\\marco\\Documents\\MASTER_DATA_SCIENTIST\\TFM_MSD\\SEED_FRA_OUTPUT\\NEGATIVE\\4_3_trial_1_signals.fif\n",
      "[done]\n"
     ]
    },
    {
     "name": "stderr",
     "output_type": "stream",
     "text": [
      "\r",
      "Processing:  10%|██████▊                                                                | 2/21 [00:03<00:34,  1.84s/it]"
     ]
    },
    {
     "name": "stdout",
     "output_type": "stream",
     "text": [
      "1000.0\n",
      "Writing C:\\Users\\marco\\Documents\\MASTER_DATA_SCIENTIST\\TFM_MSD\\SEED_FRA_OUTPUT\\NEUTRAL\\4_3_trial_2_signals.fif\n"
     ]
    },
    {
     "name": "stderr",
     "output_type": "stream",
     "text": [
      "C:\\Users\\marco\\AppData\\Local\\Temp\\ipykernel_14260\\1741641518.py:44: RuntimeWarning: This filename (C:\\Users\\marco\\Documents\\MASTER_DATA_SCIENTIST\\TFM_MSD\\SEED_FRA_OUTPUT\\NEUTRAL\\4_3_trial_2_signals.fif) does not conform to MNE naming conventions. All raw files should end with raw.fif, raw_sss.fif, raw_tsss.fif, _meg.fif, _eeg.fif, _ieeg.fif, raw.fif.gz, raw_sss.fif.gz, raw_tsss.fif.gz, _meg.fif.gz, _eeg.fif.gz or _ieeg.fif.gz\n",
      "  eeg_trial.save(output_path, overwrite=True)\n"
     ]
    },
    {
     "name": "stdout",
     "output_type": "stream",
     "text": [
      "Closing C:\\Users\\marco\\Documents\\MASTER_DATA_SCIENTIST\\TFM_MSD\\SEED_FRA_OUTPUT\\NEUTRAL\\4_3_trial_2_signals.fif\n",
      "[done]\n"
     ]
    },
    {
     "name": "stderr",
     "output_type": "stream",
     "text": [
      "\r",
      "Processing:  14%|██████████▏                                                            | 3/21 [00:05<00:36,  2.01s/it]"
     ]
    },
    {
     "name": "stdout",
     "output_type": "stream",
     "text": [
      "1000.0\n",
      "Writing C:\\Users\\marco\\Documents\\MASTER_DATA_SCIENTIST\\TFM_MSD\\SEED_FRA_OUTPUT\\NEGATIVE\\4_3_trial_3_signals.fif\n"
     ]
    },
    {
     "name": "stderr",
     "output_type": "stream",
     "text": [
      "C:\\Users\\marco\\AppData\\Local\\Temp\\ipykernel_14260\\1741641518.py:44: RuntimeWarning: This filename (C:\\Users\\marco\\Documents\\MASTER_DATA_SCIENTIST\\TFM_MSD\\SEED_FRA_OUTPUT\\NEGATIVE\\4_3_trial_3_signals.fif) does not conform to MNE naming conventions. All raw files should end with raw.fif, raw_sss.fif, raw_tsss.fif, _meg.fif, _eeg.fif, _ieeg.fif, raw.fif.gz, raw_sss.fif.gz, raw_tsss.fif.gz, _meg.fif.gz, _eeg.fif.gz or _ieeg.fif.gz\n",
      "  eeg_trial.save(output_path, overwrite=True)\n"
     ]
    },
    {
     "name": "stdout",
     "output_type": "stream",
     "text": [
      "Closing C:\\Users\\marco\\Documents\\MASTER_DATA_SCIENTIST\\TFM_MSD\\SEED_FRA_OUTPUT\\NEGATIVE\\4_3_trial_3_signals.fif\n",
      "[done]\n"
     ]
    },
    {
     "name": "stderr",
     "output_type": "stream",
     "text": [
      "\r",
      "Processing:  19%|█████████████▌                                                         | 4/21 [00:08<00:37,  2.19s/it]"
     ]
    },
    {
     "name": "stdout",
     "output_type": "stream",
     "text": [
      "1000.0\n",
      "Writing C:\\Users\\marco\\Documents\\MASTER_DATA_SCIENTIST\\TFM_MSD\\SEED_FRA_OUTPUT\\POSITIVE\\4_3_trial_4_signals.fif\n"
     ]
    },
    {
     "name": "stderr",
     "output_type": "stream",
     "text": [
      "C:\\Users\\marco\\AppData\\Local\\Temp\\ipykernel_14260\\1741641518.py:44: RuntimeWarning: This filename (C:\\Users\\marco\\Documents\\MASTER_DATA_SCIENTIST\\TFM_MSD\\SEED_FRA_OUTPUT\\POSITIVE\\4_3_trial_4_signals.fif) does not conform to MNE naming conventions. All raw files should end with raw.fif, raw_sss.fif, raw_tsss.fif, _meg.fif, _eeg.fif, _ieeg.fif, raw.fif.gz, raw_sss.fif.gz, raw_tsss.fif.gz, _meg.fif.gz, _eeg.fif.gz or _ieeg.fif.gz\n",
      "  eeg_trial.save(output_path, overwrite=True)\n"
     ]
    },
    {
     "name": "stdout",
     "output_type": "stream",
     "text": [
      "Closing C:\\Users\\marco\\Documents\\MASTER_DATA_SCIENTIST\\TFM_MSD\\SEED_FRA_OUTPUT\\POSITIVE\\4_3_trial_4_signals.fif\n",
      "[done]\n"
     ]
    },
    {
     "name": "stderr",
     "output_type": "stream",
     "text": [
      "\r",
      "Processing:  24%|████████████████▉                                                      | 5/21 [00:10<00:33,  2.07s/it]"
     ]
    },
    {
     "name": "stdout",
     "output_type": "stream",
     "text": [
      "1000.0\n",
      "Writing C:\\Users\\marco\\Documents\\MASTER_DATA_SCIENTIST\\TFM_MSD\\SEED_FRA_OUTPUT\\NEUTRAL\\4_3_trial_5_signals.fif\n"
     ]
    },
    {
     "name": "stderr",
     "output_type": "stream",
     "text": [
      "C:\\Users\\marco\\AppData\\Local\\Temp\\ipykernel_14260\\1741641518.py:44: RuntimeWarning: This filename (C:\\Users\\marco\\Documents\\MASTER_DATA_SCIENTIST\\TFM_MSD\\SEED_FRA_OUTPUT\\NEUTRAL\\4_3_trial_5_signals.fif) does not conform to MNE naming conventions. All raw files should end with raw.fif, raw_sss.fif, raw_tsss.fif, _meg.fif, _eeg.fif, _ieeg.fif, raw.fif.gz, raw_sss.fif.gz, raw_tsss.fif.gz, _meg.fif.gz, _eeg.fif.gz or _ieeg.fif.gz\n",
      "  eeg_trial.save(output_path, overwrite=True)\n"
     ]
    },
    {
     "name": "stdout",
     "output_type": "stream",
     "text": [
      "Closing C:\\Users\\marco\\Documents\\MASTER_DATA_SCIENTIST\\TFM_MSD\\SEED_FRA_OUTPUT\\NEUTRAL\\4_3_trial_5_signals.fif\n",
      "[done]\n"
     ]
    },
    {
     "name": "stderr",
     "output_type": "stream",
     "text": [
      "\r",
      "Processing:  29%|████████████████████▎                                                  | 6/21 [00:12<00:30,  2.05s/it]"
     ]
    },
    {
     "name": "stdout",
     "output_type": "stream",
     "text": [
      "1000.0\n",
      "Writing C:\\Users\\marco\\Documents\\MASTER_DATA_SCIENTIST\\TFM_MSD\\SEED_FRA_OUTPUT\\NEGATIVE\\4_3_trial_6_signals.fif\n"
     ]
    },
    {
     "name": "stderr",
     "output_type": "stream",
     "text": [
      "C:\\Users\\marco\\AppData\\Local\\Temp\\ipykernel_14260\\1741641518.py:44: RuntimeWarning: This filename (C:\\Users\\marco\\Documents\\MASTER_DATA_SCIENTIST\\TFM_MSD\\SEED_FRA_OUTPUT\\NEGATIVE\\4_3_trial_6_signals.fif) does not conform to MNE naming conventions. All raw files should end with raw.fif, raw_sss.fif, raw_tsss.fif, _meg.fif, _eeg.fif, _ieeg.fif, raw.fif.gz, raw_sss.fif.gz, raw_tsss.fif.gz, _meg.fif.gz, _eeg.fif.gz or _ieeg.fif.gz\n",
      "  eeg_trial.save(output_path, overwrite=True)\n"
     ]
    },
    {
     "name": "stdout",
     "output_type": "stream",
     "text": [
      "Closing C:\\Users\\marco\\Documents\\MASTER_DATA_SCIENTIST\\TFM_MSD\\SEED_FRA_OUTPUT\\NEGATIVE\\4_3_trial_6_signals.fif\n",
      "[done]\n"
     ]
    },
    {
     "name": "stderr",
     "output_type": "stream",
     "text": [
      "\r",
      "Processing:  33%|███████████████████████▋                                               | 7/21 [00:14<00:29,  2.09s/it]"
     ]
    },
    {
     "name": "stdout",
     "output_type": "stream",
     "text": [
      "1000.0\n",
      "Writing C:\\Users\\marco\\Documents\\MASTER_DATA_SCIENTIST\\TFM_MSD\\SEED_FRA_OUTPUT\\NEUTRAL\\4_3_trial_7_signals.fif\n"
     ]
    },
    {
     "name": "stderr",
     "output_type": "stream",
     "text": [
      "C:\\Users\\marco\\AppData\\Local\\Temp\\ipykernel_14260\\1741641518.py:44: RuntimeWarning: This filename (C:\\Users\\marco\\Documents\\MASTER_DATA_SCIENTIST\\TFM_MSD\\SEED_FRA_OUTPUT\\NEUTRAL\\4_3_trial_7_signals.fif) does not conform to MNE naming conventions. All raw files should end with raw.fif, raw_sss.fif, raw_tsss.fif, _meg.fif, _eeg.fif, _ieeg.fif, raw.fif.gz, raw_sss.fif.gz, raw_tsss.fif.gz, _meg.fif.gz, _eeg.fif.gz or _ieeg.fif.gz\n",
      "  eeg_trial.save(output_path, overwrite=True)\n"
     ]
    },
    {
     "name": "stdout",
     "output_type": "stream",
     "text": [
      "Closing C:\\Users\\marco\\Documents\\MASTER_DATA_SCIENTIST\\TFM_MSD\\SEED_FRA_OUTPUT\\NEUTRAL\\4_3_trial_7_signals.fif\n",
      "[done]\n"
     ]
    },
    {
     "name": "stderr",
     "output_type": "stream",
     "text": [
      "\r",
      "Processing:  38%|███████████████████████████                                            | 8/21 [00:16<00:26,  2.04s/it]"
     ]
    },
    {
     "name": "stdout",
     "output_type": "stream",
     "text": [
      "1000.0\n",
      "Writing C:\\Users\\marco\\Documents\\MASTER_DATA_SCIENTIST\\TFM_MSD\\SEED_FRA_OUTPUT\\POSITIVE\\4_3_trial_8_signals.fif\n"
     ]
    },
    {
     "name": "stderr",
     "output_type": "stream",
     "text": [
      "C:\\Users\\marco\\AppData\\Local\\Temp\\ipykernel_14260\\1741641518.py:44: RuntimeWarning: This filename (C:\\Users\\marco\\Documents\\MASTER_DATA_SCIENTIST\\TFM_MSD\\SEED_FRA_OUTPUT\\POSITIVE\\4_3_trial_8_signals.fif) does not conform to MNE naming conventions. All raw files should end with raw.fif, raw_sss.fif, raw_tsss.fif, _meg.fif, _eeg.fif, _ieeg.fif, raw.fif.gz, raw_sss.fif.gz, raw_tsss.fif.gz, _meg.fif.gz, _eeg.fif.gz or _ieeg.fif.gz\n",
      "  eeg_trial.save(output_path, overwrite=True)\n"
     ]
    },
    {
     "name": "stdout",
     "output_type": "stream",
     "text": [
      "Closing C:\\Users\\marco\\Documents\\MASTER_DATA_SCIENTIST\\TFM_MSD\\SEED_FRA_OUTPUT\\POSITIVE\\4_3_trial_8_signals.fif\n",
      "[done]\n"
     ]
    },
    {
     "name": "stderr",
     "output_type": "stream",
     "text": [
      "\r",
      "Processing:  43%|██████████████████████████████▍                                        | 9/21 [00:18<00:23,  1.96s/it]"
     ]
    },
    {
     "name": "stdout",
     "output_type": "stream",
     "text": [
      "1000.0\n",
      "Writing C:\\Users\\marco\\Documents\\MASTER_DATA_SCIENTIST\\TFM_MSD\\SEED_FRA_OUTPUT\\NEGATIVE\\4_3_trial_9_signals.fif\n"
     ]
    },
    {
     "name": "stderr",
     "output_type": "stream",
     "text": [
      "C:\\Users\\marco\\AppData\\Local\\Temp\\ipykernel_14260\\1741641518.py:44: RuntimeWarning: This filename (C:\\Users\\marco\\Documents\\MASTER_DATA_SCIENTIST\\TFM_MSD\\SEED_FRA_OUTPUT\\NEGATIVE\\4_3_trial_9_signals.fif) does not conform to MNE naming conventions. All raw files should end with raw.fif, raw_sss.fif, raw_tsss.fif, _meg.fif, _eeg.fif, _ieeg.fif, raw.fif.gz, raw_sss.fif.gz, raw_tsss.fif.gz, _meg.fif.gz, _eeg.fif.gz or _ieeg.fif.gz\n",
      "  eeg_trial.save(output_path, overwrite=True)\n"
     ]
    },
    {
     "name": "stdout",
     "output_type": "stream",
     "text": [
      "Closing C:\\Users\\marco\\Documents\\MASTER_DATA_SCIENTIST\\TFM_MSD\\SEED_FRA_OUTPUT\\NEGATIVE\\4_3_trial_9_signals.fif\n",
      "[done]\n"
     ]
    },
    {
     "name": "stderr",
     "output_type": "stream",
     "text": [
      "\r",
      "Processing:  48%|█████████████████████████████████▎                                    | 10/21 [00:20<00:22,  2.08s/it]"
     ]
    },
    {
     "name": "stdout",
     "output_type": "stream",
     "text": [
      "1000.0\n",
      "Writing C:\\Users\\marco\\Documents\\MASTER_DATA_SCIENTIST\\TFM_MSD\\SEED_FRA_OUTPUT\\NEUTRAL\\4_3_trial_10_signals.fif\n"
     ]
    },
    {
     "name": "stderr",
     "output_type": "stream",
     "text": [
      "C:\\Users\\marco\\AppData\\Local\\Temp\\ipykernel_14260\\1741641518.py:44: RuntimeWarning: This filename (C:\\Users\\marco\\Documents\\MASTER_DATA_SCIENTIST\\TFM_MSD\\SEED_FRA_OUTPUT\\NEUTRAL\\4_3_trial_10_signals.fif) does not conform to MNE naming conventions. All raw files should end with raw.fif, raw_sss.fif, raw_tsss.fif, _meg.fif, _eeg.fif, _ieeg.fif, raw.fif.gz, raw_sss.fif.gz, raw_tsss.fif.gz, _meg.fif.gz, _eeg.fif.gz or _ieeg.fif.gz\n",
      "  eeg_trial.save(output_path, overwrite=True)\n"
     ]
    },
    {
     "name": "stdout",
     "output_type": "stream",
     "text": [
      "Closing C:\\Users\\marco\\Documents\\MASTER_DATA_SCIENTIST\\TFM_MSD\\SEED_FRA_OUTPUT\\NEUTRAL\\4_3_trial_10_signals.fif\n",
      "[done]\n"
     ]
    },
    {
     "name": "stderr",
     "output_type": "stream",
     "text": [
      "\r",
      "Processing:  52%|████████████████████████████████████▋                                 | 11/21 [00:22<00:19,  1.98s/it]"
     ]
    },
    {
     "name": "stdout",
     "output_type": "stream",
     "text": [
      "1000.0\n",
      "Writing C:\\Users\\marco\\Documents\\MASTER_DATA_SCIENTIST\\TFM_MSD\\SEED_FRA_OUTPUT\\POSITIVE\\4_3_trial_11_signals.fif\n"
     ]
    },
    {
     "name": "stderr",
     "output_type": "stream",
     "text": [
      "C:\\Users\\marco\\AppData\\Local\\Temp\\ipykernel_14260\\1741641518.py:44: RuntimeWarning: This filename (C:\\Users\\marco\\Documents\\MASTER_DATA_SCIENTIST\\TFM_MSD\\SEED_FRA_OUTPUT\\POSITIVE\\4_3_trial_11_signals.fif) does not conform to MNE naming conventions. All raw files should end with raw.fif, raw_sss.fif, raw_tsss.fif, _meg.fif, _eeg.fif, _ieeg.fif, raw.fif.gz, raw_sss.fif.gz, raw_tsss.fif.gz, _meg.fif.gz, _eeg.fif.gz or _ieeg.fif.gz\n",
      "  eeg_trial.save(output_path, overwrite=True)\n"
     ]
    },
    {
     "name": "stdout",
     "output_type": "stream",
     "text": [
      "Closing C:\\Users\\marco\\Documents\\MASTER_DATA_SCIENTIST\\TFM_MSD\\SEED_FRA_OUTPUT\\POSITIVE\\4_3_trial_11_signals.fif\n",
      "[done]\n"
     ]
    },
    {
     "name": "stderr",
     "output_type": "stream",
     "text": [
      "\r",
      "Processing:  57%|████████████████████████████████████████                              | 12/21 [00:24<00:17,  1.97s/it]"
     ]
    },
    {
     "name": "stdout",
     "output_type": "stream",
     "text": [
      "1000.0\n",
      "Writing C:\\Users\\marco\\Documents\\MASTER_DATA_SCIENTIST\\TFM_MSD\\SEED_FRA_OUTPUT\\POSITIVE\\4_3_trial_12_signals.fif\n"
     ]
    },
    {
     "name": "stderr",
     "output_type": "stream",
     "text": [
      "C:\\Users\\marco\\AppData\\Local\\Temp\\ipykernel_14260\\1741641518.py:44: RuntimeWarning: This filename (C:\\Users\\marco\\Documents\\MASTER_DATA_SCIENTIST\\TFM_MSD\\SEED_FRA_OUTPUT\\POSITIVE\\4_3_trial_12_signals.fif) does not conform to MNE naming conventions. All raw files should end with raw.fif, raw_sss.fif, raw_tsss.fif, _meg.fif, _eeg.fif, _ieeg.fif, raw.fif.gz, raw_sss.fif.gz, raw_tsss.fif.gz, _meg.fif.gz, _eeg.fif.gz or _ieeg.fif.gz\n",
      "  eeg_trial.save(output_path, overwrite=True)\n"
     ]
    },
    {
     "name": "stdout",
     "output_type": "stream",
     "text": [
      "Closing C:\\Users\\marco\\Documents\\MASTER_DATA_SCIENTIST\\TFM_MSD\\SEED_FRA_OUTPUT\\POSITIVE\\4_3_trial_12_signals.fif\n",
      "[done]\n"
     ]
    },
    {
     "name": "stderr",
     "output_type": "stream",
     "text": [
      "\r",
      "Processing:  62%|███████████████████████████████████████████▎                          | 13/21 [00:26<00:15,  1.92s/it]"
     ]
    },
    {
     "name": "stdout",
     "output_type": "stream",
     "text": [
      "1000.0\n",
      "Writing C:\\Users\\marco\\Documents\\MASTER_DATA_SCIENTIST\\TFM_MSD\\SEED_FRA_OUTPUT\\NEUTRAL\\4_3_trial_13_signals.fif\n"
     ]
    },
    {
     "name": "stderr",
     "output_type": "stream",
     "text": [
      "C:\\Users\\marco\\AppData\\Local\\Temp\\ipykernel_14260\\1741641518.py:44: RuntimeWarning: This filename (C:\\Users\\marco\\Documents\\MASTER_DATA_SCIENTIST\\TFM_MSD\\SEED_FRA_OUTPUT\\NEUTRAL\\4_3_trial_13_signals.fif) does not conform to MNE naming conventions. All raw files should end with raw.fif, raw_sss.fif, raw_tsss.fif, _meg.fif, _eeg.fif, _ieeg.fif, raw.fif.gz, raw_sss.fif.gz, raw_tsss.fif.gz, _meg.fif.gz, _eeg.fif.gz or _ieeg.fif.gz\n",
      "  eeg_trial.save(output_path, overwrite=True)\n"
     ]
    },
    {
     "name": "stdout",
     "output_type": "stream",
     "text": [
      "Closing C:\\Users\\marco\\Documents\\MASTER_DATA_SCIENTIST\\TFM_MSD\\SEED_FRA_OUTPUT\\NEUTRAL\\4_3_trial_13_signals.fif\n",
      "[done]\n"
     ]
    },
    {
     "name": "stderr",
     "output_type": "stream",
     "text": [
      "\r",
      "Processing:  67%|██████████████████████████████████████████████▋                       | 14/21 [00:27<00:12,  1.84s/it]"
     ]
    },
    {
     "name": "stdout",
     "output_type": "stream",
     "text": [
      "1000.0\n",
      "Writing C:\\Users\\marco\\Documents\\MASTER_DATA_SCIENTIST\\TFM_MSD\\SEED_FRA_OUTPUT\\NEGATIVE\\4_3_trial_14_signals.fif\n"
     ]
    },
    {
     "name": "stderr",
     "output_type": "stream",
     "text": [
      "C:\\Users\\marco\\AppData\\Local\\Temp\\ipykernel_14260\\1741641518.py:44: RuntimeWarning: This filename (C:\\Users\\marco\\Documents\\MASTER_DATA_SCIENTIST\\TFM_MSD\\SEED_FRA_OUTPUT\\NEGATIVE\\4_3_trial_14_signals.fif) does not conform to MNE naming conventions. All raw files should end with raw.fif, raw_sss.fif, raw_tsss.fif, _meg.fif, _eeg.fif, _ieeg.fif, raw.fif.gz, raw_sss.fif.gz, raw_tsss.fif.gz, _meg.fif.gz, _eeg.fif.gz or _ieeg.fif.gz\n",
      "  eeg_trial.save(output_path, overwrite=True)\n"
     ]
    },
    {
     "name": "stdout",
     "output_type": "stream",
     "text": [
      "Closing C:\\Users\\marco\\Documents\\MASTER_DATA_SCIENTIST\\TFM_MSD\\SEED_FRA_OUTPUT\\NEGATIVE\\4_3_trial_14_signals.fif\n",
      "[done]\n"
     ]
    },
    {
     "name": "stderr",
     "output_type": "stream",
     "text": [
      "\r",
      "Processing:  71%|██████████████████████████████████████████████████                    | 15/21 [00:29<00:10,  1.80s/it]"
     ]
    },
    {
     "name": "stdout",
     "output_type": "stream",
     "text": [
      "1000.0\n",
      "Writing C:\\Users\\marco\\Documents\\MASTER_DATA_SCIENTIST\\TFM_MSD\\SEED_FRA_OUTPUT\\NEGATIVE\\4_3_trial_15_signals.fif\n",
      "Closing C:\\Users\\marco\\Documents\\MASTER_DATA_SCIENTIST\\TFM_MSD\\SEED_FRA_OUTPUT\\NEGATIVE\\4_3_trial_15_signals.fif\n"
     ]
    },
    {
     "name": "stderr",
     "output_type": "stream",
     "text": [
      "C:\\Users\\marco\\AppData\\Local\\Temp\\ipykernel_14260\\1741641518.py:44: RuntimeWarning: This filename (C:\\Users\\marco\\Documents\\MASTER_DATA_SCIENTIST\\TFM_MSD\\SEED_FRA_OUTPUT\\NEGATIVE\\4_3_trial_15_signals.fif) does not conform to MNE naming conventions. All raw files should end with raw.fif, raw_sss.fif, raw_tsss.fif, _meg.fif, _eeg.fif, _ieeg.fif, raw.fif.gz, raw_sss.fif.gz, raw_tsss.fif.gz, _meg.fif.gz, _eeg.fif.gz or _ieeg.fif.gz\n",
      "  eeg_trial.save(output_path, overwrite=True)\n"
     ]
    },
    {
     "name": "stdout",
     "output_type": "stream",
     "text": [
      "[done]\n"
     ]
    },
    {
     "name": "stderr",
     "output_type": "stream",
     "text": [
      "\r",
      "Processing:  76%|█████████████████████████████████████████████████████▎                | 16/21 [00:31<00:09,  1.81s/it]"
     ]
    },
    {
     "name": "stdout",
     "output_type": "stream",
     "text": [
      "1000.0\n",
      "Writing C:\\Users\\marco\\Documents\\MASTER_DATA_SCIENTIST\\TFM_MSD\\SEED_FRA_OUTPUT\\NEUTRAL\\4_3_trial_16_signals.fif\n"
     ]
    },
    {
     "name": "stderr",
     "output_type": "stream",
     "text": [
      "C:\\Users\\marco\\AppData\\Local\\Temp\\ipykernel_14260\\1741641518.py:44: RuntimeWarning: This filename (C:\\Users\\marco\\Documents\\MASTER_DATA_SCIENTIST\\TFM_MSD\\SEED_FRA_OUTPUT\\NEUTRAL\\4_3_trial_16_signals.fif) does not conform to MNE naming conventions. All raw files should end with raw.fif, raw_sss.fif, raw_tsss.fif, _meg.fif, _eeg.fif, _ieeg.fif, raw.fif.gz, raw_sss.fif.gz, raw_tsss.fif.gz, _meg.fif.gz, _eeg.fif.gz or _ieeg.fif.gz\n",
      "  eeg_trial.save(output_path, overwrite=True)\n"
     ]
    },
    {
     "name": "stdout",
     "output_type": "stream",
     "text": [
      "Closing C:\\Users\\marco\\Documents\\MASTER_DATA_SCIENTIST\\TFM_MSD\\SEED_FRA_OUTPUT\\NEUTRAL\\4_3_trial_16_signals.fif\n",
      "[done]\n"
     ]
    },
    {
     "name": "stderr",
     "output_type": "stream",
     "text": [
      "\r",
      "Processing:  81%|████████████████████████████████████████████████████████▋             | 17/21 [00:33<00:07,  1.91s/it]"
     ]
    },
    {
     "name": "stdout",
     "output_type": "stream",
     "text": [
      "1000.0\n",
      "Writing C:\\Users\\marco\\Documents\\MASTER_DATA_SCIENTIST\\TFM_MSD\\SEED_FRA_OUTPUT\\POSITIVE\\4_3_trial_17_signals.fif\n"
     ]
    },
    {
     "name": "stderr",
     "output_type": "stream",
     "text": [
      "C:\\Users\\marco\\AppData\\Local\\Temp\\ipykernel_14260\\1741641518.py:44: RuntimeWarning: This filename (C:\\Users\\marco\\Documents\\MASTER_DATA_SCIENTIST\\TFM_MSD\\SEED_FRA_OUTPUT\\POSITIVE\\4_3_trial_17_signals.fif) does not conform to MNE naming conventions. All raw files should end with raw.fif, raw_sss.fif, raw_tsss.fif, _meg.fif, _eeg.fif, _ieeg.fif, raw.fif.gz, raw_sss.fif.gz, raw_tsss.fif.gz, _meg.fif.gz, _eeg.fif.gz or _ieeg.fif.gz\n",
      "  eeg_trial.save(output_path, overwrite=True)\n"
     ]
    },
    {
     "name": "stdout",
     "output_type": "stream",
     "text": [
      "Closing C:\\Users\\marco\\Documents\\MASTER_DATA_SCIENTIST\\TFM_MSD\\SEED_FRA_OUTPUT\\POSITIVE\\4_3_trial_17_signals.fif\n",
      "[done]\n"
     ]
    },
    {
     "name": "stderr",
     "output_type": "stream",
     "text": [
      "\r",
      "Processing:  86%|████████████████████████████████████████████████████████████          | 18/21 [00:35<00:05,  1.86s/it]"
     ]
    },
    {
     "name": "stdout",
     "output_type": "stream",
     "text": [
      "1000.0\n",
      "Writing C:\\Users\\marco\\Documents\\MASTER_DATA_SCIENTIST\\TFM_MSD\\SEED_FRA_OUTPUT\\NEGATIVE\\4_3_trial_18_signals.fif\n"
     ]
    },
    {
     "name": "stderr",
     "output_type": "stream",
     "text": [
      "C:\\Users\\marco\\AppData\\Local\\Temp\\ipykernel_14260\\1741641518.py:44: RuntimeWarning: This filename (C:\\Users\\marco\\Documents\\MASTER_DATA_SCIENTIST\\TFM_MSD\\SEED_FRA_OUTPUT\\NEGATIVE\\4_3_trial_18_signals.fif) does not conform to MNE naming conventions. All raw files should end with raw.fif, raw_sss.fif, raw_tsss.fif, _meg.fif, _eeg.fif, _ieeg.fif, raw.fif.gz, raw_sss.fif.gz, raw_tsss.fif.gz, _meg.fif.gz, _eeg.fif.gz or _ieeg.fif.gz\n",
      "  eeg_trial.save(output_path, overwrite=True)\n"
     ]
    },
    {
     "name": "stdout",
     "output_type": "stream",
     "text": [
      "Closing C:\\Users\\marco\\Documents\\MASTER_DATA_SCIENTIST\\TFM_MSD\\SEED_FRA_OUTPUT\\NEGATIVE\\4_3_trial_18_signals.fif\n",
      "[done]\n"
     ]
    },
    {
     "name": "stderr",
     "output_type": "stream",
     "text": [
      "\r",
      "Processing:  90%|███████████████████████████████████████████████████████████████▎      | 19/21 [00:36<00:03,  1.81s/it]"
     ]
    },
    {
     "name": "stdout",
     "output_type": "stream",
     "text": [
      "1000.0\n",
      "Writing C:\\Users\\marco\\Documents\\MASTER_DATA_SCIENTIST\\TFM_MSD\\SEED_FRA_OUTPUT\\NEUTRAL\\4_3_trial_19_signals.fif\n",
      "Closing C:\\Users\\marco\\Documents\\MASTER_DATA_SCIENTIST\\TFM_MSD\\SEED_FRA_OUTPUT\\NEUTRAL\\4_3_trial_19_signals.fif\n"
     ]
    },
    {
     "name": "stderr",
     "output_type": "stream",
     "text": [
      "C:\\Users\\marco\\AppData\\Local\\Temp\\ipykernel_14260\\1741641518.py:44: RuntimeWarning: This filename (C:\\Users\\marco\\Documents\\MASTER_DATA_SCIENTIST\\TFM_MSD\\SEED_FRA_OUTPUT\\NEUTRAL\\4_3_trial_19_signals.fif) does not conform to MNE naming conventions. All raw files should end with raw.fif, raw_sss.fif, raw_tsss.fif, _meg.fif, _eeg.fif, _ieeg.fif, raw.fif.gz, raw_sss.fif.gz, raw_tsss.fif.gz, _meg.fif.gz, _eeg.fif.gz or _ieeg.fif.gz\n",
      "  eeg_trial.save(output_path, overwrite=True)\n"
     ]
    },
    {
     "name": "stdout",
     "output_type": "stream",
     "text": [
      "[done]\n"
     ]
    },
    {
     "name": "stderr",
     "output_type": "stream",
     "text": [
      "\r",
      "Processing:  95%|██████████████████████████████████████████████████████████████████▋   | 20/21 [00:38<00:01,  1.87s/it]"
     ]
    },
    {
     "name": "stdout",
     "output_type": "stream",
     "text": [
      "1000.0\n",
      "Writing C:\\Users\\marco\\Documents\\MASTER_DATA_SCIENTIST\\TFM_MSD\\SEED_FRA_OUTPUT\\POSITIVE\\4_3_trial_20_signals.fif\n"
     ]
    },
    {
     "name": "stderr",
     "output_type": "stream",
     "text": [
      "C:\\Users\\marco\\AppData\\Local\\Temp\\ipykernel_14260\\1741641518.py:44: RuntimeWarning: This filename (C:\\Users\\marco\\Documents\\MASTER_DATA_SCIENTIST\\TFM_MSD\\SEED_FRA_OUTPUT\\POSITIVE\\4_3_trial_20_signals.fif) does not conform to MNE naming conventions. All raw files should end with raw.fif, raw_sss.fif, raw_tsss.fif, _meg.fif, _eeg.fif, _ieeg.fif, raw.fif.gz, raw_sss.fif.gz, raw_tsss.fif.gz, _meg.fif.gz, _eeg.fif.gz or _ieeg.fif.gz\n",
      "  eeg_trial.save(output_path, overwrite=True)\n"
     ]
    },
    {
     "name": "stdout",
     "output_type": "stream",
     "text": [
      "Closing C:\\Users\\marco\\Documents\\MASTER_DATA_SCIENTIST\\TFM_MSD\\SEED_FRA_OUTPUT\\POSITIVE\\4_3_trial_20_signals.fif\n",
      "[done]\n"
     ]
    },
    {
     "name": "stderr",
     "output_type": "stream",
     "text": [
      "Processing: 100%|██████████████████████████████████████████████████████████████████████| 21/21 [00:40<00:00,  1.94s/it]\n"
     ]
    },
    {
     "name": "stdout",
     "output_type": "stream",
     "text": [
      "Reading 0 ... 3817719  =      0.000 ...  3817.719 secs...\n",
      "Filtering raw data in 1 contiguous segment\n",
      "Setting up band-pass filter from 0.5 - 55 Hz\n",
      "\n",
      "FIR filter parameters\n",
      "---------------------\n",
      "Designing a one-pass, zero-phase, non-causal bandpass filter:\n",
      "- Windowed time-domain design (firwin) method\n",
      "- Hamming window with 0.0194 passband ripple and 53 dB stopband attenuation\n",
      "- Lower passband edge: 0.50\n",
      "- Lower transition bandwidth: 0.50 Hz (-6 dB cutoff frequency: 0.25 Hz)\n",
      "- Upper passband edge: 55.00 Hz\n",
      "- Upper transition bandwidth: 13.75 Hz (-6 dB cutoff frequency: 61.88 Hz)\n",
      "- Filter length: 6601 samples (6.601 sec)\n",
      "\n"
     ]
    },
    {
     "name": "stderr",
     "output_type": "stream",
     "text": [
      "\r",
      "Processing:   0%|                                                                               | 0/21 [00:00<?, ?it/s]"
     ]
    },
    {
     "name": "stdout",
     "output_type": "stream",
     "text": [
      "1000.0\n",
      "Writing C:\\Users\\marco\\Documents\\MASTER_DATA_SCIENTIST\\TFM_MSD\\SEED_FRA_OUTPUT\\POSITIVE\\5_1_trial_0_signals.fif\n"
     ]
    },
    {
     "name": "stderr",
     "output_type": "stream",
     "text": [
      "C:\\Users\\marco\\AppData\\Local\\Temp\\ipykernel_14260\\1741641518.py:44: RuntimeWarning: This filename (C:\\Users\\marco\\Documents\\MASTER_DATA_SCIENTIST\\TFM_MSD\\SEED_FRA_OUTPUT\\POSITIVE\\5_1_trial_0_signals.fif) does not conform to MNE naming conventions. All raw files should end with raw.fif, raw_sss.fif, raw_tsss.fif, _meg.fif, _eeg.fif, _ieeg.fif, raw.fif.gz, raw_sss.fif.gz, raw_tsss.fif.gz, _meg.fif.gz, _eeg.fif.gz or _ieeg.fif.gz\n",
      "  eeg_trial.save(output_path, overwrite=True)\n"
     ]
    },
    {
     "name": "stdout",
     "output_type": "stream",
     "text": [
      "Closing C:\\Users\\marco\\Documents\\MASTER_DATA_SCIENTIST\\TFM_MSD\\SEED_FRA_OUTPUT\\POSITIVE\\5_1_trial_0_signals.fif\n",
      "[done]\n"
     ]
    },
    {
     "name": "stderr",
     "output_type": "stream",
     "text": [
      "\r",
      "Processing:   5%|███▍                                                                   | 1/21 [00:01<00:34,  1.74s/it]"
     ]
    },
    {
     "name": "stdout",
     "output_type": "stream",
     "text": [
      "1000.0\n",
      "Writing C:\\Users\\marco\\Documents\\MASTER_DATA_SCIENTIST\\TFM_MSD\\SEED_FRA_OUTPUT\\NEGATIVE\\5_1_trial_1_signals.fif\n"
     ]
    },
    {
     "name": "stderr",
     "output_type": "stream",
     "text": [
      "C:\\Users\\marco\\AppData\\Local\\Temp\\ipykernel_14260\\1741641518.py:44: RuntimeWarning: This filename (C:\\Users\\marco\\Documents\\MASTER_DATA_SCIENTIST\\TFM_MSD\\SEED_FRA_OUTPUT\\NEGATIVE\\5_1_trial_1_signals.fif) does not conform to MNE naming conventions. All raw files should end with raw.fif, raw_sss.fif, raw_tsss.fif, _meg.fif, _eeg.fif, _ieeg.fif, raw.fif.gz, raw_sss.fif.gz, raw_tsss.fif.gz, _meg.fif.gz, _eeg.fif.gz or _ieeg.fif.gz\n",
      "  eeg_trial.save(output_path, overwrite=True)\n"
     ]
    },
    {
     "name": "stdout",
     "output_type": "stream",
     "text": [
      "Closing C:\\Users\\marco\\Documents\\MASTER_DATA_SCIENTIST\\TFM_MSD\\SEED_FRA_OUTPUT\\NEGATIVE\\5_1_trial_1_signals.fif\n",
      "[done]\n"
     ]
    },
    {
     "name": "stderr",
     "output_type": "stream",
     "text": [
      "\r",
      "Processing:  10%|██████▊                                                                | 2/21 [00:03<00:38,  2.00s/it]"
     ]
    },
    {
     "name": "stdout",
     "output_type": "stream",
     "text": [
      "1000.0\n",
      "Writing C:\\Users\\marco\\Documents\\MASTER_DATA_SCIENTIST\\TFM_MSD\\SEED_FRA_OUTPUT\\NEUTRAL\\5_1_trial_2_signals.fif\n"
     ]
    },
    {
     "name": "stderr",
     "output_type": "stream",
     "text": [
      "C:\\Users\\marco\\AppData\\Local\\Temp\\ipykernel_14260\\1741641518.py:44: RuntimeWarning: This filename (C:\\Users\\marco\\Documents\\MASTER_DATA_SCIENTIST\\TFM_MSD\\SEED_FRA_OUTPUT\\NEUTRAL\\5_1_trial_2_signals.fif) does not conform to MNE naming conventions. All raw files should end with raw.fif, raw_sss.fif, raw_tsss.fif, _meg.fif, _eeg.fif, _ieeg.fif, raw.fif.gz, raw_sss.fif.gz, raw_tsss.fif.gz, _meg.fif.gz, _eeg.fif.gz or _ieeg.fif.gz\n",
      "  eeg_trial.save(output_path, overwrite=True)\n"
     ]
    },
    {
     "name": "stdout",
     "output_type": "stream",
     "text": [
      "Closing C:\\Users\\marco\\Documents\\MASTER_DATA_SCIENTIST\\TFM_MSD\\SEED_FRA_OUTPUT\\NEUTRAL\\5_1_trial_2_signals.fif\n",
      "[done]\n"
     ]
    },
    {
     "name": "stderr",
     "output_type": "stream",
     "text": [
      "\r",
      "Processing:  14%|██████████▏                                                            | 3/21 [00:05<00:36,  2.03s/it]"
     ]
    },
    {
     "name": "stdout",
     "output_type": "stream",
     "text": [
      "1000.0\n",
      "Writing C:\\Users\\marco\\Documents\\MASTER_DATA_SCIENTIST\\TFM_MSD\\SEED_FRA_OUTPUT\\NEGATIVE\\5_1_trial_3_signals.fif\n"
     ]
    },
    {
     "name": "stderr",
     "output_type": "stream",
     "text": [
      "C:\\Users\\marco\\AppData\\Local\\Temp\\ipykernel_14260\\1741641518.py:44: RuntimeWarning: This filename (C:\\Users\\marco\\Documents\\MASTER_DATA_SCIENTIST\\TFM_MSD\\SEED_FRA_OUTPUT\\NEGATIVE\\5_1_trial_3_signals.fif) does not conform to MNE naming conventions. All raw files should end with raw.fif, raw_sss.fif, raw_tsss.fif, _meg.fif, _eeg.fif, _ieeg.fif, raw.fif.gz, raw_sss.fif.gz, raw_tsss.fif.gz, _meg.fif.gz, _eeg.fif.gz or _ieeg.fif.gz\n",
      "  eeg_trial.save(output_path, overwrite=True)\n"
     ]
    },
    {
     "name": "stdout",
     "output_type": "stream",
     "text": [
      "Closing C:\\Users\\marco\\Documents\\MASTER_DATA_SCIENTIST\\TFM_MSD\\SEED_FRA_OUTPUT\\NEGATIVE\\5_1_trial_3_signals.fif\n",
      "[done]\n"
     ]
    },
    {
     "name": "stderr",
     "output_type": "stream",
     "text": [
      "\r",
      "Processing:  19%|█████████████▌                                                         | 4/21 [00:08<00:37,  2.19s/it]"
     ]
    },
    {
     "name": "stdout",
     "output_type": "stream",
     "text": [
      "1000.0\n",
      "Writing C:\\Users\\marco\\Documents\\MASTER_DATA_SCIENTIST\\TFM_MSD\\SEED_FRA_OUTPUT\\POSITIVE\\5_1_trial_4_signals.fif\n"
     ]
    },
    {
     "name": "stderr",
     "output_type": "stream",
     "text": [
      "C:\\Users\\marco\\AppData\\Local\\Temp\\ipykernel_14260\\1741641518.py:44: RuntimeWarning: This filename (C:\\Users\\marco\\Documents\\MASTER_DATA_SCIENTIST\\TFM_MSD\\SEED_FRA_OUTPUT\\POSITIVE\\5_1_trial_4_signals.fif) does not conform to MNE naming conventions. All raw files should end with raw.fif, raw_sss.fif, raw_tsss.fif, _meg.fif, _eeg.fif, _ieeg.fif, raw.fif.gz, raw_sss.fif.gz, raw_tsss.fif.gz, _meg.fif.gz, _eeg.fif.gz or _ieeg.fif.gz\n",
      "  eeg_trial.save(output_path, overwrite=True)\n"
     ]
    },
    {
     "name": "stdout",
     "output_type": "stream",
     "text": [
      "Closing C:\\Users\\marco\\Documents\\MASTER_DATA_SCIENTIST\\TFM_MSD\\SEED_FRA_OUTPUT\\POSITIVE\\5_1_trial_4_signals.fif\n",
      "[done]\n"
     ]
    },
    {
     "name": "stderr",
     "output_type": "stream",
     "text": [
      "\r",
      "Processing:  24%|████████████████▉                                                      | 5/21 [00:10<00:33,  2.11s/it]"
     ]
    },
    {
     "name": "stdout",
     "output_type": "stream",
     "text": [
      "1000.0\n",
      "Writing C:\\Users\\marco\\Documents\\MASTER_DATA_SCIENTIST\\TFM_MSD\\SEED_FRA_OUTPUT\\NEUTRAL\\5_1_trial_5_signals.fif\n"
     ]
    },
    {
     "name": "stderr",
     "output_type": "stream",
     "text": [
      "C:\\Users\\marco\\AppData\\Local\\Temp\\ipykernel_14260\\1741641518.py:44: RuntimeWarning: This filename (C:\\Users\\marco\\Documents\\MASTER_DATA_SCIENTIST\\TFM_MSD\\SEED_FRA_OUTPUT\\NEUTRAL\\5_1_trial_5_signals.fif) does not conform to MNE naming conventions. All raw files should end with raw.fif, raw_sss.fif, raw_tsss.fif, _meg.fif, _eeg.fif, _ieeg.fif, raw.fif.gz, raw_sss.fif.gz, raw_tsss.fif.gz, _meg.fif.gz, _eeg.fif.gz or _ieeg.fif.gz\n",
      "  eeg_trial.save(output_path, overwrite=True)\n"
     ]
    },
    {
     "name": "stdout",
     "output_type": "stream",
     "text": [
      "Closing C:\\Users\\marco\\Documents\\MASTER_DATA_SCIENTIST\\TFM_MSD\\SEED_FRA_OUTPUT\\NEUTRAL\\5_1_trial_5_signals.fif\n",
      "[done]\n"
     ]
    },
    {
     "name": "stderr",
     "output_type": "stream",
     "text": [
      "\r",
      "Processing:  29%|████████████████████▎                                                  | 6/21 [00:12<00:30,  2.02s/it]"
     ]
    },
    {
     "name": "stdout",
     "output_type": "stream",
     "text": [
      "1000.0\n",
      "Writing C:\\Users\\marco\\Documents\\MASTER_DATA_SCIENTIST\\TFM_MSD\\SEED_FRA_OUTPUT\\NEGATIVE\\5_1_trial_6_signals.fif\n"
     ]
    },
    {
     "name": "stderr",
     "output_type": "stream",
     "text": [
      "C:\\Users\\marco\\AppData\\Local\\Temp\\ipykernel_14260\\1741641518.py:44: RuntimeWarning: This filename (C:\\Users\\marco\\Documents\\MASTER_DATA_SCIENTIST\\TFM_MSD\\SEED_FRA_OUTPUT\\NEGATIVE\\5_1_trial_6_signals.fif) does not conform to MNE naming conventions. All raw files should end with raw.fif, raw_sss.fif, raw_tsss.fif, _meg.fif, _eeg.fif, _ieeg.fif, raw.fif.gz, raw_sss.fif.gz, raw_tsss.fif.gz, _meg.fif.gz, _eeg.fif.gz or _ieeg.fif.gz\n",
      "  eeg_trial.save(output_path, overwrite=True)\n"
     ]
    },
    {
     "name": "stdout",
     "output_type": "stream",
     "text": [
      "Closing C:\\Users\\marco\\Documents\\MASTER_DATA_SCIENTIST\\TFM_MSD\\SEED_FRA_OUTPUT\\NEGATIVE\\5_1_trial_6_signals.fif\n",
      "[done]\n"
     ]
    },
    {
     "name": "stderr",
     "output_type": "stream",
     "text": [
      "\r",
      "Processing:  33%|███████████████████████▋                                               | 7/21 [00:14<00:27,  2.00s/it]"
     ]
    },
    {
     "name": "stdout",
     "output_type": "stream",
     "text": [
      "1000.0\n",
      "Writing C:\\Users\\marco\\Documents\\MASTER_DATA_SCIENTIST\\TFM_MSD\\SEED_FRA_OUTPUT\\NEUTRAL\\5_1_trial_7_signals.fif\n"
     ]
    },
    {
     "name": "stderr",
     "output_type": "stream",
     "text": [
      "C:\\Users\\marco\\AppData\\Local\\Temp\\ipykernel_14260\\1741641518.py:44: RuntimeWarning: This filename (C:\\Users\\marco\\Documents\\MASTER_DATA_SCIENTIST\\TFM_MSD\\SEED_FRA_OUTPUT\\NEUTRAL\\5_1_trial_7_signals.fif) does not conform to MNE naming conventions. All raw files should end with raw.fif, raw_sss.fif, raw_tsss.fif, _meg.fif, _eeg.fif, _ieeg.fif, raw.fif.gz, raw_sss.fif.gz, raw_tsss.fif.gz, _meg.fif.gz, _eeg.fif.gz or _ieeg.fif.gz\n",
      "  eeg_trial.save(output_path, overwrite=True)\n"
     ]
    },
    {
     "name": "stdout",
     "output_type": "stream",
     "text": [
      "Closing C:\\Users\\marco\\Documents\\MASTER_DATA_SCIENTIST\\TFM_MSD\\SEED_FRA_OUTPUT\\NEUTRAL\\5_1_trial_7_signals.fif\n",
      "[done]\n"
     ]
    },
    {
     "name": "stderr",
     "output_type": "stream",
     "text": [
      "\r",
      "Processing:  38%|███████████████████████████                                            | 8/21 [00:16<00:26,  2.03s/it]"
     ]
    },
    {
     "name": "stdout",
     "output_type": "stream",
     "text": [
      "1000.0\n",
      "Writing C:\\Users\\marco\\Documents\\MASTER_DATA_SCIENTIST\\TFM_MSD\\SEED_FRA_OUTPUT\\POSITIVE\\5_1_trial_8_signals.fif\n"
     ]
    },
    {
     "name": "stderr",
     "output_type": "stream",
     "text": [
      "C:\\Users\\marco\\AppData\\Local\\Temp\\ipykernel_14260\\1741641518.py:44: RuntimeWarning: This filename (C:\\Users\\marco\\Documents\\MASTER_DATA_SCIENTIST\\TFM_MSD\\SEED_FRA_OUTPUT\\POSITIVE\\5_1_trial_8_signals.fif) does not conform to MNE naming conventions. All raw files should end with raw.fif, raw_sss.fif, raw_tsss.fif, _meg.fif, _eeg.fif, _ieeg.fif, raw.fif.gz, raw_sss.fif.gz, raw_tsss.fif.gz, _meg.fif.gz, _eeg.fif.gz or _ieeg.fif.gz\n",
      "  eeg_trial.save(output_path, overwrite=True)\n"
     ]
    },
    {
     "name": "stdout",
     "output_type": "stream",
     "text": [
      "Closing C:\\Users\\marco\\Documents\\MASTER_DATA_SCIENTIST\\TFM_MSD\\SEED_FRA_OUTPUT\\POSITIVE\\5_1_trial_8_signals.fif\n",
      "[done]\n"
     ]
    },
    {
     "name": "stderr",
     "output_type": "stream",
     "text": [
      "\r",
      "Processing:  43%|██████████████████████████████▍                                        | 9/21 [00:18<00:24,  2.03s/it]"
     ]
    },
    {
     "name": "stdout",
     "output_type": "stream",
     "text": [
      "1000.0\n",
      "Writing C:\\Users\\marco\\Documents\\MASTER_DATA_SCIENTIST\\TFM_MSD\\SEED_FRA_OUTPUT\\NEGATIVE\\5_1_trial_9_signals.fif\n"
     ]
    },
    {
     "name": "stderr",
     "output_type": "stream",
     "text": [
      "C:\\Users\\marco\\AppData\\Local\\Temp\\ipykernel_14260\\1741641518.py:44: RuntimeWarning: This filename (C:\\Users\\marco\\Documents\\MASTER_DATA_SCIENTIST\\TFM_MSD\\SEED_FRA_OUTPUT\\NEGATIVE\\5_1_trial_9_signals.fif) does not conform to MNE naming conventions. All raw files should end with raw.fif, raw_sss.fif, raw_tsss.fif, _meg.fif, _eeg.fif, _ieeg.fif, raw.fif.gz, raw_sss.fif.gz, raw_tsss.fif.gz, _meg.fif.gz, _eeg.fif.gz or _ieeg.fif.gz\n",
      "  eeg_trial.save(output_path, overwrite=True)\n"
     ]
    },
    {
     "name": "stdout",
     "output_type": "stream",
     "text": [
      "Closing C:\\Users\\marco\\Documents\\MASTER_DATA_SCIENTIST\\TFM_MSD\\SEED_FRA_OUTPUT\\NEGATIVE\\5_1_trial_9_signals.fif\n",
      "[done]\n"
     ]
    },
    {
     "name": "stderr",
     "output_type": "stream",
     "text": [
      "\r",
      "Processing:  48%|█████████████████████████████████▎                                    | 10/21 [00:20<00:22,  2.08s/it]"
     ]
    },
    {
     "name": "stdout",
     "output_type": "stream",
     "text": [
      "1000.0\n",
      "Writing C:\\Users\\marco\\Documents\\MASTER_DATA_SCIENTIST\\TFM_MSD\\SEED_FRA_OUTPUT\\NEUTRAL\\5_1_trial_10_signals.fif\n"
     ]
    },
    {
     "name": "stderr",
     "output_type": "stream",
     "text": [
      "C:\\Users\\marco\\AppData\\Local\\Temp\\ipykernel_14260\\1741641518.py:44: RuntimeWarning: This filename (C:\\Users\\marco\\Documents\\MASTER_DATA_SCIENTIST\\TFM_MSD\\SEED_FRA_OUTPUT\\NEUTRAL\\5_1_trial_10_signals.fif) does not conform to MNE naming conventions. All raw files should end with raw.fif, raw_sss.fif, raw_tsss.fif, _meg.fif, _eeg.fif, _ieeg.fif, raw.fif.gz, raw_sss.fif.gz, raw_tsss.fif.gz, _meg.fif.gz, _eeg.fif.gz or _ieeg.fif.gz\n",
      "  eeg_trial.save(output_path, overwrite=True)\n"
     ]
    },
    {
     "name": "stdout",
     "output_type": "stream",
     "text": [
      "Closing C:\\Users\\marco\\Documents\\MASTER_DATA_SCIENTIST\\TFM_MSD\\SEED_FRA_OUTPUT\\NEUTRAL\\5_1_trial_10_signals.fif\n",
      "[done]\n"
     ]
    },
    {
     "name": "stderr",
     "output_type": "stream",
     "text": [
      "\r",
      "Processing:  52%|████████████████████████████████████▋                                 | 11/21 [00:22<00:19,  1.94s/it]"
     ]
    },
    {
     "name": "stdout",
     "output_type": "stream",
     "text": [
      "1000.0\n",
      "Writing C:\\Users\\marco\\Documents\\MASTER_DATA_SCIENTIST\\TFM_MSD\\SEED_FRA_OUTPUT\\POSITIVE\\5_1_trial_11_signals.fif\n"
     ]
    },
    {
     "name": "stderr",
     "output_type": "stream",
     "text": [
      "C:\\Users\\marco\\AppData\\Local\\Temp\\ipykernel_14260\\1741641518.py:44: RuntimeWarning: This filename (C:\\Users\\marco\\Documents\\MASTER_DATA_SCIENTIST\\TFM_MSD\\SEED_FRA_OUTPUT\\POSITIVE\\5_1_trial_11_signals.fif) does not conform to MNE naming conventions. All raw files should end with raw.fif, raw_sss.fif, raw_tsss.fif, _meg.fif, _eeg.fif, _ieeg.fif, raw.fif.gz, raw_sss.fif.gz, raw_tsss.fif.gz, _meg.fif.gz, _eeg.fif.gz or _ieeg.fif.gz\n",
      "  eeg_trial.save(output_path, overwrite=True)\n"
     ]
    },
    {
     "name": "stdout",
     "output_type": "stream",
     "text": [
      "Closing C:\\Users\\marco\\Documents\\MASTER_DATA_SCIENTIST\\TFM_MSD\\SEED_FRA_OUTPUT\\POSITIVE\\5_1_trial_11_signals.fif\n",
      "[done]\n"
     ]
    },
    {
     "name": "stderr",
     "output_type": "stream",
     "text": [
      "\r",
      "Processing:  57%|████████████████████████████████████████                              | 12/21 [00:24<00:17,  1.96s/it]"
     ]
    },
    {
     "name": "stdout",
     "output_type": "stream",
     "text": [
      "1000.0\n",
      "Writing C:\\Users\\marco\\Documents\\MASTER_DATA_SCIENTIST\\TFM_MSD\\SEED_FRA_OUTPUT\\POSITIVE\\5_1_trial_12_signals.fif\n"
     ]
    },
    {
     "name": "stderr",
     "output_type": "stream",
     "text": [
      "C:\\Users\\marco\\AppData\\Local\\Temp\\ipykernel_14260\\1741641518.py:44: RuntimeWarning: This filename (C:\\Users\\marco\\Documents\\MASTER_DATA_SCIENTIST\\TFM_MSD\\SEED_FRA_OUTPUT\\POSITIVE\\5_1_trial_12_signals.fif) does not conform to MNE naming conventions. All raw files should end with raw.fif, raw_sss.fif, raw_tsss.fif, _meg.fif, _eeg.fif, _ieeg.fif, raw.fif.gz, raw_sss.fif.gz, raw_tsss.fif.gz, _meg.fif.gz, _eeg.fif.gz or _ieeg.fif.gz\n",
      "  eeg_trial.save(output_path, overwrite=True)\n"
     ]
    },
    {
     "name": "stdout",
     "output_type": "stream",
     "text": [
      "Closing C:\\Users\\marco\\Documents\\MASTER_DATA_SCIENTIST\\TFM_MSD\\SEED_FRA_OUTPUT\\POSITIVE\\5_1_trial_12_signals.fif\n",
      "[done]\n"
     ]
    },
    {
     "name": "stderr",
     "output_type": "stream",
     "text": [
      "\r",
      "Processing:  62%|███████████████████████████████████████████▎                          | 13/21 [00:25<00:14,  1.84s/it]"
     ]
    },
    {
     "name": "stdout",
     "output_type": "stream",
     "text": [
      "1000.0\n",
      "Writing C:\\Users\\marco\\Documents\\MASTER_DATA_SCIENTIST\\TFM_MSD\\SEED_FRA_OUTPUT\\NEUTRAL\\5_1_trial_13_signals.fif\n"
     ]
    },
    {
     "name": "stderr",
     "output_type": "stream",
     "text": [
      "C:\\Users\\marco\\AppData\\Local\\Temp\\ipykernel_14260\\1741641518.py:44: RuntimeWarning: This filename (C:\\Users\\marco\\Documents\\MASTER_DATA_SCIENTIST\\TFM_MSD\\SEED_FRA_OUTPUT\\NEUTRAL\\5_1_trial_13_signals.fif) does not conform to MNE naming conventions. All raw files should end with raw.fif, raw_sss.fif, raw_tsss.fif, _meg.fif, _eeg.fif, _ieeg.fif, raw.fif.gz, raw_sss.fif.gz, raw_tsss.fif.gz, _meg.fif.gz, _eeg.fif.gz or _ieeg.fif.gz\n",
      "  eeg_trial.save(output_path, overwrite=True)\n"
     ]
    },
    {
     "name": "stdout",
     "output_type": "stream",
     "text": [
      "Closing C:\\Users\\marco\\Documents\\MASTER_DATA_SCIENTIST\\TFM_MSD\\SEED_FRA_OUTPUT\\NEUTRAL\\5_1_trial_13_signals.fif\n",
      "[done]\n"
     ]
    },
    {
     "name": "stderr",
     "output_type": "stream",
     "text": [
      "\r",
      "Processing:  67%|██████████████████████████████████████████████▋                       | 14/21 [00:27<00:13,  1.87s/it]"
     ]
    },
    {
     "name": "stdout",
     "output_type": "stream",
     "text": [
      "1000.0\n",
      "Writing C:\\Users\\marco\\Documents\\MASTER_DATA_SCIENTIST\\TFM_MSD\\SEED_FRA_OUTPUT\\NEGATIVE\\5_1_trial_14_signals.fif\n"
     ]
    },
    {
     "name": "stderr",
     "output_type": "stream",
     "text": [
      "C:\\Users\\marco\\AppData\\Local\\Temp\\ipykernel_14260\\1741641518.py:44: RuntimeWarning: This filename (C:\\Users\\marco\\Documents\\MASTER_DATA_SCIENTIST\\TFM_MSD\\SEED_FRA_OUTPUT\\NEGATIVE\\5_1_trial_14_signals.fif) does not conform to MNE naming conventions. All raw files should end with raw.fif, raw_sss.fif, raw_tsss.fif, _meg.fif, _eeg.fif, _ieeg.fif, raw.fif.gz, raw_sss.fif.gz, raw_tsss.fif.gz, _meg.fif.gz, _eeg.fif.gz or _ieeg.fif.gz\n",
      "  eeg_trial.save(output_path, overwrite=True)\n"
     ]
    },
    {
     "name": "stdout",
     "output_type": "stream",
     "text": [
      "Closing C:\\Users\\marco\\Documents\\MASTER_DATA_SCIENTIST\\TFM_MSD\\SEED_FRA_OUTPUT\\NEGATIVE\\5_1_trial_14_signals.fif\n",
      "[done]\n"
     ]
    },
    {
     "name": "stderr",
     "output_type": "stream",
     "text": [
      "\r",
      "Processing:  71%|██████████████████████████████████████████████████                    | 15/21 [00:29<00:11,  1.93s/it]"
     ]
    },
    {
     "name": "stdout",
     "output_type": "stream",
     "text": [
      "1000.0\n",
      "Writing C:\\Users\\marco\\Documents\\MASTER_DATA_SCIENTIST\\TFM_MSD\\SEED_FRA_OUTPUT\\NEGATIVE\\5_1_trial_15_signals.fif\n",
      "Closing C:\\Users\\marco\\Documents\\MASTER_DATA_SCIENTIST\\TFM_MSD\\SEED_FRA_OUTPUT\\NEGATIVE\\5_1_trial_15_signals.fif\n",
      "[done]\n"
     ]
    },
    {
     "name": "stderr",
     "output_type": "stream",
     "text": [
      "C:\\Users\\marco\\AppData\\Local\\Temp\\ipykernel_14260\\1741641518.py:44: RuntimeWarning: This filename (C:\\Users\\marco\\Documents\\MASTER_DATA_SCIENTIST\\TFM_MSD\\SEED_FRA_OUTPUT\\NEGATIVE\\5_1_trial_15_signals.fif) does not conform to MNE naming conventions. All raw files should end with raw.fif, raw_sss.fif, raw_tsss.fif, _meg.fif, _eeg.fif, _ieeg.fif, raw.fif.gz, raw_sss.fif.gz, raw_tsss.fif.gz, _meg.fif.gz, _eeg.fif.gz or _ieeg.fif.gz\n",
      "  eeg_trial.save(output_path, overwrite=True)\n",
      "\r",
      "Processing:  76%|█████████████████████████████████████████████████████▎                | 16/21 [00:31<00:09,  1.92s/it]"
     ]
    },
    {
     "name": "stdout",
     "output_type": "stream",
     "text": [
      "1000.0\n",
      "Writing C:\\Users\\marco\\Documents\\MASTER_DATA_SCIENTIST\\TFM_MSD\\SEED_FRA_OUTPUT\\NEUTRAL\\5_1_trial_16_signals.fif\n"
     ]
    },
    {
     "name": "stderr",
     "output_type": "stream",
     "text": [
      "C:\\Users\\marco\\AppData\\Local\\Temp\\ipykernel_14260\\1741641518.py:44: RuntimeWarning: This filename (C:\\Users\\marco\\Documents\\MASTER_DATA_SCIENTIST\\TFM_MSD\\SEED_FRA_OUTPUT\\NEUTRAL\\5_1_trial_16_signals.fif) does not conform to MNE naming conventions. All raw files should end with raw.fif, raw_sss.fif, raw_tsss.fif, _meg.fif, _eeg.fif, _ieeg.fif, raw.fif.gz, raw_sss.fif.gz, raw_tsss.fif.gz, _meg.fif.gz, _eeg.fif.gz or _ieeg.fif.gz\n",
      "  eeg_trial.save(output_path, overwrite=True)\n"
     ]
    },
    {
     "name": "stdout",
     "output_type": "stream",
     "text": [
      "Closing C:\\Users\\marco\\Documents\\MASTER_DATA_SCIENTIST\\TFM_MSD\\SEED_FRA_OUTPUT\\NEUTRAL\\5_1_trial_16_signals.fif\n",
      "[done]\n"
     ]
    },
    {
     "name": "stderr",
     "output_type": "stream",
     "text": [
      "\r",
      "Processing:  81%|████████████████████████████████████████████████████████▋             | 17/21 [00:33<00:07,  1.99s/it]"
     ]
    },
    {
     "name": "stdout",
     "output_type": "stream",
     "text": [
      "1000.0\n",
      "Writing C:\\Users\\marco\\Documents\\MASTER_DATA_SCIENTIST\\TFM_MSD\\SEED_FRA_OUTPUT\\POSITIVE\\5_1_trial_17_signals.fif\n"
     ]
    },
    {
     "name": "stderr",
     "output_type": "stream",
     "text": [
      "C:\\Users\\marco\\AppData\\Local\\Temp\\ipykernel_14260\\1741641518.py:44: RuntimeWarning: This filename (C:\\Users\\marco\\Documents\\MASTER_DATA_SCIENTIST\\TFM_MSD\\SEED_FRA_OUTPUT\\POSITIVE\\5_1_trial_17_signals.fif) does not conform to MNE naming conventions. All raw files should end with raw.fif, raw_sss.fif, raw_tsss.fif, _meg.fif, _eeg.fif, _ieeg.fif, raw.fif.gz, raw_sss.fif.gz, raw_tsss.fif.gz, _meg.fif.gz, _eeg.fif.gz or _ieeg.fif.gz\n",
      "  eeg_trial.save(output_path, overwrite=True)\n"
     ]
    },
    {
     "name": "stdout",
     "output_type": "stream",
     "text": [
      "Closing C:\\Users\\marco\\Documents\\MASTER_DATA_SCIENTIST\\TFM_MSD\\SEED_FRA_OUTPUT\\POSITIVE\\5_1_trial_17_signals.fif\n",
      "[done]\n"
     ]
    },
    {
     "name": "stderr",
     "output_type": "stream",
     "text": [
      "\r",
      "Processing:  86%|████████████████████████████████████████████████████████████          | 18/21 [00:35<00:06,  2.01s/it]"
     ]
    },
    {
     "name": "stdout",
     "output_type": "stream",
     "text": [
      "1000.0\n",
      "Writing C:\\Users\\marco\\Documents\\MASTER_DATA_SCIENTIST\\TFM_MSD\\SEED_FRA_OUTPUT\\NEGATIVE\\5_1_trial_18_signals.fif\n"
     ]
    },
    {
     "name": "stderr",
     "output_type": "stream",
     "text": [
      "C:\\Users\\marco\\AppData\\Local\\Temp\\ipykernel_14260\\1741641518.py:44: RuntimeWarning: This filename (C:\\Users\\marco\\Documents\\MASTER_DATA_SCIENTIST\\TFM_MSD\\SEED_FRA_OUTPUT\\NEGATIVE\\5_1_trial_18_signals.fif) does not conform to MNE naming conventions. All raw files should end with raw.fif, raw_sss.fif, raw_tsss.fif, _meg.fif, _eeg.fif, _ieeg.fif, raw.fif.gz, raw_sss.fif.gz, raw_tsss.fif.gz, _meg.fif.gz, _eeg.fif.gz or _ieeg.fif.gz\n",
      "  eeg_trial.save(output_path, overwrite=True)\n"
     ]
    },
    {
     "name": "stdout",
     "output_type": "stream",
     "text": [
      "Closing C:\\Users\\marco\\Documents\\MASTER_DATA_SCIENTIST\\TFM_MSD\\SEED_FRA_OUTPUT\\NEGATIVE\\5_1_trial_18_signals.fif\n",
      "[done]\n"
     ]
    },
    {
     "name": "stderr",
     "output_type": "stream",
     "text": [
      "\r",
      "Processing:  90%|███████████████████████████████████████████████████████████████▎      | 19/21 [00:37<00:03,  1.98s/it]"
     ]
    },
    {
     "name": "stdout",
     "output_type": "stream",
     "text": [
      "1000.0\n",
      "Writing C:\\Users\\marco\\Documents\\MASTER_DATA_SCIENTIST\\TFM_MSD\\SEED_FRA_OUTPUT\\NEUTRAL\\5_1_trial_19_signals.fif\n",
      "Closing C:\\Users\\marco\\Documents\\MASTER_DATA_SCIENTIST\\TFM_MSD\\SEED_FRA_OUTPUT\\NEUTRAL\\5_1_trial_19_signals.fif\n"
     ]
    },
    {
     "name": "stderr",
     "output_type": "stream",
     "text": [
      "C:\\Users\\marco\\AppData\\Local\\Temp\\ipykernel_14260\\1741641518.py:44: RuntimeWarning: This filename (C:\\Users\\marco\\Documents\\MASTER_DATA_SCIENTIST\\TFM_MSD\\SEED_FRA_OUTPUT\\NEUTRAL\\5_1_trial_19_signals.fif) does not conform to MNE naming conventions. All raw files should end with raw.fif, raw_sss.fif, raw_tsss.fif, _meg.fif, _eeg.fif, _ieeg.fif, raw.fif.gz, raw_sss.fif.gz, raw_tsss.fif.gz, _meg.fif.gz, _eeg.fif.gz or _ieeg.fif.gz\n",
      "  eeg_trial.save(output_path, overwrite=True)\n"
     ]
    },
    {
     "name": "stdout",
     "output_type": "stream",
     "text": [
      "[done]\n"
     ]
    },
    {
     "name": "stderr",
     "output_type": "stream",
     "text": [
      "\r",
      "Processing:  95%|██████████████████████████████████████████████████████████████████▋   | 20/21 [00:39<00:01,  1.96s/it]"
     ]
    },
    {
     "name": "stdout",
     "output_type": "stream",
     "text": [
      "1000.0\n",
      "Writing C:\\Users\\marco\\Documents\\MASTER_DATA_SCIENTIST\\TFM_MSD\\SEED_FRA_OUTPUT\\POSITIVE\\5_1_trial_20_signals.fif\n"
     ]
    },
    {
     "name": "stderr",
     "output_type": "stream",
     "text": [
      "C:\\Users\\marco\\AppData\\Local\\Temp\\ipykernel_14260\\1741641518.py:44: RuntimeWarning: This filename (C:\\Users\\marco\\Documents\\MASTER_DATA_SCIENTIST\\TFM_MSD\\SEED_FRA_OUTPUT\\POSITIVE\\5_1_trial_20_signals.fif) does not conform to MNE naming conventions. All raw files should end with raw.fif, raw_sss.fif, raw_tsss.fif, _meg.fif, _eeg.fif, _ieeg.fif, raw.fif.gz, raw_sss.fif.gz, raw_tsss.fif.gz, _meg.fif.gz, _eeg.fif.gz or _ieeg.fif.gz\n",
      "  eeg_trial.save(output_path, overwrite=True)\n"
     ]
    },
    {
     "name": "stdout",
     "output_type": "stream",
     "text": [
      "Closing C:\\Users\\marco\\Documents\\MASTER_DATA_SCIENTIST\\TFM_MSD\\SEED_FRA_OUTPUT\\POSITIVE\\5_1_trial_20_signals.fif\n",
      "[done]\n"
     ]
    },
    {
     "name": "stderr",
     "output_type": "stream",
     "text": [
      "Processing: 100%|██████████████████████████████████████████████████████████████████████| 21/21 [00:41<00:00,  1.99s/it]\n"
     ]
    },
    {
     "name": "stdout",
     "output_type": "stream",
     "text": [
      "Reading 0 ... 3811919  =      0.000 ...  3811.919 secs...\n"
     ]
    },
    {
     "name": "stderr",
     "output_type": "stream",
     "text": [
      "C:\\Users\\marco\\AppData\\Local\\Temp\\ipykernel_14260\\1741641518.py:4: RuntimeWarning:   Could not parse meas date from the header. Setting to None.\n",
      "  eeg_raw = mne.io.read_raw_cnt(_path, preload=True)\n"
     ]
    },
    {
     "name": "stdout",
     "output_type": "stream",
     "text": [
      "Filtering raw data in 1 contiguous segment\n",
      "Setting up band-pass filter from 0.5 - 55 Hz\n",
      "\n",
      "FIR filter parameters\n",
      "---------------------\n",
      "Designing a one-pass, zero-phase, non-causal bandpass filter:\n",
      "- Windowed time-domain design (firwin) method\n",
      "- Hamming window with 0.0194 passband ripple and 53 dB stopband attenuation\n",
      "- Lower passband edge: 0.50\n",
      "- Lower transition bandwidth: 0.50 Hz (-6 dB cutoff frequency: 0.25 Hz)\n",
      "- Upper passband edge: 55.00 Hz\n",
      "- Upper transition bandwidth: 13.75 Hz (-6 dB cutoff frequency: 61.88 Hz)\n",
      "- Filter length: 6601 samples (6.601 sec)\n",
      "\n"
     ]
    },
    {
     "name": "stderr",
     "output_type": "stream",
     "text": [
      "\r",
      "Processing:   0%|                                                                               | 0/21 [00:00<?, ?it/s]"
     ]
    },
    {
     "name": "stdout",
     "output_type": "stream",
     "text": [
      "1000.0\n",
      "Writing C:\\Users\\marco\\Documents\\MASTER_DATA_SCIENTIST\\TFM_MSD\\SEED_FRA_OUTPUT\\POSITIVE\\5_2_trial_0_signals.fif\n"
     ]
    },
    {
     "name": "stderr",
     "output_type": "stream",
     "text": [
      "C:\\Users\\marco\\AppData\\Local\\Temp\\ipykernel_14260\\1741641518.py:44: RuntimeWarning: This filename (C:\\Users\\marco\\Documents\\MASTER_DATA_SCIENTIST\\TFM_MSD\\SEED_FRA_OUTPUT\\POSITIVE\\5_2_trial_0_signals.fif) does not conform to MNE naming conventions. All raw files should end with raw.fif, raw_sss.fif, raw_tsss.fif, _meg.fif, _eeg.fif, _ieeg.fif, raw.fif.gz, raw_sss.fif.gz, raw_tsss.fif.gz, _meg.fif.gz, _eeg.fif.gz or _ieeg.fif.gz\n",
      "  eeg_trial.save(output_path, overwrite=True)\n"
     ]
    },
    {
     "name": "stdout",
     "output_type": "stream",
     "text": [
      "Closing C:\\Users\\marco\\Documents\\MASTER_DATA_SCIENTIST\\TFM_MSD\\SEED_FRA_OUTPUT\\POSITIVE\\5_2_trial_0_signals.fif\n",
      "[done]\n"
     ]
    },
    {
     "name": "stderr",
     "output_type": "stream",
     "text": [
      "\r",
      "Processing:   5%|███▍                                                                   | 1/21 [00:01<00:35,  1.78s/it]"
     ]
    },
    {
     "name": "stdout",
     "output_type": "stream",
     "text": [
      "1000.0\n",
      "Writing C:\\Users\\marco\\Documents\\MASTER_DATA_SCIENTIST\\TFM_MSD\\SEED_FRA_OUTPUT\\NEGATIVE\\5_2_trial_1_signals.fif\n"
     ]
    },
    {
     "name": "stderr",
     "output_type": "stream",
     "text": [
      "C:\\Users\\marco\\AppData\\Local\\Temp\\ipykernel_14260\\1741641518.py:44: RuntimeWarning: This filename (C:\\Users\\marco\\Documents\\MASTER_DATA_SCIENTIST\\TFM_MSD\\SEED_FRA_OUTPUT\\NEGATIVE\\5_2_trial_1_signals.fif) does not conform to MNE naming conventions. All raw files should end with raw.fif, raw_sss.fif, raw_tsss.fif, _meg.fif, _eeg.fif, _ieeg.fif, raw.fif.gz, raw_sss.fif.gz, raw_tsss.fif.gz, _meg.fif.gz, _eeg.fif.gz or _ieeg.fif.gz\n",
      "  eeg_trial.save(output_path, overwrite=True)\n"
     ]
    },
    {
     "name": "stdout",
     "output_type": "stream",
     "text": [
      "Closing C:\\Users\\marco\\Documents\\MASTER_DATA_SCIENTIST\\TFM_MSD\\SEED_FRA_OUTPUT\\NEGATIVE\\5_2_trial_1_signals.fif\n",
      "[done]\n"
     ]
    },
    {
     "name": "stderr",
     "output_type": "stream",
     "text": [
      "\r",
      "Processing:  10%|██████▊                                                                | 2/21 [00:03<00:35,  1.85s/it]"
     ]
    },
    {
     "name": "stdout",
     "output_type": "stream",
     "text": [
      "1000.0\n",
      "Writing C:\\Users\\marco\\Documents\\MASTER_DATA_SCIENTIST\\TFM_MSD\\SEED_FRA_OUTPUT\\NEUTRAL\\5_2_trial_2_signals.fif\n"
     ]
    },
    {
     "name": "stderr",
     "output_type": "stream",
     "text": [
      "C:\\Users\\marco\\AppData\\Local\\Temp\\ipykernel_14260\\1741641518.py:44: RuntimeWarning: This filename (C:\\Users\\marco\\Documents\\MASTER_DATA_SCIENTIST\\TFM_MSD\\SEED_FRA_OUTPUT\\NEUTRAL\\5_2_trial_2_signals.fif) does not conform to MNE naming conventions. All raw files should end with raw.fif, raw_sss.fif, raw_tsss.fif, _meg.fif, _eeg.fif, _ieeg.fif, raw.fif.gz, raw_sss.fif.gz, raw_tsss.fif.gz, _meg.fif.gz, _eeg.fif.gz or _ieeg.fif.gz\n",
      "  eeg_trial.save(output_path, overwrite=True)\n"
     ]
    },
    {
     "name": "stdout",
     "output_type": "stream",
     "text": [
      "Closing C:\\Users\\marco\\Documents\\MASTER_DATA_SCIENTIST\\TFM_MSD\\SEED_FRA_OUTPUT\\NEUTRAL\\5_2_trial_2_signals.fif\n",
      "[done]\n"
     ]
    },
    {
     "name": "stderr",
     "output_type": "stream",
     "text": [
      "\r",
      "Processing:  14%|██████████▏                                                            | 3/21 [00:05<00:36,  2.04s/it]"
     ]
    },
    {
     "name": "stdout",
     "output_type": "stream",
     "text": [
      "1000.0\n",
      "Writing C:\\Users\\marco\\Documents\\MASTER_DATA_SCIENTIST\\TFM_MSD\\SEED_FRA_OUTPUT\\NEGATIVE\\5_2_trial_3_signals.fif\n"
     ]
    },
    {
     "name": "stderr",
     "output_type": "stream",
     "text": [
      "C:\\Users\\marco\\AppData\\Local\\Temp\\ipykernel_14260\\1741641518.py:44: RuntimeWarning: This filename (C:\\Users\\marco\\Documents\\MASTER_DATA_SCIENTIST\\TFM_MSD\\SEED_FRA_OUTPUT\\NEGATIVE\\5_2_trial_3_signals.fif) does not conform to MNE naming conventions. All raw files should end with raw.fif, raw_sss.fif, raw_tsss.fif, _meg.fif, _eeg.fif, _ieeg.fif, raw.fif.gz, raw_sss.fif.gz, raw_tsss.fif.gz, _meg.fif.gz, _eeg.fif.gz or _ieeg.fif.gz\n",
      "  eeg_trial.save(output_path, overwrite=True)\n"
     ]
    },
    {
     "name": "stdout",
     "output_type": "stream",
     "text": [
      "Closing C:\\Users\\marco\\Documents\\MASTER_DATA_SCIENTIST\\TFM_MSD\\SEED_FRA_OUTPUT\\NEGATIVE\\5_2_trial_3_signals.fif\n",
      "[done]\n"
     ]
    },
    {
     "name": "stderr",
     "output_type": "stream",
     "text": [
      "\r",
      "Processing:  19%|█████████████▌                                                         | 4/21 [00:08<00:38,  2.26s/it]"
     ]
    },
    {
     "name": "stdout",
     "output_type": "stream",
     "text": [
      "1000.0\n",
      "Writing C:\\Users\\marco\\Documents\\MASTER_DATA_SCIENTIST\\TFM_MSD\\SEED_FRA_OUTPUT\\POSITIVE\\5_2_trial_4_signals.fif\n"
     ]
    },
    {
     "name": "stderr",
     "output_type": "stream",
     "text": [
      "C:\\Users\\marco\\AppData\\Local\\Temp\\ipykernel_14260\\1741641518.py:44: RuntimeWarning: This filename (C:\\Users\\marco\\Documents\\MASTER_DATA_SCIENTIST\\TFM_MSD\\SEED_FRA_OUTPUT\\POSITIVE\\5_2_trial_4_signals.fif) does not conform to MNE naming conventions. All raw files should end with raw.fif, raw_sss.fif, raw_tsss.fif, _meg.fif, _eeg.fif, _ieeg.fif, raw.fif.gz, raw_sss.fif.gz, raw_tsss.fif.gz, _meg.fif.gz, _eeg.fif.gz or _ieeg.fif.gz\n",
      "  eeg_trial.save(output_path, overwrite=True)\n"
     ]
    },
    {
     "name": "stdout",
     "output_type": "stream",
     "text": [
      "Closing C:\\Users\\marco\\Documents\\MASTER_DATA_SCIENTIST\\TFM_MSD\\SEED_FRA_OUTPUT\\POSITIVE\\5_2_trial_4_signals.fif\n",
      "[done]\n"
     ]
    },
    {
     "name": "stderr",
     "output_type": "stream",
     "text": [
      "\r",
      "Processing:  24%|████████████████▉                                                      | 5/21 [00:10<00:34,  2.17s/it]"
     ]
    },
    {
     "name": "stdout",
     "output_type": "stream",
     "text": [
      "1000.0\n",
      "Writing C:\\Users\\marco\\Documents\\MASTER_DATA_SCIENTIST\\TFM_MSD\\SEED_FRA_OUTPUT\\NEUTRAL\\5_2_trial_5_signals.fif\n"
     ]
    },
    {
     "name": "stderr",
     "output_type": "stream",
     "text": [
      "C:\\Users\\marco\\AppData\\Local\\Temp\\ipykernel_14260\\1741641518.py:44: RuntimeWarning: This filename (C:\\Users\\marco\\Documents\\MASTER_DATA_SCIENTIST\\TFM_MSD\\SEED_FRA_OUTPUT\\NEUTRAL\\5_2_trial_5_signals.fif) does not conform to MNE naming conventions. All raw files should end with raw.fif, raw_sss.fif, raw_tsss.fif, _meg.fif, _eeg.fif, _ieeg.fif, raw.fif.gz, raw_sss.fif.gz, raw_tsss.fif.gz, _meg.fif.gz, _eeg.fif.gz or _ieeg.fif.gz\n",
      "  eeg_trial.save(output_path, overwrite=True)\n"
     ]
    },
    {
     "name": "stdout",
     "output_type": "stream",
     "text": [
      "Closing C:\\Users\\marco\\Documents\\MASTER_DATA_SCIENTIST\\TFM_MSD\\SEED_FRA_OUTPUT\\NEUTRAL\\5_2_trial_5_signals.fif\n",
      "[done]\n"
     ]
    },
    {
     "name": "stderr",
     "output_type": "stream",
     "text": [
      "\r",
      "Processing:  29%|████████████████████▎                                                  | 6/21 [00:12<00:30,  2.02s/it]"
     ]
    },
    {
     "name": "stdout",
     "output_type": "stream",
     "text": [
      "1000.0\n",
      "Writing C:\\Users\\marco\\Documents\\MASTER_DATA_SCIENTIST\\TFM_MSD\\SEED_FRA_OUTPUT\\NEGATIVE\\5_2_trial_6_signals.fif\n"
     ]
    },
    {
     "name": "stderr",
     "output_type": "stream",
     "text": [
      "C:\\Users\\marco\\AppData\\Local\\Temp\\ipykernel_14260\\1741641518.py:44: RuntimeWarning: This filename (C:\\Users\\marco\\Documents\\MASTER_DATA_SCIENTIST\\TFM_MSD\\SEED_FRA_OUTPUT\\NEGATIVE\\5_2_trial_6_signals.fif) does not conform to MNE naming conventions. All raw files should end with raw.fif, raw_sss.fif, raw_tsss.fif, _meg.fif, _eeg.fif, _ieeg.fif, raw.fif.gz, raw_sss.fif.gz, raw_tsss.fif.gz, _meg.fif.gz, _eeg.fif.gz or _ieeg.fif.gz\n",
      "  eeg_trial.save(output_path, overwrite=True)\n"
     ]
    },
    {
     "name": "stdout",
     "output_type": "stream",
     "text": [
      "Closing C:\\Users\\marco\\Documents\\MASTER_DATA_SCIENTIST\\TFM_MSD\\SEED_FRA_OUTPUT\\NEGATIVE\\5_2_trial_6_signals.fif\n",
      "[done]\n"
     ]
    },
    {
     "name": "stderr",
     "output_type": "stream",
     "text": [
      "\r",
      "Processing:  33%|███████████████████████▋                                               | 7/21 [00:14<00:30,  2.15s/it]"
     ]
    },
    {
     "name": "stdout",
     "output_type": "stream",
     "text": [
      "1000.0\n",
      "Writing C:\\Users\\marco\\Documents\\MASTER_DATA_SCIENTIST\\TFM_MSD\\SEED_FRA_OUTPUT\\NEUTRAL\\5_2_trial_7_signals.fif\n"
     ]
    },
    {
     "name": "stderr",
     "output_type": "stream",
     "text": [
      "C:\\Users\\marco\\AppData\\Local\\Temp\\ipykernel_14260\\1741641518.py:44: RuntimeWarning: This filename (C:\\Users\\marco\\Documents\\MASTER_DATA_SCIENTIST\\TFM_MSD\\SEED_FRA_OUTPUT\\NEUTRAL\\5_2_trial_7_signals.fif) does not conform to MNE naming conventions. All raw files should end with raw.fif, raw_sss.fif, raw_tsss.fif, _meg.fif, _eeg.fif, _ieeg.fif, raw.fif.gz, raw_sss.fif.gz, raw_tsss.fif.gz, _meg.fif.gz, _eeg.fif.gz or _ieeg.fif.gz\n",
      "  eeg_trial.save(output_path, overwrite=True)\n"
     ]
    },
    {
     "name": "stdout",
     "output_type": "stream",
     "text": [
      "Closing C:\\Users\\marco\\Documents\\MASTER_DATA_SCIENTIST\\TFM_MSD\\SEED_FRA_OUTPUT\\NEUTRAL\\5_2_trial_7_signals.fif\n",
      "[done]\n"
     ]
    },
    {
     "name": "stderr",
     "output_type": "stream",
     "text": [
      "\r",
      "Processing:  38%|███████████████████████████                                            | 8/21 [00:16<00:28,  2.17s/it]"
     ]
    },
    {
     "name": "stdout",
     "output_type": "stream",
     "text": [
      "1000.0\n",
      "Writing C:\\Users\\marco\\Documents\\MASTER_DATA_SCIENTIST\\TFM_MSD\\SEED_FRA_OUTPUT\\POSITIVE\\5_2_trial_8_signals.fif\n"
     ]
    },
    {
     "name": "stderr",
     "output_type": "stream",
     "text": [
      "C:\\Users\\marco\\AppData\\Local\\Temp\\ipykernel_14260\\1741641518.py:44: RuntimeWarning: This filename (C:\\Users\\marco\\Documents\\MASTER_DATA_SCIENTIST\\TFM_MSD\\SEED_FRA_OUTPUT\\POSITIVE\\5_2_trial_8_signals.fif) does not conform to MNE naming conventions. All raw files should end with raw.fif, raw_sss.fif, raw_tsss.fif, _meg.fif, _eeg.fif, _ieeg.fif, raw.fif.gz, raw_sss.fif.gz, raw_tsss.fif.gz, _meg.fif.gz, _eeg.fif.gz or _ieeg.fif.gz\n",
      "  eeg_trial.save(output_path, overwrite=True)\n"
     ]
    },
    {
     "name": "stdout",
     "output_type": "stream",
     "text": [
      "Closing C:\\Users\\marco\\Documents\\MASTER_DATA_SCIENTIST\\TFM_MSD\\SEED_FRA_OUTPUT\\POSITIVE\\5_2_trial_8_signals.fif\n",
      "[done]\n"
     ]
    },
    {
     "name": "stderr",
     "output_type": "stream",
     "text": [
      "\r",
      "Processing:  43%|██████████████████████████████▍                                        | 9/21 [00:18<00:25,  2.13s/it]"
     ]
    },
    {
     "name": "stdout",
     "output_type": "stream",
     "text": [
      "1000.0\n",
      "Writing C:\\Users\\marco\\Documents\\MASTER_DATA_SCIENTIST\\TFM_MSD\\SEED_FRA_OUTPUT\\NEGATIVE\\5_2_trial_9_signals.fif\n"
     ]
    },
    {
     "name": "stderr",
     "output_type": "stream",
     "text": [
      "C:\\Users\\marco\\AppData\\Local\\Temp\\ipykernel_14260\\1741641518.py:44: RuntimeWarning: This filename (C:\\Users\\marco\\Documents\\MASTER_DATA_SCIENTIST\\TFM_MSD\\SEED_FRA_OUTPUT\\NEGATIVE\\5_2_trial_9_signals.fif) does not conform to MNE naming conventions. All raw files should end with raw.fif, raw_sss.fif, raw_tsss.fif, _meg.fif, _eeg.fif, _ieeg.fif, raw.fif.gz, raw_sss.fif.gz, raw_tsss.fif.gz, _meg.fif.gz, _eeg.fif.gz or _ieeg.fif.gz\n",
      "  eeg_trial.save(output_path, overwrite=True)\n"
     ]
    },
    {
     "name": "stdout",
     "output_type": "stream",
     "text": [
      "Closing C:\\Users\\marco\\Documents\\MASTER_DATA_SCIENTIST\\TFM_MSD\\SEED_FRA_OUTPUT\\NEGATIVE\\5_2_trial_9_signals.fif\n",
      "[done]\n"
     ]
    },
    {
     "name": "stderr",
     "output_type": "stream",
     "text": [
      "\r",
      "Processing:  48%|█████████████████████████████████▎                                    | 10/21 [00:20<00:22,  2.05s/it]"
     ]
    },
    {
     "name": "stdout",
     "output_type": "stream",
     "text": [
      "1000.0\n",
      "Writing C:\\Users\\marco\\Documents\\MASTER_DATA_SCIENTIST\\TFM_MSD\\SEED_FRA_OUTPUT\\NEUTRAL\\5_2_trial_10_signals.fif\n"
     ]
    },
    {
     "name": "stderr",
     "output_type": "stream",
     "text": [
      "C:\\Users\\marco\\AppData\\Local\\Temp\\ipykernel_14260\\1741641518.py:44: RuntimeWarning: This filename (C:\\Users\\marco\\Documents\\MASTER_DATA_SCIENTIST\\TFM_MSD\\SEED_FRA_OUTPUT\\NEUTRAL\\5_2_trial_10_signals.fif) does not conform to MNE naming conventions. All raw files should end with raw.fif, raw_sss.fif, raw_tsss.fif, _meg.fif, _eeg.fif, _ieeg.fif, raw.fif.gz, raw_sss.fif.gz, raw_tsss.fif.gz, _meg.fif.gz, _eeg.fif.gz or _ieeg.fif.gz\n",
      "  eeg_trial.save(output_path, overwrite=True)\n"
     ]
    },
    {
     "name": "stdout",
     "output_type": "stream",
     "text": [
      "Closing C:\\Users\\marco\\Documents\\MASTER_DATA_SCIENTIST\\TFM_MSD\\SEED_FRA_OUTPUT\\NEUTRAL\\5_2_trial_10_signals.fif\n",
      "[done]\n"
     ]
    },
    {
     "name": "stderr",
     "output_type": "stream",
     "text": [
      "\r",
      "Processing:  52%|████████████████████████████████████▋                                 | 11/21 [00:22<00:20,  2.04s/it]"
     ]
    },
    {
     "name": "stdout",
     "output_type": "stream",
     "text": [
      "1000.0\n",
      "Writing C:\\Users\\marco\\Documents\\MASTER_DATA_SCIENTIST\\TFM_MSD\\SEED_FRA_OUTPUT\\POSITIVE\\5_2_trial_11_signals.fif\n"
     ]
    },
    {
     "name": "stderr",
     "output_type": "stream",
     "text": [
      "C:\\Users\\marco\\AppData\\Local\\Temp\\ipykernel_14260\\1741641518.py:44: RuntimeWarning: This filename (C:\\Users\\marco\\Documents\\MASTER_DATA_SCIENTIST\\TFM_MSD\\SEED_FRA_OUTPUT\\POSITIVE\\5_2_trial_11_signals.fif) does not conform to MNE naming conventions. All raw files should end with raw.fif, raw_sss.fif, raw_tsss.fif, _meg.fif, _eeg.fif, _ieeg.fif, raw.fif.gz, raw_sss.fif.gz, raw_tsss.fif.gz, _meg.fif.gz, _eeg.fif.gz or _ieeg.fif.gz\n",
      "  eeg_trial.save(output_path, overwrite=True)\n"
     ]
    },
    {
     "name": "stdout",
     "output_type": "stream",
     "text": [
      "Closing C:\\Users\\marco\\Documents\\MASTER_DATA_SCIENTIST\\TFM_MSD\\SEED_FRA_OUTPUT\\POSITIVE\\5_2_trial_11_signals.fif\n",
      "[done]\n"
     ]
    },
    {
     "name": "stderr",
     "output_type": "stream",
     "text": [
      "\r",
      "Processing:  57%|████████████████████████████████████████                              | 12/21 [00:24<00:17,  1.92s/it]"
     ]
    },
    {
     "name": "stdout",
     "output_type": "stream",
     "text": [
      "1000.0\n",
      "Writing C:\\Users\\marco\\Documents\\MASTER_DATA_SCIENTIST\\TFM_MSD\\SEED_FRA_OUTPUT\\POSITIVE\\5_2_trial_12_signals.fif\n"
     ]
    },
    {
     "name": "stderr",
     "output_type": "stream",
     "text": [
      "C:\\Users\\marco\\AppData\\Local\\Temp\\ipykernel_14260\\1741641518.py:44: RuntimeWarning: This filename (C:\\Users\\marco\\Documents\\MASTER_DATA_SCIENTIST\\TFM_MSD\\SEED_FRA_OUTPUT\\POSITIVE\\5_2_trial_12_signals.fif) does not conform to MNE naming conventions. All raw files should end with raw.fif, raw_sss.fif, raw_tsss.fif, _meg.fif, _eeg.fif, _ieeg.fif, raw.fif.gz, raw_sss.fif.gz, raw_tsss.fif.gz, _meg.fif.gz, _eeg.fif.gz or _ieeg.fif.gz\n",
      "  eeg_trial.save(output_path, overwrite=True)\n"
     ]
    },
    {
     "name": "stdout",
     "output_type": "stream",
     "text": [
      "Closing C:\\Users\\marco\\Documents\\MASTER_DATA_SCIENTIST\\TFM_MSD\\SEED_FRA_OUTPUT\\POSITIVE\\5_2_trial_12_signals.fif\n",
      "[done]\n"
     ]
    },
    {
     "name": "stderr",
     "output_type": "stream",
     "text": [
      "\r",
      "Processing:  62%|███████████████████████████████████████████▎                          | 13/21 [00:26<00:15,  1.93s/it]"
     ]
    },
    {
     "name": "stdout",
     "output_type": "stream",
     "text": [
      "1000.0\n",
      "Writing C:\\Users\\marco\\Documents\\MASTER_DATA_SCIENTIST\\TFM_MSD\\SEED_FRA_OUTPUT\\NEUTRAL\\5_2_trial_13_signals.fif\n"
     ]
    },
    {
     "name": "stderr",
     "output_type": "stream",
     "text": [
      "C:\\Users\\marco\\AppData\\Local\\Temp\\ipykernel_14260\\1741641518.py:44: RuntimeWarning: This filename (C:\\Users\\marco\\Documents\\MASTER_DATA_SCIENTIST\\TFM_MSD\\SEED_FRA_OUTPUT\\NEUTRAL\\5_2_trial_13_signals.fif) does not conform to MNE naming conventions. All raw files should end with raw.fif, raw_sss.fif, raw_tsss.fif, _meg.fif, _eeg.fif, _ieeg.fif, raw.fif.gz, raw_sss.fif.gz, raw_tsss.fif.gz, _meg.fif.gz, _eeg.fif.gz or _ieeg.fif.gz\n",
      "  eeg_trial.save(output_path, overwrite=True)\n"
     ]
    },
    {
     "name": "stdout",
     "output_type": "stream",
     "text": [
      "Closing C:\\Users\\marco\\Documents\\MASTER_DATA_SCIENTIST\\TFM_MSD\\SEED_FRA_OUTPUT\\NEUTRAL\\5_2_trial_13_signals.fif\n",
      "[done]\n"
     ]
    },
    {
     "name": "stderr",
     "output_type": "stream",
     "text": [
      "\r",
      "Processing:  67%|██████████████████████████████████████████████▋                       | 14/21 [00:28<00:13,  1.96s/it]"
     ]
    },
    {
     "name": "stdout",
     "output_type": "stream",
     "text": [
      "1000.0\n",
      "Writing C:\\Users\\marco\\Documents\\MASTER_DATA_SCIENTIST\\TFM_MSD\\SEED_FRA_OUTPUT\\NEGATIVE\\5_2_trial_14_signals.fif\n"
     ]
    },
    {
     "name": "stderr",
     "output_type": "stream",
     "text": [
      "C:\\Users\\marco\\AppData\\Local\\Temp\\ipykernel_14260\\1741641518.py:44: RuntimeWarning: This filename (C:\\Users\\marco\\Documents\\MASTER_DATA_SCIENTIST\\TFM_MSD\\SEED_FRA_OUTPUT\\NEGATIVE\\5_2_trial_14_signals.fif) does not conform to MNE naming conventions. All raw files should end with raw.fif, raw_sss.fif, raw_tsss.fif, _meg.fif, _eeg.fif, _ieeg.fif, raw.fif.gz, raw_sss.fif.gz, raw_tsss.fif.gz, _meg.fif.gz, _eeg.fif.gz or _ieeg.fif.gz\n",
      "  eeg_trial.save(output_path, overwrite=True)\n"
     ]
    },
    {
     "name": "stdout",
     "output_type": "stream",
     "text": [
      "Closing C:\\Users\\marco\\Documents\\MASTER_DATA_SCIENTIST\\TFM_MSD\\SEED_FRA_OUTPUT\\NEGATIVE\\5_2_trial_14_signals.fif\n",
      "[done]\n"
     ]
    },
    {
     "name": "stderr",
     "output_type": "stream",
     "text": [
      "\r",
      "Processing:  71%|██████████████████████████████████████████████████                    | 15/21 [00:30<00:11,  1.99s/it]"
     ]
    },
    {
     "name": "stdout",
     "output_type": "stream",
     "text": [
      "1000.0\n",
      "Writing C:\\Users\\marco\\Documents\\MASTER_DATA_SCIENTIST\\TFM_MSD\\SEED_FRA_OUTPUT\\NEGATIVE\\5_2_trial_15_signals.fif\n",
      "Closing C:\\Users\\marco\\Documents\\MASTER_DATA_SCIENTIST\\TFM_MSD\\SEED_FRA_OUTPUT\\NEGATIVE\\5_2_trial_15_signals.fif\n",
      "[done]\n"
     ]
    },
    {
     "name": "stderr",
     "output_type": "stream",
     "text": [
      "C:\\Users\\marco\\AppData\\Local\\Temp\\ipykernel_14260\\1741641518.py:44: RuntimeWarning: This filename (C:\\Users\\marco\\Documents\\MASTER_DATA_SCIENTIST\\TFM_MSD\\SEED_FRA_OUTPUT\\NEGATIVE\\5_2_trial_15_signals.fif) does not conform to MNE naming conventions. All raw files should end with raw.fif, raw_sss.fif, raw_tsss.fif, _meg.fif, _eeg.fif, _ieeg.fif, raw.fif.gz, raw_sss.fif.gz, raw_tsss.fif.gz, _meg.fif.gz, _eeg.fif.gz or _ieeg.fif.gz\n",
      "  eeg_trial.save(output_path, overwrite=True)\n",
      "\r",
      "Processing:  76%|█████████████████████████████████████████████████████▎                | 16/21 [00:32<00:09,  1.94s/it]"
     ]
    },
    {
     "name": "stdout",
     "output_type": "stream",
     "text": [
      "1000.0\n",
      "Writing C:\\Users\\marco\\Documents\\MASTER_DATA_SCIENTIST\\TFM_MSD\\SEED_FRA_OUTPUT\\NEUTRAL\\5_2_trial_16_signals.fif\n"
     ]
    },
    {
     "name": "stderr",
     "output_type": "stream",
     "text": [
      "C:\\Users\\marco\\AppData\\Local\\Temp\\ipykernel_14260\\1741641518.py:44: RuntimeWarning: This filename (C:\\Users\\marco\\Documents\\MASTER_DATA_SCIENTIST\\TFM_MSD\\SEED_FRA_OUTPUT\\NEUTRAL\\5_2_trial_16_signals.fif) does not conform to MNE naming conventions. All raw files should end with raw.fif, raw_sss.fif, raw_tsss.fif, _meg.fif, _eeg.fif, _ieeg.fif, raw.fif.gz, raw_sss.fif.gz, raw_tsss.fif.gz, _meg.fif.gz, _eeg.fif.gz or _ieeg.fif.gz\n",
      "  eeg_trial.save(output_path, overwrite=True)\n"
     ]
    },
    {
     "name": "stdout",
     "output_type": "stream",
     "text": [
      "Closing C:\\Users\\marco\\Documents\\MASTER_DATA_SCIENTIST\\TFM_MSD\\SEED_FRA_OUTPUT\\NEUTRAL\\5_2_trial_16_signals.fif\n",
      "[done]\n"
     ]
    },
    {
     "name": "stderr",
     "output_type": "stream",
     "text": [
      "\r",
      "Processing:  81%|████████████████████████████████████████████████████████▋             | 17/21 [00:34<00:08,  2.01s/it]"
     ]
    },
    {
     "name": "stdout",
     "output_type": "stream",
     "text": [
      "1000.0\n",
      "Writing C:\\Users\\marco\\Documents\\MASTER_DATA_SCIENTIST\\TFM_MSD\\SEED_FRA_OUTPUT\\POSITIVE\\5_2_trial_17_signals.fif\n"
     ]
    },
    {
     "name": "stderr",
     "output_type": "stream",
     "text": [
      "C:\\Users\\marco\\AppData\\Local\\Temp\\ipykernel_14260\\1741641518.py:44: RuntimeWarning: This filename (C:\\Users\\marco\\Documents\\MASTER_DATA_SCIENTIST\\TFM_MSD\\SEED_FRA_OUTPUT\\POSITIVE\\5_2_trial_17_signals.fif) does not conform to MNE naming conventions. All raw files should end with raw.fif, raw_sss.fif, raw_tsss.fif, _meg.fif, _eeg.fif, _ieeg.fif, raw.fif.gz, raw_sss.fif.gz, raw_tsss.fif.gz, _meg.fif.gz, _eeg.fif.gz or _ieeg.fif.gz\n",
      "  eeg_trial.save(output_path, overwrite=True)\n"
     ]
    },
    {
     "name": "stdout",
     "output_type": "stream",
     "text": [
      "Closing C:\\Users\\marco\\Documents\\MASTER_DATA_SCIENTIST\\TFM_MSD\\SEED_FRA_OUTPUT\\POSITIVE\\5_2_trial_17_signals.fif\n",
      "[done]\n"
     ]
    },
    {
     "name": "stderr",
     "output_type": "stream",
     "text": [
      "\r",
      "Processing:  86%|████████████████████████████████████████████████████████████          | 18/21 [00:36<00:06,  2.02s/it]"
     ]
    },
    {
     "name": "stdout",
     "output_type": "stream",
     "text": [
      "1000.0\n",
      "Writing C:\\Users\\marco\\Documents\\MASTER_DATA_SCIENTIST\\TFM_MSD\\SEED_FRA_OUTPUT\\NEGATIVE\\5_2_trial_18_signals.fif\n"
     ]
    },
    {
     "name": "stderr",
     "output_type": "stream",
     "text": [
      "C:\\Users\\marco\\AppData\\Local\\Temp\\ipykernel_14260\\1741641518.py:44: RuntimeWarning: This filename (C:\\Users\\marco\\Documents\\MASTER_DATA_SCIENTIST\\TFM_MSD\\SEED_FRA_OUTPUT\\NEGATIVE\\5_2_trial_18_signals.fif) does not conform to MNE naming conventions. All raw files should end with raw.fif, raw_sss.fif, raw_tsss.fif, _meg.fif, _eeg.fif, _ieeg.fif, raw.fif.gz, raw_sss.fif.gz, raw_tsss.fif.gz, _meg.fif.gz, _eeg.fif.gz or _ieeg.fif.gz\n",
      "  eeg_trial.save(output_path, overwrite=True)\n"
     ]
    },
    {
     "name": "stdout",
     "output_type": "stream",
     "text": [
      "Closing C:\\Users\\marco\\Documents\\MASTER_DATA_SCIENTIST\\TFM_MSD\\SEED_FRA_OUTPUT\\NEGATIVE\\5_2_trial_18_signals.fif\n",
      "[done]\n"
     ]
    },
    {
     "name": "stderr",
     "output_type": "stream",
     "text": [
      "\r",
      "Processing:  90%|███████████████████████████████████████████████████████████████▎      | 19/21 [00:38<00:03,  2.00s/it]"
     ]
    },
    {
     "name": "stdout",
     "output_type": "stream",
     "text": [
      "1000.0\n",
      "Writing C:\\Users\\marco\\Documents\\MASTER_DATA_SCIENTIST\\TFM_MSD\\SEED_FRA_OUTPUT\\NEUTRAL\\5_2_trial_19_signals.fif\n",
      "Closing C:\\Users\\marco\\Documents\\MASTER_DATA_SCIENTIST\\TFM_MSD\\SEED_FRA_OUTPUT\\NEUTRAL\\5_2_trial_19_signals.fif\n"
     ]
    },
    {
     "name": "stderr",
     "output_type": "stream",
     "text": [
      "C:\\Users\\marco\\AppData\\Local\\Temp\\ipykernel_14260\\1741641518.py:44: RuntimeWarning: This filename (C:\\Users\\marco\\Documents\\MASTER_DATA_SCIENTIST\\TFM_MSD\\SEED_FRA_OUTPUT\\NEUTRAL\\5_2_trial_19_signals.fif) does not conform to MNE naming conventions. All raw files should end with raw.fif, raw_sss.fif, raw_tsss.fif, _meg.fif, _eeg.fif, _ieeg.fif, raw.fif.gz, raw_sss.fif.gz, raw_tsss.fif.gz, _meg.fif.gz, _eeg.fif.gz or _ieeg.fif.gz\n",
      "  eeg_trial.save(output_path, overwrite=True)\n"
     ]
    },
    {
     "name": "stdout",
     "output_type": "stream",
     "text": [
      "[done]\n"
     ]
    },
    {
     "name": "stderr",
     "output_type": "stream",
     "text": [
      "\r",
      "Processing:  95%|██████████████████████████████████████████████████████████████████▋   | 20/21 [00:40<00:01,  1.91s/it]"
     ]
    },
    {
     "name": "stdout",
     "output_type": "stream",
     "text": [
      "1000.0\n",
      "Writing C:\\Users\\marco\\Documents\\MASTER_DATA_SCIENTIST\\TFM_MSD\\SEED_FRA_OUTPUT\\POSITIVE\\5_2_trial_20_signals.fif\n"
     ]
    },
    {
     "name": "stderr",
     "output_type": "stream",
     "text": [
      "C:\\Users\\marco\\AppData\\Local\\Temp\\ipykernel_14260\\1741641518.py:44: RuntimeWarning: This filename (C:\\Users\\marco\\Documents\\MASTER_DATA_SCIENTIST\\TFM_MSD\\SEED_FRA_OUTPUT\\POSITIVE\\5_2_trial_20_signals.fif) does not conform to MNE naming conventions. All raw files should end with raw.fif, raw_sss.fif, raw_tsss.fif, _meg.fif, _eeg.fif, _ieeg.fif, raw.fif.gz, raw_sss.fif.gz, raw_tsss.fif.gz, _meg.fif.gz, _eeg.fif.gz or _ieeg.fif.gz\n",
      "  eeg_trial.save(output_path, overwrite=True)\n"
     ]
    },
    {
     "name": "stdout",
     "output_type": "stream",
     "text": [
      "Closing C:\\Users\\marco\\Documents\\MASTER_DATA_SCIENTIST\\TFM_MSD\\SEED_FRA_OUTPUT\\POSITIVE\\5_2_trial_20_signals.fif\n",
      "[done]\n"
     ]
    },
    {
     "name": "stderr",
     "output_type": "stream",
     "text": [
      "Processing: 100%|██████████████████████████████████████████████████████████████████████| 21/21 [00:42<00:00,  2.01s/it]\n"
     ]
    },
    {
     "name": "stdout",
     "output_type": "stream",
     "text": [
      "Reading 0 ... 3826479  =      0.000 ...  3826.479 secs...\n"
     ]
    },
    {
     "name": "stderr",
     "output_type": "stream",
     "text": [
      "C:\\Users\\marco\\AppData\\Local\\Temp\\ipykernel_14260\\1741641518.py:4: RuntimeWarning:   Could not parse meas date from the header. Setting to None.\n",
      "  eeg_raw = mne.io.read_raw_cnt(_path, preload=True)\n"
     ]
    },
    {
     "name": "stdout",
     "output_type": "stream",
     "text": [
      "Filtering raw data in 1 contiguous segment\n",
      "Setting up band-pass filter from 0.5 - 55 Hz\n",
      "\n",
      "FIR filter parameters\n",
      "---------------------\n",
      "Designing a one-pass, zero-phase, non-causal bandpass filter:\n",
      "- Windowed time-domain design (firwin) method\n",
      "- Hamming window with 0.0194 passband ripple and 53 dB stopband attenuation\n",
      "- Lower passband edge: 0.50\n",
      "- Lower transition bandwidth: 0.50 Hz (-6 dB cutoff frequency: 0.25 Hz)\n",
      "- Upper passband edge: 55.00 Hz\n",
      "- Upper transition bandwidth: 13.75 Hz (-6 dB cutoff frequency: 61.88 Hz)\n",
      "- Filter length: 6601 samples (6.601 sec)\n",
      "\n"
     ]
    },
    {
     "name": "stderr",
     "output_type": "stream",
     "text": [
      "\r",
      "Processing:   0%|                                                                               | 0/21 [00:00<?, ?it/s]"
     ]
    },
    {
     "name": "stdout",
     "output_type": "stream",
     "text": [
      "1000.0\n",
      "Writing C:\\Users\\marco\\Documents\\MASTER_DATA_SCIENTIST\\TFM_MSD\\SEED_FRA_OUTPUT\\POSITIVE\\5_3_trial_0_signals.fif\n"
     ]
    },
    {
     "name": "stderr",
     "output_type": "stream",
     "text": [
      "C:\\Users\\marco\\AppData\\Local\\Temp\\ipykernel_14260\\1741641518.py:44: RuntimeWarning: This filename (C:\\Users\\marco\\Documents\\MASTER_DATA_SCIENTIST\\TFM_MSD\\SEED_FRA_OUTPUT\\POSITIVE\\5_3_trial_0_signals.fif) does not conform to MNE naming conventions. All raw files should end with raw.fif, raw_sss.fif, raw_tsss.fif, _meg.fif, _eeg.fif, _ieeg.fif, raw.fif.gz, raw_sss.fif.gz, raw_tsss.fif.gz, _meg.fif.gz, _eeg.fif.gz or _ieeg.fif.gz\n",
      "  eeg_trial.save(output_path, overwrite=True)\n"
     ]
    },
    {
     "name": "stdout",
     "output_type": "stream",
     "text": [
      "Closing C:\\Users\\marco\\Documents\\MASTER_DATA_SCIENTIST\\TFM_MSD\\SEED_FRA_OUTPUT\\POSITIVE\\5_3_trial_0_signals.fif\n",
      "[done]\n"
     ]
    },
    {
     "name": "stderr",
     "output_type": "stream",
     "text": [
      "\r",
      "Processing:   5%|███▍                                                                   | 1/21 [00:01<00:38,  1.93s/it]"
     ]
    },
    {
     "name": "stdout",
     "output_type": "stream",
     "text": [
      "1000.0\n",
      "Writing C:\\Users\\marco\\Documents\\MASTER_DATA_SCIENTIST\\TFM_MSD\\SEED_FRA_OUTPUT\\NEGATIVE\\5_3_trial_1_signals.fif\n"
     ]
    },
    {
     "name": "stderr",
     "output_type": "stream",
     "text": [
      "C:\\Users\\marco\\AppData\\Local\\Temp\\ipykernel_14260\\1741641518.py:44: RuntimeWarning: This filename (C:\\Users\\marco\\Documents\\MASTER_DATA_SCIENTIST\\TFM_MSD\\SEED_FRA_OUTPUT\\NEGATIVE\\5_3_trial_1_signals.fif) does not conform to MNE naming conventions. All raw files should end with raw.fif, raw_sss.fif, raw_tsss.fif, _meg.fif, _eeg.fif, _ieeg.fif, raw.fif.gz, raw_sss.fif.gz, raw_tsss.fif.gz, _meg.fif.gz, _eeg.fif.gz or _ieeg.fif.gz\n",
      "  eeg_trial.save(output_path, overwrite=True)\n"
     ]
    },
    {
     "name": "stdout",
     "output_type": "stream",
     "text": [
      "Closing C:\\Users\\marco\\Documents\\MASTER_DATA_SCIENTIST\\TFM_MSD\\SEED_FRA_OUTPUT\\NEGATIVE\\5_3_trial_1_signals.fif\n",
      "[done]\n"
     ]
    },
    {
     "name": "stderr",
     "output_type": "stream",
     "text": [
      "\r",
      "Processing:  10%|██████▊                                                                | 2/21 [00:04<00:38,  2.04s/it]"
     ]
    },
    {
     "name": "stdout",
     "output_type": "stream",
     "text": [
      "1000.0\n",
      "Writing C:\\Users\\marco\\Documents\\MASTER_DATA_SCIENTIST\\TFM_MSD\\SEED_FRA_OUTPUT\\NEUTRAL\\5_3_trial_2_signals.fif\n"
     ]
    },
    {
     "name": "stderr",
     "output_type": "stream",
     "text": [
      "C:\\Users\\marco\\AppData\\Local\\Temp\\ipykernel_14260\\1741641518.py:44: RuntimeWarning: This filename (C:\\Users\\marco\\Documents\\MASTER_DATA_SCIENTIST\\TFM_MSD\\SEED_FRA_OUTPUT\\NEUTRAL\\5_3_trial_2_signals.fif) does not conform to MNE naming conventions. All raw files should end with raw.fif, raw_sss.fif, raw_tsss.fif, _meg.fif, _eeg.fif, _ieeg.fif, raw.fif.gz, raw_sss.fif.gz, raw_tsss.fif.gz, _meg.fif.gz, _eeg.fif.gz or _ieeg.fif.gz\n",
      "  eeg_trial.save(output_path, overwrite=True)\n"
     ]
    },
    {
     "name": "stdout",
     "output_type": "stream",
     "text": [
      "Closing C:\\Users\\marco\\Documents\\MASTER_DATA_SCIENTIST\\TFM_MSD\\SEED_FRA_OUTPUT\\NEUTRAL\\5_3_trial_2_signals.fif\n",
      "[done]\n"
     ]
    },
    {
     "name": "stderr",
     "output_type": "stream",
     "text": [
      "\r",
      "Processing:  14%|██████████▏                                                            | 3/21 [00:05<00:35,  1.99s/it]"
     ]
    },
    {
     "name": "stdout",
     "output_type": "stream",
     "text": [
      "1000.0\n",
      "Writing C:\\Users\\marco\\Documents\\MASTER_DATA_SCIENTIST\\TFM_MSD\\SEED_FRA_OUTPUT\\NEGATIVE\\5_3_trial_3_signals.fif\n"
     ]
    },
    {
     "name": "stderr",
     "output_type": "stream",
     "text": [
      "C:\\Users\\marco\\AppData\\Local\\Temp\\ipykernel_14260\\1741641518.py:44: RuntimeWarning: This filename (C:\\Users\\marco\\Documents\\MASTER_DATA_SCIENTIST\\TFM_MSD\\SEED_FRA_OUTPUT\\NEGATIVE\\5_3_trial_3_signals.fif) does not conform to MNE naming conventions. All raw files should end with raw.fif, raw_sss.fif, raw_tsss.fif, _meg.fif, _eeg.fif, _ieeg.fif, raw.fif.gz, raw_sss.fif.gz, raw_tsss.fif.gz, _meg.fif.gz, _eeg.fif.gz or _ieeg.fif.gz\n",
      "  eeg_trial.save(output_path, overwrite=True)\n"
     ]
    },
    {
     "name": "stdout",
     "output_type": "stream",
     "text": [
      "Closing C:\\Users\\marco\\Documents\\MASTER_DATA_SCIENTIST\\TFM_MSD\\SEED_FRA_OUTPUT\\NEGATIVE\\5_3_trial_3_signals.fif\n",
      "[done]\n"
     ]
    },
    {
     "name": "stderr",
     "output_type": "stream",
     "text": [
      "\r",
      "Processing:  19%|█████████████▌                                                         | 4/21 [00:08<00:36,  2.15s/it]"
     ]
    },
    {
     "name": "stdout",
     "output_type": "stream",
     "text": [
      "1000.0\n",
      "Writing C:\\Users\\marco\\Documents\\MASTER_DATA_SCIENTIST\\TFM_MSD\\SEED_FRA_OUTPUT\\POSITIVE\\5_3_trial_4_signals.fif\n"
     ]
    },
    {
     "name": "stderr",
     "output_type": "stream",
     "text": [
      "C:\\Users\\marco\\AppData\\Local\\Temp\\ipykernel_14260\\1741641518.py:44: RuntimeWarning: This filename (C:\\Users\\marco\\Documents\\MASTER_DATA_SCIENTIST\\TFM_MSD\\SEED_FRA_OUTPUT\\POSITIVE\\5_3_trial_4_signals.fif) does not conform to MNE naming conventions. All raw files should end with raw.fif, raw_sss.fif, raw_tsss.fif, _meg.fif, _eeg.fif, _ieeg.fif, raw.fif.gz, raw_sss.fif.gz, raw_tsss.fif.gz, _meg.fif.gz, _eeg.fif.gz or _ieeg.fif.gz\n",
      "  eeg_trial.save(output_path, overwrite=True)\n"
     ]
    },
    {
     "name": "stdout",
     "output_type": "stream",
     "text": [
      "Closing C:\\Users\\marco\\Documents\\MASTER_DATA_SCIENTIST\\TFM_MSD\\SEED_FRA_OUTPUT\\POSITIVE\\5_3_trial_4_signals.fif\n",
      "[done]\n"
     ]
    },
    {
     "name": "stderr",
     "output_type": "stream",
     "text": [
      "\r",
      "Processing:  24%|████████████████▉                                                      | 5/21 [00:10<00:31,  2.00s/it]"
     ]
    },
    {
     "name": "stdout",
     "output_type": "stream",
     "text": [
      "1000.0\n",
      "Writing C:\\Users\\marco\\Documents\\MASTER_DATA_SCIENTIST\\TFM_MSD\\SEED_FRA_OUTPUT\\NEUTRAL\\5_3_trial_5_signals.fif\n"
     ]
    },
    {
     "name": "stderr",
     "output_type": "stream",
     "text": [
      "C:\\Users\\marco\\AppData\\Local\\Temp\\ipykernel_14260\\1741641518.py:44: RuntimeWarning: This filename (C:\\Users\\marco\\Documents\\MASTER_DATA_SCIENTIST\\TFM_MSD\\SEED_FRA_OUTPUT\\NEUTRAL\\5_3_trial_5_signals.fif) does not conform to MNE naming conventions. All raw files should end with raw.fif, raw_sss.fif, raw_tsss.fif, _meg.fif, _eeg.fif, _ieeg.fif, raw.fif.gz, raw_sss.fif.gz, raw_tsss.fif.gz, _meg.fif.gz, _eeg.fif.gz or _ieeg.fif.gz\n",
      "  eeg_trial.save(output_path, overwrite=True)\n"
     ]
    },
    {
     "name": "stdout",
     "output_type": "stream",
     "text": [
      "Closing C:\\Users\\marco\\Documents\\MASTER_DATA_SCIENTIST\\TFM_MSD\\SEED_FRA_OUTPUT\\NEUTRAL\\5_3_trial_5_signals.fif\n",
      "[done]\n"
     ]
    },
    {
     "name": "stderr",
     "output_type": "stream",
     "text": [
      "\r",
      "Processing:  29%|████████████████████▎                                                  | 6/21 [00:11<00:29,  1.95s/it]"
     ]
    },
    {
     "name": "stdout",
     "output_type": "stream",
     "text": [
      "1000.0\n",
      "Writing C:\\Users\\marco\\Documents\\MASTER_DATA_SCIENTIST\\TFM_MSD\\SEED_FRA_OUTPUT\\NEGATIVE\\5_3_trial_6_signals.fif\n"
     ]
    },
    {
     "name": "stderr",
     "output_type": "stream",
     "text": [
      "C:\\Users\\marco\\AppData\\Local\\Temp\\ipykernel_14260\\1741641518.py:44: RuntimeWarning: This filename (C:\\Users\\marco\\Documents\\MASTER_DATA_SCIENTIST\\TFM_MSD\\SEED_FRA_OUTPUT\\NEGATIVE\\5_3_trial_6_signals.fif) does not conform to MNE naming conventions. All raw files should end with raw.fif, raw_sss.fif, raw_tsss.fif, _meg.fif, _eeg.fif, _ieeg.fif, raw.fif.gz, raw_sss.fif.gz, raw_tsss.fif.gz, _meg.fif.gz, _eeg.fif.gz or _ieeg.fif.gz\n",
      "  eeg_trial.save(output_path, overwrite=True)\n"
     ]
    },
    {
     "name": "stdout",
     "output_type": "stream",
     "text": [
      "Closing C:\\Users\\marco\\Documents\\MASTER_DATA_SCIENTIST\\TFM_MSD\\SEED_FRA_OUTPUT\\NEGATIVE\\5_3_trial_6_signals.fif\n",
      "[done]\n"
     ]
    },
    {
     "name": "stderr",
     "output_type": "stream",
     "text": [
      "\r",
      "Processing:  33%|███████████████████████▋                                               | 7/21 [00:14<00:28,  2.05s/it]"
     ]
    },
    {
     "name": "stdout",
     "output_type": "stream",
     "text": [
      "1000.0\n",
      "Writing C:\\Users\\marco\\Documents\\MASTER_DATA_SCIENTIST\\TFM_MSD\\SEED_FRA_OUTPUT\\NEUTRAL\\5_3_trial_7_signals.fif\n"
     ]
    },
    {
     "name": "stderr",
     "output_type": "stream",
     "text": [
      "C:\\Users\\marco\\AppData\\Local\\Temp\\ipykernel_14260\\1741641518.py:44: RuntimeWarning: This filename (C:\\Users\\marco\\Documents\\MASTER_DATA_SCIENTIST\\TFM_MSD\\SEED_FRA_OUTPUT\\NEUTRAL\\5_3_trial_7_signals.fif) does not conform to MNE naming conventions. All raw files should end with raw.fif, raw_sss.fif, raw_tsss.fif, _meg.fif, _eeg.fif, _ieeg.fif, raw.fif.gz, raw_sss.fif.gz, raw_tsss.fif.gz, _meg.fif.gz, _eeg.fif.gz or _ieeg.fif.gz\n",
      "  eeg_trial.save(output_path, overwrite=True)\n"
     ]
    },
    {
     "name": "stdout",
     "output_type": "stream",
     "text": [
      "Closing C:\\Users\\marco\\Documents\\MASTER_DATA_SCIENTIST\\TFM_MSD\\SEED_FRA_OUTPUT\\NEUTRAL\\5_3_trial_7_signals.fif\n",
      "[done]\n"
     ]
    },
    {
     "name": "stderr",
     "output_type": "stream",
     "text": [
      "\r",
      "Processing:  38%|███████████████████████████                                            | 8/21 [00:15<00:25,  1.95s/it]"
     ]
    },
    {
     "name": "stdout",
     "output_type": "stream",
     "text": [
      "1000.0\n",
      "Writing C:\\Users\\marco\\Documents\\MASTER_DATA_SCIENTIST\\TFM_MSD\\SEED_FRA_OUTPUT\\POSITIVE\\5_3_trial_8_signals.fif\n"
     ]
    },
    {
     "name": "stderr",
     "output_type": "stream",
     "text": [
      "C:\\Users\\marco\\AppData\\Local\\Temp\\ipykernel_14260\\1741641518.py:44: RuntimeWarning: This filename (C:\\Users\\marco\\Documents\\MASTER_DATA_SCIENTIST\\TFM_MSD\\SEED_FRA_OUTPUT\\POSITIVE\\5_3_trial_8_signals.fif) does not conform to MNE naming conventions. All raw files should end with raw.fif, raw_sss.fif, raw_tsss.fif, _meg.fif, _eeg.fif, _ieeg.fif, raw.fif.gz, raw_sss.fif.gz, raw_tsss.fif.gz, _meg.fif.gz, _eeg.fif.gz or _ieeg.fif.gz\n",
      "  eeg_trial.save(output_path, overwrite=True)\n"
     ]
    },
    {
     "name": "stdout",
     "output_type": "stream",
     "text": [
      "Closing C:\\Users\\marco\\Documents\\MASTER_DATA_SCIENTIST\\TFM_MSD\\SEED_FRA_OUTPUT\\POSITIVE\\5_3_trial_8_signals.fif\n",
      "[done]\n"
     ]
    },
    {
     "name": "stderr",
     "output_type": "stream",
     "text": [
      "\r",
      "Processing:  43%|██████████████████████████████▍                                        | 9/21 [00:17<00:22,  1.91s/it]"
     ]
    },
    {
     "name": "stdout",
     "output_type": "stream",
     "text": [
      "1000.0\n",
      "Writing C:\\Users\\marco\\Documents\\MASTER_DATA_SCIENTIST\\TFM_MSD\\SEED_FRA_OUTPUT\\NEGATIVE\\5_3_trial_9_signals.fif\n"
     ]
    },
    {
     "name": "stderr",
     "output_type": "stream",
     "text": [
      "C:\\Users\\marco\\AppData\\Local\\Temp\\ipykernel_14260\\1741641518.py:44: RuntimeWarning: This filename (C:\\Users\\marco\\Documents\\MASTER_DATA_SCIENTIST\\TFM_MSD\\SEED_FRA_OUTPUT\\NEGATIVE\\5_3_trial_9_signals.fif) does not conform to MNE naming conventions. All raw files should end with raw.fif, raw_sss.fif, raw_tsss.fif, _meg.fif, _eeg.fif, _ieeg.fif, raw.fif.gz, raw_sss.fif.gz, raw_tsss.fif.gz, _meg.fif.gz, _eeg.fif.gz or _ieeg.fif.gz\n",
      "  eeg_trial.save(output_path, overwrite=True)\n"
     ]
    },
    {
     "name": "stdout",
     "output_type": "stream",
     "text": [
      "Closing C:\\Users\\marco\\Documents\\MASTER_DATA_SCIENTIST\\TFM_MSD\\SEED_FRA_OUTPUT\\NEGATIVE\\5_3_trial_9_signals.fif\n",
      "[done]\n"
     ]
    },
    {
     "name": "stderr",
     "output_type": "stream",
     "text": [
      "\r",
      "Processing:  48%|█████████████████████████████████▎                                    | 10/21 [00:19<00:20,  1.91s/it]"
     ]
    },
    {
     "name": "stdout",
     "output_type": "stream",
     "text": [
      "1000.0\n",
      "Writing C:\\Users\\marco\\Documents\\MASTER_DATA_SCIENTIST\\TFM_MSD\\SEED_FRA_OUTPUT\\NEUTRAL\\5_3_trial_10_signals.fif\n"
     ]
    },
    {
     "name": "stderr",
     "output_type": "stream",
     "text": [
      "C:\\Users\\marco\\AppData\\Local\\Temp\\ipykernel_14260\\1741641518.py:44: RuntimeWarning: This filename (C:\\Users\\marco\\Documents\\MASTER_DATA_SCIENTIST\\TFM_MSD\\SEED_FRA_OUTPUT\\NEUTRAL\\5_3_trial_10_signals.fif) does not conform to MNE naming conventions. All raw files should end with raw.fif, raw_sss.fif, raw_tsss.fif, _meg.fif, _eeg.fif, _ieeg.fif, raw.fif.gz, raw_sss.fif.gz, raw_tsss.fif.gz, _meg.fif.gz, _eeg.fif.gz or _ieeg.fif.gz\n",
      "  eeg_trial.save(output_path, overwrite=True)\n"
     ]
    },
    {
     "name": "stdout",
     "output_type": "stream",
     "text": [
      "Closing C:\\Users\\marco\\Documents\\MASTER_DATA_SCIENTIST\\TFM_MSD\\SEED_FRA_OUTPUT\\NEUTRAL\\5_3_trial_10_signals.fif\n",
      "[done]\n"
     ]
    },
    {
     "name": "stderr",
     "output_type": "stream",
     "text": [
      "\r",
      "Processing:  52%|████████████████████████████████████▋                                 | 11/21 [00:21<00:19,  1.95s/it]"
     ]
    },
    {
     "name": "stdout",
     "output_type": "stream",
     "text": [
      "1000.0\n",
      "Writing C:\\Users\\marco\\Documents\\MASTER_DATA_SCIENTIST\\TFM_MSD\\SEED_FRA_OUTPUT\\POSITIVE\\5_3_trial_11_signals.fif\n"
     ]
    },
    {
     "name": "stderr",
     "output_type": "stream",
     "text": [
      "C:\\Users\\marco\\AppData\\Local\\Temp\\ipykernel_14260\\1741641518.py:44: RuntimeWarning: This filename (C:\\Users\\marco\\Documents\\MASTER_DATA_SCIENTIST\\TFM_MSD\\SEED_FRA_OUTPUT\\POSITIVE\\5_3_trial_11_signals.fif) does not conform to MNE naming conventions. All raw files should end with raw.fif, raw_sss.fif, raw_tsss.fif, _meg.fif, _eeg.fif, _ieeg.fif, raw.fif.gz, raw_sss.fif.gz, raw_tsss.fif.gz, _meg.fif.gz, _eeg.fif.gz or _ieeg.fif.gz\n",
      "  eeg_trial.save(output_path, overwrite=True)\n"
     ]
    },
    {
     "name": "stdout",
     "output_type": "stream",
     "text": [
      "Closing C:\\Users\\marco\\Documents\\MASTER_DATA_SCIENTIST\\TFM_MSD\\SEED_FRA_OUTPUT\\POSITIVE\\5_3_trial_11_signals.fif\n",
      "[done]\n"
     ]
    },
    {
     "name": "stderr",
     "output_type": "stream",
     "text": [
      "\r",
      "Processing:  57%|████████████████████████████████████████                              | 12/21 [00:23<00:16,  1.87s/it]"
     ]
    },
    {
     "name": "stdout",
     "output_type": "stream",
     "text": [
      "1000.0\n",
      "Writing C:\\Users\\marco\\Documents\\MASTER_DATA_SCIENTIST\\TFM_MSD\\SEED_FRA_OUTPUT\\POSITIVE\\5_3_trial_12_signals.fif\n"
     ]
    },
    {
     "name": "stderr",
     "output_type": "stream",
     "text": [
      "C:\\Users\\marco\\AppData\\Local\\Temp\\ipykernel_14260\\1741641518.py:44: RuntimeWarning: This filename (C:\\Users\\marco\\Documents\\MASTER_DATA_SCIENTIST\\TFM_MSD\\SEED_FRA_OUTPUT\\POSITIVE\\5_3_trial_12_signals.fif) does not conform to MNE naming conventions. All raw files should end with raw.fif, raw_sss.fif, raw_tsss.fif, _meg.fif, _eeg.fif, _ieeg.fif, raw.fif.gz, raw_sss.fif.gz, raw_tsss.fif.gz, _meg.fif.gz, _eeg.fif.gz or _ieeg.fif.gz\n",
      "  eeg_trial.save(output_path, overwrite=True)\n"
     ]
    },
    {
     "name": "stdout",
     "output_type": "stream",
     "text": [
      "Closing C:\\Users\\marco\\Documents\\MASTER_DATA_SCIENTIST\\TFM_MSD\\SEED_FRA_OUTPUT\\POSITIVE\\5_3_trial_12_signals.fif\n",
      "[done]\n"
     ]
    },
    {
     "name": "stderr",
     "output_type": "stream",
     "text": [
      "\r",
      "Processing:  62%|███████████████████████████████████████████▎                          | 13/21 [00:25<00:15,  1.90s/it]"
     ]
    },
    {
     "name": "stdout",
     "output_type": "stream",
     "text": [
      "1000.0\n",
      "Writing C:\\Users\\marco\\Documents\\MASTER_DATA_SCIENTIST\\TFM_MSD\\SEED_FRA_OUTPUT\\NEUTRAL\\5_3_trial_13_signals.fif\n"
     ]
    },
    {
     "name": "stderr",
     "output_type": "stream",
     "text": [
      "C:\\Users\\marco\\AppData\\Local\\Temp\\ipykernel_14260\\1741641518.py:44: RuntimeWarning: This filename (C:\\Users\\marco\\Documents\\MASTER_DATA_SCIENTIST\\TFM_MSD\\SEED_FRA_OUTPUT\\NEUTRAL\\5_3_trial_13_signals.fif) does not conform to MNE naming conventions. All raw files should end with raw.fif, raw_sss.fif, raw_tsss.fif, _meg.fif, _eeg.fif, _ieeg.fif, raw.fif.gz, raw_sss.fif.gz, raw_tsss.fif.gz, _meg.fif.gz, _eeg.fif.gz or _ieeg.fif.gz\n",
      "  eeg_trial.save(output_path, overwrite=True)\n"
     ]
    },
    {
     "name": "stdout",
     "output_type": "stream",
     "text": [
      "Closing C:\\Users\\marco\\Documents\\MASTER_DATA_SCIENTIST\\TFM_MSD\\SEED_FRA_OUTPUT\\NEUTRAL\\5_3_trial_13_signals.fif\n",
      "[done]\n"
     ]
    },
    {
     "name": "stderr",
     "output_type": "stream",
     "text": [
      "\r",
      "Processing:  67%|██████████████████████████████████████████████▋                       | 14/21 [00:27<00:13,  1.93s/it]"
     ]
    },
    {
     "name": "stdout",
     "output_type": "stream",
     "text": [
      "1000.0\n",
      "Writing C:\\Users\\marco\\Documents\\MASTER_DATA_SCIENTIST\\TFM_MSD\\SEED_FRA_OUTPUT\\NEGATIVE\\5_3_trial_14_signals.fif\n"
     ]
    },
    {
     "name": "stderr",
     "output_type": "stream",
     "text": [
      "C:\\Users\\marco\\AppData\\Local\\Temp\\ipykernel_14260\\1741641518.py:44: RuntimeWarning: This filename (C:\\Users\\marco\\Documents\\MASTER_DATA_SCIENTIST\\TFM_MSD\\SEED_FRA_OUTPUT\\NEGATIVE\\5_3_trial_14_signals.fif) does not conform to MNE naming conventions. All raw files should end with raw.fif, raw_sss.fif, raw_tsss.fif, _meg.fif, _eeg.fif, _ieeg.fif, raw.fif.gz, raw_sss.fif.gz, raw_tsss.fif.gz, _meg.fif.gz, _eeg.fif.gz or _ieeg.fif.gz\n",
      "  eeg_trial.save(output_path, overwrite=True)\n"
     ]
    },
    {
     "name": "stdout",
     "output_type": "stream",
     "text": [
      "Closing C:\\Users\\marco\\Documents\\MASTER_DATA_SCIENTIST\\TFM_MSD\\SEED_FRA_OUTPUT\\NEGATIVE\\5_3_trial_14_signals.fif\n",
      "[done]\n"
     ]
    },
    {
     "name": "stderr",
     "output_type": "stream",
     "text": [
      "\r",
      "Processing:  71%|██████████████████████████████████████████████████                    | 15/21 [00:29<00:11,  1.93s/it]"
     ]
    },
    {
     "name": "stdout",
     "output_type": "stream",
     "text": [
      "1000.0\n",
      "Writing C:\\Users\\marco\\Documents\\MASTER_DATA_SCIENTIST\\TFM_MSD\\SEED_FRA_OUTPUT\\NEGATIVE\\5_3_trial_15_signals.fif\n",
      "Closing C:\\Users\\marco\\Documents\\MASTER_DATA_SCIENTIST\\TFM_MSD\\SEED_FRA_OUTPUT\\NEGATIVE\\5_3_trial_15_signals.fif\n"
     ]
    },
    {
     "name": "stderr",
     "output_type": "stream",
     "text": [
      "C:\\Users\\marco\\AppData\\Local\\Temp\\ipykernel_14260\\1741641518.py:44: RuntimeWarning: This filename (C:\\Users\\marco\\Documents\\MASTER_DATA_SCIENTIST\\TFM_MSD\\SEED_FRA_OUTPUT\\NEGATIVE\\5_3_trial_15_signals.fif) does not conform to MNE naming conventions. All raw files should end with raw.fif, raw_sss.fif, raw_tsss.fif, _meg.fif, _eeg.fif, _ieeg.fif, raw.fif.gz, raw_sss.fif.gz, raw_tsss.fif.gz, _meg.fif.gz, _eeg.fif.gz or _ieeg.fif.gz\n",
      "  eeg_trial.save(output_path, overwrite=True)\n"
     ]
    },
    {
     "name": "stdout",
     "output_type": "stream",
     "text": [
      "[done]\n"
     ]
    },
    {
     "name": "stderr",
     "output_type": "stream",
     "text": [
      "\r",
      "Processing:  76%|█████████████████████████████████████████████████████▎                | 16/21 [00:31<00:09,  1.91s/it]"
     ]
    },
    {
     "name": "stdout",
     "output_type": "stream",
     "text": [
      "1000.0\n",
      "Writing C:\\Users\\marco\\Documents\\MASTER_DATA_SCIENTIST\\TFM_MSD\\SEED_FRA_OUTPUT\\NEUTRAL\\5_3_trial_16_signals.fif\n"
     ]
    },
    {
     "name": "stderr",
     "output_type": "stream",
     "text": [
      "C:\\Users\\marco\\AppData\\Local\\Temp\\ipykernel_14260\\1741641518.py:44: RuntimeWarning: This filename (C:\\Users\\marco\\Documents\\MASTER_DATA_SCIENTIST\\TFM_MSD\\SEED_FRA_OUTPUT\\NEUTRAL\\5_3_trial_16_signals.fif) does not conform to MNE naming conventions. All raw files should end with raw.fif, raw_sss.fif, raw_tsss.fif, _meg.fif, _eeg.fif, _ieeg.fif, raw.fif.gz, raw_sss.fif.gz, raw_tsss.fif.gz, _meg.fif.gz, _eeg.fif.gz or _ieeg.fif.gz\n",
      "  eeg_trial.save(output_path, overwrite=True)\n"
     ]
    },
    {
     "name": "stdout",
     "output_type": "stream",
     "text": [
      "Closing C:\\Users\\marco\\Documents\\MASTER_DATA_SCIENTIST\\TFM_MSD\\SEED_FRA_OUTPUT\\NEUTRAL\\5_3_trial_16_signals.fif\n",
      "[done]\n"
     ]
    },
    {
     "name": "stderr",
     "output_type": "stream",
     "text": [
      "\r",
      "Processing:  81%|████████████████████████████████████████████████████████▋             | 17/21 [00:33<00:07,  1.94s/it]"
     ]
    },
    {
     "name": "stdout",
     "output_type": "stream",
     "text": [
      "1000.0\n",
      "Writing C:\\Users\\marco\\Documents\\MASTER_DATA_SCIENTIST\\TFM_MSD\\SEED_FRA_OUTPUT\\POSITIVE\\5_3_trial_17_signals.fif\n"
     ]
    },
    {
     "name": "stderr",
     "output_type": "stream",
     "text": [
      "C:\\Users\\marco\\AppData\\Local\\Temp\\ipykernel_14260\\1741641518.py:44: RuntimeWarning: This filename (C:\\Users\\marco\\Documents\\MASTER_DATA_SCIENTIST\\TFM_MSD\\SEED_FRA_OUTPUT\\POSITIVE\\5_3_trial_17_signals.fif) does not conform to MNE naming conventions. All raw files should end with raw.fif, raw_sss.fif, raw_tsss.fif, _meg.fif, _eeg.fif, _ieeg.fif, raw.fif.gz, raw_sss.fif.gz, raw_tsss.fif.gz, _meg.fif.gz, _eeg.fif.gz or _ieeg.fif.gz\n",
      "  eeg_trial.save(output_path, overwrite=True)\n"
     ]
    },
    {
     "name": "stdout",
     "output_type": "stream",
     "text": [
      "Closing C:\\Users\\marco\\Documents\\MASTER_DATA_SCIENTIST\\TFM_MSD\\SEED_FRA_OUTPUT\\POSITIVE\\5_3_trial_17_signals.fif\n",
      "[done]\n"
     ]
    },
    {
     "name": "stderr",
     "output_type": "stream",
     "text": [
      "\r",
      "Processing:  86%|████████████████████████████████████████████████████████████          | 18/21 [00:35<00:05,  1.96s/it]"
     ]
    },
    {
     "name": "stdout",
     "output_type": "stream",
     "text": [
      "1000.0\n",
      "Writing C:\\Users\\marco\\Documents\\MASTER_DATA_SCIENTIST\\TFM_MSD\\SEED_FRA_OUTPUT\\NEGATIVE\\5_3_trial_18_signals.fif\n"
     ]
    },
    {
     "name": "stderr",
     "output_type": "stream",
     "text": [
      "C:\\Users\\marco\\AppData\\Local\\Temp\\ipykernel_14260\\1741641518.py:44: RuntimeWarning: This filename (C:\\Users\\marco\\Documents\\MASTER_DATA_SCIENTIST\\TFM_MSD\\SEED_FRA_OUTPUT\\NEGATIVE\\5_3_trial_18_signals.fif) does not conform to MNE naming conventions. All raw files should end with raw.fif, raw_sss.fif, raw_tsss.fif, _meg.fif, _eeg.fif, _ieeg.fif, raw.fif.gz, raw_sss.fif.gz, raw_tsss.fif.gz, _meg.fif.gz, _eeg.fif.gz or _ieeg.fif.gz\n",
      "  eeg_trial.save(output_path, overwrite=True)\n"
     ]
    },
    {
     "name": "stdout",
     "output_type": "stream",
     "text": [
      "Closing C:\\Users\\marco\\Documents\\MASTER_DATA_SCIENTIST\\TFM_MSD\\SEED_FRA_OUTPUT\\NEGATIVE\\5_3_trial_18_signals.fif\n",
      "[done]\n"
     ]
    },
    {
     "name": "stderr",
     "output_type": "stream",
     "text": [
      "\r",
      "Processing:  90%|███████████████████████████████████████████████████████████████▎      | 19/21 [00:37<00:03,  1.95s/it]"
     ]
    },
    {
     "name": "stdout",
     "output_type": "stream",
     "text": [
      "1000.0\n",
      "Writing C:\\Users\\marco\\Documents\\MASTER_DATA_SCIENTIST\\TFM_MSD\\SEED_FRA_OUTPUT\\NEUTRAL\\5_3_trial_19_signals.fif\n",
      "Closing C:\\Users\\marco\\Documents\\MASTER_DATA_SCIENTIST\\TFM_MSD\\SEED_FRA_OUTPUT\\NEUTRAL\\5_3_trial_19_signals.fif\n"
     ]
    },
    {
     "name": "stderr",
     "output_type": "stream",
     "text": [
      "C:\\Users\\marco\\AppData\\Local\\Temp\\ipykernel_14260\\1741641518.py:44: RuntimeWarning: This filename (C:\\Users\\marco\\Documents\\MASTER_DATA_SCIENTIST\\TFM_MSD\\SEED_FRA_OUTPUT\\NEUTRAL\\5_3_trial_19_signals.fif) does not conform to MNE naming conventions. All raw files should end with raw.fif, raw_sss.fif, raw_tsss.fif, _meg.fif, _eeg.fif, _ieeg.fif, raw.fif.gz, raw_sss.fif.gz, raw_tsss.fif.gz, _meg.fif.gz, _eeg.fif.gz or _ieeg.fif.gz\n",
      "  eeg_trial.save(output_path, overwrite=True)\n"
     ]
    },
    {
     "name": "stdout",
     "output_type": "stream",
     "text": [
      "[done]\n"
     ]
    },
    {
     "name": "stderr",
     "output_type": "stream",
     "text": [
      "\r",
      "Processing:  95%|██████████████████████████████████████████████████████████████████▋   | 20/21 [00:39<00:01,  1.95s/it]"
     ]
    },
    {
     "name": "stdout",
     "output_type": "stream",
     "text": [
      "1000.0\n",
      "Writing C:\\Users\\marco\\Documents\\MASTER_DATA_SCIENTIST\\TFM_MSD\\SEED_FRA_OUTPUT\\POSITIVE\\5_3_trial_20_signals.fif\n"
     ]
    },
    {
     "name": "stderr",
     "output_type": "stream",
     "text": [
      "C:\\Users\\marco\\AppData\\Local\\Temp\\ipykernel_14260\\1741641518.py:44: RuntimeWarning: This filename (C:\\Users\\marco\\Documents\\MASTER_DATA_SCIENTIST\\TFM_MSD\\SEED_FRA_OUTPUT\\POSITIVE\\5_3_trial_20_signals.fif) does not conform to MNE naming conventions. All raw files should end with raw.fif, raw_sss.fif, raw_tsss.fif, _meg.fif, _eeg.fif, _ieeg.fif, raw.fif.gz, raw_sss.fif.gz, raw_tsss.fif.gz, _meg.fif.gz, _eeg.fif.gz or _ieeg.fif.gz\n",
      "  eeg_trial.save(output_path, overwrite=True)\n"
     ]
    },
    {
     "name": "stdout",
     "output_type": "stream",
     "text": [
      "Closing C:\\Users\\marco\\Documents\\MASTER_DATA_SCIENTIST\\TFM_MSD\\SEED_FRA_OUTPUT\\POSITIVE\\5_3_trial_20_signals.fif\n",
      "[done]\n"
     ]
    },
    {
     "name": "stderr",
     "output_type": "stream",
     "text": [
      "Processing: 100%|██████████████████████████████████████████████████████████████████████| 21/21 [00:41<00:00,  1.96s/it]\n"
     ]
    },
    {
     "name": "stdout",
     "output_type": "stream",
     "text": [
      "Reading 0 ... 3824119  =      0.000 ...  3824.119 secs...\n"
     ]
    },
    {
     "name": "stderr",
     "output_type": "stream",
     "text": [
      "C:\\Users\\marco\\AppData\\Local\\Temp\\ipykernel_14260\\1741641518.py:4: RuntimeWarning:   Could not parse meas date from the header. Setting to None.\n",
      "  eeg_raw = mne.io.read_raw_cnt(_path, preload=True)\n"
     ]
    },
    {
     "name": "stdout",
     "output_type": "stream",
     "text": [
      "Filtering raw data in 1 contiguous segment\n",
      "Setting up band-pass filter from 0.5 - 55 Hz\n",
      "\n",
      "FIR filter parameters\n",
      "---------------------\n",
      "Designing a one-pass, zero-phase, non-causal bandpass filter:\n",
      "- Windowed time-domain design (firwin) method\n",
      "- Hamming window with 0.0194 passband ripple and 53 dB stopband attenuation\n",
      "- Lower passband edge: 0.50\n",
      "- Lower transition bandwidth: 0.50 Hz (-6 dB cutoff frequency: 0.25 Hz)\n",
      "- Upper passband edge: 55.00 Hz\n",
      "- Upper transition bandwidth: 13.75 Hz (-6 dB cutoff frequency: 61.88 Hz)\n",
      "- Filter length: 6601 samples (6.601 sec)\n",
      "\n"
     ]
    },
    {
     "name": "stderr",
     "output_type": "stream",
     "text": [
      "\r",
      "Processing:   0%|                                                                               | 0/21 [00:00<?, ?it/s]"
     ]
    },
    {
     "name": "stdout",
     "output_type": "stream",
     "text": [
      "1000.0\n",
      "Writing C:\\Users\\marco\\Documents\\MASTER_DATA_SCIENTIST\\TFM_MSD\\SEED_FRA_OUTPUT\\POSITIVE\\6_1_trial_0_signals.fif\n"
     ]
    },
    {
     "name": "stderr",
     "output_type": "stream",
     "text": [
      "C:\\Users\\marco\\AppData\\Local\\Temp\\ipykernel_14260\\1741641518.py:44: RuntimeWarning: This filename (C:\\Users\\marco\\Documents\\MASTER_DATA_SCIENTIST\\TFM_MSD\\SEED_FRA_OUTPUT\\POSITIVE\\6_1_trial_0_signals.fif) does not conform to MNE naming conventions. All raw files should end with raw.fif, raw_sss.fif, raw_tsss.fif, _meg.fif, _eeg.fif, _ieeg.fif, raw.fif.gz, raw_sss.fif.gz, raw_tsss.fif.gz, _meg.fif.gz, _eeg.fif.gz or _ieeg.fif.gz\n",
      "  eeg_trial.save(output_path, overwrite=True)\n"
     ]
    },
    {
     "name": "stdout",
     "output_type": "stream",
     "text": [
      "Closing C:\\Users\\marco\\Documents\\MASTER_DATA_SCIENTIST\\TFM_MSD\\SEED_FRA_OUTPUT\\POSITIVE\\6_1_trial_0_signals.fif\n",
      "[done]\n"
     ]
    },
    {
     "name": "stderr",
     "output_type": "stream",
     "text": [
      "\r",
      "Processing:   5%|███▍                                                                   | 1/21 [00:01<00:36,  1.85s/it]"
     ]
    },
    {
     "name": "stdout",
     "output_type": "stream",
     "text": [
      "1000.0\n",
      "Writing C:\\Users\\marco\\Documents\\MASTER_DATA_SCIENTIST\\TFM_MSD\\SEED_FRA_OUTPUT\\NEGATIVE\\6_1_trial_1_signals.fif\n"
     ]
    },
    {
     "name": "stderr",
     "output_type": "stream",
     "text": [
      "C:\\Users\\marco\\AppData\\Local\\Temp\\ipykernel_14260\\1741641518.py:44: RuntimeWarning: This filename (C:\\Users\\marco\\Documents\\MASTER_DATA_SCIENTIST\\TFM_MSD\\SEED_FRA_OUTPUT\\NEGATIVE\\6_1_trial_1_signals.fif) does not conform to MNE naming conventions. All raw files should end with raw.fif, raw_sss.fif, raw_tsss.fif, _meg.fif, _eeg.fif, _ieeg.fif, raw.fif.gz, raw_sss.fif.gz, raw_tsss.fif.gz, _meg.fif.gz, _eeg.fif.gz or _ieeg.fif.gz\n",
      "  eeg_trial.save(output_path, overwrite=True)\n"
     ]
    },
    {
     "name": "stdout",
     "output_type": "stream",
     "text": [
      "Closing C:\\Users\\marco\\Documents\\MASTER_DATA_SCIENTIST\\TFM_MSD\\SEED_FRA_OUTPUT\\NEGATIVE\\6_1_trial_1_signals.fif\n",
      "[done]\n"
     ]
    },
    {
     "name": "stderr",
     "output_type": "stream",
     "text": [
      "\r",
      "Processing:  10%|██████▊                                                                | 2/21 [00:04<00:39,  2.10s/it]"
     ]
    },
    {
     "name": "stdout",
     "output_type": "stream",
     "text": [
      "1000.0\n",
      "Writing C:\\Users\\marco\\Documents\\MASTER_DATA_SCIENTIST\\TFM_MSD\\SEED_FRA_OUTPUT\\NEUTRAL\\6_1_trial_2_signals.fif\n"
     ]
    },
    {
     "name": "stderr",
     "output_type": "stream",
     "text": [
      "C:\\Users\\marco\\AppData\\Local\\Temp\\ipykernel_14260\\1741641518.py:44: RuntimeWarning: This filename (C:\\Users\\marco\\Documents\\MASTER_DATA_SCIENTIST\\TFM_MSD\\SEED_FRA_OUTPUT\\NEUTRAL\\6_1_trial_2_signals.fif) does not conform to MNE naming conventions. All raw files should end with raw.fif, raw_sss.fif, raw_tsss.fif, _meg.fif, _eeg.fif, _ieeg.fif, raw.fif.gz, raw_sss.fif.gz, raw_tsss.fif.gz, _meg.fif.gz, _eeg.fif.gz or _ieeg.fif.gz\n",
      "  eeg_trial.save(output_path, overwrite=True)\n"
     ]
    },
    {
     "name": "stdout",
     "output_type": "stream",
     "text": [
      "Closing C:\\Users\\marco\\Documents\\MASTER_DATA_SCIENTIST\\TFM_MSD\\SEED_FRA_OUTPUT\\NEUTRAL\\6_1_trial_2_signals.fif\n",
      "[done]\n"
     ]
    },
    {
     "name": "stderr",
     "output_type": "stream",
     "text": [
      "\r",
      "Processing:  14%|██████████▏                                                            | 3/21 [00:05<00:35,  1.99s/it]"
     ]
    },
    {
     "name": "stdout",
     "output_type": "stream",
     "text": [
      "1000.0\n",
      "Writing C:\\Users\\marco\\Documents\\MASTER_DATA_SCIENTIST\\TFM_MSD\\SEED_FRA_OUTPUT\\NEGATIVE\\6_1_trial_3_signals.fif\n"
     ]
    },
    {
     "name": "stderr",
     "output_type": "stream",
     "text": [
      "C:\\Users\\marco\\AppData\\Local\\Temp\\ipykernel_14260\\1741641518.py:44: RuntimeWarning: This filename (C:\\Users\\marco\\Documents\\MASTER_DATA_SCIENTIST\\TFM_MSD\\SEED_FRA_OUTPUT\\NEGATIVE\\6_1_trial_3_signals.fif) does not conform to MNE naming conventions. All raw files should end with raw.fif, raw_sss.fif, raw_tsss.fif, _meg.fif, _eeg.fif, _ieeg.fif, raw.fif.gz, raw_sss.fif.gz, raw_tsss.fif.gz, _meg.fif.gz, _eeg.fif.gz or _ieeg.fif.gz\n",
      "  eeg_trial.save(output_path, overwrite=True)\n"
     ]
    },
    {
     "name": "stdout",
     "output_type": "stream",
     "text": [
      "Closing C:\\Users\\marco\\Documents\\MASTER_DATA_SCIENTIST\\TFM_MSD\\SEED_FRA_OUTPUT\\NEGATIVE\\6_1_trial_3_signals.fif\n",
      "[done]\n"
     ]
    },
    {
     "name": "stderr",
     "output_type": "stream",
     "text": [
      "\r",
      "Processing:  19%|█████████████▌                                                         | 4/21 [00:08<00:36,  2.14s/it]"
     ]
    },
    {
     "name": "stdout",
     "output_type": "stream",
     "text": [
      "1000.0\n",
      "Writing C:\\Users\\marco\\Documents\\MASTER_DATA_SCIENTIST\\TFM_MSD\\SEED_FRA_OUTPUT\\POSITIVE\\6_1_trial_4_signals.fif\n"
     ]
    },
    {
     "name": "stderr",
     "output_type": "stream",
     "text": [
      "C:\\Users\\marco\\AppData\\Local\\Temp\\ipykernel_14260\\1741641518.py:44: RuntimeWarning: This filename (C:\\Users\\marco\\Documents\\MASTER_DATA_SCIENTIST\\TFM_MSD\\SEED_FRA_OUTPUT\\POSITIVE\\6_1_trial_4_signals.fif) does not conform to MNE naming conventions. All raw files should end with raw.fif, raw_sss.fif, raw_tsss.fif, _meg.fif, _eeg.fif, _ieeg.fif, raw.fif.gz, raw_sss.fif.gz, raw_tsss.fif.gz, _meg.fif.gz, _eeg.fif.gz or _ieeg.fif.gz\n",
      "  eeg_trial.save(output_path, overwrite=True)\n"
     ]
    },
    {
     "name": "stdout",
     "output_type": "stream",
     "text": [
      "Closing C:\\Users\\marco\\Documents\\MASTER_DATA_SCIENTIST\\TFM_MSD\\SEED_FRA_OUTPUT\\POSITIVE\\6_1_trial_4_signals.fif\n",
      "[done]\n"
     ]
    },
    {
     "name": "stderr",
     "output_type": "stream",
     "text": [
      "\r",
      "Processing:  24%|████████████████▉                                                      | 5/21 [00:10<00:33,  2.07s/it]"
     ]
    },
    {
     "name": "stdout",
     "output_type": "stream",
     "text": [
      "1000.0\n",
      "Writing C:\\Users\\marco\\Documents\\MASTER_DATA_SCIENTIST\\TFM_MSD\\SEED_FRA_OUTPUT\\NEUTRAL\\6_1_trial_5_signals.fif\n"
     ]
    },
    {
     "name": "stderr",
     "output_type": "stream",
     "text": [
      "C:\\Users\\marco\\AppData\\Local\\Temp\\ipykernel_14260\\1741641518.py:44: RuntimeWarning: This filename (C:\\Users\\marco\\Documents\\MASTER_DATA_SCIENTIST\\TFM_MSD\\SEED_FRA_OUTPUT\\NEUTRAL\\6_1_trial_5_signals.fif) does not conform to MNE naming conventions. All raw files should end with raw.fif, raw_sss.fif, raw_tsss.fif, _meg.fif, _eeg.fif, _ieeg.fif, raw.fif.gz, raw_sss.fif.gz, raw_tsss.fif.gz, _meg.fif.gz, _eeg.fif.gz or _ieeg.fif.gz\n",
      "  eeg_trial.save(output_path, overwrite=True)\n"
     ]
    },
    {
     "name": "stdout",
     "output_type": "stream",
     "text": [
      "Closing C:\\Users\\marco\\Documents\\MASTER_DATA_SCIENTIST\\TFM_MSD\\SEED_FRA_OUTPUT\\NEUTRAL\\6_1_trial_5_signals.fif\n",
      "[done]\n"
     ]
    },
    {
     "name": "stderr",
     "output_type": "stream",
     "text": [
      "\r",
      "Processing:  29%|████████████████████▎                                                  | 6/21 [00:12<00:30,  2.06s/it]"
     ]
    },
    {
     "name": "stdout",
     "output_type": "stream",
     "text": [
      "1000.0\n",
      "Writing C:\\Users\\marco\\Documents\\MASTER_DATA_SCIENTIST\\TFM_MSD\\SEED_FRA_OUTPUT\\NEGATIVE\\6_1_trial_6_signals.fif\n"
     ]
    },
    {
     "name": "stderr",
     "output_type": "stream",
     "text": [
      "C:\\Users\\marco\\AppData\\Local\\Temp\\ipykernel_14260\\1741641518.py:44: RuntimeWarning: This filename (C:\\Users\\marco\\Documents\\MASTER_DATA_SCIENTIST\\TFM_MSD\\SEED_FRA_OUTPUT\\NEGATIVE\\6_1_trial_6_signals.fif) does not conform to MNE naming conventions. All raw files should end with raw.fif, raw_sss.fif, raw_tsss.fif, _meg.fif, _eeg.fif, _ieeg.fif, raw.fif.gz, raw_sss.fif.gz, raw_tsss.fif.gz, _meg.fif.gz, _eeg.fif.gz or _ieeg.fif.gz\n",
      "  eeg_trial.save(output_path, overwrite=True)\n"
     ]
    },
    {
     "name": "stdout",
     "output_type": "stream",
     "text": [
      "Closing C:\\Users\\marco\\Documents\\MASTER_DATA_SCIENTIST\\TFM_MSD\\SEED_FRA_OUTPUT\\NEGATIVE\\6_1_trial_6_signals.fif\n",
      "[done]\n"
     ]
    },
    {
     "name": "stderr",
     "output_type": "stream",
     "text": [
      "\r",
      "Processing:  33%|███████████████████████▋                                               | 7/21 [00:14<00:28,  2.02s/it]"
     ]
    },
    {
     "name": "stdout",
     "output_type": "stream",
     "text": [
      "1000.0\n",
      "Writing C:\\Users\\marco\\Documents\\MASTER_DATA_SCIENTIST\\TFM_MSD\\SEED_FRA_OUTPUT\\NEUTRAL\\6_1_trial_7_signals.fif\n"
     ]
    },
    {
     "name": "stderr",
     "output_type": "stream",
     "text": [
      "C:\\Users\\marco\\AppData\\Local\\Temp\\ipykernel_14260\\1741641518.py:44: RuntimeWarning: This filename (C:\\Users\\marco\\Documents\\MASTER_DATA_SCIENTIST\\TFM_MSD\\SEED_FRA_OUTPUT\\NEUTRAL\\6_1_trial_7_signals.fif) does not conform to MNE naming conventions. All raw files should end with raw.fif, raw_sss.fif, raw_tsss.fif, _meg.fif, _eeg.fif, _ieeg.fif, raw.fif.gz, raw_sss.fif.gz, raw_tsss.fif.gz, _meg.fif.gz, _eeg.fif.gz or _ieeg.fif.gz\n",
      "  eeg_trial.save(output_path, overwrite=True)\n"
     ]
    },
    {
     "name": "stdout",
     "output_type": "stream",
     "text": [
      "Closing C:\\Users\\marco\\Documents\\MASTER_DATA_SCIENTIST\\TFM_MSD\\SEED_FRA_OUTPUT\\NEUTRAL\\6_1_trial_7_signals.fif\n",
      "[done]\n"
     ]
    },
    {
     "name": "stderr",
     "output_type": "stream",
     "text": [
      "\r",
      "Processing:  38%|███████████████████████████                                            | 8/21 [00:16<00:26,  2.05s/it]"
     ]
    },
    {
     "name": "stdout",
     "output_type": "stream",
     "text": [
      "1000.0\n",
      "Writing C:\\Users\\marco\\Documents\\MASTER_DATA_SCIENTIST\\TFM_MSD\\SEED_FRA_OUTPUT\\POSITIVE\\6_1_trial_8_signals.fif\n"
     ]
    },
    {
     "name": "stderr",
     "output_type": "stream",
     "text": [
      "C:\\Users\\marco\\AppData\\Local\\Temp\\ipykernel_14260\\1741641518.py:44: RuntimeWarning: This filename (C:\\Users\\marco\\Documents\\MASTER_DATA_SCIENTIST\\TFM_MSD\\SEED_FRA_OUTPUT\\POSITIVE\\6_1_trial_8_signals.fif) does not conform to MNE naming conventions. All raw files should end with raw.fif, raw_sss.fif, raw_tsss.fif, _meg.fif, _eeg.fif, _ieeg.fif, raw.fif.gz, raw_sss.fif.gz, raw_tsss.fif.gz, _meg.fif.gz, _eeg.fif.gz or _ieeg.fif.gz\n",
      "  eeg_trial.save(output_path, overwrite=True)\n"
     ]
    },
    {
     "name": "stdout",
     "output_type": "stream",
     "text": [
      "Closing C:\\Users\\marco\\Documents\\MASTER_DATA_SCIENTIST\\TFM_MSD\\SEED_FRA_OUTPUT\\POSITIVE\\6_1_trial_8_signals.fif\n",
      "[done]\n"
     ]
    },
    {
     "name": "stderr",
     "output_type": "stream",
     "text": [
      "\r",
      "Processing:  43%|██████████████████████████████▍                                        | 9/21 [00:18<00:24,  2.03s/it]"
     ]
    },
    {
     "name": "stdout",
     "output_type": "stream",
     "text": [
      "1000.0\n",
      "Writing C:\\Users\\marco\\Documents\\MASTER_DATA_SCIENTIST\\TFM_MSD\\SEED_FRA_OUTPUT\\NEGATIVE\\6_1_trial_9_signals.fif\n"
     ]
    },
    {
     "name": "stderr",
     "output_type": "stream",
     "text": [
      "C:\\Users\\marco\\AppData\\Local\\Temp\\ipykernel_14260\\1741641518.py:44: RuntimeWarning: This filename (C:\\Users\\marco\\Documents\\MASTER_DATA_SCIENTIST\\TFM_MSD\\SEED_FRA_OUTPUT\\NEGATIVE\\6_1_trial_9_signals.fif) does not conform to MNE naming conventions. All raw files should end with raw.fif, raw_sss.fif, raw_tsss.fif, _meg.fif, _eeg.fif, _ieeg.fif, raw.fif.gz, raw_sss.fif.gz, raw_tsss.fif.gz, _meg.fif.gz, _eeg.fif.gz or _ieeg.fif.gz\n",
      "  eeg_trial.save(output_path, overwrite=True)\n"
     ]
    },
    {
     "name": "stdout",
     "output_type": "stream",
     "text": [
      "Closing C:\\Users\\marco\\Documents\\MASTER_DATA_SCIENTIST\\TFM_MSD\\SEED_FRA_OUTPUT\\NEGATIVE\\6_1_trial_9_signals.fif\n",
      "[done]\n"
     ]
    },
    {
     "name": "stderr",
     "output_type": "stream",
     "text": [
      "\r",
      "Processing:  48%|█████████████████████████████████▎                                    | 10/21 [00:20<00:23,  2.14s/it]"
     ]
    },
    {
     "name": "stdout",
     "output_type": "stream",
     "text": [
      "1000.0\n",
      "Writing C:\\Users\\marco\\Documents\\MASTER_DATA_SCIENTIST\\TFM_MSD\\SEED_FRA_OUTPUT\\NEUTRAL\\6_1_trial_10_signals.fif\n"
     ]
    },
    {
     "name": "stderr",
     "output_type": "stream",
     "text": [
      "C:\\Users\\marco\\AppData\\Local\\Temp\\ipykernel_14260\\1741641518.py:44: RuntimeWarning: This filename (C:\\Users\\marco\\Documents\\MASTER_DATA_SCIENTIST\\TFM_MSD\\SEED_FRA_OUTPUT\\NEUTRAL\\6_1_trial_10_signals.fif) does not conform to MNE naming conventions. All raw files should end with raw.fif, raw_sss.fif, raw_tsss.fif, _meg.fif, _eeg.fif, _ieeg.fif, raw.fif.gz, raw_sss.fif.gz, raw_tsss.fif.gz, _meg.fif.gz, _eeg.fif.gz or _ieeg.fif.gz\n",
      "  eeg_trial.save(output_path, overwrite=True)\n"
     ]
    },
    {
     "name": "stdout",
     "output_type": "stream",
     "text": [
      "Closing C:\\Users\\marco\\Documents\\MASTER_DATA_SCIENTIST\\TFM_MSD\\SEED_FRA_OUTPUT\\NEUTRAL\\6_1_trial_10_signals.fif\n",
      "[done]\n"
     ]
    },
    {
     "name": "stderr",
     "output_type": "stream",
     "text": [
      "\r",
      "Processing:  52%|████████████████████████████████████▋                                 | 11/21 [00:22<00:19,  1.99s/it]"
     ]
    },
    {
     "name": "stdout",
     "output_type": "stream",
     "text": [
      "1000.0\n",
      "Writing C:\\Users\\marco\\Documents\\MASTER_DATA_SCIENTIST\\TFM_MSD\\SEED_FRA_OUTPUT\\POSITIVE\\6_1_trial_11_signals.fif\n"
     ]
    },
    {
     "name": "stderr",
     "output_type": "stream",
     "text": [
      "C:\\Users\\marco\\AppData\\Local\\Temp\\ipykernel_14260\\1741641518.py:44: RuntimeWarning: This filename (C:\\Users\\marco\\Documents\\MASTER_DATA_SCIENTIST\\TFM_MSD\\SEED_FRA_OUTPUT\\POSITIVE\\6_1_trial_11_signals.fif) does not conform to MNE naming conventions. All raw files should end with raw.fif, raw_sss.fif, raw_tsss.fif, _meg.fif, _eeg.fif, _ieeg.fif, raw.fif.gz, raw_sss.fif.gz, raw_tsss.fif.gz, _meg.fif.gz, _eeg.fif.gz or _ieeg.fif.gz\n",
      "  eeg_trial.save(output_path, overwrite=True)\n"
     ]
    },
    {
     "name": "stdout",
     "output_type": "stream",
     "text": [
      "Closing C:\\Users\\marco\\Documents\\MASTER_DATA_SCIENTIST\\TFM_MSD\\SEED_FRA_OUTPUT\\POSITIVE\\6_1_trial_11_signals.fif\n",
      "[done]\n"
     ]
    },
    {
     "name": "stderr",
     "output_type": "stream",
     "text": [
      "\r",
      "Processing:  57%|████████████████████████████████████████                              | 12/21 [00:24<00:17,  1.95s/it]"
     ]
    },
    {
     "name": "stdout",
     "output_type": "stream",
     "text": [
      "1000.0\n",
      "Writing C:\\Users\\marco\\Documents\\MASTER_DATA_SCIENTIST\\TFM_MSD\\SEED_FRA_OUTPUT\\POSITIVE\\6_1_trial_12_signals.fif\n"
     ]
    },
    {
     "name": "stderr",
     "output_type": "stream",
     "text": [
      "C:\\Users\\marco\\AppData\\Local\\Temp\\ipykernel_14260\\1741641518.py:44: RuntimeWarning: This filename (C:\\Users\\marco\\Documents\\MASTER_DATA_SCIENTIST\\TFM_MSD\\SEED_FRA_OUTPUT\\POSITIVE\\6_1_trial_12_signals.fif) does not conform to MNE naming conventions. All raw files should end with raw.fif, raw_sss.fif, raw_tsss.fif, _meg.fif, _eeg.fif, _ieeg.fif, raw.fif.gz, raw_sss.fif.gz, raw_tsss.fif.gz, _meg.fif.gz, _eeg.fif.gz or _ieeg.fif.gz\n",
      "  eeg_trial.save(output_path, overwrite=True)\n"
     ]
    },
    {
     "name": "stdout",
     "output_type": "stream",
     "text": [
      "Closing C:\\Users\\marco\\Documents\\MASTER_DATA_SCIENTIST\\TFM_MSD\\SEED_FRA_OUTPUT\\POSITIVE\\6_1_trial_12_signals.fif\n",
      "[done]\n"
     ]
    },
    {
     "name": "stderr",
     "output_type": "stream",
     "text": [
      "\r",
      "Processing:  62%|███████████████████████████████████████████▎                          | 13/21 [00:25<00:14,  1.86s/it]"
     ]
    },
    {
     "name": "stdout",
     "output_type": "stream",
     "text": [
      "1000.0\n",
      "Writing C:\\Users\\marco\\Documents\\MASTER_DATA_SCIENTIST\\TFM_MSD\\SEED_FRA_OUTPUT\\NEUTRAL\\6_1_trial_13_signals.fif\n"
     ]
    },
    {
     "name": "stderr",
     "output_type": "stream",
     "text": [
      "C:\\Users\\marco\\AppData\\Local\\Temp\\ipykernel_14260\\1741641518.py:44: RuntimeWarning: This filename (C:\\Users\\marco\\Documents\\MASTER_DATA_SCIENTIST\\TFM_MSD\\SEED_FRA_OUTPUT\\NEUTRAL\\6_1_trial_13_signals.fif) does not conform to MNE naming conventions. All raw files should end with raw.fif, raw_sss.fif, raw_tsss.fif, _meg.fif, _eeg.fif, _ieeg.fif, raw.fif.gz, raw_sss.fif.gz, raw_tsss.fif.gz, _meg.fif.gz, _eeg.fif.gz or _ieeg.fif.gz\n",
      "  eeg_trial.save(output_path, overwrite=True)\n"
     ]
    },
    {
     "name": "stdout",
     "output_type": "stream",
     "text": [
      "Closing C:\\Users\\marco\\Documents\\MASTER_DATA_SCIENTIST\\TFM_MSD\\SEED_FRA_OUTPUT\\NEUTRAL\\6_1_trial_13_signals.fif\n",
      "[done]\n"
     ]
    },
    {
     "name": "stderr",
     "output_type": "stream",
     "text": [
      "\r",
      "Processing:  67%|██████████████████████████████████████████████▋                       | 14/21 [00:27<00:13,  1.92s/it]"
     ]
    },
    {
     "name": "stdout",
     "output_type": "stream",
     "text": [
      "1000.0\n",
      "Writing C:\\Users\\marco\\Documents\\MASTER_DATA_SCIENTIST\\TFM_MSD\\SEED_FRA_OUTPUT\\NEGATIVE\\6_1_trial_14_signals.fif\n"
     ]
    },
    {
     "name": "stderr",
     "output_type": "stream",
     "text": [
      "C:\\Users\\marco\\AppData\\Local\\Temp\\ipykernel_14260\\1741641518.py:44: RuntimeWarning: This filename (C:\\Users\\marco\\Documents\\MASTER_DATA_SCIENTIST\\TFM_MSD\\SEED_FRA_OUTPUT\\NEGATIVE\\6_1_trial_14_signals.fif) does not conform to MNE naming conventions. All raw files should end with raw.fif, raw_sss.fif, raw_tsss.fif, _meg.fif, _eeg.fif, _ieeg.fif, raw.fif.gz, raw_sss.fif.gz, raw_tsss.fif.gz, _meg.fif.gz, _eeg.fif.gz or _ieeg.fif.gz\n",
      "  eeg_trial.save(output_path, overwrite=True)\n"
     ]
    },
    {
     "name": "stdout",
     "output_type": "stream",
     "text": [
      "Closing C:\\Users\\marco\\Documents\\MASTER_DATA_SCIENTIST\\TFM_MSD\\SEED_FRA_OUTPUT\\NEGATIVE\\6_1_trial_14_signals.fif\n",
      "[done]\n"
     ]
    },
    {
     "name": "stderr",
     "output_type": "stream",
     "text": [
      "\r",
      "Processing:  71%|██████████████████████████████████████████████████                    | 15/21 [00:30<00:11,  1.95s/it]"
     ]
    },
    {
     "name": "stdout",
     "output_type": "stream",
     "text": [
      "1000.0\n",
      "Writing C:\\Users\\marco\\Documents\\MASTER_DATA_SCIENTIST\\TFM_MSD\\SEED_FRA_OUTPUT\\NEGATIVE\\6_1_trial_15_signals.fif\n",
      "Closing C:\\Users\\marco\\Documents\\MASTER_DATA_SCIENTIST\\TFM_MSD\\SEED_FRA_OUTPUT\\NEGATIVE\\6_1_trial_15_signals.fif\n"
     ]
    },
    {
     "name": "stderr",
     "output_type": "stream",
     "text": [
      "C:\\Users\\marco\\AppData\\Local\\Temp\\ipykernel_14260\\1741641518.py:44: RuntimeWarning: This filename (C:\\Users\\marco\\Documents\\MASTER_DATA_SCIENTIST\\TFM_MSD\\SEED_FRA_OUTPUT\\NEGATIVE\\6_1_trial_15_signals.fif) does not conform to MNE naming conventions. All raw files should end with raw.fif, raw_sss.fif, raw_tsss.fif, _meg.fif, _eeg.fif, _ieeg.fif, raw.fif.gz, raw_sss.fif.gz, raw_tsss.fif.gz, _meg.fif.gz, _eeg.fif.gz or _ieeg.fif.gz\n",
      "  eeg_trial.save(output_path, overwrite=True)\n"
     ]
    },
    {
     "name": "stdout",
     "output_type": "stream",
     "text": [
      "[done]\n"
     ]
    },
    {
     "name": "stderr",
     "output_type": "stream",
     "text": [
      "\r",
      "Processing:  76%|█████████████████████████████████████████████████████▎                | 16/21 [00:31<00:09,  1.90s/it]"
     ]
    },
    {
     "name": "stdout",
     "output_type": "stream",
     "text": [
      "1000.0\n",
      "Writing C:\\Users\\marco\\Documents\\MASTER_DATA_SCIENTIST\\TFM_MSD\\SEED_FRA_OUTPUT\\NEUTRAL\\6_1_trial_16_signals.fif\n"
     ]
    },
    {
     "name": "stderr",
     "output_type": "stream",
     "text": [
      "C:\\Users\\marco\\AppData\\Local\\Temp\\ipykernel_14260\\1741641518.py:44: RuntimeWarning: This filename (C:\\Users\\marco\\Documents\\MASTER_DATA_SCIENTIST\\TFM_MSD\\SEED_FRA_OUTPUT\\NEUTRAL\\6_1_trial_16_signals.fif) does not conform to MNE naming conventions. All raw files should end with raw.fif, raw_sss.fif, raw_tsss.fif, _meg.fif, _eeg.fif, _ieeg.fif, raw.fif.gz, raw_sss.fif.gz, raw_tsss.fif.gz, _meg.fif.gz, _eeg.fif.gz or _ieeg.fif.gz\n",
      "  eeg_trial.save(output_path, overwrite=True)\n"
     ]
    },
    {
     "name": "stdout",
     "output_type": "stream",
     "text": [
      "Closing C:\\Users\\marco\\Documents\\MASTER_DATA_SCIENTIST\\TFM_MSD\\SEED_FRA_OUTPUT\\NEUTRAL\\6_1_trial_16_signals.fif\n",
      "[done]\n"
     ]
    },
    {
     "name": "stderr",
     "output_type": "stream",
     "text": [
      "\r",
      "Processing:  81%|████████████████████████████████████████████████████████▋             | 17/21 [00:33<00:07,  1.95s/it]"
     ]
    },
    {
     "name": "stdout",
     "output_type": "stream",
     "text": [
      "1000.0\n",
      "Writing C:\\Users\\marco\\Documents\\MASTER_DATA_SCIENTIST\\TFM_MSD\\SEED_FRA_OUTPUT\\POSITIVE\\6_1_trial_17_signals.fif\n"
     ]
    },
    {
     "name": "stderr",
     "output_type": "stream",
     "text": [
      "C:\\Users\\marco\\AppData\\Local\\Temp\\ipykernel_14260\\1741641518.py:44: RuntimeWarning: This filename (C:\\Users\\marco\\Documents\\MASTER_DATA_SCIENTIST\\TFM_MSD\\SEED_FRA_OUTPUT\\POSITIVE\\6_1_trial_17_signals.fif) does not conform to MNE naming conventions. All raw files should end with raw.fif, raw_sss.fif, raw_tsss.fif, _meg.fif, _eeg.fif, _ieeg.fif, raw.fif.gz, raw_sss.fif.gz, raw_tsss.fif.gz, _meg.fif.gz, _eeg.fif.gz or _ieeg.fif.gz\n",
      "  eeg_trial.save(output_path, overwrite=True)\n"
     ]
    },
    {
     "name": "stdout",
     "output_type": "stream",
     "text": [
      "Closing C:\\Users\\marco\\Documents\\MASTER_DATA_SCIENTIST\\TFM_MSD\\SEED_FRA_OUTPUT\\POSITIVE\\6_1_trial_17_signals.fif\n",
      "[done]\n"
     ]
    },
    {
     "name": "stderr",
     "output_type": "stream",
     "text": [
      "\r",
      "Processing:  86%|████████████████████████████████████████████████████████████          | 18/21 [00:35<00:05,  1.92s/it]"
     ]
    },
    {
     "name": "stdout",
     "output_type": "stream",
     "text": [
      "1000.0\n",
      "Writing C:\\Users\\marco\\Documents\\MASTER_DATA_SCIENTIST\\TFM_MSD\\SEED_FRA_OUTPUT\\NEGATIVE\\6_1_trial_18_signals.fif\n"
     ]
    },
    {
     "name": "stderr",
     "output_type": "stream",
     "text": [
      "C:\\Users\\marco\\AppData\\Local\\Temp\\ipykernel_14260\\1741641518.py:44: RuntimeWarning: This filename (C:\\Users\\marco\\Documents\\MASTER_DATA_SCIENTIST\\TFM_MSD\\SEED_FRA_OUTPUT\\NEGATIVE\\6_1_trial_18_signals.fif) does not conform to MNE naming conventions. All raw files should end with raw.fif, raw_sss.fif, raw_tsss.fif, _meg.fif, _eeg.fif, _ieeg.fif, raw.fif.gz, raw_sss.fif.gz, raw_tsss.fif.gz, _meg.fif.gz, _eeg.fif.gz or _ieeg.fif.gz\n",
      "  eeg_trial.save(output_path, overwrite=True)\n"
     ]
    },
    {
     "name": "stdout",
     "output_type": "stream",
     "text": [
      "Closing C:\\Users\\marco\\Documents\\MASTER_DATA_SCIENTIST\\TFM_MSD\\SEED_FRA_OUTPUT\\NEGATIVE\\6_1_trial_18_signals.fif\n",
      "[done]\n"
     ]
    },
    {
     "name": "stderr",
     "output_type": "stream",
     "text": [
      "\r",
      "Processing:  90%|███████████████████████████████████████████████████████████████▎      | 19/21 [00:37<00:03,  1.93s/it]"
     ]
    },
    {
     "name": "stdout",
     "output_type": "stream",
     "text": [
      "1000.0\n",
      "Writing C:\\Users\\marco\\Documents\\MASTER_DATA_SCIENTIST\\TFM_MSD\\SEED_FRA_OUTPUT\\NEUTRAL\\6_1_trial_19_signals.fif\n",
      "Closing C:\\Users\\marco\\Documents\\MASTER_DATA_SCIENTIST\\TFM_MSD\\SEED_FRA_OUTPUT\\NEUTRAL\\6_1_trial_19_signals.fif\n"
     ]
    },
    {
     "name": "stderr",
     "output_type": "stream",
     "text": [
      "C:\\Users\\marco\\AppData\\Local\\Temp\\ipykernel_14260\\1741641518.py:44: RuntimeWarning: This filename (C:\\Users\\marco\\Documents\\MASTER_DATA_SCIENTIST\\TFM_MSD\\SEED_FRA_OUTPUT\\NEUTRAL\\6_1_trial_19_signals.fif) does not conform to MNE naming conventions. All raw files should end with raw.fif, raw_sss.fif, raw_tsss.fif, _meg.fif, _eeg.fif, _ieeg.fif, raw.fif.gz, raw_sss.fif.gz, raw_tsss.fif.gz, _meg.fif.gz, _eeg.fif.gz or _ieeg.fif.gz\n",
      "  eeg_trial.save(output_path, overwrite=True)\n"
     ]
    },
    {
     "name": "stdout",
     "output_type": "stream",
     "text": [
      "[done]\n"
     ]
    },
    {
     "name": "stderr",
     "output_type": "stream",
     "text": [
      "\r",
      "Processing:  95%|██████████████████████████████████████████████████████████████████▋   | 20/21 [00:39<00:01,  1.82s/it]"
     ]
    },
    {
     "name": "stdout",
     "output_type": "stream",
     "text": [
      "1000.0\n",
      "Writing C:\\Users\\marco\\Documents\\MASTER_DATA_SCIENTIST\\TFM_MSD\\SEED_FRA_OUTPUT\\POSITIVE\\6_1_trial_20_signals.fif\n"
     ]
    },
    {
     "name": "stderr",
     "output_type": "stream",
     "text": [
      "C:\\Users\\marco\\AppData\\Local\\Temp\\ipykernel_14260\\1741641518.py:44: RuntimeWarning: This filename (C:\\Users\\marco\\Documents\\MASTER_DATA_SCIENTIST\\TFM_MSD\\SEED_FRA_OUTPUT\\POSITIVE\\6_1_trial_20_signals.fif) does not conform to MNE naming conventions. All raw files should end with raw.fif, raw_sss.fif, raw_tsss.fif, _meg.fif, _eeg.fif, _ieeg.fif, raw.fif.gz, raw_sss.fif.gz, raw_tsss.fif.gz, _meg.fif.gz, _eeg.fif.gz or _ieeg.fif.gz\n",
      "  eeg_trial.save(output_path, overwrite=True)\n"
     ]
    },
    {
     "name": "stdout",
     "output_type": "stream",
     "text": [
      "Closing C:\\Users\\marco\\Documents\\MASTER_DATA_SCIENTIST\\TFM_MSD\\SEED_FRA_OUTPUT\\POSITIVE\\6_1_trial_20_signals.fif\n",
      "[done]\n"
     ]
    },
    {
     "name": "stderr",
     "output_type": "stream",
     "text": [
      "Processing: 100%|██████████████████████████████████████████████████████████████████████| 21/21 [00:40<00:00,  1.95s/it]\n"
     ]
    },
    {
     "name": "stdout",
     "output_type": "stream",
     "text": [
      "Reading 0 ... 3814639  =      0.000 ...  3814.639 secs...\n"
     ]
    },
    {
     "name": "stderr",
     "output_type": "stream",
     "text": [
      "C:\\Users\\marco\\AppData\\Local\\Temp\\ipykernel_14260\\1741641518.py:4: RuntimeWarning:   Could not parse meas date from the header. Setting to None.\n",
      "  eeg_raw = mne.io.read_raw_cnt(_path, preload=True)\n"
     ]
    },
    {
     "name": "stdout",
     "output_type": "stream",
     "text": [
      "Filtering raw data in 1 contiguous segment\n",
      "Setting up band-pass filter from 0.5 - 55 Hz\n",
      "\n",
      "FIR filter parameters\n",
      "---------------------\n",
      "Designing a one-pass, zero-phase, non-causal bandpass filter:\n",
      "- Windowed time-domain design (firwin) method\n",
      "- Hamming window with 0.0194 passband ripple and 53 dB stopband attenuation\n",
      "- Lower passband edge: 0.50\n",
      "- Lower transition bandwidth: 0.50 Hz (-6 dB cutoff frequency: 0.25 Hz)\n",
      "- Upper passband edge: 55.00 Hz\n",
      "- Upper transition bandwidth: 13.75 Hz (-6 dB cutoff frequency: 61.88 Hz)\n",
      "- Filter length: 6601 samples (6.601 sec)\n",
      "\n"
     ]
    },
    {
     "name": "stderr",
     "output_type": "stream",
     "text": [
      "\r",
      "Processing:   0%|                                                                               | 0/21 [00:00<?, ?it/s]"
     ]
    },
    {
     "name": "stdout",
     "output_type": "stream",
     "text": [
      "1000.0\n",
      "Writing C:\\Users\\marco\\Documents\\MASTER_DATA_SCIENTIST\\TFM_MSD\\SEED_FRA_OUTPUT\\POSITIVE\\6_2_trial_0_signals.fif\n"
     ]
    },
    {
     "name": "stderr",
     "output_type": "stream",
     "text": [
      "C:\\Users\\marco\\AppData\\Local\\Temp\\ipykernel_14260\\1741641518.py:44: RuntimeWarning: This filename (C:\\Users\\marco\\Documents\\MASTER_DATA_SCIENTIST\\TFM_MSD\\SEED_FRA_OUTPUT\\POSITIVE\\6_2_trial_0_signals.fif) does not conform to MNE naming conventions. All raw files should end with raw.fif, raw_sss.fif, raw_tsss.fif, _meg.fif, _eeg.fif, _ieeg.fif, raw.fif.gz, raw_sss.fif.gz, raw_tsss.fif.gz, _meg.fif.gz, _eeg.fif.gz or _ieeg.fif.gz\n",
      "  eeg_trial.save(output_path, overwrite=True)\n"
     ]
    },
    {
     "name": "stdout",
     "output_type": "stream",
     "text": [
      "Closing C:\\Users\\marco\\Documents\\MASTER_DATA_SCIENTIST\\TFM_MSD\\SEED_FRA_OUTPUT\\POSITIVE\\6_2_trial_0_signals.fif\n",
      "[done]\n"
     ]
    },
    {
     "name": "stderr",
     "output_type": "stream",
     "text": [
      "\r",
      "Processing:   5%|███▍                                                                   | 1/21 [00:01<00:36,  1.82s/it]"
     ]
    },
    {
     "name": "stdout",
     "output_type": "stream",
     "text": [
      "1000.0\n",
      "Writing C:\\Users\\marco\\Documents\\MASTER_DATA_SCIENTIST\\TFM_MSD\\SEED_FRA_OUTPUT\\NEGATIVE\\6_2_trial_1_signals.fif\n"
     ]
    },
    {
     "name": "stderr",
     "output_type": "stream",
     "text": [
      "C:\\Users\\marco\\AppData\\Local\\Temp\\ipykernel_14260\\1741641518.py:44: RuntimeWarning: This filename (C:\\Users\\marco\\Documents\\MASTER_DATA_SCIENTIST\\TFM_MSD\\SEED_FRA_OUTPUT\\NEGATIVE\\6_2_trial_1_signals.fif) does not conform to MNE naming conventions. All raw files should end with raw.fif, raw_sss.fif, raw_tsss.fif, _meg.fif, _eeg.fif, _ieeg.fif, raw.fif.gz, raw_sss.fif.gz, raw_tsss.fif.gz, _meg.fif.gz, _eeg.fif.gz or _ieeg.fif.gz\n",
      "  eeg_trial.save(output_path, overwrite=True)\n"
     ]
    },
    {
     "name": "stdout",
     "output_type": "stream",
     "text": [
      "Closing C:\\Users\\marco\\Documents\\MASTER_DATA_SCIENTIST\\TFM_MSD\\SEED_FRA_OUTPUT\\NEGATIVE\\6_2_trial_1_signals.fif\n",
      "[done]\n"
     ]
    },
    {
     "name": "stderr",
     "output_type": "stream",
     "text": [
      "\r",
      "Processing:  10%|██████▊                                                                | 2/21 [00:03<00:35,  1.88s/it]"
     ]
    },
    {
     "name": "stdout",
     "output_type": "stream",
     "text": [
      "1000.0\n",
      "Writing C:\\Users\\marco\\Documents\\MASTER_DATA_SCIENTIST\\TFM_MSD\\SEED_FRA_OUTPUT\\NEUTRAL\\6_2_trial_2_signals.fif\n"
     ]
    },
    {
     "name": "stderr",
     "output_type": "stream",
     "text": [
      "C:\\Users\\marco\\AppData\\Local\\Temp\\ipykernel_14260\\1741641518.py:44: RuntimeWarning: This filename (C:\\Users\\marco\\Documents\\MASTER_DATA_SCIENTIST\\TFM_MSD\\SEED_FRA_OUTPUT\\NEUTRAL\\6_2_trial_2_signals.fif) does not conform to MNE naming conventions. All raw files should end with raw.fif, raw_sss.fif, raw_tsss.fif, _meg.fif, _eeg.fif, _ieeg.fif, raw.fif.gz, raw_sss.fif.gz, raw_tsss.fif.gz, _meg.fif.gz, _eeg.fif.gz or _ieeg.fif.gz\n",
      "  eeg_trial.save(output_path, overwrite=True)\n"
     ]
    },
    {
     "name": "stdout",
     "output_type": "stream",
     "text": [
      "Closing C:\\Users\\marco\\Documents\\MASTER_DATA_SCIENTIST\\TFM_MSD\\SEED_FRA_OUTPUT\\NEUTRAL\\6_2_trial_2_signals.fif\n",
      "[done]\n"
     ]
    },
    {
     "name": "stderr",
     "output_type": "stream",
     "text": [
      "\r",
      "Processing:  14%|██████████▏                                                            | 3/21 [00:05<00:33,  1.86s/it]"
     ]
    },
    {
     "name": "stdout",
     "output_type": "stream",
     "text": [
      "1000.0\n",
      "Writing C:\\Users\\marco\\Documents\\MASTER_DATA_SCIENTIST\\TFM_MSD\\SEED_FRA_OUTPUT\\NEGATIVE\\6_2_trial_3_signals.fif\n"
     ]
    },
    {
     "name": "stderr",
     "output_type": "stream",
     "text": [
      "C:\\Users\\marco\\AppData\\Local\\Temp\\ipykernel_14260\\1741641518.py:44: RuntimeWarning: This filename (C:\\Users\\marco\\Documents\\MASTER_DATA_SCIENTIST\\TFM_MSD\\SEED_FRA_OUTPUT\\NEGATIVE\\6_2_trial_3_signals.fif) does not conform to MNE naming conventions. All raw files should end with raw.fif, raw_sss.fif, raw_tsss.fif, _meg.fif, _eeg.fif, _ieeg.fif, raw.fif.gz, raw_sss.fif.gz, raw_tsss.fif.gz, _meg.fif.gz, _eeg.fif.gz or _ieeg.fif.gz\n",
      "  eeg_trial.save(output_path, overwrite=True)\n"
     ]
    },
    {
     "name": "stdout",
     "output_type": "stream",
     "text": [
      "Closing C:\\Users\\marco\\Documents\\MASTER_DATA_SCIENTIST\\TFM_MSD\\SEED_FRA_OUTPUT\\NEGATIVE\\6_2_trial_3_signals.fif\n",
      "[done]\n"
     ]
    },
    {
     "name": "stderr",
     "output_type": "stream",
     "text": [
      "\r",
      "Processing:  19%|█████████████▌                                                         | 4/21 [00:07<00:35,  2.07s/it]"
     ]
    },
    {
     "name": "stdout",
     "output_type": "stream",
     "text": [
      "1000.0\n",
      "Writing C:\\Users\\marco\\Documents\\MASTER_DATA_SCIENTIST\\TFM_MSD\\SEED_FRA_OUTPUT\\POSITIVE\\6_2_trial_4_signals.fif\n"
     ]
    },
    {
     "name": "stderr",
     "output_type": "stream",
     "text": [
      "C:\\Users\\marco\\AppData\\Local\\Temp\\ipykernel_14260\\1741641518.py:44: RuntimeWarning: This filename (C:\\Users\\marco\\Documents\\MASTER_DATA_SCIENTIST\\TFM_MSD\\SEED_FRA_OUTPUT\\POSITIVE\\6_2_trial_4_signals.fif) does not conform to MNE naming conventions. All raw files should end with raw.fif, raw_sss.fif, raw_tsss.fif, _meg.fif, _eeg.fif, _ieeg.fif, raw.fif.gz, raw_sss.fif.gz, raw_tsss.fif.gz, _meg.fif.gz, _eeg.fif.gz or _ieeg.fif.gz\n",
      "  eeg_trial.save(output_path, overwrite=True)\n"
     ]
    },
    {
     "name": "stdout",
     "output_type": "stream",
     "text": [
      "Closing C:\\Users\\marco\\Documents\\MASTER_DATA_SCIENTIST\\TFM_MSD\\SEED_FRA_OUTPUT\\POSITIVE\\6_2_trial_4_signals.fif\n",
      "[done]\n"
     ]
    },
    {
     "name": "stderr",
     "output_type": "stream",
     "text": [
      "\r",
      "Processing:  24%|████████████████▉                                                      | 5/21 [00:09<00:29,  1.87s/it]"
     ]
    },
    {
     "name": "stdout",
     "output_type": "stream",
     "text": [
      "1000.0\n",
      "Writing C:\\Users\\marco\\Documents\\MASTER_DATA_SCIENTIST\\TFM_MSD\\SEED_FRA_OUTPUT\\NEUTRAL\\6_2_trial_5_signals.fif\n"
     ]
    },
    {
     "name": "stderr",
     "output_type": "stream",
     "text": [
      "C:\\Users\\marco\\AppData\\Local\\Temp\\ipykernel_14260\\1741641518.py:44: RuntimeWarning: This filename (C:\\Users\\marco\\Documents\\MASTER_DATA_SCIENTIST\\TFM_MSD\\SEED_FRA_OUTPUT\\NEUTRAL\\6_2_trial_5_signals.fif) does not conform to MNE naming conventions. All raw files should end with raw.fif, raw_sss.fif, raw_tsss.fif, _meg.fif, _eeg.fif, _ieeg.fif, raw.fif.gz, raw_sss.fif.gz, raw_tsss.fif.gz, _meg.fif.gz, _eeg.fif.gz or _ieeg.fif.gz\n",
      "  eeg_trial.save(output_path, overwrite=True)\n"
     ]
    },
    {
     "name": "stdout",
     "output_type": "stream",
     "text": [
      "Closing C:\\Users\\marco\\Documents\\MASTER_DATA_SCIENTIST\\TFM_MSD\\SEED_FRA_OUTPUT\\NEUTRAL\\6_2_trial_5_signals.fif\n",
      "[done]\n"
     ]
    },
    {
     "name": "stderr",
     "output_type": "stream",
     "text": [
      "\r",
      "Processing:  29%|████████████████████▎                                                  | 6/21 [00:11<00:28,  1.88s/it]"
     ]
    },
    {
     "name": "stdout",
     "output_type": "stream",
     "text": [
      "1000.0\n",
      "Writing C:\\Users\\marco\\Documents\\MASTER_DATA_SCIENTIST\\TFM_MSD\\SEED_FRA_OUTPUT\\NEGATIVE\\6_2_trial_6_signals.fif\n"
     ]
    },
    {
     "name": "stderr",
     "output_type": "stream",
     "text": [
      "C:\\Users\\marco\\AppData\\Local\\Temp\\ipykernel_14260\\1741641518.py:44: RuntimeWarning: This filename (C:\\Users\\marco\\Documents\\MASTER_DATA_SCIENTIST\\TFM_MSD\\SEED_FRA_OUTPUT\\NEGATIVE\\6_2_trial_6_signals.fif) does not conform to MNE naming conventions. All raw files should end with raw.fif, raw_sss.fif, raw_tsss.fif, _meg.fif, _eeg.fif, _ieeg.fif, raw.fif.gz, raw_sss.fif.gz, raw_tsss.fif.gz, _meg.fif.gz, _eeg.fif.gz or _ieeg.fif.gz\n",
      "  eeg_trial.save(output_path, overwrite=True)\n"
     ]
    },
    {
     "name": "stdout",
     "output_type": "stream",
     "text": [
      "Closing C:\\Users\\marco\\Documents\\MASTER_DATA_SCIENTIST\\TFM_MSD\\SEED_FRA_OUTPUT\\NEGATIVE\\6_2_trial_6_signals.fif\n",
      "[done]\n"
     ]
    },
    {
     "name": "stderr",
     "output_type": "stream",
     "text": [
      "\r",
      "Processing:  33%|███████████████████████▋                                               | 7/21 [00:13<00:27,  1.94s/it]"
     ]
    },
    {
     "name": "stdout",
     "output_type": "stream",
     "text": [
      "1000.0\n",
      "Writing C:\\Users\\marco\\Documents\\MASTER_DATA_SCIENTIST\\TFM_MSD\\SEED_FRA_OUTPUT\\NEUTRAL\\6_2_trial_7_signals.fif\n"
     ]
    },
    {
     "name": "stderr",
     "output_type": "stream",
     "text": [
      "C:\\Users\\marco\\AppData\\Local\\Temp\\ipykernel_14260\\1741641518.py:44: RuntimeWarning: This filename (C:\\Users\\marco\\Documents\\MASTER_DATA_SCIENTIST\\TFM_MSD\\SEED_FRA_OUTPUT\\NEUTRAL\\6_2_trial_7_signals.fif) does not conform to MNE naming conventions. All raw files should end with raw.fif, raw_sss.fif, raw_tsss.fif, _meg.fif, _eeg.fif, _ieeg.fif, raw.fif.gz, raw_sss.fif.gz, raw_tsss.fif.gz, _meg.fif.gz, _eeg.fif.gz or _ieeg.fif.gz\n",
      "  eeg_trial.save(output_path, overwrite=True)\n"
     ]
    },
    {
     "name": "stdout",
     "output_type": "stream",
     "text": [
      "Closing C:\\Users\\marco\\Documents\\MASTER_DATA_SCIENTIST\\TFM_MSD\\SEED_FRA_OUTPUT\\NEUTRAL\\6_2_trial_7_signals.fif\n",
      "[done]\n"
     ]
    },
    {
     "name": "stderr",
     "output_type": "stream",
     "text": [
      "\r",
      "Processing:  38%|███████████████████████████                                            | 8/21 [00:15<00:25,  1.95s/it]"
     ]
    },
    {
     "name": "stdout",
     "output_type": "stream",
     "text": [
      "1000.0\n",
      "Writing C:\\Users\\marco\\Documents\\MASTER_DATA_SCIENTIST\\TFM_MSD\\SEED_FRA_OUTPUT\\POSITIVE\\6_2_trial_8_signals.fif\n"
     ]
    },
    {
     "name": "stderr",
     "output_type": "stream",
     "text": [
      "C:\\Users\\marco\\AppData\\Local\\Temp\\ipykernel_14260\\1741641518.py:44: RuntimeWarning: This filename (C:\\Users\\marco\\Documents\\MASTER_DATA_SCIENTIST\\TFM_MSD\\SEED_FRA_OUTPUT\\POSITIVE\\6_2_trial_8_signals.fif) does not conform to MNE naming conventions. All raw files should end with raw.fif, raw_sss.fif, raw_tsss.fif, _meg.fif, _eeg.fif, _ieeg.fif, raw.fif.gz, raw_sss.fif.gz, raw_tsss.fif.gz, _meg.fif.gz, _eeg.fif.gz or _ieeg.fif.gz\n",
      "  eeg_trial.save(output_path, overwrite=True)\n"
     ]
    },
    {
     "name": "stdout",
     "output_type": "stream",
     "text": [
      "Closing C:\\Users\\marco\\Documents\\MASTER_DATA_SCIENTIST\\TFM_MSD\\SEED_FRA_OUTPUT\\POSITIVE\\6_2_trial_8_signals.fif\n",
      "[done]\n"
     ]
    },
    {
     "name": "stderr",
     "output_type": "stream",
     "text": [
      "\r",
      "Processing:  43%|██████████████████████████████▍                                        | 9/21 [00:17<00:23,  1.99s/it]"
     ]
    },
    {
     "name": "stdout",
     "output_type": "stream",
     "text": [
      "1000.0\n",
      "Writing C:\\Users\\marco\\Documents\\MASTER_DATA_SCIENTIST\\TFM_MSD\\SEED_FRA_OUTPUT\\NEGATIVE\\6_2_trial_9_signals.fif\n"
     ]
    },
    {
     "name": "stderr",
     "output_type": "stream",
     "text": [
      "C:\\Users\\marco\\AppData\\Local\\Temp\\ipykernel_14260\\1741641518.py:44: RuntimeWarning: This filename (C:\\Users\\marco\\Documents\\MASTER_DATA_SCIENTIST\\TFM_MSD\\SEED_FRA_OUTPUT\\NEGATIVE\\6_2_trial_9_signals.fif) does not conform to MNE naming conventions. All raw files should end with raw.fif, raw_sss.fif, raw_tsss.fif, _meg.fif, _eeg.fif, _ieeg.fif, raw.fif.gz, raw_sss.fif.gz, raw_tsss.fif.gz, _meg.fif.gz, _eeg.fif.gz or _ieeg.fif.gz\n",
      "  eeg_trial.save(output_path, overwrite=True)\n"
     ]
    },
    {
     "name": "stdout",
     "output_type": "stream",
     "text": [
      "Closing C:\\Users\\marco\\Documents\\MASTER_DATA_SCIENTIST\\TFM_MSD\\SEED_FRA_OUTPUT\\NEGATIVE\\6_2_trial_9_signals.fif\n",
      "[done]\n"
     ]
    },
    {
     "name": "stderr",
     "output_type": "stream",
     "text": [
      "\r",
      "Processing:  48%|█████████████████████████████████▎                                    | 10/21 [00:19<00:22,  2.09s/it]"
     ]
    },
    {
     "name": "stdout",
     "output_type": "stream",
     "text": [
      "1000.0\n",
      "Writing C:\\Users\\marco\\Documents\\MASTER_DATA_SCIENTIST\\TFM_MSD\\SEED_FRA_OUTPUT\\NEUTRAL\\6_2_trial_10_signals.fif\n"
     ]
    },
    {
     "name": "stderr",
     "output_type": "stream",
     "text": [
      "C:\\Users\\marco\\AppData\\Local\\Temp\\ipykernel_14260\\1741641518.py:44: RuntimeWarning: This filename (C:\\Users\\marco\\Documents\\MASTER_DATA_SCIENTIST\\TFM_MSD\\SEED_FRA_OUTPUT\\NEUTRAL\\6_2_trial_10_signals.fif) does not conform to MNE naming conventions. All raw files should end with raw.fif, raw_sss.fif, raw_tsss.fif, _meg.fif, _eeg.fif, _ieeg.fif, raw.fif.gz, raw_sss.fif.gz, raw_tsss.fif.gz, _meg.fif.gz, _eeg.fif.gz or _ieeg.fif.gz\n",
      "  eeg_trial.save(output_path, overwrite=True)\n"
     ]
    },
    {
     "name": "stdout",
     "output_type": "stream",
     "text": [
      "Closing C:\\Users\\marco\\Documents\\MASTER_DATA_SCIENTIST\\TFM_MSD\\SEED_FRA_OUTPUT\\NEUTRAL\\6_2_trial_10_signals.fif\n",
      "[done]\n"
     ]
    },
    {
     "name": "stderr",
     "output_type": "stream",
     "text": [
      "\r",
      "Processing:  52%|████████████████████████████████████▋                                 | 11/21 [00:21<00:19,  1.99s/it]"
     ]
    },
    {
     "name": "stdout",
     "output_type": "stream",
     "text": [
      "1000.0\n",
      "Writing C:\\Users\\marco\\Documents\\MASTER_DATA_SCIENTIST\\TFM_MSD\\SEED_FRA_OUTPUT\\POSITIVE\\6_2_trial_11_signals.fif\n"
     ]
    },
    {
     "name": "stderr",
     "output_type": "stream",
     "text": [
      "C:\\Users\\marco\\AppData\\Local\\Temp\\ipykernel_14260\\1741641518.py:44: RuntimeWarning: This filename (C:\\Users\\marco\\Documents\\MASTER_DATA_SCIENTIST\\TFM_MSD\\SEED_FRA_OUTPUT\\POSITIVE\\6_2_trial_11_signals.fif) does not conform to MNE naming conventions. All raw files should end with raw.fif, raw_sss.fif, raw_tsss.fif, _meg.fif, _eeg.fif, _ieeg.fif, raw.fif.gz, raw_sss.fif.gz, raw_tsss.fif.gz, _meg.fif.gz, _eeg.fif.gz or _ieeg.fif.gz\n",
      "  eeg_trial.save(output_path, overwrite=True)\n"
     ]
    },
    {
     "name": "stdout",
     "output_type": "stream",
     "text": [
      "Closing C:\\Users\\marco\\Documents\\MASTER_DATA_SCIENTIST\\TFM_MSD\\SEED_FRA_OUTPUT\\POSITIVE\\6_2_trial_11_signals.fif\n",
      "[done]\n"
     ]
    },
    {
     "name": "stderr",
     "output_type": "stream",
     "text": [
      "\r",
      "Processing:  57%|████████████████████████████████████████                              | 12/21 [00:23<00:17,  1.97s/it]"
     ]
    },
    {
     "name": "stdout",
     "output_type": "stream",
     "text": [
      "1000.0\n",
      "Writing C:\\Users\\marco\\Documents\\MASTER_DATA_SCIENTIST\\TFM_MSD\\SEED_FRA_OUTPUT\\POSITIVE\\6_2_trial_12_signals.fif\n"
     ]
    },
    {
     "name": "stderr",
     "output_type": "stream",
     "text": [
      "C:\\Users\\marco\\AppData\\Local\\Temp\\ipykernel_14260\\1741641518.py:44: RuntimeWarning: This filename (C:\\Users\\marco\\Documents\\MASTER_DATA_SCIENTIST\\TFM_MSD\\SEED_FRA_OUTPUT\\POSITIVE\\6_2_trial_12_signals.fif) does not conform to MNE naming conventions. All raw files should end with raw.fif, raw_sss.fif, raw_tsss.fif, _meg.fif, _eeg.fif, _ieeg.fif, raw.fif.gz, raw_sss.fif.gz, raw_tsss.fif.gz, _meg.fif.gz, _eeg.fif.gz or _ieeg.fif.gz\n",
      "  eeg_trial.save(output_path, overwrite=True)\n"
     ]
    },
    {
     "name": "stdout",
     "output_type": "stream",
     "text": [
      "Closing C:\\Users\\marco\\Documents\\MASTER_DATA_SCIENTIST\\TFM_MSD\\SEED_FRA_OUTPUT\\POSITIVE\\6_2_trial_12_signals.fif\n",
      "[done]\n"
     ]
    },
    {
     "name": "stderr",
     "output_type": "stream",
     "text": [
      "\r",
      "Processing:  62%|███████████████████████████████████████████▎                          | 13/21 [00:25<00:14,  1.83s/it]"
     ]
    },
    {
     "name": "stdout",
     "output_type": "stream",
     "text": [
      "1000.0\n",
      "Writing C:\\Users\\marco\\Documents\\MASTER_DATA_SCIENTIST\\TFM_MSD\\SEED_FRA_OUTPUT\\NEUTRAL\\6_2_trial_13_signals.fif\n"
     ]
    },
    {
     "name": "stderr",
     "output_type": "stream",
     "text": [
      "C:\\Users\\marco\\AppData\\Local\\Temp\\ipykernel_14260\\1741641518.py:44: RuntimeWarning: This filename (C:\\Users\\marco\\Documents\\MASTER_DATA_SCIENTIST\\TFM_MSD\\SEED_FRA_OUTPUT\\NEUTRAL\\6_2_trial_13_signals.fif) does not conform to MNE naming conventions. All raw files should end with raw.fif, raw_sss.fif, raw_tsss.fif, _meg.fif, _eeg.fif, _ieeg.fif, raw.fif.gz, raw_sss.fif.gz, raw_tsss.fif.gz, _meg.fif.gz, _eeg.fif.gz or _ieeg.fif.gz\n",
      "  eeg_trial.save(output_path, overwrite=True)\n"
     ]
    },
    {
     "name": "stdout",
     "output_type": "stream",
     "text": [
      "Closing C:\\Users\\marco\\Documents\\MASTER_DATA_SCIENTIST\\TFM_MSD\\SEED_FRA_OUTPUT\\NEUTRAL\\6_2_trial_13_signals.fif\n",
      "[done]\n"
     ]
    },
    {
     "name": "stderr",
     "output_type": "stream",
     "text": [
      "\r",
      "Processing:  67%|██████████████████████████████████████████████▋                       | 14/21 [00:26<00:12,  1.85s/it]"
     ]
    },
    {
     "name": "stdout",
     "output_type": "stream",
     "text": [
      "1000.0\n",
      "Writing C:\\Users\\marco\\Documents\\MASTER_DATA_SCIENTIST\\TFM_MSD\\SEED_FRA_OUTPUT\\NEGATIVE\\6_2_trial_14_signals.fif\n"
     ]
    },
    {
     "name": "stderr",
     "output_type": "stream",
     "text": [
      "C:\\Users\\marco\\AppData\\Local\\Temp\\ipykernel_14260\\1741641518.py:44: RuntimeWarning: This filename (C:\\Users\\marco\\Documents\\MASTER_DATA_SCIENTIST\\TFM_MSD\\SEED_FRA_OUTPUT\\NEGATIVE\\6_2_trial_14_signals.fif) does not conform to MNE naming conventions. All raw files should end with raw.fif, raw_sss.fif, raw_tsss.fif, _meg.fif, _eeg.fif, _ieeg.fif, raw.fif.gz, raw_sss.fif.gz, raw_tsss.fif.gz, _meg.fif.gz, _eeg.fif.gz or _ieeg.fif.gz\n",
      "  eeg_trial.save(output_path, overwrite=True)\n"
     ]
    },
    {
     "name": "stdout",
     "output_type": "stream",
     "text": [
      "Closing C:\\Users\\marco\\Documents\\MASTER_DATA_SCIENTIST\\TFM_MSD\\SEED_FRA_OUTPUT\\NEGATIVE\\6_2_trial_14_signals.fif\n",
      "[done]\n"
     ]
    },
    {
     "name": "stderr",
     "output_type": "stream",
     "text": [
      "\r",
      "Processing:  71%|██████████████████████████████████████████████████                    | 15/21 [00:29<00:11,  1.93s/it]"
     ]
    },
    {
     "name": "stdout",
     "output_type": "stream",
     "text": [
      "1000.0\n",
      "Writing C:\\Users\\marco\\Documents\\MASTER_DATA_SCIENTIST\\TFM_MSD\\SEED_FRA_OUTPUT\\NEGATIVE\\6_2_trial_15_signals.fif\n",
      "Closing C:\\Users\\marco\\Documents\\MASTER_DATA_SCIENTIST\\TFM_MSD\\SEED_FRA_OUTPUT\\NEGATIVE\\6_2_trial_15_signals.fif\n"
     ]
    },
    {
     "name": "stderr",
     "output_type": "stream",
     "text": [
      "C:\\Users\\marco\\AppData\\Local\\Temp\\ipykernel_14260\\1741641518.py:44: RuntimeWarning: This filename (C:\\Users\\marco\\Documents\\MASTER_DATA_SCIENTIST\\TFM_MSD\\SEED_FRA_OUTPUT\\NEGATIVE\\6_2_trial_15_signals.fif) does not conform to MNE naming conventions. All raw files should end with raw.fif, raw_sss.fif, raw_tsss.fif, _meg.fif, _eeg.fif, _ieeg.fif, raw.fif.gz, raw_sss.fif.gz, raw_tsss.fif.gz, _meg.fif.gz, _eeg.fif.gz or _ieeg.fif.gz\n",
      "  eeg_trial.save(output_path, overwrite=True)\n"
     ]
    },
    {
     "name": "stdout",
     "output_type": "stream",
     "text": [
      "[done]\n"
     ]
    },
    {
     "name": "stderr",
     "output_type": "stream",
     "text": [
      "\r",
      "Processing:  76%|█████████████████████████████████████████████████████▎                | 16/21 [00:30<00:09,  1.92s/it]"
     ]
    },
    {
     "name": "stdout",
     "output_type": "stream",
     "text": [
      "1000.0\n",
      "Writing C:\\Users\\marco\\Documents\\MASTER_DATA_SCIENTIST\\TFM_MSD\\SEED_FRA_OUTPUT\\NEUTRAL\\6_2_trial_16_signals.fif\n"
     ]
    },
    {
     "name": "stderr",
     "output_type": "stream",
     "text": [
      "C:\\Users\\marco\\AppData\\Local\\Temp\\ipykernel_14260\\1741641518.py:44: RuntimeWarning: This filename (C:\\Users\\marco\\Documents\\MASTER_DATA_SCIENTIST\\TFM_MSD\\SEED_FRA_OUTPUT\\NEUTRAL\\6_2_trial_16_signals.fif) does not conform to MNE naming conventions. All raw files should end with raw.fif, raw_sss.fif, raw_tsss.fif, _meg.fif, _eeg.fif, _ieeg.fif, raw.fif.gz, raw_sss.fif.gz, raw_tsss.fif.gz, _meg.fif.gz, _eeg.fif.gz or _ieeg.fif.gz\n",
      "  eeg_trial.save(output_path, overwrite=True)\n"
     ]
    },
    {
     "name": "stdout",
     "output_type": "stream",
     "text": [
      "Closing C:\\Users\\marco\\Documents\\MASTER_DATA_SCIENTIST\\TFM_MSD\\SEED_FRA_OUTPUT\\NEUTRAL\\6_2_trial_16_signals.fif\n",
      "[done]\n"
     ]
    },
    {
     "name": "stderr",
     "output_type": "stream",
     "text": [
      "\r",
      "Processing:  81%|████████████████████████████████████████████████████████▋             | 17/21 [00:33<00:07,  1.99s/it]"
     ]
    },
    {
     "name": "stdout",
     "output_type": "stream",
     "text": [
      "1000.0\n",
      "Writing C:\\Users\\marco\\Documents\\MASTER_DATA_SCIENTIST\\TFM_MSD\\SEED_FRA_OUTPUT\\POSITIVE\\6_2_trial_17_signals.fif\n"
     ]
    },
    {
     "name": "stderr",
     "output_type": "stream",
     "text": [
      "C:\\Users\\marco\\AppData\\Local\\Temp\\ipykernel_14260\\1741641518.py:44: RuntimeWarning: This filename (C:\\Users\\marco\\Documents\\MASTER_DATA_SCIENTIST\\TFM_MSD\\SEED_FRA_OUTPUT\\POSITIVE\\6_2_trial_17_signals.fif) does not conform to MNE naming conventions. All raw files should end with raw.fif, raw_sss.fif, raw_tsss.fif, _meg.fif, _eeg.fif, _ieeg.fif, raw.fif.gz, raw_sss.fif.gz, raw_tsss.fif.gz, _meg.fif.gz, _eeg.fif.gz or _ieeg.fif.gz\n",
      "  eeg_trial.save(output_path, overwrite=True)\n"
     ]
    },
    {
     "name": "stdout",
     "output_type": "stream",
     "text": [
      "Closing C:\\Users\\marco\\Documents\\MASTER_DATA_SCIENTIST\\TFM_MSD\\SEED_FRA_OUTPUT\\POSITIVE\\6_2_trial_17_signals.fif\n",
      "[done]\n"
     ]
    },
    {
     "name": "stderr",
     "output_type": "stream",
     "text": [
      "\r",
      "Processing:  86%|████████████████████████████████████████████████████████████          | 18/21 [00:35<00:05,  1.98s/it]"
     ]
    },
    {
     "name": "stdout",
     "output_type": "stream",
     "text": [
      "1000.0\n",
      "Writing C:\\Users\\marco\\Documents\\MASTER_DATA_SCIENTIST\\TFM_MSD\\SEED_FRA_OUTPUT\\NEGATIVE\\6_2_trial_18_signals.fif\n"
     ]
    },
    {
     "name": "stderr",
     "output_type": "stream",
     "text": [
      "C:\\Users\\marco\\AppData\\Local\\Temp\\ipykernel_14260\\1741641518.py:44: RuntimeWarning: This filename (C:\\Users\\marco\\Documents\\MASTER_DATA_SCIENTIST\\TFM_MSD\\SEED_FRA_OUTPUT\\NEGATIVE\\6_2_trial_18_signals.fif) does not conform to MNE naming conventions. All raw files should end with raw.fif, raw_sss.fif, raw_tsss.fif, _meg.fif, _eeg.fif, _ieeg.fif, raw.fif.gz, raw_sss.fif.gz, raw_tsss.fif.gz, _meg.fif.gz, _eeg.fif.gz or _ieeg.fif.gz\n",
      "  eeg_trial.save(output_path, overwrite=True)\n"
     ]
    },
    {
     "name": "stdout",
     "output_type": "stream",
     "text": [
      "Closing C:\\Users\\marco\\Documents\\MASTER_DATA_SCIENTIST\\TFM_MSD\\SEED_FRA_OUTPUT\\NEGATIVE\\6_2_trial_18_signals.fif\n",
      "[done]\n"
     ]
    },
    {
     "name": "stderr",
     "output_type": "stream",
     "text": [
      "\r",
      "Processing:  90%|███████████████████████████████████████████████████████████████▎      | 19/21 [00:37<00:03,  1.98s/it]"
     ]
    },
    {
     "name": "stdout",
     "output_type": "stream",
     "text": [
      "1000.0\n",
      "Writing C:\\Users\\marco\\Documents\\MASTER_DATA_SCIENTIST\\TFM_MSD\\SEED_FRA_OUTPUT\\NEUTRAL\\6_2_trial_19_signals.fif\n"
     ]
    },
    {
     "name": "stderr",
     "output_type": "stream",
     "text": [
      "C:\\Users\\marco\\AppData\\Local\\Temp\\ipykernel_14260\\1741641518.py:44: RuntimeWarning: This filename (C:\\Users\\marco\\Documents\\MASTER_DATA_SCIENTIST\\TFM_MSD\\SEED_FRA_OUTPUT\\NEUTRAL\\6_2_trial_19_signals.fif) does not conform to MNE naming conventions. All raw files should end with raw.fif, raw_sss.fif, raw_tsss.fif, _meg.fif, _eeg.fif, _ieeg.fif, raw.fif.gz, raw_sss.fif.gz, raw_tsss.fif.gz, _meg.fif.gz, _eeg.fif.gz or _ieeg.fif.gz\n",
      "  eeg_trial.save(output_path, overwrite=True)\n"
     ]
    },
    {
     "name": "stdout",
     "output_type": "stream",
     "text": [
      "Closing C:\\Users\\marco\\Documents\\MASTER_DATA_SCIENTIST\\TFM_MSD\\SEED_FRA_OUTPUT\\NEUTRAL\\6_2_trial_19_signals.fif\n",
      "[done]\n"
     ]
    },
    {
     "name": "stderr",
     "output_type": "stream",
     "text": [
      "\r",
      "Processing:  95%|██████████████████████████████████████████████████████████████████▋   | 20/21 [00:38<00:01,  1.96s/it]"
     ]
    },
    {
     "name": "stdout",
     "output_type": "stream",
     "text": [
      "1000.0\n",
      "Writing C:\\Users\\marco\\Documents\\MASTER_DATA_SCIENTIST\\TFM_MSD\\SEED_FRA_OUTPUT\\POSITIVE\\6_2_trial_20_signals.fif\n"
     ]
    },
    {
     "name": "stderr",
     "output_type": "stream",
     "text": [
      "C:\\Users\\marco\\AppData\\Local\\Temp\\ipykernel_14260\\1741641518.py:44: RuntimeWarning: This filename (C:\\Users\\marco\\Documents\\MASTER_DATA_SCIENTIST\\TFM_MSD\\SEED_FRA_OUTPUT\\POSITIVE\\6_2_trial_20_signals.fif) does not conform to MNE naming conventions. All raw files should end with raw.fif, raw_sss.fif, raw_tsss.fif, _meg.fif, _eeg.fif, _ieeg.fif, raw.fif.gz, raw_sss.fif.gz, raw_tsss.fif.gz, _meg.fif.gz, _eeg.fif.gz or _ieeg.fif.gz\n",
      "  eeg_trial.save(output_path, overwrite=True)\n"
     ]
    },
    {
     "name": "stdout",
     "output_type": "stream",
     "text": [
      "Closing C:\\Users\\marco\\Documents\\MASTER_DATA_SCIENTIST\\TFM_MSD\\SEED_FRA_OUTPUT\\POSITIVE\\6_2_trial_20_signals.fif\n",
      "[done]\n"
     ]
    },
    {
     "name": "stderr",
     "output_type": "stream",
     "text": [
      "Processing: 100%|██████████████████████████████████████████████████████████████████████| 21/21 [00:41<00:00,  1.96s/it]\n"
     ]
    },
    {
     "name": "stdout",
     "output_type": "stream",
     "text": [
      "Reading 0 ... 3811839  =      0.000 ...  3811.839 secs...\n"
     ]
    },
    {
     "name": "stderr",
     "output_type": "stream",
     "text": [
      "C:\\Users\\marco\\AppData\\Local\\Temp\\ipykernel_14260\\1741641518.py:4: RuntimeWarning:   Could not parse meas date from the header. Setting to None.\n",
      "  eeg_raw = mne.io.read_raw_cnt(_path, preload=True)\n"
     ]
    },
    {
     "name": "stdout",
     "output_type": "stream",
     "text": [
      "Filtering raw data in 1 contiguous segment\n",
      "Setting up band-pass filter from 0.5 - 55 Hz\n",
      "\n",
      "FIR filter parameters\n",
      "---------------------\n",
      "Designing a one-pass, zero-phase, non-causal bandpass filter:\n",
      "- Windowed time-domain design (firwin) method\n",
      "- Hamming window with 0.0194 passband ripple and 53 dB stopband attenuation\n",
      "- Lower passband edge: 0.50\n",
      "- Lower transition bandwidth: 0.50 Hz (-6 dB cutoff frequency: 0.25 Hz)\n",
      "- Upper passband edge: 55.00 Hz\n",
      "- Upper transition bandwidth: 13.75 Hz (-6 dB cutoff frequency: 61.88 Hz)\n",
      "- Filter length: 6601 samples (6.601 sec)\n",
      "\n"
     ]
    },
    {
     "name": "stderr",
     "output_type": "stream",
     "text": [
      "\r",
      "Processing:   0%|                                                                               | 0/21 [00:00<?, ?it/s]"
     ]
    },
    {
     "name": "stdout",
     "output_type": "stream",
     "text": [
      "1000.0\n",
      "Writing C:\\Users\\marco\\Documents\\MASTER_DATA_SCIENTIST\\TFM_MSD\\SEED_FRA_OUTPUT\\POSITIVE\\6_3_trial_0_signals.fif\n"
     ]
    },
    {
     "name": "stderr",
     "output_type": "stream",
     "text": [
      "C:\\Users\\marco\\AppData\\Local\\Temp\\ipykernel_14260\\1741641518.py:44: RuntimeWarning: This filename (C:\\Users\\marco\\Documents\\MASTER_DATA_SCIENTIST\\TFM_MSD\\SEED_FRA_OUTPUT\\POSITIVE\\6_3_trial_0_signals.fif) does not conform to MNE naming conventions. All raw files should end with raw.fif, raw_sss.fif, raw_tsss.fif, _meg.fif, _eeg.fif, _ieeg.fif, raw.fif.gz, raw_sss.fif.gz, raw_tsss.fif.gz, _meg.fif.gz, _eeg.fif.gz or _ieeg.fif.gz\n",
      "  eeg_trial.save(output_path, overwrite=True)\n"
     ]
    },
    {
     "name": "stdout",
     "output_type": "stream",
     "text": [
      "Closing C:\\Users\\marco\\Documents\\MASTER_DATA_SCIENTIST\\TFM_MSD\\SEED_FRA_OUTPUT\\POSITIVE\\6_3_trial_0_signals.fif\n",
      "[done]\n"
     ]
    },
    {
     "name": "stderr",
     "output_type": "stream",
     "text": [
      "\r",
      "Processing:   5%|███▍                                                                   | 1/21 [00:01<00:38,  1.94s/it]"
     ]
    },
    {
     "name": "stdout",
     "output_type": "stream",
     "text": [
      "1000.0\n",
      "Writing C:\\Users\\marco\\Documents\\MASTER_DATA_SCIENTIST\\TFM_MSD\\SEED_FRA_OUTPUT\\NEGATIVE\\6_3_trial_1_signals.fif\n"
     ]
    },
    {
     "name": "stderr",
     "output_type": "stream",
     "text": [
      "C:\\Users\\marco\\AppData\\Local\\Temp\\ipykernel_14260\\1741641518.py:44: RuntimeWarning: This filename (C:\\Users\\marco\\Documents\\MASTER_DATA_SCIENTIST\\TFM_MSD\\SEED_FRA_OUTPUT\\NEGATIVE\\6_3_trial_1_signals.fif) does not conform to MNE naming conventions. All raw files should end with raw.fif, raw_sss.fif, raw_tsss.fif, _meg.fif, _eeg.fif, _ieeg.fif, raw.fif.gz, raw_sss.fif.gz, raw_tsss.fif.gz, _meg.fif.gz, _eeg.fif.gz or _ieeg.fif.gz\n",
      "  eeg_trial.save(output_path, overwrite=True)\n"
     ]
    },
    {
     "name": "stdout",
     "output_type": "stream",
     "text": [
      "Closing C:\\Users\\marco\\Documents\\MASTER_DATA_SCIENTIST\\TFM_MSD\\SEED_FRA_OUTPUT\\NEGATIVE\\6_3_trial_1_signals.fif\n",
      "[done]\n"
     ]
    },
    {
     "name": "stderr",
     "output_type": "stream",
     "text": [
      "\r",
      "Processing:  10%|██████▊                                                                | 2/21 [00:03<00:35,  1.86s/it]"
     ]
    },
    {
     "name": "stdout",
     "output_type": "stream",
     "text": [
      "1000.0\n",
      "Writing C:\\Users\\marco\\Documents\\MASTER_DATA_SCIENTIST\\TFM_MSD\\SEED_FRA_OUTPUT\\NEUTRAL\\6_3_trial_2_signals.fif\n"
     ]
    },
    {
     "name": "stderr",
     "output_type": "stream",
     "text": [
      "C:\\Users\\marco\\AppData\\Local\\Temp\\ipykernel_14260\\1741641518.py:44: RuntimeWarning: This filename (C:\\Users\\marco\\Documents\\MASTER_DATA_SCIENTIST\\TFM_MSD\\SEED_FRA_OUTPUT\\NEUTRAL\\6_3_trial_2_signals.fif) does not conform to MNE naming conventions. All raw files should end with raw.fif, raw_sss.fif, raw_tsss.fif, _meg.fif, _eeg.fif, _ieeg.fif, raw.fif.gz, raw_sss.fif.gz, raw_tsss.fif.gz, _meg.fif.gz, _eeg.fif.gz or _ieeg.fif.gz\n",
      "  eeg_trial.save(output_path, overwrite=True)\n"
     ]
    },
    {
     "name": "stdout",
     "output_type": "stream",
     "text": [
      "Closing C:\\Users\\marco\\Documents\\MASTER_DATA_SCIENTIST\\TFM_MSD\\SEED_FRA_OUTPUT\\NEUTRAL\\6_3_trial_2_signals.fif\n",
      "[done]\n"
     ]
    },
    {
     "name": "stderr",
     "output_type": "stream",
     "text": [
      "\r",
      "Processing:  14%|██████████▏                                                            | 3/21 [00:05<00:32,  1.78s/it]"
     ]
    },
    {
     "name": "stdout",
     "output_type": "stream",
     "text": [
      "1000.0\n",
      "Writing C:\\Users\\marco\\Documents\\MASTER_DATA_SCIENTIST\\TFM_MSD\\SEED_FRA_OUTPUT\\NEGATIVE\\6_3_trial_3_signals.fif\n"
     ]
    },
    {
     "name": "stderr",
     "output_type": "stream",
     "text": [
      "C:\\Users\\marco\\AppData\\Local\\Temp\\ipykernel_14260\\1741641518.py:44: RuntimeWarning: This filename (C:\\Users\\marco\\Documents\\MASTER_DATA_SCIENTIST\\TFM_MSD\\SEED_FRA_OUTPUT\\NEGATIVE\\6_3_trial_3_signals.fif) does not conform to MNE naming conventions. All raw files should end with raw.fif, raw_sss.fif, raw_tsss.fif, _meg.fif, _eeg.fif, _ieeg.fif, raw.fif.gz, raw_sss.fif.gz, raw_tsss.fif.gz, _meg.fif.gz, _eeg.fif.gz or _ieeg.fif.gz\n",
      "  eeg_trial.save(output_path, overwrite=True)\n"
     ]
    },
    {
     "name": "stdout",
     "output_type": "stream",
     "text": [
      "Closing C:\\Users\\marco\\Documents\\MASTER_DATA_SCIENTIST\\TFM_MSD\\SEED_FRA_OUTPUT\\NEGATIVE\\6_3_trial_3_signals.fif\n",
      "[done]\n"
     ]
    },
    {
     "name": "stderr",
     "output_type": "stream",
     "text": [
      "\r",
      "Processing:  19%|█████████████▌                                                         | 4/21 [00:07<00:34,  2.03s/it]"
     ]
    },
    {
     "name": "stdout",
     "output_type": "stream",
     "text": [
      "1000.0\n",
      "Writing C:\\Users\\marco\\Documents\\MASTER_DATA_SCIENTIST\\TFM_MSD\\SEED_FRA_OUTPUT\\POSITIVE\\6_3_trial_4_signals.fif\n",
      "Closing C:\\Users\\marco\\Documents\\MASTER_DATA_SCIENTIST\\TFM_MSD\\SEED_FRA_OUTPUT\\POSITIVE\\6_3_trial_4_signals.fif\n"
     ]
    },
    {
     "name": "stderr",
     "output_type": "stream",
     "text": [
      "C:\\Users\\marco\\AppData\\Local\\Temp\\ipykernel_14260\\1741641518.py:44: RuntimeWarning: This filename (C:\\Users\\marco\\Documents\\MASTER_DATA_SCIENTIST\\TFM_MSD\\SEED_FRA_OUTPUT\\POSITIVE\\6_3_trial_4_signals.fif) does not conform to MNE naming conventions. All raw files should end with raw.fif, raw_sss.fif, raw_tsss.fif, _meg.fif, _eeg.fif, _ieeg.fif, raw.fif.gz, raw_sss.fif.gz, raw_tsss.fif.gz, _meg.fif.gz, _eeg.fif.gz or _ieeg.fif.gz\n",
      "  eeg_trial.save(output_path, overwrite=True)\n"
     ]
    },
    {
     "name": "stdout",
     "output_type": "stream",
     "text": [
      "[done]\n"
     ]
    },
    {
     "name": "stderr",
     "output_type": "stream",
     "text": [
      "\r",
      "Processing:  24%|████████████████▉                                                      | 5/21 [00:09<00:32,  2.00s/it]"
     ]
    },
    {
     "name": "stdout",
     "output_type": "stream",
     "text": [
      "1000.0\n",
      "Writing C:\\Users\\marco\\Documents\\MASTER_DATA_SCIENTIST\\TFM_MSD\\SEED_FRA_OUTPUT\\NEUTRAL\\6_3_trial_5_signals.fif\n"
     ]
    },
    {
     "name": "stderr",
     "output_type": "stream",
     "text": [
      "C:\\Users\\marco\\AppData\\Local\\Temp\\ipykernel_14260\\1741641518.py:44: RuntimeWarning: This filename (C:\\Users\\marco\\Documents\\MASTER_DATA_SCIENTIST\\TFM_MSD\\SEED_FRA_OUTPUT\\NEUTRAL\\6_3_trial_5_signals.fif) does not conform to MNE naming conventions. All raw files should end with raw.fif, raw_sss.fif, raw_tsss.fif, _meg.fif, _eeg.fif, _ieeg.fif, raw.fif.gz, raw_sss.fif.gz, raw_tsss.fif.gz, _meg.fif.gz, _eeg.fif.gz or _ieeg.fif.gz\n",
      "  eeg_trial.save(output_path, overwrite=True)\n"
     ]
    },
    {
     "name": "stdout",
     "output_type": "stream",
     "text": [
      "Closing C:\\Users\\marco\\Documents\\MASTER_DATA_SCIENTIST\\TFM_MSD\\SEED_FRA_OUTPUT\\NEUTRAL\\6_3_trial_5_signals.fif\n",
      "[done]\n"
     ]
    },
    {
     "name": "stderr",
     "output_type": "stream",
     "text": [
      "\r",
      "Processing:  29%|████████████████████▎                                                  | 6/21 [00:11<00:30,  2.03s/it]"
     ]
    },
    {
     "name": "stdout",
     "output_type": "stream",
     "text": [
      "1000.0\n",
      "Writing C:\\Users\\marco\\Documents\\MASTER_DATA_SCIENTIST\\TFM_MSD\\SEED_FRA_OUTPUT\\NEGATIVE\\6_3_trial_6_signals.fif\n"
     ]
    },
    {
     "name": "stderr",
     "output_type": "stream",
     "text": [
      "C:\\Users\\marco\\AppData\\Local\\Temp\\ipykernel_14260\\1741641518.py:44: RuntimeWarning: This filename (C:\\Users\\marco\\Documents\\MASTER_DATA_SCIENTIST\\TFM_MSD\\SEED_FRA_OUTPUT\\NEGATIVE\\6_3_trial_6_signals.fif) does not conform to MNE naming conventions. All raw files should end with raw.fif, raw_sss.fif, raw_tsss.fif, _meg.fif, _eeg.fif, _ieeg.fif, raw.fif.gz, raw_sss.fif.gz, raw_tsss.fif.gz, _meg.fif.gz, _eeg.fif.gz or _ieeg.fif.gz\n",
      "  eeg_trial.save(output_path, overwrite=True)\n"
     ]
    },
    {
     "name": "stdout",
     "output_type": "stream",
     "text": [
      "Closing C:\\Users\\marco\\Documents\\MASTER_DATA_SCIENTIST\\TFM_MSD\\SEED_FRA_OUTPUT\\NEGATIVE\\6_3_trial_6_signals.fif\n",
      "[done]\n"
     ]
    },
    {
     "name": "stderr",
     "output_type": "stream",
     "text": [
      "\r",
      "Processing:  33%|███████████████████████▋                                               | 7/21 [00:13<00:28,  2.05s/it]"
     ]
    },
    {
     "name": "stdout",
     "output_type": "stream",
     "text": [
      "1000.0\n",
      "Writing C:\\Users\\marco\\Documents\\MASTER_DATA_SCIENTIST\\TFM_MSD\\SEED_FRA_OUTPUT\\NEUTRAL\\6_3_trial_7_signals.fif\n"
     ]
    },
    {
     "name": "stderr",
     "output_type": "stream",
     "text": [
      "C:\\Users\\marco\\AppData\\Local\\Temp\\ipykernel_14260\\1741641518.py:44: RuntimeWarning: This filename (C:\\Users\\marco\\Documents\\MASTER_DATA_SCIENTIST\\TFM_MSD\\SEED_FRA_OUTPUT\\NEUTRAL\\6_3_trial_7_signals.fif) does not conform to MNE naming conventions. All raw files should end with raw.fif, raw_sss.fif, raw_tsss.fif, _meg.fif, _eeg.fif, _ieeg.fif, raw.fif.gz, raw_sss.fif.gz, raw_tsss.fif.gz, _meg.fif.gz, _eeg.fif.gz or _ieeg.fif.gz\n",
      "  eeg_trial.save(output_path, overwrite=True)\n"
     ]
    },
    {
     "name": "stdout",
     "output_type": "stream",
     "text": [
      "Closing C:\\Users\\marco\\Documents\\MASTER_DATA_SCIENTIST\\TFM_MSD\\SEED_FRA_OUTPUT\\NEUTRAL\\6_3_trial_7_signals.fif\n",
      "[done]\n"
     ]
    },
    {
     "name": "stderr",
     "output_type": "stream",
     "text": [
      "\r",
      "Processing:  38%|███████████████████████████                                            | 8/21 [00:15<00:26,  2.04s/it]"
     ]
    },
    {
     "name": "stdout",
     "output_type": "stream",
     "text": [
      "1000.0\n",
      "Writing C:\\Users\\marco\\Documents\\MASTER_DATA_SCIENTIST\\TFM_MSD\\SEED_FRA_OUTPUT\\POSITIVE\\6_3_trial_8_signals.fif\n"
     ]
    },
    {
     "name": "stderr",
     "output_type": "stream",
     "text": [
      "C:\\Users\\marco\\AppData\\Local\\Temp\\ipykernel_14260\\1741641518.py:44: RuntimeWarning: This filename (C:\\Users\\marco\\Documents\\MASTER_DATA_SCIENTIST\\TFM_MSD\\SEED_FRA_OUTPUT\\POSITIVE\\6_3_trial_8_signals.fif) does not conform to MNE naming conventions. All raw files should end with raw.fif, raw_sss.fif, raw_tsss.fif, _meg.fif, _eeg.fif, _ieeg.fif, raw.fif.gz, raw_sss.fif.gz, raw_tsss.fif.gz, _meg.fif.gz, _eeg.fif.gz or _ieeg.fif.gz\n",
      "  eeg_trial.save(output_path, overwrite=True)\n"
     ]
    },
    {
     "name": "stdout",
     "output_type": "stream",
     "text": [
      "Closing C:\\Users\\marco\\Documents\\MASTER_DATA_SCIENTIST\\TFM_MSD\\SEED_FRA_OUTPUT\\POSITIVE\\6_3_trial_8_signals.fif\n",
      "[done]\n"
     ]
    },
    {
     "name": "stderr",
     "output_type": "stream",
     "text": [
      "\r",
      "Processing:  43%|██████████████████████████████▍                                        | 9/21 [00:17<00:24,  2.03s/it]"
     ]
    },
    {
     "name": "stdout",
     "output_type": "stream",
     "text": [
      "1000.0\n",
      "Writing C:\\Users\\marco\\Documents\\MASTER_DATA_SCIENTIST\\TFM_MSD\\SEED_FRA_OUTPUT\\NEGATIVE\\6_3_trial_9_signals.fif\n"
     ]
    },
    {
     "name": "stderr",
     "output_type": "stream",
     "text": [
      "C:\\Users\\marco\\AppData\\Local\\Temp\\ipykernel_14260\\1741641518.py:44: RuntimeWarning: This filename (C:\\Users\\marco\\Documents\\MASTER_DATA_SCIENTIST\\TFM_MSD\\SEED_FRA_OUTPUT\\NEGATIVE\\6_3_trial_9_signals.fif) does not conform to MNE naming conventions. All raw files should end with raw.fif, raw_sss.fif, raw_tsss.fif, _meg.fif, _eeg.fif, _ieeg.fif, raw.fif.gz, raw_sss.fif.gz, raw_tsss.fif.gz, _meg.fif.gz, _eeg.fif.gz or _ieeg.fif.gz\n",
      "  eeg_trial.save(output_path, overwrite=True)\n"
     ]
    },
    {
     "name": "stdout",
     "output_type": "stream",
     "text": [
      "Closing C:\\Users\\marco\\Documents\\MASTER_DATA_SCIENTIST\\TFM_MSD\\SEED_FRA_OUTPUT\\NEGATIVE\\6_3_trial_9_signals.fif\n",
      "[done]\n"
     ]
    },
    {
     "name": "stderr",
     "output_type": "stream",
     "text": [
      "\r",
      "Processing:  48%|█████████████████████████████████▎                                    | 10/21 [00:20<00:23,  2.12s/it]"
     ]
    },
    {
     "name": "stdout",
     "output_type": "stream",
     "text": [
      "1000.0\n",
      "Writing C:\\Users\\marco\\Documents\\MASTER_DATA_SCIENTIST\\TFM_MSD\\SEED_FRA_OUTPUT\\NEUTRAL\\6_3_trial_10_signals.fif\n"
     ]
    },
    {
     "name": "stderr",
     "output_type": "stream",
     "text": [
      "C:\\Users\\marco\\AppData\\Local\\Temp\\ipykernel_14260\\1741641518.py:44: RuntimeWarning: This filename (C:\\Users\\marco\\Documents\\MASTER_DATA_SCIENTIST\\TFM_MSD\\SEED_FRA_OUTPUT\\NEUTRAL\\6_3_trial_10_signals.fif) does not conform to MNE naming conventions. All raw files should end with raw.fif, raw_sss.fif, raw_tsss.fif, _meg.fif, _eeg.fif, _ieeg.fif, raw.fif.gz, raw_sss.fif.gz, raw_tsss.fif.gz, _meg.fif.gz, _eeg.fif.gz or _ieeg.fif.gz\n",
      "  eeg_trial.save(output_path, overwrite=True)\n"
     ]
    },
    {
     "name": "stdout",
     "output_type": "stream",
     "text": [
      "Closing C:\\Users\\marco\\Documents\\MASTER_DATA_SCIENTIST\\TFM_MSD\\SEED_FRA_OUTPUT\\NEUTRAL\\6_3_trial_10_signals.fif\n",
      "[done]\n"
     ]
    },
    {
     "name": "stderr",
     "output_type": "stream",
     "text": [
      "\r",
      "Processing:  52%|████████████████████████████████████▋                                 | 11/21 [00:22<00:20,  2.03s/it]"
     ]
    },
    {
     "name": "stdout",
     "output_type": "stream",
     "text": [
      "1000.0\n",
      "Writing C:\\Users\\marco\\Documents\\MASTER_DATA_SCIENTIST\\TFM_MSD\\SEED_FRA_OUTPUT\\POSITIVE\\6_3_trial_11_signals.fif\n"
     ]
    },
    {
     "name": "stderr",
     "output_type": "stream",
     "text": [
      "C:\\Users\\marco\\AppData\\Local\\Temp\\ipykernel_14260\\1741641518.py:44: RuntimeWarning: This filename (C:\\Users\\marco\\Documents\\MASTER_DATA_SCIENTIST\\TFM_MSD\\SEED_FRA_OUTPUT\\POSITIVE\\6_3_trial_11_signals.fif) does not conform to MNE naming conventions. All raw files should end with raw.fif, raw_sss.fif, raw_tsss.fif, _meg.fif, _eeg.fif, _ieeg.fif, raw.fif.gz, raw_sss.fif.gz, raw_tsss.fif.gz, _meg.fif.gz, _eeg.fif.gz or _ieeg.fif.gz\n",
      "  eeg_trial.save(output_path, overwrite=True)\n"
     ]
    },
    {
     "name": "stdout",
     "output_type": "stream",
     "text": [
      "Closing C:\\Users\\marco\\Documents\\MASTER_DATA_SCIENTIST\\TFM_MSD\\SEED_FRA_OUTPUT\\POSITIVE\\6_3_trial_11_signals.fif\n",
      "[done]\n"
     ]
    },
    {
     "name": "stderr",
     "output_type": "stream",
     "text": [
      "\r",
      "Processing:  57%|████████████████████████████████████████                              | 12/21 [00:24<00:17,  1.99s/it]"
     ]
    },
    {
     "name": "stdout",
     "output_type": "stream",
     "text": [
      "1000.0\n",
      "Writing C:\\Users\\marco\\Documents\\MASTER_DATA_SCIENTIST\\TFM_MSD\\SEED_FRA_OUTPUT\\POSITIVE\\6_3_trial_12_signals.fif\n"
     ]
    },
    {
     "name": "stderr",
     "output_type": "stream",
     "text": [
      "C:\\Users\\marco\\AppData\\Local\\Temp\\ipykernel_14260\\1741641518.py:44: RuntimeWarning: This filename (C:\\Users\\marco\\Documents\\MASTER_DATA_SCIENTIST\\TFM_MSD\\SEED_FRA_OUTPUT\\POSITIVE\\6_3_trial_12_signals.fif) does not conform to MNE naming conventions. All raw files should end with raw.fif, raw_sss.fif, raw_tsss.fif, _meg.fif, _eeg.fif, _ieeg.fif, raw.fif.gz, raw_sss.fif.gz, raw_tsss.fif.gz, _meg.fif.gz, _eeg.fif.gz or _ieeg.fif.gz\n",
      "  eeg_trial.save(output_path, overwrite=True)\n"
     ]
    },
    {
     "name": "stdout",
     "output_type": "stream",
     "text": [
      "Closing C:\\Users\\marco\\Documents\\MASTER_DATA_SCIENTIST\\TFM_MSD\\SEED_FRA_OUTPUT\\POSITIVE\\6_3_trial_12_signals.fif\n",
      "[done]\n"
     ]
    },
    {
     "name": "stderr",
     "output_type": "stream",
     "text": [
      "\r",
      "Processing:  62%|███████████████████████████████████████████▎                          | 13/21 [00:25<00:15,  1.98s/it]"
     ]
    },
    {
     "name": "stdout",
     "output_type": "stream",
     "text": [
      "1000.0\n",
      "Writing C:\\Users\\marco\\Documents\\MASTER_DATA_SCIENTIST\\TFM_MSD\\SEED_FRA_OUTPUT\\NEUTRAL\\6_3_trial_13_signals.fif\n"
     ]
    },
    {
     "name": "stderr",
     "output_type": "stream",
     "text": [
      "C:\\Users\\marco\\AppData\\Local\\Temp\\ipykernel_14260\\1741641518.py:44: RuntimeWarning: This filename (C:\\Users\\marco\\Documents\\MASTER_DATA_SCIENTIST\\TFM_MSD\\SEED_FRA_OUTPUT\\NEUTRAL\\6_3_trial_13_signals.fif) does not conform to MNE naming conventions. All raw files should end with raw.fif, raw_sss.fif, raw_tsss.fif, _meg.fif, _eeg.fif, _ieeg.fif, raw.fif.gz, raw_sss.fif.gz, raw_tsss.fif.gz, _meg.fif.gz, _eeg.fif.gz or _ieeg.fif.gz\n",
      "  eeg_trial.save(output_path, overwrite=True)\n"
     ]
    },
    {
     "name": "stdout",
     "output_type": "stream",
     "text": [
      "Closing C:\\Users\\marco\\Documents\\MASTER_DATA_SCIENTIST\\TFM_MSD\\SEED_FRA_OUTPUT\\NEUTRAL\\6_3_trial_13_signals.fif\n",
      "[done]\n"
     ]
    },
    {
     "name": "stderr",
     "output_type": "stream",
     "text": [
      "\r",
      "Processing:  67%|██████████████████████████████████████████████▋                       | 14/21 [00:27<00:13,  1.95s/it]"
     ]
    },
    {
     "name": "stdout",
     "output_type": "stream",
     "text": [
      "1000.0\n",
      "Writing C:\\Users\\marco\\Documents\\MASTER_DATA_SCIENTIST\\TFM_MSD\\SEED_FRA_OUTPUT\\NEGATIVE\\6_3_trial_14_signals.fif\n"
     ]
    },
    {
     "name": "stderr",
     "output_type": "stream",
     "text": [
      "C:\\Users\\marco\\AppData\\Local\\Temp\\ipykernel_14260\\1741641518.py:44: RuntimeWarning: This filename (C:\\Users\\marco\\Documents\\MASTER_DATA_SCIENTIST\\TFM_MSD\\SEED_FRA_OUTPUT\\NEGATIVE\\6_3_trial_14_signals.fif) does not conform to MNE naming conventions. All raw files should end with raw.fif, raw_sss.fif, raw_tsss.fif, _meg.fif, _eeg.fif, _ieeg.fif, raw.fif.gz, raw_sss.fif.gz, raw_tsss.fif.gz, _meg.fif.gz, _eeg.fif.gz or _ieeg.fif.gz\n",
      "  eeg_trial.save(output_path, overwrite=True)\n"
     ]
    },
    {
     "name": "stdout",
     "output_type": "stream",
     "text": [
      "Closing C:\\Users\\marco\\Documents\\MASTER_DATA_SCIENTIST\\TFM_MSD\\SEED_FRA_OUTPUT\\NEGATIVE\\6_3_trial_14_signals.fif\n",
      "[done]\n"
     ]
    },
    {
     "name": "stderr",
     "output_type": "stream",
     "text": [
      "\r",
      "Processing:  71%|██████████████████████████████████████████████████                    | 15/21 [00:29<00:10,  1.83s/it]"
     ]
    },
    {
     "name": "stdout",
     "output_type": "stream",
     "text": [
      "1000.0\n",
      "Writing C:\\Users\\marco\\Documents\\MASTER_DATA_SCIENTIST\\TFM_MSD\\SEED_FRA_OUTPUT\\NEGATIVE\\6_3_trial_15_signals.fif\n",
      "Closing C:\\Users\\marco\\Documents\\MASTER_DATA_SCIENTIST\\TFM_MSD\\SEED_FRA_OUTPUT\\NEGATIVE\\6_3_trial_15_signals.fif\n",
      "[done]\n"
     ]
    },
    {
     "name": "stderr",
     "output_type": "stream",
     "text": [
      "C:\\Users\\marco\\AppData\\Local\\Temp\\ipykernel_14260\\1741641518.py:44: RuntimeWarning: This filename (C:\\Users\\marco\\Documents\\MASTER_DATA_SCIENTIST\\TFM_MSD\\SEED_FRA_OUTPUT\\NEGATIVE\\6_3_trial_15_signals.fif) does not conform to MNE naming conventions. All raw files should end with raw.fif, raw_sss.fif, raw_tsss.fif, _meg.fif, _eeg.fif, _ieeg.fif, raw.fif.gz, raw_sss.fif.gz, raw_tsss.fif.gz, _meg.fif.gz, _eeg.fif.gz or _ieeg.fif.gz\n",
      "  eeg_trial.save(output_path, overwrite=True)\n",
      "\r",
      "Processing:  76%|█████████████████████████████████████████████████████▎                | 16/21 [00:30<00:08,  1.75s/it]"
     ]
    },
    {
     "name": "stdout",
     "output_type": "stream",
     "text": [
      "1000.0\n",
      "Writing C:\\Users\\marco\\Documents\\MASTER_DATA_SCIENTIST\\TFM_MSD\\SEED_FRA_OUTPUT\\NEUTRAL\\6_3_trial_16_signals.fif\n"
     ]
    },
    {
     "name": "stderr",
     "output_type": "stream",
     "text": [
      "C:\\Users\\marco\\AppData\\Local\\Temp\\ipykernel_14260\\1741641518.py:44: RuntimeWarning: This filename (C:\\Users\\marco\\Documents\\MASTER_DATA_SCIENTIST\\TFM_MSD\\SEED_FRA_OUTPUT\\NEUTRAL\\6_3_trial_16_signals.fif) does not conform to MNE naming conventions. All raw files should end with raw.fif, raw_sss.fif, raw_tsss.fif, _meg.fif, _eeg.fif, _ieeg.fif, raw.fif.gz, raw_sss.fif.gz, raw_tsss.fif.gz, _meg.fif.gz, _eeg.fif.gz or _ieeg.fif.gz\n",
      "  eeg_trial.save(output_path, overwrite=True)\n"
     ]
    },
    {
     "name": "stdout",
     "output_type": "stream",
     "text": [
      "Closing C:\\Users\\marco\\Documents\\MASTER_DATA_SCIENTIST\\TFM_MSD\\SEED_FRA_OUTPUT\\NEUTRAL\\6_3_trial_16_signals.fif\n",
      "[done]\n"
     ]
    },
    {
     "name": "stderr",
     "output_type": "stream",
     "text": [
      "\r",
      "Processing:  81%|████████████████████████████████████████████████████████▋             | 17/21 [00:33<00:07,  1.87s/it]"
     ]
    },
    {
     "name": "stdout",
     "output_type": "stream",
     "text": [
      "1000.0\n",
      "Writing C:\\Users\\marco\\Documents\\MASTER_DATA_SCIENTIST\\TFM_MSD\\SEED_FRA_OUTPUT\\POSITIVE\\6_3_trial_17_signals.fif\n"
     ]
    },
    {
     "name": "stderr",
     "output_type": "stream",
     "text": [
      "C:\\Users\\marco\\AppData\\Local\\Temp\\ipykernel_14260\\1741641518.py:44: RuntimeWarning: This filename (C:\\Users\\marco\\Documents\\MASTER_DATA_SCIENTIST\\TFM_MSD\\SEED_FRA_OUTPUT\\POSITIVE\\6_3_trial_17_signals.fif) does not conform to MNE naming conventions. All raw files should end with raw.fif, raw_sss.fif, raw_tsss.fif, _meg.fif, _eeg.fif, _ieeg.fif, raw.fif.gz, raw_sss.fif.gz, raw_tsss.fif.gz, _meg.fif.gz, _eeg.fif.gz or _ieeg.fif.gz\n",
      "  eeg_trial.save(output_path, overwrite=True)\n"
     ]
    },
    {
     "name": "stdout",
     "output_type": "stream",
     "text": [
      "Closing C:\\Users\\marco\\Documents\\MASTER_DATA_SCIENTIST\\TFM_MSD\\SEED_FRA_OUTPUT\\POSITIVE\\6_3_trial_17_signals.fif\n",
      "[done]\n"
     ]
    },
    {
     "name": "stderr",
     "output_type": "stream",
     "text": [
      "\r",
      "Processing:  86%|████████████████████████████████████████████████████████████          | 18/21 [00:35<00:05,  1.89s/it]"
     ]
    },
    {
     "name": "stdout",
     "output_type": "stream",
     "text": [
      "1000.0\n",
      "Writing C:\\Users\\marco\\Documents\\MASTER_DATA_SCIENTIST\\TFM_MSD\\SEED_FRA_OUTPUT\\NEGATIVE\\6_3_trial_18_signals.fif\n"
     ]
    },
    {
     "name": "stderr",
     "output_type": "stream",
     "text": [
      "C:\\Users\\marco\\AppData\\Local\\Temp\\ipykernel_14260\\1741641518.py:44: RuntimeWarning: This filename (C:\\Users\\marco\\Documents\\MASTER_DATA_SCIENTIST\\TFM_MSD\\SEED_FRA_OUTPUT\\NEGATIVE\\6_3_trial_18_signals.fif) does not conform to MNE naming conventions. All raw files should end with raw.fif, raw_sss.fif, raw_tsss.fif, _meg.fif, _eeg.fif, _ieeg.fif, raw.fif.gz, raw_sss.fif.gz, raw_tsss.fif.gz, _meg.fif.gz, _eeg.fif.gz or _ieeg.fif.gz\n",
      "  eeg_trial.save(output_path, overwrite=True)\n"
     ]
    },
    {
     "name": "stdout",
     "output_type": "stream",
     "text": [
      "Closing C:\\Users\\marco\\Documents\\MASTER_DATA_SCIENTIST\\TFM_MSD\\SEED_FRA_OUTPUT\\NEGATIVE\\6_3_trial_18_signals.fif\n",
      "[done]\n"
     ]
    },
    {
     "name": "stderr",
     "output_type": "stream",
     "text": [
      "\r",
      "Processing:  90%|███████████████████████████████████████████████████████████████▎      | 19/21 [00:37<00:03,  1.94s/it]"
     ]
    },
    {
     "name": "stdout",
     "output_type": "stream",
     "text": [
      "1000.0\n",
      "Writing C:\\Users\\marco\\Documents\\MASTER_DATA_SCIENTIST\\TFM_MSD\\SEED_FRA_OUTPUT\\NEUTRAL\\6_3_trial_19_signals.fif\n",
      "Closing C:\\Users\\marco\\Documents\\MASTER_DATA_SCIENTIST\\TFM_MSD\\SEED_FRA_OUTPUT\\NEUTRAL\\6_3_trial_19_signals.fif\n",
      "[done]\n"
     ]
    },
    {
     "name": "stderr",
     "output_type": "stream",
     "text": [
      "C:\\Users\\marco\\AppData\\Local\\Temp\\ipykernel_14260\\1741641518.py:44: RuntimeWarning: This filename (C:\\Users\\marco\\Documents\\MASTER_DATA_SCIENTIST\\TFM_MSD\\SEED_FRA_OUTPUT\\NEUTRAL\\6_3_trial_19_signals.fif) does not conform to MNE naming conventions. All raw files should end with raw.fif, raw_sss.fif, raw_tsss.fif, _meg.fif, _eeg.fif, _ieeg.fif, raw.fif.gz, raw_sss.fif.gz, raw_tsss.fif.gz, _meg.fif.gz, _eeg.fif.gz or _ieeg.fif.gz\n",
      "  eeg_trial.save(output_path, overwrite=True)\n",
      "\r",
      "Processing:  95%|██████████████████████████████████████████████████████████████████▋   | 20/21 [00:38<00:01,  1.91s/it]"
     ]
    },
    {
     "name": "stdout",
     "output_type": "stream",
     "text": [
      "1000.0\n",
      "Writing C:\\Users\\marco\\Documents\\MASTER_DATA_SCIENTIST\\TFM_MSD\\SEED_FRA_OUTPUT\\POSITIVE\\6_3_trial_20_signals.fif\n"
     ]
    },
    {
     "name": "stderr",
     "output_type": "stream",
     "text": [
      "C:\\Users\\marco\\AppData\\Local\\Temp\\ipykernel_14260\\1741641518.py:44: RuntimeWarning: This filename (C:\\Users\\marco\\Documents\\MASTER_DATA_SCIENTIST\\TFM_MSD\\SEED_FRA_OUTPUT\\POSITIVE\\6_3_trial_20_signals.fif) does not conform to MNE naming conventions. All raw files should end with raw.fif, raw_sss.fif, raw_tsss.fif, _meg.fif, _eeg.fif, _ieeg.fif, raw.fif.gz, raw_sss.fif.gz, raw_tsss.fif.gz, _meg.fif.gz, _eeg.fif.gz or _ieeg.fif.gz\n",
      "  eeg_trial.save(output_path, overwrite=True)\n"
     ]
    },
    {
     "name": "stdout",
     "output_type": "stream",
     "text": [
      "Closing C:\\Users\\marco\\Documents\\MASTER_DATA_SCIENTIST\\TFM_MSD\\SEED_FRA_OUTPUT\\POSITIVE\\6_3_trial_20_signals.fif\n",
      "[done]\n"
     ]
    },
    {
     "name": "stderr",
     "output_type": "stream",
     "text": [
      "Processing: 100%|██████████████████████████████████████████████████████████████████████| 21/21 [00:41<00:00,  1.96s/it]\n"
     ]
    },
    {
     "name": "stdout",
     "output_type": "stream",
     "text": [
      "Reading 0 ... 3819559  =      0.000 ...  3819.559 secs...\n",
      "Filtering raw data in 1 contiguous segment\n",
      "Setting up band-pass filter from 0.5 - 55 Hz\n",
      "\n",
      "FIR filter parameters\n",
      "---------------------\n",
      "Designing a one-pass, zero-phase, non-causal bandpass filter:\n",
      "- Windowed time-domain design (firwin) method\n",
      "- Hamming window with 0.0194 passband ripple and 53 dB stopband attenuation\n",
      "- Lower passband edge: 0.50\n",
      "- Lower transition bandwidth: 0.50 Hz (-6 dB cutoff frequency: 0.25 Hz)\n",
      "- Upper passband edge: 55.00 Hz\n",
      "- Upper transition bandwidth: 13.75 Hz (-6 dB cutoff frequency: 61.88 Hz)\n",
      "- Filter length: 6601 samples (6.601 sec)\n",
      "\n"
     ]
    },
    {
     "name": "stderr",
     "output_type": "stream",
     "text": [
      "\r",
      "Processing:   0%|                                                                               | 0/21 [00:00<?, ?it/s]"
     ]
    },
    {
     "name": "stdout",
     "output_type": "stream",
     "text": [
      "1000.0\n",
      "Writing C:\\Users\\marco\\Documents\\MASTER_DATA_SCIENTIST\\TFM_MSD\\SEED_FRA_OUTPUT\\POSITIVE\\7_1_trial_0_signals.fif\n"
     ]
    },
    {
     "name": "stderr",
     "output_type": "stream",
     "text": [
      "C:\\Users\\marco\\AppData\\Local\\Temp\\ipykernel_14260\\1741641518.py:44: RuntimeWarning: This filename (C:\\Users\\marco\\Documents\\MASTER_DATA_SCIENTIST\\TFM_MSD\\SEED_FRA_OUTPUT\\POSITIVE\\7_1_trial_0_signals.fif) does not conform to MNE naming conventions. All raw files should end with raw.fif, raw_sss.fif, raw_tsss.fif, _meg.fif, _eeg.fif, _ieeg.fif, raw.fif.gz, raw_sss.fif.gz, raw_tsss.fif.gz, _meg.fif.gz, _eeg.fif.gz or _ieeg.fif.gz\n",
      "  eeg_trial.save(output_path, overwrite=True)\n"
     ]
    },
    {
     "name": "stdout",
     "output_type": "stream",
     "text": [
      "Closing C:\\Users\\marco\\Documents\\MASTER_DATA_SCIENTIST\\TFM_MSD\\SEED_FRA_OUTPUT\\POSITIVE\\7_1_trial_0_signals.fif\n",
      "[done]\n"
     ]
    },
    {
     "name": "stderr",
     "output_type": "stream",
     "text": [
      "\r",
      "Processing:   5%|███▍                                                                   | 1/21 [00:01<00:35,  1.79s/it]"
     ]
    },
    {
     "name": "stdout",
     "output_type": "stream",
     "text": [
      "1000.0\n",
      "Writing C:\\Users\\marco\\Documents\\MASTER_DATA_SCIENTIST\\TFM_MSD\\SEED_FRA_OUTPUT\\NEGATIVE\\7_1_trial_1_signals.fif\n"
     ]
    },
    {
     "name": "stderr",
     "output_type": "stream",
     "text": [
      "C:\\Users\\marco\\AppData\\Local\\Temp\\ipykernel_14260\\1741641518.py:44: RuntimeWarning: This filename (C:\\Users\\marco\\Documents\\MASTER_DATA_SCIENTIST\\TFM_MSD\\SEED_FRA_OUTPUT\\NEGATIVE\\7_1_trial_1_signals.fif) does not conform to MNE naming conventions. All raw files should end with raw.fif, raw_sss.fif, raw_tsss.fif, _meg.fif, _eeg.fif, _ieeg.fif, raw.fif.gz, raw_sss.fif.gz, raw_tsss.fif.gz, _meg.fif.gz, _eeg.fif.gz or _ieeg.fif.gz\n",
      "  eeg_trial.save(output_path, overwrite=True)\n"
     ]
    },
    {
     "name": "stdout",
     "output_type": "stream",
     "text": [
      "Closing C:\\Users\\marco\\Documents\\MASTER_DATA_SCIENTIST\\TFM_MSD\\SEED_FRA_OUTPUT\\NEGATIVE\\7_1_trial_1_signals.fif\n",
      "[done]\n"
     ]
    },
    {
     "name": "stderr",
     "output_type": "stream",
     "text": [
      "\r",
      "Processing:  10%|██████▊                                                                | 2/21 [00:03<00:35,  1.85s/it]"
     ]
    },
    {
     "name": "stdout",
     "output_type": "stream",
     "text": [
      "1000.0\n",
      "Writing C:\\Users\\marco\\Documents\\MASTER_DATA_SCIENTIST\\TFM_MSD\\SEED_FRA_OUTPUT\\NEUTRAL\\7_1_trial_2_signals.fif\n"
     ]
    },
    {
     "name": "stderr",
     "output_type": "stream",
     "text": [
      "C:\\Users\\marco\\AppData\\Local\\Temp\\ipykernel_14260\\1741641518.py:44: RuntimeWarning: This filename (C:\\Users\\marco\\Documents\\MASTER_DATA_SCIENTIST\\TFM_MSD\\SEED_FRA_OUTPUT\\NEUTRAL\\7_1_trial_2_signals.fif) does not conform to MNE naming conventions. All raw files should end with raw.fif, raw_sss.fif, raw_tsss.fif, _meg.fif, _eeg.fif, _ieeg.fif, raw.fif.gz, raw_sss.fif.gz, raw_tsss.fif.gz, _meg.fif.gz, _eeg.fif.gz or _ieeg.fif.gz\n",
      "  eeg_trial.save(output_path, overwrite=True)\n"
     ]
    },
    {
     "name": "stdout",
     "output_type": "stream",
     "text": [
      "Closing C:\\Users\\marco\\Documents\\MASTER_DATA_SCIENTIST\\TFM_MSD\\SEED_FRA_OUTPUT\\NEUTRAL\\7_1_trial_2_signals.fif\n",
      "[done]\n"
     ]
    },
    {
     "name": "stderr",
     "output_type": "stream",
     "text": [
      "\r",
      "Processing:  14%|██████████▏                                                            | 3/21 [00:05<00:35,  1.96s/it]"
     ]
    },
    {
     "name": "stdout",
     "output_type": "stream",
     "text": [
      "1000.0\n",
      "Writing C:\\Users\\marco\\Documents\\MASTER_DATA_SCIENTIST\\TFM_MSD\\SEED_FRA_OUTPUT\\NEGATIVE\\7_1_trial_3_signals.fif\n"
     ]
    },
    {
     "name": "stderr",
     "output_type": "stream",
     "text": [
      "C:\\Users\\marco\\AppData\\Local\\Temp\\ipykernel_14260\\1741641518.py:44: RuntimeWarning: This filename (C:\\Users\\marco\\Documents\\MASTER_DATA_SCIENTIST\\TFM_MSD\\SEED_FRA_OUTPUT\\NEGATIVE\\7_1_trial_3_signals.fif) does not conform to MNE naming conventions. All raw files should end with raw.fif, raw_sss.fif, raw_tsss.fif, _meg.fif, _eeg.fif, _ieeg.fif, raw.fif.gz, raw_sss.fif.gz, raw_tsss.fif.gz, _meg.fif.gz, _eeg.fif.gz or _ieeg.fif.gz\n",
      "  eeg_trial.save(output_path, overwrite=True)\n"
     ]
    },
    {
     "name": "stdout",
     "output_type": "stream",
     "text": [
      "Closing C:\\Users\\marco\\Documents\\MASTER_DATA_SCIENTIST\\TFM_MSD\\SEED_FRA_OUTPUT\\NEGATIVE\\7_1_trial_3_signals.fif\n",
      "[done]\n"
     ]
    },
    {
     "name": "stderr",
     "output_type": "stream",
     "text": [
      "\r",
      "Processing:  19%|█████████████▌                                                         | 4/21 [00:08<00:35,  2.09s/it]"
     ]
    },
    {
     "name": "stdout",
     "output_type": "stream",
     "text": [
      "1000.0\n",
      "Writing C:\\Users\\marco\\Documents\\MASTER_DATA_SCIENTIST\\TFM_MSD\\SEED_FRA_OUTPUT\\POSITIVE\\7_1_trial_4_signals.fif\n"
     ]
    },
    {
     "name": "stderr",
     "output_type": "stream",
     "text": [
      "C:\\Users\\marco\\AppData\\Local\\Temp\\ipykernel_14260\\1741641518.py:44: RuntimeWarning: This filename (C:\\Users\\marco\\Documents\\MASTER_DATA_SCIENTIST\\TFM_MSD\\SEED_FRA_OUTPUT\\POSITIVE\\7_1_trial_4_signals.fif) does not conform to MNE naming conventions. All raw files should end with raw.fif, raw_sss.fif, raw_tsss.fif, _meg.fif, _eeg.fif, _ieeg.fif, raw.fif.gz, raw_sss.fif.gz, raw_tsss.fif.gz, _meg.fif.gz, _eeg.fif.gz or _ieeg.fif.gz\n",
      "  eeg_trial.save(output_path, overwrite=True)\n"
     ]
    },
    {
     "name": "stdout",
     "output_type": "stream",
     "text": [
      "Closing C:\\Users\\marco\\Documents\\MASTER_DATA_SCIENTIST\\TFM_MSD\\SEED_FRA_OUTPUT\\POSITIVE\\7_1_trial_4_signals.fif\n",
      "[done]\n"
     ]
    },
    {
     "name": "stderr",
     "output_type": "stream",
     "text": [
      "\r",
      "Processing:  24%|████████████████▉                                                      | 5/21 [00:09<00:30,  1.91s/it]"
     ]
    },
    {
     "name": "stdout",
     "output_type": "stream",
     "text": [
      "1000.0\n",
      "Writing C:\\Users\\marco\\Documents\\MASTER_DATA_SCIENTIST\\TFM_MSD\\SEED_FRA_OUTPUT\\NEUTRAL\\7_1_trial_5_signals.fif\n"
     ]
    },
    {
     "name": "stderr",
     "output_type": "stream",
     "text": [
      "C:\\Users\\marco\\AppData\\Local\\Temp\\ipykernel_14260\\1741641518.py:44: RuntimeWarning: This filename (C:\\Users\\marco\\Documents\\MASTER_DATA_SCIENTIST\\TFM_MSD\\SEED_FRA_OUTPUT\\NEUTRAL\\7_1_trial_5_signals.fif) does not conform to MNE naming conventions. All raw files should end with raw.fif, raw_sss.fif, raw_tsss.fif, _meg.fif, _eeg.fif, _ieeg.fif, raw.fif.gz, raw_sss.fif.gz, raw_tsss.fif.gz, _meg.fif.gz, _eeg.fif.gz or _ieeg.fif.gz\n",
      "  eeg_trial.save(output_path, overwrite=True)\n"
     ]
    },
    {
     "name": "stdout",
     "output_type": "stream",
     "text": [
      "Closing C:\\Users\\marco\\Documents\\MASTER_DATA_SCIENTIST\\TFM_MSD\\SEED_FRA_OUTPUT\\NEUTRAL\\7_1_trial_5_signals.fif\n",
      "[done]\n"
     ]
    },
    {
     "name": "stderr",
     "output_type": "stream",
     "text": [
      "\r",
      "Processing:  29%|████████████████████▎                                                  | 6/21 [00:11<00:28,  1.90s/it]"
     ]
    },
    {
     "name": "stdout",
     "output_type": "stream",
     "text": [
      "1000.0\n",
      "Writing C:\\Users\\marco\\Documents\\MASTER_DATA_SCIENTIST\\TFM_MSD\\SEED_FRA_OUTPUT\\NEGATIVE\\7_1_trial_6_signals.fif\n"
     ]
    },
    {
     "name": "stderr",
     "output_type": "stream",
     "text": [
      "C:\\Users\\marco\\AppData\\Local\\Temp\\ipykernel_14260\\1741641518.py:44: RuntimeWarning: This filename (C:\\Users\\marco\\Documents\\MASTER_DATA_SCIENTIST\\TFM_MSD\\SEED_FRA_OUTPUT\\NEGATIVE\\7_1_trial_6_signals.fif) does not conform to MNE naming conventions. All raw files should end with raw.fif, raw_sss.fif, raw_tsss.fif, _meg.fif, _eeg.fif, _ieeg.fif, raw.fif.gz, raw_sss.fif.gz, raw_tsss.fif.gz, _meg.fif.gz, _eeg.fif.gz or _ieeg.fif.gz\n",
      "  eeg_trial.save(output_path, overwrite=True)\n"
     ]
    },
    {
     "name": "stdout",
     "output_type": "stream",
     "text": [
      "Closing C:\\Users\\marco\\Documents\\MASTER_DATA_SCIENTIST\\TFM_MSD\\SEED_FRA_OUTPUT\\NEGATIVE\\7_1_trial_6_signals.fif\n",
      "[done]\n"
     ]
    },
    {
     "name": "stderr",
     "output_type": "stream",
     "text": [
      "\r",
      "Processing:  33%|███████████████████████▋                                               | 7/21 [00:13<00:27,  1.95s/it]"
     ]
    },
    {
     "name": "stdout",
     "output_type": "stream",
     "text": [
      "1000.0\n",
      "Writing C:\\Users\\marco\\Documents\\MASTER_DATA_SCIENTIST\\TFM_MSD\\SEED_FRA_OUTPUT\\NEUTRAL\\7_1_trial_7_signals.fif\n"
     ]
    },
    {
     "name": "stderr",
     "output_type": "stream",
     "text": [
      "C:\\Users\\marco\\AppData\\Local\\Temp\\ipykernel_14260\\1741641518.py:44: RuntimeWarning: This filename (C:\\Users\\marco\\Documents\\MASTER_DATA_SCIENTIST\\TFM_MSD\\SEED_FRA_OUTPUT\\NEUTRAL\\7_1_trial_7_signals.fif) does not conform to MNE naming conventions. All raw files should end with raw.fif, raw_sss.fif, raw_tsss.fif, _meg.fif, _eeg.fif, _ieeg.fif, raw.fif.gz, raw_sss.fif.gz, raw_tsss.fif.gz, _meg.fif.gz, _eeg.fif.gz or _ieeg.fif.gz\n",
      "  eeg_trial.save(output_path, overwrite=True)\n"
     ]
    },
    {
     "name": "stdout",
     "output_type": "stream",
     "text": [
      "Closing C:\\Users\\marco\\Documents\\MASTER_DATA_SCIENTIST\\TFM_MSD\\SEED_FRA_OUTPUT\\NEUTRAL\\7_1_trial_7_signals.fif\n",
      "[done]\n"
     ]
    },
    {
     "name": "stderr",
     "output_type": "stream",
     "text": [
      "\r",
      "Processing:  38%|███████████████████████████                                            | 8/21 [00:15<00:25,  1.99s/it]"
     ]
    },
    {
     "name": "stdout",
     "output_type": "stream",
     "text": [
      "1000.0\n",
      "Writing C:\\Users\\marco\\Documents\\MASTER_DATA_SCIENTIST\\TFM_MSD\\SEED_FRA_OUTPUT\\POSITIVE\\7_1_trial_8_signals.fif\n"
     ]
    },
    {
     "name": "stderr",
     "output_type": "stream",
     "text": [
      "C:\\Users\\marco\\AppData\\Local\\Temp\\ipykernel_14260\\1741641518.py:44: RuntimeWarning: This filename (C:\\Users\\marco\\Documents\\MASTER_DATA_SCIENTIST\\TFM_MSD\\SEED_FRA_OUTPUT\\POSITIVE\\7_1_trial_8_signals.fif) does not conform to MNE naming conventions. All raw files should end with raw.fif, raw_sss.fif, raw_tsss.fif, _meg.fif, _eeg.fif, _ieeg.fif, raw.fif.gz, raw_sss.fif.gz, raw_tsss.fif.gz, _meg.fif.gz, _eeg.fif.gz or _ieeg.fif.gz\n",
      "  eeg_trial.save(output_path, overwrite=True)\n"
     ]
    },
    {
     "name": "stdout",
     "output_type": "stream",
     "text": [
      "Closing C:\\Users\\marco\\Documents\\MASTER_DATA_SCIENTIST\\TFM_MSD\\SEED_FRA_OUTPUT\\POSITIVE\\7_1_trial_8_signals.fif\n",
      "[done]\n"
     ]
    },
    {
     "name": "stderr",
     "output_type": "stream",
     "text": [
      "\r",
      "Processing:  43%|██████████████████████████████▍                                        | 9/21 [00:17<00:23,  2.00s/it]"
     ]
    },
    {
     "name": "stdout",
     "output_type": "stream",
     "text": [
      "1000.0\n",
      "Writing C:\\Users\\marco\\Documents\\MASTER_DATA_SCIENTIST\\TFM_MSD\\SEED_FRA_OUTPUT\\NEGATIVE\\7_1_trial_9_signals.fif\n"
     ]
    },
    {
     "name": "stderr",
     "output_type": "stream",
     "text": [
      "C:\\Users\\marco\\AppData\\Local\\Temp\\ipykernel_14260\\1741641518.py:44: RuntimeWarning: This filename (C:\\Users\\marco\\Documents\\MASTER_DATA_SCIENTIST\\TFM_MSD\\SEED_FRA_OUTPUT\\NEGATIVE\\7_1_trial_9_signals.fif) does not conform to MNE naming conventions. All raw files should end with raw.fif, raw_sss.fif, raw_tsss.fif, _meg.fif, _eeg.fif, _ieeg.fif, raw.fif.gz, raw_sss.fif.gz, raw_tsss.fif.gz, _meg.fif.gz, _eeg.fif.gz or _ieeg.fif.gz\n",
      "  eeg_trial.save(output_path, overwrite=True)\n"
     ]
    },
    {
     "name": "stdout",
     "output_type": "stream",
     "text": [
      "Closing C:\\Users\\marco\\Documents\\MASTER_DATA_SCIENTIST\\TFM_MSD\\SEED_FRA_OUTPUT\\NEGATIVE\\7_1_trial_9_signals.fif\n",
      "[done]\n"
     ]
    },
    {
     "name": "stderr",
     "output_type": "stream",
     "text": [
      "\r",
      "Processing:  48%|█████████████████████████████████▎                                    | 10/21 [00:19<00:23,  2.09s/it]"
     ]
    },
    {
     "name": "stdout",
     "output_type": "stream",
     "text": [
      "1000.0\n",
      "Writing C:\\Users\\marco\\Documents\\MASTER_DATA_SCIENTIST\\TFM_MSD\\SEED_FRA_OUTPUT\\NEUTRAL\\7_1_trial_10_signals.fif\n"
     ]
    },
    {
     "name": "stderr",
     "output_type": "stream",
     "text": [
      "C:\\Users\\marco\\AppData\\Local\\Temp\\ipykernel_14260\\1741641518.py:44: RuntimeWarning: This filename (C:\\Users\\marco\\Documents\\MASTER_DATA_SCIENTIST\\TFM_MSD\\SEED_FRA_OUTPUT\\NEUTRAL\\7_1_trial_10_signals.fif) does not conform to MNE naming conventions. All raw files should end with raw.fif, raw_sss.fif, raw_tsss.fif, _meg.fif, _eeg.fif, _ieeg.fif, raw.fif.gz, raw_sss.fif.gz, raw_tsss.fif.gz, _meg.fif.gz, _eeg.fif.gz or _ieeg.fif.gz\n",
      "  eeg_trial.save(output_path, overwrite=True)\n"
     ]
    },
    {
     "name": "stdout",
     "output_type": "stream",
     "text": [
      "Closing C:\\Users\\marco\\Documents\\MASTER_DATA_SCIENTIST\\TFM_MSD\\SEED_FRA_OUTPUT\\NEUTRAL\\7_1_trial_10_signals.fif\n",
      "[done]\n"
     ]
    },
    {
     "name": "stderr",
     "output_type": "stream",
     "text": [
      "\r",
      "Processing:  52%|████████████████████████████████████▋                                 | 11/21 [00:21<00:20,  2.03s/it]"
     ]
    },
    {
     "name": "stdout",
     "output_type": "stream",
     "text": [
      "1000.0\n",
      "Writing C:\\Users\\marco\\Documents\\MASTER_DATA_SCIENTIST\\TFM_MSD\\SEED_FRA_OUTPUT\\POSITIVE\\7_1_trial_11_signals.fif\n"
     ]
    },
    {
     "name": "stderr",
     "output_type": "stream",
     "text": [
      "C:\\Users\\marco\\AppData\\Local\\Temp\\ipykernel_14260\\1741641518.py:44: RuntimeWarning: This filename (C:\\Users\\marco\\Documents\\MASTER_DATA_SCIENTIST\\TFM_MSD\\SEED_FRA_OUTPUT\\POSITIVE\\7_1_trial_11_signals.fif) does not conform to MNE naming conventions. All raw files should end with raw.fif, raw_sss.fif, raw_tsss.fif, _meg.fif, _eeg.fif, _ieeg.fif, raw.fif.gz, raw_sss.fif.gz, raw_tsss.fif.gz, _meg.fif.gz, _eeg.fif.gz or _ieeg.fif.gz\n",
      "  eeg_trial.save(output_path, overwrite=True)\n"
     ]
    },
    {
     "name": "stdout",
     "output_type": "stream",
     "text": [
      "Closing C:\\Users\\marco\\Documents\\MASTER_DATA_SCIENTIST\\TFM_MSD\\SEED_FRA_OUTPUT\\POSITIVE\\7_1_trial_11_signals.fif\n",
      "[done]\n"
     ]
    },
    {
     "name": "stderr",
     "output_type": "stream",
     "text": [
      "\r",
      "Processing:  57%|████████████████████████████████████████                              | 12/21 [00:23<00:18,  2.01s/it]"
     ]
    },
    {
     "name": "stdout",
     "output_type": "stream",
     "text": [
      "1000.0\n",
      "Writing C:\\Users\\marco\\Documents\\MASTER_DATA_SCIENTIST\\TFM_MSD\\SEED_FRA_OUTPUT\\POSITIVE\\7_1_trial_12_signals.fif\n"
     ]
    },
    {
     "name": "stderr",
     "output_type": "stream",
     "text": [
      "C:\\Users\\marco\\AppData\\Local\\Temp\\ipykernel_14260\\1741641518.py:44: RuntimeWarning: This filename (C:\\Users\\marco\\Documents\\MASTER_DATA_SCIENTIST\\TFM_MSD\\SEED_FRA_OUTPUT\\POSITIVE\\7_1_trial_12_signals.fif) does not conform to MNE naming conventions. All raw files should end with raw.fif, raw_sss.fif, raw_tsss.fif, _meg.fif, _eeg.fif, _ieeg.fif, raw.fif.gz, raw_sss.fif.gz, raw_tsss.fif.gz, _meg.fif.gz, _eeg.fif.gz or _ieeg.fif.gz\n",
      "  eeg_trial.save(output_path, overwrite=True)\n"
     ]
    },
    {
     "name": "stdout",
     "output_type": "stream",
     "text": [
      "Closing C:\\Users\\marco\\Documents\\MASTER_DATA_SCIENTIST\\TFM_MSD\\SEED_FRA_OUTPUT\\POSITIVE\\7_1_trial_12_signals.fif\n",
      "[done]\n"
     ]
    },
    {
     "name": "stderr",
     "output_type": "stream",
     "text": [
      "\r",
      "Processing:  62%|███████████████████████████████████████████▎                          | 13/21 [00:25<00:14,  1.82s/it]"
     ]
    },
    {
     "name": "stdout",
     "output_type": "stream",
     "text": [
      "1000.0\n",
      "Writing C:\\Users\\marco\\Documents\\MASTER_DATA_SCIENTIST\\TFM_MSD\\SEED_FRA_OUTPUT\\NEUTRAL\\7_1_trial_13_signals.fif\n"
     ]
    },
    {
     "name": "stderr",
     "output_type": "stream",
     "text": [
      "C:\\Users\\marco\\AppData\\Local\\Temp\\ipykernel_14260\\1741641518.py:44: RuntimeWarning: This filename (C:\\Users\\marco\\Documents\\MASTER_DATA_SCIENTIST\\TFM_MSD\\SEED_FRA_OUTPUT\\NEUTRAL\\7_1_trial_13_signals.fif) does not conform to MNE naming conventions. All raw files should end with raw.fif, raw_sss.fif, raw_tsss.fif, _meg.fif, _eeg.fif, _ieeg.fif, raw.fif.gz, raw_sss.fif.gz, raw_tsss.fif.gz, _meg.fif.gz, _eeg.fif.gz or _ieeg.fif.gz\n",
      "  eeg_trial.save(output_path, overwrite=True)\n"
     ]
    },
    {
     "name": "stdout",
     "output_type": "stream",
     "text": [
      "Closing C:\\Users\\marco\\Documents\\MASTER_DATA_SCIENTIST\\TFM_MSD\\SEED_FRA_OUTPUT\\NEUTRAL\\7_1_trial_13_signals.fif\n",
      "[done]\n"
     ]
    },
    {
     "name": "stderr",
     "output_type": "stream",
     "text": [
      "\r",
      "Processing:  67%|██████████████████████████████████████████████▋                       | 14/21 [00:27<00:13,  1.87s/it]"
     ]
    },
    {
     "name": "stdout",
     "output_type": "stream",
     "text": [
      "1000.0\n",
      "Writing C:\\Users\\marco\\Documents\\MASTER_DATA_SCIENTIST\\TFM_MSD\\SEED_FRA_OUTPUT\\NEGATIVE\\7_1_trial_14_signals.fif\n"
     ]
    },
    {
     "name": "stderr",
     "output_type": "stream",
     "text": [
      "C:\\Users\\marco\\AppData\\Local\\Temp\\ipykernel_14260\\1741641518.py:44: RuntimeWarning: This filename (C:\\Users\\marco\\Documents\\MASTER_DATA_SCIENTIST\\TFM_MSD\\SEED_FRA_OUTPUT\\NEGATIVE\\7_1_trial_14_signals.fif) does not conform to MNE naming conventions. All raw files should end with raw.fif, raw_sss.fif, raw_tsss.fif, _meg.fif, _eeg.fif, _ieeg.fif, raw.fif.gz, raw_sss.fif.gz, raw_tsss.fif.gz, _meg.fif.gz, _eeg.fif.gz or _ieeg.fif.gz\n",
      "  eeg_trial.save(output_path, overwrite=True)\n"
     ]
    },
    {
     "name": "stdout",
     "output_type": "stream",
     "text": [
      "Closing C:\\Users\\marco\\Documents\\MASTER_DATA_SCIENTIST\\TFM_MSD\\SEED_FRA_OUTPUT\\NEGATIVE\\7_1_trial_14_signals.fif\n",
      "[done]\n"
     ]
    },
    {
     "name": "stderr",
     "output_type": "stream",
     "text": [
      "\r",
      "Processing:  71%|██████████████████████████████████████████████████                    | 15/21 [00:29<00:11,  1.91s/it]"
     ]
    },
    {
     "name": "stdout",
     "output_type": "stream",
     "text": [
      "1000.0\n",
      "Writing C:\\Users\\marco\\Documents\\MASTER_DATA_SCIENTIST\\TFM_MSD\\SEED_FRA_OUTPUT\\NEGATIVE\\7_1_trial_15_signals.fif\n",
      "Closing C:\\Users\\marco\\Documents\\MASTER_DATA_SCIENTIST\\TFM_MSD\\SEED_FRA_OUTPUT\\NEGATIVE\\7_1_trial_15_signals.fif\n",
      "[done]\n"
     ]
    },
    {
     "name": "stderr",
     "output_type": "stream",
     "text": [
      "C:\\Users\\marco\\AppData\\Local\\Temp\\ipykernel_14260\\1741641518.py:44: RuntimeWarning: This filename (C:\\Users\\marco\\Documents\\MASTER_DATA_SCIENTIST\\TFM_MSD\\SEED_FRA_OUTPUT\\NEGATIVE\\7_1_trial_15_signals.fif) does not conform to MNE naming conventions. All raw files should end with raw.fif, raw_sss.fif, raw_tsss.fif, _meg.fif, _eeg.fif, _ieeg.fif, raw.fif.gz, raw_sss.fif.gz, raw_tsss.fif.gz, _meg.fif.gz, _eeg.fif.gz or _ieeg.fif.gz\n",
      "  eeg_trial.save(output_path, overwrite=True)\n",
      "\r",
      "Processing:  76%|█████████████████████████████████████████████████████▎                | 16/21 [00:31<00:09,  1.89s/it]"
     ]
    },
    {
     "name": "stdout",
     "output_type": "stream",
     "text": [
      "1000.0\n",
      "Writing C:\\Users\\marco\\Documents\\MASTER_DATA_SCIENTIST\\TFM_MSD\\SEED_FRA_OUTPUT\\NEUTRAL\\7_1_trial_16_signals.fif\n"
     ]
    },
    {
     "name": "stderr",
     "output_type": "stream",
     "text": [
      "C:\\Users\\marco\\AppData\\Local\\Temp\\ipykernel_14260\\1741641518.py:44: RuntimeWarning: This filename (C:\\Users\\marco\\Documents\\MASTER_DATA_SCIENTIST\\TFM_MSD\\SEED_FRA_OUTPUT\\NEUTRAL\\7_1_trial_16_signals.fif) does not conform to MNE naming conventions. All raw files should end with raw.fif, raw_sss.fif, raw_tsss.fif, _meg.fif, _eeg.fif, _ieeg.fif, raw.fif.gz, raw_sss.fif.gz, raw_tsss.fif.gz, _meg.fif.gz, _eeg.fif.gz or _ieeg.fif.gz\n",
      "  eeg_trial.save(output_path, overwrite=True)\n"
     ]
    },
    {
     "name": "stdout",
     "output_type": "stream",
     "text": [
      "Closing C:\\Users\\marco\\Documents\\MASTER_DATA_SCIENTIST\\TFM_MSD\\SEED_FRA_OUTPUT\\NEUTRAL\\7_1_trial_16_signals.fif\n",
      "[done]\n"
     ]
    },
    {
     "name": "stderr",
     "output_type": "stream",
     "text": [
      "\r",
      "Processing:  81%|████████████████████████████████████████████████████████▋             | 17/21 [00:33<00:07,  1.94s/it]"
     ]
    },
    {
     "name": "stdout",
     "output_type": "stream",
     "text": [
      "1000.0\n",
      "Writing C:\\Users\\marco\\Documents\\MASTER_DATA_SCIENTIST\\TFM_MSD\\SEED_FRA_OUTPUT\\POSITIVE\\7_1_trial_17_signals.fif\n"
     ]
    },
    {
     "name": "stderr",
     "output_type": "stream",
     "text": [
      "C:\\Users\\marco\\AppData\\Local\\Temp\\ipykernel_14260\\1741641518.py:44: RuntimeWarning: This filename (C:\\Users\\marco\\Documents\\MASTER_DATA_SCIENTIST\\TFM_MSD\\SEED_FRA_OUTPUT\\POSITIVE\\7_1_trial_17_signals.fif) does not conform to MNE naming conventions. All raw files should end with raw.fif, raw_sss.fif, raw_tsss.fif, _meg.fif, _eeg.fif, _ieeg.fif, raw.fif.gz, raw_sss.fif.gz, raw_tsss.fif.gz, _meg.fif.gz, _eeg.fif.gz or _ieeg.fif.gz\n",
      "  eeg_trial.save(output_path, overwrite=True)\n"
     ]
    },
    {
     "name": "stdout",
     "output_type": "stream",
     "text": [
      "Closing C:\\Users\\marco\\Documents\\MASTER_DATA_SCIENTIST\\TFM_MSD\\SEED_FRA_OUTPUT\\POSITIVE\\7_1_trial_17_signals.fif\n",
      "[done]\n"
     ]
    },
    {
     "name": "stderr",
     "output_type": "stream",
     "text": [
      "\r",
      "Processing:  86%|████████████████████████████████████████████████████████████          | 18/21 [00:35<00:05,  1.94s/it]"
     ]
    },
    {
     "name": "stdout",
     "output_type": "stream",
     "text": [
      "1000.0\n",
      "Writing C:\\Users\\marco\\Documents\\MASTER_DATA_SCIENTIST\\TFM_MSD\\SEED_FRA_OUTPUT\\NEGATIVE\\7_1_trial_18_signals.fif\n"
     ]
    },
    {
     "name": "stderr",
     "output_type": "stream",
     "text": [
      "C:\\Users\\marco\\AppData\\Local\\Temp\\ipykernel_14260\\1741641518.py:44: RuntimeWarning: This filename (C:\\Users\\marco\\Documents\\MASTER_DATA_SCIENTIST\\TFM_MSD\\SEED_FRA_OUTPUT\\NEGATIVE\\7_1_trial_18_signals.fif) does not conform to MNE naming conventions. All raw files should end with raw.fif, raw_sss.fif, raw_tsss.fif, _meg.fif, _eeg.fif, _ieeg.fif, raw.fif.gz, raw_sss.fif.gz, raw_tsss.fif.gz, _meg.fif.gz, _eeg.fif.gz or _ieeg.fif.gz\n",
      "  eeg_trial.save(output_path, overwrite=True)\n"
     ]
    },
    {
     "name": "stdout",
     "output_type": "stream",
     "text": [
      "Closing C:\\Users\\marco\\Documents\\MASTER_DATA_SCIENTIST\\TFM_MSD\\SEED_FRA_OUTPUT\\NEGATIVE\\7_1_trial_18_signals.fif\n",
      "[done]\n"
     ]
    },
    {
     "name": "stderr",
     "output_type": "stream",
     "text": [
      "\r",
      "Processing:  90%|███████████████████████████████████████████████████████████████▎      | 19/21 [00:36<00:03,  1.90s/it]"
     ]
    },
    {
     "name": "stdout",
     "output_type": "stream",
     "text": [
      "1000.0\n",
      "Writing C:\\Users\\marco\\Documents\\MASTER_DATA_SCIENTIST\\TFM_MSD\\SEED_FRA_OUTPUT\\NEUTRAL\\7_1_trial_19_signals.fif\n",
      "Closing C:\\Users\\marco\\Documents\\MASTER_DATA_SCIENTIST\\TFM_MSD\\SEED_FRA_OUTPUT\\NEUTRAL\\7_1_trial_19_signals.fif\n"
     ]
    },
    {
     "name": "stderr",
     "output_type": "stream",
     "text": [
      "C:\\Users\\marco\\AppData\\Local\\Temp\\ipykernel_14260\\1741641518.py:44: RuntimeWarning: This filename (C:\\Users\\marco\\Documents\\MASTER_DATA_SCIENTIST\\TFM_MSD\\SEED_FRA_OUTPUT\\NEUTRAL\\7_1_trial_19_signals.fif) does not conform to MNE naming conventions. All raw files should end with raw.fif, raw_sss.fif, raw_tsss.fif, _meg.fif, _eeg.fif, _ieeg.fif, raw.fif.gz, raw_sss.fif.gz, raw_tsss.fif.gz, _meg.fif.gz, _eeg.fif.gz or _ieeg.fif.gz\n",
      "  eeg_trial.save(output_path, overwrite=True)\n"
     ]
    },
    {
     "name": "stdout",
     "output_type": "stream",
     "text": [
      "[done]\n"
     ]
    },
    {
     "name": "stderr",
     "output_type": "stream",
     "text": [
      "\r",
      "Processing:  95%|██████████████████████████████████████████████████████████████████▋   | 20/21 [00:38<00:01,  1.83s/it]"
     ]
    },
    {
     "name": "stdout",
     "output_type": "stream",
     "text": [
      "1000.0\n",
      "Writing C:\\Users\\marco\\Documents\\MASTER_DATA_SCIENTIST\\TFM_MSD\\SEED_FRA_OUTPUT\\POSITIVE\\7_1_trial_20_signals.fif\n"
     ]
    },
    {
     "name": "stderr",
     "output_type": "stream",
     "text": [
      "C:\\Users\\marco\\AppData\\Local\\Temp\\ipykernel_14260\\1741641518.py:44: RuntimeWarning: This filename (C:\\Users\\marco\\Documents\\MASTER_DATA_SCIENTIST\\TFM_MSD\\SEED_FRA_OUTPUT\\POSITIVE\\7_1_trial_20_signals.fif) does not conform to MNE naming conventions. All raw files should end with raw.fif, raw_sss.fif, raw_tsss.fif, _meg.fif, _eeg.fif, _ieeg.fif, raw.fif.gz, raw_sss.fif.gz, raw_tsss.fif.gz, _meg.fif.gz, _eeg.fif.gz or _ieeg.fif.gz\n",
      "  eeg_trial.save(output_path, overwrite=True)\n"
     ]
    },
    {
     "name": "stdout",
     "output_type": "stream",
     "text": [
      "Closing C:\\Users\\marco\\Documents\\MASTER_DATA_SCIENTIST\\TFM_MSD\\SEED_FRA_OUTPUT\\POSITIVE\\7_1_trial_20_signals.fif\n",
      "[done]\n"
     ]
    },
    {
     "name": "stderr",
     "output_type": "stream",
     "text": [
      "Processing: 100%|██████████████████████████████████████████████████████████████████████| 21/21 [00:40<00:00,  1.92s/it]\n"
     ]
    },
    {
     "name": "stdout",
     "output_type": "stream",
     "text": [
      "Reading 0 ... 3812519  =      0.000 ...  3812.519 secs...\n"
     ]
    },
    {
     "name": "stderr",
     "output_type": "stream",
     "text": [
      "C:\\Users\\marco\\AppData\\Local\\Temp\\ipykernel_14260\\1741641518.py:4: RuntimeWarning:   Could not parse meas date from the header. Setting to None.\n",
      "  eeg_raw = mne.io.read_raw_cnt(_path, preload=True)\n"
     ]
    },
    {
     "name": "stdout",
     "output_type": "stream",
     "text": [
      "Filtering raw data in 1 contiguous segment\n",
      "Setting up band-pass filter from 0.5 - 55 Hz\n",
      "\n",
      "FIR filter parameters\n",
      "---------------------\n",
      "Designing a one-pass, zero-phase, non-causal bandpass filter:\n",
      "- Windowed time-domain design (firwin) method\n",
      "- Hamming window with 0.0194 passband ripple and 53 dB stopband attenuation\n",
      "- Lower passband edge: 0.50\n",
      "- Lower transition bandwidth: 0.50 Hz (-6 dB cutoff frequency: 0.25 Hz)\n",
      "- Upper passband edge: 55.00 Hz\n",
      "- Upper transition bandwidth: 13.75 Hz (-6 dB cutoff frequency: 61.88 Hz)\n",
      "- Filter length: 6601 samples (6.601 sec)\n",
      "\n"
     ]
    },
    {
     "name": "stderr",
     "output_type": "stream",
     "text": [
      "\r",
      "Processing:   0%|                                                                               | 0/21 [00:00<?, ?it/s]"
     ]
    },
    {
     "name": "stdout",
     "output_type": "stream",
     "text": [
      "1000.0\n",
      "Writing C:\\Users\\marco\\Documents\\MASTER_DATA_SCIENTIST\\TFM_MSD\\SEED_FRA_OUTPUT\\POSITIVE\\7_2_trial_0_signals.fif\n"
     ]
    },
    {
     "name": "stderr",
     "output_type": "stream",
     "text": [
      "C:\\Users\\marco\\AppData\\Local\\Temp\\ipykernel_14260\\1741641518.py:44: RuntimeWarning: This filename (C:\\Users\\marco\\Documents\\MASTER_DATA_SCIENTIST\\TFM_MSD\\SEED_FRA_OUTPUT\\POSITIVE\\7_2_trial_0_signals.fif) does not conform to MNE naming conventions. All raw files should end with raw.fif, raw_sss.fif, raw_tsss.fif, _meg.fif, _eeg.fif, _ieeg.fif, raw.fif.gz, raw_sss.fif.gz, raw_tsss.fif.gz, _meg.fif.gz, _eeg.fif.gz or _ieeg.fif.gz\n",
      "  eeg_trial.save(output_path, overwrite=True)\n"
     ]
    },
    {
     "name": "stdout",
     "output_type": "stream",
     "text": [
      "Closing C:\\Users\\marco\\Documents\\MASTER_DATA_SCIENTIST\\TFM_MSD\\SEED_FRA_OUTPUT\\POSITIVE\\7_2_trial_0_signals.fif\n",
      "[done]\n"
     ]
    },
    {
     "name": "stderr",
     "output_type": "stream",
     "text": [
      "\r",
      "Processing:   5%|███▍                                                                   | 1/21 [00:01<00:35,  1.76s/it]"
     ]
    },
    {
     "name": "stdout",
     "output_type": "stream",
     "text": [
      "1000.0\n",
      "Writing C:\\Users\\marco\\Documents\\MASTER_DATA_SCIENTIST\\TFM_MSD\\SEED_FRA_OUTPUT\\NEGATIVE\\7_2_trial_1_signals.fif\n"
     ]
    },
    {
     "name": "stderr",
     "output_type": "stream",
     "text": [
      "C:\\Users\\marco\\AppData\\Local\\Temp\\ipykernel_14260\\1741641518.py:44: RuntimeWarning: This filename (C:\\Users\\marco\\Documents\\MASTER_DATA_SCIENTIST\\TFM_MSD\\SEED_FRA_OUTPUT\\NEGATIVE\\7_2_trial_1_signals.fif) does not conform to MNE naming conventions. All raw files should end with raw.fif, raw_sss.fif, raw_tsss.fif, _meg.fif, _eeg.fif, _ieeg.fif, raw.fif.gz, raw_sss.fif.gz, raw_tsss.fif.gz, _meg.fif.gz, _eeg.fif.gz or _ieeg.fif.gz\n",
      "  eeg_trial.save(output_path, overwrite=True)\n"
     ]
    },
    {
     "name": "stdout",
     "output_type": "stream",
     "text": [
      "Closing C:\\Users\\marco\\Documents\\MASTER_DATA_SCIENTIST\\TFM_MSD\\SEED_FRA_OUTPUT\\NEGATIVE\\7_2_trial_1_signals.fif\n",
      "[done]\n"
     ]
    },
    {
     "name": "stderr",
     "output_type": "stream",
     "text": [
      "\r",
      "Processing:  10%|██████▊                                                                | 2/21 [00:03<00:34,  1.84s/it]"
     ]
    },
    {
     "name": "stdout",
     "output_type": "stream",
     "text": [
      "1000.0\n",
      "Writing C:\\Users\\marco\\Documents\\MASTER_DATA_SCIENTIST\\TFM_MSD\\SEED_FRA_OUTPUT\\NEUTRAL\\7_2_trial_2_signals.fif\n"
     ]
    },
    {
     "name": "stderr",
     "output_type": "stream",
     "text": [
      "C:\\Users\\marco\\AppData\\Local\\Temp\\ipykernel_14260\\1741641518.py:44: RuntimeWarning: This filename (C:\\Users\\marco\\Documents\\MASTER_DATA_SCIENTIST\\TFM_MSD\\SEED_FRA_OUTPUT\\NEUTRAL\\7_2_trial_2_signals.fif) does not conform to MNE naming conventions. All raw files should end with raw.fif, raw_sss.fif, raw_tsss.fif, _meg.fif, _eeg.fif, _ieeg.fif, raw.fif.gz, raw_sss.fif.gz, raw_tsss.fif.gz, _meg.fif.gz, _eeg.fif.gz or _ieeg.fif.gz\n",
      "  eeg_trial.save(output_path, overwrite=True)\n"
     ]
    },
    {
     "name": "stdout",
     "output_type": "stream",
     "text": [
      "Closing C:\\Users\\marco\\Documents\\MASTER_DATA_SCIENTIST\\TFM_MSD\\SEED_FRA_OUTPUT\\NEUTRAL\\7_2_trial_2_signals.fif\n",
      "[done]\n"
     ]
    },
    {
     "name": "stderr",
     "output_type": "stream",
     "text": [
      "\r",
      "Processing:  14%|██████████▏                                                            | 3/21 [00:05<00:32,  1.83s/it]"
     ]
    },
    {
     "name": "stdout",
     "output_type": "stream",
     "text": [
      "1000.0\n",
      "Writing C:\\Users\\marco\\Documents\\MASTER_DATA_SCIENTIST\\TFM_MSD\\SEED_FRA_OUTPUT\\NEGATIVE\\7_2_trial_3_signals.fif\n"
     ]
    },
    {
     "name": "stderr",
     "output_type": "stream",
     "text": [
      "C:\\Users\\marco\\AppData\\Local\\Temp\\ipykernel_14260\\1741641518.py:44: RuntimeWarning: This filename (C:\\Users\\marco\\Documents\\MASTER_DATA_SCIENTIST\\TFM_MSD\\SEED_FRA_OUTPUT\\NEGATIVE\\7_2_trial_3_signals.fif) does not conform to MNE naming conventions. All raw files should end with raw.fif, raw_sss.fif, raw_tsss.fif, _meg.fif, _eeg.fif, _ieeg.fif, raw.fif.gz, raw_sss.fif.gz, raw_tsss.fif.gz, _meg.fif.gz, _eeg.fif.gz or _ieeg.fif.gz\n",
      "  eeg_trial.save(output_path, overwrite=True)\n"
     ]
    },
    {
     "name": "stdout",
     "output_type": "stream",
     "text": [
      "Closing C:\\Users\\marco\\Documents\\MASTER_DATA_SCIENTIST\\TFM_MSD\\SEED_FRA_OUTPUT\\NEGATIVE\\7_2_trial_3_signals.fif\n",
      "[done]\n"
     ]
    },
    {
     "name": "stderr",
     "output_type": "stream",
     "text": [
      "\r",
      "Processing:  19%|█████████████▌                                                         | 4/21 [00:07<00:35,  2.07s/it]"
     ]
    },
    {
     "name": "stdout",
     "output_type": "stream",
     "text": [
      "1000.0\n",
      "Writing C:\\Users\\marco\\Documents\\MASTER_DATA_SCIENTIST\\TFM_MSD\\SEED_FRA_OUTPUT\\POSITIVE\\7_2_trial_4_signals.fif\n"
     ]
    },
    {
     "name": "stderr",
     "output_type": "stream",
     "text": [
      "C:\\Users\\marco\\AppData\\Local\\Temp\\ipykernel_14260\\1741641518.py:44: RuntimeWarning: This filename (C:\\Users\\marco\\Documents\\MASTER_DATA_SCIENTIST\\TFM_MSD\\SEED_FRA_OUTPUT\\POSITIVE\\7_2_trial_4_signals.fif) does not conform to MNE naming conventions. All raw files should end with raw.fif, raw_sss.fif, raw_tsss.fif, _meg.fif, _eeg.fif, _ieeg.fif, raw.fif.gz, raw_sss.fif.gz, raw_tsss.fif.gz, _meg.fif.gz, _eeg.fif.gz or _ieeg.fif.gz\n",
      "  eeg_trial.save(output_path, overwrite=True)\n"
     ]
    },
    {
     "name": "stdout",
     "output_type": "stream",
     "text": [
      "Closing C:\\Users\\marco\\Documents\\MASTER_DATA_SCIENTIST\\TFM_MSD\\SEED_FRA_OUTPUT\\POSITIVE\\7_2_trial_4_signals.fif\n",
      "[done]\n"
     ]
    },
    {
     "name": "stderr",
     "output_type": "stream",
     "text": [
      "\r",
      "Processing:  24%|████████████████▉                                                      | 5/21 [00:09<00:32,  2.05s/it]"
     ]
    },
    {
     "name": "stdout",
     "output_type": "stream",
     "text": [
      "1000.0\n",
      "Writing C:\\Users\\marco\\Documents\\MASTER_DATA_SCIENTIST\\TFM_MSD\\SEED_FRA_OUTPUT\\NEUTRAL\\7_2_trial_5_signals.fif\n"
     ]
    },
    {
     "name": "stderr",
     "output_type": "stream",
     "text": [
      "C:\\Users\\marco\\AppData\\Local\\Temp\\ipykernel_14260\\1741641518.py:44: RuntimeWarning: This filename (C:\\Users\\marco\\Documents\\MASTER_DATA_SCIENTIST\\TFM_MSD\\SEED_FRA_OUTPUT\\NEUTRAL\\7_2_trial_5_signals.fif) does not conform to MNE naming conventions. All raw files should end with raw.fif, raw_sss.fif, raw_tsss.fif, _meg.fif, _eeg.fif, _ieeg.fif, raw.fif.gz, raw_sss.fif.gz, raw_tsss.fif.gz, _meg.fif.gz, _eeg.fif.gz or _ieeg.fif.gz\n",
      "  eeg_trial.save(output_path, overwrite=True)\n"
     ]
    },
    {
     "name": "stdout",
     "output_type": "stream",
     "text": [
      "Closing C:\\Users\\marco\\Documents\\MASTER_DATA_SCIENTIST\\TFM_MSD\\SEED_FRA_OUTPUT\\NEUTRAL\\7_2_trial_5_signals.fif\n",
      "[done]\n"
     ]
    },
    {
     "name": "stderr",
     "output_type": "stream",
     "text": [
      "\r",
      "Processing:  29%|████████████████████▎                                                  | 6/21 [00:12<00:31,  2.07s/it]"
     ]
    },
    {
     "name": "stdout",
     "output_type": "stream",
     "text": [
      "1000.0\n",
      "Writing C:\\Users\\marco\\Documents\\MASTER_DATA_SCIENTIST\\TFM_MSD\\SEED_FRA_OUTPUT\\NEGATIVE\\7_2_trial_6_signals.fif\n"
     ]
    },
    {
     "name": "stderr",
     "output_type": "stream",
     "text": [
      "C:\\Users\\marco\\AppData\\Local\\Temp\\ipykernel_14260\\1741641518.py:44: RuntimeWarning: This filename (C:\\Users\\marco\\Documents\\MASTER_DATA_SCIENTIST\\TFM_MSD\\SEED_FRA_OUTPUT\\NEGATIVE\\7_2_trial_6_signals.fif) does not conform to MNE naming conventions. All raw files should end with raw.fif, raw_sss.fif, raw_tsss.fif, _meg.fif, _eeg.fif, _ieeg.fif, raw.fif.gz, raw_sss.fif.gz, raw_tsss.fif.gz, _meg.fif.gz, _eeg.fif.gz or _ieeg.fif.gz\n",
      "  eeg_trial.save(output_path, overwrite=True)\n"
     ]
    },
    {
     "name": "stdout",
     "output_type": "stream",
     "text": [
      "Closing C:\\Users\\marco\\Documents\\MASTER_DATA_SCIENTIST\\TFM_MSD\\SEED_FRA_OUTPUT\\NEGATIVE\\7_2_trial_6_signals.fif\n",
      "[done]\n"
     ]
    },
    {
     "name": "stderr",
     "output_type": "stream",
     "text": [
      "\r",
      "Processing:  33%|███████████████████████▋                                               | 7/21 [00:14<00:30,  2.16s/it]"
     ]
    },
    {
     "name": "stdout",
     "output_type": "stream",
     "text": [
      "1000.0\n",
      "Writing C:\\Users\\marco\\Documents\\MASTER_DATA_SCIENTIST\\TFM_MSD\\SEED_FRA_OUTPUT\\NEUTRAL\\7_2_trial_7_signals.fif\n"
     ]
    },
    {
     "name": "stderr",
     "output_type": "stream",
     "text": [
      "C:\\Users\\marco\\AppData\\Local\\Temp\\ipykernel_14260\\1741641518.py:44: RuntimeWarning: This filename (C:\\Users\\marco\\Documents\\MASTER_DATA_SCIENTIST\\TFM_MSD\\SEED_FRA_OUTPUT\\NEUTRAL\\7_2_trial_7_signals.fif) does not conform to MNE naming conventions. All raw files should end with raw.fif, raw_sss.fif, raw_tsss.fif, _meg.fif, _eeg.fif, _ieeg.fif, raw.fif.gz, raw_sss.fif.gz, raw_tsss.fif.gz, _meg.fif.gz, _eeg.fif.gz or _ieeg.fif.gz\n",
      "  eeg_trial.save(output_path, overwrite=True)\n"
     ]
    },
    {
     "name": "stdout",
     "output_type": "stream",
     "text": [
      "Closing C:\\Users\\marco\\Documents\\MASTER_DATA_SCIENTIST\\TFM_MSD\\SEED_FRA_OUTPUT\\NEUTRAL\\7_2_trial_7_signals.fif\n",
      "[done]\n"
     ]
    },
    {
     "name": "stderr",
     "output_type": "stream",
     "text": [
      "\r",
      "Processing:  38%|███████████████████████████                                            | 8/21 [00:16<00:27,  2.10s/it]"
     ]
    },
    {
     "name": "stdout",
     "output_type": "stream",
     "text": [
      "1000.0\n",
      "Writing C:\\Users\\marco\\Documents\\MASTER_DATA_SCIENTIST\\TFM_MSD\\SEED_FRA_OUTPUT\\POSITIVE\\7_2_trial_8_signals.fif\n"
     ]
    },
    {
     "name": "stderr",
     "output_type": "stream",
     "text": [
      "C:\\Users\\marco\\AppData\\Local\\Temp\\ipykernel_14260\\1741641518.py:44: RuntimeWarning: This filename (C:\\Users\\marco\\Documents\\MASTER_DATA_SCIENTIST\\TFM_MSD\\SEED_FRA_OUTPUT\\POSITIVE\\7_2_trial_8_signals.fif) does not conform to MNE naming conventions. All raw files should end with raw.fif, raw_sss.fif, raw_tsss.fif, _meg.fif, _eeg.fif, _ieeg.fif, raw.fif.gz, raw_sss.fif.gz, raw_tsss.fif.gz, _meg.fif.gz, _eeg.fif.gz or _ieeg.fif.gz\n",
      "  eeg_trial.save(output_path, overwrite=True)\n"
     ]
    },
    {
     "name": "stdout",
     "output_type": "stream",
     "text": [
      "Closing C:\\Users\\marco\\Documents\\MASTER_DATA_SCIENTIST\\TFM_MSD\\SEED_FRA_OUTPUT\\POSITIVE\\7_2_trial_8_signals.fif\n",
      "[done]\n"
     ]
    },
    {
     "name": "stderr",
     "output_type": "stream",
     "text": [
      "\r",
      "Processing:  43%|██████████████████████████████▍                                        | 9/21 [00:18<00:24,  2.05s/it]"
     ]
    },
    {
     "name": "stdout",
     "output_type": "stream",
     "text": [
      "1000.0\n",
      "Writing C:\\Users\\marco\\Documents\\MASTER_DATA_SCIENTIST\\TFM_MSD\\SEED_FRA_OUTPUT\\NEGATIVE\\7_2_trial_9_signals.fif\n"
     ]
    },
    {
     "name": "stderr",
     "output_type": "stream",
     "text": [
      "C:\\Users\\marco\\AppData\\Local\\Temp\\ipykernel_14260\\1741641518.py:44: RuntimeWarning: This filename (C:\\Users\\marco\\Documents\\MASTER_DATA_SCIENTIST\\TFM_MSD\\SEED_FRA_OUTPUT\\NEGATIVE\\7_2_trial_9_signals.fif) does not conform to MNE naming conventions. All raw files should end with raw.fif, raw_sss.fif, raw_tsss.fif, _meg.fif, _eeg.fif, _ieeg.fif, raw.fif.gz, raw_sss.fif.gz, raw_tsss.fif.gz, _meg.fif.gz, _eeg.fif.gz or _ieeg.fif.gz\n",
      "  eeg_trial.save(output_path, overwrite=True)\n"
     ]
    },
    {
     "name": "stdout",
     "output_type": "stream",
     "text": [
      "Closing C:\\Users\\marco\\Documents\\MASTER_DATA_SCIENTIST\\TFM_MSD\\SEED_FRA_OUTPUT\\NEGATIVE\\7_2_trial_9_signals.fif\n",
      "[done]\n"
     ]
    },
    {
     "name": "stderr",
     "output_type": "stream",
     "text": [
      "\r",
      "Processing:  48%|█████████████████████████████████▎                                    | 10/21 [00:20<00:23,  2.13s/it]"
     ]
    },
    {
     "name": "stdout",
     "output_type": "stream",
     "text": [
      "1000.0\n",
      "Writing C:\\Users\\marco\\Documents\\MASTER_DATA_SCIENTIST\\TFM_MSD\\SEED_FRA_OUTPUT\\NEUTRAL\\7_2_trial_10_signals.fif\n"
     ]
    },
    {
     "name": "stderr",
     "output_type": "stream",
     "text": [
      "C:\\Users\\marco\\AppData\\Local\\Temp\\ipykernel_14260\\1741641518.py:44: RuntimeWarning: This filename (C:\\Users\\marco\\Documents\\MASTER_DATA_SCIENTIST\\TFM_MSD\\SEED_FRA_OUTPUT\\NEUTRAL\\7_2_trial_10_signals.fif) does not conform to MNE naming conventions. All raw files should end with raw.fif, raw_sss.fif, raw_tsss.fif, _meg.fif, _eeg.fif, _ieeg.fif, raw.fif.gz, raw_sss.fif.gz, raw_tsss.fif.gz, _meg.fif.gz, _eeg.fif.gz or _ieeg.fif.gz\n",
      "  eeg_trial.save(output_path, overwrite=True)\n"
     ]
    },
    {
     "name": "stdout",
     "output_type": "stream",
     "text": [
      "Closing C:\\Users\\marco\\Documents\\MASTER_DATA_SCIENTIST\\TFM_MSD\\SEED_FRA_OUTPUT\\NEUTRAL\\7_2_trial_10_signals.fif\n",
      "[done]\n"
     ]
    },
    {
     "name": "stderr",
     "output_type": "stream",
     "text": [
      "\r",
      "Processing:  52%|████████████████████████████████████▋                                 | 11/21 [00:22<00:20,  2.10s/it]"
     ]
    },
    {
     "name": "stdout",
     "output_type": "stream",
     "text": [
      "1000.0\n",
      "Writing C:\\Users\\marco\\Documents\\MASTER_DATA_SCIENTIST\\TFM_MSD\\SEED_FRA_OUTPUT\\POSITIVE\\7_2_trial_11_signals.fif\n"
     ]
    },
    {
     "name": "stderr",
     "output_type": "stream",
     "text": [
      "C:\\Users\\marco\\AppData\\Local\\Temp\\ipykernel_14260\\1741641518.py:44: RuntimeWarning: This filename (C:\\Users\\marco\\Documents\\MASTER_DATA_SCIENTIST\\TFM_MSD\\SEED_FRA_OUTPUT\\POSITIVE\\7_2_trial_11_signals.fif) does not conform to MNE naming conventions. All raw files should end with raw.fif, raw_sss.fif, raw_tsss.fif, _meg.fif, _eeg.fif, _ieeg.fif, raw.fif.gz, raw_sss.fif.gz, raw_tsss.fif.gz, _meg.fif.gz, _eeg.fif.gz or _ieeg.fif.gz\n",
      "  eeg_trial.save(output_path, overwrite=True)\n"
     ]
    },
    {
     "name": "stdout",
     "output_type": "stream",
     "text": [
      "Closing C:\\Users\\marco\\Documents\\MASTER_DATA_SCIENTIST\\TFM_MSD\\SEED_FRA_OUTPUT\\POSITIVE\\7_2_trial_11_signals.fif\n",
      "[done]\n"
     ]
    },
    {
     "name": "stderr",
     "output_type": "stream",
     "text": [
      "\r",
      "Processing:  57%|████████████████████████████████████████                              | 12/21 [00:24<00:18,  2.06s/it]"
     ]
    },
    {
     "name": "stdout",
     "output_type": "stream",
     "text": [
      "1000.0\n",
      "Writing C:\\Users\\marco\\Documents\\MASTER_DATA_SCIENTIST\\TFM_MSD\\SEED_FRA_OUTPUT\\POSITIVE\\7_2_trial_12_signals.fif\n"
     ]
    },
    {
     "name": "stderr",
     "output_type": "stream",
     "text": [
      "C:\\Users\\marco\\AppData\\Local\\Temp\\ipykernel_14260\\1741641518.py:44: RuntimeWarning: This filename (C:\\Users\\marco\\Documents\\MASTER_DATA_SCIENTIST\\TFM_MSD\\SEED_FRA_OUTPUT\\POSITIVE\\7_2_trial_12_signals.fif) does not conform to MNE naming conventions. All raw files should end with raw.fif, raw_sss.fif, raw_tsss.fif, _meg.fif, _eeg.fif, _ieeg.fif, raw.fif.gz, raw_sss.fif.gz, raw_tsss.fif.gz, _meg.fif.gz, _eeg.fif.gz or _ieeg.fif.gz\n",
      "  eeg_trial.save(output_path, overwrite=True)\n"
     ]
    },
    {
     "name": "stdout",
     "output_type": "stream",
     "text": [
      "Closing C:\\Users\\marco\\Documents\\MASTER_DATA_SCIENTIST\\TFM_MSD\\SEED_FRA_OUTPUT\\POSITIVE\\7_2_trial_12_signals.fif\n",
      "[done]\n"
     ]
    },
    {
     "name": "stderr",
     "output_type": "stream",
     "text": [
      "\r",
      "Processing:  62%|███████████████████████████████████████████▎                          | 13/21 [00:26<00:15,  1.90s/it]"
     ]
    },
    {
     "name": "stdout",
     "output_type": "stream",
     "text": [
      "1000.0\n",
      "Writing C:\\Users\\marco\\Documents\\MASTER_DATA_SCIENTIST\\TFM_MSD\\SEED_FRA_OUTPUT\\NEUTRAL\\7_2_trial_13_signals.fif\n"
     ]
    },
    {
     "name": "stderr",
     "output_type": "stream",
     "text": [
      "C:\\Users\\marco\\AppData\\Local\\Temp\\ipykernel_14260\\1741641518.py:44: RuntimeWarning: This filename (C:\\Users\\marco\\Documents\\MASTER_DATA_SCIENTIST\\TFM_MSD\\SEED_FRA_OUTPUT\\NEUTRAL\\7_2_trial_13_signals.fif) does not conform to MNE naming conventions. All raw files should end with raw.fif, raw_sss.fif, raw_tsss.fif, _meg.fif, _eeg.fif, _ieeg.fif, raw.fif.gz, raw_sss.fif.gz, raw_tsss.fif.gz, _meg.fif.gz, _eeg.fif.gz or _ieeg.fif.gz\n",
      "  eeg_trial.save(output_path, overwrite=True)\n"
     ]
    },
    {
     "name": "stdout",
     "output_type": "stream",
     "text": [
      "Closing C:\\Users\\marco\\Documents\\MASTER_DATA_SCIENTIST\\TFM_MSD\\SEED_FRA_OUTPUT\\NEUTRAL\\7_2_trial_13_signals.fif\n",
      "[done]\n"
     ]
    },
    {
     "name": "stderr",
     "output_type": "stream",
     "text": [
      "\r",
      "Processing:  67%|██████████████████████████████████████████████▋                       | 14/21 [00:28<00:13,  1.93s/it]"
     ]
    },
    {
     "name": "stdout",
     "output_type": "stream",
     "text": [
      "1000.0\n",
      "Writing C:\\Users\\marco\\Documents\\MASTER_DATA_SCIENTIST\\TFM_MSD\\SEED_FRA_OUTPUT\\NEGATIVE\\7_2_trial_14_signals.fif\n"
     ]
    },
    {
     "name": "stderr",
     "output_type": "stream",
     "text": [
      "C:\\Users\\marco\\AppData\\Local\\Temp\\ipykernel_14260\\1741641518.py:44: RuntimeWarning: This filename (C:\\Users\\marco\\Documents\\MASTER_DATA_SCIENTIST\\TFM_MSD\\SEED_FRA_OUTPUT\\NEGATIVE\\7_2_trial_14_signals.fif) does not conform to MNE naming conventions. All raw files should end with raw.fif, raw_sss.fif, raw_tsss.fif, _meg.fif, _eeg.fif, _ieeg.fif, raw.fif.gz, raw_sss.fif.gz, raw_tsss.fif.gz, _meg.fif.gz, _eeg.fif.gz or _ieeg.fif.gz\n",
      "  eeg_trial.save(output_path, overwrite=True)\n"
     ]
    },
    {
     "name": "stdout",
     "output_type": "stream",
     "text": [
      "Closing C:\\Users\\marco\\Documents\\MASTER_DATA_SCIENTIST\\TFM_MSD\\SEED_FRA_OUTPUT\\NEGATIVE\\7_2_trial_14_signals.fif\n",
      "[done]\n"
     ]
    },
    {
     "name": "stderr",
     "output_type": "stream",
     "text": [
      "\r",
      "Processing:  71%|██████████████████████████████████████████████████                    | 15/21 [00:30<00:11,  1.95s/it]"
     ]
    },
    {
     "name": "stdout",
     "output_type": "stream",
     "text": [
      "1000.0\n",
      "Writing C:\\Users\\marco\\Documents\\MASTER_DATA_SCIENTIST\\TFM_MSD\\SEED_FRA_OUTPUT\\NEGATIVE\\7_2_trial_15_signals.fif\n",
      "Closing C:\\Users\\marco\\Documents\\MASTER_DATA_SCIENTIST\\TFM_MSD\\SEED_FRA_OUTPUT\\NEGATIVE\\7_2_trial_15_signals.fif\n"
     ]
    },
    {
     "name": "stderr",
     "output_type": "stream",
     "text": [
      "C:\\Users\\marco\\AppData\\Local\\Temp\\ipykernel_14260\\1741641518.py:44: RuntimeWarning: This filename (C:\\Users\\marco\\Documents\\MASTER_DATA_SCIENTIST\\TFM_MSD\\SEED_FRA_OUTPUT\\NEGATIVE\\7_2_trial_15_signals.fif) does not conform to MNE naming conventions. All raw files should end with raw.fif, raw_sss.fif, raw_tsss.fif, _meg.fif, _eeg.fif, _ieeg.fif, raw.fif.gz, raw_sss.fif.gz, raw_tsss.fif.gz, _meg.fif.gz, _eeg.fif.gz or _ieeg.fif.gz\n",
      "  eeg_trial.save(output_path, overwrite=True)\n"
     ]
    },
    {
     "name": "stdout",
     "output_type": "stream",
     "text": [
      "[done]\n"
     ]
    },
    {
     "name": "stderr",
     "output_type": "stream",
     "text": [
      "\r",
      "Processing:  76%|█████████████████████████████████████████████████████▎                | 16/21 [00:32<00:09,  1.93s/it]"
     ]
    },
    {
     "name": "stdout",
     "output_type": "stream",
     "text": [
      "1000.0\n",
      "Writing C:\\Users\\marco\\Documents\\MASTER_DATA_SCIENTIST\\TFM_MSD\\SEED_FRA_OUTPUT\\NEUTRAL\\7_2_trial_16_signals.fif\n"
     ]
    },
    {
     "name": "stderr",
     "output_type": "stream",
     "text": [
      "C:\\Users\\marco\\AppData\\Local\\Temp\\ipykernel_14260\\1741641518.py:44: RuntimeWarning: This filename (C:\\Users\\marco\\Documents\\MASTER_DATA_SCIENTIST\\TFM_MSD\\SEED_FRA_OUTPUT\\NEUTRAL\\7_2_trial_16_signals.fif) does not conform to MNE naming conventions. All raw files should end with raw.fif, raw_sss.fif, raw_tsss.fif, _meg.fif, _eeg.fif, _ieeg.fif, raw.fif.gz, raw_sss.fif.gz, raw_tsss.fif.gz, _meg.fif.gz, _eeg.fif.gz or _ieeg.fif.gz\n",
      "  eeg_trial.save(output_path, overwrite=True)\n"
     ]
    },
    {
     "name": "stdout",
     "output_type": "stream",
     "text": [
      "Closing C:\\Users\\marco\\Documents\\MASTER_DATA_SCIENTIST\\TFM_MSD\\SEED_FRA_OUTPUT\\NEUTRAL\\7_2_trial_16_signals.fif\n",
      "[done]\n"
     ]
    },
    {
     "name": "stderr",
     "output_type": "stream",
     "text": [
      "\r",
      "Processing:  81%|████████████████████████████████████████████████████████▋             | 17/21 [00:34<00:07,  1.99s/it]"
     ]
    },
    {
     "name": "stdout",
     "output_type": "stream",
     "text": [
      "1000.0\n",
      "Writing C:\\Users\\marco\\Documents\\MASTER_DATA_SCIENTIST\\TFM_MSD\\SEED_FRA_OUTPUT\\POSITIVE\\7_2_trial_17_signals.fif\n"
     ]
    },
    {
     "name": "stderr",
     "output_type": "stream",
     "text": [
      "C:\\Users\\marco\\AppData\\Local\\Temp\\ipykernel_14260\\1741641518.py:44: RuntimeWarning: This filename (C:\\Users\\marco\\Documents\\MASTER_DATA_SCIENTIST\\TFM_MSD\\SEED_FRA_OUTPUT\\POSITIVE\\7_2_trial_17_signals.fif) does not conform to MNE naming conventions. All raw files should end with raw.fif, raw_sss.fif, raw_tsss.fif, _meg.fif, _eeg.fif, _ieeg.fif, raw.fif.gz, raw_sss.fif.gz, raw_tsss.fif.gz, _meg.fif.gz, _eeg.fif.gz or _ieeg.fif.gz\n",
      "  eeg_trial.save(output_path, overwrite=True)\n"
     ]
    },
    {
     "name": "stdout",
     "output_type": "stream",
     "text": [
      "Closing C:\\Users\\marco\\Documents\\MASTER_DATA_SCIENTIST\\TFM_MSD\\SEED_FRA_OUTPUT\\POSITIVE\\7_2_trial_17_signals.fif\n",
      "[done]\n"
     ]
    },
    {
     "name": "stderr",
     "output_type": "stream",
     "text": [
      "\r",
      "Processing:  86%|████████████████████████████████████████████████████████████          | 18/21 [00:36<00:05,  1.99s/it]"
     ]
    },
    {
     "name": "stdout",
     "output_type": "stream",
     "text": [
      "1000.0\n",
      "Writing C:\\Users\\marco\\Documents\\MASTER_DATA_SCIENTIST\\TFM_MSD\\SEED_FRA_OUTPUT\\NEGATIVE\\7_2_trial_18_signals.fif\n"
     ]
    },
    {
     "name": "stderr",
     "output_type": "stream",
     "text": [
      "C:\\Users\\marco\\AppData\\Local\\Temp\\ipykernel_14260\\1741641518.py:44: RuntimeWarning: This filename (C:\\Users\\marco\\Documents\\MASTER_DATA_SCIENTIST\\TFM_MSD\\SEED_FRA_OUTPUT\\NEGATIVE\\7_2_trial_18_signals.fif) does not conform to MNE naming conventions. All raw files should end with raw.fif, raw_sss.fif, raw_tsss.fif, _meg.fif, _eeg.fif, _ieeg.fif, raw.fif.gz, raw_sss.fif.gz, raw_tsss.fif.gz, _meg.fif.gz, _eeg.fif.gz or _ieeg.fif.gz\n",
      "  eeg_trial.save(output_path, overwrite=True)\n"
     ]
    },
    {
     "name": "stdout",
     "output_type": "stream",
     "text": [
      "Closing C:\\Users\\marco\\Documents\\MASTER_DATA_SCIENTIST\\TFM_MSD\\SEED_FRA_OUTPUT\\NEGATIVE\\7_2_trial_18_signals.fif\n",
      "[done]\n"
     ]
    },
    {
     "name": "stderr",
     "output_type": "stream",
     "text": [
      "\r",
      "Processing:  90%|███████████████████████████████████████████████████████████████▎      | 19/21 [00:38<00:03,  2.00s/it]"
     ]
    },
    {
     "name": "stdout",
     "output_type": "stream",
     "text": [
      "1000.0\n",
      "Writing C:\\Users\\marco\\Documents\\MASTER_DATA_SCIENTIST\\TFM_MSD\\SEED_FRA_OUTPUT\\NEUTRAL\\7_2_trial_19_signals.fif\n"
     ]
    },
    {
     "name": "stderr",
     "output_type": "stream",
     "text": [
      "C:\\Users\\marco\\AppData\\Local\\Temp\\ipykernel_14260\\1741641518.py:44: RuntimeWarning: This filename (C:\\Users\\marco\\Documents\\MASTER_DATA_SCIENTIST\\TFM_MSD\\SEED_FRA_OUTPUT\\NEUTRAL\\7_2_trial_19_signals.fif) does not conform to MNE naming conventions. All raw files should end with raw.fif, raw_sss.fif, raw_tsss.fif, _meg.fif, _eeg.fif, _ieeg.fif, raw.fif.gz, raw_sss.fif.gz, raw_tsss.fif.gz, _meg.fif.gz, _eeg.fif.gz or _ieeg.fif.gz\n",
      "  eeg_trial.save(output_path, overwrite=True)\n"
     ]
    },
    {
     "name": "stdout",
     "output_type": "stream",
     "text": [
      "Closing C:\\Users\\marco\\Documents\\MASTER_DATA_SCIENTIST\\TFM_MSD\\SEED_FRA_OUTPUT\\NEUTRAL\\7_2_trial_19_signals.fif\n",
      "[done]\n"
     ]
    },
    {
     "name": "stderr",
     "output_type": "stream",
     "text": [
      "\r",
      "Processing:  95%|██████████████████████████████████████████████████████████████████▋   | 20/21 [00:40<00:01,  1.96s/it]"
     ]
    },
    {
     "name": "stdout",
     "output_type": "stream",
     "text": [
      "1000.0\n",
      "Writing C:\\Users\\marco\\Documents\\MASTER_DATA_SCIENTIST\\TFM_MSD\\SEED_FRA_OUTPUT\\POSITIVE\\7_2_trial_20_signals.fif\n"
     ]
    },
    {
     "name": "stderr",
     "output_type": "stream",
     "text": [
      "C:\\Users\\marco\\AppData\\Local\\Temp\\ipykernel_14260\\1741641518.py:44: RuntimeWarning: This filename (C:\\Users\\marco\\Documents\\MASTER_DATA_SCIENTIST\\TFM_MSD\\SEED_FRA_OUTPUT\\POSITIVE\\7_2_trial_20_signals.fif) does not conform to MNE naming conventions. All raw files should end with raw.fif, raw_sss.fif, raw_tsss.fif, _meg.fif, _eeg.fif, _ieeg.fif, raw.fif.gz, raw_sss.fif.gz, raw_tsss.fif.gz, _meg.fif.gz, _eeg.fif.gz or _ieeg.fif.gz\n",
      "  eeg_trial.save(output_path, overwrite=True)\n"
     ]
    },
    {
     "name": "stdout",
     "output_type": "stream",
     "text": [
      "Closing C:\\Users\\marco\\Documents\\MASTER_DATA_SCIENTIST\\TFM_MSD\\SEED_FRA_OUTPUT\\POSITIVE\\7_2_trial_20_signals.fif\n",
      "[done]\n"
     ]
    },
    {
     "name": "stderr",
     "output_type": "stream",
     "text": [
      "Processing: 100%|██████████████████████████████████████████████████████████████████████| 21/21 [00:42<00:00,  2.00s/it]\n"
     ]
    },
    {
     "name": "stdout",
     "output_type": "stream",
     "text": [
      "Reading 0 ... 3810239  =      0.000 ...  3810.239 secs...\n"
     ]
    },
    {
     "name": "stderr",
     "output_type": "stream",
     "text": [
      "C:\\Users\\marco\\AppData\\Local\\Temp\\ipykernel_14260\\1741641518.py:4: RuntimeWarning:   Could not parse meas date from the header. Setting to None.\n",
      "  eeg_raw = mne.io.read_raw_cnt(_path, preload=True)\n"
     ]
    },
    {
     "name": "stdout",
     "output_type": "stream",
     "text": [
      "Filtering raw data in 1 contiguous segment\n",
      "Setting up band-pass filter from 0.5 - 55 Hz\n",
      "\n",
      "FIR filter parameters\n",
      "---------------------\n",
      "Designing a one-pass, zero-phase, non-causal bandpass filter:\n",
      "- Windowed time-domain design (firwin) method\n",
      "- Hamming window with 0.0194 passband ripple and 53 dB stopband attenuation\n",
      "- Lower passband edge: 0.50\n",
      "- Lower transition bandwidth: 0.50 Hz (-6 dB cutoff frequency: 0.25 Hz)\n",
      "- Upper passband edge: 55.00 Hz\n",
      "- Upper transition bandwidth: 13.75 Hz (-6 dB cutoff frequency: 61.88 Hz)\n",
      "- Filter length: 6601 samples (6.601 sec)\n",
      "\n"
     ]
    },
    {
     "name": "stderr",
     "output_type": "stream",
     "text": [
      "\r",
      "Processing:   0%|                                                                               | 0/21 [00:00<?, ?it/s]"
     ]
    },
    {
     "name": "stdout",
     "output_type": "stream",
     "text": [
      "1000.0\n",
      "Writing C:\\Users\\marco\\Documents\\MASTER_DATA_SCIENTIST\\TFM_MSD\\SEED_FRA_OUTPUT\\POSITIVE\\7_3_trial_0_signals.fif\n"
     ]
    },
    {
     "name": "stderr",
     "output_type": "stream",
     "text": [
      "C:\\Users\\marco\\AppData\\Local\\Temp\\ipykernel_14260\\1741641518.py:44: RuntimeWarning: This filename (C:\\Users\\marco\\Documents\\MASTER_DATA_SCIENTIST\\TFM_MSD\\SEED_FRA_OUTPUT\\POSITIVE\\7_3_trial_0_signals.fif) does not conform to MNE naming conventions. All raw files should end with raw.fif, raw_sss.fif, raw_tsss.fif, _meg.fif, _eeg.fif, _ieeg.fif, raw.fif.gz, raw_sss.fif.gz, raw_tsss.fif.gz, _meg.fif.gz, _eeg.fif.gz or _ieeg.fif.gz\n",
      "  eeg_trial.save(output_path, overwrite=True)\n"
     ]
    },
    {
     "name": "stdout",
     "output_type": "stream",
     "text": [
      "Closing C:\\Users\\marco\\Documents\\MASTER_DATA_SCIENTIST\\TFM_MSD\\SEED_FRA_OUTPUT\\POSITIVE\\7_3_trial_0_signals.fif\n",
      "[done]\n"
     ]
    },
    {
     "name": "stderr",
     "output_type": "stream",
     "text": [
      "\r",
      "Processing:   5%|███▍                                                                   | 1/21 [00:01<00:34,  1.72s/it]"
     ]
    },
    {
     "name": "stdout",
     "output_type": "stream",
     "text": [
      "1000.0\n",
      "Writing C:\\Users\\marco\\Documents\\MASTER_DATA_SCIENTIST\\TFM_MSD\\SEED_FRA_OUTPUT\\NEGATIVE\\7_3_trial_1_signals.fif\n"
     ]
    },
    {
     "name": "stderr",
     "output_type": "stream",
     "text": [
      "C:\\Users\\marco\\AppData\\Local\\Temp\\ipykernel_14260\\1741641518.py:44: RuntimeWarning: This filename (C:\\Users\\marco\\Documents\\MASTER_DATA_SCIENTIST\\TFM_MSD\\SEED_FRA_OUTPUT\\NEGATIVE\\7_3_trial_1_signals.fif) does not conform to MNE naming conventions. All raw files should end with raw.fif, raw_sss.fif, raw_tsss.fif, _meg.fif, _eeg.fif, _ieeg.fif, raw.fif.gz, raw_sss.fif.gz, raw_tsss.fif.gz, _meg.fif.gz, _eeg.fif.gz or _ieeg.fif.gz\n",
      "  eeg_trial.save(output_path, overwrite=True)\n"
     ]
    },
    {
     "name": "stdout",
     "output_type": "stream",
     "text": [
      "Closing C:\\Users\\marco\\Documents\\MASTER_DATA_SCIENTIST\\TFM_MSD\\SEED_FRA_OUTPUT\\NEGATIVE\\7_3_trial_1_signals.fif\n",
      "[done]\n"
     ]
    },
    {
     "name": "stderr",
     "output_type": "stream",
     "text": [
      "\r",
      "Processing:  10%|██████▊                                                                | 2/21 [00:03<00:35,  1.87s/it]"
     ]
    },
    {
     "name": "stdout",
     "output_type": "stream",
     "text": [
      "1000.0\n",
      "Writing C:\\Users\\marco\\Documents\\MASTER_DATA_SCIENTIST\\TFM_MSD\\SEED_FRA_OUTPUT\\NEUTRAL\\7_3_trial_2_signals.fif\n"
     ]
    },
    {
     "name": "stderr",
     "output_type": "stream",
     "text": [
      "C:\\Users\\marco\\AppData\\Local\\Temp\\ipykernel_14260\\1741641518.py:44: RuntimeWarning: This filename (C:\\Users\\marco\\Documents\\MASTER_DATA_SCIENTIST\\TFM_MSD\\SEED_FRA_OUTPUT\\NEUTRAL\\7_3_trial_2_signals.fif) does not conform to MNE naming conventions. All raw files should end with raw.fif, raw_sss.fif, raw_tsss.fif, _meg.fif, _eeg.fif, _ieeg.fif, raw.fif.gz, raw_sss.fif.gz, raw_tsss.fif.gz, _meg.fif.gz, _eeg.fif.gz or _ieeg.fif.gz\n",
      "  eeg_trial.save(output_path, overwrite=True)\n"
     ]
    },
    {
     "name": "stdout",
     "output_type": "stream",
     "text": [
      "Closing C:\\Users\\marco\\Documents\\MASTER_DATA_SCIENTIST\\TFM_MSD\\SEED_FRA_OUTPUT\\NEUTRAL\\7_3_trial_2_signals.fif\n",
      "[done]\n"
     ]
    },
    {
     "name": "stderr",
     "output_type": "stream",
     "text": [
      "\r",
      "Processing:  14%|██████████▏                                                            | 3/21 [00:05<00:34,  1.90s/it]"
     ]
    },
    {
     "name": "stdout",
     "output_type": "stream",
     "text": [
      "1000.0\n",
      "Writing C:\\Users\\marco\\Documents\\MASTER_DATA_SCIENTIST\\TFM_MSD\\SEED_FRA_OUTPUT\\NEGATIVE\\7_3_trial_3_signals.fif\n"
     ]
    },
    {
     "name": "stderr",
     "output_type": "stream",
     "text": [
      "C:\\Users\\marco\\AppData\\Local\\Temp\\ipykernel_14260\\1741641518.py:44: RuntimeWarning: This filename (C:\\Users\\marco\\Documents\\MASTER_DATA_SCIENTIST\\TFM_MSD\\SEED_FRA_OUTPUT\\NEGATIVE\\7_3_trial_3_signals.fif) does not conform to MNE naming conventions. All raw files should end with raw.fif, raw_sss.fif, raw_tsss.fif, _meg.fif, _eeg.fif, _ieeg.fif, raw.fif.gz, raw_sss.fif.gz, raw_tsss.fif.gz, _meg.fif.gz, _eeg.fif.gz or _ieeg.fif.gz\n",
      "  eeg_trial.save(output_path, overwrite=True)\n"
     ]
    },
    {
     "name": "stdout",
     "output_type": "stream",
     "text": [
      "Closing C:\\Users\\marco\\Documents\\MASTER_DATA_SCIENTIST\\TFM_MSD\\SEED_FRA_OUTPUT\\NEGATIVE\\7_3_trial_3_signals.fif\n",
      "[done]\n"
     ]
    },
    {
     "name": "stderr",
     "output_type": "stream",
     "text": [
      "\r",
      "Processing:  19%|█████████████▌                                                         | 4/21 [00:07<00:35,  2.07s/it]"
     ]
    },
    {
     "name": "stdout",
     "output_type": "stream",
     "text": [
      "1000.0\n",
      "Writing C:\\Users\\marco\\Documents\\MASTER_DATA_SCIENTIST\\TFM_MSD\\SEED_FRA_OUTPUT\\POSITIVE\\7_3_trial_4_signals.fif\n"
     ]
    },
    {
     "name": "stderr",
     "output_type": "stream",
     "text": [
      "C:\\Users\\marco\\AppData\\Local\\Temp\\ipykernel_14260\\1741641518.py:44: RuntimeWarning: This filename (C:\\Users\\marco\\Documents\\MASTER_DATA_SCIENTIST\\TFM_MSD\\SEED_FRA_OUTPUT\\POSITIVE\\7_3_trial_4_signals.fif) does not conform to MNE naming conventions. All raw files should end with raw.fif, raw_sss.fif, raw_tsss.fif, _meg.fif, _eeg.fif, _ieeg.fif, raw.fif.gz, raw_sss.fif.gz, raw_tsss.fif.gz, _meg.fif.gz, _eeg.fif.gz or _ieeg.fif.gz\n",
      "  eeg_trial.save(output_path, overwrite=True)\n"
     ]
    },
    {
     "name": "stdout",
     "output_type": "stream",
     "text": [
      "Closing C:\\Users\\marco\\Documents\\MASTER_DATA_SCIENTIST\\TFM_MSD\\SEED_FRA_OUTPUT\\POSITIVE\\7_3_trial_4_signals.fif\n",
      "[done]\n"
     ]
    },
    {
     "name": "stderr",
     "output_type": "stream",
     "text": [
      "\r",
      "Processing:  24%|████████████████▉                                                      | 5/21 [00:09<00:31,  2.00s/it]"
     ]
    },
    {
     "name": "stdout",
     "output_type": "stream",
     "text": [
      "1000.0\n",
      "Writing C:\\Users\\marco\\Documents\\MASTER_DATA_SCIENTIST\\TFM_MSD\\SEED_FRA_OUTPUT\\NEUTRAL\\7_3_trial_5_signals.fif\n"
     ]
    },
    {
     "name": "stderr",
     "output_type": "stream",
     "text": [
      "C:\\Users\\marco\\AppData\\Local\\Temp\\ipykernel_14260\\1741641518.py:44: RuntimeWarning: This filename (C:\\Users\\marco\\Documents\\MASTER_DATA_SCIENTIST\\TFM_MSD\\SEED_FRA_OUTPUT\\NEUTRAL\\7_3_trial_5_signals.fif) does not conform to MNE naming conventions. All raw files should end with raw.fif, raw_sss.fif, raw_tsss.fif, _meg.fif, _eeg.fif, _ieeg.fif, raw.fif.gz, raw_sss.fif.gz, raw_tsss.fif.gz, _meg.fif.gz, _eeg.fif.gz or _ieeg.fif.gz\n",
      "  eeg_trial.save(output_path, overwrite=True)\n"
     ]
    },
    {
     "name": "stdout",
     "output_type": "stream",
     "text": [
      "Closing C:\\Users\\marco\\Documents\\MASTER_DATA_SCIENTIST\\TFM_MSD\\SEED_FRA_OUTPUT\\NEUTRAL\\7_3_trial_5_signals.fif\n",
      "[done]\n"
     ]
    },
    {
     "name": "stderr",
     "output_type": "stream",
     "text": [
      "\r",
      "Processing:  29%|████████████████████▎                                                  | 6/21 [00:11<00:28,  1.93s/it]"
     ]
    },
    {
     "name": "stdout",
     "output_type": "stream",
     "text": [
      "1000.0\n",
      "Writing C:\\Users\\marco\\Documents\\MASTER_DATA_SCIENTIST\\TFM_MSD\\SEED_FRA_OUTPUT\\NEGATIVE\\7_3_trial_6_signals.fif\n"
     ]
    },
    {
     "name": "stderr",
     "output_type": "stream",
     "text": [
      "C:\\Users\\marco\\AppData\\Local\\Temp\\ipykernel_14260\\1741641518.py:44: RuntimeWarning: This filename (C:\\Users\\marco\\Documents\\MASTER_DATA_SCIENTIST\\TFM_MSD\\SEED_FRA_OUTPUT\\NEGATIVE\\7_3_trial_6_signals.fif) does not conform to MNE naming conventions. All raw files should end with raw.fif, raw_sss.fif, raw_tsss.fif, _meg.fif, _eeg.fif, _ieeg.fif, raw.fif.gz, raw_sss.fif.gz, raw_tsss.fif.gz, _meg.fif.gz, _eeg.fif.gz or _ieeg.fif.gz\n",
      "  eeg_trial.save(output_path, overwrite=True)\n"
     ]
    },
    {
     "name": "stdout",
     "output_type": "stream",
     "text": [
      "Closing C:\\Users\\marco\\Documents\\MASTER_DATA_SCIENTIST\\TFM_MSD\\SEED_FRA_OUTPUT\\NEGATIVE\\7_3_trial_6_signals.fif\n",
      "[done]\n"
     ]
    },
    {
     "name": "stderr",
     "output_type": "stream",
     "text": [
      "\r",
      "Processing:  33%|███████████████████████▋                                               | 7/21 [00:13<00:28,  2.01s/it]"
     ]
    },
    {
     "name": "stdout",
     "output_type": "stream",
     "text": [
      "1000.0\n",
      "Writing C:\\Users\\marco\\Documents\\MASTER_DATA_SCIENTIST\\TFM_MSD\\SEED_FRA_OUTPUT\\NEUTRAL\\7_3_trial_7_signals.fif\n"
     ]
    },
    {
     "name": "stderr",
     "output_type": "stream",
     "text": [
      "C:\\Users\\marco\\AppData\\Local\\Temp\\ipykernel_14260\\1741641518.py:44: RuntimeWarning: This filename (C:\\Users\\marco\\Documents\\MASTER_DATA_SCIENTIST\\TFM_MSD\\SEED_FRA_OUTPUT\\NEUTRAL\\7_3_trial_7_signals.fif) does not conform to MNE naming conventions. All raw files should end with raw.fif, raw_sss.fif, raw_tsss.fif, _meg.fif, _eeg.fif, _ieeg.fif, raw.fif.gz, raw_sss.fif.gz, raw_tsss.fif.gz, _meg.fif.gz, _eeg.fif.gz or _ieeg.fif.gz\n",
      "  eeg_trial.save(output_path, overwrite=True)\n"
     ]
    },
    {
     "name": "stdout",
     "output_type": "stream",
     "text": [
      "Closing C:\\Users\\marco\\Documents\\MASTER_DATA_SCIENTIST\\TFM_MSD\\SEED_FRA_OUTPUT\\NEUTRAL\\7_3_trial_7_signals.fif\n",
      "[done]\n"
     ]
    },
    {
     "name": "stderr",
     "output_type": "stream",
     "text": [
      "\r",
      "Processing:  38%|███████████████████████████                                            | 8/21 [00:15<00:25,  1.93s/it]"
     ]
    },
    {
     "name": "stdout",
     "output_type": "stream",
     "text": [
      "1000.0\n",
      "Writing C:\\Users\\marco\\Documents\\MASTER_DATA_SCIENTIST\\TFM_MSD\\SEED_FRA_OUTPUT\\POSITIVE\\7_3_trial_8_signals.fif\n"
     ]
    },
    {
     "name": "stderr",
     "output_type": "stream",
     "text": [
      "C:\\Users\\marco\\AppData\\Local\\Temp\\ipykernel_14260\\1741641518.py:44: RuntimeWarning: This filename (C:\\Users\\marco\\Documents\\MASTER_DATA_SCIENTIST\\TFM_MSD\\SEED_FRA_OUTPUT\\POSITIVE\\7_3_trial_8_signals.fif) does not conform to MNE naming conventions. All raw files should end with raw.fif, raw_sss.fif, raw_tsss.fif, _meg.fif, _eeg.fif, _ieeg.fif, raw.fif.gz, raw_sss.fif.gz, raw_tsss.fif.gz, _meg.fif.gz, _eeg.fif.gz or _ieeg.fif.gz\n",
      "  eeg_trial.save(output_path, overwrite=True)\n"
     ]
    },
    {
     "name": "stdout",
     "output_type": "stream",
     "text": [
      "Closing C:\\Users\\marco\\Documents\\MASTER_DATA_SCIENTIST\\TFM_MSD\\SEED_FRA_OUTPUT\\POSITIVE\\7_3_trial_8_signals.fif\n",
      "[done]\n"
     ]
    },
    {
     "name": "stderr",
     "output_type": "stream",
     "text": [
      "\r",
      "Processing:  43%|██████████████████████████████▍                                        | 9/21 [00:17<00:23,  1.96s/it]"
     ]
    },
    {
     "name": "stdout",
     "output_type": "stream",
     "text": [
      "1000.0\n",
      "Writing C:\\Users\\marco\\Documents\\MASTER_DATA_SCIENTIST\\TFM_MSD\\SEED_FRA_OUTPUT\\NEGATIVE\\7_3_trial_9_signals.fif\n"
     ]
    },
    {
     "name": "stderr",
     "output_type": "stream",
     "text": [
      "C:\\Users\\marco\\AppData\\Local\\Temp\\ipykernel_14260\\1741641518.py:44: RuntimeWarning: This filename (C:\\Users\\marco\\Documents\\MASTER_DATA_SCIENTIST\\TFM_MSD\\SEED_FRA_OUTPUT\\NEGATIVE\\7_3_trial_9_signals.fif) does not conform to MNE naming conventions. All raw files should end with raw.fif, raw_sss.fif, raw_tsss.fif, _meg.fif, _eeg.fif, _ieeg.fif, raw.fif.gz, raw_sss.fif.gz, raw_tsss.fif.gz, _meg.fif.gz, _eeg.fif.gz or _ieeg.fif.gz\n",
      "  eeg_trial.save(output_path, overwrite=True)\n"
     ]
    },
    {
     "name": "stdout",
     "output_type": "stream",
     "text": [
      "Closing C:\\Users\\marco\\Documents\\MASTER_DATA_SCIENTIST\\TFM_MSD\\SEED_FRA_OUTPUT\\NEGATIVE\\7_3_trial_9_signals.fif\n",
      "[done]\n"
     ]
    },
    {
     "name": "stderr",
     "output_type": "stream",
     "text": [
      "\r",
      "Processing:  48%|█████████████████████████████████▎                                    | 10/21 [00:19<00:22,  2.04s/it]"
     ]
    },
    {
     "name": "stdout",
     "output_type": "stream",
     "text": [
      "1000.0\n",
      "Writing C:\\Users\\marco\\Documents\\MASTER_DATA_SCIENTIST\\TFM_MSD\\SEED_FRA_OUTPUT\\NEUTRAL\\7_3_trial_10_signals.fif\n"
     ]
    },
    {
     "name": "stderr",
     "output_type": "stream",
     "text": [
      "C:\\Users\\marco\\AppData\\Local\\Temp\\ipykernel_14260\\1741641518.py:44: RuntimeWarning: This filename (C:\\Users\\marco\\Documents\\MASTER_DATA_SCIENTIST\\TFM_MSD\\SEED_FRA_OUTPUT\\NEUTRAL\\7_3_trial_10_signals.fif) does not conform to MNE naming conventions. All raw files should end with raw.fif, raw_sss.fif, raw_tsss.fif, _meg.fif, _eeg.fif, _ieeg.fif, raw.fif.gz, raw_sss.fif.gz, raw_tsss.fif.gz, _meg.fif.gz, _eeg.fif.gz or _ieeg.fif.gz\n",
      "  eeg_trial.save(output_path, overwrite=True)\n"
     ]
    },
    {
     "name": "stdout",
     "output_type": "stream",
     "text": [
      "Closing C:\\Users\\marco\\Documents\\MASTER_DATA_SCIENTIST\\TFM_MSD\\SEED_FRA_OUTPUT\\NEUTRAL\\7_3_trial_10_signals.fif\n",
      "[done]\n"
     ]
    },
    {
     "name": "stderr",
     "output_type": "stream",
     "text": [
      "\r",
      "Processing:  52%|████████████████████████████████████▋                                 | 11/21 [00:21<00:19,  2.00s/it]"
     ]
    },
    {
     "name": "stdout",
     "output_type": "stream",
     "text": [
      "1000.0\n",
      "Writing C:\\Users\\marco\\Documents\\MASTER_DATA_SCIENTIST\\TFM_MSD\\SEED_FRA_OUTPUT\\POSITIVE\\7_3_trial_11_signals.fif\n"
     ]
    },
    {
     "name": "stderr",
     "output_type": "stream",
     "text": [
      "C:\\Users\\marco\\AppData\\Local\\Temp\\ipykernel_14260\\1741641518.py:44: RuntimeWarning: This filename (C:\\Users\\marco\\Documents\\MASTER_DATA_SCIENTIST\\TFM_MSD\\SEED_FRA_OUTPUT\\POSITIVE\\7_3_trial_11_signals.fif) does not conform to MNE naming conventions. All raw files should end with raw.fif, raw_sss.fif, raw_tsss.fif, _meg.fif, _eeg.fif, _ieeg.fif, raw.fif.gz, raw_sss.fif.gz, raw_tsss.fif.gz, _meg.fif.gz, _eeg.fif.gz or _ieeg.fif.gz\n",
      "  eeg_trial.save(output_path, overwrite=True)\n"
     ]
    },
    {
     "name": "stdout",
     "output_type": "stream",
     "text": [
      "Closing C:\\Users\\marco\\Documents\\MASTER_DATA_SCIENTIST\\TFM_MSD\\SEED_FRA_OUTPUT\\POSITIVE\\7_3_trial_11_signals.fif\n",
      "[done]\n"
     ]
    },
    {
     "name": "stderr",
     "output_type": "stream",
     "text": [
      "\r",
      "Processing:  57%|████████████████████████████████████████                              | 12/21 [00:23<00:17,  1.92s/it]"
     ]
    },
    {
     "name": "stdout",
     "output_type": "stream",
     "text": [
      "1000.0\n",
      "Writing C:\\Users\\marco\\Documents\\MASTER_DATA_SCIENTIST\\TFM_MSD\\SEED_FRA_OUTPUT\\POSITIVE\\7_3_trial_12_signals.fif\n"
     ]
    },
    {
     "name": "stderr",
     "output_type": "stream",
     "text": [
      "C:\\Users\\marco\\AppData\\Local\\Temp\\ipykernel_14260\\1741641518.py:44: RuntimeWarning: This filename (C:\\Users\\marco\\Documents\\MASTER_DATA_SCIENTIST\\TFM_MSD\\SEED_FRA_OUTPUT\\POSITIVE\\7_3_trial_12_signals.fif) does not conform to MNE naming conventions. All raw files should end with raw.fif, raw_sss.fif, raw_tsss.fif, _meg.fif, _eeg.fif, _ieeg.fif, raw.fif.gz, raw_sss.fif.gz, raw_tsss.fif.gz, _meg.fif.gz, _eeg.fif.gz or _ieeg.fif.gz\n",
      "  eeg_trial.save(output_path, overwrite=True)\n"
     ]
    },
    {
     "name": "stdout",
     "output_type": "stream",
     "text": [
      "Closing C:\\Users\\marco\\Documents\\MASTER_DATA_SCIENTIST\\TFM_MSD\\SEED_FRA_OUTPUT\\POSITIVE\\7_3_trial_12_signals.fif\n",
      "[done]\n"
     ]
    },
    {
     "name": "stderr",
     "output_type": "stream",
     "text": [
      "\r",
      "Processing:  62%|███████████████████████████████████████████▎                          | 13/21 [00:25<00:15,  1.94s/it]"
     ]
    },
    {
     "name": "stdout",
     "output_type": "stream",
     "text": [
      "1000.0\n",
      "Writing C:\\Users\\marco\\Documents\\MASTER_DATA_SCIENTIST\\TFM_MSD\\SEED_FRA_OUTPUT\\NEUTRAL\\7_3_trial_13_signals.fif\n"
     ]
    },
    {
     "name": "stderr",
     "output_type": "stream",
     "text": [
      "C:\\Users\\marco\\AppData\\Local\\Temp\\ipykernel_14260\\1741641518.py:44: RuntimeWarning: This filename (C:\\Users\\marco\\Documents\\MASTER_DATA_SCIENTIST\\TFM_MSD\\SEED_FRA_OUTPUT\\NEUTRAL\\7_3_trial_13_signals.fif) does not conform to MNE naming conventions. All raw files should end with raw.fif, raw_sss.fif, raw_tsss.fif, _meg.fif, _eeg.fif, _ieeg.fif, raw.fif.gz, raw_sss.fif.gz, raw_tsss.fif.gz, _meg.fif.gz, _eeg.fif.gz or _ieeg.fif.gz\n",
      "  eeg_trial.save(output_path, overwrite=True)\n"
     ]
    },
    {
     "name": "stdout",
     "output_type": "stream",
     "text": [
      "Closing C:\\Users\\marco\\Documents\\MASTER_DATA_SCIENTIST\\TFM_MSD\\SEED_FRA_OUTPUT\\NEUTRAL\\7_3_trial_13_signals.fif\n",
      "[done]\n"
     ]
    },
    {
     "name": "stderr",
     "output_type": "stream",
     "text": [
      "\r",
      "Processing:  67%|██████████████████████████████████████████████▋                       | 14/21 [00:27<00:13,  1.94s/it]"
     ]
    },
    {
     "name": "stdout",
     "output_type": "stream",
     "text": [
      "1000.0\n",
      "Writing C:\\Users\\marco\\Documents\\MASTER_DATA_SCIENTIST\\TFM_MSD\\SEED_FRA_OUTPUT\\NEGATIVE\\7_3_trial_14_signals.fif\n"
     ]
    },
    {
     "name": "stderr",
     "output_type": "stream",
     "text": [
      "C:\\Users\\marco\\AppData\\Local\\Temp\\ipykernel_14260\\1741641518.py:44: RuntimeWarning: This filename (C:\\Users\\marco\\Documents\\MASTER_DATA_SCIENTIST\\TFM_MSD\\SEED_FRA_OUTPUT\\NEGATIVE\\7_3_trial_14_signals.fif) does not conform to MNE naming conventions. All raw files should end with raw.fif, raw_sss.fif, raw_tsss.fif, _meg.fif, _eeg.fif, _ieeg.fif, raw.fif.gz, raw_sss.fif.gz, raw_tsss.fif.gz, _meg.fif.gz, _eeg.fif.gz or _ieeg.fif.gz\n",
      "  eeg_trial.save(output_path, overwrite=True)\n"
     ]
    },
    {
     "name": "stdout",
     "output_type": "stream",
     "text": [
      "Closing C:\\Users\\marco\\Documents\\MASTER_DATA_SCIENTIST\\TFM_MSD\\SEED_FRA_OUTPUT\\NEGATIVE\\7_3_trial_14_signals.fif\n",
      "[done]\n"
     ]
    },
    {
     "name": "stderr",
     "output_type": "stream",
     "text": [
      "\r",
      "Processing:  71%|██████████████████████████████████████████████████                    | 15/21 [00:29<00:11,  1.95s/it]"
     ]
    },
    {
     "name": "stdout",
     "output_type": "stream",
     "text": [
      "1000.0\n",
      "Writing C:\\Users\\marco\\Documents\\MASTER_DATA_SCIENTIST\\TFM_MSD\\SEED_FRA_OUTPUT\\NEGATIVE\\7_3_trial_15_signals.fif\n",
      "Closing C:\\Users\\marco\\Documents\\MASTER_DATA_SCIENTIST\\TFM_MSD\\SEED_FRA_OUTPUT\\NEGATIVE\\7_3_trial_15_signals.fif\n",
      "[done]\n"
     ]
    },
    {
     "name": "stderr",
     "output_type": "stream",
     "text": [
      "C:\\Users\\marco\\AppData\\Local\\Temp\\ipykernel_14260\\1741641518.py:44: RuntimeWarning: This filename (C:\\Users\\marco\\Documents\\MASTER_DATA_SCIENTIST\\TFM_MSD\\SEED_FRA_OUTPUT\\NEGATIVE\\7_3_trial_15_signals.fif) does not conform to MNE naming conventions. All raw files should end with raw.fif, raw_sss.fif, raw_tsss.fif, _meg.fif, _eeg.fif, _ieeg.fif, raw.fif.gz, raw_sss.fif.gz, raw_tsss.fif.gz, _meg.fif.gz, _eeg.fif.gz or _ieeg.fif.gz\n",
      "  eeg_trial.save(output_path, overwrite=True)\n",
      "\r",
      "Processing:  76%|█████████████████████████████████████████████████████▎                | 16/21 [00:31<00:09,  1.95s/it]"
     ]
    },
    {
     "name": "stdout",
     "output_type": "stream",
     "text": [
      "1000.0\n",
      "Writing C:\\Users\\marco\\Documents\\MASTER_DATA_SCIENTIST\\TFM_MSD\\SEED_FRA_OUTPUT\\NEUTRAL\\7_3_trial_16_signals.fif\n"
     ]
    },
    {
     "name": "stderr",
     "output_type": "stream",
     "text": [
      "C:\\Users\\marco\\AppData\\Local\\Temp\\ipykernel_14260\\1741641518.py:44: RuntimeWarning: This filename (C:\\Users\\marco\\Documents\\MASTER_DATA_SCIENTIST\\TFM_MSD\\SEED_FRA_OUTPUT\\NEUTRAL\\7_3_trial_16_signals.fif) does not conform to MNE naming conventions. All raw files should end with raw.fif, raw_sss.fif, raw_tsss.fif, _meg.fif, _eeg.fif, _ieeg.fif, raw.fif.gz, raw_sss.fif.gz, raw_tsss.fif.gz, _meg.fif.gz, _eeg.fif.gz or _ieeg.fif.gz\n",
      "  eeg_trial.save(output_path, overwrite=True)\n"
     ]
    },
    {
     "name": "stdout",
     "output_type": "stream",
     "text": [
      "Closing C:\\Users\\marco\\Documents\\MASTER_DATA_SCIENTIST\\TFM_MSD\\SEED_FRA_OUTPUT\\NEUTRAL\\7_3_trial_16_signals.fif\n",
      "[done]\n"
     ]
    },
    {
     "name": "stderr",
     "output_type": "stream",
     "text": [
      "\r",
      "Processing:  81%|████████████████████████████████████████████████████████▋             | 17/21 [00:33<00:07,  1.97s/it]"
     ]
    },
    {
     "name": "stdout",
     "output_type": "stream",
     "text": [
      "1000.0\n",
      "Writing C:\\Users\\marco\\Documents\\MASTER_DATA_SCIENTIST\\TFM_MSD\\SEED_FRA_OUTPUT\\POSITIVE\\7_3_trial_17_signals.fif\n"
     ]
    },
    {
     "name": "stderr",
     "output_type": "stream",
     "text": [
      "C:\\Users\\marco\\AppData\\Local\\Temp\\ipykernel_14260\\1741641518.py:44: RuntimeWarning: This filename (C:\\Users\\marco\\Documents\\MASTER_DATA_SCIENTIST\\TFM_MSD\\SEED_FRA_OUTPUT\\POSITIVE\\7_3_trial_17_signals.fif) does not conform to MNE naming conventions. All raw files should end with raw.fif, raw_sss.fif, raw_tsss.fif, _meg.fif, _eeg.fif, _ieeg.fif, raw.fif.gz, raw_sss.fif.gz, raw_tsss.fif.gz, _meg.fif.gz, _eeg.fif.gz or _ieeg.fif.gz\n",
      "  eeg_trial.save(output_path, overwrite=True)\n"
     ]
    },
    {
     "name": "stdout",
     "output_type": "stream",
     "text": [
      "Closing C:\\Users\\marco\\Documents\\MASTER_DATA_SCIENTIST\\TFM_MSD\\SEED_FRA_OUTPUT\\POSITIVE\\7_3_trial_17_signals.fif\n",
      "[done]\n"
     ]
    },
    {
     "name": "stderr",
     "output_type": "stream",
     "text": [
      "\r",
      "Processing:  86%|████████████████████████████████████████████████████████████          | 18/21 [00:35<00:05,  1.90s/it]"
     ]
    },
    {
     "name": "stdout",
     "output_type": "stream",
     "text": [
      "1000.0\n",
      "Writing C:\\Users\\marco\\Documents\\MASTER_DATA_SCIENTIST\\TFM_MSD\\SEED_FRA_OUTPUT\\NEGATIVE\\7_3_trial_18_signals.fif\n"
     ]
    },
    {
     "name": "stderr",
     "output_type": "stream",
     "text": [
      "C:\\Users\\marco\\AppData\\Local\\Temp\\ipykernel_14260\\1741641518.py:44: RuntimeWarning: This filename (C:\\Users\\marco\\Documents\\MASTER_DATA_SCIENTIST\\TFM_MSD\\SEED_FRA_OUTPUT\\NEGATIVE\\7_3_trial_18_signals.fif) does not conform to MNE naming conventions. All raw files should end with raw.fif, raw_sss.fif, raw_tsss.fif, _meg.fif, _eeg.fif, _ieeg.fif, raw.fif.gz, raw_sss.fif.gz, raw_tsss.fif.gz, _meg.fif.gz, _eeg.fif.gz or _ieeg.fif.gz\n",
      "  eeg_trial.save(output_path, overwrite=True)\n"
     ]
    },
    {
     "name": "stdout",
     "output_type": "stream",
     "text": [
      "Closing C:\\Users\\marco\\Documents\\MASTER_DATA_SCIENTIST\\TFM_MSD\\SEED_FRA_OUTPUT\\NEGATIVE\\7_3_trial_18_signals.fif\n",
      "[done]\n"
     ]
    },
    {
     "name": "stderr",
     "output_type": "stream",
     "text": [
      "\r",
      "Processing:  90%|███████████████████████████████████████████████████████████████▎      | 19/21 [00:36<00:03,  1.79s/it]"
     ]
    },
    {
     "name": "stdout",
     "output_type": "stream",
     "text": [
      "1000.0\n",
      "Writing C:\\Users\\marco\\Documents\\MASTER_DATA_SCIENTIST\\TFM_MSD\\SEED_FRA_OUTPUT\\NEUTRAL\\7_3_trial_19_signals.fif\n"
     ]
    },
    {
     "name": "stderr",
     "output_type": "stream",
     "text": [
      "C:\\Users\\marco\\AppData\\Local\\Temp\\ipykernel_14260\\1741641518.py:44: RuntimeWarning: This filename (C:\\Users\\marco\\Documents\\MASTER_DATA_SCIENTIST\\TFM_MSD\\SEED_FRA_OUTPUT\\NEUTRAL\\7_3_trial_19_signals.fif) does not conform to MNE naming conventions. All raw files should end with raw.fif, raw_sss.fif, raw_tsss.fif, _meg.fif, _eeg.fif, _ieeg.fif, raw.fif.gz, raw_sss.fif.gz, raw_tsss.fif.gz, _meg.fif.gz, _eeg.fif.gz or _ieeg.fif.gz\n",
      "  eeg_trial.save(output_path, overwrite=True)\n"
     ]
    },
    {
     "name": "stdout",
     "output_type": "stream",
     "text": [
      "Closing C:\\Users\\marco\\Documents\\MASTER_DATA_SCIENTIST\\TFM_MSD\\SEED_FRA_OUTPUT\\NEUTRAL\\7_3_trial_19_signals.fif\n",
      "[done]\n"
     ]
    },
    {
     "name": "stderr",
     "output_type": "stream",
     "text": [
      "\r",
      "Processing:  95%|██████████████████████████████████████████████████████████████████▋   | 20/21 [00:38<00:01,  1.78s/it]"
     ]
    },
    {
     "name": "stdout",
     "output_type": "stream",
     "text": [
      "1000.0\n",
      "Writing C:\\Users\\marco\\Documents\\MASTER_DATA_SCIENTIST\\TFM_MSD\\SEED_FRA_OUTPUT\\POSITIVE\\7_3_trial_20_signals.fif\n"
     ]
    },
    {
     "name": "stderr",
     "output_type": "stream",
     "text": [
      "C:\\Users\\marco\\AppData\\Local\\Temp\\ipykernel_14260\\1741641518.py:44: RuntimeWarning: This filename (C:\\Users\\marco\\Documents\\MASTER_DATA_SCIENTIST\\TFM_MSD\\SEED_FRA_OUTPUT\\POSITIVE\\7_3_trial_20_signals.fif) does not conform to MNE naming conventions. All raw files should end with raw.fif, raw_sss.fif, raw_tsss.fif, _meg.fif, _eeg.fif, _ieeg.fif, raw.fif.gz, raw_sss.fif.gz, raw_tsss.fif.gz, _meg.fif.gz, _eeg.fif.gz or _ieeg.fif.gz\n",
      "  eeg_trial.save(output_path, overwrite=True)\n"
     ]
    },
    {
     "name": "stdout",
     "output_type": "stream",
     "text": [
      "Closing C:\\Users\\marco\\Documents\\MASTER_DATA_SCIENTIST\\TFM_MSD\\SEED_FRA_OUTPUT\\POSITIVE\\7_3_trial_20_signals.fif\n",
      "[done]\n"
     ]
    },
    {
     "name": "stderr",
     "output_type": "stream",
     "text": [
      "Processing: 100%|██████████████████████████████████████████████████████████████████████| 21/21 [00:40<00:00,  1.93s/it]\n"
     ]
    },
    {
     "name": "stdout",
     "output_type": "stream",
     "text": [
      "Reading 0 ... 3819559  =      0.000 ...  3819.559 secs...\n"
     ]
    },
    {
     "name": "stderr",
     "output_type": "stream",
     "text": [
      "C:\\Users\\marco\\AppData\\Local\\Temp\\ipykernel_14260\\1741641518.py:4: RuntimeWarning:   Could not parse meas date from the header. Setting to None.\n",
      "  eeg_raw = mne.io.read_raw_cnt(_path, preload=True)\n"
     ]
    },
    {
     "name": "stdout",
     "output_type": "stream",
     "text": [
      "Filtering raw data in 1 contiguous segment\n",
      "Setting up band-pass filter from 0.5 - 55 Hz\n",
      "\n",
      "FIR filter parameters\n",
      "---------------------\n",
      "Designing a one-pass, zero-phase, non-causal bandpass filter:\n",
      "- Windowed time-domain design (firwin) method\n",
      "- Hamming window with 0.0194 passband ripple and 53 dB stopband attenuation\n",
      "- Lower passband edge: 0.50\n",
      "- Lower transition bandwidth: 0.50 Hz (-6 dB cutoff frequency: 0.25 Hz)\n",
      "- Upper passband edge: 55.00 Hz\n",
      "- Upper transition bandwidth: 13.75 Hz (-6 dB cutoff frequency: 61.88 Hz)\n",
      "- Filter length: 6601 samples (6.601 sec)\n",
      "\n"
     ]
    },
    {
     "name": "stderr",
     "output_type": "stream",
     "text": [
      "\r",
      "Processing:   0%|                                                                               | 0/21 [00:00<?, ?it/s]"
     ]
    },
    {
     "name": "stdout",
     "output_type": "stream",
     "text": [
      "1000.0\n",
      "Writing C:\\Users\\marco\\Documents\\MASTER_DATA_SCIENTIST\\TFM_MSD\\SEED_FRA_OUTPUT\\POSITIVE\\8_1_trial_0_signals.fif\n"
     ]
    },
    {
     "name": "stderr",
     "output_type": "stream",
     "text": [
      "C:\\Users\\marco\\AppData\\Local\\Temp\\ipykernel_14260\\1741641518.py:44: RuntimeWarning: This filename (C:\\Users\\marco\\Documents\\MASTER_DATA_SCIENTIST\\TFM_MSD\\SEED_FRA_OUTPUT\\POSITIVE\\8_1_trial_0_signals.fif) does not conform to MNE naming conventions. All raw files should end with raw.fif, raw_sss.fif, raw_tsss.fif, _meg.fif, _eeg.fif, _ieeg.fif, raw.fif.gz, raw_sss.fif.gz, raw_tsss.fif.gz, _meg.fif.gz, _eeg.fif.gz or _ieeg.fif.gz\n",
      "  eeg_trial.save(output_path, overwrite=True)\n"
     ]
    },
    {
     "name": "stdout",
     "output_type": "stream",
     "text": [
      "Closing C:\\Users\\marco\\Documents\\MASTER_DATA_SCIENTIST\\TFM_MSD\\SEED_FRA_OUTPUT\\POSITIVE\\8_1_trial_0_signals.fif\n",
      "[done]\n"
     ]
    },
    {
     "name": "stderr",
     "output_type": "stream",
     "text": [
      "\r",
      "Processing:   5%|███▍                                                                   | 1/21 [00:01<00:35,  1.79s/it]"
     ]
    },
    {
     "name": "stdout",
     "output_type": "stream",
     "text": [
      "1000.0\n",
      "Writing C:\\Users\\marco\\Documents\\MASTER_DATA_SCIENTIST\\TFM_MSD\\SEED_FRA_OUTPUT\\NEGATIVE\\8_1_trial_1_signals.fif\n"
     ]
    },
    {
     "name": "stderr",
     "output_type": "stream",
     "text": [
      "C:\\Users\\marco\\AppData\\Local\\Temp\\ipykernel_14260\\1741641518.py:44: RuntimeWarning: This filename (C:\\Users\\marco\\Documents\\MASTER_DATA_SCIENTIST\\TFM_MSD\\SEED_FRA_OUTPUT\\NEGATIVE\\8_1_trial_1_signals.fif) does not conform to MNE naming conventions. All raw files should end with raw.fif, raw_sss.fif, raw_tsss.fif, _meg.fif, _eeg.fif, _ieeg.fif, raw.fif.gz, raw_sss.fif.gz, raw_tsss.fif.gz, _meg.fif.gz, _eeg.fif.gz or _ieeg.fif.gz\n",
      "  eeg_trial.save(output_path, overwrite=True)\n"
     ]
    },
    {
     "name": "stdout",
     "output_type": "stream",
     "text": [
      "Closing C:\\Users\\marco\\Documents\\MASTER_DATA_SCIENTIST\\TFM_MSD\\SEED_FRA_OUTPUT\\NEGATIVE\\8_1_trial_1_signals.fif\n",
      "[done]\n"
     ]
    },
    {
     "name": "stderr",
     "output_type": "stream",
     "text": [
      "\r",
      "Processing:  10%|██████▊                                                                | 2/21 [00:03<00:36,  1.93s/it]"
     ]
    },
    {
     "name": "stdout",
     "output_type": "stream",
     "text": [
      "1000.0\n",
      "Writing C:\\Users\\marco\\Documents\\MASTER_DATA_SCIENTIST\\TFM_MSD\\SEED_FRA_OUTPUT\\NEUTRAL\\8_1_trial_2_signals.fif\n"
     ]
    },
    {
     "name": "stderr",
     "output_type": "stream",
     "text": [
      "C:\\Users\\marco\\AppData\\Local\\Temp\\ipykernel_14260\\1741641518.py:44: RuntimeWarning: This filename (C:\\Users\\marco\\Documents\\MASTER_DATA_SCIENTIST\\TFM_MSD\\SEED_FRA_OUTPUT\\NEUTRAL\\8_1_trial_2_signals.fif) does not conform to MNE naming conventions. All raw files should end with raw.fif, raw_sss.fif, raw_tsss.fif, _meg.fif, _eeg.fif, _ieeg.fif, raw.fif.gz, raw_sss.fif.gz, raw_tsss.fif.gz, _meg.fif.gz, _eeg.fif.gz or _ieeg.fif.gz\n",
      "  eeg_trial.save(output_path, overwrite=True)\n"
     ]
    },
    {
     "name": "stdout",
     "output_type": "stream",
     "text": [
      "Closing C:\\Users\\marco\\Documents\\MASTER_DATA_SCIENTIST\\TFM_MSD\\SEED_FRA_OUTPUT\\NEUTRAL\\8_1_trial_2_signals.fif\n",
      "[done]\n"
     ]
    },
    {
     "name": "stderr",
     "output_type": "stream",
     "text": [
      "\r",
      "Processing:  14%|██████████▏                                                            | 3/21 [00:05<00:35,  1.96s/it]"
     ]
    },
    {
     "name": "stdout",
     "output_type": "stream",
     "text": [
      "1000.0\n",
      "Writing C:\\Users\\marco\\Documents\\MASTER_DATA_SCIENTIST\\TFM_MSD\\SEED_FRA_OUTPUT\\NEGATIVE\\8_1_trial_3_signals.fif\n"
     ]
    },
    {
     "name": "stderr",
     "output_type": "stream",
     "text": [
      "C:\\Users\\marco\\AppData\\Local\\Temp\\ipykernel_14260\\1741641518.py:44: RuntimeWarning: This filename (C:\\Users\\marco\\Documents\\MASTER_DATA_SCIENTIST\\TFM_MSD\\SEED_FRA_OUTPUT\\NEGATIVE\\8_1_trial_3_signals.fif) does not conform to MNE naming conventions. All raw files should end with raw.fif, raw_sss.fif, raw_tsss.fif, _meg.fif, _eeg.fif, _ieeg.fif, raw.fif.gz, raw_sss.fif.gz, raw_tsss.fif.gz, _meg.fif.gz, _eeg.fif.gz or _ieeg.fif.gz\n",
      "  eeg_trial.save(output_path, overwrite=True)\n"
     ]
    },
    {
     "name": "stdout",
     "output_type": "stream",
     "text": [
      "Closing C:\\Users\\marco\\Documents\\MASTER_DATA_SCIENTIST\\TFM_MSD\\SEED_FRA_OUTPUT\\NEGATIVE\\8_1_trial_3_signals.fif\n",
      "[done]\n"
     ]
    },
    {
     "name": "stderr",
     "output_type": "stream",
     "text": [
      "\r",
      "Processing:  19%|█████████████▌                                                         | 4/21 [00:08<00:35,  2.08s/it]"
     ]
    },
    {
     "name": "stdout",
     "output_type": "stream",
     "text": [
      "1000.0\n",
      "Writing C:\\Users\\marco\\Documents\\MASTER_DATA_SCIENTIST\\TFM_MSD\\SEED_FRA_OUTPUT\\POSITIVE\\8_1_trial_4_signals.fif\n"
     ]
    },
    {
     "name": "stderr",
     "output_type": "stream",
     "text": [
      "C:\\Users\\marco\\AppData\\Local\\Temp\\ipykernel_14260\\1741641518.py:44: RuntimeWarning: This filename (C:\\Users\\marco\\Documents\\MASTER_DATA_SCIENTIST\\TFM_MSD\\SEED_FRA_OUTPUT\\POSITIVE\\8_1_trial_4_signals.fif) does not conform to MNE naming conventions. All raw files should end with raw.fif, raw_sss.fif, raw_tsss.fif, _meg.fif, _eeg.fif, _ieeg.fif, raw.fif.gz, raw_sss.fif.gz, raw_tsss.fif.gz, _meg.fif.gz, _eeg.fif.gz or _ieeg.fif.gz\n",
      "  eeg_trial.save(output_path, overwrite=True)\n"
     ]
    },
    {
     "name": "stdout",
     "output_type": "stream",
     "text": [
      "Closing C:\\Users\\marco\\Documents\\MASTER_DATA_SCIENTIST\\TFM_MSD\\SEED_FRA_OUTPUT\\POSITIVE\\8_1_trial_4_signals.fif\n",
      "[done]\n"
     ]
    },
    {
     "name": "stderr",
     "output_type": "stream",
     "text": [
      "\r",
      "Processing:  24%|████████████████▉                                                      | 5/21 [00:10<00:32,  2.04s/it]"
     ]
    },
    {
     "name": "stdout",
     "output_type": "stream",
     "text": [
      "1000.0\n",
      "Writing C:\\Users\\marco\\Documents\\MASTER_DATA_SCIENTIST\\TFM_MSD\\SEED_FRA_OUTPUT\\NEUTRAL\\8_1_trial_5_signals.fif\n"
     ]
    },
    {
     "name": "stderr",
     "output_type": "stream",
     "text": [
      "C:\\Users\\marco\\AppData\\Local\\Temp\\ipykernel_14260\\1741641518.py:44: RuntimeWarning: This filename (C:\\Users\\marco\\Documents\\MASTER_DATA_SCIENTIST\\TFM_MSD\\SEED_FRA_OUTPUT\\NEUTRAL\\8_1_trial_5_signals.fif) does not conform to MNE naming conventions. All raw files should end with raw.fif, raw_sss.fif, raw_tsss.fif, _meg.fif, _eeg.fif, _ieeg.fif, raw.fif.gz, raw_sss.fif.gz, raw_tsss.fif.gz, _meg.fif.gz, _eeg.fif.gz or _ieeg.fif.gz\n",
      "  eeg_trial.save(output_path, overwrite=True)\n"
     ]
    },
    {
     "name": "stdout",
     "output_type": "stream",
     "text": [
      "Closing C:\\Users\\marco\\Documents\\MASTER_DATA_SCIENTIST\\TFM_MSD\\SEED_FRA_OUTPUT\\NEUTRAL\\8_1_trial_5_signals.fif\n",
      "[done]\n"
     ]
    },
    {
     "name": "stderr",
     "output_type": "stream",
     "text": [
      "\r",
      "Processing:  29%|████████████████████▎                                                  | 6/21 [00:12<00:30,  2.05s/it]"
     ]
    },
    {
     "name": "stdout",
     "output_type": "stream",
     "text": [
      "1000.0\n",
      "Writing C:\\Users\\marco\\Documents\\MASTER_DATA_SCIENTIST\\TFM_MSD\\SEED_FRA_OUTPUT\\NEGATIVE\\8_1_trial_6_signals.fif\n"
     ]
    },
    {
     "name": "stderr",
     "output_type": "stream",
     "text": [
      "C:\\Users\\marco\\AppData\\Local\\Temp\\ipykernel_14260\\1741641518.py:44: RuntimeWarning: This filename (C:\\Users\\marco\\Documents\\MASTER_DATA_SCIENTIST\\TFM_MSD\\SEED_FRA_OUTPUT\\NEGATIVE\\8_1_trial_6_signals.fif) does not conform to MNE naming conventions. All raw files should end with raw.fif, raw_sss.fif, raw_tsss.fif, _meg.fif, _eeg.fif, _ieeg.fif, raw.fif.gz, raw_sss.fif.gz, raw_tsss.fif.gz, _meg.fif.gz, _eeg.fif.gz or _ieeg.fif.gz\n",
      "  eeg_trial.save(output_path, overwrite=True)\n"
     ]
    },
    {
     "name": "stdout",
     "output_type": "stream",
     "text": [
      "Closing C:\\Users\\marco\\Documents\\MASTER_DATA_SCIENTIST\\TFM_MSD\\SEED_FRA_OUTPUT\\NEGATIVE\\8_1_trial_6_signals.fif\n",
      "[done]\n"
     ]
    },
    {
     "name": "stderr",
     "output_type": "stream",
     "text": [
      "\r",
      "Processing:  33%|███████████████████████▋                                               | 7/21 [00:14<00:28,  2.01s/it]"
     ]
    },
    {
     "name": "stdout",
     "output_type": "stream",
     "text": [
      "1000.0\n",
      "Writing C:\\Users\\marco\\Documents\\MASTER_DATA_SCIENTIST\\TFM_MSD\\SEED_FRA_OUTPUT\\NEUTRAL\\8_1_trial_7_signals.fif\n"
     ]
    },
    {
     "name": "stderr",
     "output_type": "stream",
     "text": [
      "C:\\Users\\marco\\AppData\\Local\\Temp\\ipykernel_14260\\1741641518.py:44: RuntimeWarning: This filename (C:\\Users\\marco\\Documents\\MASTER_DATA_SCIENTIST\\TFM_MSD\\SEED_FRA_OUTPUT\\NEUTRAL\\8_1_trial_7_signals.fif) does not conform to MNE naming conventions. All raw files should end with raw.fif, raw_sss.fif, raw_tsss.fif, _meg.fif, _eeg.fif, _ieeg.fif, raw.fif.gz, raw_sss.fif.gz, raw_tsss.fif.gz, _meg.fif.gz, _eeg.fif.gz or _ieeg.fif.gz\n",
      "  eeg_trial.save(output_path, overwrite=True)\n"
     ]
    },
    {
     "name": "stdout",
     "output_type": "stream",
     "text": [
      "Closing C:\\Users\\marco\\Documents\\MASTER_DATA_SCIENTIST\\TFM_MSD\\SEED_FRA_OUTPUT\\NEUTRAL\\8_1_trial_7_signals.fif\n",
      "[done]\n"
     ]
    },
    {
     "name": "stderr",
     "output_type": "stream",
     "text": [
      "\r",
      "Processing:  38%|███████████████████████████                                            | 8/21 [00:16<00:26,  2.03s/it]"
     ]
    },
    {
     "name": "stdout",
     "output_type": "stream",
     "text": [
      "1000.0\n",
      "Writing C:\\Users\\marco\\Documents\\MASTER_DATA_SCIENTIST\\TFM_MSD\\SEED_FRA_OUTPUT\\POSITIVE\\8_1_trial_8_signals.fif\n"
     ]
    },
    {
     "name": "stderr",
     "output_type": "stream",
     "text": [
      "C:\\Users\\marco\\AppData\\Local\\Temp\\ipykernel_14260\\1741641518.py:44: RuntimeWarning: This filename (C:\\Users\\marco\\Documents\\MASTER_DATA_SCIENTIST\\TFM_MSD\\SEED_FRA_OUTPUT\\POSITIVE\\8_1_trial_8_signals.fif) does not conform to MNE naming conventions. All raw files should end with raw.fif, raw_sss.fif, raw_tsss.fif, _meg.fif, _eeg.fif, _ieeg.fif, raw.fif.gz, raw_sss.fif.gz, raw_tsss.fif.gz, _meg.fif.gz, _eeg.fif.gz or _ieeg.fif.gz\n",
      "  eeg_trial.save(output_path, overwrite=True)\n"
     ]
    },
    {
     "name": "stdout",
     "output_type": "stream",
     "text": [
      "Closing C:\\Users\\marco\\Documents\\MASTER_DATA_SCIENTIST\\TFM_MSD\\SEED_FRA_OUTPUT\\POSITIVE\\8_1_trial_8_signals.fif\n",
      "[done]\n"
     ]
    },
    {
     "name": "stderr",
     "output_type": "stream",
     "text": [
      "\r",
      "Processing:  43%|██████████████████████████████▍                                        | 9/21 [00:18<00:24,  2.05s/it]"
     ]
    },
    {
     "name": "stdout",
     "output_type": "stream",
     "text": [
      "1000.0\n",
      "Writing C:\\Users\\marco\\Documents\\MASTER_DATA_SCIENTIST\\TFM_MSD\\SEED_FRA_OUTPUT\\NEGATIVE\\8_1_trial_9_signals.fif\n"
     ]
    },
    {
     "name": "stderr",
     "output_type": "stream",
     "text": [
      "C:\\Users\\marco\\AppData\\Local\\Temp\\ipykernel_14260\\1741641518.py:44: RuntimeWarning: This filename (C:\\Users\\marco\\Documents\\MASTER_DATA_SCIENTIST\\TFM_MSD\\SEED_FRA_OUTPUT\\NEGATIVE\\8_1_trial_9_signals.fif) does not conform to MNE naming conventions. All raw files should end with raw.fif, raw_sss.fif, raw_tsss.fif, _meg.fif, _eeg.fif, _ieeg.fif, raw.fif.gz, raw_sss.fif.gz, raw_tsss.fif.gz, _meg.fif.gz, _eeg.fif.gz or _ieeg.fif.gz\n",
      "  eeg_trial.save(output_path, overwrite=True)\n"
     ]
    },
    {
     "name": "stdout",
     "output_type": "stream",
     "text": [
      "Closing C:\\Users\\marco\\Documents\\MASTER_DATA_SCIENTIST\\TFM_MSD\\SEED_FRA_OUTPUT\\NEGATIVE\\8_1_trial_9_signals.fif\n",
      "[done]\n"
     ]
    },
    {
     "name": "stderr",
     "output_type": "stream",
     "text": [
      "\r",
      "Processing:  48%|█████████████████████████████████▎                                    | 10/21 [00:20<00:22,  2.06s/it]"
     ]
    },
    {
     "name": "stdout",
     "output_type": "stream",
     "text": [
      "1000.0\n",
      "Writing C:\\Users\\marco\\Documents\\MASTER_DATA_SCIENTIST\\TFM_MSD\\SEED_FRA_OUTPUT\\NEUTRAL\\8_1_trial_10_signals.fif\n"
     ]
    },
    {
     "name": "stderr",
     "output_type": "stream",
     "text": [
      "C:\\Users\\marco\\AppData\\Local\\Temp\\ipykernel_14260\\1741641518.py:44: RuntimeWarning: This filename (C:\\Users\\marco\\Documents\\MASTER_DATA_SCIENTIST\\TFM_MSD\\SEED_FRA_OUTPUT\\NEUTRAL\\8_1_trial_10_signals.fif) does not conform to MNE naming conventions. All raw files should end with raw.fif, raw_sss.fif, raw_tsss.fif, _meg.fif, _eeg.fif, _ieeg.fif, raw.fif.gz, raw_sss.fif.gz, raw_tsss.fif.gz, _meg.fif.gz, _eeg.fif.gz or _ieeg.fif.gz\n",
      "  eeg_trial.save(output_path, overwrite=True)\n"
     ]
    },
    {
     "name": "stdout",
     "output_type": "stream",
     "text": [
      "Closing C:\\Users\\marco\\Documents\\MASTER_DATA_SCIENTIST\\TFM_MSD\\SEED_FRA_OUTPUT\\NEUTRAL\\8_1_trial_10_signals.fif\n",
      "[done]\n"
     ]
    },
    {
     "name": "stderr",
     "output_type": "stream",
     "text": [
      "\r",
      "Processing:  52%|████████████████████████████████████▋                                 | 11/21 [00:21<00:19,  1.92s/it]"
     ]
    },
    {
     "name": "stdout",
     "output_type": "stream",
     "text": [
      "1000.0\n",
      "Writing C:\\Users\\marco\\Documents\\MASTER_DATA_SCIENTIST\\TFM_MSD\\SEED_FRA_OUTPUT\\POSITIVE\\8_1_trial_11_signals.fif\n"
     ]
    },
    {
     "name": "stderr",
     "output_type": "stream",
     "text": [
      "C:\\Users\\marco\\AppData\\Local\\Temp\\ipykernel_14260\\1741641518.py:44: RuntimeWarning: This filename (C:\\Users\\marco\\Documents\\MASTER_DATA_SCIENTIST\\TFM_MSD\\SEED_FRA_OUTPUT\\POSITIVE\\8_1_trial_11_signals.fif) does not conform to MNE naming conventions. All raw files should end with raw.fif, raw_sss.fif, raw_tsss.fif, _meg.fif, _eeg.fif, _ieeg.fif, raw.fif.gz, raw_sss.fif.gz, raw_tsss.fif.gz, _meg.fif.gz, _eeg.fif.gz or _ieeg.fif.gz\n",
      "  eeg_trial.save(output_path, overwrite=True)\n"
     ]
    },
    {
     "name": "stdout",
     "output_type": "stream",
     "text": [
      "Closing C:\\Users\\marco\\Documents\\MASTER_DATA_SCIENTIST\\TFM_MSD\\SEED_FRA_OUTPUT\\POSITIVE\\8_1_trial_11_signals.fif\n",
      "[done]\n"
     ]
    },
    {
     "name": "stderr",
     "output_type": "stream",
     "text": [
      "\r",
      "Processing:  57%|████████████████████████████████████████                              | 12/21 [00:24<00:17,  1.98s/it]"
     ]
    },
    {
     "name": "stdout",
     "output_type": "stream",
     "text": [
      "1000.0\n",
      "Writing C:\\Users\\marco\\Documents\\MASTER_DATA_SCIENTIST\\TFM_MSD\\SEED_FRA_OUTPUT\\POSITIVE\\8_1_trial_12_signals.fif\n"
     ]
    },
    {
     "name": "stderr",
     "output_type": "stream",
     "text": [
      "C:\\Users\\marco\\AppData\\Local\\Temp\\ipykernel_14260\\1741641518.py:44: RuntimeWarning: This filename (C:\\Users\\marco\\Documents\\MASTER_DATA_SCIENTIST\\TFM_MSD\\SEED_FRA_OUTPUT\\POSITIVE\\8_1_trial_12_signals.fif) does not conform to MNE naming conventions. All raw files should end with raw.fif, raw_sss.fif, raw_tsss.fif, _meg.fif, _eeg.fif, _ieeg.fif, raw.fif.gz, raw_sss.fif.gz, raw_tsss.fif.gz, _meg.fif.gz, _eeg.fif.gz or _ieeg.fif.gz\n",
      "  eeg_trial.save(output_path, overwrite=True)\n"
     ]
    },
    {
     "name": "stdout",
     "output_type": "stream",
     "text": [
      "Closing C:\\Users\\marco\\Documents\\MASTER_DATA_SCIENTIST\\TFM_MSD\\SEED_FRA_OUTPUT\\POSITIVE\\8_1_trial_12_signals.fif\n",
      "[done]\n"
     ]
    },
    {
     "name": "stderr",
     "output_type": "stream",
     "text": [
      "\r",
      "Processing:  62%|███████████████████████████████████████████▎                          | 13/21 [00:25<00:14,  1.85s/it]"
     ]
    },
    {
     "name": "stdout",
     "output_type": "stream",
     "text": [
      "1000.0\n",
      "Writing C:\\Users\\marco\\Documents\\MASTER_DATA_SCIENTIST\\TFM_MSD\\SEED_FRA_OUTPUT\\NEUTRAL\\8_1_trial_13_signals.fif\n"
     ]
    },
    {
     "name": "stderr",
     "output_type": "stream",
     "text": [
      "C:\\Users\\marco\\AppData\\Local\\Temp\\ipykernel_14260\\1741641518.py:44: RuntimeWarning: This filename (C:\\Users\\marco\\Documents\\MASTER_DATA_SCIENTIST\\TFM_MSD\\SEED_FRA_OUTPUT\\NEUTRAL\\8_1_trial_13_signals.fif) does not conform to MNE naming conventions. All raw files should end with raw.fif, raw_sss.fif, raw_tsss.fif, _meg.fif, _eeg.fif, _ieeg.fif, raw.fif.gz, raw_sss.fif.gz, raw_tsss.fif.gz, _meg.fif.gz, _eeg.fif.gz or _ieeg.fif.gz\n",
      "  eeg_trial.save(output_path, overwrite=True)\n"
     ]
    },
    {
     "name": "stdout",
     "output_type": "stream",
     "text": [
      "Closing C:\\Users\\marco\\Documents\\MASTER_DATA_SCIENTIST\\TFM_MSD\\SEED_FRA_OUTPUT\\NEUTRAL\\8_1_trial_13_signals.fif\n",
      "[done]\n"
     ]
    },
    {
     "name": "stderr",
     "output_type": "stream",
     "text": [
      "\r",
      "Processing:  67%|██████████████████████████████████████████████▋                       | 14/21 [00:27<00:13,  1.90s/it]"
     ]
    },
    {
     "name": "stdout",
     "output_type": "stream",
     "text": [
      "1000.0\n",
      "Writing C:\\Users\\marco\\Documents\\MASTER_DATA_SCIENTIST\\TFM_MSD\\SEED_FRA_OUTPUT\\NEGATIVE\\8_1_trial_14_signals.fif\n"
     ]
    },
    {
     "name": "stderr",
     "output_type": "stream",
     "text": [
      "C:\\Users\\marco\\AppData\\Local\\Temp\\ipykernel_14260\\1741641518.py:44: RuntimeWarning: This filename (C:\\Users\\marco\\Documents\\MASTER_DATA_SCIENTIST\\TFM_MSD\\SEED_FRA_OUTPUT\\NEGATIVE\\8_1_trial_14_signals.fif) does not conform to MNE naming conventions. All raw files should end with raw.fif, raw_sss.fif, raw_tsss.fif, _meg.fif, _eeg.fif, _ieeg.fif, raw.fif.gz, raw_sss.fif.gz, raw_tsss.fif.gz, _meg.fif.gz, _eeg.fif.gz or _ieeg.fif.gz\n",
      "  eeg_trial.save(output_path, overwrite=True)\n"
     ]
    },
    {
     "name": "stdout",
     "output_type": "stream",
     "text": [
      "Closing C:\\Users\\marco\\Documents\\MASTER_DATA_SCIENTIST\\TFM_MSD\\SEED_FRA_OUTPUT\\NEGATIVE\\8_1_trial_14_signals.fif\n",
      "[done]\n"
     ]
    },
    {
     "name": "stderr",
     "output_type": "stream",
     "text": [
      "\r",
      "Processing:  71%|██████████████████████████████████████████████████                    | 15/21 [00:29<00:11,  1.93s/it]"
     ]
    },
    {
     "name": "stdout",
     "output_type": "stream",
     "text": [
      "1000.0\n",
      "Writing C:\\Users\\marco\\Documents\\MASTER_DATA_SCIENTIST\\TFM_MSD\\SEED_FRA_OUTPUT\\NEGATIVE\\8_1_trial_15_signals.fif\n",
      "Closing C:\\Users\\marco\\Documents\\MASTER_DATA_SCIENTIST\\TFM_MSD\\SEED_FRA_OUTPUT\\NEGATIVE\\8_1_trial_15_signals.fif\n",
      "[done]\n"
     ]
    },
    {
     "name": "stderr",
     "output_type": "stream",
     "text": [
      "C:\\Users\\marco\\AppData\\Local\\Temp\\ipykernel_14260\\1741641518.py:44: RuntimeWarning: This filename (C:\\Users\\marco\\Documents\\MASTER_DATA_SCIENTIST\\TFM_MSD\\SEED_FRA_OUTPUT\\NEGATIVE\\8_1_trial_15_signals.fif) does not conform to MNE naming conventions. All raw files should end with raw.fif, raw_sss.fif, raw_tsss.fif, _meg.fif, _eeg.fif, _ieeg.fif, raw.fif.gz, raw_sss.fif.gz, raw_tsss.fif.gz, _meg.fif.gz, _eeg.fif.gz or _ieeg.fif.gz\n",
      "  eeg_trial.save(output_path, overwrite=True)\n",
      "\r",
      "Processing:  76%|█████████████████████████████████████████████████████▎                | 16/21 [00:31<00:09,  1.91s/it]"
     ]
    },
    {
     "name": "stdout",
     "output_type": "stream",
     "text": [
      "1000.0\n",
      "Writing C:\\Users\\marco\\Documents\\MASTER_DATA_SCIENTIST\\TFM_MSD\\SEED_FRA_OUTPUT\\NEUTRAL\\8_1_trial_16_signals.fif\n"
     ]
    },
    {
     "name": "stderr",
     "output_type": "stream",
     "text": [
      "C:\\Users\\marco\\AppData\\Local\\Temp\\ipykernel_14260\\1741641518.py:44: RuntimeWarning: This filename (C:\\Users\\marco\\Documents\\MASTER_DATA_SCIENTIST\\TFM_MSD\\SEED_FRA_OUTPUT\\NEUTRAL\\8_1_trial_16_signals.fif) does not conform to MNE naming conventions. All raw files should end with raw.fif, raw_sss.fif, raw_tsss.fif, _meg.fif, _eeg.fif, _ieeg.fif, raw.fif.gz, raw_sss.fif.gz, raw_tsss.fif.gz, _meg.fif.gz, _eeg.fif.gz or _ieeg.fif.gz\n",
      "  eeg_trial.save(output_path, overwrite=True)\n"
     ]
    },
    {
     "name": "stdout",
     "output_type": "stream",
     "text": [
      "Closing C:\\Users\\marco\\Documents\\MASTER_DATA_SCIENTIST\\TFM_MSD\\SEED_FRA_OUTPUT\\NEUTRAL\\8_1_trial_16_signals.fif\n",
      "[done]\n"
     ]
    },
    {
     "name": "stderr",
     "output_type": "stream",
     "text": [
      "\r",
      "Processing:  81%|████████████████████████████████████████████████████████▋             | 17/21 [00:33<00:07,  1.99s/it]"
     ]
    },
    {
     "name": "stdout",
     "output_type": "stream",
     "text": [
      "1000.0\n",
      "Writing C:\\Users\\marco\\Documents\\MASTER_DATA_SCIENTIST\\TFM_MSD\\SEED_FRA_OUTPUT\\POSITIVE\\8_1_trial_17_signals.fif\n"
     ]
    },
    {
     "name": "stderr",
     "output_type": "stream",
     "text": [
      "C:\\Users\\marco\\AppData\\Local\\Temp\\ipykernel_14260\\1741641518.py:44: RuntimeWarning: This filename (C:\\Users\\marco\\Documents\\MASTER_DATA_SCIENTIST\\TFM_MSD\\SEED_FRA_OUTPUT\\POSITIVE\\8_1_trial_17_signals.fif) does not conform to MNE naming conventions. All raw files should end with raw.fif, raw_sss.fif, raw_tsss.fif, _meg.fif, _eeg.fif, _ieeg.fif, raw.fif.gz, raw_sss.fif.gz, raw_tsss.fif.gz, _meg.fif.gz, _eeg.fif.gz or _ieeg.fif.gz\n",
      "  eeg_trial.save(output_path, overwrite=True)\n"
     ]
    },
    {
     "name": "stdout",
     "output_type": "stream",
     "text": [
      "Closing C:\\Users\\marco\\Documents\\MASTER_DATA_SCIENTIST\\TFM_MSD\\SEED_FRA_OUTPUT\\POSITIVE\\8_1_trial_17_signals.fif\n",
      "[done]\n"
     ]
    },
    {
     "name": "stderr",
     "output_type": "stream",
     "text": [
      "\r",
      "Processing:  86%|████████████████████████████████████████████████████████████          | 18/21 [00:35<00:05,  1.99s/it]"
     ]
    },
    {
     "name": "stdout",
     "output_type": "stream",
     "text": [
      "1000.0\n",
      "Writing C:\\Users\\marco\\Documents\\MASTER_DATA_SCIENTIST\\TFM_MSD\\SEED_FRA_OUTPUT\\NEGATIVE\\8_1_trial_18_signals.fif\n"
     ]
    },
    {
     "name": "stderr",
     "output_type": "stream",
     "text": [
      "C:\\Users\\marco\\AppData\\Local\\Temp\\ipykernel_14260\\1741641518.py:44: RuntimeWarning: This filename (C:\\Users\\marco\\Documents\\MASTER_DATA_SCIENTIST\\TFM_MSD\\SEED_FRA_OUTPUT\\NEGATIVE\\8_1_trial_18_signals.fif) does not conform to MNE naming conventions. All raw files should end with raw.fif, raw_sss.fif, raw_tsss.fif, _meg.fif, _eeg.fif, _ieeg.fif, raw.fif.gz, raw_sss.fif.gz, raw_tsss.fif.gz, _meg.fif.gz, _eeg.fif.gz or _ieeg.fif.gz\n",
      "  eeg_trial.save(output_path, overwrite=True)\n"
     ]
    },
    {
     "name": "stdout",
     "output_type": "stream",
     "text": [
      "Closing C:\\Users\\marco\\Documents\\MASTER_DATA_SCIENTIST\\TFM_MSD\\SEED_FRA_OUTPUT\\NEGATIVE\\8_1_trial_18_signals.fif\n",
      "[done]\n"
     ]
    },
    {
     "name": "stderr",
     "output_type": "stream",
     "text": [
      "\r",
      "Processing:  90%|███████████████████████████████████████████████████████████████▎      | 19/21 [00:37<00:03,  1.99s/it]"
     ]
    },
    {
     "name": "stdout",
     "output_type": "stream",
     "text": [
      "1000.0\n",
      "Writing C:\\Users\\marco\\Documents\\MASTER_DATA_SCIENTIST\\TFM_MSD\\SEED_FRA_OUTPUT\\NEUTRAL\\8_1_trial_19_signals.fif\n",
      "Closing C:\\Users\\marco\\Documents\\MASTER_DATA_SCIENTIST\\TFM_MSD\\SEED_FRA_OUTPUT\\NEUTRAL\\8_1_trial_19_signals.fif\n"
     ]
    },
    {
     "name": "stderr",
     "output_type": "stream",
     "text": [
      "C:\\Users\\marco\\AppData\\Local\\Temp\\ipykernel_14260\\1741641518.py:44: RuntimeWarning: This filename (C:\\Users\\marco\\Documents\\MASTER_DATA_SCIENTIST\\TFM_MSD\\SEED_FRA_OUTPUT\\NEUTRAL\\8_1_trial_19_signals.fif) does not conform to MNE naming conventions. All raw files should end with raw.fif, raw_sss.fif, raw_tsss.fif, _meg.fif, _eeg.fif, _ieeg.fif, raw.fif.gz, raw_sss.fif.gz, raw_tsss.fif.gz, _meg.fif.gz, _eeg.fif.gz or _ieeg.fif.gz\n",
      "  eeg_trial.save(output_path, overwrite=True)\n"
     ]
    },
    {
     "name": "stdout",
     "output_type": "stream",
     "text": [
      "[done]\n"
     ]
    },
    {
     "name": "stderr",
     "output_type": "stream",
     "text": [
      "\r",
      "Processing:  95%|██████████████████████████████████████████████████████████████████▋   | 20/21 [00:39<00:01,  1.97s/it]"
     ]
    },
    {
     "name": "stdout",
     "output_type": "stream",
     "text": [
      "1000.0\n",
      "Writing C:\\Users\\marco\\Documents\\MASTER_DATA_SCIENTIST\\TFM_MSD\\SEED_FRA_OUTPUT\\POSITIVE\\8_1_trial_20_signals.fif\n"
     ]
    },
    {
     "name": "stderr",
     "output_type": "stream",
     "text": [
      "C:\\Users\\marco\\AppData\\Local\\Temp\\ipykernel_14260\\1741641518.py:44: RuntimeWarning: This filename (C:\\Users\\marco\\Documents\\MASTER_DATA_SCIENTIST\\TFM_MSD\\SEED_FRA_OUTPUT\\POSITIVE\\8_1_trial_20_signals.fif) does not conform to MNE naming conventions. All raw files should end with raw.fif, raw_sss.fif, raw_tsss.fif, _meg.fif, _eeg.fif, _ieeg.fif, raw.fif.gz, raw_sss.fif.gz, raw_tsss.fif.gz, _meg.fif.gz, _eeg.fif.gz or _ieeg.fif.gz\n",
      "  eeg_trial.save(output_path, overwrite=True)\n"
     ]
    },
    {
     "name": "stdout",
     "output_type": "stream",
     "text": [
      "Closing C:\\Users\\marco\\Documents\\MASTER_DATA_SCIENTIST\\TFM_MSD\\SEED_FRA_OUTPUT\\POSITIVE\\8_1_trial_20_signals.fif\n",
      "[done]\n"
     ]
    },
    {
     "name": "stderr",
     "output_type": "stream",
     "text": [
      "Processing: 100%|██████████████████████████████████████████████████████████████████████| 21/21 [00:41<00:00,  1.98s/it]\n"
     ]
    },
    {
     "name": "stdout",
     "output_type": "stream",
     "text": [
      "Reading 0 ... 3820199  =      0.000 ...  3820.199 secs...\n"
     ]
    },
    {
     "name": "stderr",
     "output_type": "stream",
     "text": [
      "C:\\Users\\marco\\AppData\\Local\\Temp\\ipykernel_14260\\1741641518.py:4: RuntimeWarning:   Could not parse meas date from the header. Setting to None.\n",
      "  eeg_raw = mne.io.read_raw_cnt(_path, preload=True)\n"
     ]
    },
    {
     "name": "stdout",
     "output_type": "stream",
     "text": [
      "Filtering raw data in 1 contiguous segment\n",
      "Setting up band-pass filter from 0.5 - 55 Hz\n",
      "\n",
      "FIR filter parameters\n",
      "---------------------\n",
      "Designing a one-pass, zero-phase, non-causal bandpass filter:\n",
      "- Windowed time-domain design (firwin) method\n",
      "- Hamming window with 0.0194 passband ripple and 53 dB stopband attenuation\n",
      "- Lower passband edge: 0.50\n",
      "- Lower transition bandwidth: 0.50 Hz (-6 dB cutoff frequency: 0.25 Hz)\n",
      "- Upper passband edge: 55.00 Hz\n",
      "- Upper transition bandwidth: 13.75 Hz (-6 dB cutoff frequency: 61.88 Hz)\n",
      "- Filter length: 6601 samples (6.601 sec)\n",
      "\n"
     ]
    },
    {
     "name": "stderr",
     "output_type": "stream",
     "text": [
      "\r",
      "Processing:   0%|                                                                               | 0/21 [00:00<?, ?it/s]"
     ]
    },
    {
     "name": "stdout",
     "output_type": "stream",
     "text": [
      "1000.0\n",
      "Writing C:\\Users\\marco\\Documents\\MASTER_DATA_SCIENTIST\\TFM_MSD\\SEED_FRA_OUTPUT\\POSITIVE\\8_2_trial_0_signals.fif\n"
     ]
    },
    {
     "name": "stderr",
     "output_type": "stream",
     "text": [
      "C:\\Users\\marco\\AppData\\Local\\Temp\\ipykernel_14260\\1741641518.py:44: RuntimeWarning: This filename (C:\\Users\\marco\\Documents\\MASTER_DATA_SCIENTIST\\TFM_MSD\\SEED_FRA_OUTPUT\\POSITIVE\\8_2_trial_0_signals.fif) does not conform to MNE naming conventions. All raw files should end with raw.fif, raw_sss.fif, raw_tsss.fif, _meg.fif, _eeg.fif, _ieeg.fif, raw.fif.gz, raw_sss.fif.gz, raw_tsss.fif.gz, _meg.fif.gz, _eeg.fif.gz or _ieeg.fif.gz\n",
      "  eeg_trial.save(output_path, overwrite=True)\n"
     ]
    },
    {
     "name": "stdout",
     "output_type": "stream",
     "text": [
      "Closing C:\\Users\\marco\\Documents\\MASTER_DATA_SCIENTIST\\TFM_MSD\\SEED_FRA_OUTPUT\\POSITIVE\\8_2_trial_0_signals.fif\n",
      "[done]\n"
     ]
    },
    {
     "name": "stderr",
     "output_type": "stream",
     "text": [
      "\r",
      "Processing:   5%|███▍                                                                   | 1/21 [00:01<00:35,  1.79s/it]"
     ]
    },
    {
     "name": "stdout",
     "output_type": "stream",
     "text": [
      "1000.0\n",
      "Writing C:\\Users\\marco\\Documents\\MASTER_DATA_SCIENTIST\\TFM_MSD\\SEED_FRA_OUTPUT\\NEGATIVE\\8_2_trial_1_signals.fif\n"
     ]
    },
    {
     "name": "stderr",
     "output_type": "stream",
     "text": [
      "C:\\Users\\marco\\AppData\\Local\\Temp\\ipykernel_14260\\1741641518.py:44: RuntimeWarning: This filename (C:\\Users\\marco\\Documents\\MASTER_DATA_SCIENTIST\\TFM_MSD\\SEED_FRA_OUTPUT\\NEGATIVE\\8_2_trial_1_signals.fif) does not conform to MNE naming conventions. All raw files should end with raw.fif, raw_sss.fif, raw_tsss.fif, _meg.fif, _eeg.fif, _ieeg.fif, raw.fif.gz, raw_sss.fif.gz, raw_tsss.fif.gz, _meg.fif.gz, _eeg.fif.gz or _ieeg.fif.gz\n",
      "  eeg_trial.save(output_path, overwrite=True)\n"
     ]
    },
    {
     "name": "stdout",
     "output_type": "stream",
     "text": [
      "Closing C:\\Users\\marco\\Documents\\MASTER_DATA_SCIENTIST\\TFM_MSD\\SEED_FRA_OUTPUT\\NEGATIVE\\8_2_trial_1_signals.fif\n",
      "[done]\n"
     ]
    },
    {
     "name": "stderr",
     "output_type": "stream",
     "text": [
      "\r",
      "Processing:  10%|██████▊                                                                | 2/21 [00:03<00:35,  1.84s/it]"
     ]
    },
    {
     "name": "stdout",
     "output_type": "stream",
     "text": [
      "1000.0\n",
      "Writing C:\\Users\\marco\\Documents\\MASTER_DATA_SCIENTIST\\TFM_MSD\\SEED_FRA_OUTPUT\\NEUTRAL\\8_2_trial_2_signals.fif\n"
     ]
    },
    {
     "name": "stderr",
     "output_type": "stream",
     "text": [
      "C:\\Users\\marco\\AppData\\Local\\Temp\\ipykernel_14260\\1741641518.py:44: RuntimeWarning: This filename (C:\\Users\\marco\\Documents\\MASTER_DATA_SCIENTIST\\TFM_MSD\\SEED_FRA_OUTPUT\\NEUTRAL\\8_2_trial_2_signals.fif) does not conform to MNE naming conventions. All raw files should end with raw.fif, raw_sss.fif, raw_tsss.fif, _meg.fif, _eeg.fif, _ieeg.fif, raw.fif.gz, raw_sss.fif.gz, raw_tsss.fif.gz, _meg.fif.gz, _eeg.fif.gz or _ieeg.fif.gz\n",
      "  eeg_trial.save(output_path, overwrite=True)\n"
     ]
    },
    {
     "name": "stdout",
     "output_type": "stream",
     "text": [
      "Closing C:\\Users\\marco\\Documents\\MASTER_DATA_SCIENTIST\\TFM_MSD\\SEED_FRA_OUTPUT\\NEUTRAL\\8_2_trial_2_signals.fif\n",
      "[done]\n"
     ]
    },
    {
     "name": "stderr",
     "output_type": "stream",
     "text": [
      "\r",
      "Processing:  14%|██████████▏                                                            | 3/21 [00:05<00:35,  1.95s/it]"
     ]
    },
    {
     "name": "stdout",
     "output_type": "stream",
     "text": [
      "1000.0\n",
      "Writing C:\\Users\\marco\\Documents\\MASTER_DATA_SCIENTIST\\TFM_MSD\\SEED_FRA_OUTPUT\\NEGATIVE\\8_2_trial_3_signals.fif\n"
     ]
    },
    {
     "name": "stderr",
     "output_type": "stream",
     "text": [
      "C:\\Users\\marco\\AppData\\Local\\Temp\\ipykernel_14260\\1741641518.py:44: RuntimeWarning: This filename (C:\\Users\\marco\\Documents\\MASTER_DATA_SCIENTIST\\TFM_MSD\\SEED_FRA_OUTPUT\\NEGATIVE\\8_2_trial_3_signals.fif) does not conform to MNE naming conventions. All raw files should end with raw.fif, raw_sss.fif, raw_tsss.fif, _meg.fif, _eeg.fif, _ieeg.fif, raw.fif.gz, raw_sss.fif.gz, raw_tsss.fif.gz, _meg.fif.gz, _eeg.fif.gz or _ieeg.fif.gz\n",
      "  eeg_trial.save(output_path, overwrite=True)\n"
     ]
    },
    {
     "name": "stdout",
     "output_type": "stream",
     "text": [
      "Closing C:\\Users\\marco\\Documents\\MASTER_DATA_SCIENTIST\\TFM_MSD\\SEED_FRA_OUTPUT\\NEGATIVE\\8_2_trial_3_signals.fif\n",
      "[done]\n"
     ]
    },
    {
     "name": "stderr",
     "output_type": "stream",
     "text": [
      "\r",
      "Processing:  19%|█████████████▌                                                         | 4/21 [00:07<00:33,  1.95s/it]"
     ]
    },
    {
     "name": "stdout",
     "output_type": "stream",
     "text": [
      "1000.0\n",
      "Writing C:\\Users\\marco\\Documents\\MASTER_DATA_SCIENTIST\\TFM_MSD\\SEED_FRA_OUTPUT\\POSITIVE\\8_2_trial_4_signals.fif\n"
     ]
    },
    {
     "name": "stderr",
     "output_type": "stream",
     "text": [
      "C:\\Users\\marco\\AppData\\Local\\Temp\\ipykernel_14260\\1741641518.py:44: RuntimeWarning: This filename (C:\\Users\\marco\\Documents\\MASTER_DATA_SCIENTIST\\TFM_MSD\\SEED_FRA_OUTPUT\\POSITIVE\\8_2_trial_4_signals.fif) does not conform to MNE naming conventions. All raw files should end with raw.fif, raw_sss.fif, raw_tsss.fif, _meg.fif, _eeg.fif, _ieeg.fif, raw.fif.gz, raw_sss.fif.gz, raw_tsss.fif.gz, _meg.fif.gz, _eeg.fif.gz or _ieeg.fif.gz\n",
      "  eeg_trial.save(output_path, overwrite=True)\n"
     ]
    },
    {
     "name": "stdout",
     "output_type": "stream",
     "text": [
      "Closing C:\\Users\\marco\\Documents\\MASTER_DATA_SCIENTIST\\TFM_MSD\\SEED_FRA_OUTPUT\\POSITIVE\\8_2_trial_4_signals.fif\n",
      "[done]\n"
     ]
    },
    {
     "name": "stderr",
     "output_type": "stream",
     "text": [
      "\r",
      "Processing:  24%|████████████████▉                                                      | 5/21 [00:09<00:30,  1.91s/it]"
     ]
    },
    {
     "name": "stdout",
     "output_type": "stream",
     "text": [
      "1000.0\n",
      "Writing C:\\Users\\marco\\Documents\\MASTER_DATA_SCIENTIST\\TFM_MSD\\SEED_FRA_OUTPUT\\NEUTRAL\\8_2_trial_5_signals.fif\n"
     ]
    },
    {
     "name": "stderr",
     "output_type": "stream",
     "text": [
      "C:\\Users\\marco\\AppData\\Local\\Temp\\ipykernel_14260\\1741641518.py:44: RuntimeWarning: This filename (C:\\Users\\marco\\Documents\\MASTER_DATA_SCIENTIST\\TFM_MSD\\SEED_FRA_OUTPUT\\NEUTRAL\\8_2_trial_5_signals.fif) does not conform to MNE naming conventions. All raw files should end with raw.fif, raw_sss.fif, raw_tsss.fif, _meg.fif, _eeg.fif, _ieeg.fif, raw.fif.gz, raw_sss.fif.gz, raw_tsss.fif.gz, _meg.fif.gz, _eeg.fif.gz or _ieeg.fif.gz\n",
      "  eeg_trial.save(output_path, overwrite=True)\n"
     ]
    },
    {
     "name": "stdout",
     "output_type": "stream",
     "text": [
      "Closing C:\\Users\\marco\\Documents\\MASTER_DATA_SCIENTIST\\TFM_MSD\\SEED_FRA_OUTPUT\\NEUTRAL\\8_2_trial_5_signals.fif\n",
      "[done]\n"
     ]
    },
    {
     "name": "stderr",
     "output_type": "stream",
     "text": [
      "\r",
      "Processing:  29%|████████████████████▎                                                  | 6/21 [00:11<00:28,  1.89s/it]"
     ]
    },
    {
     "name": "stdout",
     "output_type": "stream",
     "text": [
      "1000.0\n",
      "Writing C:\\Users\\marco\\Documents\\MASTER_DATA_SCIENTIST\\TFM_MSD\\SEED_FRA_OUTPUT\\NEGATIVE\\8_2_trial_6_signals.fif\n"
     ]
    },
    {
     "name": "stderr",
     "output_type": "stream",
     "text": [
      "C:\\Users\\marco\\AppData\\Local\\Temp\\ipykernel_14260\\1741641518.py:44: RuntimeWarning: This filename (C:\\Users\\marco\\Documents\\MASTER_DATA_SCIENTIST\\TFM_MSD\\SEED_FRA_OUTPUT\\NEGATIVE\\8_2_trial_6_signals.fif) does not conform to MNE naming conventions. All raw files should end with raw.fif, raw_sss.fif, raw_tsss.fif, _meg.fif, _eeg.fif, _ieeg.fif, raw.fif.gz, raw_sss.fif.gz, raw_tsss.fif.gz, _meg.fif.gz, _eeg.fif.gz or _ieeg.fif.gz\n",
      "  eeg_trial.save(output_path, overwrite=True)\n"
     ]
    },
    {
     "name": "stdout",
     "output_type": "stream",
     "text": [
      "Closing C:\\Users\\marco\\Documents\\MASTER_DATA_SCIENTIST\\TFM_MSD\\SEED_FRA_OUTPUT\\NEGATIVE\\8_2_trial_6_signals.fif\n",
      "[done]\n"
     ]
    },
    {
     "name": "stderr",
     "output_type": "stream",
     "text": [
      "\r",
      "Processing:  33%|███████████████████████▋                                               | 7/21 [00:13<00:27,  1.95s/it]"
     ]
    },
    {
     "name": "stdout",
     "output_type": "stream",
     "text": [
      "1000.0\n",
      "Writing C:\\Users\\marco\\Documents\\MASTER_DATA_SCIENTIST\\TFM_MSD\\SEED_FRA_OUTPUT\\NEUTRAL\\8_2_trial_7_signals.fif\n"
     ]
    },
    {
     "name": "stderr",
     "output_type": "stream",
     "text": [
      "C:\\Users\\marco\\AppData\\Local\\Temp\\ipykernel_14260\\1741641518.py:44: RuntimeWarning: This filename (C:\\Users\\marco\\Documents\\MASTER_DATA_SCIENTIST\\TFM_MSD\\SEED_FRA_OUTPUT\\NEUTRAL\\8_2_trial_7_signals.fif) does not conform to MNE naming conventions. All raw files should end with raw.fif, raw_sss.fif, raw_tsss.fif, _meg.fif, _eeg.fif, _ieeg.fif, raw.fif.gz, raw_sss.fif.gz, raw_tsss.fif.gz, _meg.fif.gz, _eeg.fif.gz or _ieeg.fif.gz\n",
      "  eeg_trial.save(output_path, overwrite=True)\n"
     ]
    },
    {
     "name": "stdout",
     "output_type": "stream",
     "text": [
      "Closing C:\\Users\\marco\\Documents\\MASTER_DATA_SCIENTIST\\TFM_MSD\\SEED_FRA_OUTPUT\\NEUTRAL\\8_2_trial_7_signals.fif\n",
      "[done]\n"
     ]
    },
    {
     "name": "stderr",
     "output_type": "stream",
     "text": [
      "\r",
      "Processing:  38%|███████████████████████████                                            | 8/21 [00:15<00:24,  1.91s/it]"
     ]
    },
    {
     "name": "stdout",
     "output_type": "stream",
     "text": [
      "1000.0\n",
      "Writing C:\\Users\\marco\\Documents\\MASTER_DATA_SCIENTIST\\TFM_MSD\\SEED_FRA_OUTPUT\\POSITIVE\\8_2_trial_8_signals.fif\n"
     ]
    },
    {
     "name": "stderr",
     "output_type": "stream",
     "text": [
      "C:\\Users\\marco\\AppData\\Local\\Temp\\ipykernel_14260\\1741641518.py:44: RuntimeWarning: This filename (C:\\Users\\marco\\Documents\\MASTER_DATA_SCIENTIST\\TFM_MSD\\SEED_FRA_OUTPUT\\POSITIVE\\8_2_trial_8_signals.fif) does not conform to MNE naming conventions. All raw files should end with raw.fif, raw_sss.fif, raw_tsss.fif, _meg.fif, _eeg.fif, _ieeg.fif, raw.fif.gz, raw_sss.fif.gz, raw_tsss.fif.gz, _meg.fif.gz, _eeg.fif.gz or _ieeg.fif.gz\n",
      "  eeg_trial.save(output_path, overwrite=True)\n"
     ]
    },
    {
     "name": "stdout",
     "output_type": "stream",
     "text": [
      "Closing C:\\Users\\marco\\Documents\\MASTER_DATA_SCIENTIST\\TFM_MSD\\SEED_FRA_OUTPUT\\POSITIVE\\8_2_trial_8_signals.fif\n",
      "[done]\n"
     ]
    },
    {
     "name": "stderr",
     "output_type": "stream",
     "text": [
      "\r",
      "Processing:  43%|██████████████████████████████▍                                        | 9/21 [00:17<00:23,  1.93s/it]"
     ]
    },
    {
     "name": "stdout",
     "output_type": "stream",
     "text": [
      "1000.0\n",
      "Writing C:\\Users\\marco\\Documents\\MASTER_DATA_SCIENTIST\\TFM_MSD\\SEED_FRA_OUTPUT\\NEGATIVE\\8_2_trial_9_signals.fif\n"
     ]
    },
    {
     "name": "stderr",
     "output_type": "stream",
     "text": [
      "C:\\Users\\marco\\AppData\\Local\\Temp\\ipykernel_14260\\1741641518.py:44: RuntimeWarning: This filename (C:\\Users\\marco\\Documents\\MASTER_DATA_SCIENTIST\\TFM_MSD\\SEED_FRA_OUTPUT\\NEGATIVE\\8_2_trial_9_signals.fif) does not conform to MNE naming conventions. All raw files should end with raw.fif, raw_sss.fif, raw_tsss.fif, _meg.fif, _eeg.fif, _ieeg.fif, raw.fif.gz, raw_sss.fif.gz, raw_tsss.fif.gz, _meg.fif.gz, _eeg.fif.gz or _ieeg.fif.gz\n",
      "  eeg_trial.save(output_path, overwrite=True)\n"
     ]
    },
    {
     "name": "stdout",
     "output_type": "stream",
     "text": [
      "Closing C:\\Users\\marco\\Documents\\MASTER_DATA_SCIENTIST\\TFM_MSD\\SEED_FRA_OUTPUT\\NEGATIVE\\8_2_trial_9_signals.fif\n",
      "[done]\n"
     ]
    },
    {
     "name": "stderr",
     "output_type": "stream",
     "text": [
      "\r",
      "Processing:  48%|█████████████████████████████████▎                                    | 10/21 [00:19<00:22,  2.05s/it]"
     ]
    },
    {
     "name": "stdout",
     "output_type": "stream",
     "text": [
      "1000.0\n",
      "Writing C:\\Users\\marco\\Documents\\MASTER_DATA_SCIENTIST\\TFM_MSD\\SEED_FRA_OUTPUT\\NEUTRAL\\8_2_trial_10_signals.fif\n"
     ]
    },
    {
     "name": "stderr",
     "output_type": "stream",
     "text": [
      "C:\\Users\\marco\\AppData\\Local\\Temp\\ipykernel_14260\\1741641518.py:44: RuntimeWarning: This filename (C:\\Users\\marco\\Documents\\MASTER_DATA_SCIENTIST\\TFM_MSD\\SEED_FRA_OUTPUT\\NEUTRAL\\8_2_trial_10_signals.fif) does not conform to MNE naming conventions. All raw files should end with raw.fif, raw_sss.fif, raw_tsss.fif, _meg.fif, _eeg.fif, _ieeg.fif, raw.fif.gz, raw_sss.fif.gz, raw_tsss.fif.gz, _meg.fif.gz, _eeg.fif.gz or _ieeg.fif.gz\n",
      "  eeg_trial.save(output_path, overwrite=True)\n"
     ]
    },
    {
     "name": "stdout",
     "output_type": "stream",
     "text": [
      "Closing C:\\Users\\marco\\Documents\\MASTER_DATA_SCIENTIST\\TFM_MSD\\SEED_FRA_OUTPUT\\NEUTRAL\\8_2_trial_10_signals.fif\n",
      "[done]\n"
     ]
    },
    {
     "name": "stderr",
     "output_type": "stream",
     "text": [
      "\r",
      "Processing:  52%|████████████████████████████████████▋                                 | 11/21 [00:21<00:20,  2.02s/it]"
     ]
    },
    {
     "name": "stdout",
     "output_type": "stream",
     "text": [
      "1000.0\n",
      "Writing C:\\Users\\marco\\Documents\\MASTER_DATA_SCIENTIST\\TFM_MSD\\SEED_FRA_OUTPUT\\POSITIVE\\8_2_trial_11_signals.fif\n"
     ]
    },
    {
     "name": "stderr",
     "output_type": "stream",
     "text": [
      "C:\\Users\\marco\\AppData\\Local\\Temp\\ipykernel_14260\\1741641518.py:44: RuntimeWarning: This filename (C:\\Users\\marco\\Documents\\MASTER_DATA_SCIENTIST\\TFM_MSD\\SEED_FRA_OUTPUT\\POSITIVE\\8_2_trial_11_signals.fif) does not conform to MNE naming conventions. All raw files should end with raw.fif, raw_sss.fif, raw_tsss.fif, _meg.fif, _eeg.fif, _ieeg.fif, raw.fif.gz, raw_sss.fif.gz, raw_tsss.fif.gz, _meg.fif.gz, _eeg.fif.gz or _ieeg.fif.gz\n",
      "  eeg_trial.save(output_path, overwrite=True)\n"
     ]
    },
    {
     "name": "stdout",
     "output_type": "stream",
     "text": [
      "Closing C:\\Users\\marco\\Documents\\MASTER_DATA_SCIENTIST\\TFM_MSD\\SEED_FRA_OUTPUT\\POSITIVE\\8_2_trial_11_signals.fif\n",
      "[done]\n"
     ]
    },
    {
     "name": "stderr",
     "output_type": "stream",
     "text": [
      "\r",
      "Processing:  57%|████████████████████████████████████████                              | 12/21 [00:23<00:17,  1.98s/it]"
     ]
    },
    {
     "name": "stdout",
     "output_type": "stream",
     "text": [
      "1000.0\n",
      "Writing C:\\Users\\marco\\Documents\\MASTER_DATA_SCIENTIST\\TFM_MSD\\SEED_FRA_OUTPUT\\POSITIVE\\8_2_trial_12_signals.fif\n"
     ]
    },
    {
     "name": "stderr",
     "output_type": "stream",
     "text": [
      "C:\\Users\\marco\\AppData\\Local\\Temp\\ipykernel_14260\\1741641518.py:44: RuntimeWarning: This filename (C:\\Users\\marco\\Documents\\MASTER_DATA_SCIENTIST\\TFM_MSD\\SEED_FRA_OUTPUT\\POSITIVE\\8_2_trial_12_signals.fif) does not conform to MNE naming conventions. All raw files should end with raw.fif, raw_sss.fif, raw_tsss.fif, _meg.fif, _eeg.fif, _ieeg.fif, raw.fif.gz, raw_sss.fif.gz, raw_tsss.fif.gz, _meg.fif.gz, _eeg.fif.gz or _ieeg.fif.gz\n",
      "  eeg_trial.save(output_path, overwrite=True)\n"
     ]
    },
    {
     "name": "stdout",
     "output_type": "stream",
     "text": [
      "Closing C:\\Users\\marco\\Documents\\MASTER_DATA_SCIENTIST\\TFM_MSD\\SEED_FRA_OUTPUT\\POSITIVE\\8_2_trial_12_signals.fif\n",
      "[done]\n"
     ]
    },
    {
     "name": "stderr",
     "output_type": "stream",
     "text": [
      "\r",
      "Processing:  62%|███████████████████████████████████████████▎                          | 13/21 [00:25<00:15,  1.89s/it]"
     ]
    },
    {
     "name": "stdout",
     "output_type": "stream",
     "text": [
      "1000.0\n",
      "Writing C:\\Users\\marco\\Documents\\MASTER_DATA_SCIENTIST\\TFM_MSD\\SEED_FRA_OUTPUT\\NEUTRAL\\8_2_trial_13_signals.fif\n"
     ]
    },
    {
     "name": "stderr",
     "output_type": "stream",
     "text": [
      "C:\\Users\\marco\\AppData\\Local\\Temp\\ipykernel_14260\\1741641518.py:44: RuntimeWarning: This filename (C:\\Users\\marco\\Documents\\MASTER_DATA_SCIENTIST\\TFM_MSD\\SEED_FRA_OUTPUT\\NEUTRAL\\8_2_trial_13_signals.fif) does not conform to MNE naming conventions. All raw files should end with raw.fif, raw_sss.fif, raw_tsss.fif, _meg.fif, _eeg.fif, _ieeg.fif, raw.fif.gz, raw_sss.fif.gz, raw_tsss.fif.gz, _meg.fif.gz, _eeg.fif.gz or _ieeg.fif.gz\n",
      "  eeg_trial.save(output_path, overwrite=True)\n"
     ]
    },
    {
     "name": "stdout",
     "output_type": "stream",
     "text": [
      "Closing C:\\Users\\marco\\Documents\\MASTER_DATA_SCIENTIST\\TFM_MSD\\SEED_FRA_OUTPUT\\NEUTRAL\\8_2_trial_13_signals.fif\n",
      "[done]\n"
     ]
    },
    {
     "name": "stderr",
     "output_type": "stream",
     "text": [
      "\r",
      "Processing:  67%|██████████████████████████████████████████████▋                       | 14/21 [00:27<00:13,  1.90s/it]"
     ]
    },
    {
     "name": "stdout",
     "output_type": "stream",
     "text": [
      "1000.0\n",
      "Writing C:\\Users\\marco\\Documents\\MASTER_DATA_SCIENTIST\\TFM_MSD\\SEED_FRA_OUTPUT\\NEGATIVE\\8_2_trial_14_signals.fif\n"
     ]
    },
    {
     "name": "stderr",
     "output_type": "stream",
     "text": [
      "C:\\Users\\marco\\AppData\\Local\\Temp\\ipykernel_14260\\1741641518.py:44: RuntimeWarning: This filename (C:\\Users\\marco\\Documents\\MASTER_DATA_SCIENTIST\\TFM_MSD\\SEED_FRA_OUTPUT\\NEGATIVE\\8_2_trial_14_signals.fif) does not conform to MNE naming conventions. All raw files should end with raw.fif, raw_sss.fif, raw_tsss.fif, _meg.fif, _eeg.fif, _ieeg.fif, raw.fif.gz, raw_sss.fif.gz, raw_tsss.fif.gz, _meg.fif.gz, _eeg.fif.gz or _ieeg.fif.gz\n",
      "  eeg_trial.save(output_path, overwrite=True)\n"
     ]
    },
    {
     "name": "stdout",
     "output_type": "stream",
     "text": [
      "Closing C:\\Users\\marco\\Documents\\MASTER_DATA_SCIENTIST\\TFM_MSD\\SEED_FRA_OUTPUT\\NEGATIVE\\8_2_trial_14_signals.fif\n",
      "[done]\n"
     ]
    },
    {
     "name": "stderr",
     "output_type": "stream",
     "text": [
      "\r",
      "Processing:  71%|██████████████████████████████████████████████████                    | 15/21 [00:29<00:11,  1.93s/it]"
     ]
    },
    {
     "name": "stdout",
     "output_type": "stream",
     "text": [
      "1000.0\n",
      "Writing C:\\Users\\marco\\Documents\\MASTER_DATA_SCIENTIST\\TFM_MSD\\SEED_FRA_OUTPUT\\NEGATIVE\\8_2_trial_15_signals.fif\n",
      "Closing C:\\Users\\marco\\Documents\\MASTER_DATA_SCIENTIST\\TFM_MSD\\SEED_FRA_OUTPUT\\NEGATIVE\\8_2_trial_15_signals.fif\n",
      "[done]\n"
     ]
    },
    {
     "name": "stderr",
     "output_type": "stream",
     "text": [
      "C:\\Users\\marco\\AppData\\Local\\Temp\\ipykernel_14260\\1741641518.py:44: RuntimeWarning: This filename (C:\\Users\\marco\\Documents\\MASTER_DATA_SCIENTIST\\TFM_MSD\\SEED_FRA_OUTPUT\\NEGATIVE\\8_2_trial_15_signals.fif) does not conform to MNE naming conventions. All raw files should end with raw.fif, raw_sss.fif, raw_tsss.fif, _meg.fif, _eeg.fif, _ieeg.fif, raw.fif.gz, raw_sss.fif.gz, raw_tsss.fif.gz, _meg.fif.gz, _eeg.fif.gz or _ieeg.fif.gz\n",
      "  eeg_trial.save(output_path, overwrite=True)\n",
      "\r",
      "Processing:  76%|█████████████████████████████████████████████████████▎                | 16/21 [00:30<00:09,  1.90s/it]"
     ]
    },
    {
     "name": "stdout",
     "output_type": "stream",
     "text": [
      "1000.0\n",
      "Writing C:\\Users\\marco\\Documents\\MASTER_DATA_SCIENTIST\\TFM_MSD\\SEED_FRA_OUTPUT\\NEUTRAL\\8_2_trial_16_signals.fif\n"
     ]
    },
    {
     "name": "stderr",
     "output_type": "stream",
     "text": [
      "C:\\Users\\marco\\AppData\\Local\\Temp\\ipykernel_14260\\1741641518.py:44: RuntimeWarning: This filename (C:\\Users\\marco\\Documents\\MASTER_DATA_SCIENTIST\\TFM_MSD\\SEED_FRA_OUTPUT\\NEUTRAL\\8_2_trial_16_signals.fif) does not conform to MNE naming conventions. All raw files should end with raw.fif, raw_sss.fif, raw_tsss.fif, _meg.fif, _eeg.fif, _ieeg.fif, raw.fif.gz, raw_sss.fif.gz, raw_tsss.fif.gz, _meg.fif.gz, _eeg.fif.gz or _ieeg.fif.gz\n",
      "  eeg_trial.save(output_path, overwrite=True)\n"
     ]
    },
    {
     "name": "stdout",
     "output_type": "stream",
     "text": [
      "Closing C:\\Users\\marco\\Documents\\MASTER_DATA_SCIENTIST\\TFM_MSD\\SEED_FRA_OUTPUT\\NEUTRAL\\8_2_trial_16_signals.fif\n",
      "[done]\n"
     ]
    },
    {
     "name": "stderr",
     "output_type": "stream",
     "text": [
      "\r",
      "Processing:  81%|████████████████████████████████████████████████████████▋             | 17/21 [00:33<00:07,  2.00s/it]"
     ]
    },
    {
     "name": "stdout",
     "output_type": "stream",
     "text": [
      "1000.0\n",
      "Writing C:\\Users\\marco\\Documents\\MASTER_DATA_SCIENTIST\\TFM_MSD\\SEED_FRA_OUTPUT\\POSITIVE\\8_2_trial_17_signals.fif\n"
     ]
    },
    {
     "name": "stderr",
     "output_type": "stream",
     "text": [
      "C:\\Users\\marco\\AppData\\Local\\Temp\\ipykernel_14260\\1741641518.py:44: RuntimeWarning: This filename (C:\\Users\\marco\\Documents\\MASTER_DATA_SCIENTIST\\TFM_MSD\\SEED_FRA_OUTPUT\\POSITIVE\\8_2_trial_17_signals.fif) does not conform to MNE naming conventions. All raw files should end with raw.fif, raw_sss.fif, raw_tsss.fif, _meg.fif, _eeg.fif, _ieeg.fif, raw.fif.gz, raw_sss.fif.gz, raw_tsss.fif.gz, _meg.fif.gz, _eeg.fif.gz or _ieeg.fif.gz\n",
      "  eeg_trial.save(output_path, overwrite=True)\n"
     ]
    },
    {
     "name": "stdout",
     "output_type": "stream",
     "text": [
      "Closing C:\\Users\\marco\\Documents\\MASTER_DATA_SCIENTIST\\TFM_MSD\\SEED_FRA_OUTPUT\\POSITIVE\\8_2_trial_17_signals.fif\n",
      "[done]\n"
     ]
    },
    {
     "name": "stderr",
     "output_type": "stream",
     "text": [
      "\r",
      "Processing:  86%|████████████████████████████████████████████████████████████          | 18/21 [00:35<00:05,  1.97s/it]"
     ]
    },
    {
     "name": "stdout",
     "output_type": "stream",
     "text": [
      "1000.0\n",
      "Writing C:\\Users\\marco\\Documents\\MASTER_DATA_SCIENTIST\\TFM_MSD\\SEED_FRA_OUTPUT\\NEGATIVE\\8_2_trial_18_signals.fif\n"
     ]
    },
    {
     "name": "stderr",
     "output_type": "stream",
     "text": [
      "C:\\Users\\marco\\AppData\\Local\\Temp\\ipykernel_14260\\1741641518.py:44: RuntimeWarning: This filename (C:\\Users\\marco\\Documents\\MASTER_DATA_SCIENTIST\\TFM_MSD\\SEED_FRA_OUTPUT\\NEGATIVE\\8_2_trial_18_signals.fif) does not conform to MNE naming conventions. All raw files should end with raw.fif, raw_sss.fif, raw_tsss.fif, _meg.fif, _eeg.fif, _ieeg.fif, raw.fif.gz, raw_sss.fif.gz, raw_tsss.fif.gz, _meg.fif.gz, _eeg.fif.gz or _ieeg.fif.gz\n",
      "  eeg_trial.save(output_path, overwrite=True)\n"
     ]
    },
    {
     "name": "stdout",
     "output_type": "stream",
     "text": [
      "Closing C:\\Users\\marco\\Documents\\MASTER_DATA_SCIENTIST\\TFM_MSD\\SEED_FRA_OUTPUT\\NEGATIVE\\8_2_trial_18_signals.fif\n",
      "[done]\n"
     ]
    },
    {
     "name": "stderr",
     "output_type": "stream",
     "text": [
      "\r",
      "Processing:  90%|███████████████████████████████████████████████████████████████▎      | 19/21 [00:36<00:03,  1.96s/it]"
     ]
    },
    {
     "name": "stdout",
     "output_type": "stream",
     "text": [
      "1000.0\n",
      "Writing C:\\Users\\marco\\Documents\\MASTER_DATA_SCIENTIST\\TFM_MSD\\SEED_FRA_OUTPUT\\NEUTRAL\\8_2_trial_19_signals.fif\n",
      "Closing C:\\Users\\marco\\Documents\\MASTER_DATA_SCIENTIST\\TFM_MSD\\SEED_FRA_OUTPUT\\NEUTRAL\\8_2_trial_19_signals.fif\n"
     ]
    },
    {
     "name": "stderr",
     "output_type": "stream",
     "text": [
      "C:\\Users\\marco\\AppData\\Local\\Temp\\ipykernel_14260\\1741641518.py:44: RuntimeWarning: This filename (C:\\Users\\marco\\Documents\\MASTER_DATA_SCIENTIST\\TFM_MSD\\SEED_FRA_OUTPUT\\NEUTRAL\\8_2_trial_19_signals.fif) does not conform to MNE naming conventions. All raw files should end with raw.fif, raw_sss.fif, raw_tsss.fif, _meg.fif, _eeg.fif, _ieeg.fif, raw.fif.gz, raw_sss.fif.gz, raw_tsss.fif.gz, _meg.fif.gz, _eeg.fif.gz or _ieeg.fif.gz\n",
      "  eeg_trial.save(output_path, overwrite=True)\n"
     ]
    },
    {
     "name": "stdout",
     "output_type": "stream",
     "text": [
      "[done]\n"
     ]
    },
    {
     "name": "stderr",
     "output_type": "stream",
     "text": [
      "\r",
      "Processing:  95%|██████████████████████████████████████████████████████████████████▋   | 20/21 [00:38<00:01,  1.90s/it]"
     ]
    },
    {
     "name": "stdout",
     "output_type": "stream",
     "text": [
      "1000.0\n",
      "Writing C:\\Users\\marco\\Documents\\MASTER_DATA_SCIENTIST\\TFM_MSD\\SEED_FRA_OUTPUT\\POSITIVE\\8_2_trial_20_signals.fif\n"
     ]
    },
    {
     "name": "stderr",
     "output_type": "stream",
     "text": [
      "C:\\Users\\marco\\AppData\\Local\\Temp\\ipykernel_14260\\1741641518.py:44: RuntimeWarning: This filename (C:\\Users\\marco\\Documents\\MASTER_DATA_SCIENTIST\\TFM_MSD\\SEED_FRA_OUTPUT\\POSITIVE\\8_2_trial_20_signals.fif) does not conform to MNE naming conventions. All raw files should end with raw.fif, raw_sss.fif, raw_tsss.fif, _meg.fif, _eeg.fif, _ieeg.fif, raw.fif.gz, raw_sss.fif.gz, raw_tsss.fif.gz, _meg.fif.gz, _eeg.fif.gz or _ieeg.fif.gz\n",
      "  eeg_trial.save(output_path, overwrite=True)\n"
     ]
    },
    {
     "name": "stdout",
     "output_type": "stream",
     "text": [
      "Closing C:\\Users\\marco\\Documents\\MASTER_DATA_SCIENTIST\\TFM_MSD\\SEED_FRA_OUTPUT\\POSITIVE\\8_2_trial_20_signals.fif\n",
      "[done]\n"
     ]
    },
    {
     "name": "stderr",
     "output_type": "stream",
     "text": [
      "Processing: 100%|██████████████████████████████████████████████████████████████████████| 21/21 [00:40<00:00,  1.92s/it]\n"
     ]
    },
    {
     "name": "stdout",
     "output_type": "stream",
     "text": [
      "Reading 0 ... 3817719  =      0.000 ...  3817.719 secs...\n"
     ]
    },
    {
     "name": "stderr",
     "output_type": "stream",
     "text": [
      "C:\\Users\\marco\\AppData\\Local\\Temp\\ipykernel_14260\\1741641518.py:4: RuntimeWarning:   Could not parse meas date from the header. Setting to None.\n",
      "  eeg_raw = mne.io.read_raw_cnt(_path, preload=True)\n"
     ]
    },
    {
     "name": "stdout",
     "output_type": "stream",
     "text": [
      "Filtering raw data in 1 contiguous segment\n",
      "Setting up band-pass filter from 0.5 - 55 Hz\n",
      "\n",
      "FIR filter parameters\n",
      "---------------------\n",
      "Designing a one-pass, zero-phase, non-causal bandpass filter:\n",
      "- Windowed time-domain design (firwin) method\n",
      "- Hamming window with 0.0194 passband ripple and 53 dB stopband attenuation\n",
      "- Lower passband edge: 0.50\n",
      "- Lower transition bandwidth: 0.50 Hz (-6 dB cutoff frequency: 0.25 Hz)\n",
      "- Upper passband edge: 55.00 Hz\n",
      "- Upper transition bandwidth: 13.75 Hz (-6 dB cutoff frequency: 61.88 Hz)\n",
      "- Filter length: 6601 samples (6.601 sec)\n",
      "\n"
     ]
    },
    {
     "name": "stderr",
     "output_type": "stream",
     "text": [
      "\r",
      "Processing:   0%|                                                                               | 0/21 [00:00<?, ?it/s]"
     ]
    },
    {
     "name": "stdout",
     "output_type": "stream",
     "text": [
      "1000.0\n",
      "Writing C:\\Users\\marco\\Documents\\MASTER_DATA_SCIENTIST\\TFM_MSD\\SEED_FRA_OUTPUT\\POSITIVE\\8_3_trial_0_signals.fif\n"
     ]
    },
    {
     "name": "stderr",
     "output_type": "stream",
     "text": [
      "C:\\Users\\marco\\AppData\\Local\\Temp\\ipykernel_14260\\1741641518.py:44: RuntimeWarning: This filename (C:\\Users\\marco\\Documents\\MASTER_DATA_SCIENTIST\\TFM_MSD\\SEED_FRA_OUTPUT\\POSITIVE\\8_3_trial_0_signals.fif) does not conform to MNE naming conventions. All raw files should end with raw.fif, raw_sss.fif, raw_tsss.fif, _meg.fif, _eeg.fif, _ieeg.fif, raw.fif.gz, raw_sss.fif.gz, raw_tsss.fif.gz, _meg.fif.gz, _eeg.fif.gz or _ieeg.fif.gz\n",
      "  eeg_trial.save(output_path, overwrite=True)\n"
     ]
    },
    {
     "name": "stdout",
     "output_type": "stream",
     "text": [
      "Closing C:\\Users\\marco\\Documents\\MASTER_DATA_SCIENTIST\\TFM_MSD\\SEED_FRA_OUTPUT\\POSITIVE\\8_3_trial_0_signals.fif\n",
      "[done]\n"
     ]
    },
    {
     "name": "stderr",
     "output_type": "stream",
     "text": [
      "\r",
      "Processing:   5%|███▍                                                                   | 1/21 [00:01<00:33,  1.66s/it]"
     ]
    },
    {
     "name": "stdout",
     "output_type": "stream",
     "text": [
      "1000.0\n",
      "Writing C:\\Users\\marco\\Documents\\MASTER_DATA_SCIENTIST\\TFM_MSD\\SEED_FRA_OUTPUT\\NEGATIVE\\8_3_trial_1_signals.fif\n"
     ]
    },
    {
     "name": "stderr",
     "output_type": "stream",
     "text": [
      "C:\\Users\\marco\\AppData\\Local\\Temp\\ipykernel_14260\\1741641518.py:44: RuntimeWarning: This filename (C:\\Users\\marco\\Documents\\MASTER_DATA_SCIENTIST\\TFM_MSD\\SEED_FRA_OUTPUT\\NEGATIVE\\8_3_trial_1_signals.fif) does not conform to MNE naming conventions. All raw files should end with raw.fif, raw_sss.fif, raw_tsss.fif, _meg.fif, _eeg.fif, _ieeg.fif, raw.fif.gz, raw_sss.fif.gz, raw_tsss.fif.gz, _meg.fif.gz, _eeg.fif.gz or _ieeg.fif.gz\n",
      "  eeg_trial.save(output_path, overwrite=True)\n"
     ]
    },
    {
     "name": "stdout",
     "output_type": "stream",
     "text": [
      "Closing C:\\Users\\marco\\Documents\\MASTER_DATA_SCIENTIST\\TFM_MSD\\SEED_FRA_OUTPUT\\NEGATIVE\\8_3_trial_1_signals.fif\n",
      "[done]\n"
     ]
    },
    {
     "name": "stderr",
     "output_type": "stream",
     "text": [
      "\r",
      "Processing:  10%|██████▊                                                                | 2/21 [00:03<00:37,  2.00s/it]"
     ]
    },
    {
     "name": "stdout",
     "output_type": "stream",
     "text": [
      "1000.0\n",
      "Writing C:\\Users\\marco\\Documents\\MASTER_DATA_SCIENTIST\\TFM_MSD\\SEED_FRA_OUTPUT\\NEUTRAL\\8_3_trial_2_signals.fif\n"
     ]
    },
    {
     "name": "stderr",
     "output_type": "stream",
     "text": [
      "C:\\Users\\marco\\AppData\\Local\\Temp\\ipykernel_14260\\1741641518.py:44: RuntimeWarning: This filename (C:\\Users\\marco\\Documents\\MASTER_DATA_SCIENTIST\\TFM_MSD\\SEED_FRA_OUTPUT\\NEUTRAL\\8_3_trial_2_signals.fif) does not conform to MNE naming conventions. All raw files should end with raw.fif, raw_sss.fif, raw_tsss.fif, _meg.fif, _eeg.fif, _ieeg.fif, raw.fif.gz, raw_sss.fif.gz, raw_tsss.fif.gz, _meg.fif.gz, _eeg.fif.gz or _ieeg.fif.gz\n",
      "  eeg_trial.save(output_path, overwrite=True)\n"
     ]
    },
    {
     "name": "stdout",
     "output_type": "stream",
     "text": [
      "Closing C:\\Users\\marco\\Documents\\MASTER_DATA_SCIENTIST\\TFM_MSD\\SEED_FRA_OUTPUT\\NEUTRAL\\8_3_trial_2_signals.fif\n",
      "[done]\n"
     ]
    },
    {
     "name": "stderr",
     "output_type": "stream",
     "text": [
      "\r",
      "Processing:  14%|██████████▏                                                            | 3/21 [00:05<00:34,  1.93s/it]"
     ]
    },
    {
     "name": "stdout",
     "output_type": "stream",
     "text": [
      "1000.0\n",
      "Writing C:\\Users\\marco\\Documents\\MASTER_DATA_SCIENTIST\\TFM_MSD\\SEED_FRA_OUTPUT\\NEGATIVE\\8_3_trial_3_signals.fif\n"
     ]
    },
    {
     "name": "stderr",
     "output_type": "stream",
     "text": [
      "C:\\Users\\marco\\AppData\\Local\\Temp\\ipykernel_14260\\1741641518.py:44: RuntimeWarning: This filename (C:\\Users\\marco\\Documents\\MASTER_DATA_SCIENTIST\\TFM_MSD\\SEED_FRA_OUTPUT\\NEGATIVE\\8_3_trial_3_signals.fif) does not conform to MNE naming conventions. All raw files should end with raw.fif, raw_sss.fif, raw_tsss.fif, _meg.fif, _eeg.fif, _ieeg.fif, raw.fif.gz, raw_sss.fif.gz, raw_tsss.fif.gz, _meg.fif.gz, _eeg.fif.gz or _ieeg.fif.gz\n",
      "  eeg_trial.save(output_path, overwrite=True)\n"
     ]
    },
    {
     "name": "stdout",
     "output_type": "stream",
     "text": [
      "Closing C:\\Users\\marco\\Documents\\MASTER_DATA_SCIENTIST\\TFM_MSD\\SEED_FRA_OUTPUT\\NEGATIVE\\8_3_trial_3_signals.fif\n",
      "[done]\n"
     ]
    },
    {
     "name": "stderr",
     "output_type": "stream",
     "text": [
      "\r",
      "Processing:  19%|█████████████▌                                                         | 4/21 [00:08<00:35,  2.10s/it]"
     ]
    },
    {
     "name": "stdout",
     "output_type": "stream",
     "text": [
      "1000.0\n",
      "Writing C:\\Users\\marco\\Documents\\MASTER_DATA_SCIENTIST\\TFM_MSD\\SEED_FRA_OUTPUT\\POSITIVE\\8_3_trial_4_signals.fif\n"
     ]
    },
    {
     "name": "stderr",
     "output_type": "stream",
     "text": [
      "C:\\Users\\marco\\AppData\\Local\\Temp\\ipykernel_14260\\1741641518.py:44: RuntimeWarning: This filename (C:\\Users\\marco\\Documents\\MASTER_DATA_SCIENTIST\\TFM_MSD\\SEED_FRA_OUTPUT\\POSITIVE\\8_3_trial_4_signals.fif) does not conform to MNE naming conventions. All raw files should end with raw.fif, raw_sss.fif, raw_tsss.fif, _meg.fif, _eeg.fif, _ieeg.fif, raw.fif.gz, raw_sss.fif.gz, raw_tsss.fif.gz, _meg.fif.gz, _eeg.fif.gz or _ieeg.fif.gz\n",
      "  eeg_trial.save(output_path, overwrite=True)\n"
     ]
    },
    {
     "name": "stdout",
     "output_type": "stream",
     "text": [
      "Closing C:\\Users\\marco\\Documents\\MASTER_DATA_SCIENTIST\\TFM_MSD\\SEED_FRA_OUTPUT\\POSITIVE\\8_3_trial_4_signals.fif\n",
      "[done]\n"
     ]
    },
    {
     "name": "stderr",
     "output_type": "stream",
     "text": [
      "\r",
      "Processing:  24%|████████████████▉                                                      | 5/21 [00:10<00:32,  2.04s/it]"
     ]
    },
    {
     "name": "stdout",
     "output_type": "stream",
     "text": [
      "1000.0\n",
      "Writing C:\\Users\\marco\\Documents\\MASTER_DATA_SCIENTIST\\TFM_MSD\\SEED_FRA_OUTPUT\\NEUTRAL\\8_3_trial_5_signals.fif\n"
     ]
    },
    {
     "name": "stderr",
     "output_type": "stream",
     "text": [
      "C:\\Users\\marco\\AppData\\Local\\Temp\\ipykernel_14260\\1741641518.py:44: RuntimeWarning: This filename (C:\\Users\\marco\\Documents\\MASTER_DATA_SCIENTIST\\TFM_MSD\\SEED_FRA_OUTPUT\\NEUTRAL\\8_3_trial_5_signals.fif) does not conform to MNE naming conventions. All raw files should end with raw.fif, raw_sss.fif, raw_tsss.fif, _meg.fif, _eeg.fif, _ieeg.fif, raw.fif.gz, raw_sss.fif.gz, raw_tsss.fif.gz, _meg.fif.gz, _eeg.fif.gz or _ieeg.fif.gz\n",
      "  eeg_trial.save(output_path, overwrite=True)\n"
     ]
    },
    {
     "name": "stdout",
     "output_type": "stream",
     "text": [
      "Closing C:\\Users\\marco\\Documents\\MASTER_DATA_SCIENTIST\\TFM_MSD\\SEED_FRA_OUTPUT\\NEUTRAL\\8_3_trial_5_signals.fif\n",
      "[done]\n"
     ]
    },
    {
     "name": "stderr",
     "output_type": "stream",
     "text": [
      "\r",
      "Processing:  29%|████████████████████▎                                                  | 6/21 [00:11<00:29,  2.00s/it]"
     ]
    },
    {
     "name": "stdout",
     "output_type": "stream",
     "text": [
      "1000.0\n",
      "Writing C:\\Users\\marco\\Documents\\MASTER_DATA_SCIENTIST\\TFM_MSD\\SEED_FRA_OUTPUT\\NEGATIVE\\8_3_trial_6_signals.fif\n"
     ]
    },
    {
     "name": "stderr",
     "output_type": "stream",
     "text": [
      "C:\\Users\\marco\\AppData\\Local\\Temp\\ipykernel_14260\\1741641518.py:44: RuntimeWarning: This filename (C:\\Users\\marco\\Documents\\MASTER_DATA_SCIENTIST\\TFM_MSD\\SEED_FRA_OUTPUT\\NEGATIVE\\8_3_trial_6_signals.fif) does not conform to MNE naming conventions. All raw files should end with raw.fif, raw_sss.fif, raw_tsss.fif, _meg.fif, _eeg.fif, _ieeg.fif, raw.fif.gz, raw_sss.fif.gz, raw_tsss.fif.gz, _meg.fif.gz, _eeg.fif.gz or _ieeg.fif.gz\n",
      "  eeg_trial.save(output_path, overwrite=True)\n"
     ]
    },
    {
     "name": "stdout",
     "output_type": "stream",
     "text": [
      "Closing C:\\Users\\marco\\Documents\\MASTER_DATA_SCIENTIST\\TFM_MSD\\SEED_FRA_OUTPUT\\NEGATIVE\\8_3_trial_6_signals.fif\n",
      "[done]\n"
     ]
    },
    {
     "name": "stderr",
     "output_type": "stream",
     "text": [
      "\r",
      "Processing:  33%|███████████████████████▋                                               | 7/21 [00:14<00:28,  2.03s/it]"
     ]
    },
    {
     "name": "stdout",
     "output_type": "stream",
     "text": [
      "1000.0\n",
      "Writing C:\\Users\\marco\\Documents\\MASTER_DATA_SCIENTIST\\TFM_MSD\\SEED_FRA_OUTPUT\\NEUTRAL\\8_3_trial_7_signals.fif\n"
     ]
    },
    {
     "name": "stderr",
     "output_type": "stream",
     "text": [
      "C:\\Users\\marco\\AppData\\Local\\Temp\\ipykernel_14260\\1741641518.py:44: RuntimeWarning: This filename (C:\\Users\\marco\\Documents\\MASTER_DATA_SCIENTIST\\TFM_MSD\\SEED_FRA_OUTPUT\\NEUTRAL\\8_3_trial_7_signals.fif) does not conform to MNE naming conventions. All raw files should end with raw.fif, raw_sss.fif, raw_tsss.fif, _meg.fif, _eeg.fif, _ieeg.fif, raw.fif.gz, raw_sss.fif.gz, raw_tsss.fif.gz, _meg.fif.gz, _eeg.fif.gz or _ieeg.fif.gz\n",
      "  eeg_trial.save(output_path, overwrite=True)\n"
     ]
    },
    {
     "name": "stdout",
     "output_type": "stream",
     "text": [
      "Closing C:\\Users\\marco\\Documents\\MASTER_DATA_SCIENTIST\\TFM_MSD\\SEED_FRA_OUTPUT\\NEUTRAL\\8_3_trial_7_signals.fif\n",
      "[done]\n"
     ]
    },
    {
     "name": "stderr",
     "output_type": "stream",
     "text": [
      "\r",
      "Processing:  38%|███████████████████████████                                            | 8/21 [00:16<00:26,  2.01s/it]"
     ]
    },
    {
     "name": "stdout",
     "output_type": "stream",
     "text": [
      "1000.0\n",
      "Writing C:\\Users\\marco\\Documents\\MASTER_DATA_SCIENTIST\\TFM_MSD\\SEED_FRA_OUTPUT\\POSITIVE\\8_3_trial_8_signals.fif\n"
     ]
    },
    {
     "name": "stderr",
     "output_type": "stream",
     "text": [
      "C:\\Users\\marco\\AppData\\Local\\Temp\\ipykernel_14260\\1741641518.py:44: RuntimeWarning: This filename (C:\\Users\\marco\\Documents\\MASTER_DATA_SCIENTIST\\TFM_MSD\\SEED_FRA_OUTPUT\\POSITIVE\\8_3_trial_8_signals.fif) does not conform to MNE naming conventions. All raw files should end with raw.fif, raw_sss.fif, raw_tsss.fif, _meg.fif, _eeg.fif, _ieeg.fif, raw.fif.gz, raw_sss.fif.gz, raw_tsss.fif.gz, _meg.fif.gz, _eeg.fif.gz or _ieeg.fif.gz\n",
      "  eeg_trial.save(output_path, overwrite=True)\n"
     ]
    },
    {
     "name": "stdout",
     "output_type": "stream",
     "text": [
      "Closing C:\\Users\\marco\\Documents\\MASTER_DATA_SCIENTIST\\TFM_MSD\\SEED_FRA_OUTPUT\\POSITIVE\\8_3_trial_8_signals.fif\n",
      "[done]\n"
     ]
    },
    {
     "name": "stderr",
     "output_type": "stream",
     "text": [
      "\r",
      "Processing:  43%|██████████████████████████████▍                                        | 9/21 [00:18<00:24,  2.00s/it]"
     ]
    },
    {
     "name": "stdout",
     "output_type": "stream",
     "text": [
      "1000.0\n",
      "Writing C:\\Users\\marco\\Documents\\MASTER_DATA_SCIENTIST\\TFM_MSD\\SEED_FRA_OUTPUT\\NEGATIVE\\8_3_trial_9_signals.fif\n"
     ]
    },
    {
     "name": "stderr",
     "output_type": "stream",
     "text": [
      "C:\\Users\\marco\\AppData\\Local\\Temp\\ipykernel_14260\\1741641518.py:44: RuntimeWarning: This filename (C:\\Users\\marco\\Documents\\MASTER_DATA_SCIENTIST\\TFM_MSD\\SEED_FRA_OUTPUT\\NEGATIVE\\8_3_trial_9_signals.fif) does not conform to MNE naming conventions. All raw files should end with raw.fif, raw_sss.fif, raw_tsss.fif, _meg.fif, _eeg.fif, _ieeg.fif, raw.fif.gz, raw_sss.fif.gz, raw_tsss.fif.gz, _meg.fif.gz, _eeg.fif.gz or _ieeg.fif.gz\n",
      "  eeg_trial.save(output_path, overwrite=True)\n"
     ]
    },
    {
     "name": "stdout",
     "output_type": "stream",
     "text": [
      "Closing C:\\Users\\marco\\Documents\\MASTER_DATA_SCIENTIST\\TFM_MSD\\SEED_FRA_OUTPUT\\NEGATIVE\\8_3_trial_9_signals.fif\n",
      "[done]\n"
     ]
    },
    {
     "name": "stderr",
     "output_type": "stream",
     "text": [
      "\r",
      "Processing:  48%|█████████████████████████████████▎                                    | 10/21 [00:20<00:22,  2.07s/it]"
     ]
    },
    {
     "name": "stdout",
     "output_type": "stream",
     "text": [
      "1000.0\n",
      "Writing C:\\Users\\marco\\Documents\\MASTER_DATA_SCIENTIST\\TFM_MSD\\SEED_FRA_OUTPUT\\NEUTRAL\\8_3_trial_10_signals.fif\n"
     ]
    },
    {
     "name": "stderr",
     "output_type": "stream",
     "text": [
      "C:\\Users\\marco\\AppData\\Local\\Temp\\ipykernel_14260\\1741641518.py:44: RuntimeWarning: This filename (C:\\Users\\marco\\Documents\\MASTER_DATA_SCIENTIST\\TFM_MSD\\SEED_FRA_OUTPUT\\NEUTRAL\\8_3_trial_10_signals.fif) does not conform to MNE naming conventions. All raw files should end with raw.fif, raw_sss.fif, raw_tsss.fif, _meg.fif, _eeg.fif, _ieeg.fif, raw.fif.gz, raw_sss.fif.gz, raw_tsss.fif.gz, _meg.fif.gz, _eeg.fif.gz or _ieeg.fif.gz\n",
      "  eeg_trial.save(output_path, overwrite=True)\n"
     ]
    },
    {
     "name": "stdout",
     "output_type": "stream",
     "text": [
      "Closing C:\\Users\\marco\\Documents\\MASTER_DATA_SCIENTIST\\TFM_MSD\\SEED_FRA_OUTPUT\\NEUTRAL\\8_3_trial_10_signals.fif\n",
      "[done]\n"
     ]
    },
    {
     "name": "stderr",
     "output_type": "stream",
     "text": [
      "\r",
      "Processing:  52%|████████████████████████████████████▋                                 | 11/21 [00:22<00:20,  2.03s/it]"
     ]
    },
    {
     "name": "stdout",
     "output_type": "stream",
     "text": [
      "1000.0\n",
      "Writing C:\\Users\\marco\\Documents\\MASTER_DATA_SCIENTIST\\TFM_MSD\\SEED_FRA_OUTPUT\\POSITIVE\\8_3_trial_11_signals.fif\n"
     ]
    },
    {
     "name": "stderr",
     "output_type": "stream",
     "text": [
      "C:\\Users\\marco\\AppData\\Local\\Temp\\ipykernel_14260\\1741641518.py:44: RuntimeWarning: This filename (C:\\Users\\marco\\Documents\\MASTER_DATA_SCIENTIST\\TFM_MSD\\SEED_FRA_OUTPUT\\POSITIVE\\8_3_trial_11_signals.fif) does not conform to MNE naming conventions. All raw files should end with raw.fif, raw_sss.fif, raw_tsss.fif, _meg.fif, _eeg.fif, _ieeg.fif, raw.fif.gz, raw_sss.fif.gz, raw_tsss.fif.gz, _meg.fif.gz, _eeg.fif.gz or _ieeg.fif.gz\n",
      "  eeg_trial.save(output_path, overwrite=True)\n"
     ]
    },
    {
     "name": "stdout",
     "output_type": "stream",
     "text": [
      "Closing C:\\Users\\marco\\Documents\\MASTER_DATA_SCIENTIST\\TFM_MSD\\SEED_FRA_OUTPUT\\POSITIVE\\8_3_trial_11_signals.fif\n",
      "[done]\n"
     ]
    },
    {
     "name": "stderr",
     "output_type": "stream",
     "text": [
      "\r",
      "Processing:  57%|████████████████████████████████████████                              | 12/21 [00:23<00:17,  1.97s/it]"
     ]
    },
    {
     "name": "stdout",
     "output_type": "stream",
     "text": [
      "1000.0\n",
      "Writing C:\\Users\\marco\\Documents\\MASTER_DATA_SCIENTIST\\TFM_MSD\\SEED_FRA_OUTPUT\\POSITIVE\\8_3_trial_12_signals.fif\n",
      "Closing C:\\Users\\marco\\Documents\\MASTER_DATA_SCIENTIST\\TFM_MSD\\SEED_FRA_OUTPUT\\POSITIVE\\8_3_trial_12_signals.fif\n"
     ]
    },
    {
     "name": "stderr",
     "output_type": "stream",
     "text": [
      "C:\\Users\\marco\\AppData\\Local\\Temp\\ipykernel_14260\\1741641518.py:44: RuntimeWarning: This filename (C:\\Users\\marco\\Documents\\MASTER_DATA_SCIENTIST\\TFM_MSD\\SEED_FRA_OUTPUT\\POSITIVE\\8_3_trial_12_signals.fif) does not conform to MNE naming conventions. All raw files should end with raw.fif, raw_sss.fif, raw_tsss.fif, _meg.fif, _eeg.fif, _ieeg.fif, raw.fif.gz, raw_sss.fif.gz, raw_tsss.fif.gz, _meg.fif.gz, _eeg.fif.gz or _ieeg.fif.gz\n",
      "  eeg_trial.save(output_path, overwrite=True)\n"
     ]
    },
    {
     "name": "stdout",
     "output_type": "stream",
     "text": [
      "[done]\n"
     ]
    },
    {
     "name": "stderr",
     "output_type": "stream",
     "text": [
      "\r",
      "Processing:  62%|███████████████████████████████████████████▎                          | 13/21 [00:25<00:14,  1.85s/it]"
     ]
    },
    {
     "name": "stdout",
     "output_type": "stream",
     "text": [
      "1000.0\n",
      "Writing C:\\Users\\marco\\Documents\\MASTER_DATA_SCIENTIST\\TFM_MSD\\SEED_FRA_OUTPUT\\NEUTRAL\\8_3_trial_13_signals.fif\n"
     ]
    },
    {
     "name": "stderr",
     "output_type": "stream",
     "text": [
      "C:\\Users\\marco\\AppData\\Local\\Temp\\ipykernel_14260\\1741641518.py:44: RuntimeWarning: This filename (C:\\Users\\marco\\Documents\\MASTER_DATA_SCIENTIST\\TFM_MSD\\SEED_FRA_OUTPUT\\NEUTRAL\\8_3_trial_13_signals.fif) does not conform to MNE naming conventions. All raw files should end with raw.fif, raw_sss.fif, raw_tsss.fif, _meg.fif, _eeg.fif, _ieeg.fif, raw.fif.gz, raw_sss.fif.gz, raw_tsss.fif.gz, _meg.fif.gz, _eeg.fif.gz or _ieeg.fif.gz\n",
      "  eeg_trial.save(output_path, overwrite=True)\n"
     ]
    },
    {
     "name": "stdout",
     "output_type": "stream",
     "text": [
      "Closing C:\\Users\\marco\\Documents\\MASTER_DATA_SCIENTIST\\TFM_MSD\\SEED_FRA_OUTPUT\\NEUTRAL\\8_3_trial_13_signals.fif\n",
      "[done]\n"
     ]
    },
    {
     "name": "stderr",
     "output_type": "stream",
     "text": [
      "\r",
      "Processing:  67%|██████████████████████████████████████████████▋                       | 14/21 [00:27<00:13,  1.87s/it]"
     ]
    },
    {
     "name": "stdout",
     "output_type": "stream",
     "text": [
      "1000.0\n",
      "Writing C:\\Users\\marco\\Documents\\MASTER_DATA_SCIENTIST\\TFM_MSD\\SEED_FRA_OUTPUT\\NEGATIVE\\8_3_trial_14_signals.fif\n"
     ]
    },
    {
     "name": "stderr",
     "output_type": "stream",
     "text": [
      "C:\\Users\\marco\\AppData\\Local\\Temp\\ipykernel_14260\\1741641518.py:44: RuntimeWarning: This filename (C:\\Users\\marco\\Documents\\MASTER_DATA_SCIENTIST\\TFM_MSD\\SEED_FRA_OUTPUT\\NEGATIVE\\8_3_trial_14_signals.fif) does not conform to MNE naming conventions. All raw files should end with raw.fif, raw_sss.fif, raw_tsss.fif, _meg.fif, _eeg.fif, _ieeg.fif, raw.fif.gz, raw_sss.fif.gz, raw_tsss.fif.gz, _meg.fif.gz, _eeg.fif.gz or _ieeg.fif.gz\n",
      "  eeg_trial.save(output_path, overwrite=True)\n"
     ]
    },
    {
     "name": "stdout",
     "output_type": "stream",
     "text": [
      "Closing C:\\Users\\marco\\Documents\\MASTER_DATA_SCIENTIST\\TFM_MSD\\SEED_FRA_OUTPUT\\NEGATIVE\\8_3_trial_14_signals.fif\n",
      "[done]\n"
     ]
    },
    {
     "name": "stderr",
     "output_type": "stream",
     "text": [
      "\r",
      "Processing:  71%|██████████████████████████████████████████████████                    | 15/21 [00:29<00:11,  1.94s/it]"
     ]
    },
    {
     "name": "stdout",
     "output_type": "stream",
     "text": [
      "1000.0\n",
      "Writing C:\\Users\\marco\\Documents\\MASTER_DATA_SCIENTIST\\TFM_MSD\\SEED_FRA_OUTPUT\\NEGATIVE\\8_3_trial_15_signals.fif\n",
      "Closing C:\\Users\\marco\\Documents\\MASTER_DATA_SCIENTIST\\TFM_MSD\\SEED_FRA_OUTPUT\\NEGATIVE\\8_3_trial_15_signals.fif\n",
      "[done]\n"
     ]
    },
    {
     "name": "stderr",
     "output_type": "stream",
     "text": [
      "C:\\Users\\marco\\AppData\\Local\\Temp\\ipykernel_14260\\1741641518.py:44: RuntimeWarning: This filename (C:\\Users\\marco\\Documents\\MASTER_DATA_SCIENTIST\\TFM_MSD\\SEED_FRA_OUTPUT\\NEGATIVE\\8_3_trial_15_signals.fif) does not conform to MNE naming conventions. All raw files should end with raw.fif, raw_sss.fif, raw_tsss.fif, _meg.fif, _eeg.fif, _ieeg.fif, raw.fif.gz, raw_sss.fif.gz, raw_tsss.fif.gz, _meg.fif.gz, _eeg.fif.gz or _ieeg.fif.gz\n",
      "  eeg_trial.save(output_path, overwrite=True)\n",
      "\r",
      "Processing:  76%|█████████████████████████████████████████████████████▎                | 16/21 [00:31<00:09,  1.95s/it]"
     ]
    },
    {
     "name": "stdout",
     "output_type": "stream",
     "text": [
      "1000.0\n",
      "Writing C:\\Users\\marco\\Documents\\MASTER_DATA_SCIENTIST\\TFM_MSD\\SEED_FRA_OUTPUT\\NEUTRAL\\8_3_trial_16_signals.fif\n"
     ]
    },
    {
     "name": "stderr",
     "output_type": "stream",
     "text": [
      "C:\\Users\\marco\\AppData\\Local\\Temp\\ipykernel_14260\\1741641518.py:44: RuntimeWarning: This filename (C:\\Users\\marco\\Documents\\MASTER_DATA_SCIENTIST\\TFM_MSD\\SEED_FRA_OUTPUT\\NEUTRAL\\8_3_trial_16_signals.fif) does not conform to MNE naming conventions. All raw files should end with raw.fif, raw_sss.fif, raw_tsss.fif, _meg.fif, _eeg.fif, _ieeg.fif, raw.fif.gz, raw_sss.fif.gz, raw_tsss.fif.gz, _meg.fif.gz, _eeg.fif.gz or _ieeg.fif.gz\n",
      "  eeg_trial.save(output_path, overwrite=True)\n"
     ]
    },
    {
     "name": "stdout",
     "output_type": "stream",
     "text": [
      "Closing C:\\Users\\marco\\Documents\\MASTER_DATA_SCIENTIST\\TFM_MSD\\SEED_FRA_OUTPUT\\NEUTRAL\\8_3_trial_16_signals.fif\n",
      "[done]\n"
     ]
    },
    {
     "name": "stderr",
     "output_type": "stream",
     "text": [
      "\r",
      "Processing:  81%|████████████████████████████████████████████████████████▋             | 17/21 [00:33<00:08,  2.06s/it]"
     ]
    },
    {
     "name": "stdout",
     "output_type": "stream",
     "text": [
      "1000.0\n",
      "Writing C:\\Users\\marco\\Documents\\MASTER_DATA_SCIENTIST\\TFM_MSD\\SEED_FRA_OUTPUT\\POSITIVE\\8_3_trial_17_signals.fif\n"
     ]
    },
    {
     "name": "stderr",
     "output_type": "stream",
     "text": [
      "C:\\Users\\marco\\AppData\\Local\\Temp\\ipykernel_14260\\1741641518.py:44: RuntimeWarning: This filename (C:\\Users\\marco\\Documents\\MASTER_DATA_SCIENTIST\\TFM_MSD\\SEED_FRA_OUTPUT\\POSITIVE\\8_3_trial_17_signals.fif) does not conform to MNE naming conventions. All raw files should end with raw.fif, raw_sss.fif, raw_tsss.fif, _meg.fif, _eeg.fif, _ieeg.fif, raw.fif.gz, raw_sss.fif.gz, raw_tsss.fif.gz, _meg.fif.gz, _eeg.fif.gz or _ieeg.fif.gz\n",
      "  eeg_trial.save(output_path, overwrite=True)\n"
     ]
    },
    {
     "name": "stdout",
     "output_type": "stream",
     "text": [
      "Closing C:\\Users\\marco\\Documents\\MASTER_DATA_SCIENTIST\\TFM_MSD\\SEED_FRA_OUTPUT\\POSITIVE\\8_3_trial_17_signals.fif\n",
      "[done]\n"
     ]
    },
    {
     "name": "stderr",
     "output_type": "stream",
     "text": [
      "\r",
      "Processing:  86%|████████████████████████████████████████████████████████████          | 18/21 [00:36<00:06,  2.11s/it]"
     ]
    },
    {
     "name": "stdout",
     "output_type": "stream",
     "text": [
      "1000.0\n",
      "Writing C:\\Users\\marco\\Documents\\MASTER_DATA_SCIENTIST\\TFM_MSD\\SEED_FRA_OUTPUT\\NEGATIVE\\8_3_trial_18_signals.fif\n",
      "Closing C:\\Users\\marco\\Documents\\MASTER_DATA_SCIENTIST\\TFM_MSD\\SEED_FRA_OUTPUT\\NEGATIVE\\8_3_trial_18_signals.fif\n"
     ]
    },
    {
     "name": "stderr",
     "output_type": "stream",
     "text": [
      "C:\\Users\\marco\\AppData\\Local\\Temp\\ipykernel_14260\\1741641518.py:44: RuntimeWarning: This filename (C:\\Users\\marco\\Documents\\MASTER_DATA_SCIENTIST\\TFM_MSD\\SEED_FRA_OUTPUT\\NEGATIVE\\8_3_trial_18_signals.fif) does not conform to MNE naming conventions. All raw files should end with raw.fif, raw_sss.fif, raw_tsss.fif, _meg.fif, _eeg.fif, _ieeg.fif, raw.fif.gz, raw_sss.fif.gz, raw_tsss.fif.gz, _meg.fif.gz, _eeg.fif.gz or _ieeg.fif.gz\n",
      "  eeg_trial.save(output_path, overwrite=True)\n"
     ]
    },
    {
     "name": "stdout",
     "output_type": "stream",
     "text": [
      "[done]\n"
     ]
    },
    {
     "name": "stderr",
     "output_type": "stream",
     "text": [
      "\r",
      "Processing:  90%|███████████████████████████████████████████████████████████████▎      | 19/21 [00:37<00:03,  1.95s/it]"
     ]
    },
    {
     "name": "stdout",
     "output_type": "stream",
     "text": [
      "1000.0\n",
      "Writing C:\\Users\\marco\\Documents\\MASTER_DATA_SCIENTIST\\TFM_MSD\\SEED_FRA_OUTPUT\\NEUTRAL\\8_3_trial_19_signals.fif\n",
      "Closing C:\\Users\\marco\\Documents\\MASTER_DATA_SCIENTIST\\TFM_MSD\\SEED_FRA_OUTPUT\\NEUTRAL\\8_3_trial_19_signals.fif\n",
      "[done]\n"
     ]
    },
    {
     "name": "stderr",
     "output_type": "stream",
     "text": [
      "C:\\Users\\marco\\AppData\\Local\\Temp\\ipykernel_14260\\1741641518.py:44: RuntimeWarning: This filename (C:\\Users\\marco\\Documents\\MASTER_DATA_SCIENTIST\\TFM_MSD\\SEED_FRA_OUTPUT\\NEUTRAL\\8_3_trial_19_signals.fif) does not conform to MNE naming conventions. All raw files should end with raw.fif, raw_sss.fif, raw_tsss.fif, _meg.fif, _eeg.fif, _ieeg.fif, raw.fif.gz, raw_sss.fif.gz, raw_tsss.fif.gz, _meg.fif.gz, _eeg.fif.gz or _ieeg.fif.gz\n",
      "  eeg_trial.save(output_path, overwrite=True)\n",
      "\r",
      "Processing:  95%|██████████████████████████████████████████████████████████████████▋   | 20/21 [00:38<00:01,  1.64s/it]"
     ]
    },
    {
     "name": "stdout",
     "output_type": "stream",
     "text": [
      "1000.0\n",
      "Writing C:\\Users\\marco\\Documents\\MASTER_DATA_SCIENTIST\\TFM_MSD\\SEED_FRA_OUTPUT\\POSITIVE\\8_3_trial_20_signals.fif\n",
      "Closing C:\\Users\\marco\\Documents\\MASTER_DATA_SCIENTIST\\TFM_MSD\\SEED_FRA_OUTPUT\\POSITIVE\\8_3_trial_20_signals.fif\n",
      "[done]\n"
     ]
    },
    {
     "name": "stderr",
     "output_type": "stream",
     "text": [
      "C:\\Users\\marco\\AppData\\Local\\Temp\\ipykernel_14260\\1741641518.py:44: RuntimeWarning: This filename (C:\\Users\\marco\\Documents\\MASTER_DATA_SCIENTIST\\TFM_MSD\\SEED_FRA_OUTPUT\\POSITIVE\\8_3_trial_20_signals.fif) does not conform to MNE naming conventions. All raw files should end with raw.fif, raw_sss.fif, raw_tsss.fif, _meg.fif, _eeg.fif, _ieeg.fif, raw.fif.gz, raw_sss.fif.gz, raw_tsss.fif.gz, _meg.fif.gz, _eeg.fif.gz or _ieeg.fif.gz\n",
      "  eeg_trial.save(output_path, overwrite=True)\n",
      "Processing: 100%|██████████████████████████████████████████████████████████████████████| 21/21 [00:39<00:00,  1.88s/it]\n"
     ]
    }
   ],
   "source": [
    "for file_name in cnt_names:\n",
    "    read_cnt(f\"SEED_FRA/EEG_raw/{file_name}\", file_name, trial_num, start_second, end_second)"
   ]
  }
 ],
 "metadata": {
  "kernelspec": {
   "display_name": "Python 3 (ipykernel)",
   "language": "python",
   "name": "python3"
  },
  "language_info": {
   "codemirror_mode": {
    "name": "ipython",
    "version": 3
   },
   "file_extension": ".py",
   "mimetype": "text/x-python",
   "name": "python",
   "nbconvert_exporter": "python",
   "pygments_lexer": "ipython3",
   "version": "3.10.10"
  },
  "toc": {
   "base_numbering": 1,
   "nav_menu": {
    "height": "382.975px",
    "width": "167.975px"
   },
   "number_sections": true,
   "sideBar": true,
   "skip_h1_title": false,
   "title_cell": "Table of Contents",
   "title_sidebar": "Contents",
   "toc_cell": false,
   "toc_position": {},
   "toc_section_display": true,
   "toc_window_display": false
  }
 },
 "nbformat": 4,
 "nbformat_minor": 5
}
