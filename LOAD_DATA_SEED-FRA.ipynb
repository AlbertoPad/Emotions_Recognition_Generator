{
 "cells": [
  {
   "cell_type": "code",
   "execution_count": 1,
   "id": "eb140f36",
   "metadata": {
    "scrolled": true
   },
   "outputs": [],
   "source": [
    "#We are going to use mne to import tables\n",
    "import os\n",
    "from tqdm import tqdm #Library used to see the progress of our loop\n",
    "import mne\n",
    "import pandas as pd\n",
    "import numpy as np"
   ]
  },
  {
   "cell_type": "markdown",
   "id": "af07d638",
   "metadata": {},
   "source": [
    "There is some information about the data in a file called `French_information_.xlsx` . We get that information first:"
   ]
  },
  {
   "cell_type": "code",
   "execution_count": 2,
   "id": "c33c2f4a",
   "metadata": {
    "scrolled": true
   },
   "outputs": [],
   "source": [
    "df_info = pd.read_excel(\"SEED_FRA/French_information_.xlsx\")"
   ]
  },
  {
   "cell_type": "code",
   "execution_count": 3,
   "id": "34eba2cc",
   "metadata": {},
   "outputs": [],
   "source": [
    "n_trials = 20\n",
    "\n",
    "trial_num = tuple(f\"Trial_{i}\" for i in range(n_trials+1))\n",
    "start_second = df_info[\"Trial Start second\"][:n_trials+1]\n",
    "end_second = df_info[\"Trial End second\"][:n_trials+1]"
   ]
  },
  {
   "cell_type": "markdown",
   "id": "ea3cdc01",
   "metadata": {},
   "source": [
    "We create folders to use to divide our data for emotion"
   ]
  },
  {
   "cell_type": "code",
   "execution_count": 4,
   "id": "c1f27e3d",
   "metadata": {},
   "outputs": [],
   "source": [
    "os.makedirs(\"SEED_FRA_OUTPUT/POSITIVE\")\n",
    "os.makedirs(\"SEED_FRA_OUTPUT/NEGATIVE\")\n",
    "os.makedirs(\"SEED_FRA_OUTPUT/NEUTRAL\")"
   ]
  },
  {
   "cell_type": "code",
   "execution_count": 5,
   "id": "af891bba",
   "metadata": {},
   "outputs": [
    {
     "data": {
      "text/plain": [
       "['POSITIVE',\n",
       " 'NEGATIVE',\n",
       " 'NEUTRAL',\n",
       " 'NEGATIVE',\n",
       " 'POSITIVE',\n",
       " 'NEUTRAL',\n",
       " 'NEGATIVE',\n",
       " 'NEUTRAL',\n",
       " 'POSITIVE',\n",
       " 'NEGATIVE',\n",
       " 'NEUTRAL',\n",
       " 'POSITIVE',\n",
       " 'POSITIVE',\n",
       " 'NEUTRAL',\n",
       " 'NEGATIVE',\n",
       " 'NEGATIVE',\n",
       " 'NEUTRAL',\n",
       " 'POSITIVE',\n",
       " 'NEGATIVE',\n",
       " 'NEUTRAL',\n",
       " 'POSITIVE']"
      ]
     },
     "execution_count": 5,
     "metadata": {},
     "output_type": "execute_result"
    }
   ],
   "source": [
    "emotions_dict = {1: \"POSITIVE\", -1:\"NEGATIVE\", 0:\"NEUTRAL\" }\n",
    "trial_emotion = [emotions_dict[x] for x in df_info[:21][\"label\"] ] \n",
    "trial_emotion"
   ]
  },
  {
   "cell_type": "markdown",
   "id": "d1c22164",
   "metadata": {},
   "source": [
    "See which channels are used and see if the order is correct"
   ]
  },
  {
   "cell_type": "code",
   "execution_count": 6,
   "id": "029af3e4",
   "metadata": {},
   "outputs": [],
   "source": [
    "#Reading a cnt\n",
    "def read_cnt(_path, _name, _trial_num, _start_second, _end_second):\n",
    "    \"\"\"Reads a .cnt file and stores in a parquet file the value of each signal\"\"\"\n",
    "    eeg_raw = mne.io.read_raw_cnt(_path, preload=False)\n",
    "    useless_ch = ['M1', 'M2', 'VEO', 'HEO']\n",
    "    eeg_raw.drop_channels(useless_ch)\n",
    "    new_ch = eeg_raw.ch_names\n",
    "    \n",
    "    sample_freq = 1000\n",
    "    \n",
    "    for trial, start, end, i in tqdm(zip(_trial_num, _start_second, _end_second, range(n_trials+1)), desc=\"Processing\", total=len(_trial_num)):\n",
    "        \n",
    "        start_sample = int(start * sample_freq)\n",
    "        end_sample = int(end * sample_freq)\n",
    "\n",
    "        # Read data in chunks and concatenate them\n",
    "        chunk_size = 10000\n",
    "        chunks = []\n",
    "        for chunk_start in range(start_sample, end_sample, chunk_size):\n",
    "            chunk_end = min(chunk_start + chunk_size, end_sample)\n",
    "            chunk_data = eeg_raw.get_data(start=chunk_start, stop=chunk_end)\n",
    "            chunks.append(chunk_data)\n",
    "        \n",
    "        data_name = np.concatenate(chunks, axis=1).T\n",
    "        df = pd.DataFrame(data_name, columns=new_ch)\n",
    "        new_file_name = f\"{_name.rstrip('.cnt')}_trial_{i}_signals.parquet\"\n",
    "        df.to_parquet(f\"SEED_FRA_OUTPUT/{trial_emotion[i]}/{new_file_name}\", compression='gzip')"
   ]
  },
  {
   "cell_type": "code",
   "execution_count": 7,
   "id": "c68583ae",
   "metadata": {},
   "outputs": [],
   "source": [
    "#Gets the file names in the folder and selects just those with .cnt extension\n",
    "file_names = os.listdir(\"SEED_FRA/EEG_raw\")\n",
    "cnt_names = tuple(filter(lambda s: \".cnt\" in s, file_names))"
   ]
  },
  {
   "cell_type": "code",
   "execution_count": 8,
   "id": "61212b7b",
   "metadata": {
    "scrolled": false
   },
   "outputs": [
    {
     "name": "stderr",
     "output_type": "stream",
     "text": [
      "C:\\Users\\marco\\AppData\\Local\\Temp\\ipykernel_15968\\2049205479.py:4: RuntimeWarning:   Could not parse meas date from the header. Setting to None.\n",
      "  eeg_raw = mne.io.read_raw_cnt(_path, preload=False)\n",
      "Processing: 100%|██████████████████████████████████████████████████████████████████████| 21/21 [00:41<00:00,  1.96s/it]\n",
      "C:\\Users\\marco\\AppData\\Local\\Temp\\ipykernel_15968\\2049205479.py:4: RuntimeWarning:   Could not parse meas date from the header. Setting to None.\n",
      "  eeg_raw = mne.io.read_raw_cnt(_path, preload=False)\n",
      "Processing: 100%|██████████████████████████████████████████████████████████████████████| 21/21 [00:43<00:00,  2.05s/it]\n",
      "C:\\Users\\marco\\AppData\\Local\\Temp\\ipykernel_15968\\2049205479.py:4: RuntimeWarning:   Could not parse meas date from the header. Setting to None.\n",
      "  eeg_raw = mne.io.read_raw_cnt(_path, preload=False)\n",
      "Processing: 100%|██████████████████████████████████████████████████████████████████████| 21/21 [00:42<00:00,  2.01s/it]\n",
      "Processing: 100%|██████████████████████████████████████████████████████████████████████| 21/21 [00:46<00:00,  2.20s/it]\n",
      "C:\\Users\\marco\\AppData\\Local\\Temp\\ipykernel_15968\\2049205479.py:4: RuntimeWarning:   Could not parse meas date from the header. Setting to None.\n",
      "  eeg_raw = mne.io.read_raw_cnt(_path, preload=False)\n",
      "Processing: 100%|██████████████████████████████████████████████████████████████████████| 21/21 [01:42<00:00,  4.87s/it]\n",
      "Processing: 100%|██████████████████████████████████████████████████████████████████████| 21/21 [01:54<00:00,  5.46s/it]\n",
      "C:\\Users\\marco\\AppData\\Local\\Temp\\ipykernel_15968\\2049205479.py:4: RuntimeWarning:   Could not parse meas date from the header. Setting to None.\n",
      "  eeg_raw = mne.io.read_raw_cnt(_path, preload=False)\n",
      "Processing: 100%|██████████████████████████████████████████████████████████████████████| 21/21 [01:50<00:00,  5.25s/it]\n",
      "C:\\Users\\marco\\AppData\\Local\\Temp\\ipykernel_15968\\2049205479.py:4: RuntimeWarning:   Could not parse meas date from the header. Setting to None.\n",
      "  eeg_raw = mne.io.read_raw_cnt(_path, preload=False)\n",
      "Processing: 100%|██████████████████████████████████████████████████████████████████████| 21/21 [01:45<00:00,  5.03s/it]\n",
      "Processing: 100%|██████████████████████████████████████████████████████████████████████| 21/21 [01:45<00:00,  5.00s/it]\n",
      "Processing: 100%|██████████████████████████████████████████████████████████████████████| 21/21 [01:44<00:00,  4.97s/it]\n",
      "Processing: 100%|██████████████████████████████████████████████████████████████████████| 21/21 [01:43<00:00,  4.92s/it]\n",
      "C:\\Users\\marco\\AppData\\Local\\Temp\\ipykernel_15968\\2049205479.py:4: RuntimeWarning:   Could not parse meas date from the header. Setting to None.\n",
      "  eeg_raw = mne.io.read_raw_cnt(_path, preload=False)\n",
      "Processing: 100%|██████████████████████████████████████████████████████████████████████| 21/21 [01:44<00:00,  4.98s/it]\n",
      "Processing: 100%|██████████████████████████████████████████████████████████████████████| 21/21 [01:51<00:00,  5.30s/it]\n",
      "C:\\Users\\marco\\AppData\\Local\\Temp\\ipykernel_15968\\2049205479.py:4: RuntimeWarning:   Could not parse meas date from the header. Setting to None.\n",
      "  eeg_raw = mne.io.read_raw_cnt(_path, preload=False)\n",
      "Processing: 100%|██████████████████████████████████████████████████████████████████████| 21/21 [01:49<00:00,  5.20s/it]\n",
      "C:\\Users\\marco\\AppData\\Local\\Temp\\ipykernel_15968\\2049205479.py:4: RuntimeWarning:   Could not parse meas date from the header. Setting to None.\n",
      "  eeg_raw = mne.io.read_raw_cnt(_path, preload=False)\n",
      "Processing: 100%|██████████████████████████████████████████████████████████████████████| 21/21 [01:57<00:00,  5.60s/it]\n",
      "C:\\Users\\marco\\AppData\\Local\\Temp\\ipykernel_15968\\2049205479.py:4: RuntimeWarning:   Could not parse meas date from the header. Setting to None.\n",
      "  eeg_raw = mne.io.read_raw_cnt(_path, preload=False)\n",
      "Processing: 100%|██████████████████████████████████████████████████████████████████████| 21/21 [01:42<00:00,  4.87s/it]\n",
      "C:\\Users\\marco\\AppData\\Local\\Temp\\ipykernel_15968\\2049205479.py:4: RuntimeWarning:   Could not parse meas date from the header. Setting to None.\n",
      "  eeg_raw = mne.io.read_raw_cnt(_path, preload=False)\n",
      "Processing: 100%|██████████████████████████████████████████████████████████████████████| 21/21 [01:45<00:00,  5.00s/it]\n",
      "C:\\Users\\marco\\AppData\\Local\\Temp\\ipykernel_15968\\2049205479.py:4: RuntimeWarning:   Could not parse meas date from the header. Setting to None.\n",
      "  eeg_raw = mne.io.read_raw_cnt(_path, preload=False)\n",
      "Processing: 100%|██████████████████████████████████████████████████████████████████████| 21/21 [01:44<00:00,  4.98s/it]\n",
      "Processing: 100%|██████████████████████████████████████████████████████████████████████| 21/21 [01:42<00:00,  4.89s/it]\n",
      "C:\\Users\\marco\\AppData\\Local\\Temp\\ipykernel_15968\\2049205479.py:4: RuntimeWarning:   Could not parse meas date from the header. Setting to None.\n",
      "  eeg_raw = mne.io.read_raw_cnt(_path, preload=False)\n",
      "Processing: 100%|██████████████████████████████████████████████████████████████████████| 21/21 [03:33<00:00, 10.15s/it]\n",
      "C:\\Users\\marco\\AppData\\Local\\Temp\\ipykernel_15968\\2049205479.py:4: RuntimeWarning:   Could not parse meas date from the header. Setting to None.\n",
      "  eeg_raw = mne.io.read_raw_cnt(_path, preload=False)\n",
      "Processing: 100%|██████████████████████████████████████████████████████████████████████| 21/21 [00:39<00:00,  1.90s/it]\n",
      "C:\\Users\\marco\\AppData\\Local\\Temp\\ipykernel_15968\\2049205479.py:4: RuntimeWarning:   Could not parse meas date from the header. Setting to None.\n",
      "  eeg_raw = mne.io.read_raw_cnt(_path, preload=False)\n",
      "Processing: 100%|██████████████████████████████████████████████████████████████████████| 21/21 [00:51<00:00,  2.47s/it]\n",
      "C:\\Users\\marco\\AppData\\Local\\Temp\\ipykernel_15968\\2049205479.py:4: RuntimeWarning:   Could not parse meas date from the header. Setting to None.\n",
      "  eeg_raw = mne.io.read_raw_cnt(_path, preload=False)\n",
      "Processing: 100%|██████████████████████████████████████████████████████████████████████| 21/21 [01:18<00:00,  3.76s/it]\n",
      "C:\\Users\\marco\\AppData\\Local\\Temp\\ipykernel_15968\\2049205479.py:4: RuntimeWarning:   Could not parse meas date from the header. Setting to None.\n",
      "  eeg_raw = mne.io.read_raw_cnt(_path, preload=False)\n",
      "Processing: 100%|██████████████████████████████████████████████████████████████████████| 21/21 [00:48<00:00,  2.32s/it]\n"
     ]
    }
   ],
   "source": [
    "for file_name in cnt_names:\n",
    "    read_cnt(f\"SEED_FRA/EEG_raw/{file_name}\", file_name, trial_num, start_second, end_second)"
   ]
  }
 ],
 "metadata": {
  "kernelspec": {
   "display_name": "Python 3 (ipykernel)",
   "language": "python",
   "name": "python3"
  },
  "language_info": {
   "codemirror_mode": {
    "name": "ipython",
    "version": 3
   },
   "file_extension": ".py",
   "mimetype": "text/x-python",
   "name": "python",
   "nbconvert_exporter": "python",
   "pygments_lexer": "ipython3",
   "version": "3.10.10"
  },
  "toc": {
   "base_numbering": 1,
   "nav_menu": {},
   "number_sections": true,
   "sideBar": true,
   "skip_h1_title": false,
   "title_cell": "Table of Contents",
   "title_sidebar": "Contents",
   "toc_cell": false,
   "toc_position": {},
   "toc_section_display": true,
   "toc_window_display": false
  }
 },
 "nbformat": 4,
 "nbformat_minor": 5
}
