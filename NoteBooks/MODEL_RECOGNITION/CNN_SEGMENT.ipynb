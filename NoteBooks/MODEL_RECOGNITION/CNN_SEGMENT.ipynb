{
 "cells": [
  {
   "cell_type": "markdown",
   "id": "92a6061a",
   "metadata": {},
   "source": [
    "# CNN SEGMENT"
   ]
  },
  {
   "cell_type": "markdown",
   "id": "ce2ef331",
   "metadata": {},
   "source": [
    "Authors:</br>\n",
    "Alberto Padilla Nieto </br>\n",
    "Marco Antonio Hernani Chavez </br>"
   ]
  },
  {
   "cell_type": "markdown",
   "id": "7b646693",
   "metadata": {},
   "source": [
    "The objective of this notebook is to create a CNN model that is able to classify the emotion from a given stimuli."
   ]
  },
  {
   "cell_type": "markdown",
   "id": "10cae63e",
   "metadata": {},
   "source": [
    "# CPU or GPU "
   ]
  },
  {
   "cell_type": "markdown",
   "id": "8f937b18",
   "metadata": {},
   "source": [
    "We choose if We want to use the CPU or the GPU to train the model"
   ]
  },
  {
   "cell_type": "code",
   "execution_count": 1,
   "id": "1b5f13c5",
   "metadata": {},
   "outputs": [],
   "source": [
    "import tensorflow as tf\n",
    "# # TensorFlow configuration to use the GPU\n",
    "# gpus = tf.config.experimental.list_physical_devices('GPU')\n",
    "# if gpus:\n",
    "#     try:\n",
    "#         for gpu in gpus:\n",
    "#             tf.config.experimental.set_memory_growth(gpu, True)\n",
    "#     except RuntimeError as e:\n",
    "#         print(e)\n",
    "\n",
    "tf.config.set_visible_devices([], 'GPU')"
   ]
  },
  {
   "cell_type": "markdown",
   "id": "3386fa7f",
   "metadata": {},
   "source": [
    "# LIBRARIES "
   ]
  },
  {
   "cell_type": "code",
   "execution_count": 11,
   "id": "c130517a",
   "metadata": {},
   "outputs": [],
   "source": [
    "# We import the specialized library to manipulate raw EEG data\n",
    "import mne\n",
    "\n",
    "# Library to use operative system functions\n",
    "import os\n",
    "import numpy as np\n",
    "\n",
    "#Libraries to control the execution time\n",
    "from tqdm import tqdm\n",
    "import time\n",
    "\n",
    "# Libraries to do Statistics\n",
    "import scipy.stats\n",
    "import random\n",
    "from scipy.stats import entropy\n",
    "from scipy.fft import fft\n",
    "from scipy.signal import welch\n",
    "from scipy.stats import mstats\n",
    "\n",
    "# Libraries to create and train the CNN model\n",
    "from tensorflow.keras.layers import Input, Dense, LeakyReLU, BatchNormalization, Reshape, Conv2DTranspose, Conv2D, Flatten, Dropout, MaxPooling2D\n",
    "from tensorflow.keras.models import Model,Sequential\n",
    "from tensorflow.keras.optimizers import Adam\n",
    "from tensorflow.keras.utils import to_categorical\n",
    "from sklearn.model_selection import train_test_split\n",
    "from keras.regularizers import l2\n",
    "\n",
    "# Libraries to make the graphics\n",
    "import matplotlib.pyplot as plt\n",
    "import seaborn as sns\n",
    "\n",
    "# No Warning\n",
    "import warnings\n",
    "warnings.filterwarnings(\"ignore\")\n",
    "mne.set_log_level(\"ERROR\")"
   ]
  },
  {
   "cell_type": "code",
   "execution_count": 3,
   "id": "597da088",
   "metadata": {},
   "outputs": [
    {
     "data": {
      "text/plain": [
       "'C:\\\\Users\\\\macka\\\\TFM_WD\\\\ORI\\\\SEEDs_FIF_RECOG_GAN'"
      ]
     },
     "execution_count": 3,
     "metadata": {},
     "output_type": "execute_result"
    }
   ],
   "source": [
    "os.getcwd()"
   ]
  },
  {
   "cell_type": "markdown",
   "id": "d07ed7d3",
   "metadata": {},
   "source": [
    "# Segment creation"
   ]
  },
  {
   "cell_type": "markdown",
   "id": "3929ab05",
   "metadata": {},
   "source": [
    "Using the preprocessed data, We create segments by following the process specified in the (Bands Frequencies - Position and Signals by Channels - DE - PSD): https://link.springer.com/article/10.1007/s11571-021-09751-5 </br>\n",
    "For this process, the data is divided into 4-second segments, a bandpass filter is applied to the data of each segment for each frequency band, and the power spectral density (PSD) is calculated for each frequency band and the differential entropy (DE) for each channel of the EEG signal in that frequency band. Next, create a 2D matrix that represents the spatial distribution of the PSD and DE in each frequency band, for each 4-second segment. Finally, the data is stored in a list of segments for further processing."
   ]
  },
  {
   "cell_type": "markdown",
   "id": "bd82c086",
   "metadata": {},
   "source": [
    "This process is repeated for each emotion (positive, negative and neutral)"
   ]
  },
  {
   "cell_type": "markdown",
   "id": "97e1a0cd",
   "metadata": {},
   "source": [
    "## Constant to create segment"
   ]
  },
  {
   "cell_type": "code",
   "execution_count": 6,
   "id": "845dbfb0",
   "metadata": {},
   "outputs": [],
   "source": [
    "# Bands Frequencies: Names and ranges\n",
    "freq_bands = {'delta': [0.5, 4],\n",
    "              'theta': [4, 8],\n",
    "              'alpha': [8, 12],\n",
    "              'beta': [12, 30],\n",
    "              'gamma': [30, 52]}\n",
    "\n",
    "\n",
    "# Window Size to create object 4D\n",
    "win_sec = 2\n",
    "\n",
    "# Assuming a fixed height and width (19x19 in this case)\n",
    "height, width = 19, 19\n",
    "\n",
    "# Define the number of num_maps based on the number of EEG num_maps\n",
    "num_maps = len(freq_bands) * 2 \n",
    "\n",
    "# Define an map full zeros.\n",
    "sparse_map = np.zeros((height, width))"
   ]
  },
  {
   "cell_type": "code",
   "execution_count": null,
   "id": "b9c41dd3",
   "metadata": {},
   "outputs": [],
   "source": [
    "def gaussian_entropy(std_deviation):\n",
    "    \"\"\"\n",
    "    Calculate the differential entropy for a Gaussian distribution.\n",
    "    param std_deviation: standard deviation of the signal.\n",
    "    return: differential entropy.\n",
    "    \"\"\"\n",
    "    return 0.5 * np.log2(2 * np.pi * np.e * std_deviation ** 2)"
   ]
  },
  {
   "cell_type": "markdown",
   "id": "29b088c5",
   "metadata": {},
   "source": [
    "## Segments Positives"
   ]
  },
  {
   "cell_type": "code",
   "execution_count": 7,
   "id": "ee55e143",
   "metadata": {},
   "outputs": [
    {
     "name": "stderr",
     "output_type": "stream",
     "text": [
      "                                                                            "
     ]
    },
    {
     "name": "stdout",
     "output_type": "stream",
     "text": [
      "Time: 3.20 H\n"
     ]
    },
    {
     "name": "stderr",
     "output_type": "stream",
     "text": [
      "\r"
     ]
    }
   ],
   "source": [
    "start_time = time.time()  # Record the start time\n",
    "# Path\n",
    "emotion = 'POSITIVE'\n",
    "emotion_folder = f'C://Users//macka//TFM_WD//ORI//SEEDs_FIF_RECOG_GAN//{emotion}'\n",
    "\n",
    "archivos = os.listdir(emotion_folder)\n",
    "names=[]\n",
    "# Prints the name of the files\n",
    "for archivo in archivos:\n",
    "    if archivo.endswith(\".fif\"):\n",
    "        names.append(archivo)\n",
    "        \n",
    "os.chdir(emotion_folder)\n",
    "\n",
    "# Storage Data\n",
    "psd_pos_data = {}\n",
    "\n",
    "psd_pos_2d={}\n",
    "de_pos_2d={}\n",
    "\n",
    "segment_psd_pos={}\n",
    "segment_de_pos={}\n",
    "\n",
    "segment_pos=[]\n",
    "segment_pos_list=[]\n",
    "\n",
    "input_data_pos = []\n",
    "\n",
    "# Loads the files and creates the segments\n",
    "for name in tqdm(names,desc=\"Procesing new file...\", leave=False):\n",
    "    # The path to the file that contains the EEG is defined\n",
    "    file = name\n",
    "    file_path = os.path.join(emotion_folder, file)\n",
    "\n",
    "    # Load EEG data\n",
    "    eeg_data = mne.io.read_raw_fif(file_path, preload=True)\n",
    "    # Define sampling frequency\n",
    "    sfreq = eeg_data.info['sfreq']\n",
    "\n",
    "    # Define window characteristics (4 seconds)\n",
    "    win_samples = int(win_sec * sfreq)\n",
    "    total_windows = int(np.floor(len(eeg_data.times) / win_samples))\n",
    "       \n",
    "    # Create window\n",
    "    # Iterate through each window and apply bandpass filter to EEG data for each frequency band\n",
    "    for i in range(total_windows): # 1=total_windows\n",
    "        \n",
    "        # Obtain EEG data for the current window\n",
    "        start_idx = i * win_samples\n",
    "        stop_idx = (i + 1) * win_samples\n",
    "        data_descompose = eeg_data.copy().crop(tmin=start_idx / sfreq, tmax=stop_idx / sfreq)\n",
    "        channel_names=data_descompose.ch_names\n",
    "        \n",
    "        # Create frequency bands for EACH WINDOW\n",
    "        # Apply bandpass filter to EEG data for each frequency band\n",
    "        for band_name, (low_freq, high_freq) in freq_bands.items():\n",
    "            filtered_data = data_descompose.copy().filter(l_freq=low_freq, h_freq=high_freq)\n",
    "        \n",
    "            # Calculate PSD using MNE's 'psd_welch' function\n",
    "            psd, freqs = mne.time_frequency.psd_array_welch(filtered_data.get_data(), sfreq, fmin=low_freq, fmax=high_freq, n_fft=int(sfreq), n_overlap=int(sfreq / 2))\n",
    "            psd_pos_data[band_name] = psd\n",
    "   \n",
    "            for key, value in psd_pos_data.items():\n",
    "                segment_psd_pos[key] = [sum(sublist)/len(sublist) for sublist in value]\n",
    "\n",
    "            # Calculate differential entropy for each channel in the current frequency band\n",
    "            data_array = filtered_data.get_data()\n",
    "            for i in range(data_array.shape[0]):\n",
    "                std_deviation = np.std(filtered_data[i, :])\n",
    "                de = np.squeeze(gaussian_entropy(std_deviation))\n",
    "                de = np.nan_to_num(de,posinf=0.0)\n",
    "                de=np.mean(de)\n",
    "                \n",
    "                if band_name not in segment_de_pos:\n",
    "                    segment_de_pos[band_name] = [de]  # Create a new array with the first value of 'de'\n",
    "                else:\n",
    "                    segment_de_pos[band_name].append(de)  # Append the value of 'de' to the end of the existing array\n",
    "        # 2D PSD Matrix           \n",
    "        for band_name, values in segment_psd_pos.items():\n",
    "            for i, channel_name in enumerate(channel_names):\n",
    "                x, y = electrode_positions_matrix[channel_name]\n",
    "                sparse_map[y, x] = values[i]\n",
    "                \n",
    "            psd_pos_2d[band_name]=sparse_map\n",
    "        # 2D DE Matrix    \n",
    "        for band_name, values in segment_de_pos.items():\n",
    "            for i, channel_name in enumerate(channel_names):\n",
    "                x, y = electrode_positions_matrix[channel_name]\n",
    "                sparse_map[y, x] = values[i]\n",
    "                \n",
    "            de_pos_2d[band_name]=sparse_map\n",
    "        \n",
    "        # Segment creation\n",
    "        segment_pos.append([de_pos_2d,psd_pos_2d])\n",
    "        segment_pos_list.append(segment_pos)\n",
    "        \n",
    "elapsed_time = time.time() - start_time\n",
    "hour=elapsed_time/3600\n",
    "print(f\"Time: {hour:.2f} H\")"
   ]
  },
  {
   "cell_type": "markdown",
   "id": "f0475e8c",
   "metadata": {},
   "source": [
    "## Create Input 4D - (nºsegments,height,width,channels)"
   ]
  },
  {
   "cell_type": "code",
   "execution_count": 24,
   "id": "79849162",
   "metadata": {
    "scrolled": true
   },
   "outputs": [
    {
     "name": "stderr",
     "output_type": "stream",
     "text": [
      "                                          "
     ]
    },
    {
     "name": "stdout",
     "output_type": "stream",
     "text": [
      "4D input shape: (51648, 19, 19, 10)\n",
      "Time: 0.38 H\n"
     ]
    },
    {
     "name": "stderr",
     "output_type": "stream",
     "text": [
      "\r"
     ]
    }
   ],
   "source": [
    "start_time = time.time()  # Record the start time\n",
    "\n",
    "# Calculate the number of samples (batch size) from the processed segments\n",
    "num_segment = len(segment_pos_list)\n",
    "\n",
    "# Initialize the 4D input with zeros\n",
    "input_4d_pos = np.zeros((num_segment, height, width, num_maps))\n",
    "\n",
    "for i, segment in tqdm(enumerate(segment_pos_list), desc=\"Creating 4D...\", leave=False):\n",
    "    for feature_type_idx, feature_data in enumerate(segment[0]):  # Agregar [0] aquí\n",
    "        current_feature_data = segment[0][feature_type_idx]\n",
    "        for channel_idx, channel_name in enumerate(electrode_positions):\n",
    "            for band_idx, band_name in enumerate(freq_bands.keys()):\n",
    "                x, y = electrode_positions_matrix[channel_name]\n",
    "                 # Data flattening\n",
    "                current_feature_data_flat = current_feature_data[band_name].flatten()\n",
    "\n",
    "                # Winsorizing application\n",
    "                current_feature_data_winsorized = mstats.winsorize(current_feature_data_flat, limits=[0.01, 0.01])\n",
    "\n",
    "                # Reshape the data back to original form\n",
    "                current_feature_data_winsorized = current_feature_data_winsorized.reshape(current_feature_data[band_name].shape)\n",
    "\n",
    "                # Assign the winsorized data to the input matrix\n",
    "                input_4d_pos[i, y, x, band_idx + feature_type_idx * len(freq_bands)] = current_feature_data_winsorized[y, x]\n",
    "                \n",
    "print(f\"4D input shape: {input_4d_pos.shape}\")\n",
    "\n",
    "elapsed_time = time.time() - start_time\n",
    "hour=elapsed_time/3600\n",
    "print(f\"Time: {hour:.2f} H\")\n"
   ]
  },
  {
   "cell_type": "markdown",
   "id": "18cb0781",
   "metadata": {},
   "source": [
    "## Segments Neutral"
   ]
  },
  {
   "cell_type": "code",
   "execution_count": 8,
   "id": "0a4ec831",
   "metadata": {},
   "outputs": [
    {
     "name": "stderr",
     "output_type": "stream",
     "text": [
      "                                                                            "
     ]
    },
    {
     "name": "stdout",
     "output_type": "stream",
     "text": [
      "Time: 2.40 H\n"
     ]
    },
    {
     "name": "stderr",
     "output_type": "stream",
     "text": [
      "\r"
     ]
    }
   ],
   "source": [
    "start_time = time.time()  # Record the start time\n",
    "# Ruta\n",
    "emotion = 'NEUTRAL'\n",
    "emotion_folder = f'C://Users//macka//TFM_WD//ORI//SEEDs_FIF_RECOG_GAN//{emotion}'\n",
    "\n",
    "archivos = os.listdir(emotion_folder)\n",
    "names=[]\n",
    "# Prints the name of the files\n",
    "for archivo in archivos:\n",
    "    if archivo.endswith(\".fif\"):\n",
    "        names.append(archivo)\n",
    "        \n",
    "os.chdir(emotion_folder)\n",
    "\n",
    "# Data Storage\n",
    "psd_neu_data = {}\n",
    "\n",
    "psd_neu_2d={}\n",
    "de_neu_2d={}\n",
    "\n",
    "segment_psd_neu={}\n",
    "segment_de_neu={}\n",
    "\n",
    "segment_neu=[]\n",
    "segment_neu_list=[]\n",
    "\n",
    "input_data_neu=[]\n",
    "\n",
    "# Loads the files and creates the segments\n",
    "for name in tqdm(names,desc=\"Procesing new file...\", leave=False):\n",
    "    # The path to the file that contains the EEG is defined\n",
    "    file = name\n",
    "    file_path = os.path.join(emotion_folder, file)\n",
    "\n",
    "    # Load EEG data\n",
    "    eeg_data = mne.io.read_raw_fif(file_path, preload=True)\n",
    "    # Define sampling frequency\n",
    "    sfreq = eeg_data.info['sfreq']\n",
    "\n",
    "    # Define window characteristics (4 seconds)\n",
    "    win_samples = int(win_sec * sfreq)\n",
    "    total_windows = int(np.floor(len(eeg_data.times) / win_samples))\n",
    "      \n",
    "    # Create window\n",
    "    # Iterate through each window and apply bandpass filter to EEG data for each frequency band\n",
    "    for i in range(total_windows): # 1=total_windows\n",
    "        \n",
    "        # Obtain EEG data for the current window\n",
    "        start_idx = i * win_samples\n",
    "        stop_idx = (i + 1) * win_samples\n",
    "        data_descompose = eeg_data.copy().crop(tmin=start_idx / sfreq, tmax=stop_idx / sfreq)\n",
    "        channel_names=data_descompose.ch_names\n",
    "        \n",
    "        # Create frequency bands for EACH WINDOW\n",
    "        # Apply bandpass filter to EEG data for each frequency band\n",
    "        for band_name, (low_freq, high_freq) in freq_bands.items():\n",
    "            filtered_data = data_descompose.copy().filter(l_freq=low_freq, h_freq=high_freq)\n",
    "        \n",
    "            # Calculate PSD using MNE's 'psd_welch' function\n",
    "            psd, freqs = mne.time_frequency.psd_array_welch(filtered_data.get_data(), sfreq, fmin=low_freq, fmax=high_freq, n_fft=int(sfreq), n_overlap=int(sfreq / 2))\n",
    "            psd_neu_data[band_name] = psd\n",
    "   \n",
    "            for key, value in psd_neu_data.items():\n",
    "                segment_psd_neu[key] = [sum(sublist)/len(sublist) for sublist in value]\n",
    "\n",
    "            # Calculate differential entropy for each channel in the current frequency band\n",
    "            data_array = filtered_data.get_data()\n",
    "            for i in range(data_array.shape[0]):\n",
    "                std_deviation = np.std(filtered_data[i, :])\n",
    "                de = np.squeeze(gaussian_entropy(std_deviation))\n",
    "                de = np.nan_to_num(de,posinf=0.0)\n",
    "                de=np.mean(de)\n",
    "                \n",
    "                if band_name not in segment_de_neu:\n",
    "                    segment_de_neu[band_name] = [de]  # Create a new array with the first value of 'de'\n",
    "                else:\n",
    "                    segment_de_neu[band_name].append(de)  # Append the value of 'de' to the end of the existing array\n",
    "        # 2D PSD Matrix          \n",
    "        for band_name, values in segment_psd_neu.items():\n",
    "            for i, channel_name in enumerate(channel_names):\n",
    "                x, y = electrode_positions_matrix[channel_name]\n",
    "                sparse_map[y, x] = values[i]\n",
    "                \n",
    "            psd_neu_2d[band_name]=sparse_map\n",
    "        # 2D DE Matrix\n",
    "        for band_name, values in segment_de_neu.items():\n",
    "            for i, channel_name in enumerate(channel_names):\n",
    "                x, y = electrode_positions_matrix[channel_name]\n",
    "                sparse_map[y, x] = values[i]\n",
    "                \n",
    "            de_neu_2d[band_name]=sparse_map\n",
    "        \n",
    "        # Segment creation\n",
    "        segment_neu.append([de_neu_2d,psd_neu_2d])\n",
    "        segment_neu_list.append(segment_neu)\n",
    "\n",
    "elapsed_time = time.time() - start_time\n",
    "hour=elapsed_time/3600\n",
    "print(f\"Time: {hour:.2f} H\")"
   ]
  },
  {
   "cell_type": "markdown",
   "id": "2ac426f6",
   "metadata": {},
   "source": [
    "## Create Input 4D - (nºsegments,height,width,channels)"
   ]
  },
  {
   "cell_type": "code",
   "execution_count": 25,
   "id": "af17e284",
   "metadata": {},
   "outputs": [
    {
     "name": "stderr",
     "output_type": "stream",
     "text": [
      "                                          "
     ]
    },
    {
     "name": "stdout",
     "output_type": "stream",
     "text": [
      "4D input shape: (55376, 19, 19, 10)\n",
      "Time: 0.39 H\n"
     ]
    },
    {
     "name": "stderr",
     "output_type": "stream",
     "text": [
      "\r"
     ]
    }
   ],
   "source": [
    "start_time = time.time()  # Record the start time\n",
    "# Calculate the number of samples (batch size) from the processed segments\n",
    "num_segment = len(segment_neu_list)\n",
    "\n",
    "# Initialize the 4D input with zeros\n",
    "input_4d_neu = np.zeros((num_segment, height, width, num_maps))\n",
    "\n",
    "for i, segment in tqdm(enumerate(segment_neu_list), desc=\"Creating 4D...\", leave=False):\n",
    "    for feature_type_idx, feature_data in enumerate(segment[0]):  # Agregar [0] aquí\n",
    "        current_feature_data = segment[0][feature_type_idx]\n",
    "        for channel_idx, channel_name in enumerate(electrode_positions):\n",
    "            for band_idx, band_name in enumerate(freq_bands.keys()):\n",
    "                x, y = electrode_positions_matrix[channel_name]\n",
    "                 # Data flattening\n",
    "                current_feature_data_flat = current_feature_data[band_name].flatten()\n",
    "\n",
    "                # Winsorizing application\n",
    "                current_feature_data_winsorized = mstats.winsorize(current_feature_data_flat, limits=[0.01, 0.01])\n",
    "\n",
    "                # Reshape the data back to original form\n",
    "                current_feature_data_winsorized = current_feature_data_winsorized.reshape(current_feature_data[band_name].shape)\n",
    "\n",
    "                # Assign the winsorized data to the input matrix\n",
    "                input_4d_neu[i, y, x, band_idx + feature_type_idx * len(freq_bands)] = current_feature_data_winsorized[y, x]\n",
    "print(f\"4D input shape: {input_4d_neu.shape}\")\n",
    "\n",
    "elapsed_time = time.time() - start_time\n",
    "hour=elapsed_time/3600\n",
    "print(f\"Time: {hour:.2f} H\")"
   ]
  },
  {
   "cell_type": "markdown",
   "id": "863618b5",
   "metadata": {},
   "source": [
    "## Segments Negatives"
   ]
  },
  {
   "cell_type": "code",
   "execution_count": 9,
   "id": "3745731f",
   "metadata": {},
   "outputs": [
    {
     "name": "stderr",
     "output_type": "stream",
     "text": [
      "                                                                            "
     ]
    },
    {
     "name": "stdout",
     "output_type": "stream",
     "text": [
      "Time: 2.84 H\n"
     ]
    },
    {
     "name": "stderr",
     "output_type": "stream",
     "text": [
      "\r"
     ]
    }
   ],
   "source": [
    "start_time = time.time()  # Record the start time\n",
    "# Path\n",
    "emotion ='NEGATIVE'\n",
    "emotion_folder = f'C://Users//macka//TFM_WD//ORI//SEEDs_FIF_RECOG_GAN//{emotion}'\n",
    "\n",
    "archivos = os.listdir(emotion_folder)\n",
    "names=[]\n",
    "# Prints the name of the files\n",
    "for archivo in archivos:\n",
    "    if archivo.endswith(\".fif\"):\n",
    "        names.append(archivo)\n",
    "        \n",
    "os.chdir(emotion_folder)\n",
    "\n",
    "#Data Storage\n",
    "psd_neg_data = {}\n",
    "\n",
    "psd_neg_2d={}\n",
    "de_neg_2d={}\n",
    "\n",
    "segment_psd_neg={}\n",
    "segment_de_neg={}\n",
    "\n",
    "psd_list=[]\n",
    "de_list=[]\n",
    "\n",
    "segment_neg=[]\n",
    "segment_neg_list=[]\n",
    "\n",
    "input_data_neg=[]\n",
    "\n",
    "# Load and creation of the segment for each file \n",
    "for name in tqdm(names,desc=\"Procesing new file...\", leave=False):\n",
    "    # The path to the file that contains the EEG is defined\n",
    "    file = name\n",
    "    file_path = os.path.join(emotion_folder, file)\n",
    "\n",
    "    # Load EEG data\n",
    "    eeg_data = mne.io.read_raw_fif(file_path, preload=True)\n",
    "    # Define sampling frequency\n",
    "    sfreq = eeg_data.info['sfreq']\n",
    "\n",
    "    # Define window characteristics (4 seconds)\n",
    "    win_samples = int(win_sec * sfreq)\n",
    "    total_windows = int(np.floor(len(eeg_data.times) / win_samples))\n",
    "         \n",
    "    # Create window\n",
    "    # Iterate through each window and apply bandpass filter to EEG data for each frequency band\n",
    "    for i in range(total_windows): # 1=total_windows\n",
    "        \n",
    "        # Obtain EEG data for the current window\n",
    "        start_idx = i * win_samples\n",
    "        stop_idx = (i + 1) * win_samples\n",
    "        data_descompose = eeg_data.copy().crop(tmin=start_idx / sfreq, tmax=stop_idx / sfreq)\n",
    "        channel_names=data_descompose.ch_names\n",
    "        \n",
    "        # Create frequency bands for EACH WINDOW\n",
    "        # Apply bandpass filter to EEG data for each frequency band\n",
    "        for band_name, (low_freq, high_freq) in freq_bands.items():\n",
    "            filtered_data = data_descompose.copy().filter(l_freq=low_freq, h_freq=high_freq)\n",
    "        \n",
    "            # Calculate PSD using MNE's 'psd_welch' function\n",
    "            psd, freqs = mne.time_frequency.psd_array_welch(filtered_data.get_data(), sfreq, fmin=low_freq, fmax=high_freq, n_fft=int(sfreq), n_overlap=int(sfreq / 2))\n",
    "            psd_neg_data[band_name] = psd\n",
    "   \n",
    "            for key, value in psd_neg_data.items():\n",
    "                segment_psd_neg[key] = [sum(sublist)/len(sublist) for sublist in value]\n",
    "\n",
    "            # Calculate differential entropy for each channel in the current frequency band\n",
    "            data_array = filtered_data.get_data()\n",
    "            for i in range(data_array.shape[0]):\n",
    "                std_deviation = np.std(filtered_data[i, :])\n",
    "                de = np.squeeze(gaussian_entropy(std_deviation))\n",
    "                de = np.nan_to_num(de,posinf=0.0)\n",
    "                de=np.mean(de)\n",
    "                \n",
    "                if band_name not in segment_de_neg:\n",
    "                    segment_de_neg[band_name] = [de]  # Create a new array with the first value of 'de'\n",
    "                else:\n",
    "                    segment_de_neg[band_name].append(de)  # Append the value of 'de' to the end of the existing array\n",
    "                    \n",
    "        # 2D PSD Matrix         \n",
    "        for band_name, values in segment_psd_neg.items():\n",
    "            for i, channel_name in enumerate(channel_names):\n",
    "                x, y = electrode_positions_matrix[channel_name]\n",
    "                sparse_map[y, x] = values[i]\n",
    "                \n",
    "            psd_neg_2d[band_name]=sparse_map\n",
    "        # 2D DE Matrix    \n",
    "        for band_name, values in segment_de_neg.items():\n",
    "            for i, channel_name in enumerate(channel_names):\n",
    "                x, y = electrode_positions_matrix[channel_name]\n",
    "                sparse_map[y, x] = values[i]\n",
    "                \n",
    "            de_neg_2d[band_name]=sparse_map\n",
    "        \n",
    "        # Segment creation\n",
    "        segment_neg.append([de_neg_2d,psd_neg_2d])\n",
    "        segment_neg_list.append(segment_neg)\n",
    "        \n",
    "elapsed_time = time.time() - start_time\n",
    "hour=elapsed_time/3600\n",
    "print(f\"Time: {hour:.2f} H\")"
   ]
  },
  {
   "cell_type": "markdown",
   "id": "430f9028",
   "metadata": {},
   "source": [
    "## Create Input 4D - (nºsegments,height,width,channels)"
   ]
  },
  {
   "cell_type": "code",
   "execution_count": 26,
   "id": "89f25de2",
   "metadata": {},
   "outputs": [
    {
     "name": "stderr",
     "output_type": "stream",
     "text": [
      "                                          "
     ]
    },
    {
     "name": "stdout",
     "output_type": "stream",
     "text": [
      "4D input shape: (62288, 19, 19, 10)\n",
      "Time: 0.44 H\n"
     ]
    },
    {
     "name": "stderr",
     "output_type": "stream",
     "text": [
      "\r"
     ]
    }
   ],
   "source": [
    "start_time = time.time()  # Record the start time\n",
    "\n",
    "# Calculate the number of samples (batch size) from the processed segments\n",
    "num_segment = len(segment_neg_list)\n",
    "\n",
    "# Define the number of num_maps based on the number of EEG num_maps\n",
    "num_maps = len(freq_bands) * 2 \n",
    "\n",
    "# Initialize the 4D input with zeros\n",
    "input_4d_neg = np.zeros((num_segment, height, width, num_maps))\n",
    "\n",
    "for i, segment in tqdm(enumerate(segment_neg_list), desc=\"Creating 4D...\", leave=False):\n",
    "    for feature_type_idx, feature_data in enumerate(segment[0]):  # Agregar [0] aquí\n",
    "        current_feature_data = segment[0][feature_type_idx]\n",
    "        for channel_idx, channel_name in enumerate(electrode_positions):\n",
    "            for band_idx, band_name in enumerate(freq_bands.keys()):\n",
    "                x, y = electrode_positions_matrix[channel_name]\n",
    " # Data flattening\n",
    "                current_feature_data_flat = current_feature_data[band_name].flatten()\n",
    "\n",
    "                # Winsorizing aplication\n",
    "                current_feature_data_winsorized = mstats.winsorize(current_feature_data_flat, limits=[0.01, 0.01])\n",
    "\n",
    "                # Reshape the data back to original form\n",
    "                current_feature_data_winsorized = current_feature_data_winsorized.reshape(current_feature_data[band_name].shape)\n",
    "\n",
    "                # Assign the winsorized data to the input matrix\n",
    "                input_4d_neg[i, y, x, band_idx + feature_type_idx * len(freq_bands)] = current_feature_data_winsorized[y, x]\n",
    "print(f\"4D input shape: {input_4d_neg.shape}\")\n",
    "\n",
    "elapsed_time = time.time() - start_time\n",
    "hour=elapsed_time/3600\n",
    "print(f\"Time: {hour:.2f} H\")"
   ]
  },
  {
   "cell_type": "markdown",
   "id": "acaf4c7f",
   "metadata": {},
   "source": [
    "# Reconocimiento de emociones"
   ]
  },
  {
   "cell_type": "markdown",
   "id": "0fe1abe2",
   "metadata": {},
   "source": [
    "Once We have the data in segments We use those segments to create the data for training our model and the data to test our model."
   ]
  },
  {
   "cell_type": "code",
   "execution_count": 27,
   "id": "30502feb",
   "metadata": {},
   "outputs": [
    {
     "name": "stdout",
     "output_type": "stream",
     "text": [
      "X (train/test/val):135618,16932,16762 -- y (train/test/val):135618,16932,16762\n"
     ]
    }
   ],
   "source": [
    "# Concatenate the 4D inputs for each emotion\n",
    "X = np.concatenate([input_4d_pos, input_4d_neu, input_4d_neg], axis=0)\n",
    "X_standardized = (X - X.mean()) / X.std()\n",
    "\n",
    "# Create labels for each emotion\n",
    "# # Assuming the labels are 2 for positive, 1 for neutral, and 0 for negative\n",
    "y_positive = np.full((input_4d_pos.shape[0],), 1, dtype=int)\n",
    "y_neutral = np.full((input_4d_neu.shape[0],), 0, dtype=int)\n",
    "y_negative = np.full((input_4d_neg.shape[0],), -1, dtype=int)\n",
    "\n",
    "# Concatenate the labels\n",
    "y = np.concatenate([y_positive,y_neutral, y_negative], axis=0) \n",
    "\n",
    "# Divide los datos en conjuntos de entrenamiento y prueba\n",
    "X_train, X_test, y_train, y_test = train_test_split(X, y, test_size=0.10, random_state= 42)\n",
    "X_train, X_val, y_train, y_val = train_test_split(X_train, y_train, test_size=0.11, random_state=42)\n",
    "\n",
    "print(f'X (train/test/val):{len(X_train)},{len(X_test)},{len(X_val)} -- y (train/test/val):{len(y_train)},{len(y_test)},{len(y_val)}')"
   ]
  },
  {
   "cell_type": "markdown",
   "id": "53ece70e",
   "metadata": {},
   "source": [
    "## Model 1 "
   ]
  },
  {
   "cell_type": "markdown",
   "id": "4292b7d8",
   "metadata": {},
   "source": [
    "We create the CNN model and train it."
   ]
  },
  {
   "cell_type": "code",
   "execution_count": 28,
   "id": "0e640924",
   "metadata": {},
   "outputs": [],
   "source": [
    "def build_CNN_model1(input_shape, num_classes):\n",
    "        \n",
    "\n",
    "    model1 = Sequential()\n",
    "\n",
    "    model1.add(Conv2D(32, (3, 3), activation='relu', padding='same', input_shape=input_shape, kernel_regularizer=l2(l2_reg)))\n",
    "    model1.add(BatchNormalization())\n",
    "    model1.add(MaxPooling2D((2, 2)))\n",
    "    model1.add(Dropout(0.25))\n",
    "\n",
    "    model1.add(Conv2D(64, (3, 3), activation='relu', padding='same', kernel_regularizer=l2(l2_reg)))\n",
    "    model1.add(BatchNormalization())\n",
    "    model1.add(MaxPooling2D((2, 2)))\n",
    "    model1.add(Dropout(0.25))\n",
    "\n",
    "    model1.add(Conv2D(128, (3, 3), activation='relu', padding='same', kernel_regularizer=l2(l2_reg)))\n",
    "    model1.add(BatchNormalization())\n",
    "    model1.add(MaxPooling2D((2, 2)))\n",
    "    model1.add(Dropout(0.25))\n",
    "\n",
    "    model1.add(Flatten())\n",
    "\n",
    "    model1.add(Dense(512, activation='relu', kernel_regularizer=l2(l2_reg)))\n",
    "    model1.add(BatchNormalization())\n",
    "    model1.add(Dropout(0.5))\n",
    "\n",
    "    model1.add(Dense(1024, activation='relu', kernel_regularizer=l2(l2_reg)))\n",
    "    model1.add(BatchNormalization())\n",
    "    model1.add(Dropout(0.5))\n",
    "\n",
    "    model1.add(Dense(num_classes, activation='softmax'))\n",
    "\n",
    "    model1.compile(optimizer=Adam(lr=0.001), loss='categorical_crossentropy', metrics=['accuracy'])\n",
    "        \n",
    "    return model1\n",
    "\n",
    "l2_reg = 0.001\n",
    "input_shape = X_train.shape[1:]\n",
    "num_classes = 3\n",
    "\n",
    "model1 = build_CNN_model1(input_shape, num_classes)\n",
    "\n",
    "start_time = time.time()"
   ]
  },
  {
   "cell_type": "code",
   "execution_count": 32,
   "id": "a7618b8e",
   "metadata": {
    "scrolled": true
   },
   "outputs": [
    {
     "name": "stdout",
     "output_type": "stream",
     "text": [
      "Epoch 1/20\n",
      "4239/4239 [==============================] - 71s 17ms/step - loss: 1.1069 - accuracy: 0.3616 - val_loss: 1.1105 - val_accuracy: 0.3674\n",
      "Epoch 2/20\n",
      "4239/4239 [==============================] - 76s 18ms/step - loss: 1.1085 - accuracy: 0.3619 - val_loss: 1.1045 - val_accuracy: 0.3674\n",
      "Epoch 3/20\n",
      "4239/4239 [==============================] - 78s 18ms/step - loss: 1.1075 - accuracy: 0.3627 - val_loss: 1.1038 - val_accuracy: 0.3674\n",
      "Epoch 4/20\n",
      "4239/4239 [==============================] - 76s 18ms/step - loss: 1.1080 - accuracy: 0.3605 - val_loss: 1.1113 - val_accuracy: 0.3674\n",
      "Epoch 5/20\n",
      "4239/4239 [==============================] - 75s 18ms/step - loss: 1.1068 - accuracy: 0.3626 - val_loss: 1.1086 - val_accuracy: 0.3674\n",
      "Epoch 6/20\n",
      "4239/4239 [==============================] - 75s 18ms/step - loss: 1.1086 - accuracy: 0.3619 - val_loss: 1.1066 - val_accuracy: 0.3674\n",
      "Epoch 7/20\n",
      "4239/4239 [==============================] - 75s 18ms/step - loss: 1.1077 - accuracy: 0.3611 - val_loss: 1.1053 - val_accuracy: 0.3674\n",
      "Epoch 8/20\n",
      "4239/4239 [==============================] - 76s 18ms/step - loss: 1.1065 - accuracy: 0.3626 - val_loss: 1.1072 - val_accuracy: 0.3674\n",
      "Epoch 9/20\n",
      "4239/4239 [==============================] - 74s 18ms/step - loss: 1.1080 - accuracy: 0.3607 - val_loss: 1.1056 - val_accuracy: 0.3674\n",
      "Epoch 10/20\n",
      "4239/4239 [==============================] - 75s 18ms/step - loss: 1.1062 - accuracy: 0.3611 - val_loss: 1.1061 - val_accuracy: 0.3674\n",
      "Epoch 11/20\n",
      "4239/4239 [==============================] - 75s 18ms/step - loss: 1.1071 - accuracy: 0.3615 - val_loss: 1.1077 - val_accuracy: 0.3674\n",
      "Epoch 12/20\n",
      "4239/4239 [==============================] - 74s 17ms/step - loss: 1.1067 - accuracy: 0.3622 - val_loss: 1.1105 - val_accuracy: 0.3674\n",
      "Epoch 13/20\n",
      "4239/4239 [==============================] - 74s 17ms/step - loss: 1.1071 - accuracy: 0.3612 - val_loss: 1.1068 - val_accuracy: 0.3674\n",
      "Epoch 14/20\n",
      "4239/4239 [==============================] - 74s 17ms/step - loss: 1.1071 - accuracy: 0.3615 - val_loss: 1.1087 - val_accuracy: 0.3674\n",
      "Epoch 15/20\n",
      "4239/4239 [==============================] - 75s 18ms/step - loss: 1.1067 - accuracy: 0.3609 - val_loss: 1.1022 - val_accuracy: 0.3674\n",
      "Epoch 16/20\n",
      "4239/4239 [==============================] - 76s 18ms/step - loss: 1.1064 - accuracy: 0.3621 - val_loss: 1.1089 - val_accuracy: 0.3674\n",
      "Epoch 17/20\n",
      "4239/4239 [==============================] - 75s 18ms/step - loss: 1.1066 - accuracy: 0.3617 - val_loss: 1.1022 - val_accuracy: 0.3674\n",
      "Epoch 18/20\n",
      "4239/4239 [==============================] - 72s 17ms/step - loss: 1.1043 - accuracy: 0.3623 - val_loss: 1.1083 - val_accuracy: 0.3674\n",
      "Epoch 19/20\n",
      "4239/4239 [==============================] - 74s 18ms/step - loss: 1.1063 - accuracy: 0.3619 - val_loss: 1.1050 - val_accuracy: 0.3674\n",
      "Epoch 20/20\n",
      "4239/4239 [==============================] - 78s 18ms/step - loss: 1.1049 - accuracy: 0.3625 - val_loss: 1.1012 - val_accuracy: 0.3674\n",
      "Time: 0.92 H\n"
     ]
    }
   ],
   "source": [
    "epochs = 20\n",
    "batch_size = 32\n",
    "\n",
    "y_train_onehot = to_categorical(y_train, num_classes=3)\n",
    "y_test_onehot = to_categorical(y_test, num_classes=3)\n",
    "y_val_onehot = to_categorical(y_val, num_classes=3)\n",
    "history = model1.fit(X_train, y_train_onehot, epochs=epochs, batch_size=batch_size, validation_data=(X_val, y_val_onehot))\n",
    "\n",
    "elapsed_time = time.time() - start_time\n",
    "hour=elapsed_time/3600\n",
    "print(f\"Time: {hour:.2f} H\")"
   ]
  },
  {
   "cell_type": "markdown",
   "id": "6bc5f879",
   "metadata": {},
   "source": [
    "Once is trained We can see that the accuracy with the test data that We reach is of 37.24. Which is low."
   ]
  },
  {
   "cell_type": "code",
   "execution_count": 33,
   "id": "a601ace2",
   "metadata": {},
   "outputs": [
    {
     "name": "stdout",
     "output_type": "stream",
     "text": [
      "530/530 [==============================] - 3s 6ms/step - loss: 1.0998 - accuracy: 0.3725\n",
      "ACC. TEST: 0.37248995900154114 -- ACC. TRAIN: 0.36254775524139404 \n"
     ]
    }
   ],
   "source": [
    "accuracy_train = model1.history.history['accuracy'][-1]\n",
    "loss0, accuracy_test = model1.evaluate(X_test, y_test_onehot)\n",
    "\n",
    "print(f'ACC. TEST: {accuracy_test} -- ACC. TRAIN: {accuracy_train} ')"
   ]
  },
  {
   "cell_type": "markdown",
   "id": "d206291b",
   "metadata": {},
   "source": [
    "Finally We make a visualization of how the accuracy of the training and validation set change through the training.\n",
    "We do a similar visualization for the loss."
   ]
  },
  {
   "cell_type": "code",
   "execution_count": 34,
   "id": "8bc1d56a",
   "metadata": {},
   "outputs": [
    {
     "data": {
      "image/png": "[encoded data removed]",
      "text/plain": [
       "<Figure size 1000x500 with 2 Axes>"
      ]
     },
     "metadata": {},
     "output_type": "display_data"
    }
   ],
   "source": [
    "fig, axs = plt.subplots(nrows=1, ncols=2, figsize=(10, 5))\n",
    "\n",
    "# To visualize the accuracy of training and validation over time\n",
    "axs[0].plot(history.history['accuracy'])\n",
    "axs[0].plot(history.history['val_accuracy'])\n",
    "axs[0].set_title('Learning Curves')\n",
    "axs[0].set_ylabel('Accuracy')\n",
    "axs[0].set_xlabel('Epochs')\n",
    "axs[0].legend(['Train', 'Validation'], loc='upper left')\n",
    "\n",
    "\n",
    "# Visualize the loss of training and validation over time\n",
    "axs[1].plot(history.history['loss'])\n",
    "axs[1].plot(history.history['val_loss'])\n",
    "axs[1].set_title('Learning Curves')\n",
    "axs[1].set_ylabel('Loss')\n",
    "axs[1].set_xlabel('Epochs')\n",
    "axs[1].legend(['Train', 'Validation'], loc='upper left')\n",
    "fig.show()"
   ]
  }
 ],
 "metadata": {
  "kernelspec": {
   "display_name": "Python 3 (ipykernel)",
   "language": "python",
   "name": "python3"
  },
  "language_info": {
   "codemirror_mode": {
    "name": "ipython",
    "version": 3
   },
   "file_extension": ".py",
   "mimetype": "text/x-python",
   "name": "python",
   "nbconvert_exporter": "python",
   "pygments_lexer": "ipython3",
   "version": "3.10.10"
  },
  "toc": {
   "base_numbering": 1,
   "nav_menu": {},
   "number_sections": true,
   "sideBar": true,
   "skip_h1_title": false,
   "title_cell": "Table of Contents",
   "title_sidebar": "Contents",
   "toc_cell": false,
   "toc_position": {},
   "toc_section_display": true,
   "toc_window_display": false
  }
 },
 "nbformat": 4,
 "nbformat_minor": 5
}
