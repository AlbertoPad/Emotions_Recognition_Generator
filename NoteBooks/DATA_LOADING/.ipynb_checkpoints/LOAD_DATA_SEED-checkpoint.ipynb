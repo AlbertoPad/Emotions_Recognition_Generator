{
 "cells": [
  {
   "cell_type": "markdown",
   "id": "drawn-winning",
   "metadata": {},
   "source": [
    "### In this tutorial, we will use ```mne``` to load ```.cnt``` file\n",
    "\n",
    "- author: Wei Liu\n",
    "- Date: May 11, 2021\n",
    "- [BCMI lab, Shanghai Jiao Tong University](http://bcmi.sjtu.edu.cn)"
   ]
  },
  {
   "cell_type": "markdown",
   "id": "numeric-bulletin",
   "metadata": {},
   "source": [
    "For more information about ```mne```, please go to website: [https://mne.tools/stable/index.html](https://mne.tools/stable/index.html)"
   ]
  },
  {
   "cell_type": "code",
   "execution_count": 23,
   "id": "lyric-masters",
   "metadata": {},
   "outputs": [
    {
     "name": "stdout",
     "output_type": "stream",
     "text": [
      "1.23.5\n",
      "1.3.1\n"
     ]
    }
   ],
   "source": [
    "#Library Processing EEG\n",
    "import mne\n",
    "\n",
    "#Library Data Analisys\n",
    "import pandas as pd\n",
    "import numpy as np\n",
    "\n",
    "#Library Tools System\n",
    "import os\n",
    "from tqdm import tqdm\n",
    "import re\n",
    "import time\n",
    "import shutil\n",
    "\n",
    "print(np.__version__)\n",
    "print(mne.__version__)"
   ]
  },
  {
   "cell_type": "code",
   "execution_count": 20,
   "id": "c537ee75",
   "metadata": {},
   "outputs": [
    {
     "data": {
      "text/plain": [
       "'C:\\\\Users\\\\macka\\\\TFM_WD\\\\SEED\\\\01-EEG-raw\\\\01-EEG-raw'"
      ]
     },
     "execution_count": 20,
     "metadata": {},
     "output_type": "execute_result"
    }
   ],
   "source": [
    "os.getcwd()"
   ]
  },
  {
   "cell_type": "code",
   "execution_count": 21,
   "id": "bea5b4c6",
   "metadata": {},
   "outputs": [
    {
     "name": "stdout",
     "output_type": "stream",
     "text": [
      "['10_1.cnt', '10_2.cnt', '10_3.cnt', '11_1.cnt', '11_2.cnt', '11_3.cnt', '12_1.cnt', '12_2.cnt', '12_3.cnt', '13_1.cnt', '13_2.cnt', '13_3.cnt', '14_1.cnt', '14_2.cnt', '14_3.cnt', '1_1.cnt', '1_2.cnt', '1_3.cnt', '2_1.cnt', '2_2.cnt', '2_3.cnt', '3_1.cnt', '3_2.cnt', '3_3.cnt', '4_1.cnt', '4_2.cnt', '4_3.cnt', '5_1.cnt', '5_2.cnt', '5_3.cnt', '8_1.cnt', '8_2.cnt', '8_3.cnt', '9_1.cnt', '9_2.cnt', '9_3.cnt']\n"
     ]
    }
   ],
   "source": [
    "# obtener una lista con los nombres de todos los archivos en la carpeta\n",
    "os.chdir('C:\\\\Users\\\\macka\\\\TFM_WD\\\\SEED\\\\01-EEG-raw\\\\01-EEG-raw')\n",
    "\n",
    "archivos = os.listdir()\n",
    "names=[]\n",
    "# imprime los nombres de los archivos\n",
    "for archivo in archivos:\n",
    "    if archivo.endswith(\".cnt\"):\n",
    "        names.append(archivo)\n",
    "print(names)"
   ]
  },
  {
   "cell_type": "code",
   "execution_count": 22,
   "id": "continental-clearance",
   "metadata": {
    "scrolled": true
   },
   "outputs": [
    {
     "name": "stderr",
     "output_type": "stream",
     "text": [
      "C:\\Users\\macka\\AppData\\Local\\Temp\\ipykernel_23460\\522192252.py:6: RuntimeWarning: Could not define the number of bytes automatically. Defaulting to 2.\n",
      "  eeg_raw = mne.io.read_raw_cnt(name, preload=False)  # Set preload to False\n",
      "Processing: 100%|██████████| 15/15 [00:27<00:00,  1.83s/it]\n",
      "C:\\Users\\macka\\AppData\\Local\\Temp\\ipykernel_23460\\522192252.py:6: RuntimeWarning: Could not define the number of bytes automatically. Defaulting to 2.\n",
      "  eeg_raw = mne.io.read_raw_cnt(name, preload=False)  # Set preload to False\n",
      "Processing: 100%|██████████| 15/15 [00:28<00:00,  1.89s/it]\n",
      "C:\\Users\\macka\\AppData\\Local\\Temp\\ipykernel_23460\\522192252.py:6: RuntimeWarning:   Could not parse meas date from the header. Setting to None.\n",
      "  eeg_raw = mne.io.read_raw_cnt(name, preload=False)  # Set preload to False\n",
      "C:\\Users\\macka\\AppData\\Local\\Temp\\ipykernel_23460\\522192252.py:6: RuntimeWarning: Could not define the number of bytes automatically. Defaulting to 2.\n",
      "  eeg_raw = mne.io.read_raw_cnt(name, preload=False)  # Set preload to False\n",
      "Processing: 100%|██████████| 15/15 [00:27<00:00,  1.81s/it]\n",
      "C:\\Users\\macka\\AppData\\Local\\Temp\\ipykernel_23460\\522192252.py:6: RuntimeWarning: Could not define the number of bytes automatically. Defaulting to 2.\n",
      "  eeg_raw = mne.io.read_raw_cnt(name, preload=False)  # Set preload to False\n",
      "Processing: 100%|██████████| 15/15 [00:27<00:00,  1.81s/it]\n",
      "C:\\Users\\macka\\AppData\\Local\\Temp\\ipykernel_23460\\522192252.py:6: RuntimeWarning:   Could not parse meas date from the header. Setting to None.\n",
      "  eeg_raw = mne.io.read_raw_cnt(name, preload=False)  # Set preload to False\n",
      "C:\\Users\\macka\\AppData\\Local\\Temp\\ipykernel_23460\\522192252.py:6: RuntimeWarning: Could not define the number of bytes automatically. Defaulting to 2.\n",
      "  eeg_raw = mne.io.read_raw_cnt(name, preload=False)  # Set preload to False\n",
      "Processing: 100%|██████████| 15/15 [00:28<00:00,  1.91s/it]\n",
      "C:\\Users\\macka\\AppData\\Local\\Temp\\ipykernel_23460\\522192252.py:6: RuntimeWarning:   Could not parse meas date from the header. Setting to None.\n",
      "  eeg_raw = mne.io.read_raw_cnt(name, preload=False)  # Set preload to False\n",
      "C:\\Users\\macka\\AppData\\Local\\Temp\\ipykernel_23460\\522192252.py:6: RuntimeWarning: Could not define the number of bytes automatically. Defaulting to 2.\n",
      "  eeg_raw = mne.io.read_raw_cnt(name, preload=False)  # Set preload to False\n",
      "Processing: 100%|██████████| 15/15 [00:27<00:00,  1.81s/it]\n",
      "C:\\Users\\macka\\AppData\\Local\\Temp\\ipykernel_23460\\522192252.py:6: RuntimeWarning: Could not define the number of bytes automatically. Defaulting to 2.\n",
      "  eeg_raw = mne.io.read_raw_cnt(name, preload=False)  # Set preload to False\n",
      "Processing: 100%|██████████| 15/15 [00:31<00:00,  2.08s/it]\n",
      "C:\\Users\\macka\\anaconda3\\envs\\tf2.6\\lib\\site-packages\\mne\\io\\cnt\\cnt.py:240: RuntimeWarning: overflow encountered in long_scalars\n",
      "  data_size // (n_samples * n_channels) not in [2, 4]):\n",
      "C:\\Users\\macka\\AppData\\Local\\Temp\\ipykernel_23460\\522192252.py:6: RuntimeWarning: Could not define the number of bytes automatically. Defaulting to 2.\n",
      "  eeg_raw = mne.io.read_raw_cnt(name, preload=False)  # Set preload to False\n",
      "Processing: 100%|██████████| 15/15 [00:28<00:00,  1.89s/it]\n",
      "C:\\Users\\macka\\AppData\\Local\\Temp\\ipykernel_23460\\522192252.py:6: RuntimeWarning: Could not define the number of bytes automatically. Defaulting to 2.\n",
      "  eeg_raw = mne.io.read_raw_cnt(name, preload=False)  # Set preload to False\n",
      "Processing: 100%|██████████| 15/15 [00:31<00:00,  2.07s/it]\n",
      "C:\\Users\\macka\\AppData\\Local\\Temp\\ipykernel_23460\\522192252.py:6: RuntimeWarning:   Could not parse meas date from the header. Setting to None.\n",
      "  eeg_raw = mne.io.read_raw_cnt(name, preload=False)  # Set preload to False\n",
      "C:\\Users\\macka\\AppData\\Local\\Temp\\ipykernel_23460\\522192252.py:6: RuntimeWarning: Could not define the number of bytes automatically. Defaulting to 2.\n",
      "  eeg_raw = mne.io.read_raw_cnt(name, preload=False)  # Set preload to False\n",
      "Processing: 100%|██████████| 15/15 [00:29<00:00,  1.98s/it]\n",
      "C:\\Users\\macka\\AppData\\Local\\Temp\\ipykernel_23460\\522192252.py:6: RuntimeWarning: Could not define the number of bytes automatically. Defaulting to 2.\n",
      "  eeg_raw = mne.io.read_raw_cnt(name, preload=False)  # Set preload to False\n",
      "Processing: 100%|██████████| 15/15 [00:28<00:00,  1.90s/it]\n",
      "C:\\Users\\macka\\AppData\\Local\\Temp\\ipykernel_23460\\522192252.py:6: RuntimeWarning: Could not define the number of bytes automatically. Defaulting to 2.\n",
      "  eeg_raw = mne.io.read_raw_cnt(name, preload=False)  # Set preload to False\n",
      "Processing: 100%|██████████| 15/15 [00:28<00:00,  1.91s/it]\n",
      "C:\\Users\\macka\\anaconda3\\envs\\tf2.6\\lib\\site-packages\\mne\\io\\cnt\\cnt.py:240: RuntimeWarning: overflow encountered in long_scalars\n",
      "  data_size // (n_samples * n_channels) not in [2, 4]):\n",
      "C:\\Users\\macka\\AppData\\Local\\Temp\\ipykernel_23460\\522192252.py:6: RuntimeWarning: Could not define the number of bytes automatically. Defaulting to 2.\n",
      "  eeg_raw = mne.io.read_raw_cnt(name, preload=False)  # Set preload to False\n",
      "Processing: 100%|██████████| 15/15 [00:29<00:00,  1.98s/it]\n",
      "C:\\Users\\macka\\anaconda3\\envs\\tf2.6\\lib\\site-packages\\mne\\io\\cnt\\cnt.py:240: RuntimeWarning: overflow encountered in long_scalars\n",
      "  data_size // (n_samples * n_channels) not in [2, 4]):\n",
      "C:\\Users\\macka\\AppData\\Local\\Temp\\ipykernel_23460\\522192252.py:6: RuntimeWarning: Could not define the number of bytes automatically. Defaulting to 2.\n",
      "  eeg_raw = mne.io.read_raw_cnt(name, preload=False)  # Set preload to False\n",
      "Processing: 100%|██████████| 15/15 [00:30<00:00,  2.04s/it]\n",
      "C:\\Users\\macka\\AppData\\Local\\Temp\\ipykernel_23460\\522192252.py:6: RuntimeWarning:   Could not parse meas date from the header. Setting to None.\n",
      "  eeg_raw = mne.io.read_raw_cnt(name, preload=False)  # Set preload to False\n",
      "C:\\Users\\macka\\anaconda3\\envs\\tf2.6\\lib\\site-packages\\mne\\io\\cnt\\cnt.py:240: RuntimeWarning: overflow encountered in long_scalars\n",
      "  data_size // (n_samples * n_channels) not in [2, 4]):\n",
      "C:\\Users\\macka\\AppData\\Local\\Temp\\ipykernel_23460\\522192252.py:6: RuntimeWarning: Could not define the number of bytes automatically. Defaulting to 2.\n",
      "  eeg_raw = mne.io.read_raw_cnt(name, preload=False)  # Set preload to False\n",
      "Processing: 100%|██████████| 15/15 [00:29<00:00,  1.97s/it]\n",
      "C:\\Users\\macka\\AppData\\Local\\Temp\\ipykernel_23460\\522192252.py:6: RuntimeWarning:   Could not parse meas date from the header. Setting to None.\n",
      "  eeg_raw = mne.io.read_raw_cnt(name, preload=False)  # Set preload to False\n",
      "C:\\Users\\macka\\anaconda3\\envs\\tf2.6\\lib\\site-packages\\mne\\io\\cnt\\cnt.py:240: RuntimeWarning: overflow encountered in long_scalars\n",
      "  data_size // (n_samples * n_channels) not in [2, 4]):\n",
      "C:\\Users\\macka\\AppData\\Local\\Temp\\ipykernel_23460\\522192252.py:6: RuntimeWarning: Could not define the number of bytes automatically. Defaulting to 2.\n",
      "  eeg_raw = mne.io.read_raw_cnt(name, preload=False)  # Set preload to False\n",
      "Processing: 100%|██████████| 15/15 [00:30<00:00,  2.07s/it]\n",
      "C:\\Users\\macka\\AppData\\Local\\Temp\\ipykernel_23460\\522192252.py:6: RuntimeWarning:   Could not parse meas date from the header. Setting to None.\n",
      "  eeg_raw = mne.io.read_raw_cnt(name, preload=False)  # Set preload to False\n",
      "C:\\Users\\macka\\AppData\\Local\\Temp\\ipykernel_23460\\522192252.py:6: RuntimeWarning: Could not define the number of bytes automatically. Defaulting to 2.\n",
      "  eeg_raw = mne.io.read_raw_cnt(name, preload=False)  # Set preload to False\n",
      "Processing: 100%|██████████| 15/15 [00:30<00:00,  2.06s/it]\n",
      "C:\\Users\\macka\\AppData\\Local\\Temp\\ipykernel_23460\\522192252.py:6: RuntimeWarning:   Could not parse meas date from the header. Setting to None.\n",
      "  eeg_raw = mne.io.read_raw_cnt(name, preload=False)  # Set preload to False\n",
      "C:\\Users\\macka\\AppData\\Local\\Temp\\ipykernel_23460\\522192252.py:6: RuntimeWarning: Could not define the number of bytes automatically. Defaulting to 2.\n",
      "  eeg_raw = mne.io.read_raw_cnt(name, preload=False)  # Set preload to False\n",
      "Processing: 100%|██████████| 15/15 [00:31<00:00,  2.13s/it]\n",
      "C:\\Users\\macka\\anaconda3\\envs\\tf2.6\\lib\\site-packages\\mne\\io\\cnt\\cnt.py:240: RuntimeWarning: overflow encountered in long_scalars\n",
      "  data_size // (n_samples * n_channels) not in [2, 4]):\n",
      "C:\\Users\\macka\\AppData\\Local\\Temp\\ipykernel_23460\\522192252.py:6: RuntimeWarning: Could not define the number of bytes automatically. Defaulting to 2.\n",
      "  eeg_raw = mne.io.read_raw_cnt(name, preload=False)  # Set preload to False\n"
     ]
    },
    {
     "name": "stderr",
     "output_type": "stream",
     "text": [
      "Processing: 100%|██████████| 15/15 [00:32<00:00,  2.18s/it]\n",
      "C:\\Users\\macka\\AppData\\Local\\Temp\\ipykernel_23460\\522192252.py:6: RuntimeWarning:   Could not parse meas date from the header. Setting to None.\n",
      "  eeg_raw = mne.io.read_raw_cnt(name, preload=False)  # Set preload to False\n",
      "C:\\Users\\macka\\AppData\\Local\\Temp\\ipykernel_23460\\522192252.py:6: RuntimeWarning: Could not define the number of bytes automatically. Defaulting to 2.\n",
      "  eeg_raw = mne.io.read_raw_cnt(name, preload=False)  # Set preload to False\n",
      "Processing: 100%|██████████| 15/15 [00:30<00:00,  2.06s/it]\n",
      "C:\\Users\\macka\\AppData\\Local\\Temp\\ipykernel_23460\\522192252.py:6: RuntimeWarning:   Could not parse meas date from the header. Setting to None.\n",
      "  eeg_raw = mne.io.read_raw_cnt(name, preload=False)  # Set preload to False\n",
      "C:\\Users\\macka\\anaconda3\\envs\\tf2.6\\lib\\site-packages\\mne\\io\\cnt\\cnt.py:240: RuntimeWarning: overflow encountered in long_scalars\n",
      "  data_size // (n_samples * n_channels) not in [2, 4]):\n",
      "C:\\Users\\macka\\AppData\\Local\\Temp\\ipykernel_23460\\522192252.py:6: RuntimeWarning: Could not define the number of bytes automatically. Defaulting to 2.\n",
      "  eeg_raw = mne.io.read_raw_cnt(name, preload=False)  # Set preload to False\n",
      "Processing: 100%|██████████| 15/15 [00:29<00:00,  1.98s/it]\n",
      "C:\\Users\\macka\\AppData\\Local\\Temp\\ipykernel_23460\\522192252.py:6: RuntimeWarning: Could not define the number of bytes automatically. Defaulting to 2.\n",
      "  eeg_raw = mne.io.read_raw_cnt(name, preload=False)  # Set preload to False\n",
      "Processing: 100%|██████████| 15/15 [00:34<00:00,  2.32s/it]\n",
      "C:\\Users\\macka\\AppData\\Local\\Temp\\ipykernel_23460\\522192252.py:6: RuntimeWarning: Could not define the number of bytes automatically. Defaulting to 2.\n",
      "  eeg_raw = mne.io.read_raw_cnt(name, preload=False)  # Set preload to False\n",
      "Processing: 100%|██████████| 15/15 [00:31<00:00,  2.07s/it]\n",
      "C:\\Users\\macka\\AppData\\Local\\Temp\\ipykernel_23460\\522192252.py:6: RuntimeWarning:   Could not parse meas date from the header. Setting to None.\n",
      "  eeg_raw = mne.io.read_raw_cnt(name, preload=False)  # Set preload to False\n",
      "C:\\Users\\macka\\AppData\\Local\\Temp\\ipykernel_23460\\522192252.py:6: RuntimeWarning: Could not define the number of bytes automatically. Defaulting to 2.\n",
      "  eeg_raw = mne.io.read_raw_cnt(name, preload=False)  # Set preload to False\n",
      "Processing: 100%|██████████| 15/15 [00:31<00:00,  2.07s/it]\n",
      "C:\\Users\\macka\\AppData\\Local\\Temp\\ipykernel_23460\\522192252.py:6: RuntimeWarning:   Could not parse meas date from the header. Setting to None.\n",
      "  eeg_raw = mne.io.read_raw_cnt(name, preload=False)  # Set preload to False\n",
      "C:\\Users\\macka\\anaconda3\\envs\\tf2.6\\lib\\site-packages\\mne\\io\\cnt\\cnt.py:240: RuntimeWarning: overflow encountered in long_scalars\n",
      "  data_size // (n_samples * n_channels) not in [2, 4]):\n",
      "C:\\Users\\macka\\AppData\\Local\\Temp\\ipykernel_23460\\522192252.py:6: RuntimeWarning: Could not define the number of bytes automatically. Defaulting to 2.\n",
      "  eeg_raw = mne.io.read_raw_cnt(name, preload=False)  # Set preload to False\n",
      "Processing: 100%|██████████| 15/15 [00:30<00:00,  2.05s/it]\n",
      "C:\\Users\\macka\\AppData\\Local\\Temp\\ipykernel_23460\\522192252.py:6: RuntimeWarning: Could not define the number of bytes automatically. Defaulting to 2.\n",
      "  eeg_raw = mne.io.read_raw_cnt(name, preload=False)  # Set preload to False\n",
      "Processing: 100%|██████████| 15/15 [00:29<00:00,  1.96s/it]\n",
      "C:\\Users\\macka\\AppData\\Local\\Temp\\ipykernel_23460\\522192252.py:6: RuntimeWarning: Could not define the number of bytes automatically. Defaulting to 2.\n",
      "  eeg_raw = mne.io.read_raw_cnt(name, preload=False)  # Set preload to False\n",
      "Processing: 100%|██████████| 15/15 [00:31<00:00,  2.09s/it]\n",
      "C:\\Users\\macka\\AppData\\Local\\Temp\\ipykernel_23460\\522192252.py:6: RuntimeWarning: Could not define the number of bytes automatically. Defaulting to 2.\n",
      "  eeg_raw = mne.io.read_raw_cnt(name, preload=False)  # Set preload to False\n",
      "Processing: 100%|██████████| 15/15 [00:30<00:00,  2.01s/it]\n",
      "C:\\Users\\macka\\AppData\\Local\\Temp\\ipykernel_23460\\522192252.py:6: RuntimeWarning:   Could not parse meas date from the header. Setting to None.\n",
      "  eeg_raw = mne.io.read_raw_cnt(name, preload=False)  # Set preload to False\n",
      "C:\\Users\\macka\\anaconda3\\envs\\tf2.6\\lib\\site-packages\\mne\\io\\cnt\\cnt.py:240: RuntimeWarning: overflow encountered in long_scalars\n",
      "  data_size // (n_samples * n_channels) not in [2, 4]):\n",
      "C:\\Users\\macka\\AppData\\Local\\Temp\\ipykernel_23460\\522192252.py:6: RuntimeWarning: Could not define the number of bytes automatically. Defaulting to 2.\n",
      "  eeg_raw = mne.io.read_raw_cnt(name, preload=False)  # Set preload to False\n",
      "Processing: 100%|██████████| 15/15 [00:27<00:00,  1.85s/it]\n",
      "C:\\Users\\macka\\anaconda3\\envs\\tf2.6\\lib\\site-packages\\mne\\io\\cnt\\cnt.py:240: RuntimeWarning: overflow encountered in long_scalars\n",
      "  data_size // (n_samples * n_channels) not in [2, 4]):\n",
      "C:\\Users\\macka\\AppData\\Local\\Temp\\ipykernel_23460\\522192252.py:6: RuntimeWarning: Could not define the number of bytes automatically. Defaulting to 2.\n",
      "  eeg_raw = mne.io.read_raw_cnt(name, preload=False)  # Set preload to False\n",
      "Processing: 100%|██████████| 15/15 [00:28<00:00,  1.89s/it]\n",
      "C:\\Users\\macka\\AppData\\Local\\Temp\\ipykernel_23460\\522192252.py:6: RuntimeWarning: Could not define the number of bytes automatically. Defaulting to 2.\n",
      "  eeg_raw = mne.io.read_raw_cnt(name, preload=False)  # Set preload to False\n",
      "Processing: 100%|██████████| 15/15 [00:28<00:00,  1.90s/it]\n",
      "C:\\Users\\macka\\AppData\\Local\\Temp\\ipykernel_23460\\522192252.py:6: RuntimeWarning: Could not define the number of bytes automatically. Defaulting to 2.\n",
      "  eeg_raw = mne.io.read_raw_cnt(name, preload=False)  # Set preload to False\n",
      "Processing: 100%|██████████| 15/15 [00:28<00:00,  1.93s/it]\n",
      "C:\\Users\\macka\\AppData\\Local\\Temp\\ipykernel_23460\\522192252.py:6: RuntimeWarning:   Could not parse meas date from the header. Setting to None.\n",
      "  eeg_raw = mne.io.read_raw_cnt(name, preload=False)  # Set preload to False\n",
      "C:\\Users\\macka\\AppData\\Local\\Temp\\ipykernel_23460\\522192252.py:6: RuntimeWarning: Could not define the number of bytes automatically. Defaulting to 2.\n",
      "  eeg_raw = mne.io.read_raw_cnt(name, preload=False)  # Set preload to False\n",
      "Processing: 100%|██████████| 15/15 [00:28<00:00,  1.92s/it]\n",
      "C:\\Users\\macka\\AppData\\Local\\Temp\\ipykernel_23460\\522192252.py:6: RuntimeWarning:   Could not parse meas date from the header. Setting to None.\n",
      "  eeg_raw = mne.io.read_raw_cnt(name, preload=False)  # Set preload to False\n",
      "C:\\Users\\macka\\anaconda3\\envs\\tf2.6\\lib\\site-packages\\mne\\io\\cnt\\cnt.py:240: RuntimeWarning: overflow encountered in long_scalars\n",
      "  data_size // (n_samples * n_channels) not in [2, 4]):\n",
      "C:\\Users\\macka\\AppData\\Local\\Temp\\ipykernel_23460\\522192252.py:6: RuntimeWarning: Could not define the number of bytes automatically. Defaulting to 2.\n",
      "  eeg_raw = mne.io.read_raw_cnt(name, preload=False)  # Set preload to False\n",
      "Processing: 100%|██████████| 15/15 [00:28<00:00,  1.91s/it]\n",
      "C:\\Users\\macka\\AppData\\Local\\Temp\\ipykernel_23460\\522192252.py:6: RuntimeWarning:   Could not parse meas date from the header. Setting to None.\n",
      "  eeg_raw = mne.io.read_raw_cnt(name, preload=False)  # Set preload to False\n",
      "C:\\Users\\macka\\AppData\\Local\\Temp\\ipykernel_23460\\522192252.py:6: RuntimeWarning: Could not define the number of bytes automatically. Defaulting to 2.\n",
      "  eeg_raw = mne.io.read_raw_cnt(name, preload=False)  # Set preload to False\n",
      "Processing: 100%|██████████| 15/15 [00:27<00:00,  1.85s/it]\n",
      "C:\\Users\\macka\\AppData\\Local\\Temp\\ipykernel_23460\\522192252.py:6: RuntimeWarning: Could not define the number of bytes automatically. Defaulting to 2.\n",
      "  eeg_raw = mne.io.read_raw_cnt(name, preload=False)  # Set preload to False\n",
      "Processing: 100%|██████████| 15/15 [00:27<00:00,  1.85s/it]"
     ]
    },
    {
     "name": "stdout",
     "output_type": "stream",
     "text": [
      "El código tardó 1067.01 segundos en ejecutarse.\n"
     ]
    },
    {
     "name": "stderr",
     "output_type": "stream",
     "text": [
      "\n"
     ]
    }
   ],
   "source": [
    "# Record the start time\n",
    "start_time = time.time()\n",
    "\n",
    "for name in names:\n",
    "    # use mne to load the file name\n",
    "    eeg_raw = mne.io.read_raw_cnt(name, preload=False)  # Set preload to False\n",
    "    # check channel names\n",
    "    ch_names = eeg_raw.ch_names\n",
    "    \n",
    "    # drop non-used channels\n",
    "    useless_ch = ['M1', 'M2', 'VEO', 'HEO']\n",
    "    eeg_raw.drop_channels(useless_ch)\n",
    "    new_ch = eeg_raw.ch_names\n",
    "\n",
    "    trial_num=['Trial-1','Trial-2','Trial-3','Trial-4','Trial-5','Trial-6','Trial-7','Trial-8','Trial-9','Trial-10',\n",
    "                'Trial-11','Trial-12','Trial-13','Trial-14','Trial-15']\n",
    "    start_second= [24, 289, 550, 782, 1049, 1260, 1483, 1747, 1993, 2283, 2550, 2812, 3072, 3332, 3598]\n",
    "    end_second= [264, 526, 757, 1023, 1235, 1458, 1722, 1968, 2259, 2525, 2788, 3046, 3308, 3573, 3806]\n",
    "    \n",
    "    sample_freq = 1000\n",
    "\n",
    "    # Carpeta Destino\n",
    "    output_folder = 'SEED'\n",
    "\n",
    "    if not os.path.exists(output_folder):\n",
    "        os.makedirs(output_folder)\n",
    "\n",
    "    for trial, start, end in tqdm(zip(trial_num, start_second, end_second), desc=\"Processing\", total=len(trial_num)):\n",
    "        start_sample = start * sample_freq\n",
    "        end_sample = end * sample_freq\n",
    "\n",
    "        # Read data in chunks and concatenate them\n",
    "        chunk_size = 10000\n",
    "        chunks = []\n",
    "        for chunk_start in range(start_sample, end_sample, chunk_size):\n",
    "            chunk_end = min(chunk_start + chunk_size, end_sample)\n",
    "            chunk_data = eeg_raw.get_data(start=chunk_start, stop=chunk_end)\n",
    "            chunks.append(chunk_data)\n",
    "        \n",
    "        data_name = np.concatenate(chunks, axis=1).T\n",
    "        df = pd.DataFrame(data_name, columns=new_ch)\n",
    "        file_path = os.path.join(output_folder, f\"{name[:-4]}-{trial}.parquet\")\n",
    "        df.to_parquet(file_path, compression='gzip')\n",
    "\n",
    "elapsed_time = time.time() - start_time\n",
    "print(f\"El código tardó {elapsed_time:.2f} segundos en ejecutarse.\")\n",
    "\n"
   ]
  },
  {
   "cell_type": "code",
   "execution_count": 24,
   "id": "standing-salmon",
   "metadata": {},
   "outputs": [],
   "source": [
    "def rename_files(path):\n",
    "    # Crear carpetas para cada etiqueta si no existen\n",
    "    for folder in [\"POSITIVE\", \"NEUTRAL\", \"NEGATIVE\"]:\n",
    "        if not os.path.exists(os.path.join(path, folder)):\n",
    "            os.makedirs(os.path.join(path, folder))\n",
    "\n",
    "    for root, dirs, files in os.walk(path):\n",
    "        for file in files:\n",
    "            if file.endswith(\".parquet\"):\n",
    "                new_name = None\n",
    "                label = None\n",
    "\n",
    "                if re.search(r'\\bTrial-(1|6|9|10|14)\\b', file):\n",
    "                    new_name = file.replace('.','_POSITIVE.')\n",
    "                    label = \"POSITIVE\"\n",
    "                elif re.search(r'\\bTrial-(2|5|8|11|13)\\b', file):\n",
    "                    new_name = file.replace('.','_NEUTRAL.')\n",
    "                    label = \"NEUTRAL\"\n",
    "                elif re.search(r'\\bTrial-(3|4|7|12|15)\\b', file):\n",
    "                    new_name = file.replace('.','_NEGATIVE.')\n",
    "                    label = \"NEGATIVE\"\n",
    "                else:\n",
    "                    continue\n",
    "\n",
    "                # Renombrar y mover el archivo a la carpeta correspondiente\n",
    "                os.rename(os.path.join(root, file), os.path.join(root, new_name))\n",
    "                shutil.move(os.path.join(root, new_name), os.path.join(path, label, new_name))\n",
    "            else:\n",
    "                continue"
   ]
  },
  {
   "cell_type": "code",
   "execution_count": 25,
   "id": "c1f38b62",
   "metadata": {},
   "outputs": [],
   "source": [
    "rename_files('C:\\\\Users\\\\macka\\\\TFM_WD\\\\SEED\\\\01-EEG-raw\\\\01-EEG-raw\\\\SEED')"
   ]
  },
  {
   "cell_type": "code",
   "execution_count": null,
   "id": "bb32dbbe",
   "metadata": {},
   "outputs": [],
   "source": []
  }
 ],
 "metadata": {
  "kernelspec": {
   "display_name": "Python 3 (ipykernel)",
   "language": "python",
   "name": "python3"
  },
  "language_info": {
   "codemirror_mode": {
    "name": "ipython",
    "version": 3
   },
   "file_extension": ".py",
   "mimetype": "text/x-python",
   "name": "python",
   "nbconvert_exporter": "python",
   "pygments_lexer": "ipython3",
   "version": "3.9.0"
  },
  "toc": {
   "base_numbering": 1,
   "nav_menu": {},
   "number_sections": true,
   "sideBar": true,
   "skip_h1_title": false,
   "title_cell": "Table of Contents",
   "title_sidebar": "Contents",
   "toc_cell": false,
   "toc_position": {},
   "toc_section_display": true,
   "toc_window_display": false
  }
 },
 "nbformat": 4,
 "nbformat_minor": 5
}
