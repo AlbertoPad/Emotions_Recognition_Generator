{
 "cells": [
  {
   "cell_type": "markdown",
   "id": "2aa836c3",
   "metadata": {},
   "source": [
    "Authors: Alberto Padilla y Marco Hernani"
   ]
  },
  {
   "cell_type": "markdown",
   "id": "db25d225",
   "metadata": {},
   "source": [
    "This jupyter contains a emotion recognition model trained and tested with the dataset SEED GER signals"
   ]
  },
  {
   "cell_type": "code",
   "execution_count": 1,
   "id": "16dbeb85",
   "metadata": {},
   "outputs": [],
   "source": [
    "## Dataset proporcionado por (citar correctamente a los autores) ##"
   ]
  },
  {
   "cell_type": "code",
   "execution_count": 1,
   "id": "55c1e361",
   "metadata": {},
   "outputs": [],
   "source": [
    "import pandas as pd\n",
    "import numpy as np\n",
    "import os\n",
    "import mne"
   ]
  },
  {
   "cell_type": "code",
   "execution_count": 3,
   "id": "b8b3d8e0",
   "metadata": {},
   "outputs": [],
   "source": [
    "#path where data is located\n",
    "data_path = \"../SEED_FRA_OUTPUT\""
   ]
  },
  {
   "cell_type": "code",
   "execution_count": 4,
   "id": "dc062ece",
   "metadata": {},
   "outputs": [],
   "source": [
    "def get_file_path(_path, _extension=''):\n",
    "    \"\"\"Gets the path for every file\n",
    "    _path: the path where all the data is located\n",
    "    _extension: the extension of the file\n",
    "    returns the path as a string for every file with the wanted extension in\n",
    "    the folder\n",
    "    \"\"\"\n",
    "    file_names = os.listdir(_path)\n",
    "    file_names = filter(lambda s: _extension in s, file_names)\n",
    "    return [_path + \"/\" + name for name in file_names]\n",
    "    "
   ]
  },
  {
   "cell_type": "markdown",
   "id": "8c4afce8",
   "metadata": {},
   "source": [
    "We get features from the signal readed in a receptor"
   ]
  },
  {
   "cell_type": "code",
   "execution_count": 47,
   "id": "3a9e0308",
   "metadata": {},
   "outputs": [],
   "source": [
    "from scipy.signal import hilbert\n",
    "\n",
    "def extract_features(_signal):\n",
    "    \"\"\"Gets features of the signal using the aplitud envelope\"\"\"\n",
    "    #amplitud_envelope = np.real(hilbert(_signal))\n",
    "    analytic_signal = hilbert(_signal)\n",
    "    amplitude_envelope = np.abs(analytic_signal)\n",
    "    features = np.array( [np.mean(amplitude_envelope), np.std(amplitude_envelope), np.max(amplitude_envelope), np.min(amplitude_envelope)] )\n",
    "    return features\n"
   ]
  },
  {
   "cell_type": "code",
   "execution_count": 16,
   "id": "124dc907",
   "metadata": {},
   "outputs": [],
   "source": [
    "def extract_features_2(_signal):\n",
    "    \"\"\"Gets features of the signal using the aplitud envelope\"\"\"\n",
    "    \n",
    "    data_1 = np.real(hilbert(_signal))\n",
    "    data_2 = np.imag(hilbert(_signal))\n",
    "  \n",
    "    features = np.array( [np.mean(data_1), np.std(data_1), np.max(data_1), np.min(data_1), np.mean(data_2), np.std(data_2), np.max(data_2), np.min(data_2)] )\n",
    "    \n",
    "    return features"
   ]
  },
  {
   "cell_type": "markdown",
   "id": "0e371604",
   "metadata": {},
   "source": [
    "Extracting characteristics for only one signal\n",
    "\n",
    "- Create a function to do this with all the signals\n",
    "\n",
    "- Create the data for train our model\n",
    "\n",
    "- :D"
   ]
  },
  {
   "cell_type": "code",
   "execution_count": 48,
   "id": "bec34068",
   "metadata": {},
   "outputs": [],
   "source": [
    "def get_trial_features(_eeg_data):\n",
    "    \"\"\"Gets the features for a trial\n",
    "    _eeg_data: content from the fif files with the eeg information for a trial\n",
    "    returns: 4 numbers (mean, std, max, min) those are the median of all those features\n",
    "    in each signal\"\"\"\n",
    "    trial_signals = _eeg_data.get_data()\n",
    "\n",
    "    trial_features = []\n",
    "\n",
    "    for signal in trial_signals:\n",
    "        features = extract_features(signal)\n",
    "        \n",
    "        #features = extract_features_2(signal)\n",
    "        trial_features.append(features)\n",
    "\n",
    "    trial_features = np.array(trial_features)\n",
    "    \n",
    "    trial_resume = []\n",
    "    for feature in trial_features.T:\n",
    "        trial_resume.append( np.median(feature) ) \n",
    "    \n",
    "    return trial_resume"
   ]
  },
  {
   "cell_type": "code",
   "execution_count": 92,
   "id": "7995e59e",
   "metadata": {},
   "outputs": [],
   "source": [
    "def get_trial_resume(_eeg_data):\n",
    "    \"\"\"Gets the features for a trial\n",
    "    _eeg_data: content from the fif files with the eeg information for a trial\n",
    "    returns: 4 numbers (mean, std, max, min) those are the median of all those features\n",
    "    in each signal\"\"\"\n",
    "    trial_signals = _eeg_data.get_data()\n",
    "\n",
    "    trial_features = []\n",
    "\n",
    "    for signal in trial_signals:\n",
    "        features = extract_features(signal)\n",
    "        \n",
    "        #features = extract_features_2(signal)\n",
    "        trial_features.append(features)\n",
    "\n",
    "    trial_features = np.array(trial_features)\n",
    "    \n",
    "    return trial_features"
   ]
  },
  {
   "cell_type": "code",
   "execution_count": 100,
   "id": "1795d54d",
   "metadata": {},
   "outputs": [],
   "source": [
    "def get_data_DL(_path, _emotion):\n",
    "    \"\"\"Gets all the features for all the trials in a folder where each file is a trial\n",
    "    _path: path of the folder\n",
    "    emotion: the emotion label\n",
    "    returns: a dataframe where the columns are (mean, std, max, min, emotion) and there is a row\n",
    "    for each trial in the folder\"\"\"\n",
    "    file_names = get_file_path(_path, _extension='.fif')\n",
    "    \n",
    "    list_2d = []\n",
    "    \n",
    "    for name in file_names:\n",
    "        eeg_data = mne.io.read_raw_fif(name, preload=True)\n",
    "        trial_resume = get_trial_resume(eeg_data)\n",
    "\n",
    "        list_2d.append(trial_resume)\n",
    "    \n",
    "    return list_2d"
   ]
  },
  {
   "cell_type": "code",
   "execution_count": 49,
   "id": "5cd84461",
   "metadata": {},
   "outputs": [],
   "source": [
    "def get_folder_data(_path, _emotion):\n",
    "    \"\"\"Gets all the features for all the trials in a folder where each file is a trial\n",
    "    _path: path of the folder\n",
    "    emotion: the emotion label\n",
    "    returns: a dataframe where the columns are (mean, std, max, min, emotion) and there is a row\n",
    "    for each trial in the folder\"\"\"\n",
    "    file_names = get_file_path(_path, _extension='.fif')\n",
    "    \n",
    "    #df = pd.DataFrame( columns= ['mean_trial', 'std_trial', 'max_trial', 'min_trial', 'mean_trial_i', 'std_trial_i', 'max_trial_i', 'min_trial_i', 'emotion'], index=[i for i in range(len(file_names))])\n",
    "\n",
    "    df = pd.DataFrame( columns= ['mean_trial', 'std_trial', 'max_trial', 'min_trial', 'emotion'], index=[i for i in range(len(file_names))])\n",
    "    \n",
    "    for i, name in enumerate(file_names):\n",
    "        eeg_data = mne.io.read_raw_fif(name, preload=True)\n",
    "        trial_resume = get_trial_features(eeg_data)\n",
    "\n",
    "        trial_resume.append(_emotion)\n",
    "        \n",
    "        df.iloc[i] = trial_resume\n",
    "    \n",
    "    return df"
   ]
  },
  {
   "cell_type": "code",
   "execution_count": 9,
   "id": "7455b874",
   "metadata": {},
   "outputs": [],
   "source": [
    "###Extra: Comprobar que la frecuencia de muestreo es la misma para todos los ficheros con código\n",
    "###Extra: Comprobar que una frecuencia de muestreo diferente no afecta cuando se resumen los datos de este modo\n"
   ]
  },
  {
   "cell_type": "markdown",
   "id": "9e047d74",
   "metadata": {},
   "source": [
    "Cuando se añade en un array se crea un nuevo objeto en el proceso"
   ]
  },
  {
   "cell_type": "markdown",
   "id": "6fda1ab0",
   "metadata": {},
   "source": [
    "-Usar funciones creadas"
   ]
  },
  {
   "cell_type": "code",
   "execution_count": 50,
   "id": "ec8636b8",
   "metadata": {},
   "outputs": [
    {
     "name": "stdout",
     "output_type": "stream",
     "text": [
      "Opening raw data file ../SEED_FRA_OUTPUT/POSITIVE/1_1_trial_0_signals.fif...\n",
      "    Range : 21000 ... 193000 =     21.000 ...   193.000 secs\n",
      "Ready.\n",
      "Reading 0 ... 172000  =      0.000 ...   172.000 secs...\n"
     ]
    },
    {
     "name": "stderr",
     "output_type": "stream",
     "text": [
      "C:\\Users\\marco\\AppData\\Local\\Temp\\ipykernel_6904\\3667833851.py:14: RuntimeWarning: This filename (../SEED_FRA_OUTPUT/POSITIVE/1_1_trial_0_signals.fif) does not conform to MNE naming conventions. All raw files should end with raw.fif, raw_sss.fif, raw_tsss.fif, _meg.fif, _eeg.fif, _ieeg.fif, raw.fif.gz, raw_sss.fif.gz, raw_tsss.fif.gz, _meg.fif.gz, _eeg.fif.gz or _ieeg.fif.gz\n",
      "  eeg_data = mne.io.read_raw_fif(name, preload=True)\n"
     ]
    },
    {
     "name": "stdout",
     "output_type": "stream",
     "text": [
      "Opening raw data file ../SEED_FRA_OUTPUT/POSITIVE/1_1_trial_11_signals.fif...\n",
      "    Range : 2327000 ... 2471000 =   2327.000 ...  2471.000 secs\n",
      "Ready.\n",
      "Reading 0 ... 144000  =      0.000 ...   144.000 secs...\n"
     ]
    },
    {
     "name": "stderr",
     "output_type": "stream",
     "text": [
      "C:\\Users\\marco\\AppData\\Local\\Temp\\ipykernel_6904\\3667833851.py:14: RuntimeWarning: This filename (../SEED_FRA_OUTPUT/POSITIVE/1_1_trial_11_signals.fif) does not conform to MNE naming conventions. All raw files should end with raw.fif, raw_sss.fif, raw_tsss.fif, _meg.fif, _eeg.fif, _ieeg.fif, raw.fif.gz, raw_sss.fif.gz, raw_tsss.fif.gz, _meg.fif.gz, _eeg.fif.gz or _ieeg.fif.gz\n",
      "  eeg_data = mne.io.read_raw_fif(name, preload=True)\n"
     ]
    },
    {
     "name": "stdout",
     "output_type": "stream",
     "text": [
      "Opening raw data file ../SEED_FRA_OUTPUT/POSITIVE/1_1_trial_12_signals.fif...\n",
      "    Range : 2492000 ... 2599000 =   2492.000 ...  2599.000 secs\n",
      "Ready.\n",
      "Reading 0 ... 107000  =      0.000 ...   107.000 secs...\n"
     ]
    },
    {
     "name": "stderr",
     "output_type": "stream",
     "text": [
      "C:\\Users\\marco\\AppData\\Local\\Temp\\ipykernel_6904\\3667833851.py:14: RuntimeWarning: This filename (../SEED_FRA_OUTPUT/POSITIVE/1_1_trial_12_signals.fif) does not conform to MNE naming conventions. All raw files should end with raw.fif, raw_sss.fif, raw_tsss.fif, _meg.fif, _eeg.fif, _ieeg.fif, raw.fif.gz, raw_sss.fif.gz, raw_tsss.fif.gz, _meg.fif.gz, _eeg.fif.gz or _ieeg.fif.gz\n",
      "  eeg_data = mne.io.read_raw_fif(name, preload=True)\n"
     ]
    },
    {
     "name": "stdout",
     "output_type": "stream",
     "text": [
      "Opening raw data file ../SEED_FRA_OUTPUT/POSITIVE/1_1_trial_17_signals.fif...\n",
      "    Range : 3216000 ... 3349000 =   3216.000 ...  3349.000 secs\n",
      "Ready.\n",
      "Reading 0 ... 133000  =      0.000 ...   133.000 secs...\n"
     ]
    },
    {
     "name": "stderr",
     "output_type": "stream",
     "text": [
      "C:\\Users\\marco\\AppData\\Local\\Temp\\ipykernel_6904\\3667833851.py:14: RuntimeWarning: This filename (../SEED_FRA_OUTPUT/POSITIVE/1_1_trial_17_signals.fif) does not conform to MNE naming conventions. All raw files should end with raw.fif, raw_sss.fif, raw_tsss.fif, _meg.fif, _eeg.fif, _ieeg.fif, raw.fif.gz, raw_sss.fif.gz, raw_tsss.fif.gz, _meg.fif.gz, _eeg.fif.gz or _ieeg.fif.gz\n",
      "  eeg_data = mne.io.read_raw_fif(name, preload=True)\n"
     ]
    },
    {
     "name": "stdout",
     "output_type": "stream",
     "text": [
      "Opening raw data file ../SEED_FRA_OUTPUT/POSITIVE/1_1_trial_20_signals.fif...\n",
      "    Range : 3622000 ... 3797000 =   3622.000 ...  3797.000 secs\n",
      "Ready.\n",
      "Reading 0 ... 175000  =      0.000 ...   175.000 secs...\n"
     ]
    },
    {
     "name": "stderr",
     "output_type": "stream",
     "text": [
      "C:\\Users\\marco\\AppData\\Local\\Temp\\ipykernel_6904\\3667833851.py:14: RuntimeWarning: This filename (../SEED_FRA_OUTPUT/POSITIVE/1_1_trial_20_signals.fif) does not conform to MNE naming conventions. All raw files should end with raw.fif, raw_sss.fif, raw_tsss.fif, _meg.fif, _eeg.fif, _ieeg.fif, raw.fif.gz, raw_sss.fif.gz, raw_tsss.fif.gz, _meg.fif.gz, _eeg.fif.gz or _ieeg.fif.gz\n",
      "  eeg_data = mne.io.read_raw_fif(name, preload=True)\n"
     ]
    },
    {
     "name": "stdout",
     "output_type": "stream",
     "text": [
      "Opening raw data file ../SEED_FRA_OUTPUT/POSITIVE/1_1_trial_4_signals.fif...\n",
      "    Range : 982000 ... 1082000 =    982.000 ...  1082.000 secs\n",
      "Ready.\n",
      "Reading 0 ... 100000  =      0.000 ...   100.000 secs...\n"
     ]
    },
    {
     "name": "stderr",
     "output_type": "stream",
     "text": [
      "C:\\Users\\marco\\AppData\\Local\\Temp\\ipykernel_6904\\3667833851.py:14: RuntimeWarning: This filename (../SEED_FRA_OUTPUT/POSITIVE/1_1_trial_4_signals.fif) does not conform to MNE naming conventions. All raw files should end with raw.fif, raw_sss.fif, raw_tsss.fif, _meg.fif, _eeg.fif, _ieeg.fif, raw.fif.gz, raw_sss.fif.gz, raw_tsss.fif.gz, _meg.fif.gz, _eeg.fif.gz or _ieeg.fif.gz\n",
      "  eeg_data = mne.io.read_raw_fif(name, preload=True)\n"
     ]
    },
    {
     "name": "stdout",
     "output_type": "stream",
     "text": [
      "Opening raw data file ../SEED_FRA_OUTPUT/POSITIVE/1_1_trial_8_signals.fif...\n",
      "    Range : 1738000 ... 1867000 =   1738.000 ...  1867.000 secs\n",
      "Ready.\n",
      "Reading 0 ... 129000  =      0.000 ...   129.000 secs...\n"
     ]
    },
    {
     "name": "stderr",
     "output_type": "stream",
     "text": [
      "C:\\Users\\marco\\AppData\\Local\\Temp\\ipykernel_6904\\3667833851.py:14: RuntimeWarning: This filename (../SEED_FRA_OUTPUT/POSITIVE/1_1_trial_8_signals.fif) does not conform to MNE naming conventions. All raw files should end with raw.fif, raw_sss.fif, raw_tsss.fif, _meg.fif, _eeg.fif, _ieeg.fif, raw.fif.gz, raw_sss.fif.gz, raw_tsss.fif.gz, _meg.fif.gz, _eeg.fif.gz or _ieeg.fif.gz\n",
      "  eeg_data = mne.io.read_raw_fif(name, preload=True)\n"
     ]
    },
    {
     "name": "stdout",
     "output_type": "stream",
     "text": [
      "Opening raw data file ../SEED_FRA_OUTPUT/POSITIVE/1_2_trial_0_signals.fif...\n",
      "    Range : 21000 ... 193000 =     21.000 ...   193.000 secs\n",
      "Ready.\n",
      "Reading 0 ... 172000  =      0.000 ...   172.000 secs...\n"
     ]
    },
    {
     "name": "stderr",
     "output_type": "stream",
     "text": [
      "C:\\Users\\marco\\AppData\\Local\\Temp\\ipykernel_6904\\3667833851.py:14: RuntimeWarning: This filename (../SEED_FRA_OUTPUT/POSITIVE/1_2_trial_0_signals.fif) does not conform to MNE naming conventions. All raw files should end with raw.fif, raw_sss.fif, raw_tsss.fif, _meg.fif, _eeg.fif, _ieeg.fif, raw.fif.gz, raw_sss.fif.gz, raw_tsss.fif.gz, _meg.fif.gz, _eeg.fif.gz or _ieeg.fif.gz\n",
      "  eeg_data = mne.io.read_raw_fif(name, preload=True)\n"
     ]
    },
    {
     "name": "stdout",
     "output_type": "stream",
     "text": [
      "Opening raw data file ../SEED_FRA_OUTPUT/POSITIVE/1_2_trial_11_signals.fif...\n",
      "    Range : 2327000 ... 2471000 =   2327.000 ...  2471.000 secs\n",
      "Ready.\n",
      "Reading 0 ... 144000  =      0.000 ...   144.000 secs...\n"
     ]
    },
    {
     "name": "stderr",
     "output_type": "stream",
     "text": [
      "C:\\Users\\marco\\AppData\\Local\\Temp\\ipykernel_6904\\3667833851.py:14: RuntimeWarning: This filename (../SEED_FRA_OUTPUT/POSITIVE/1_2_trial_11_signals.fif) does not conform to MNE naming conventions. All raw files should end with raw.fif, raw_sss.fif, raw_tsss.fif, _meg.fif, _eeg.fif, _ieeg.fif, raw.fif.gz, raw_sss.fif.gz, raw_tsss.fif.gz, _meg.fif.gz, _eeg.fif.gz or _ieeg.fif.gz\n",
      "  eeg_data = mne.io.read_raw_fif(name, preload=True)\n"
     ]
    },
    {
     "name": "stdout",
     "output_type": "stream",
     "text": [
      "Opening raw data file ../SEED_FRA_OUTPUT/POSITIVE/1_2_trial_12_signals.fif...\n",
      "    Range : 2492000 ... 2599000 =   2492.000 ...  2599.000 secs\n",
      "Ready.\n",
      "Reading 0 ... 107000  =      0.000 ...   107.000 secs...\n"
     ]
    },
    {
     "name": "stderr",
     "output_type": "stream",
     "text": [
      "C:\\Users\\marco\\AppData\\Local\\Temp\\ipykernel_6904\\3667833851.py:14: RuntimeWarning: This filename (../SEED_FRA_OUTPUT/POSITIVE/1_2_trial_12_signals.fif) does not conform to MNE naming conventions. All raw files should end with raw.fif, raw_sss.fif, raw_tsss.fif, _meg.fif, _eeg.fif, _ieeg.fif, raw.fif.gz, raw_sss.fif.gz, raw_tsss.fif.gz, _meg.fif.gz, _eeg.fif.gz or _ieeg.fif.gz\n",
      "  eeg_data = mne.io.read_raw_fif(name, preload=True)\n"
     ]
    },
    {
     "name": "stdout",
     "output_type": "stream",
     "text": [
      "Opening raw data file ../SEED_FRA_OUTPUT/POSITIVE/1_2_trial_17_signals.fif...\n",
      "    Range : 3216000 ... 3349000 =   3216.000 ...  3349.000 secs\n",
      "Ready.\n",
      "Reading 0 ... 133000  =      0.000 ...   133.000 secs...\n"
     ]
    },
    {
     "name": "stderr",
     "output_type": "stream",
     "text": [
      "C:\\Users\\marco\\AppData\\Local\\Temp\\ipykernel_6904\\3667833851.py:14: RuntimeWarning: This filename (../SEED_FRA_OUTPUT/POSITIVE/1_2_trial_17_signals.fif) does not conform to MNE naming conventions. All raw files should end with raw.fif, raw_sss.fif, raw_tsss.fif, _meg.fif, _eeg.fif, _ieeg.fif, raw.fif.gz, raw_sss.fif.gz, raw_tsss.fif.gz, _meg.fif.gz, _eeg.fif.gz or _ieeg.fif.gz\n",
      "  eeg_data = mne.io.read_raw_fif(name, preload=True)\n"
     ]
    },
    {
     "name": "stdout",
     "output_type": "stream",
     "text": [
      "Opening raw data file ../SEED_FRA_OUTPUT/POSITIVE/1_2_trial_20_signals.fif...\n",
      "    Range : 3622000 ... 3797000 =   3622.000 ...  3797.000 secs\n",
      "Ready.\n",
      "Reading 0 ... 175000  =      0.000 ...   175.000 secs...\n"
     ]
    },
    {
     "name": "stderr",
     "output_type": "stream",
     "text": [
      "C:\\Users\\marco\\AppData\\Local\\Temp\\ipykernel_6904\\3667833851.py:14: RuntimeWarning: This filename (../SEED_FRA_OUTPUT/POSITIVE/1_2_trial_20_signals.fif) does not conform to MNE naming conventions. All raw files should end with raw.fif, raw_sss.fif, raw_tsss.fif, _meg.fif, _eeg.fif, _ieeg.fif, raw.fif.gz, raw_sss.fif.gz, raw_tsss.fif.gz, _meg.fif.gz, _eeg.fif.gz or _ieeg.fif.gz\n",
      "  eeg_data = mne.io.read_raw_fif(name, preload=True)\n"
     ]
    },
    {
     "name": "stdout",
     "output_type": "stream",
     "text": [
      "Opening raw data file ../SEED_FRA_OUTPUT/POSITIVE/1_2_trial_4_signals.fif...\n",
      "    Range : 982000 ... 1082000 =    982.000 ...  1082.000 secs\n",
      "Ready.\n",
      "Reading 0 ... 100000  =      0.000 ...   100.000 secs...\n"
     ]
    },
    {
     "name": "stderr",
     "output_type": "stream",
     "text": [
      "C:\\Users\\marco\\AppData\\Local\\Temp\\ipykernel_6904\\3667833851.py:14: RuntimeWarning: This filename (../SEED_FRA_OUTPUT/POSITIVE/1_2_trial_4_signals.fif) does not conform to MNE naming conventions. All raw files should end with raw.fif, raw_sss.fif, raw_tsss.fif, _meg.fif, _eeg.fif, _ieeg.fif, raw.fif.gz, raw_sss.fif.gz, raw_tsss.fif.gz, _meg.fif.gz, _eeg.fif.gz or _ieeg.fif.gz\n",
      "  eeg_data = mne.io.read_raw_fif(name, preload=True)\n"
     ]
    },
    {
     "name": "stdout",
     "output_type": "stream",
     "text": [
      "Opening raw data file ../SEED_FRA_OUTPUT/POSITIVE/1_2_trial_8_signals.fif...\n",
      "    Range : 1738000 ... 1867000 =   1738.000 ...  1867.000 secs\n",
      "Ready.\n",
      "Reading 0 ... 129000  =      0.000 ...   129.000 secs...\n"
     ]
    },
    {
     "name": "stderr",
     "output_type": "stream",
     "text": [
      "C:\\Users\\marco\\AppData\\Local\\Temp\\ipykernel_6904\\3667833851.py:14: RuntimeWarning: This filename (../SEED_FRA_OUTPUT/POSITIVE/1_2_trial_8_signals.fif) does not conform to MNE naming conventions. All raw files should end with raw.fif, raw_sss.fif, raw_tsss.fif, _meg.fif, _eeg.fif, _ieeg.fif, raw.fif.gz, raw_sss.fif.gz, raw_tsss.fif.gz, _meg.fif.gz, _eeg.fif.gz or _ieeg.fif.gz\n",
      "  eeg_data = mne.io.read_raw_fif(name, preload=True)\n"
     ]
    },
    {
     "name": "stdout",
     "output_type": "stream",
     "text": [
      "Opening raw data file ../SEED_FRA_OUTPUT/POSITIVE/1_3_trial_0_signals.fif...\n",
      "    Range : 21000 ... 193000 =     21.000 ...   193.000 secs\n",
      "Ready.\n",
      "Reading 0 ... 172000  =      0.000 ...   172.000 secs...\n"
     ]
    },
    {
     "name": "stderr",
     "output_type": "stream",
     "text": [
      "C:\\Users\\marco\\AppData\\Local\\Temp\\ipykernel_6904\\3667833851.py:14: RuntimeWarning: This filename (../SEED_FRA_OUTPUT/POSITIVE/1_3_trial_0_signals.fif) does not conform to MNE naming conventions. All raw files should end with raw.fif, raw_sss.fif, raw_tsss.fif, _meg.fif, _eeg.fif, _ieeg.fif, raw.fif.gz, raw_sss.fif.gz, raw_tsss.fif.gz, _meg.fif.gz, _eeg.fif.gz or _ieeg.fif.gz\n",
      "  eeg_data = mne.io.read_raw_fif(name, preload=True)\n"
     ]
    },
    {
     "name": "stdout",
     "output_type": "stream",
     "text": [
      "Opening raw data file ../SEED_FRA_OUTPUT/POSITIVE/1_3_trial_11_signals.fif...\n",
      "    Range : 2327000 ... 2471000 =   2327.000 ...  2471.000 secs\n",
      "Ready.\n",
      "Reading 0 ... 144000  =      0.000 ...   144.000 secs...\n"
     ]
    },
    {
     "name": "stderr",
     "output_type": "stream",
     "text": [
      "C:\\Users\\marco\\AppData\\Local\\Temp\\ipykernel_6904\\3667833851.py:14: RuntimeWarning: This filename (../SEED_FRA_OUTPUT/POSITIVE/1_3_trial_11_signals.fif) does not conform to MNE naming conventions. All raw files should end with raw.fif, raw_sss.fif, raw_tsss.fif, _meg.fif, _eeg.fif, _ieeg.fif, raw.fif.gz, raw_sss.fif.gz, raw_tsss.fif.gz, _meg.fif.gz, _eeg.fif.gz or _ieeg.fif.gz\n",
      "  eeg_data = mne.io.read_raw_fif(name, preload=True)\n"
     ]
    },
    {
     "name": "stdout",
     "output_type": "stream",
     "text": [
      "Opening raw data file ../SEED_FRA_OUTPUT/POSITIVE/1_3_trial_12_signals.fif...\n",
      "    Range : 2492000 ... 2599000 =   2492.000 ...  2599.000 secs\n",
      "Ready.\n",
      "Reading 0 ... 107000  =      0.000 ...   107.000 secs...\n"
     ]
    },
    {
     "name": "stderr",
     "output_type": "stream",
     "text": [
      "C:\\Users\\marco\\AppData\\Local\\Temp\\ipykernel_6904\\3667833851.py:14: RuntimeWarning: This filename (../SEED_FRA_OUTPUT/POSITIVE/1_3_trial_12_signals.fif) does not conform to MNE naming conventions. All raw files should end with raw.fif, raw_sss.fif, raw_tsss.fif, _meg.fif, _eeg.fif, _ieeg.fif, raw.fif.gz, raw_sss.fif.gz, raw_tsss.fif.gz, _meg.fif.gz, _eeg.fif.gz or _ieeg.fif.gz\n",
      "  eeg_data = mne.io.read_raw_fif(name, preload=True)\n"
     ]
    },
    {
     "name": "stdout",
     "output_type": "stream",
     "text": [
      "Opening raw data file ../SEED_FRA_OUTPUT/POSITIVE/1_3_trial_17_signals.fif...\n",
      "    Range : 3216000 ... 3349000 =   3216.000 ...  3349.000 secs\n",
      "Ready.\n",
      "Reading 0 ... 133000  =      0.000 ...   133.000 secs...\n"
     ]
    },
    {
     "name": "stderr",
     "output_type": "stream",
     "text": [
      "C:\\Users\\marco\\AppData\\Local\\Temp\\ipykernel_6904\\3667833851.py:14: RuntimeWarning: This filename (../SEED_FRA_OUTPUT/POSITIVE/1_3_trial_17_signals.fif) does not conform to MNE naming conventions. All raw files should end with raw.fif, raw_sss.fif, raw_tsss.fif, _meg.fif, _eeg.fif, _ieeg.fif, raw.fif.gz, raw_sss.fif.gz, raw_tsss.fif.gz, _meg.fif.gz, _eeg.fif.gz or _ieeg.fif.gz\n",
      "  eeg_data = mne.io.read_raw_fif(name, preload=True)\n"
     ]
    },
    {
     "name": "stdout",
     "output_type": "stream",
     "text": [
      "Opening raw data file ../SEED_FRA_OUTPUT/POSITIVE/1_3_trial_20_signals.fif...\n",
      "    Range : 3622000 ... 3797000 =   3622.000 ...  3797.000 secs\n",
      "Ready.\n",
      "Reading 0 ... 175000  =      0.000 ...   175.000 secs...\n"
     ]
    },
    {
     "name": "stderr",
     "output_type": "stream",
     "text": [
      "C:\\Users\\marco\\AppData\\Local\\Temp\\ipykernel_6904\\3667833851.py:14: RuntimeWarning: This filename (../SEED_FRA_OUTPUT/POSITIVE/1_3_trial_20_signals.fif) does not conform to MNE naming conventions. All raw files should end with raw.fif, raw_sss.fif, raw_tsss.fif, _meg.fif, _eeg.fif, _ieeg.fif, raw.fif.gz, raw_sss.fif.gz, raw_tsss.fif.gz, _meg.fif.gz, _eeg.fif.gz or _ieeg.fif.gz\n",
      "  eeg_data = mne.io.read_raw_fif(name, preload=True)\n"
     ]
    },
    {
     "name": "stdout",
     "output_type": "stream",
     "text": [
      "Opening raw data file ../SEED_FRA_OUTPUT/POSITIVE/1_3_trial_4_signals.fif...\n",
      "    Range : 982000 ... 1082000 =    982.000 ...  1082.000 secs\n",
      "Ready.\n",
      "Reading 0 ... 100000  =      0.000 ...   100.000 secs...\n"
     ]
    },
    {
     "name": "stderr",
     "output_type": "stream",
     "text": [
      "C:\\Users\\marco\\AppData\\Local\\Temp\\ipykernel_6904\\3667833851.py:14: RuntimeWarning: This filename (../SEED_FRA_OUTPUT/POSITIVE/1_3_trial_4_signals.fif) does not conform to MNE naming conventions. All raw files should end with raw.fif, raw_sss.fif, raw_tsss.fif, _meg.fif, _eeg.fif, _ieeg.fif, raw.fif.gz, raw_sss.fif.gz, raw_tsss.fif.gz, _meg.fif.gz, _eeg.fif.gz or _ieeg.fif.gz\n",
      "  eeg_data = mne.io.read_raw_fif(name, preload=True)\n"
     ]
    },
    {
     "name": "stdout",
     "output_type": "stream",
     "text": [
      "Opening raw data file ../SEED_FRA_OUTPUT/POSITIVE/1_3_trial_8_signals.fif...\n",
      "    Range : 1738000 ... 1867000 =   1738.000 ...  1867.000 secs\n",
      "Ready.\n",
      "Reading 0 ... 129000  =      0.000 ...   129.000 secs...\n"
     ]
    },
    {
     "name": "stderr",
     "output_type": "stream",
     "text": [
      "C:\\Users\\marco\\AppData\\Local\\Temp\\ipykernel_6904\\3667833851.py:14: RuntimeWarning: This filename (../SEED_FRA_OUTPUT/POSITIVE/1_3_trial_8_signals.fif) does not conform to MNE naming conventions. All raw files should end with raw.fif, raw_sss.fif, raw_tsss.fif, _meg.fif, _eeg.fif, _ieeg.fif, raw.fif.gz, raw_sss.fif.gz, raw_tsss.fif.gz, _meg.fif.gz, _eeg.fif.gz or _ieeg.fif.gz\n",
      "  eeg_data = mne.io.read_raw_fif(name, preload=True)\n"
     ]
    },
    {
     "name": "stdout",
     "output_type": "stream",
     "text": [
      "Opening raw data file ../SEED_FRA_OUTPUT/POSITIVE/2_1_trial_0_signals.fif...\n",
      "    Range : 21000 ... 193000 =     21.000 ...   193.000 secs\n",
      "Ready.\n",
      "Reading 0 ... 172000  =      0.000 ...   172.000 secs...\n"
     ]
    },
    {
     "name": "stderr",
     "output_type": "stream",
     "text": [
      "C:\\Users\\marco\\AppData\\Local\\Temp\\ipykernel_6904\\3667833851.py:14: RuntimeWarning: This filename (../SEED_FRA_OUTPUT/POSITIVE/2_1_trial_0_signals.fif) does not conform to MNE naming conventions. All raw files should end with raw.fif, raw_sss.fif, raw_tsss.fif, _meg.fif, _eeg.fif, _ieeg.fif, raw.fif.gz, raw_sss.fif.gz, raw_tsss.fif.gz, _meg.fif.gz, _eeg.fif.gz or _ieeg.fif.gz\n",
      "  eeg_data = mne.io.read_raw_fif(name, preload=True)\n"
     ]
    },
    {
     "name": "stdout",
     "output_type": "stream",
     "text": [
      "Opening raw data file ../SEED_FRA_OUTPUT/POSITIVE/2_1_trial_11_signals.fif...\n",
      "    Range : 2327000 ... 2471000 =   2327.000 ...  2471.000 secs\n",
      "Ready.\n",
      "Reading 0 ... 144000  =      0.000 ...   144.000 secs...\n"
     ]
    },
    {
     "name": "stderr",
     "output_type": "stream",
     "text": [
      "C:\\Users\\marco\\AppData\\Local\\Temp\\ipykernel_6904\\3667833851.py:14: RuntimeWarning: This filename (../SEED_FRA_OUTPUT/POSITIVE/2_1_trial_11_signals.fif) does not conform to MNE naming conventions. All raw files should end with raw.fif, raw_sss.fif, raw_tsss.fif, _meg.fif, _eeg.fif, _ieeg.fif, raw.fif.gz, raw_sss.fif.gz, raw_tsss.fif.gz, _meg.fif.gz, _eeg.fif.gz or _ieeg.fif.gz\n",
      "  eeg_data = mne.io.read_raw_fif(name, preload=True)\n"
     ]
    },
    {
     "name": "stdout",
     "output_type": "stream",
     "text": [
      "Opening raw data file ../SEED_FRA_OUTPUT/POSITIVE/2_1_trial_12_signals.fif...\n",
      "    Range : 2492000 ... 2599000 =   2492.000 ...  2599.000 secs\n",
      "Ready.\n",
      "Reading 0 ... 107000  =      0.000 ...   107.000 secs...\n"
     ]
    },
    {
     "name": "stderr",
     "output_type": "stream",
     "text": [
      "C:\\Users\\marco\\AppData\\Local\\Temp\\ipykernel_6904\\3667833851.py:14: RuntimeWarning: This filename (../SEED_FRA_OUTPUT/POSITIVE/2_1_trial_12_signals.fif) does not conform to MNE naming conventions. All raw files should end with raw.fif, raw_sss.fif, raw_tsss.fif, _meg.fif, _eeg.fif, _ieeg.fif, raw.fif.gz, raw_sss.fif.gz, raw_tsss.fif.gz, _meg.fif.gz, _eeg.fif.gz or _ieeg.fif.gz\n",
      "  eeg_data = mne.io.read_raw_fif(name, preload=True)\n"
     ]
    },
    {
     "name": "stdout",
     "output_type": "stream",
     "text": [
      "Opening raw data file ../SEED_FRA_OUTPUT/POSITIVE/2_1_trial_17_signals.fif...\n",
      "    Range : 3216000 ... 3349000 =   3216.000 ...  3349.000 secs\n",
      "Ready.\n",
      "Reading 0 ... 133000  =      0.000 ...   133.000 secs...\n"
     ]
    },
    {
     "name": "stderr",
     "output_type": "stream",
     "text": [
      "C:\\Users\\marco\\AppData\\Local\\Temp\\ipykernel_6904\\3667833851.py:14: RuntimeWarning: This filename (../SEED_FRA_OUTPUT/POSITIVE/2_1_trial_17_signals.fif) does not conform to MNE naming conventions. All raw files should end with raw.fif, raw_sss.fif, raw_tsss.fif, _meg.fif, _eeg.fif, _ieeg.fif, raw.fif.gz, raw_sss.fif.gz, raw_tsss.fif.gz, _meg.fif.gz, _eeg.fif.gz or _ieeg.fif.gz\n",
      "  eeg_data = mne.io.read_raw_fif(name, preload=True)\n"
     ]
    },
    {
     "name": "stdout",
     "output_type": "stream",
     "text": [
      "Opening raw data file ../SEED_FRA_OUTPUT/POSITIVE/2_1_trial_20_signals.fif...\n",
      "    Range : 3622000 ... 3797000 =   3622.000 ...  3797.000 secs\n",
      "Ready.\n",
      "Reading 0 ... 175000  =      0.000 ...   175.000 secs...\n"
     ]
    },
    {
     "name": "stderr",
     "output_type": "stream",
     "text": [
      "C:\\Users\\marco\\AppData\\Local\\Temp\\ipykernel_6904\\3667833851.py:14: RuntimeWarning: This filename (../SEED_FRA_OUTPUT/POSITIVE/2_1_trial_20_signals.fif) does not conform to MNE naming conventions. All raw files should end with raw.fif, raw_sss.fif, raw_tsss.fif, _meg.fif, _eeg.fif, _ieeg.fif, raw.fif.gz, raw_sss.fif.gz, raw_tsss.fif.gz, _meg.fif.gz, _eeg.fif.gz or _ieeg.fif.gz\n",
      "  eeg_data = mne.io.read_raw_fif(name, preload=True)\n"
     ]
    },
    {
     "name": "stdout",
     "output_type": "stream",
     "text": [
      "Opening raw data file ../SEED_FRA_OUTPUT/POSITIVE/2_1_trial_4_signals.fif...\n",
      "    Range : 982000 ... 1082000 =    982.000 ...  1082.000 secs\n",
      "Ready.\n",
      "Reading 0 ... 100000  =      0.000 ...   100.000 secs...\n"
     ]
    },
    {
     "name": "stderr",
     "output_type": "stream",
     "text": [
      "C:\\Users\\marco\\AppData\\Local\\Temp\\ipykernel_6904\\3667833851.py:14: RuntimeWarning: This filename (../SEED_FRA_OUTPUT/POSITIVE/2_1_trial_4_signals.fif) does not conform to MNE naming conventions. All raw files should end with raw.fif, raw_sss.fif, raw_tsss.fif, _meg.fif, _eeg.fif, _ieeg.fif, raw.fif.gz, raw_sss.fif.gz, raw_tsss.fif.gz, _meg.fif.gz, _eeg.fif.gz or _ieeg.fif.gz\n",
      "  eeg_data = mne.io.read_raw_fif(name, preload=True)\n"
     ]
    },
    {
     "name": "stdout",
     "output_type": "stream",
     "text": [
      "Opening raw data file ../SEED_FRA_OUTPUT/POSITIVE/2_1_trial_8_signals.fif...\n",
      "    Range : 1738000 ... 1867000 =   1738.000 ...  1867.000 secs\n",
      "Ready.\n",
      "Reading 0 ... 129000  =      0.000 ...   129.000 secs...\n"
     ]
    },
    {
     "name": "stderr",
     "output_type": "stream",
     "text": [
      "C:\\Users\\marco\\AppData\\Local\\Temp\\ipykernel_6904\\3667833851.py:14: RuntimeWarning: This filename (../SEED_FRA_OUTPUT/POSITIVE/2_1_trial_8_signals.fif) does not conform to MNE naming conventions. All raw files should end with raw.fif, raw_sss.fif, raw_tsss.fif, _meg.fif, _eeg.fif, _ieeg.fif, raw.fif.gz, raw_sss.fif.gz, raw_tsss.fif.gz, _meg.fif.gz, _eeg.fif.gz or _ieeg.fif.gz\n",
      "  eeg_data = mne.io.read_raw_fif(name, preload=True)\n"
     ]
    },
    {
     "name": "stdout",
     "output_type": "stream",
     "text": [
      "Opening raw data file ../SEED_FRA_OUTPUT/POSITIVE/2_2_trial_0_signals.fif...\n",
      "    Range : 21000 ... 193000 =     21.000 ...   193.000 secs\n",
      "Ready.\n",
      "Reading 0 ... 172000  =      0.000 ...   172.000 secs...\n"
     ]
    },
    {
     "name": "stderr",
     "output_type": "stream",
     "text": [
      "C:\\Users\\marco\\AppData\\Local\\Temp\\ipykernel_6904\\3667833851.py:14: RuntimeWarning: This filename (../SEED_FRA_OUTPUT/POSITIVE/2_2_trial_0_signals.fif) does not conform to MNE naming conventions. All raw files should end with raw.fif, raw_sss.fif, raw_tsss.fif, _meg.fif, _eeg.fif, _ieeg.fif, raw.fif.gz, raw_sss.fif.gz, raw_tsss.fif.gz, _meg.fif.gz, _eeg.fif.gz or _ieeg.fif.gz\n",
      "  eeg_data = mne.io.read_raw_fif(name, preload=True)\n"
     ]
    },
    {
     "name": "stdout",
     "output_type": "stream",
     "text": [
      "Opening raw data file ../SEED_FRA_OUTPUT/POSITIVE/2_2_trial_11_signals.fif...\n",
      "    Range : 2327000 ... 2471000 =   2327.000 ...  2471.000 secs\n",
      "Ready.\n",
      "Reading 0 ... 144000  =      0.000 ...   144.000 secs...\n"
     ]
    },
    {
     "name": "stderr",
     "output_type": "stream",
     "text": [
      "C:\\Users\\marco\\AppData\\Local\\Temp\\ipykernel_6904\\3667833851.py:14: RuntimeWarning: This filename (../SEED_FRA_OUTPUT/POSITIVE/2_2_trial_11_signals.fif) does not conform to MNE naming conventions. All raw files should end with raw.fif, raw_sss.fif, raw_tsss.fif, _meg.fif, _eeg.fif, _ieeg.fif, raw.fif.gz, raw_sss.fif.gz, raw_tsss.fif.gz, _meg.fif.gz, _eeg.fif.gz or _ieeg.fif.gz\n",
      "  eeg_data = mne.io.read_raw_fif(name, preload=True)\n"
     ]
    },
    {
     "name": "stdout",
     "output_type": "stream",
     "text": [
      "Opening raw data file ../SEED_FRA_OUTPUT/POSITIVE/2_2_trial_12_signals.fif...\n",
      "    Range : 2492000 ... 2599000 =   2492.000 ...  2599.000 secs\n",
      "Ready.\n",
      "Reading 0 ... 107000  =      0.000 ...   107.000 secs...\n"
     ]
    },
    {
     "name": "stderr",
     "output_type": "stream",
     "text": [
      "C:\\Users\\marco\\AppData\\Local\\Temp\\ipykernel_6904\\3667833851.py:14: RuntimeWarning: This filename (../SEED_FRA_OUTPUT/POSITIVE/2_2_trial_12_signals.fif) does not conform to MNE naming conventions. All raw files should end with raw.fif, raw_sss.fif, raw_tsss.fif, _meg.fif, _eeg.fif, _ieeg.fif, raw.fif.gz, raw_sss.fif.gz, raw_tsss.fif.gz, _meg.fif.gz, _eeg.fif.gz or _ieeg.fif.gz\n",
      "  eeg_data = mne.io.read_raw_fif(name, preload=True)\n"
     ]
    },
    {
     "name": "stdout",
     "output_type": "stream",
     "text": [
      "Opening raw data file ../SEED_FRA_OUTPUT/POSITIVE/2_2_trial_17_signals.fif...\n",
      "    Range : 3216000 ... 3349000 =   3216.000 ...  3349.000 secs\n",
      "Ready.\n",
      "Reading 0 ... 133000  =      0.000 ...   133.000 secs...\n"
     ]
    },
    {
     "name": "stderr",
     "output_type": "stream",
     "text": [
      "C:\\Users\\marco\\AppData\\Local\\Temp\\ipykernel_6904\\3667833851.py:14: RuntimeWarning: This filename (../SEED_FRA_OUTPUT/POSITIVE/2_2_trial_17_signals.fif) does not conform to MNE naming conventions. All raw files should end with raw.fif, raw_sss.fif, raw_tsss.fif, _meg.fif, _eeg.fif, _ieeg.fif, raw.fif.gz, raw_sss.fif.gz, raw_tsss.fif.gz, _meg.fif.gz, _eeg.fif.gz or _ieeg.fif.gz\n",
      "  eeg_data = mne.io.read_raw_fif(name, preload=True)\n"
     ]
    },
    {
     "name": "stdout",
     "output_type": "stream",
     "text": [
      "Opening raw data file ../SEED_FRA_OUTPUT/POSITIVE/2_2_trial_20_signals.fif...\n",
      "    Range : 3622000 ... 3797000 =   3622.000 ...  3797.000 secs\n",
      "Ready.\n",
      "Reading 0 ... 175000  =      0.000 ...   175.000 secs...\n"
     ]
    },
    {
     "name": "stderr",
     "output_type": "stream",
     "text": [
      "C:\\Users\\marco\\AppData\\Local\\Temp\\ipykernel_6904\\3667833851.py:14: RuntimeWarning: This filename (../SEED_FRA_OUTPUT/POSITIVE/2_2_trial_20_signals.fif) does not conform to MNE naming conventions. All raw files should end with raw.fif, raw_sss.fif, raw_tsss.fif, _meg.fif, _eeg.fif, _ieeg.fif, raw.fif.gz, raw_sss.fif.gz, raw_tsss.fif.gz, _meg.fif.gz, _eeg.fif.gz or _ieeg.fif.gz\n",
      "  eeg_data = mne.io.read_raw_fif(name, preload=True)\n"
     ]
    },
    {
     "name": "stdout",
     "output_type": "stream",
     "text": [
      "Opening raw data file ../SEED_FRA_OUTPUT/POSITIVE/2_2_trial_4_signals.fif...\n",
      "    Range : 982000 ... 1082000 =    982.000 ...  1082.000 secs\n",
      "Ready.\n",
      "Reading 0 ... 100000  =      0.000 ...   100.000 secs...\n"
     ]
    },
    {
     "name": "stderr",
     "output_type": "stream",
     "text": [
      "C:\\Users\\marco\\AppData\\Local\\Temp\\ipykernel_6904\\3667833851.py:14: RuntimeWarning: This filename (../SEED_FRA_OUTPUT/POSITIVE/2_2_trial_4_signals.fif) does not conform to MNE naming conventions. All raw files should end with raw.fif, raw_sss.fif, raw_tsss.fif, _meg.fif, _eeg.fif, _ieeg.fif, raw.fif.gz, raw_sss.fif.gz, raw_tsss.fif.gz, _meg.fif.gz, _eeg.fif.gz or _ieeg.fif.gz\n",
      "  eeg_data = mne.io.read_raw_fif(name, preload=True)\n"
     ]
    },
    {
     "name": "stdout",
     "output_type": "stream",
     "text": [
      "Opening raw data file ../SEED_FRA_OUTPUT/POSITIVE/2_2_trial_8_signals.fif...\n",
      "    Range : 1738000 ... 1867000 =   1738.000 ...  1867.000 secs\n",
      "Ready.\n",
      "Reading 0 ... 129000  =      0.000 ...   129.000 secs...\n"
     ]
    },
    {
     "name": "stderr",
     "output_type": "stream",
     "text": [
      "C:\\Users\\marco\\AppData\\Local\\Temp\\ipykernel_6904\\3667833851.py:14: RuntimeWarning: This filename (../SEED_FRA_OUTPUT/POSITIVE/2_2_trial_8_signals.fif) does not conform to MNE naming conventions. All raw files should end with raw.fif, raw_sss.fif, raw_tsss.fif, _meg.fif, _eeg.fif, _ieeg.fif, raw.fif.gz, raw_sss.fif.gz, raw_tsss.fif.gz, _meg.fif.gz, _eeg.fif.gz or _ieeg.fif.gz\n",
      "  eeg_data = mne.io.read_raw_fif(name, preload=True)\n"
     ]
    },
    {
     "name": "stdout",
     "output_type": "stream",
     "text": [
      "Opening raw data file ../SEED_FRA_OUTPUT/POSITIVE/2_3_trial_0_signals.fif...\n",
      "    Range : 21000 ... 193000 =     21.000 ...   193.000 secs\n",
      "Ready.\n",
      "Reading 0 ... 172000  =      0.000 ...   172.000 secs...\n"
     ]
    },
    {
     "name": "stderr",
     "output_type": "stream",
     "text": [
      "C:\\Users\\marco\\AppData\\Local\\Temp\\ipykernel_6904\\3667833851.py:14: RuntimeWarning: This filename (../SEED_FRA_OUTPUT/POSITIVE/2_3_trial_0_signals.fif) does not conform to MNE naming conventions. All raw files should end with raw.fif, raw_sss.fif, raw_tsss.fif, _meg.fif, _eeg.fif, _ieeg.fif, raw.fif.gz, raw_sss.fif.gz, raw_tsss.fif.gz, _meg.fif.gz, _eeg.fif.gz or _ieeg.fif.gz\n",
      "  eeg_data = mne.io.read_raw_fif(name, preload=True)\n"
     ]
    },
    {
     "name": "stdout",
     "output_type": "stream",
     "text": [
      "Opening raw data file ../SEED_FRA_OUTPUT/POSITIVE/2_3_trial_11_signals.fif...\n",
      "    Range : 2327000 ... 2471000 =   2327.000 ...  2471.000 secs\n",
      "Ready.\n",
      "Reading 0 ... 144000  =      0.000 ...   144.000 secs...\n"
     ]
    },
    {
     "name": "stderr",
     "output_type": "stream",
     "text": [
      "C:\\Users\\marco\\AppData\\Local\\Temp\\ipykernel_6904\\3667833851.py:14: RuntimeWarning: This filename (../SEED_FRA_OUTPUT/POSITIVE/2_3_trial_11_signals.fif) does not conform to MNE naming conventions. All raw files should end with raw.fif, raw_sss.fif, raw_tsss.fif, _meg.fif, _eeg.fif, _ieeg.fif, raw.fif.gz, raw_sss.fif.gz, raw_tsss.fif.gz, _meg.fif.gz, _eeg.fif.gz or _ieeg.fif.gz\n",
      "  eeg_data = mne.io.read_raw_fif(name, preload=True)\n"
     ]
    },
    {
     "name": "stdout",
     "output_type": "stream",
     "text": [
      "Opening raw data file ../SEED_FRA_OUTPUT/POSITIVE/2_3_trial_12_signals.fif...\n",
      "    Range : 2492000 ... 2599000 =   2492.000 ...  2599.000 secs\n",
      "Ready.\n",
      "Reading 0 ... 107000  =      0.000 ...   107.000 secs...\n"
     ]
    },
    {
     "name": "stderr",
     "output_type": "stream",
     "text": [
      "C:\\Users\\marco\\AppData\\Local\\Temp\\ipykernel_6904\\3667833851.py:14: RuntimeWarning: This filename (../SEED_FRA_OUTPUT/POSITIVE/2_3_trial_12_signals.fif) does not conform to MNE naming conventions. All raw files should end with raw.fif, raw_sss.fif, raw_tsss.fif, _meg.fif, _eeg.fif, _ieeg.fif, raw.fif.gz, raw_sss.fif.gz, raw_tsss.fif.gz, _meg.fif.gz, _eeg.fif.gz or _ieeg.fif.gz\n",
      "  eeg_data = mne.io.read_raw_fif(name, preload=True)\n"
     ]
    },
    {
     "name": "stdout",
     "output_type": "stream",
     "text": [
      "Opening raw data file ../SEED_FRA_OUTPUT/POSITIVE/2_3_trial_17_signals.fif...\n",
      "    Range : 3216000 ... 3349000 =   3216.000 ...  3349.000 secs\n",
      "Ready.\n",
      "Reading 0 ... 133000  =      0.000 ...   133.000 secs...\n"
     ]
    },
    {
     "name": "stderr",
     "output_type": "stream",
     "text": [
      "C:\\Users\\marco\\AppData\\Local\\Temp\\ipykernel_6904\\3667833851.py:14: RuntimeWarning: This filename (../SEED_FRA_OUTPUT/POSITIVE/2_3_trial_17_signals.fif) does not conform to MNE naming conventions. All raw files should end with raw.fif, raw_sss.fif, raw_tsss.fif, _meg.fif, _eeg.fif, _ieeg.fif, raw.fif.gz, raw_sss.fif.gz, raw_tsss.fif.gz, _meg.fif.gz, _eeg.fif.gz or _ieeg.fif.gz\n",
      "  eeg_data = mne.io.read_raw_fif(name, preload=True)\n"
     ]
    },
    {
     "name": "stdout",
     "output_type": "stream",
     "text": [
      "Opening raw data file ../SEED_FRA_OUTPUT/POSITIVE/2_3_trial_20_signals.fif...\n",
      "    Range : 3622000 ... 3797000 =   3622.000 ...  3797.000 secs\n",
      "Ready.\n",
      "Reading 0 ... 175000  =      0.000 ...   175.000 secs...\n"
     ]
    },
    {
     "name": "stderr",
     "output_type": "stream",
     "text": [
      "C:\\Users\\marco\\AppData\\Local\\Temp\\ipykernel_6904\\3667833851.py:14: RuntimeWarning: This filename (../SEED_FRA_OUTPUT/POSITIVE/2_3_trial_20_signals.fif) does not conform to MNE naming conventions. All raw files should end with raw.fif, raw_sss.fif, raw_tsss.fif, _meg.fif, _eeg.fif, _ieeg.fif, raw.fif.gz, raw_sss.fif.gz, raw_tsss.fif.gz, _meg.fif.gz, _eeg.fif.gz or _ieeg.fif.gz\n",
      "  eeg_data = mne.io.read_raw_fif(name, preload=True)\n"
     ]
    },
    {
     "name": "stdout",
     "output_type": "stream",
     "text": [
      "Opening raw data file ../SEED_FRA_OUTPUT/POSITIVE/2_3_trial_4_signals.fif...\n",
      "    Range : 982000 ... 1082000 =    982.000 ...  1082.000 secs\n",
      "Ready.\n",
      "Reading 0 ... 100000  =      0.000 ...   100.000 secs...\n"
     ]
    },
    {
     "name": "stderr",
     "output_type": "stream",
     "text": [
      "C:\\Users\\marco\\AppData\\Local\\Temp\\ipykernel_6904\\3667833851.py:14: RuntimeWarning: This filename (../SEED_FRA_OUTPUT/POSITIVE/2_3_trial_4_signals.fif) does not conform to MNE naming conventions. All raw files should end with raw.fif, raw_sss.fif, raw_tsss.fif, _meg.fif, _eeg.fif, _ieeg.fif, raw.fif.gz, raw_sss.fif.gz, raw_tsss.fif.gz, _meg.fif.gz, _eeg.fif.gz or _ieeg.fif.gz\n",
      "  eeg_data = mne.io.read_raw_fif(name, preload=True)\n"
     ]
    },
    {
     "name": "stdout",
     "output_type": "stream",
     "text": [
      "Opening raw data file ../SEED_FRA_OUTPUT/POSITIVE/2_3_trial_8_signals.fif...\n",
      "    Range : 1738000 ... 1867000 =   1738.000 ...  1867.000 secs\n",
      "Ready.\n",
      "Reading 0 ... 129000  =      0.000 ...   129.000 secs...\n"
     ]
    },
    {
     "name": "stderr",
     "output_type": "stream",
     "text": [
      "C:\\Users\\marco\\AppData\\Local\\Temp\\ipykernel_6904\\3667833851.py:14: RuntimeWarning: This filename (../SEED_FRA_OUTPUT/POSITIVE/2_3_trial_8_signals.fif) does not conform to MNE naming conventions. All raw files should end with raw.fif, raw_sss.fif, raw_tsss.fif, _meg.fif, _eeg.fif, _ieeg.fif, raw.fif.gz, raw_sss.fif.gz, raw_tsss.fif.gz, _meg.fif.gz, _eeg.fif.gz or _ieeg.fif.gz\n",
      "  eeg_data = mne.io.read_raw_fif(name, preload=True)\n"
     ]
    },
    {
     "name": "stdout",
     "output_type": "stream",
     "text": [
      "Opening raw data file ../SEED_FRA_OUTPUT/POSITIVE/3_1_trial_0_signals.fif...\n",
      "    Range : 21000 ... 193000 =     21.000 ...   193.000 secs\n",
      "Ready.\n",
      "Reading 0 ... 172000  =      0.000 ...   172.000 secs...\n"
     ]
    },
    {
     "name": "stderr",
     "output_type": "stream",
     "text": [
      "C:\\Users\\marco\\AppData\\Local\\Temp\\ipykernel_6904\\3667833851.py:14: RuntimeWarning: This filename (../SEED_FRA_OUTPUT/POSITIVE/3_1_trial_0_signals.fif) does not conform to MNE naming conventions. All raw files should end with raw.fif, raw_sss.fif, raw_tsss.fif, _meg.fif, _eeg.fif, _ieeg.fif, raw.fif.gz, raw_sss.fif.gz, raw_tsss.fif.gz, _meg.fif.gz, _eeg.fif.gz or _ieeg.fif.gz\n",
      "  eeg_data = mne.io.read_raw_fif(name, preload=True)\n"
     ]
    },
    {
     "name": "stdout",
     "output_type": "stream",
     "text": [
      "Opening raw data file ../SEED_FRA_OUTPUT/POSITIVE/3_1_trial_11_signals.fif...\n",
      "    Range : 2327000 ... 2471000 =   2327.000 ...  2471.000 secs\n",
      "Ready.\n",
      "Reading 0 ... 144000  =      0.000 ...   144.000 secs...\n"
     ]
    },
    {
     "name": "stderr",
     "output_type": "stream",
     "text": [
      "C:\\Users\\marco\\AppData\\Local\\Temp\\ipykernel_6904\\3667833851.py:14: RuntimeWarning: This filename (../SEED_FRA_OUTPUT/POSITIVE/3_1_trial_11_signals.fif) does not conform to MNE naming conventions. All raw files should end with raw.fif, raw_sss.fif, raw_tsss.fif, _meg.fif, _eeg.fif, _ieeg.fif, raw.fif.gz, raw_sss.fif.gz, raw_tsss.fif.gz, _meg.fif.gz, _eeg.fif.gz or _ieeg.fif.gz\n",
      "  eeg_data = mne.io.read_raw_fif(name, preload=True)\n"
     ]
    },
    {
     "name": "stdout",
     "output_type": "stream",
     "text": [
      "Opening raw data file ../SEED_FRA_OUTPUT/POSITIVE/3_1_trial_12_signals.fif...\n",
      "    Range : 2492000 ... 2599000 =   2492.000 ...  2599.000 secs\n",
      "Ready.\n",
      "Reading 0 ... 107000  =      0.000 ...   107.000 secs...\n"
     ]
    },
    {
     "name": "stderr",
     "output_type": "stream",
     "text": [
      "C:\\Users\\marco\\AppData\\Local\\Temp\\ipykernel_6904\\3667833851.py:14: RuntimeWarning: This filename (../SEED_FRA_OUTPUT/POSITIVE/3_1_trial_12_signals.fif) does not conform to MNE naming conventions. All raw files should end with raw.fif, raw_sss.fif, raw_tsss.fif, _meg.fif, _eeg.fif, _ieeg.fif, raw.fif.gz, raw_sss.fif.gz, raw_tsss.fif.gz, _meg.fif.gz, _eeg.fif.gz or _ieeg.fif.gz\n",
      "  eeg_data = mne.io.read_raw_fif(name, preload=True)\n"
     ]
    },
    {
     "name": "stdout",
     "output_type": "stream",
     "text": [
      "Opening raw data file ../SEED_FRA_OUTPUT/POSITIVE/3_1_trial_17_signals.fif...\n",
      "    Range : 3216000 ... 3349000 =   3216.000 ...  3349.000 secs\n",
      "Ready.\n",
      "Reading 0 ... 133000  =      0.000 ...   133.000 secs...\n"
     ]
    },
    {
     "name": "stderr",
     "output_type": "stream",
     "text": [
      "C:\\Users\\marco\\AppData\\Local\\Temp\\ipykernel_6904\\3667833851.py:14: RuntimeWarning: This filename (../SEED_FRA_OUTPUT/POSITIVE/3_1_trial_17_signals.fif) does not conform to MNE naming conventions. All raw files should end with raw.fif, raw_sss.fif, raw_tsss.fif, _meg.fif, _eeg.fif, _ieeg.fif, raw.fif.gz, raw_sss.fif.gz, raw_tsss.fif.gz, _meg.fif.gz, _eeg.fif.gz or _ieeg.fif.gz\n",
      "  eeg_data = mne.io.read_raw_fif(name, preload=True)\n"
     ]
    },
    {
     "name": "stdout",
     "output_type": "stream",
     "text": [
      "Opening raw data file ../SEED_FRA_OUTPUT/POSITIVE/3_1_trial_20_signals.fif...\n",
      "    Range : 3622000 ... 3797000 =   3622.000 ...  3797.000 secs\n",
      "Ready.\n",
      "Reading 0 ... 175000  =      0.000 ...   175.000 secs...\n"
     ]
    },
    {
     "name": "stderr",
     "output_type": "stream",
     "text": [
      "C:\\Users\\marco\\AppData\\Local\\Temp\\ipykernel_6904\\3667833851.py:14: RuntimeWarning: This filename (../SEED_FRA_OUTPUT/POSITIVE/3_1_trial_20_signals.fif) does not conform to MNE naming conventions. All raw files should end with raw.fif, raw_sss.fif, raw_tsss.fif, _meg.fif, _eeg.fif, _ieeg.fif, raw.fif.gz, raw_sss.fif.gz, raw_tsss.fif.gz, _meg.fif.gz, _eeg.fif.gz or _ieeg.fif.gz\n",
      "  eeg_data = mne.io.read_raw_fif(name, preload=True)\n"
     ]
    },
    {
     "name": "stdout",
     "output_type": "stream",
     "text": [
      "Opening raw data file ../SEED_FRA_OUTPUT/POSITIVE/3_1_trial_4_signals.fif...\n",
      "    Range : 982000 ... 1082000 =    982.000 ...  1082.000 secs\n",
      "Ready.\n",
      "Reading 0 ... 100000  =      0.000 ...   100.000 secs...\n"
     ]
    },
    {
     "name": "stderr",
     "output_type": "stream",
     "text": [
      "C:\\Users\\marco\\AppData\\Local\\Temp\\ipykernel_6904\\3667833851.py:14: RuntimeWarning: This filename (../SEED_FRA_OUTPUT/POSITIVE/3_1_trial_4_signals.fif) does not conform to MNE naming conventions. All raw files should end with raw.fif, raw_sss.fif, raw_tsss.fif, _meg.fif, _eeg.fif, _ieeg.fif, raw.fif.gz, raw_sss.fif.gz, raw_tsss.fif.gz, _meg.fif.gz, _eeg.fif.gz or _ieeg.fif.gz\n",
      "  eeg_data = mne.io.read_raw_fif(name, preload=True)\n"
     ]
    },
    {
     "name": "stdout",
     "output_type": "stream",
     "text": [
      "Opening raw data file ../SEED_FRA_OUTPUT/POSITIVE/3_1_trial_8_signals.fif...\n",
      "    Range : 1738000 ... 1867000 =   1738.000 ...  1867.000 secs\n",
      "Ready.\n",
      "Reading 0 ... 129000  =      0.000 ...   129.000 secs...\n"
     ]
    },
    {
     "name": "stderr",
     "output_type": "stream",
     "text": [
      "C:\\Users\\marco\\AppData\\Local\\Temp\\ipykernel_6904\\3667833851.py:14: RuntimeWarning: This filename (../SEED_FRA_OUTPUT/POSITIVE/3_1_trial_8_signals.fif) does not conform to MNE naming conventions. All raw files should end with raw.fif, raw_sss.fif, raw_tsss.fif, _meg.fif, _eeg.fif, _ieeg.fif, raw.fif.gz, raw_sss.fif.gz, raw_tsss.fif.gz, _meg.fif.gz, _eeg.fif.gz or _ieeg.fif.gz\n",
      "  eeg_data = mne.io.read_raw_fif(name, preload=True)\n"
     ]
    },
    {
     "name": "stdout",
     "output_type": "stream",
     "text": [
      "Opening raw data file ../SEED_FRA_OUTPUT/POSITIVE/3_2_trial_0_signals.fif...\n",
      "    Range : 21000 ... 193000 =     21.000 ...   193.000 secs\n",
      "Ready.\n",
      "Reading 0 ... 172000  =      0.000 ...   172.000 secs...\n"
     ]
    },
    {
     "name": "stderr",
     "output_type": "stream",
     "text": [
      "C:\\Users\\marco\\AppData\\Local\\Temp\\ipykernel_6904\\3667833851.py:14: RuntimeWarning: This filename (../SEED_FRA_OUTPUT/POSITIVE/3_2_trial_0_signals.fif) does not conform to MNE naming conventions. All raw files should end with raw.fif, raw_sss.fif, raw_tsss.fif, _meg.fif, _eeg.fif, _ieeg.fif, raw.fif.gz, raw_sss.fif.gz, raw_tsss.fif.gz, _meg.fif.gz, _eeg.fif.gz or _ieeg.fif.gz\n",
      "  eeg_data = mne.io.read_raw_fif(name, preload=True)\n"
     ]
    },
    {
     "name": "stdout",
     "output_type": "stream",
     "text": [
      "Opening raw data file ../SEED_FRA_OUTPUT/POSITIVE/3_2_trial_11_signals.fif...\n",
      "    Range : 2327000 ... 2471000 =   2327.000 ...  2471.000 secs\n",
      "Ready.\n",
      "Reading 0 ... 144000  =      0.000 ...   144.000 secs...\n"
     ]
    },
    {
     "name": "stderr",
     "output_type": "stream",
     "text": [
      "C:\\Users\\marco\\AppData\\Local\\Temp\\ipykernel_6904\\3667833851.py:14: RuntimeWarning: This filename (../SEED_FRA_OUTPUT/POSITIVE/3_2_trial_11_signals.fif) does not conform to MNE naming conventions. All raw files should end with raw.fif, raw_sss.fif, raw_tsss.fif, _meg.fif, _eeg.fif, _ieeg.fif, raw.fif.gz, raw_sss.fif.gz, raw_tsss.fif.gz, _meg.fif.gz, _eeg.fif.gz or _ieeg.fif.gz\n",
      "  eeg_data = mne.io.read_raw_fif(name, preload=True)\n"
     ]
    },
    {
     "name": "stdout",
     "output_type": "stream",
     "text": [
      "Opening raw data file ../SEED_FRA_OUTPUT/POSITIVE/3_2_trial_12_signals.fif...\n",
      "    Range : 2492000 ... 2599000 =   2492.000 ...  2599.000 secs\n",
      "Ready.\n",
      "Reading 0 ... 107000  =      0.000 ...   107.000 secs...\n"
     ]
    },
    {
     "name": "stderr",
     "output_type": "stream",
     "text": [
      "C:\\Users\\marco\\AppData\\Local\\Temp\\ipykernel_6904\\3667833851.py:14: RuntimeWarning: This filename (../SEED_FRA_OUTPUT/POSITIVE/3_2_trial_12_signals.fif) does not conform to MNE naming conventions. All raw files should end with raw.fif, raw_sss.fif, raw_tsss.fif, _meg.fif, _eeg.fif, _ieeg.fif, raw.fif.gz, raw_sss.fif.gz, raw_tsss.fif.gz, _meg.fif.gz, _eeg.fif.gz or _ieeg.fif.gz\n",
      "  eeg_data = mne.io.read_raw_fif(name, preload=True)\n"
     ]
    },
    {
     "name": "stdout",
     "output_type": "stream",
     "text": [
      "Opening raw data file ../SEED_FRA_OUTPUT/POSITIVE/3_2_trial_17_signals.fif...\n",
      "    Range : 3216000 ... 3349000 =   3216.000 ...  3349.000 secs\n",
      "Ready.\n",
      "Reading 0 ... 133000  =      0.000 ...   133.000 secs...\n"
     ]
    },
    {
     "name": "stderr",
     "output_type": "stream",
     "text": [
      "C:\\Users\\marco\\AppData\\Local\\Temp\\ipykernel_6904\\3667833851.py:14: RuntimeWarning: This filename (../SEED_FRA_OUTPUT/POSITIVE/3_2_trial_17_signals.fif) does not conform to MNE naming conventions. All raw files should end with raw.fif, raw_sss.fif, raw_tsss.fif, _meg.fif, _eeg.fif, _ieeg.fif, raw.fif.gz, raw_sss.fif.gz, raw_tsss.fif.gz, _meg.fif.gz, _eeg.fif.gz or _ieeg.fif.gz\n",
      "  eeg_data = mne.io.read_raw_fif(name, preload=True)\n"
     ]
    },
    {
     "name": "stdout",
     "output_type": "stream",
     "text": [
      "Opening raw data file ../SEED_FRA_OUTPUT/POSITIVE/3_2_trial_20_signals.fif...\n",
      "    Range : 3622000 ... 3797000 =   3622.000 ...  3797.000 secs\n",
      "Ready.\n",
      "Reading 0 ... 175000  =      0.000 ...   175.000 secs...\n"
     ]
    },
    {
     "name": "stderr",
     "output_type": "stream",
     "text": [
      "C:\\Users\\marco\\AppData\\Local\\Temp\\ipykernel_6904\\3667833851.py:14: RuntimeWarning: This filename (../SEED_FRA_OUTPUT/POSITIVE/3_2_trial_20_signals.fif) does not conform to MNE naming conventions. All raw files should end with raw.fif, raw_sss.fif, raw_tsss.fif, _meg.fif, _eeg.fif, _ieeg.fif, raw.fif.gz, raw_sss.fif.gz, raw_tsss.fif.gz, _meg.fif.gz, _eeg.fif.gz or _ieeg.fif.gz\n",
      "  eeg_data = mne.io.read_raw_fif(name, preload=True)\n"
     ]
    },
    {
     "name": "stdout",
     "output_type": "stream",
     "text": [
      "Opening raw data file ../SEED_FRA_OUTPUT/POSITIVE/3_2_trial_4_signals.fif...\n",
      "    Range : 982000 ... 1082000 =    982.000 ...  1082.000 secs\n",
      "Ready.\n",
      "Reading 0 ... 100000  =      0.000 ...   100.000 secs...\n"
     ]
    },
    {
     "name": "stderr",
     "output_type": "stream",
     "text": [
      "C:\\Users\\marco\\AppData\\Local\\Temp\\ipykernel_6904\\3667833851.py:14: RuntimeWarning: This filename (../SEED_FRA_OUTPUT/POSITIVE/3_2_trial_4_signals.fif) does not conform to MNE naming conventions. All raw files should end with raw.fif, raw_sss.fif, raw_tsss.fif, _meg.fif, _eeg.fif, _ieeg.fif, raw.fif.gz, raw_sss.fif.gz, raw_tsss.fif.gz, _meg.fif.gz, _eeg.fif.gz or _ieeg.fif.gz\n",
      "  eeg_data = mne.io.read_raw_fif(name, preload=True)\n"
     ]
    },
    {
     "name": "stdout",
     "output_type": "stream",
     "text": [
      "Opening raw data file ../SEED_FRA_OUTPUT/POSITIVE/3_2_trial_8_signals.fif...\n",
      "    Range : 1738000 ... 1867000 =   1738.000 ...  1867.000 secs\n",
      "Ready.\n",
      "Reading 0 ... 129000  =      0.000 ...   129.000 secs...\n"
     ]
    },
    {
     "name": "stderr",
     "output_type": "stream",
     "text": [
      "C:\\Users\\marco\\AppData\\Local\\Temp\\ipykernel_6904\\3667833851.py:14: RuntimeWarning: This filename (../SEED_FRA_OUTPUT/POSITIVE/3_2_trial_8_signals.fif) does not conform to MNE naming conventions. All raw files should end with raw.fif, raw_sss.fif, raw_tsss.fif, _meg.fif, _eeg.fif, _ieeg.fif, raw.fif.gz, raw_sss.fif.gz, raw_tsss.fif.gz, _meg.fif.gz, _eeg.fif.gz or _ieeg.fif.gz\n",
      "  eeg_data = mne.io.read_raw_fif(name, preload=True)\n"
     ]
    },
    {
     "name": "stdout",
     "output_type": "stream",
     "text": [
      "Opening raw data file ../SEED_FRA_OUTPUT/POSITIVE/3_3_trial_0_signals.fif...\n",
      "    Range : 21000 ... 193000 =     21.000 ...   193.000 secs\n",
      "Ready.\n",
      "Reading 0 ... 172000  =      0.000 ...   172.000 secs...\n"
     ]
    },
    {
     "name": "stderr",
     "output_type": "stream",
     "text": [
      "C:\\Users\\marco\\AppData\\Local\\Temp\\ipykernel_6904\\3667833851.py:14: RuntimeWarning: This filename (../SEED_FRA_OUTPUT/POSITIVE/3_3_trial_0_signals.fif) does not conform to MNE naming conventions. All raw files should end with raw.fif, raw_sss.fif, raw_tsss.fif, _meg.fif, _eeg.fif, _ieeg.fif, raw.fif.gz, raw_sss.fif.gz, raw_tsss.fif.gz, _meg.fif.gz, _eeg.fif.gz or _ieeg.fif.gz\n",
      "  eeg_data = mne.io.read_raw_fif(name, preload=True)\n"
     ]
    },
    {
     "name": "stdout",
     "output_type": "stream",
     "text": [
      "Opening raw data file ../SEED_FRA_OUTPUT/POSITIVE/3_3_trial_11_signals.fif...\n",
      "    Range : 2327000 ... 2471000 =   2327.000 ...  2471.000 secs\n",
      "Ready.\n",
      "Reading 0 ... 144000  =      0.000 ...   144.000 secs...\n"
     ]
    },
    {
     "name": "stderr",
     "output_type": "stream",
     "text": [
      "C:\\Users\\marco\\AppData\\Local\\Temp\\ipykernel_6904\\3667833851.py:14: RuntimeWarning: This filename (../SEED_FRA_OUTPUT/POSITIVE/3_3_trial_11_signals.fif) does not conform to MNE naming conventions. All raw files should end with raw.fif, raw_sss.fif, raw_tsss.fif, _meg.fif, _eeg.fif, _ieeg.fif, raw.fif.gz, raw_sss.fif.gz, raw_tsss.fif.gz, _meg.fif.gz, _eeg.fif.gz or _ieeg.fif.gz\n",
      "  eeg_data = mne.io.read_raw_fif(name, preload=True)\n"
     ]
    },
    {
     "name": "stdout",
     "output_type": "stream",
     "text": [
      "Opening raw data file ../SEED_FRA_OUTPUT/POSITIVE/3_3_trial_12_signals.fif...\n",
      "    Range : 2492000 ... 2599000 =   2492.000 ...  2599.000 secs\n",
      "Ready.\n",
      "Reading 0 ... 107000  =      0.000 ...   107.000 secs...\n"
     ]
    },
    {
     "name": "stderr",
     "output_type": "stream",
     "text": [
      "C:\\Users\\marco\\AppData\\Local\\Temp\\ipykernel_6904\\3667833851.py:14: RuntimeWarning: This filename (../SEED_FRA_OUTPUT/POSITIVE/3_3_trial_12_signals.fif) does not conform to MNE naming conventions. All raw files should end with raw.fif, raw_sss.fif, raw_tsss.fif, _meg.fif, _eeg.fif, _ieeg.fif, raw.fif.gz, raw_sss.fif.gz, raw_tsss.fif.gz, _meg.fif.gz, _eeg.fif.gz or _ieeg.fif.gz\n",
      "  eeg_data = mne.io.read_raw_fif(name, preload=True)\n"
     ]
    },
    {
     "name": "stdout",
     "output_type": "stream",
     "text": [
      "Opening raw data file ../SEED_FRA_OUTPUT/POSITIVE/3_3_trial_17_signals.fif...\n",
      "    Range : 3216000 ... 3349000 =   3216.000 ...  3349.000 secs\n",
      "Ready.\n",
      "Reading 0 ... 133000  =      0.000 ...   133.000 secs...\n"
     ]
    },
    {
     "name": "stderr",
     "output_type": "stream",
     "text": [
      "C:\\Users\\marco\\AppData\\Local\\Temp\\ipykernel_6904\\3667833851.py:14: RuntimeWarning: This filename (../SEED_FRA_OUTPUT/POSITIVE/3_3_trial_17_signals.fif) does not conform to MNE naming conventions. All raw files should end with raw.fif, raw_sss.fif, raw_tsss.fif, _meg.fif, _eeg.fif, _ieeg.fif, raw.fif.gz, raw_sss.fif.gz, raw_tsss.fif.gz, _meg.fif.gz, _eeg.fif.gz or _ieeg.fif.gz\n",
      "  eeg_data = mne.io.read_raw_fif(name, preload=True)\n"
     ]
    },
    {
     "name": "stdout",
     "output_type": "stream",
     "text": [
      "Opening raw data file ../SEED_FRA_OUTPUT/POSITIVE/3_3_trial_20_signals.fif...\n",
      "    Range : 3622000 ... 3797000 =   3622.000 ...  3797.000 secs\n",
      "Ready.\n",
      "Reading 0 ... 175000  =      0.000 ...   175.000 secs...\n"
     ]
    },
    {
     "name": "stderr",
     "output_type": "stream",
     "text": [
      "C:\\Users\\marco\\AppData\\Local\\Temp\\ipykernel_6904\\3667833851.py:14: RuntimeWarning: This filename (../SEED_FRA_OUTPUT/POSITIVE/3_3_trial_20_signals.fif) does not conform to MNE naming conventions. All raw files should end with raw.fif, raw_sss.fif, raw_tsss.fif, _meg.fif, _eeg.fif, _ieeg.fif, raw.fif.gz, raw_sss.fif.gz, raw_tsss.fif.gz, _meg.fif.gz, _eeg.fif.gz or _ieeg.fif.gz\n",
      "  eeg_data = mne.io.read_raw_fif(name, preload=True)\n"
     ]
    },
    {
     "name": "stdout",
     "output_type": "stream",
     "text": [
      "Opening raw data file ../SEED_FRA_OUTPUT/POSITIVE/3_3_trial_4_signals.fif...\n",
      "    Range : 982000 ... 1082000 =    982.000 ...  1082.000 secs\n",
      "Ready.\n",
      "Reading 0 ... 100000  =      0.000 ...   100.000 secs...\n"
     ]
    },
    {
     "name": "stderr",
     "output_type": "stream",
     "text": [
      "C:\\Users\\marco\\AppData\\Local\\Temp\\ipykernel_6904\\3667833851.py:14: RuntimeWarning: This filename (../SEED_FRA_OUTPUT/POSITIVE/3_3_trial_4_signals.fif) does not conform to MNE naming conventions. All raw files should end with raw.fif, raw_sss.fif, raw_tsss.fif, _meg.fif, _eeg.fif, _ieeg.fif, raw.fif.gz, raw_sss.fif.gz, raw_tsss.fif.gz, _meg.fif.gz, _eeg.fif.gz or _ieeg.fif.gz\n",
      "  eeg_data = mne.io.read_raw_fif(name, preload=True)\n"
     ]
    },
    {
     "name": "stdout",
     "output_type": "stream",
     "text": [
      "Opening raw data file ../SEED_FRA_OUTPUT/POSITIVE/3_3_trial_8_signals.fif...\n",
      "    Range : 1738000 ... 1867000 =   1738.000 ...  1867.000 secs\n",
      "Ready.\n",
      "Reading 0 ... 129000  =      0.000 ...   129.000 secs...\n"
     ]
    },
    {
     "name": "stderr",
     "output_type": "stream",
     "text": [
      "C:\\Users\\marco\\AppData\\Local\\Temp\\ipykernel_6904\\3667833851.py:14: RuntimeWarning: This filename (../SEED_FRA_OUTPUT/POSITIVE/3_3_trial_8_signals.fif) does not conform to MNE naming conventions. All raw files should end with raw.fif, raw_sss.fif, raw_tsss.fif, _meg.fif, _eeg.fif, _ieeg.fif, raw.fif.gz, raw_sss.fif.gz, raw_tsss.fif.gz, _meg.fif.gz, _eeg.fif.gz or _ieeg.fif.gz\n",
      "  eeg_data = mne.io.read_raw_fif(name, preload=True)\n"
     ]
    },
    {
     "name": "stdout",
     "output_type": "stream",
     "text": [
      "Opening raw data file ../SEED_FRA_OUTPUT/POSITIVE/4_1_trial_0_signals.fif...\n",
      "    Range : 21000 ... 193000 =     21.000 ...   193.000 secs\n",
      "Ready.\n",
      "Reading 0 ... 172000  =      0.000 ...   172.000 secs...\n"
     ]
    },
    {
     "name": "stderr",
     "output_type": "stream",
     "text": [
      "C:\\Users\\marco\\AppData\\Local\\Temp\\ipykernel_6904\\3667833851.py:14: RuntimeWarning: This filename (../SEED_FRA_OUTPUT/POSITIVE/4_1_trial_0_signals.fif) does not conform to MNE naming conventions. All raw files should end with raw.fif, raw_sss.fif, raw_tsss.fif, _meg.fif, _eeg.fif, _ieeg.fif, raw.fif.gz, raw_sss.fif.gz, raw_tsss.fif.gz, _meg.fif.gz, _eeg.fif.gz or _ieeg.fif.gz\n",
      "  eeg_data = mne.io.read_raw_fif(name, preload=True)\n"
     ]
    },
    {
     "name": "stdout",
     "output_type": "stream",
     "text": [
      "Opening raw data file ../SEED_FRA_OUTPUT/POSITIVE/4_1_trial_11_signals.fif...\n",
      "    Range : 2327000 ... 2471000 =   2327.000 ...  2471.000 secs\n",
      "Ready.\n",
      "Reading 0 ... 144000  =      0.000 ...   144.000 secs...\n"
     ]
    },
    {
     "name": "stderr",
     "output_type": "stream",
     "text": [
      "C:\\Users\\marco\\AppData\\Local\\Temp\\ipykernel_6904\\3667833851.py:14: RuntimeWarning: This filename (../SEED_FRA_OUTPUT/POSITIVE/4_1_trial_11_signals.fif) does not conform to MNE naming conventions. All raw files should end with raw.fif, raw_sss.fif, raw_tsss.fif, _meg.fif, _eeg.fif, _ieeg.fif, raw.fif.gz, raw_sss.fif.gz, raw_tsss.fif.gz, _meg.fif.gz, _eeg.fif.gz or _ieeg.fif.gz\n",
      "  eeg_data = mne.io.read_raw_fif(name, preload=True)\n"
     ]
    },
    {
     "name": "stdout",
     "output_type": "stream",
     "text": [
      "Opening raw data file ../SEED_FRA_OUTPUT/POSITIVE/4_1_trial_12_signals.fif...\n",
      "    Range : 2492000 ... 2599000 =   2492.000 ...  2599.000 secs\n",
      "Ready.\n",
      "Reading 0 ... 107000  =      0.000 ...   107.000 secs...\n"
     ]
    },
    {
     "name": "stderr",
     "output_type": "stream",
     "text": [
      "C:\\Users\\marco\\AppData\\Local\\Temp\\ipykernel_6904\\3667833851.py:14: RuntimeWarning: This filename (../SEED_FRA_OUTPUT/POSITIVE/4_1_trial_12_signals.fif) does not conform to MNE naming conventions. All raw files should end with raw.fif, raw_sss.fif, raw_tsss.fif, _meg.fif, _eeg.fif, _ieeg.fif, raw.fif.gz, raw_sss.fif.gz, raw_tsss.fif.gz, _meg.fif.gz, _eeg.fif.gz or _ieeg.fif.gz\n",
      "  eeg_data = mne.io.read_raw_fif(name, preload=True)\n"
     ]
    },
    {
     "name": "stdout",
     "output_type": "stream",
     "text": [
      "Opening raw data file ../SEED_FRA_OUTPUT/POSITIVE/4_1_trial_17_signals.fif...\n",
      "    Range : 3216000 ... 3349000 =   3216.000 ...  3349.000 secs\n",
      "Ready.\n",
      "Reading 0 ... 133000  =      0.000 ...   133.000 secs...\n"
     ]
    },
    {
     "name": "stderr",
     "output_type": "stream",
     "text": [
      "C:\\Users\\marco\\AppData\\Local\\Temp\\ipykernel_6904\\3667833851.py:14: RuntimeWarning: This filename (../SEED_FRA_OUTPUT/POSITIVE/4_1_trial_17_signals.fif) does not conform to MNE naming conventions. All raw files should end with raw.fif, raw_sss.fif, raw_tsss.fif, _meg.fif, _eeg.fif, _ieeg.fif, raw.fif.gz, raw_sss.fif.gz, raw_tsss.fif.gz, _meg.fif.gz, _eeg.fif.gz or _ieeg.fif.gz\n",
      "  eeg_data = mne.io.read_raw_fif(name, preload=True)\n"
     ]
    },
    {
     "name": "stdout",
     "output_type": "stream",
     "text": [
      "Opening raw data file ../SEED_FRA_OUTPUT/POSITIVE/4_1_trial_20_signals.fif...\n",
      "    Range : 3622000 ... 3797000 =   3622.000 ...  3797.000 secs\n",
      "Ready.\n",
      "Reading 0 ... 175000  =      0.000 ...   175.000 secs...\n"
     ]
    },
    {
     "name": "stderr",
     "output_type": "stream",
     "text": [
      "C:\\Users\\marco\\AppData\\Local\\Temp\\ipykernel_6904\\3667833851.py:14: RuntimeWarning: This filename (../SEED_FRA_OUTPUT/POSITIVE/4_1_trial_20_signals.fif) does not conform to MNE naming conventions. All raw files should end with raw.fif, raw_sss.fif, raw_tsss.fif, _meg.fif, _eeg.fif, _ieeg.fif, raw.fif.gz, raw_sss.fif.gz, raw_tsss.fif.gz, _meg.fif.gz, _eeg.fif.gz or _ieeg.fif.gz\n",
      "  eeg_data = mne.io.read_raw_fif(name, preload=True)\n"
     ]
    },
    {
     "name": "stdout",
     "output_type": "stream",
     "text": [
      "Opening raw data file ../SEED_FRA_OUTPUT/POSITIVE/4_1_trial_4_signals.fif...\n",
      "    Range : 982000 ... 1082000 =    982.000 ...  1082.000 secs\n",
      "Ready.\n",
      "Reading 0 ... 100000  =      0.000 ...   100.000 secs...\n"
     ]
    },
    {
     "name": "stderr",
     "output_type": "stream",
     "text": [
      "C:\\Users\\marco\\AppData\\Local\\Temp\\ipykernel_6904\\3667833851.py:14: RuntimeWarning: This filename (../SEED_FRA_OUTPUT/POSITIVE/4_1_trial_4_signals.fif) does not conform to MNE naming conventions. All raw files should end with raw.fif, raw_sss.fif, raw_tsss.fif, _meg.fif, _eeg.fif, _ieeg.fif, raw.fif.gz, raw_sss.fif.gz, raw_tsss.fif.gz, _meg.fif.gz, _eeg.fif.gz or _ieeg.fif.gz\n",
      "  eeg_data = mne.io.read_raw_fif(name, preload=True)\n"
     ]
    },
    {
     "name": "stdout",
     "output_type": "stream",
     "text": [
      "Opening raw data file ../SEED_FRA_OUTPUT/POSITIVE/4_1_trial_8_signals.fif...\n",
      "    Range : 1738000 ... 1867000 =   1738.000 ...  1867.000 secs\n",
      "Ready.\n",
      "Reading 0 ... 129000  =      0.000 ...   129.000 secs...\n"
     ]
    },
    {
     "name": "stderr",
     "output_type": "stream",
     "text": [
      "C:\\Users\\marco\\AppData\\Local\\Temp\\ipykernel_6904\\3667833851.py:14: RuntimeWarning: This filename (../SEED_FRA_OUTPUT/POSITIVE/4_1_trial_8_signals.fif) does not conform to MNE naming conventions. All raw files should end with raw.fif, raw_sss.fif, raw_tsss.fif, _meg.fif, _eeg.fif, _ieeg.fif, raw.fif.gz, raw_sss.fif.gz, raw_tsss.fif.gz, _meg.fif.gz, _eeg.fif.gz or _ieeg.fif.gz\n",
      "  eeg_data = mne.io.read_raw_fif(name, preload=True)\n"
     ]
    },
    {
     "name": "stdout",
     "output_type": "stream",
     "text": [
      "Opening raw data file ../SEED_FRA_OUTPUT/POSITIVE/4_2_trial_0_signals.fif...\n",
      "    Range : 21000 ... 193000 =     21.000 ...   193.000 secs\n",
      "Ready.\n",
      "Reading 0 ... 172000  =      0.000 ...   172.000 secs...\n"
     ]
    },
    {
     "name": "stderr",
     "output_type": "stream",
     "text": [
      "C:\\Users\\marco\\AppData\\Local\\Temp\\ipykernel_6904\\3667833851.py:14: RuntimeWarning: This filename (../SEED_FRA_OUTPUT/POSITIVE/4_2_trial_0_signals.fif) does not conform to MNE naming conventions. All raw files should end with raw.fif, raw_sss.fif, raw_tsss.fif, _meg.fif, _eeg.fif, _ieeg.fif, raw.fif.gz, raw_sss.fif.gz, raw_tsss.fif.gz, _meg.fif.gz, _eeg.fif.gz or _ieeg.fif.gz\n",
      "  eeg_data = mne.io.read_raw_fif(name, preload=True)\n"
     ]
    },
    {
     "name": "stdout",
     "output_type": "stream",
     "text": [
      "Opening raw data file ../SEED_FRA_OUTPUT/POSITIVE/4_2_trial_11_signals.fif...\n",
      "    Range : 2327000 ... 2471000 =   2327.000 ...  2471.000 secs\n",
      "Ready.\n",
      "Reading 0 ... 144000  =      0.000 ...   144.000 secs...\n"
     ]
    },
    {
     "name": "stderr",
     "output_type": "stream",
     "text": [
      "C:\\Users\\marco\\AppData\\Local\\Temp\\ipykernel_6904\\3667833851.py:14: RuntimeWarning: This filename (../SEED_FRA_OUTPUT/POSITIVE/4_2_trial_11_signals.fif) does not conform to MNE naming conventions. All raw files should end with raw.fif, raw_sss.fif, raw_tsss.fif, _meg.fif, _eeg.fif, _ieeg.fif, raw.fif.gz, raw_sss.fif.gz, raw_tsss.fif.gz, _meg.fif.gz, _eeg.fif.gz or _ieeg.fif.gz\n",
      "  eeg_data = mne.io.read_raw_fif(name, preload=True)\n"
     ]
    },
    {
     "name": "stdout",
     "output_type": "stream",
     "text": [
      "Opening raw data file ../SEED_FRA_OUTPUT/POSITIVE/4_2_trial_12_signals.fif...\n",
      "    Range : 2492000 ... 2599000 =   2492.000 ...  2599.000 secs\n",
      "Ready.\n",
      "Reading 0 ... 107000  =      0.000 ...   107.000 secs...\n"
     ]
    },
    {
     "name": "stderr",
     "output_type": "stream",
     "text": [
      "C:\\Users\\marco\\AppData\\Local\\Temp\\ipykernel_6904\\3667833851.py:14: RuntimeWarning: This filename (../SEED_FRA_OUTPUT/POSITIVE/4_2_trial_12_signals.fif) does not conform to MNE naming conventions. All raw files should end with raw.fif, raw_sss.fif, raw_tsss.fif, _meg.fif, _eeg.fif, _ieeg.fif, raw.fif.gz, raw_sss.fif.gz, raw_tsss.fif.gz, _meg.fif.gz, _eeg.fif.gz or _ieeg.fif.gz\n",
      "  eeg_data = mne.io.read_raw_fif(name, preload=True)\n"
     ]
    },
    {
     "name": "stdout",
     "output_type": "stream",
     "text": [
      "Opening raw data file ../SEED_FRA_OUTPUT/POSITIVE/4_2_trial_17_signals.fif...\n",
      "    Range : 3216000 ... 3349000 =   3216.000 ...  3349.000 secs\n",
      "Ready.\n",
      "Reading 0 ... 133000  =      0.000 ...   133.000 secs...\n"
     ]
    },
    {
     "name": "stderr",
     "output_type": "stream",
     "text": [
      "C:\\Users\\marco\\AppData\\Local\\Temp\\ipykernel_6904\\3667833851.py:14: RuntimeWarning: This filename (../SEED_FRA_OUTPUT/POSITIVE/4_2_trial_17_signals.fif) does not conform to MNE naming conventions. All raw files should end with raw.fif, raw_sss.fif, raw_tsss.fif, _meg.fif, _eeg.fif, _ieeg.fif, raw.fif.gz, raw_sss.fif.gz, raw_tsss.fif.gz, _meg.fif.gz, _eeg.fif.gz or _ieeg.fif.gz\n",
      "  eeg_data = mne.io.read_raw_fif(name, preload=True)\n"
     ]
    },
    {
     "name": "stdout",
     "output_type": "stream",
     "text": [
      "Opening raw data file ../SEED_FRA_OUTPUT/POSITIVE/4_2_trial_20_signals.fif...\n",
      "    Range : 3622000 ... 3797000 =   3622.000 ...  3797.000 secs\n",
      "Ready.\n",
      "Reading 0 ... 175000  =      0.000 ...   175.000 secs...\n"
     ]
    },
    {
     "name": "stderr",
     "output_type": "stream",
     "text": [
      "C:\\Users\\marco\\AppData\\Local\\Temp\\ipykernel_6904\\3667833851.py:14: RuntimeWarning: This filename (../SEED_FRA_OUTPUT/POSITIVE/4_2_trial_20_signals.fif) does not conform to MNE naming conventions. All raw files should end with raw.fif, raw_sss.fif, raw_tsss.fif, _meg.fif, _eeg.fif, _ieeg.fif, raw.fif.gz, raw_sss.fif.gz, raw_tsss.fif.gz, _meg.fif.gz, _eeg.fif.gz or _ieeg.fif.gz\n",
      "  eeg_data = mne.io.read_raw_fif(name, preload=True)\n"
     ]
    },
    {
     "name": "stdout",
     "output_type": "stream",
     "text": [
      "Opening raw data file ../SEED_FRA_OUTPUT/POSITIVE/4_2_trial_4_signals.fif...\n",
      "    Range : 982000 ... 1082000 =    982.000 ...  1082.000 secs\n",
      "Ready.\n",
      "Reading 0 ... 100000  =      0.000 ...   100.000 secs...\n"
     ]
    },
    {
     "name": "stderr",
     "output_type": "stream",
     "text": [
      "C:\\Users\\marco\\AppData\\Local\\Temp\\ipykernel_6904\\3667833851.py:14: RuntimeWarning: This filename (../SEED_FRA_OUTPUT/POSITIVE/4_2_trial_4_signals.fif) does not conform to MNE naming conventions. All raw files should end with raw.fif, raw_sss.fif, raw_tsss.fif, _meg.fif, _eeg.fif, _ieeg.fif, raw.fif.gz, raw_sss.fif.gz, raw_tsss.fif.gz, _meg.fif.gz, _eeg.fif.gz or _ieeg.fif.gz\n",
      "  eeg_data = mne.io.read_raw_fif(name, preload=True)\n"
     ]
    },
    {
     "name": "stdout",
     "output_type": "stream",
     "text": [
      "Opening raw data file ../SEED_FRA_OUTPUT/POSITIVE/4_2_trial_8_signals.fif...\n",
      "    Range : 1738000 ... 1867000 =   1738.000 ...  1867.000 secs\n",
      "Ready.\n",
      "Reading 0 ... 129000  =      0.000 ...   129.000 secs...\n"
     ]
    },
    {
     "name": "stderr",
     "output_type": "stream",
     "text": [
      "C:\\Users\\marco\\AppData\\Local\\Temp\\ipykernel_6904\\3667833851.py:14: RuntimeWarning: This filename (../SEED_FRA_OUTPUT/POSITIVE/4_2_trial_8_signals.fif) does not conform to MNE naming conventions. All raw files should end with raw.fif, raw_sss.fif, raw_tsss.fif, _meg.fif, _eeg.fif, _ieeg.fif, raw.fif.gz, raw_sss.fif.gz, raw_tsss.fif.gz, _meg.fif.gz, _eeg.fif.gz or _ieeg.fif.gz\n",
      "  eeg_data = mne.io.read_raw_fif(name, preload=True)\n"
     ]
    },
    {
     "name": "stdout",
     "output_type": "stream",
     "text": [
      "Opening raw data file ../SEED_FRA_OUTPUT/POSITIVE/4_3_trial_0_signals.fif...\n",
      "    Range : 21000 ... 193000 =     21.000 ...   193.000 secs\n",
      "Ready.\n",
      "Reading 0 ... 172000  =      0.000 ...   172.000 secs...\n"
     ]
    },
    {
     "name": "stderr",
     "output_type": "stream",
     "text": [
      "C:\\Users\\marco\\AppData\\Local\\Temp\\ipykernel_6904\\3667833851.py:14: RuntimeWarning: This filename (../SEED_FRA_OUTPUT/POSITIVE/4_3_trial_0_signals.fif) does not conform to MNE naming conventions. All raw files should end with raw.fif, raw_sss.fif, raw_tsss.fif, _meg.fif, _eeg.fif, _ieeg.fif, raw.fif.gz, raw_sss.fif.gz, raw_tsss.fif.gz, _meg.fif.gz, _eeg.fif.gz or _ieeg.fif.gz\n",
      "  eeg_data = mne.io.read_raw_fif(name, preload=True)\n"
     ]
    },
    {
     "name": "stdout",
     "output_type": "stream",
     "text": [
      "Opening raw data file ../SEED_FRA_OUTPUT/POSITIVE/4_3_trial_11_signals.fif...\n",
      "    Range : 2327000 ... 2471000 =   2327.000 ...  2471.000 secs\n",
      "Ready.\n",
      "Reading 0 ... 144000  =      0.000 ...   144.000 secs...\n"
     ]
    },
    {
     "name": "stderr",
     "output_type": "stream",
     "text": [
      "C:\\Users\\marco\\AppData\\Local\\Temp\\ipykernel_6904\\3667833851.py:14: RuntimeWarning: This filename (../SEED_FRA_OUTPUT/POSITIVE/4_3_trial_11_signals.fif) does not conform to MNE naming conventions. All raw files should end with raw.fif, raw_sss.fif, raw_tsss.fif, _meg.fif, _eeg.fif, _ieeg.fif, raw.fif.gz, raw_sss.fif.gz, raw_tsss.fif.gz, _meg.fif.gz, _eeg.fif.gz or _ieeg.fif.gz\n",
      "  eeg_data = mne.io.read_raw_fif(name, preload=True)\n"
     ]
    },
    {
     "name": "stdout",
     "output_type": "stream",
     "text": [
      "Opening raw data file ../SEED_FRA_OUTPUT/POSITIVE/4_3_trial_12_signals.fif...\n",
      "    Range : 2492000 ... 2599000 =   2492.000 ...  2599.000 secs\n",
      "Ready.\n",
      "Reading 0 ... 107000  =      0.000 ...   107.000 secs...\n"
     ]
    },
    {
     "name": "stderr",
     "output_type": "stream",
     "text": [
      "C:\\Users\\marco\\AppData\\Local\\Temp\\ipykernel_6904\\3667833851.py:14: RuntimeWarning: This filename (../SEED_FRA_OUTPUT/POSITIVE/4_3_trial_12_signals.fif) does not conform to MNE naming conventions. All raw files should end with raw.fif, raw_sss.fif, raw_tsss.fif, _meg.fif, _eeg.fif, _ieeg.fif, raw.fif.gz, raw_sss.fif.gz, raw_tsss.fif.gz, _meg.fif.gz, _eeg.fif.gz or _ieeg.fif.gz\n",
      "  eeg_data = mne.io.read_raw_fif(name, preload=True)\n"
     ]
    },
    {
     "name": "stdout",
     "output_type": "stream",
     "text": [
      "Opening raw data file ../SEED_FRA_OUTPUT/POSITIVE/4_3_trial_17_signals.fif...\n",
      "    Range : 3216000 ... 3349000 =   3216.000 ...  3349.000 secs\n",
      "Ready.\n",
      "Reading 0 ... 133000  =      0.000 ...   133.000 secs...\n"
     ]
    },
    {
     "name": "stderr",
     "output_type": "stream",
     "text": [
      "C:\\Users\\marco\\AppData\\Local\\Temp\\ipykernel_6904\\3667833851.py:14: RuntimeWarning: This filename (../SEED_FRA_OUTPUT/POSITIVE/4_3_trial_17_signals.fif) does not conform to MNE naming conventions. All raw files should end with raw.fif, raw_sss.fif, raw_tsss.fif, _meg.fif, _eeg.fif, _ieeg.fif, raw.fif.gz, raw_sss.fif.gz, raw_tsss.fif.gz, _meg.fif.gz, _eeg.fif.gz or _ieeg.fif.gz\n",
      "  eeg_data = mne.io.read_raw_fif(name, preload=True)\n"
     ]
    },
    {
     "name": "stdout",
     "output_type": "stream",
     "text": [
      "Opening raw data file ../SEED_FRA_OUTPUT/POSITIVE/4_3_trial_20_signals.fif...\n",
      "    Range : 3622000 ... 3797000 =   3622.000 ...  3797.000 secs\n",
      "Ready.\n",
      "Reading 0 ... 175000  =      0.000 ...   175.000 secs...\n"
     ]
    },
    {
     "name": "stderr",
     "output_type": "stream",
     "text": [
      "C:\\Users\\marco\\AppData\\Local\\Temp\\ipykernel_6904\\3667833851.py:14: RuntimeWarning: This filename (../SEED_FRA_OUTPUT/POSITIVE/4_3_trial_20_signals.fif) does not conform to MNE naming conventions. All raw files should end with raw.fif, raw_sss.fif, raw_tsss.fif, _meg.fif, _eeg.fif, _ieeg.fif, raw.fif.gz, raw_sss.fif.gz, raw_tsss.fif.gz, _meg.fif.gz, _eeg.fif.gz or _ieeg.fif.gz\n",
      "  eeg_data = mne.io.read_raw_fif(name, preload=True)\n"
     ]
    },
    {
     "name": "stdout",
     "output_type": "stream",
     "text": [
      "Opening raw data file ../SEED_FRA_OUTPUT/POSITIVE/4_3_trial_4_signals.fif...\n",
      "    Range : 982000 ... 1082000 =    982.000 ...  1082.000 secs\n",
      "Ready.\n",
      "Reading 0 ... 100000  =      0.000 ...   100.000 secs...\n"
     ]
    },
    {
     "name": "stderr",
     "output_type": "stream",
     "text": [
      "C:\\Users\\marco\\AppData\\Local\\Temp\\ipykernel_6904\\3667833851.py:14: RuntimeWarning: This filename (../SEED_FRA_OUTPUT/POSITIVE/4_3_trial_4_signals.fif) does not conform to MNE naming conventions. All raw files should end with raw.fif, raw_sss.fif, raw_tsss.fif, _meg.fif, _eeg.fif, _ieeg.fif, raw.fif.gz, raw_sss.fif.gz, raw_tsss.fif.gz, _meg.fif.gz, _eeg.fif.gz or _ieeg.fif.gz\n",
      "  eeg_data = mne.io.read_raw_fif(name, preload=True)\n"
     ]
    },
    {
     "name": "stdout",
     "output_type": "stream",
     "text": [
      "Opening raw data file ../SEED_FRA_OUTPUT/POSITIVE/4_3_trial_8_signals.fif...\n",
      "    Range : 1738000 ... 1867000 =   1738.000 ...  1867.000 secs\n",
      "Ready.\n",
      "Reading 0 ... 129000  =      0.000 ...   129.000 secs...\n"
     ]
    },
    {
     "name": "stderr",
     "output_type": "stream",
     "text": [
      "C:\\Users\\marco\\AppData\\Local\\Temp\\ipykernel_6904\\3667833851.py:14: RuntimeWarning: This filename (../SEED_FRA_OUTPUT/POSITIVE/4_3_trial_8_signals.fif) does not conform to MNE naming conventions. All raw files should end with raw.fif, raw_sss.fif, raw_tsss.fif, _meg.fif, _eeg.fif, _ieeg.fif, raw.fif.gz, raw_sss.fif.gz, raw_tsss.fif.gz, _meg.fif.gz, _eeg.fif.gz or _ieeg.fif.gz\n",
      "  eeg_data = mne.io.read_raw_fif(name, preload=True)\n"
     ]
    },
    {
     "name": "stdout",
     "output_type": "stream",
     "text": [
      "Opening raw data file ../SEED_FRA_OUTPUT/POSITIVE/5_1_trial_0_signals.fif...\n",
      "    Range : 21000 ... 193000 =     21.000 ...   193.000 secs\n",
      "Ready.\n",
      "Reading 0 ... 172000  =      0.000 ...   172.000 secs...\n"
     ]
    },
    {
     "name": "stderr",
     "output_type": "stream",
     "text": [
      "C:\\Users\\marco\\AppData\\Local\\Temp\\ipykernel_6904\\3667833851.py:14: RuntimeWarning: This filename (../SEED_FRA_OUTPUT/POSITIVE/5_1_trial_0_signals.fif) does not conform to MNE naming conventions. All raw files should end with raw.fif, raw_sss.fif, raw_tsss.fif, _meg.fif, _eeg.fif, _ieeg.fif, raw.fif.gz, raw_sss.fif.gz, raw_tsss.fif.gz, _meg.fif.gz, _eeg.fif.gz or _ieeg.fif.gz\n",
      "  eeg_data = mne.io.read_raw_fif(name, preload=True)\n"
     ]
    },
    {
     "name": "stdout",
     "output_type": "stream",
     "text": [
      "Opening raw data file ../SEED_FRA_OUTPUT/POSITIVE/5_1_trial_11_signals.fif...\n",
      "    Range : 2327000 ... 2471000 =   2327.000 ...  2471.000 secs\n",
      "Ready.\n",
      "Reading 0 ... 144000  =      0.000 ...   144.000 secs...\n"
     ]
    },
    {
     "name": "stderr",
     "output_type": "stream",
     "text": [
      "C:\\Users\\marco\\AppData\\Local\\Temp\\ipykernel_6904\\3667833851.py:14: RuntimeWarning: This filename (../SEED_FRA_OUTPUT/POSITIVE/5_1_trial_11_signals.fif) does not conform to MNE naming conventions. All raw files should end with raw.fif, raw_sss.fif, raw_tsss.fif, _meg.fif, _eeg.fif, _ieeg.fif, raw.fif.gz, raw_sss.fif.gz, raw_tsss.fif.gz, _meg.fif.gz, _eeg.fif.gz or _ieeg.fif.gz\n",
      "  eeg_data = mne.io.read_raw_fif(name, preload=True)\n"
     ]
    },
    {
     "name": "stdout",
     "output_type": "stream",
     "text": [
      "Opening raw data file ../SEED_FRA_OUTPUT/POSITIVE/5_1_trial_12_signals.fif...\n",
      "    Range : 2492000 ... 2599000 =   2492.000 ...  2599.000 secs\n",
      "Ready.\n",
      "Reading 0 ... 107000  =      0.000 ...   107.000 secs...\n"
     ]
    },
    {
     "name": "stderr",
     "output_type": "stream",
     "text": [
      "C:\\Users\\marco\\AppData\\Local\\Temp\\ipykernel_6904\\3667833851.py:14: RuntimeWarning: This filename (../SEED_FRA_OUTPUT/POSITIVE/5_1_trial_12_signals.fif) does not conform to MNE naming conventions. All raw files should end with raw.fif, raw_sss.fif, raw_tsss.fif, _meg.fif, _eeg.fif, _ieeg.fif, raw.fif.gz, raw_sss.fif.gz, raw_tsss.fif.gz, _meg.fif.gz, _eeg.fif.gz or _ieeg.fif.gz\n",
      "  eeg_data = mne.io.read_raw_fif(name, preload=True)\n"
     ]
    },
    {
     "name": "stdout",
     "output_type": "stream",
     "text": [
      "Opening raw data file ../SEED_FRA_OUTPUT/POSITIVE/5_1_trial_17_signals.fif...\n",
      "    Range : 3216000 ... 3349000 =   3216.000 ...  3349.000 secs\n",
      "Ready.\n",
      "Reading 0 ... 133000  =      0.000 ...   133.000 secs...\n"
     ]
    },
    {
     "name": "stderr",
     "output_type": "stream",
     "text": [
      "C:\\Users\\marco\\AppData\\Local\\Temp\\ipykernel_6904\\3667833851.py:14: RuntimeWarning: This filename (../SEED_FRA_OUTPUT/POSITIVE/5_1_trial_17_signals.fif) does not conform to MNE naming conventions. All raw files should end with raw.fif, raw_sss.fif, raw_tsss.fif, _meg.fif, _eeg.fif, _ieeg.fif, raw.fif.gz, raw_sss.fif.gz, raw_tsss.fif.gz, _meg.fif.gz, _eeg.fif.gz or _ieeg.fif.gz\n",
      "  eeg_data = mne.io.read_raw_fif(name, preload=True)\n"
     ]
    },
    {
     "name": "stdout",
     "output_type": "stream",
     "text": [
      "Opening raw data file ../SEED_FRA_OUTPUT/POSITIVE/5_1_trial_20_signals.fif...\n",
      "    Range : 3622000 ... 3797000 =   3622.000 ...  3797.000 secs\n",
      "Ready.\n",
      "Reading 0 ... 175000  =      0.000 ...   175.000 secs...\n"
     ]
    },
    {
     "name": "stderr",
     "output_type": "stream",
     "text": [
      "C:\\Users\\marco\\AppData\\Local\\Temp\\ipykernel_6904\\3667833851.py:14: RuntimeWarning: This filename (../SEED_FRA_OUTPUT/POSITIVE/5_1_trial_20_signals.fif) does not conform to MNE naming conventions. All raw files should end with raw.fif, raw_sss.fif, raw_tsss.fif, _meg.fif, _eeg.fif, _ieeg.fif, raw.fif.gz, raw_sss.fif.gz, raw_tsss.fif.gz, _meg.fif.gz, _eeg.fif.gz or _ieeg.fif.gz\n",
      "  eeg_data = mne.io.read_raw_fif(name, preload=True)\n"
     ]
    },
    {
     "name": "stdout",
     "output_type": "stream",
     "text": [
      "Opening raw data file ../SEED_FRA_OUTPUT/POSITIVE/5_1_trial_4_signals.fif...\n",
      "    Range : 982000 ... 1082000 =    982.000 ...  1082.000 secs\n",
      "Ready.\n",
      "Reading 0 ... 100000  =      0.000 ...   100.000 secs...\n"
     ]
    },
    {
     "name": "stderr",
     "output_type": "stream",
     "text": [
      "C:\\Users\\marco\\AppData\\Local\\Temp\\ipykernel_6904\\3667833851.py:14: RuntimeWarning: This filename (../SEED_FRA_OUTPUT/POSITIVE/5_1_trial_4_signals.fif) does not conform to MNE naming conventions. All raw files should end with raw.fif, raw_sss.fif, raw_tsss.fif, _meg.fif, _eeg.fif, _ieeg.fif, raw.fif.gz, raw_sss.fif.gz, raw_tsss.fif.gz, _meg.fif.gz, _eeg.fif.gz or _ieeg.fif.gz\n",
      "  eeg_data = mne.io.read_raw_fif(name, preload=True)\n"
     ]
    },
    {
     "name": "stdout",
     "output_type": "stream",
     "text": [
      "Opening raw data file ../SEED_FRA_OUTPUT/POSITIVE/5_1_trial_8_signals.fif...\n",
      "    Range : 1738000 ... 1867000 =   1738.000 ...  1867.000 secs\n",
      "Ready.\n",
      "Reading 0 ... 129000  =      0.000 ...   129.000 secs...\n"
     ]
    },
    {
     "name": "stderr",
     "output_type": "stream",
     "text": [
      "C:\\Users\\marco\\AppData\\Local\\Temp\\ipykernel_6904\\3667833851.py:14: RuntimeWarning: This filename (../SEED_FRA_OUTPUT/POSITIVE/5_1_trial_8_signals.fif) does not conform to MNE naming conventions. All raw files should end with raw.fif, raw_sss.fif, raw_tsss.fif, _meg.fif, _eeg.fif, _ieeg.fif, raw.fif.gz, raw_sss.fif.gz, raw_tsss.fif.gz, _meg.fif.gz, _eeg.fif.gz or _ieeg.fif.gz\n",
      "  eeg_data = mne.io.read_raw_fif(name, preload=True)\n"
     ]
    },
    {
     "name": "stdout",
     "output_type": "stream",
     "text": [
      "Opening raw data file ../SEED_FRA_OUTPUT/POSITIVE/5_2_trial_0_signals.fif...\n",
      "    Range : 21000 ... 193000 =     21.000 ...   193.000 secs\n",
      "Ready.\n",
      "Reading 0 ... 172000  =      0.000 ...   172.000 secs...\n"
     ]
    },
    {
     "name": "stderr",
     "output_type": "stream",
     "text": [
      "C:\\Users\\marco\\AppData\\Local\\Temp\\ipykernel_6904\\3667833851.py:14: RuntimeWarning: This filename (../SEED_FRA_OUTPUT/POSITIVE/5_2_trial_0_signals.fif) does not conform to MNE naming conventions. All raw files should end with raw.fif, raw_sss.fif, raw_tsss.fif, _meg.fif, _eeg.fif, _ieeg.fif, raw.fif.gz, raw_sss.fif.gz, raw_tsss.fif.gz, _meg.fif.gz, _eeg.fif.gz or _ieeg.fif.gz\n",
      "  eeg_data = mne.io.read_raw_fif(name, preload=True)\n"
     ]
    },
    {
     "name": "stdout",
     "output_type": "stream",
     "text": [
      "Opening raw data file ../SEED_FRA_OUTPUT/POSITIVE/5_2_trial_11_signals.fif...\n",
      "    Range : 2327000 ... 2471000 =   2327.000 ...  2471.000 secs\n",
      "Ready.\n",
      "Reading 0 ... 144000  =      0.000 ...   144.000 secs...\n"
     ]
    },
    {
     "name": "stderr",
     "output_type": "stream",
     "text": [
      "C:\\Users\\marco\\AppData\\Local\\Temp\\ipykernel_6904\\3667833851.py:14: RuntimeWarning: This filename (../SEED_FRA_OUTPUT/POSITIVE/5_2_trial_11_signals.fif) does not conform to MNE naming conventions. All raw files should end with raw.fif, raw_sss.fif, raw_tsss.fif, _meg.fif, _eeg.fif, _ieeg.fif, raw.fif.gz, raw_sss.fif.gz, raw_tsss.fif.gz, _meg.fif.gz, _eeg.fif.gz or _ieeg.fif.gz\n",
      "  eeg_data = mne.io.read_raw_fif(name, preload=True)\n"
     ]
    },
    {
     "name": "stdout",
     "output_type": "stream",
     "text": [
      "Opening raw data file ../SEED_FRA_OUTPUT/POSITIVE/5_2_trial_12_signals.fif...\n",
      "    Range : 2492000 ... 2599000 =   2492.000 ...  2599.000 secs\n",
      "Ready.\n",
      "Reading 0 ... 107000  =      0.000 ...   107.000 secs...\n"
     ]
    },
    {
     "name": "stderr",
     "output_type": "stream",
     "text": [
      "C:\\Users\\marco\\AppData\\Local\\Temp\\ipykernel_6904\\3667833851.py:14: RuntimeWarning: This filename (../SEED_FRA_OUTPUT/POSITIVE/5_2_trial_12_signals.fif) does not conform to MNE naming conventions. All raw files should end with raw.fif, raw_sss.fif, raw_tsss.fif, _meg.fif, _eeg.fif, _ieeg.fif, raw.fif.gz, raw_sss.fif.gz, raw_tsss.fif.gz, _meg.fif.gz, _eeg.fif.gz or _ieeg.fif.gz\n",
      "  eeg_data = mne.io.read_raw_fif(name, preload=True)\n"
     ]
    },
    {
     "name": "stdout",
     "output_type": "stream",
     "text": [
      "Opening raw data file ../SEED_FRA_OUTPUT/POSITIVE/5_2_trial_17_signals.fif...\n",
      "    Range : 3216000 ... 3349000 =   3216.000 ...  3349.000 secs\n",
      "Ready.\n",
      "Reading 0 ... 133000  =      0.000 ...   133.000 secs...\n"
     ]
    },
    {
     "name": "stderr",
     "output_type": "stream",
     "text": [
      "C:\\Users\\marco\\AppData\\Local\\Temp\\ipykernel_6904\\3667833851.py:14: RuntimeWarning: This filename (../SEED_FRA_OUTPUT/POSITIVE/5_2_trial_17_signals.fif) does not conform to MNE naming conventions. All raw files should end with raw.fif, raw_sss.fif, raw_tsss.fif, _meg.fif, _eeg.fif, _ieeg.fif, raw.fif.gz, raw_sss.fif.gz, raw_tsss.fif.gz, _meg.fif.gz, _eeg.fif.gz or _ieeg.fif.gz\n",
      "  eeg_data = mne.io.read_raw_fif(name, preload=True)\n"
     ]
    },
    {
     "name": "stdout",
     "output_type": "stream",
     "text": [
      "Opening raw data file ../SEED_FRA_OUTPUT/POSITIVE/5_2_trial_20_signals.fif...\n",
      "    Range : 3622000 ... 3797000 =   3622.000 ...  3797.000 secs\n",
      "Ready.\n",
      "Reading 0 ... 175000  =      0.000 ...   175.000 secs...\n"
     ]
    },
    {
     "name": "stderr",
     "output_type": "stream",
     "text": [
      "C:\\Users\\marco\\AppData\\Local\\Temp\\ipykernel_6904\\3667833851.py:14: RuntimeWarning: This filename (../SEED_FRA_OUTPUT/POSITIVE/5_2_trial_20_signals.fif) does not conform to MNE naming conventions. All raw files should end with raw.fif, raw_sss.fif, raw_tsss.fif, _meg.fif, _eeg.fif, _ieeg.fif, raw.fif.gz, raw_sss.fif.gz, raw_tsss.fif.gz, _meg.fif.gz, _eeg.fif.gz or _ieeg.fif.gz\n",
      "  eeg_data = mne.io.read_raw_fif(name, preload=True)\n"
     ]
    },
    {
     "name": "stdout",
     "output_type": "stream",
     "text": [
      "Opening raw data file ../SEED_FRA_OUTPUT/POSITIVE/5_2_trial_4_signals.fif...\n",
      "    Range : 982000 ... 1082000 =    982.000 ...  1082.000 secs\n",
      "Ready.\n",
      "Reading 0 ... 100000  =      0.000 ...   100.000 secs...\n"
     ]
    },
    {
     "name": "stderr",
     "output_type": "stream",
     "text": [
      "C:\\Users\\marco\\AppData\\Local\\Temp\\ipykernel_6904\\3667833851.py:14: RuntimeWarning: This filename (../SEED_FRA_OUTPUT/POSITIVE/5_2_trial_4_signals.fif) does not conform to MNE naming conventions. All raw files should end with raw.fif, raw_sss.fif, raw_tsss.fif, _meg.fif, _eeg.fif, _ieeg.fif, raw.fif.gz, raw_sss.fif.gz, raw_tsss.fif.gz, _meg.fif.gz, _eeg.fif.gz or _ieeg.fif.gz\n",
      "  eeg_data = mne.io.read_raw_fif(name, preload=True)\n"
     ]
    },
    {
     "name": "stdout",
     "output_type": "stream",
     "text": [
      "Opening raw data file ../SEED_FRA_OUTPUT/POSITIVE/5_2_trial_8_signals.fif...\n",
      "    Range : 1738000 ... 1867000 =   1738.000 ...  1867.000 secs\n",
      "Ready.\n",
      "Reading 0 ... 129000  =      0.000 ...   129.000 secs...\n"
     ]
    },
    {
     "name": "stderr",
     "output_type": "stream",
     "text": [
      "C:\\Users\\marco\\AppData\\Local\\Temp\\ipykernel_6904\\3667833851.py:14: RuntimeWarning: This filename (../SEED_FRA_OUTPUT/POSITIVE/5_2_trial_8_signals.fif) does not conform to MNE naming conventions. All raw files should end with raw.fif, raw_sss.fif, raw_tsss.fif, _meg.fif, _eeg.fif, _ieeg.fif, raw.fif.gz, raw_sss.fif.gz, raw_tsss.fif.gz, _meg.fif.gz, _eeg.fif.gz or _ieeg.fif.gz\n",
      "  eeg_data = mne.io.read_raw_fif(name, preload=True)\n"
     ]
    },
    {
     "name": "stdout",
     "output_type": "stream",
     "text": [
      "Opening raw data file ../SEED_FRA_OUTPUT/POSITIVE/5_3_trial_0_signals.fif...\n",
      "    Range : 21000 ... 193000 =     21.000 ...   193.000 secs\n",
      "Ready.\n",
      "Reading 0 ... 172000  =      0.000 ...   172.000 secs...\n"
     ]
    },
    {
     "name": "stderr",
     "output_type": "stream",
     "text": [
      "C:\\Users\\marco\\AppData\\Local\\Temp\\ipykernel_6904\\3667833851.py:14: RuntimeWarning: This filename (../SEED_FRA_OUTPUT/POSITIVE/5_3_trial_0_signals.fif) does not conform to MNE naming conventions. All raw files should end with raw.fif, raw_sss.fif, raw_tsss.fif, _meg.fif, _eeg.fif, _ieeg.fif, raw.fif.gz, raw_sss.fif.gz, raw_tsss.fif.gz, _meg.fif.gz, _eeg.fif.gz or _ieeg.fif.gz\n",
      "  eeg_data = mne.io.read_raw_fif(name, preload=True)\n"
     ]
    },
    {
     "name": "stdout",
     "output_type": "stream",
     "text": [
      "Opening raw data file ../SEED_FRA_OUTPUT/POSITIVE/5_3_trial_11_signals.fif...\n",
      "    Range : 2327000 ... 2471000 =   2327.000 ...  2471.000 secs\n",
      "Ready.\n",
      "Reading 0 ... 144000  =      0.000 ...   144.000 secs...\n"
     ]
    },
    {
     "name": "stderr",
     "output_type": "stream",
     "text": [
      "C:\\Users\\marco\\AppData\\Local\\Temp\\ipykernel_6904\\3667833851.py:14: RuntimeWarning: This filename (../SEED_FRA_OUTPUT/POSITIVE/5_3_trial_11_signals.fif) does not conform to MNE naming conventions. All raw files should end with raw.fif, raw_sss.fif, raw_tsss.fif, _meg.fif, _eeg.fif, _ieeg.fif, raw.fif.gz, raw_sss.fif.gz, raw_tsss.fif.gz, _meg.fif.gz, _eeg.fif.gz or _ieeg.fif.gz\n",
      "  eeg_data = mne.io.read_raw_fif(name, preload=True)\n"
     ]
    },
    {
     "name": "stdout",
     "output_type": "stream",
     "text": [
      "Opening raw data file ../SEED_FRA_OUTPUT/POSITIVE/5_3_trial_12_signals.fif...\n",
      "    Range : 2492000 ... 2599000 =   2492.000 ...  2599.000 secs\n",
      "Ready.\n",
      "Reading 0 ... 107000  =      0.000 ...   107.000 secs...\n"
     ]
    },
    {
     "name": "stderr",
     "output_type": "stream",
     "text": [
      "C:\\Users\\marco\\AppData\\Local\\Temp\\ipykernel_6904\\3667833851.py:14: RuntimeWarning: This filename (../SEED_FRA_OUTPUT/POSITIVE/5_3_trial_12_signals.fif) does not conform to MNE naming conventions. All raw files should end with raw.fif, raw_sss.fif, raw_tsss.fif, _meg.fif, _eeg.fif, _ieeg.fif, raw.fif.gz, raw_sss.fif.gz, raw_tsss.fif.gz, _meg.fif.gz, _eeg.fif.gz or _ieeg.fif.gz\n",
      "  eeg_data = mne.io.read_raw_fif(name, preload=True)\n"
     ]
    },
    {
     "name": "stdout",
     "output_type": "stream",
     "text": [
      "Opening raw data file ../SEED_FRA_OUTPUT/POSITIVE/5_3_trial_17_signals.fif...\n",
      "    Range : 3216000 ... 3349000 =   3216.000 ...  3349.000 secs\n",
      "Ready.\n",
      "Reading 0 ... 133000  =      0.000 ...   133.000 secs...\n"
     ]
    },
    {
     "name": "stderr",
     "output_type": "stream",
     "text": [
      "C:\\Users\\marco\\AppData\\Local\\Temp\\ipykernel_6904\\3667833851.py:14: RuntimeWarning: This filename (../SEED_FRA_OUTPUT/POSITIVE/5_3_trial_17_signals.fif) does not conform to MNE naming conventions. All raw files should end with raw.fif, raw_sss.fif, raw_tsss.fif, _meg.fif, _eeg.fif, _ieeg.fif, raw.fif.gz, raw_sss.fif.gz, raw_tsss.fif.gz, _meg.fif.gz, _eeg.fif.gz or _ieeg.fif.gz\n",
      "  eeg_data = mne.io.read_raw_fif(name, preload=True)\n"
     ]
    },
    {
     "name": "stdout",
     "output_type": "stream",
     "text": [
      "Opening raw data file ../SEED_FRA_OUTPUT/POSITIVE/5_3_trial_20_signals.fif...\n",
      "    Range : 3622000 ... 3797000 =   3622.000 ...  3797.000 secs\n",
      "Ready.\n",
      "Reading 0 ... 175000  =      0.000 ...   175.000 secs...\n"
     ]
    },
    {
     "name": "stderr",
     "output_type": "stream",
     "text": [
      "C:\\Users\\marco\\AppData\\Local\\Temp\\ipykernel_6904\\3667833851.py:14: RuntimeWarning: This filename (../SEED_FRA_OUTPUT/POSITIVE/5_3_trial_20_signals.fif) does not conform to MNE naming conventions. All raw files should end with raw.fif, raw_sss.fif, raw_tsss.fif, _meg.fif, _eeg.fif, _ieeg.fif, raw.fif.gz, raw_sss.fif.gz, raw_tsss.fif.gz, _meg.fif.gz, _eeg.fif.gz or _ieeg.fif.gz\n",
      "  eeg_data = mne.io.read_raw_fif(name, preload=True)\n"
     ]
    },
    {
     "name": "stdout",
     "output_type": "stream",
     "text": [
      "Opening raw data file ../SEED_FRA_OUTPUT/POSITIVE/5_3_trial_4_signals.fif...\n"
     ]
    },
    {
     "name": "stderr",
     "output_type": "stream",
     "text": [
      "C:\\Users\\marco\\AppData\\Local\\Temp\\ipykernel_6904\\3667833851.py:14: RuntimeWarning: This filename (../SEED_FRA_OUTPUT/POSITIVE/5_3_trial_4_signals.fif) does not conform to MNE naming conventions. All raw files should end with raw.fif, raw_sss.fif, raw_tsss.fif, _meg.fif, _eeg.fif, _ieeg.fif, raw.fif.gz, raw_sss.fif.gz, raw_tsss.fif.gz, _meg.fif.gz, _eeg.fif.gz or _ieeg.fif.gz\n",
      "  eeg_data = mne.io.read_raw_fif(name, preload=True)\n"
     ]
    },
    {
     "name": "stdout",
     "output_type": "stream",
     "text": [
      "    Range : 982000 ... 1082000 =    982.000 ...  1082.000 secs\n",
      "Ready.\n",
      "Reading 0 ... 100000  =      0.000 ...   100.000 secs...\n",
      "Opening raw data file ../SEED_FRA_OUTPUT/POSITIVE/5_3_trial_8_signals.fif...\n",
      "    Range : 1738000 ... 1867000 =   1738.000 ...  1867.000 secs\n",
      "Ready.\n",
      "Reading 0 ... 129000  =      0.000 ...   129.000 secs...\n"
     ]
    },
    {
     "name": "stderr",
     "output_type": "stream",
     "text": [
      "C:\\Users\\marco\\AppData\\Local\\Temp\\ipykernel_6904\\3667833851.py:14: RuntimeWarning: This filename (../SEED_FRA_OUTPUT/POSITIVE/5_3_trial_8_signals.fif) does not conform to MNE naming conventions. All raw files should end with raw.fif, raw_sss.fif, raw_tsss.fif, _meg.fif, _eeg.fif, _ieeg.fif, raw.fif.gz, raw_sss.fif.gz, raw_tsss.fif.gz, _meg.fif.gz, _eeg.fif.gz or _ieeg.fif.gz\n",
      "  eeg_data = mne.io.read_raw_fif(name, preload=True)\n"
     ]
    },
    {
     "name": "stdout",
     "output_type": "stream",
     "text": [
      "Opening raw data file ../SEED_FRA_OUTPUT/POSITIVE/6_1_trial_0_signals.fif...\n",
      "    Range : 21000 ... 193000 =     21.000 ...   193.000 secs\n",
      "Ready.\n",
      "Reading 0 ... 172000  =      0.000 ...   172.000 secs...\n"
     ]
    },
    {
     "name": "stderr",
     "output_type": "stream",
     "text": [
      "C:\\Users\\marco\\AppData\\Local\\Temp\\ipykernel_6904\\3667833851.py:14: RuntimeWarning: This filename (../SEED_FRA_OUTPUT/POSITIVE/6_1_trial_0_signals.fif) does not conform to MNE naming conventions. All raw files should end with raw.fif, raw_sss.fif, raw_tsss.fif, _meg.fif, _eeg.fif, _ieeg.fif, raw.fif.gz, raw_sss.fif.gz, raw_tsss.fif.gz, _meg.fif.gz, _eeg.fif.gz or _ieeg.fif.gz\n",
      "  eeg_data = mne.io.read_raw_fif(name, preload=True)\n"
     ]
    },
    {
     "name": "stdout",
     "output_type": "stream",
     "text": [
      "Opening raw data file ../SEED_FRA_OUTPUT/POSITIVE/6_1_trial_11_signals.fif...\n",
      "    Range : 2327000 ... 2471000 =   2327.000 ...  2471.000 secs\n",
      "Ready.\n",
      "Reading 0 ... 144000  =      0.000 ...   144.000 secs...\n"
     ]
    },
    {
     "name": "stderr",
     "output_type": "stream",
     "text": [
      "C:\\Users\\marco\\AppData\\Local\\Temp\\ipykernel_6904\\3667833851.py:14: RuntimeWarning: This filename (../SEED_FRA_OUTPUT/POSITIVE/6_1_trial_11_signals.fif) does not conform to MNE naming conventions. All raw files should end with raw.fif, raw_sss.fif, raw_tsss.fif, _meg.fif, _eeg.fif, _ieeg.fif, raw.fif.gz, raw_sss.fif.gz, raw_tsss.fif.gz, _meg.fif.gz, _eeg.fif.gz or _ieeg.fif.gz\n",
      "  eeg_data = mne.io.read_raw_fif(name, preload=True)\n"
     ]
    },
    {
     "name": "stdout",
     "output_type": "stream",
     "text": [
      "Opening raw data file ../SEED_FRA_OUTPUT/POSITIVE/6_1_trial_12_signals.fif...\n",
      "    Range : 2492000 ... 2599000 =   2492.000 ...  2599.000 secs\n",
      "Ready.\n",
      "Reading 0 ... 107000  =      0.000 ...   107.000 secs...\n"
     ]
    },
    {
     "name": "stderr",
     "output_type": "stream",
     "text": [
      "C:\\Users\\marco\\AppData\\Local\\Temp\\ipykernel_6904\\3667833851.py:14: RuntimeWarning: This filename (../SEED_FRA_OUTPUT/POSITIVE/6_1_trial_12_signals.fif) does not conform to MNE naming conventions. All raw files should end with raw.fif, raw_sss.fif, raw_tsss.fif, _meg.fif, _eeg.fif, _ieeg.fif, raw.fif.gz, raw_sss.fif.gz, raw_tsss.fif.gz, _meg.fif.gz, _eeg.fif.gz or _ieeg.fif.gz\n",
      "  eeg_data = mne.io.read_raw_fif(name, preload=True)\n"
     ]
    },
    {
     "name": "stdout",
     "output_type": "stream",
     "text": [
      "Opening raw data file ../SEED_FRA_OUTPUT/POSITIVE/6_1_trial_17_signals.fif...\n",
      "    Range : 3216000 ... 3349000 =   3216.000 ...  3349.000 secs\n",
      "Ready.\n",
      "Reading 0 ... 133000  =      0.000 ...   133.000 secs...\n"
     ]
    },
    {
     "name": "stderr",
     "output_type": "stream",
     "text": [
      "C:\\Users\\marco\\AppData\\Local\\Temp\\ipykernel_6904\\3667833851.py:14: RuntimeWarning: This filename (../SEED_FRA_OUTPUT/POSITIVE/6_1_trial_17_signals.fif) does not conform to MNE naming conventions. All raw files should end with raw.fif, raw_sss.fif, raw_tsss.fif, _meg.fif, _eeg.fif, _ieeg.fif, raw.fif.gz, raw_sss.fif.gz, raw_tsss.fif.gz, _meg.fif.gz, _eeg.fif.gz or _ieeg.fif.gz\n",
      "  eeg_data = mne.io.read_raw_fif(name, preload=True)\n"
     ]
    },
    {
     "name": "stdout",
     "output_type": "stream",
     "text": [
      "Opening raw data file ../SEED_FRA_OUTPUT/POSITIVE/6_1_trial_20_signals.fif...\n",
      "    Range : 3622000 ... 3797000 =   3622.000 ...  3797.000 secs\n",
      "Ready.\n",
      "Reading 0 ... 175000  =      0.000 ...   175.000 secs...\n"
     ]
    },
    {
     "name": "stderr",
     "output_type": "stream",
     "text": [
      "C:\\Users\\marco\\AppData\\Local\\Temp\\ipykernel_6904\\3667833851.py:14: RuntimeWarning: This filename (../SEED_FRA_OUTPUT/POSITIVE/6_1_trial_20_signals.fif) does not conform to MNE naming conventions. All raw files should end with raw.fif, raw_sss.fif, raw_tsss.fif, _meg.fif, _eeg.fif, _ieeg.fif, raw.fif.gz, raw_sss.fif.gz, raw_tsss.fif.gz, _meg.fif.gz, _eeg.fif.gz or _ieeg.fif.gz\n",
      "  eeg_data = mne.io.read_raw_fif(name, preload=True)\n"
     ]
    },
    {
     "name": "stdout",
     "output_type": "stream",
     "text": [
      "Opening raw data file ../SEED_FRA_OUTPUT/POSITIVE/6_1_trial_4_signals.fif...\n",
      "    Range : 982000 ... 1082000 =    982.000 ...  1082.000 secs\n",
      "Ready.\n",
      "Reading 0 ... 100000  =      0.000 ...   100.000 secs...\n"
     ]
    },
    {
     "name": "stderr",
     "output_type": "stream",
     "text": [
      "C:\\Users\\marco\\AppData\\Local\\Temp\\ipykernel_6904\\3667833851.py:14: RuntimeWarning: This filename (../SEED_FRA_OUTPUT/POSITIVE/6_1_trial_4_signals.fif) does not conform to MNE naming conventions. All raw files should end with raw.fif, raw_sss.fif, raw_tsss.fif, _meg.fif, _eeg.fif, _ieeg.fif, raw.fif.gz, raw_sss.fif.gz, raw_tsss.fif.gz, _meg.fif.gz, _eeg.fif.gz or _ieeg.fif.gz\n",
      "  eeg_data = mne.io.read_raw_fif(name, preload=True)\n"
     ]
    },
    {
     "name": "stdout",
     "output_type": "stream",
     "text": [
      "Opening raw data file ../SEED_FRA_OUTPUT/POSITIVE/6_1_trial_8_signals.fif...\n",
      "    Range : 1738000 ... 1867000 =   1738.000 ...  1867.000 secs\n",
      "Ready.\n",
      "Reading 0 ... 129000  =      0.000 ...   129.000 secs...\n"
     ]
    },
    {
     "name": "stderr",
     "output_type": "stream",
     "text": [
      "C:\\Users\\marco\\AppData\\Local\\Temp\\ipykernel_6904\\3667833851.py:14: RuntimeWarning: This filename (../SEED_FRA_OUTPUT/POSITIVE/6_1_trial_8_signals.fif) does not conform to MNE naming conventions. All raw files should end with raw.fif, raw_sss.fif, raw_tsss.fif, _meg.fif, _eeg.fif, _ieeg.fif, raw.fif.gz, raw_sss.fif.gz, raw_tsss.fif.gz, _meg.fif.gz, _eeg.fif.gz or _ieeg.fif.gz\n",
      "  eeg_data = mne.io.read_raw_fif(name, preload=True)\n"
     ]
    },
    {
     "name": "stdout",
     "output_type": "stream",
     "text": [
      "Opening raw data file ../SEED_FRA_OUTPUT/POSITIVE/6_2_trial_0_signals.fif...\n",
      "    Range : 21000 ... 193000 =     21.000 ...   193.000 secs\n",
      "Ready.\n",
      "Reading 0 ... 172000  =      0.000 ...   172.000 secs...\n"
     ]
    },
    {
     "name": "stderr",
     "output_type": "stream",
     "text": [
      "C:\\Users\\marco\\AppData\\Local\\Temp\\ipykernel_6904\\3667833851.py:14: RuntimeWarning: This filename (../SEED_FRA_OUTPUT/POSITIVE/6_2_trial_0_signals.fif) does not conform to MNE naming conventions. All raw files should end with raw.fif, raw_sss.fif, raw_tsss.fif, _meg.fif, _eeg.fif, _ieeg.fif, raw.fif.gz, raw_sss.fif.gz, raw_tsss.fif.gz, _meg.fif.gz, _eeg.fif.gz or _ieeg.fif.gz\n",
      "  eeg_data = mne.io.read_raw_fif(name, preload=True)\n"
     ]
    },
    {
     "name": "stdout",
     "output_type": "stream",
     "text": [
      "Opening raw data file ../SEED_FRA_OUTPUT/POSITIVE/6_2_trial_11_signals.fif...\n",
      "    Range : 2327000 ... 2471000 =   2327.000 ...  2471.000 secs\n",
      "Ready.\n",
      "Reading 0 ... 144000  =      0.000 ...   144.000 secs...\n"
     ]
    },
    {
     "name": "stderr",
     "output_type": "stream",
     "text": [
      "C:\\Users\\marco\\AppData\\Local\\Temp\\ipykernel_6904\\3667833851.py:14: RuntimeWarning: This filename (../SEED_FRA_OUTPUT/POSITIVE/6_2_trial_11_signals.fif) does not conform to MNE naming conventions. All raw files should end with raw.fif, raw_sss.fif, raw_tsss.fif, _meg.fif, _eeg.fif, _ieeg.fif, raw.fif.gz, raw_sss.fif.gz, raw_tsss.fif.gz, _meg.fif.gz, _eeg.fif.gz or _ieeg.fif.gz\n",
      "  eeg_data = mne.io.read_raw_fif(name, preload=True)\n"
     ]
    },
    {
     "name": "stdout",
     "output_type": "stream",
     "text": [
      "Opening raw data file ../SEED_FRA_OUTPUT/POSITIVE/6_2_trial_12_signals.fif...\n",
      "    Range : 2492000 ... 2599000 =   2492.000 ...  2599.000 secs\n",
      "Ready.\n",
      "Reading 0 ... 107000  =      0.000 ...   107.000 secs...\n"
     ]
    },
    {
     "name": "stderr",
     "output_type": "stream",
     "text": [
      "C:\\Users\\marco\\AppData\\Local\\Temp\\ipykernel_6904\\3667833851.py:14: RuntimeWarning: This filename (../SEED_FRA_OUTPUT/POSITIVE/6_2_trial_12_signals.fif) does not conform to MNE naming conventions. All raw files should end with raw.fif, raw_sss.fif, raw_tsss.fif, _meg.fif, _eeg.fif, _ieeg.fif, raw.fif.gz, raw_sss.fif.gz, raw_tsss.fif.gz, _meg.fif.gz, _eeg.fif.gz or _ieeg.fif.gz\n",
      "  eeg_data = mne.io.read_raw_fif(name, preload=True)\n"
     ]
    },
    {
     "name": "stdout",
     "output_type": "stream",
     "text": [
      "Opening raw data file ../SEED_FRA_OUTPUT/POSITIVE/6_2_trial_17_signals.fif...\n",
      "    Range : 3216000 ... 3349000 =   3216.000 ...  3349.000 secs\n",
      "Ready.\n",
      "Reading 0 ... 133000  =      0.000 ...   133.000 secs...\n"
     ]
    },
    {
     "name": "stderr",
     "output_type": "stream",
     "text": [
      "C:\\Users\\marco\\AppData\\Local\\Temp\\ipykernel_6904\\3667833851.py:14: RuntimeWarning: This filename (../SEED_FRA_OUTPUT/POSITIVE/6_2_trial_17_signals.fif) does not conform to MNE naming conventions. All raw files should end with raw.fif, raw_sss.fif, raw_tsss.fif, _meg.fif, _eeg.fif, _ieeg.fif, raw.fif.gz, raw_sss.fif.gz, raw_tsss.fif.gz, _meg.fif.gz, _eeg.fif.gz or _ieeg.fif.gz\n",
      "  eeg_data = mne.io.read_raw_fif(name, preload=True)\n"
     ]
    },
    {
     "name": "stdout",
     "output_type": "stream",
     "text": [
      "Opening raw data file ../SEED_FRA_OUTPUT/POSITIVE/6_2_trial_20_signals.fif...\n",
      "    Range : 3622000 ... 3797000 =   3622.000 ...  3797.000 secs\n",
      "Ready.\n",
      "Reading 0 ... 175000  =      0.000 ...   175.000 secs...\n"
     ]
    },
    {
     "name": "stderr",
     "output_type": "stream",
     "text": [
      "C:\\Users\\marco\\AppData\\Local\\Temp\\ipykernel_6904\\3667833851.py:14: RuntimeWarning: This filename (../SEED_FRA_OUTPUT/POSITIVE/6_2_trial_20_signals.fif) does not conform to MNE naming conventions. All raw files should end with raw.fif, raw_sss.fif, raw_tsss.fif, _meg.fif, _eeg.fif, _ieeg.fif, raw.fif.gz, raw_sss.fif.gz, raw_tsss.fif.gz, _meg.fif.gz, _eeg.fif.gz or _ieeg.fif.gz\n",
      "  eeg_data = mne.io.read_raw_fif(name, preload=True)\n"
     ]
    },
    {
     "name": "stdout",
     "output_type": "stream",
     "text": [
      "Opening raw data file ../SEED_FRA_OUTPUT/POSITIVE/6_2_trial_4_signals.fif...\n",
      "    Range : 982000 ... 1082000 =    982.000 ...  1082.000 secs\n",
      "Ready.\n",
      "Reading 0 ... 100000  =      0.000 ...   100.000 secs...\n"
     ]
    },
    {
     "name": "stderr",
     "output_type": "stream",
     "text": [
      "C:\\Users\\marco\\AppData\\Local\\Temp\\ipykernel_6904\\3667833851.py:14: RuntimeWarning: This filename (../SEED_FRA_OUTPUT/POSITIVE/6_2_trial_4_signals.fif) does not conform to MNE naming conventions. All raw files should end with raw.fif, raw_sss.fif, raw_tsss.fif, _meg.fif, _eeg.fif, _ieeg.fif, raw.fif.gz, raw_sss.fif.gz, raw_tsss.fif.gz, _meg.fif.gz, _eeg.fif.gz or _ieeg.fif.gz\n",
      "  eeg_data = mne.io.read_raw_fif(name, preload=True)\n"
     ]
    },
    {
     "name": "stdout",
     "output_type": "stream",
     "text": [
      "Opening raw data file ../SEED_FRA_OUTPUT/POSITIVE/6_2_trial_8_signals.fif...\n",
      "    Range : 1738000 ... 1867000 =   1738.000 ...  1867.000 secs\n",
      "Ready.\n",
      "Reading 0 ... 129000  =      0.000 ...   129.000 secs...\n"
     ]
    },
    {
     "name": "stderr",
     "output_type": "stream",
     "text": [
      "C:\\Users\\marco\\AppData\\Local\\Temp\\ipykernel_6904\\3667833851.py:14: RuntimeWarning: This filename (../SEED_FRA_OUTPUT/POSITIVE/6_2_trial_8_signals.fif) does not conform to MNE naming conventions. All raw files should end with raw.fif, raw_sss.fif, raw_tsss.fif, _meg.fif, _eeg.fif, _ieeg.fif, raw.fif.gz, raw_sss.fif.gz, raw_tsss.fif.gz, _meg.fif.gz, _eeg.fif.gz or _ieeg.fif.gz\n",
      "  eeg_data = mne.io.read_raw_fif(name, preload=True)\n"
     ]
    },
    {
     "name": "stdout",
     "output_type": "stream",
     "text": [
      "Opening raw data file ../SEED_FRA_OUTPUT/POSITIVE/6_3_trial_0_signals.fif...\n",
      "    Range : 21000 ... 193000 =     21.000 ...   193.000 secs\n",
      "Ready.\n",
      "Reading 0 ... 172000  =      0.000 ...   172.000 secs...\n"
     ]
    },
    {
     "name": "stderr",
     "output_type": "stream",
     "text": [
      "C:\\Users\\marco\\AppData\\Local\\Temp\\ipykernel_6904\\3667833851.py:14: RuntimeWarning: This filename (../SEED_FRA_OUTPUT/POSITIVE/6_3_trial_0_signals.fif) does not conform to MNE naming conventions. All raw files should end with raw.fif, raw_sss.fif, raw_tsss.fif, _meg.fif, _eeg.fif, _ieeg.fif, raw.fif.gz, raw_sss.fif.gz, raw_tsss.fif.gz, _meg.fif.gz, _eeg.fif.gz or _ieeg.fif.gz\n",
      "  eeg_data = mne.io.read_raw_fif(name, preload=True)\n"
     ]
    },
    {
     "name": "stdout",
     "output_type": "stream",
     "text": [
      "Opening raw data file ../SEED_FRA_OUTPUT/POSITIVE/6_3_trial_11_signals.fif...\n",
      "    Range : 2327000 ... 2471000 =   2327.000 ...  2471.000 secs\n",
      "Ready.\n",
      "Reading 0 ... 144000  =      0.000 ...   144.000 secs...\n"
     ]
    },
    {
     "name": "stderr",
     "output_type": "stream",
     "text": [
      "C:\\Users\\marco\\AppData\\Local\\Temp\\ipykernel_6904\\3667833851.py:14: RuntimeWarning: This filename (../SEED_FRA_OUTPUT/POSITIVE/6_3_trial_11_signals.fif) does not conform to MNE naming conventions. All raw files should end with raw.fif, raw_sss.fif, raw_tsss.fif, _meg.fif, _eeg.fif, _ieeg.fif, raw.fif.gz, raw_sss.fif.gz, raw_tsss.fif.gz, _meg.fif.gz, _eeg.fif.gz or _ieeg.fif.gz\n",
      "  eeg_data = mne.io.read_raw_fif(name, preload=True)\n"
     ]
    },
    {
     "name": "stdout",
     "output_type": "stream",
     "text": [
      "Opening raw data file ../SEED_FRA_OUTPUT/POSITIVE/6_3_trial_12_signals.fif...\n",
      "    Range : 2492000 ... 2599000 =   2492.000 ...  2599.000 secs\n",
      "Ready.\n",
      "Reading 0 ... 107000  =      0.000 ...   107.000 secs...\n"
     ]
    },
    {
     "name": "stderr",
     "output_type": "stream",
     "text": [
      "C:\\Users\\marco\\AppData\\Local\\Temp\\ipykernel_6904\\3667833851.py:14: RuntimeWarning: This filename (../SEED_FRA_OUTPUT/POSITIVE/6_3_trial_12_signals.fif) does not conform to MNE naming conventions. All raw files should end with raw.fif, raw_sss.fif, raw_tsss.fif, _meg.fif, _eeg.fif, _ieeg.fif, raw.fif.gz, raw_sss.fif.gz, raw_tsss.fif.gz, _meg.fif.gz, _eeg.fif.gz or _ieeg.fif.gz\n",
      "  eeg_data = mne.io.read_raw_fif(name, preload=True)\n"
     ]
    },
    {
     "name": "stdout",
     "output_type": "stream",
     "text": [
      "Opening raw data file ../SEED_FRA_OUTPUT/POSITIVE/6_3_trial_17_signals.fif...\n",
      "    Range : 3216000 ... 3349000 =   3216.000 ...  3349.000 secs\n",
      "Ready.\n",
      "Reading 0 ... 133000  =      0.000 ...   133.000 secs...\n"
     ]
    },
    {
     "name": "stderr",
     "output_type": "stream",
     "text": [
      "C:\\Users\\marco\\AppData\\Local\\Temp\\ipykernel_6904\\3667833851.py:14: RuntimeWarning: This filename (../SEED_FRA_OUTPUT/POSITIVE/6_3_trial_17_signals.fif) does not conform to MNE naming conventions. All raw files should end with raw.fif, raw_sss.fif, raw_tsss.fif, _meg.fif, _eeg.fif, _ieeg.fif, raw.fif.gz, raw_sss.fif.gz, raw_tsss.fif.gz, _meg.fif.gz, _eeg.fif.gz or _ieeg.fif.gz\n",
      "  eeg_data = mne.io.read_raw_fif(name, preload=True)\n"
     ]
    },
    {
     "name": "stdout",
     "output_type": "stream",
     "text": [
      "Opening raw data file ../SEED_FRA_OUTPUT/POSITIVE/6_3_trial_20_signals.fif...\n",
      "    Range : 3622000 ... 3797000 =   3622.000 ...  3797.000 secs\n",
      "Ready.\n",
      "Reading 0 ... 175000  =      0.000 ...   175.000 secs...\n"
     ]
    },
    {
     "name": "stderr",
     "output_type": "stream",
     "text": [
      "C:\\Users\\marco\\AppData\\Local\\Temp\\ipykernel_6904\\3667833851.py:14: RuntimeWarning: This filename (../SEED_FRA_OUTPUT/POSITIVE/6_3_trial_20_signals.fif) does not conform to MNE naming conventions. All raw files should end with raw.fif, raw_sss.fif, raw_tsss.fif, _meg.fif, _eeg.fif, _ieeg.fif, raw.fif.gz, raw_sss.fif.gz, raw_tsss.fif.gz, _meg.fif.gz, _eeg.fif.gz or _ieeg.fif.gz\n",
      "  eeg_data = mne.io.read_raw_fif(name, preload=True)\n"
     ]
    },
    {
     "name": "stdout",
     "output_type": "stream",
     "text": [
      "Opening raw data file ../SEED_FRA_OUTPUT/POSITIVE/6_3_trial_4_signals.fif...\n",
      "    Range : 982000 ... 1082000 =    982.000 ...  1082.000 secs\n",
      "Ready.\n",
      "Reading 0 ... 100000  =      0.000 ...   100.000 secs...\n"
     ]
    },
    {
     "name": "stderr",
     "output_type": "stream",
     "text": [
      "C:\\Users\\marco\\AppData\\Local\\Temp\\ipykernel_6904\\3667833851.py:14: RuntimeWarning: This filename (../SEED_FRA_OUTPUT/POSITIVE/6_3_trial_4_signals.fif) does not conform to MNE naming conventions. All raw files should end with raw.fif, raw_sss.fif, raw_tsss.fif, _meg.fif, _eeg.fif, _ieeg.fif, raw.fif.gz, raw_sss.fif.gz, raw_tsss.fif.gz, _meg.fif.gz, _eeg.fif.gz or _ieeg.fif.gz\n",
      "  eeg_data = mne.io.read_raw_fif(name, preload=True)\n"
     ]
    },
    {
     "name": "stdout",
     "output_type": "stream",
     "text": [
      "Opening raw data file ../SEED_FRA_OUTPUT/POSITIVE/6_3_trial_8_signals.fif...\n",
      "    Range : 1738000 ... 1867000 =   1738.000 ...  1867.000 secs\n",
      "Ready.\n",
      "Reading 0 ... 129000  =      0.000 ...   129.000 secs...\n"
     ]
    },
    {
     "name": "stderr",
     "output_type": "stream",
     "text": [
      "C:\\Users\\marco\\AppData\\Local\\Temp\\ipykernel_6904\\3667833851.py:14: RuntimeWarning: This filename (../SEED_FRA_OUTPUT/POSITIVE/6_3_trial_8_signals.fif) does not conform to MNE naming conventions. All raw files should end with raw.fif, raw_sss.fif, raw_tsss.fif, _meg.fif, _eeg.fif, _ieeg.fif, raw.fif.gz, raw_sss.fif.gz, raw_tsss.fif.gz, _meg.fif.gz, _eeg.fif.gz or _ieeg.fif.gz\n",
      "  eeg_data = mne.io.read_raw_fif(name, preload=True)\n"
     ]
    },
    {
     "name": "stdout",
     "output_type": "stream",
     "text": [
      "Opening raw data file ../SEED_FRA_OUTPUT/POSITIVE/7_1_trial_0_signals.fif...\n",
      "    Range : 21000 ... 193000 =     21.000 ...   193.000 secs\n",
      "Ready.\n",
      "Reading 0 ... 172000  =      0.000 ...   172.000 secs...\n"
     ]
    },
    {
     "name": "stderr",
     "output_type": "stream",
     "text": [
      "C:\\Users\\marco\\AppData\\Local\\Temp\\ipykernel_6904\\3667833851.py:14: RuntimeWarning: This filename (../SEED_FRA_OUTPUT/POSITIVE/7_1_trial_0_signals.fif) does not conform to MNE naming conventions. All raw files should end with raw.fif, raw_sss.fif, raw_tsss.fif, _meg.fif, _eeg.fif, _ieeg.fif, raw.fif.gz, raw_sss.fif.gz, raw_tsss.fif.gz, _meg.fif.gz, _eeg.fif.gz or _ieeg.fif.gz\n",
      "  eeg_data = mne.io.read_raw_fif(name, preload=True)\n"
     ]
    },
    {
     "name": "stdout",
     "output_type": "stream",
     "text": [
      "Opening raw data file ../SEED_FRA_OUTPUT/POSITIVE/7_1_trial_11_signals.fif...\n",
      "    Range : 2327000 ... 2471000 =   2327.000 ...  2471.000 secs\n",
      "Ready.\n",
      "Reading 0 ... 144000  =      0.000 ...   144.000 secs...\n"
     ]
    },
    {
     "name": "stderr",
     "output_type": "stream",
     "text": [
      "C:\\Users\\marco\\AppData\\Local\\Temp\\ipykernel_6904\\3667833851.py:14: RuntimeWarning: This filename (../SEED_FRA_OUTPUT/POSITIVE/7_1_trial_11_signals.fif) does not conform to MNE naming conventions. All raw files should end with raw.fif, raw_sss.fif, raw_tsss.fif, _meg.fif, _eeg.fif, _ieeg.fif, raw.fif.gz, raw_sss.fif.gz, raw_tsss.fif.gz, _meg.fif.gz, _eeg.fif.gz or _ieeg.fif.gz\n",
      "  eeg_data = mne.io.read_raw_fif(name, preload=True)\n"
     ]
    },
    {
     "name": "stdout",
     "output_type": "stream",
     "text": [
      "Opening raw data file ../SEED_FRA_OUTPUT/POSITIVE/7_1_trial_12_signals.fif...\n",
      "    Range : 2492000 ... 2599000 =   2492.000 ...  2599.000 secs\n",
      "Ready.\n",
      "Reading 0 ... 107000  =      0.000 ...   107.000 secs...\n"
     ]
    },
    {
     "name": "stderr",
     "output_type": "stream",
     "text": [
      "C:\\Users\\marco\\AppData\\Local\\Temp\\ipykernel_6904\\3667833851.py:14: RuntimeWarning: This filename (../SEED_FRA_OUTPUT/POSITIVE/7_1_trial_12_signals.fif) does not conform to MNE naming conventions. All raw files should end with raw.fif, raw_sss.fif, raw_tsss.fif, _meg.fif, _eeg.fif, _ieeg.fif, raw.fif.gz, raw_sss.fif.gz, raw_tsss.fif.gz, _meg.fif.gz, _eeg.fif.gz or _ieeg.fif.gz\n",
      "  eeg_data = mne.io.read_raw_fif(name, preload=True)\n"
     ]
    },
    {
     "name": "stdout",
     "output_type": "stream",
     "text": [
      "Opening raw data file ../SEED_FRA_OUTPUT/POSITIVE/7_1_trial_17_signals.fif...\n",
      "    Range : 3216000 ... 3349000 =   3216.000 ...  3349.000 secs\n",
      "Ready.\n",
      "Reading 0 ... 133000  =      0.000 ...   133.000 secs...\n"
     ]
    },
    {
     "name": "stderr",
     "output_type": "stream",
     "text": [
      "C:\\Users\\marco\\AppData\\Local\\Temp\\ipykernel_6904\\3667833851.py:14: RuntimeWarning: This filename (../SEED_FRA_OUTPUT/POSITIVE/7_1_trial_17_signals.fif) does not conform to MNE naming conventions. All raw files should end with raw.fif, raw_sss.fif, raw_tsss.fif, _meg.fif, _eeg.fif, _ieeg.fif, raw.fif.gz, raw_sss.fif.gz, raw_tsss.fif.gz, _meg.fif.gz, _eeg.fif.gz or _ieeg.fif.gz\n",
      "  eeg_data = mne.io.read_raw_fif(name, preload=True)\n"
     ]
    },
    {
     "name": "stdout",
     "output_type": "stream",
     "text": [
      "Opening raw data file ../SEED_FRA_OUTPUT/POSITIVE/7_1_trial_20_signals.fif...\n",
      "    Range : 3622000 ... 3797000 =   3622.000 ...  3797.000 secs\n",
      "Ready.\n",
      "Reading 0 ... 175000  =      0.000 ...   175.000 secs...\n"
     ]
    },
    {
     "name": "stderr",
     "output_type": "stream",
     "text": [
      "C:\\Users\\marco\\AppData\\Local\\Temp\\ipykernel_6904\\3667833851.py:14: RuntimeWarning: This filename (../SEED_FRA_OUTPUT/POSITIVE/7_1_trial_20_signals.fif) does not conform to MNE naming conventions. All raw files should end with raw.fif, raw_sss.fif, raw_tsss.fif, _meg.fif, _eeg.fif, _ieeg.fif, raw.fif.gz, raw_sss.fif.gz, raw_tsss.fif.gz, _meg.fif.gz, _eeg.fif.gz or _ieeg.fif.gz\n",
      "  eeg_data = mne.io.read_raw_fif(name, preload=True)\n"
     ]
    },
    {
     "name": "stdout",
     "output_type": "stream",
     "text": [
      "Opening raw data file ../SEED_FRA_OUTPUT/POSITIVE/7_1_trial_4_signals.fif...\n",
      "    Range : 982000 ... 1082000 =    982.000 ...  1082.000 secs\n",
      "Ready.\n",
      "Reading 0 ... 100000  =      0.000 ...   100.000 secs...\n"
     ]
    },
    {
     "name": "stderr",
     "output_type": "stream",
     "text": [
      "C:\\Users\\marco\\AppData\\Local\\Temp\\ipykernel_6904\\3667833851.py:14: RuntimeWarning: This filename (../SEED_FRA_OUTPUT/POSITIVE/7_1_trial_4_signals.fif) does not conform to MNE naming conventions. All raw files should end with raw.fif, raw_sss.fif, raw_tsss.fif, _meg.fif, _eeg.fif, _ieeg.fif, raw.fif.gz, raw_sss.fif.gz, raw_tsss.fif.gz, _meg.fif.gz, _eeg.fif.gz or _ieeg.fif.gz\n",
      "  eeg_data = mne.io.read_raw_fif(name, preload=True)\n"
     ]
    },
    {
     "name": "stdout",
     "output_type": "stream",
     "text": [
      "Opening raw data file ../SEED_FRA_OUTPUT/POSITIVE/7_1_trial_8_signals.fif...\n",
      "    Range : 1738000 ... 1867000 =   1738.000 ...  1867.000 secs\n",
      "Ready.\n",
      "Reading 0 ... 129000  =      0.000 ...   129.000 secs...\n"
     ]
    },
    {
     "name": "stderr",
     "output_type": "stream",
     "text": [
      "C:\\Users\\marco\\AppData\\Local\\Temp\\ipykernel_6904\\3667833851.py:14: RuntimeWarning: This filename (../SEED_FRA_OUTPUT/POSITIVE/7_1_trial_8_signals.fif) does not conform to MNE naming conventions. All raw files should end with raw.fif, raw_sss.fif, raw_tsss.fif, _meg.fif, _eeg.fif, _ieeg.fif, raw.fif.gz, raw_sss.fif.gz, raw_tsss.fif.gz, _meg.fif.gz, _eeg.fif.gz or _ieeg.fif.gz\n",
      "  eeg_data = mne.io.read_raw_fif(name, preload=True)\n"
     ]
    },
    {
     "name": "stdout",
     "output_type": "stream",
     "text": [
      "Opening raw data file ../SEED_FRA_OUTPUT/POSITIVE/7_2_trial_0_signals.fif...\n",
      "    Range : 21000 ... 193000 =     21.000 ...   193.000 secs\n",
      "Ready.\n",
      "Reading 0 ... 172000  =      0.000 ...   172.000 secs...\n"
     ]
    },
    {
     "name": "stderr",
     "output_type": "stream",
     "text": [
      "C:\\Users\\marco\\AppData\\Local\\Temp\\ipykernel_6904\\3667833851.py:14: RuntimeWarning: This filename (../SEED_FRA_OUTPUT/POSITIVE/7_2_trial_0_signals.fif) does not conform to MNE naming conventions. All raw files should end with raw.fif, raw_sss.fif, raw_tsss.fif, _meg.fif, _eeg.fif, _ieeg.fif, raw.fif.gz, raw_sss.fif.gz, raw_tsss.fif.gz, _meg.fif.gz, _eeg.fif.gz or _ieeg.fif.gz\n",
      "  eeg_data = mne.io.read_raw_fif(name, preload=True)\n"
     ]
    },
    {
     "name": "stdout",
     "output_type": "stream",
     "text": [
      "Opening raw data file ../SEED_FRA_OUTPUT/POSITIVE/7_2_trial_11_signals.fif...\n",
      "    Range : 2327000 ... 2471000 =   2327.000 ...  2471.000 secs\n",
      "Ready.\n",
      "Reading 0 ... 144000  =      0.000 ...   144.000 secs...\n"
     ]
    },
    {
     "name": "stderr",
     "output_type": "stream",
     "text": [
      "C:\\Users\\marco\\AppData\\Local\\Temp\\ipykernel_6904\\3667833851.py:14: RuntimeWarning: This filename (../SEED_FRA_OUTPUT/POSITIVE/7_2_trial_11_signals.fif) does not conform to MNE naming conventions. All raw files should end with raw.fif, raw_sss.fif, raw_tsss.fif, _meg.fif, _eeg.fif, _ieeg.fif, raw.fif.gz, raw_sss.fif.gz, raw_tsss.fif.gz, _meg.fif.gz, _eeg.fif.gz or _ieeg.fif.gz\n",
      "  eeg_data = mne.io.read_raw_fif(name, preload=True)\n"
     ]
    },
    {
     "name": "stdout",
     "output_type": "stream",
     "text": [
      "Opening raw data file ../SEED_FRA_OUTPUT/POSITIVE/7_2_trial_12_signals.fif...\n",
      "    Range : 2492000 ... 2599000 =   2492.000 ...  2599.000 secs\n",
      "Ready.\n",
      "Reading 0 ... 107000  =      0.000 ...   107.000 secs...\n"
     ]
    },
    {
     "name": "stderr",
     "output_type": "stream",
     "text": [
      "C:\\Users\\marco\\AppData\\Local\\Temp\\ipykernel_6904\\3667833851.py:14: RuntimeWarning: This filename (../SEED_FRA_OUTPUT/POSITIVE/7_2_trial_12_signals.fif) does not conform to MNE naming conventions. All raw files should end with raw.fif, raw_sss.fif, raw_tsss.fif, _meg.fif, _eeg.fif, _ieeg.fif, raw.fif.gz, raw_sss.fif.gz, raw_tsss.fif.gz, _meg.fif.gz, _eeg.fif.gz or _ieeg.fif.gz\n",
      "  eeg_data = mne.io.read_raw_fif(name, preload=True)\n"
     ]
    },
    {
     "name": "stdout",
     "output_type": "stream",
     "text": [
      "Opening raw data file ../SEED_FRA_OUTPUT/POSITIVE/7_2_trial_17_signals.fif...\n",
      "    Range : 3216000 ... 3349000 =   3216.000 ...  3349.000 secs\n",
      "Ready.\n",
      "Reading 0 ... 133000  =      0.000 ...   133.000 secs...\n"
     ]
    },
    {
     "name": "stderr",
     "output_type": "stream",
     "text": [
      "C:\\Users\\marco\\AppData\\Local\\Temp\\ipykernel_6904\\3667833851.py:14: RuntimeWarning: This filename (../SEED_FRA_OUTPUT/POSITIVE/7_2_trial_17_signals.fif) does not conform to MNE naming conventions. All raw files should end with raw.fif, raw_sss.fif, raw_tsss.fif, _meg.fif, _eeg.fif, _ieeg.fif, raw.fif.gz, raw_sss.fif.gz, raw_tsss.fif.gz, _meg.fif.gz, _eeg.fif.gz or _ieeg.fif.gz\n",
      "  eeg_data = mne.io.read_raw_fif(name, preload=True)\n"
     ]
    },
    {
     "name": "stdout",
     "output_type": "stream",
     "text": [
      "Opening raw data file ../SEED_FRA_OUTPUT/POSITIVE/7_2_trial_20_signals.fif...\n",
      "    Range : 3622000 ... 3797000 =   3622.000 ...  3797.000 secs\n",
      "Ready.\n",
      "Reading 0 ... 175000  =      0.000 ...   175.000 secs...\n"
     ]
    },
    {
     "name": "stderr",
     "output_type": "stream",
     "text": [
      "C:\\Users\\marco\\AppData\\Local\\Temp\\ipykernel_6904\\3667833851.py:14: RuntimeWarning: This filename (../SEED_FRA_OUTPUT/POSITIVE/7_2_trial_20_signals.fif) does not conform to MNE naming conventions. All raw files should end with raw.fif, raw_sss.fif, raw_tsss.fif, _meg.fif, _eeg.fif, _ieeg.fif, raw.fif.gz, raw_sss.fif.gz, raw_tsss.fif.gz, _meg.fif.gz, _eeg.fif.gz or _ieeg.fif.gz\n",
      "  eeg_data = mne.io.read_raw_fif(name, preload=True)\n"
     ]
    },
    {
     "name": "stdout",
     "output_type": "stream",
     "text": [
      "Opening raw data file ../SEED_FRA_OUTPUT/POSITIVE/7_2_trial_4_signals.fif...\n",
      "    Range : 982000 ... 1082000 =    982.000 ...  1082.000 secs\n",
      "Ready.\n",
      "Reading 0 ... 100000  =      0.000 ...   100.000 secs...\n"
     ]
    },
    {
     "name": "stderr",
     "output_type": "stream",
     "text": [
      "C:\\Users\\marco\\AppData\\Local\\Temp\\ipykernel_6904\\3667833851.py:14: RuntimeWarning: This filename (../SEED_FRA_OUTPUT/POSITIVE/7_2_trial_4_signals.fif) does not conform to MNE naming conventions. All raw files should end with raw.fif, raw_sss.fif, raw_tsss.fif, _meg.fif, _eeg.fif, _ieeg.fif, raw.fif.gz, raw_sss.fif.gz, raw_tsss.fif.gz, _meg.fif.gz, _eeg.fif.gz or _ieeg.fif.gz\n",
      "  eeg_data = mne.io.read_raw_fif(name, preload=True)\n"
     ]
    },
    {
     "name": "stdout",
     "output_type": "stream",
     "text": [
      "Opening raw data file ../SEED_FRA_OUTPUT/POSITIVE/7_2_trial_8_signals.fif...\n",
      "    Range : 1738000 ... 1867000 =   1738.000 ...  1867.000 secs\n",
      "Ready.\n",
      "Reading 0 ... 129000  =      0.000 ...   129.000 secs...\n"
     ]
    },
    {
     "name": "stderr",
     "output_type": "stream",
     "text": [
      "C:\\Users\\marco\\AppData\\Local\\Temp\\ipykernel_6904\\3667833851.py:14: RuntimeWarning: This filename (../SEED_FRA_OUTPUT/POSITIVE/7_2_trial_8_signals.fif) does not conform to MNE naming conventions. All raw files should end with raw.fif, raw_sss.fif, raw_tsss.fif, _meg.fif, _eeg.fif, _ieeg.fif, raw.fif.gz, raw_sss.fif.gz, raw_tsss.fif.gz, _meg.fif.gz, _eeg.fif.gz or _ieeg.fif.gz\n",
      "  eeg_data = mne.io.read_raw_fif(name, preload=True)\n"
     ]
    },
    {
     "name": "stdout",
     "output_type": "stream",
     "text": [
      "Opening raw data file ../SEED_FRA_OUTPUT/POSITIVE/7_3_trial_0_signals.fif...\n",
      "    Range : 21000 ... 193000 =     21.000 ...   193.000 secs\n",
      "Ready.\n",
      "Reading 0 ... 172000  =      0.000 ...   172.000 secs...\n"
     ]
    },
    {
     "name": "stderr",
     "output_type": "stream",
     "text": [
      "C:\\Users\\marco\\AppData\\Local\\Temp\\ipykernel_6904\\3667833851.py:14: RuntimeWarning: This filename (../SEED_FRA_OUTPUT/POSITIVE/7_3_trial_0_signals.fif) does not conform to MNE naming conventions. All raw files should end with raw.fif, raw_sss.fif, raw_tsss.fif, _meg.fif, _eeg.fif, _ieeg.fif, raw.fif.gz, raw_sss.fif.gz, raw_tsss.fif.gz, _meg.fif.gz, _eeg.fif.gz or _ieeg.fif.gz\n",
      "  eeg_data = mne.io.read_raw_fif(name, preload=True)\n"
     ]
    },
    {
     "name": "stdout",
     "output_type": "stream",
     "text": [
      "Opening raw data file ../SEED_FRA_OUTPUT/POSITIVE/7_3_trial_11_signals.fif...\n",
      "    Range : 2327000 ... 2471000 =   2327.000 ...  2471.000 secs\n",
      "Ready.\n",
      "Reading 0 ... 144000  =      0.000 ...   144.000 secs...\n"
     ]
    },
    {
     "name": "stderr",
     "output_type": "stream",
     "text": [
      "C:\\Users\\marco\\AppData\\Local\\Temp\\ipykernel_6904\\3667833851.py:14: RuntimeWarning: This filename (../SEED_FRA_OUTPUT/POSITIVE/7_3_trial_11_signals.fif) does not conform to MNE naming conventions. All raw files should end with raw.fif, raw_sss.fif, raw_tsss.fif, _meg.fif, _eeg.fif, _ieeg.fif, raw.fif.gz, raw_sss.fif.gz, raw_tsss.fif.gz, _meg.fif.gz, _eeg.fif.gz or _ieeg.fif.gz\n",
      "  eeg_data = mne.io.read_raw_fif(name, preload=True)\n"
     ]
    },
    {
     "name": "stdout",
     "output_type": "stream",
     "text": [
      "Opening raw data file ../SEED_FRA_OUTPUT/POSITIVE/7_3_trial_12_signals.fif...\n",
      "    Range : 2492000 ... 2599000 =   2492.000 ...  2599.000 secs\n",
      "Ready.\n",
      "Reading 0 ... 107000  =      0.000 ...   107.000 secs...\n"
     ]
    },
    {
     "name": "stderr",
     "output_type": "stream",
     "text": [
      "C:\\Users\\marco\\AppData\\Local\\Temp\\ipykernel_6904\\3667833851.py:14: RuntimeWarning: This filename (../SEED_FRA_OUTPUT/POSITIVE/7_3_trial_12_signals.fif) does not conform to MNE naming conventions. All raw files should end with raw.fif, raw_sss.fif, raw_tsss.fif, _meg.fif, _eeg.fif, _ieeg.fif, raw.fif.gz, raw_sss.fif.gz, raw_tsss.fif.gz, _meg.fif.gz, _eeg.fif.gz or _ieeg.fif.gz\n",
      "  eeg_data = mne.io.read_raw_fif(name, preload=True)\n"
     ]
    },
    {
     "name": "stdout",
     "output_type": "stream",
     "text": [
      "Opening raw data file ../SEED_FRA_OUTPUT/POSITIVE/7_3_trial_17_signals.fif...\n",
      "    Range : 3216000 ... 3349000 =   3216.000 ...  3349.000 secs\n",
      "Ready.\n",
      "Reading 0 ... 133000  =      0.000 ...   133.000 secs...\n"
     ]
    },
    {
     "name": "stderr",
     "output_type": "stream",
     "text": [
      "C:\\Users\\marco\\AppData\\Local\\Temp\\ipykernel_6904\\3667833851.py:14: RuntimeWarning: This filename (../SEED_FRA_OUTPUT/POSITIVE/7_3_trial_17_signals.fif) does not conform to MNE naming conventions. All raw files should end with raw.fif, raw_sss.fif, raw_tsss.fif, _meg.fif, _eeg.fif, _ieeg.fif, raw.fif.gz, raw_sss.fif.gz, raw_tsss.fif.gz, _meg.fif.gz, _eeg.fif.gz or _ieeg.fif.gz\n",
      "  eeg_data = mne.io.read_raw_fif(name, preload=True)\n"
     ]
    },
    {
     "name": "stdout",
     "output_type": "stream",
     "text": [
      "Opening raw data file ../SEED_FRA_OUTPUT/POSITIVE/7_3_trial_20_signals.fif...\n",
      "    Range : 3622000 ... 3797000 =   3622.000 ...  3797.000 secs\n",
      "Ready.\n",
      "Reading 0 ... 175000  =      0.000 ...   175.000 secs...\n"
     ]
    },
    {
     "name": "stderr",
     "output_type": "stream",
     "text": [
      "C:\\Users\\marco\\AppData\\Local\\Temp\\ipykernel_6904\\3667833851.py:14: RuntimeWarning: This filename (../SEED_FRA_OUTPUT/POSITIVE/7_3_trial_20_signals.fif) does not conform to MNE naming conventions. All raw files should end with raw.fif, raw_sss.fif, raw_tsss.fif, _meg.fif, _eeg.fif, _ieeg.fif, raw.fif.gz, raw_sss.fif.gz, raw_tsss.fif.gz, _meg.fif.gz, _eeg.fif.gz or _ieeg.fif.gz\n",
      "  eeg_data = mne.io.read_raw_fif(name, preload=True)\n"
     ]
    },
    {
     "name": "stdout",
     "output_type": "stream",
     "text": [
      "Opening raw data file ../SEED_FRA_OUTPUT/POSITIVE/7_3_trial_4_signals.fif...\n",
      "    Range : 982000 ... 1082000 =    982.000 ...  1082.000 secs\n",
      "Ready.\n",
      "Reading 0 ... 100000  =      0.000 ...   100.000 secs...\n"
     ]
    },
    {
     "name": "stderr",
     "output_type": "stream",
     "text": [
      "C:\\Users\\marco\\AppData\\Local\\Temp\\ipykernel_6904\\3667833851.py:14: RuntimeWarning: This filename (../SEED_FRA_OUTPUT/POSITIVE/7_3_trial_4_signals.fif) does not conform to MNE naming conventions. All raw files should end with raw.fif, raw_sss.fif, raw_tsss.fif, _meg.fif, _eeg.fif, _ieeg.fif, raw.fif.gz, raw_sss.fif.gz, raw_tsss.fif.gz, _meg.fif.gz, _eeg.fif.gz or _ieeg.fif.gz\n",
      "  eeg_data = mne.io.read_raw_fif(name, preload=True)\n"
     ]
    },
    {
     "name": "stdout",
     "output_type": "stream",
     "text": [
      "Opening raw data file ../SEED_FRA_OUTPUT/POSITIVE/7_3_trial_8_signals.fif...\n",
      "    Range : 1738000 ... 1867000 =   1738.000 ...  1867.000 secs\n",
      "Ready.\n",
      "Reading 0 ... 129000  =      0.000 ...   129.000 secs...\n"
     ]
    },
    {
     "name": "stderr",
     "output_type": "stream",
     "text": [
      "C:\\Users\\marco\\AppData\\Local\\Temp\\ipykernel_6904\\3667833851.py:14: RuntimeWarning: This filename (../SEED_FRA_OUTPUT/POSITIVE/7_3_trial_8_signals.fif) does not conform to MNE naming conventions. All raw files should end with raw.fif, raw_sss.fif, raw_tsss.fif, _meg.fif, _eeg.fif, _ieeg.fif, raw.fif.gz, raw_sss.fif.gz, raw_tsss.fif.gz, _meg.fif.gz, _eeg.fif.gz or _ieeg.fif.gz\n",
      "  eeg_data = mne.io.read_raw_fif(name, preload=True)\n"
     ]
    },
    {
     "name": "stdout",
     "output_type": "stream",
     "text": [
      "Opening raw data file ../SEED_FRA_OUTPUT/POSITIVE/8_1_trial_0_signals.fif...\n",
      "    Range : 21000 ... 193000 =     21.000 ...   193.000 secs\n",
      "Ready.\n",
      "Reading 0 ... 172000  =      0.000 ...   172.000 secs...\n"
     ]
    },
    {
     "name": "stderr",
     "output_type": "stream",
     "text": [
      "C:\\Users\\marco\\AppData\\Local\\Temp\\ipykernel_6904\\3667833851.py:14: RuntimeWarning: This filename (../SEED_FRA_OUTPUT/POSITIVE/8_1_trial_0_signals.fif) does not conform to MNE naming conventions. All raw files should end with raw.fif, raw_sss.fif, raw_tsss.fif, _meg.fif, _eeg.fif, _ieeg.fif, raw.fif.gz, raw_sss.fif.gz, raw_tsss.fif.gz, _meg.fif.gz, _eeg.fif.gz or _ieeg.fif.gz\n",
      "  eeg_data = mne.io.read_raw_fif(name, preload=True)\n"
     ]
    },
    {
     "name": "stdout",
     "output_type": "stream",
     "text": [
      "Opening raw data file ../SEED_FRA_OUTPUT/POSITIVE/8_1_trial_11_signals.fif...\n",
      "    Range : 2327000 ... 2471000 =   2327.000 ...  2471.000 secs\n",
      "Ready.\n",
      "Reading 0 ... 144000  =      0.000 ...   144.000 secs...\n"
     ]
    },
    {
     "name": "stderr",
     "output_type": "stream",
     "text": [
      "C:\\Users\\marco\\AppData\\Local\\Temp\\ipykernel_6904\\3667833851.py:14: RuntimeWarning: This filename (../SEED_FRA_OUTPUT/POSITIVE/8_1_trial_11_signals.fif) does not conform to MNE naming conventions. All raw files should end with raw.fif, raw_sss.fif, raw_tsss.fif, _meg.fif, _eeg.fif, _ieeg.fif, raw.fif.gz, raw_sss.fif.gz, raw_tsss.fif.gz, _meg.fif.gz, _eeg.fif.gz or _ieeg.fif.gz\n",
      "  eeg_data = mne.io.read_raw_fif(name, preload=True)\n"
     ]
    },
    {
     "name": "stdout",
     "output_type": "stream",
     "text": [
      "Opening raw data file ../SEED_FRA_OUTPUT/POSITIVE/8_1_trial_12_signals.fif...\n",
      "    Range : 2492000 ... 2599000 =   2492.000 ...  2599.000 secs\n",
      "Ready.\n",
      "Reading 0 ... 107000  =      0.000 ...   107.000 secs...\n"
     ]
    },
    {
     "name": "stderr",
     "output_type": "stream",
     "text": [
      "C:\\Users\\marco\\AppData\\Local\\Temp\\ipykernel_6904\\3667833851.py:14: RuntimeWarning: This filename (../SEED_FRA_OUTPUT/POSITIVE/8_1_trial_12_signals.fif) does not conform to MNE naming conventions. All raw files should end with raw.fif, raw_sss.fif, raw_tsss.fif, _meg.fif, _eeg.fif, _ieeg.fif, raw.fif.gz, raw_sss.fif.gz, raw_tsss.fif.gz, _meg.fif.gz, _eeg.fif.gz or _ieeg.fif.gz\n",
      "  eeg_data = mne.io.read_raw_fif(name, preload=True)\n"
     ]
    },
    {
     "name": "stdout",
     "output_type": "stream",
     "text": [
      "Opening raw data file ../SEED_FRA_OUTPUT/POSITIVE/8_1_trial_17_signals.fif...\n",
      "    Range : 3216000 ... 3349000 =   3216.000 ...  3349.000 secs\n",
      "Ready.\n",
      "Reading 0 ... 133000  =      0.000 ...   133.000 secs...\n"
     ]
    },
    {
     "name": "stderr",
     "output_type": "stream",
     "text": [
      "C:\\Users\\marco\\AppData\\Local\\Temp\\ipykernel_6904\\3667833851.py:14: RuntimeWarning: This filename (../SEED_FRA_OUTPUT/POSITIVE/8_1_trial_17_signals.fif) does not conform to MNE naming conventions. All raw files should end with raw.fif, raw_sss.fif, raw_tsss.fif, _meg.fif, _eeg.fif, _ieeg.fif, raw.fif.gz, raw_sss.fif.gz, raw_tsss.fif.gz, _meg.fif.gz, _eeg.fif.gz or _ieeg.fif.gz\n",
      "  eeg_data = mne.io.read_raw_fif(name, preload=True)\n"
     ]
    },
    {
     "name": "stdout",
     "output_type": "stream",
     "text": [
      "Opening raw data file ../SEED_FRA_OUTPUT/POSITIVE/8_1_trial_20_signals.fif...\n",
      "    Range : 3622000 ... 3797000 =   3622.000 ...  3797.000 secs\n",
      "Ready.\n",
      "Reading 0 ... 175000  =      0.000 ...   175.000 secs...\n"
     ]
    },
    {
     "name": "stderr",
     "output_type": "stream",
     "text": [
      "C:\\Users\\marco\\AppData\\Local\\Temp\\ipykernel_6904\\3667833851.py:14: RuntimeWarning: This filename (../SEED_FRA_OUTPUT/POSITIVE/8_1_trial_20_signals.fif) does not conform to MNE naming conventions. All raw files should end with raw.fif, raw_sss.fif, raw_tsss.fif, _meg.fif, _eeg.fif, _ieeg.fif, raw.fif.gz, raw_sss.fif.gz, raw_tsss.fif.gz, _meg.fif.gz, _eeg.fif.gz or _ieeg.fif.gz\n",
      "  eeg_data = mne.io.read_raw_fif(name, preload=True)\n"
     ]
    },
    {
     "name": "stdout",
     "output_type": "stream",
     "text": [
      "Opening raw data file ../SEED_FRA_OUTPUT/POSITIVE/8_1_trial_4_signals.fif...\n",
      "    Range : 982000 ... 1082000 =    982.000 ...  1082.000 secs\n",
      "Ready.\n",
      "Reading 0 ... 100000  =      0.000 ...   100.000 secs...\n"
     ]
    },
    {
     "name": "stderr",
     "output_type": "stream",
     "text": [
      "C:\\Users\\marco\\AppData\\Local\\Temp\\ipykernel_6904\\3667833851.py:14: RuntimeWarning: This filename (../SEED_FRA_OUTPUT/POSITIVE/8_1_trial_4_signals.fif) does not conform to MNE naming conventions. All raw files should end with raw.fif, raw_sss.fif, raw_tsss.fif, _meg.fif, _eeg.fif, _ieeg.fif, raw.fif.gz, raw_sss.fif.gz, raw_tsss.fif.gz, _meg.fif.gz, _eeg.fif.gz or _ieeg.fif.gz\n",
      "  eeg_data = mne.io.read_raw_fif(name, preload=True)\n"
     ]
    },
    {
     "name": "stdout",
     "output_type": "stream",
     "text": [
      "Opening raw data file ../SEED_FRA_OUTPUT/POSITIVE/8_1_trial_8_signals.fif...\n",
      "    Range : 1738000 ... 1867000 =   1738.000 ...  1867.000 secs\n",
      "Ready.\n",
      "Reading 0 ... 129000  =      0.000 ...   129.000 secs...\n"
     ]
    },
    {
     "name": "stderr",
     "output_type": "stream",
     "text": [
      "C:\\Users\\marco\\AppData\\Local\\Temp\\ipykernel_6904\\3667833851.py:14: RuntimeWarning: This filename (../SEED_FRA_OUTPUT/POSITIVE/8_1_trial_8_signals.fif) does not conform to MNE naming conventions. All raw files should end with raw.fif, raw_sss.fif, raw_tsss.fif, _meg.fif, _eeg.fif, _ieeg.fif, raw.fif.gz, raw_sss.fif.gz, raw_tsss.fif.gz, _meg.fif.gz, _eeg.fif.gz or _ieeg.fif.gz\n",
      "  eeg_data = mne.io.read_raw_fif(name, preload=True)\n"
     ]
    },
    {
     "name": "stdout",
     "output_type": "stream",
     "text": [
      "Opening raw data file ../SEED_FRA_OUTPUT/POSITIVE/8_2_trial_0_signals.fif...\n",
      "    Range : 21000 ... 193000 =     21.000 ...   193.000 secs\n",
      "Ready.\n",
      "Reading 0 ... 172000  =      0.000 ...   172.000 secs...\n"
     ]
    },
    {
     "name": "stderr",
     "output_type": "stream",
     "text": [
      "C:\\Users\\marco\\AppData\\Local\\Temp\\ipykernel_6904\\3667833851.py:14: RuntimeWarning: This filename (../SEED_FRA_OUTPUT/POSITIVE/8_2_trial_0_signals.fif) does not conform to MNE naming conventions. All raw files should end with raw.fif, raw_sss.fif, raw_tsss.fif, _meg.fif, _eeg.fif, _ieeg.fif, raw.fif.gz, raw_sss.fif.gz, raw_tsss.fif.gz, _meg.fif.gz, _eeg.fif.gz or _ieeg.fif.gz\n",
      "  eeg_data = mne.io.read_raw_fif(name, preload=True)\n"
     ]
    },
    {
     "name": "stdout",
     "output_type": "stream",
     "text": [
      "Opening raw data file ../SEED_FRA_OUTPUT/POSITIVE/8_2_trial_11_signals.fif...\n",
      "    Range : 2327000 ... 2471000 =   2327.000 ...  2471.000 secs\n",
      "Ready.\n",
      "Reading 0 ... 144000  =      0.000 ...   144.000 secs...\n"
     ]
    },
    {
     "name": "stderr",
     "output_type": "stream",
     "text": [
      "C:\\Users\\marco\\AppData\\Local\\Temp\\ipykernel_6904\\3667833851.py:14: RuntimeWarning: This filename (../SEED_FRA_OUTPUT/POSITIVE/8_2_trial_11_signals.fif) does not conform to MNE naming conventions. All raw files should end with raw.fif, raw_sss.fif, raw_tsss.fif, _meg.fif, _eeg.fif, _ieeg.fif, raw.fif.gz, raw_sss.fif.gz, raw_tsss.fif.gz, _meg.fif.gz, _eeg.fif.gz or _ieeg.fif.gz\n",
      "  eeg_data = mne.io.read_raw_fif(name, preload=True)\n"
     ]
    },
    {
     "name": "stdout",
     "output_type": "stream",
     "text": [
      "Opening raw data file ../SEED_FRA_OUTPUT/POSITIVE/8_2_trial_12_signals.fif...\n",
      "    Range : 2492000 ... 2599000 =   2492.000 ...  2599.000 secs\n",
      "Ready.\n",
      "Reading 0 ... 107000  =      0.000 ...   107.000 secs...\n"
     ]
    },
    {
     "name": "stderr",
     "output_type": "stream",
     "text": [
      "C:\\Users\\marco\\AppData\\Local\\Temp\\ipykernel_6904\\3667833851.py:14: RuntimeWarning: This filename (../SEED_FRA_OUTPUT/POSITIVE/8_2_trial_12_signals.fif) does not conform to MNE naming conventions. All raw files should end with raw.fif, raw_sss.fif, raw_tsss.fif, _meg.fif, _eeg.fif, _ieeg.fif, raw.fif.gz, raw_sss.fif.gz, raw_tsss.fif.gz, _meg.fif.gz, _eeg.fif.gz or _ieeg.fif.gz\n",
      "  eeg_data = mne.io.read_raw_fif(name, preload=True)\n"
     ]
    },
    {
     "name": "stdout",
     "output_type": "stream",
     "text": [
      "Opening raw data file ../SEED_FRA_OUTPUT/POSITIVE/8_2_trial_17_signals.fif...\n",
      "    Range : 3216000 ... 3349000 =   3216.000 ...  3349.000 secs\n",
      "Ready.\n",
      "Reading 0 ... 133000  =      0.000 ...   133.000 secs...\n"
     ]
    },
    {
     "name": "stderr",
     "output_type": "stream",
     "text": [
      "C:\\Users\\marco\\AppData\\Local\\Temp\\ipykernel_6904\\3667833851.py:14: RuntimeWarning: This filename (../SEED_FRA_OUTPUT/POSITIVE/8_2_trial_17_signals.fif) does not conform to MNE naming conventions. All raw files should end with raw.fif, raw_sss.fif, raw_tsss.fif, _meg.fif, _eeg.fif, _ieeg.fif, raw.fif.gz, raw_sss.fif.gz, raw_tsss.fif.gz, _meg.fif.gz, _eeg.fif.gz or _ieeg.fif.gz\n",
      "  eeg_data = mne.io.read_raw_fif(name, preload=True)\n"
     ]
    },
    {
     "name": "stdout",
     "output_type": "stream",
     "text": [
      "Opening raw data file ../SEED_FRA_OUTPUT/POSITIVE/8_2_trial_20_signals.fif...\n",
      "    Range : 3622000 ... 3797000 =   3622.000 ...  3797.000 secs\n",
      "Ready.\n",
      "Reading 0 ... 175000  =      0.000 ...   175.000 secs...\n"
     ]
    },
    {
     "name": "stderr",
     "output_type": "stream",
     "text": [
      "C:\\Users\\marco\\AppData\\Local\\Temp\\ipykernel_6904\\3667833851.py:14: RuntimeWarning: This filename (../SEED_FRA_OUTPUT/POSITIVE/8_2_trial_20_signals.fif) does not conform to MNE naming conventions. All raw files should end with raw.fif, raw_sss.fif, raw_tsss.fif, _meg.fif, _eeg.fif, _ieeg.fif, raw.fif.gz, raw_sss.fif.gz, raw_tsss.fif.gz, _meg.fif.gz, _eeg.fif.gz or _ieeg.fif.gz\n",
      "  eeg_data = mne.io.read_raw_fif(name, preload=True)\n"
     ]
    },
    {
     "name": "stdout",
     "output_type": "stream",
     "text": [
      "Opening raw data file ../SEED_FRA_OUTPUT/POSITIVE/8_2_trial_4_signals.fif...\n",
      "    Range : 982000 ... 1082000 =    982.000 ...  1082.000 secs\n",
      "Ready.\n",
      "Reading 0 ... 100000  =      0.000 ...   100.000 secs...\n"
     ]
    },
    {
     "name": "stderr",
     "output_type": "stream",
     "text": [
      "C:\\Users\\marco\\AppData\\Local\\Temp\\ipykernel_6904\\3667833851.py:14: RuntimeWarning: This filename (../SEED_FRA_OUTPUT/POSITIVE/8_2_trial_4_signals.fif) does not conform to MNE naming conventions. All raw files should end with raw.fif, raw_sss.fif, raw_tsss.fif, _meg.fif, _eeg.fif, _ieeg.fif, raw.fif.gz, raw_sss.fif.gz, raw_tsss.fif.gz, _meg.fif.gz, _eeg.fif.gz or _ieeg.fif.gz\n",
      "  eeg_data = mne.io.read_raw_fif(name, preload=True)\n"
     ]
    },
    {
     "name": "stdout",
     "output_type": "stream",
     "text": [
      "Opening raw data file ../SEED_FRA_OUTPUT/POSITIVE/8_2_trial_8_signals.fif...\n",
      "    Range : 1738000 ... 1867000 =   1738.000 ...  1867.000 secs\n",
      "Ready.\n",
      "Reading 0 ... 129000  =      0.000 ...   129.000 secs...\n"
     ]
    },
    {
     "name": "stderr",
     "output_type": "stream",
     "text": [
      "C:\\Users\\marco\\AppData\\Local\\Temp\\ipykernel_6904\\3667833851.py:14: RuntimeWarning: This filename (../SEED_FRA_OUTPUT/POSITIVE/8_2_trial_8_signals.fif) does not conform to MNE naming conventions. All raw files should end with raw.fif, raw_sss.fif, raw_tsss.fif, _meg.fif, _eeg.fif, _ieeg.fif, raw.fif.gz, raw_sss.fif.gz, raw_tsss.fif.gz, _meg.fif.gz, _eeg.fif.gz or _ieeg.fif.gz\n",
      "  eeg_data = mne.io.read_raw_fif(name, preload=True)\n"
     ]
    },
    {
     "name": "stdout",
     "output_type": "stream",
     "text": [
      "Opening raw data file ../SEED_FRA_OUTPUT/POSITIVE/8_3_trial_0_signals.fif...\n",
      "    Range : 21000 ... 193000 =     21.000 ...   193.000 secs\n",
      "Ready.\n",
      "Reading 0 ... 172000  =      0.000 ...   172.000 secs...\n"
     ]
    },
    {
     "name": "stderr",
     "output_type": "stream",
     "text": [
      "C:\\Users\\marco\\AppData\\Local\\Temp\\ipykernel_6904\\3667833851.py:14: RuntimeWarning: This filename (../SEED_FRA_OUTPUT/POSITIVE/8_3_trial_0_signals.fif) does not conform to MNE naming conventions. All raw files should end with raw.fif, raw_sss.fif, raw_tsss.fif, _meg.fif, _eeg.fif, _ieeg.fif, raw.fif.gz, raw_sss.fif.gz, raw_tsss.fif.gz, _meg.fif.gz, _eeg.fif.gz or _ieeg.fif.gz\n",
      "  eeg_data = mne.io.read_raw_fif(name, preload=True)\n"
     ]
    },
    {
     "name": "stdout",
     "output_type": "stream",
     "text": [
      "Opening raw data file ../SEED_FRA_OUTPUT/POSITIVE/8_3_trial_11_signals.fif...\n",
      "    Range : 2327000 ... 2471000 =   2327.000 ...  2471.000 secs\n",
      "Ready.\n",
      "Reading 0 ... 144000  =      0.000 ...   144.000 secs...\n"
     ]
    },
    {
     "name": "stderr",
     "output_type": "stream",
     "text": [
      "C:\\Users\\marco\\AppData\\Local\\Temp\\ipykernel_6904\\3667833851.py:14: RuntimeWarning: This filename (../SEED_FRA_OUTPUT/POSITIVE/8_3_trial_11_signals.fif) does not conform to MNE naming conventions. All raw files should end with raw.fif, raw_sss.fif, raw_tsss.fif, _meg.fif, _eeg.fif, _ieeg.fif, raw.fif.gz, raw_sss.fif.gz, raw_tsss.fif.gz, _meg.fif.gz, _eeg.fif.gz or _ieeg.fif.gz\n",
      "  eeg_data = mne.io.read_raw_fif(name, preload=True)\n"
     ]
    },
    {
     "name": "stdout",
     "output_type": "stream",
     "text": [
      "Opening raw data file ../SEED_FRA_OUTPUT/POSITIVE/8_3_trial_12_signals.fif...\n",
      "    Range : 2492000 ... 2599000 =   2492.000 ...  2599.000 secs\n",
      "Ready.\n",
      "Reading 0 ... 107000  =      0.000 ...   107.000 secs...\n"
     ]
    },
    {
     "name": "stderr",
     "output_type": "stream",
     "text": [
      "C:\\Users\\marco\\AppData\\Local\\Temp\\ipykernel_6904\\3667833851.py:14: RuntimeWarning: This filename (../SEED_FRA_OUTPUT/POSITIVE/8_3_trial_12_signals.fif) does not conform to MNE naming conventions. All raw files should end with raw.fif, raw_sss.fif, raw_tsss.fif, _meg.fif, _eeg.fif, _ieeg.fif, raw.fif.gz, raw_sss.fif.gz, raw_tsss.fif.gz, _meg.fif.gz, _eeg.fif.gz or _ieeg.fif.gz\n",
      "  eeg_data = mne.io.read_raw_fif(name, preload=True)\n"
     ]
    },
    {
     "name": "stdout",
     "output_type": "stream",
     "text": [
      "Opening raw data file ../SEED_FRA_OUTPUT/POSITIVE/8_3_trial_17_signals.fif...\n",
      "    Range : 3216000 ... 3349000 =   3216.000 ...  3349.000 secs\n",
      "Ready.\n",
      "Reading 0 ... 133000  =      0.000 ...   133.000 secs...\n"
     ]
    },
    {
     "name": "stderr",
     "output_type": "stream",
     "text": [
      "C:\\Users\\marco\\AppData\\Local\\Temp\\ipykernel_6904\\3667833851.py:14: RuntimeWarning: This filename (../SEED_FRA_OUTPUT/POSITIVE/8_3_trial_17_signals.fif) does not conform to MNE naming conventions. All raw files should end with raw.fif, raw_sss.fif, raw_tsss.fif, _meg.fif, _eeg.fif, _ieeg.fif, raw.fif.gz, raw_sss.fif.gz, raw_tsss.fif.gz, _meg.fif.gz, _eeg.fif.gz or _ieeg.fif.gz\n",
      "  eeg_data = mne.io.read_raw_fif(name, preload=True)\n"
     ]
    },
    {
     "name": "stdout",
     "output_type": "stream",
     "text": [
      "Opening raw data file ../SEED_FRA_OUTPUT/POSITIVE/8_3_trial_20_signals.fif...\n",
      "    Range : 3622000 ... 3797000 =   3622.000 ...  3797.000 secs\n",
      "Ready.\n",
      "Reading 0 ... 175000  =      0.000 ...   175.000 secs...\n"
     ]
    },
    {
     "name": "stderr",
     "output_type": "stream",
     "text": [
      "C:\\Users\\marco\\AppData\\Local\\Temp\\ipykernel_6904\\3667833851.py:14: RuntimeWarning: This filename (../SEED_FRA_OUTPUT/POSITIVE/8_3_trial_20_signals.fif) does not conform to MNE naming conventions. All raw files should end with raw.fif, raw_sss.fif, raw_tsss.fif, _meg.fif, _eeg.fif, _ieeg.fif, raw.fif.gz, raw_sss.fif.gz, raw_tsss.fif.gz, _meg.fif.gz, _eeg.fif.gz or _ieeg.fif.gz\n",
      "  eeg_data = mne.io.read_raw_fif(name, preload=True)\n"
     ]
    },
    {
     "name": "stdout",
     "output_type": "stream",
     "text": [
      "Opening raw data file ../SEED_FRA_OUTPUT/POSITIVE/8_3_trial_4_signals.fif...\n",
      "    Range : 982000 ... 1082000 =    982.000 ...  1082.000 secs\n",
      "Ready.\n",
      "Reading 0 ... 100000  =      0.000 ...   100.000 secs...\n"
     ]
    },
    {
     "name": "stderr",
     "output_type": "stream",
     "text": [
      "C:\\Users\\marco\\AppData\\Local\\Temp\\ipykernel_6904\\3667833851.py:14: RuntimeWarning: This filename (../SEED_FRA_OUTPUT/POSITIVE/8_3_trial_4_signals.fif) does not conform to MNE naming conventions. All raw files should end with raw.fif, raw_sss.fif, raw_tsss.fif, _meg.fif, _eeg.fif, _ieeg.fif, raw.fif.gz, raw_sss.fif.gz, raw_tsss.fif.gz, _meg.fif.gz, _eeg.fif.gz or _ieeg.fif.gz\n",
      "  eeg_data = mne.io.read_raw_fif(name, preload=True)\n"
     ]
    },
    {
     "name": "stdout",
     "output_type": "stream",
     "text": [
      "Opening raw data file ../SEED_FRA_OUTPUT/POSITIVE/8_3_trial_8_signals.fif...\n",
      "    Range : 1738000 ... 1867000 =   1738.000 ...  1867.000 secs\n",
      "Ready.\n",
      "Reading 0 ... 129000  =      0.000 ...   129.000 secs...\n"
     ]
    },
    {
     "name": "stderr",
     "output_type": "stream",
     "text": [
      "C:\\Users\\marco\\AppData\\Local\\Temp\\ipykernel_6904\\3667833851.py:14: RuntimeWarning: This filename (../SEED_FRA_OUTPUT/POSITIVE/8_3_trial_8_signals.fif) does not conform to MNE naming conventions. All raw files should end with raw.fif, raw_sss.fif, raw_tsss.fif, _meg.fif, _eeg.fif, _ieeg.fif, raw.fif.gz, raw_sss.fif.gz, raw_tsss.fif.gz, _meg.fif.gz, _eeg.fif.gz or _ieeg.fif.gz\n",
      "  eeg_data = mne.io.read_raw_fif(name, preload=True)\n"
     ]
    },
    {
     "name": "stdout",
     "output_type": "stream",
     "text": [
      "Opening raw data file ../SEED_FRA_OUTPUT/NEGATIVE/1_1_trial_14_signals.fif...\n",
      "    Range : 2783000 ... 2910000 =   2783.000 ...  2910.000 secs\n",
      "Ready.\n",
      "Reading 0 ... 127000  =      0.000 ...   127.000 secs...\n"
     ]
    },
    {
     "name": "stderr",
     "output_type": "stream",
     "text": [
      "C:\\Users\\marco\\AppData\\Local\\Temp\\ipykernel_6904\\3667833851.py:14: RuntimeWarning: This filename (../SEED_FRA_OUTPUT/NEGATIVE/1_1_trial_14_signals.fif) does not conform to MNE naming conventions. All raw files should end with raw.fif, raw_sss.fif, raw_tsss.fif, _meg.fif, _eeg.fif, _ieeg.fif, raw.fif.gz, raw_sss.fif.gz, raw_tsss.fif.gz, _meg.fif.gz, _eeg.fif.gz or _ieeg.fif.gz\n",
      "  eeg_data = mne.io.read_raw_fif(name, preload=True)\n"
     ]
    },
    {
     "name": "stdout",
     "output_type": "stream",
     "text": [
      "Opening raw data file ../SEED_FRA_OUTPUT/NEGATIVE/1_1_trial_15_signals.fif...\n",
      "    Range : 2931000 ... 3008000 =   2931.000 ...  3008.000 secs\n",
      "Ready.\n",
      "Reading 0 ... 77000  =      0.000 ...    77.000 secs...\n"
     ]
    },
    {
     "name": "stderr",
     "output_type": "stream",
     "text": [
      "C:\\Users\\marco\\AppData\\Local\\Temp\\ipykernel_6904\\3667833851.py:14: RuntimeWarning: This filename (../SEED_FRA_OUTPUT/NEGATIVE/1_1_trial_15_signals.fif) does not conform to MNE naming conventions. All raw files should end with raw.fif, raw_sss.fif, raw_tsss.fif, _meg.fif, _eeg.fif, _ieeg.fif, raw.fif.gz, raw_sss.fif.gz, raw_tsss.fif.gz, _meg.fif.gz, _eeg.fif.gz or _ieeg.fif.gz\n",
      "  eeg_data = mne.io.read_raw_fif(name, preload=True)\n"
     ]
    },
    {
     "name": "stdout",
     "output_type": "stream",
     "text": [
      "Opening raw data file ../SEED_FRA_OUTPUT/NEGATIVE/1_1_trial_18_signals.fif...\n",
      "    Range : 3369000 ... 3495000 =   3369.000 ...  3495.000 secs\n",
      "Ready.\n",
      "Reading 0 ... 126000  =      0.000 ...   126.000 secs...\n"
     ]
    },
    {
     "name": "stderr",
     "output_type": "stream",
     "text": [
      "C:\\Users\\marco\\AppData\\Local\\Temp\\ipykernel_6904\\3667833851.py:14: RuntimeWarning: This filename (../SEED_FRA_OUTPUT/NEGATIVE/1_1_trial_18_signals.fif) does not conform to MNE naming conventions. All raw files should end with raw.fif, raw_sss.fif, raw_tsss.fif, _meg.fif, _eeg.fif, _ieeg.fif, raw.fif.gz, raw_sss.fif.gz, raw_tsss.fif.gz, _meg.fif.gz, _eeg.fif.gz or _ieeg.fif.gz\n",
      "  eeg_data = mne.io.read_raw_fif(name, preload=True)\n"
     ]
    },
    {
     "name": "stdout",
     "output_type": "stream",
     "text": [
      "Opening raw data file ../SEED_FRA_OUTPUT/NEGATIVE/1_1_trial_1_signals.fif...\n",
      "    Range : 213000 ... 468000 =    213.000 ...   468.000 secs\n",
      "Ready.\n",
      "Reading 0 ... 255000  =      0.000 ...   255.000 secs...\n"
     ]
    },
    {
     "name": "stderr",
     "output_type": "stream",
     "text": [
      "C:\\Users\\marco\\AppData\\Local\\Temp\\ipykernel_6904\\3667833851.py:14: RuntimeWarning: This filename (../SEED_FRA_OUTPUT/NEGATIVE/1_1_trial_1_signals.fif) does not conform to MNE naming conventions. All raw files should end with raw.fif, raw_sss.fif, raw_tsss.fif, _meg.fif, _eeg.fif, _ieeg.fif, raw.fif.gz, raw_sss.fif.gz, raw_tsss.fif.gz, _meg.fif.gz, _eeg.fif.gz or _ieeg.fif.gz\n",
      "  eeg_data = mne.io.read_raw_fif(name, preload=True)\n"
     ]
    },
    {
     "name": "stdout",
     "output_type": "stream",
     "text": [
      "Opening raw data file ../SEED_FRA_OUTPUT/NEGATIVE/1_1_trial_3_signals.fif...\n",
      "    Range : 687000 ... 962000 =    687.000 ...   962.000 secs\n",
      "Ready.\n",
      "Reading 0 ... 275000  =      0.000 ...   275.000 secs...\n"
     ]
    },
    {
     "name": "stderr",
     "output_type": "stream",
     "text": [
      "C:\\Users\\marco\\AppData\\Local\\Temp\\ipykernel_6904\\3667833851.py:14: RuntimeWarning: This filename (../SEED_FRA_OUTPUT/NEGATIVE/1_1_trial_3_signals.fif) does not conform to MNE naming conventions. All raw files should end with raw.fif, raw_sss.fif, raw_tsss.fif, _meg.fif, _eeg.fif, _ieeg.fif, raw.fif.gz, raw_sss.fif.gz, raw_tsss.fif.gz, _meg.fif.gz, _eeg.fif.gz or _ieeg.fif.gz\n",
      "  eeg_data = mne.io.read_raw_fif(name, preload=True)\n"
     ]
    },
    {
     "name": "stdout",
     "output_type": "stream",
     "text": [
      "Opening raw data file ../SEED_FRA_OUTPUT/NEGATIVE/1_1_trial_6_signals.fif...\n",
      "    Range : 1252000 ... 1552000 =   1252.000 ...  1552.000 secs\n",
      "Ready.\n",
      "Reading 0 ... 300000  =      0.000 ...   300.000 secs...\n"
     ]
    },
    {
     "name": "stderr",
     "output_type": "stream",
     "text": [
      "C:\\Users\\marco\\AppData\\Local\\Temp\\ipykernel_6904\\3667833851.py:14: RuntimeWarning: This filename (../SEED_FRA_OUTPUT/NEGATIVE/1_1_trial_6_signals.fif) does not conform to MNE naming conventions. All raw files should end with raw.fif, raw_sss.fif, raw_tsss.fif, _meg.fif, _eeg.fif, _ieeg.fif, raw.fif.gz, raw_sss.fif.gz, raw_tsss.fif.gz, _meg.fif.gz, _eeg.fif.gz or _ieeg.fif.gz\n",
      "  eeg_data = mne.io.read_raw_fif(name, preload=True)\n"
     ]
    },
    {
     "name": "stdout",
     "output_type": "stream",
     "text": [
      "Opening raw data file ../SEED_FRA_OUTPUT/NEGATIVE/1_1_trial_9_signals.fif...\n",
      "    Range : 1887000 ... 2154000 =   1887.000 ...  2154.000 secs\n",
      "Ready.\n",
      "Reading 0 ... 267000  =      0.000 ...   267.000 secs...\n"
     ]
    },
    {
     "name": "stderr",
     "output_type": "stream",
     "text": [
      "C:\\Users\\marco\\AppData\\Local\\Temp\\ipykernel_6904\\3667833851.py:14: RuntimeWarning: This filename (../SEED_FRA_OUTPUT/NEGATIVE/1_1_trial_9_signals.fif) does not conform to MNE naming conventions. All raw files should end with raw.fif, raw_sss.fif, raw_tsss.fif, _meg.fif, _eeg.fif, _ieeg.fif, raw.fif.gz, raw_sss.fif.gz, raw_tsss.fif.gz, _meg.fif.gz, _eeg.fif.gz or _ieeg.fif.gz\n",
      "  eeg_data = mne.io.read_raw_fif(name, preload=True)\n"
     ]
    },
    {
     "name": "stdout",
     "output_type": "stream",
     "text": [
      "Opening raw data file ../SEED_FRA_OUTPUT/NEGATIVE/1_2_trial_14_signals.fif...\n",
      "    Range : 2783000 ... 2910000 =   2783.000 ...  2910.000 secs\n",
      "Ready.\n",
      "Reading 0 ... 127000  =      0.000 ...   127.000 secs...\n"
     ]
    },
    {
     "name": "stderr",
     "output_type": "stream",
     "text": [
      "C:\\Users\\marco\\AppData\\Local\\Temp\\ipykernel_6904\\3667833851.py:14: RuntimeWarning: This filename (../SEED_FRA_OUTPUT/NEGATIVE/1_2_trial_14_signals.fif) does not conform to MNE naming conventions. All raw files should end with raw.fif, raw_sss.fif, raw_tsss.fif, _meg.fif, _eeg.fif, _ieeg.fif, raw.fif.gz, raw_sss.fif.gz, raw_tsss.fif.gz, _meg.fif.gz, _eeg.fif.gz or _ieeg.fif.gz\n",
      "  eeg_data = mne.io.read_raw_fif(name, preload=True)\n"
     ]
    },
    {
     "name": "stdout",
     "output_type": "stream",
     "text": [
      "Opening raw data file ../SEED_FRA_OUTPUT/NEGATIVE/1_2_trial_15_signals.fif...\n",
      "    Range : 2931000 ... 3008000 =   2931.000 ...  3008.000 secs\n",
      "Ready.\n",
      "Reading 0 ... 77000  =      0.000 ...    77.000 secs...\n"
     ]
    },
    {
     "name": "stderr",
     "output_type": "stream",
     "text": [
      "C:\\Users\\marco\\AppData\\Local\\Temp\\ipykernel_6904\\3667833851.py:14: RuntimeWarning: This filename (../SEED_FRA_OUTPUT/NEGATIVE/1_2_trial_15_signals.fif) does not conform to MNE naming conventions. All raw files should end with raw.fif, raw_sss.fif, raw_tsss.fif, _meg.fif, _eeg.fif, _ieeg.fif, raw.fif.gz, raw_sss.fif.gz, raw_tsss.fif.gz, _meg.fif.gz, _eeg.fif.gz or _ieeg.fif.gz\n",
      "  eeg_data = mne.io.read_raw_fif(name, preload=True)\n"
     ]
    },
    {
     "name": "stdout",
     "output_type": "stream",
     "text": [
      "Opening raw data file ../SEED_FRA_OUTPUT/NEGATIVE/1_2_trial_18_signals.fif...\n",
      "    Range : 3369000 ... 3495000 =   3369.000 ...  3495.000 secs\n",
      "Ready.\n",
      "Reading 0 ... 126000  =      0.000 ...   126.000 secs...\n"
     ]
    },
    {
     "name": "stderr",
     "output_type": "stream",
     "text": [
      "C:\\Users\\marco\\AppData\\Local\\Temp\\ipykernel_6904\\3667833851.py:14: RuntimeWarning: This filename (../SEED_FRA_OUTPUT/NEGATIVE/1_2_trial_18_signals.fif) does not conform to MNE naming conventions. All raw files should end with raw.fif, raw_sss.fif, raw_tsss.fif, _meg.fif, _eeg.fif, _ieeg.fif, raw.fif.gz, raw_sss.fif.gz, raw_tsss.fif.gz, _meg.fif.gz, _eeg.fif.gz or _ieeg.fif.gz\n",
      "  eeg_data = mne.io.read_raw_fif(name, preload=True)\n"
     ]
    },
    {
     "name": "stdout",
     "output_type": "stream",
     "text": [
      "Opening raw data file ../SEED_FRA_OUTPUT/NEGATIVE/1_2_trial_1_signals.fif...\n",
      "    Range : 213000 ... 468000 =    213.000 ...   468.000 secs\n",
      "Ready.\n",
      "Reading 0 ... 255000  =      0.000 ...   255.000 secs...\n"
     ]
    },
    {
     "name": "stderr",
     "output_type": "stream",
     "text": [
      "C:\\Users\\marco\\AppData\\Local\\Temp\\ipykernel_6904\\3667833851.py:14: RuntimeWarning: This filename (../SEED_FRA_OUTPUT/NEGATIVE/1_2_trial_1_signals.fif) does not conform to MNE naming conventions. All raw files should end with raw.fif, raw_sss.fif, raw_tsss.fif, _meg.fif, _eeg.fif, _ieeg.fif, raw.fif.gz, raw_sss.fif.gz, raw_tsss.fif.gz, _meg.fif.gz, _eeg.fif.gz or _ieeg.fif.gz\n",
      "  eeg_data = mne.io.read_raw_fif(name, preload=True)\n"
     ]
    },
    {
     "name": "stdout",
     "output_type": "stream",
     "text": [
      "Opening raw data file ../SEED_FRA_OUTPUT/NEGATIVE/1_2_trial_3_signals.fif...\n",
      "    Range : 687000 ... 962000 =    687.000 ...   962.000 secs\n",
      "Ready.\n",
      "Reading 0 ... 275000  =      0.000 ...   275.000 secs...\n"
     ]
    },
    {
     "name": "stderr",
     "output_type": "stream",
     "text": [
      "C:\\Users\\marco\\AppData\\Local\\Temp\\ipykernel_6904\\3667833851.py:14: RuntimeWarning: This filename (../SEED_FRA_OUTPUT/NEGATIVE/1_2_trial_3_signals.fif) does not conform to MNE naming conventions. All raw files should end with raw.fif, raw_sss.fif, raw_tsss.fif, _meg.fif, _eeg.fif, _ieeg.fif, raw.fif.gz, raw_sss.fif.gz, raw_tsss.fif.gz, _meg.fif.gz, _eeg.fif.gz or _ieeg.fif.gz\n",
      "  eeg_data = mne.io.read_raw_fif(name, preload=True)\n"
     ]
    },
    {
     "name": "stdout",
     "output_type": "stream",
     "text": [
      "Opening raw data file ../SEED_FRA_OUTPUT/NEGATIVE/1_2_trial_6_signals.fif...\n",
      "    Range : 1252000 ... 1552000 =   1252.000 ...  1552.000 secs\n",
      "Ready.\n",
      "Reading 0 ... 300000  =      0.000 ...   300.000 secs...\n"
     ]
    },
    {
     "name": "stderr",
     "output_type": "stream",
     "text": [
      "C:\\Users\\marco\\AppData\\Local\\Temp\\ipykernel_6904\\3667833851.py:14: RuntimeWarning: This filename (../SEED_FRA_OUTPUT/NEGATIVE/1_2_trial_6_signals.fif) does not conform to MNE naming conventions. All raw files should end with raw.fif, raw_sss.fif, raw_tsss.fif, _meg.fif, _eeg.fif, _ieeg.fif, raw.fif.gz, raw_sss.fif.gz, raw_tsss.fif.gz, _meg.fif.gz, _eeg.fif.gz or _ieeg.fif.gz\n",
      "  eeg_data = mne.io.read_raw_fif(name, preload=True)\n"
     ]
    },
    {
     "name": "stdout",
     "output_type": "stream",
     "text": [
      "Opening raw data file ../SEED_FRA_OUTPUT/NEGATIVE/1_2_trial_9_signals.fif...\n",
      "    Range : 1887000 ... 2154000 =   1887.000 ...  2154.000 secs\n",
      "Ready.\n",
      "Reading 0 ... 267000  =      0.000 ...   267.000 secs...\n"
     ]
    },
    {
     "name": "stderr",
     "output_type": "stream",
     "text": [
      "C:\\Users\\marco\\AppData\\Local\\Temp\\ipykernel_6904\\3667833851.py:14: RuntimeWarning: This filename (../SEED_FRA_OUTPUT/NEGATIVE/1_2_trial_9_signals.fif) does not conform to MNE naming conventions. All raw files should end with raw.fif, raw_sss.fif, raw_tsss.fif, _meg.fif, _eeg.fif, _ieeg.fif, raw.fif.gz, raw_sss.fif.gz, raw_tsss.fif.gz, _meg.fif.gz, _eeg.fif.gz or _ieeg.fif.gz\n",
      "  eeg_data = mne.io.read_raw_fif(name, preload=True)\n"
     ]
    },
    {
     "name": "stdout",
     "output_type": "stream",
     "text": [
      "Opening raw data file ../SEED_FRA_OUTPUT/NEGATIVE/1_3_trial_14_signals.fif...\n",
      "    Range : 2783000 ... 2910000 =   2783.000 ...  2910.000 secs\n",
      "Ready.\n",
      "Reading 0 ... 127000  =      0.000 ...   127.000 secs...\n"
     ]
    },
    {
     "name": "stderr",
     "output_type": "stream",
     "text": [
      "C:\\Users\\marco\\AppData\\Local\\Temp\\ipykernel_6904\\3667833851.py:14: RuntimeWarning: This filename (../SEED_FRA_OUTPUT/NEGATIVE/1_3_trial_14_signals.fif) does not conform to MNE naming conventions. All raw files should end with raw.fif, raw_sss.fif, raw_tsss.fif, _meg.fif, _eeg.fif, _ieeg.fif, raw.fif.gz, raw_sss.fif.gz, raw_tsss.fif.gz, _meg.fif.gz, _eeg.fif.gz or _ieeg.fif.gz\n",
      "  eeg_data = mne.io.read_raw_fif(name, preload=True)\n"
     ]
    },
    {
     "name": "stdout",
     "output_type": "stream",
     "text": [
      "Opening raw data file ../SEED_FRA_OUTPUT/NEGATIVE/1_3_trial_15_signals.fif...\n",
      "    Range : 2931000 ... 3008000 =   2931.000 ...  3008.000 secs\n",
      "Ready.\n",
      "Reading 0 ... 77000  =      0.000 ...    77.000 secs...\n"
     ]
    },
    {
     "name": "stderr",
     "output_type": "stream",
     "text": [
      "C:\\Users\\marco\\AppData\\Local\\Temp\\ipykernel_6904\\3667833851.py:14: RuntimeWarning: This filename (../SEED_FRA_OUTPUT/NEGATIVE/1_3_trial_15_signals.fif) does not conform to MNE naming conventions. All raw files should end with raw.fif, raw_sss.fif, raw_tsss.fif, _meg.fif, _eeg.fif, _ieeg.fif, raw.fif.gz, raw_sss.fif.gz, raw_tsss.fif.gz, _meg.fif.gz, _eeg.fif.gz or _ieeg.fif.gz\n",
      "  eeg_data = mne.io.read_raw_fif(name, preload=True)\n"
     ]
    },
    {
     "name": "stdout",
     "output_type": "stream",
     "text": [
      "Opening raw data file ../SEED_FRA_OUTPUT/NEGATIVE/1_3_trial_18_signals.fif...\n",
      "    Range : 3369000 ... 3495000 =   3369.000 ...  3495.000 secs\n",
      "Ready.\n",
      "Reading 0 ... 126000  =      0.000 ...   126.000 secs...\n"
     ]
    },
    {
     "name": "stderr",
     "output_type": "stream",
     "text": [
      "C:\\Users\\marco\\AppData\\Local\\Temp\\ipykernel_6904\\3667833851.py:14: RuntimeWarning: This filename (../SEED_FRA_OUTPUT/NEGATIVE/1_3_trial_18_signals.fif) does not conform to MNE naming conventions. All raw files should end with raw.fif, raw_sss.fif, raw_tsss.fif, _meg.fif, _eeg.fif, _ieeg.fif, raw.fif.gz, raw_sss.fif.gz, raw_tsss.fif.gz, _meg.fif.gz, _eeg.fif.gz or _ieeg.fif.gz\n",
      "  eeg_data = mne.io.read_raw_fif(name, preload=True)\n"
     ]
    },
    {
     "name": "stdout",
     "output_type": "stream",
     "text": [
      "Opening raw data file ../SEED_FRA_OUTPUT/NEGATIVE/1_3_trial_1_signals.fif...\n",
      "    Range : 213000 ... 468000 =    213.000 ...   468.000 secs\n",
      "Ready.\n",
      "Reading 0 ... 255000  =      0.000 ...   255.000 secs...\n"
     ]
    },
    {
     "name": "stderr",
     "output_type": "stream",
     "text": [
      "C:\\Users\\marco\\AppData\\Local\\Temp\\ipykernel_6904\\3667833851.py:14: RuntimeWarning: This filename (../SEED_FRA_OUTPUT/NEGATIVE/1_3_trial_1_signals.fif) does not conform to MNE naming conventions. All raw files should end with raw.fif, raw_sss.fif, raw_tsss.fif, _meg.fif, _eeg.fif, _ieeg.fif, raw.fif.gz, raw_sss.fif.gz, raw_tsss.fif.gz, _meg.fif.gz, _eeg.fif.gz or _ieeg.fif.gz\n",
      "  eeg_data = mne.io.read_raw_fif(name, preload=True)\n"
     ]
    },
    {
     "name": "stdout",
     "output_type": "stream",
     "text": [
      "Opening raw data file ../SEED_FRA_OUTPUT/NEGATIVE/1_3_trial_3_signals.fif...\n",
      "    Range : 687000 ... 962000 =    687.000 ...   962.000 secs\n",
      "Ready.\n",
      "Reading 0 ... 275000  =      0.000 ...   275.000 secs...\n"
     ]
    },
    {
     "name": "stderr",
     "output_type": "stream",
     "text": [
      "C:\\Users\\marco\\AppData\\Local\\Temp\\ipykernel_6904\\3667833851.py:14: RuntimeWarning: This filename (../SEED_FRA_OUTPUT/NEGATIVE/1_3_trial_3_signals.fif) does not conform to MNE naming conventions. All raw files should end with raw.fif, raw_sss.fif, raw_tsss.fif, _meg.fif, _eeg.fif, _ieeg.fif, raw.fif.gz, raw_sss.fif.gz, raw_tsss.fif.gz, _meg.fif.gz, _eeg.fif.gz or _ieeg.fif.gz\n",
      "  eeg_data = mne.io.read_raw_fif(name, preload=True)\n"
     ]
    },
    {
     "name": "stdout",
     "output_type": "stream",
     "text": [
      "Opening raw data file ../SEED_FRA_OUTPUT/NEGATIVE/1_3_trial_6_signals.fif...\n",
      "    Range : 1252000 ... 1552000 =   1252.000 ...  1552.000 secs\n",
      "Ready.\n",
      "Reading 0 ... 300000  =      0.000 ...   300.000 secs...\n"
     ]
    },
    {
     "name": "stderr",
     "output_type": "stream",
     "text": [
      "C:\\Users\\marco\\AppData\\Local\\Temp\\ipykernel_6904\\3667833851.py:14: RuntimeWarning: This filename (../SEED_FRA_OUTPUT/NEGATIVE/1_3_trial_6_signals.fif) does not conform to MNE naming conventions. All raw files should end with raw.fif, raw_sss.fif, raw_tsss.fif, _meg.fif, _eeg.fif, _ieeg.fif, raw.fif.gz, raw_sss.fif.gz, raw_tsss.fif.gz, _meg.fif.gz, _eeg.fif.gz or _ieeg.fif.gz\n",
      "  eeg_data = mne.io.read_raw_fif(name, preload=True)\n"
     ]
    },
    {
     "name": "stdout",
     "output_type": "stream",
     "text": [
      "Opening raw data file ../SEED_FRA_OUTPUT/NEGATIVE/1_3_trial_9_signals.fif...\n",
      "    Range : 1887000 ... 2154000 =   1887.000 ...  2154.000 secs\n",
      "Ready.\n",
      "Reading 0 ... 267000  =      0.000 ...   267.000 secs...\n"
     ]
    },
    {
     "name": "stderr",
     "output_type": "stream",
     "text": [
      "C:\\Users\\marco\\AppData\\Local\\Temp\\ipykernel_6904\\3667833851.py:14: RuntimeWarning: This filename (../SEED_FRA_OUTPUT/NEGATIVE/1_3_trial_9_signals.fif) does not conform to MNE naming conventions. All raw files should end with raw.fif, raw_sss.fif, raw_tsss.fif, _meg.fif, _eeg.fif, _ieeg.fif, raw.fif.gz, raw_sss.fif.gz, raw_tsss.fif.gz, _meg.fif.gz, _eeg.fif.gz or _ieeg.fif.gz\n",
      "  eeg_data = mne.io.read_raw_fif(name, preload=True)\n"
     ]
    },
    {
     "name": "stdout",
     "output_type": "stream",
     "text": [
      "Opening raw data file ../SEED_FRA_OUTPUT/NEGATIVE/2_1_trial_14_signals.fif...\n",
      "    Range : 2783000 ... 2910000 =   2783.000 ...  2910.000 secs\n",
      "Ready.\n",
      "Reading 0 ... 127000  =      0.000 ...   127.000 secs...\n"
     ]
    },
    {
     "name": "stderr",
     "output_type": "stream",
     "text": [
      "C:\\Users\\marco\\AppData\\Local\\Temp\\ipykernel_6904\\3667833851.py:14: RuntimeWarning: This filename (../SEED_FRA_OUTPUT/NEGATIVE/2_1_trial_14_signals.fif) does not conform to MNE naming conventions. All raw files should end with raw.fif, raw_sss.fif, raw_tsss.fif, _meg.fif, _eeg.fif, _ieeg.fif, raw.fif.gz, raw_sss.fif.gz, raw_tsss.fif.gz, _meg.fif.gz, _eeg.fif.gz or _ieeg.fif.gz\n",
      "  eeg_data = mne.io.read_raw_fif(name, preload=True)\n"
     ]
    },
    {
     "name": "stdout",
     "output_type": "stream",
     "text": [
      "Opening raw data file ../SEED_FRA_OUTPUT/NEGATIVE/2_1_trial_15_signals.fif...\n",
      "    Range : 2931000 ... 3008000 =   2931.000 ...  3008.000 secs\n",
      "Ready.\n",
      "Reading 0 ... 77000  =      0.000 ...    77.000 secs...\n"
     ]
    },
    {
     "name": "stderr",
     "output_type": "stream",
     "text": [
      "C:\\Users\\marco\\AppData\\Local\\Temp\\ipykernel_6904\\3667833851.py:14: RuntimeWarning: This filename (../SEED_FRA_OUTPUT/NEGATIVE/2_1_trial_15_signals.fif) does not conform to MNE naming conventions. All raw files should end with raw.fif, raw_sss.fif, raw_tsss.fif, _meg.fif, _eeg.fif, _ieeg.fif, raw.fif.gz, raw_sss.fif.gz, raw_tsss.fif.gz, _meg.fif.gz, _eeg.fif.gz or _ieeg.fif.gz\n",
      "  eeg_data = mne.io.read_raw_fif(name, preload=True)\n"
     ]
    },
    {
     "name": "stdout",
     "output_type": "stream",
     "text": [
      "Opening raw data file ../SEED_FRA_OUTPUT/NEGATIVE/2_1_trial_18_signals.fif...\n",
      "    Range : 3369000 ... 3495000 =   3369.000 ...  3495.000 secs\n",
      "Ready.\n",
      "Reading 0 ... 126000  =      0.000 ...   126.000 secs...\n"
     ]
    },
    {
     "name": "stderr",
     "output_type": "stream",
     "text": [
      "C:\\Users\\marco\\AppData\\Local\\Temp\\ipykernel_6904\\3667833851.py:14: RuntimeWarning: This filename (../SEED_FRA_OUTPUT/NEGATIVE/2_1_trial_18_signals.fif) does not conform to MNE naming conventions. All raw files should end with raw.fif, raw_sss.fif, raw_tsss.fif, _meg.fif, _eeg.fif, _ieeg.fif, raw.fif.gz, raw_sss.fif.gz, raw_tsss.fif.gz, _meg.fif.gz, _eeg.fif.gz or _ieeg.fif.gz\n",
      "  eeg_data = mne.io.read_raw_fif(name, preload=True)\n"
     ]
    },
    {
     "name": "stdout",
     "output_type": "stream",
     "text": [
      "Opening raw data file ../SEED_FRA_OUTPUT/NEGATIVE/2_1_trial_1_signals.fif...\n",
      "    Range : 213000 ... 468000 =    213.000 ...   468.000 secs\n",
      "Ready.\n",
      "Reading 0 ... 255000  =      0.000 ...   255.000 secs...\n"
     ]
    },
    {
     "name": "stderr",
     "output_type": "stream",
     "text": [
      "C:\\Users\\marco\\AppData\\Local\\Temp\\ipykernel_6904\\3667833851.py:14: RuntimeWarning: This filename (../SEED_FRA_OUTPUT/NEGATIVE/2_1_trial_1_signals.fif) does not conform to MNE naming conventions. All raw files should end with raw.fif, raw_sss.fif, raw_tsss.fif, _meg.fif, _eeg.fif, _ieeg.fif, raw.fif.gz, raw_sss.fif.gz, raw_tsss.fif.gz, _meg.fif.gz, _eeg.fif.gz or _ieeg.fif.gz\n",
      "  eeg_data = mne.io.read_raw_fif(name, preload=True)\n"
     ]
    },
    {
     "name": "stdout",
     "output_type": "stream",
     "text": [
      "Opening raw data file ../SEED_FRA_OUTPUT/NEGATIVE/2_1_trial_3_signals.fif...\n",
      "    Range : 687000 ... 962000 =    687.000 ...   962.000 secs\n",
      "Ready.\n",
      "Reading 0 ... 275000  =      0.000 ...   275.000 secs...\n"
     ]
    },
    {
     "name": "stderr",
     "output_type": "stream",
     "text": [
      "C:\\Users\\marco\\AppData\\Local\\Temp\\ipykernel_6904\\3667833851.py:14: RuntimeWarning: This filename (../SEED_FRA_OUTPUT/NEGATIVE/2_1_trial_3_signals.fif) does not conform to MNE naming conventions. All raw files should end with raw.fif, raw_sss.fif, raw_tsss.fif, _meg.fif, _eeg.fif, _ieeg.fif, raw.fif.gz, raw_sss.fif.gz, raw_tsss.fif.gz, _meg.fif.gz, _eeg.fif.gz or _ieeg.fif.gz\n",
      "  eeg_data = mne.io.read_raw_fif(name, preload=True)\n"
     ]
    },
    {
     "name": "stdout",
     "output_type": "stream",
     "text": [
      "Opening raw data file ../SEED_FRA_OUTPUT/NEGATIVE/2_1_trial_6_signals.fif...\n",
      "    Range : 1252000 ... 1552000 =   1252.000 ...  1552.000 secs\n",
      "Ready.\n",
      "Reading 0 ... 300000  =      0.000 ...   300.000 secs...\n"
     ]
    },
    {
     "name": "stderr",
     "output_type": "stream",
     "text": [
      "C:\\Users\\marco\\AppData\\Local\\Temp\\ipykernel_6904\\3667833851.py:14: RuntimeWarning: This filename (../SEED_FRA_OUTPUT/NEGATIVE/2_1_trial_6_signals.fif) does not conform to MNE naming conventions. All raw files should end with raw.fif, raw_sss.fif, raw_tsss.fif, _meg.fif, _eeg.fif, _ieeg.fif, raw.fif.gz, raw_sss.fif.gz, raw_tsss.fif.gz, _meg.fif.gz, _eeg.fif.gz or _ieeg.fif.gz\n",
      "  eeg_data = mne.io.read_raw_fif(name, preload=True)\n"
     ]
    },
    {
     "name": "stdout",
     "output_type": "stream",
     "text": [
      "Opening raw data file ../SEED_FRA_OUTPUT/NEGATIVE/2_1_trial_9_signals.fif...\n",
      "    Range : 1887000 ... 2154000 =   1887.000 ...  2154.000 secs\n",
      "Ready.\n",
      "Reading 0 ... 267000  =      0.000 ...   267.000 secs...\n"
     ]
    },
    {
     "name": "stderr",
     "output_type": "stream",
     "text": [
      "C:\\Users\\marco\\AppData\\Local\\Temp\\ipykernel_6904\\3667833851.py:14: RuntimeWarning: This filename (../SEED_FRA_OUTPUT/NEGATIVE/2_1_trial_9_signals.fif) does not conform to MNE naming conventions. All raw files should end with raw.fif, raw_sss.fif, raw_tsss.fif, _meg.fif, _eeg.fif, _ieeg.fif, raw.fif.gz, raw_sss.fif.gz, raw_tsss.fif.gz, _meg.fif.gz, _eeg.fif.gz or _ieeg.fif.gz\n",
      "  eeg_data = mne.io.read_raw_fif(name, preload=True)\n"
     ]
    },
    {
     "name": "stdout",
     "output_type": "stream",
     "text": [
      "Opening raw data file ../SEED_FRA_OUTPUT/NEGATIVE/2_2_trial_14_signals.fif...\n",
      "    Range : 2783000 ... 2910000 =   2783.000 ...  2910.000 secs\n",
      "Ready.\n",
      "Reading 0 ... 127000  =      0.000 ...   127.000 secs...\n"
     ]
    },
    {
     "name": "stderr",
     "output_type": "stream",
     "text": [
      "C:\\Users\\marco\\AppData\\Local\\Temp\\ipykernel_6904\\3667833851.py:14: RuntimeWarning: This filename (../SEED_FRA_OUTPUT/NEGATIVE/2_2_trial_14_signals.fif) does not conform to MNE naming conventions. All raw files should end with raw.fif, raw_sss.fif, raw_tsss.fif, _meg.fif, _eeg.fif, _ieeg.fif, raw.fif.gz, raw_sss.fif.gz, raw_tsss.fif.gz, _meg.fif.gz, _eeg.fif.gz or _ieeg.fif.gz\n",
      "  eeg_data = mne.io.read_raw_fif(name, preload=True)\n"
     ]
    },
    {
     "name": "stdout",
     "output_type": "stream",
     "text": [
      "Opening raw data file ../SEED_FRA_OUTPUT/NEGATIVE/2_2_trial_15_signals.fif...\n",
      "    Range : 2931000 ... 3008000 =   2931.000 ...  3008.000 secs\n",
      "Ready.\n",
      "Reading 0 ... 77000  =      0.000 ...    77.000 secs...\n"
     ]
    },
    {
     "name": "stderr",
     "output_type": "stream",
     "text": [
      "C:\\Users\\marco\\AppData\\Local\\Temp\\ipykernel_6904\\3667833851.py:14: RuntimeWarning: This filename (../SEED_FRA_OUTPUT/NEGATIVE/2_2_trial_15_signals.fif) does not conform to MNE naming conventions. All raw files should end with raw.fif, raw_sss.fif, raw_tsss.fif, _meg.fif, _eeg.fif, _ieeg.fif, raw.fif.gz, raw_sss.fif.gz, raw_tsss.fif.gz, _meg.fif.gz, _eeg.fif.gz or _ieeg.fif.gz\n",
      "  eeg_data = mne.io.read_raw_fif(name, preload=True)\n"
     ]
    },
    {
     "name": "stdout",
     "output_type": "stream",
     "text": [
      "Opening raw data file ../SEED_FRA_OUTPUT/NEGATIVE/2_2_trial_18_signals.fif...\n",
      "    Range : 3369000 ... 3495000 =   3369.000 ...  3495.000 secs\n",
      "Ready.\n",
      "Reading 0 ... 126000  =      0.000 ...   126.000 secs...\n"
     ]
    },
    {
     "name": "stderr",
     "output_type": "stream",
     "text": [
      "C:\\Users\\marco\\AppData\\Local\\Temp\\ipykernel_6904\\3667833851.py:14: RuntimeWarning: This filename (../SEED_FRA_OUTPUT/NEGATIVE/2_2_trial_18_signals.fif) does not conform to MNE naming conventions. All raw files should end with raw.fif, raw_sss.fif, raw_tsss.fif, _meg.fif, _eeg.fif, _ieeg.fif, raw.fif.gz, raw_sss.fif.gz, raw_tsss.fif.gz, _meg.fif.gz, _eeg.fif.gz or _ieeg.fif.gz\n",
      "  eeg_data = mne.io.read_raw_fif(name, preload=True)\n"
     ]
    },
    {
     "name": "stdout",
     "output_type": "stream",
     "text": [
      "Opening raw data file ../SEED_FRA_OUTPUT/NEGATIVE/2_2_trial_1_signals.fif...\n",
      "    Range : 213000 ... 468000 =    213.000 ...   468.000 secs\n",
      "Ready.\n",
      "Reading 0 ... 255000  =      0.000 ...   255.000 secs...\n"
     ]
    },
    {
     "name": "stderr",
     "output_type": "stream",
     "text": [
      "C:\\Users\\marco\\AppData\\Local\\Temp\\ipykernel_6904\\3667833851.py:14: RuntimeWarning: This filename (../SEED_FRA_OUTPUT/NEGATIVE/2_2_trial_1_signals.fif) does not conform to MNE naming conventions. All raw files should end with raw.fif, raw_sss.fif, raw_tsss.fif, _meg.fif, _eeg.fif, _ieeg.fif, raw.fif.gz, raw_sss.fif.gz, raw_tsss.fif.gz, _meg.fif.gz, _eeg.fif.gz or _ieeg.fif.gz\n",
      "  eeg_data = mne.io.read_raw_fif(name, preload=True)\n"
     ]
    },
    {
     "name": "stdout",
     "output_type": "stream",
     "text": [
      "Opening raw data file ../SEED_FRA_OUTPUT/NEGATIVE/2_2_trial_3_signals.fif...\n",
      "    Range : 687000 ... 962000 =    687.000 ...   962.000 secs\n",
      "Ready.\n",
      "Reading 0 ... 275000  =      0.000 ...   275.000 secs...\n"
     ]
    },
    {
     "name": "stderr",
     "output_type": "stream",
     "text": [
      "C:\\Users\\marco\\AppData\\Local\\Temp\\ipykernel_6904\\3667833851.py:14: RuntimeWarning: This filename (../SEED_FRA_OUTPUT/NEGATIVE/2_2_trial_3_signals.fif) does not conform to MNE naming conventions. All raw files should end with raw.fif, raw_sss.fif, raw_tsss.fif, _meg.fif, _eeg.fif, _ieeg.fif, raw.fif.gz, raw_sss.fif.gz, raw_tsss.fif.gz, _meg.fif.gz, _eeg.fif.gz or _ieeg.fif.gz\n",
      "  eeg_data = mne.io.read_raw_fif(name, preload=True)\n"
     ]
    },
    {
     "name": "stdout",
     "output_type": "stream",
     "text": [
      "Opening raw data file ../SEED_FRA_OUTPUT/NEGATIVE/2_2_trial_6_signals.fif...\n",
      "    Range : 1252000 ... 1552000 =   1252.000 ...  1552.000 secs\n",
      "Ready.\n",
      "Reading 0 ... 300000  =      0.000 ...   300.000 secs...\n"
     ]
    },
    {
     "name": "stderr",
     "output_type": "stream",
     "text": [
      "C:\\Users\\marco\\AppData\\Local\\Temp\\ipykernel_6904\\3667833851.py:14: RuntimeWarning: This filename (../SEED_FRA_OUTPUT/NEGATIVE/2_2_trial_6_signals.fif) does not conform to MNE naming conventions. All raw files should end with raw.fif, raw_sss.fif, raw_tsss.fif, _meg.fif, _eeg.fif, _ieeg.fif, raw.fif.gz, raw_sss.fif.gz, raw_tsss.fif.gz, _meg.fif.gz, _eeg.fif.gz or _ieeg.fif.gz\n",
      "  eeg_data = mne.io.read_raw_fif(name, preload=True)\n"
     ]
    },
    {
     "name": "stdout",
     "output_type": "stream",
     "text": [
      "Opening raw data file ../SEED_FRA_OUTPUT/NEGATIVE/2_2_trial_9_signals.fif...\n",
      "    Range : 1887000 ... 2154000 =   1887.000 ...  2154.000 secs\n",
      "Ready.\n",
      "Reading 0 ... 267000  =      0.000 ...   267.000 secs...\n"
     ]
    },
    {
     "name": "stderr",
     "output_type": "stream",
     "text": [
      "C:\\Users\\marco\\AppData\\Local\\Temp\\ipykernel_6904\\3667833851.py:14: RuntimeWarning: This filename (../SEED_FRA_OUTPUT/NEGATIVE/2_2_trial_9_signals.fif) does not conform to MNE naming conventions. All raw files should end with raw.fif, raw_sss.fif, raw_tsss.fif, _meg.fif, _eeg.fif, _ieeg.fif, raw.fif.gz, raw_sss.fif.gz, raw_tsss.fif.gz, _meg.fif.gz, _eeg.fif.gz or _ieeg.fif.gz\n",
      "  eeg_data = mne.io.read_raw_fif(name, preload=True)\n"
     ]
    },
    {
     "name": "stdout",
     "output_type": "stream",
     "text": [
      "Opening raw data file ../SEED_FRA_OUTPUT/NEGATIVE/2_3_trial_14_signals.fif...\n",
      "    Range : 2783000 ... 2910000 =   2783.000 ...  2910.000 secs\n",
      "Ready.\n",
      "Reading 0 ... 127000  =      0.000 ...   127.000 secs...\n"
     ]
    },
    {
     "name": "stderr",
     "output_type": "stream",
     "text": [
      "C:\\Users\\marco\\AppData\\Local\\Temp\\ipykernel_6904\\3667833851.py:14: RuntimeWarning: This filename (../SEED_FRA_OUTPUT/NEGATIVE/2_3_trial_14_signals.fif) does not conform to MNE naming conventions. All raw files should end with raw.fif, raw_sss.fif, raw_tsss.fif, _meg.fif, _eeg.fif, _ieeg.fif, raw.fif.gz, raw_sss.fif.gz, raw_tsss.fif.gz, _meg.fif.gz, _eeg.fif.gz or _ieeg.fif.gz\n",
      "  eeg_data = mne.io.read_raw_fif(name, preload=True)\n"
     ]
    },
    {
     "name": "stdout",
     "output_type": "stream",
     "text": [
      "Opening raw data file ../SEED_FRA_OUTPUT/NEGATIVE/2_3_trial_15_signals.fif...\n",
      "    Range : 2931000 ... 3008000 =   2931.000 ...  3008.000 secs\n",
      "Ready.\n",
      "Reading 0 ... 77000  =      0.000 ...    77.000 secs...\n"
     ]
    },
    {
     "name": "stderr",
     "output_type": "stream",
     "text": [
      "C:\\Users\\marco\\AppData\\Local\\Temp\\ipykernel_6904\\3667833851.py:14: RuntimeWarning: This filename (../SEED_FRA_OUTPUT/NEGATIVE/2_3_trial_15_signals.fif) does not conform to MNE naming conventions. All raw files should end with raw.fif, raw_sss.fif, raw_tsss.fif, _meg.fif, _eeg.fif, _ieeg.fif, raw.fif.gz, raw_sss.fif.gz, raw_tsss.fif.gz, _meg.fif.gz, _eeg.fif.gz or _ieeg.fif.gz\n",
      "  eeg_data = mne.io.read_raw_fif(name, preload=True)\n"
     ]
    },
    {
     "name": "stdout",
     "output_type": "stream",
     "text": [
      "Opening raw data file ../SEED_FRA_OUTPUT/NEGATIVE/2_3_trial_18_signals.fif...\n",
      "    Range : 3369000 ... 3495000 =   3369.000 ...  3495.000 secs\n",
      "Ready.\n",
      "Reading 0 ... 126000  =      0.000 ...   126.000 secs...\n"
     ]
    },
    {
     "name": "stderr",
     "output_type": "stream",
     "text": [
      "C:\\Users\\marco\\AppData\\Local\\Temp\\ipykernel_6904\\3667833851.py:14: RuntimeWarning: This filename (../SEED_FRA_OUTPUT/NEGATIVE/2_3_trial_18_signals.fif) does not conform to MNE naming conventions. All raw files should end with raw.fif, raw_sss.fif, raw_tsss.fif, _meg.fif, _eeg.fif, _ieeg.fif, raw.fif.gz, raw_sss.fif.gz, raw_tsss.fif.gz, _meg.fif.gz, _eeg.fif.gz or _ieeg.fif.gz\n",
      "  eeg_data = mne.io.read_raw_fif(name, preload=True)\n"
     ]
    },
    {
     "name": "stdout",
     "output_type": "stream",
     "text": [
      "Opening raw data file ../SEED_FRA_OUTPUT/NEGATIVE/2_3_trial_1_signals.fif...\n",
      "    Range : 213000 ... 468000 =    213.000 ...   468.000 secs\n",
      "Ready.\n",
      "Reading 0 ... 255000  =      0.000 ...   255.000 secs...\n"
     ]
    },
    {
     "name": "stderr",
     "output_type": "stream",
     "text": [
      "C:\\Users\\marco\\AppData\\Local\\Temp\\ipykernel_6904\\3667833851.py:14: RuntimeWarning: This filename (../SEED_FRA_OUTPUT/NEGATIVE/2_3_trial_1_signals.fif) does not conform to MNE naming conventions. All raw files should end with raw.fif, raw_sss.fif, raw_tsss.fif, _meg.fif, _eeg.fif, _ieeg.fif, raw.fif.gz, raw_sss.fif.gz, raw_tsss.fif.gz, _meg.fif.gz, _eeg.fif.gz or _ieeg.fif.gz\n",
      "  eeg_data = mne.io.read_raw_fif(name, preload=True)\n"
     ]
    },
    {
     "name": "stdout",
     "output_type": "stream",
     "text": [
      "Opening raw data file ../SEED_FRA_OUTPUT/NEGATIVE/2_3_trial_3_signals.fif...\n",
      "    Range : 687000 ... 962000 =    687.000 ...   962.000 secs\n",
      "Ready.\n",
      "Reading 0 ... 275000  =      0.000 ...   275.000 secs...\n"
     ]
    },
    {
     "name": "stderr",
     "output_type": "stream",
     "text": [
      "C:\\Users\\marco\\AppData\\Local\\Temp\\ipykernel_6904\\3667833851.py:14: RuntimeWarning: This filename (../SEED_FRA_OUTPUT/NEGATIVE/2_3_trial_3_signals.fif) does not conform to MNE naming conventions. All raw files should end with raw.fif, raw_sss.fif, raw_tsss.fif, _meg.fif, _eeg.fif, _ieeg.fif, raw.fif.gz, raw_sss.fif.gz, raw_tsss.fif.gz, _meg.fif.gz, _eeg.fif.gz or _ieeg.fif.gz\n",
      "  eeg_data = mne.io.read_raw_fif(name, preload=True)\n"
     ]
    },
    {
     "name": "stdout",
     "output_type": "stream",
     "text": [
      "Opening raw data file ../SEED_FRA_OUTPUT/NEGATIVE/2_3_trial_6_signals.fif...\n",
      "    Range : 1252000 ... 1552000 =   1252.000 ...  1552.000 secs\n",
      "Ready.\n",
      "Reading 0 ... 300000  =      0.000 ...   300.000 secs...\n"
     ]
    },
    {
     "name": "stderr",
     "output_type": "stream",
     "text": [
      "C:\\Users\\marco\\AppData\\Local\\Temp\\ipykernel_6904\\3667833851.py:14: RuntimeWarning: This filename (../SEED_FRA_OUTPUT/NEGATIVE/2_3_trial_6_signals.fif) does not conform to MNE naming conventions. All raw files should end with raw.fif, raw_sss.fif, raw_tsss.fif, _meg.fif, _eeg.fif, _ieeg.fif, raw.fif.gz, raw_sss.fif.gz, raw_tsss.fif.gz, _meg.fif.gz, _eeg.fif.gz or _ieeg.fif.gz\n",
      "  eeg_data = mne.io.read_raw_fif(name, preload=True)\n"
     ]
    },
    {
     "name": "stdout",
     "output_type": "stream",
     "text": [
      "Opening raw data file ../SEED_FRA_OUTPUT/NEGATIVE/2_3_trial_9_signals.fif...\n",
      "    Range : 1887000 ... 2154000 =   1887.000 ...  2154.000 secs\n",
      "Ready.\n",
      "Reading 0 ... 267000  =      0.000 ...   267.000 secs...\n"
     ]
    },
    {
     "name": "stderr",
     "output_type": "stream",
     "text": [
      "C:\\Users\\marco\\AppData\\Local\\Temp\\ipykernel_6904\\3667833851.py:14: RuntimeWarning: This filename (../SEED_FRA_OUTPUT/NEGATIVE/2_3_trial_9_signals.fif) does not conform to MNE naming conventions. All raw files should end with raw.fif, raw_sss.fif, raw_tsss.fif, _meg.fif, _eeg.fif, _ieeg.fif, raw.fif.gz, raw_sss.fif.gz, raw_tsss.fif.gz, _meg.fif.gz, _eeg.fif.gz or _ieeg.fif.gz\n",
      "  eeg_data = mne.io.read_raw_fif(name, preload=True)\n"
     ]
    },
    {
     "name": "stdout",
     "output_type": "stream",
     "text": [
      "Opening raw data file ../SEED_FRA_OUTPUT/NEGATIVE/3_1_trial_14_signals.fif...\n",
      "    Range : 2783000 ... 2910000 =   2783.000 ...  2910.000 secs\n",
      "Ready.\n",
      "Reading 0 ... 127000  =      0.000 ...   127.000 secs...\n"
     ]
    },
    {
     "name": "stderr",
     "output_type": "stream",
     "text": [
      "C:\\Users\\marco\\AppData\\Local\\Temp\\ipykernel_6904\\3667833851.py:14: RuntimeWarning: This filename (../SEED_FRA_OUTPUT/NEGATIVE/3_1_trial_14_signals.fif) does not conform to MNE naming conventions. All raw files should end with raw.fif, raw_sss.fif, raw_tsss.fif, _meg.fif, _eeg.fif, _ieeg.fif, raw.fif.gz, raw_sss.fif.gz, raw_tsss.fif.gz, _meg.fif.gz, _eeg.fif.gz or _ieeg.fif.gz\n",
      "  eeg_data = mne.io.read_raw_fif(name, preload=True)\n"
     ]
    },
    {
     "name": "stdout",
     "output_type": "stream",
     "text": [
      "Opening raw data file ../SEED_FRA_OUTPUT/NEGATIVE/3_1_trial_15_signals.fif...\n",
      "    Range : 2931000 ... 3008000 =   2931.000 ...  3008.000 secs\n",
      "Ready.\n",
      "Reading 0 ... 77000  =      0.000 ...    77.000 secs...\n"
     ]
    },
    {
     "name": "stderr",
     "output_type": "stream",
     "text": [
      "C:\\Users\\marco\\AppData\\Local\\Temp\\ipykernel_6904\\3667833851.py:14: RuntimeWarning: This filename (../SEED_FRA_OUTPUT/NEGATIVE/3_1_trial_15_signals.fif) does not conform to MNE naming conventions. All raw files should end with raw.fif, raw_sss.fif, raw_tsss.fif, _meg.fif, _eeg.fif, _ieeg.fif, raw.fif.gz, raw_sss.fif.gz, raw_tsss.fif.gz, _meg.fif.gz, _eeg.fif.gz or _ieeg.fif.gz\n",
      "  eeg_data = mne.io.read_raw_fif(name, preload=True)\n"
     ]
    },
    {
     "name": "stdout",
     "output_type": "stream",
     "text": [
      "Opening raw data file ../SEED_FRA_OUTPUT/NEGATIVE/3_1_trial_18_signals.fif...\n",
      "    Range : 3369000 ... 3495000 =   3369.000 ...  3495.000 secs\n",
      "Ready.\n",
      "Reading 0 ... 126000  =      0.000 ...   126.000 secs...\n"
     ]
    },
    {
     "name": "stderr",
     "output_type": "stream",
     "text": [
      "C:\\Users\\marco\\AppData\\Local\\Temp\\ipykernel_6904\\3667833851.py:14: RuntimeWarning: This filename (../SEED_FRA_OUTPUT/NEGATIVE/3_1_trial_18_signals.fif) does not conform to MNE naming conventions. All raw files should end with raw.fif, raw_sss.fif, raw_tsss.fif, _meg.fif, _eeg.fif, _ieeg.fif, raw.fif.gz, raw_sss.fif.gz, raw_tsss.fif.gz, _meg.fif.gz, _eeg.fif.gz or _ieeg.fif.gz\n",
      "  eeg_data = mne.io.read_raw_fif(name, preload=True)\n"
     ]
    },
    {
     "name": "stdout",
     "output_type": "stream",
     "text": [
      "Opening raw data file ../SEED_FRA_OUTPUT/NEGATIVE/3_1_trial_1_signals.fif...\n",
      "    Range : 213000 ... 468000 =    213.000 ...   468.000 secs\n",
      "Ready.\n",
      "Reading 0 ... 255000  =      0.000 ...   255.000 secs...\n"
     ]
    },
    {
     "name": "stderr",
     "output_type": "stream",
     "text": [
      "C:\\Users\\marco\\AppData\\Local\\Temp\\ipykernel_6904\\3667833851.py:14: RuntimeWarning: This filename (../SEED_FRA_OUTPUT/NEGATIVE/3_1_trial_1_signals.fif) does not conform to MNE naming conventions. All raw files should end with raw.fif, raw_sss.fif, raw_tsss.fif, _meg.fif, _eeg.fif, _ieeg.fif, raw.fif.gz, raw_sss.fif.gz, raw_tsss.fif.gz, _meg.fif.gz, _eeg.fif.gz or _ieeg.fif.gz\n",
      "  eeg_data = mne.io.read_raw_fif(name, preload=True)\n"
     ]
    },
    {
     "name": "stdout",
     "output_type": "stream",
     "text": [
      "Opening raw data file ../SEED_FRA_OUTPUT/NEGATIVE/3_1_trial_3_signals.fif...\n",
      "    Range : 687000 ... 962000 =    687.000 ...   962.000 secs\n",
      "Ready.\n",
      "Reading 0 ... 275000  =      0.000 ...   275.000 secs...\n"
     ]
    },
    {
     "name": "stderr",
     "output_type": "stream",
     "text": [
      "C:\\Users\\marco\\AppData\\Local\\Temp\\ipykernel_6904\\3667833851.py:14: RuntimeWarning: This filename (../SEED_FRA_OUTPUT/NEGATIVE/3_1_trial_3_signals.fif) does not conform to MNE naming conventions. All raw files should end with raw.fif, raw_sss.fif, raw_tsss.fif, _meg.fif, _eeg.fif, _ieeg.fif, raw.fif.gz, raw_sss.fif.gz, raw_tsss.fif.gz, _meg.fif.gz, _eeg.fif.gz or _ieeg.fif.gz\n",
      "  eeg_data = mne.io.read_raw_fif(name, preload=True)\n"
     ]
    },
    {
     "name": "stdout",
     "output_type": "stream",
     "text": [
      "Opening raw data file ../SEED_FRA_OUTPUT/NEGATIVE/3_1_trial_6_signals.fif...\n",
      "    Range : 1252000 ... 1552000 =   1252.000 ...  1552.000 secs\n",
      "Ready.\n",
      "Reading 0 ... 300000  =      0.000 ...   300.000 secs...\n"
     ]
    },
    {
     "name": "stderr",
     "output_type": "stream",
     "text": [
      "C:\\Users\\marco\\AppData\\Local\\Temp\\ipykernel_6904\\3667833851.py:14: RuntimeWarning: This filename (../SEED_FRA_OUTPUT/NEGATIVE/3_1_trial_6_signals.fif) does not conform to MNE naming conventions. All raw files should end with raw.fif, raw_sss.fif, raw_tsss.fif, _meg.fif, _eeg.fif, _ieeg.fif, raw.fif.gz, raw_sss.fif.gz, raw_tsss.fif.gz, _meg.fif.gz, _eeg.fif.gz or _ieeg.fif.gz\n",
      "  eeg_data = mne.io.read_raw_fif(name, preload=True)\n"
     ]
    },
    {
     "name": "stdout",
     "output_type": "stream",
     "text": [
      "Opening raw data file ../SEED_FRA_OUTPUT/NEGATIVE/3_1_trial_9_signals.fif...\n",
      "    Range : 1887000 ... 2154000 =   1887.000 ...  2154.000 secs\n",
      "Ready.\n",
      "Reading 0 ... 267000  =      0.000 ...   267.000 secs...\n"
     ]
    },
    {
     "name": "stderr",
     "output_type": "stream",
     "text": [
      "C:\\Users\\marco\\AppData\\Local\\Temp\\ipykernel_6904\\3667833851.py:14: RuntimeWarning: This filename (../SEED_FRA_OUTPUT/NEGATIVE/3_1_trial_9_signals.fif) does not conform to MNE naming conventions. All raw files should end with raw.fif, raw_sss.fif, raw_tsss.fif, _meg.fif, _eeg.fif, _ieeg.fif, raw.fif.gz, raw_sss.fif.gz, raw_tsss.fif.gz, _meg.fif.gz, _eeg.fif.gz or _ieeg.fif.gz\n",
      "  eeg_data = mne.io.read_raw_fif(name, preload=True)\n"
     ]
    },
    {
     "name": "stdout",
     "output_type": "stream",
     "text": [
      "Opening raw data file ../SEED_FRA_OUTPUT/NEGATIVE/3_2_trial_14_signals.fif...\n",
      "    Range : 2783000 ... 2910000 =   2783.000 ...  2910.000 secs\n",
      "Ready.\n",
      "Reading 0 ... 127000  =      0.000 ...   127.000 secs...\n"
     ]
    },
    {
     "name": "stderr",
     "output_type": "stream",
     "text": [
      "C:\\Users\\marco\\AppData\\Local\\Temp\\ipykernel_6904\\3667833851.py:14: RuntimeWarning: This filename (../SEED_FRA_OUTPUT/NEGATIVE/3_2_trial_14_signals.fif) does not conform to MNE naming conventions. All raw files should end with raw.fif, raw_sss.fif, raw_tsss.fif, _meg.fif, _eeg.fif, _ieeg.fif, raw.fif.gz, raw_sss.fif.gz, raw_tsss.fif.gz, _meg.fif.gz, _eeg.fif.gz or _ieeg.fif.gz\n",
      "  eeg_data = mne.io.read_raw_fif(name, preload=True)\n"
     ]
    },
    {
     "name": "stdout",
     "output_type": "stream",
     "text": [
      "Opening raw data file ../SEED_FRA_OUTPUT/NEGATIVE/3_2_trial_15_signals.fif...\n",
      "    Range : 2931000 ... 3008000 =   2931.000 ...  3008.000 secs\n",
      "Ready.\n",
      "Reading 0 ... 77000  =      0.000 ...    77.000 secs...\n"
     ]
    },
    {
     "name": "stderr",
     "output_type": "stream",
     "text": [
      "C:\\Users\\marco\\AppData\\Local\\Temp\\ipykernel_6904\\3667833851.py:14: RuntimeWarning: This filename (../SEED_FRA_OUTPUT/NEGATIVE/3_2_trial_15_signals.fif) does not conform to MNE naming conventions. All raw files should end with raw.fif, raw_sss.fif, raw_tsss.fif, _meg.fif, _eeg.fif, _ieeg.fif, raw.fif.gz, raw_sss.fif.gz, raw_tsss.fif.gz, _meg.fif.gz, _eeg.fif.gz or _ieeg.fif.gz\n",
      "  eeg_data = mne.io.read_raw_fif(name, preload=True)\n"
     ]
    },
    {
     "name": "stdout",
     "output_type": "stream",
     "text": [
      "Opening raw data file ../SEED_FRA_OUTPUT/NEGATIVE/3_2_trial_18_signals.fif...\n",
      "    Range : 3369000 ... 3495000 =   3369.000 ...  3495.000 secs\n",
      "Ready.\n",
      "Reading 0 ... 126000  =      0.000 ...   126.000 secs...\n"
     ]
    },
    {
     "name": "stderr",
     "output_type": "stream",
     "text": [
      "C:\\Users\\marco\\AppData\\Local\\Temp\\ipykernel_6904\\3667833851.py:14: RuntimeWarning: This filename (../SEED_FRA_OUTPUT/NEGATIVE/3_2_trial_18_signals.fif) does not conform to MNE naming conventions. All raw files should end with raw.fif, raw_sss.fif, raw_tsss.fif, _meg.fif, _eeg.fif, _ieeg.fif, raw.fif.gz, raw_sss.fif.gz, raw_tsss.fif.gz, _meg.fif.gz, _eeg.fif.gz or _ieeg.fif.gz\n",
      "  eeg_data = mne.io.read_raw_fif(name, preload=True)\n"
     ]
    },
    {
     "name": "stdout",
     "output_type": "stream",
     "text": [
      "Opening raw data file ../SEED_FRA_OUTPUT/NEGATIVE/3_2_trial_1_signals.fif...\n",
      "    Range : 213000 ... 468000 =    213.000 ...   468.000 secs\n",
      "Ready.\n",
      "Reading 0 ... 255000  =      0.000 ...   255.000 secs...\n"
     ]
    },
    {
     "name": "stderr",
     "output_type": "stream",
     "text": [
      "C:\\Users\\marco\\AppData\\Local\\Temp\\ipykernel_6904\\3667833851.py:14: RuntimeWarning: This filename (../SEED_FRA_OUTPUT/NEGATIVE/3_2_trial_1_signals.fif) does not conform to MNE naming conventions. All raw files should end with raw.fif, raw_sss.fif, raw_tsss.fif, _meg.fif, _eeg.fif, _ieeg.fif, raw.fif.gz, raw_sss.fif.gz, raw_tsss.fif.gz, _meg.fif.gz, _eeg.fif.gz or _ieeg.fif.gz\n",
      "  eeg_data = mne.io.read_raw_fif(name, preload=True)\n"
     ]
    },
    {
     "name": "stdout",
     "output_type": "stream",
     "text": [
      "Opening raw data file ../SEED_FRA_OUTPUT/NEGATIVE/3_2_trial_3_signals.fif...\n",
      "    Range : 687000 ... 962000 =    687.000 ...   962.000 secs\n",
      "Ready.\n",
      "Reading 0 ... 275000  =      0.000 ...   275.000 secs...\n"
     ]
    },
    {
     "name": "stderr",
     "output_type": "stream",
     "text": [
      "C:\\Users\\marco\\AppData\\Local\\Temp\\ipykernel_6904\\3667833851.py:14: RuntimeWarning: This filename (../SEED_FRA_OUTPUT/NEGATIVE/3_2_trial_3_signals.fif) does not conform to MNE naming conventions. All raw files should end with raw.fif, raw_sss.fif, raw_tsss.fif, _meg.fif, _eeg.fif, _ieeg.fif, raw.fif.gz, raw_sss.fif.gz, raw_tsss.fif.gz, _meg.fif.gz, _eeg.fif.gz or _ieeg.fif.gz\n",
      "  eeg_data = mne.io.read_raw_fif(name, preload=True)\n"
     ]
    },
    {
     "name": "stdout",
     "output_type": "stream",
     "text": [
      "Opening raw data file ../SEED_FRA_OUTPUT/NEGATIVE/3_2_trial_6_signals.fif...\n",
      "    Range : 1252000 ... 1552000 =   1252.000 ...  1552.000 secs\n",
      "Ready.\n",
      "Reading 0 ... 300000  =      0.000 ...   300.000 secs...\n"
     ]
    },
    {
     "name": "stderr",
     "output_type": "stream",
     "text": [
      "C:\\Users\\marco\\AppData\\Local\\Temp\\ipykernel_6904\\3667833851.py:14: RuntimeWarning: This filename (../SEED_FRA_OUTPUT/NEGATIVE/3_2_trial_6_signals.fif) does not conform to MNE naming conventions. All raw files should end with raw.fif, raw_sss.fif, raw_tsss.fif, _meg.fif, _eeg.fif, _ieeg.fif, raw.fif.gz, raw_sss.fif.gz, raw_tsss.fif.gz, _meg.fif.gz, _eeg.fif.gz or _ieeg.fif.gz\n",
      "  eeg_data = mne.io.read_raw_fif(name, preload=True)\n"
     ]
    },
    {
     "name": "stdout",
     "output_type": "stream",
     "text": [
      "Opening raw data file ../SEED_FRA_OUTPUT/NEGATIVE/3_2_trial_9_signals.fif...\n",
      "    Range : 1887000 ... 2154000 =   1887.000 ...  2154.000 secs\n",
      "Ready.\n",
      "Reading 0 ... 267000  =      0.000 ...   267.000 secs...\n"
     ]
    },
    {
     "name": "stderr",
     "output_type": "stream",
     "text": [
      "C:\\Users\\marco\\AppData\\Local\\Temp\\ipykernel_6904\\3667833851.py:14: RuntimeWarning: This filename (../SEED_FRA_OUTPUT/NEGATIVE/3_2_trial_9_signals.fif) does not conform to MNE naming conventions. All raw files should end with raw.fif, raw_sss.fif, raw_tsss.fif, _meg.fif, _eeg.fif, _ieeg.fif, raw.fif.gz, raw_sss.fif.gz, raw_tsss.fif.gz, _meg.fif.gz, _eeg.fif.gz or _ieeg.fif.gz\n",
      "  eeg_data = mne.io.read_raw_fif(name, preload=True)\n"
     ]
    },
    {
     "name": "stdout",
     "output_type": "stream",
     "text": [
      "Opening raw data file ../SEED_FRA_OUTPUT/NEGATIVE/3_3_trial_14_signals.fif...\n",
      "    Range : 2783000 ... 2910000 =   2783.000 ...  2910.000 secs\n",
      "Ready.\n",
      "Reading 0 ... 127000  =      0.000 ...   127.000 secs...\n"
     ]
    },
    {
     "name": "stderr",
     "output_type": "stream",
     "text": [
      "C:\\Users\\marco\\AppData\\Local\\Temp\\ipykernel_6904\\3667833851.py:14: RuntimeWarning: This filename (../SEED_FRA_OUTPUT/NEGATIVE/3_3_trial_14_signals.fif) does not conform to MNE naming conventions. All raw files should end with raw.fif, raw_sss.fif, raw_tsss.fif, _meg.fif, _eeg.fif, _ieeg.fif, raw.fif.gz, raw_sss.fif.gz, raw_tsss.fif.gz, _meg.fif.gz, _eeg.fif.gz or _ieeg.fif.gz\n",
      "  eeg_data = mne.io.read_raw_fif(name, preload=True)\n"
     ]
    },
    {
     "name": "stdout",
     "output_type": "stream",
     "text": [
      "Opening raw data file ../SEED_FRA_OUTPUT/NEGATIVE/3_3_trial_15_signals.fif...\n",
      "    Range : 2931000 ... 3008000 =   2931.000 ...  3008.000 secs\n",
      "Ready.\n",
      "Reading 0 ... 77000  =      0.000 ...    77.000 secs...\n"
     ]
    },
    {
     "name": "stderr",
     "output_type": "stream",
     "text": [
      "C:\\Users\\marco\\AppData\\Local\\Temp\\ipykernel_6904\\3667833851.py:14: RuntimeWarning: This filename (../SEED_FRA_OUTPUT/NEGATIVE/3_3_trial_15_signals.fif) does not conform to MNE naming conventions. All raw files should end with raw.fif, raw_sss.fif, raw_tsss.fif, _meg.fif, _eeg.fif, _ieeg.fif, raw.fif.gz, raw_sss.fif.gz, raw_tsss.fif.gz, _meg.fif.gz, _eeg.fif.gz or _ieeg.fif.gz\n",
      "  eeg_data = mne.io.read_raw_fif(name, preload=True)\n"
     ]
    },
    {
     "name": "stdout",
     "output_type": "stream",
     "text": [
      "Opening raw data file ../SEED_FRA_OUTPUT/NEGATIVE/3_3_trial_18_signals.fif...\n",
      "    Range : 3369000 ... 3495000 =   3369.000 ...  3495.000 secs\n",
      "Ready.\n",
      "Reading 0 ... 126000  =      0.000 ...   126.000 secs...\n"
     ]
    },
    {
     "name": "stderr",
     "output_type": "stream",
     "text": [
      "C:\\Users\\marco\\AppData\\Local\\Temp\\ipykernel_6904\\3667833851.py:14: RuntimeWarning: This filename (../SEED_FRA_OUTPUT/NEGATIVE/3_3_trial_18_signals.fif) does not conform to MNE naming conventions. All raw files should end with raw.fif, raw_sss.fif, raw_tsss.fif, _meg.fif, _eeg.fif, _ieeg.fif, raw.fif.gz, raw_sss.fif.gz, raw_tsss.fif.gz, _meg.fif.gz, _eeg.fif.gz or _ieeg.fif.gz\n",
      "  eeg_data = mne.io.read_raw_fif(name, preload=True)\n"
     ]
    },
    {
     "name": "stdout",
     "output_type": "stream",
     "text": [
      "Opening raw data file ../SEED_FRA_OUTPUT/NEGATIVE/3_3_trial_1_signals.fif...\n",
      "    Range : 213000 ... 468000 =    213.000 ...   468.000 secs\n",
      "Ready.\n",
      "Reading 0 ... 255000  =      0.000 ...   255.000 secs...\n"
     ]
    },
    {
     "name": "stderr",
     "output_type": "stream",
     "text": [
      "C:\\Users\\marco\\AppData\\Local\\Temp\\ipykernel_6904\\3667833851.py:14: RuntimeWarning: This filename (../SEED_FRA_OUTPUT/NEGATIVE/3_3_trial_1_signals.fif) does not conform to MNE naming conventions. All raw files should end with raw.fif, raw_sss.fif, raw_tsss.fif, _meg.fif, _eeg.fif, _ieeg.fif, raw.fif.gz, raw_sss.fif.gz, raw_tsss.fif.gz, _meg.fif.gz, _eeg.fif.gz or _ieeg.fif.gz\n",
      "  eeg_data = mne.io.read_raw_fif(name, preload=True)\n"
     ]
    },
    {
     "name": "stdout",
     "output_type": "stream",
     "text": [
      "Opening raw data file ../SEED_FRA_OUTPUT/NEGATIVE/3_3_trial_3_signals.fif...\n",
      "    Range : 687000 ... 962000 =    687.000 ...   962.000 secs\n",
      "Ready.\n",
      "Reading 0 ... 275000  =      0.000 ...   275.000 secs...\n"
     ]
    },
    {
     "name": "stderr",
     "output_type": "stream",
     "text": [
      "C:\\Users\\marco\\AppData\\Local\\Temp\\ipykernel_6904\\3667833851.py:14: RuntimeWarning: This filename (../SEED_FRA_OUTPUT/NEGATIVE/3_3_trial_3_signals.fif) does not conform to MNE naming conventions. All raw files should end with raw.fif, raw_sss.fif, raw_tsss.fif, _meg.fif, _eeg.fif, _ieeg.fif, raw.fif.gz, raw_sss.fif.gz, raw_tsss.fif.gz, _meg.fif.gz, _eeg.fif.gz or _ieeg.fif.gz\n",
      "  eeg_data = mne.io.read_raw_fif(name, preload=True)\n"
     ]
    },
    {
     "name": "stdout",
     "output_type": "stream",
     "text": [
      "Opening raw data file ../SEED_FRA_OUTPUT/NEGATIVE/3_3_trial_6_signals.fif...\n",
      "    Range : 1252000 ... 1552000 =   1252.000 ...  1552.000 secs\n",
      "Ready.\n",
      "Reading 0 ... 300000  =      0.000 ...   300.000 secs...\n"
     ]
    },
    {
     "name": "stderr",
     "output_type": "stream",
     "text": [
      "C:\\Users\\marco\\AppData\\Local\\Temp\\ipykernel_6904\\3667833851.py:14: RuntimeWarning: This filename (../SEED_FRA_OUTPUT/NEGATIVE/3_3_trial_6_signals.fif) does not conform to MNE naming conventions. All raw files should end with raw.fif, raw_sss.fif, raw_tsss.fif, _meg.fif, _eeg.fif, _ieeg.fif, raw.fif.gz, raw_sss.fif.gz, raw_tsss.fif.gz, _meg.fif.gz, _eeg.fif.gz or _ieeg.fif.gz\n",
      "  eeg_data = mne.io.read_raw_fif(name, preload=True)\n"
     ]
    },
    {
     "name": "stdout",
     "output_type": "stream",
     "text": [
      "Opening raw data file ../SEED_FRA_OUTPUT/NEGATIVE/3_3_trial_9_signals.fif...\n",
      "    Range : 1887000 ... 2154000 =   1887.000 ...  2154.000 secs\n",
      "Ready.\n",
      "Reading 0 ... 267000  =      0.000 ...   267.000 secs...\n"
     ]
    },
    {
     "name": "stderr",
     "output_type": "stream",
     "text": [
      "C:\\Users\\marco\\AppData\\Local\\Temp\\ipykernel_6904\\3667833851.py:14: RuntimeWarning: This filename (../SEED_FRA_OUTPUT/NEGATIVE/3_3_trial_9_signals.fif) does not conform to MNE naming conventions. All raw files should end with raw.fif, raw_sss.fif, raw_tsss.fif, _meg.fif, _eeg.fif, _ieeg.fif, raw.fif.gz, raw_sss.fif.gz, raw_tsss.fif.gz, _meg.fif.gz, _eeg.fif.gz or _ieeg.fif.gz\n",
      "  eeg_data = mne.io.read_raw_fif(name, preload=True)\n"
     ]
    },
    {
     "name": "stdout",
     "output_type": "stream",
     "text": [
      "Opening raw data file ../SEED_FRA_OUTPUT/NEGATIVE/4_1_trial_14_signals.fif...\n",
      "    Range : 2783000 ... 2910000 =   2783.000 ...  2910.000 secs\n",
      "Ready.\n",
      "Reading 0 ... 127000  =      0.000 ...   127.000 secs...\n"
     ]
    },
    {
     "name": "stderr",
     "output_type": "stream",
     "text": [
      "C:\\Users\\marco\\AppData\\Local\\Temp\\ipykernel_6904\\3667833851.py:14: RuntimeWarning: This filename (../SEED_FRA_OUTPUT/NEGATIVE/4_1_trial_14_signals.fif) does not conform to MNE naming conventions. All raw files should end with raw.fif, raw_sss.fif, raw_tsss.fif, _meg.fif, _eeg.fif, _ieeg.fif, raw.fif.gz, raw_sss.fif.gz, raw_tsss.fif.gz, _meg.fif.gz, _eeg.fif.gz or _ieeg.fif.gz\n",
      "  eeg_data = mne.io.read_raw_fif(name, preload=True)\n"
     ]
    },
    {
     "name": "stdout",
     "output_type": "stream",
     "text": [
      "Opening raw data file ../SEED_FRA_OUTPUT/NEGATIVE/4_1_trial_15_signals.fif...\n",
      "    Range : 2931000 ... 3008000 =   2931.000 ...  3008.000 secs\n",
      "Ready.\n",
      "Reading 0 ... 77000  =      0.000 ...    77.000 secs...\n"
     ]
    },
    {
     "name": "stderr",
     "output_type": "stream",
     "text": [
      "C:\\Users\\marco\\AppData\\Local\\Temp\\ipykernel_6904\\3667833851.py:14: RuntimeWarning: This filename (../SEED_FRA_OUTPUT/NEGATIVE/4_1_trial_15_signals.fif) does not conform to MNE naming conventions. All raw files should end with raw.fif, raw_sss.fif, raw_tsss.fif, _meg.fif, _eeg.fif, _ieeg.fif, raw.fif.gz, raw_sss.fif.gz, raw_tsss.fif.gz, _meg.fif.gz, _eeg.fif.gz or _ieeg.fif.gz\n",
      "  eeg_data = mne.io.read_raw_fif(name, preload=True)\n"
     ]
    },
    {
     "name": "stdout",
     "output_type": "stream",
     "text": [
      "Opening raw data file ../SEED_FRA_OUTPUT/NEGATIVE/4_1_trial_18_signals.fif...\n",
      "    Range : 3369000 ... 3495000 =   3369.000 ...  3495.000 secs\n",
      "Ready.\n",
      "Reading 0 ... 126000  =      0.000 ...   126.000 secs...\n"
     ]
    },
    {
     "name": "stderr",
     "output_type": "stream",
     "text": [
      "C:\\Users\\marco\\AppData\\Local\\Temp\\ipykernel_6904\\3667833851.py:14: RuntimeWarning: This filename (../SEED_FRA_OUTPUT/NEGATIVE/4_1_trial_18_signals.fif) does not conform to MNE naming conventions. All raw files should end with raw.fif, raw_sss.fif, raw_tsss.fif, _meg.fif, _eeg.fif, _ieeg.fif, raw.fif.gz, raw_sss.fif.gz, raw_tsss.fif.gz, _meg.fif.gz, _eeg.fif.gz or _ieeg.fif.gz\n",
      "  eeg_data = mne.io.read_raw_fif(name, preload=True)\n"
     ]
    },
    {
     "name": "stdout",
     "output_type": "stream",
     "text": [
      "Opening raw data file ../SEED_FRA_OUTPUT/NEGATIVE/4_1_trial_1_signals.fif...\n",
      "    Range : 213000 ... 468000 =    213.000 ...   468.000 secs\n",
      "Ready.\n",
      "Reading 0 ... 255000  =      0.000 ...   255.000 secs...\n"
     ]
    },
    {
     "name": "stderr",
     "output_type": "stream",
     "text": [
      "C:\\Users\\marco\\AppData\\Local\\Temp\\ipykernel_6904\\3667833851.py:14: RuntimeWarning: This filename (../SEED_FRA_OUTPUT/NEGATIVE/4_1_trial_1_signals.fif) does not conform to MNE naming conventions. All raw files should end with raw.fif, raw_sss.fif, raw_tsss.fif, _meg.fif, _eeg.fif, _ieeg.fif, raw.fif.gz, raw_sss.fif.gz, raw_tsss.fif.gz, _meg.fif.gz, _eeg.fif.gz or _ieeg.fif.gz\n",
      "  eeg_data = mne.io.read_raw_fif(name, preload=True)\n"
     ]
    },
    {
     "name": "stdout",
     "output_type": "stream",
     "text": [
      "Opening raw data file ../SEED_FRA_OUTPUT/NEGATIVE/4_1_trial_3_signals.fif...\n",
      "    Range : 687000 ... 962000 =    687.000 ...   962.000 secs\n",
      "Ready.\n",
      "Reading 0 ... 275000  =      0.000 ...   275.000 secs...\n"
     ]
    },
    {
     "name": "stderr",
     "output_type": "stream",
     "text": [
      "C:\\Users\\marco\\AppData\\Local\\Temp\\ipykernel_6904\\3667833851.py:14: RuntimeWarning: This filename (../SEED_FRA_OUTPUT/NEGATIVE/4_1_trial_3_signals.fif) does not conform to MNE naming conventions. All raw files should end with raw.fif, raw_sss.fif, raw_tsss.fif, _meg.fif, _eeg.fif, _ieeg.fif, raw.fif.gz, raw_sss.fif.gz, raw_tsss.fif.gz, _meg.fif.gz, _eeg.fif.gz or _ieeg.fif.gz\n",
      "  eeg_data = mne.io.read_raw_fif(name, preload=True)\n"
     ]
    },
    {
     "name": "stdout",
     "output_type": "stream",
     "text": [
      "Opening raw data file ../SEED_FRA_OUTPUT/NEGATIVE/4_1_trial_6_signals.fif...\n",
      "    Range : 1252000 ... 1552000 =   1252.000 ...  1552.000 secs\n",
      "Ready.\n",
      "Reading 0 ... 300000  =      0.000 ...   300.000 secs...\n"
     ]
    },
    {
     "name": "stderr",
     "output_type": "stream",
     "text": [
      "C:\\Users\\marco\\AppData\\Local\\Temp\\ipykernel_6904\\3667833851.py:14: RuntimeWarning: This filename (../SEED_FRA_OUTPUT/NEGATIVE/4_1_trial_6_signals.fif) does not conform to MNE naming conventions. All raw files should end with raw.fif, raw_sss.fif, raw_tsss.fif, _meg.fif, _eeg.fif, _ieeg.fif, raw.fif.gz, raw_sss.fif.gz, raw_tsss.fif.gz, _meg.fif.gz, _eeg.fif.gz or _ieeg.fif.gz\n",
      "  eeg_data = mne.io.read_raw_fif(name, preload=True)\n"
     ]
    },
    {
     "name": "stdout",
     "output_type": "stream",
     "text": [
      "Opening raw data file ../SEED_FRA_OUTPUT/NEGATIVE/4_1_trial_9_signals.fif...\n",
      "    Range : 1887000 ... 2154000 =   1887.000 ...  2154.000 secs\n",
      "Ready.\n",
      "Reading 0 ... 267000  =      0.000 ...   267.000 secs...\n"
     ]
    },
    {
     "name": "stderr",
     "output_type": "stream",
     "text": [
      "C:\\Users\\marco\\AppData\\Local\\Temp\\ipykernel_6904\\3667833851.py:14: RuntimeWarning: This filename (../SEED_FRA_OUTPUT/NEGATIVE/4_1_trial_9_signals.fif) does not conform to MNE naming conventions. All raw files should end with raw.fif, raw_sss.fif, raw_tsss.fif, _meg.fif, _eeg.fif, _ieeg.fif, raw.fif.gz, raw_sss.fif.gz, raw_tsss.fif.gz, _meg.fif.gz, _eeg.fif.gz or _ieeg.fif.gz\n",
      "  eeg_data = mne.io.read_raw_fif(name, preload=True)\n"
     ]
    },
    {
     "name": "stdout",
     "output_type": "stream",
     "text": [
      "Opening raw data file ../SEED_FRA_OUTPUT/NEGATIVE/4_2_trial_14_signals.fif...\n",
      "    Range : 2783000 ... 2910000 =   2783.000 ...  2910.000 secs\n",
      "Ready.\n",
      "Reading 0 ... 127000  =      0.000 ...   127.000 secs...\n"
     ]
    },
    {
     "name": "stderr",
     "output_type": "stream",
     "text": [
      "C:\\Users\\marco\\AppData\\Local\\Temp\\ipykernel_6904\\3667833851.py:14: RuntimeWarning: This filename (../SEED_FRA_OUTPUT/NEGATIVE/4_2_trial_14_signals.fif) does not conform to MNE naming conventions. All raw files should end with raw.fif, raw_sss.fif, raw_tsss.fif, _meg.fif, _eeg.fif, _ieeg.fif, raw.fif.gz, raw_sss.fif.gz, raw_tsss.fif.gz, _meg.fif.gz, _eeg.fif.gz or _ieeg.fif.gz\n",
      "  eeg_data = mne.io.read_raw_fif(name, preload=True)\n"
     ]
    },
    {
     "name": "stdout",
     "output_type": "stream",
     "text": [
      "Opening raw data file ../SEED_FRA_OUTPUT/NEGATIVE/4_2_trial_15_signals.fif...\n",
      "    Range : 2931000 ... 3008000 =   2931.000 ...  3008.000 secs\n",
      "Ready.\n",
      "Reading 0 ... 77000  =      0.000 ...    77.000 secs...\n"
     ]
    },
    {
     "name": "stderr",
     "output_type": "stream",
     "text": [
      "C:\\Users\\marco\\AppData\\Local\\Temp\\ipykernel_6904\\3667833851.py:14: RuntimeWarning: This filename (../SEED_FRA_OUTPUT/NEGATIVE/4_2_trial_15_signals.fif) does not conform to MNE naming conventions. All raw files should end with raw.fif, raw_sss.fif, raw_tsss.fif, _meg.fif, _eeg.fif, _ieeg.fif, raw.fif.gz, raw_sss.fif.gz, raw_tsss.fif.gz, _meg.fif.gz, _eeg.fif.gz or _ieeg.fif.gz\n",
      "  eeg_data = mne.io.read_raw_fif(name, preload=True)\n"
     ]
    },
    {
     "name": "stdout",
     "output_type": "stream",
     "text": [
      "Opening raw data file ../SEED_FRA_OUTPUT/NEGATIVE/4_2_trial_18_signals.fif...\n",
      "    Range : 3369000 ... 3495000 =   3369.000 ...  3495.000 secs\n",
      "Ready.\n",
      "Reading 0 ... 126000  =      0.000 ...   126.000 secs...\n"
     ]
    },
    {
     "name": "stderr",
     "output_type": "stream",
     "text": [
      "C:\\Users\\marco\\AppData\\Local\\Temp\\ipykernel_6904\\3667833851.py:14: RuntimeWarning: This filename (../SEED_FRA_OUTPUT/NEGATIVE/4_2_trial_18_signals.fif) does not conform to MNE naming conventions. All raw files should end with raw.fif, raw_sss.fif, raw_tsss.fif, _meg.fif, _eeg.fif, _ieeg.fif, raw.fif.gz, raw_sss.fif.gz, raw_tsss.fif.gz, _meg.fif.gz, _eeg.fif.gz or _ieeg.fif.gz\n",
      "  eeg_data = mne.io.read_raw_fif(name, preload=True)\n"
     ]
    },
    {
     "name": "stdout",
     "output_type": "stream",
     "text": [
      "Opening raw data file ../SEED_FRA_OUTPUT/NEGATIVE/4_2_trial_1_signals.fif...\n",
      "    Range : 213000 ... 468000 =    213.000 ...   468.000 secs\n",
      "Ready.\n",
      "Reading 0 ... 255000  =      0.000 ...   255.000 secs...\n"
     ]
    },
    {
     "name": "stderr",
     "output_type": "stream",
     "text": [
      "C:\\Users\\marco\\AppData\\Local\\Temp\\ipykernel_6904\\3667833851.py:14: RuntimeWarning: This filename (../SEED_FRA_OUTPUT/NEGATIVE/4_2_trial_1_signals.fif) does not conform to MNE naming conventions. All raw files should end with raw.fif, raw_sss.fif, raw_tsss.fif, _meg.fif, _eeg.fif, _ieeg.fif, raw.fif.gz, raw_sss.fif.gz, raw_tsss.fif.gz, _meg.fif.gz, _eeg.fif.gz or _ieeg.fif.gz\n",
      "  eeg_data = mne.io.read_raw_fif(name, preload=True)\n"
     ]
    },
    {
     "name": "stdout",
     "output_type": "stream",
     "text": [
      "Opening raw data file ../SEED_FRA_OUTPUT/NEGATIVE/4_2_trial_3_signals.fif...\n",
      "    Range : 687000 ... 962000 =    687.000 ...   962.000 secs\n",
      "Ready.\n",
      "Reading 0 ... 275000  =      0.000 ...   275.000 secs...\n"
     ]
    },
    {
     "name": "stderr",
     "output_type": "stream",
     "text": [
      "C:\\Users\\marco\\AppData\\Local\\Temp\\ipykernel_6904\\3667833851.py:14: RuntimeWarning: This filename (../SEED_FRA_OUTPUT/NEGATIVE/4_2_trial_3_signals.fif) does not conform to MNE naming conventions. All raw files should end with raw.fif, raw_sss.fif, raw_tsss.fif, _meg.fif, _eeg.fif, _ieeg.fif, raw.fif.gz, raw_sss.fif.gz, raw_tsss.fif.gz, _meg.fif.gz, _eeg.fif.gz or _ieeg.fif.gz\n",
      "  eeg_data = mne.io.read_raw_fif(name, preload=True)\n"
     ]
    },
    {
     "name": "stdout",
     "output_type": "stream",
     "text": [
      "Opening raw data file ../SEED_FRA_OUTPUT/NEGATIVE/4_2_trial_6_signals.fif...\n",
      "    Range : 1252000 ... 1552000 =   1252.000 ...  1552.000 secs\n",
      "Ready.\n",
      "Reading 0 ... 300000  =      0.000 ...   300.000 secs...\n"
     ]
    },
    {
     "name": "stderr",
     "output_type": "stream",
     "text": [
      "C:\\Users\\marco\\AppData\\Local\\Temp\\ipykernel_6904\\3667833851.py:14: RuntimeWarning: This filename (../SEED_FRA_OUTPUT/NEGATIVE/4_2_trial_6_signals.fif) does not conform to MNE naming conventions. All raw files should end with raw.fif, raw_sss.fif, raw_tsss.fif, _meg.fif, _eeg.fif, _ieeg.fif, raw.fif.gz, raw_sss.fif.gz, raw_tsss.fif.gz, _meg.fif.gz, _eeg.fif.gz or _ieeg.fif.gz\n",
      "  eeg_data = mne.io.read_raw_fif(name, preload=True)\n"
     ]
    },
    {
     "name": "stdout",
     "output_type": "stream",
     "text": [
      "Opening raw data file ../SEED_FRA_OUTPUT/NEGATIVE/4_2_trial_9_signals.fif...\n",
      "    Range : 1887000 ... 2154000 =   1887.000 ...  2154.000 secs\n",
      "Ready.\n",
      "Reading 0 ... 267000  =      0.000 ...   267.000 secs...\n"
     ]
    },
    {
     "name": "stderr",
     "output_type": "stream",
     "text": [
      "C:\\Users\\marco\\AppData\\Local\\Temp\\ipykernel_6904\\3667833851.py:14: RuntimeWarning: This filename (../SEED_FRA_OUTPUT/NEGATIVE/4_2_trial_9_signals.fif) does not conform to MNE naming conventions. All raw files should end with raw.fif, raw_sss.fif, raw_tsss.fif, _meg.fif, _eeg.fif, _ieeg.fif, raw.fif.gz, raw_sss.fif.gz, raw_tsss.fif.gz, _meg.fif.gz, _eeg.fif.gz or _ieeg.fif.gz\n",
      "  eeg_data = mne.io.read_raw_fif(name, preload=True)\n"
     ]
    },
    {
     "name": "stdout",
     "output_type": "stream",
     "text": [
      "Opening raw data file ../SEED_FRA_OUTPUT/NEGATIVE/4_3_trial_14_signals.fif...\n",
      "    Range : 2783000 ... 2910000 =   2783.000 ...  2910.000 secs\n",
      "Ready.\n",
      "Reading 0 ... 127000  =      0.000 ...   127.000 secs...\n"
     ]
    },
    {
     "name": "stderr",
     "output_type": "stream",
     "text": [
      "C:\\Users\\marco\\AppData\\Local\\Temp\\ipykernel_6904\\3667833851.py:14: RuntimeWarning: This filename (../SEED_FRA_OUTPUT/NEGATIVE/4_3_trial_14_signals.fif) does not conform to MNE naming conventions. All raw files should end with raw.fif, raw_sss.fif, raw_tsss.fif, _meg.fif, _eeg.fif, _ieeg.fif, raw.fif.gz, raw_sss.fif.gz, raw_tsss.fif.gz, _meg.fif.gz, _eeg.fif.gz or _ieeg.fif.gz\n",
      "  eeg_data = mne.io.read_raw_fif(name, preload=True)\n"
     ]
    },
    {
     "name": "stdout",
     "output_type": "stream",
     "text": [
      "Opening raw data file ../SEED_FRA_OUTPUT/NEGATIVE/4_3_trial_15_signals.fif...\n",
      "    Range : 2931000 ... 3008000 =   2931.000 ...  3008.000 secs\n",
      "Ready.\n",
      "Reading 0 ... 77000  =      0.000 ...    77.000 secs...\n"
     ]
    },
    {
     "name": "stderr",
     "output_type": "stream",
     "text": [
      "C:\\Users\\marco\\AppData\\Local\\Temp\\ipykernel_6904\\3667833851.py:14: RuntimeWarning: This filename (../SEED_FRA_OUTPUT/NEGATIVE/4_3_trial_15_signals.fif) does not conform to MNE naming conventions. All raw files should end with raw.fif, raw_sss.fif, raw_tsss.fif, _meg.fif, _eeg.fif, _ieeg.fif, raw.fif.gz, raw_sss.fif.gz, raw_tsss.fif.gz, _meg.fif.gz, _eeg.fif.gz or _ieeg.fif.gz\n",
      "  eeg_data = mne.io.read_raw_fif(name, preload=True)\n"
     ]
    },
    {
     "name": "stdout",
     "output_type": "stream",
     "text": [
      "Opening raw data file ../SEED_FRA_OUTPUT/NEGATIVE/4_3_trial_18_signals.fif...\n",
      "    Range : 3369000 ... 3495000 =   3369.000 ...  3495.000 secs\n",
      "Ready.\n",
      "Reading 0 ... 126000  =      0.000 ...   126.000 secs...\n"
     ]
    },
    {
     "name": "stderr",
     "output_type": "stream",
     "text": [
      "C:\\Users\\marco\\AppData\\Local\\Temp\\ipykernel_6904\\3667833851.py:14: RuntimeWarning: This filename (../SEED_FRA_OUTPUT/NEGATIVE/4_3_trial_18_signals.fif) does not conform to MNE naming conventions. All raw files should end with raw.fif, raw_sss.fif, raw_tsss.fif, _meg.fif, _eeg.fif, _ieeg.fif, raw.fif.gz, raw_sss.fif.gz, raw_tsss.fif.gz, _meg.fif.gz, _eeg.fif.gz or _ieeg.fif.gz\n",
      "  eeg_data = mne.io.read_raw_fif(name, preload=True)\n"
     ]
    },
    {
     "name": "stdout",
     "output_type": "stream",
     "text": [
      "Opening raw data file ../SEED_FRA_OUTPUT/NEGATIVE/4_3_trial_1_signals.fif...\n",
      "    Range : 213000 ... 468000 =    213.000 ...   468.000 secs\n",
      "Ready.\n",
      "Reading 0 ... 255000  =      0.000 ...   255.000 secs...\n"
     ]
    },
    {
     "name": "stderr",
     "output_type": "stream",
     "text": [
      "C:\\Users\\marco\\AppData\\Local\\Temp\\ipykernel_6904\\3667833851.py:14: RuntimeWarning: This filename (../SEED_FRA_OUTPUT/NEGATIVE/4_3_trial_1_signals.fif) does not conform to MNE naming conventions. All raw files should end with raw.fif, raw_sss.fif, raw_tsss.fif, _meg.fif, _eeg.fif, _ieeg.fif, raw.fif.gz, raw_sss.fif.gz, raw_tsss.fif.gz, _meg.fif.gz, _eeg.fif.gz or _ieeg.fif.gz\n",
      "  eeg_data = mne.io.read_raw_fif(name, preload=True)\n"
     ]
    },
    {
     "name": "stdout",
     "output_type": "stream",
     "text": [
      "Opening raw data file ../SEED_FRA_OUTPUT/NEGATIVE/4_3_trial_3_signals.fif...\n",
      "    Range : 687000 ... 962000 =    687.000 ...   962.000 secs\n",
      "Ready.\n",
      "Reading 0 ... 275000  =      0.000 ...   275.000 secs...\n"
     ]
    },
    {
     "name": "stderr",
     "output_type": "stream",
     "text": [
      "C:\\Users\\marco\\AppData\\Local\\Temp\\ipykernel_6904\\3667833851.py:14: RuntimeWarning: This filename (../SEED_FRA_OUTPUT/NEGATIVE/4_3_trial_3_signals.fif) does not conform to MNE naming conventions. All raw files should end with raw.fif, raw_sss.fif, raw_tsss.fif, _meg.fif, _eeg.fif, _ieeg.fif, raw.fif.gz, raw_sss.fif.gz, raw_tsss.fif.gz, _meg.fif.gz, _eeg.fif.gz or _ieeg.fif.gz\n",
      "  eeg_data = mne.io.read_raw_fif(name, preload=True)\n"
     ]
    },
    {
     "name": "stdout",
     "output_type": "stream",
     "text": [
      "Opening raw data file ../SEED_FRA_OUTPUT/NEGATIVE/4_3_trial_6_signals.fif...\n",
      "    Range : 1252000 ... 1552000 =   1252.000 ...  1552.000 secs\n",
      "Ready.\n",
      "Reading 0 ... 300000  =      0.000 ...   300.000 secs...\n"
     ]
    },
    {
     "name": "stderr",
     "output_type": "stream",
     "text": [
      "C:\\Users\\marco\\AppData\\Local\\Temp\\ipykernel_6904\\3667833851.py:14: RuntimeWarning: This filename (../SEED_FRA_OUTPUT/NEGATIVE/4_3_trial_6_signals.fif) does not conform to MNE naming conventions. All raw files should end with raw.fif, raw_sss.fif, raw_tsss.fif, _meg.fif, _eeg.fif, _ieeg.fif, raw.fif.gz, raw_sss.fif.gz, raw_tsss.fif.gz, _meg.fif.gz, _eeg.fif.gz or _ieeg.fif.gz\n",
      "  eeg_data = mne.io.read_raw_fif(name, preload=True)\n"
     ]
    },
    {
     "name": "stdout",
     "output_type": "stream",
     "text": [
      "Opening raw data file ../SEED_FRA_OUTPUT/NEGATIVE/4_3_trial_9_signals.fif...\n",
      "    Range : 1887000 ... 2154000 =   1887.000 ...  2154.000 secs\n",
      "Ready.\n",
      "Reading 0 ... 267000  =      0.000 ...   267.000 secs...\n"
     ]
    },
    {
     "name": "stderr",
     "output_type": "stream",
     "text": [
      "C:\\Users\\marco\\AppData\\Local\\Temp\\ipykernel_6904\\3667833851.py:14: RuntimeWarning: This filename (../SEED_FRA_OUTPUT/NEGATIVE/4_3_trial_9_signals.fif) does not conform to MNE naming conventions. All raw files should end with raw.fif, raw_sss.fif, raw_tsss.fif, _meg.fif, _eeg.fif, _ieeg.fif, raw.fif.gz, raw_sss.fif.gz, raw_tsss.fif.gz, _meg.fif.gz, _eeg.fif.gz or _ieeg.fif.gz\n",
      "  eeg_data = mne.io.read_raw_fif(name, preload=True)\n"
     ]
    },
    {
     "name": "stdout",
     "output_type": "stream",
     "text": [
      "Opening raw data file ../SEED_FRA_OUTPUT/NEGATIVE/5_1_trial_14_signals.fif...\n",
      "    Range : 2783000 ... 2910000 =   2783.000 ...  2910.000 secs\n",
      "Ready.\n",
      "Reading 0 ... 127000  =      0.000 ...   127.000 secs...\n"
     ]
    },
    {
     "name": "stderr",
     "output_type": "stream",
     "text": [
      "C:\\Users\\marco\\AppData\\Local\\Temp\\ipykernel_6904\\3667833851.py:14: RuntimeWarning: This filename (../SEED_FRA_OUTPUT/NEGATIVE/5_1_trial_14_signals.fif) does not conform to MNE naming conventions. All raw files should end with raw.fif, raw_sss.fif, raw_tsss.fif, _meg.fif, _eeg.fif, _ieeg.fif, raw.fif.gz, raw_sss.fif.gz, raw_tsss.fif.gz, _meg.fif.gz, _eeg.fif.gz or _ieeg.fif.gz\n",
      "  eeg_data = mne.io.read_raw_fif(name, preload=True)\n"
     ]
    },
    {
     "name": "stdout",
     "output_type": "stream",
     "text": [
      "Opening raw data file ../SEED_FRA_OUTPUT/NEGATIVE/5_1_trial_15_signals.fif...\n",
      "    Range : 2931000 ... 3008000 =   2931.000 ...  3008.000 secs\n",
      "Ready.\n",
      "Reading 0 ... 77000  =      0.000 ...    77.000 secs...\n"
     ]
    },
    {
     "name": "stderr",
     "output_type": "stream",
     "text": [
      "C:\\Users\\marco\\AppData\\Local\\Temp\\ipykernel_6904\\3667833851.py:14: RuntimeWarning: This filename (../SEED_FRA_OUTPUT/NEGATIVE/5_1_trial_15_signals.fif) does not conform to MNE naming conventions. All raw files should end with raw.fif, raw_sss.fif, raw_tsss.fif, _meg.fif, _eeg.fif, _ieeg.fif, raw.fif.gz, raw_sss.fif.gz, raw_tsss.fif.gz, _meg.fif.gz, _eeg.fif.gz or _ieeg.fif.gz\n",
      "  eeg_data = mne.io.read_raw_fif(name, preload=True)\n"
     ]
    },
    {
     "name": "stdout",
     "output_type": "stream",
     "text": [
      "Opening raw data file ../SEED_FRA_OUTPUT/NEGATIVE/5_1_trial_18_signals.fif...\n",
      "    Range : 3369000 ... 3495000 =   3369.000 ...  3495.000 secs\n",
      "Ready.\n",
      "Reading 0 ... 126000  =      0.000 ...   126.000 secs...\n"
     ]
    },
    {
     "name": "stderr",
     "output_type": "stream",
     "text": [
      "C:\\Users\\marco\\AppData\\Local\\Temp\\ipykernel_6904\\3667833851.py:14: RuntimeWarning: This filename (../SEED_FRA_OUTPUT/NEGATIVE/5_1_trial_18_signals.fif) does not conform to MNE naming conventions. All raw files should end with raw.fif, raw_sss.fif, raw_tsss.fif, _meg.fif, _eeg.fif, _ieeg.fif, raw.fif.gz, raw_sss.fif.gz, raw_tsss.fif.gz, _meg.fif.gz, _eeg.fif.gz or _ieeg.fif.gz\n",
      "  eeg_data = mne.io.read_raw_fif(name, preload=True)\n"
     ]
    },
    {
     "name": "stdout",
     "output_type": "stream",
     "text": [
      "Opening raw data file ../SEED_FRA_OUTPUT/NEGATIVE/5_1_trial_1_signals.fif...\n",
      "    Range : 213000 ... 468000 =    213.000 ...   468.000 secs\n",
      "Ready.\n",
      "Reading 0 ... 255000  =      0.000 ...   255.000 secs...\n"
     ]
    },
    {
     "name": "stderr",
     "output_type": "stream",
     "text": [
      "C:\\Users\\marco\\AppData\\Local\\Temp\\ipykernel_6904\\3667833851.py:14: RuntimeWarning: This filename (../SEED_FRA_OUTPUT/NEGATIVE/5_1_trial_1_signals.fif) does not conform to MNE naming conventions. All raw files should end with raw.fif, raw_sss.fif, raw_tsss.fif, _meg.fif, _eeg.fif, _ieeg.fif, raw.fif.gz, raw_sss.fif.gz, raw_tsss.fif.gz, _meg.fif.gz, _eeg.fif.gz or _ieeg.fif.gz\n",
      "  eeg_data = mne.io.read_raw_fif(name, preload=True)\n"
     ]
    },
    {
     "name": "stdout",
     "output_type": "stream",
     "text": [
      "Opening raw data file ../SEED_FRA_OUTPUT/NEGATIVE/5_1_trial_3_signals.fif...\n",
      "    Range : 687000 ... 962000 =    687.000 ...   962.000 secs\n",
      "Ready.\n",
      "Reading 0 ... 275000  =      0.000 ...   275.000 secs...\n"
     ]
    },
    {
     "name": "stderr",
     "output_type": "stream",
     "text": [
      "C:\\Users\\marco\\AppData\\Local\\Temp\\ipykernel_6904\\3667833851.py:14: RuntimeWarning: This filename (../SEED_FRA_OUTPUT/NEGATIVE/5_1_trial_3_signals.fif) does not conform to MNE naming conventions. All raw files should end with raw.fif, raw_sss.fif, raw_tsss.fif, _meg.fif, _eeg.fif, _ieeg.fif, raw.fif.gz, raw_sss.fif.gz, raw_tsss.fif.gz, _meg.fif.gz, _eeg.fif.gz or _ieeg.fif.gz\n",
      "  eeg_data = mne.io.read_raw_fif(name, preload=True)\n"
     ]
    },
    {
     "name": "stdout",
     "output_type": "stream",
     "text": [
      "Opening raw data file ../SEED_FRA_OUTPUT/NEGATIVE/5_1_trial_6_signals.fif...\n",
      "    Range : 1252000 ... 1552000 =   1252.000 ...  1552.000 secs\n",
      "Ready.\n",
      "Reading 0 ... 300000  =      0.000 ...   300.000 secs...\n"
     ]
    },
    {
     "name": "stderr",
     "output_type": "stream",
     "text": [
      "C:\\Users\\marco\\AppData\\Local\\Temp\\ipykernel_6904\\3667833851.py:14: RuntimeWarning: This filename (../SEED_FRA_OUTPUT/NEGATIVE/5_1_trial_6_signals.fif) does not conform to MNE naming conventions. All raw files should end with raw.fif, raw_sss.fif, raw_tsss.fif, _meg.fif, _eeg.fif, _ieeg.fif, raw.fif.gz, raw_sss.fif.gz, raw_tsss.fif.gz, _meg.fif.gz, _eeg.fif.gz or _ieeg.fif.gz\n",
      "  eeg_data = mne.io.read_raw_fif(name, preload=True)\n"
     ]
    },
    {
     "name": "stdout",
     "output_type": "stream",
     "text": [
      "Opening raw data file ../SEED_FRA_OUTPUT/NEGATIVE/5_1_trial_9_signals.fif...\n",
      "    Range : 1887000 ... 2154000 =   1887.000 ...  2154.000 secs\n",
      "Ready.\n",
      "Reading 0 ... 267000  =      0.000 ...   267.000 secs...\n"
     ]
    },
    {
     "name": "stderr",
     "output_type": "stream",
     "text": [
      "C:\\Users\\marco\\AppData\\Local\\Temp\\ipykernel_6904\\3667833851.py:14: RuntimeWarning: This filename (../SEED_FRA_OUTPUT/NEGATIVE/5_1_trial_9_signals.fif) does not conform to MNE naming conventions. All raw files should end with raw.fif, raw_sss.fif, raw_tsss.fif, _meg.fif, _eeg.fif, _ieeg.fif, raw.fif.gz, raw_sss.fif.gz, raw_tsss.fif.gz, _meg.fif.gz, _eeg.fif.gz or _ieeg.fif.gz\n",
      "  eeg_data = mne.io.read_raw_fif(name, preload=True)\n"
     ]
    },
    {
     "name": "stdout",
     "output_type": "stream",
     "text": [
      "Opening raw data file ../SEED_FRA_OUTPUT/NEGATIVE/5_2_trial_14_signals.fif...\n",
      "    Range : 2783000 ... 2910000 =   2783.000 ...  2910.000 secs\n",
      "Ready.\n",
      "Reading 0 ... 127000  =      0.000 ...   127.000 secs...\n"
     ]
    },
    {
     "name": "stderr",
     "output_type": "stream",
     "text": [
      "C:\\Users\\marco\\AppData\\Local\\Temp\\ipykernel_6904\\3667833851.py:14: RuntimeWarning: This filename (../SEED_FRA_OUTPUT/NEGATIVE/5_2_trial_14_signals.fif) does not conform to MNE naming conventions. All raw files should end with raw.fif, raw_sss.fif, raw_tsss.fif, _meg.fif, _eeg.fif, _ieeg.fif, raw.fif.gz, raw_sss.fif.gz, raw_tsss.fif.gz, _meg.fif.gz, _eeg.fif.gz or _ieeg.fif.gz\n",
      "  eeg_data = mne.io.read_raw_fif(name, preload=True)\n"
     ]
    },
    {
     "name": "stdout",
     "output_type": "stream",
     "text": [
      "Opening raw data file ../SEED_FRA_OUTPUT/NEGATIVE/5_2_trial_15_signals.fif...\n",
      "    Range : 2931000 ... 3008000 =   2931.000 ...  3008.000 secs\n",
      "Ready.\n",
      "Reading 0 ... 77000  =      0.000 ...    77.000 secs...\n"
     ]
    },
    {
     "name": "stderr",
     "output_type": "stream",
     "text": [
      "C:\\Users\\marco\\AppData\\Local\\Temp\\ipykernel_6904\\3667833851.py:14: RuntimeWarning: This filename (../SEED_FRA_OUTPUT/NEGATIVE/5_2_trial_15_signals.fif) does not conform to MNE naming conventions. All raw files should end with raw.fif, raw_sss.fif, raw_tsss.fif, _meg.fif, _eeg.fif, _ieeg.fif, raw.fif.gz, raw_sss.fif.gz, raw_tsss.fif.gz, _meg.fif.gz, _eeg.fif.gz or _ieeg.fif.gz\n",
      "  eeg_data = mne.io.read_raw_fif(name, preload=True)\n"
     ]
    },
    {
     "name": "stdout",
     "output_type": "stream",
     "text": [
      "Opening raw data file ../SEED_FRA_OUTPUT/NEGATIVE/5_2_trial_18_signals.fif...\n",
      "    Range : 3369000 ... 3495000 =   3369.000 ...  3495.000 secs\n",
      "Ready.\n",
      "Reading 0 ... 126000  =      0.000 ...   126.000 secs...\n"
     ]
    },
    {
     "name": "stderr",
     "output_type": "stream",
     "text": [
      "C:\\Users\\marco\\AppData\\Local\\Temp\\ipykernel_6904\\3667833851.py:14: RuntimeWarning: This filename (../SEED_FRA_OUTPUT/NEGATIVE/5_2_trial_18_signals.fif) does not conform to MNE naming conventions. All raw files should end with raw.fif, raw_sss.fif, raw_tsss.fif, _meg.fif, _eeg.fif, _ieeg.fif, raw.fif.gz, raw_sss.fif.gz, raw_tsss.fif.gz, _meg.fif.gz, _eeg.fif.gz or _ieeg.fif.gz\n",
      "  eeg_data = mne.io.read_raw_fif(name, preload=True)\n"
     ]
    },
    {
     "name": "stdout",
     "output_type": "stream",
     "text": [
      "Opening raw data file ../SEED_FRA_OUTPUT/NEGATIVE/5_2_trial_1_signals.fif...\n",
      "    Range : 213000 ... 468000 =    213.000 ...   468.000 secs\n",
      "Ready.\n",
      "Reading 0 ... 255000  =      0.000 ...   255.000 secs...\n"
     ]
    },
    {
     "name": "stderr",
     "output_type": "stream",
     "text": [
      "C:\\Users\\marco\\AppData\\Local\\Temp\\ipykernel_6904\\3667833851.py:14: RuntimeWarning: This filename (../SEED_FRA_OUTPUT/NEGATIVE/5_2_trial_1_signals.fif) does not conform to MNE naming conventions. All raw files should end with raw.fif, raw_sss.fif, raw_tsss.fif, _meg.fif, _eeg.fif, _ieeg.fif, raw.fif.gz, raw_sss.fif.gz, raw_tsss.fif.gz, _meg.fif.gz, _eeg.fif.gz or _ieeg.fif.gz\n",
      "  eeg_data = mne.io.read_raw_fif(name, preload=True)\n"
     ]
    },
    {
     "name": "stdout",
     "output_type": "stream",
     "text": [
      "Opening raw data file ../SEED_FRA_OUTPUT/NEGATIVE/5_2_trial_3_signals.fif...\n",
      "    Range : 687000 ... 962000 =    687.000 ...   962.000 secs\n",
      "Ready.\n",
      "Reading 0 ... 275000  =      0.000 ...   275.000 secs...\n"
     ]
    },
    {
     "name": "stderr",
     "output_type": "stream",
     "text": [
      "C:\\Users\\marco\\AppData\\Local\\Temp\\ipykernel_6904\\3667833851.py:14: RuntimeWarning: This filename (../SEED_FRA_OUTPUT/NEGATIVE/5_2_trial_3_signals.fif) does not conform to MNE naming conventions. All raw files should end with raw.fif, raw_sss.fif, raw_tsss.fif, _meg.fif, _eeg.fif, _ieeg.fif, raw.fif.gz, raw_sss.fif.gz, raw_tsss.fif.gz, _meg.fif.gz, _eeg.fif.gz or _ieeg.fif.gz\n",
      "  eeg_data = mne.io.read_raw_fif(name, preload=True)\n"
     ]
    },
    {
     "name": "stdout",
     "output_type": "stream",
     "text": [
      "Opening raw data file ../SEED_FRA_OUTPUT/NEGATIVE/5_2_trial_6_signals.fif...\n",
      "    Range : 1252000 ... 1552000 =   1252.000 ...  1552.000 secs\n",
      "Ready.\n",
      "Reading 0 ... 300000  =      0.000 ...   300.000 secs...\n"
     ]
    },
    {
     "name": "stderr",
     "output_type": "stream",
     "text": [
      "C:\\Users\\marco\\AppData\\Local\\Temp\\ipykernel_6904\\3667833851.py:14: RuntimeWarning: This filename (../SEED_FRA_OUTPUT/NEGATIVE/5_2_trial_6_signals.fif) does not conform to MNE naming conventions. All raw files should end with raw.fif, raw_sss.fif, raw_tsss.fif, _meg.fif, _eeg.fif, _ieeg.fif, raw.fif.gz, raw_sss.fif.gz, raw_tsss.fif.gz, _meg.fif.gz, _eeg.fif.gz or _ieeg.fif.gz\n",
      "  eeg_data = mne.io.read_raw_fif(name, preload=True)\n"
     ]
    },
    {
     "name": "stdout",
     "output_type": "stream",
     "text": [
      "Opening raw data file ../SEED_FRA_OUTPUT/NEGATIVE/5_2_trial_9_signals.fif...\n",
      "    Range : 1887000 ... 2154000 =   1887.000 ...  2154.000 secs\n",
      "Ready.\n",
      "Reading 0 ... 267000  =      0.000 ...   267.000 secs...\n"
     ]
    },
    {
     "name": "stderr",
     "output_type": "stream",
     "text": [
      "C:\\Users\\marco\\AppData\\Local\\Temp\\ipykernel_6904\\3667833851.py:14: RuntimeWarning: This filename (../SEED_FRA_OUTPUT/NEGATIVE/5_2_trial_9_signals.fif) does not conform to MNE naming conventions. All raw files should end with raw.fif, raw_sss.fif, raw_tsss.fif, _meg.fif, _eeg.fif, _ieeg.fif, raw.fif.gz, raw_sss.fif.gz, raw_tsss.fif.gz, _meg.fif.gz, _eeg.fif.gz or _ieeg.fif.gz\n",
      "  eeg_data = mne.io.read_raw_fif(name, preload=True)\n"
     ]
    },
    {
     "name": "stdout",
     "output_type": "stream",
     "text": [
      "Opening raw data file ../SEED_FRA_OUTPUT/NEGATIVE/5_3_trial_14_signals.fif...\n",
      "    Range : 2783000 ... 2910000 =   2783.000 ...  2910.000 secs\n",
      "Ready.\n",
      "Reading 0 ... 127000  =      0.000 ...   127.000 secs...\n"
     ]
    },
    {
     "name": "stderr",
     "output_type": "stream",
     "text": [
      "C:\\Users\\marco\\AppData\\Local\\Temp\\ipykernel_6904\\3667833851.py:14: RuntimeWarning: This filename (../SEED_FRA_OUTPUT/NEGATIVE/5_3_trial_14_signals.fif) does not conform to MNE naming conventions. All raw files should end with raw.fif, raw_sss.fif, raw_tsss.fif, _meg.fif, _eeg.fif, _ieeg.fif, raw.fif.gz, raw_sss.fif.gz, raw_tsss.fif.gz, _meg.fif.gz, _eeg.fif.gz or _ieeg.fif.gz\n",
      "  eeg_data = mne.io.read_raw_fif(name, preload=True)\n"
     ]
    },
    {
     "name": "stdout",
     "output_type": "stream",
     "text": [
      "Opening raw data file ../SEED_FRA_OUTPUT/NEGATIVE/5_3_trial_15_signals.fif...\n",
      "    Range : 2931000 ... 3008000 =   2931.000 ...  3008.000 secs\n",
      "Ready.\n",
      "Reading 0 ... 77000  =      0.000 ...    77.000 secs...\n"
     ]
    },
    {
     "name": "stderr",
     "output_type": "stream",
     "text": [
      "C:\\Users\\marco\\AppData\\Local\\Temp\\ipykernel_6904\\3667833851.py:14: RuntimeWarning: This filename (../SEED_FRA_OUTPUT/NEGATIVE/5_3_trial_15_signals.fif) does not conform to MNE naming conventions. All raw files should end with raw.fif, raw_sss.fif, raw_tsss.fif, _meg.fif, _eeg.fif, _ieeg.fif, raw.fif.gz, raw_sss.fif.gz, raw_tsss.fif.gz, _meg.fif.gz, _eeg.fif.gz or _ieeg.fif.gz\n",
      "  eeg_data = mne.io.read_raw_fif(name, preload=True)\n"
     ]
    },
    {
     "name": "stdout",
     "output_type": "stream",
     "text": [
      "Opening raw data file ../SEED_FRA_OUTPUT/NEGATIVE/5_3_trial_18_signals.fif...\n",
      "    Range : 3369000 ... 3495000 =   3369.000 ...  3495.000 secs\n",
      "Ready.\n",
      "Reading 0 ... 126000  =      0.000 ...   126.000 secs...\n"
     ]
    },
    {
     "name": "stderr",
     "output_type": "stream",
     "text": [
      "C:\\Users\\marco\\AppData\\Local\\Temp\\ipykernel_6904\\3667833851.py:14: RuntimeWarning: This filename (../SEED_FRA_OUTPUT/NEGATIVE/5_3_trial_18_signals.fif) does not conform to MNE naming conventions. All raw files should end with raw.fif, raw_sss.fif, raw_tsss.fif, _meg.fif, _eeg.fif, _ieeg.fif, raw.fif.gz, raw_sss.fif.gz, raw_tsss.fif.gz, _meg.fif.gz, _eeg.fif.gz or _ieeg.fif.gz\n",
      "  eeg_data = mne.io.read_raw_fif(name, preload=True)\n"
     ]
    },
    {
     "name": "stdout",
     "output_type": "stream",
     "text": [
      "Opening raw data file ../SEED_FRA_OUTPUT/NEGATIVE/5_3_trial_1_signals.fif...\n",
      "    Range : 213000 ... 468000 =    213.000 ...   468.000 secs\n",
      "Ready.\n",
      "Reading 0 ... 255000  =      0.000 ...   255.000 secs...\n"
     ]
    },
    {
     "name": "stderr",
     "output_type": "stream",
     "text": [
      "C:\\Users\\marco\\AppData\\Local\\Temp\\ipykernel_6904\\3667833851.py:14: RuntimeWarning: This filename (../SEED_FRA_OUTPUT/NEGATIVE/5_3_trial_1_signals.fif) does not conform to MNE naming conventions. All raw files should end with raw.fif, raw_sss.fif, raw_tsss.fif, _meg.fif, _eeg.fif, _ieeg.fif, raw.fif.gz, raw_sss.fif.gz, raw_tsss.fif.gz, _meg.fif.gz, _eeg.fif.gz or _ieeg.fif.gz\n",
      "  eeg_data = mne.io.read_raw_fif(name, preload=True)\n"
     ]
    },
    {
     "name": "stdout",
     "output_type": "stream",
     "text": [
      "Opening raw data file ../SEED_FRA_OUTPUT/NEGATIVE/5_3_trial_3_signals.fif...\n",
      "    Range : 687000 ... 962000 =    687.000 ...   962.000 secs\n",
      "Ready.\n",
      "Reading 0 ... 275000  =      0.000 ...   275.000 secs...\n"
     ]
    },
    {
     "name": "stderr",
     "output_type": "stream",
     "text": [
      "C:\\Users\\marco\\AppData\\Local\\Temp\\ipykernel_6904\\3667833851.py:14: RuntimeWarning: This filename (../SEED_FRA_OUTPUT/NEGATIVE/5_3_trial_3_signals.fif) does not conform to MNE naming conventions. All raw files should end with raw.fif, raw_sss.fif, raw_tsss.fif, _meg.fif, _eeg.fif, _ieeg.fif, raw.fif.gz, raw_sss.fif.gz, raw_tsss.fif.gz, _meg.fif.gz, _eeg.fif.gz or _ieeg.fif.gz\n",
      "  eeg_data = mne.io.read_raw_fif(name, preload=True)\n"
     ]
    },
    {
     "name": "stdout",
     "output_type": "stream",
     "text": [
      "Opening raw data file ../SEED_FRA_OUTPUT/NEGATIVE/5_3_trial_6_signals.fif...\n",
      "    Range : 1252000 ... 1552000 =   1252.000 ...  1552.000 secs\n",
      "Ready.\n",
      "Reading 0 ... 300000  =      0.000 ...   300.000 secs...\n"
     ]
    },
    {
     "name": "stderr",
     "output_type": "stream",
     "text": [
      "C:\\Users\\marco\\AppData\\Local\\Temp\\ipykernel_6904\\3667833851.py:14: RuntimeWarning: This filename (../SEED_FRA_OUTPUT/NEGATIVE/5_3_trial_6_signals.fif) does not conform to MNE naming conventions. All raw files should end with raw.fif, raw_sss.fif, raw_tsss.fif, _meg.fif, _eeg.fif, _ieeg.fif, raw.fif.gz, raw_sss.fif.gz, raw_tsss.fif.gz, _meg.fif.gz, _eeg.fif.gz or _ieeg.fif.gz\n",
      "  eeg_data = mne.io.read_raw_fif(name, preload=True)\n"
     ]
    },
    {
     "name": "stdout",
     "output_type": "stream",
     "text": [
      "Opening raw data file ../SEED_FRA_OUTPUT/NEGATIVE/5_3_trial_9_signals.fif...\n",
      "    Range : 1887000 ... 2154000 =   1887.000 ...  2154.000 secs\n",
      "Ready.\n",
      "Reading 0 ... 267000  =      0.000 ...   267.000 secs...\n"
     ]
    },
    {
     "name": "stderr",
     "output_type": "stream",
     "text": [
      "C:\\Users\\marco\\AppData\\Local\\Temp\\ipykernel_6904\\3667833851.py:14: RuntimeWarning: This filename (../SEED_FRA_OUTPUT/NEGATIVE/5_3_trial_9_signals.fif) does not conform to MNE naming conventions. All raw files should end with raw.fif, raw_sss.fif, raw_tsss.fif, _meg.fif, _eeg.fif, _ieeg.fif, raw.fif.gz, raw_sss.fif.gz, raw_tsss.fif.gz, _meg.fif.gz, _eeg.fif.gz or _ieeg.fif.gz\n",
      "  eeg_data = mne.io.read_raw_fif(name, preload=True)\n"
     ]
    },
    {
     "name": "stdout",
     "output_type": "stream",
     "text": [
      "Opening raw data file ../SEED_FRA_OUTPUT/NEGATIVE/6_1_trial_14_signals.fif...\n",
      "    Range : 2783000 ... 2910000 =   2783.000 ...  2910.000 secs\n",
      "Ready.\n",
      "Reading 0 ... 127000  =      0.000 ...   127.000 secs...\n"
     ]
    },
    {
     "name": "stderr",
     "output_type": "stream",
     "text": [
      "C:\\Users\\marco\\AppData\\Local\\Temp\\ipykernel_6904\\3667833851.py:14: RuntimeWarning: This filename (../SEED_FRA_OUTPUT/NEGATIVE/6_1_trial_14_signals.fif) does not conform to MNE naming conventions. All raw files should end with raw.fif, raw_sss.fif, raw_tsss.fif, _meg.fif, _eeg.fif, _ieeg.fif, raw.fif.gz, raw_sss.fif.gz, raw_tsss.fif.gz, _meg.fif.gz, _eeg.fif.gz or _ieeg.fif.gz\n",
      "  eeg_data = mne.io.read_raw_fif(name, preload=True)\n"
     ]
    },
    {
     "name": "stdout",
     "output_type": "stream",
     "text": [
      "Opening raw data file ../SEED_FRA_OUTPUT/NEGATIVE/6_1_trial_15_signals.fif...\n",
      "    Range : 2931000 ... 3008000 =   2931.000 ...  3008.000 secs\n",
      "Ready.\n",
      "Reading 0 ... 77000  =      0.000 ...    77.000 secs...\n"
     ]
    },
    {
     "name": "stderr",
     "output_type": "stream",
     "text": [
      "C:\\Users\\marco\\AppData\\Local\\Temp\\ipykernel_6904\\3667833851.py:14: RuntimeWarning: This filename (../SEED_FRA_OUTPUT/NEGATIVE/6_1_trial_15_signals.fif) does not conform to MNE naming conventions. All raw files should end with raw.fif, raw_sss.fif, raw_tsss.fif, _meg.fif, _eeg.fif, _ieeg.fif, raw.fif.gz, raw_sss.fif.gz, raw_tsss.fif.gz, _meg.fif.gz, _eeg.fif.gz or _ieeg.fif.gz\n",
      "  eeg_data = mne.io.read_raw_fif(name, preload=True)\n"
     ]
    },
    {
     "name": "stdout",
     "output_type": "stream",
     "text": [
      "Opening raw data file ../SEED_FRA_OUTPUT/NEGATIVE/6_1_trial_18_signals.fif...\n",
      "    Range : 3369000 ... 3495000 =   3369.000 ...  3495.000 secs\n",
      "Ready.\n",
      "Reading 0 ... 126000  =      0.000 ...   126.000 secs...\n"
     ]
    },
    {
     "name": "stderr",
     "output_type": "stream",
     "text": [
      "C:\\Users\\marco\\AppData\\Local\\Temp\\ipykernel_6904\\3667833851.py:14: RuntimeWarning: This filename (../SEED_FRA_OUTPUT/NEGATIVE/6_1_trial_18_signals.fif) does not conform to MNE naming conventions. All raw files should end with raw.fif, raw_sss.fif, raw_tsss.fif, _meg.fif, _eeg.fif, _ieeg.fif, raw.fif.gz, raw_sss.fif.gz, raw_tsss.fif.gz, _meg.fif.gz, _eeg.fif.gz or _ieeg.fif.gz\n",
      "  eeg_data = mne.io.read_raw_fif(name, preload=True)\n"
     ]
    },
    {
     "name": "stdout",
     "output_type": "stream",
     "text": [
      "Opening raw data file ../SEED_FRA_OUTPUT/NEGATIVE/6_1_trial_1_signals.fif...\n",
      "    Range : 213000 ... 468000 =    213.000 ...   468.000 secs\n",
      "Ready.\n",
      "Reading 0 ... 255000  =      0.000 ...   255.000 secs...\n"
     ]
    },
    {
     "name": "stderr",
     "output_type": "stream",
     "text": [
      "C:\\Users\\marco\\AppData\\Local\\Temp\\ipykernel_6904\\3667833851.py:14: RuntimeWarning: This filename (../SEED_FRA_OUTPUT/NEGATIVE/6_1_trial_1_signals.fif) does not conform to MNE naming conventions. All raw files should end with raw.fif, raw_sss.fif, raw_tsss.fif, _meg.fif, _eeg.fif, _ieeg.fif, raw.fif.gz, raw_sss.fif.gz, raw_tsss.fif.gz, _meg.fif.gz, _eeg.fif.gz or _ieeg.fif.gz\n",
      "  eeg_data = mne.io.read_raw_fif(name, preload=True)\n"
     ]
    },
    {
     "name": "stdout",
     "output_type": "stream",
     "text": [
      "Opening raw data file ../SEED_FRA_OUTPUT/NEGATIVE/6_1_trial_3_signals.fif...\n",
      "    Range : 687000 ... 962000 =    687.000 ...   962.000 secs\n",
      "Ready.\n",
      "Reading 0 ... 275000  =      0.000 ...   275.000 secs...\n"
     ]
    },
    {
     "name": "stderr",
     "output_type": "stream",
     "text": [
      "C:\\Users\\marco\\AppData\\Local\\Temp\\ipykernel_6904\\3667833851.py:14: RuntimeWarning: This filename (../SEED_FRA_OUTPUT/NEGATIVE/6_1_trial_3_signals.fif) does not conform to MNE naming conventions. All raw files should end with raw.fif, raw_sss.fif, raw_tsss.fif, _meg.fif, _eeg.fif, _ieeg.fif, raw.fif.gz, raw_sss.fif.gz, raw_tsss.fif.gz, _meg.fif.gz, _eeg.fif.gz or _ieeg.fif.gz\n",
      "  eeg_data = mne.io.read_raw_fif(name, preload=True)\n"
     ]
    },
    {
     "name": "stdout",
     "output_type": "stream",
     "text": [
      "Opening raw data file ../SEED_FRA_OUTPUT/NEGATIVE/6_1_trial_6_signals.fif...\n",
      "    Range : 1252000 ... 1552000 =   1252.000 ...  1552.000 secs\n",
      "Ready.\n",
      "Reading 0 ... 300000  =      0.000 ...   300.000 secs...\n"
     ]
    },
    {
     "name": "stderr",
     "output_type": "stream",
     "text": [
      "C:\\Users\\marco\\AppData\\Local\\Temp\\ipykernel_6904\\3667833851.py:14: RuntimeWarning: This filename (../SEED_FRA_OUTPUT/NEGATIVE/6_1_trial_6_signals.fif) does not conform to MNE naming conventions. All raw files should end with raw.fif, raw_sss.fif, raw_tsss.fif, _meg.fif, _eeg.fif, _ieeg.fif, raw.fif.gz, raw_sss.fif.gz, raw_tsss.fif.gz, _meg.fif.gz, _eeg.fif.gz or _ieeg.fif.gz\n",
      "  eeg_data = mne.io.read_raw_fif(name, preload=True)\n"
     ]
    },
    {
     "name": "stdout",
     "output_type": "stream",
     "text": [
      "Opening raw data file ../SEED_FRA_OUTPUT/NEGATIVE/6_1_trial_9_signals.fif...\n",
      "    Range : 1887000 ... 2154000 =   1887.000 ...  2154.000 secs\n",
      "Ready.\n",
      "Reading 0 ... 267000  =      0.000 ...   267.000 secs...\n"
     ]
    },
    {
     "name": "stderr",
     "output_type": "stream",
     "text": [
      "C:\\Users\\marco\\AppData\\Local\\Temp\\ipykernel_6904\\3667833851.py:14: RuntimeWarning: This filename (../SEED_FRA_OUTPUT/NEGATIVE/6_1_trial_9_signals.fif) does not conform to MNE naming conventions. All raw files should end with raw.fif, raw_sss.fif, raw_tsss.fif, _meg.fif, _eeg.fif, _ieeg.fif, raw.fif.gz, raw_sss.fif.gz, raw_tsss.fif.gz, _meg.fif.gz, _eeg.fif.gz or _ieeg.fif.gz\n",
      "  eeg_data = mne.io.read_raw_fif(name, preload=True)\n"
     ]
    },
    {
     "name": "stdout",
     "output_type": "stream",
     "text": [
      "Opening raw data file ../SEED_FRA_OUTPUT/NEGATIVE/6_2_trial_14_signals.fif...\n",
      "    Range : 2783000 ... 2910000 =   2783.000 ...  2910.000 secs\n",
      "Ready.\n",
      "Reading 0 ... 127000  =      0.000 ...   127.000 secs...\n"
     ]
    },
    {
     "name": "stderr",
     "output_type": "stream",
     "text": [
      "C:\\Users\\marco\\AppData\\Local\\Temp\\ipykernel_6904\\3667833851.py:14: RuntimeWarning: This filename (../SEED_FRA_OUTPUT/NEGATIVE/6_2_trial_14_signals.fif) does not conform to MNE naming conventions. All raw files should end with raw.fif, raw_sss.fif, raw_tsss.fif, _meg.fif, _eeg.fif, _ieeg.fif, raw.fif.gz, raw_sss.fif.gz, raw_tsss.fif.gz, _meg.fif.gz, _eeg.fif.gz or _ieeg.fif.gz\n",
      "  eeg_data = mne.io.read_raw_fif(name, preload=True)\n"
     ]
    },
    {
     "name": "stdout",
     "output_type": "stream",
     "text": [
      "Opening raw data file ../SEED_FRA_OUTPUT/NEGATIVE/6_2_trial_15_signals.fif...\n",
      "    Range : 2931000 ... 3008000 =   2931.000 ...  3008.000 secs\n",
      "Ready.\n",
      "Reading 0 ... 77000  =      0.000 ...    77.000 secs...\n"
     ]
    },
    {
     "name": "stderr",
     "output_type": "stream",
     "text": [
      "C:\\Users\\marco\\AppData\\Local\\Temp\\ipykernel_6904\\3667833851.py:14: RuntimeWarning: This filename (../SEED_FRA_OUTPUT/NEGATIVE/6_2_trial_15_signals.fif) does not conform to MNE naming conventions. All raw files should end with raw.fif, raw_sss.fif, raw_tsss.fif, _meg.fif, _eeg.fif, _ieeg.fif, raw.fif.gz, raw_sss.fif.gz, raw_tsss.fif.gz, _meg.fif.gz, _eeg.fif.gz or _ieeg.fif.gz\n",
      "  eeg_data = mne.io.read_raw_fif(name, preload=True)\n"
     ]
    },
    {
     "name": "stdout",
     "output_type": "stream",
     "text": [
      "Opening raw data file ../SEED_FRA_OUTPUT/NEGATIVE/6_2_trial_18_signals.fif...\n",
      "    Range : 3369000 ... 3495000 =   3369.000 ...  3495.000 secs\n",
      "Ready.\n",
      "Reading 0 ... 126000  =      0.000 ...   126.000 secs...\n"
     ]
    },
    {
     "name": "stderr",
     "output_type": "stream",
     "text": [
      "C:\\Users\\marco\\AppData\\Local\\Temp\\ipykernel_6904\\3667833851.py:14: RuntimeWarning: This filename (../SEED_FRA_OUTPUT/NEGATIVE/6_2_trial_18_signals.fif) does not conform to MNE naming conventions. All raw files should end with raw.fif, raw_sss.fif, raw_tsss.fif, _meg.fif, _eeg.fif, _ieeg.fif, raw.fif.gz, raw_sss.fif.gz, raw_tsss.fif.gz, _meg.fif.gz, _eeg.fif.gz or _ieeg.fif.gz\n",
      "  eeg_data = mne.io.read_raw_fif(name, preload=True)\n"
     ]
    },
    {
     "name": "stdout",
     "output_type": "stream",
     "text": [
      "Opening raw data file ../SEED_FRA_OUTPUT/NEGATIVE/6_2_trial_1_signals.fif...\n",
      "    Range : 213000 ... 468000 =    213.000 ...   468.000 secs\n",
      "Ready.\n",
      "Reading 0 ... 255000  =      0.000 ...   255.000 secs...\n"
     ]
    },
    {
     "name": "stderr",
     "output_type": "stream",
     "text": [
      "C:\\Users\\marco\\AppData\\Local\\Temp\\ipykernel_6904\\3667833851.py:14: RuntimeWarning: This filename (../SEED_FRA_OUTPUT/NEGATIVE/6_2_trial_1_signals.fif) does not conform to MNE naming conventions. All raw files should end with raw.fif, raw_sss.fif, raw_tsss.fif, _meg.fif, _eeg.fif, _ieeg.fif, raw.fif.gz, raw_sss.fif.gz, raw_tsss.fif.gz, _meg.fif.gz, _eeg.fif.gz or _ieeg.fif.gz\n",
      "  eeg_data = mne.io.read_raw_fif(name, preload=True)\n"
     ]
    },
    {
     "name": "stdout",
     "output_type": "stream",
     "text": [
      "Opening raw data file ../SEED_FRA_OUTPUT/NEGATIVE/6_2_trial_3_signals.fif...\n",
      "    Range : 687000 ... 962000 =    687.000 ...   962.000 secs\n",
      "Ready.\n",
      "Reading 0 ... 275000  =      0.000 ...   275.000 secs...\n"
     ]
    },
    {
     "name": "stderr",
     "output_type": "stream",
     "text": [
      "C:\\Users\\marco\\AppData\\Local\\Temp\\ipykernel_6904\\3667833851.py:14: RuntimeWarning: This filename (../SEED_FRA_OUTPUT/NEGATIVE/6_2_trial_3_signals.fif) does not conform to MNE naming conventions. All raw files should end with raw.fif, raw_sss.fif, raw_tsss.fif, _meg.fif, _eeg.fif, _ieeg.fif, raw.fif.gz, raw_sss.fif.gz, raw_tsss.fif.gz, _meg.fif.gz, _eeg.fif.gz or _ieeg.fif.gz\n",
      "  eeg_data = mne.io.read_raw_fif(name, preload=True)\n"
     ]
    },
    {
     "name": "stdout",
     "output_type": "stream",
     "text": [
      "Opening raw data file ../SEED_FRA_OUTPUT/NEGATIVE/6_2_trial_6_signals.fif...\n",
      "    Range : 1252000 ... 1552000 =   1252.000 ...  1552.000 secs\n",
      "Ready.\n",
      "Reading 0 ... 300000  =      0.000 ...   300.000 secs...\n"
     ]
    },
    {
     "name": "stderr",
     "output_type": "stream",
     "text": [
      "C:\\Users\\marco\\AppData\\Local\\Temp\\ipykernel_6904\\3667833851.py:14: RuntimeWarning: This filename (../SEED_FRA_OUTPUT/NEGATIVE/6_2_trial_6_signals.fif) does not conform to MNE naming conventions. All raw files should end with raw.fif, raw_sss.fif, raw_tsss.fif, _meg.fif, _eeg.fif, _ieeg.fif, raw.fif.gz, raw_sss.fif.gz, raw_tsss.fif.gz, _meg.fif.gz, _eeg.fif.gz or _ieeg.fif.gz\n",
      "  eeg_data = mne.io.read_raw_fif(name, preload=True)\n"
     ]
    },
    {
     "name": "stdout",
     "output_type": "stream",
     "text": [
      "Opening raw data file ../SEED_FRA_OUTPUT/NEGATIVE/6_2_trial_9_signals.fif...\n",
      "    Range : 1887000 ... 2154000 =   1887.000 ...  2154.000 secs\n",
      "Ready.\n",
      "Reading 0 ... 267000  =      0.000 ...   267.000 secs...\n"
     ]
    },
    {
     "name": "stderr",
     "output_type": "stream",
     "text": [
      "C:\\Users\\marco\\AppData\\Local\\Temp\\ipykernel_6904\\3667833851.py:14: RuntimeWarning: This filename (../SEED_FRA_OUTPUT/NEGATIVE/6_2_trial_9_signals.fif) does not conform to MNE naming conventions. All raw files should end with raw.fif, raw_sss.fif, raw_tsss.fif, _meg.fif, _eeg.fif, _ieeg.fif, raw.fif.gz, raw_sss.fif.gz, raw_tsss.fif.gz, _meg.fif.gz, _eeg.fif.gz or _ieeg.fif.gz\n",
      "  eeg_data = mne.io.read_raw_fif(name, preload=True)\n"
     ]
    },
    {
     "name": "stdout",
     "output_type": "stream",
     "text": [
      "Opening raw data file ../SEED_FRA_OUTPUT/NEGATIVE/6_3_trial_14_signals.fif...\n",
      "    Range : 2783000 ... 2910000 =   2783.000 ...  2910.000 secs\n",
      "Ready.\n",
      "Reading 0 ... 127000  =      0.000 ...   127.000 secs...\n"
     ]
    },
    {
     "name": "stderr",
     "output_type": "stream",
     "text": [
      "C:\\Users\\marco\\AppData\\Local\\Temp\\ipykernel_6904\\3667833851.py:14: RuntimeWarning: This filename (../SEED_FRA_OUTPUT/NEGATIVE/6_3_trial_14_signals.fif) does not conform to MNE naming conventions. All raw files should end with raw.fif, raw_sss.fif, raw_tsss.fif, _meg.fif, _eeg.fif, _ieeg.fif, raw.fif.gz, raw_sss.fif.gz, raw_tsss.fif.gz, _meg.fif.gz, _eeg.fif.gz or _ieeg.fif.gz\n",
      "  eeg_data = mne.io.read_raw_fif(name, preload=True)\n"
     ]
    },
    {
     "name": "stdout",
     "output_type": "stream",
     "text": [
      "Opening raw data file ../SEED_FRA_OUTPUT/NEGATIVE/6_3_trial_15_signals.fif...\n",
      "    Range : 2931000 ... 3008000 =   2931.000 ...  3008.000 secs\n",
      "Ready.\n",
      "Reading 0 ... 77000  =      0.000 ...    77.000 secs...\n"
     ]
    },
    {
     "name": "stderr",
     "output_type": "stream",
     "text": [
      "C:\\Users\\marco\\AppData\\Local\\Temp\\ipykernel_6904\\3667833851.py:14: RuntimeWarning: This filename (../SEED_FRA_OUTPUT/NEGATIVE/6_3_trial_15_signals.fif) does not conform to MNE naming conventions. All raw files should end with raw.fif, raw_sss.fif, raw_tsss.fif, _meg.fif, _eeg.fif, _ieeg.fif, raw.fif.gz, raw_sss.fif.gz, raw_tsss.fif.gz, _meg.fif.gz, _eeg.fif.gz or _ieeg.fif.gz\n",
      "  eeg_data = mne.io.read_raw_fif(name, preload=True)\n"
     ]
    },
    {
     "name": "stdout",
     "output_type": "stream",
     "text": [
      "Opening raw data file ../SEED_FRA_OUTPUT/NEGATIVE/6_3_trial_18_signals.fif...\n",
      "    Range : 3369000 ... 3495000 =   3369.000 ...  3495.000 secs\n",
      "Ready.\n",
      "Reading 0 ... 126000  =      0.000 ...   126.000 secs...\n"
     ]
    },
    {
     "name": "stderr",
     "output_type": "stream",
     "text": [
      "C:\\Users\\marco\\AppData\\Local\\Temp\\ipykernel_6904\\3667833851.py:14: RuntimeWarning: This filename (../SEED_FRA_OUTPUT/NEGATIVE/6_3_trial_18_signals.fif) does not conform to MNE naming conventions. All raw files should end with raw.fif, raw_sss.fif, raw_tsss.fif, _meg.fif, _eeg.fif, _ieeg.fif, raw.fif.gz, raw_sss.fif.gz, raw_tsss.fif.gz, _meg.fif.gz, _eeg.fif.gz or _ieeg.fif.gz\n",
      "  eeg_data = mne.io.read_raw_fif(name, preload=True)\n"
     ]
    },
    {
     "name": "stdout",
     "output_type": "stream",
     "text": [
      "Opening raw data file ../SEED_FRA_OUTPUT/NEGATIVE/6_3_trial_1_signals.fif...\n",
      "    Range : 213000 ... 468000 =    213.000 ...   468.000 secs\n",
      "Ready.\n",
      "Reading 0 ... 255000  =      0.000 ...   255.000 secs...\n"
     ]
    },
    {
     "name": "stderr",
     "output_type": "stream",
     "text": [
      "C:\\Users\\marco\\AppData\\Local\\Temp\\ipykernel_6904\\3667833851.py:14: RuntimeWarning: This filename (../SEED_FRA_OUTPUT/NEGATIVE/6_3_trial_1_signals.fif) does not conform to MNE naming conventions. All raw files should end with raw.fif, raw_sss.fif, raw_tsss.fif, _meg.fif, _eeg.fif, _ieeg.fif, raw.fif.gz, raw_sss.fif.gz, raw_tsss.fif.gz, _meg.fif.gz, _eeg.fif.gz or _ieeg.fif.gz\n",
      "  eeg_data = mne.io.read_raw_fif(name, preload=True)\n"
     ]
    },
    {
     "name": "stdout",
     "output_type": "stream",
     "text": [
      "Opening raw data file ../SEED_FRA_OUTPUT/NEGATIVE/6_3_trial_3_signals.fif...\n",
      "    Range : 687000 ... 962000 =    687.000 ...   962.000 secs\n",
      "Ready.\n",
      "Reading 0 ... 275000  =      0.000 ...   275.000 secs...\n"
     ]
    },
    {
     "name": "stderr",
     "output_type": "stream",
     "text": [
      "C:\\Users\\marco\\AppData\\Local\\Temp\\ipykernel_6904\\3667833851.py:14: RuntimeWarning: This filename (../SEED_FRA_OUTPUT/NEGATIVE/6_3_trial_3_signals.fif) does not conform to MNE naming conventions. All raw files should end with raw.fif, raw_sss.fif, raw_tsss.fif, _meg.fif, _eeg.fif, _ieeg.fif, raw.fif.gz, raw_sss.fif.gz, raw_tsss.fif.gz, _meg.fif.gz, _eeg.fif.gz or _ieeg.fif.gz\n",
      "  eeg_data = mne.io.read_raw_fif(name, preload=True)\n"
     ]
    },
    {
     "name": "stdout",
     "output_type": "stream",
     "text": [
      "Opening raw data file ../SEED_FRA_OUTPUT/NEGATIVE/6_3_trial_6_signals.fif...\n",
      "    Range : 1252000 ... 1552000 =   1252.000 ...  1552.000 secs\n",
      "Ready.\n",
      "Reading 0 ... 300000  =      0.000 ...   300.000 secs...\n"
     ]
    },
    {
     "name": "stderr",
     "output_type": "stream",
     "text": [
      "C:\\Users\\marco\\AppData\\Local\\Temp\\ipykernel_6904\\3667833851.py:14: RuntimeWarning: This filename (../SEED_FRA_OUTPUT/NEGATIVE/6_3_trial_6_signals.fif) does not conform to MNE naming conventions. All raw files should end with raw.fif, raw_sss.fif, raw_tsss.fif, _meg.fif, _eeg.fif, _ieeg.fif, raw.fif.gz, raw_sss.fif.gz, raw_tsss.fif.gz, _meg.fif.gz, _eeg.fif.gz or _ieeg.fif.gz\n",
      "  eeg_data = mne.io.read_raw_fif(name, preload=True)\n"
     ]
    },
    {
     "name": "stdout",
     "output_type": "stream",
     "text": [
      "Opening raw data file ../SEED_FRA_OUTPUT/NEGATIVE/6_3_trial_9_signals.fif...\n",
      "    Range : 1887000 ... 2154000 =   1887.000 ...  2154.000 secs\n",
      "Ready.\n",
      "Reading 0 ... 267000  =      0.000 ...   267.000 secs...\n"
     ]
    },
    {
     "name": "stderr",
     "output_type": "stream",
     "text": [
      "C:\\Users\\marco\\AppData\\Local\\Temp\\ipykernel_6904\\3667833851.py:14: RuntimeWarning: This filename (../SEED_FRA_OUTPUT/NEGATIVE/6_3_trial_9_signals.fif) does not conform to MNE naming conventions. All raw files should end with raw.fif, raw_sss.fif, raw_tsss.fif, _meg.fif, _eeg.fif, _ieeg.fif, raw.fif.gz, raw_sss.fif.gz, raw_tsss.fif.gz, _meg.fif.gz, _eeg.fif.gz or _ieeg.fif.gz\n",
      "  eeg_data = mne.io.read_raw_fif(name, preload=True)\n"
     ]
    },
    {
     "name": "stdout",
     "output_type": "stream",
     "text": [
      "Opening raw data file ../SEED_FRA_OUTPUT/NEGATIVE/7_1_trial_14_signals.fif...\n",
      "    Range : 2783000 ... 2910000 =   2783.000 ...  2910.000 secs\n",
      "Ready.\n",
      "Reading 0 ... 127000  =      0.000 ...   127.000 secs...\n"
     ]
    },
    {
     "name": "stderr",
     "output_type": "stream",
     "text": [
      "C:\\Users\\marco\\AppData\\Local\\Temp\\ipykernel_6904\\3667833851.py:14: RuntimeWarning: This filename (../SEED_FRA_OUTPUT/NEGATIVE/7_1_trial_14_signals.fif) does not conform to MNE naming conventions. All raw files should end with raw.fif, raw_sss.fif, raw_tsss.fif, _meg.fif, _eeg.fif, _ieeg.fif, raw.fif.gz, raw_sss.fif.gz, raw_tsss.fif.gz, _meg.fif.gz, _eeg.fif.gz or _ieeg.fif.gz\n",
      "  eeg_data = mne.io.read_raw_fif(name, preload=True)\n"
     ]
    },
    {
     "name": "stdout",
     "output_type": "stream",
     "text": [
      "Opening raw data file ../SEED_FRA_OUTPUT/NEGATIVE/7_1_trial_15_signals.fif...\n",
      "    Range : 2931000 ... 3008000 =   2931.000 ...  3008.000 secs\n",
      "Ready.\n",
      "Reading 0 ... 77000  =      0.000 ...    77.000 secs...\n"
     ]
    },
    {
     "name": "stderr",
     "output_type": "stream",
     "text": [
      "C:\\Users\\marco\\AppData\\Local\\Temp\\ipykernel_6904\\3667833851.py:14: RuntimeWarning: This filename (../SEED_FRA_OUTPUT/NEGATIVE/7_1_trial_15_signals.fif) does not conform to MNE naming conventions. All raw files should end with raw.fif, raw_sss.fif, raw_tsss.fif, _meg.fif, _eeg.fif, _ieeg.fif, raw.fif.gz, raw_sss.fif.gz, raw_tsss.fif.gz, _meg.fif.gz, _eeg.fif.gz or _ieeg.fif.gz\n",
      "  eeg_data = mne.io.read_raw_fif(name, preload=True)\n"
     ]
    },
    {
     "name": "stdout",
     "output_type": "stream",
     "text": [
      "Opening raw data file ../SEED_FRA_OUTPUT/NEGATIVE/7_1_trial_18_signals.fif...\n",
      "    Range : 3369000 ... 3495000 =   3369.000 ...  3495.000 secs\n",
      "Ready.\n",
      "Reading 0 ... 126000  =      0.000 ...   126.000 secs...\n"
     ]
    },
    {
     "name": "stderr",
     "output_type": "stream",
     "text": [
      "C:\\Users\\marco\\AppData\\Local\\Temp\\ipykernel_6904\\3667833851.py:14: RuntimeWarning: This filename (../SEED_FRA_OUTPUT/NEGATIVE/7_1_trial_18_signals.fif) does not conform to MNE naming conventions. All raw files should end with raw.fif, raw_sss.fif, raw_tsss.fif, _meg.fif, _eeg.fif, _ieeg.fif, raw.fif.gz, raw_sss.fif.gz, raw_tsss.fif.gz, _meg.fif.gz, _eeg.fif.gz or _ieeg.fif.gz\n",
      "  eeg_data = mne.io.read_raw_fif(name, preload=True)\n"
     ]
    },
    {
     "name": "stdout",
     "output_type": "stream",
     "text": [
      "Opening raw data file ../SEED_FRA_OUTPUT/NEGATIVE/7_1_trial_1_signals.fif...\n",
      "    Range : 213000 ... 468000 =    213.000 ...   468.000 secs\n",
      "Ready.\n",
      "Reading 0 ... 255000  =      0.000 ...   255.000 secs...\n"
     ]
    },
    {
     "name": "stderr",
     "output_type": "stream",
     "text": [
      "C:\\Users\\marco\\AppData\\Local\\Temp\\ipykernel_6904\\3667833851.py:14: RuntimeWarning: This filename (../SEED_FRA_OUTPUT/NEGATIVE/7_1_trial_1_signals.fif) does not conform to MNE naming conventions. All raw files should end with raw.fif, raw_sss.fif, raw_tsss.fif, _meg.fif, _eeg.fif, _ieeg.fif, raw.fif.gz, raw_sss.fif.gz, raw_tsss.fif.gz, _meg.fif.gz, _eeg.fif.gz or _ieeg.fif.gz\n",
      "  eeg_data = mne.io.read_raw_fif(name, preload=True)\n"
     ]
    },
    {
     "name": "stdout",
     "output_type": "stream",
     "text": [
      "Opening raw data file ../SEED_FRA_OUTPUT/NEGATIVE/7_1_trial_3_signals.fif...\n",
      "    Range : 687000 ... 962000 =    687.000 ...   962.000 secs\n",
      "Ready.\n",
      "Reading 0 ... 275000  =      0.000 ...   275.000 secs...\n"
     ]
    },
    {
     "name": "stderr",
     "output_type": "stream",
     "text": [
      "C:\\Users\\marco\\AppData\\Local\\Temp\\ipykernel_6904\\3667833851.py:14: RuntimeWarning: This filename (../SEED_FRA_OUTPUT/NEGATIVE/7_1_trial_3_signals.fif) does not conform to MNE naming conventions. All raw files should end with raw.fif, raw_sss.fif, raw_tsss.fif, _meg.fif, _eeg.fif, _ieeg.fif, raw.fif.gz, raw_sss.fif.gz, raw_tsss.fif.gz, _meg.fif.gz, _eeg.fif.gz or _ieeg.fif.gz\n",
      "  eeg_data = mne.io.read_raw_fif(name, preload=True)\n"
     ]
    },
    {
     "name": "stdout",
     "output_type": "stream",
     "text": [
      "Opening raw data file ../SEED_FRA_OUTPUT/NEGATIVE/7_1_trial_6_signals.fif...\n",
      "    Range : 1252000 ... 1552000 =   1252.000 ...  1552.000 secs\n",
      "Ready.\n",
      "Reading 0 ... 300000  =      0.000 ...   300.000 secs...\n"
     ]
    },
    {
     "name": "stderr",
     "output_type": "stream",
     "text": [
      "C:\\Users\\marco\\AppData\\Local\\Temp\\ipykernel_6904\\3667833851.py:14: RuntimeWarning: This filename (../SEED_FRA_OUTPUT/NEGATIVE/7_1_trial_6_signals.fif) does not conform to MNE naming conventions. All raw files should end with raw.fif, raw_sss.fif, raw_tsss.fif, _meg.fif, _eeg.fif, _ieeg.fif, raw.fif.gz, raw_sss.fif.gz, raw_tsss.fif.gz, _meg.fif.gz, _eeg.fif.gz or _ieeg.fif.gz\n",
      "  eeg_data = mne.io.read_raw_fif(name, preload=True)\n"
     ]
    },
    {
     "name": "stdout",
     "output_type": "stream",
     "text": [
      "Opening raw data file ../SEED_FRA_OUTPUT/NEGATIVE/7_1_trial_9_signals.fif...\n",
      "    Range : 1887000 ... 2154000 =   1887.000 ...  2154.000 secs\n",
      "Ready.\n",
      "Reading 0 ... 267000  =      0.000 ...   267.000 secs...\n"
     ]
    },
    {
     "name": "stderr",
     "output_type": "stream",
     "text": [
      "C:\\Users\\marco\\AppData\\Local\\Temp\\ipykernel_6904\\3667833851.py:14: RuntimeWarning: This filename (../SEED_FRA_OUTPUT/NEGATIVE/7_1_trial_9_signals.fif) does not conform to MNE naming conventions. All raw files should end with raw.fif, raw_sss.fif, raw_tsss.fif, _meg.fif, _eeg.fif, _ieeg.fif, raw.fif.gz, raw_sss.fif.gz, raw_tsss.fif.gz, _meg.fif.gz, _eeg.fif.gz or _ieeg.fif.gz\n",
      "  eeg_data = mne.io.read_raw_fif(name, preload=True)\n"
     ]
    },
    {
     "name": "stdout",
     "output_type": "stream",
     "text": [
      "Opening raw data file ../SEED_FRA_OUTPUT/NEGATIVE/7_2_trial_14_signals.fif...\n",
      "    Range : 2783000 ... 2910000 =   2783.000 ...  2910.000 secs\n",
      "Ready.\n",
      "Reading 0 ... 127000  =      0.000 ...   127.000 secs...\n"
     ]
    },
    {
     "name": "stderr",
     "output_type": "stream",
     "text": [
      "C:\\Users\\marco\\AppData\\Local\\Temp\\ipykernel_6904\\3667833851.py:14: RuntimeWarning: This filename (../SEED_FRA_OUTPUT/NEGATIVE/7_2_trial_14_signals.fif) does not conform to MNE naming conventions. All raw files should end with raw.fif, raw_sss.fif, raw_tsss.fif, _meg.fif, _eeg.fif, _ieeg.fif, raw.fif.gz, raw_sss.fif.gz, raw_tsss.fif.gz, _meg.fif.gz, _eeg.fif.gz or _ieeg.fif.gz\n",
      "  eeg_data = mne.io.read_raw_fif(name, preload=True)\n"
     ]
    },
    {
     "name": "stdout",
     "output_type": "stream",
     "text": [
      "Opening raw data file ../SEED_FRA_OUTPUT/NEGATIVE/7_2_trial_15_signals.fif...\n",
      "    Range : 2931000 ... 3008000 =   2931.000 ...  3008.000 secs\n",
      "Ready.\n",
      "Reading 0 ... 77000  =      0.000 ...    77.000 secs...\n"
     ]
    },
    {
     "name": "stderr",
     "output_type": "stream",
     "text": [
      "C:\\Users\\marco\\AppData\\Local\\Temp\\ipykernel_6904\\3667833851.py:14: RuntimeWarning: This filename (../SEED_FRA_OUTPUT/NEGATIVE/7_2_trial_15_signals.fif) does not conform to MNE naming conventions. All raw files should end with raw.fif, raw_sss.fif, raw_tsss.fif, _meg.fif, _eeg.fif, _ieeg.fif, raw.fif.gz, raw_sss.fif.gz, raw_tsss.fif.gz, _meg.fif.gz, _eeg.fif.gz or _ieeg.fif.gz\n",
      "  eeg_data = mne.io.read_raw_fif(name, preload=True)\n"
     ]
    },
    {
     "name": "stdout",
     "output_type": "stream",
     "text": [
      "Opening raw data file ../SEED_FRA_OUTPUT/NEGATIVE/7_2_trial_18_signals.fif...\n",
      "    Range : 3369000 ... 3495000 =   3369.000 ...  3495.000 secs\n",
      "Ready.\n",
      "Reading 0 ... 126000  =      0.000 ...   126.000 secs...\n"
     ]
    },
    {
     "name": "stderr",
     "output_type": "stream",
     "text": [
      "C:\\Users\\marco\\AppData\\Local\\Temp\\ipykernel_6904\\3667833851.py:14: RuntimeWarning: This filename (../SEED_FRA_OUTPUT/NEGATIVE/7_2_trial_18_signals.fif) does not conform to MNE naming conventions. All raw files should end with raw.fif, raw_sss.fif, raw_tsss.fif, _meg.fif, _eeg.fif, _ieeg.fif, raw.fif.gz, raw_sss.fif.gz, raw_tsss.fif.gz, _meg.fif.gz, _eeg.fif.gz or _ieeg.fif.gz\n",
      "  eeg_data = mne.io.read_raw_fif(name, preload=True)\n"
     ]
    },
    {
     "name": "stdout",
     "output_type": "stream",
     "text": [
      "Opening raw data file ../SEED_FRA_OUTPUT/NEGATIVE/7_2_trial_1_signals.fif...\n",
      "    Range : 213000 ... 468000 =    213.000 ...   468.000 secs\n",
      "Ready.\n",
      "Reading 0 ... 255000  =      0.000 ...   255.000 secs...\n"
     ]
    },
    {
     "name": "stderr",
     "output_type": "stream",
     "text": [
      "C:\\Users\\marco\\AppData\\Local\\Temp\\ipykernel_6904\\3667833851.py:14: RuntimeWarning: This filename (../SEED_FRA_OUTPUT/NEGATIVE/7_2_trial_1_signals.fif) does not conform to MNE naming conventions. All raw files should end with raw.fif, raw_sss.fif, raw_tsss.fif, _meg.fif, _eeg.fif, _ieeg.fif, raw.fif.gz, raw_sss.fif.gz, raw_tsss.fif.gz, _meg.fif.gz, _eeg.fif.gz or _ieeg.fif.gz\n",
      "  eeg_data = mne.io.read_raw_fif(name, preload=True)\n"
     ]
    },
    {
     "name": "stdout",
     "output_type": "stream",
     "text": [
      "Opening raw data file ../SEED_FRA_OUTPUT/NEGATIVE/7_2_trial_3_signals.fif...\n",
      "    Range : 687000 ... 962000 =    687.000 ...   962.000 secs\n",
      "Ready.\n",
      "Reading 0 ... 275000  =      0.000 ...   275.000 secs...\n"
     ]
    },
    {
     "name": "stderr",
     "output_type": "stream",
     "text": [
      "C:\\Users\\marco\\AppData\\Local\\Temp\\ipykernel_6904\\3667833851.py:14: RuntimeWarning: This filename (../SEED_FRA_OUTPUT/NEGATIVE/7_2_trial_3_signals.fif) does not conform to MNE naming conventions. All raw files should end with raw.fif, raw_sss.fif, raw_tsss.fif, _meg.fif, _eeg.fif, _ieeg.fif, raw.fif.gz, raw_sss.fif.gz, raw_tsss.fif.gz, _meg.fif.gz, _eeg.fif.gz or _ieeg.fif.gz\n",
      "  eeg_data = mne.io.read_raw_fif(name, preload=True)\n"
     ]
    },
    {
     "name": "stdout",
     "output_type": "stream",
     "text": [
      "Opening raw data file ../SEED_FRA_OUTPUT/NEGATIVE/7_2_trial_6_signals.fif...\n",
      "    Range : 1252000 ... 1552000 =   1252.000 ...  1552.000 secs\n",
      "Ready.\n",
      "Reading 0 ... 300000  =      0.000 ...   300.000 secs...\n"
     ]
    },
    {
     "name": "stderr",
     "output_type": "stream",
     "text": [
      "C:\\Users\\marco\\AppData\\Local\\Temp\\ipykernel_6904\\3667833851.py:14: RuntimeWarning: This filename (../SEED_FRA_OUTPUT/NEGATIVE/7_2_trial_6_signals.fif) does not conform to MNE naming conventions. All raw files should end with raw.fif, raw_sss.fif, raw_tsss.fif, _meg.fif, _eeg.fif, _ieeg.fif, raw.fif.gz, raw_sss.fif.gz, raw_tsss.fif.gz, _meg.fif.gz, _eeg.fif.gz or _ieeg.fif.gz\n",
      "  eeg_data = mne.io.read_raw_fif(name, preload=True)\n"
     ]
    },
    {
     "name": "stdout",
     "output_type": "stream",
     "text": [
      "Opening raw data file ../SEED_FRA_OUTPUT/NEGATIVE/7_2_trial_9_signals.fif...\n",
      "    Range : 1887000 ... 2154000 =   1887.000 ...  2154.000 secs\n",
      "Ready.\n",
      "Reading 0 ... 267000  =      0.000 ...   267.000 secs...\n"
     ]
    },
    {
     "name": "stderr",
     "output_type": "stream",
     "text": [
      "C:\\Users\\marco\\AppData\\Local\\Temp\\ipykernel_6904\\3667833851.py:14: RuntimeWarning: This filename (../SEED_FRA_OUTPUT/NEGATIVE/7_2_trial_9_signals.fif) does not conform to MNE naming conventions. All raw files should end with raw.fif, raw_sss.fif, raw_tsss.fif, _meg.fif, _eeg.fif, _ieeg.fif, raw.fif.gz, raw_sss.fif.gz, raw_tsss.fif.gz, _meg.fif.gz, _eeg.fif.gz or _ieeg.fif.gz\n",
      "  eeg_data = mne.io.read_raw_fif(name, preload=True)\n"
     ]
    },
    {
     "name": "stdout",
     "output_type": "stream",
     "text": [
      "Opening raw data file ../SEED_FRA_OUTPUT/NEGATIVE/7_3_trial_14_signals.fif...\n",
      "    Range : 2783000 ... 2910000 =   2783.000 ...  2910.000 secs\n",
      "Ready.\n",
      "Reading 0 ... 127000  =      0.000 ...   127.000 secs...\n"
     ]
    },
    {
     "name": "stderr",
     "output_type": "stream",
     "text": [
      "C:\\Users\\marco\\AppData\\Local\\Temp\\ipykernel_6904\\3667833851.py:14: RuntimeWarning: This filename (../SEED_FRA_OUTPUT/NEGATIVE/7_3_trial_14_signals.fif) does not conform to MNE naming conventions. All raw files should end with raw.fif, raw_sss.fif, raw_tsss.fif, _meg.fif, _eeg.fif, _ieeg.fif, raw.fif.gz, raw_sss.fif.gz, raw_tsss.fif.gz, _meg.fif.gz, _eeg.fif.gz or _ieeg.fif.gz\n",
      "  eeg_data = mne.io.read_raw_fif(name, preload=True)\n"
     ]
    },
    {
     "name": "stdout",
     "output_type": "stream",
     "text": [
      "Opening raw data file ../SEED_FRA_OUTPUT/NEGATIVE/7_3_trial_15_signals.fif...\n",
      "    Range : 2931000 ... 3008000 =   2931.000 ...  3008.000 secs\n",
      "Ready.\n",
      "Reading 0 ... 77000  =      0.000 ...    77.000 secs...\n"
     ]
    },
    {
     "name": "stderr",
     "output_type": "stream",
     "text": [
      "C:\\Users\\marco\\AppData\\Local\\Temp\\ipykernel_6904\\3667833851.py:14: RuntimeWarning: This filename (../SEED_FRA_OUTPUT/NEGATIVE/7_3_trial_15_signals.fif) does not conform to MNE naming conventions. All raw files should end with raw.fif, raw_sss.fif, raw_tsss.fif, _meg.fif, _eeg.fif, _ieeg.fif, raw.fif.gz, raw_sss.fif.gz, raw_tsss.fif.gz, _meg.fif.gz, _eeg.fif.gz or _ieeg.fif.gz\n",
      "  eeg_data = mne.io.read_raw_fif(name, preload=True)\n"
     ]
    },
    {
     "name": "stdout",
     "output_type": "stream",
     "text": [
      "Opening raw data file ../SEED_FRA_OUTPUT/NEGATIVE/7_3_trial_18_signals.fif...\n",
      "    Range : 3369000 ... 3495000 =   3369.000 ...  3495.000 secs\n",
      "Ready.\n",
      "Reading 0 ... 126000  =      0.000 ...   126.000 secs...\n"
     ]
    },
    {
     "name": "stderr",
     "output_type": "stream",
     "text": [
      "C:\\Users\\marco\\AppData\\Local\\Temp\\ipykernel_6904\\3667833851.py:14: RuntimeWarning: This filename (../SEED_FRA_OUTPUT/NEGATIVE/7_3_trial_18_signals.fif) does not conform to MNE naming conventions. All raw files should end with raw.fif, raw_sss.fif, raw_tsss.fif, _meg.fif, _eeg.fif, _ieeg.fif, raw.fif.gz, raw_sss.fif.gz, raw_tsss.fif.gz, _meg.fif.gz, _eeg.fif.gz or _ieeg.fif.gz\n",
      "  eeg_data = mne.io.read_raw_fif(name, preload=True)\n"
     ]
    },
    {
     "name": "stdout",
     "output_type": "stream",
     "text": [
      "Opening raw data file ../SEED_FRA_OUTPUT/NEGATIVE/7_3_trial_1_signals.fif...\n",
      "    Range : 213000 ... 468000 =    213.000 ...   468.000 secs\n",
      "Ready.\n",
      "Reading 0 ... 255000  =      0.000 ...   255.000 secs...\n"
     ]
    },
    {
     "name": "stderr",
     "output_type": "stream",
     "text": [
      "C:\\Users\\marco\\AppData\\Local\\Temp\\ipykernel_6904\\3667833851.py:14: RuntimeWarning: This filename (../SEED_FRA_OUTPUT/NEGATIVE/7_3_trial_1_signals.fif) does not conform to MNE naming conventions. All raw files should end with raw.fif, raw_sss.fif, raw_tsss.fif, _meg.fif, _eeg.fif, _ieeg.fif, raw.fif.gz, raw_sss.fif.gz, raw_tsss.fif.gz, _meg.fif.gz, _eeg.fif.gz or _ieeg.fif.gz\n",
      "  eeg_data = mne.io.read_raw_fif(name, preload=True)\n"
     ]
    },
    {
     "name": "stdout",
     "output_type": "stream",
     "text": [
      "Opening raw data file ../SEED_FRA_OUTPUT/NEGATIVE/7_3_trial_3_signals.fif...\n",
      "    Range : 687000 ... 962000 =    687.000 ...   962.000 secs\n",
      "Ready.\n",
      "Reading 0 ... 275000  =      0.000 ...   275.000 secs...\n"
     ]
    },
    {
     "name": "stderr",
     "output_type": "stream",
     "text": [
      "C:\\Users\\marco\\AppData\\Local\\Temp\\ipykernel_6904\\3667833851.py:14: RuntimeWarning: This filename (../SEED_FRA_OUTPUT/NEGATIVE/7_3_trial_3_signals.fif) does not conform to MNE naming conventions. All raw files should end with raw.fif, raw_sss.fif, raw_tsss.fif, _meg.fif, _eeg.fif, _ieeg.fif, raw.fif.gz, raw_sss.fif.gz, raw_tsss.fif.gz, _meg.fif.gz, _eeg.fif.gz or _ieeg.fif.gz\n",
      "  eeg_data = mne.io.read_raw_fif(name, preload=True)\n"
     ]
    },
    {
     "name": "stdout",
     "output_type": "stream",
     "text": [
      "Opening raw data file ../SEED_FRA_OUTPUT/NEGATIVE/7_3_trial_6_signals.fif...\n",
      "    Range : 1252000 ... 1552000 =   1252.000 ...  1552.000 secs\n",
      "Ready.\n",
      "Reading 0 ... 300000  =      0.000 ...   300.000 secs...\n"
     ]
    },
    {
     "name": "stderr",
     "output_type": "stream",
     "text": [
      "C:\\Users\\marco\\AppData\\Local\\Temp\\ipykernel_6904\\3667833851.py:14: RuntimeWarning: This filename (../SEED_FRA_OUTPUT/NEGATIVE/7_3_trial_6_signals.fif) does not conform to MNE naming conventions. All raw files should end with raw.fif, raw_sss.fif, raw_tsss.fif, _meg.fif, _eeg.fif, _ieeg.fif, raw.fif.gz, raw_sss.fif.gz, raw_tsss.fif.gz, _meg.fif.gz, _eeg.fif.gz or _ieeg.fif.gz\n",
      "  eeg_data = mne.io.read_raw_fif(name, preload=True)\n"
     ]
    },
    {
     "name": "stdout",
     "output_type": "stream",
     "text": [
      "Opening raw data file ../SEED_FRA_OUTPUT/NEGATIVE/7_3_trial_9_signals.fif...\n",
      "    Range : 1887000 ... 2154000 =   1887.000 ...  2154.000 secs\n",
      "Ready.\n",
      "Reading 0 ... 267000  =      0.000 ...   267.000 secs...\n"
     ]
    },
    {
     "name": "stderr",
     "output_type": "stream",
     "text": [
      "C:\\Users\\marco\\AppData\\Local\\Temp\\ipykernel_6904\\3667833851.py:14: RuntimeWarning: This filename (../SEED_FRA_OUTPUT/NEGATIVE/7_3_trial_9_signals.fif) does not conform to MNE naming conventions. All raw files should end with raw.fif, raw_sss.fif, raw_tsss.fif, _meg.fif, _eeg.fif, _ieeg.fif, raw.fif.gz, raw_sss.fif.gz, raw_tsss.fif.gz, _meg.fif.gz, _eeg.fif.gz or _ieeg.fif.gz\n",
      "  eeg_data = mne.io.read_raw_fif(name, preload=True)\n"
     ]
    },
    {
     "name": "stdout",
     "output_type": "stream",
     "text": [
      "Opening raw data file ../SEED_FRA_OUTPUT/NEGATIVE/8_1_trial_14_signals.fif...\n",
      "    Range : 2783000 ... 2910000 =   2783.000 ...  2910.000 secs\n",
      "Ready.\n",
      "Reading 0 ... 127000  =      0.000 ...   127.000 secs...\n"
     ]
    },
    {
     "name": "stderr",
     "output_type": "stream",
     "text": [
      "C:\\Users\\marco\\AppData\\Local\\Temp\\ipykernel_6904\\3667833851.py:14: RuntimeWarning: This filename (../SEED_FRA_OUTPUT/NEGATIVE/8_1_trial_14_signals.fif) does not conform to MNE naming conventions. All raw files should end with raw.fif, raw_sss.fif, raw_tsss.fif, _meg.fif, _eeg.fif, _ieeg.fif, raw.fif.gz, raw_sss.fif.gz, raw_tsss.fif.gz, _meg.fif.gz, _eeg.fif.gz or _ieeg.fif.gz\n",
      "  eeg_data = mne.io.read_raw_fif(name, preload=True)\n"
     ]
    },
    {
     "name": "stdout",
     "output_type": "stream",
     "text": [
      "Opening raw data file ../SEED_FRA_OUTPUT/NEGATIVE/8_1_trial_15_signals.fif...\n",
      "    Range : 2931000 ... 3008000 =   2931.000 ...  3008.000 secs\n",
      "Ready.\n",
      "Reading 0 ... 77000  =      0.000 ...    77.000 secs...\n"
     ]
    },
    {
     "name": "stderr",
     "output_type": "stream",
     "text": [
      "C:\\Users\\marco\\AppData\\Local\\Temp\\ipykernel_6904\\3667833851.py:14: RuntimeWarning: This filename (../SEED_FRA_OUTPUT/NEGATIVE/8_1_trial_15_signals.fif) does not conform to MNE naming conventions. All raw files should end with raw.fif, raw_sss.fif, raw_tsss.fif, _meg.fif, _eeg.fif, _ieeg.fif, raw.fif.gz, raw_sss.fif.gz, raw_tsss.fif.gz, _meg.fif.gz, _eeg.fif.gz or _ieeg.fif.gz\n",
      "  eeg_data = mne.io.read_raw_fif(name, preload=True)\n"
     ]
    },
    {
     "name": "stdout",
     "output_type": "stream",
     "text": [
      "Opening raw data file ../SEED_FRA_OUTPUT/NEGATIVE/8_1_trial_18_signals.fif...\n",
      "    Range : 3369000 ... 3495000 =   3369.000 ...  3495.000 secs\n",
      "Ready.\n",
      "Reading 0 ... 126000  =      0.000 ...   126.000 secs...\n"
     ]
    },
    {
     "name": "stderr",
     "output_type": "stream",
     "text": [
      "C:\\Users\\marco\\AppData\\Local\\Temp\\ipykernel_6904\\3667833851.py:14: RuntimeWarning: This filename (../SEED_FRA_OUTPUT/NEGATIVE/8_1_trial_18_signals.fif) does not conform to MNE naming conventions. All raw files should end with raw.fif, raw_sss.fif, raw_tsss.fif, _meg.fif, _eeg.fif, _ieeg.fif, raw.fif.gz, raw_sss.fif.gz, raw_tsss.fif.gz, _meg.fif.gz, _eeg.fif.gz or _ieeg.fif.gz\n",
      "  eeg_data = mne.io.read_raw_fif(name, preload=True)\n"
     ]
    },
    {
     "name": "stdout",
     "output_type": "stream",
     "text": [
      "Opening raw data file ../SEED_FRA_OUTPUT/NEGATIVE/8_1_trial_1_signals.fif...\n",
      "    Range : 213000 ... 468000 =    213.000 ...   468.000 secs\n",
      "Ready.\n",
      "Reading 0 ... 255000  =      0.000 ...   255.000 secs...\n"
     ]
    },
    {
     "name": "stderr",
     "output_type": "stream",
     "text": [
      "C:\\Users\\marco\\AppData\\Local\\Temp\\ipykernel_6904\\3667833851.py:14: RuntimeWarning: This filename (../SEED_FRA_OUTPUT/NEGATIVE/8_1_trial_1_signals.fif) does not conform to MNE naming conventions. All raw files should end with raw.fif, raw_sss.fif, raw_tsss.fif, _meg.fif, _eeg.fif, _ieeg.fif, raw.fif.gz, raw_sss.fif.gz, raw_tsss.fif.gz, _meg.fif.gz, _eeg.fif.gz or _ieeg.fif.gz\n",
      "  eeg_data = mne.io.read_raw_fif(name, preload=True)\n"
     ]
    },
    {
     "name": "stdout",
     "output_type": "stream",
     "text": [
      "Opening raw data file ../SEED_FRA_OUTPUT/NEGATIVE/8_1_trial_3_signals.fif...\n",
      "    Range : 687000 ... 962000 =    687.000 ...   962.000 secs\n",
      "Ready.\n",
      "Reading 0 ... 275000  =      0.000 ...   275.000 secs...\n"
     ]
    },
    {
     "name": "stderr",
     "output_type": "stream",
     "text": [
      "C:\\Users\\marco\\AppData\\Local\\Temp\\ipykernel_6904\\3667833851.py:14: RuntimeWarning: This filename (../SEED_FRA_OUTPUT/NEGATIVE/8_1_trial_3_signals.fif) does not conform to MNE naming conventions. All raw files should end with raw.fif, raw_sss.fif, raw_tsss.fif, _meg.fif, _eeg.fif, _ieeg.fif, raw.fif.gz, raw_sss.fif.gz, raw_tsss.fif.gz, _meg.fif.gz, _eeg.fif.gz or _ieeg.fif.gz\n",
      "  eeg_data = mne.io.read_raw_fif(name, preload=True)\n"
     ]
    },
    {
     "name": "stdout",
     "output_type": "stream",
     "text": [
      "Opening raw data file ../SEED_FRA_OUTPUT/NEGATIVE/8_1_trial_6_signals.fif...\n",
      "    Range : 1252000 ... 1552000 =   1252.000 ...  1552.000 secs\n",
      "Ready.\n",
      "Reading 0 ... 300000  =      0.000 ...   300.000 secs...\n"
     ]
    },
    {
     "name": "stderr",
     "output_type": "stream",
     "text": [
      "C:\\Users\\marco\\AppData\\Local\\Temp\\ipykernel_6904\\3667833851.py:14: RuntimeWarning: This filename (../SEED_FRA_OUTPUT/NEGATIVE/8_1_trial_6_signals.fif) does not conform to MNE naming conventions. All raw files should end with raw.fif, raw_sss.fif, raw_tsss.fif, _meg.fif, _eeg.fif, _ieeg.fif, raw.fif.gz, raw_sss.fif.gz, raw_tsss.fif.gz, _meg.fif.gz, _eeg.fif.gz or _ieeg.fif.gz\n",
      "  eeg_data = mne.io.read_raw_fif(name, preload=True)\n"
     ]
    },
    {
     "name": "stdout",
     "output_type": "stream",
     "text": [
      "Opening raw data file ../SEED_FRA_OUTPUT/NEGATIVE/8_1_trial_9_signals.fif...\n",
      "    Range : 1887000 ... 2154000 =   1887.000 ...  2154.000 secs\n",
      "Ready.\n",
      "Reading 0 ... 267000  =      0.000 ...   267.000 secs...\n"
     ]
    },
    {
     "name": "stderr",
     "output_type": "stream",
     "text": [
      "C:\\Users\\marco\\AppData\\Local\\Temp\\ipykernel_6904\\3667833851.py:14: RuntimeWarning: This filename (../SEED_FRA_OUTPUT/NEGATIVE/8_1_trial_9_signals.fif) does not conform to MNE naming conventions. All raw files should end with raw.fif, raw_sss.fif, raw_tsss.fif, _meg.fif, _eeg.fif, _ieeg.fif, raw.fif.gz, raw_sss.fif.gz, raw_tsss.fif.gz, _meg.fif.gz, _eeg.fif.gz or _ieeg.fif.gz\n",
      "  eeg_data = mne.io.read_raw_fif(name, preload=True)\n"
     ]
    },
    {
     "name": "stdout",
     "output_type": "stream",
     "text": [
      "Opening raw data file ../SEED_FRA_OUTPUT/NEGATIVE/8_2_trial_14_signals.fif...\n",
      "    Range : 2783000 ... 2910000 =   2783.000 ...  2910.000 secs\n",
      "Ready.\n",
      "Reading 0 ... 127000  =      0.000 ...   127.000 secs...\n"
     ]
    },
    {
     "name": "stderr",
     "output_type": "stream",
     "text": [
      "C:\\Users\\marco\\AppData\\Local\\Temp\\ipykernel_6904\\3667833851.py:14: RuntimeWarning: This filename (../SEED_FRA_OUTPUT/NEGATIVE/8_2_trial_14_signals.fif) does not conform to MNE naming conventions. All raw files should end with raw.fif, raw_sss.fif, raw_tsss.fif, _meg.fif, _eeg.fif, _ieeg.fif, raw.fif.gz, raw_sss.fif.gz, raw_tsss.fif.gz, _meg.fif.gz, _eeg.fif.gz or _ieeg.fif.gz\n",
      "  eeg_data = mne.io.read_raw_fif(name, preload=True)\n"
     ]
    },
    {
     "name": "stdout",
     "output_type": "stream",
     "text": [
      "Opening raw data file ../SEED_FRA_OUTPUT/NEGATIVE/8_2_trial_15_signals.fif...\n",
      "    Range : 2931000 ... 3008000 =   2931.000 ...  3008.000 secs\n",
      "Ready.\n",
      "Reading 0 ... 77000  =      0.000 ...    77.000 secs...\n"
     ]
    },
    {
     "name": "stderr",
     "output_type": "stream",
     "text": [
      "C:\\Users\\marco\\AppData\\Local\\Temp\\ipykernel_6904\\3667833851.py:14: RuntimeWarning: This filename (../SEED_FRA_OUTPUT/NEGATIVE/8_2_trial_15_signals.fif) does not conform to MNE naming conventions. All raw files should end with raw.fif, raw_sss.fif, raw_tsss.fif, _meg.fif, _eeg.fif, _ieeg.fif, raw.fif.gz, raw_sss.fif.gz, raw_tsss.fif.gz, _meg.fif.gz, _eeg.fif.gz or _ieeg.fif.gz\n",
      "  eeg_data = mne.io.read_raw_fif(name, preload=True)\n"
     ]
    },
    {
     "name": "stdout",
     "output_type": "stream",
     "text": [
      "Opening raw data file ../SEED_FRA_OUTPUT/NEGATIVE/8_2_trial_18_signals.fif...\n",
      "    Range : 3369000 ... 3495000 =   3369.000 ...  3495.000 secs\n",
      "Ready.\n",
      "Reading 0 ... 126000  =      0.000 ...   126.000 secs...\n"
     ]
    },
    {
     "name": "stderr",
     "output_type": "stream",
     "text": [
      "C:\\Users\\marco\\AppData\\Local\\Temp\\ipykernel_6904\\3667833851.py:14: RuntimeWarning: This filename (../SEED_FRA_OUTPUT/NEGATIVE/8_2_trial_18_signals.fif) does not conform to MNE naming conventions. All raw files should end with raw.fif, raw_sss.fif, raw_tsss.fif, _meg.fif, _eeg.fif, _ieeg.fif, raw.fif.gz, raw_sss.fif.gz, raw_tsss.fif.gz, _meg.fif.gz, _eeg.fif.gz or _ieeg.fif.gz\n",
      "  eeg_data = mne.io.read_raw_fif(name, preload=True)\n"
     ]
    },
    {
     "name": "stdout",
     "output_type": "stream",
     "text": [
      "Opening raw data file ../SEED_FRA_OUTPUT/NEGATIVE/8_2_trial_1_signals.fif...\n",
      "    Range : 213000 ... 468000 =    213.000 ...   468.000 secs\n",
      "Ready.\n",
      "Reading 0 ... 255000  =      0.000 ...   255.000 secs...\n"
     ]
    },
    {
     "name": "stderr",
     "output_type": "stream",
     "text": [
      "C:\\Users\\marco\\AppData\\Local\\Temp\\ipykernel_6904\\3667833851.py:14: RuntimeWarning: This filename (../SEED_FRA_OUTPUT/NEGATIVE/8_2_trial_1_signals.fif) does not conform to MNE naming conventions. All raw files should end with raw.fif, raw_sss.fif, raw_tsss.fif, _meg.fif, _eeg.fif, _ieeg.fif, raw.fif.gz, raw_sss.fif.gz, raw_tsss.fif.gz, _meg.fif.gz, _eeg.fif.gz or _ieeg.fif.gz\n",
      "  eeg_data = mne.io.read_raw_fif(name, preload=True)\n"
     ]
    },
    {
     "name": "stdout",
     "output_type": "stream",
     "text": [
      "Opening raw data file ../SEED_FRA_OUTPUT/NEGATIVE/8_2_trial_3_signals.fif...\n",
      "    Range : 687000 ... 962000 =    687.000 ...   962.000 secs\n",
      "Ready.\n",
      "Reading 0 ... 275000  =      0.000 ...   275.000 secs...\n"
     ]
    },
    {
     "name": "stderr",
     "output_type": "stream",
     "text": [
      "C:\\Users\\marco\\AppData\\Local\\Temp\\ipykernel_6904\\3667833851.py:14: RuntimeWarning: This filename (../SEED_FRA_OUTPUT/NEGATIVE/8_2_trial_3_signals.fif) does not conform to MNE naming conventions. All raw files should end with raw.fif, raw_sss.fif, raw_tsss.fif, _meg.fif, _eeg.fif, _ieeg.fif, raw.fif.gz, raw_sss.fif.gz, raw_tsss.fif.gz, _meg.fif.gz, _eeg.fif.gz or _ieeg.fif.gz\n",
      "  eeg_data = mne.io.read_raw_fif(name, preload=True)\n"
     ]
    },
    {
     "name": "stdout",
     "output_type": "stream",
     "text": [
      "Opening raw data file ../SEED_FRA_OUTPUT/NEGATIVE/8_2_trial_6_signals.fif...\n",
      "    Range : 1252000 ... 1552000 =   1252.000 ...  1552.000 secs\n",
      "Ready.\n",
      "Reading 0 ... 300000  =      0.000 ...   300.000 secs...\n"
     ]
    },
    {
     "name": "stderr",
     "output_type": "stream",
     "text": [
      "C:\\Users\\marco\\AppData\\Local\\Temp\\ipykernel_6904\\3667833851.py:14: RuntimeWarning: This filename (../SEED_FRA_OUTPUT/NEGATIVE/8_2_trial_6_signals.fif) does not conform to MNE naming conventions. All raw files should end with raw.fif, raw_sss.fif, raw_tsss.fif, _meg.fif, _eeg.fif, _ieeg.fif, raw.fif.gz, raw_sss.fif.gz, raw_tsss.fif.gz, _meg.fif.gz, _eeg.fif.gz or _ieeg.fif.gz\n",
      "  eeg_data = mne.io.read_raw_fif(name, preload=True)\n"
     ]
    },
    {
     "name": "stdout",
     "output_type": "stream",
     "text": [
      "Opening raw data file ../SEED_FRA_OUTPUT/NEGATIVE/8_2_trial_9_signals.fif...\n",
      "    Range : 1887000 ... 2154000 =   1887.000 ...  2154.000 secs\n",
      "Ready.\n",
      "Reading 0 ... 267000  =      0.000 ...   267.000 secs...\n"
     ]
    },
    {
     "name": "stderr",
     "output_type": "stream",
     "text": [
      "C:\\Users\\marco\\AppData\\Local\\Temp\\ipykernel_6904\\3667833851.py:14: RuntimeWarning: This filename (../SEED_FRA_OUTPUT/NEGATIVE/8_2_trial_9_signals.fif) does not conform to MNE naming conventions. All raw files should end with raw.fif, raw_sss.fif, raw_tsss.fif, _meg.fif, _eeg.fif, _ieeg.fif, raw.fif.gz, raw_sss.fif.gz, raw_tsss.fif.gz, _meg.fif.gz, _eeg.fif.gz or _ieeg.fif.gz\n",
      "  eeg_data = mne.io.read_raw_fif(name, preload=True)\n"
     ]
    },
    {
     "name": "stdout",
     "output_type": "stream",
     "text": [
      "Opening raw data file ../SEED_FRA_OUTPUT/NEGATIVE/8_3_trial_14_signals.fif...\n",
      "    Range : 2783000 ... 2910000 =   2783.000 ...  2910.000 secs\n",
      "Ready.\n",
      "Reading 0 ... 127000  =      0.000 ...   127.000 secs...\n"
     ]
    },
    {
     "name": "stderr",
     "output_type": "stream",
     "text": [
      "C:\\Users\\marco\\AppData\\Local\\Temp\\ipykernel_6904\\3667833851.py:14: RuntimeWarning: This filename (../SEED_FRA_OUTPUT/NEGATIVE/8_3_trial_14_signals.fif) does not conform to MNE naming conventions. All raw files should end with raw.fif, raw_sss.fif, raw_tsss.fif, _meg.fif, _eeg.fif, _ieeg.fif, raw.fif.gz, raw_sss.fif.gz, raw_tsss.fif.gz, _meg.fif.gz, _eeg.fif.gz or _ieeg.fif.gz\n",
      "  eeg_data = mne.io.read_raw_fif(name, preload=True)\n"
     ]
    },
    {
     "name": "stdout",
     "output_type": "stream",
     "text": [
      "Opening raw data file ../SEED_FRA_OUTPUT/NEGATIVE/8_3_trial_15_signals.fif...\n",
      "    Range : 2931000 ... 3008000 =   2931.000 ...  3008.000 secs\n",
      "Ready.\n",
      "Reading 0 ... 77000  =      0.000 ...    77.000 secs...\n"
     ]
    },
    {
     "name": "stderr",
     "output_type": "stream",
     "text": [
      "C:\\Users\\marco\\AppData\\Local\\Temp\\ipykernel_6904\\3667833851.py:14: RuntimeWarning: This filename (../SEED_FRA_OUTPUT/NEGATIVE/8_3_trial_15_signals.fif) does not conform to MNE naming conventions. All raw files should end with raw.fif, raw_sss.fif, raw_tsss.fif, _meg.fif, _eeg.fif, _ieeg.fif, raw.fif.gz, raw_sss.fif.gz, raw_tsss.fif.gz, _meg.fif.gz, _eeg.fif.gz or _ieeg.fif.gz\n",
      "  eeg_data = mne.io.read_raw_fif(name, preload=True)\n"
     ]
    },
    {
     "name": "stdout",
     "output_type": "stream",
     "text": [
      "Opening raw data file ../SEED_FRA_OUTPUT/NEGATIVE/8_3_trial_18_signals.fif...\n",
      "    Range : 3369000 ... 3495000 =   3369.000 ...  3495.000 secs\n",
      "Ready.\n",
      "Reading 0 ... 126000  =      0.000 ...   126.000 secs...\n"
     ]
    },
    {
     "name": "stderr",
     "output_type": "stream",
     "text": [
      "C:\\Users\\marco\\AppData\\Local\\Temp\\ipykernel_6904\\3667833851.py:14: RuntimeWarning: This filename (../SEED_FRA_OUTPUT/NEGATIVE/8_3_trial_18_signals.fif) does not conform to MNE naming conventions. All raw files should end with raw.fif, raw_sss.fif, raw_tsss.fif, _meg.fif, _eeg.fif, _ieeg.fif, raw.fif.gz, raw_sss.fif.gz, raw_tsss.fif.gz, _meg.fif.gz, _eeg.fif.gz or _ieeg.fif.gz\n",
      "  eeg_data = mne.io.read_raw_fif(name, preload=True)\n"
     ]
    },
    {
     "name": "stdout",
     "output_type": "stream",
     "text": [
      "Opening raw data file ../SEED_FRA_OUTPUT/NEGATIVE/8_3_trial_1_signals.fif...\n",
      "    Range : 213000 ... 468000 =    213.000 ...   468.000 secs\n",
      "Ready.\n",
      "Reading 0 ... 255000  =      0.000 ...   255.000 secs...\n"
     ]
    },
    {
     "name": "stderr",
     "output_type": "stream",
     "text": [
      "C:\\Users\\marco\\AppData\\Local\\Temp\\ipykernel_6904\\3667833851.py:14: RuntimeWarning: This filename (../SEED_FRA_OUTPUT/NEGATIVE/8_3_trial_1_signals.fif) does not conform to MNE naming conventions. All raw files should end with raw.fif, raw_sss.fif, raw_tsss.fif, _meg.fif, _eeg.fif, _ieeg.fif, raw.fif.gz, raw_sss.fif.gz, raw_tsss.fif.gz, _meg.fif.gz, _eeg.fif.gz or _ieeg.fif.gz\n",
      "  eeg_data = mne.io.read_raw_fif(name, preload=True)\n"
     ]
    },
    {
     "name": "stdout",
     "output_type": "stream",
     "text": [
      "Opening raw data file ../SEED_FRA_OUTPUT/NEGATIVE/8_3_trial_3_signals.fif...\n",
      "    Range : 687000 ... 962000 =    687.000 ...   962.000 secs\n",
      "Ready.\n",
      "Reading 0 ... 275000  =      0.000 ...   275.000 secs...\n"
     ]
    },
    {
     "name": "stderr",
     "output_type": "stream",
     "text": [
      "C:\\Users\\marco\\AppData\\Local\\Temp\\ipykernel_6904\\3667833851.py:14: RuntimeWarning: This filename (../SEED_FRA_OUTPUT/NEGATIVE/8_3_trial_3_signals.fif) does not conform to MNE naming conventions. All raw files should end with raw.fif, raw_sss.fif, raw_tsss.fif, _meg.fif, _eeg.fif, _ieeg.fif, raw.fif.gz, raw_sss.fif.gz, raw_tsss.fif.gz, _meg.fif.gz, _eeg.fif.gz or _ieeg.fif.gz\n",
      "  eeg_data = mne.io.read_raw_fif(name, preload=True)\n"
     ]
    },
    {
     "name": "stdout",
     "output_type": "stream",
     "text": [
      "Opening raw data file ../SEED_FRA_OUTPUT/NEGATIVE/8_3_trial_6_signals.fif...\n",
      "    Range : 1252000 ... 1552000 =   1252.000 ...  1552.000 secs\n",
      "Ready.\n",
      "Reading 0 ... 300000  =      0.000 ...   300.000 secs...\n"
     ]
    },
    {
     "name": "stderr",
     "output_type": "stream",
     "text": [
      "C:\\Users\\marco\\AppData\\Local\\Temp\\ipykernel_6904\\3667833851.py:14: RuntimeWarning: This filename (../SEED_FRA_OUTPUT/NEGATIVE/8_3_trial_6_signals.fif) does not conform to MNE naming conventions. All raw files should end with raw.fif, raw_sss.fif, raw_tsss.fif, _meg.fif, _eeg.fif, _ieeg.fif, raw.fif.gz, raw_sss.fif.gz, raw_tsss.fif.gz, _meg.fif.gz, _eeg.fif.gz or _ieeg.fif.gz\n",
      "  eeg_data = mne.io.read_raw_fif(name, preload=True)\n"
     ]
    },
    {
     "name": "stdout",
     "output_type": "stream",
     "text": [
      "Opening raw data file ../SEED_FRA_OUTPUT/NEGATIVE/8_3_trial_9_signals.fif...\n",
      "    Range : 1887000 ... 2154000 =   1887.000 ...  2154.000 secs\n",
      "Ready.\n",
      "Reading 0 ... 267000  =      0.000 ...   267.000 secs...\n"
     ]
    },
    {
     "name": "stderr",
     "output_type": "stream",
     "text": [
      "C:\\Users\\marco\\AppData\\Local\\Temp\\ipykernel_6904\\3667833851.py:14: RuntimeWarning: This filename (../SEED_FRA_OUTPUT/NEGATIVE/8_3_trial_9_signals.fif) does not conform to MNE naming conventions. All raw files should end with raw.fif, raw_sss.fif, raw_tsss.fif, _meg.fif, _eeg.fif, _ieeg.fif, raw.fif.gz, raw_sss.fif.gz, raw_tsss.fif.gz, _meg.fif.gz, _eeg.fif.gz or _ieeg.fif.gz\n",
      "  eeg_data = mne.io.read_raw_fif(name, preload=True)\n"
     ]
    },
    {
     "name": "stdout",
     "output_type": "stream",
     "text": [
      "Opening raw data file ../SEED_FRA_OUTPUT/NEUTRAL/1_1_trial_10_signals.fif...\n",
      "    Range : 2174000 ... 2307000 =   2174.000 ...  2307.000 secs\n",
      "Ready.\n",
      "Reading 0 ... 133000  =      0.000 ...   133.000 secs...\n"
     ]
    },
    {
     "name": "stderr",
     "output_type": "stream",
     "text": [
      "C:\\Users\\marco\\AppData\\Local\\Temp\\ipykernel_6904\\3667833851.py:14: RuntimeWarning: This filename (../SEED_FRA_OUTPUT/NEUTRAL/1_1_trial_10_signals.fif) does not conform to MNE naming conventions. All raw files should end with raw.fif, raw_sss.fif, raw_tsss.fif, _meg.fif, _eeg.fif, _ieeg.fif, raw.fif.gz, raw_sss.fif.gz, raw_tsss.fif.gz, _meg.fif.gz, _eeg.fif.gz or _ieeg.fif.gz\n",
      "  eeg_data = mne.io.read_raw_fif(name, preload=True)\n"
     ]
    },
    {
     "name": "stdout",
     "output_type": "stream",
     "text": [
      "Opening raw data file ../SEED_FRA_OUTPUT/NEUTRAL/1_1_trial_13_signals.fif...\n",
      "    Range : 2619000 ... 2763000 =   2619.000 ...  2763.000 secs\n",
      "Ready.\n",
      "Reading 0 ... 144000  =      0.000 ...   144.000 secs...\n"
     ]
    },
    {
     "name": "stderr",
     "output_type": "stream",
     "text": [
      "C:\\Users\\marco\\AppData\\Local\\Temp\\ipykernel_6904\\3667833851.py:14: RuntimeWarning: This filename (../SEED_FRA_OUTPUT/NEUTRAL/1_1_trial_13_signals.fif) does not conform to MNE naming conventions. All raw files should end with raw.fif, raw_sss.fif, raw_tsss.fif, _meg.fif, _eeg.fif, _ieeg.fif, raw.fif.gz, raw_sss.fif.gz, raw_tsss.fif.gz, _meg.fif.gz, _eeg.fif.gz or _ieeg.fif.gz\n",
      "  eeg_data = mne.io.read_raw_fif(name, preload=True)\n"
     ]
    },
    {
     "name": "stdout",
     "output_type": "stream",
     "text": [
      "Opening raw data file ../SEED_FRA_OUTPUT/NEUTRAL/1_1_trial_16_signals.fif...\n",
      "    Range : 3029000 ... 3195000 =   3029.000 ...  3195.000 secs\n",
      "Ready.\n",
      "Reading 0 ... 166000  =      0.000 ...   166.000 secs...\n"
     ]
    },
    {
     "name": "stderr",
     "output_type": "stream",
     "text": [
      "C:\\Users\\marco\\AppData\\Local\\Temp\\ipykernel_6904\\3667833851.py:14: RuntimeWarning: This filename (../SEED_FRA_OUTPUT/NEUTRAL/1_1_trial_16_signals.fif) does not conform to MNE naming conventions. All raw files should end with raw.fif, raw_sss.fif, raw_tsss.fif, _meg.fif, _eeg.fif, _ieeg.fif, raw.fif.gz, raw_sss.fif.gz, raw_tsss.fif.gz, _meg.fif.gz, _eeg.fif.gz or _ieeg.fif.gz\n",
      "  eeg_data = mne.io.read_raw_fif(name, preload=True)\n"
     ]
    },
    {
     "name": "stdout",
     "output_type": "stream",
     "text": [
      "Opening raw data file ../SEED_FRA_OUTPUT/NEUTRAL/1_1_trial_19_signals.fif...\n",
      "    Range : 3515000 ... 3602000 =   3515.000 ...  3602.000 secs\n",
      "Ready.\n",
      "Reading 0 ... 87000  =      0.000 ...    87.000 secs...\n"
     ]
    },
    {
     "name": "stderr",
     "output_type": "stream",
     "text": [
      "C:\\Users\\marco\\AppData\\Local\\Temp\\ipykernel_6904\\3667833851.py:14: RuntimeWarning: This filename (../SEED_FRA_OUTPUT/NEUTRAL/1_1_trial_19_signals.fif) does not conform to MNE naming conventions. All raw files should end with raw.fif, raw_sss.fif, raw_tsss.fif, _meg.fif, _eeg.fif, _ieeg.fif, raw.fif.gz, raw_sss.fif.gz, raw_tsss.fif.gz, _meg.fif.gz, _eeg.fif.gz or _ieeg.fif.gz\n",
      "  eeg_data = mne.io.read_raw_fif(name, preload=True)\n"
     ]
    },
    {
     "name": "stdout",
     "output_type": "stream",
     "text": [
      "Opening raw data file ../SEED_FRA_OUTPUT/NEUTRAL/1_1_trial_2_signals.fif...\n",
      "    Range : 489000 ... 667000 =    489.000 ...   667.000 secs\n",
      "Ready.\n",
      "Reading 0 ... 178000  =      0.000 ...   178.000 secs...\n"
     ]
    },
    {
     "name": "stderr",
     "output_type": "stream",
     "text": [
      "C:\\Users\\marco\\AppData\\Local\\Temp\\ipykernel_6904\\3667833851.py:14: RuntimeWarning: This filename (../SEED_FRA_OUTPUT/NEUTRAL/1_1_trial_2_signals.fif) does not conform to MNE naming conventions. All raw files should end with raw.fif, raw_sss.fif, raw_tsss.fif, _meg.fif, _eeg.fif, _ieeg.fif, raw.fif.gz, raw_sss.fif.gz, raw_tsss.fif.gz, _meg.fif.gz, _eeg.fif.gz or _ieeg.fif.gz\n",
      "  eeg_data = mne.io.read_raw_fif(name, preload=True)\n"
     ]
    },
    {
     "name": "stdout",
     "output_type": "stream",
     "text": [
      "Opening raw data file ../SEED_FRA_OUTPUT/NEUTRAL/1_1_trial_5_signals.fif...\n",
      "    Range : 1103000 ... 1232000 =   1103.000 ...  1232.000 secs\n",
      "Ready.\n",
      "Reading 0 ... 129000  =      0.000 ...   129.000 secs...\n"
     ]
    },
    {
     "name": "stderr",
     "output_type": "stream",
     "text": [
      "C:\\Users\\marco\\AppData\\Local\\Temp\\ipykernel_6904\\3667833851.py:14: RuntimeWarning: This filename (../SEED_FRA_OUTPUT/NEUTRAL/1_1_trial_5_signals.fif) does not conform to MNE naming conventions. All raw files should end with raw.fif, raw_sss.fif, raw_tsss.fif, _meg.fif, _eeg.fif, _ieeg.fif, raw.fif.gz, raw_sss.fif.gz, raw_tsss.fif.gz, _meg.fif.gz, _eeg.fif.gz or _ieeg.fif.gz\n",
      "  eeg_data = mne.io.read_raw_fif(name, preload=True)\n"
     ]
    },
    {
     "name": "stdout",
     "output_type": "stream",
     "text": [
      "Opening raw data file ../SEED_FRA_OUTPUT/NEUTRAL/1_1_trial_7_signals.fif...\n",
      "    Range : 1572000 ... 1718000 =   1572.000 ...  1718.000 secs\n",
      "Ready.\n",
      "Reading 0 ... 146000  =      0.000 ...   146.000 secs...\n"
     ]
    },
    {
     "name": "stderr",
     "output_type": "stream",
     "text": [
      "C:\\Users\\marco\\AppData\\Local\\Temp\\ipykernel_6904\\3667833851.py:14: RuntimeWarning: This filename (../SEED_FRA_OUTPUT/NEUTRAL/1_1_trial_7_signals.fif) does not conform to MNE naming conventions. All raw files should end with raw.fif, raw_sss.fif, raw_tsss.fif, _meg.fif, _eeg.fif, _ieeg.fif, raw.fif.gz, raw_sss.fif.gz, raw_tsss.fif.gz, _meg.fif.gz, _eeg.fif.gz or _ieeg.fif.gz\n",
      "  eeg_data = mne.io.read_raw_fif(name, preload=True)\n"
     ]
    },
    {
     "name": "stdout",
     "output_type": "stream",
     "text": [
      "Opening raw data file ../SEED_FRA_OUTPUT/NEUTRAL/1_2_trial_10_signals.fif...\n",
      "    Range : 2174000 ... 2307000 =   2174.000 ...  2307.000 secs\n",
      "Ready.\n",
      "Reading 0 ... 133000  =      0.000 ...   133.000 secs...\n"
     ]
    },
    {
     "name": "stderr",
     "output_type": "stream",
     "text": [
      "C:\\Users\\marco\\AppData\\Local\\Temp\\ipykernel_6904\\3667833851.py:14: RuntimeWarning: This filename (../SEED_FRA_OUTPUT/NEUTRAL/1_2_trial_10_signals.fif) does not conform to MNE naming conventions. All raw files should end with raw.fif, raw_sss.fif, raw_tsss.fif, _meg.fif, _eeg.fif, _ieeg.fif, raw.fif.gz, raw_sss.fif.gz, raw_tsss.fif.gz, _meg.fif.gz, _eeg.fif.gz or _ieeg.fif.gz\n",
      "  eeg_data = mne.io.read_raw_fif(name, preload=True)\n"
     ]
    },
    {
     "name": "stdout",
     "output_type": "stream",
     "text": [
      "Opening raw data file ../SEED_FRA_OUTPUT/NEUTRAL/1_2_trial_13_signals.fif...\n",
      "    Range : 2619000 ... 2763000 =   2619.000 ...  2763.000 secs\n",
      "Ready.\n",
      "Reading 0 ... 144000  =      0.000 ...   144.000 secs...\n"
     ]
    },
    {
     "name": "stderr",
     "output_type": "stream",
     "text": [
      "C:\\Users\\marco\\AppData\\Local\\Temp\\ipykernel_6904\\3667833851.py:14: RuntimeWarning: This filename (../SEED_FRA_OUTPUT/NEUTRAL/1_2_trial_13_signals.fif) does not conform to MNE naming conventions. All raw files should end with raw.fif, raw_sss.fif, raw_tsss.fif, _meg.fif, _eeg.fif, _ieeg.fif, raw.fif.gz, raw_sss.fif.gz, raw_tsss.fif.gz, _meg.fif.gz, _eeg.fif.gz or _ieeg.fif.gz\n",
      "  eeg_data = mne.io.read_raw_fif(name, preload=True)\n"
     ]
    },
    {
     "name": "stdout",
     "output_type": "stream",
     "text": [
      "Opening raw data file ../SEED_FRA_OUTPUT/NEUTRAL/1_2_trial_16_signals.fif...\n",
      "    Range : 3029000 ... 3195000 =   3029.000 ...  3195.000 secs\n",
      "Ready.\n",
      "Reading 0 ... 166000  =      0.000 ...   166.000 secs...\n"
     ]
    },
    {
     "name": "stderr",
     "output_type": "stream",
     "text": [
      "C:\\Users\\marco\\AppData\\Local\\Temp\\ipykernel_6904\\3667833851.py:14: RuntimeWarning: This filename (../SEED_FRA_OUTPUT/NEUTRAL/1_2_trial_16_signals.fif) does not conform to MNE naming conventions. All raw files should end with raw.fif, raw_sss.fif, raw_tsss.fif, _meg.fif, _eeg.fif, _ieeg.fif, raw.fif.gz, raw_sss.fif.gz, raw_tsss.fif.gz, _meg.fif.gz, _eeg.fif.gz or _ieeg.fif.gz\n",
      "  eeg_data = mne.io.read_raw_fif(name, preload=True)\n"
     ]
    },
    {
     "name": "stdout",
     "output_type": "stream",
     "text": [
      "Opening raw data file ../SEED_FRA_OUTPUT/NEUTRAL/1_2_trial_19_signals.fif...\n",
      "    Range : 3515000 ... 3602000 =   3515.000 ...  3602.000 secs\n",
      "Ready.\n",
      "Reading 0 ... 87000  =      0.000 ...    87.000 secs...\n"
     ]
    },
    {
     "name": "stderr",
     "output_type": "stream",
     "text": [
      "C:\\Users\\marco\\AppData\\Local\\Temp\\ipykernel_6904\\3667833851.py:14: RuntimeWarning: This filename (../SEED_FRA_OUTPUT/NEUTRAL/1_2_trial_19_signals.fif) does not conform to MNE naming conventions. All raw files should end with raw.fif, raw_sss.fif, raw_tsss.fif, _meg.fif, _eeg.fif, _ieeg.fif, raw.fif.gz, raw_sss.fif.gz, raw_tsss.fif.gz, _meg.fif.gz, _eeg.fif.gz or _ieeg.fif.gz\n",
      "  eeg_data = mne.io.read_raw_fif(name, preload=True)\n"
     ]
    },
    {
     "name": "stdout",
     "output_type": "stream",
     "text": [
      "Opening raw data file ../SEED_FRA_OUTPUT/NEUTRAL/1_2_trial_2_signals.fif...\n",
      "    Range : 489000 ... 667000 =    489.000 ...   667.000 secs\n",
      "Ready.\n",
      "Reading 0 ... 178000  =      0.000 ...   178.000 secs...\n"
     ]
    },
    {
     "name": "stderr",
     "output_type": "stream",
     "text": [
      "C:\\Users\\marco\\AppData\\Local\\Temp\\ipykernel_6904\\3667833851.py:14: RuntimeWarning: This filename (../SEED_FRA_OUTPUT/NEUTRAL/1_2_trial_2_signals.fif) does not conform to MNE naming conventions. All raw files should end with raw.fif, raw_sss.fif, raw_tsss.fif, _meg.fif, _eeg.fif, _ieeg.fif, raw.fif.gz, raw_sss.fif.gz, raw_tsss.fif.gz, _meg.fif.gz, _eeg.fif.gz or _ieeg.fif.gz\n",
      "  eeg_data = mne.io.read_raw_fif(name, preload=True)\n"
     ]
    },
    {
     "name": "stdout",
     "output_type": "stream",
     "text": [
      "Opening raw data file ../SEED_FRA_OUTPUT/NEUTRAL/1_2_trial_5_signals.fif...\n",
      "    Range : 1103000 ... 1232000 =   1103.000 ...  1232.000 secs\n",
      "Ready.\n",
      "Reading 0 ... 129000  =      0.000 ...   129.000 secs...\n"
     ]
    },
    {
     "name": "stderr",
     "output_type": "stream",
     "text": [
      "C:\\Users\\marco\\AppData\\Local\\Temp\\ipykernel_6904\\3667833851.py:14: RuntimeWarning: This filename (../SEED_FRA_OUTPUT/NEUTRAL/1_2_trial_5_signals.fif) does not conform to MNE naming conventions. All raw files should end with raw.fif, raw_sss.fif, raw_tsss.fif, _meg.fif, _eeg.fif, _ieeg.fif, raw.fif.gz, raw_sss.fif.gz, raw_tsss.fif.gz, _meg.fif.gz, _eeg.fif.gz or _ieeg.fif.gz\n",
      "  eeg_data = mne.io.read_raw_fif(name, preload=True)\n"
     ]
    },
    {
     "name": "stdout",
     "output_type": "stream",
     "text": [
      "Opening raw data file ../SEED_FRA_OUTPUT/NEUTRAL/1_2_trial_7_signals.fif...\n",
      "    Range : 1572000 ... 1718000 =   1572.000 ...  1718.000 secs\n",
      "Ready.\n",
      "Reading 0 ... 146000  =      0.000 ...   146.000 secs...\n"
     ]
    },
    {
     "name": "stderr",
     "output_type": "stream",
     "text": [
      "C:\\Users\\marco\\AppData\\Local\\Temp\\ipykernel_6904\\3667833851.py:14: RuntimeWarning: This filename (../SEED_FRA_OUTPUT/NEUTRAL/1_2_trial_7_signals.fif) does not conform to MNE naming conventions. All raw files should end with raw.fif, raw_sss.fif, raw_tsss.fif, _meg.fif, _eeg.fif, _ieeg.fif, raw.fif.gz, raw_sss.fif.gz, raw_tsss.fif.gz, _meg.fif.gz, _eeg.fif.gz or _ieeg.fif.gz\n",
      "  eeg_data = mne.io.read_raw_fif(name, preload=True)\n"
     ]
    },
    {
     "name": "stdout",
     "output_type": "stream",
     "text": [
      "Opening raw data file ../SEED_FRA_OUTPUT/NEUTRAL/1_3_trial_10_signals.fif...\n",
      "    Range : 2174000 ... 2307000 =   2174.000 ...  2307.000 secs\n",
      "Ready.\n",
      "Reading 0 ... 133000  =      0.000 ...   133.000 secs...\n"
     ]
    },
    {
     "name": "stderr",
     "output_type": "stream",
     "text": [
      "C:\\Users\\marco\\AppData\\Local\\Temp\\ipykernel_6904\\3667833851.py:14: RuntimeWarning: This filename (../SEED_FRA_OUTPUT/NEUTRAL/1_3_trial_10_signals.fif) does not conform to MNE naming conventions. All raw files should end with raw.fif, raw_sss.fif, raw_tsss.fif, _meg.fif, _eeg.fif, _ieeg.fif, raw.fif.gz, raw_sss.fif.gz, raw_tsss.fif.gz, _meg.fif.gz, _eeg.fif.gz or _ieeg.fif.gz\n",
      "  eeg_data = mne.io.read_raw_fif(name, preload=True)\n"
     ]
    },
    {
     "name": "stdout",
     "output_type": "stream",
     "text": [
      "Opening raw data file ../SEED_FRA_OUTPUT/NEUTRAL/1_3_trial_13_signals.fif...\n",
      "    Range : 2619000 ... 2763000 =   2619.000 ...  2763.000 secs\n",
      "Ready.\n",
      "Reading 0 ... 144000  =      0.000 ...   144.000 secs...\n"
     ]
    },
    {
     "name": "stderr",
     "output_type": "stream",
     "text": [
      "C:\\Users\\marco\\AppData\\Local\\Temp\\ipykernel_6904\\3667833851.py:14: RuntimeWarning: This filename (../SEED_FRA_OUTPUT/NEUTRAL/1_3_trial_13_signals.fif) does not conform to MNE naming conventions. All raw files should end with raw.fif, raw_sss.fif, raw_tsss.fif, _meg.fif, _eeg.fif, _ieeg.fif, raw.fif.gz, raw_sss.fif.gz, raw_tsss.fif.gz, _meg.fif.gz, _eeg.fif.gz or _ieeg.fif.gz\n",
      "  eeg_data = mne.io.read_raw_fif(name, preload=True)\n"
     ]
    },
    {
     "name": "stdout",
     "output_type": "stream",
     "text": [
      "Opening raw data file ../SEED_FRA_OUTPUT/NEUTRAL/1_3_trial_16_signals.fif...\n",
      "    Range : 3029000 ... 3195000 =   3029.000 ...  3195.000 secs\n",
      "Ready.\n",
      "Reading 0 ... 166000  =      0.000 ...   166.000 secs...\n"
     ]
    },
    {
     "name": "stderr",
     "output_type": "stream",
     "text": [
      "C:\\Users\\marco\\AppData\\Local\\Temp\\ipykernel_6904\\3667833851.py:14: RuntimeWarning: This filename (../SEED_FRA_OUTPUT/NEUTRAL/1_3_trial_16_signals.fif) does not conform to MNE naming conventions. All raw files should end with raw.fif, raw_sss.fif, raw_tsss.fif, _meg.fif, _eeg.fif, _ieeg.fif, raw.fif.gz, raw_sss.fif.gz, raw_tsss.fif.gz, _meg.fif.gz, _eeg.fif.gz or _ieeg.fif.gz\n",
      "  eeg_data = mne.io.read_raw_fif(name, preload=True)\n"
     ]
    },
    {
     "name": "stdout",
     "output_type": "stream",
     "text": [
      "Opening raw data file ../SEED_FRA_OUTPUT/NEUTRAL/1_3_trial_19_signals.fif...\n",
      "    Range : 3515000 ... 3602000 =   3515.000 ...  3602.000 secs\n",
      "Ready.\n",
      "Reading 0 ... 87000  =      0.000 ...    87.000 secs...\n"
     ]
    },
    {
     "name": "stderr",
     "output_type": "stream",
     "text": [
      "C:\\Users\\marco\\AppData\\Local\\Temp\\ipykernel_6904\\3667833851.py:14: RuntimeWarning: This filename (../SEED_FRA_OUTPUT/NEUTRAL/1_3_trial_19_signals.fif) does not conform to MNE naming conventions. All raw files should end with raw.fif, raw_sss.fif, raw_tsss.fif, _meg.fif, _eeg.fif, _ieeg.fif, raw.fif.gz, raw_sss.fif.gz, raw_tsss.fif.gz, _meg.fif.gz, _eeg.fif.gz or _ieeg.fif.gz\n",
      "  eeg_data = mne.io.read_raw_fif(name, preload=True)\n"
     ]
    },
    {
     "name": "stdout",
     "output_type": "stream",
     "text": [
      "Opening raw data file ../SEED_FRA_OUTPUT/NEUTRAL/1_3_trial_2_signals.fif...\n",
      "    Range : 489000 ... 667000 =    489.000 ...   667.000 secs\n",
      "Ready.\n",
      "Reading 0 ... 178000  =      0.000 ...   178.000 secs...\n"
     ]
    },
    {
     "name": "stderr",
     "output_type": "stream",
     "text": [
      "C:\\Users\\marco\\AppData\\Local\\Temp\\ipykernel_6904\\3667833851.py:14: RuntimeWarning: This filename (../SEED_FRA_OUTPUT/NEUTRAL/1_3_trial_2_signals.fif) does not conform to MNE naming conventions. All raw files should end with raw.fif, raw_sss.fif, raw_tsss.fif, _meg.fif, _eeg.fif, _ieeg.fif, raw.fif.gz, raw_sss.fif.gz, raw_tsss.fif.gz, _meg.fif.gz, _eeg.fif.gz or _ieeg.fif.gz\n",
      "  eeg_data = mne.io.read_raw_fif(name, preload=True)\n"
     ]
    },
    {
     "name": "stdout",
     "output_type": "stream",
     "text": [
      "Opening raw data file ../SEED_FRA_OUTPUT/NEUTRAL/1_3_trial_5_signals.fif...\n",
      "    Range : 1103000 ... 1232000 =   1103.000 ...  1232.000 secs\n",
      "Ready.\n",
      "Reading 0 ... 129000  =      0.000 ...   129.000 secs...\n"
     ]
    },
    {
     "name": "stderr",
     "output_type": "stream",
     "text": [
      "C:\\Users\\marco\\AppData\\Local\\Temp\\ipykernel_6904\\3667833851.py:14: RuntimeWarning: This filename (../SEED_FRA_OUTPUT/NEUTRAL/1_3_trial_5_signals.fif) does not conform to MNE naming conventions. All raw files should end with raw.fif, raw_sss.fif, raw_tsss.fif, _meg.fif, _eeg.fif, _ieeg.fif, raw.fif.gz, raw_sss.fif.gz, raw_tsss.fif.gz, _meg.fif.gz, _eeg.fif.gz or _ieeg.fif.gz\n",
      "  eeg_data = mne.io.read_raw_fif(name, preload=True)\n"
     ]
    },
    {
     "name": "stdout",
     "output_type": "stream",
     "text": [
      "Opening raw data file ../SEED_FRA_OUTPUT/NEUTRAL/1_3_trial_7_signals.fif...\n",
      "    Range : 1572000 ... 1718000 =   1572.000 ...  1718.000 secs\n",
      "Ready.\n",
      "Reading 0 ... 146000  =      0.000 ...   146.000 secs...\n"
     ]
    },
    {
     "name": "stderr",
     "output_type": "stream",
     "text": [
      "C:\\Users\\marco\\AppData\\Local\\Temp\\ipykernel_6904\\3667833851.py:14: RuntimeWarning: This filename (../SEED_FRA_OUTPUT/NEUTRAL/1_3_trial_7_signals.fif) does not conform to MNE naming conventions. All raw files should end with raw.fif, raw_sss.fif, raw_tsss.fif, _meg.fif, _eeg.fif, _ieeg.fif, raw.fif.gz, raw_sss.fif.gz, raw_tsss.fif.gz, _meg.fif.gz, _eeg.fif.gz or _ieeg.fif.gz\n",
      "  eeg_data = mne.io.read_raw_fif(name, preload=True)\n"
     ]
    },
    {
     "name": "stdout",
     "output_type": "stream",
     "text": [
      "Opening raw data file ../SEED_FRA_OUTPUT/NEUTRAL/2_1_trial_10_signals.fif...\n",
      "    Range : 2174000 ... 2307000 =   2174.000 ...  2307.000 secs\n",
      "Ready.\n",
      "Reading 0 ... 133000  =      0.000 ...   133.000 secs...\n"
     ]
    },
    {
     "name": "stderr",
     "output_type": "stream",
     "text": [
      "C:\\Users\\marco\\AppData\\Local\\Temp\\ipykernel_6904\\3667833851.py:14: RuntimeWarning: This filename (../SEED_FRA_OUTPUT/NEUTRAL/2_1_trial_10_signals.fif) does not conform to MNE naming conventions. All raw files should end with raw.fif, raw_sss.fif, raw_tsss.fif, _meg.fif, _eeg.fif, _ieeg.fif, raw.fif.gz, raw_sss.fif.gz, raw_tsss.fif.gz, _meg.fif.gz, _eeg.fif.gz or _ieeg.fif.gz\n",
      "  eeg_data = mne.io.read_raw_fif(name, preload=True)\n"
     ]
    },
    {
     "name": "stdout",
     "output_type": "stream",
     "text": [
      "Opening raw data file ../SEED_FRA_OUTPUT/NEUTRAL/2_1_trial_13_signals.fif...\n",
      "    Range : 2619000 ... 2763000 =   2619.000 ...  2763.000 secs\n",
      "Ready.\n",
      "Reading 0 ... 144000  =      0.000 ...   144.000 secs...\n"
     ]
    },
    {
     "name": "stderr",
     "output_type": "stream",
     "text": [
      "C:\\Users\\marco\\AppData\\Local\\Temp\\ipykernel_6904\\3667833851.py:14: RuntimeWarning: This filename (../SEED_FRA_OUTPUT/NEUTRAL/2_1_trial_13_signals.fif) does not conform to MNE naming conventions. All raw files should end with raw.fif, raw_sss.fif, raw_tsss.fif, _meg.fif, _eeg.fif, _ieeg.fif, raw.fif.gz, raw_sss.fif.gz, raw_tsss.fif.gz, _meg.fif.gz, _eeg.fif.gz or _ieeg.fif.gz\n",
      "  eeg_data = mne.io.read_raw_fif(name, preload=True)\n"
     ]
    },
    {
     "name": "stdout",
     "output_type": "stream",
     "text": [
      "Opening raw data file ../SEED_FRA_OUTPUT/NEUTRAL/2_1_trial_16_signals.fif...\n",
      "    Range : 3029000 ... 3195000 =   3029.000 ...  3195.000 secs\n",
      "Ready.\n",
      "Reading 0 ... 166000  =      0.000 ...   166.000 secs...\n"
     ]
    },
    {
     "name": "stderr",
     "output_type": "stream",
     "text": [
      "C:\\Users\\marco\\AppData\\Local\\Temp\\ipykernel_6904\\3667833851.py:14: RuntimeWarning: This filename (../SEED_FRA_OUTPUT/NEUTRAL/2_1_trial_16_signals.fif) does not conform to MNE naming conventions. All raw files should end with raw.fif, raw_sss.fif, raw_tsss.fif, _meg.fif, _eeg.fif, _ieeg.fif, raw.fif.gz, raw_sss.fif.gz, raw_tsss.fif.gz, _meg.fif.gz, _eeg.fif.gz or _ieeg.fif.gz\n",
      "  eeg_data = mne.io.read_raw_fif(name, preload=True)\n"
     ]
    },
    {
     "name": "stdout",
     "output_type": "stream",
     "text": [
      "Opening raw data file ../SEED_FRA_OUTPUT/NEUTRAL/2_1_trial_19_signals.fif...\n",
      "    Range : 3515000 ... 3602000 =   3515.000 ...  3602.000 secs\n",
      "Ready.\n",
      "Reading 0 ... 87000  =      0.000 ...    87.000 secs...\n"
     ]
    },
    {
     "name": "stderr",
     "output_type": "stream",
     "text": [
      "C:\\Users\\marco\\AppData\\Local\\Temp\\ipykernel_6904\\3667833851.py:14: RuntimeWarning: This filename (../SEED_FRA_OUTPUT/NEUTRAL/2_1_trial_19_signals.fif) does not conform to MNE naming conventions. All raw files should end with raw.fif, raw_sss.fif, raw_tsss.fif, _meg.fif, _eeg.fif, _ieeg.fif, raw.fif.gz, raw_sss.fif.gz, raw_tsss.fif.gz, _meg.fif.gz, _eeg.fif.gz or _ieeg.fif.gz\n",
      "  eeg_data = mne.io.read_raw_fif(name, preload=True)\n"
     ]
    },
    {
     "name": "stdout",
     "output_type": "stream",
     "text": [
      "Opening raw data file ../SEED_FRA_OUTPUT/NEUTRAL/2_1_trial_2_signals.fif...\n",
      "    Range : 489000 ... 667000 =    489.000 ...   667.000 secs\n",
      "Ready.\n",
      "Reading 0 ... 178000  =      0.000 ...   178.000 secs...\n"
     ]
    },
    {
     "name": "stderr",
     "output_type": "stream",
     "text": [
      "C:\\Users\\marco\\AppData\\Local\\Temp\\ipykernel_6904\\3667833851.py:14: RuntimeWarning: This filename (../SEED_FRA_OUTPUT/NEUTRAL/2_1_trial_2_signals.fif) does not conform to MNE naming conventions. All raw files should end with raw.fif, raw_sss.fif, raw_tsss.fif, _meg.fif, _eeg.fif, _ieeg.fif, raw.fif.gz, raw_sss.fif.gz, raw_tsss.fif.gz, _meg.fif.gz, _eeg.fif.gz or _ieeg.fif.gz\n",
      "  eeg_data = mne.io.read_raw_fif(name, preload=True)\n"
     ]
    },
    {
     "name": "stdout",
     "output_type": "stream",
     "text": [
      "Opening raw data file ../SEED_FRA_OUTPUT/NEUTRAL/2_1_trial_5_signals.fif...\n",
      "    Range : 1103000 ... 1232000 =   1103.000 ...  1232.000 secs\n",
      "Ready.\n",
      "Reading 0 ... 129000  =      0.000 ...   129.000 secs...\n"
     ]
    },
    {
     "name": "stderr",
     "output_type": "stream",
     "text": [
      "C:\\Users\\marco\\AppData\\Local\\Temp\\ipykernel_6904\\3667833851.py:14: RuntimeWarning: This filename (../SEED_FRA_OUTPUT/NEUTRAL/2_1_trial_5_signals.fif) does not conform to MNE naming conventions. All raw files should end with raw.fif, raw_sss.fif, raw_tsss.fif, _meg.fif, _eeg.fif, _ieeg.fif, raw.fif.gz, raw_sss.fif.gz, raw_tsss.fif.gz, _meg.fif.gz, _eeg.fif.gz or _ieeg.fif.gz\n",
      "  eeg_data = mne.io.read_raw_fif(name, preload=True)\n"
     ]
    },
    {
     "name": "stdout",
     "output_type": "stream",
     "text": [
      "Opening raw data file ../SEED_FRA_OUTPUT/NEUTRAL/2_1_trial_7_signals.fif...\n",
      "    Range : 1572000 ... 1718000 =   1572.000 ...  1718.000 secs\n",
      "Ready.\n",
      "Reading 0 ... 146000  =      0.000 ...   146.000 secs...\n"
     ]
    },
    {
     "name": "stderr",
     "output_type": "stream",
     "text": [
      "C:\\Users\\marco\\AppData\\Local\\Temp\\ipykernel_6904\\3667833851.py:14: RuntimeWarning: This filename (../SEED_FRA_OUTPUT/NEUTRAL/2_1_trial_7_signals.fif) does not conform to MNE naming conventions. All raw files should end with raw.fif, raw_sss.fif, raw_tsss.fif, _meg.fif, _eeg.fif, _ieeg.fif, raw.fif.gz, raw_sss.fif.gz, raw_tsss.fif.gz, _meg.fif.gz, _eeg.fif.gz or _ieeg.fif.gz\n",
      "  eeg_data = mne.io.read_raw_fif(name, preload=True)\n"
     ]
    },
    {
     "name": "stdout",
     "output_type": "stream",
     "text": [
      "Opening raw data file ../SEED_FRA_OUTPUT/NEUTRAL/2_2_trial_10_signals.fif...\n",
      "    Range : 2174000 ... 2307000 =   2174.000 ...  2307.000 secs\n",
      "Ready.\n",
      "Reading 0 ... 133000  =      0.000 ...   133.000 secs...\n"
     ]
    },
    {
     "name": "stderr",
     "output_type": "stream",
     "text": [
      "C:\\Users\\marco\\AppData\\Local\\Temp\\ipykernel_6904\\3667833851.py:14: RuntimeWarning: This filename (../SEED_FRA_OUTPUT/NEUTRAL/2_2_trial_10_signals.fif) does not conform to MNE naming conventions. All raw files should end with raw.fif, raw_sss.fif, raw_tsss.fif, _meg.fif, _eeg.fif, _ieeg.fif, raw.fif.gz, raw_sss.fif.gz, raw_tsss.fif.gz, _meg.fif.gz, _eeg.fif.gz or _ieeg.fif.gz\n",
      "  eeg_data = mne.io.read_raw_fif(name, preload=True)\n"
     ]
    },
    {
     "name": "stdout",
     "output_type": "stream",
     "text": [
      "Opening raw data file ../SEED_FRA_OUTPUT/NEUTRAL/2_2_trial_13_signals.fif...\n",
      "    Range : 2619000 ... 2763000 =   2619.000 ...  2763.000 secs\n",
      "Ready.\n",
      "Reading 0 ... 144000  =      0.000 ...   144.000 secs...\n"
     ]
    },
    {
     "name": "stderr",
     "output_type": "stream",
     "text": [
      "C:\\Users\\marco\\AppData\\Local\\Temp\\ipykernel_6904\\3667833851.py:14: RuntimeWarning: This filename (../SEED_FRA_OUTPUT/NEUTRAL/2_2_trial_13_signals.fif) does not conform to MNE naming conventions. All raw files should end with raw.fif, raw_sss.fif, raw_tsss.fif, _meg.fif, _eeg.fif, _ieeg.fif, raw.fif.gz, raw_sss.fif.gz, raw_tsss.fif.gz, _meg.fif.gz, _eeg.fif.gz or _ieeg.fif.gz\n",
      "  eeg_data = mne.io.read_raw_fif(name, preload=True)\n"
     ]
    },
    {
     "name": "stdout",
     "output_type": "stream",
     "text": [
      "Opening raw data file ../SEED_FRA_OUTPUT/NEUTRAL/2_2_trial_16_signals.fif...\n",
      "    Range : 3029000 ... 3195000 =   3029.000 ...  3195.000 secs\n",
      "Ready.\n",
      "Reading 0 ... 166000  =      0.000 ...   166.000 secs...\n"
     ]
    },
    {
     "name": "stderr",
     "output_type": "stream",
     "text": [
      "C:\\Users\\marco\\AppData\\Local\\Temp\\ipykernel_6904\\3667833851.py:14: RuntimeWarning: This filename (../SEED_FRA_OUTPUT/NEUTRAL/2_2_trial_16_signals.fif) does not conform to MNE naming conventions. All raw files should end with raw.fif, raw_sss.fif, raw_tsss.fif, _meg.fif, _eeg.fif, _ieeg.fif, raw.fif.gz, raw_sss.fif.gz, raw_tsss.fif.gz, _meg.fif.gz, _eeg.fif.gz or _ieeg.fif.gz\n",
      "  eeg_data = mne.io.read_raw_fif(name, preload=True)\n"
     ]
    },
    {
     "name": "stdout",
     "output_type": "stream",
     "text": [
      "Opening raw data file ../SEED_FRA_OUTPUT/NEUTRAL/2_2_trial_19_signals.fif...\n",
      "    Range : 3515000 ... 3602000 =   3515.000 ...  3602.000 secs\n",
      "Ready.\n",
      "Reading 0 ... 87000  =      0.000 ...    87.000 secs...\n"
     ]
    },
    {
     "name": "stderr",
     "output_type": "stream",
     "text": [
      "C:\\Users\\marco\\AppData\\Local\\Temp\\ipykernel_6904\\3667833851.py:14: RuntimeWarning: This filename (../SEED_FRA_OUTPUT/NEUTRAL/2_2_trial_19_signals.fif) does not conform to MNE naming conventions. All raw files should end with raw.fif, raw_sss.fif, raw_tsss.fif, _meg.fif, _eeg.fif, _ieeg.fif, raw.fif.gz, raw_sss.fif.gz, raw_tsss.fif.gz, _meg.fif.gz, _eeg.fif.gz or _ieeg.fif.gz\n",
      "  eeg_data = mne.io.read_raw_fif(name, preload=True)\n"
     ]
    },
    {
     "name": "stdout",
     "output_type": "stream",
     "text": [
      "Opening raw data file ../SEED_FRA_OUTPUT/NEUTRAL/2_2_trial_2_signals.fif...\n",
      "    Range : 489000 ... 667000 =    489.000 ...   667.000 secs\n",
      "Ready.\n",
      "Reading 0 ... 178000  =      0.000 ...   178.000 secs...\n"
     ]
    },
    {
     "name": "stderr",
     "output_type": "stream",
     "text": [
      "C:\\Users\\marco\\AppData\\Local\\Temp\\ipykernel_6904\\3667833851.py:14: RuntimeWarning: This filename (../SEED_FRA_OUTPUT/NEUTRAL/2_2_trial_2_signals.fif) does not conform to MNE naming conventions. All raw files should end with raw.fif, raw_sss.fif, raw_tsss.fif, _meg.fif, _eeg.fif, _ieeg.fif, raw.fif.gz, raw_sss.fif.gz, raw_tsss.fif.gz, _meg.fif.gz, _eeg.fif.gz or _ieeg.fif.gz\n",
      "  eeg_data = mne.io.read_raw_fif(name, preload=True)\n"
     ]
    },
    {
     "name": "stdout",
     "output_type": "stream",
     "text": [
      "Opening raw data file ../SEED_FRA_OUTPUT/NEUTRAL/2_2_trial_5_signals.fif...\n",
      "    Range : 1103000 ... 1232000 =   1103.000 ...  1232.000 secs\n",
      "Ready.\n",
      "Reading 0 ... 129000  =      0.000 ...   129.000 secs...\n"
     ]
    },
    {
     "name": "stderr",
     "output_type": "stream",
     "text": [
      "C:\\Users\\marco\\AppData\\Local\\Temp\\ipykernel_6904\\3667833851.py:14: RuntimeWarning: This filename (../SEED_FRA_OUTPUT/NEUTRAL/2_2_trial_5_signals.fif) does not conform to MNE naming conventions. All raw files should end with raw.fif, raw_sss.fif, raw_tsss.fif, _meg.fif, _eeg.fif, _ieeg.fif, raw.fif.gz, raw_sss.fif.gz, raw_tsss.fif.gz, _meg.fif.gz, _eeg.fif.gz or _ieeg.fif.gz\n",
      "  eeg_data = mne.io.read_raw_fif(name, preload=True)\n"
     ]
    },
    {
     "name": "stdout",
     "output_type": "stream",
     "text": [
      "Opening raw data file ../SEED_FRA_OUTPUT/NEUTRAL/2_2_trial_7_signals.fif...\n",
      "    Range : 1572000 ... 1718000 =   1572.000 ...  1718.000 secs\n",
      "Ready.\n",
      "Reading 0 ... 146000  =      0.000 ...   146.000 secs...\n"
     ]
    },
    {
     "name": "stderr",
     "output_type": "stream",
     "text": [
      "C:\\Users\\marco\\AppData\\Local\\Temp\\ipykernel_6904\\3667833851.py:14: RuntimeWarning: This filename (../SEED_FRA_OUTPUT/NEUTRAL/2_2_trial_7_signals.fif) does not conform to MNE naming conventions. All raw files should end with raw.fif, raw_sss.fif, raw_tsss.fif, _meg.fif, _eeg.fif, _ieeg.fif, raw.fif.gz, raw_sss.fif.gz, raw_tsss.fif.gz, _meg.fif.gz, _eeg.fif.gz or _ieeg.fif.gz\n",
      "  eeg_data = mne.io.read_raw_fif(name, preload=True)\n"
     ]
    },
    {
     "name": "stdout",
     "output_type": "stream",
     "text": [
      "Opening raw data file ../SEED_FRA_OUTPUT/NEUTRAL/2_3_trial_10_signals.fif...\n",
      "    Range : 2174000 ... 2307000 =   2174.000 ...  2307.000 secs\n",
      "Ready.\n",
      "Reading 0 ... 133000  =      0.000 ...   133.000 secs...\n"
     ]
    },
    {
     "name": "stderr",
     "output_type": "stream",
     "text": [
      "C:\\Users\\marco\\AppData\\Local\\Temp\\ipykernel_6904\\3667833851.py:14: RuntimeWarning: This filename (../SEED_FRA_OUTPUT/NEUTRAL/2_3_trial_10_signals.fif) does not conform to MNE naming conventions. All raw files should end with raw.fif, raw_sss.fif, raw_tsss.fif, _meg.fif, _eeg.fif, _ieeg.fif, raw.fif.gz, raw_sss.fif.gz, raw_tsss.fif.gz, _meg.fif.gz, _eeg.fif.gz or _ieeg.fif.gz\n",
      "  eeg_data = mne.io.read_raw_fif(name, preload=True)\n"
     ]
    },
    {
     "name": "stdout",
     "output_type": "stream",
     "text": [
      "Opening raw data file ../SEED_FRA_OUTPUT/NEUTRAL/2_3_trial_13_signals.fif...\n",
      "    Range : 2619000 ... 2763000 =   2619.000 ...  2763.000 secs\n",
      "Ready.\n",
      "Reading 0 ... 144000  =      0.000 ...   144.000 secs...\n"
     ]
    },
    {
     "name": "stderr",
     "output_type": "stream",
     "text": [
      "C:\\Users\\marco\\AppData\\Local\\Temp\\ipykernel_6904\\3667833851.py:14: RuntimeWarning: This filename (../SEED_FRA_OUTPUT/NEUTRAL/2_3_trial_13_signals.fif) does not conform to MNE naming conventions. All raw files should end with raw.fif, raw_sss.fif, raw_tsss.fif, _meg.fif, _eeg.fif, _ieeg.fif, raw.fif.gz, raw_sss.fif.gz, raw_tsss.fif.gz, _meg.fif.gz, _eeg.fif.gz or _ieeg.fif.gz\n",
      "  eeg_data = mne.io.read_raw_fif(name, preload=True)\n"
     ]
    },
    {
     "name": "stdout",
     "output_type": "stream",
     "text": [
      "Opening raw data file ../SEED_FRA_OUTPUT/NEUTRAL/2_3_trial_16_signals.fif...\n",
      "    Range : 3029000 ... 3195000 =   3029.000 ...  3195.000 secs\n",
      "Ready.\n",
      "Reading 0 ... 166000  =      0.000 ...   166.000 secs...\n"
     ]
    },
    {
     "name": "stderr",
     "output_type": "stream",
     "text": [
      "C:\\Users\\marco\\AppData\\Local\\Temp\\ipykernel_6904\\3667833851.py:14: RuntimeWarning: This filename (../SEED_FRA_OUTPUT/NEUTRAL/2_3_trial_16_signals.fif) does not conform to MNE naming conventions. All raw files should end with raw.fif, raw_sss.fif, raw_tsss.fif, _meg.fif, _eeg.fif, _ieeg.fif, raw.fif.gz, raw_sss.fif.gz, raw_tsss.fif.gz, _meg.fif.gz, _eeg.fif.gz or _ieeg.fif.gz\n",
      "  eeg_data = mne.io.read_raw_fif(name, preload=True)\n"
     ]
    },
    {
     "name": "stdout",
     "output_type": "stream",
     "text": [
      "Opening raw data file ../SEED_FRA_OUTPUT/NEUTRAL/2_3_trial_19_signals.fif...\n",
      "    Range : 3515000 ... 3602000 =   3515.000 ...  3602.000 secs\n",
      "Ready.\n",
      "Reading 0 ... 87000  =      0.000 ...    87.000 secs...\n"
     ]
    },
    {
     "name": "stderr",
     "output_type": "stream",
     "text": [
      "C:\\Users\\marco\\AppData\\Local\\Temp\\ipykernel_6904\\3667833851.py:14: RuntimeWarning: This filename (../SEED_FRA_OUTPUT/NEUTRAL/2_3_trial_19_signals.fif) does not conform to MNE naming conventions. All raw files should end with raw.fif, raw_sss.fif, raw_tsss.fif, _meg.fif, _eeg.fif, _ieeg.fif, raw.fif.gz, raw_sss.fif.gz, raw_tsss.fif.gz, _meg.fif.gz, _eeg.fif.gz or _ieeg.fif.gz\n",
      "  eeg_data = mne.io.read_raw_fif(name, preload=True)\n"
     ]
    },
    {
     "name": "stdout",
     "output_type": "stream",
     "text": [
      "Opening raw data file ../SEED_FRA_OUTPUT/NEUTRAL/2_3_trial_2_signals.fif...\n"
     ]
    },
    {
     "name": "stderr",
     "output_type": "stream",
     "text": [
      "C:\\Users\\marco\\AppData\\Local\\Temp\\ipykernel_6904\\3667833851.py:14: RuntimeWarning: This filename (../SEED_FRA_OUTPUT/NEUTRAL/2_3_trial_2_signals.fif) does not conform to MNE naming conventions. All raw files should end with raw.fif, raw_sss.fif, raw_tsss.fif, _meg.fif, _eeg.fif, _ieeg.fif, raw.fif.gz, raw_sss.fif.gz, raw_tsss.fif.gz, _meg.fif.gz, _eeg.fif.gz or _ieeg.fif.gz\n",
      "  eeg_data = mne.io.read_raw_fif(name, preload=True)\n"
     ]
    },
    {
     "name": "stdout",
     "output_type": "stream",
     "text": [
      "    Range : 489000 ... 667000 =    489.000 ...   667.000 secs\n",
      "Ready.\n",
      "Reading 0 ... 178000  =      0.000 ...   178.000 secs...\n",
      "Opening raw data file ../SEED_FRA_OUTPUT/NEUTRAL/2_3_trial_5_signals.fif...\n",
      "    Range : 1103000 ... 1232000 =   1103.000 ...  1232.000 secs\n",
      "Ready.\n",
      "Reading 0 ... 129000  =      0.000 ...   129.000 secs...\n"
     ]
    },
    {
     "name": "stderr",
     "output_type": "stream",
     "text": [
      "C:\\Users\\marco\\AppData\\Local\\Temp\\ipykernel_6904\\3667833851.py:14: RuntimeWarning: This filename (../SEED_FRA_OUTPUT/NEUTRAL/2_3_trial_5_signals.fif) does not conform to MNE naming conventions. All raw files should end with raw.fif, raw_sss.fif, raw_tsss.fif, _meg.fif, _eeg.fif, _ieeg.fif, raw.fif.gz, raw_sss.fif.gz, raw_tsss.fif.gz, _meg.fif.gz, _eeg.fif.gz or _ieeg.fif.gz\n",
      "  eeg_data = mne.io.read_raw_fif(name, preload=True)\n"
     ]
    },
    {
     "name": "stdout",
     "output_type": "stream",
     "text": [
      "Opening raw data file ../SEED_FRA_OUTPUT/NEUTRAL/2_3_trial_7_signals.fif...\n",
      "    Range : 1572000 ... 1718000 =   1572.000 ...  1718.000 secs\n",
      "Ready.\n",
      "Reading 0 ... 146000  =      0.000 ...   146.000 secs...\n"
     ]
    },
    {
     "name": "stderr",
     "output_type": "stream",
     "text": [
      "C:\\Users\\marco\\AppData\\Local\\Temp\\ipykernel_6904\\3667833851.py:14: RuntimeWarning: This filename (../SEED_FRA_OUTPUT/NEUTRAL/2_3_trial_7_signals.fif) does not conform to MNE naming conventions. All raw files should end with raw.fif, raw_sss.fif, raw_tsss.fif, _meg.fif, _eeg.fif, _ieeg.fif, raw.fif.gz, raw_sss.fif.gz, raw_tsss.fif.gz, _meg.fif.gz, _eeg.fif.gz or _ieeg.fif.gz\n",
      "  eeg_data = mne.io.read_raw_fif(name, preload=True)\n"
     ]
    },
    {
     "name": "stdout",
     "output_type": "stream",
     "text": [
      "Opening raw data file ../SEED_FRA_OUTPUT/NEUTRAL/3_1_trial_10_signals.fif...\n",
      "    Range : 2174000 ... 2307000 =   2174.000 ...  2307.000 secs\n",
      "Ready.\n",
      "Reading 0 ... 133000  =      0.000 ...   133.000 secs...\n"
     ]
    },
    {
     "name": "stderr",
     "output_type": "stream",
     "text": [
      "C:\\Users\\marco\\AppData\\Local\\Temp\\ipykernel_6904\\3667833851.py:14: RuntimeWarning: This filename (../SEED_FRA_OUTPUT/NEUTRAL/3_1_trial_10_signals.fif) does not conform to MNE naming conventions. All raw files should end with raw.fif, raw_sss.fif, raw_tsss.fif, _meg.fif, _eeg.fif, _ieeg.fif, raw.fif.gz, raw_sss.fif.gz, raw_tsss.fif.gz, _meg.fif.gz, _eeg.fif.gz or _ieeg.fif.gz\n",
      "  eeg_data = mne.io.read_raw_fif(name, preload=True)\n"
     ]
    },
    {
     "name": "stdout",
     "output_type": "stream",
     "text": [
      "Opening raw data file ../SEED_FRA_OUTPUT/NEUTRAL/3_1_trial_13_signals.fif...\n",
      "    Range : 2619000 ... 2763000 =   2619.000 ...  2763.000 secs\n",
      "Ready.\n",
      "Reading 0 ... 144000  =      0.000 ...   144.000 secs...\n"
     ]
    },
    {
     "name": "stderr",
     "output_type": "stream",
     "text": [
      "C:\\Users\\marco\\AppData\\Local\\Temp\\ipykernel_6904\\3667833851.py:14: RuntimeWarning: This filename (../SEED_FRA_OUTPUT/NEUTRAL/3_1_trial_13_signals.fif) does not conform to MNE naming conventions. All raw files should end with raw.fif, raw_sss.fif, raw_tsss.fif, _meg.fif, _eeg.fif, _ieeg.fif, raw.fif.gz, raw_sss.fif.gz, raw_tsss.fif.gz, _meg.fif.gz, _eeg.fif.gz or _ieeg.fif.gz\n",
      "  eeg_data = mne.io.read_raw_fif(name, preload=True)\n"
     ]
    },
    {
     "name": "stdout",
     "output_type": "stream",
     "text": [
      "Opening raw data file ../SEED_FRA_OUTPUT/NEUTRAL/3_1_trial_16_signals.fif...\n",
      "    Range : 3029000 ... 3195000 =   3029.000 ...  3195.000 secs\n",
      "Ready.\n",
      "Reading 0 ... 166000  =      0.000 ...   166.000 secs...\n"
     ]
    },
    {
     "name": "stderr",
     "output_type": "stream",
     "text": [
      "C:\\Users\\marco\\AppData\\Local\\Temp\\ipykernel_6904\\3667833851.py:14: RuntimeWarning: This filename (../SEED_FRA_OUTPUT/NEUTRAL/3_1_trial_16_signals.fif) does not conform to MNE naming conventions. All raw files should end with raw.fif, raw_sss.fif, raw_tsss.fif, _meg.fif, _eeg.fif, _ieeg.fif, raw.fif.gz, raw_sss.fif.gz, raw_tsss.fif.gz, _meg.fif.gz, _eeg.fif.gz or _ieeg.fif.gz\n",
      "  eeg_data = mne.io.read_raw_fif(name, preload=True)\n"
     ]
    },
    {
     "name": "stdout",
     "output_type": "stream",
     "text": [
      "Opening raw data file ../SEED_FRA_OUTPUT/NEUTRAL/3_1_trial_19_signals.fif...\n",
      "    Range : 3515000 ... 3602000 =   3515.000 ...  3602.000 secs\n",
      "Ready.\n",
      "Reading 0 ... 87000  =      0.000 ...    87.000 secs...\n"
     ]
    },
    {
     "name": "stderr",
     "output_type": "stream",
     "text": [
      "C:\\Users\\marco\\AppData\\Local\\Temp\\ipykernel_6904\\3667833851.py:14: RuntimeWarning: This filename (../SEED_FRA_OUTPUT/NEUTRAL/3_1_trial_19_signals.fif) does not conform to MNE naming conventions. All raw files should end with raw.fif, raw_sss.fif, raw_tsss.fif, _meg.fif, _eeg.fif, _ieeg.fif, raw.fif.gz, raw_sss.fif.gz, raw_tsss.fif.gz, _meg.fif.gz, _eeg.fif.gz or _ieeg.fif.gz\n",
      "  eeg_data = mne.io.read_raw_fif(name, preload=True)\n"
     ]
    },
    {
     "name": "stdout",
     "output_type": "stream",
     "text": [
      "Opening raw data file ../SEED_FRA_OUTPUT/NEUTRAL/3_1_trial_2_signals.fif...\n",
      "    Range : 489000 ... 667000 =    489.000 ...   667.000 secs\n",
      "Ready.\n",
      "Reading 0 ... 178000  =      0.000 ...   178.000 secs...\n"
     ]
    },
    {
     "name": "stderr",
     "output_type": "stream",
     "text": [
      "C:\\Users\\marco\\AppData\\Local\\Temp\\ipykernel_6904\\3667833851.py:14: RuntimeWarning: This filename (../SEED_FRA_OUTPUT/NEUTRAL/3_1_trial_2_signals.fif) does not conform to MNE naming conventions. All raw files should end with raw.fif, raw_sss.fif, raw_tsss.fif, _meg.fif, _eeg.fif, _ieeg.fif, raw.fif.gz, raw_sss.fif.gz, raw_tsss.fif.gz, _meg.fif.gz, _eeg.fif.gz or _ieeg.fif.gz\n",
      "  eeg_data = mne.io.read_raw_fif(name, preload=True)\n"
     ]
    },
    {
     "name": "stdout",
     "output_type": "stream",
     "text": [
      "Opening raw data file ../SEED_FRA_OUTPUT/NEUTRAL/3_1_trial_5_signals.fif...\n",
      "    Range : 1103000 ... 1232000 =   1103.000 ...  1232.000 secs\n",
      "Ready.\n",
      "Reading 0 ... 129000  =      0.000 ...   129.000 secs...\n"
     ]
    },
    {
     "name": "stderr",
     "output_type": "stream",
     "text": [
      "C:\\Users\\marco\\AppData\\Local\\Temp\\ipykernel_6904\\3667833851.py:14: RuntimeWarning: This filename (../SEED_FRA_OUTPUT/NEUTRAL/3_1_trial_5_signals.fif) does not conform to MNE naming conventions. All raw files should end with raw.fif, raw_sss.fif, raw_tsss.fif, _meg.fif, _eeg.fif, _ieeg.fif, raw.fif.gz, raw_sss.fif.gz, raw_tsss.fif.gz, _meg.fif.gz, _eeg.fif.gz or _ieeg.fif.gz\n",
      "  eeg_data = mne.io.read_raw_fif(name, preload=True)\n"
     ]
    },
    {
     "name": "stdout",
     "output_type": "stream",
     "text": [
      "Opening raw data file ../SEED_FRA_OUTPUT/NEUTRAL/3_1_trial_7_signals.fif...\n",
      "    Range : 1572000 ... 1718000 =   1572.000 ...  1718.000 secs\n",
      "Ready.\n",
      "Reading 0 ... 146000  =      0.000 ...   146.000 secs...\n"
     ]
    },
    {
     "name": "stderr",
     "output_type": "stream",
     "text": [
      "C:\\Users\\marco\\AppData\\Local\\Temp\\ipykernel_6904\\3667833851.py:14: RuntimeWarning: This filename (../SEED_FRA_OUTPUT/NEUTRAL/3_1_trial_7_signals.fif) does not conform to MNE naming conventions. All raw files should end with raw.fif, raw_sss.fif, raw_tsss.fif, _meg.fif, _eeg.fif, _ieeg.fif, raw.fif.gz, raw_sss.fif.gz, raw_tsss.fif.gz, _meg.fif.gz, _eeg.fif.gz or _ieeg.fif.gz\n",
      "  eeg_data = mne.io.read_raw_fif(name, preload=True)\n"
     ]
    },
    {
     "name": "stdout",
     "output_type": "stream",
     "text": [
      "Opening raw data file ../SEED_FRA_OUTPUT/NEUTRAL/3_2_trial_10_signals.fif...\n",
      "    Range : 2174000 ... 2307000 =   2174.000 ...  2307.000 secs\n",
      "Ready.\n",
      "Reading 0 ... 133000  =      0.000 ...   133.000 secs...\n"
     ]
    },
    {
     "name": "stderr",
     "output_type": "stream",
     "text": [
      "C:\\Users\\marco\\AppData\\Local\\Temp\\ipykernel_6904\\3667833851.py:14: RuntimeWarning: This filename (../SEED_FRA_OUTPUT/NEUTRAL/3_2_trial_10_signals.fif) does not conform to MNE naming conventions. All raw files should end with raw.fif, raw_sss.fif, raw_tsss.fif, _meg.fif, _eeg.fif, _ieeg.fif, raw.fif.gz, raw_sss.fif.gz, raw_tsss.fif.gz, _meg.fif.gz, _eeg.fif.gz or _ieeg.fif.gz\n",
      "  eeg_data = mne.io.read_raw_fif(name, preload=True)\n"
     ]
    },
    {
     "name": "stdout",
     "output_type": "stream",
     "text": [
      "Opening raw data file ../SEED_FRA_OUTPUT/NEUTRAL/3_2_trial_13_signals.fif...\n",
      "    Range : 2619000 ... 2763000 =   2619.000 ...  2763.000 secs\n",
      "Ready.\n",
      "Reading 0 ... 144000  =      0.000 ...   144.000 secs...\n"
     ]
    },
    {
     "name": "stderr",
     "output_type": "stream",
     "text": [
      "C:\\Users\\marco\\AppData\\Local\\Temp\\ipykernel_6904\\3667833851.py:14: RuntimeWarning: This filename (../SEED_FRA_OUTPUT/NEUTRAL/3_2_trial_13_signals.fif) does not conform to MNE naming conventions. All raw files should end with raw.fif, raw_sss.fif, raw_tsss.fif, _meg.fif, _eeg.fif, _ieeg.fif, raw.fif.gz, raw_sss.fif.gz, raw_tsss.fif.gz, _meg.fif.gz, _eeg.fif.gz or _ieeg.fif.gz\n",
      "  eeg_data = mne.io.read_raw_fif(name, preload=True)\n"
     ]
    },
    {
     "name": "stdout",
     "output_type": "stream",
     "text": [
      "Opening raw data file ../SEED_FRA_OUTPUT/NEUTRAL/3_2_trial_16_signals.fif...\n",
      "    Range : 3029000 ... 3195000 =   3029.000 ...  3195.000 secs\n",
      "Ready.\n",
      "Reading 0 ... 166000  =      0.000 ...   166.000 secs...\n"
     ]
    },
    {
     "name": "stderr",
     "output_type": "stream",
     "text": [
      "C:\\Users\\marco\\AppData\\Local\\Temp\\ipykernel_6904\\3667833851.py:14: RuntimeWarning: This filename (../SEED_FRA_OUTPUT/NEUTRAL/3_2_trial_16_signals.fif) does not conform to MNE naming conventions. All raw files should end with raw.fif, raw_sss.fif, raw_tsss.fif, _meg.fif, _eeg.fif, _ieeg.fif, raw.fif.gz, raw_sss.fif.gz, raw_tsss.fif.gz, _meg.fif.gz, _eeg.fif.gz or _ieeg.fif.gz\n",
      "  eeg_data = mne.io.read_raw_fif(name, preload=True)\n"
     ]
    },
    {
     "name": "stdout",
     "output_type": "stream",
     "text": [
      "Opening raw data file ../SEED_FRA_OUTPUT/NEUTRAL/3_2_trial_19_signals.fif...\n",
      "    Range : 3515000 ... 3602000 =   3515.000 ...  3602.000 secs\n",
      "Ready.\n",
      "Reading 0 ... 87000  =      0.000 ...    87.000 secs...\n"
     ]
    },
    {
     "name": "stderr",
     "output_type": "stream",
     "text": [
      "C:\\Users\\marco\\AppData\\Local\\Temp\\ipykernel_6904\\3667833851.py:14: RuntimeWarning: This filename (../SEED_FRA_OUTPUT/NEUTRAL/3_2_trial_19_signals.fif) does not conform to MNE naming conventions. All raw files should end with raw.fif, raw_sss.fif, raw_tsss.fif, _meg.fif, _eeg.fif, _ieeg.fif, raw.fif.gz, raw_sss.fif.gz, raw_tsss.fif.gz, _meg.fif.gz, _eeg.fif.gz or _ieeg.fif.gz\n",
      "  eeg_data = mne.io.read_raw_fif(name, preload=True)\n"
     ]
    },
    {
     "name": "stdout",
     "output_type": "stream",
     "text": [
      "Opening raw data file ../SEED_FRA_OUTPUT/NEUTRAL/3_2_trial_2_signals.fif...\n",
      "    Range : 489000 ... 667000 =    489.000 ...   667.000 secs\n",
      "Ready.\n",
      "Reading 0 ... 178000  =      0.000 ...   178.000 secs...\n"
     ]
    },
    {
     "name": "stderr",
     "output_type": "stream",
     "text": [
      "C:\\Users\\marco\\AppData\\Local\\Temp\\ipykernel_6904\\3667833851.py:14: RuntimeWarning: This filename (../SEED_FRA_OUTPUT/NEUTRAL/3_2_trial_2_signals.fif) does not conform to MNE naming conventions. All raw files should end with raw.fif, raw_sss.fif, raw_tsss.fif, _meg.fif, _eeg.fif, _ieeg.fif, raw.fif.gz, raw_sss.fif.gz, raw_tsss.fif.gz, _meg.fif.gz, _eeg.fif.gz or _ieeg.fif.gz\n",
      "  eeg_data = mne.io.read_raw_fif(name, preload=True)\n"
     ]
    },
    {
     "name": "stdout",
     "output_type": "stream",
     "text": [
      "Opening raw data file ../SEED_FRA_OUTPUT/NEUTRAL/3_2_trial_5_signals.fif...\n",
      "    Range : 1103000 ... 1232000 =   1103.000 ...  1232.000 secs\n",
      "Ready.\n",
      "Reading 0 ... 129000  =      0.000 ...   129.000 secs...\n"
     ]
    },
    {
     "name": "stderr",
     "output_type": "stream",
     "text": [
      "C:\\Users\\marco\\AppData\\Local\\Temp\\ipykernel_6904\\3667833851.py:14: RuntimeWarning: This filename (../SEED_FRA_OUTPUT/NEUTRAL/3_2_trial_5_signals.fif) does not conform to MNE naming conventions. All raw files should end with raw.fif, raw_sss.fif, raw_tsss.fif, _meg.fif, _eeg.fif, _ieeg.fif, raw.fif.gz, raw_sss.fif.gz, raw_tsss.fif.gz, _meg.fif.gz, _eeg.fif.gz or _ieeg.fif.gz\n",
      "  eeg_data = mne.io.read_raw_fif(name, preload=True)\n"
     ]
    },
    {
     "name": "stdout",
     "output_type": "stream",
     "text": [
      "Opening raw data file ../SEED_FRA_OUTPUT/NEUTRAL/3_2_trial_7_signals.fif...\n",
      "    Range : 1572000 ... 1718000 =   1572.000 ...  1718.000 secs\n",
      "Ready.\n",
      "Reading 0 ... 146000  =      0.000 ...   146.000 secs...\n"
     ]
    },
    {
     "name": "stderr",
     "output_type": "stream",
     "text": [
      "C:\\Users\\marco\\AppData\\Local\\Temp\\ipykernel_6904\\3667833851.py:14: RuntimeWarning: This filename (../SEED_FRA_OUTPUT/NEUTRAL/3_2_trial_7_signals.fif) does not conform to MNE naming conventions. All raw files should end with raw.fif, raw_sss.fif, raw_tsss.fif, _meg.fif, _eeg.fif, _ieeg.fif, raw.fif.gz, raw_sss.fif.gz, raw_tsss.fif.gz, _meg.fif.gz, _eeg.fif.gz or _ieeg.fif.gz\n",
      "  eeg_data = mne.io.read_raw_fif(name, preload=True)\n"
     ]
    },
    {
     "name": "stdout",
     "output_type": "stream",
     "text": [
      "Opening raw data file ../SEED_FRA_OUTPUT/NEUTRAL/3_3_trial_10_signals.fif...\n",
      "    Range : 2174000 ... 2307000 =   2174.000 ...  2307.000 secs\n",
      "Ready.\n",
      "Reading 0 ... 133000  =      0.000 ...   133.000 secs...\n"
     ]
    },
    {
     "name": "stderr",
     "output_type": "stream",
     "text": [
      "C:\\Users\\marco\\AppData\\Local\\Temp\\ipykernel_6904\\3667833851.py:14: RuntimeWarning: This filename (../SEED_FRA_OUTPUT/NEUTRAL/3_3_trial_10_signals.fif) does not conform to MNE naming conventions. All raw files should end with raw.fif, raw_sss.fif, raw_tsss.fif, _meg.fif, _eeg.fif, _ieeg.fif, raw.fif.gz, raw_sss.fif.gz, raw_tsss.fif.gz, _meg.fif.gz, _eeg.fif.gz or _ieeg.fif.gz\n",
      "  eeg_data = mne.io.read_raw_fif(name, preload=True)\n"
     ]
    },
    {
     "name": "stdout",
     "output_type": "stream",
     "text": [
      "Opening raw data file ../SEED_FRA_OUTPUT/NEUTRAL/3_3_trial_13_signals.fif...\n",
      "    Range : 2619000 ... 2763000 =   2619.000 ...  2763.000 secs\n",
      "Ready.\n",
      "Reading 0 ... 144000  =      0.000 ...   144.000 secs...\n"
     ]
    },
    {
     "name": "stderr",
     "output_type": "stream",
     "text": [
      "C:\\Users\\marco\\AppData\\Local\\Temp\\ipykernel_6904\\3667833851.py:14: RuntimeWarning: This filename (../SEED_FRA_OUTPUT/NEUTRAL/3_3_trial_13_signals.fif) does not conform to MNE naming conventions. All raw files should end with raw.fif, raw_sss.fif, raw_tsss.fif, _meg.fif, _eeg.fif, _ieeg.fif, raw.fif.gz, raw_sss.fif.gz, raw_tsss.fif.gz, _meg.fif.gz, _eeg.fif.gz or _ieeg.fif.gz\n",
      "  eeg_data = mne.io.read_raw_fif(name, preload=True)\n"
     ]
    },
    {
     "name": "stdout",
     "output_type": "stream",
     "text": [
      "Opening raw data file ../SEED_FRA_OUTPUT/NEUTRAL/3_3_trial_16_signals.fif...\n",
      "    Range : 3029000 ... 3195000 =   3029.000 ...  3195.000 secs\n",
      "Ready.\n",
      "Reading 0 ... 166000  =      0.000 ...   166.000 secs...\n"
     ]
    },
    {
     "name": "stderr",
     "output_type": "stream",
     "text": [
      "C:\\Users\\marco\\AppData\\Local\\Temp\\ipykernel_6904\\3667833851.py:14: RuntimeWarning: This filename (../SEED_FRA_OUTPUT/NEUTRAL/3_3_trial_16_signals.fif) does not conform to MNE naming conventions. All raw files should end with raw.fif, raw_sss.fif, raw_tsss.fif, _meg.fif, _eeg.fif, _ieeg.fif, raw.fif.gz, raw_sss.fif.gz, raw_tsss.fif.gz, _meg.fif.gz, _eeg.fif.gz or _ieeg.fif.gz\n",
      "  eeg_data = mne.io.read_raw_fif(name, preload=True)\n"
     ]
    },
    {
     "name": "stdout",
     "output_type": "stream",
     "text": [
      "Opening raw data file ../SEED_FRA_OUTPUT/NEUTRAL/3_3_trial_19_signals.fif...\n",
      "    Range : 3515000 ... 3602000 =   3515.000 ...  3602.000 secs\n",
      "Ready.\n",
      "Reading 0 ... 87000  =      0.000 ...    87.000 secs...\n"
     ]
    },
    {
     "name": "stderr",
     "output_type": "stream",
     "text": [
      "C:\\Users\\marco\\AppData\\Local\\Temp\\ipykernel_6904\\3667833851.py:14: RuntimeWarning: This filename (../SEED_FRA_OUTPUT/NEUTRAL/3_3_trial_19_signals.fif) does not conform to MNE naming conventions. All raw files should end with raw.fif, raw_sss.fif, raw_tsss.fif, _meg.fif, _eeg.fif, _ieeg.fif, raw.fif.gz, raw_sss.fif.gz, raw_tsss.fif.gz, _meg.fif.gz, _eeg.fif.gz or _ieeg.fif.gz\n",
      "  eeg_data = mne.io.read_raw_fif(name, preload=True)\n"
     ]
    },
    {
     "name": "stdout",
     "output_type": "stream",
     "text": [
      "Opening raw data file ../SEED_FRA_OUTPUT/NEUTRAL/3_3_trial_2_signals.fif...\n",
      "    Range : 489000 ... 667000 =    489.000 ...   667.000 secs\n",
      "Ready.\n",
      "Reading 0 ... 178000  =      0.000 ...   178.000 secs...\n"
     ]
    },
    {
     "name": "stderr",
     "output_type": "stream",
     "text": [
      "C:\\Users\\marco\\AppData\\Local\\Temp\\ipykernel_6904\\3667833851.py:14: RuntimeWarning: This filename (../SEED_FRA_OUTPUT/NEUTRAL/3_3_trial_2_signals.fif) does not conform to MNE naming conventions. All raw files should end with raw.fif, raw_sss.fif, raw_tsss.fif, _meg.fif, _eeg.fif, _ieeg.fif, raw.fif.gz, raw_sss.fif.gz, raw_tsss.fif.gz, _meg.fif.gz, _eeg.fif.gz or _ieeg.fif.gz\n",
      "  eeg_data = mne.io.read_raw_fif(name, preload=True)\n"
     ]
    },
    {
     "name": "stdout",
     "output_type": "stream",
     "text": [
      "Opening raw data file ../SEED_FRA_OUTPUT/NEUTRAL/3_3_trial_5_signals.fif...\n",
      "    Range : 1103000 ... 1232000 =   1103.000 ...  1232.000 secs\n",
      "Ready.\n",
      "Reading 0 ... 129000  =      0.000 ...   129.000 secs...\n"
     ]
    },
    {
     "name": "stderr",
     "output_type": "stream",
     "text": [
      "C:\\Users\\marco\\AppData\\Local\\Temp\\ipykernel_6904\\3667833851.py:14: RuntimeWarning: This filename (../SEED_FRA_OUTPUT/NEUTRAL/3_3_trial_5_signals.fif) does not conform to MNE naming conventions. All raw files should end with raw.fif, raw_sss.fif, raw_tsss.fif, _meg.fif, _eeg.fif, _ieeg.fif, raw.fif.gz, raw_sss.fif.gz, raw_tsss.fif.gz, _meg.fif.gz, _eeg.fif.gz or _ieeg.fif.gz\n",
      "  eeg_data = mne.io.read_raw_fif(name, preload=True)\n"
     ]
    },
    {
     "name": "stdout",
     "output_type": "stream",
     "text": [
      "Opening raw data file ../SEED_FRA_OUTPUT/NEUTRAL/3_3_trial_7_signals.fif...\n",
      "    Range : 1572000 ... 1718000 =   1572.000 ...  1718.000 secs\n",
      "Ready.\n",
      "Reading 0 ... 146000  =      0.000 ...   146.000 secs...\n"
     ]
    },
    {
     "name": "stderr",
     "output_type": "stream",
     "text": [
      "C:\\Users\\marco\\AppData\\Local\\Temp\\ipykernel_6904\\3667833851.py:14: RuntimeWarning: This filename (../SEED_FRA_OUTPUT/NEUTRAL/3_3_trial_7_signals.fif) does not conform to MNE naming conventions. All raw files should end with raw.fif, raw_sss.fif, raw_tsss.fif, _meg.fif, _eeg.fif, _ieeg.fif, raw.fif.gz, raw_sss.fif.gz, raw_tsss.fif.gz, _meg.fif.gz, _eeg.fif.gz or _ieeg.fif.gz\n",
      "  eeg_data = mne.io.read_raw_fif(name, preload=True)\n"
     ]
    },
    {
     "name": "stdout",
     "output_type": "stream",
     "text": [
      "Opening raw data file ../SEED_FRA_OUTPUT/NEUTRAL/4_1_trial_10_signals.fif...\n",
      "    Range : 2174000 ... 2307000 =   2174.000 ...  2307.000 secs\n",
      "Ready.\n",
      "Reading 0 ... 133000  =      0.000 ...   133.000 secs...\n"
     ]
    },
    {
     "name": "stderr",
     "output_type": "stream",
     "text": [
      "C:\\Users\\marco\\AppData\\Local\\Temp\\ipykernel_6904\\3667833851.py:14: RuntimeWarning: This filename (../SEED_FRA_OUTPUT/NEUTRAL/4_1_trial_10_signals.fif) does not conform to MNE naming conventions. All raw files should end with raw.fif, raw_sss.fif, raw_tsss.fif, _meg.fif, _eeg.fif, _ieeg.fif, raw.fif.gz, raw_sss.fif.gz, raw_tsss.fif.gz, _meg.fif.gz, _eeg.fif.gz or _ieeg.fif.gz\n",
      "  eeg_data = mne.io.read_raw_fif(name, preload=True)\n"
     ]
    },
    {
     "name": "stdout",
     "output_type": "stream",
     "text": [
      "Opening raw data file ../SEED_FRA_OUTPUT/NEUTRAL/4_1_trial_13_signals.fif...\n",
      "    Range : 2619000 ... 2763000 =   2619.000 ...  2763.000 secs\n",
      "Ready.\n",
      "Reading 0 ... 144000  =      0.000 ...   144.000 secs...\n"
     ]
    },
    {
     "name": "stderr",
     "output_type": "stream",
     "text": [
      "C:\\Users\\marco\\AppData\\Local\\Temp\\ipykernel_6904\\3667833851.py:14: RuntimeWarning: This filename (../SEED_FRA_OUTPUT/NEUTRAL/4_1_trial_13_signals.fif) does not conform to MNE naming conventions. All raw files should end with raw.fif, raw_sss.fif, raw_tsss.fif, _meg.fif, _eeg.fif, _ieeg.fif, raw.fif.gz, raw_sss.fif.gz, raw_tsss.fif.gz, _meg.fif.gz, _eeg.fif.gz or _ieeg.fif.gz\n",
      "  eeg_data = mne.io.read_raw_fif(name, preload=True)\n"
     ]
    },
    {
     "name": "stdout",
     "output_type": "stream",
     "text": [
      "Opening raw data file ../SEED_FRA_OUTPUT/NEUTRAL/4_1_trial_16_signals.fif...\n",
      "    Range : 3029000 ... 3195000 =   3029.000 ...  3195.000 secs\n",
      "Ready.\n",
      "Reading 0 ... 166000  =      0.000 ...   166.000 secs...\n"
     ]
    },
    {
     "name": "stderr",
     "output_type": "stream",
     "text": [
      "C:\\Users\\marco\\AppData\\Local\\Temp\\ipykernel_6904\\3667833851.py:14: RuntimeWarning: This filename (../SEED_FRA_OUTPUT/NEUTRAL/4_1_trial_16_signals.fif) does not conform to MNE naming conventions. All raw files should end with raw.fif, raw_sss.fif, raw_tsss.fif, _meg.fif, _eeg.fif, _ieeg.fif, raw.fif.gz, raw_sss.fif.gz, raw_tsss.fif.gz, _meg.fif.gz, _eeg.fif.gz or _ieeg.fif.gz\n",
      "  eeg_data = mne.io.read_raw_fif(name, preload=True)\n"
     ]
    },
    {
     "name": "stdout",
     "output_type": "stream",
     "text": [
      "Opening raw data file ../SEED_FRA_OUTPUT/NEUTRAL/4_1_trial_19_signals.fif...\n",
      "    Range : 3515000 ... 3602000 =   3515.000 ...  3602.000 secs\n",
      "Ready.\n",
      "Reading 0 ... 87000  =      0.000 ...    87.000 secs...\n"
     ]
    },
    {
     "name": "stderr",
     "output_type": "stream",
     "text": [
      "C:\\Users\\marco\\AppData\\Local\\Temp\\ipykernel_6904\\3667833851.py:14: RuntimeWarning: This filename (../SEED_FRA_OUTPUT/NEUTRAL/4_1_trial_19_signals.fif) does not conform to MNE naming conventions. All raw files should end with raw.fif, raw_sss.fif, raw_tsss.fif, _meg.fif, _eeg.fif, _ieeg.fif, raw.fif.gz, raw_sss.fif.gz, raw_tsss.fif.gz, _meg.fif.gz, _eeg.fif.gz or _ieeg.fif.gz\n",
      "  eeg_data = mne.io.read_raw_fif(name, preload=True)\n"
     ]
    },
    {
     "name": "stdout",
     "output_type": "stream",
     "text": [
      "Opening raw data file ../SEED_FRA_OUTPUT/NEUTRAL/4_1_trial_2_signals.fif...\n",
      "    Range : 489000 ... 667000 =    489.000 ...   667.000 secs\n",
      "Ready.\n",
      "Reading 0 ... 178000  =      0.000 ...   178.000 secs...\n"
     ]
    },
    {
     "name": "stderr",
     "output_type": "stream",
     "text": [
      "C:\\Users\\marco\\AppData\\Local\\Temp\\ipykernel_6904\\3667833851.py:14: RuntimeWarning: This filename (../SEED_FRA_OUTPUT/NEUTRAL/4_1_trial_2_signals.fif) does not conform to MNE naming conventions. All raw files should end with raw.fif, raw_sss.fif, raw_tsss.fif, _meg.fif, _eeg.fif, _ieeg.fif, raw.fif.gz, raw_sss.fif.gz, raw_tsss.fif.gz, _meg.fif.gz, _eeg.fif.gz or _ieeg.fif.gz\n",
      "  eeg_data = mne.io.read_raw_fif(name, preload=True)\n"
     ]
    },
    {
     "name": "stdout",
     "output_type": "stream",
     "text": [
      "Opening raw data file ../SEED_FRA_OUTPUT/NEUTRAL/4_1_trial_5_signals.fif...\n",
      "    Range : 1103000 ... 1232000 =   1103.000 ...  1232.000 secs\n",
      "Ready.\n",
      "Reading 0 ... 129000  =      0.000 ...   129.000 secs...\n"
     ]
    },
    {
     "name": "stderr",
     "output_type": "stream",
     "text": [
      "C:\\Users\\marco\\AppData\\Local\\Temp\\ipykernel_6904\\3667833851.py:14: RuntimeWarning: This filename (../SEED_FRA_OUTPUT/NEUTRAL/4_1_trial_5_signals.fif) does not conform to MNE naming conventions. All raw files should end with raw.fif, raw_sss.fif, raw_tsss.fif, _meg.fif, _eeg.fif, _ieeg.fif, raw.fif.gz, raw_sss.fif.gz, raw_tsss.fif.gz, _meg.fif.gz, _eeg.fif.gz or _ieeg.fif.gz\n",
      "  eeg_data = mne.io.read_raw_fif(name, preload=True)\n"
     ]
    },
    {
     "name": "stdout",
     "output_type": "stream",
     "text": [
      "Opening raw data file ../SEED_FRA_OUTPUT/NEUTRAL/4_1_trial_7_signals.fif...\n",
      "    Range : 1572000 ... 1718000 =   1572.000 ...  1718.000 secs\n",
      "Ready.\n",
      "Reading 0 ... 146000  =      0.000 ...   146.000 secs...\n"
     ]
    },
    {
     "name": "stderr",
     "output_type": "stream",
     "text": [
      "C:\\Users\\marco\\AppData\\Local\\Temp\\ipykernel_6904\\3667833851.py:14: RuntimeWarning: This filename (../SEED_FRA_OUTPUT/NEUTRAL/4_1_trial_7_signals.fif) does not conform to MNE naming conventions. All raw files should end with raw.fif, raw_sss.fif, raw_tsss.fif, _meg.fif, _eeg.fif, _ieeg.fif, raw.fif.gz, raw_sss.fif.gz, raw_tsss.fif.gz, _meg.fif.gz, _eeg.fif.gz or _ieeg.fif.gz\n",
      "  eeg_data = mne.io.read_raw_fif(name, preload=True)\n"
     ]
    },
    {
     "name": "stdout",
     "output_type": "stream",
     "text": [
      "Opening raw data file ../SEED_FRA_OUTPUT/NEUTRAL/4_2_trial_10_signals.fif...\n",
      "    Range : 2174000 ... 2307000 =   2174.000 ...  2307.000 secs\n",
      "Ready.\n",
      "Reading 0 ... 133000  =      0.000 ...   133.000 secs...\n"
     ]
    },
    {
     "name": "stderr",
     "output_type": "stream",
     "text": [
      "C:\\Users\\marco\\AppData\\Local\\Temp\\ipykernel_6904\\3667833851.py:14: RuntimeWarning: This filename (../SEED_FRA_OUTPUT/NEUTRAL/4_2_trial_10_signals.fif) does not conform to MNE naming conventions. All raw files should end with raw.fif, raw_sss.fif, raw_tsss.fif, _meg.fif, _eeg.fif, _ieeg.fif, raw.fif.gz, raw_sss.fif.gz, raw_tsss.fif.gz, _meg.fif.gz, _eeg.fif.gz or _ieeg.fif.gz\n",
      "  eeg_data = mne.io.read_raw_fif(name, preload=True)\n"
     ]
    },
    {
     "name": "stdout",
     "output_type": "stream",
     "text": [
      "Opening raw data file ../SEED_FRA_OUTPUT/NEUTRAL/4_2_trial_13_signals.fif...\n",
      "    Range : 2619000 ... 2763000 =   2619.000 ...  2763.000 secs\n",
      "Ready.\n",
      "Reading 0 ... 144000  =      0.000 ...   144.000 secs...\n"
     ]
    },
    {
     "name": "stderr",
     "output_type": "stream",
     "text": [
      "C:\\Users\\marco\\AppData\\Local\\Temp\\ipykernel_6904\\3667833851.py:14: RuntimeWarning: This filename (../SEED_FRA_OUTPUT/NEUTRAL/4_2_trial_13_signals.fif) does not conform to MNE naming conventions. All raw files should end with raw.fif, raw_sss.fif, raw_tsss.fif, _meg.fif, _eeg.fif, _ieeg.fif, raw.fif.gz, raw_sss.fif.gz, raw_tsss.fif.gz, _meg.fif.gz, _eeg.fif.gz or _ieeg.fif.gz\n",
      "  eeg_data = mne.io.read_raw_fif(name, preload=True)\n"
     ]
    },
    {
     "name": "stdout",
     "output_type": "stream",
     "text": [
      "Opening raw data file ../SEED_FRA_OUTPUT/NEUTRAL/4_2_trial_16_signals.fif...\n",
      "    Range : 3029000 ... 3195000 =   3029.000 ...  3195.000 secs\n",
      "Ready.\n",
      "Reading 0 ... 166000  =      0.000 ...   166.000 secs...\n"
     ]
    },
    {
     "name": "stderr",
     "output_type": "stream",
     "text": [
      "C:\\Users\\marco\\AppData\\Local\\Temp\\ipykernel_6904\\3667833851.py:14: RuntimeWarning: This filename (../SEED_FRA_OUTPUT/NEUTRAL/4_2_trial_16_signals.fif) does not conform to MNE naming conventions. All raw files should end with raw.fif, raw_sss.fif, raw_tsss.fif, _meg.fif, _eeg.fif, _ieeg.fif, raw.fif.gz, raw_sss.fif.gz, raw_tsss.fif.gz, _meg.fif.gz, _eeg.fif.gz or _ieeg.fif.gz\n",
      "  eeg_data = mne.io.read_raw_fif(name, preload=True)\n"
     ]
    },
    {
     "name": "stdout",
     "output_type": "stream",
     "text": [
      "Opening raw data file ../SEED_FRA_OUTPUT/NEUTRAL/4_2_trial_19_signals.fif...\n",
      "    Range : 3515000 ... 3602000 =   3515.000 ...  3602.000 secs\n",
      "Ready.\n",
      "Reading 0 ... 87000  =      0.000 ...    87.000 secs...\n"
     ]
    },
    {
     "name": "stderr",
     "output_type": "stream",
     "text": [
      "C:\\Users\\marco\\AppData\\Local\\Temp\\ipykernel_6904\\3667833851.py:14: RuntimeWarning: This filename (../SEED_FRA_OUTPUT/NEUTRAL/4_2_trial_19_signals.fif) does not conform to MNE naming conventions. All raw files should end with raw.fif, raw_sss.fif, raw_tsss.fif, _meg.fif, _eeg.fif, _ieeg.fif, raw.fif.gz, raw_sss.fif.gz, raw_tsss.fif.gz, _meg.fif.gz, _eeg.fif.gz or _ieeg.fif.gz\n",
      "  eeg_data = mne.io.read_raw_fif(name, preload=True)\n"
     ]
    },
    {
     "name": "stdout",
     "output_type": "stream",
     "text": [
      "Opening raw data file ../SEED_FRA_OUTPUT/NEUTRAL/4_2_trial_2_signals.fif...\n",
      "    Range : 489000 ... 667000 =    489.000 ...   667.000 secs\n",
      "Ready.\n",
      "Reading 0 ... 178000  =      0.000 ...   178.000 secs...\n"
     ]
    },
    {
     "name": "stderr",
     "output_type": "stream",
     "text": [
      "C:\\Users\\marco\\AppData\\Local\\Temp\\ipykernel_6904\\3667833851.py:14: RuntimeWarning: This filename (../SEED_FRA_OUTPUT/NEUTRAL/4_2_trial_2_signals.fif) does not conform to MNE naming conventions. All raw files should end with raw.fif, raw_sss.fif, raw_tsss.fif, _meg.fif, _eeg.fif, _ieeg.fif, raw.fif.gz, raw_sss.fif.gz, raw_tsss.fif.gz, _meg.fif.gz, _eeg.fif.gz or _ieeg.fif.gz\n",
      "  eeg_data = mne.io.read_raw_fif(name, preload=True)\n"
     ]
    },
    {
     "name": "stdout",
     "output_type": "stream",
     "text": [
      "Opening raw data file ../SEED_FRA_OUTPUT/NEUTRAL/4_2_trial_5_signals.fif...\n",
      "    Range : 1103000 ... 1232000 =   1103.000 ...  1232.000 secs\n",
      "Ready.\n",
      "Reading 0 ... 129000  =      0.000 ...   129.000 secs...\n"
     ]
    },
    {
     "name": "stderr",
     "output_type": "stream",
     "text": [
      "C:\\Users\\marco\\AppData\\Local\\Temp\\ipykernel_6904\\3667833851.py:14: RuntimeWarning: This filename (../SEED_FRA_OUTPUT/NEUTRAL/4_2_trial_5_signals.fif) does not conform to MNE naming conventions. All raw files should end with raw.fif, raw_sss.fif, raw_tsss.fif, _meg.fif, _eeg.fif, _ieeg.fif, raw.fif.gz, raw_sss.fif.gz, raw_tsss.fif.gz, _meg.fif.gz, _eeg.fif.gz or _ieeg.fif.gz\n",
      "  eeg_data = mne.io.read_raw_fif(name, preload=True)\n"
     ]
    },
    {
     "name": "stdout",
     "output_type": "stream",
     "text": [
      "Opening raw data file ../SEED_FRA_OUTPUT/NEUTRAL/4_2_trial_7_signals.fif...\n",
      "    Range : 1572000 ... 1718000 =   1572.000 ...  1718.000 secs\n",
      "Ready.\n",
      "Reading 0 ... 146000  =      0.000 ...   146.000 secs...\n"
     ]
    },
    {
     "name": "stderr",
     "output_type": "stream",
     "text": [
      "C:\\Users\\marco\\AppData\\Local\\Temp\\ipykernel_6904\\3667833851.py:14: RuntimeWarning: This filename (../SEED_FRA_OUTPUT/NEUTRAL/4_2_trial_7_signals.fif) does not conform to MNE naming conventions. All raw files should end with raw.fif, raw_sss.fif, raw_tsss.fif, _meg.fif, _eeg.fif, _ieeg.fif, raw.fif.gz, raw_sss.fif.gz, raw_tsss.fif.gz, _meg.fif.gz, _eeg.fif.gz or _ieeg.fif.gz\n",
      "  eeg_data = mne.io.read_raw_fif(name, preload=True)\n"
     ]
    },
    {
     "name": "stdout",
     "output_type": "stream",
     "text": [
      "Opening raw data file ../SEED_FRA_OUTPUT/NEUTRAL/4_3_trial_10_signals.fif...\n",
      "    Range : 2174000 ... 2307000 =   2174.000 ...  2307.000 secs\n",
      "Ready.\n",
      "Reading 0 ... 133000  =      0.000 ...   133.000 secs...\n"
     ]
    },
    {
     "name": "stderr",
     "output_type": "stream",
     "text": [
      "C:\\Users\\marco\\AppData\\Local\\Temp\\ipykernel_6904\\3667833851.py:14: RuntimeWarning: This filename (../SEED_FRA_OUTPUT/NEUTRAL/4_3_trial_10_signals.fif) does not conform to MNE naming conventions. All raw files should end with raw.fif, raw_sss.fif, raw_tsss.fif, _meg.fif, _eeg.fif, _ieeg.fif, raw.fif.gz, raw_sss.fif.gz, raw_tsss.fif.gz, _meg.fif.gz, _eeg.fif.gz or _ieeg.fif.gz\n",
      "  eeg_data = mne.io.read_raw_fif(name, preload=True)\n"
     ]
    },
    {
     "name": "stdout",
     "output_type": "stream",
     "text": [
      "Opening raw data file ../SEED_FRA_OUTPUT/NEUTRAL/4_3_trial_13_signals.fif...\n",
      "    Range : 2619000 ... 2763000 =   2619.000 ...  2763.000 secs\n",
      "Ready.\n",
      "Reading 0 ... 144000  =      0.000 ...   144.000 secs...\n"
     ]
    },
    {
     "name": "stderr",
     "output_type": "stream",
     "text": [
      "C:\\Users\\marco\\AppData\\Local\\Temp\\ipykernel_6904\\3667833851.py:14: RuntimeWarning: This filename (../SEED_FRA_OUTPUT/NEUTRAL/4_3_trial_13_signals.fif) does not conform to MNE naming conventions. All raw files should end with raw.fif, raw_sss.fif, raw_tsss.fif, _meg.fif, _eeg.fif, _ieeg.fif, raw.fif.gz, raw_sss.fif.gz, raw_tsss.fif.gz, _meg.fif.gz, _eeg.fif.gz or _ieeg.fif.gz\n",
      "  eeg_data = mne.io.read_raw_fif(name, preload=True)\n"
     ]
    },
    {
     "name": "stdout",
     "output_type": "stream",
     "text": [
      "Opening raw data file ../SEED_FRA_OUTPUT/NEUTRAL/4_3_trial_16_signals.fif...\n",
      "    Range : 3029000 ... 3195000 =   3029.000 ...  3195.000 secs\n",
      "Ready.\n",
      "Reading 0 ... 166000  =      0.000 ...   166.000 secs...\n"
     ]
    },
    {
     "name": "stderr",
     "output_type": "stream",
     "text": [
      "C:\\Users\\marco\\AppData\\Local\\Temp\\ipykernel_6904\\3667833851.py:14: RuntimeWarning: This filename (../SEED_FRA_OUTPUT/NEUTRAL/4_3_trial_16_signals.fif) does not conform to MNE naming conventions. All raw files should end with raw.fif, raw_sss.fif, raw_tsss.fif, _meg.fif, _eeg.fif, _ieeg.fif, raw.fif.gz, raw_sss.fif.gz, raw_tsss.fif.gz, _meg.fif.gz, _eeg.fif.gz or _ieeg.fif.gz\n",
      "  eeg_data = mne.io.read_raw_fif(name, preload=True)\n"
     ]
    },
    {
     "name": "stdout",
     "output_type": "stream",
     "text": [
      "Opening raw data file ../SEED_FRA_OUTPUT/NEUTRAL/4_3_trial_19_signals.fif...\n",
      "    Range : 3515000 ... 3602000 =   3515.000 ...  3602.000 secs\n",
      "Ready.\n",
      "Reading 0 ... 87000  =      0.000 ...    87.000 secs...\n"
     ]
    },
    {
     "name": "stderr",
     "output_type": "stream",
     "text": [
      "C:\\Users\\marco\\AppData\\Local\\Temp\\ipykernel_6904\\3667833851.py:14: RuntimeWarning: This filename (../SEED_FRA_OUTPUT/NEUTRAL/4_3_trial_19_signals.fif) does not conform to MNE naming conventions. All raw files should end with raw.fif, raw_sss.fif, raw_tsss.fif, _meg.fif, _eeg.fif, _ieeg.fif, raw.fif.gz, raw_sss.fif.gz, raw_tsss.fif.gz, _meg.fif.gz, _eeg.fif.gz or _ieeg.fif.gz\n",
      "  eeg_data = mne.io.read_raw_fif(name, preload=True)\n"
     ]
    },
    {
     "name": "stdout",
     "output_type": "stream",
     "text": [
      "Opening raw data file ../SEED_FRA_OUTPUT/NEUTRAL/4_3_trial_2_signals.fif...\n",
      "    Range : 489000 ... 667000 =    489.000 ...   667.000 secs\n",
      "Ready.\n",
      "Reading 0 ... 178000  =      0.000 ...   178.000 secs...\n"
     ]
    },
    {
     "name": "stderr",
     "output_type": "stream",
     "text": [
      "C:\\Users\\marco\\AppData\\Local\\Temp\\ipykernel_6904\\3667833851.py:14: RuntimeWarning: This filename (../SEED_FRA_OUTPUT/NEUTRAL/4_3_trial_2_signals.fif) does not conform to MNE naming conventions. All raw files should end with raw.fif, raw_sss.fif, raw_tsss.fif, _meg.fif, _eeg.fif, _ieeg.fif, raw.fif.gz, raw_sss.fif.gz, raw_tsss.fif.gz, _meg.fif.gz, _eeg.fif.gz or _ieeg.fif.gz\n",
      "  eeg_data = mne.io.read_raw_fif(name, preload=True)\n"
     ]
    },
    {
     "name": "stdout",
     "output_type": "stream",
     "text": [
      "Opening raw data file ../SEED_FRA_OUTPUT/NEUTRAL/4_3_trial_5_signals.fif...\n",
      "    Range : 1103000 ... 1232000 =   1103.000 ...  1232.000 secs\n",
      "Ready.\n",
      "Reading 0 ... 129000  =      0.000 ...   129.000 secs...\n"
     ]
    },
    {
     "name": "stderr",
     "output_type": "stream",
     "text": [
      "C:\\Users\\marco\\AppData\\Local\\Temp\\ipykernel_6904\\3667833851.py:14: RuntimeWarning: This filename (../SEED_FRA_OUTPUT/NEUTRAL/4_3_trial_5_signals.fif) does not conform to MNE naming conventions. All raw files should end with raw.fif, raw_sss.fif, raw_tsss.fif, _meg.fif, _eeg.fif, _ieeg.fif, raw.fif.gz, raw_sss.fif.gz, raw_tsss.fif.gz, _meg.fif.gz, _eeg.fif.gz or _ieeg.fif.gz\n",
      "  eeg_data = mne.io.read_raw_fif(name, preload=True)\n"
     ]
    },
    {
     "name": "stdout",
     "output_type": "stream",
     "text": [
      "Opening raw data file ../SEED_FRA_OUTPUT/NEUTRAL/4_3_trial_7_signals.fif...\n",
      "    Range : 1572000 ... 1718000 =   1572.000 ...  1718.000 secs\n",
      "Ready.\n",
      "Reading 0 ... 146000  =      0.000 ...   146.000 secs...\n"
     ]
    },
    {
     "name": "stderr",
     "output_type": "stream",
     "text": [
      "C:\\Users\\marco\\AppData\\Local\\Temp\\ipykernel_6904\\3667833851.py:14: RuntimeWarning: This filename (../SEED_FRA_OUTPUT/NEUTRAL/4_3_trial_7_signals.fif) does not conform to MNE naming conventions. All raw files should end with raw.fif, raw_sss.fif, raw_tsss.fif, _meg.fif, _eeg.fif, _ieeg.fif, raw.fif.gz, raw_sss.fif.gz, raw_tsss.fif.gz, _meg.fif.gz, _eeg.fif.gz or _ieeg.fif.gz\n",
      "  eeg_data = mne.io.read_raw_fif(name, preload=True)\n"
     ]
    },
    {
     "name": "stdout",
     "output_type": "stream",
     "text": [
      "Opening raw data file ../SEED_FRA_OUTPUT/NEUTRAL/5_1_trial_10_signals.fif...\n",
      "    Range : 2174000 ... 2307000 =   2174.000 ...  2307.000 secs\n",
      "Ready.\n",
      "Reading 0 ... 133000  =      0.000 ...   133.000 secs...\n"
     ]
    },
    {
     "name": "stderr",
     "output_type": "stream",
     "text": [
      "C:\\Users\\marco\\AppData\\Local\\Temp\\ipykernel_6904\\3667833851.py:14: RuntimeWarning: This filename (../SEED_FRA_OUTPUT/NEUTRAL/5_1_trial_10_signals.fif) does not conform to MNE naming conventions. All raw files should end with raw.fif, raw_sss.fif, raw_tsss.fif, _meg.fif, _eeg.fif, _ieeg.fif, raw.fif.gz, raw_sss.fif.gz, raw_tsss.fif.gz, _meg.fif.gz, _eeg.fif.gz or _ieeg.fif.gz\n",
      "  eeg_data = mne.io.read_raw_fif(name, preload=True)\n"
     ]
    },
    {
     "name": "stdout",
     "output_type": "stream",
     "text": [
      "Opening raw data file ../SEED_FRA_OUTPUT/NEUTRAL/5_1_trial_13_signals.fif...\n",
      "    Range : 2619000 ... 2763000 =   2619.000 ...  2763.000 secs\n",
      "Ready.\n",
      "Reading 0 ... 144000  =      0.000 ...   144.000 secs...\n"
     ]
    },
    {
     "name": "stderr",
     "output_type": "stream",
     "text": [
      "C:\\Users\\marco\\AppData\\Local\\Temp\\ipykernel_6904\\3667833851.py:14: RuntimeWarning: This filename (../SEED_FRA_OUTPUT/NEUTRAL/5_1_trial_13_signals.fif) does not conform to MNE naming conventions. All raw files should end with raw.fif, raw_sss.fif, raw_tsss.fif, _meg.fif, _eeg.fif, _ieeg.fif, raw.fif.gz, raw_sss.fif.gz, raw_tsss.fif.gz, _meg.fif.gz, _eeg.fif.gz or _ieeg.fif.gz\n",
      "  eeg_data = mne.io.read_raw_fif(name, preload=True)\n"
     ]
    },
    {
     "name": "stdout",
     "output_type": "stream",
     "text": [
      "Opening raw data file ../SEED_FRA_OUTPUT/NEUTRAL/5_1_trial_16_signals.fif...\n",
      "    Range : 3029000 ... 3195000 =   3029.000 ...  3195.000 secs\n",
      "Ready.\n",
      "Reading 0 ... 166000  =      0.000 ...   166.000 secs...\n"
     ]
    },
    {
     "name": "stderr",
     "output_type": "stream",
     "text": [
      "C:\\Users\\marco\\AppData\\Local\\Temp\\ipykernel_6904\\3667833851.py:14: RuntimeWarning: This filename (../SEED_FRA_OUTPUT/NEUTRAL/5_1_trial_16_signals.fif) does not conform to MNE naming conventions. All raw files should end with raw.fif, raw_sss.fif, raw_tsss.fif, _meg.fif, _eeg.fif, _ieeg.fif, raw.fif.gz, raw_sss.fif.gz, raw_tsss.fif.gz, _meg.fif.gz, _eeg.fif.gz or _ieeg.fif.gz\n",
      "  eeg_data = mne.io.read_raw_fif(name, preload=True)\n"
     ]
    },
    {
     "name": "stdout",
     "output_type": "stream",
     "text": [
      "Opening raw data file ../SEED_FRA_OUTPUT/NEUTRAL/5_1_trial_19_signals.fif...\n",
      "    Range : 3515000 ... 3602000 =   3515.000 ...  3602.000 secs\n",
      "Ready.\n",
      "Reading 0 ... 87000  =      0.000 ...    87.000 secs...\n"
     ]
    },
    {
     "name": "stderr",
     "output_type": "stream",
     "text": [
      "C:\\Users\\marco\\AppData\\Local\\Temp\\ipykernel_6904\\3667833851.py:14: RuntimeWarning: This filename (../SEED_FRA_OUTPUT/NEUTRAL/5_1_trial_19_signals.fif) does not conform to MNE naming conventions. All raw files should end with raw.fif, raw_sss.fif, raw_tsss.fif, _meg.fif, _eeg.fif, _ieeg.fif, raw.fif.gz, raw_sss.fif.gz, raw_tsss.fif.gz, _meg.fif.gz, _eeg.fif.gz or _ieeg.fif.gz\n",
      "  eeg_data = mne.io.read_raw_fif(name, preload=True)\n"
     ]
    },
    {
     "name": "stdout",
     "output_type": "stream",
     "text": [
      "Opening raw data file ../SEED_FRA_OUTPUT/NEUTRAL/5_1_trial_2_signals.fif...\n",
      "    Range : 489000 ... 667000 =    489.000 ...   667.000 secs\n",
      "Ready.\n",
      "Reading 0 ... 178000  =      0.000 ...   178.000 secs...\n"
     ]
    },
    {
     "name": "stderr",
     "output_type": "stream",
     "text": [
      "C:\\Users\\marco\\AppData\\Local\\Temp\\ipykernel_6904\\3667833851.py:14: RuntimeWarning: This filename (../SEED_FRA_OUTPUT/NEUTRAL/5_1_trial_2_signals.fif) does not conform to MNE naming conventions. All raw files should end with raw.fif, raw_sss.fif, raw_tsss.fif, _meg.fif, _eeg.fif, _ieeg.fif, raw.fif.gz, raw_sss.fif.gz, raw_tsss.fif.gz, _meg.fif.gz, _eeg.fif.gz or _ieeg.fif.gz\n",
      "  eeg_data = mne.io.read_raw_fif(name, preload=True)\n"
     ]
    },
    {
     "name": "stdout",
     "output_type": "stream",
     "text": [
      "Opening raw data file ../SEED_FRA_OUTPUT/NEUTRAL/5_1_trial_5_signals.fif...\n",
      "    Range : 1103000 ... 1232000 =   1103.000 ...  1232.000 secs\n",
      "Ready.\n",
      "Reading 0 ... 129000  =      0.000 ...   129.000 secs...\n"
     ]
    },
    {
     "name": "stderr",
     "output_type": "stream",
     "text": [
      "C:\\Users\\marco\\AppData\\Local\\Temp\\ipykernel_6904\\3667833851.py:14: RuntimeWarning: This filename (../SEED_FRA_OUTPUT/NEUTRAL/5_1_trial_5_signals.fif) does not conform to MNE naming conventions. All raw files should end with raw.fif, raw_sss.fif, raw_tsss.fif, _meg.fif, _eeg.fif, _ieeg.fif, raw.fif.gz, raw_sss.fif.gz, raw_tsss.fif.gz, _meg.fif.gz, _eeg.fif.gz or _ieeg.fif.gz\n",
      "  eeg_data = mne.io.read_raw_fif(name, preload=True)\n"
     ]
    },
    {
     "name": "stdout",
     "output_type": "stream",
     "text": [
      "Opening raw data file ../SEED_FRA_OUTPUT/NEUTRAL/5_1_trial_7_signals.fif...\n",
      "    Range : 1572000 ... 1718000 =   1572.000 ...  1718.000 secs\n",
      "Ready.\n",
      "Reading 0 ... 146000  =      0.000 ...   146.000 secs...\n"
     ]
    },
    {
     "name": "stderr",
     "output_type": "stream",
     "text": [
      "C:\\Users\\marco\\AppData\\Local\\Temp\\ipykernel_6904\\3667833851.py:14: RuntimeWarning: This filename (../SEED_FRA_OUTPUT/NEUTRAL/5_1_trial_7_signals.fif) does not conform to MNE naming conventions. All raw files should end with raw.fif, raw_sss.fif, raw_tsss.fif, _meg.fif, _eeg.fif, _ieeg.fif, raw.fif.gz, raw_sss.fif.gz, raw_tsss.fif.gz, _meg.fif.gz, _eeg.fif.gz or _ieeg.fif.gz\n",
      "  eeg_data = mne.io.read_raw_fif(name, preload=True)\n"
     ]
    },
    {
     "name": "stdout",
     "output_type": "stream",
     "text": [
      "Opening raw data file ../SEED_FRA_OUTPUT/NEUTRAL/5_2_trial_10_signals.fif...\n",
      "    Range : 2174000 ... 2307000 =   2174.000 ...  2307.000 secs\n",
      "Ready.\n",
      "Reading 0 ... 133000  =      0.000 ...   133.000 secs...\n"
     ]
    },
    {
     "name": "stderr",
     "output_type": "stream",
     "text": [
      "C:\\Users\\marco\\AppData\\Local\\Temp\\ipykernel_6904\\3667833851.py:14: RuntimeWarning: This filename (../SEED_FRA_OUTPUT/NEUTRAL/5_2_trial_10_signals.fif) does not conform to MNE naming conventions. All raw files should end with raw.fif, raw_sss.fif, raw_tsss.fif, _meg.fif, _eeg.fif, _ieeg.fif, raw.fif.gz, raw_sss.fif.gz, raw_tsss.fif.gz, _meg.fif.gz, _eeg.fif.gz or _ieeg.fif.gz\n",
      "  eeg_data = mne.io.read_raw_fif(name, preload=True)\n"
     ]
    },
    {
     "name": "stdout",
     "output_type": "stream",
     "text": [
      "Opening raw data file ../SEED_FRA_OUTPUT/NEUTRAL/5_2_trial_13_signals.fif...\n",
      "    Range : 2619000 ... 2763000 =   2619.000 ...  2763.000 secs\n",
      "Ready.\n",
      "Reading 0 ... 144000  =      0.000 ...   144.000 secs...\n"
     ]
    },
    {
     "name": "stderr",
     "output_type": "stream",
     "text": [
      "C:\\Users\\marco\\AppData\\Local\\Temp\\ipykernel_6904\\3667833851.py:14: RuntimeWarning: This filename (../SEED_FRA_OUTPUT/NEUTRAL/5_2_trial_13_signals.fif) does not conform to MNE naming conventions. All raw files should end with raw.fif, raw_sss.fif, raw_tsss.fif, _meg.fif, _eeg.fif, _ieeg.fif, raw.fif.gz, raw_sss.fif.gz, raw_tsss.fif.gz, _meg.fif.gz, _eeg.fif.gz or _ieeg.fif.gz\n",
      "  eeg_data = mne.io.read_raw_fif(name, preload=True)\n"
     ]
    },
    {
     "name": "stdout",
     "output_type": "stream",
     "text": [
      "Opening raw data file ../SEED_FRA_OUTPUT/NEUTRAL/5_2_trial_16_signals.fif...\n",
      "    Range : 3029000 ... 3195000 =   3029.000 ...  3195.000 secs\n",
      "Ready.\n",
      "Reading 0 ... 166000  =      0.000 ...   166.000 secs...\n"
     ]
    },
    {
     "name": "stderr",
     "output_type": "stream",
     "text": [
      "C:\\Users\\marco\\AppData\\Local\\Temp\\ipykernel_6904\\3667833851.py:14: RuntimeWarning: This filename (../SEED_FRA_OUTPUT/NEUTRAL/5_2_trial_16_signals.fif) does not conform to MNE naming conventions. All raw files should end with raw.fif, raw_sss.fif, raw_tsss.fif, _meg.fif, _eeg.fif, _ieeg.fif, raw.fif.gz, raw_sss.fif.gz, raw_tsss.fif.gz, _meg.fif.gz, _eeg.fif.gz or _ieeg.fif.gz\n",
      "  eeg_data = mne.io.read_raw_fif(name, preload=True)\n"
     ]
    },
    {
     "name": "stdout",
     "output_type": "stream",
     "text": [
      "Opening raw data file ../SEED_FRA_OUTPUT/NEUTRAL/5_2_trial_19_signals.fif...\n",
      "    Range : 3515000 ... 3602000 =   3515.000 ...  3602.000 secs\n",
      "Ready.\n",
      "Reading 0 ... 87000  =      0.000 ...    87.000 secs...\n"
     ]
    },
    {
     "name": "stderr",
     "output_type": "stream",
     "text": [
      "C:\\Users\\marco\\AppData\\Local\\Temp\\ipykernel_6904\\3667833851.py:14: RuntimeWarning: This filename (../SEED_FRA_OUTPUT/NEUTRAL/5_2_trial_19_signals.fif) does not conform to MNE naming conventions. All raw files should end with raw.fif, raw_sss.fif, raw_tsss.fif, _meg.fif, _eeg.fif, _ieeg.fif, raw.fif.gz, raw_sss.fif.gz, raw_tsss.fif.gz, _meg.fif.gz, _eeg.fif.gz or _ieeg.fif.gz\n",
      "  eeg_data = mne.io.read_raw_fif(name, preload=True)\n"
     ]
    },
    {
     "name": "stdout",
     "output_type": "stream",
     "text": [
      "Opening raw data file ../SEED_FRA_OUTPUT/NEUTRAL/5_2_trial_2_signals.fif...\n",
      "    Range : 489000 ... 667000 =    489.000 ...   667.000 secs\n",
      "Ready.\n",
      "Reading 0 ... 178000  =      0.000 ...   178.000 secs...\n"
     ]
    },
    {
     "name": "stderr",
     "output_type": "stream",
     "text": [
      "C:\\Users\\marco\\AppData\\Local\\Temp\\ipykernel_6904\\3667833851.py:14: RuntimeWarning: This filename (../SEED_FRA_OUTPUT/NEUTRAL/5_2_trial_2_signals.fif) does not conform to MNE naming conventions. All raw files should end with raw.fif, raw_sss.fif, raw_tsss.fif, _meg.fif, _eeg.fif, _ieeg.fif, raw.fif.gz, raw_sss.fif.gz, raw_tsss.fif.gz, _meg.fif.gz, _eeg.fif.gz or _ieeg.fif.gz\n",
      "  eeg_data = mne.io.read_raw_fif(name, preload=True)\n"
     ]
    },
    {
     "name": "stdout",
     "output_type": "stream",
     "text": [
      "Opening raw data file ../SEED_FRA_OUTPUT/NEUTRAL/5_2_trial_5_signals.fif...\n",
      "    Range : 1103000 ... 1232000 =   1103.000 ...  1232.000 secs\n",
      "Ready.\n",
      "Reading 0 ... 129000  =      0.000 ...   129.000 secs...\n"
     ]
    },
    {
     "name": "stderr",
     "output_type": "stream",
     "text": [
      "C:\\Users\\marco\\AppData\\Local\\Temp\\ipykernel_6904\\3667833851.py:14: RuntimeWarning: This filename (../SEED_FRA_OUTPUT/NEUTRAL/5_2_trial_5_signals.fif) does not conform to MNE naming conventions. All raw files should end with raw.fif, raw_sss.fif, raw_tsss.fif, _meg.fif, _eeg.fif, _ieeg.fif, raw.fif.gz, raw_sss.fif.gz, raw_tsss.fif.gz, _meg.fif.gz, _eeg.fif.gz or _ieeg.fif.gz\n",
      "  eeg_data = mne.io.read_raw_fif(name, preload=True)\n"
     ]
    },
    {
     "name": "stdout",
     "output_type": "stream",
     "text": [
      "Opening raw data file ../SEED_FRA_OUTPUT/NEUTRAL/5_2_trial_7_signals.fif...\n",
      "    Range : 1572000 ... 1718000 =   1572.000 ...  1718.000 secs\n",
      "Ready.\n",
      "Reading 0 ... 146000  =      0.000 ...   146.000 secs...\n"
     ]
    },
    {
     "name": "stderr",
     "output_type": "stream",
     "text": [
      "C:\\Users\\marco\\AppData\\Local\\Temp\\ipykernel_6904\\3667833851.py:14: RuntimeWarning: This filename (../SEED_FRA_OUTPUT/NEUTRAL/5_2_trial_7_signals.fif) does not conform to MNE naming conventions. All raw files should end with raw.fif, raw_sss.fif, raw_tsss.fif, _meg.fif, _eeg.fif, _ieeg.fif, raw.fif.gz, raw_sss.fif.gz, raw_tsss.fif.gz, _meg.fif.gz, _eeg.fif.gz or _ieeg.fif.gz\n",
      "  eeg_data = mne.io.read_raw_fif(name, preload=True)\n"
     ]
    },
    {
     "name": "stdout",
     "output_type": "stream",
     "text": [
      "Opening raw data file ../SEED_FRA_OUTPUT/NEUTRAL/5_3_trial_10_signals.fif...\n",
      "    Range : 2174000 ... 2307000 =   2174.000 ...  2307.000 secs\n",
      "Ready.\n",
      "Reading 0 ... 133000  =      0.000 ...   133.000 secs...\n"
     ]
    },
    {
     "name": "stderr",
     "output_type": "stream",
     "text": [
      "C:\\Users\\marco\\AppData\\Local\\Temp\\ipykernel_6904\\3667833851.py:14: RuntimeWarning: This filename (../SEED_FRA_OUTPUT/NEUTRAL/5_3_trial_10_signals.fif) does not conform to MNE naming conventions. All raw files should end with raw.fif, raw_sss.fif, raw_tsss.fif, _meg.fif, _eeg.fif, _ieeg.fif, raw.fif.gz, raw_sss.fif.gz, raw_tsss.fif.gz, _meg.fif.gz, _eeg.fif.gz or _ieeg.fif.gz\n",
      "  eeg_data = mne.io.read_raw_fif(name, preload=True)\n"
     ]
    },
    {
     "name": "stdout",
     "output_type": "stream",
     "text": [
      "Opening raw data file ../SEED_FRA_OUTPUT/NEUTRAL/5_3_trial_13_signals.fif...\n",
      "    Range : 2619000 ... 2763000 =   2619.000 ...  2763.000 secs\n",
      "Ready.\n",
      "Reading 0 ... 144000  =      0.000 ...   144.000 secs...\n"
     ]
    },
    {
     "name": "stderr",
     "output_type": "stream",
     "text": [
      "C:\\Users\\marco\\AppData\\Local\\Temp\\ipykernel_6904\\3667833851.py:14: RuntimeWarning: This filename (../SEED_FRA_OUTPUT/NEUTRAL/5_3_trial_13_signals.fif) does not conform to MNE naming conventions. All raw files should end with raw.fif, raw_sss.fif, raw_tsss.fif, _meg.fif, _eeg.fif, _ieeg.fif, raw.fif.gz, raw_sss.fif.gz, raw_tsss.fif.gz, _meg.fif.gz, _eeg.fif.gz or _ieeg.fif.gz\n",
      "  eeg_data = mne.io.read_raw_fif(name, preload=True)\n"
     ]
    },
    {
     "name": "stdout",
     "output_type": "stream",
     "text": [
      "Opening raw data file ../SEED_FRA_OUTPUT/NEUTRAL/5_3_trial_16_signals.fif...\n",
      "    Range : 3029000 ... 3195000 =   3029.000 ...  3195.000 secs\n",
      "Ready.\n",
      "Reading 0 ... 166000  =      0.000 ...   166.000 secs...\n"
     ]
    },
    {
     "name": "stderr",
     "output_type": "stream",
     "text": [
      "C:\\Users\\marco\\AppData\\Local\\Temp\\ipykernel_6904\\3667833851.py:14: RuntimeWarning: This filename (../SEED_FRA_OUTPUT/NEUTRAL/5_3_trial_16_signals.fif) does not conform to MNE naming conventions. All raw files should end with raw.fif, raw_sss.fif, raw_tsss.fif, _meg.fif, _eeg.fif, _ieeg.fif, raw.fif.gz, raw_sss.fif.gz, raw_tsss.fif.gz, _meg.fif.gz, _eeg.fif.gz or _ieeg.fif.gz\n",
      "  eeg_data = mne.io.read_raw_fif(name, preload=True)\n"
     ]
    },
    {
     "name": "stdout",
     "output_type": "stream",
     "text": [
      "Opening raw data file ../SEED_FRA_OUTPUT/NEUTRAL/5_3_trial_19_signals.fif...\n",
      "    Range : 3515000 ... 3602000 =   3515.000 ...  3602.000 secs\n",
      "Ready.\n",
      "Reading 0 ... 87000  =      0.000 ...    87.000 secs...\n"
     ]
    },
    {
     "name": "stderr",
     "output_type": "stream",
     "text": [
      "C:\\Users\\marco\\AppData\\Local\\Temp\\ipykernel_6904\\3667833851.py:14: RuntimeWarning: This filename (../SEED_FRA_OUTPUT/NEUTRAL/5_3_trial_19_signals.fif) does not conform to MNE naming conventions. All raw files should end with raw.fif, raw_sss.fif, raw_tsss.fif, _meg.fif, _eeg.fif, _ieeg.fif, raw.fif.gz, raw_sss.fif.gz, raw_tsss.fif.gz, _meg.fif.gz, _eeg.fif.gz or _ieeg.fif.gz\n",
      "  eeg_data = mne.io.read_raw_fif(name, preload=True)\n"
     ]
    },
    {
     "name": "stdout",
     "output_type": "stream",
     "text": [
      "Opening raw data file ../SEED_FRA_OUTPUT/NEUTRAL/5_3_trial_2_signals.fif...\n",
      "    Range : 489000 ... 667000 =    489.000 ...   667.000 secs\n",
      "Ready.\n",
      "Reading 0 ... 178000  =      0.000 ...   178.000 secs...\n"
     ]
    },
    {
     "name": "stderr",
     "output_type": "stream",
     "text": [
      "C:\\Users\\marco\\AppData\\Local\\Temp\\ipykernel_6904\\3667833851.py:14: RuntimeWarning: This filename (../SEED_FRA_OUTPUT/NEUTRAL/5_3_trial_2_signals.fif) does not conform to MNE naming conventions. All raw files should end with raw.fif, raw_sss.fif, raw_tsss.fif, _meg.fif, _eeg.fif, _ieeg.fif, raw.fif.gz, raw_sss.fif.gz, raw_tsss.fif.gz, _meg.fif.gz, _eeg.fif.gz or _ieeg.fif.gz\n",
      "  eeg_data = mne.io.read_raw_fif(name, preload=True)\n"
     ]
    },
    {
     "name": "stdout",
     "output_type": "stream",
     "text": [
      "Opening raw data file ../SEED_FRA_OUTPUT/NEUTRAL/5_3_trial_5_signals.fif...\n",
      "    Range : 1103000 ... 1232000 =   1103.000 ...  1232.000 secs\n",
      "Ready.\n",
      "Reading 0 ... 129000  =      0.000 ...   129.000 secs...\n"
     ]
    },
    {
     "name": "stderr",
     "output_type": "stream",
     "text": [
      "C:\\Users\\marco\\AppData\\Local\\Temp\\ipykernel_6904\\3667833851.py:14: RuntimeWarning: This filename (../SEED_FRA_OUTPUT/NEUTRAL/5_3_trial_5_signals.fif) does not conform to MNE naming conventions. All raw files should end with raw.fif, raw_sss.fif, raw_tsss.fif, _meg.fif, _eeg.fif, _ieeg.fif, raw.fif.gz, raw_sss.fif.gz, raw_tsss.fif.gz, _meg.fif.gz, _eeg.fif.gz or _ieeg.fif.gz\n",
      "  eeg_data = mne.io.read_raw_fif(name, preload=True)\n"
     ]
    },
    {
     "name": "stdout",
     "output_type": "stream",
     "text": [
      "Opening raw data file ../SEED_FRA_OUTPUT/NEUTRAL/5_3_trial_7_signals.fif...\n",
      "    Range : 1572000 ... 1718000 =   1572.000 ...  1718.000 secs\n",
      "Ready.\n",
      "Reading 0 ... 146000  =      0.000 ...   146.000 secs...\n"
     ]
    },
    {
     "name": "stderr",
     "output_type": "stream",
     "text": [
      "C:\\Users\\marco\\AppData\\Local\\Temp\\ipykernel_6904\\3667833851.py:14: RuntimeWarning: This filename (../SEED_FRA_OUTPUT/NEUTRAL/5_3_trial_7_signals.fif) does not conform to MNE naming conventions. All raw files should end with raw.fif, raw_sss.fif, raw_tsss.fif, _meg.fif, _eeg.fif, _ieeg.fif, raw.fif.gz, raw_sss.fif.gz, raw_tsss.fif.gz, _meg.fif.gz, _eeg.fif.gz or _ieeg.fif.gz\n",
      "  eeg_data = mne.io.read_raw_fif(name, preload=True)\n"
     ]
    },
    {
     "name": "stdout",
     "output_type": "stream",
     "text": [
      "Opening raw data file ../SEED_FRA_OUTPUT/NEUTRAL/6_1_trial_10_signals.fif...\n",
      "    Range : 2174000 ... 2307000 =   2174.000 ...  2307.000 secs\n",
      "Ready.\n",
      "Reading 0 ... 133000  =      0.000 ...   133.000 secs...\n"
     ]
    },
    {
     "name": "stderr",
     "output_type": "stream",
     "text": [
      "C:\\Users\\marco\\AppData\\Local\\Temp\\ipykernel_6904\\3667833851.py:14: RuntimeWarning: This filename (../SEED_FRA_OUTPUT/NEUTRAL/6_1_trial_10_signals.fif) does not conform to MNE naming conventions. All raw files should end with raw.fif, raw_sss.fif, raw_tsss.fif, _meg.fif, _eeg.fif, _ieeg.fif, raw.fif.gz, raw_sss.fif.gz, raw_tsss.fif.gz, _meg.fif.gz, _eeg.fif.gz or _ieeg.fif.gz\n",
      "  eeg_data = mne.io.read_raw_fif(name, preload=True)\n"
     ]
    },
    {
     "name": "stdout",
     "output_type": "stream",
     "text": [
      "Opening raw data file ../SEED_FRA_OUTPUT/NEUTRAL/6_1_trial_13_signals.fif...\n",
      "    Range : 2619000 ... 2763000 =   2619.000 ...  2763.000 secs\n",
      "Ready.\n",
      "Reading 0 ... 144000  =      0.000 ...   144.000 secs...\n"
     ]
    },
    {
     "name": "stderr",
     "output_type": "stream",
     "text": [
      "C:\\Users\\marco\\AppData\\Local\\Temp\\ipykernel_6904\\3667833851.py:14: RuntimeWarning: This filename (../SEED_FRA_OUTPUT/NEUTRAL/6_1_trial_13_signals.fif) does not conform to MNE naming conventions. All raw files should end with raw.fif, raw_sss.fif, raw_tsss.fif, _meg.fif, _eeg.fif, _ieeg.fif, raw.fif.gz, raw_sss.fif.gz, raw_tsss.fif.gz, _meg.fif.gz, _eeg.fif.gz or _ieeg.fif.gz\n",
      "  eeg_data = mne.io.read_raw_fif(name, preload=True)\n"
     ]
    },
    {
     "name": "stdout",
     "output_type": "stream",
     "text": [
      "Opening raw data file ../SEED_FRA_OUTPUT/NEUTRAL/6_1_trial_16_signals.fif...\n",
      "    Range : 3029000 ... 3195000 =   3029.000 ...  3195.000 secs\n",
      "Ready.\n",
      "Reading 0 ... 166000  =      0.000 ...   166.000 secs...\n"
     ]
    },
    {
     "name": "stderr",
     "output_type": "stream",
     "text": [
      "C:\\Users\\marco\\AppData\\Local\\Temp\\ipykernel_6904\\3667833851.py:14: RuntimeWarning: This filename (../SEED_FRA_OUTPUT/NEUTRAL/6_1_trial_16_signals.fif) does not conform to MNE naming conventions. All raw files should end with raw.fif, raw_sss.fif, raw_tsss.fif, _meg.fif, _eeg.fif, _ieeg.fif, raw.fif.gz, raw_sss.fif.gz, raw_tsss.fif.gz, _meg.fif.gz, _eeg.fif.gz or _ieeg.fif.gz\n",
      "  eeg_data = mne.io.read_raw_fif(name, preload=True)\n"
     ]
    },
    {
     "name": "stdout",
     "output_type": "stream",
     "text": [
      "Opening raw data file ../SEED_FRA_OUTPUT/NEUTRAL/6_1_trial_19_signals.fif...\n",
      "    Range : 3515000 ... 3602000 =   3515.000 ...  3602.000 secs\n",
      "Ready.\n",
      "Reading 0 ... 87000  =      0.000 ...    87.000 secs...\n"
     ]
    },
    {
     "name": "stderr",
     "output_type": "stream",
     "text": [
      "C:\\Users\\marco\\AppData\\Local\\Temp\\ipykernel_6904\\3667833851.py:14: RuntimeWarning: This filename (../SEED_FRA_OUTPUT/NEUTRAL/6_1_trial_19_signals.fif) does not conform to MNE naming conventions. All raw files should end with raw.fif, raw_sss.fif, raw_tsss.fif, _meg.fif, _eeg.fif, _ieeg.fif, raw.fif.gz, raw_sss.fif.gz, raw_tsss.fif.gz, _meg.fif.gz, _eeg.fif.gz or _ieeg.fif.gz\n",
      "  eeg_data = mne.io.read_raw_fif(name, preload=True)\n"
     ]
    },
    {
     "name": "stdout",
     "output_type": "stream",
     "text": [
      "Opening raw data file ../SEED_FRA_OUTPUT/NEUTRAL/6_1_trial_2_signals.fif...\n",
      "    Range : 489000 ... 667000 =    489.000 ...   667.000 secs\n",
      "Ready.\n",
      "Reading 0 ... 178000  =      0.000 ...   178.000 secs...\n"
     ]
    },
    {
     "name": "stderr",
     "output_type": "stream",
     "text": [
      "C:\\Users\\marco\\AppData\\Local\\Temp\\ipykernel_6904\\3667833851.py:14: RuntimeWarning: This filename (../SEED_FRA_OUTPUT/NEUTRAL/6_1_trial_2_signals.fif) does not conform to MNE naming conventions. All raw files should end with raw.fif, raw_sss.fif, raw_tsss.fif, _meg.fif, _eeg.fif, _ieeg.fif, raw.fif.gz, raw_sss.fif.gz, raw_tsss.fif.gz, _meg.fif.gz, _eeg.fif.gz or _ieeg.fif.gz\n",
      "  eeg_data = mne.io.read_raw_fif(name, preload=True)\n"
     ]
    },
    {
     "name": "stdout",
     "output_type": "stream",
     "text": [
      "Opening raw data file ../SEED_FRA_OUTPUT/NEUTRAL/6_1_trial_5_signals.fif...\n",
      "    Range : 1103000 ... 1232000 =   1103.000 ...  1232.000 secs\n",
      "Ready.\n",
      "Reading 0 ... 129000  =      0.000 ...   129.000 secs...\n"
     ]
    },
    {
     "name": "stderr",
     "output_type": "stream",
     "text": [
      "C:\\Users\\marco\\AppData\\Local\\Temp\\ipykernel_6904\\3667833851.py:14: RuntimeWarning: This filename (../SEED_FRA_OUTPUT/NEUTRAL/6_1_trial_5_signals.fif) does not conform to MNE naming conventions. All raw files should end with raw.fif, raw_sss.fif, raw_tsss.fif, _meg.fif, _eeg.fif, _ieeg.fif, raw.fif.gz, raw_sss.fif.gz, raw_tsss.fif.gz, _meg.fif.gz, _eeg.fif.gz or _ieeg.fif.gz\n",
      "  eeg_data = mne.io.read_raw_fif(name, preload=True)\n"
     ]
    },
    {
     "name": "stdout",
     "output_type": "stream",
     "text": [
      "Opening raw data file ../SEED_FRA_OUTPUT/NEUTRAL/6_1_trial_7_signals.fif...\n",
      "    Range : 1572000 ... 1718000 =   1572.000 ...  1718.000 secs\n",
      "Ready.\n",
      "Reading 0 ... 146000  =      0.000 ...   146.000 secs...\n"
     ]
    },
    {
     "name": "stderr",
     "output_type": "stream",
     "text": [
      "C:\\Users\\marco\\AppData\\Local\\Temp\\ipykernel_6904\\3667833851.py:14: RuntimeWarning: This filename (../SEED_FRA_OUTPUT/NEUTRAL/6_1_trial_7_signals.fif) does not conform to MNE naming conventions. All raw files should end with raw.fif, raw_sss.fif, raw_tsss.fif, _meg.fif, _eeg.fif, _ieeg.fif, raw.fif.gz, raw_sss.fif.gz, raw_tsss.fif.gz, _meg.fif.gz, _eeg.fif.gz or _ieeg.fif.gz\n",
      "  eeg_data = mne.io.read_raw_fif(name, preload=True)\n"
     ]
    },
    {
     "name": "stdout",
     "output_type": "stream",
     "text": [
      "Opening raw data file ../SEED_FRA_OUTPUT/NEUTRAL/6_2_trial_10_signals.fif...\n",
      "    Range : 2174000 ... 2307000 =   2174.000 ...  2307.000 secs\n",
      "Ready.\n",
      "Reading 0 ... 133000  =      0.000 ...   133.000 secs...\n"
     ]
    },
    {
     "name": "stderr",
     "output_type": "stream",
     "text": [
      "C:\\Users\\marco\\AppData\\Local\\Temp\\ipykernel_6904\\3667833851.py:14: RuntimeWarning: This filename (../SEED_FRA_OUTPUT/NEUTRAL/6_2_trial_10_signals.fif) does not conform to MNE naming conventions. All raw files should end with raw.fif, raw_sss.fif, raw_tsss.fif, _meg.fif, _eeg.fif, _ieeg.fif, raw.fif.gz, raw_sss.fif.gz, raw_tsss.fif.gz, _meg.fif.gz, _eeg.fif.gz or _ieeg.fif.gz\n",
      "  eeg_data = mne.io.read_raw_fif(name, preload=True)\n"
     ]
    },
    {
     "name": "stdout",
     "output_type": "stream",
     "text": [
      "Opening raw data file ../SEED_FRA_OUTPUT/NEUTRAL/6_2_trial_13_signals.fif...\n",
      "    Range : 2619000 ... 2763000 =   2619.000 ...  2763.000 secs\n",
      "Ready.\n",
      "Reading 0 ... 144000  =      0.000 ...   144.000 secs...\n"
     ]
    },
    {
     "name": "stderr",
     "output_type": "stream",
     "text": [
      "C:\\Users\\marco\\AppData\\Local\\Temp\\ipykernel_6904\\3667833851.py:14: RuntimeWarning: This filename (../SEED_FRA_OUTPUT/NEUTRAL/6_2_trial_13_signals.fif) does not conform to MNE naming conventions. All raw files should end with raw.fif, raw_sss.fif, raw_tsss.fif, _meg.fif, _eeg.fif, _ieeg.fif, raw.fif.gz, raw_sss.fif.gz, raw_tsss.fif.gz, _meg.fif.gz, _eeg.fif.gz or _ieeg.fif.gz\n",
      "  eeg_data = mne.io.read_raw_fif(name, preload=True)\n"
     ]
    },
    {
     "name": "stdout",
     "output_type": "stream",
     "text": [
      "Opening raw data file ../SEED_FRA_OUTPUT/NEUTRAL/6_2_trial_16_signals.fif...\n",
      "    Range : 3029000 ... 3195000 =   3029.000 ...  3195.000 secs\n",
      "Ready.\n",
      "Reading 0 ... 166000  =      0.000 ...   166.000 secs...\n"
     ]
    },
    {
     "name": "stderr",
     "output_type": "stream",
     "text": [
      "C:\\Users\\marco\\AppData\\Local\\Temp\\ipykernel_6904\\3667833851.py:14: RuntimeWarning: This filename (../SEED_FRA_OUTPUT/NEUTRAL/6_2_trial_16_signals.fif) does not conform to MNE naming conventions. All raw files should end with raw.fif, raw_sss.fif, raw_tsss.fif, _meg.fif, _eeg.fif, _ieeg.fif, raw.fif.gz, raw_sss.fif.gz, raw_tsss.fif.gz, _meg.fif.gz, _eeg.fif.gz or _ieeg.fif.gz\n",
      "  eeg_data = mne.io.read_raw_fif(name, preload=True)\n"
     ]
    },
    {
     "name": "stdout",
     "output_type": "stream",
     "text": [
      "Opening raw data file ../SEED_FRA_OUTPUT/NEUTRAL/6_2_trial_19_signals.fif...\n",
      "    Range : 3515000 ... 3602000 =   3515.000 ...  3602.000 secs\n",
      "Ready.\n",
      "Reading 0 ... 87000  =      0.000 ...    87.000 secs...\n"
     ]
    },
    {
     "name": "stderr",
     "output_type": "stream",
     "text": [
      "C:\\Users\\marco\\AppData\\Local\\Temp\\ipykernel_6904\\3667833851.py:14: RuntimeWarning: This filename (../SEED_FRA_OUTPUT/NEUTRAL/6_2_trial_19_signals.fif) does not conform to MNE naming conventions. All raw files should end with raw.fif, raw_sss.fif, raw_tsss.fif, _meg.fif, _eeg.fif, _ieeg.fif, raw.fif.gz, raw_sss.fif.gz, raw_tsss.fif.gz, _meg.fif.gz, _eeg.fif.gz or _ieeg.fif.gz\n",
      "  eeg_data = mne.io.read_raw_fif(name, preload=True)\n"
     ]
    },
    {
     "name": "stdout",
     "output_type": "stream",
     "text": [
      "Opening raw data file ../SEED_FRA_OUTPUT/NEUTRAL/6_2_trial_2_signals.fif...\n",
      "    Range : 489000 ... 667000 =    489.000 ...   667.000 secs\n",
      "Ready.\n",
      "Reading 0 ... 178000  =      0.000 ...   178.000 secs...\n"
     ]
    },
    {
     "name": "stderr",
     "output_type": "stream",
     "text": [
      "C:\\Users\\marco\\AppData\\Local\\Temp\\ipykernel_6904\\3667833851.py:14: RuntimeWarning: This filename (../SEED_FRA_OUTPUT/NEUTRAL/6_2_trial_2_signals.fif) does not conform to MNE naming conventions. All raw files should end with raw.fif, raw_sss.fif, raw_tsss.fif, _meg.fif, _eeg.fif, _ieeg.fif, raw.fif.gz, raw_sss.fif.gz, raw_tsss.fif.gz, _meg.fif.gz, _eeg.fif.gz or _ieeg.fif.gz\n",
      "  eeg_data = mne.io.read_raw_fif(name, preload=True)\n"
     ]
    },
    {
     "name": "stdout",
     "output_type": "stream",
     "text": [
      "Opening raw data file ../SEED_FRA_OUTPUT/NEUTRAL/6_2_trial_5_signals.fif...\n",
      "    Range : 1103000 ... 1232000 =   1103.000 ...  1232.000 secs\n",
      "Ready.\n",
      "Reading 0 ... 129000  =      0.000 ...   129.000 secs...\n"
     ]
    },
    {
     "name": "stderr",
     "output_type": "stream",
     "text": [
      "C:\\Users\\marco\\AppData\\Local\\Temp\\ipykernel_6904\\3667833851.py:14: RuntimeWarning: This filename (../SEED_FRA_OUTPUT/NEUTRAL/6_2_trial_5_signals.fif) does not conform to MNE naming conventions. All raw files should end with raw.fif, raw_sss.fif, raw_tsss.fif, _meg.fif, _eeg.fif, _ieeg.fif, raw.fif.gz, raw_sss.fif.gz, raw_tsss.fif.gz, _meg.fif.gz, _eeg.fif.gz or _ieeg.fif.gz\n",
      "  eeg_data = mne.io.read_raw_fif(name, preload=True)\n"
     ]
    },
    {
     "name": "stdout",
     "output_type": "stream",
     "text": [
      "Opening raw data file ../SEED_FRA_OUTPUT/NEUTRAL/6_2_trial_7_signals.fif...\n",
      "    Range : 1572000 ... 1718000 =   1572.000 ...  1718.000 secs\n",
      "Ready.\n",
      "Reading 0 ... 146000  =      0.000 ...   146.000 secs...\n"
     ]
    },
    {
     "name": "stderr",
     "output_type": "stream",
     "text": [
      "C:\\Users\\marco\\AppData\\Local\\Temp\\ipykernel_6904\\3667833851.py:14: RuntimeWarning: This filename (../SEED_FRA_OUTPUT/NEUTRAL/6_2_trial_7_signals.fif) does not conform to MNE naming conventions. All raw files should end with raw.fif, raw_sss.fif, raw_tsss.fif, _meg.fif, _eeg.fif, _ieeg.fif, raw.fif.gz, raw_sss.fif.gz, raw_tsss.fif.gz, _meg.fif.gz, _eeg.fif.gz or _ieeg.fif.gz\n",
      "  eeg_data = mne.io.read_raw_fif(name, preload=True)\n"
     ]
    },
    {
     "name": "stdout",
     "output_type": "stream",
     "text": [
      "Opening raw data file ../SEED_FRA_OUTPUT/NEUTRAL/6_3_trial_10_signals.fif...\n",
      "    Range : 2174000 ... 2307000 =   2174.000 ...  2307.000 secs\n",
      "Ready.\n",
      "Reading 0 ... 133000  =      0.000 ...   133.000 secs...\n"
     ]
    },
    {
     "name": "stderr",
     "output_type": "stream",
     "text": [
      "C:\\Users\\marco\\AppData\\Local\\Temp\\ipykernel_6904\\3667833851.py:14: RuntimeWarning: This filename (../SEED_FRA_OUTPUT/NEUTRAL/6_3_trial_10_signals.fif) does not conform to MNE naming conventions. All raw files should end with raw.fif, raw_sss.fif, raw_tsss.fif, _meg.fif, _eeg.fif, _ieeg.fif, raw.fif.gz, raw_sss.fif.gz, raw_tsss.fif.gz, _meg.fif.gz, _eeg.fif.gz or _ieeg.fif.gz\n",
      "  eeg_data = mne.io.read_raw_fif(name, preload=True)\n"
     ]
    },
    {
     "name": "stdout",
     "output_type": "stream",
     "text": [
      "Opening raw data file ../SEED_FRA_OUTPUT/NEUTRAL/6_3_trial_13_signals.fif...\n",
      "    Range : 2619000 ... 2763000 =   2619.000 ...  2763.000 secs\n",
      "Ready.\n",
      "Reading 0 ... 144000  =      0.000 ...   144.000 secs...\n"
     ]
    },
    {
     "name": "stderr",
     "output_type": "stream",
     "text": [
      "C:\\Users\\marco\\AppData\\Local\\Temp\\ipykernel_6904\\3667833851.py:14: RuntimeWarning: This filename (../SEED_FRA_OUTPUT/NEUTRAL/6_3_trial_13_signals.fif) does not conform to MNE naming conventions. All raw files should end with raw.fif, raw_sss.fif, raw_tsss.fif, _meg.fif, _eeg.fif, _ieeg.fif, raw.fif.gz, raw_sss.fif.gz, raw_tsss.fif.gz, _meg.fif.gz, _eeg.fif.gz or _ieeg.fif.gz\n",
      "  eeg_data = mne.io.read_raw_fif(name, preload=True)\n"
     ]
    },
    {
     "name": "stdout",
     "output_type": "stream",
     "text": [
      "Opening raw data file ../SEED_FRA_OUTPUT/NEUTRAL/6_3_trial_16_signals.fif...\n",
      "    Range : 3029000 ... 3195000 =   3029.000 ...  3195.000 secs\n",
      "Ready.\n",
      "Reading 0 ... 166000  =      0.000 ...   166.000 secs...\n"
     ]
    },
    {
     "name": "stderr",
     "output_type": "stream",
     "text": [
      "C:\\Users\\marco\\AppData\\Local\\Temp\\ipykernel_6904\\3667833851.py:14: RuntimeWarning: This filename (../SEED_FRA_OUTPUT/NEUTRAL/6_3_trial_16_signals.fif) does not conform to MNE naming conventions. All raw files should end with raw.fif, raw_sss.fif, raw_tsss.fif, _meg.fif, _eeg.fif, _ieeg.fif, raw.fif.gz, raw_sss.fif.gz, raw_tsss.fif.gz, _meg.fif.gz, _eeg.fif.gz or _ieeg.fif.gz\n",
      "  eeg_data = mne.io.read_raw_fif(name, preload=True)\n"
     ]
    },
    {
     "name": "stdout",
     "output_type": "stream",
     "text": [
      "Opening raw data file ../SEED_FRA_OUTPUT/NEUTRAL/6_3_trial_19_signals.fif...\n",
      "    Range : 3515000 ... 3602000 =   3515.000 ...  3602.000 secs\n",
      "Ready.\n",
      "Reading 0 ... 87000  =      0.000 ...    87.000 secs...\n"
     ]
    },
    {
     "name": "stderr",
     "output_type": "stream",
     "text": [
      "C:\\Users\\marco\\AppData\\Local\\Temp\\ipykernel_6904\\3667833851.py:14: RuntimeWarning: This filename (../SEED_FRA_OUTPUT/NEUTRAL/6_3_trial_19_signals.fif) does not conform to MNE naming conventions. All raw files should end with raw.fif, raw_sss.fif, raw_tsss.fif, _meg.fif, _eeg.fif, _ieeg.fif, raw.fif.gz, raw_sss.fif.gz, raw_tsss.fif.gz, _meg.fif.gz, _eeg.fif.gz or _ieeg.fif.gz\n",
      "  eeg_data = mne.io.read_raw_fif(name, preload=True)\n"
     ]
    },
    {
     "name": "stdout",
     "output_type": "stream",
     "text": [
      "Opening raw data file ../SEED_FRA_OUTPUT/NEUTRAL/6_3_trial_2_signals.fif...\n",
      "    Range : 489000 ... 667000 =    489.000 ...   667.000 secs\n",
      "Ready.\n",
      "Reading 0 ... 178000  =      0.000 ...   178.000 secs...\n"
     ]
    },
    {
     "name": "stderr",
     "output_type": "stream",
     "text": [
      "C:\\Users\\marco\\AppData\\Local\\Temp\\ipykernel_6904\\3667833851.py:14: RuntimeWarning: This filename (../SEED_FRA_OUTPUT/NEUTRAL/6_3_trial_2_signals.fif) does not conform to MNE naming conventions. All raw files should end with raw.fif, raw_sss.fif, raw_tsss.fif, _meg.fif, _eeg.fif, _ieeg.fif, raw.fif.gz, raw_sss.fif.gz, raw_tsss.fif.gz, _meg.fif.gz, _eeg.fif.gz or _ieeg.fif.gz\n",
      "  eeg_data = mne.io.read_raw_fif(name, preload=True)\n"
     ]
    },
    {
     "name": "stdout",
     "output_type": "stream",
     "text": [
      "Opening raw data file ../SEED_FRA_OUTPUT/NEUTRAL/6_3_trial_5_signals.fif...\n",
      "    Range : 1103000 ... 1232000 =   1103.000 ...  1232.000 secs\n",
      "Ready.\n",
      "Reading 0 ... 129000  =      0.000 ...   129.000 secs...\n"
     ]
    },
    {
     "name": "stderr",
     "output_type": "stream",
     "text": [
      "C:\\Users\\marco\\AppData\\Local\\Temp\\ipykernel_6904\\3667833851.py:14: RuntimeWarning: This filename (../SEED_FRA_OUTPUT/NEUTRAL/6_3_trial_5_signals.fif) does not conform to MNE naming conventions. All raw files should end with raw.fif, raw_sss.fif, raw_tsss.fif, _meg.fif, _eeg.fif, _ieeg.fif, raw.fif.gz, raw_sss.fif.gz, raw_tsss.fif.gz, _meg.fif.gz, _eeg.fif.gz or _ieeg.fif.gz\n",
      "  eeg_data = mne.io.read_raw_fif(name, preload=True)\n"
     ]
    },
    {
     "name": "stdout",
     "output_type": "stream",
     "text": [
      "Opening raw data file ../SEED_FRA_OUTPUT/NEUTRAL/6_3_trial_7_signals.fif...\n",
      "    Range : 1572000 ... 1718000 =   1572.000 ...  1718.000 secs\n",
      "Ready.\n",
      "Reading 0 ... 146000  =      0.000 ...   146.000 secs...\n"
     ]
    },
    {
     "name": "stderr",
     "output_type": "stream",
     "text": [
      "C:\\Users\\marco\\AppData\\Local\\Temp\\ipykernel_6904\\3667833851.py:14: RuntimeWarning: This filename (../SEED_FRA_OUTPUT/NEUTRAL/6_3_trial_7_signals.fif) does not conform to MNE naming conventions. All raw files should end with raw.fif, raw_sss.fif, raw_tsss.fif, _meg.fif, _eeg.fif, _ieeg.fif, raw.fif.gz, raw_sss.fif.gz, raw_tsss.fif.gz, _meg.fif.gz, _eeg.fif.gz or _ieeg.fif.gz\n",
      "  eeg_data = mne.io.read_raw_fif(name, preload=True)\n"
     ]
    },
    {
     "name": "stdout",
     "output_type": "stream",
     "text": [
      "Opening raw data file ../SEED_FRA_OUTPUT/NEUTRAL/7_1_trial_10_signals.fif...\n",
      "    Range : 2174000 ... 2307000 =   2174.000 ...  2307.000 secs\n",
      "Ready.\n",
      "Reading 0 ... 133000  =      0.000 ...   133.000 secs...\n"
     ]
    },
    {
     "name": "stderr",
     "output_type": "stream",
     "text": [
      "C:\\Users\\marco\\AppData\\Local\\Temp\\ipykernel_6904\\3667833851.py:14: RuntimeWarning: This filename (../SEED_FRA_OUTPUT/NEUTRAL/7_1_trial_10_signals.fif) does not conform to MNE naming conventions. All raw files should end with raw.fif, raw_sss.fif, raw_tsss.fif, _meg.fif, _eeg.fif, _ieeg.fif, raw.fif.gz, raw_sss.fif.gz, raw_tsss.fif.gz, _meg.fif.gz, _eeg.fif.gz or _ieeg.fif.gz\n",
      "  eeg_data = mne.io.read_raw_fif(name, preload=True)\n"
     ]
    },
    {
     "name": "stdout",
     "output_type": "stream",
     "text": [
      "Opening raw data file ../SEED_FRA_OUTPUT/NEUTRAL/7_1_trial_13_signals.fif...\n",
      "    Range : 2619000 ... 2763000 =   2619.000 ...  2763.000 secs\n",
      "Ready.\n",
      "Reading 0 ... 144000  =      0.000 ...   144.000 secs...\n"
     ]
    },
    {
     "name": "stderr",
     "output_type": "stream",
     "text": [
      "C:\\Users\\marco\\AppData\\Local\\Temp\\ipykernel_6904\\3667833851.py:14: RuntimeWarning: This filename (../SEED_FRA_OUTPUT/NEUTRAL/7_1_trial_13_signals.fif) does not conform to MNE naming conventions. All raw files should end with raw.fif, raw_sss.fif, raw_tsss.fif, _meg.fif, _eeg.fif, _ieeg.fif, raw.fif.gz, raw_sss.fif.gz, raw_tsss.fif.gz, _meg.fif.gz, _eeg.fif.gz or _ieeg.fif.gz\n",
      "  eeg_data = mne.io.read_raw_fif(name, preload=True)\n"
     ]
    },
    {
     "name": "stdout",
     "output_type": "stream",
     "text": [
      "Opening raw data file ../SEED_FRA_OUTPUT/NEUTRAL/7_1_trial_16_signals.fif...\n",
      "    Range : 3029000 ... 3195000 =   3029.000 ...  3195.000 secs\n",
      "Ready.\n",
      "Reading 0 ... 166000  =      0.000 ...   166.000 secs...\n"
     ]
    },
    {
     "name": "stderr",
     "output_type": "stream",
     "text": [
      "C:\\Users\\marco\\AppData\\Local\\Temp\\ipykernel_6904\\3667833851.py:14: RuntimeWarning: This filename (../SEED_FRA_OUTPUT/NEUTRAL/7_1_trial_16_signals.fif) does not conform to MNE naming conventions. All raw files should end with raw.fif, raw_sss.fif, raw_tsss.fif, _meg.fif, _eeg.fif, _ieeg.fif, raw.fif.gz, raw_sss.fif.gz, raw_tsss.fif.gz, _meg.fif.gz, _eeg.fif.gz or _ieeg.fif.gz\n",
      "  eeg_data = mne.io.read_raw_fif(name, preload=True)\n"
     ]
    },
    {
     "name": "stdout",
     "output_type": "stream",
     "text": [
      "Opening raw data file ../SEED_FRA_OUTPUT/NEUTRAL/7_1_trial_19_signals.fif...\n",
      "    Range : 3515000 ... 3602000 =   3515.000 ...  3602.000 secs\n",
      "Ready.\n",
      "Reading 0 ... 87000  =      0.000 ...    87.000 secs...\n"
     ]
    },
    {
     "name": "stderr",
     "output_type": "stream",
     "text": [
      "C:\\Users\\marco\\AppData\\Local\\Temp\\ipykernel_6904\\3667833851.py:14: RuntimeWarning: This filename (../SEED_FRA_OUTPUT/NEUTRAL/7_1_trial_19_signals.fif) does not conform to MNE naming conventions. All raw files should end with raw.fif, raw_sss.fif, raw_tsss.fif, _meg.fif, _eeg.fif, _ieeg.fif, raw.fif.gz, raw_sss.fif.gz, raw_tsss.fif.gz, _meg.fif.gz, _eeg.fif.gz or _ieeg.fif.gz\n",
      "  eeg_data = mne.io.read_raw_fif(name, preload=True)\n"
     ]
    },
    {
     "name": "stdout",
     "output_type": "stream",
     "text": [
      "Opening raw data file ../SEED_FRA_OUTPUT/NEUTRAL/7_1_trial_2_signals.fif...\n",
      "    Range : 489000 ... 667000 =    489.000 ...   667.000 secs\n",
      "Ready.\n",
      "Reading 0 ... 178000  =      0.000 ...   178.000 secs...\n"
     ]
    },
    {
     "name": "stderr",
     "output_type": "stream",
     "text": [
      "C:\\Users\\marco\\AppData\\Local\\Temp\\ipykernel_6904\\3667833851.py:14: RuntimeWarning: This filename (../SEED_FRA_OUTPUT/NEUTRAL/7_1_trial_2_signals.fif) does not conform to MNE naming conventions. All raw files should end with raw.fif, raw_sss.fif, raw_tsss.fif, _meg.fif, _eeg.fif, _ieeg.fif, raw.fif.gz, raw_sss.fif.gz, raw_tsss.fif.gz, _meg.fif.gz, _eeg.fif.gz or _ieeg.fif.gz\n",
      "  eeg_data = mne.io.read_raw_fif(name, preload=True)\n"
     ]
    },
    {
     "name": "stdout",
     "output_type": "stream",
     "text": [
      "Opening raw data file ../SEED_FRA_OUTPUT/NEUTRAL/7_1_trial_5_signals.fif...\n",
      "    Range : 1103000 ... 1232000 =   1103.000 ...  1232.000 secs\n",
      "Ready.\n",
      "Reading 0 ... 129000  =      0.000 ...   129.000 secs...\n"
     ]
    },
    {
     "name": "stderr",
     "output_type": "stream",
     "text": [
      "C:\\Users\\marco\\AppData\\Local\\Temp\\ipykernel_6904\\3667833851.py:14: RuntimeWarning: This filename (../SEED_FRA_OUTPUT/NEUTRAL/7_1_trial_5_signals.fif) does not conform to MNE naming conventions. All raw files should end with raw.fif, raw_sss.fif, raw_tsss.fif, _meg.fif, _eeg.fif, _ieeg.fif, raw.fif.gz, raw_sss.fif.gz, raw_tsss.fif.gz, _meg.fif.gz, _eeg.fif.gz or _ieeg.fif.gz\n",
      "  eeg_data = mne.io.read_raw_fif(name, preload=True)\n"
     ]
    },
    {
     "name": "stdout",
     "output_type": "stream",
     "text": [
      "Opening raw data file ../SEED_FRA_OUTPUT/NEUTRAL/7_1_trial_7_signals.fif...\n",
      "    Range : 1572000 ... 1718000 =   1572.000 ...  1718.000 secs\n",
      "Ready.\n",
      "Reading 0 ... 146000  =      0.000 ...   146.000 secs...\n"
     ]
    },
    {
     "name": "stderr",
     "output_type": "stream",
     "text": [
      "C:\\Users\\marco\\AppData\\Local\\Temp\\ipykernel_6904\\3667833851.py:14: RuntimeWarning: This filename (../SEED_FRA_OUTPUT/NEUTRAL/7_1_trial_7_signals.fif) does not conform to MNE naming conventions. All raw files should end with raw.fif, raw_sss.fif, raw_tsss.fif, _meg.fif, _eeg.fif, _ieeg.fif, raw.fif.gz, raw_sss.fif.gz, raw_tsss.fif.gz, _meg.fif.gz, _eeg.fif.gz or _ieeg.fif.gz\n",
      "  eeg_data = mne.io.read_raw_fif(name, preload=True)\n"
     ]
    },
    {
     "name": "stdout",
     "output_type": "stream",
     "text": [
      "Opening raw data file ../SEED_FRA_OUTPUT/NEUTRAL/7_2_trial_10_signals.fif...\n",
      "    Range : 2174000 ... 2307000 =   2174.000 ...  2307.000 secs\n",
      "Ready.\n",
      "Reading 0 ... 133000  =      0.000 ...   133.000 secs...\n"
     ]
    },
    {
     "name": "stderr",
     "output_type": "stream",
     "text": [
      "C:\\Users\\marco\\AppData\\Local\\Temp\\ipykernel_6904\\3667833851.py:14: RuntimeWarning: This filename (../SEED_FRA_OUTPUT/NEUTRAL/7_2_trial_10_signals.fif) does not conform to MNE naming conventions. All raw files should end with raw.fif, raw_sss.fif, raw_tsss.fif, _meg.fif, _eeg.fif, _ieeg.fif, raw.fif.gz, raw_sss.fif.gz, raw_tsss.fif.gz, _meg.fif.gz, _eeg.fif.gz or _ieeg.fif.gz\n",
      "  eeg_data = mne.io.read_raw_fif(name, preload=True)\n"
     ]
    },
    {
     "name": "stdout",
     "output_type": "stream",
     "text": [
      "Opening raw data file ../SEED_FRA_OUTPUT/NEUTRAL/7_2_trial_13_signals.fif...\n",
      "    Range : 2619000 ... 2763000 =   2619.000 ...  2763.000 secs\n",
      "Ready.\n",
      "Reading 0 ... 144000  =      0.000 ...   144.000 secs...\n"
     ]
    },
    {
     "name": "stderr",
     "output_type": "stream",
     "text": [
      "C:\\Users\\marco\\AppData\\Local\\Temp\\ipykernel_6904\\3667833851.py:14: RuntimeWarning: This filename (../SEED_FRA_OUTPUT/NEUTRAL/7_2_trial_13_signals.fif) does not conform to MNE naming conventions. All raw files should end with raw.fif, raw_sss.fif, raw_tsss.fif, _meg.fif, _eeg.fif, _ieeg.fif, raw.fif.gz, raw_sss.fif.gz, raw_tsss.fif.gz, _meg.fif.gz, _eeg.fif.gz or _ieeg.fif.gz\n",
      "  eeg_data = mne.io.read_raw_fif(name, preload=True)\n"
     ]
    },
    {
     "name": "stdout",
     "output_type": "stream",
     "text": [
      "Opening raw data file ../SEED_FRA_OUTPUT/NEUTRAL/7_2_trial_16_signals.fif...\n",
      "    Range : 3029000 ... 3195000 =   3029.000 ...  3195.000 secs\n",
      "Ready.\n",
      "Reading 0 ... 166000  =      0.000 ...   166.000 secs...\n"
     ]
    },
    {
     "name": "stderr",
     "output_type": "stream",
     "text": [
      "C:\\Users\\marco\\AppData\\Local\\Temp\\ipykernel_6904\\3667833851.py:14: RuntimeWarning: This filename (../SEED_FRA_OUTPUT/NEUTRAL/7_2_trial_16_signals.fif) does not conform to MNE naming conventions. All raw files should end with raw.fif, raw_sss.fif, raw_tsss.fif, _meg.fif, _eeg.fif, _ieeg.fif, raw.fif.gz, raw_sss.fif.gz, raw_tsss.fif.gz, _meg.fif.gz, _eeg.fif.gz or _ieeg.fif.gz\n",
      "  eeg_data = mne.io.read_raw_fif(name, preload=True)\n"
     ]
    },
    {
     "name": "stdout",
     "output_type": "stream",
     "text": [
      "Opening raw data file ../SEED_FRA_OUTPUT/NEUTRAL/7_2_trial_19_signals.fif...\n",
      "    Range : 3515000 ... 3602000 =   3515.000 ...  3602.000 secs\n",
      "Ready.\n",
      "Reading 0 ... 87000  =      0.000 ...    87.000 secs...\n"
     ]
    },
    {
     "name": "stderr",
     "output_type": "stream",
     "text": [
      "C:\\Users\\marco\\AppData\\Local\\Temp\\ipykernel_6904\\3667833851.py:14: RuntimeWarning: This filename (../SEED_FRA_OUTPUT/NEUTRAL/7_2_trial_19_signals.fif) does not conform to MNE naming conventions. All raw files should end with raw.fif, raw_sss.fif, raw_tsss.fif, _meg.fif, _eeg.fif, _ieeg.fif, raw.fif.gz, raw_sss.fif.gz, raw_tsss.fif.gz, _meg.fif.gz, _eeg.fif.gz or _ieeg.fif.gz\n",
      "  eeg_data = mne.io.read_raw_fif(name, preload=True)\n"
     ]
    },
    {
     "name": "stdout",
     "output_type": "stream",
     "text": [
      "Opening raw data file ../SEED_FRA_OUTPUT/NEUTRAL/7_2_trial_2_signals.fif...\n",
      "    Range : 489000 ... 667000 =    489.000 ...   667.000 secs\n",
      "Ready.\n",
      "Reading 0 ... 178000  =      0.000 ...   178.000 secs...\n"
     ]
    },
    {
     "name": "stderr",
     "output_type": "stream",
     "text": [
      "C:\\Users\\marco\\AppData\\Local\\Temp\\ipykernel_6904\\3667833851.py:14: RuntimeWarning: This filename (../SEED_FRA_OUTPUT/NEUTRAL/7_2_trial_2_signals.fif) does not conform to MNE naming conventions. All raw files should end with raw.fif, raw_sss.fif, raw_tsss.fif, _meg.fif, _eeg.fif, _ieeg.fif, raw.fif.gz, raw_sss.fif.gz, raw_tsss.fif.gz, _meg.fif.gz, _eeg.fif.gz or _ieeg.fif.gz\n",
      "  eeg_data = mne.io.read_raw_fif(name, preload=True)\n"
     ]
    },
    {
     "name": "stdout",
     "output_type": "stream",
     "text": [
      "Opening raw data file ../SEED_FRA_OUTPUT/NEUTRAL/7_2_trial_5_signals.fif...\n",
      "    Range : 1103000 ... 1232000 =   1103.000 ...  1232.000 secs\n",
      "Ready.\n",
      "Reading 0 ... 129000  =      0.000 ...   129.000 secs...\n"
     ]
    },
    {
     "name": "stderr",
     "output_type": "stream",
     "text": [
      "C:\\Users\\marco\\AppData\\Local\\Temp\\ipykernel_6904\\3667833851.py:14: RuntimeWarning: This filename (../SEED_FRA_OUTPUT/NEUTRAL/7_2_trial_5_signals.fif) does not conform to MNE naming conventions. All raw files should end with raw.fif, raw_sss.fif, raw_tsss.fif, _meg.fif, _eeg.fif, _ieeg.fif, raw.fif.gz, raw_sss.fif.gz, raw_tsss.fif.gz, _meg.fif.gz, _eeg.fif.gz or _ieeg.fif.gz\n",
      "  eeg_data = mne.io.read_raw_fif(name, preload=True)\n"
     ]
    },
    {
     "name": "stdout",
     "output_type": "stream",
     "text": [
      "Opening raw data file ../SEED_FRA_OUTPUT/NEUTRAL/7_2_trial_7_signals.fif...\n",
      "    Range : 1572000 ... 1718000 =   1572.000 ...  1718.000 secs\n",
      "Ready.\n",
      "Reading 0 ... 146000  =      0.000 ...   146.000 secs...\n"
     ]
    },
    {
     "name": "stderr",
     "output_type": "stream",
     "text": [
      "C:\\Users\\marco\\AppData\\Local\\Temp\\ipykernel_6904\\3667833851.py:14: RuntimeWarning: This filename (../SEED_FRA_OUTPUT/NEUTRAL/7_2_trial_7_signals.fif) does not conform to MNE naming conventions. All raw files should end with raw.fif, raw_sss.fif, raw_tsss.fif, _meg.fif, _eeg.fif, _ieeg.fif, raw.fif.gz, raw_sss.fif.gz, raw_tsss.fif.gz, _meg.fif.gz, _eeg.fif.gz or _ieeg.fif.gz\n",
      "  eeg_data = mne.io.read_raw_fif(name, preload=True)\n"
     ]
    },
    {
     "name": "stdout",
     "output_type": "stream",
     "text": [
      "Opening raw data file ../SEED_FRA_OUTPUT/NEUTRAL/7_3_trial_10_signals.fif...\n",
      "    Range : 2174000 ... 2307000 =   2174.000 ...  2307.000 secs\n",
      "Ready.\n",
      "Reading 0 ... 133000  =      0.000 ...   133.000 secs...\n"
     ]
    },
    {
     "name": "stderr",
     "output_type": "stream",
     "text": [
      "C:\\Users\\marco\\AppData\\Local\\Temp\\ipykernel_6904\\3667833851.py:14: RuntimeWarning: This filename (../SEED_FRA_OUTPUT/NEUTRAL/7_3_trial_10_signals.fif) does not conform to MNE naming conventions. All raw files should end with raw.fif, raw_sss.fif, raw_tsss.fif, _meg.fif, _eeg.fif, _ieeg.fif, raw.fif.gz, raw_sss.fif.gz, raw_tsss.fif.gz, _meg.fif.gz, _eeg.fif.gz or _ieeg.fif.gz\n",
      "  eeg_data = mne.io.read_raw_fif(name, preload=True)\n"
     ]
    },
    {
     "name": "stdout",
     "output_type": "stream",
     "text": [
      "Opening raw data file ../SEED_FRA_OUTPUT/NEUTRAL/7_3_trial_13_signals.fif...\n",
      "    Range : 2619000 ... 2763000 =   2619.000 ...  2763.000 secs\n",
      "Ready.\n",
      "Reading 0 ... 144000  =      0.000 ...   144.000 secs...\n"
     ]
    },
    {
     "name": "stderr",
     "output_type": "stream",
     "text": [
      "C:\\Users\\marco\\AppData\\Local\\Temp\\ipykernel_6904\\3667833851.py:14: RuntimeWarning: This filename (../SEED_FRA_OUTPUT/NEUTRAL/7_3_trial_13_signals.fif) does not conform to MNE naming conventions. All raw files should end with raw.fif, raw_sss.fif, raw_tsss.fif, _meg.fif, _eeg.fif, _ieeg.fif, raw.fif.gz, raw_sss.fif.gz, raw_tsss.fif.gz, _meg.fif.gz, _eeg.fif.gz or _ieeg.fif.gz\n",
      "  eeg_data = mne.io.read_raw_fif(name, preload=True)\n"
     ]
    },
    {
     "name": "stdout",
     "output_type": "stream",
     "text": [
      "Opening raw data file ../SEED_FRA_OUTPUT/NEUTRAL/7_3_trial_16_signals.fif...\n",
      "    Range : 3029000 ... 3195000 =   3029.000 ...  3195.000 secs\n",
      "Ready.\n",
      "Reading 0 ... 166000  =      0.000 ...   166.000 secs...\n"
     ]
    },
    {
     "name": "stderr",
     "output_type": "stream",
     "text": [
      "C:\\Users\\marco\\AppData\\Local\\Temp\\ipykernel_6904\\3667833851.py:14: RuntimeWarning: This filename (../SEED_FRA_OUTPUT/NEUTRAL/7_3_trial_16_signals.fif) does not conform to MNE naming conventions. All raw files should end with raw.fif, raw_sss.fif, raw_tsss.fif, _meg.fif, _eeg.fif, _ieeg.fif, raw.fif.gz, raw_sss.fif.gz, raw_tsss.fif.gz, _meg.fif.gz, _eeg.fif.gz or _ieeg.fif.gz\n",
      "  eeg_data = mne.io.read_raw_fif(name, preload=True)\n"
     ]
    },
    {
     "name": "stdout",
     "output_type": "stream",
     "text": [
      "Opening raw data file ../SEED_FRA_OUTPUT/NEUTRAL/7_3_trial_19_signals.fif...\n",
      "    Range : 3515000 ... 3602000 =   3515.000 ...  3602.000 secs\n",
      "Ready.\n",
      "Reading 0 ... 87000  =      0.000 ...    87.000 secs...\n"
     ]
    },
    {
     "name": "stderr",
     "output_type": "stream",
     "text": [
      "C:\\Users\\marco\\AppData\\Local\\Temp\\ipykernel_6904\\3667833851.py:14: RuntimeWarning: This filename (../SEED_FRA_OUTPUT/NEUTRAL/7_3_trial_19_signals.fif) does not conform to MNE naming conventions. All raw files should end with raw.fif, raw_sss.fif, raw_tsss.fif, _meg.fif, _eeg.fif, _ieeg.fif, raw.fif.gz, raw_sss.fif.gz, raw_tsss.fif.gz, _meg.fif.gz, _eeg.fif.gz or _ieeg.fif.gz\n",
      "  eeg_data = mne.io.read_raw_fif(name, preload=True)\n"
     ]
    },
    {
     "name": "stdout",
     "output_type": "stream",
     "text": [
      "Opening raw data file ../SEED_FRA_OUTPUT/NEUTRAL/7_3_trial_2_signals.fif...\n",
      "    Range : 489000 ... 667000 =    489.000 ...   667.000 secs\n",
      "Ready.\n",
      "Reading 0 ... 178000  =      0.000 ...   178.000 secs...\n"
     ]
    },
    {
     "name": "stderr",
     "output_type": "stream",
     "text": [
      "C:\\Users\\marco\\AppData\\Local\\Temp\\ipykernel_6904\\3667833851.py:14: RuntimeWarning: This filename (../SEED_FRA_OUTPUT/NEUTRAL/7_3_trial_2_signals.fif) does not conform to MNE naming conventions. All raw files should end with raw.fif, raw_sss.fif, raw_tsss.fif, _meg.fif, _eeg.fif, _ieeg.fif, raw.fif.gz, raw_sss.fif.gz, raw_tsss.fif.gz, _meg.fif.gz, _eeg.fif.gz or _ieeg.fif.gz\n",
      "  eeg_data = mne.io.read_raw_fif(name, preload=True)\n"
     ]
    },
    {
     "name": "stdout",
     "output_type": "stream",
     "text": [
      "Opening raw data file ../SEED_FRA_OUTPUT/NEUTRAL/7_3_trial_5_signals.fif...\n",
      "    Range : 1103000 ... 1232000 =   1103.000 ...  1232.000 secs\n",
      "Ready.\n",
      "Reading 0 ... 129000  =      0.000 ...   129.000 secs...\n"
     ]
    },
    {
     "name": "stderr",
     "output_type": "stream",
     "text": [
      "C:\\Users\\marco\\AppData\\Local\\Temp\\ipykernel_6904\\3667833851.py:14: RuntimeWarning: This filename (../SEED_FRA_OUTPUT/NEUTRAL/7_3_trial_5_signals.fif) does not conform to MNE naming conventions. All raw files should end with raw.fif, raw_sss.fif, raw_tsss.fif, _meg.fif, _eeg.fif, _ieeg.fif, raw.fif.gz, raw_sss.fif.gz, raw_tsss.fif.gz, _meg.fif.gz, _eeg.fif.gz or _ieeg.fif.gz\n",
      "  eeg_data = mne.io.read_raw_fif(name, preload=True)\n"
     ]
    },
    {
     "name": "stdout",
     "output_type": "stream",
     "text": [
      "Opening raw data file ../SEED_FRA_OUTPUT/NEUTRAL/7_3_trial_7_signals.fif...\n",
      "    Range : 1572000 ... 1718000 =   1572.000 ...  1718.000 secs\n",
      "Ready.\n",
      "Reading 0 ... 146000  =      0.000 ...   146.000 secs...\n"
     ]
    },
    {
     "name": "stderr",
     "output_type": "stream",
     "text": [
      "C:\\Users\\marco\\AppData\\Local\\Temp\\ipykernel_6904\\3667833851.py:14: RuntimeWarning: This filename (../SEED_FRA_OUTPUT/NEUTRAL/7_3_trial_7_signals.fif) does not conform to MNE naming conventions. All raw files should end with raw.fif, raw_sss.fif, raw_tsss.fif, _meg.fif, _eeg.fif, _ieeg.fif, raw.fif.gz, raw_sss.fif.gz, raw_tsss.fif.gz, _meg.fif.gz, _eeg.fif.gz or _ieeg.fif.gz\n",
      "  eeg_data = mne.io.read_raw_fif(name, preload=True)\n"
     ]
    },
    {
     "name": "stdout",
     "output_type": "stream",
     "text": [
      "Opening raw data file ../SEED_FRA_OUTPUT/NEUTRAL/8_1_trial_10_signals.fif...\n",
      "    Range : 2174000 ... 2307000 =   2174.000 ...  2307.000 secs\n",
      "Ready.\n",
      "Reading 0 ... 133000  =      0.000 ...   133.000 secs...\n"
     ]
    },
    {
     "name": "stderr",
     "output_type": "stream",
     "text": [
      "C:\\Users\\marco\\AppData\\Local\\Temp\\ipykernel_6904\\3667833851.py:14: RuntimeWarning: This filename (../SEED_FRA_OUTPUT/NEUTRAL/8_1_trial_10_signals.fif) does not conform to MNE naming conventions. All raw files should end with raw.fif, raw_sss.fif, raw_tsss.fif, _meg.fif, _eeg.fif, _ieeg.fif, raw.fif.gz, raw_sss.fif.gz, raw_tsss.fif.gz, _meg.fif.gz, _eeg.fif.gz or _ieeg.fif.gz\n",
      "  eeg_data = mne.io.read_raw_fif(name, preload=True)\n"
     ]
    },
    {
     "name": "stdout",
     "output_type": "stream",
     "text": [
      "Opening raw data file ../SEED_FRA_OUTPUT/NEUTRAL/8_1_trial_13_signals.fif...\n",
      "    Range : 2619000 ... 2763000 =   2619.000 ...  2763.000 secs\n",
      "Ready.\n",
      "Reading 0 ... 144000  =      0.000 ...   144.000 secs...\n"
     ]
    },
    {
     "name": "stderr",
     "output_type": "stream",
     "text": [
      "C:\\Users\\marco\\AppData\\Local\\Temp\\ipykernel_6904\\3667833851.py:14: RuntimeWarning: This filename (../SEED_FRA_OUTPUT/NEUTRAL/8_1_trial_13_signals.fif) does not conform to MNE naming conventions. All raw files should end with raw.fif, raw_sss.fif, raw_tsss.fif, _meg.fif, _eeg.fif, _ieeg.fif, raw.fif.gz, raw_sss.fif.gz, raw_tsss.fif.gz, _meg.fif.gz, _eeg.fif.gz or _ieeg.fif.gz\n",
      "  eeg_data = mne.io.read_raw_fif(name, preload=True)\n"
     ]
    },
    {
     "name": "stdout",
     "output_type": "stream",
     "text": [
      "Opening raw data file ../SEED_FRA_OUTPUT/NEUTRAL/8_1_trial_16_signals.fif...\n",
      "    Range : 3029000 ... 3195000 =   3029.000 ...  3195.000 secs\n",
      "Ready.\n",
      "Reading 0 ... 166000  =      0.000 ...   166.000 secs...\n"
     ]
    },
    {
     "name": "stderr",
     "output_type": "stream",
     "text": [
      "C:\\Users\\marco\\AppData\\Local\\Temp\\ipykernel_6904\\3667833851.py:14: RuntimeWarning: This filename (../SEED_FRA_OUTPUT/NEUTRAL/8_1_trial_16_signals.fif) does not conform to MNE naming conventions. All raw files should end with raw.fif, raw_sss.fif, raw_tsss.fif, _meg.fif, _eeg.fif, _ieeg.fif, raw.fif.gz, raw_sss.fif.gz, raw_tsss.fif.gz, _meg.fif.gz, _eeg.fif.gz or _ieeg.fif.gz\n",
      "  eeg_data = mne.io.read_raw_fif(name, preload=True)\n"
     ]
    },
    {
     "name": "stdout",
     "output_type": "stream",
     "text": [
      "Opening raw data file ../SEED_FRA_OUTPUT/NEUTRAL/8_1_trial_19_signals.fif...\n",
      "    Range : 3515000 ... 3602000 =   3515.000 ...  3602.000 secs\n",
      "Ready.\n",
      "Reading 0 ... 87000  =      0.000 ...    87.000 secs...\n"
     ]
    },
    {
     "name": "stderr",
     "output_type": "stream",
     "text": [
      "C:\\Users\\marco\\AppData\\Local\\Temp\\ipykernel_6904\\3667833851.py:14: RuntimeWarning: This filename (../SEED_FRA_OUTPUT/NEUTRAL/8_1_trial_19_signals.fif) does not conform to MNE naming conventions. All raw files should end with raw.fif, raw_sss.fif, raw_tsss.fif, _meg.fif, _eeg.fif, _ieeg.fif, raw.fif.gz, raw_sss.fif.gz, raw_tsss.fif.gz, _meg.fif.gz, _eeg.fif.gz or _ieeg.fif.gz\n",
      "  eeg_data = mne.io.read_raw_fif(name, preload=True)\n"
     ]
    },
    {
     "name": "stdout",
     "output_type": "stream",
     "text": [
      "Opening raw data file ../SEED_FRA_OUTPUT/NEUTRAL/8_1_trial_2_signals.fif...\n",
      "    Range : 489000 ... 667000 =    489.000 ...   667.000 secs\n",
      "Ready.\n",
      "Reading 0 ... 178000  =      0.000 ...   178.000 secs...\n"
     ]
    },
    {
     "name": "stderr",
     "output_type": "stream",
     "text": [
      "C:\\Users\\marco\\AppData\\Local\\Temp\\ipykernel_6904\\3667833851.py:14: RuntimeWarning: This filename (../SEED_FRA_OUTPUT/NEUTRAL/8_1_trial_2_signals.fif) does not conform to MNE naming conventions. All raw files should end with raw.fif, raw_sss.fif, raw_tsss.fif, _meg.fif, _eeg.fif, _ieeg.fif, raw.fif.gz, raw_sss.fif.gz, raw_tsss.fif.gz, _meg.fif.gz, _eeg.fif.gz or _ieeg.fif.gz\n",
      "  eeg_data = mne.io.read_raw_fif(name, preload=True)\n"
     ]
    },
    {
     "name": "stdout",
     "output_type": "stream",
     "text": [
      "Opening raw data file ../SEED_FRA_OUTPUT/NEUTRAL/8_1_trial_5_signals.fif...\n",
      "    Range : 1103000 ... 1232000 =   1103.000 ...  1232.000 secs\n",
      "Ready.\n",
      "Reading 0 ... 129000  =      0.000 ...   129.000 secs...\n"
     ]
    },
    {
     "name": "stderr",
     "output_type": "stream",
     "text": [
      "C:\\Users\\marco\\AppData\\Local\\Temp\\ipykernel_6904\\3667833851.py:14: RuntimeWarning: This filename (../SEED_FRA_OUTPUT/NEUTRAL/8_1_trial_5_signals.fif) does not conform to MNE naming conventions. All raw files should end with raw.fif, raw_sss.fif, raw_tsss.fif, _meg.fif, _eeg.fif, _ieeg.fif, raw.fif.gz, raw_sss.fif.gz, raw_tsss.fif.gz, _meg.fif.gz, _eeg.fif.gz or _ieeg.fif.gz\n",
      "  eeg_data = mne.io.read_raw_fif(name, preload=True)\n"
     ]
    },
    {
     "name": "stdout",
     "output_type": "stream",
     "text": [
      "Opening raw data file ../SEED_FRA_OUTPUT/NEUTRAL/8_1_trial_7_signals.fif...\n",
      "    Range : 1572000 ... 1718000 =   1572.000 ...  1718.000 secs\n",
      "Ready.\n",
      "Reading 0 ... 146000  =      0.000 ...   146.000 secs...\n"
     ]
    },
    {
     "name": "stderr",
     "output_type": "stream",
     "text": [
      "C:\\Users\\marco\\AppData\\Local\\Temp\\ipykernel_6904\\3667833851.py:14: RuntimeWarning: This filename (../SEED_FRA_OUTPUT/NEUTRAL/8_1_trial_7_signals.fif) does not conform to MNE naming conventions. All raw files should end with raw.fif, raw_sss.fif, raw_tsss.fif, _meg.fif, _eeg.fif, _ieeg.fif, raw.fif.gz, raw_sss.fif.gz, raw_tsss.fif.gz, _meg.fif.gz, _eeg.fif.gz or _ieeg.fif.gz\n",
      "  eeg_data = mne.io.read_raw_fif(name, preload=True)\n"
     ]
    },
    {
     "name": "stdout",
     "output_type": "stream",
     "text": [
      "Opening raw data file ../SEED_FRA_OUTPUT/NEUTRAL/8_2_trial_10_signals.fif...\n",
      "    Range : 2174000 ... 2307000 =   2174.000 ...  2307.000 secs\n",
      "Ready.\n",
      "Reading 0 ... 133000  =      0.000 ...   133.000 secs...\n"
     ]
    },
    {
     "name": "stderr",
     "output_type": "stream",
     "text": [
      "C:\\Users\\marco\\AppData\\Local\\Temp\\ipykernel_6904\\3667833851.py:14: RuntimeWarning: This filename (../SEED_FRA_OUTPUT/NEUTRAL/8_2_trial_10_signals.fif) does not conform to MNE naming conventions. All raw files should end with raw.fif, raw_sss.fif, raw_tsss.fif, _meg.fif, _eeg.fif, _ieeg.fif, raw.fif.gz, raw_sss.fif.gz, raw_tsss.fif.gz, _meg.fif.gz, _eeg.fif.gz or _ieeg.fif.gz\n",
      "  eeg_data = mne.io.read_raw_fif(name, preload=True)\n"
     ]
    },
    {
     "name": "stdout",
     "output_type": "stream",
     "text": [
      "Opening raw data file ../SEED_FRA_OUTPUT/NEUTRAL/8_2_trial_13_signals.fif...\n",
      "    Range : 2619000 ... 2763000 =   2619.000 ...  2763.000 secs\n",
      "Ready.\n",
      "Reading 0 ... 144000  =      0.000 ...   144.000 secs...\n"
     ]
    },
    {
     "name": "stderr",
     "output_type": "stream",
     "text": [
      "C:\\Users\\marco\\AppData\\Local\\Temp\\ipykernel_6904\\3667833851.py:14: RuntimeWarning: This filename (../SEED_FRA_OUTPUT/NEUTRAL/8_2_trial_13_signals.fif) does not conform to MNE naming conventions. All raw files should end with raw.fif, raw_sss.fif, raw_tsss.fif, _meg.fif, _eeg.fif, _ieeg.fif, raw.fif.gz, raw_sss.fif.gz, raw_tsss.fif.gz, _meg.fif.gz, _eeg.fif.gz or _ieeg.fif.gz\n",
      "  eeg_data = mne.io.read_raw_fif(name, preload=True)\n"
     ]
    },
    {
     "name": "stdout",
     "output_type": "stream",
     "text": [
      "Opening raw data file ../SEED_FRA_OUTPUT/NEUTRAL/8_2_trial_16_signals.fif...\n",
      "    Range : 3029000 ... 3195000 =   3029.000 ...  3195.000 secs\n",
      "Ready.\n",
      "Reading 0 ... 166000  =      0.000 ...   166.000 secs...\n"
     ]
    },
    {
     "name": "stderr",
     "output_type": "stream",
     "text": [
      "C:\\Users\\marco\\AppData\\Local\\Temp\\ipykernel_6904\\3667833851.py:14: RuntimeWarning: This filename (../SEED_FRA_OUTPUT/NEUTRAL/8_2_trial_16_signals.fif) does not conform to MNE naming conventions. All raw files should end with raw.fif, raw_sss.fif, raw_tsss.fif, _meg.fif, _eeg.fif, _ieeg.fif, raw.fif.gz, raw_sss.fif.gz, raw_tsss.fif.gz, _meg.fif.gz, _eeg.fif.gz or _ieeg.fif.gz\n",
      "  eeg_data = mne.io.read_raw_fif(name, preload=True)\n"
     ]
    },
    {
     "name": "stdout",
     "output_type": "stream",
     "text": [
      "Opening raw data file ../SEED_FRA_OUTPUT/NEUTRAL/8_2_trial_19_signals.fif...\n",
      "    Range : 3515000 ... 3602000 =   3515.000 ...  3602.000 secs\n",
      "Ready.\n",
      "Reading 0 ... 87000  =      0.000 ...    87.000 secs...\n"
     ]
    },
    {
     "name": "stderr",
     "output_type": "stream",
     "text": [
      "C:\\Users\\marco\\AppData\\Local\\Temp\\ipykernel_6904\\3667833851.py:14: RuntimeWarning: This filename (../SEED_FRA_OUTPUT/NEUTRAL/8_2_trial_19_signals.fif) does not conform to MNE naming conventions. All raw files should end with raw.fif, raw_sss.fif, raw_tsss.fif, _meg.fif, _eeg.fif, _ieeg.fif, raw.fif.gz, raw_sss.fif.gz, raw_tsss.fif.gz, _meg.fif.gz, _eeg.fif.gz or _ieeg.fif.gz\n",
      "  eeg_data = mne.io.read_raw_fif(name, preload=True)\n"
     ]
    },
    {
     "name": "stdout",
     "output_type": "stream",
     "text": [
      "Opening raw data file ../SEED_FRA_OUTPUT/NEUTRAL/8_2_trial_2_signals.fif...\n",
      "    Range : 489000 ... 667000 =    489.000 ...   667.000 secs\n",
      "Ready.\n",
      "Reading 0 ... 178000  =      0.000 ...   178.000 secs...\n"
     ]
    },
    {
     "name": "stderr",
     "output_type": "stream",
     "text": [
      "C:\\Users\\marco\\AppData\\Local\\Temp\\ipykernel_6904\\3667833851.py:14: RuntimeWarning: This filename (../SEED_FRA_OUTPUT/NEUTRAL/8_2_trial_2_signals.fif) does not conform to MNE naming conventions. All raw files should end with raw.fif, raw_sss.fif, raw_tsss.fif, _meg.fif, _eeg.fif, _ieeg.fif, raw.fif.gz, raw_sss.fif.gz, raw_tsss.fif.gz, _meg.fif.gz, _eeg.fif.gz or _ieeg.fif.gz\n",
      "  eeg_data = mne.io.read_raw_fif(name, preload=True)\n"
     ]
    },
    {
     "name": "stdout",
     "output_type": "stream",
     "text": [
      "Opening raw data file ../SEED_FRA_OUTPUT/NEUTRAL/8_2_trial_5_signals.fif...\n",
      "    Range : 1103000 ... 1232000 =   1103.000 ...  1232.000 secs\n",
      "Ready.\n",
      "Reading 0 ... 129000  =      0.000 ...   129.000 secs...\n"
     ]
    },
    {
     "name": "stderr",
     "output_type": "stream",
     "text": [
      "C:\\Users\\marco\\AppData\\Local\\Temp\\ipykernel_6904\\3667833851.py:14: RuntimeWarning: This filename (../SEED_FRA_OUTPUT/NEUTRAL/8_2_trial_5_signals.fif) does not conform to MNE naming conventions. All raw files should end with raw.fif, raw_sss.fif, raw_tsss.fif, _meg.fif, _eeg.fif, _ieeg.fif, raw.fif.gz, raw_sss.fif.gz, raw_tsss.fif.gz, _meg.fif.gz, _eeg.fif.gz or _ieeg.fif.gz\n",
      "  eeg_data = mne.io.read_raw_fif(name, preload=True)\n"
     ]
    },
    {
     "name": "stdout",
     "output_type": "stream",
     "text": [
      "Opening raw data file ../SEED_FRA_OUTPUT/NEUTRAL/8_2_trial_7_signals.fif...\n",
      "    Range : 1572000 ... 1718000 =   1572.000 ...  1718.000 secs\n",
      "Ready.\n",
      "Reading 0 ... 146000  =      0.000 ...   146.000 secs...\n"
     ]
    },
    {
     "name": "stderr",
     "output_type": "stream",
     "text": [
      "C:\\Users\\marco\\AppData\\Local\\Temp\\ipykernel_6904\\3667833851.py:14: RuntimeWarning: This filename (../SEED_FRA_OUTPUT/NEUTRAL/8_2_trial_7_signals.fif) does not conform to MNE naming conventions. All raw files should end with raw.fif, raw_sss.fif, raw_tsss.fif, _meg.fif, _eeg.fif, _ieeg.fif, raw.fif.gz, raw_sss.fif.gz, raw_tsss.fif.gz, _meg.fif.gz, _eeg.fif.gz or _ieeg.fif.gz\n",
      "  eeg_data = mne.io.read_raw_fif(name, preload=True)\n"
     ]
    },
    {
     "name": "stdout",
     "output_type": "stream",
     "text": [
      "Opening raw data file ../SEED_FRA_OUTPUT/NEUTRAL/8_3_trial_10_signals.fif...\n",
      "    Range : 2174000 ... 2307000 =   2174.000 ...  2307.000 secs\n",
      "Ready.\n",
      "Reading 0 ... 133000  =      0.000 ...   133.000 secs...\n"
     ]
    },
    {
     "name": "stderr",
     "output_type": "stream",
     "text": [
      "C:\\Users\\marco\\AppData\\Local\\Temp\\ipykernel_6904\\3667833851.py:14: RuntimeWarning: This filename (../SEED_FRA_OUTPUT/NEUTRAL/8_3_trial_10_signals.fif) does not conform to MNE naming conventions. All raw files should end with raw.fif, raw_sss.fif, raw_tsss.fif, _meg.fif, _eeg.fif, _ieeg.fif, raw.fif.gz, raw_sss.fif.gz, raw_tsss.fif.gz, _meg.fif.gz, _eeg.fif.gz or _ieeg.fif.gz\n",
      "  eeg_data = mne.io.read_raw_fif(name, preload=True)\n"
     ]
    },
    {
     "name": "stdout",
     "output_type": "stream",
     "text": [
      "Opening raw data file ../SEED_FRA_OUTPUT/NEUTRAL/8_3_trial_13_signals.fif...\n",
      "    Range : 2619000 ... 2763000 =   2619.000 ...  2763.000 secs\n",
      "Ready.\n",
      "Reading 0 ... 144000  =      0.000 ...   144.000 secs...\n"
     ]
    },
    {
     "name": "stderr",
     "output_type": "stream",
     "text": [
      "C:\\Users\\marco\\AppData\\Local\\Temp\\ipykernel_6904\\3667833851.py:14: RuntimeWarning: This filename (../SEED_FRA_OUTPUT/NEUTRAL/8_3_trial_13_signals.fif) does not conform to MNE naming conventions. All raw files should end with raw.fif, raw_sss.fif, raw_tsss.fif, _meg.fif, _eeg.fif, _ieeg.fif, raw.fif.gz, raw_sss.fif.gz, raw_tsss.fif.gz, _meg.fif.gz, _eeg.fif.gz or _ieeg.fif.gz\n",
      "  eeg_data = mne.io.read_raw_fif(name, preload=True)\n"
     ]
    },
    {
     "name": "stdout",
     "output_type": "stream",
     "text": [
      "Opening raw data file ../SEED_FRA_OUTPUT/NEUTRAL/8_3_trial_16_signals.fif...\n",
      "    Range : 3029000 ... 3195000 =   3029.000 ...  3195.000 secs\n",
      "Ready.\n",
      "Reading 0 ... 166000  =      0.000 ...   166.000 secs...\n"
     ]
    },
    {
     "name": "stderr",
     "output_type": "stream",
     "text": [
      "C:\\Users\\marco\\AppData\\Local\\Temp\\ipykernel_6904\\3667833851.py:14: RuntimeWarning: This filename (../SEED_FRA_OUTPUT/NEUTRAL/8_3_trial_16_signals.fif) does not conform to MNE naming conventions. All raw files should end with raw.fif, raw_sss.fif, raw_tsss.fif, _meg.fif, _eeg.fif, _ieeg.fif, raw.fif.gz, raw_sss.fif.gz, raw_tsss.fif.gz, _meg.fif.gz, _eeg.fif.gz or _ieeg.fif.gz\n",
      "  eeg_data = mne.io.read_raw_fif(name, preload=True)\n"
     ]
    },
    {
     "name": "stdout",
     "output_type": "stream",
     "text": [
      "Opening raw data file ../SEED_FRA_OUTPUT/NEUTRAL/8_3_trial_19_signals.fif...\n",
      "    Range : 3515000 ... 3602000 =   3515.000 ...  3602.000 secs\n",
      "Ready.\n",
      "Reading 0 ... 87000  =      0.000 ...    87.000 secs...\n"
     ]
    },
    {
     "name": "stderr",
     "output_type": "stream",
     "text": [
      "C:\\Users\\marco\\AppData\\Local\\Temp\\ipykernel_6904\\3667833851.py:14: RuntimeWarning: This filename (../SEED_FRA_OUTPUT/NEUTRAL/8_3_trial_19_signals.fif) does not conform to MNE naming conventions. All raw files should end with raw.fif, raw_sss.fif, raw_tsss.fif, _meg.fif, _eeg.fif, _ieeg.fif, raw.fif.gz, raw_sss.fif.gz, raw_tsss.fif.gz, _meg.fif.gz, _eeg.fif.gz or _ieeg.fif.gz\n",
      "  eeg_data = mne.io.read_raw_fif(name, preload=True)\n"
     ]
    },
    {
     "name": "stdout",
     "output_type": "stream",
     "text": [
      "Opening raw data file ../SEED_FRA_OUTPUT/NEUTRAL/8_3_trial_2_signals.fif...\n",
      "    Range : 489000 ... 667000 =    489.000 ...   667.000 secs\n",
      "Ready.\n",
      "Reading 0 ... 178000  =      0.000 ...   178.000 secs...\n"
     ]
    },
    {
     "name": "stderr",
     "output_type": "stream",
     "text": [
      "C:\\Users\\marco\\AppData\\Local\\Temp\\ipykernel_6904\\3667833851.py:14: RuntimeWarning: This filename (../SEED_FRA_OUTPUT/NEUTRAL/8_3_trial_2_signals.fif) does not conform to MNE naming conventions. All raw files should end with raw.fif, raw_sss.fif, raw_tsss.fif, _meg.fif, _eeg.fif, _ieeg.fif, raw.fif.gz, raw_sss.fif.gz, raw_tsss.fif.gz, _meg.fif.gz, _eeg.fif.gz or _ieeg.fif.gz\n",
      "  eeg_data = mne.io.read_raw_fif(name, preload=True)\n"
     ]
    },
    {
     "name": "stdout",
     "output_type": "stream",
     "text": [
      "Opening raw data file ../SEED_FRA_OUTPUT/NEUTRAL/8_3_trial_5_signals.fif...\n",
      "    Range : 1103000 ... 1232000 =   1103.000 ...  1232.000 secs\n",
      "Ready.\n",
      "Reading 0 ... 129000  =      0.000 ...   129.000 secs...\n"
     ]
    },
    {
     "name": "stderr",
     "output_type": "stream",
     "text": [
      "C:\\Users\\marco\\AppData\\Local\\Temp\\ipykernel_6904\\3667833851.py:14: RuntimeWarning: This filename (../SEED_FRA_OUTPUT/NEUTRAL/8_3_trial_5_signals.fif) does not conform to MNE naming conventions. All raw files should end with raw.fif, raw_sss.fif, raw_tsss.fif, _meg.fif, _eeg.fif, _ieeg.fif, raw.fif.gz, raw_sss.fif.gz, raw_tsss.fif.gz, _meg.fif.gz, _eeg.fif.gz or _ieeg.fif.gz\n",
      "  eeg_data = mne.io.read_raw_fif(name, preload=True)\n"
     ]
    },
    {
     "name": "stdout",
     "output_type": "stream",
     "text": [
      "Opening raw data file ../SEED_FRA_OUTPUT/NEUTRAL/8_3_trial_7_signals.fif...\n",
      "    Range : 1572000 ... 1718000 =   1572.000 ...  1718.000 secs\n",
      "Ready.\n",
      "Reading 0 ... 146000  =      0.000 ...   146.000 secs...\n"
     ]
    },
    {
     "name": "stderr",
     "output_type": "stream",
     "text": [
      "C:\\Users\\marco\\AppData\\Local\\Temp\\ipykernel_6904\\3667833851.py:14: RuntimeWarning: This filename (../SEED_FRA_OUTPUT/NEUTRAL/8_3_trial_7_signals.fif) does not conform to MNE naming conventions. All raw files should end with raw.fif, raw_sss.fif, raw_tsss.fif, _meg.fif, _eeg.fif, _ieeg.fif, raw.fif.gz, raw_sss.fif.gz, raw_tsss.fif.gz, _meg.fif.gz, _eeg.fif.gz or _ieeg.fif.gz\n",
      "  eeg_data = mne.io.read_raw_fif(name, preload=True)\n"
     ]
    }
   ],
   "source": [
    "df_positive = get_folder_data(\"../SEED_FRA_OUTPUT/POSITIVE\", 1)\n",
    "df_negative = get_folder_data(\"../SEED_FRA_OUTPUT/NEGATIVE\", -1)\n",
    "df_neutral = get_folder_data(\"../SEED_FRA_OUTPUT/NEUTRAL\", 0)"
   ]
  },
  {
   "cell_type": "code",
   "execution_count": 51,
   "id": "9f491f3b",
   "metadata": {},
   "outputs": [
    {
     "data": {
      "text/html": [
       "<div>\n",
       "<style scoped>\n",
       "    .dataframe tbody tr th:only-of-type {\n",
       "        vertical-align: middle;\n",
       "    }\n",
       "\n",
       "    .dataframe tbody tr th {\n",
       "        vertical-align: top;\n",
       "    }\n",
       "\n",
       "    .dataframe thead th {\n",
       "        text-align: right;\n",
       "    }\n",
       "</style>\n",
       "<table border=\"1\" class=\"dataframe\">\n",
       "  <thead>\n",
       "    <tr style=\"text-align: right;\">\n",
       "      <th></th>\n",
       "      <th>mean_trial</th>\n",
       "      <th>std_trial</th>\n",
       "      <th>max_trial</th>\n",
       "      <th>min_trial</th>\n",
       "      <th>emotion</th>\n",
       "    </tr>\n",
       "  </thead>\n",
       "  <tbody>\n",
       "    <tr>\n",
       "      <th>0</th>\n",
       "      <td>0.000012</td>\n",
       "      <td>0.000007</td>\n",
       "      <td>0.000062</td>\n",
       "      <td>0.0</td>\n",
       "      <td>1</td>\n",
       "    </tr>\n",
       "    <tr>\n",
       "      <th>1</th>\n",
       "      <td>0.000012</td>\n",
       "      <td>0.000007</td>\n",
       "      <td>0.000064</td>\n",
       "      <td>0.0</td>\n",
       "      <td>1</td>\n",
       "    </tr>\n",
       "    <tr>\n",
       "      <th>2</th>\n",
       "      <td>0.000013</td>\n",
       "      <td>0.000008</td>\n",
       "      <td>0.000058</td>\n",
       "      <td>0.0</td>\n",
       "      <td>1</td>\n",
       "    </tr>\n",
       "    <tr>\n",
       "      <th>3</th>\n",
       "      <td>0.000013</td>\n",
       "      <td>0.000009</td>\n",
       "      <td>0.000094</td>\n",
       "      <td>0.0</td>\n",
       "      <td>1</td>\n",
       "    </tr>\n",
       "    <tr>\n",
       "      <th>4</th>\n",
       "      <td>0.000012</td>\n",
       "      <td>0.000007</td>\n",
       "      <td>0.000073</td>\n",
       "      <td>0.0</td>\n",
       "      <td>1</td>\n",
       "    </tr>\n",
       "    <tr>\n",
       "      <th>...</th>\n",
       "      <td>...</td>\n",
       "      <td>...</td>\n",
       "      <td>...</td>\n",
       "      <td>...</td>\n",
       "      <td>...</td>\n",
       "    </tr>\n",
       "    <tr>\n",
       "      <th>163</th>\n",
       "      <td>0.000009</td>\n",
       "      <td>0.000005</td>\n",
       "      <td>0.000075</td>\n",
       "      <td>0.0</td>\n",
       "      <td>1</td>\n",
       "    </tr>\n",
       "    <tr>\n",
       "      <th>164</th>\n",
       "      <td>0.000009</td>\n",
       "      <td>0.000006</td>\n",
       "      <td>0.000085</td>\n",
       "      <td>0.0</td>\n",
       "      <td>1</td>\n",
       "    </tr>\n",
       "    <tr>\n",
       "      <th>165</th>\n",
       "      <td>0.000009</td>\n",
       "      <td>0.000006</td>\n",
       "      <td>0.000094</td>\n",
       "      <td>0.0</td>\n",
       "      <td>1</td>\n",
       "    </tr>\n",
       "    <tr>\n",
       "      <th>166</th>\n",
       "      <td>0.000011</td>\n",
       "      <td>0.000008</td>\n",
       "      <td>0.000092</td>\n",
       "      <td>0.0</td>\n",
       "      <td>1</td>\n",
       "    </tr>\n",
       "    <tr>\n",
       "      <th>167</th>\n",
       "      <td>0.000011</td>\n",
       "      <td>0.000008</td>\n",
       "      <td>0.000139</td>\n",
       "      <td>0.0</td>\n",
       "      <td>1</td>\n",
       "    </tr>\n",
       "  </tbody>\n",
       "</table>\n",
       "<p>168 rows × 5 columns</p>\n",
       "</div>"
      ],
      "text/plain": [
       "    mean_trial std_trial max_trial min_trial emotion\n",
       "0     0.000012  0.000007  0.000062       0.0       1\n",
       "1     0.000012  0.000007  0.000064       0.0       1\n",
       "2     0.000013  0.000008  0.000058       0.0       1\n",
       "3     0.000013  0.000009  0.000094       0.0       1\n",
       "4     0.000012  0.000007  0.000073       0.0       1\n",
       "..         ...       ...       ...       ...     ...\n",
       "163   0.000009  0.000005  0.000075       0.0       1\n",
       "164   0.000009  0.000006  0.000085       0.0       1\n",
       "165   0.000009  0.000006  0.000094       0.0       1\n",
       "166   0.000011  0.000008  0.000092       0.0       1\n",
       "167   0.000011  0.000008  0.000139       0.0       1\n",
       "\n",
       "[168 rows x 5 columns]"
      ]
     },
     "execution_count": 51,
     "metadata": {},
     "output_type": "execute_result"
    }
   ],
   "source": [
    "df_positive"
   ]
  },
  {
   "cell_type": "code",
   "execution_count": 52,
   "id": "fa2beb95",
   "metadata": {},
   "outputs": [
    {
     "data": {
      "text/html": [
       "<div>\n",
       "<style scoped>\n",
       "    .dataframe tbody tr th:only-of-type {\n",
       "        vertical-align: middle;\n",
       "    }\n",
       "\n",
       "    .dataframe tbody tr th {\n",
       "        vertical-align: top;\n",
       "    }\n",
       "\n",
       "    .dataframe thead th {\n",
       "        text-align: right;\n",
       "    }\n",
       "</style>\n",
       "<table border=\"1\" class=\"dataframe\">\n",
       "  <thead>\n",
       "    <tr style=\"text-align: right;\">\n",
       "      <th></th>\n",
       "      <th>mean_trial</th>\n",
       "      <th>std_trial</th>\n",
       "      <th>max_trial</th>\n",
       "      <th>min_trial</th>\n",
       "      <th>emotion</th>\n",
       "    </tr>\n",
       "  </thead>\n",
       "  <tbody>\n",
       "    <tr>\n",
       "      <th>0</th>\n",
       "      <td>0.000013</td>\n",
       "      <td>0.000008</td>\n",
       "      <td>0.000071</td>\n",
       "      <td>0.0</td>\n",
       "      <td>-1</td>\n",
       "    </tr>\n",
       "    <tr>\n",
       "      <th>1</th>\n",
       "      <td>0.000011</td>\n",
       "      <td>0.000007</td>\n",
       "      <td>0.000061</td>\n",
       "      <td>0.0</td>\n",
       "      <td>-1</td>\n",
       "    </tr>\n",
       "    <tr>\n",
       "      <th>2</th>\n",
       "      <td>0.000011</td>\n",
       "      <td>0.000007</td>\n",
       "      <td>0.000066</td>\n",
       "      <td>0.0</td>\n",
       "      <td>-1</td>\n",
       "    </tr>\n",
       "    <tr>\n",
       "      <th>3</th>\n",
       "      <td>0.000012</td>\n",
       "      <td>0.000008</td>\n",
       "      <td>0.000077</td>\n",
       "      <td>0.0</td>\n",
       "      <td>-1</td>\n",
       "    </tr>\n",
       "    <tr>\n",
       "      <th>4</th>\n",
       "      <td>0.000012</td>\n",
       "      <td>0.000008</td>\n",
       "      <td>0.000078</td>\n",
       "      <td>0.0</td>\n",
       "      <td>-1</td>\n",
       "    </tr>\n",
       "    <tr>\n",
       "      <th>...</th>\n",
       "      <td>...</td>\n",
       "      <td>...</td>\n",
       "      <td>...</td>\n",
       "      <td>...</td>\n",
       "      <td>...</td>\n",
       "    </tr>\n",
       "    <tr>\n",
       "      <th>163</th>\n",
       "      <td>0.000008</td>\n",
       "      <td>0.000005</td>\n",
       "      <td>0.000045</td>\n",
       "      <td>0.0</td>\n",
       "      <td>-1</td>\n",
       "    </tr>\n",
       "    <tr>\n",
       "      <th>164</th>\n",
       "      <td>0.000024</td>\n",
       "      <td>0.00002</td>\n",
       "      <td>0.000162</td>\n",
       "      <td>0.0</td>\n",
       "      <td>-1</td>\n",
       "    </tr>\n",
       "    <tr>\n",
       "      <th>165</th>\n",
       "      <td>0.00001</td>\n",
       "      <td>0.000006</td>\n",
       "      <td>0.000097</td>\n",
       "      <td>0.0</td>\n",
       "      <td>-1</td>\n",
       "    </tr>\n",
       "    <tr>\n",
       "      <th>166</th>\n",
       "      <td>0.00001</td>\n",
       "      <td>0.000007</td>\n",
       "      <td>0.000144</td>\n",
       "      <td>0.0</td>\n",
       "      <td>-1</td>\n",
       "    </tr>\n",
       "    <tr>\n",
       "      <th>167</th>\n",
       "      <td>0.00001</td>\n",
       "      <td>0.000006</td>\n",
       "      <td>0.000057</td>\n",
       "      <td>0.0</td>\n",
       "      <td>-1</td>\n",
       "    </tr>\n",
       "  </tbody>\n",
       "</table>\n",
       "<p>168 rows × 5 columns</p>\n",
       "</div>"
      ],
      "text/plain": [
       "    mean_trial std_trial max_trial min_trial emotion\n",
       "0     0.000013  0.000008  0.000071       0.0      -1\n",
       "1     0.000011  0.000007  0.000061       0.0      -1\n",
       "2     0.000011  0.000007  0.000066       0.0      -1\n",
       "3     0.000012  0.000008  0.000077       0.0      -1\n",
       "4     0.000012  0.000008  0.000078       0.0      -1\n",
       "..         ...       ...       ...       ...     ...\n",
       "163   0.000008  0.000005  0.000045       0.0      -1\n",
       "164   0.000024   0.00002  0.000162       0.0      -1\n",
       "165    0.00001  0.000006  0.000097       0.0      -1\n",
       "166    0.00001  0.000007  0.000144       0.0      -1\n",
       "167    0.00001  0.000006  0.000057       0.0      -1\n",
       "\n",
       "[168 rows x 5 columns]"
      ]
     },
     "execution_count": 52,
     "metadata": {},
     "output_type": "execute_result"
    }
   ],
   "source": [
    "df_negative"
   ]
  },
  {
   "cell_type": "code",
   "execution_count": 53,
   "id": "9d814aa0",
   "metadata": {},
   "outputs": [
    {
     "data": {
      "text/html": [
       "<div>\n",
       "<style scoped>\n",
       "    .dataframe tbody tr th:only-of-type {\n",
       "        vertical-align: middle;\n",
       "    }\n",
       "\n",
       "    .dataframe tbody tr th {\n",
       "        vertical-align: top;\n",
       "    }\n",
       "\n",
       "    .dataframe thead th {\n",
       "        text-align: right;\n",
       "    }\n",
       "</style>\n",
       "<table border=\"1\" class=\"dataframe\">\n",
       "  <thead>\n",
       "    <tr style=\"text-align: right;\">\n",
       "      <th></th>\n",
       "      <th>mean_trial</th>\n",
       "      <th>std_trial</th>\n",
       "      <th>max_trial</th>\n",
       "      <th>min_trial</th>\n",
       "      <th>emotion</th>\n",
       "    </tr>\n",
       "  </thead>\n",
       "  <tbody>\n",
       "    <tr>\n",
       "      <th>0</th>\n",
       "      <td>0.000013</td>\n",
       "      <td>0.000009</td>\n",
       "      <td>0.000095</td>\n",
       "      <td>0.0</td>\n",
       "      <td>0</td>\n",
       "    </tr>\n",
       "    <tr>\n",
       "      <th>1</th>\n",
       "      <td>0.000013</td>\n",
       "      <td>0.000008</td>\n",
       "      <td>0.000076</td>\n",
       "      <td>0.0</td>\n",
       "      <td>0</td>\n",
       "    </tr>\n",
       "    <tr>\n",
       "      <th>2</th>\n",
       "      <td>0.000013</td>\n",
       "      <td>0.000009</td>\n",
       "      <td>0.000095</td>\n",
       "      <td>0.0</td>\n",
       "      <td>0</td>\n",
       "    </tr>\n",
       "    <tr>\n",
       "      <th>3</th>\n",
       "      <td>0.000014</td>\n",
       "      <td>0.000009</td>\n",
       "      <td>0.00008</td>\n",
       "      <td>0.0</td>\n",
       "      <td>0</td>\n",
       "    </tr>\n",
       "    <tr>\n",
       "      <th>4</th>\n",
       "      <td>0.000013</td>\n",
       "      <td>0.000008</td>\n",
       "      <td>0.000086</td>\n",
       "      <td>0.0</td>\n",
       "      <td>0</td>\n",
       "    </tr>\n",
       "    <tr>\n",
       "      <th>...</th>\n",
       "      <td>...</td>\n",
       "      <td>...</td>\n",
       "      <td>...</td>\n",
       "      <td>...</td>\n",
       "      <td>...</td>\n",
       "    </tr>\n",
       "    <tr>\n",
       "      <th>163</th>\n",
       "      <td>0.000009</td>\n",
       "      <td>0.000006</td>\n",
       "      <td>0.000098</td>\n",
       "      <td>0.0</td>\n",
       "      <td>0</td>\n",
       "    </tr>\n",
       "    <tr>\n",
       "      <th>164</th>\n",
       "      <td>0.000008</td>\n",
       "      <td>0.000005</td>\n",
       "      <td>0.000043</td>\n",
       "      <td>0.0</td>\n",
       "      <td>0</td>\n",
       "    </tr>\n",
       "    <tr>\n",
       "      <th>165</th>\n",
       "      <td>0.000012</td>\n",
       "      <td>0.000008</td>\n",
       "      <td>0.000098</td>\n",
       "      <td>0.0</td>\n",
       "      <td>0</td>\n",
       "    </tr>\n",
       "    <tr>\n",
       "      <th>166</th>\n",
       "      <td>0.000012</td>\n",
       "      <td>0.000009</td>\n",
       "      <td>0.000111</td>\n",
       "      <td>0.0</td>\n",
       "      <td>0</td>\n",
       "    </tr>\n",
       "    <tr>\n",
       "      <th>167</th>\n",
       "      <td>0.000009</td>\n",
       "      <td>0.000006</td>\n",
       "      <td>0.000085</td>\n",
       "      <td>0.0</td>\n",
       "      <td>0</td>\n",
       "    </tr>\n",
       "  </tbody>\n",
       "</table>\n",
       "<p>168 rows × 5 columns</p>\n",
       "</div>"
      ],
      "text/plain": [
       "    mean_trial std_trial max_trial min_trial emotion\n",
       "0     0.000013  0.000009  0.000095       0.0       0\n",
       "1     0.000013  0.000008  0.000076       0.0       0\n",
       "2     0.000013  0.000009  0.000095       0.0       0\n",
       "3     0.000014  0.000009   0.00008       0.0       0\n",
       "4     0.000013  0.000008  0.000086       0.0       0\n",
       "..         ...       ...       ...       ...     ...\n",
       "163   0.000009  0.000006  0.000098       0.0       0\n",
       "164   0.000008  0.000005  0.000043       0.0       0\n",
       "165   0.000012  0.000008  0.000098       0.0       0\n",
       "166   0.000012  0.000009  0.000111       0.0       0\n",
       "167   0.000009  0.000006  0.000085       0.0       0\n",
       "\n",
       "[168 rows x 5 columns]"
      ]
     },
     "execution_count": 53,
     "metadata": {},
     "output_type": "execute_result"
    }
   ],
   "source": [
    "df_neutral"
   ]
  },
  {
   "cell_type": "code",
   "execution_count": 54,
   "id": "1673ff8a",
   "metadata": {},
   "outputs": [
    {
     "data": {
      "text/plain": [
       "1.194411942005399e-05"
      ]
     },
     "execution_count": 54,
     "metadata": {},
     "output_type": "execute_result"
    }
   ],
   "source": [
    "df_positive['mean_trial'][0]"
   ]
  },
  {
   "cell_type": "code",
   "execution_count": null,
   "id": "c8ef5b94",
   "metadata": {},
   "outputs": [],
   "source": [
    "features"
   ]
  },
  {
   "cell_type": "code",
   "execution_count": 55,
   "id": "e2bfeb51",
   "metadata": {},
   "outputs": [
    {
     "data": {
      "text/html": [
       "<div>\n",
       "<style scoped>\n",
       "    .dataframe tbody tr th:only-of-type {\n",
       "        vertical-align: middle;\n",
       "    }\n",
       "\n",
       "    .dataframe tbody tr th {\n",
       "        vertical-align: top;\n",
       "    }\n",
       "\n",
       "    .dataframe thead th {\n",
       "        text-align: right;\n",
       "    }\n",
       "</style>\n",
       "<table border=\"1\" class=\"dataframe\">\n",
       "  <thead>\n",
       "    <tr style=\"text-align: right;\">\n",
       "      <th></th>\n",
       "      <th>mean_trial</th>\n",
       "      <th>std_trial</th>\n",
       "      <th>max_trial</th>\n",
       "      <th>min_trial</th>\n",
       "      <th>emotion</th>\n",
       "    </tr>\n",
       "  </thead>\n",
       "  <tbody>\n",
       "    <tr>\n",
       "      <th>0</th>\n",
       "      <td>0.000012</td>\n",
       "      <td>0.000007</td>\n",
       "      <td>0.000062</td>\n",
       "      <td>0.0</td>\n",
       "      <td>1</td>\n",
       "    </tr>\n",
       "    <tr>\n",
       "      <th>1</th>\n",
       "      <td>0.000012</td>\n",
       "      <td>0.000007</td>\n",
       "      <td>0.000064</td>\n",
       "      <td>0.0</td>\n",
       "      <td>1</td>\n",
       "    </tr>\n",
       "    <tr>\n",
       "      <th>2</th>\n",
       "      <td>0.000013</td>\n",
       "      <td>0.000008</td>\n",
       "      <td>0.000058</td>\n",
       "      <td>0.0</td>\n",
       "      <td>1</td>\n",
       "    </tr>\n",
       "    <tr>\n",
       "      <th>3</th>\n",
       "      <td>0.000013</td>\n",
       "      <td>0.000009</td>\n",
       "      <td>0.000094</td>\n",
       "      <td>0.0</td>\n",
       "      <td>1</td>\n",
       "    </tr>\n",
       "    <tr>\n",
       "      <th>4</th>\n",
       "      <td>0.000012</td>\n",
       "      <td>0.000007</td>\n",
       "      <td>0.000073</td>\n",
       "      <td>0.0</td>\n",
       "      <td>1</td>\n",
       "    </tr>\n",
       "    <tr>\n",
       "      <th>...</th>\n",
       "      <td>...</td>\n",
       "      <td>...</td>\n",
       "      <td>...</td>\n",
       "      <td>...</td>\n",
       "      <td>...</td>\n",
       "    </tr>\n",
       "    <tr>\n",
       "      <th>499</th>\n",
       "      <td>0.000009</td>\n",
       "      <td>0.000006</td>\n",
       "      <td>0.000098</td>\n",
       "      <td>0.0</td>\n",
       "      <td>0</td>\n",
       "    </tr>\n",
       "    <tr>\n",
       "      <th>500</th>\n",
       "      <td>0.000008</td>\n",
       "      <td>0.000005</td>\n",
       "      <td>0.000043</td>\n",
       "      <td>0.0</td>\n",
       "      <td>0</td>\n",
       "    </tr>\n",
       "    <tr>\n",
       "      <th>501</th>\n",
       "      <td>0.000012</td>\n",
       "      <td>0.000008</td>\n",
       "      <td>0.000098</td>\n",
       "      <td>0.0</td>\n",
       "      <td>0</td>\n",
       "    </tr>\n",
       "    <tr>\n",
       "      <th>502</th>\n",
       "      <td>0.000012</td>\n",
       "      <td>0.000009</td>\n",
       "      <td>0.000111</td>\n",
       "      <td>0.0</td>\n",
       "      <td>0</td>\n",
       "    </tr>\n",
       "    <tr>\n",
       "      <th>503</th>\n",
       "      <td>0.000009</td>\n",
       "      <td>0.000006</td>\n",
       "      <td>0.000085</td>\n",
       "      <td>0.0</td>\n",
       "      <td>0</td>\n",
       "    </tr>\n",
       "  </tbody>\n",
       "</table>\n",
       "<p>504 rows × 5 columns</p>\n",
       "</div>"
      ],
      "text/plain": [
       "    mean_trial std_trial max_trial min_trial emotion\n",
       "0     0.000012  0.000007  0.000062       0.0       1\n",
       "1     0.000012  0.000007  0.000064       0.0       1\n",
       "2     0.000013  0.000008  0.000058       0.0       1\n",
       "3     0.000013  0.000009  0.000094       0.0       1\n",
       "4     0.000012  0.000007  0.000073       0.0       1\n",
       "..         ...       ...       ...       ...     ...\n",
       "499   0.000009  0.000006  0.000098       0.0       0\n",
       "500   0.000008  0.000005  0.000043       0.0       0\n",
       "501   0.000012  0.000008  0.000098       0.0       0\n",
       "502   0.000012  0.000009  0.000111       0.0       0\n",
       "503   0.000009  0.000006  0.000085       0.0       0\n",
       "\n",
       "[504 rows x 5 columns]"
      ]
     },
     "execution_count": 55,
     "metadata": {},
     "output_type": "execute_result"
    }
   ],
   "source": [
    "df_total = pd.concat([df_positive, df_negative, df_neutral], ignore_index=True)\n",
    "df_total"
   ]
  },
  {
   "cell_type": "code",
   "execution_count": 56,
   "id": "f4e5e607",
   "metadata": {},
   "outputs": [],
   "source": [
    "#Guardando csv\n",
    "df_total.to_csv('data_for_model.csv', index=False)"
   ]
  },
  {
   "cell_type": "code",
   "execution_count": 81,
   "id": "a7ccb50e",
   "metadata": {},
   "outputs": [],
   "source": [
    "df_total = pd.read_csv('data_for_model_2.csv')"
   ]
  },
  {
   "cell_type": "code",
   "execution_count": 82,
   "id": "ba1f54bc",
   "metadata": {},
   "outputs": [
    {
     "data": {
      "text/plain": [
       "mean_trial      float64\n",
       "std_trial       float64\n",
       "max_trial       float64\n",
       "min_trial       float64\n",
       "mean_trial_i    float64\n",
       "std_trial_i     float64\n",
       "max_trial_i     float64\n",
       "min_trial_i     float64\n",
       "emotion           int64\n",
       "dtype: object"
      ]
     },
     "execution_count": 82,
     "metadata": {},
     "output_type": "execute_result"
    }
   ],
   "source": [
    "df_total.dtypes"
   ]
  },
  {
   "cell_type": "code",
   "execution_count": 83,
   "id": "5ee35f37",
   "metadata": {},
   "outputs": [],
   "source": [
    "df_total = df_total.astype(float)"
   ]
  },
  {
   "cell_type": "code",
   "execution_count": 84,
   "id": "4c8efb4b",
   "metadata": {},
   "outputs": [],
   "source": [
    "from sklearn.model_selection import train_test_split\n",
    "\n",
    "X = df_total.drop([\"emotion\"], axis=1)\n",
    "y = df_total.emotion\n",
    "\n",
    "X_train, X_test, y_train, y_test = train_test_split(X, y, test_size=0.2, random_state=42)"
   ]
  },
  {
   "cell_type": "code",
   "execution_count": 85,
   "id": "b7e85659",
   "metadata": {},
   "outputs": [
    {
     "data": {
      "text/html": [
       "<style>#sk-container-id-12 {color: black;background-color: white;}#sk-container-id-12 pre{padding: 0;}#sk-container-id-12 div.sk-toggleable {background-color: white;}#sk-container-id-12 label.sk-toggleable__label {cursor: pointer;display: block;width: 100%;margin-bottom: 0;padding: 0.3em;box-sizing: border-box;text-align: center;}#sk-container-id-12 label.sk-toggleable__label-arrow:before {content: \"▸\";float: left;margin-right: 0.25em;color: #696969;}#sk-container-id-12 label.sk-toggleable__label-arrow:hover:before {color: black;}#sk-container-id-12 div.sk-estimator:hover label.sk-toggleable__label-arrow:before {color: black;}#sk-container-id-12 div.sk-toggleable__content {max-height: 0;max-width: 0;overflow: hidden;text-align: left;background-color: #f0f8ff;}#sk-container-id-12 div.sk-toggleable__content pre {margin: 0.2em;color: black;border-radius: 0.25em;background-color: #f0f8ff;}#sk-container-id-12 input.sk-toggleable__control:checked~div.sk-toggleable__content {max-height: 200px;max-width: 100%;overflow: auto;}#sk-container-id-12 input.sk-toggleable__control:checked~label.sk-toggleable__label-arrow:before {content: \"▾\";}#sk-container-id-12 div.sk-estimator input.sk-toggleable__control:checked~label.sk-toggleable__label {background-color: #d4ebff;}#sk-container-id-12 div.sk-label input.sk-toggleable__control:checked~label.sk-toggleable__label {background-color: #d4ebff;}#sk-container-id-12 input.sk-hidden--visually {border: 0;clip: rect(1px 1px 1px 1px);clip: rect(1px, 1px, 1px, 1px);height: 1px;margin: -1px;overflow: hidden;padding: 0;position: absolute;width: 1px;}#sk-container-id-12 div.sk-estimator {font-family: monospace;background-color: #f0f8ff;border: 1px dotted black;border-radius: 0.25em;box-sizing: border-box;margin-bottom: 0.5em;}#sk-container-id-12 div.sk-estimator:hover {background-color: #d4ebff;}#sk-container-id-12 div.sk-parallel-item::after {content: \"\";width: 100%;border-bottom: 1px solid gray;flex-grow: 1;}#sk-container-id-12 div.sk-label:hover label.sk-toggleable__label {background-color: #d4ebff;}#sk-container-id-12 div.sk-serial::before {content: \"\";position: absolute;border-left: 1px solid gray;box-sizing: border-box;top: 0;bottom: 0;left: 50%;z-index: 0;}#sk-container-id-12 div.sk-serial {display: flex;flex-direction: column;align-items: center;background-color: white;padding-right: 0.2em;padding-left: 0.2em;position: relative;}#sk-container-id-12 div.sk-item {position: relative;z-index: 1;}#sk-container-id-12 div.sk-parallel {display: flex;align-items: stretch;justify-content: center;background-color: white;position: relative;}#sk-container-id-12 div.sk-item::before, #sk-container-id-12 div.sk-parallel-item::before {content: \"\";position: absolute;border-left: 1px solid gray;box-sizing: border-box;top: 0;bottom: 0;left: 50%;z-index: -1;}#sk-container-id-12 div.sk-parallel-item {display: flex;flex-direction: column;z-index: 1;position: relative;background-color: white;}#sk-container-id-12 div.sk-parallel-item:first-child::after {align-self: flex-end;width: 50%;}#sk-container-id-12 div.sk-parallel-item:last-child::after {align-self: flex-start;width: 50%;}#sk-container-id-12 div.sk-parallel-item:only-child::after {width: 0;}#sk-container-id-12 div.sk-dashed-wrapped {border: 1px dashed gray;margin: 0 0.4em 0.5em 0.4em;box-sizing: border-box;padding-bottom: 0.4em;background-color: white;}#sk-container-id-12 div.sk-label label {font-family: monospace;font-weight: bold;display: inline-block;line-height: 1.2em;}#sk-container-id-12 div.sk-label-container {text-align: center;}#sk-container-id-12 div.sk-container {/* jupyter's `normalize.less` sets `[hidden] { display: none; }` but bootstrap.min.css set `[hidden] { display: none !important; }` so we also need the `!important` here to be able to override the default hidden behavior on the sphinx rendered scikit-learn.org. See: https://github.com/scikit-learn/scikit-learn/issues/21755 */display: inline-block !important;position: relative;}#sk-container-id-12 div.sk-text-repr-fallback {display: none;}</style><div id=\"sk-container-id-12\" class=\"sk-top-container\"><div class=\"sk-text-repr-fallback\"><pre>SVC()</pre><b>In a Jupyter environment, please rerun this cell to show the HTML representation or trust the notebook. <br />On GitHub, the HTML representation is unable to render, please try loading this page with nbviewer.org.</b></div><div class=\"sk-container\" hidden><div class=\"sk-item\"><div class=\"sk-estimator sk-toggleable\"><input class=\"sk-toggleable__control sk-hidden--visually\" id=\"sk-estimator-id-12\" type=\"checkbox\" checked><label for=\"sk-estimator-id-12\" class=\"sk-toggleable__label sk-toggleable__label-arrow\">SVC</label><div class=\"sk-toggleable__content\"><pre>SVC()</pre></div></div></div></div></div>"
      ],
      "text/plain": [
       "SVC()"
      ]
     },
     "execution_count": 85,
     "metadata": {},
     "output_type": "execute_result"
    }
   ],
   "source": [
    "from sklearn.svm import SVC\n",
    "\n",
    "model = SVC()\n",
    "model.fit(X_train, y_train)"
   ]
  },
  {
   "cell_type": "code",
   "execution_count": 86,
   "id": "1a2cb181",
   "metadata": {},
   "outputs": [
    {
     "name": "stdout",
     "output_type": "stream",
     "text": [
      "Accuracy: 0.3564356435643564\n"
     ]
    }
   ],
   "source": [
    "accuracy = model.score(X_test, y_test)\n",
    "print(\"Accuracy:\", accuracy)"
   ]
  },
  {
   "cell_type": "code",
   "execution_count": 87,
   "id": "4f500990",
   "metadata": {},
   "outputs": [
    {
     "data": {
      "text/html": [
       "<style>#sk-container-id-13 {color: black;background-color: white;}#sk-container-id-13 pre{padding: 0;}#sk-container-id-13 div.sk-toggleable {background-color: white;}#sk-container-id-13 label.sk-toggleable__label {cursor: pointer;display: block;width: 100%;margin-bottom: 0;padding: 0.3em;box-sizing: border-box;text-align: center;}#sk-container-id-13 label.sk-toggleable__label-arrow:before {content: \"▸\";float: left;margin-right: 0.25em;color: #696969;}#sk-container-id-13 label.sk-toggleable__label-arrow:hover:before {color: black;}#sk-container-id-13 div.sk-estimator:hover label.sk-toggleable__label-arrow:before {color: black;}#sk-container-id-13 div.sk-toggleable__content {max-height: 0;max-width: 0;overflow: hidden;text-align: left;background-color: #f0f8ff;}#sk-container-id-13 div.sk-toggleable__content pre {margin: 0.2em;color: black;border-radius: 0.25em;background-color: #f0f8ff;}#sk-container-id-13 input.sk-toggleable__control:checked~div.sk-toggleable__content {max-height: 200px;max-width: 100%;overflow: auto;}#sk-container-id-13 input.sk-toggleable__control:checked~label.sk-toggleable__label-arrow:before {content: \"▾\";}#sk-container-id-13 div.sk-estimator input.sk-toggleable__control:checked~label.sk-toggleable__label {background-color: #d4ebff;}#sk-container-id-13 div.sk-label input.sk-toggleable__control:checked~label.sk-toggleable__label {background-color: #d4ebff;}#sk-container-id-13 input.sk-hidden--visually {border: 0;clip: rect(1px 1px 1px 1px);clip: rect(1px, 1px, 1px, 1px);height: 1px;margin: -1px;overflow: hidden;padding: 0;position: absolute;width: 1px;}#sk-container-id-13 div.sk-estimator {font-family: monospace;background-color: #f0f8ff;border: 1px dotted black;border-radius: 0.25em;box-sizing: border-box;margin-bottom: 0.5em;}#sk-container-id-13 div.sk-estimator:hover {background-color: #d4ebff;}#sk-container-id-13 div.sk-parallel-item::after {content: \"\";width: 100%;border-bottom: 1px solid gray;flex-grow: 1;}#sk-container-id-13 div.sk-label:hover label.sk-toggleable__label {background-color: #d4ebff;}#sk-container-id-13 div.sk-serial::before {content: \"\";position: absolute;border-left: 1px solid gray;box-sizing: border-box;top: 0;bottom: 0;left: 50%;z-index: 0;}#sk-container-id-13 div.sk-serial {display: flex;flex-direction: column;align-items: center;background-color: white;padding-right: 0.2em;padding-left: 0.2em;position: relative;}#sk-container-id-13 div.sk-item {position: relative;z-index: 1;}#sk-container-id-13 div.sk-parallel {display: flex;align-items: stretch;justify-content: center;background-color: white;position: relative;}#sk-container-id-13 div.sk-item::before, #sk-container-id-13 div.sk-parallel-item::before {content: \"\";position: absolute;border-left: 1px solid gray;box-sizing: border-box;top: 0;bottom: 0;left: 50%;z-index: -1;}#sk-container-id-13 div.sk-parallel-item {display: flex;flex-direction: column;z-index: 1;position: relative;background-color: white;}#sk-container-id-13 div.sk-parallel-item:first-child::after {align-self: flex-end;width: 50%;}#sk-container-id-13 div.sk-parallel-item:last-child::after {align-self: flex-start;width: 50%;}#sk-container-id-13 div.sk-parallel-item:only-child::after {width: 0;}#sk-container-id-13 div.sk-dashed-wrapped {border: 1px dashed gray;margin: 0 0.4em 0.5em 0.4em;box-sizing: border-box;padding-bottom: 0.4em;background-color: white;}#sk-container-id-13 div.sk-label label {font-family: monospace;font-weight: bold;display: inline-block;line-height: 1.2em;}#sk-container-id-13 div.sk-label-container {text-align: center;}#sk-container-id-13 div.sk-container {/* jupyter's `normalize.less` sets `[hidden] { display: none; }` but bootstrap.min.css set `[hidden] { display: none !important; }` so we also need the `!important` here to be able to override the default hidden behavior on the sphinx rendered scikit-learn.org. See: https://github.com/scikit-learn/scikit-learn/issues/21755 */display: inline-block !important;position: relative;}#sk-container-id-13 div.sk-text-repr-fallback {display: none;}</style><div id=\"sk-container-id-13\" class=\"sk-top-container\"><div class=\"sk-text-repr-fallback\"><pre>LogisticRegression()</pre><b>In a Jupyter environment, please rerun this cell to show the HTML representation or trust the notebook. <br />On GitHub, the HTML representation is unable to render, please try loading this page with nbviewer.org.</b></div><div class=\"sk-container\" hidden><div class=\"sk-item\"><div class=\"sk-estimator sk-toggleable\"><input class=\"sk-toggleable__control sk-hidden--visually\" id=\"sk-estimator-id-13\" type=\"checkbox\" checked><label for=\"sk-estimator-id-13\" class=\"sk-toggleable__label sk-toggleable__label-arrow\">LogisticRegression</label><div class=\"sk-toggleable__content\"><pre>LogisticRegression()</pre></div></div></div></div></div>"
      ],
      "text/plain": [
       "LogisticRegression()"
      ]
     },
     "execution_count": 87,
     "metadata": {},
     "output_type": "execute_result"
    }
   ],
   "source": [
    "from sklearn.linear_model import LogisticRegression\n",
    "\n",
    "clf = LogisticRegression()\n",
    "clf.fit(X_train, y_train)"
   ]
  },
  {
   "cell_type": "code",
   "execution_count": 89,
   "id": "5bfd7ea0",
   "metadata": {},
   "outputs": [
    {
     "name": "stdout",
     "output_type": "stream",
     "text": [
      "Accuracy: 0.297029702970297\n"
     ]
    }
   ],
   "source": [
    "accuracy = clf.score(X_test, y_test)\n",
    "print(\"Accuracy:\", accuracy)"
   ]
  },
  {
   "cell_type": "code",
   "execution_count": 90,
   "id": "40f2df32",
   "metadata": {},
   "outputs": [
    {
     "data": {
      "text/html": [
       "<style>#sk-container-id-14 {color: black;background-color: white;}#sk-container-id-14 pre{padding: 0;}#sk-container-id-14 div.sk-toggleable {background-color: white;}#sk-container-id-14 label.sk-toggleable__label {cursor: pointer;display: block;width: 100%;margin-bottom: 0;padding: 0.3em;box-sizing: border-box;text-align: center;}#sk-container-id-14 label.sk-toggleable__label-arrow:before {content: \"▸\";float: left;margin-right: 0.25em;color: #696969;}#sk-container-id-14 label.sk-toggleable__label-arrow:hover:before {color: black;}#sk-container-id-14 div.sk-estimator:hover label.sk-toggleable__label-arrow:before {color: black;}#sk-container-id-14 div.sk-toggleable__content {max-height: 0;max-width: 0;overflow: hidden;text-align: left;background-color: #f0f8ff;}#sk-container-id-14 div.sk-toggleable__content pre {margin: 0.2em;color: black;border-radius: 0.25em;background-color: #f0f8ff;}#sk-container-id-14 input.sk-toggleable__control:checked~div.sk-toggleable__content {max-height: 200px;max-width: 100%;overflow: auto;}#sk-container-id-14 input.sk-toggleable__control:checked~label.sk-toggleable__label-arrow:before {content: \"▾\";}#sk-container-id-14 div.sk-estimator input.sk-toggleable__control:checked~label.sk-toggleable__label {background-color: #d4ebff;}#sk-container-id-14 div.sk-label input.sk-toggleable__control:checked~label.sk-toggleable__label {background-color: #d4ebff;}#sk-container-id-14 input.sk-hidden--visually {border: 0;clip: rect(1px 1px 1px 1px);clip: rect(1px, 1px, 1px, 1px);height: 1px;margin: -1px;overflow: hidden;padding: 0;position: absolute;width: 1px;}#sk-container-id-14 div.sk-estimator {font-family: monospace;background-color: #f0f8ff;border: 1px dotted black;border-radius: 0.25em;box-sizing: border-box;margin-bottom: 0.5em;}#sk-container-id-14 div.sk-estimator:hover {background-color: #d4ebff;}#sk-container-id-14 div.sk-parallel-item::after {content: \"\";width: 100%;border-bottom: 1px solid gray;flex-grow: 1;}#sk-container-id-14 div.sk-label:hover label.sk-toggleable__label {background-color: #d4ebff;}#sk-container-id-14 div.sk-serial::before {content: \"\";position: absolute;border-left: 1px solid gray;box-sizing: border-box;top: 0;bottom: 0;left: 50%;z-index: 0;}#sk-container-id-14 div.sk-serial {display: flex;flex-direction: column;align-items: center;background-color: white;padding-right: 0.2em;padding-left: 0.2em;position: relative;}#sk-container-id-14 div.sk-item {position: relative;z-index: 1;}#sk-container-id-14 div.sk-parallel {display: flex;align-items: stretch;justify-content: center;background-color: white;position: relative;}#sk-container-id-14 div.sk-item::before, #sk-container-id-14 div.sk-parallel-item::before {content: \"\";position: absolute;border-left: 1px solid gray;box-sizing: border-box;top: 0;bottom: 0;left: 50%;z-index: -1;}#sk-container-id-14 div.sk-parallel-item {display: flex;flex-direction: column;z-index: 1;position: relative;background-color: white;}#sk-container-id-14 div.sk-parallel-item:first-child::after {align-self: flex-end;width: 50%;}#sk-container-id-14 div.sk-parallel-item:last-child::after {align-self: flex-start;width: 50%;}#sk-container-id-14 div.sk-parallel-item:only-child::after {width: 0;}#sk-container-id-14 div.sk-dashed-wrapped {border: 1px dashed gray;margin: 0 0.4em 0.5em 0.4em;box-sizing: border-box;padding-bottom: 0.4em;background-color: white;}#sk-container-id-14 div.sk-label label {font-family: monospace;font-weight: bold;display: inline-block;line-height: 1.2em;}#sk-container-id-14 div.sk-label-container {text-align: center;}#sk-container-id-14 div.sk-container {/* jupyter's `normalize.less` sets `[hidden] { display: none; }` but bootstrap.min.css set `[hidden] { display: none !important; }` so we also need the `!important` here to be able to override the default hidden behavior on the sphinx rendered scikit-learn.org. See: https://github.com/scikit-learn/scikit-learn/issues/21755 */display: inline-block !important;position: relative;}#sk-container-id-14 div.sk-text-repr-fallback {display: none;}</style><div id=\"sk-container-id-14\" class=\"sk-top-container\"><div class=\"sk-text-repr-fallback\"><pre>GaussianNB()</pre><b>In a Jupyter environment, please rerun this cell to show the HTML representation or trust the notebook. <br />On GitHub, the HTML representation is unable to render, please try loading this page with nbviewer.org.</b></div><div class=\"sk-container\" hidden><div class=\"sk-item\"><div class=\"sk-estimator sk-toggleable\"><input class=\"sk-toggleable__control sk-hidden--visually\" id=\"sk-estimator-id-14\" type=\"checkbox\" checked><label for=\"sk-estimator-id-14\" class=\"sk-toggleable__label sk-toggleable__label-arrow\">GaussianNB</label><div class=\"sk-toggleable__content\"><pre>GaussianNB()</pre></div></div></div></div></div>"
      ],
      "text/plain": [
       "GaussianNB()"
      ]
     },
     "execution_count": 90,
     "metadata": {},
     "output_type": "execute_result"
    }
   ],
   "source": [
    "from sklearn.naive_bayes import GaussianNB\n",
    "\n",
    "gNB = GaussianNB()\n",
    "gNB.fit(X_train, y_train)"
   ]
  },
  {
   "cell_type": "code",
   "execution_count": 91,
   "id": "856fc19a",
   "metadata": {},
   "outputs": [
    {
     "name": "stdout",
     "output_type": "stream",
     "text": [
      "Precisión del modelo: 35.64%\n"
     ]
    }
   ],
   "source": [
    "accuracy = gNB.score(X_test, y_test)\n",
    "print(\"Precisión del modelo: {:.2f}%\".format(accuracy*100))"
   ]
  },
  {
   "cell_type": "code",
   "execution_count": 93,
   "id": "3240c1ec",
   "metadata": {},
   "outputs": [
    {
     "name": "stdout",
     "output_type": "stream",
     "text": [
      "Opening raw data file ../SEED_FRA_OUTPUT/POSITIVE/1_1_trial_0_signals.fif...\n",
      "    Range : 21000 ... 193000 =     21.000 ...   193.000 secs\n",
      "Ready.\n",
      "Reading 0 ... 172000  =      0.000 ...   172.000 secs...\n"
     ]
    },
    {
     "name": "stderr",
     "output_type": "stream",
     "text": [
      "C:\\Users\\marco\\AppData\\Local\\Temp\\ipykernel_6904\\2599999032.py:1: RuntimeWarning: This filename (../SEED_FRA_OUTPUT/POSITIVE/1_1_trial_0_signals.fif) does not conform to MNE naming conventions. All raw files should end with raw.fif, raw_sss.fif, raw_tsss.fif, _meg.fif, _eeg.fif, _ieeg.fif, raw.fif.gz, raw_sss.fif.gz, raw_tsss.fif.gz, _meg.fif.gz, _eeg.fif.gz or _ieeg.fif.gz\n",
      "  eeg_data = mne.io.read_raw_fif(\"../SEED_FRA_OUTPUT/POSITIVE/1_1_trial_0_signals.fif\", preload=True)\n"
     ]
    },
    {
     "data": {
      "text/plain": [
       "array([[1.82471730e-05, 1.45351186e-05, 1.29381182e-04, 2.61849569e-08],\n",
       "       [1.73157280e-05, 1.21239518e-05, 9.95016221e-05, 1.39091940e-08],\n",
       "       [1.76477237e-05, 1.24551339e-05, 1.00954722e-04, 5.33043383e-08],\n",
       "       [1.54707995e-05, 1.06580271e-05, 9.26110134e-05, 1.89229649e-08],\n",
       "       [1.50409145e-05, 9.41240397e-06, 6.96754612e-05, 4.49656615e-08],\n",
       "       [2.12736645e-05, 1.52300618e-05, 1.60581695e-04, 4.62834347e-09],\n",
       "       [1.63211366e-05, 1.09845523e-05, 1.13915541e-04, 1.06091548e-08],\n",
       "       [1.30994504e-05, 8.22571946e-06, 7.02182222e-05, 3.08602969e-08],\n",
       "       [1.27690648e-05, 7.90447103e-06, 6.65669903e-05, 9.22963866e-10],\n",
       "       [1.11853412e-05, 6.45676690e-06, 5.54241366e-05, 3.96961859e-08],\n",
       "       [1.25778471e-05, 7.18045646e-06, 5.51310181e-05, 4.56300022e-08],\n",
       "       [1.37614043e-05, 8.23329311e-06, 6.41239505e-05, 2.74292225e-08],\n",
       "       [1.61317967e-05, 1.03736411e-05, 9.34687375e-05, 1.45839185e-08],\n",
       "       [1.96326594e-05, 1.42129393e-05, 1.49159283e-04, 5.58774322e-08],\n",
       "       [2.37118466e-05, 3.08787731e-05, 7.82734976e-04, 6.66247403e-08],\n",
       "       [2.00292317e-05, 2.34991792e-05, 5.71994259e-04, 7.64015878e-08],\n",
       "       [9.92805907e-06, 5.99061078e-06, 5.32180209e-05, 1.45189081e-08],\n",
       "       [8.18868570e-06, 4.77101789e-06, 3.82832808e-05, 2.33761767e-08],\n",
       "       [7.10829609e-06, 4.05668913e-06, 3.44625529e-05, 1.10476447e-08],\n",
       "       [7.65034379e-06, 4.37368202e-06, 3.36215407e-05, 1.57492580e-08],\n",
       "       [1.00363395e-05, 5.89799127e-06, 6.18876231e-05, 1.58612754e-08],\n",
       "       [1.34120907e-05, 8.04445057e-06, 7.52010427e-05, 2.72431520e-08],\n",
       "       [1.77175443e-05, 1.22034670e-05, 1.37242720e-04, 6.07793554e-08],\n",
       "       [2.77089329e-05, 1.52642006e-05, 1.22109678e-04, 8.03676841e-08],\n",
       "       [1.42282059e-05, 8.21622227e-06, 7.00779437e-05, 1.76338606e-08],\n",
       "       [8.59394605e-06, 5.02949318e-06, 6.24194074e-05, 2.99584472e-08],\n",
       "       [5.02561307e-06, 2.94959234e-06, 2.27162429e-05, 1.28824332e-08],\n",
       "       [3.61838813e-06, 1.96990247e-06, 1.51125978e-05, 1.24919083e-08],\n",
       "       [4.63583533e-06, 2.66815755e-06, 2.09503891e-05, 2.36748530e-08],\n",
       "       [8.20980504e-06, 4.88920420e-06, 4.77335592e-05, 1.86173844e-08],\n",
       "       [1.25894006e-05, 7.55274668e-06, 6.97256286e-05, 2.12088818e-08],\n",
       "       [2.22936927e-05, 1.27574924e-05, 1.17471270e-04, 8.89974347e-08],\n",
       "       [1.40058879e-05, 7.96911161e-06, 6.19403186e-05, 4.37446499e-08],\n",
       "       [1.04876376e-05, 5.89447207e-06, 4.70649425e-05, 3.60635756e-08],\n",
       "       [7.52978287e-06, 4.36348911e-06, 3.85387366e-05, 2.38596021e-08],\n",
       "       [5.19698242e-06, 2.97346260e-06, 2.65653793e-05, 1.56454893e-08],\n",
       "       [3.47854988e-06, 1.88425289e-06, 1.81324172e-05, 5.69820969e-10],\n",
       "       [5.05668788e-06, 3.01005083e-06, 3.84254606e-05, 1.29782011e-08],\n",
       "       [6.74860397e-06, 3.92512833e-06, 3.76495894e-05, 4.71939794e-09],\n",
       "       [8.92308490e-06, 5.26045629e-06, 4.72318013e-05, 3.33581656e-08],\n",
       "       [1.23861229e-05, 7.34105248e-06, 6.91797621e-05, 4.28069153e-08],\n",
       "       [1.19072473e-05, 6.94044276e-06, 6.17548439e-05, 2.83414981e-08],\n",
       "       [1.07586619e-05, 6.06431423e-06, 6.91371701e-05, 1.68536618e-08],\n",
       "       [1.07588690e-05, 6.06866677e-06, 7.01601546e-05, 1.42389128e-08],\n",
       "       [8.51460518e-06, 5.11614658e-06, 4.13994514e-05, 1.51224604e-08],\n",
       "       [8.83725609e-06, 5.38725820e-06, 5.06875145e-05, 8.02452117e-09],\n",
       "       [9.08059332e-06, 5.53685191e-06, 5.35880734e-05, 2.69460330e-08],\n",
       "       [9.16439385e-06, 5.46772107e-06, 5.44687325e-05, 2.53466336e-08],\n",
       "       [9.16342225e-06, 5.47684621e-06, 5.45420166e-05, 1.16041189e-08],\n",
       "       [1.15697798e-05, 6.65892287e-06, 6.83093311e-05, 7.22060328e-09],\n",
       "       [1.11583925e-05, 6.52051373e-06, 5.70214014e-05, 2.28599995e-09],\n",
       "       [1.11442107e-05, 6.51589166e-06, 5.74815648e-05, 6.78057382e-09],\n",
       "       [1.10162242e-05, 6.62031700e-06, 5.75557746e-05, 7.57782163e-09],\n",
       "       [1.22570541e-05, 7.69795532e-06, 6.48561439e-05, 1.52604616e-08],\n",
       "       [1.20490381e-05, 7.31167976e-06, 6.19464116e-05, 2.63348267e-08],\n",
       "       [1.19387282e-05, 7.00544321e-06, 6.20131503e-05, 1.22959565e-08],\n",
       "       [1.19495107e-05, 7.00884978e-06, 6.17152577e-05, 2.55351455e-08],\n",
       "       [1.27022450e-05, 7.56752052e-06, 7.14315373e-05, 6.02885612e-08],\n",
       "       [1.27035804e-05, 7.57036089e-06, 7.07491073e-05, 9.81370792e-09],\n",
       "       [1.20461072e-05, 7.32906523e-06, 6.74175039e-05, 1.52125468e-08],\n",
       "       [1.28595747e-05, 7.61641706e-06, 7.31384029e-05, 1.99740664e-08],\n",
       "       [1.28709327e-05, 7.62758228e-06, 7.36639062e-05, 2.98885305e-08]])"
      ]
     },
     "execution_count": 93,
     "metadata": {},
     "output_type": "execute_result"
    }
   ],
   "source": [
    "eeg_data = mne.io.read_raw_fif(\"../SEED_FRA_OUTPUT/POSITIVE/1_1_trial_0_signals.fif\", preload=True)\n",
    "\n",
    "get_trial_resume(eeg_data)"
   ]
  },
  {
   "cell_type": "code",
   "execution_count": 102,
   "id": "04ddccaf",
   "metadata": {},
   "outputs": [
    {
     "name": "stdout",
     "output_type": "stream",
     "text": [
      "Opening raw data file ../SEED_FRA_OUTPUT/POSITIVE/1_1_trial_0_signals.fif...\n",
      "    Range : 21000 ... 193000 =     21.000 ...   193.000 secs\n",
      "Ready.\n",
      "Reading 0 ... 172000  =      0.000 ...   172.000 secs...\n"
     ]
    },
    {
     "name": "stderr",
     "output_type": "stream",
     "text": [
      "C:\\Users\\marco\\AppData\\Local\\Temp\\ipykernel_6904\\2770616247.py:12: RuntimeWarning: This filename (../SEED_FRA_OUTPUT/POSITIVE/1_1_trial_0_signals.fif) does not conform to MNE naming conventions. All raw files should end with raw.fif, raw_sss.fif, raw_tsss.fif, _meg.fif, _eeg.fif, _ieeg.fif, raw.fif.gz, raw_sss.fif.gz, raw_tsss.fif.gz, _meg.fif.gz, _eeg.fif.gz or _ieeg.fif.gz\n",
      "  eeg_data = mne.io.read_raw_fif(name, preload=True)\n"
     ]
    },
    {
     "name": "stdout",
     "output_type": "stream",
     "text": [
      "Opening raw data file ../SEED_FRA_OUTPUT/POSITIVE/1_1_trial_11_signals.fif...\n",
      "    Range : 2327000 ... 2471000 =   2327.000 ...  2471.000 secs\n",
      "Ready.\n",
      "Reading 0 ... 144000  =      0.000 ...   144.000 secs...\n"
     ]
    },
    {
     "name": "stderr",
     "output_type": "stream",
     "text": [
      "C:\\Users\\marco\\AppData\\Local\\Temp\\ipykernel_6904\\2770616247.py:12: RuntimeWarning: This filename (../SEED_FRA_OUTPUT/POSITIVE/1_1_trial_11_signals.fif) does not conform to MNE naming conventions. All raw files should end with raw.fif, raw_sss.fif, raw_tsss.fif, _meg.fif, _eeg.fif, _ieeg.fif, raw.fif.gz, raw_sss.fif.gz, raw_tsss.fif.gz, _meg.fif.gz, _eeg.fif.gz or _ieeg.fif.gz\n",
      "  eeg_data = mne.io.read_raw_fif(name, preload=True)\n"
     ]
    },
    {
     "name": "stdout",
     "output_type": "stream",
     "text": [
      "Opening raw data file ../SEED_FRA_OUTPUT/POSITIVE/1_1_trial_12_signals.fif...\n",
      "    Range : 2492000 ... 2599000 =   2492.000 ...  2599.000 secs\n",
      "Ready.\n",
      "Reading 0 ... 107000  =      0.000 ...   107.000 secs...\n"
     ]
    },
    {
     "name": "stderr",
     "output_type": "stream",
     "text": [
      "C:\\Users\\marco\\AppData\\Local\\Temp\\ipykernel_6904\\2770616247.py:12: RuntimeWarning: This filename (../SEED_FRA_OUTPUT/POSITIVE/1_1_trial_12_signals.fif) does not conform to MNE naming conventions. All raw files should end with raw.fif, raw_sss.fif, raw_tsss.fif, _meg.fif, _eeg.fif, _ieeg.fif, raw.fif.gz, raw_sss.fif.gz, raw_tsss.fif.gz, _meg.fif.gz, _eeg.fif.gz or _ieeg.fif.gz\n",
      "  eeg_data = mne.io.read_raw_fif(name, preload=True)\n"
     ]
    },
    {
     "name": "stdout",
     "output_type": "stream",
     "text": [
      "Opening raw data file ../SEED_FRA_OUTPUT/POSITIVE/1_1_trial_17_signals.fif...\n",
      "    Range : 3216000 ... 3349000 =   3216.000 ...  3349.000 secs\n",
      "Ready.\n",
      "Reading 0 ... 133000  =      0.000 ...   133.000 secs...\n"
     ]
    },
    {
     "name": "stderr",
     "output_type": "stream",
     "text": [
      "C:\\Users\\marco\\AppData\\Local\\Temp\\ipykernel_6904\\2770616247.py:12: RuntimeWarning: This filename (../SEED_FRA_OUTPUT/POSITIVE/1_1_trial_17_signals.fif) does not conform to MNE naming conventions. All raw files should end with raw.fif, raw_sss.fif, raw_tsss.fif, _meg.fif, _eeg.fif, _ieeg.fif, raw.fif.gz, raw_sss.fif.gz, raw_tsss.fif.gz, _meg.fif.gz, _eeg.fif.gz or _ieeg.fif.gz\n",
      "  eeg_data = mne.io.read_raw_fif(name, preload=True)\n"
     ]
    },
    {
     "name": "stdout",
     "output_type": "stream",
     "text": [
      "Opening raw data file ../SEED_FRA_OUTPUT/POSITIVE/1_1_trial_20_signals.fif...\n",
      "    Range : 3622000 ... 3797000 =   3622.000 ...  3797.000 secs\n",
      "Ready.\n",
      "Reading 0 ... 175000  =      0.000 ...   175.000 secs...\n"
     ]
    },
    {
     "name": "stderr",
     "output_type": "stream",
     "text": [
      "C:\\Users\\marco\\AppData\\Local\\Temp\\ipykernel_6904\\2770616247.py:12: RuntimeWarning: This filename (../SEED_FRA_OUTPUT/POSITIVE/1_1_trial_20_signals.fif) does not conform to MNE naming conventions. All raw files should end with raw.fif, raw_sss.fif, raw_tsss.fif, _meg.fif, _eeg.fif, _ieeg.fif, raw.fif.gz, raw_sss.fif.gz, raw_tsss.fif.gz, _meg.fif.gz, _eeg.fif.gz or _ieeg.fif.gz\n",
      "  eeg_data = mne.io.read_raw_fif(name, preload=True)\n"
     ]
    },
    {
     "name": "stdout",
     "output_type": "stream",
     "text": [
      "Opening raw data file ../SEED_FRA_OUTPUT/POSITIVE/1_1_trial_4_signals.fif...\n",
      "    Range : 982000 ... 1082000 =    982.000 ...  1082.000 secs\n",
      "Ready.\n",
      "Reading 0 ... 100000  =      0.000 ...   100.000 secs...\n"
     ]
    },
    {
     "name": "stderr",
     "output_type": "stream",
     "text": [
      "C:\\Users\\marco\\AppData\\Local\\Temp\\ipykernel_6904\\2770616247.py:12: RuntimeWarning: This filename (../SEED_FRA_OUTPUT/POSITIVE/1_1_trial_4_signals.fif) does not conform to MNE naming conventions. All raw files should end with raw.fif, raw_sss.fif, raw_tsss.fif, _meg.fif, _eeg.fif, _ieeg.fif, raw.fif.gz, raw_sss.fif.gz, raw_tsss.fif.gz, _meg.fif.gz, _eeg.fif.gz or _ieeg.fif.gz\n",
      "  eeg_data = mne.io.read_raw_fif(name, preload=True)\n"
     ]
    },
    {
     "name": "stdout",
     "output_type": "stream",
     "text": [
      "Opening raw data file ../SEED_FRA_OUTPUT/POSITIVE/1_1_trial_8_signals.fif...\n",
      "    Range : 1738000 ... 1867000 =   1738.000 ...  1867.000 secs\n",
      "Ready.\n",
      "Reading 0 ... 129000  =      0.000 ...   129.000 secs...\n"
     ]
    },
    {
     "name": "stderr",
     "output_type": "stream",
     "text": [
      "C:\\Users\\marco\\AppData\\Local\\Temp\\ipykernel_6904\\2770616247.py:12: RuntimeWarning: This filename (../SEED_FRA_OUTPUT/POSITIVE/1_1_trial_8_signals.fif) does not conform to MNE naming conventions. All raw files should end with raw.fif, raw_sss.fif, raw_tsss.fif, _meg.fif, _eeg.fif, _ieeg.fif, raw.fif.gz, raw_sss.fif.gz, raw_tsss.fif.gz, _meg.fif.gz, _eeg.fif.gz or _ieeg.fif.gz\n",
      "  eeg_data = mne.io.read_raw_fif(name, preload=True)\n"
     ]
    },
    {
     "name": "stdout",
     "output_type": "stream",
     "text": [
      "Opening raw data file ../SEED_FRA_OUTPUT/POSITIVE/1_2_trial_0_signals.fif...\n",
      "    Range : 21000 ... 193000 =     21.000 ...   193.000 secs\n",
      "Ready.\n",
      "Reading 0 ... 172000  =      0.000 ...   172.000 secs...\n"
     ]
    },
    {
     "name": "stderr",
     "output_type": "stream",
     "text": [
      "C:\\Users\\marco\\AppData\\Local\\Temp\\ipykernel_6904\\2770616247.py:12: RuntimeWarning: This filename (../SEED_FRA_OUTPUT/POSITIVE/1_2_trial_0_signals.fif) does not conform to MNE naming conventions. All raw files should end with raw.fif, raw_sss.fif, raw_tsss.fif, _meg.fif, _eeg.fif, _ieeg.fif, raw.fif.gz, raw_sss.fif.gz, raw_tsss.fif.gz, _meg.fif.gz, _eeg.fif.gz or _ieeg.fif.gz\n",
      "  eeg_data = mne.io.read_raw_fif(name, preload=True)\n"
     ]
    },
    {
     "name": "stdout",
     "output_type": "stream",
     "text": [
      "Opening raw data file ../SEED_FRA_OUTPUT/POSITIVE/1_2_trial_11_signals.fif...\n",
      "    Range : 2327000 ... 2471000 =   2327.000 ...  2471.000 secs\n",
      "Ready.\n",
      "Reading 0 ... 144000  =      0.000 ...   144.000 secs...\n"
     ]
    },
    {
     "name": "stderr",
     "output_type": "stream",
     "text": [
      "C:\\Users\\marco\\AppData\\Local\\Temp\\ipykernel_6904\\2770616247.py:12: RuntimeWarning: This filename (../SEED_FRA_OUTPUT/POSITIVE/1_2_trial_11_signals.fif) does not conform to MNE naming conventions. All raw files should end with raw.fif, raw_sss.fif, raw_tsss.fif, _meg.fif, _eeg.fif, _ieeg.fif, raw.fif.gz, raw_sss.fif.gz, raw_tsss.fif.gz, _meg.fif.gz, _eeg.fif.gz or _ieeg.fif.gz\n",
      "  eeg_data = mne.io.read_raw_fif(name, preload=True)\n"
     ]
    },
    {
     "name": "stdout",
     "output_type": "stream",
     "text": [
      "Opening raw data file ../SEED_FRA_OUTPUT/POSITIVE/1_2_trial_12_signals.fif...\n",
      "    Range : 2492000 ... 2599000 =   2492.000 ...  2599.000 secs\n",
      "Ready.\n",
      "Reading 0 ... 107000  =      0.000 ...   107.000 secs...\n"
     ]
    },
    {
     "name": "stderr",
     "output_type": "stream",
     "text": [
      "C:\\Users\\marco\\AppData\\Local\\Temp\\ipykernel_6904\\2770616247.py:12: RuntimeWarning: This filename (../SEED_FRA_OUTPUT/POSITIVE/1_2_trial_12_signals.fif) does not conform to MNE naming conventions. All raw files should end with raw.fif, raw_sss.fif, raw_tsss.fif, _meg.fif, _eeg.fif, _ieeg.fif, raw.fif.gz, raw_sss.fif.gz, raw_tsss.fif.gz, _meg.fif.gz, _eeg.fif.gz or _ieeg.fif.gz\n",
      "  eeg_data = mne.io.read_raw_fif(name, preload=True)\n"
     ]
    },
    {
     "name": "stdout",
     "output_type": "stream",
     "text": [
      "Opening raw data file ../SEED_FRA_OUTPUT/POSITIVE/1_2_trial_17_signals.fif...\n",
      "    Range : 3216000 ... 3349000 =   3216.000 ...  3349.000 secs\n",
      "Ready.\n",
      "Reading 0 ... 133000  =      0.000 ...   133.000 secs...\n"
     ]
    },
    {
     "name": "stderr",
     "output_type": "stream",
     "text": [
      "C:\\Users\\marco\\AppData\\Local\\Temp\\ipykernel_6904\\2770616247.py:12: RuntimeWarning: This filename (../SEED_FRA_OUTPUT/POSITIVE/1_2_trial_17_signals.fif) does not conform to MNE naming conventions. All raw files should end with raw.fif, raw_sss.fif, raw_tsss.fif, _meg.fif, _eeg.fif, _ieeg.fif, raw.fif.gz, raw_sss.fif.gz, raw_tsss.fif.gz, _meg.fif.gz, _eeg.fif.gz or _ieeg.fif.gz\n",
      "  eeg_data = mne.io.read_raw_fif(name, preload=True)\n"
     ]
    },
    {
     "name": "stdout",
     "output_type": "stream",
     "text": [
      "Opening raw data file ../SEED_FRA_OUTPUT/POSITIVE/1_2_trial_20_signals.fif...\n",
      "    Range : 3622000 ... 3797000 =   3622.000 ...  3797.000 secs\n",
      "Ready.\n",
      "Reading 0 ... 175000  =      0.000 ...   175.000 secs...\n"
     ]
    },
    {
     "name": "stderr",
     "output_type": "stream",
     "text": [
      "C:\\Users\\marco\\AppData\\Local\\Temp\\ipykernel_6904\\2770616247.py:12: RuntimeWarning: This filename (../SEED_FRA_OUTPUT/POSITIVE/1_2_trial_20_signals.fif) does not conform to MNE naming conventions. All raw files should end with raw.fif, raw_sss.fif, raw_tsss.fif, _meg.fif, _eeg.fif, _ieeg.fif, raw.fif.gz, raw_sss.fif.gz, raw_tsss.fif.gz, _meg.fif.gz, _eeg.fif.gz or _ieeg.fif.gz\n",
      "  eeg_data = mne.io.read_raw_fif(name, preload=True)\n"
     ]
    },
    {
     "name": "stdout",
     "output_type": "stream",
     "text": [
      "Opening raw data file ../SEED_FRA_OUTPUT/POSITIVE/1_2_trial_4_signals.fif...\n",
      "    Range : 982000 ... 1082000 =    982.000 ...  1082.000 secs\n",
      "Ready.\n",
      "Reading 0 ... 100000  =      0.000 ...   100.000 secs...\n"
     ]
    },
    {
     "name": "stderr",
     "output_type": "stream",
     "text": [
      "C:\\Users\\marco\\AppData\\Local\\Temp\\ipykernel_6904\\2770616247.py:12: RuntimeWarning: This filename (../SEED_FRA_OUTPUT/POSITIVE/1_2_trial_4_signals.fif) does not conform to MNE naming conventions. All raw files should end with raw.fif, raw_sss.fif, raw_tsss.fif, _meg.fif, _eeg.fif, _ieeg.fif, raw.fif.gz, raw_sss.fif.gz, raw_tsss.fif.gz, _meg.fif.gz, _eeg.fif.gz or _ieeg.fif.gz\n",
      "  eeg_data = mne.io.read_raw_fif(name, preload=True)\n"
     ]
    },
    {
     "name": "stdout",
     "output_type": "stream",
     "text": [
      "Opening raw data file ../SEED_FRA_OUTPUT/POSITIVE/1_2_trial_8_signals.fif...\n",
      "    Range : 1738000 ... 1867000 =   1738.000 ...  1867.000 secs\n",
      "Ready.\n",
      "Reading 0 ... 129000  =      0.000 ...   129.000 secs...\n"
     ]
    },
    {
     "name": "stderr",
     "output_type": "stream",
     "text": [
      "C:\\Users\\marco\\AppData\\Local\\Temp\\ipykernel_6904\\2770616247.py:12: RuntimeWarning: This filename (../SEED_FRA_OUTPUT/POSITIVE/1_2_trial_8_signals.fif) does not conform to MNE naming conventions. All raw files should end with raw.fif, raw_sss.fif, raw_tsss.fif, _meg.fif, _eeg.fif, _ieeg.fif, raw.fif.gz, raw_sss.fif.gz, raw_tsss.fif.gz, _meg.fif.gz, _eeg.fif.gz or _ieeg.fif.gz\n",
      "  eeg_data = mne.io.read_raw_fif(name, preload=True)\n"
     ]
    },
    {
     "name": "stdout",
     "output_type": "stream",
     "text": [
      "Opening raw data file ../SEED_FRA_OUTPUT/POSITIVE/1_3_trial_0_signals.fif...\n",
      "    Range : 21000 ... 193000 =     21.000 ...   193.000 secs\n",
      "Ready.\n",
      "Reading 0 ... 172000  =      0.000 ...   172.000 secs...\n"
     ]
    },
    {
     "name": "stderr",
     "output_type": "stream",
     "text": [
      "C:\\Users\\marco\\AppData\\Local\\Temp\\ipykernel_6904\\2770616247.py:12: RuntimeWarning: This filename (../SEED_FRA_OUTPUT/POSITIVE/1_3_trial_0_signals.fif) does not conform to MNE naming conventions. All raw files should end with raw.fif, raw_sss.fif, raw_tsss.fif, _meg.fif, _eeg.fif, _ieeg.fif, raw.fif.gz, raw_sss.fif.gz, raw_tsss.fif.gz, _meg.fif.gz, _eeg.fif.gz or _ieeg.fif.gz\n",
      "  eeg_data = mne.io.read_raw_fif(name, preload=True)\n"
     ]
    },
    {
     "name": "stdout",
     "output_type": "stream",
     "text": [
      "Opening raw data file ../SEED_FRA_OUTPUT/POSITIVE/1_3_trial_11_signals.fif...\n",
      "    Range : 2327000 ... 2471000 =   2327.000 ...  2471.000 secs\n",
      "Ready.\n",
      "Reading 0 ... 144000  =      0.000 ...   144.000 secs...\n"
     ]
    },
    {
     "name": "stderr",
     "output_type": "stream",
     "text": [
      "C:\\Users\\marco\\AppData\\Local\\Temp\\ipykernel_6904\\2770616247.py:12: RuntimeWarning: This filename (../SEED_FRA_OUTPUT/POSITIVE/1_3_trial_11_signals.fif) does not conform to MNE naming conventions. All raw files should end with raw.fif, raw_sss.fif, raw_tsss.fif, _meg.fif, _eeg.fif, _ieeg.fif, raw.fif.gz, raw_sss.fif.gz, raw_tsss.fif.gz, _meg.fif.gz, _eeg.fif.gz or _ieeg.fif.gz\n",
      "  eeg_data = mne.io.read_raw_fif(name, preload=True)\n"
     ]
    },
    {
     "name": "stdout",
     "output_type": "stream",
     "text": [
      "Opening raw data file ../SEED_FRA_OUTPUT/POSITIVE/1_3_trial_12_signals.fif...\n",
      "    Range : 2492000 ... 2599000 =   2492.000 ...  2599.000 secs\n",
      "Ready.\n",
      "Reading 0 ... 107000  =      0.000 ...   107.000 secs...\n"
     ]
    },
    {
     "name": "stderr",
     "output_type": "stream",
     "text": [
      "C:\\Users\\marco\\AppData\\Local\\Temp\\ipykernel_6904\\2770616247.py:12: RuntimeWarning: This filename (../SEED_FRA_OUTPUT/POSITIVE/1_3_trial_12_signals.fif) does not conform to MNE naming conventions. All raw files should end with raw.fif, raw_sss.fif, raw_tsss.fif, _meg.fif, _eeg.fif, _ieeg.fif, raw.fif.gz, raw_sss.fif.gz, raw_tsss.fif.gz, _meg.fif.gz, _eeg.fif.gz or _ieeg.fif.gz\n",
      "  eeg_data = mne.io.read_raw_fif(name, preload=True)\n"
     ]
    },
    {
     "name": "stdout",
     "output_type": "stream",
     "text": [
      "Opening raw data file ../SEED_FRA_OUTPUT/POSITIVE/1_3_trial_17_signals.fif...\n",
      "    Range : 3216000 ... 3349000 =   3216.000 ...  3349.000 secs\n",
      "Ready.\n",
      "Reading 0 ... 133000  =      0.000 ...   133.000 secs...\n"
     ]
    },
    {
     "name": "stderr",
     "output_type": "stream",
     "text": [
      "C:\\Users\\marco\\AppData\\Local\\Temp\\ipykernel_6904\\2770616247.py:12: RuntimeWarning: This filename (../SEED_FRA_OUTPUT/POSITIVE/1_3_trial_17_signals.fif) does not conform to MNE naming conventions. All raw files should end with raw.fif, raw_sss.fif, raw_tsss.fif, _meg.fif, _eeg.fif, _ieeg.fif, raw.fif.gz, raw_sss.fif.gz, raw_tsss.fif.gz, _meg.fif.gz, _eeg.fif.gz or _ieeg.fif.gz\n",
      "  eeg_data = mne.io.read_raw_fif(name, preload=True)\n"
     ]
    },
    {
     "name": "stdout",
     "output_type": "stream",
     "text": [
      "Opening raw data file ../SEED_FRA_OUTPUT/POSITIVE/1_3_trial_20_signals.fif...\n",
      "    Range : 3622000 ... 3797000 =   3622.000 ...  3797.000 secs\n",
      "Ready.\n",
      "Reading 0 ... 175000  =      0.000 ...   175.000 secs...\n"
     ]
    },
    {
     "name": "stderr",
     "output_type": "stream",
     "text": [
      "C:\\Users\\marco\\AppData\\Local\\Temp\\ipykernel_6904\\2770616247.py:12: RuntimeWarning: This filename (../SEED_FRA_OUTPUT/POSITIVE/1_3_trial_20_signals.fif) does not conform to MNE naming conventions. All raw files should end with raw.fif, raw_sss.fif, raw_tsss.fif, _meg.fif, _eeg.fif, _ieeg.fif, raw.fif.gz, raw_sss.fif.gz, raw_tsss.fif.gz, _meg.fif.gz, _eeg.fif.gz or _ieeg.fif.gz\n",
      "  eeg_data = mne.io.read_raw_fif(name, preload=True)\n"
     ]
    },
    {
     "name": "stdout",
     "output_type": "stream",
     "text": [
      "Opening raw data file ../SEED_FRA_OUTPUT/POSITIVE/1_3_trial_4_signals.fif...\n",
      "    Range : 982000 ... 1082000 =    982.000 ...  1082.000 secs\n",
      "Ready.\n",
      "Reading 0 ... 100000  =      0.000 ...   100.000 secs...\n"
     ]
    },
    {
     "name": "stderr",
     "output_type": "stream",
     "text": [
      "C:\\Users\\marco\\AppData\\Local\\Temp\\ipykernel_6904\\2770616247.py:12: RuntimeWarning: This filename (../SEED_FRA_OUTPUT/POSITIVE/1_3_trial_4_signals.fif) does not conform to MNE naming conventions. All raw files should end with raw.fif, raw_sss.fif, raw_tsss.fif, _meg.fif, _eeg.fif, _ieeg.fif, raw.fif.gz, raw_sss.fif.gz, raw_tsss.fif.gz, _meg.fif.gz, _eeg.fif.gz or _ieeg.fif.gz\n",
      "  eeg_data = mne.io.read_raw_fif(name, preload=True)\n"
     ]
    },
    {
     "name": "stdout",
     "output_type": "stream",
     "text": [
      "Opening raw data file ../SEED_FRA_OUTPUT/POSITIVE/1_3_trial_8_signals.fif...\n",
      "    Range : 1738000 ... 1867000 =   1738.000 ...  1867.000 secs\n",
      "Ready.\n",
      "Reading 0 ... 129000  =      0.000 ...   129.000 secs...\n"
     ]
    },
    {
     "name": "stderr",
     "output_type": "stream",
     "text": [
      "C:\\Users\\marco\\AppData\\Local\\Temp\\ipykernel_6904\\2770616247.py:12: RuntimeWarning: This filename (../SEED_FRA_OUTPUT/POSITIVE/1_3_trial_8_signals.fif) does not conform to MNE naming conventions. All raw files should end with raw.fif, raw_sss.fif, raw_tsss.fif, _meg.fif, _eeg.fif, _ieeg.fif, raw.fif.gz, raw_sss.fif.gz, raw_tsss.fif.gz, _meg.fif.gz, _eeg.fif.gz or _ieeg.fif.gz\n",
      "  eeg_data = mne.io.read_raw_fif(name, preload=True)\n"
     ]
    },
    {
     "name": "stdout",
     "output_type": "stream",
     "text": [
      "Opening raw data file ../SEED_FRA_OUTPUT/POSITIVE/2_1_trial_0_signals.fif...\n",
      "    Range : 21000 ... 193000 =     21.000 ...   193.000 secs\n",
      "Ready.\n",
      "Reading 0 ... 172000  =      0.000 ...   172.000 secs...\n"
     ]
    },
    {
     "name": "stderr",
     "output_type": "stream",
     "text": [
      "C:\\Users\\marco\\AppData\\Local\\Temp\\ipykernel_6904\\2770616247.py:12: RuntimeWarning: This filename (../SEED_FRA_OUTPUT/POSITIVE/2_1_trial_0_signals.fif) does not conform to MNE naming conventions. All raw files should end with raw.fif, raw_sss.fif, raw_tsss.fif, _meg.fif, _eeg.fif, _ieeg.fif, raw.fif.gz, raw_sss.fif.gz, raw_tsss.fif.gz, _meg.fif.gz, _eeg.fif.gz or _ieeg.fif.gz\n",
      "  eeg_data = mne.io.read_raw_fif(name, preload=True)\n"
     ]
    },
    {
     "name": "stdout",
     "output_type": "stream",
     "text": [
      "Opening raw data file ../SEED_FRA_OUTPUT/POSITIVE/2_1_trial_11_signals.fif...\n",
      "    Range : 2327000 ... 2471000 =   2327.000 ...  2471.000 secs\n",
      "Ready.\n",
      "Reading 0 ... 144000  =      0.000 ...   144.000 secs...\n"
     ]
    },
    {
     "name": "stderr",
     "output_type": "stream",
     "text": [
      "C:\\Users\\marco\\AppData\\Local\\Temp\\ipykernel_6904\\2770616247.py:12: RuntimeWarning: This filename (../SEED_FRA_OUTPUT/POSITIVE/2_1_trial_11_signals.fif) does not conform to MNE naming conventions. All raw files should end with raw.fif, raw_sss.fif, raw_tsss.fif, _meg.fif, _eeg.fif, _ieeg.fif, raw.fif.gz, raw_sss.fif.gz, raw_tsss.fif.gz, _meg.fif.gz, _eeg.fif.gz or _ieeg.fif.gz\n",
      "  eeg_data = mne.io.read_raw_fif(name, preload=True)\n"
     ]
    },
    {
     "name": "stdout",
     "output_type": "stream",
     "text": [
      "Opening raw data file ../SEED_FRA_OUTPUT/POSITIVE/2_1_trial_12_signals.fif...\n",
      "    Range : 2492000 ... 2599000 =   2492.000 ...  2599.000 secs\n",
      "Ready.\n",
      "Reading 0 ... 107000  =      0.000 ...   107.000 secs...\n"
     ]
    },
    {
     "name": "stderr",
     "output_type": "stream",
     "text": [
      "C:\\Users\\marco\\AppData\\Local\\Temp\\ipykernel_6904\\2770616247.py:12: RuntimeWarning: This filename (../SEED_FRA_OUTPUT/POSITIVE/2_1_trial_12_signals.fif) does not conform to MNE naming conventions. All raw files should end with raw.fif, raw_sss.fif, raw_tsss.fif, _meg.fif, _eeg.fif, _ieeg.fif, raw.fif.gz, raw_sss.fif.gz, raw_tsss.fif.gz, _meg.fif.gz, _eeg.fif.gz or _ieeg.fif.gz\n",
      "  eeg_data = mne.io.read_raw_fif(name, preload=True)\n"
     ]
    },
    {
     "name": "stdout",
     "output_type": "stream",
     "text": [
      "Opening raw data file ../SEED_FRA_OUTPUT/POSITIVE/2_1_trial_17_signals.fif...\n",
      "    Range : 3216000 ... 3349000 =   3216.000 ...  3349.000 secs\n",
      "Ready.\n",
      "Reading 0 ... 133000  =      0.000 ...   133.000 secs...\n"
     ]
    },
    {
     "name": "stderr",
     "output_type": "stream",
     "text": [
      "C:\\Users\\marco\\AppData\\Local\\Temp\\ipykernel_6904\\2770616247.py:12: RuntimeWarning: This filename (../SEED_FRA_OUTPUT/POSITIVE/2_1_trial_17_signals.fif) does not conform to MNE naming conventions. All raw files should end with raw.fif, raw_sss.fif, raw_tsss.fif, _meg.fif, _eeg.fif, _ieeg.fif, raw.fif.gz, raw_sss.fif.gz, raw_tsss.fif.gz, _meg.fif.gz, _eeg.fif.gz or _ieeg.fif.gz\n",
      "  eeg_data = mne.io.read_raw_fif(name, preload=True)\n"
     ]
    },
    {
     "name": "stdout",
     "output_type": "stream",
     "text": [
      "Opening raw data file ../SEED_FRA_OUTPUT/POSITIVE/2_1_trial_20_signals.fif...\n",
      "    Range : 3622000 ... 3797000 =   3622.000 ...  3797.000 secs\n",
      "Ready.\n",
      "Reading 0 ... 175000  =      0.000 ...   175.000 secs...\n"
     ]
    },
    {
     "name": "stderr",
     "output_type": "stream",
     "text": [
      "C:\\Users\\marco\\AppData\\Local\\Temp\\ipykernel_6904\\2770616247.py:12: RuntimeWarning: This filename (../SEED_FRA_OUTPUT/POSITIVE/2_1_trial_20_signals.fif) does not conform to MNE naming conventions. All raw files should end with raw.fif, raw_sss.fif, raw_tsss.fif, _meg.fif, _eeg.fif, _ieeg.fif, raw.fif.gz, raw_sss.fif.gz, raw_tsss.fif.gz, _meg.fif.gz, _eeg.fif.gz or _ieeg.fif.gz\n",
      "  eeg_data = mne.io.read_raw_fif(name, preload=True)\n"
     ]
    },
    {
     "name": "stdout",
     "output_type": "stream",
     "text": [
      "Opening raw data file ../SEED_FRA_OUTPUT/POSITIVE/2_1_trial_4_signals.fif...\n",
      "    Range : 982000 ... 1082000 =    982.000 ...  1082.000 secs\n",
      "Ready.\n",
      "Reading 0 ... 100000  =      0.000 ...   100.000 secs...\n"
     ]
    },
    {
     "name": "stderr",
     "output_type": "stream",
     "text": [
      "C:\\Users\\marco\\AppData\\Local\\Temp\\ipykernel_6904\\2770616247.py:12: RuntimeWarning: This filename (../SEED_FRA_OUTPUT/POSITIVE/2_1_trial_4_signals.fif) does not conform to MNE naming conventions. All raw files should end with raw.fif, raw_sss.fif, raw_tsss.fif, _meg.fif, _eeg.fif, _ieeg.fif, raw.fif.gz, raw_sss.fif.gz, raw_tsss.fif.gz, _meg.fif.gz, _eeg.fif.gz or _ieeg.fif.gz\n",
      "  eeg_data = mne.io.read_raw_fif(name, preload=True)\n"
     ]
    },
    {
     "name": "stdout",
     "output_type": "stream",
     "text": [
      "Opening raw data file ../SEED_FRA_OUTPUT/POSITIVE/2_1_trial_8_signals.fif...\n",
      "    Range : 1738000 ... 1867000 =   1738.000 ...  1867.000 secs\n",
      "Ready.\n",
      "Reading 0 ... 129000  =      0.000 ...   129.000 secs...\n"
     ]
    },
    {
     "name": "stderr",
     "output_type": "stream",
     "text": [
      "C:\\Users\\marco\\AppData\\Local\\Temp\\ipykernel_6904\\2770616247.py:12: RuntimeWarning: This filename (../SEED_FRA_OUTPUT/POSITIVE/2_1_trial_8_signals.fif) does not conform to MNE naming conventions. All raw files should end with raw.fif, raw_sss.fif, raw_tsss.fif, _meg.fif, _eeg.fif, _ieeg.fif, raw.fif.gz, raw_sss.fif.gz, raw_tsss.fif.gz, _meg.fif.gz, _eeg.fif.gz or _ieeg.fif.gz\n",
      "  eeg_data = mne.io.read_raw_fif(name, preload=True)\n"
     ]
    },
    {
     "name": "stdout",
     "output_type": "stream",
     "text": [
      "Opening raw data file ../SEED_FRA_OUTPUT/POSITIVE/2_2_trial_0_signals.fif...\n",
      "    Range : 21000 ... 193000 =     21.000 ...   193.000 secs\n",
      "Ready.\n",
      "Reading 0 ... 172000  =      0.000 ...   172.000 secs...\n"
     ]
    },
    {
     "name": "stderr",
     "output_type": "stream",
     "text": [
      "C:\\Users\\marco\\AppData\\Local\\Temp\\ipykernel_6904\\2770616247.py:12: RuntimeWarning: This filename (../SEED_FRA_OUTPUT/POSITIVE/2_2_trial_0_signals.fif) does not conform to MNE naming conventions. All raw files should end with raw.fif, raw_sss.fif, raw_tsss.fif, _meg.fif, _eeg.fif, _ieeg.fif, raw.fif.gz, raw_sss.fif.gz, raw_tsss.fif.gz, _meg.fif.gz, _eeg.fif.gz or _ieeg.fif.gz\n",
      "  eeg_data = mne.io.read_raw_fif(name, preload=True)\n"
     ]
    },
    {
     "name": "stdout",
     "output_type": "stream",
     "text": [
      "Opening raw data file ../SEED_FRA_OUTPUT/POSITIVE/2_2_trial_11_signals.fif...\n",
      "    Range : 2327000 ... 2471000 =   2327.000 ...  2471.000 secs\n",
      "Ready.\n",
      "Reading 0 ... 144000  =      0.000 ...   144.000 secs...\n"
     ]
    },
    {
     "name": "stderr",
     "output_type": "stream",
     "text": [
      "C:\\Users\\marco\\AppData\\Local\\Temp\\ipykernel_6904\\2770616247.py:12: RuntimeWarning: This filename (../SEED_FRA_OUTPUT/POSITIVE/2_2_trial_11_signals.fif) does not conform to MNE naming conventions. All raw files should end with raw.fif, raw_sss.fif, raw_tsss.fif, _meg.fif, _eeg.fif, _ieeg.fif, raw.fif.gz, raw_sss.fif.gz, raw_tsss.fif.gz, _meg.fif.gz, _eeg.fif.gz or _ieeg.fif.gz\n",
      "  eeg_data = mne.io.read_raw_fif(name, preload=True)\n"
     ]
    },
    {
     "name": "stdout",
     "output_type": "stream",
     "text": [
      "Opening raw data file ../SEED_FRA_OUTPUT/POSITIVE/2_2_trial_12_signals.fif...\n",
      "    Range : 2492000 ... 2599000 =   2492.000 ...  2599.000 secs\n",
      "Ready.\n",
      "Reading 0 ... 107000  =      0.000 ...   107.000 secs...\n"
     ]
    },
    {
     "name": "stderr",
     "output_type": "stream",
     "text": [
      "C:\\Users\\marco\\AppData\\Local\\Temp\\ipykernel_6904\\2770616247.py:12: RuntimeWarning: This filename (../SEED_FRA_OUTPUT/POSITIVE/2_2_trial_12_signals.fif) does not conform to MNE naming conventions. All raw files should end with raw.fif, raw_sss.fif, raw_tsss.fif, _meg.fif, _eeg.fif, _ieeg.fif, raw.fif.gz, raw_sss.fif.gz, raw_tsss.fif.gz, _meg.fif.gz, _eeg.fif.gz or _ieeg.fif.gz\n",
      "  eeg_data = mne.io.read_raw_fif(name, preload=True)\n"
     ]
    },
    {
     "name": "stdout",
     "output_type": "stream",
     "text": [
      "Opening raw data file ../SEED_FRA_OUTPUT/POSITIVE/2_2_trial_17_signals.fif...\n",
      "    Range : 3216000 ... 3349000 =   3216.000 ...  3349.000 secs\n",
      "Ready.\n",
      "Reading 0 ... 133000  =      0.000 ...   133.000 secs...\n"
     ]
    },
    {
     "name": "stderr",
     "output_type": "stream",
     "text": [
      "C:\\Users\\marco\\AppData\\Local\\Temp\\ipykernel_6904\\2770616247.py:12: RuntimeWarning: This filename (../SEED_FRA_OUTPUT/POSITIVE/2_2_trial_17_signals.fif) does not conform to MNE naming conventions. All raw files should end with raw.fif, raw_sss.fif, raw_tsss.fif, _meg.fif, _eeg.fif, _ieeg.fif, raw.fif.gz, raw_sss.fif.gz, raw_tsss.fif.gz, _meg.fif.gz, _eeg.fif.gz or _ieeg.fif.gz\n",
      "  eeg_data = mne.io.read_raw_fif(name, preload=True)\n"
     ]
    },
    {
     "name": "stdout",
     "output_type": "stream",
     "text": [
      "Opening raw data file ../SEED_FRA_OUTPUT/POSITIVE/2_2_trial_20_signals.fif...\n",
      "    Range : 3622000 ... 3797000 =   3622.000 ...  3797.000 secs\n",
      "Ready.\n",
      "Reading 0 ... 175000  =      0.000 ...   175.000 secs...\n"
     ]
    },
    {
     "name": "stderr",
     "output_type": "stream",
     "text": [
      "C:\\Users\\marco\\AppData\\Local\\Temp\\ipykernel_6904\\2770616247.py:12: RuntimeWarning: This filename (../SEED_FRA_OUTPUT/POSITIVE/2_2_trial_20_signals.fif) does not conform to MNE naming conventions. All raw files should end with raw.fif, raw_sss.fif, raw_tsss.fif, _meg.fif, _eeg.fif, _ieeg.fif, raw.fif.gz, raw_sss.fif.gz, raw_tsss.fif.gz, _meg.fif.gz, _eeg.fif.gz or _ieeg.fif.gz\n",
      "  eeg_data = mne.io.read_raw_fif(name, preload=True)\n"
     ]
    },
    {
     "name": "stdout",
     "output_type": "stream",
     "text": [
      "Opening raw data file ../SEED_FRA_OUTPUT/POSITIVE/2_2_trial_4_signals.fif...\n",
      "    Range : 982000 ... 1082000 =    982.000 ...  1082.000 secs\n",
      "Ready.\n",
      "Reading 0 ... 100000  =      0.000 ...   100.000 secs...\n"
     ]
    },
    {
     "name": "stderr",
     "output_type": "stream",
     "text": [
      "C:\\Users\\marco\\AppData\\Local\\Temp\\ipykernel_6904\\2770616247.py:12: RuntimeWarning: This filename (../SEED_FRA_OUTPUT/POSITIVE/2_2_trial_4_signals.fif) does not conform to MNE naming conventions. All raw files should end with raw.fif, raw_sss.fif, raw_tsss.fif, _meg.fif, _eeg.fif, _ieeg.fif, raw.fif.gz, raw_sss.fif.gz, raw_tsss.fif.gz, _meg.fif.gz, _eeg.fif.gz or _ieeg.fif.gz\n",
      "  eeg_data = mne.io.read_raw_fif(name, preload=True)\n"
     ]
    },
    {
     "name": "stdout",
     "output_type": "stream",
     "text": [
      "Opening raw data file ../SEED_FRA_OUTPUT/POSITIVE/2_2_trial_8_signals.fif...\n",
      "    Range : 1738000 ... 1867000 =   1738.000 ...  1867.000 secs\n",
      "Ready.\n",
      "Reading 0 ... 129000  =      0.000 ...   129.000 secs...\n"
     ]
    },
    {
     "name": "stderr",
     "output_type": "stream",
     "text": [
      "C:\\Users\\marco\\AppData\\Local\\Temp\\ipykernel_6904\\2770616247.py:12: RuntimeWarning: This filename (../SEED_FRA_OUTPUT/POSITIVE/2_2_trial_8_signals.fif) does not conform to MNE naming conventions. All raw files should end with raw.fif, raw_sss.fif, raw_tsss.fif, _meg.fif, _eeg.fif, _ieeg.fif, raw.fif.gz, raw_sss.fif.gz, raw_tsss.fif.gz, _meg.fif.gz, _eeg.fif.gz or _ieeg.fif.gz\n",
      "  eeg_data = mne.io.read_raw_fif(name, preload=True)\n"
     ]
    },
    {
     "name": "stdout",
     "output_type": "stream",
     "text": [
      "Opening raw data file ../SEED_FRA_OUTPUT/POSITIVE/2_3_trial_0_signals.fif...\n",
      "    Range : 21000 ... 193000 =     21.000 ...   193.000 secs\n",
      "Ready.\n",
      "Reading 0 ... 172000  =      0.000 ...   172.000 secs...\n"
     ]
    },
    {
     "name": "stderr",
     "output_type": "stream",
     "text": [
      "C:\\Users\\marco\\AppData\\Local\\Temp\\ipykernel_6904\\2770616247.py:12: RuntimeWarning: This filename (../SEED_FRA_OUTPUT/POSITIVE/2_3_trial_0_signals.fif) does not conform to MNE naming conventions. All raw files should end with raw.fif, raw_sss.fif, raw_tsss.fif, _meg.fif, _eeg.fif, _ieeg.fif, raw.fif.gz, raw_sss.fif.gz, raw_tsss.fif.gz, _meg.fif.gz, _eeg.fif.gz or _ieeg.fif.gz\n",
      "  eeg_data = mne.io.read_raw_fif(name, preload=True)\n"
     ]
    },
    {
     "name": "stdout",
     "output_type": "stream",
     "text": [
      "Opening raw data file ../SEED_FRA_OUTPUT/POSITIVE/2_3_trial_11_signals.fif...\n",
      "    Range : 2327000 ... 2471000 =   2327.000 ...  2471.000 secs\n",
      "Ready.\n",
      "Reading 0 ... 144000  =      0.000 ...   144.000 secs...\n"
     ]
    },
    {
     "name": "stderr",
     "output_type": "stream",
     "text": [
      "C:\\Users\\marco\\AppData\\Local\\Temp\\ipykernel_6904\\2770616247.py:12: RuntimeWarning: This filename (../SEED_FRA_OUTPUT/POSITIVE/2_3_trial_11_signals.fif) does not conform to MNE naming conventions. All raw files should end with raw.fif, raw_sss.fif, raw_tsss.fif, _meg.fif, _eeg.fif, _ieeg.fif, raw.fif.gz, raw_sss.fif.gz, raw_tsss.fif.gz, _meg.fif.gz, _eeg.fif.gz or _ieeg.fif.gz\n",
      "  eeg_data = mne.io.read_raw_fif(name, preload=True)\n"
     ]
    },
    {
     "name": "stdout",
     "output_type": "stream",
     "text": [
      "Opening raw data file ../SEED_FRA_OUTPUT/POSITIVE/2_3_trial_12_signals.fif...\n",
      "    Range : 2492000 ... 2599000 =   2492.000 ...  2599.000 secs\n",
      "Ready.\n",
      "Reading 0 ... 107000  =      0.000 ...   107.000 secs...\n"
     ]
    },
    {
     "name": "stderr",
     "output_type": "stream",
     "text": [
      "C:\\Users\\marco\\AppData\\Local\\Temp\\ipykernel_6904\\2770616247.py:12: RuntimeWarning: This filename (../SEED_FRA_OUTPUT/POSITIVE/2_3_trial_12_signals.fif) does not conform to MNE naming conventions. All raw files should end with raw.fif, raw_sss.fif, raw_tsss.fif, _meg.fif, _eeg.fif, _ieeg.fif, raw.fif.gz, raw_sss.fif.gz, raw_tsss.fif.gz, _meg.fif.gz, _eeg.fif.gz or _ieeg.fif.gz\n",
      "  eeg_data = mne.io.read_raw_fif(name, preload=True)\n"
     ]
    },
    {
     "name": "stdout",
     "output_type": "stream",
     "text": [
      "Opening raw data file ../SEED_FRA_OUTPUT/POSITIVE/2_3_trial_17_signals.fif...\n",
      "    Range : 3216000 ... 3349000 =   3216.000 ...  3349.000 secs\n",
      "Ready.\n",
      "Reading 0 ... 133000  =      0.000 ...   133.000 secs...\n"
     ]
    },
    {
     "name": "stderr",
     "output_type": "stream",
     "text": [
      "C:\\Users\\marco\\AppData\\Local\\Temp\\ipykernel_6904\\2770616247.py:12: RuntimeWarning: This filename (../SEED_FRA_OUTPUT/POSITIVE/2_3_trial_17_signals.fif) does not conform to MNE naming conventions. All raw files should end with raw.fif, raw_sss.fif, raw_tsss.fif, _meg.fif, _eeg.fif, _ieeg.fif, raw.fif.gz, raw_sss.fif.gz, raw_tsss.fif.gz, _meg.fif.gz, _eeg.fif.gz or _ieeg.fif.gz\n",
      "  eeg_data = mne.io.read_raw_fif(name, preload=True)\n"
     ]
    },
    {
     "name": "stdout",
     "output_type": "stream",
     "text": [
      "Opening raw data file ../SEED_FRA_OUTPUT/POSITIVE/2_3_trial_20_signals.fif...\n",
      "    Range : 3622000 ... 3797000 =   3622.000 ...  3797.000 secs\n",
      "Ready.\n",
      "Reading 0 ... 175000  =      0.000 ...   175.000 secs...\n"
     ]
    },
    {
     "name": "stderr",
     "output_type": "stream",
     "text": [
      "C:\\Users\\marco\\AppData\\Local\\Temp\\ipykernel_6904\\2770616247.py:12: RuntimeWarning: This filename (../SEED_FRA_OUTPUT/POSITIVE/2_3_trial_20_signals.fif) does not conform to MNE naming conventions. All raw files should end with raw.fif, raw_sss.fif, raw_tsss.fif, _meg.fif, _eeg.fif, _ieeg.fif, raw.fif.gz, raw_sss.fif.gz, raw_tsss.fif.gz, _meg.fif.gz, _eeg.fif.gz or _ieeg.fif.gz\n",
      "  eeg_data = mne.io.read_raw_fif(name, preload=True)\n"
     ]
    },
    {
     "name": "stdout",
     "output_type": "stream",
     "text": [
      "Opening raw data file ../SEED_FRA_OUTPUT/POSITIVE/2_3_trial_4_signals.fif...\n",
      "    Range : 982000 ... 1082000 =    982.000 ...  1082.000 secs\n",
      "Ready.\n",
      "Reading 0 ... 100000  =      0.000 ...   100.000 secs...\n"
     ]
    },
    {
     "name": "stderr",
     "output_type": "stream",
     "text": [
      "C:\\Users\\marco\\AppData\\Local\\Temp\\ipykernel_6904\\2770616247.py:12: RuntimeWarning: This filename (../SEED_FRA_OUTPUT/POSITIVE/2_3_trial_4_signals.fif) does not conform to MNE naming conventions. All raw files should end with raw.fif, raw_sss.fif, raw_tsss.fif, _meg.fif, _eeg.fif, _ieeg.fif, raw.fif.gz, raw_sss.fif.gz, raw_tsss.fif.gz, _meg.fif.gz, _eeg.fif.gz or _ieeg.fif.gz\n",
      "  eeg_data = mne.io.read_raw_fif(name, preload=True)\n"
     ]
    },
    {
     "name": "stdout",
     "output_type": "stream",
     "text": [
      "Opening raw data file ../SEED_FRA_OUTPUT/POSITIVE/2_3_trial_8_signals.fif...\n",
      "    Range : 1738000 ... 1867000 =   1738.000 ...  1867.000 secs\n",
      "Ready.\n",
      "Reading 0 ... 129000  =      0.000 ...   129.000 secs...\n"
     ]
    },
    {
     "name": "stderr",
     "output_type": "stream",
     "text": [
      "C:\\Users\\marco\\AppData\\Local\\Temp\\ipykernel_6904\\2770616247.py:12: RuntimeWarning: This filename (../SEED_FRA_OUTPUT/POSITIVE/2_3_trial_8_signals.fif) does not conform to MNE naming conventions. All raw files should end with raw.fif, raw_sss.fif, raw_tsss.fif, _meg.fif, _eeg.fif, _ieeg.fif, raw.fif.gz, raw_sss.fif.gz, raw_tsss.fif.gz, _meg.fif.gz, _eeg.fif.gz or _ieeg.fif.gz\n",
      "  eeg_data = mne.io.read_raw_fif(name, preload=True)\n"
     ]
    },
    {
     "name": "stdout",
     "output_type": "stream",
     "text": [
      "Opening raw data file ../SEED_FRA_OUTPUT/POSITIVE/3_1_trial_0_signals.fif...\n",
      "    Range : 21000 ... 193000 =     21.000 ...   193.000 secs\n",
      "Ready.\n",
      "Reading 0 ... 172000  =      0.000 ...   172.000 secs...\n"
     ]
    },
    {
     "name": "stderr",
     "output_type": "stream",
     "text": [
      "C:\\Users\\marco\\AppData\\Local\\Temp\\ipykernel_6904\\2770616247.py:12: RuntimeWarning: This filename (../SEED_FRA_OUTPUT/POSITIVE/3_1_trial_0_signals.fif) does not conform to MNE naming conventions. All raw files should end with raw.fif, raw_sss.fif, raw_tsss.fif, _meg.fif, _eeg.fif, _ieeg.fif, raw.fif.gz, raw_sss.fif.gz, raw_tsss.fif.gz, _meg.fif.gz, _eeg.fif.gz or _ieeg.fif.gz\n",
      "  eeg_data = mne.io.read_raw_fif(name, preload=True)\n"
     ]
    },
    {
     "name": "stdout",
     "output_type": "stream",
     "text": [
      "Opening raw data file ../SEED_FRA_OUTPUT/POSITIVE/3_1_trial_11_signals.fif...\n",
      "    Range : 2327000 ... 2471000 =   2327.000 ...  2471.000 secs\n",
      "Ready.\n",
      "Reading 0 ... 144000  =      0.000 ...   144.000 secs...\n"
     ]
    },
    {
     "name": "stderr",
     "output_type": "stream",
     "text": [
      "C:\\Users\\marco\\AppData\\Local\\Temp\\ipykernel_6904\\2770616247.py:12: RuntimeWarning: This filename (../SEED_FRA_OUTPUT/POSITIVE/3_1_trial_11_signals.fif) does not conform to MNE naming conventions. All raw files should end with raw.fif, raw_sss.fif, raw_tsss.fif, _meg.fif, _eeg.fif, _ieeg.fif, raw.fif.gz, raw_sss.fif.gz, raw_tsss.fif.gz, _meg.fif.gz, _eeg.fif.gz or _ieeg.fif.gz\n",
      "  eeg_data = mne.io.read_raw_fif(name, preload=True)\n"
     ]
    },
    {
     "name": "stdout",
     "output_type": "stream",
     "text": [
      "Opening raw data file ../SEED_FRA_OUTPUT/POSITIVE/3_1_trial_12_signals.fif...\n",
      "    Range : 2492000 ... 2599000 =   2492.000 ...  2599.000 secs\n",
      "Ready.\n",
      "Reading 0 ... 107000  =      0.000 ...   107.000 secs...\n"
     ]
    },
    {
     "name": "stderr",
     "output_type": "stream",
     "text": [
      "C:\\Users\\marco\\AppData\\Local\\Temp\\ipykernel_6904\\2770616247.py:12: RuntimeWarning: This filename (../SEED_FRA_OUTPUT/POSITIVE/3_1_trial_12_signals.fif) does not conform to MNE naming conventions. All raw files should end with raw.fif, raw_sss.fif, raw_tsss.fif, _meg.fif, _eeg.fif, _ieeg.fif, raw.fif.gz, raw_sss.fif.gz, raw_tsss.fif.gz, _meg.fif.gz, _eeg.fif.gz or _ieeg.fif.gz\n",
      "  eeg_data = mne.io.read_raw_fif(name, preload=True)\n"
     ]
    },
    {
     "name": "stdout",
     "output_type": "stream",
     "text": [
      "Opening raw data file ../SEED_FRA_OUTPUT/POSITIVE/3_1_trial_17_signals.fif...\n",
      "    Range : 3216000 ... 3349000 =   3216.000 ...  3349.000 secs\n",
      "Ready.\n",
      "Reading 0 ... 133000  =      0.000 ...   133.000 secs...\n"
     ]
    },
    {
     "name": "stderr",
     "output_type": "stream",
     "text": [
      "C:\\Users\\marco\\AppData\\Local\\Temp\\ipykernel_6904\\2770616247.py:12: RuntimeWarning: This filename (../SEED_FRA_OUTPUT/POSITIVE/3_1_trial_17_signals.fif) does not conform to MNE naming conventions. All raw files should end with raw.fif, raw_sss.fif, raw_tsss.fif, _meg.fif, _eeg.fif, _ieeg.fif, raw.fif.gz, raw_sss.fif.gz, raw_tsss.fif.gz, _meg.fif.gz, _eeg.fif.gz or _ieeg.fif.gz\n",
      "  eeg_data = mne.io.read_raw_fif(name, preload=True)\n"
     ]
    },
    {
     "name": "stdout",
     "output_type": "stream",
     "text": [
      "Opening raw data file ../SEED_FRA_OUTPUT/POSITIVE/3_1_trial_20_signals.fif...\n",
      "    Range : 3622000 ... 3797000 =   3622.000 ...  3797.000 secs\n",
      "Ready.\n",
      "Reading 0 ... 175000  =      0.000 ...   175.000 secs...\n"
     ]
    },
    {
     "name": "stderr",
     "output_type": "stream",
     "text": [
      "C:\\Users\\marco\\AppData\\Local\\Temp\\ipykernel_6904\\2770616247.py:12: RuntimeWarning: This filename (../SEED_FRA_OUTPUT/POSITIVE/3_1_trial_20_signals.fif) does not conform to MNE naming conventions. All raw files should end with raw.fif, raw_sss.fif, raw_tsss.fif, _meg.fif, _eeg.fif, _ieeg.fif, raw.fif.gz, raw_sss.fif.gz, raw_tsss.fif.gz, _meg.fif.gz, _eeg.fif.gz or _ieeg.fif.gz\n",
      "  eeg_data = mne.io.read_raw_fif(name, preload=True)\n"
     ]
    },
    {
     "name": "stdout",
     "output_type": "stream",
     "text": [
      "Opening raw data file ../SEED_FRA_OUTPUT/POSITIVE/3_1_trial_4_signals.fif...\n",
      "    Range : 982000 ... 1082000 =    982.000 ...  1082.000 secs\n",
      "Ready.\n",
      "Reading 0 ... 100000  =      0.000 ...   100.000 secs...\n"
     ]
    },
    {
     "name": "stderr",
     "output_type": "stream",
     "text": [
      "C:\\Users\\marco\\AppData\\Local\\Temp\\ipykernel_6904\\2770616247.py:12: RuntimeWarning: This filename (../SEED_FRA_OUTPUT/POSITIVE/3_1_trial_4_signals.fif) does not conform to MNE naming conventions. All raw files should end with raw.fif, raw_sss.fif, raw_tsss.fif, _meg.fif, _eeg.fif, _ieeg.fif, raw.fif.gz, raw_sss.fif.gz, raw_tsss.fif.gz, _meg.fif.gz, _eeg.fif.gz or _ieeg.fif.gz\n",
      "  eeg_data = mne.io.read_raw_fif(name, preload=True)\n"
     ]
    },
    {
     "name": "stdout",
     "output_type": "stream",
     "text": [
      "Opening raw data file ../SEED_FRA_OUTPUT/POSITIVE/3_1_trial_8_signals.fif...\n",
      "    Range : 1738000 ... 1867000 =   1738.000 ...  1867.000 secs\n",
      "Ready.\n",
      "Reading 0 ... 129000  =      0.000 ...   129.000 secs...\n"
     ]
    },
    {
     "name": "stderr",
     "output_type": "stream",
     "text": [
      "C:\\Users\\marco\\AppData\\Local\\Temp\\ipykernel_6904\\2770616247.py:12: RuntimeWarning: This filename (../SEED_FRA_OUTPUT/POSITIVE/3_1_trial_8_signals.fif) does not conform to MNE naming conventions. All raw files should end with raw.fif, raw_sss.fif, raw_tsss.fif, _meg.fif, _eeg.fif, _ieeg.fif, raw.fif.gz, raw_sss.fif.gz, raw_tsss.fif.gz, _meg.fif.gz, _eeg.fif.gz or _ieeg.fif.gz\n",
      "  eeg_data = mne.io.read_raw_fif(name, preload=True)\n"
     ]
    },
    {
     "name": "stdout",
     "output_type": "stream",
     "text": [
      "Opening raw data file ../SEED_FRA_OUTPUT/POSITIVE/3_2_trial_0_signals.fif...\n",
      "    Range : 21000 ... 193000 =     21.000 ...   193.000 secs\n",
      "Ready.\n",
      "Reading 0 ... 172000  =      0.000 ...   172.000 secs...\n"
     ]
    },
    {
     "name": "stderr",
     "output_type": "stream",
     "text": [
      "C:\\Users\\marco\\AppData\\Local\\Temp\\ipykernel_6904\\2770616247.py:12: RuntimeWarning: This filename (../SEED_FRA_OUTPUT/POSITIVE/3_2_trial_0_signals.fif) does not conform to MNE naming conventions. All raw files should end with raw.fif, raw_sss.fif, raw_tsss.fif, _meg.fif, _eeg.fif, _ieeg.fif, raw.fif.gz, raw_sss.fif.gz, raw_tsss.fif.gz, _meg.fif.gz, _eeg.fif.gz or _ieeg.fif.gz\n",
      "  eeg_data = mne.io.read_raw_fif(name, preload=True)\n"
     ]
    },
    {
     "name": "stdout",
     "output_type": "stream",
     "text": [
      "Opening raw data file ../SEED_FRA_OUTPUT/POSITIVE/3_2_trial_11_signals.fif...\n",
      "    Range : 2327000 ... 2471000 =   2327.000 ...  2471.000 secs\n",
      "Ready.\n",
      "Reading 0 ... 144000  =      0.000 ...   144.000 secs...\n"
     ]
    },
    {
     "name": "stderr",
     "output_type": "stream",
     "text": [
      "C:\\Users\\marco\\AppData\\Local\\Temp\\ipykernel_6904\\2770616247.py:12: RuntimeWarning: This filename (../SEED_FRA_OUTPUT/POSITIVE/3_2_trial_11_signals.fif) does not conform to MNE naming conventions. All raw files should end with raw.fif, raw_sss.fif, raw_tsss.fif, _meg.fif, _eeg.fif, _ieeg.fif, raw.fif.gz, raw_sss.fif.gz, raw_tsss.fif.gz, _meg.fif.gz, _eeg.fif.gz or _ieeg.fif.gz\n",
      "  eeg_data = mne.io.read_raw_fif(name, preload=True)\n"
     ]
    },
    {
     "name": "stdout",
     "output_type": "stream",
     "text": [
      "Opening raw data file ../SEED_FRA_OUTPUT/POSITIVE/3_2_trial_12_signals.fif...\n",
      "    Range : 2492000 ... 2599000 =   2492.000 ...  2599.000 secs\n",
      "Ready.\n",
      "Reading 0 ... 107000  =      0.000 ...   107.000 secs...\n"
     ]
    },
    {
     "name": "stderr",
     "output_type": "stream",
     "text": [
      "C:\\Users\\marco\\AppData\\Local\\Temp\\ipykernel_6904\\2770616247.py:12: RuntimeWarning: This filename (../SEED_FRA_OUTPUT/POSITIVE/3_2_trial_12_signals.fif) does not conform to MNE naming conventions. All raw files should end with raw.fif, raw_sss.fif, raw_tsss.fif, _meg.fif, _eeg.fif, _ieeg.fif, raw.fif.gz, raw_sss.fif.gz, raw_tsss.fif.gz, _meg.fif.gz, _eeg.fif.gz or _ieeg.fif.gz\n",
      "  eeg_data = mne.io.read_raw_fif(name, preload=True)\n"
     ]
    },
    {
     "name": "stdout",
     "output_type": "stream",
     "text": [
      "Opening raw data file ../SEED_FRA_OUTPUT/POSITIVE/3_2_trial_17_signals.fif...\n",
      "    Range : 3216000 ... 3349000 =   3216.000 ...  3349.000 secs\n",
      "Ready.\n",
      "Reading 0 ... 133000  =      0.000 ...   133.000 secs...\n"
     ]
    },
    {
     "name": "stderr",
     "output_type": "stream",
     "text": [
      "C:\\Users\\marco\\AppData\\Local\\Temp\\ipykernel_6904\\2770616247.py:12: RuntimeWarning: This filename (../SEED_FRA_OUTPUT/POSITIVE/3_2_trial_17_signals.fif) does not conform to MNE naming conventions. All raw files should end with raw.fif, raw_sss.fif, raw_tsss.fif, _meg.fif, _eeg.fif, _ieeg.fif, raw.fif.gz, raw_sss.fif.gz, raw_tsss.fif.gz, _meg.fif.gz, _eeg.fif.gz or _ieeg.fif.gz\n",
      "  eeg_data = mne.io.read_raw_fif(name, preload=True)\n"
     ]
    },
    {
     "name": "stdout",
     "output_type": "stream",
     "text": [
      "Opening raw data file ../SEED_FRA_OUTPUT/POSITIVE/3_2_trial_20_signals.fif...\n",
      "    Range : 3622000 ... 3797000 =   3622.000 ...  3797.000 secs\n",
      "Ready.\n",
      "Reading 0 ... 175000  =      0.000 ...   175.000 secs...\n"
     ]
    },
    {
     "name": "stderr",
     "output_type": "stream",
     "text": [
      "C:\\Users\\marco\\AppData\\Local\\Temp\\ipykernel_6904\\2770616247.py:12: RuntimeWarning: This filename (../SEED_FRA_OUTPUT/POSITIVE/3_2_trial_20_signals.fif) does not conform to MNE naming conventions. All raw files should end with raw.fif, raw_sss.fif, raw_tsss.fif, _meg.fif, _eeg.fif, _ieeg.fif, raw.fif.gz, raw_sss.fif.gz, raw_tsss.fif.gz, _meg.fif.gz, _eeg.fif.gz or _ieeg.fif.gz\n",
      "  eeg_data = mne.io.read_raw_fif(name, preload=True)\n"
     ]
    },
    {
     "name": "stdout",
     "output_type": "stream",
     "text": [
      "Opening raw data file ../SEED_FRA_OUTPUT/POSITIVE/3_2_trial_4_signals.fif...\n",
      "    Range : 982000 ... 1082000 =    982.000 ...  1082.000 secs\n",
      "Ready.\n",
      "Reading 0 ... 100000  =      0.000 ...   100.000 secs...\n"
     ]
    },
    {
     "name": "stderr",
     "output_type": "stream",
     "text": [
      "C:\\Users\\marco\\AppData\\Local\\Temp\\ipykernel_6904\\2770616247.py:12: RuntimeWarning: This filename (../SEED_FRA_OUTPUT/POSITIVE/3_2_trial_4_signals.fif) does not conform to MNE naming conventions. All raw files should end with raw.fif, raw_sss.fif, raw_tsss.fif, _meg.fif, _eeg.fif, _ieeg.fif, raw.fif.gz, raw_sss.fif.gz, raw_tsss.fif.gz, _meg.fif.gz, _eeg.fif.gz or _ieeg.fif.gz\n",
      "  eeg_data = mne.io.read_raw_fif(name, preload=True)\n"
     ]
    },
    {
     "name": "stdout",
     "output_type": "stream",
     "text": [
      "Opening raw data file ../SEED_FRA_OUTPUT/POSITIVE/3_2_trial_8_signals.fif...\n",
      "    Range : 1738000 ... 1867000 =   1738.000 ...  1867.000 secs\n",
      "Ready.\n",
      "Reading 0 ... 129000  =      0.000 ...   129.000 secs...\n"
     ]
    },
    {
     "name": "stderr",
     "output_type": "stream",
     "text": [
      "C:\\Users\\marco\\AppData\\Local\\Temp\\ipykernel_6904\\2770616247.py:12: RuntimeWarning: This filename (../SEED_FRA_OUTPUT/POSITIVE/3_2_trial_8_signals.fif) does not conform to MNE naming conventions. All raw files should end with raw.fif, raw_sss.fif, raw_tsss.fif, _meg.fif, _eeg.fif, _ieeg.fif, raw.fif.gz, raw_sss.fif.gz, raw_tsss.fif.gz, _meg.fif.gz, _eeg.fif.gz or _ieeg.fif.gz\n",
      "  eeg_data = mne.io.read_raw_fif(name, preload=True)\n"
     ]
    },
    {
     "name": "stdout",
     "output_type": "stream",
     "text": [
      "Opening raw data file ../SEED_FRA_OUTPUT/POSITIVE/3_3_trial_0_signals.fif...\n",
      "    Range : 21000 ... 193000 =     21.000 ...   193.000 secs\n",
      "Ready.\n",
      "Reading 0 ... 172000  =      0.000 ...   172.000 secs...\n"
     ]
    },
    {
     "name": "stderr",
     "output_type": "stream",
     "text": [
      "C:\\Users\\marco\\AppData\\Local\\Temp\\ipykernel_6904\\2770616247.py:12: RuntimeWarning: This filename (../SEED_FRA_OUTPUT/POSITIVE/3_3_trial_0_signals.fif) does not conform to MNE naming conventions. All raw files should end with raw.fif, raw_sss.fif, raw_tsss.fif, _meg.fif, _eeg.fif, _ieeg.fif, raw.fif.gz, raw_sss.fif.gz, raw_tsss.fif.gz, _meg.fif.gz, _eeg.fif.gz or _ieeg.fif.gz\n",
      "  eeg_data = mne.io.read_raw_fif(name, preload=True)\n"
     ]
    },
    {
     "name": "stdout",
     "output_type": "stream",
     "text": [
      "Opening raw data file ../SEED_FRA_OUTPUT/POSITIVE/3_3_trial_11_signals.fif...\n",
      "    Range : 2327000 ... 2471000 =   2327.000 ...  2471.000 secs\n",
      "Ready.\n",
      "Reading 0 ... 144000  =      0.000 ...   144.000 secs...\n"
     ]
    },
    {
     "name": "stderr",
     "output_type": "stream",
     "text": [
      "C:\\Users\\marco\\AppData\\Local\\Temp\\ipykernel_6904\\2770616247.py:12: RuntimeWarning: This filename (../SEED_FRA_OUTPUT/POSITIVE/3_3_trial_11_signals.fif) does not conform to MNE naming conventions. All raw files should end with raw.fif, raw_sss.fif, raw_tsss.fif, _meg.fif, _eeg.fif, _ieeg.fif, raw.fif.gz, raw_sss.fif.gz, raw_tsss.fif.gz, _meg.fif.gz, _eeg.fif.gz or _ieeg.fif.gz\n",
      "  eeg_data = mne.io.read_raw_fif(name, preload=True)\n"
     ]
    },
    {
     "name": "stdout",
     "output_type": "stream",
     "text": [
      "Opening raw data file ../SEED_FRA_OUTPUT/POSITIVE/3_3_trial_12_signals.fif...\n",
      "    Range : 2492000 ... 2599000 =   2492.000 ...  2599.000 secs\n",
      "Ready.\n",
      "Reading 0 ... 107000  =      0.000 ...   107.000 secs...\n"
     ]
    },
    {
     "name": "stderr",
     "output_type": "stream",
     "text": [
      "C:\\Users\\marco\\AppData\\Local\\Temp\\ipykernel_6904\\2770616247.py:12: RuntimeWarning: This filename (../SEED_FRA_OUTPUT/POSITIVE/3_3_trial_12_signals.fif) does not conform to MNE naming conventions. All raw files should end with raw.fif, raw_sss.fif, raw_tsss.fif, _meg.fif, _eeg.fif, _ieeg.fif, raw.fif.gz, raw_sss.fif.gz, raw_tsss.fif.gz, _meg.fif.gz, _eeg.fif.gz or _ieeg.fif.gz\n",
      "  eeg_data = mne.io.read_raw_fif(name, preload=True)\n"
     ]
    },
    {
     "name": "stdout",
     "output_type": "stream",
     "text": [
      "Opening raw data file ../SEED_FRA_OUTPUT/POSITIVE/3_3_trial_17_signals.fif...\n",
      "    Range : 3216000 ... 3349000 =   3216.000 ...  3349.000 secs\n",
      "Ready.\n",
      "Reading 0 ... 133000  =      0.000 ...   133.000 secs...\n"
     ]
    },
    {
     "name": "stderr",
     "output_type": "stream",
     "text": [
      "C:\\Users\\marco\\AppData\\Local\\Temp\\ipykernel_6904\\2770616247.py:12: RuntimeWarning: This filename (../SEED_FRA_OUTPUT/POSITIVE/3_3_trial_17_signals.fif) does not conform to MNE naming conventions. All raw files should end with raw.fif, raw_sss.fif, raw_tsss.fif, _meg.fif, _eeg.fif, _ieeg.fif, raw.fif.gz, raw_sss.fif.gz, raw_tsss.fif.gz, _meg.fif.gz, _eeg.fif.gz or _ieeg.fif.gz\n",
      "  eeg_data = mne.io.read_raw_fif(name, preload=True)\n"
     ]
    },
    {
     "name": "stdout",
     "output_type": "stream",
     "text": [
      "Opening raw data file ../SEED_FRA_OUTPUT/POSITIVE/3_3_trial_20_signals.fif...\n",
      "    Range : 3622000 ... 3797000 =   3622.000 ...  3797.000 secs\n",
      "Ready.\n",
      "Reading 0 ... 175000  =      0.000 ...   175.000 secs...\n"
     ]
    },
    {
     "name": "stderr",
     "output_type": "stream",
     "text": [
      "C:\\Users\\marco\\AppData\\Local\\Temp\\ipykernel_6904\\2770616247.py:12: RuntimeWarning: This filename (../SEED_FRA_OUTPUT/POSITIVE/3_3_trial_20_signals.fif) does not conform to MNE naming conventions. All raw files should end with raw.fif, raw_sss.fif, raw_tsss.fif, _meg.fif, _eeg.fif, _ieeg.fif, raw.fif.gz, raw_sss.fif.gz, raw_tsss.fif.gz, _meg.fif.gz, _eeg.fif.gz or _ieeg.fif.gz\n",
      "  eeg_data = mne.io.read_raw_fif(name, preload=True)\n"
     ]
    },
    {
     "name": "stdout",
     "output_type": "stream",
     "text": [
      "Opening raw data file ../SEED_FRA_OUTPUT/POSITIVE/3_3_trial_4_signals.fif...\n",
      "    Range : 982000 ... 1082000 =    982.000 ...  1082.000 secs\n",
      "Ready.\n",
      "Reading 0 ... 100000  =      0.000 ...   100.000 secs...\n"
     ]
    },
    {
     "name": "stderr",
     "output_type": "stream",
     "text": [
      "C:\\Users\\marco\\AppData\\Local\\Temp\\ipykernel_6904\\2770616247.py:12: RuntimeWarning: This filename (../SEED_FRA_OUTPUT/POSITIVE/3_3_trial_4_signals.fif) does not conform to MNE naming conventions. All raw files should end with raw.fif, raw_sss.fif, raw_tsss.fif, _meg.fif, _eeg.fif, _ieeg.fif, raw.fif.gz, raw_sss.fif.gz, raw_tsss.fif.gz, _meg.fif.gz, _eeg.fif.gz or _ieeg.fif.gz\n",
      "  eeg_data = mne.io.read_raw_fif(name, preload=True)\n"
     ]
    },
    {
     "name": "stdout",
     "output_type": "stream",
     "text": [
      "Opening raw data file ../SEED_FRA_OUTPUT/POSITIVE/3_3_trial_8_signals.fif...\n",
      "    Range : 1738000 ... 1867000 =   1738.000 ...  1867.000 secs\n",
      "Ready.\n",
      "Reading 0 ... 129000  =      0.000 ...   129.000 secs...\n"
     ]
    },
    {
     "name": "stderr",
     "output_type": "stream",
     "text": [
      "C:\\Users\\marco\\AppData\\Local\\Temp\\ipykernel_6904\\2770616247.py:12: RuntimeWarning: This filename (../SEED_FRA_OUTPUT/POSITIVE/3_3_trial_8_signals.fif) does not conform to MNE naming conventions. All raw files should end with raw.fif, raw_sss.fif, raw_tsss.fif, _meg.fif, _eeg.fif, _ieeg.fif, raw.fif.gz, raw_sss.fif.gz, raw_tsss.fif.gz, _meg.fif.gz, _eeg.fif.gz or _ieeg.fif.gz\n",
      "  eeg_data = mne.io.read_raw_fif(name, preload=True)\n"
     ]
    },
    {
     "name": "stdout",
     "output_type": "stream",
     "text": [
      "Opening raw data file ../SEED_FRA_OUTPUT/POSITIVE/4_1_trial_0_signals.fif...\n",
      "    Range : 21000 ... 193000 =     21.000 ...   193.000 secs\n",
      "Ready.\n",
      "Reading 0 ... 172000  =      0.000 ...   172.000 secs...\n"
     ]
    },
    {
     "name": "stderr",
     "output_type": "stream",
     "text": [
      "C:\\Users\\marco\\AppData\\Local\\Temp\\ipykernel_6904\\2770616247.py:12: RuntimeWarning: This filename (../SEED_FRA_OUTPUT/POSITIVE/4_1_trial_0_signals.fif) does not conform to MNE naming conventions. All raw files should end with raw.fif, raw_sss.fif, raw_tsss.fif, _meg.fif, _eeg.fif, _ieeg.fif, raw.fif.gz, raw_sss.fif.gz, raw_tsss.fif.gz, _meg.fif.gz, _eeg.fif.gz or _ieeg.fif.gz\n",
      "  eeg_data = mne.io.read_raw_fif(name, preload=True)\n"
     ]
    },
    {
     "name": "stdout",
     "output_type": "stream",
     "text": [
      "Opening raw data file ../SEED_FRA_OUTPUT/POSITIVE/4_1_trial_11_signals.fif...\n",
      "    Range : 2327000 ... 2471000 =   2327.000 ...  2471.000 secs\n",
      "Ready.\n",
      "Reading 0 ... 144000  =      0.000 ...   144.000 secs...\n"
     ]
    },
    {
     "name": "stderr",
     "output_type": "stream",
     "text": [
      "C:\\Users\\marco\\AppData\\Local\\Temp\\ipykernel_6904\\2770616247.py:12: RuntimeWarning: This filename (../SEED_FRA_OUTPUT/POSITIVE/4_1_trial_11_signals.fif) does not conform to MNE naming conventions. All raw files should end with raw.fif, raw_sss.fif, raw_tsss.fif, _meg.fif, _eeg.fif, _ieeg.fif, raw.fif.gz, raw_sss.fif.gz, raw_tsss.fif.gz, _meg.fif.gz, _eeg.fif.gz or _ieeg.fif.gz\n",
      "  eeg_data = mne.io.read_raw_fif(name, preload=True)\n"
     ]
    },
    {
     "name": "stdout",
     "output_type": "stream",
     "text": [
      "Opening raw data file ../SEED_FRA_OUTPUT/POSITIVE/4_1_trial_12_signals.fif...\n",
      "    Range : 2492000 ... 2599000 =   2492.000 ...  2599.000 secs\n",
      "Ready.\n",
      "Reading 0 ... 107000  =      0.000 ...   107.000 secs...\n"
     ]
    },
    {
     "name": "stderr",
     "output_type": "stream",
     "text": [
      "C:\\Users\\marco\\AppData\\Local\\Temp\\ipykernel_6904\\2770616247.py:12: RuntimeWarning: This filename (../SEED_FRA_OUTPUT/POSITIVE/4_1_trial_12_signals.fif) does not conform to MNE naming conventions. All raw files should end with raw.fif, raw_sss.fif, raw_tsss.fif, _meg.fif, _eeg.fif, _ieeg.fif, raw.fif.gz, raw_sss.fif.gz, raw_tsss.fif.gz, _meg.fif.gz, _eeg.fif.gz or _ieeg.fif.gz\n",
      "  eeg_data = mne.io.read_raw_fif(name, preload=True)\n"
     ]
    },
    {
     "name": "stdout",
     "output_type": "stream",
     "text": [
      "Opening raw data file ../SEED_FRA_OUTPUT/POSITIVE/4_1_trial_17_signals.fif...\n",
      "    Range : 3216000 ... 3349000 =   3216.000 ...  3349.000 secs\n",
      "Ready.\n",
      "Reading 0 ... 133000  =      0.000 ...   133.000 secs...\n"
     ]
    },
    {
     "name": "stderr",
     "output_type": "stream",
     "text": [
      "C:\\Users\\marco\\AppData\\Local\\Temp\\ipykernel_6904\\2770616247.py:12: RuntimeWarning: This filename (../SEED_FRA_OUTPUT/POSITIVE/4_1_trial_17_signals.fif) does not conform to MNE naming conventions. All raw files should end with raw.fif, raw_sss.fif, raw_tsss.fif, _meg.fif, _eeg.fif, _ieeg.fif, raw.fif.gz, raw_sss.fif.gz, raw_tsss.fif.gz, _meg.fif.gz, _eeg.fif.gz or _ieeg.fif.gz\n",
      "  eeg_data = mne.io.read_raw_fif(name, preload=True)\n"
     ]
    },
    {
     "name": "stdout",
     "output_type": "stream",
     "text": [
      "Opening raw data file ../SEED_FRA_OUTPUT/POSITIVE/4_1_trial_20_signals.fif...\n",
      "    Range : 3622000 ... 3797000 =   3622.000 ...  3797.000 secs\n",
      "Ready.\n",
      "Reading 0 ... 175000  =      0.000 ...   175.000 secs...\n"
     ]
    },
    {
     "name": "stderr",
     "output_type": "stream",
     "text": [
      "C:\\Users\\marco\\AppData\\Local\\Temp\\ipykernel_6904\\2770616247.py:12: RuntimeWarning: This filename (../SEED_FRA_OUTPUT/POSITIVE/4_1_trial_20_signals.fif) does not conform to MNE naming conventions. All raw files should end with raw.fif, raw_sss.fif, raw_tsss.fif, _meg.fif, _eeg.fif, _ieeg.fif, raw.fif.gz, raw_sss.fif.gz, raw_tsss.fif.gz, _meg.fif.gz, _eeg.fif.gz or _ieeg.fif.gz\n",
      "  eeg_data = mne.io.read_raw_fif(name, preload=True)\n"
     ]
    },
    {
     "name": "stdout",
     "output_type": "stream",
     "text": [
      "Opening raw data file ../SEED_FRA_OUTPUT/POSITIVE/4_1_trial_4_signals.fif...\n",
      "    Range : 982000 ... 1082000 =    982.000 ...  1082.000 secs\n",
      "Ready.\n",
      "Reading 0 ... 100000  =      0.000 ...   100.000 secs...\n"
     ]
    },
    {
     "name": "stderr",
     "output_type": "stream",
     "text": [
      "C:\\Users\\marco\\AppData\\Local\\Temp\\ipykernel_6904\\2770616247.py:12: RuntimeWarning: This filename (../SEED_FRA_OUTPUT/POSITIVE/4_1_trial_4_signals.fif) does not conform to MNE naming conventions. All raw files should end with raw.fif, raw_sss.fif, raw_tsss.fif, _meg.fif, _eeg.fif, _ieeg.fif, raw.fif.gz, raw_sss.fif.gz, raw_tsss.fif.gz, _meg.fif.gz, _eeg.fif.gz or _ieeg.fif.gz\n",
      "  eeg_data = mne.io.read_raw_fif(name, preload=True)\n"
     ]
    },
    {
     "name": "stdout",
     "output_type": "stream",
     "text": [
      "Opening raw data file ../SEED_FRA_OUTPUT/POSITIVE/4_1_trial_8_signals.fif...\n",
      "    Range : 1738000 ... 1867000 =   1738.000 ...  1867.000 secs\n",
      "Ready.\n",
      "Reading 0 ... 129000  =      0.000 ...   129.000 secs...\n"
     ]
    },
    {
     "name": "stderr",
     "output_type": "stream",
     "text": [
      "C:\\Users\\marco\\AppData\\Local\\Temp\\ipykernel_6904\\2770616247.py:12: RuntimeWarning: This filename (../SEED_FRA_OUTPUT/POSITIVE/4_1_trial_8_signals.fif) does not conform to MNE naming conventions. All raw files should end with raw.fif, raw_sss.fif, raw_tsss.fif, _meg.fif, _eeg.fif, _ieeg.fif, raw.fif.gz, raw_sss.fif.gz, raw_tsss.fif.gz, _meg.fif.gz, _eeg.fif.gz or _ieeg.fif.gz\n",
      "  eeg_data = mne.io.read_raw_fif(name, preload=True)\n"
     ]
    },
    {
     "name": "stdout",
     "output_type": "stream",
     "text": [
      "Opening raw data file ../SEED_FRA_OUTPUT/POSITIVE/4_2_trial_0_signals.fif...\n",
      "    Range : 21000 ... 193000 =     21.000 ...   193.000 secs\n",
      "Ready.\n",
      "Reading 0 ... 172000  =      0.000 ...   172.000 secs...\n"
     ]
    },
    {
     "name": "stderr",
     "output_type": "stream",
     "text": [
      "C:\\Users\\marco\\AppData\\Local\\Temp\\ipykernel_6904\\2770616247.py:12: RuntimeWarning: This filename (../SEED_FRA_OUTPUT/POSITIVE/4_2_trial_0_signals.fif) does not conform to MNE naming conventions. All raw files should end with raw.fif, raw_sss.fif, raw_tsss.fif, _meg.fif, _eeg.fif, _ieeg.fif, raw.fif.gz, raw_sss.fif.gz, raw_tsss.fif.gz, _meg.fif.gz, _eeg.fif.gz or _ieeg.fif.gz\n",
      "  eeg_data = mne.io.read_raw_fif(name, preload=True)\n"
     ]
    },
    {
     "name": "stdout",
     "output_type": "stream",
     "text": [
      "Opening raw data file ../SEED_FRA_OUTPUT/POSITIVE/4_2_trial_11_signals.fif...\n",
      "    Range : 2327000 ... 2471000 =   2327.000 ...  2471.000 secs\n",
      "Ready.\n",
      "Reading 0 ... 144000  =      0.000 ...   144.000 secs...\n"
     ]
    },
    {
     "name": "stderr",
     "output_type": "stream",
     "text": [
      "C:\\Users\\marco\\AppData\\Local\\Temp\\ipykernel_6904\\2770616247.py:12: RuntimeWarning: This filename (../SEED_FRA_OUTPUT/POSITIVE/4_2_trial_11_signals.fif) does not conform to MNE naming conventions. All raw files should end with raw.fif, raw_sss.fif, raw_tsss.fif, _meg.fif, _eeg.fif, _ieeg.fif, raw.fif.gz, raw_sss.fif.gz, raw_tsss.fif.gz, _meg.fif.gz, _eeg.fif.gz or _ieeg.fif.gz\n",
      "  eeg_data = mne.io.read_raw_fif(name, preload=True)\n"
     ]
    },
    {
     "name": "stdout",
     "output_type": "stream",
     "text": [
      "Opening raw data file ../SEED_FRA_OUTPUT/POSITIVE/4_2_trial_12_signals.fif...\n",
      "    Range : 2492000 ... 2599000 =   2492.000 ...  2599.000 secs\n",
      "Ready.\n",
      "Reading 0 ... 107000  =      0.000 ...   107.000 secs...\n"
     ]
    },
    {
     "name": "stderr",
     "output_type": "stream",
     "text": [
      "C:\\Users\\marco\\AppData\\Local\\Temp\\ipykernel_6904\\2770616247.py:12: RuntimeWarning: This filename (../SEED_FRA_OUTPUT/POSITIVE/4_2_trial_12_signals.fif) does not conform to MNE naming conventions. All raw files should end with raw.fif, raw_sss.fif, raw_tsss.fif, _meg.fif, _eeg.fif, _ieeg.fif, raw.fif.gz, raw_sss.fif.gz, raw_tsss.fif.gz, _meg.fif.gz, _eeg.fif.gz or _ieeg.fif.gz\n",
      "  eeg_data = mne.io.read_raw_fif(name, preload=True)\n"
     ]
    },
    {
     "name": "stdout",
     "output_type": "stream",
     "text": [
      "Opening raw data file ../SEED_FRA_OUTPUT/POSITIVE/4_2_trial_17_signals.fif...\n",
      "    Range : 3216000 ... 3349000 =   3216.000 ...  3349.000 secs\n",
      "Ready.\n",
      "Reading 0 ... 133000  =      0.000 ...   133.000 secs...\n"
     ]
    },
    {
     "name": "stderr",
     "output_type": "stream",
     "text": [
      "C:\\Users\\marco\\AppData\\Local\\Temp\\ipykernel_6904\\2770616247.py:12: RuntimeWarning: This filename (../SEED_FRA_OUTPUT/POSITIVE/4_2_trial_17_signals.fif) does not conform to MNE naming conventions. All raw files should end with raw.fif, raw_sss.fif, raw_tsss.fif, _meg.fif, _eeg.fif, _ieeg.fif, raw.fif.gz, raw_sss.fif.gz, raw_tsss.fif.gz, _meg.fif.gz, _eeg.fif.gz or _ieeg.fif.gz\n",
      "  eeg_data = mne.io.read_raw_fif(name, preload=True)\n"
     ]
    },
    {
     "name": "stdout",
     "output_type": "stream",
     "text": [
      "Opening raw data file ../SEED_FRA_OUTPUT/POSITIVE/4_2_trial_20_signals.fif...\n",
      "    Range : 3622000 ... 3797000 =   3622.000 ...  3797.000 secs\n",
      "Ready.\n",
      "Reading 0 ... 175000  =      0.000 ...   175.000 secs...\n"
     ]
    },
    {
     "name": "stderr",
     "output_type": "stream",
     "text": [
      "C:\\Users\\marco\\AppData\\Local\\Temp\\ipykernel_6904\\2770616247.py:12: RuntimeWarning: This filename (../SEED_FRA_OUTPUT/POSITIVE/4_2_trial_20_signals.fif) does not conform to MNE naming conventions. All raw files should end with raw.fif, raw_sss.fif, raw_tsss.fif, _meg.fif, _eeg.fif, _ieeg.fif, raw.fif.gz, raw_sss.fif.gz, raw_tsss.fif.gz, _meg.fif.gz, _eeg.fif.gz or _ieeg.fif.gz\n",
      "  eeg_data = mne.io.read_raw_fif(name, preload=True)\n"
     ]
    },
    {
     "name": "stdout",
     "output_type": "stream",
     "text": [
      "Opening raw data file ../SEED_FRA_OUTPUT/POSITIVE/4_2_trial_4_signals.fif...\n",
      "    Range : 982000 ... 1082000 =    982.000 ...  1082.000 secs\n",
      "Ready.\n",
      "Reading 0 ... 100000  =      0.000 ...   100.000 secs...\n"
     ]
    },
    {
     "name": "stderr",
     "output_type": "stream",
     "text": [
      "C:\\Users\\marco\\AppData\\Local\\Temp\\ipykernel_6904\\2770616247.py:12: RuntimeWarning: This filename (../SEED_FRA_OUTPUT/POSITIVE/4_2_trial_4_signals.fif) does not conform to MNE naming conventions. All raw files should end with raw.fif, raw_sss.fif, raw_tsss.fif, _meg.fif, _eeg.fif, _ieeg.fif, raw.fif.gz, raw_sss.fif.gz, raw_tsss.fif.gz, _meg.fif.gz, _eeg.fif.gz or _ieeg.fif.gz\n",
      "  eeg_data = mne.io.read_raw_fif(name, preload=True)\n"
     ]
    },
    {
     "name": "stdout",
     "output_type": "stream",
     "text": [
      "Opening raw data file ../SEED_FRA_OUTPUT/POSITIVE/4_2_trial_8_signals.fif...\n",
      "    Range : 1738000 ... 1867000 =   1738.000 ...  1867.000 secs\n",
      "Ready.\n",
      "Reading 0 ... 129000  =      0.000 ...   129.000 secs...\n"
     ]
    },
    {
     "name": "stderr",
     "output_type": "stream",
     "text": [
      "C:\\Users\\marco\\AppData\\Local\\Temp\\ipykernel_6904\\2770616247.py:12: RuntimeWarning: This filename (../SEED_FRA_OUTPUT/POSITIVE/4_2_trial_8_signals.fif) does not conform to MNE naming conventions. All raw files should end with raw.fif, raw_sss.fif, raw_tsss.fif, _meg.fif, _eeg.fif, _ieeg.fif, raw.fif.gz, raw_sss.fif.gz, raw_tsss.fif.gz, _meg.fif.gz, _eeg.fif.gz or _ieeg.fif.gz\n",
      "  eeg_data = mne.io.read_raw_fif(name, preload=True)\n"
     ]
    },
    {
     "name": "stdout",
     "output_type": "stream",
     "text": [
      "Opening raw data file ../SEED_FRA_OUTPUT/POSITIVE/4_3_trial_0_signals.fif...\n",
      "    Range : 21000 ... 193000 =     21.000 ...   193.000 secs\n",
      "Ready.\n",
      "Reading 0 ... 172000  =      0.000 ...   172.000 secs...\n"
     ]
    },
    {
     "name": "stderr",
     "output_type": "stream",
     "text": [
      "C:\\Users\\marco\\AppData\\Local\\Temp\\ipykernel_6904\\2770616247.py:12: RuntimeWarning: This filename (../SEED_FRA_OUTPUT/POSITIVE/4_3_trial_0_signals.fif) does not conform to MNE naming conventions. All raw files should end with raw.fif, raw_sss.fif, raw_tsss.fif, _meg.fif, _eeg.fif, _ieeg.fif, raw.fif.gz, raw_sss.fif.gz, raw_tsss.fif.gz, _meg.fif.gz, _eeg.fif.gz or _ieeg.fif.gz\n",
      "  eeg_data = mne.io.read_raw_fif(name, preload=True)\n"
     ]
    },
    {
     "name": "stdout",
     "output_type": "stream",
     "text": [
      "Opening raw data file ../SEED_FRA_OUTPUT/POSITIVE/4_3_trial_11_signals.fif...\n",
      "    Range : 2327000 ... 2471000 =   2327.000 ...  2471.000 secs\n",
      "Ready.\n",
      "Reading 0 ... 144000  =      0.000 ...   144.000 secs...\n"
     ]
    },
    {
     "name": "stderr",
     "output_type": "stream",
     "text": [
      "C:\\Users\\marco\\AppData\\Local\\Temp\\ipykernel_6904\\2770616247.py:12: RuntimeWarning: This filename (../SEED_FRA_OUTPUT/POSITIVE/4_3_trial_11_signals.fif) does not conform to MNE naming conventions. All raw files should end with raw.fif, raw_sss.fif, raw_tsss.fif, _meg.fif, _eeg.fif, _ieeg.fif, raw.fif.gz, raw_sss.fif.gz, raw_tsss.fif.gz, _meg.fif.gz, _eeg.fif.gz or _ieeg.fif.gz\n",
      "  eeg_data = mne.io.read_raw_fif(name, preload=True)\n"
     ]
    },
    {
     "name": "stdout",
     "output_type": "stream",
     "text": [
      "Opening raw data file ../SEED_FRA_OUTPUT/POSITIVE/4_3_trial_12_signals.fif...\n",
      "    Range : 2492000 ... 2599000 =   2492.000 ...  2599.000 secs\n",
      "Ready.\n",
      "Reading 0 ... 107000  =      0.000 ...   107.000 secs...\n"
     ]
    },
    {
     "name": "stderr",
     "output_type": "stream",
     "text": [
      "C:\\Users\\marco\\AppData\\Local\\Temp\\ipykernel_6904\\2770616247.py:12: RuntimeWarning: This filename (../SEED_FRA_OUTPUT/POSITIVE/4_3_trial_12_signals.fif) does not conform to MNE naming conventions. All raw files should end with raw.fif, raw_sss.fif, raw_tsss.fif, _meg.fif, _eeg.fif, _ieeg.fif, raw.fif.gz, raw_sss.fif.gz, raw_tsss.fif.gz, _meg.fif.gz, _eeg.fif.gz or _ieeg.fif.gz\n",
      "  eeg_data = mne.io.read_raw_fif(name, preload=True)\n"
     ]
    },
    {
     "name": "stdout",
     "output_type": "stream",
     "text": [
      "Opening raw data file ../SEED_FRA_OUTPUT/POSITIVE/4_3_trial_17_signals.fif...\n",
      "    Range : 3216000 ... 3349000 =   3216.000 ...  3349.000 secs\n",
      "Ready.\n",
      "Reading 0 ... 133000  =      0.000 ...   133.000 secs...\n"
     ]
    },
    {
     "name": "stderr",
     "output_type": "stream",
     "text": [
      "C:\\Users\\marco\\AppData\\Local\\Temp\\ipykernel_6904\\2770616247.py:12: RuntimeWarning: This filename (../SEED_FRA_OUTPUT/POSITIVE/4_3_trial_17_signals.fif) does not conform to MNE naming conventions. All raw files should end with raw.fif, raw_sss.fif, raw_tsss.fif, _meg.fif, _eeg.fif, _ieeg.fif, raw.fif.gz, raw_sss.fif.gz, raw_tsss.fif.gz, _meg.fif.gz, _eeg.fif.gz or _ieeg.fif.gz\n",
      "  eeg_data = mne.io.read_raw_fif(name, preload=True)\n"
     ]
    },
    {
     "name": "stdout",
     "output_type": "stream",
     "text": [
      "Opening raw data file ../SEED_FRA_OUTPUT/POSITIVE/4_3_trial_20_signals.fif...\n",
      "    Range : 3622000 ... 3797000 =   3622.000 ...  3797.000 secs\n",
      "Ready.\n",
      "Reading 0 ... 175000  =      0.000 ...   175.000 secs...\n"
     ]
    },
    {
     "name": "stderr",
     "output_type": "stream",
     "text": [
      "C:\\Users\\marco\\AppData\\Local\\Temp\\ipykernel_6904\\2770616247.py:12: RuntimeWarning: This filename (../SEED_FRA_OUTPUT/POSITIVE/4_3_trial_20_signals.fif) does not conform to MNE naming conventions. All raw files should end with raw.fif, raw_sss.fif, raw_tsss.fif, _meg.fif, _eeg.fif, _ieeg.fif, raw.fif.gz, raw_sss.fif.gz, raw_tsss.fif.gz, _meg.fif.gz, _eeg.fif.gz or _ieeg.fif.gz\n",
      "  eeg_data = mne.io.read_raw_fif(name, preload=True)\n"
     ]
    },
    {
     "name": "stdout",
     "output_type": "stream",
     "text": [
      "Opening raw data file ../SEED_FRA_OUTPUT/POSITIVE/4_3_trial_4_signals.fif...\n",
      "    Range : 982000 ... 1082000 =    982.000 ...  1082.000 secs\n",
      "Ready.\n",
      "Reading 0 ... 100000  =      0.000 ...   100.000 secs...\n"
     ]
    },
    {
     "name": "stderr",
     "output_type": "stream",
     "text": [
      "C:\\Users\\marco\\AppData\\Local\\Temp\\ipykernel_6904\\2770616247.py:12: RuntimeWarning: This filename (../SEED_FRA_OUTPUT/POSITIVE/4_3_trial_4_signals.fif) does not conform to MNE naming conventions. All raw files should end with raw.fif, raw_sss.fif, raw_tsss.fif, _meg.fif, _eeg.fif, _ieeg.fif, raw.fif.gz, raw_sss.fif.gz, raw_tsss.fif.gz, _meg.fif.gz, _eeg.fif.gz or _ieeg.fif.gz\n",
      "  eeg_data = mne.io.read_raw_fif(name, preload=True)\n"
     ]
    },
    {
     "name": "stdout",
     "output_type": "stream",
     "text": [
      "Opening raw data file ../SEED_FRA_OUTPUT/POSITIVE/4_3_trial_8_signals.fif...\n",
      "    Range : 1738000 ... 1867000 =   1738.000 ...  1867.000 secs\n",
      "Ready.\n",
      "Reading 0 ... 129000  =      0.000 ...   129.000 secs...\n"
     ]
    },
    {
     "name": "stderr",
     "output_type": "stream",
     "text": [
      "C:\\Users\\marco\\AppData\\Local\\Temp\\ipykernel_6904\\2770616247.py:12: RuntimeWarning: This filename (../SEED_FRA_OUTPUT/POSITIVE/4_3_trial_8_signals.fif) does not conform to MNE naming conventions. All raw files should end with raw.fif, raw_sss.fif, raw_tsss.fif, _meg.fif, _eeg.fif, _ieeg.fif, raw.fif.gz, raw_sss.fif.gz, raw_tsss.fif.gz, _meg.fif.gz, _eeg.fif.gz or _ieeg.fif.gz\n",
      "  eeg_data = mne.io.read_raw_fif(name, preload=True)\n"
     ]
    },
    {
     "name": "stdout",
     "output_type": "stream",
     "text": [
      "Opening raw data file ../SEED_FRA_OUTPUT/POSITIVE/5_1_trial_0_signals.fif...\n",
      "    Range : 21000 ... 193000 =     21.000 ...   193.000 secs\n",
      "Ready.\n",
      "Reading 0 ... 172000  =      0.000 ...   172.000 secs...\n"
     ]
    },
    {
     "name": "stderr",
     "output_type": "stream",
     "text": [
      "C:\\Users\\marco\\AppData\\Local\\Temp\\ipykernel_6904\\2770616247.py:12: RuntimeWarning: This filename (../SEED_FRA_OUTPUT/POSITIVE/5_1_trial_0_signals.fif) does not conform to MNE naming conventions. All raw files should end with raw.fif, raw_sss.fif, raw_tsss.fif, _meg.fif, _eeg.fif, _ieeg.fif, raw.fif.gz, raw_sss.fif.gz, raw_tsss.fif.gz, _meg.fif.gz, _eeg.fif.gz or _ieeg.fif.gz\n",
      "  eeg_data = mne.io.read_raw_fif(name, preload=True)\n"
     ]
    },
    {
     "name": "stdout",
     "output_type": "stream",
     "text": [
      "Opening raw data file ../SEED_FRA_OUTPUT/POSITIVE/5_1_trial_11_signals.fif...\n",
      "    Range : 2327000 ... 2471000 =   2327.000 ...  2471.000 secs\n",
      "Ready.\n",
      "Reading 0 ... 144000  =      0.000 ...   144.000 secs...\n"
     ]
    },
    {
     "name": "stderr",
     "output_type": "stream",
     "text": [
      "C:\\Users\\marco\\AppData\\Local\\Temp\\ipykernel_6904\\2770616247.py:12: RuntimeWarning: This filename (../SEED_FRA_OUTPUT/POSITIVE/5_1_trial_11_signals.fif) does not conform to MNE naming conventions. All raw files should end with raw.fif, raw_sss.fif, raw_tsss.fif, _meg.fif, _eeg.fif, _ieeg.fif, raw.fif.gz, raw_sss.fif.gz, raw_tsss.fif.gz, _meg.fif.gz, _eeg.fif.gz or _ieeg.fif.gz\n",
      "  eeg_data = mne.io.read_raw_fif(name, preload=True)\n"
     ]
    },
    {
     "name": "stdout",
     "output_type": "stream",
     "text": [
      "Opening raw data file ../SEED_FRA_OUTPUT/POSITIVE/5_1_trial_12_signals.fif...\n",
      "    Range : 2492000 ... 2599000 =   2492.000 ...  2599.000 secs\n",
      "Ready.\n",
      "Reading 0 ... 107000  =      0.000 ...   107.000 secs...\n"
     ]
    },
    {
     "name": "stderr",
     "output_type": "stream",
     "text": [
      "C:\\Users\\marco\\AppData\\Local\\Temp\\ipykernel_6904\\2770616247.py:12: RuntimeWarning: This filename (../SEED_FRA_OUTPUT/POSITIVE/5_1_trial_12_signals.fif) does not conform to MNE naming conventions. All raw files should end with raw.fif, raw_sss.fif, raw_tsss.fif, _meg.fif, _eeg.fif, _ieeg.fif, raw.fif.gz, raw_sss.fif.gz, raw_tsss.fif.gz, _meg.fif.gz, _eeg.fif.gz or _ieeg.fif.gz\n",
      "  eeg_data = mne.io.read_raw_fif(name, preload=True)\n"
     ]
    },
    {
     "name": "stdout",
     "output_type": "stream",
     "text": [
      "Opening raw data file ../SEED_FRA_OUTPUT/POSITIVE/5_1_trial_17_signals.fif...\n",
      "    Range : 3216000 ... 3349000 =   3216.000 ...  3349.000 secs\n",
      "Ready.\n",
      "Reading 0 ... 133000  =      0.000 ...   133.000 secs...\n"
     ]
    },
    {
     "name": "stderr",
     "output_type": "stream",
     "text": [
      "C:\\Users\\marco\\AppData\\Local\\Temp\\ipykernel_6904\\2770616247.py:12: RuntimeWarning: This filename (../SEED_FRA_OUTPUT/POSITIVE/5_1_trial_17_signals.fif) does not conform to MNE naming conventions. All raw files should end with raw.fif, raw_sss.fif, raw_tsss.fif, _meg.fif, _eeg.fif, _ieeg.fif, raw.fif.gz, raw_sss.fif.gz, raw_tsss.fif.gz, _meg.fif.gz, _eeg.fif.gz or _ieeg.fif.gz\n",
      "  eeg_data = mne.io.read_raw_fif(name, preload=True)\n"
     ]
    },
    {
     "name": "stdout",
     "output_type": "stream",
     "text": [
      "Opening raw data file ../SEED_FRA_OUTPUT/POSITIVE/5_1_trial_20_signals.fif...\n",
      "    Range : 3622000 ... 3797000 =   3622.000 ...  3797.000 secs\n",
      "Ready.\n",
      "Reading 0 ... 175000  =      0.000 ...   175.000 secs...\n"
     ]
    },
    {
     "name": "stderr",
     "output_type": "stream",
     "text": [
      "C:\\Users\\marco\\AppData\\Local\\Temp\\ipykernel_6904\\2770616247.py:12: RuntimeWarning: This filename (../SEED_FRA_OUTPUT/POSITIVE/5_1_trial_20_signals.fif) does not conform to MNE naming conventions. All raw files should end with raw.fif, raw_sss.fif, raw_tsss.fif, _meg.fif, _eeg.fif, _ieeg.fif, raw.fif.gz, raw_sss.fif.gz, raw_tsss.fif.gz, _meg.fif.gz, _eeg.fif.gz or _ieeg.fif.gz\n",
      "  eeg_data = mne.io.read_raw_fif(name, preload=True)\n"
     ]
    },
    {
     "name": "stdout",
     "output_type": "stream",
     "text": [
      "Opening raw data file ../SEED_FRA_OUTPUT/POSITIVE/5_1_trial_4_signals.fif...\n",
      "    Range : 982000 ... 1082000 =    982.000 ...  1082.000 secs\n",
      "Ready.\n",
      "Reading 0 ... 100000  =      0.000 ...   100.000 secs...\n"
     ]
    },
    {
     "name": "stderr",
     "output_type": "stream",
     "text": [
      "C:\\Users\\marco\\AppData\\Local\\Temp\\ipykernel_6904\\2770616247.py:12: RuntimeWarning: This filename (../SEED_FRA_OUTPUT/POSITIVE/5_1_trial_4_signals.fif) does not conform to MNE naming conventions. All raw files should end with raw.fif, raw_sss.fif, raw_tsss.fif, _meg.fif, _eeg.fif, _ieeg.fif, raw.fif.gz, raw_sss.fif.gz, raw_tsss.fif.gz, _meg.fif.gz, _eeg.fif.gz or _ieeg.fif.gz\n",
      "  eeg_data = mne.io.read_raw_fif(name, preload=True)\n"
     ]
    },
    {
     "name": "stdout",
     "output_type": "stream",
     "text": [
      "Opening raw data file ../SEED_FRA_OUTPUT/POSITIVE/5_1_trial_8_signals.fif...\n",
      "    Range : 1738000 ... 1867000 =   1738.000 ...  1867.000 secs\n",
      "Ready.\n",
      "Reading 0 ... 129000  =      0.000 ...   129.000 secs...\n"
     ]
    },
    {
     "name": "stderr",
     "output_type": "stream",
     "text": [
      "C:\\Users\\marco\\AppData\\Local\\Temp\\ipykernel_6904\\2770616247.py:12: RuntimeWarning: This filename (../SEED_FRA_OUTPUT/POSITIVE/5_1_trial_8_signals.fif) does not conform to MNE naming conventions. All raw files should end with raw.fif, raw_sss.fif, raw_tsss.fif, _meg.fif, _eeg.fif, _ieeg.fif, raw.fif.gz, raw_sss.fif.gz, raw_tsss.fif.gz, _meg.fif.gz, _eeg.fif.gz or _ieeg.fif.gz\n",
      "  eeg_data = mne.io.read_raw_fif(name, preload=True)\n"
     ]
    },
    {
     "name": "stdout",
     "output_type": "stream",
     "text": [
      "Opening raw data file ../SEED_FRA_OUTPUT/POSITIVE/5_2_trial_0_signals.fif...\n",
      "    Range : 21000 ... 193000 =     21.000 ...   193.000 secs\n",
      "Ready.\n",
      "Reading 0 ... 172000  =      0.000 ...   172.000 secs...\n"
     ]
    },
    {
     "name": "stderr",
     "output_type": "stream",
     "text": [
      "C:\\Users\\marco\\AppData\\Local\\Temp\\ipykernel_6904\\2770616247.py:12: RuntimeWarning: This filename (../SEED_FRA_OUTPUT/POSITIVE/5_2_trial_0_signals.fif) does not conform to MNE naming conventions. All raw files should end with raw.fif, raw_sss.fif, raw_tsss.fif, _meg.fif, _eeg.fif, _ieeg.fif, raw.fif.gz, raw_sss.fif.gz, raw_tsss.fif.gz, _meg.fif.gz, _eeg.fif.gz or _ieeg.fif.gz\n",
      "  eeg_data = mne.io.read_raw_fif(name, preload=True)\n"
     ]
    },
    {
     "name": "stdout",
     "output_type": "stream",
     "text": [
      "Opening raw data file ../SEED_FRA_OUTPUT/POSITIVE/5_2_trial_11_signals.fif...\n",
      "    Range : 2327000 ... 2471000 =   2327.000 ...  2471.000 secs\n",
      "Ready.\n",
      "Reading 0 ... 144000  =      0.000 ...   144.000 secs...\n"
     ]
    },
    {
     "name": "stderr",
     "output_type": "stream",
     "text": [
      "C:\\Users\\marco\\AppData\\Local\\Temp\\ipykernel_6904\\2770616247.py:12: RuntimeWarning: This filename (../SEED_FRA_OUTPUT/POSITIVE/5_2_trial_11_signals.fif) does not conform to MNE naming conventions. All raw files should end with raw.fif, raw_sss.fif, raw_tsss.fif, _meg.fif, _eeg.fif, _ieeg.fif, raw.fif.gz, raw_sss.fif.gz, raw_tsss.fif.gz, _meg.fif.gz, _eeg.fif.gz or _ieeg.fif.gz\n",
      "  eeg_data = mne.io.read_raw_fif(name, preload=True)\n"
     ]
    },
    {
     "name": "stdout",
     "output_type": "stream",
     "text": [
      "Opening raw data file ../SEED_FRA_OUTPUT/POSITIVE/5_2_trial_12_signals.fif...\n",
      "    Range : 2492000 ... 2599000 =   2492.000 ...  2599.000 secs\n",
      "Ready.\n",
      "Reading 0 ... 107000  =      0.000 ...   107.000 secs...\n"
     ]
    },
    {
     "name": "stderr",
     "output_type": "stream",
     "text": [
      "C:\\Users\\marco\\AppData\\Local\\Temp\\ipykernel_6904\\2770616247.py:12: RuntimeWarning: This filename (../SEED_FRA_OUTPUT/POSITIVE/5_2_trial_12_signals.fif) does not conform to MNE naming conventions. All raw files should end with raw.fif, raw_sss.fif, raw_tsss.fif, _meg.fif, _eeg.fif, _ieeg.fif, raw.fif.gz, raw_sss.fif.gz, raw_tsss.fif.gz, _meg.fif.gz, _eeg.fif.gz or _ieeg.fif.gz\n",
      "  eeg_data = mne.io.read_raw_fif(name, preload=True)\n"
     ]
    },
    {
     "name": "stdout",
     "output_type": "stream",
     "text": [
      "Opening raw data file ../SEED_FRA_OUTPUT/POSITIVE/5_2_trial_17_signals.fif...\n",
      "    Range : 3216000 ... 3349000 =   3216.000 ...  3349.000 secs\n",
      "Ready.\n",
      "Reading 0 ... 133000  =      0.000 ...   133.000 secs...\n"
     ]
    },
    {
     "name": "stderr",
     "output_type": "stream",
     "text": [
      "C:\\Users\\marco\\AppData\\Local\\Temp\\ipykernel_6904\\2770616247.py:12: RuntimeWarning: This filename (../SEED_FRA_OUTPUT/POSITIVE/5_2_trial_17_signals.fif) does not conform to MNE naming conventions. All raw files should end with raw.fif, raw_sss.fif, raw_tsss.fif, _meg.fif, _eeg.fif, _ieeg.fif, raw.fif.gz, raw_sss.fif.gz, raw_tsss.fif.gz, _meg.fif.gz, _eeg.fif.gz or _ieeg.fif.gz\n",
      "  eeg_data = mne.io.read_raw_fif(name, preload=True)\n"
     ]
    },
    {
     "name": "stdout",
     "output_type": "stream",
     "text": [
      "Opening raw data file ../SEED_FRA_OUTPUT/POSITIVE/5_2_trial_20_signals.fif...\n",
      "    Range : 3622000 ... 3797000 =   3622.000 ...  3797.000 secs\n",
      "Ready.\n",
      "Reading 0 ... 175000  =      0.000 ...   175.000 secs...\n"
     ]
    },
    {
     "name": "stderr",
     "output_type": "stream",
     "text": [
      "C:\\Users\\marco\\AppData\\Local\\Temp\\ipykernel_6904\\2770616247.py:12: RuntimeWarning: This filename (../SEED_FRA_OUTPUT/POSITIVE/5_2_trial_20_signals.fif) does not conform to MNE naming conventions. All raw files should end with raw.fif, raw_sss.fif, raw_tsss.fif, _meg.fif, _eeg.fif, _ieeg.fif, raw.fif.gz, raw_sss.fif.gz, raw_tsss.fif.gz, _meg.fif.gz, _eeg.fif.gz or _ieeg.fif.gz\n",
      "  eeg_data = mne.io.read_raw_fif(name, preload=True)\n"
     ]
    },
    {
     "name": "stdout",
     "output_type": "stream",
     "text": [
      "Opening raw data file ../SEED_FRA_OUTPUT/POSITIVE/5_2_trial_4_signals.fif...\n",
      "    Range : 982000 ... 1082000 =    982.000 ...  1082.000 secs\n",
      "Ready.\n",
      "Reading 0 ... 100000  =      0.000 ...   100.000 secs...\n"
     ]
    },
    {
     "name": "stderr",
     "output_type": "stream",
     "text": [
      "C:\\Users\\marco\\AppData\\Local\\Temp\\ipykernel_6904\\2770616247.py:12: RuntimeWarning: This filename (../SEED_FRA_OUTPUT/POSITIVE/5_2_trial_4_signals.fif) does not conform to MNE naming conventions. All raw files should end with raw.fif, raw_sss.fif, raw_tsss.fif, _meg.fif, _eeg.fif, _ieeg.fif, raw.fif.gz, raw_sss.fif.gz, raw_tsss.fif.gz, _meg.fif.gz, _eeg.fif.gz or _ieeg.fif.gz\n",
      "  eeg_data = mne.io.read_raw_fif(name, preload=True)\n"
     ]
    },
    {
     "name": "stdout",
     "output_type": "stream",
     "text": [
      "Opening raw data file ../SEED_FRA_OUTPUT/POSITIVE/5_2_trial_8_signals.fif...\n",
      "    Range : 1738000 ... 1867000 =   1738.000 ...  1867.000 secs\n",
      "Ready.\n",
      "Reading 0 ... 129000  =      0.000 ...   129.000 secs...\n"
     ]
    },
    {
     "name": "stderr",
     "output_type": "stream",
     "text": [
      "C:\\Users\\marco\\AppData\\Local\\Temp\\ipykernel_6904\\2770616247.py:12: RuntimeWarning: This filename (../SEED_FRA_OUTPUT/POSITIVE/5_2_trial_8_signals.fif) does not conform to MNE naming conventions. All raw files should end with raw.fif, raw_sss.fif, raw_tsss.fif, _meg.fif, _eeg.fif, _ieeg.fif, raw.fif.gz, raw_sss.fif.gz, raw_tsss.fif.gz, _meg.fif.gz, _eeg.fif.gz or _ieeg.fif.gz\n",
      "  eeg_data = mne.io.read_raw_fif(name, preload=True)\n"
     ]
    },
    {
     "name": "stdout",
     "output_type": "stream",
     "text": [
      "Opening raw data file ../SEED_FRA_OUTPUT/POSITIVE/5_3_trial_0_signals.fif...\n",
      "    Range : 21000 ... 193000 =     21.000 ...   193.000 secs\n",
      "Ready.\n",
      "Reading 0 ... 172000  =      0.000 ...   172.000 secs...\n"
     ]
    },
    {
     "name": "stderr",
     "output_type": "stream",
     "text": [
      "C:\\Users\\marco\\AppData\\Local\\Temp\\ipykernel_6904\\2770616247.py:12: RuntimeWarning: This filename (../SEED_FRA_OUTPUT/POSITIVE/5_3_trial_0_signals.fif) does not conform to MNE naming conventions. All raw files should end with raw.fif, raw_sss.fif, raw_tsss.fif, _meg.fif, _eeg.fif, _ieeg.fif, raw.fif.gz, raw_sss.fif.gz, raw_tsss.fif.gz, _meg.fif.gz, _eeg.fif.gz or _ieeg.fif.gz\n",
      "  eeg_data = mne.io.read_raw_fif(name, preload=True)\n"
     ]
    },
    {
     "name": "stdout",
     "output_type": "stream",
     "text": [
      "Opening raw data file ../SEED_FRA_OUTPUT/POSITIVE/5_3_trial_11_signals.fif...\n",
      "    Range : 2327000 ... 2471000 =   2327.000 ...  2471.000 secs\n",
      "Ready.\n",
      "Reading 0 ... 144000  =      0.000 ...   144.000 secs...\n"
     ]
    },
    {
     "name": "stderr",
     "output_type": "stream",
     "text": [
      "C:\\Users\\marco\\AppData\\Local\\Temp\\ipykernel_6904\\2770616247.py:12: RuntimeWarning: This filename (../SEED_FRA_OUTPUT/POSITIVE/5_3_trial_11_signals.fif) does not conform to MNE naming conventions. All raw files should end with raw.fif, raw_sss.fif, raw_tsss.fif, _meg.fif, _eeg.fif, _ieeg.fif, raw.fif.gz, raw_sss.fif.gz, raw_tsss.fif.gz, _meg.fif.gz, _eeg.fif.gz or _ieeg.fif.gz\n",
      "  eeg_data = mne.io.read_raw_fif(name, preload=True)\n"
     ]
    },
    {
     "name": "stdout",
     "output_type": "stream",
     "text": [
      "Opening raw data file ../SEED_FRA_OUTPUT/POSITIVE/5_3_trial_12_signals.fif...\n",
      "    Range : 2492000 ... 2599000 =   2492.000 ...  2599.000 secs\n",
      "Ready.\n",
      "Reading 0 ... 107000  =      0.000 ...   107.000 secs...\n"
     ]
    },
    {
     "name": "stderr",
     "output_type": "stream",
     "text": [
      "C:\\Users\\marco\\AppData\\Local\\Temp\\ipykernel_6904\\2770616247.py:12: RuntimeWarning: This filename (../SEED_FRA_OUTPUT/POSITIVE/5_3_trial_12_signals.fif) does not conform to MNE naming conventions. All raw files should end with raw.fif, raw_sss.fif, raw_tsss.fif, _meg.fif, _eeg.fif, _ieeg.fif, raw.fif.gz, raw_sss.fif.gz, raw_tsss.fif.gz, _meg.fif.gz, _eeg.fif.gz or _ieeg.fif.gz\n",
      "  eeg_data = mne.io.read_raw_fif(name, preload=True)\n"
     ]
    },
    {
     "name": "stdout",
     "output_type": "stream",
     "text": [
      "Opening raw data file ../SEED_FRA_OUTPUT/POSITIVE/5_3_trial_17_signals.fif...\n",
      "    Range : 3216000 ... 3349000 =   3216.000 ...  3349.000 secs\n",
      "Ready.\n",
      "Reading 0 ... 133000  =      0.000 ...   133.000 secs...\n"
     ]
    },
    {
     "name": "stderr",
     "output_type": "stream",
     "text": [
      "C:\\Users\\marco\\AppData\\Local\\Temp\\ipykernel_6904\\2770616247.py:12: RuntimeWarning: This filename (../SEED_FRA_OUTPUT/POSITIVE/5_3_trial_17_signals.fif) does not conform to MNE naming conventions. All raw files should end with raw.fif, raw_sss.fif, raw_tsss.fif, _meg.fif, _eeg.fif, _ieeg.fif, raw.fif.gz, raw_sss.fif.gz, raw_tsss.fif.gz, _meg.fif.gz, _eeg.fif.gz or _ieeg.fif.gz\n",
      "  eeg_data = mne.io.read_raw_fif(name, preload=True)\n"
     ]
    },
    {
     "name": "stdout",
     "output_type": "stream",
     "text": [
      "Opening raw data file ../SEED_FRA_OUTPUT/POSITIVE/5_3_trial_20_signals.fif...\n",
      "    Range : 3622000 ... 3797000 =   3622.000 ...  3797.000 secs\n",
      "Ready.\n",
      "Reading 0 ... 175000  =      0.000 ...   175.000 secs...\n"
     ]
    },
    {
     "name": "stderr",
     "output_type": "stream",
     "text": [
      "C:\\Users\\marco\\AppData\\Local\\Temp\\ipykernel_6904\\2770616247.py:12: RuntimeWarning: This filename (../SEED_FRA_OUTPUT/POSITIVE/5_3_trial_20_signals.fif) does not conform to MNE naming conventions. All raw files should end with raw.fif, raw_sss.fif, raw_tsss.fif, _meg.fif, _eeg.fif, _ieeg.fif, raw.fif.gz, raw_sss.fif.gz, raw_tsss.fif.gz, _meg.fif.gz, _eeg.fif.gz or _ieeg.fif.gz\n",
      "  eeg_data = mne.io.read_raw_fif(name, preload=True)\n"
     ]
    },
    {
     "name": "stdout",
     "output_type": "stream",
     "text": [
      "Opening raw data file ../SEED_FRA_OUTPUT/POSITIVE/5_3_trial_4_signals.fif...\n",
      "    Range : 982000 ... 1082000 =    982.000 ...  1082.000 secs\n",
      "Ready.\n",
      "Reading 0 ... 100000  =      0.000 ...   100.000 secs...\n"
     ]
    },
    {
     "name": "stderr",
     "output_type": "stream",
     "text": [
      "C:\\Users\\marco\\AppData\\Local\\Temp\\ipykernel_6904\\2770616247.py:12: RuntimeWarning: This filename (../SEED_FRA_OUTPUT/POSITIVE/5_3_trial_4_signals.fif) does not conform to MNE naming conventions. All raw files should end with raw.fif, raw_sss.fif, raw_tsss.fif, _meg.fif, _eeg.fif, _ieeg.fif, raw.fif.gz, raw_sss.fif.gz, raw_tsss.fif.gz, _meg.fif.gz, _eeg.fif.gz or _ieeg.fif.gz\n",
      "  eeg_data = mne.io.read_raw_fif(name, preload=True)\n"
     ]
    },
    {
     "name": "stdout",
     "output_type": "stream",
     "text": [
      "Opening raw data file ../SEED_FRA_OUTPUT/POSITIVE/5_3_trial_8_signals.fif...\n",
      "    Range : 1738000 ... 1867000 =   1738.000 ...  1867.000 secs\n",
      "Ready.\n",
      "Reading 0 ... 129000  =      0.000 ...   129.000 secs...\n"
     ]
    },
    {
     "name": "stderr",
     "output_type": "stream",
     "text": [
      "C:\\Users\\marco\\AppData\\Local\\Temp\\ipykernel_6904\\2770616247.py:12: RuntimeWarning: This filename (../SEED_FRA_OUTPUT/POSITIVE/5_3_trial_8_signals.fif) does not conform to MNE naming conventions. All raw files should end with raw.fif, raw_sss.fif, raw_tsss.fif, _meg.fif, _eeg.fif, _ieeg.fif, raw.fif.gz, raw_sss.fif.gz, raw_tsss.fif.gz, _meg.fif.gz, _eeg.fif.gz or _ieeg.fif.gz\n",
      "  eeg_data = mne.io.read_raw_fif(name, preload=True)\n"
     ]
    },
    {
     "name": "stdout",
     "output_type": "stream",
     "text": [
      "Opening raw data file ../SEED_FRA_OUTPUT/POSITIVE/6_1_trial_0_signals.fif...\n",
      "    Range : 21000 ... 193000 =     21.000 ...   193.000 secs\n",
      "Ready.\n",
      "Reading 0 ... 172000  =      0.000 ...   172.000 secs...\n"
     ]
    },
    {
     "name": "stderr",
     "output_type": "stream",
     "text": [
      "C:\\Users\\marco\\AppData\\Local\\Temp\\ipykernel_6904\\2770616247.py:12: RuntimeWarning: This filename (../SEED_FRA_OUTPUT/POSITIVE/6_1_trial_0_signals.fif) does not conform to MNE naming conventions. All raw files should end with raw.fif, raw_sss.fif, raw_tsss.fif, _meg.fif, _eeg.fif, _ieeg.fif, raw.fif.gz, raw_sss.fif.gz, raw_tsss.fif.gz, _meg.fif.gz, _eeg.fif.gz or _ieeg.fif.gz\n",
      "  eeg_data = mne.io.read_raw_fif(name, preload=True)\n"
     ]
    },
    {
     "name": "stdout",
     "output_type": "stream",
     "text": [
      "Opening raw data file ../SEED_FRA_OUTPUT/POSITIVE/6_1_trial_11_signals.fif...\n",
      "    Range : 2327000 ... 2471000 =   2327.000 ...  2471.000 secs\n",
      "Ready.\n",
      "Reading 0 ... 144000  =      0.000 ...   144.000 secs...\n"
     ]
    },
    {
     "name": "stderr",
     "output_type": "stream",
     "text": [
      "C:\\Users\\marco\\AppData\\Local\\Temp\\ipykernel_6904\\2770616247.py:12: RuntimeWarning: This filename (../SEED_FRA_OUTPUT/POSITIVE/6_1_trial_11_signals.fif) does not conform to MNE naming conventions. All raw files should end with raw.fif, raw_sss.fif, raw_tsss.fif, _meg.fif, _eeg.fif, _ieeg.fif, raw.fif.gz, raw_sss.fif.gz, raw_tsss.fif.gz, _meg.fif.gz, _eeg.fif.gz or _ieeg.fif.gz\n",
      "  eeg_data = mne.io.read_raw_fif(name, preload=True)\n"
     ]
    },
    {
     "name": "stdout",
     "output_type": "stream",
     "text": [
      "Opening raw data file ../SEED_FRA_OUTPUT/POSITIVE/6_1_trial_12_signals.fif...\n",
      "    Range : 2492000 ... 2599000 =   2492.000 ...  2599.000 secs\n",
      "Ready.\n",
      "Reading 0 ... 107000  =      0.000 ...   107.000 secs...\n"
     ]
    },
    {
     "name": "stderr",
     "output_type": "stream",
     "text": [
      "C:\\Users\\marco\\AppData\\Local\\Temp\\ipykernel_6904\\2770616247.py:12: RuntimeWarning: This filename (../SEED_FRA_OUTPUT/POSITIVE/6_1_trial_12_signals.fif) does not conform to MNE naming conventions. All raw files should end with raw.fif, raw_sss.fif, raw_tsss.fif, _meg.fif, _eeg.fif, _ieeg.fif, raw.fif.gz, raw_sss.fif.gz, raw_tsss.fif.gz, _meg.fif.gz, _eeg.fif.gz or _ieeg.fif.gz\n",
      "  eeg_data = mne.io.read_raw_fif(name, preload=True)\n"
     ]
    },
    {
     "name": "stdout",
     "output_type": "stream",
     "text": [
      "Opening raw data file ../SEED_FRA_OUTPUT/POSITIVE/6_1_trial_17_signals.fif...\n",
      "    Range : 3216000 ... 3349000 =   3216.000 ...  3349.000 secs\n",
      "Ready.\n",
      "Reading 0 ... 133000  =      0.000 ...   133.000 secs...\n"
     ]
    },
    {
     "name": "stderr",
     "output_type": "stream",
     "text": [
      "C:\\Users\\marco\\AppData\\Local\\Temp\\ipykernel_6904\\2770616247.py:12: RuntimeWarning: This filename (../SEED_FRA_OUTPUT/POSITIVE/6_1_trial_17_signals.fif) does not conform to MNE naming conventions. All raw files should end with raw.fif, raw_sss.fif, raw_tsss.fif, _meg.fif, _eeg.fif, _ieeg.fif, raw.fif.gz, raw_sss.fif.gz, raw_tsss.fif.gz, _meg.fif.gz, _eeg.fif.gz or _ieeg.fif.gz\n",
      "  eeg_data = mne.io.read_raw_fif(name, preload=True)\n"
     ]
    },
    {
     "name": "stdout",
     "output_type": "stream",
     "text": [
      "Opening raw data file ../SEED_FRA_OUTPUT/POSITIVE/6_1_trial_20_signals.fif...\n",
      "    Range : 3622000 ... 3797000 =   3622.000 ...  3797.000 secs\n",
      "Ready.\n",
      "Reading 0 ... 175000  =      0.000 ...   175.000 secs...\n"
     ]
    },
    {
     "name": "stderr",
     "output_type": "stream",
     "text": [
      "C:\\Users\\marco\\AppData\\Local\\Temp\\ipykernel_6904\\2770616247.py:12: RuntimeWarning: This filename (../SEED_FRA_OUTPUT/POSITIVE/6_1_trial_20_signals.fif) does not conform to MNE naming conventions. All raw files should end with raw.fif, raw_sss.fif, raw_tsss.fif, _meg.fif, _eeg.fif, _ieeg.fif, raw.fif.gz, raw_sss.fif.gz, raw_tsss.fif.gz, _meg.fif.gz, _eeg.fif.gz or _ieeg.fif.gz\n",
      "  eeg_data = mne.io.read_raw_fif(name, preload=True)\n"
     ]
    },
    {
     "name": "stdout",
     "output_type": "stream",
     "text": [
      "Opening raw data file ../SEED_FRA_OUTPUT/POSITIVE/6_1_trial_4_signals.fif...\n",
      "    Range : 982000 ... 1082000 =    982.000 ...  1082.000 secs\n",
      "Ready.\n",
      "Reading 0 ... 100000  =      0.000 ...   100.000 secs...\n"
     ]
    },
    {
     "name": "stderr",
     "output_type": "stream",
     "text": [
      "C:\\Users\\marco\\AppData\\Local\\Temp\\ipykernel_6904\\2770616247.py:12: RuntimeWarning: This filename (../SEED_FRA_OUTPUT/POSITIVE/6_1_trial_4_signals.fif) does not conform to MNE naming conventions. All raw files should end with raw.fif, raw_sss.fif, raw_tsss.fif, _meg.fif, _eeg.fif, _ieeg.fif, raw.fif.gz, raw_sss.fif.gz, raw_tsss.fif.gz, _meg.fif.gz, _eeg.fif.gz or _ieeg.fif.gz\n",
      "  eeg_data = mne.io.read_raw_fif(name, preload=True)\n"
     ]
    },
    {
     "name": "stdout",
     "output_type": "stream",
     "text": [
      "Opening raw data file ../SEED_FRA_OUTPUT/POSITIVE/6_1_trial_8_signals.fif...\n",
      "    Range : 1738000 ... 1867000 =   1738.000 ...  1867.000 secs\n",
      "Ready.\n",
      "Reading 0 ... 129000  =      0.000 ...   129.000 secs...\n"
     ]
    },
    {
     "name": "stderr",
     "output_type": "stream",
     "text": [
      "C:\\Users\\marco\\AppData\\Local\\Temp\\ipykernel_6904\\2770616247.py:12: RuntimeWarning: This filename (../SEED_FRA_OUTPUT/POSITIVE/6_1_trial_8_signals.fif) does not conform to MNE naming conventions. All raw files should end with raw.fif, raw_sss.fif, raw_tsss.fif, _meg.fif, _eeg.fif, _ieeg.fif, raw.fif.gz, raw_sss.fif.gz, raw_tsss.fif.gz, _meg.fif.gz, _eeg.fif.gz or _ieeg.fif.gz\n",
      "  eeg_data = mne.io.read_raw_fif(name, preload=True)\n"
     ]
    },
    {
     "name": "stdout",
     "output_type": "stream",
     "text": [
      "Opening raw data file ../SEED_FRA_OUTPUT/POSITIVE/6_2_trial_0_signals.fif...\n",
      "    Range : 21000 ... 193000 =     21.000 ...   193.000 secs\n",
      "Ready.\n",
      "Reading 0 ... 172000  =      0.000 ...   172.000 secs...\n"
     ]
    },
    {
     "name": "stderr",
     "output_type": "stream",
     "text": [
      "C:\\Users\\marco\\AppData\\Local\\Temp\\ipykernel_6904\\2770616247.py:12: RuntimeWarning: This filename (../SEED_FRA_OUTPUT/POSITIVE/6_2_trial_0_signals.fif) does not conform to MNE naming conventions. All raw files should end with raw.fif, raw_sss.fif, raw_tsss.fif, _meg.fif, _eeg.fif, _ieeg.fif, raw.fif.gz, raw_sss.fif.gz, raw_tsss.fif.gz, _meg.fif.gz, _eeg.fif.gz or _ieeg.fif.gz\n",
      "  eeg_data = mne.io.read_raw_fif(name, preload=True)\n"
     ]
    },
    {
     "name": "stdout",
     "output_type": "stream",
     "text": [
      "Opening raw data file ../SEED_FRA_OUTPUT/POSITIVE/6_2_trial_11_signals.fif...\n",
      "    Range : 2327000 ... 2471000 =   2327.000 ...  2471.000 secs\n",
      "Ready.\n",
      "Reading 0 ... 144000  =      0.000 ...   144.000 secs...\n"
     ]
    },
    {
     "name": "stderr",
     "output_type": "stream",
     "text": [
      "C:\\Users\\marco\\AppData\\Local\\Temp\\ipykernel_6904\\2770616247.py:12: RuntimeWarning: This filename (../SEED_FRA_OUTPUT/POSITIVE/6_2_trial_11_signals.fif) does not conform to MNE naming conventions. All raw files should end with raw.fif, raw_sss.fif, raw_tsss.fif, _meg.fif, _eeg.fif, _ieeg.fif, raw.fif.gz, raw_sss.fif.gz, raw_tsss.fif.gz, _meg.fif.gz, _eeg.fif.gz or _ieeg.fif.gz\n",
      "  eeg_data = mne.io.read_raw_fif(name, preload=True)\n"
     ]
    },
    {
     "name": "stdout",
     "output_type": "stream",
     "text": [
      "Opening raw data file ../SEED_FRA_OUTPUT/POSITIVE/6_2_trial_12_signals.fif...\n",
      "    Range : 2492000 ... 2599000 =   2492.000 ...  2599.000 secs\n",
      "Ready.\n",
      "Reading 0 ... 107000  =      0.000 ...   107.000 secs...\n"
     ]
    },
    {
     "name": "stderr",
     "output_type": "stream",
     "text": [
      "C:\\Users\\marco\\AppData\\Local\\Temp\\ipykernel_6904\\2770616247.py:12: RuntimeWarning: This filename (../SEED_FRA_OUTPUT/POSITIVE/6_2_trial_12_signals.fif) does not conform to MNE naming conventions. All raw files should end with raw.fif, raw_sss.fif, raw_tsss.fif, _meg.fif, _eeg.fif, _ieeg.fif, raw.fif.gz, raw_sss.fif.gz, raw_tsss.fif.gz, _meg.fif.gz, _eeg.fif.gz or _ieeg.fif.gz\n",
      "  eeg_data = mne.io.read_raw_fif(name, preload=True)\n"
     ]
    },
    {
     "name": "stdout",
     "output_type": "stream",
     "text": [
      "Opening raw data file ../SEED_FRA_OUTPUT/POSITIVE/6_2_trial_17_signals.fif...\n",
      "    Range : 3216000 ... 3349000 =   3216.000 ...  3349.000 secs\n",
      "Ready.\n",
      "Reading 0 ... 133000  =      0.000 ...   133.000 secs...\n"
     ]
    },
    {
     "name": "stderr",
     "output_type": "stream",
     "text": [
      "C:\\Users\\marco\\AppData\\Local\\Temp\\ipykernel_6904\\2770616247.py:12: RuntimeWarning: This filename (../SEED_FRA_OUTPUT/POSITIVE/6_2_trial_17_signals.fif) does not conform to MNE naming conventions. All raw files should end with raw.fif, raw_sss.fif, raw_tsss.fif, _meg.fif, _eeg.fif, _ieeg.fif, raw.fif.gz, raw_sss.fif.gz, raw_tsss.fif.gz, _meg.fif.gz, _eeg.fif.gz or _ieeg.fif.gz\n",
      "  eeg_data = mne.io.read_raw_fif(name, preload=True)\n"
     ]
    },
    {
     "name": "stdout",
     "output_type": "stream",
     "text": [
      "Opening raw data file ../SEED_FRA_OUTPUT/POSITIVE/6_2_trial_20_signals.fif...\n",
      "    Range : 3622000 ... 3797000 =   3622.000 ...  3797.000 secs\n",
      "Ready.\n",
      "Reading 0 ... 175000  =      0.000 ...   175.000 secs...\n"
     ]
    },
    {
     "name": "stderr",
     "output_type": "stream",
     "text": [
      "C:\\Users\\marco\\AppData\\Local\\Temp\\ipykernel_6904\\2770616247.py:12: RuntimeWarning: This filename (../SEED_FRA_OUTPUT/POSITIVE/6_2_trial_20_signals.fif) does not conform to MNE naming conventions. All raw files should end with raw.fif, raw_sss.fif, raw_tsss.fif, _meg.fif, _eeg.fif, _ieeg.fif, raw.fif.gz, raw_sss.fif.gz, raw_tsss.fif.gz, _meg.fif.gz, _eeg.fif.gz or _ieeg.fif.gz\n",
      "  eeg_data = mne.io.read_raw_fif(name, preload=True)\n"
     ]
    },
    {
     "name": "stdout",
     "output_type": "stream",
     "text": [
      "Opening raw data file ../SEED_FRA_OUTPUT/POSITIVE/6_2_trial_4_signals.fif...\n",
      "    Range : 982000 ... 1082000 =    982.000 ...  1082.000 secs\n",
      "Ready.\n",
      "Reading 0 ... 100000  =      0.000 ...   100.000 secs...\n"
     ]
    },
    {
     "name": "stderr",
     "output_type": "stream",
     "text": [
      "C:\\Users\\marco\\AppData\\Local\\Temp\\ipykernel_6904\\2770616247.py:12: RuntimeWarning: This filename (../SEED_FRA_OUTPUT/POSITIVE/6_2_trial_4_signals.fif) does not conform to MNE naming conventions. All raw files should end with raw.fif, raw_sss.fif, raw_tsss.fif, _meg.fif, _eeg.fif, _ieeg.fif, raw.fif.gz, raw_sss.fif.gz, raw_tsss.fif.gz, _meg.fif.gz, _eeg.fif.gz or _ieeg.fif.gz\n",
      "  eeg_data = mne.io.read_raw_fif(name, preload=True)\n"
     ]
    },
    {
     "name": "stdout",
     "output_type": "stream",
     "text": [
      "Opening raw data file ../SEED_FRA_OUTPUT/POSITIVE/6_2_trial_8_signals.fif...\n",
      "    Range : 1738000 ... 1867000 =   1738.000 ...  1867.000 secs\n",
      "Ready.\n",
      "Reading 0 ... 129000  =      0.000 ...   129.000 secs...\n"
     ]
    },
    {
     "name": "stderr",
     "output_type": "stream",
     "text": [
      "C:\\Users\\marco\\AppData\\Local\\Temp\\ipykernel_6904\\2770616247.py:12: RuntimeWarning: This filename (../SEED_FRA_OUTPUT/POSITIVE/6_2_trial_8_signals.fif) does not conform to MNE naming conventions. All raw files should end with raw.fif, raw_sss.fif, raw_tsss.fif, _meg.fif, _eeg.fif, _ieeg.fif, raw.fif.gz, raw_sss.fif.gz, raw_tsss.fif.gz, _meg.fif.gz, _eeg.fif.gz or _ieeg.fif.gz\n",
      "  eeg_data = mne.io.read_raw_fif(name, preload=True)\n"
     ]
    },
    {
     "name": "stdout",
     "output_type": "stream",
     "text": [
      "Opening raw data file ../SEED_FRA_OUTPUT/POSITIVE/6_3_trial_0_signals.fif...\n",
      "    Range : 21000 ... 193000 =     21.000 ...   193.000 secs\n",
      "Ready.\n",
      "Reading 0 ... 172000  =      0.000 ...   172.000 secs...\n"
     ]
    },
    {
     "name": "stderr",
     "output_type": "stream",
     "text": [
      "C:\\Users\\marco\\AppData\\Local\\Temp\\ipykernel_6904\\2770616247.py:12: RuntimeWarning: This filename (../SEED_FRA_OUTPUT/POSITIVE/6_3_trial_0_signals.fif) does not conform to MNE naming conventions. All raw files should end with raw.fif, raw_sss.fif, raw_tsss.fif, _meg.fif, _eeg.fif, _ieeg.fif, raw.fif.gz, raw_sss.fif.gz, raw_tsss.fif.gz, _meg.fif.gz, _eeg.fif.gz or _ieeg.fif.gz\n",
      "  eeg_data = mne.io.read_raw_fif(name, preload=True)\n"
     ]
    },
    {
     "name": "stdout",
     "output_type": "stream",
     "text": [
      "Opening raw data file ../SEED_FRA_OUTPUT/POSITIVE/6_3_trial_11_signals.fif...\n",
      "    Range : 2327000 ... 2471000 =   2327.000 ...  2471.000 secs\n",
      "Ready.\n",
      "Reading 0 ... 144000  =      0.000 ...   144.000 secs...\n"
     ]
    },
    {
     "name": "stderr",
     "output_type": "stream",
     "text": [
      "C:\\Users\\marco\\AppData\\Local\\Temp\\ipykernel_6904\\2770616247.py:12: RuntimeWarning: This filename (../SEED_FRA_OUTPUT/POSITIVE/6_3_trial_11_signals.fif) does not conform to MNE naming conventions. All raw files should end with raw.fif, raw_sss.fif, raw_tsss.fif, _meg.fif, _eeg.fif, _ieeg.fif, raw.fif.gz, raw_sss.fif.gz, raw_tsss.fif.gz, _meg.fif.gz, _eeg.fif.gz or _ieeg.fif.gz\n",
      "  eeg_data = mne.io.read_raw_fif(name, preload=True)\n"
     ]
    },
    {
     "name": "stdout",
     "output_type": "stream",
     "text": [
      "Opening raw data file ../SEED_FRA_OUTPUT/POSITIVE/6_3_trial_12_signals.fif...\n",
      "    Range : 2492000 ... 2599000 =   2492.000 ...  2599.000 secs\n",
      "Ready.\n",
      "Reading 0 ... 107000  =      0.000 ...   107.000 secs...\n"
     ]
    },
    {
     "name": "stderr",
     "output_type": "stream",
     "text": [
      "C:\\Users\\marco\\AppData\\Local\\Temp\\ipykernel_6904\\2770616247.py:12: RuntimeWarning: This filename (../SEED_FRA_OUTPUT/POSITIVE/6_3_trial_12_signals.fif) does not conform to MNE naming conventions. All raw files should end with raw.fif, raw_sss.fif, raw_tsss.fif, _meg.fif, _eeg.fif, _ieeg.fif, raw.fif.gz, raw_sss.fif.gz, raw_tsss.fif.gz, _meg.fif.gz, _eeg.fif.gz or _ieeg.fif.gz\n",
      "  eeg_data = mne.io.read_raw_fif(name, preload=True)\n"
     ]
    },
    {
     "name": "stdout",
     "output_type": "stream",
     "text": [
      "Opening raw data file ../SEED_FRA_OUTPUT/POSITIVE/6_3_trial_17_signals.fif...\n",
      "    Range : 3216000 ... 3349000 =   3216.000 ...  3349.000 secs\n",
      "Ready.\n",
      "Reading 0 ... 133000  =      0.000 ...   133.000 secs...\n"
     ]
    },
    {
     "name": "stderr",
     "output_type": "stream",
     "text": [
      "C:\\Users\\marco\\AppData\\Local\\Temp\\ipykernel_6904\\2770616247.py:12: RuntimeWarning: This filename (../SEED_FRA_OUTPUT/POSITIVE/6_3_trial_17_signals.fif) does not conform to MNE naming conventions. All raw files should end with raw.fif, raw_sss.fif, raw_tsss.fif, _meg.fif, _eeg.fif, _ieeg.fif, raw.fif.gz, raw_sss.fif.gz, raw_tsss.fif.gz, _meg.fif.gz, _eeg.fif.gz or _ieeg.fif.gz\n",
      "  eeg_data = mne.io.read_raw_fif(name, preload=True)\n"
     ]
    },
    {
     "name": "stdout",
     "output_type": "stream",
     "text": [
      "Opening raw data file ../SEED_FRA_OUTPUT/POSITIVE/6_3_trial_20_signals.fif...\n",
      "    Range : 3622000 ... 3797000 =   3622.000 ...  3797.000 secs\n",
      "Ready.\n",
      "Reading 0 ... 175000  =      0.000 ...   175.000 secs...\n"
     ]
    },
    {
     "name": "stderr",
     "output_type": "stream",
     "text": [
      "C:\\Users\\marco\\AppData\\Local\\Temp\\ipykernel_6904\\2770616247.py:12: RuntimeWarning: This filename (../SEED_FRA_OUTPUT/POSITIVE/6_3_trial_20_signals.fif) does not conform to MNE naming conventions. All raw files should end with raw.fif, raw_sss.fif, raw_tsss.fif, _meg.fif, _eeg.fif, _ieeg.fif, raw.fif.gz, raw_sss.fif.gz, raw_tsss.fif.gz, _meg.fif.gz, _eeg.fif.gz or _ieeg.fif.gz\n",
      "  eeg_data = mne.io.read_raw_fif(name, preload=True)\n"
     ]
    },
    {
     "name": "stdout",
     "output_type": "stream",
     "text": [
      "Opening raw data file ../SEED_FRA_OUTPUT/POSITIVE/6_3_trial_4_signals.fif...\n",
      "    Range : 982000 ... 1082000 =    982.000 ...  1082.000 secs\n",
      "Ready.\n",
      "Reading 0 ... 100000  =      0.000 ...   100.000 secs...\n"
     ]
    },
    {
     "name": "stderr",
     "output_type": "stream",
     "text": [
      "C:\\Users\\marco\\AppData\\Local\\Temp\\ipykernel_6904\\2770616247.py:12: RuntimeWarning: This filename (../SEED_FRA_OUTPUT/POSITIVE/6_3_trial_4_signals.fif) does not conform to MNE naming conventions. All raw files should end with raw.fif, raw_sss.fif, raw_tsss.fif, _meg.fif, _eeg.fif, _ieeg.fif, raw.fif.gz, raw_sss.fif.gz, raw_tsss.fif.gz, _meg.fif.gz, _eeg.fif.gz or _ieeg.fif.gz\n",
      "  eeg_data = mne.io.read_raw_fif(name, preload=True)\n"
     ]
    },
    {
     "name": "stdout",
     "output_type": "stream",
     "text": [
      "Opening raw data file ../SEED_FRA_OUTPUT/POSITIVE/6_3_trial_8_signals.fif...\n",
      "    Range : 1738000 ... 1867000 =   1738.000 ...  1867.000 secs\n",
      "Ready.\n",
      "Reading 0 ... 129000  =      0.000 ...   129.000 secs...\n"
     ]
    },
    {
     "name": "stderr",
     "output_type": "stream",
     "text": [
      "C:\\Users\\marco\\AppData\\Local\\Temp\\ipykernel_6904\\2770616247.py:12: RuntimeWarning: This filename (../SEED_FRA_OUTPUT/POSITIVE/6_3_trial_8_signals.fif) does not conform to MNE naming conventions. All raw files should end with raw.fif, raw_sss.fif, raw_tsss.fif, _meg.fif, _eeg.fif, _ieeg.fif, raw.fif.gz, raw_sss.fif.gz, raw_tsss.fif.gz, _meg.fif.gz, _eeg.fif.gz or _ieeg.fif.gz\n",
      "  eeg_data = mne.io.read_raw_fif(name, preload=True)\n"
     ]
    },
    {
     "name": "stdout",
     "output_type": "stream",
     "text": [
      "Opening raw data file ../SEED_FRA_OUTPUT/POSITIVE/7_1_trial_0_signals.fif...\n",
      "    Range : 21000 ... 193000 =     21.000 ...   193.000 secs\n",
      "Ready.\n",
      "Reading 0 ... 172000  =      0.000 ...   172.000 secs...\n"
     ]
    },
    {
     "name": "stderr",
     "output_type": "stream",
     "text": [
      "C:\\Users\\marco\\AppData\\Local\\Temp\\ipykernel_6904\\2770616247.py:12: RuntimeWarning: This filename (../SEED_FRA_OUTPUT/POSITIVE/7_1_trial_0_signals.fif) does not conform to MNE naming conventions. All raw files should end with raw.fif, raw_sss.fif, raw_tsss.fif, _meg.fif, _eeg.fif, _ieeg.fif, raw.fif.gz, raw_sss.fif.gz, raw_tsss.fif.gz, _meg.fif.gz, _eeg.fif.gz or _ieeg.fif.gz\n",
      "  eeg_data = mne.io.read_raw_fif(name, preload=True)\n"
     ]
    },
    {
     "name": "stdout",
     "output_type": "stream",
     "text": [
      "Opening raw data file ../SEED_FRA_OUTPUT/POSITIVE/7_1_trial_11_signals.fif...\n",
      "    Range : 2327000 ... 2471000 =   2327.000 ...  2471.000 secs\n",
      "Ready.\n",
      "Reading 0 ... 144000  =      0.000 ...   144.000 secs...\n"
     ]
    },
    {
     "name": "stderr",
     "output_type": "stream",
     "text": [
      "C:\\Users\\marco\\AppData\\Local\\Temp\\ipykernel_6904\\2770616247.py:12: RuntimeWarning: This filename (../SEED_FRA_OUTPUT/POSITIVE/7_1_trial_11_signals.fif) does not conform to MNE naming conventions. All raw files should end with raw.fif, raw_sss.fif, raw_tsss.fif, _meg.fif, _eeg.fif, _ieeg.fif, raw.fif.gz, raw_sss.fif.gz, raw_tsss.fif.gz, _meg.fif.gz, _eeg.fif.gz or _ieeg.fif.gz\n",
      "  eeg_data = mne.io.read_raw_fif(name, preload=True)\n"
     ]
    },
    {
     "name": "stdout",
     "output_type": "stream",
     "text": [
      "Opening raw data file ../SEED_FRA_OUTPUT/POSITIVE/7_1_trial_12_signals.fif...\n",
      "    Range : 2492000 ... 2599000 =   2492.000 ...  2599.000 secs\n",
      "Ready.\n",
      "Reading 0 ... 107000  =      0.000 ...   107.000 secs...\n"
     ]
    },
    {
     "name": "stderr",
     "output_type": "stream",
     "text": [
      "C:\\Users\\marco\\AppData\\Local\\Temp\\ipykernel_6904\\2770616247.py:12: RuntimeWarning: This filename (../SEED_FRA_OUTPUT/POSITIVE/7_1_trial_12_signals.fif) does not conform to MNE naming conventions. All raw files should end with raw.fif, raw_sss.fif, raw_tsss.fif, _meg.fif, _eeg.fif, _ieeg.fif, raw.fif.gz, raw_sss.fif.gz, raw_tsss.fif.gz, _meg.fif.gz, _eeg.fif.gz or _ieeg.fif.gz\n",
      "  eeg_data = mne.io.read_raw_fif(name, preload=True)\n"
     ]
    },
    {
     "name": "stdout",
     "output_type": "stream",
     "text": [
      "Opening raw data file ../SEED_FRA_OUTPUT/POSITIVE/7_1_trial_17_signals.fif...\n",
      "    Range : 3216000 ... 3349000 =   3216.000 ...  3349.000 secs\n",
      "Ready.\n",
      "Reading 0 ... 133000  =      0.000 ...   133.000 secs...\n"
     ]
    },
    {
     "name": "stderr",
     "output_type": "stream",
     "text": [
      "C:\\Users\\marco\\AppData\\Local\\Temp\\ipykernel_6904\\2770616247.py:12: RuntimeWarning: This filename (../SEED_FRA_OUTPUT/POSITIVE/7_1_trial_17_signals.fif) does not conform to MNE naming conventions. All raw files should end with raw.fif, raw_sss.fif, raw_tsss.fif, _meg.fif, _eeg.fif, _ieeg.fif, raw.fif.gz, raw_sss.fif.gz, raw_tsss.fif.gz, _meg.fif.gz, _eeg.fif.gz or _ieeg.fif.gz\n",
      "  eeg_data = mne.io.read_raw_fif(name, preload=True)\n"
     ]
    },
    {
     "name": "stdout",
     "output_type": "stream",
     "text": [
      "Opening raw data file ../SEED_FRA_OUTPUT/POSITIVE/7_1_trial_20_signals.fif...\n",
      "    Range : 3622000 ... 3797000 =   3622.000 ...  3797.000 secs\n",
      "Ready.\n",
      "Reading 0 ... 175000  =      0.000 ...   175.000 secs...\n"
     ]
    },
    {
     "name": "stderr",
     "output_type": "stream",
     "text": [
      "C:\\Users\\marco\\AppData\\Local\\Temp\\ipykernel_6904\\2770616247.py:12: RuntimeWarning: This filename (../SEED_FRA_OUTPUT/POSITIVE/7_1_trial_20_signals.fif) does not conform to MNE naming conventions. All raw files should end with raw.fif, raw_sss.fif, raw_tsss.fif, _meg.fif, _eeg.fif, _ieeg.fif, raw.fif.gz, raw_sss.fif.gz, raw_tsss.fif.gz, _meg.fif.gz, _eeg.fif.gz or _ieeg.fif.gz\n",
      "  eeg_data = mne.io.read_raw_fif(name, preload=True)\n"
     ]
    },
    {
     "name": "stdout",
     "output_type": "stream",
     "text": [
      "Opening raw data file ../SEED_FRA_OUTPUT/POSITIVE/7_1_trial_4_signals.fif...\n",
      "    Range : 982000 ... 1082000 =    982.000 ...  1082.000 secs\n",
      "Ready.\n",
      "Reading 0 ... 100000  =      0.000 ...   100.000 secs...\n"
     ]
    },
    {
     "name": "stderr",
     "output_type": "stream",
     "text": [
      "C:\\Users\\marco\\AppData\\Local\\Temp\\ipykernel_6904\\2770616247.py:12: RuntimeWarning: This filename (../SEED_FRA_OUTPUT/POSITIVE/7_1_trial_4_signals.fif) does not conform to MNE naming conventions. All raw files should end with raw.fif, raw_sss.fif, raw_tsss.fif, _meg.fif, _eeg.fif, _ieeg.fif, raw.fif.gz, raw_sss.fif.gz, raw_tsss.fif.gz, _meg.fif.gz, _eeg.fif.gz or _ieeg.fif.gz\n",
      "  eeg_data = mne.io.read_raw_fif(name, preload=True)\n"
     ]
    },
    {
     "name": "stdout",
     "output_type": "stream",
     "text": [
      "Opening raw data file ../SEED_FRA_OUTPUT/POSITIVE/7_1_trial_8_signals.fif...\n",
      "    Range : 1738000 ... 1867000 =   1738.000 ...  1867.000 secs\n",
      "Ready.\n",
      "Reading 0 ... 129000  =      0.000 ...   129.000 secs...\n"
     ]
    },
    {
     "name": "stderr",
     "output_type": "stream",
     "text": [
      "C:\\Users\\marco\\AppData\\Local\\Temp\\ipykernel_6904\\2770616247.py:12: RuntimeWarning: This filename (../SEED_FRA_OUTPUT/POSITIVE/7_1_trial_8_signals.fif) does not conform to MNE naming conventions. All raw files should end with raw.fif, raw_sss.fif, raw_tsss.fif, _meg.fif, _eeg.fif, _ieeg.fif, raw.fif.gz, raw_sss.fif.gz, raw_tsss.fif.gz, _meg.fif.gz, _eeg.fif.gz or _ieeg.fif.gz\n",
      "  eeg_data = mne.io.read_raw_fif(name, preload=True)\n"
     ]
    },
    {
     "name": "stdout",
     "output_type": "stream",
     "text": [
      "Opening raw data file ../SEED_FRA_OUTPUT/POSITIVE/7_2_trial_0_signals.fif...\n",
      "    Range : 21000 ... 193000 =     21.000 ...   193.000 secs\n",
      "Ready.\n",
      "Reading 0 ... 172000  =      0.000 ...   172.000 secs...\n"
     ]
    },
    {
     "name": "stderr",
     "output_type": "stream",
     "text": [
      "C:\\Users\\marco\\AppData\\Local\\Temp\\ipykernel_6904\\2770616247.py:12: RuntimeWarning: This filename (../SEED_FRA_OUTPUT/POSITIVE/7_2_trial_0_signals.fif) does not conform to MNE naming conventions. All raw files should end with raw.fif, raw_sss.fif, raw_tsss.fif, _meg.fif, _eeg.fif, _ieeg.fif, raw.fif.gz, raw_sss.fif.gz, raw_tsss.fif.gz, _meg.fif.gz, _eeg.fif.gz or _ieeg.fif.gz\n",
      "  eeg_data = mne.io.read_raw_fif(name, preload=True)\n"
     ]
    },
    {
     "name": "stdout",
     "output_type": "stream",
     "text": [
      "Opening raw data file ../SEED_FRA_OUTPUT/POSITIVE/7_2_trial_11_signals.fif...\n",
      "    Range : 2327000 ... 2471000 =   2327.000 ...  2471.000 secs\n",
      "Ready.\n",
      "Reading 0 ... 144000  =      0.000 ...   144.000 secs...\n"
     ]
    },
    {
     "name": "stderr",
     "output_type": "stream",
     "text": [
      "C:\\Users\\marco\\AppData\\Local\\Temp\\ipykernel_6904\\2770616247.py:12: RuntimeWarning: This filename (../SEED_FRA_OUTPUT/POSITIVE/7_2_trial_11_signals.fif) does not conform to MNE naming conventions. All raw files should end with raw.fif, raw_sss.fif, raw_tsss.fif, _meg.fif, _eeg.fif, _ieeg.fif, raw.fif.gz, raw_sss.fif.gz, raw_tsss.fif.gz, _meg.fif.gz, _eeg.fif.gz or _ieeg.fif.gz\n",
      "  eeg_data = mne.io.read_raw_fif(name, preload=True)\n"
     ]
    },
    {
     "name": "stdout",
     "output_type": "stream",
     "text": [
      "Opening raw data file ../SEED_FRA_OUTPUT/POSITIVE/7_2_trial_12_signals.fif...\n",
      "    Range : 2492000 ... 2599000 =   2492.000 ...  2599.000 secs\n",
      "Ready.\n",
      "Reading 0 ... 107000  =      0.000 ...   107.000 secs...\n"
     ]
    },
    {
     "name": "stderr",
     "output_type": "stream",
     "text": [
      "C:\\Users\\marco\\AppData\\Local\\Temp\\ipykernel_6904\\2770616247.py:12: RuntimeWarning: This filename (../SEED_FRA_OUTPUT/POSITIVE/7_2_trial_12_signals.fif) does not conform to MNE naming conventions. All raw files should end with raw.fif, raw_sss.fif, raw_tsss.fif, _meg.fif, _eeg.fif, _ieeg.fif, raw.fif.gz, raw_sss.fif.gz, raw_tsss.fif.gz, _meg.fif.gz, _eeg.fif.gz or _ieeg.fif.gz\n",
      "  eeg_data = mne.io.read_raw_fif(name, preload=True)\n"
     ]
    },
    {
     "name": "stdout",
     "output_type": "stream",
     "text": [
      "Opening raw data file ../SEED_FRA_OUTPUT/POSITIVE/7_2_trial_17_signals.fif...\n",
      "    Range : 3216000 ... 3349000 =   3216.000 ...  3349.000 secs\n",
      "Ready.\n",
      "Reading 0 ... 133000  =      0.000 ...   133.000 secs...\n"
     ]
    },
    {
     "name": "stderr",
     "output_type": "stream",
     "text": [
      "C:\\Users\\marco\\AppData\\Local\\Temp\\ipykernel_6904\\2770616247.py:12: RuntimeWarning: This filename (../SEED_FRA_OUTPUT/POSITIVE/7_2_trial_17_signals.fif) does not conform to MNE naming conventions. All raw files should end with raw.fif, raw_sss.fif, raw_tsss.fif, _meg.fif, _eeg.fif, _ieeg.fif, raw.fif.gz, raw_sss.fif.gz, raw_tsss.fif.gz, _meg.fif.gz, _eeg.fif.gz or _ieeg.fif.gz\n",
      "  eeg_data = mne.io.read_raw_fif(name, preload=True)\n"
     ]
    },
    {
     "name": "stdout",
     "output_type": "stream",
     "text": [
      "Opening raw data file ../SEED_FRA_OUTPUT/POSITIVE/7_2_trial_20_signals.fif...\n",
      "    Range : 3622000 ... 3797000 =   3622.000 ...  3797.000 secs\n",
      "Ready.\n",
      "Reading 0 ... 175000  =      0.000 ...   175.000 secs...\n"
     ]
    },
    {
     "name": "stderr",
     "output_type": "stream",
     "text": [
      "C:\\Users\\marco\\AppData\\Local\\Temp\\ipykernel_6904\\2770616247.py:12: RuntimeWarning: This filename (../SEED_FRA_OUTPUT/POSITIVE/7_2_trial_20_signals.fif) does not conform to MNE naming conventions. All raw files should end with raw.fif, raw_sss.fif, raw_tsss.fif, _meg.fif, _eeg.fif, _ieeg.fif, raw.fif.gz, raw_sss.fif.gz, raw_tsss.fif.gz, _meg.fif.gz, _eeg.fif.gz or _ieeg.fif.gz\n",
      "  eeg_data = mne.io.read_raw_fif(name, preload=True)\n"
     ]
    },
    {
     "name": "stdout",
     "output_type": "stream",
     "text": [
      "Opening raw data file ../SEED_FRA_OUTPUT/POSITIVE/7_2_trial_4_signals.fif...\n",
      "    Range : 982000 ... 1082000 =    982.000 ...  1082.000 secs\n",
      "Ready.\n",
      "Reading 0 ... 100000  =      0.000 ...   100.000 secs...\n"
     ]
    },
    {
     "name": "stderr",
     "output_type": "stream",
     "text": [
      "C:\\Users\\marco\\AppData\\Local\\Temp\\ipykernel_6904\\2770616247.py:12: RuntimeWarning: This filename (../SEED_FRA_OUTPUT/POSITIVE/7_2_trial_4_signals.fif) does not conform to MNE naming conventions. All raw files should end with raw.fif, raw_sss.fif, raw_tsss.fif, _meg.fif, _eeg.fif, _ieeg.fif, raw.fif.gz, raw_sss.fif.gz, raw_tsss.fif.gz, _meg.fif.gz, _eeg.fif.gz or _ieeg.fif.gz\n",
      "  eeg_data = mne.io.read_raw_fif(name, preload=True)\n"
     ]
    },
    {
     "name": "stdout",
     "output_type": "stream",
     "text": [
      "Opening raw data file ../SEED_FRA_OUTPUT/POSITIVE/7_2_trial_8_signals.fif...\n",
      "    Range : 1738000 ... 1867000 =   1738.000 ...  1867.000 secs\n",
      "Ready.\n",
      "Reading 0 ... 129000  =      0.000 ...   129.000 secs...\n"
     ]
    },
    {
     "name": "stderr",
     "output_type": "stream",
     "text": [
      "C:\\Users\\marco\\AppData\\Local\\Temp\\ipykernel_6904\\2770616247.py:12: RuntimeWarning: This filename (../SEED_FRA_OUTPUT/POSITIVE/7_2_trial_8_signals.fif) does not conform to MNE naming conventions. All raw files should end with raw.fif, raw_sss.fif, raw_tsss.fif, _meg.fif, _eeg.fif, _ieeg.fif, raw.fif.gz, raw_sss.fif.gz, raw_tsss.fif.gz, _meg.fif.gz, _eeg.fif.gz or _ieeg.fif.gz\n",
      "  eeg_data = mne.io.read_raw_fif(name, preload=True)\n"
     ]
    },
    {
     "name": "stdout",
     "output_type": "stream",
     "text": [
      "Opening raw data file ../SEED_FRA_OUTPUT/POSITIVE/7_3_trial_0_signals.fif...\n",
      "    Range : 21000 ... 193000 =     21.000 ...   193.000 secs\n",
      "Ready.\n",
      "Reading 0 ... 172000  =      0.000 ...   172.000 secs...\n"
     ]
    },
    {
     "name": "stderr",
     "output_type": "stream",
     "text": [
      "C:\\Users\\marco\\AppData\\Local\\Temp\\ipykernel_6904\\2770616247.py:12: RuntimeWarning: This filename (../SEED_FRA_OUTPUT/POSITIVE/7_3_trial_0_signals.fif) does not conform to MNE naming conventions. All raw files should end with raw.fif, raw_sss.fif, raw_tsss.fif, _meg.fif, _eeg.fif, _ieeg.fif, raw.fif.gz, raw_sss.fif.gz, raw_tsss.fif.gz, _meg.fif.gz, _eeg.fif.gz or _ieeg.fif.gz\n",
      "  eeg_data = mne.io.read_raw_fif(name, preload=True)\n"
     ]
    },
    {
     "name": "stdout",
     "output_type": "stream",
     "text": [
      "Opening raw data file ../SEED_FRA_OUTPUT/POSITIVE/7_3_trial_11_signals.fif...\n",
      "    Range : 2327000 ... 2471000 =   2327.000 ...  2471.000 secs\n",
      "Ready.\n",
      "Reading 0 ... 144000  =      0.000 ...   144.000 secs...\n"
     ]
    },
    {
     "name": "stderr",
     "output_type": "stream",
     "text": [
      "C:\\Users\\marco\\AppData\\Local\\Temp\\ipykernel_6904\\2770616247.py:12: RuntimeWarning: This filename (../SEED_FRA_OUTPUT/POSITIVE/7_3_trial_11_signals.fif) does not conform to MNE naming conventions. All raw files should end with raw.fif, raw_sss.fif, raw_tsss.fif, _meg.fif, _eeg.fif, _ieeg.fif, raw.fif.gz, raw_sss.fif.gz, raw_tsss.fif.gz, _meg.fif.gz, _eeg.fif.gz or _ieeg.fif.gz\n",
      "  eeg_data = mne.io.read_raw_fif(name, preload=True)\n"
     ]
    },
    {
     "name": "stdout",
     "output_type": "stream",
     "text": [
      "Opening raw data file ../SEED_FRA_OUTPUT/POSITIVE/7_3_trial_12_signals.fif...\n",
      "    Range : 2492000 ... 2599000 =   2492.000 ...  2599.000 secs\n",
      "Ready.\n",
      "Reading 0 ... 107000  =      0.000 ...   107.000 secs...\n"
     ]
    },
    {
     "name": "stderr",
     "output_type": "stream",
     "text": [
      "C:\\Users\\marco\\AppData\\Local\\Temp\\ipykernel_6904\\2770616247.py:12: RuntimeWarning: This filename (../SEED_FRA_OUTPUT/POSITIVE/7_3_trial_12_signals.fif) does not conform to MNE naming conventions. All raw files should end with raw.fif, raw_sss.fif, raw_tsss.fif, _meg.fif, _eeg.fif, _ieeg.fif, raw.fif.gz, raw_sss.fif.gz, raw_tsss.fif.gz, _meg.fif.gz, _eeg.fif.gz or _ieeg.fif.gz\n",
      "  eeg_data = mne.io.read_raw_fif(name, preload=True)\n"
     ]
    },
    {
     "name": "stdout",
     "output_type": "stream",
     "text": [
      "Opening raw data file ../SEED_FRA_OUTPUT/POSITIVE/7_3_trial_17_signals.fif...\n",
      "    Range : 3216000 ... 3349000 =   3216.000 ...  3349.000 secs\n",
      "Ready.\n",
      "Reading 0 ... 133000  =      0.000 ...   133.000 secs...\n"
     ]
    },
    {
     "name": "stderr",
     "output_type": "stream",
     "text": [
      "C:\\Users\\marco\\AppData\\Local\\Temp\\ipykernel_6904\\2770616247.py:12: RuntimeWarning: This filename (../SEED_FRA_OUTPUT/POSITIVE/7_3_trial_17_signals.fif) does not conform to MNE naming conventions. All raw files should end with raw.fif, raw_sss.fif, raw_tsss.fif, _meg.fif, _eeg.fif, _ieeg.fif, raw.fif.gz, raw_sss.fif.gz, raw_tsss.fif.gz, _meg.fif.gz, _eeg.fif.gz or _ieeg.fif.gz\n",
      "  eeg_data = mne.io.read_raw_fif(name, preload=True)\n"
     ]
    },
    {
     "name": "stdout",
     "output_type": "stream",
     "text": [
      "Opening raw data file ../SEED_FRA_OUTPUT/POSITIVE/7_3_trial_20_signals.fif...\n",
      "    Range : 3622000 ... 3797000 =   3622.000 ...  3797.000 secs\n",
      "Ready.\n",
      "Reading 0 ... 175000  =      0.000 ...   175.000 secs...\n"
     ]
    },
    {
     "name": "stderr",
     "output_type": "stream",
     "text": [
      "C:\\Users\\marco\\AppData\\Local\\Temp\\ipykernel_6904\\2770616247.py:12: RuntimeWarning: This filename (../SEED_FRA_OUTPUT/POSITIVE/7_3_trial_20_signals.fif) does not conform to MNE naming conventions. All raw files should end with raw.fif, raw_sss.fif, raw_tsss.fif, _meg.fif, _eeg.fif, _ieeg.fif, raw.fif.gz, raw_sss.fif.gz, raw_tsss.fif.gz, _meg.fif.gz, _eeg.fif.gz or _ieeg.fif.gz\n",
      "  eeg_data = mne.io.read_raw_fif(name, preload=True)\n"
     ]
    },
    {
     "name": "stdout",
     "output_type": "stream",
     "text": [
      "Opening raw data file ../SEED_FRA_OUTPUT/POSITIVE/7_3_trial_4_signals.fif...\n",
      "    Range : 982000 ... 1082000 =    982.000 ...  1082.000 secs\n",
      "Ready.\n",
      "Reading 0 ... 100000  =      0.000 ...   100.000 secs...\n"
     ]
    },
    {
     "name": "stderr",
     "output_type": "stream",
     "text": [
      "C:\\Users\\marco\\AppData\\Local\\Temp\\ipykernel_6904\\2770616247.py:12: RuntimeWarning: This filename (../SEED_FRA_OUTPUT/POSITIVE/7_3_trial_4_signals.fif) does not conform to MNE naming conventions. All raw files should end with raw.fif, raw_sss.fif, raw_tsss.fif, _meg.fif, _eeg.fif, _ieeg.fif, raw.fif.gz, raw_sss.fif.gz, raw_tsss.fif.gz, _meg.fif.gz, _eeg.fif.gz or _ieeg.fif.gz\n",
      "  eeg_data = mne.io.read_raw_fif(name, preload=True)\n"
     ]
    },
    {
     "name": "stdout",
     "output_type": "stream",
     "text": [
      "Opening raw data file ../SEED_FRA_OUTPUT/POSITIVE/7_3_trial_8_signals.fif...\n",
      "    Range : 1738000 ... 1867000 =   1738.000 ...  1867.000 secs\n",
      "Ready.\n",
      "Reading 0 ... 129000  =      0.000 ...   129.000 secs...\n"
     ]
    },
    {
     "name": "stderr",
     "output_type": "stream",
     "text": [
      "C:\\Users\\marco\\AppData\\Local\\Temp\\ipykernel_6904\\2770616247.py:12: RuntimeWarning: This filename (../SEED_FRA_OUTPUT/POSITIVE/7_3_trial_8_signals.fif) does not conform to MNE naming conventions. All raw files should end with raw.fif, raw_sss.fif, raw_tsss.fif, _meg.fif, _eeg.fif, _ieeg.fif, raw.fif.gz, raw_sss.fif.gz, raw_tsss.fif.gz, _meg.fif.gz, _eeg.fif.gz or _ieeg.fif.gz\n",
      "  eeg_data = mne.io.read_raw_fif(name, preload=True)\n"
     ]
    },
    {
     "name": "stdout",
     "output_type": "stream",
     "text": [
      "Opening raw data file ../SEED_FRA_OUTPUT/POSITIVE/8_1_trial_0_signals.fif...\n",
      "    Range : 21000 ... 193000 =     21.000 ...   193.000 secs\n",
      "Ready.\n",
      "Reading 0 ... 172000  =      0.000 ...   172.000 secs...\n"
     ]
    },
    {
     "name": "stderr",
     "output_type": "stream",
     "text": [
      "C:\\Users\\marco\\AppData\\Local\\Temp\\ipykernel_6904\\2770616247.py:12: RuntimeWarning: This filename (../SEED_FRA_OUTPUT/POSITIVE/8_1_trial_0_signals.fif) does not conform to MNE naming conventions. All raw files should end with raw.fif, raw_sss.fif, raw_tsss.fif, _meg.fif, _eeg.fif, _ieeg.fif, raw.fif.gz, raw_sss.fif.gz, raw_tsss.fif.gz, _meg.fif.gz, _eeg.fif.gz or _ieeg.fif.gz\n",
      "  eeg_data = mne.io.read_raw_fif(name, preload=True)\n"
     ]
    },
    {
     "name": "stdout",
     "output_type": "stream",
     "text": [
      "Opening raw data file ../SEED_FRA_OUTPUT/POSITIVE/8_1_trial_11_signals.fif...\n",
      "    Range : 2327000 ... 2471000 =   2327.000 ...  2471.000 secs\n",
      "Ready.\n",
      "Reading 0 ... 144000  =      0.000 ...   144.000 secs...\n"
     ]
    },
    {
     "name": "stderr",
     "output_type": "stream",
     "text": [
      "C:\\Users\\marco\\AppData\\Local\\Temp\\ipykernel_6904\\2770616247.py:12: RuntimeWarning: This filename (../SEED_FRA_OUTPUT/POSITIVE/8_1_trial_11_signals.fif) does not conform to MNE naming conventions. All raw files should end with raw.fif, raw_sss.fif, raw_tsss.fif, _meg.fif, _eeg.fif, _ieeg.fif, raw.fif.gz, raw_sss.fif.gz, raw_tsss.fif.gz, _meg.fif.gz, _eeg.fif.gz or _ieeg.fif.gz\n",
      "  eeg_data = mne.io.read_raw_fif(name, preload=True)\n"
     ]
    },
    {
     "name": "stdout",
     "output_type": "stream",
     "text": [
      "Opening raw data file ../SEED_FRA_OUTPUT/POSITIVE/8_1_trial_12_signals.fif...\n",
      "    Range : 2492000 ... 2599000 =   2492.000 ...  2599.000 secs\n",
      "Ready.\n",
      "Reading 0 ... 107000  =      0.000 ...   107.000 secs...\n"
     ]
    },
    {
     "name": "stderr",
     "output_type": "stream",
     "text": [
      "C:\\Users\\marco\\AppData\\Local\\Temp\\ipykernel_6904\\2770616247.py:12: RuntimeWarning: This filename (../SEED_FRA_OUTPUT/POSITIVE/8_1_trial_12_signals.fif) does not conform to MNE naming conventions. All raw files should end with raw.fif, raw_sss.fif, raw_tsss.fif, _meg.fif, _eeg.fif, _ieeg.fif, raw.fif.gz, raw_sss.fif.gz, raw_tsss.fif.gz, _meg.fif.gz, _eeg.fif.gz or _ieeg.fif.gz\n",
      "  eeg_data = mne.io.read_raw_fif(name, preload=True)\n"
     ]
    },
    {
     "name": "stdout",
     "output_type": "stream",
     "text": [
      "Opening raw data file ../SEED_FRA_OUTPUT/POSITIVE/8_1_trial_17_signals.fif...\n",
      "    Range : 3216000 ... 3349000 =   3216.000 ...  3349.000 secs\n",
      "Ready.\n",
      "Reading 0 ... 133000  =      0.000 ...   133.000 secs...\n"
     ]
    },
    {
     "name": "stderr",
     "output_type": "stream",
     "text": [
      "C:\\Users\\marco\\AppData\\Local\\Temp\\ipykernel_6904\\2770616247.py:12: RuntimeWarning: This filename (../SEED_FRA_OUTPUT/POSITIVE/8_1_trial_17_signals.fif) does not conform to MNE naming conventions. All raw files should end with raw.fif, raw_sss.fif, raw_tsss.fif, _meg.fif, _eeg.fif, _ieeg.fif, raw.fif.gz, raw_sss.fif.gz, raw_tsss.fif.gz, _meg.fif.gz, _eeg.fif.gz or _ieeg.fif.gz\n",
      "  eeg_data = mne.io.read_raw_fif(name, preload=True)\n"
     ]
    },
    {
     "name": "stdout",
     "output_type": "stream",
     "text": [
      "Opening raw data file ../SEED_FRA_OUTPUT/POSITIVE/8_1_trial_20_signals.fif...\n",
      "    Range : 3622000 ... 3797000 =   3622.000 ...  3797.000 secs\n",
      "Ready.\n",
      "Reading 0 ... 175000  =      0.000 ...   175.000 secs...\n"
     ]
    },
    {
     "name": "stderr",
     "output_type": "stream",
     "text": [
      "C:\\Users\\marco\\AppData\\Local\\Temp\\ipykernel_6904\\2770616247.py:12: RuntimeWarning: This filename (../SEED_FRA_OUTPUT/POSITIVE/8_1_trial_20_signals.fif) does not conform to MNE naming conventions. All raw files should end with raw.fif, raw_sss.fif, raw_tsss.fif, _meg.fif, _eeg.fif, _ieeg.fif, raw.fif.gz, raw_sss.fif.gz, raw_tsss.fif.gz, _meg.fif.gz, _eeg.fif.gz or _ieeg.fif.gz\n",
      "  eeg_data = mne.io.read_raw_fif(name, preload=True)\n"
     ]
    },
    {
     "name": "stdout",
     "output_type": "stream",
     "text": [
      "Opening raw data file ../SEED_FRA_OUTPUT/POSITIVE/8_1_trial_4_signals.fif...\n",
      "    Range : 982000 ... 1082000 =    982.000 ...  1082.000 secs\n",
      "Ready.\n",
      "Reading 0 ... 100000  =      0.000 ...   100.000 secs...\n"
     ]
    },
    {
     "name": "stderr",
     "output_type": "stream",
     "text": [
      "C:\\Users\\marco\\AppData\\Local\\Temp\\ipykernel_6904\\2770616247.py:12: RuntimeWarning: This filename (../SEED_FRA_OUTPUT/POSITIVE/8_1_trial_4_signals.fif) does not conform to MNE naming conventions. All raw files should end with raw.fif, raw_sss.fif, raw_tsss.fif, _meg.fif, _eeg.fif, _ieeg.fif, raw.fif.gz, raw_sss.fif.gz, raw_tsss.fif.gz, _meg.fif.gz, _eeg.fif.gz or _ieeg.fif.gz\n",
      "  eeg_data = mne.io.read_raw_fif(name, preload=True)\n"
     ]
    },
    {
     "name": "stdout",
     "output_type": "stream",
     "text": [
      "Opening raw data file ../SEED_FRA_OUTPUT/POSITIVE/8_1_trial_8_signals.fif...\n",
      "    Range : 1738000 ... 1867000 =   1738.000 ...  1867.000 secs\n",
      "Ready.\n",
      "Reading 0 ... 129000  =      0.000 ...   129.000 secs...\n"
     ]
    },
    {
     "name": "stderr",
     "output_type": "stream",
     "text": [
      "C:\\Users\\marco\\AppData\\Local\\Temp\\ipykernel_6904\\2770616247.py:12: RuntimeWarning: This filename (../SEED_FRA_OUTPUT/POSITIVE/8_1_trial_8_signals.fif) does not conform to MNE naming conventions. All raw files should end with raw.fif, raw_sss.fif, raw_tsss.fif, _meg.fif, _eeg.fif, _ieeg.fif, raw.fif.gz, raw_sss.fif.gz, raw_tsss.fif.gz, _meg.fif.gz, _eeg.fif.gz or _ieeg.fif.gz\n",
      "  eeg_data = mne.io.read_raw_fif(name, preload=True)\n"
     ]
    },
    {
     "name": "stdout",
     "output_type": "stream",
     "text": [
      "Opening raw data file ../SEED_FRA_OUTPUT/POSITIVE/8_2_trial_0_signals.fif...\n",
      "    Range : 21000 ... 193000 =     21.000 ...   193.000 secs\n",
      "Ready.\n",
      "Reading 0 ... 172000  =      0.000 ...   172.000 secs...\n"
     ]
    },
    {
     "name": "stderr",
     "output_type": "stream",
     "text": [
      "C:\\Users\\marco\\AppData\\Local\\Temp\\ipykernel_6904\\2770616247.py:12: RuntimeWarning: This filename (../SEED_FRA_OUTPUT/POSITIVE/8_2_trial_0_signals.fif) does not conform to MNE naming conventions. All raw files should end with raw.fif, raw_sss.fif, raw_tsss.fif, _meg.fif, _eeg.fif, _ieeg.fif, raw.fif.gz, raw_sss.fif.gz, raw_tsss.fif.gz, _meg.fif.gz, _eeg.fif.gz or _ieeg.fif.gz\n",
      "  eeg_data = mne.io.read_raw_fif(name, preload=True)\n"
     ]
    },
    {
     "name": "stdout",
     "output_type": "stream",
     "text": [
      "Opening raw data file ../SEED_FRA_OUTPUT/POSITIVE/8_2_trial_11_signals.fif...\n",
      "    Range : 2327000 ... 2471000 =   2327.000 ...  2471.000 secs\n",
      "Ready.\n",
      "Reading 0 ... 144000  =      0.000 ...   144.000 secs...\n"
     ]
    },
    {
     "name": "stderr",
     "output_type": "stream",
     "text": [
      "C:\\Users\\marco\\AppData\\Local\\Temp\\ipykernel_6904\\2770616247.py:12: RuntimeWarning: This filename (../SEED_FRA_OUTPUT/POSITIVE/8_2_trial_11_signals.fif) does not conform to MNE naming conventions. All raw files should end with raw.fif, raw_sss.fif, raw_tsss.fif, _meg.fif, _eeg.fif, _ieeg.fif, raw.fif.gz, raw_sss.fif.gz, raw_tsss.fif.gz, _meg.fif.gz, _eeg.fif.gz or _ieeg.fif.gz\n",
      "  eeg_data = mne.io.read_raw_fif(name, preload=True)\n"
     ]
    },
    {
     "name": "stdout",
     "output_type": "stream",
     "text": [
      "Opening raw data file ../SEED_FRA_OUTPUT/POSITIVE/8_2_trial_12_signals.fif...\n",
      "    Range : 2492000 ... 2599000 =   2492.000 ...  2599.000 secs\n",
      "Ready.\n",
      "Reading 0 ... 107000  =      0.000 ...   107.000 secs...\n"
     ]
    },
    {
     "name": "stderr",
     "output_type": "stream",
     "text": [
      "C:\\Users\\marco\\AppData\\Local\\Temp\\ipykernel_6904\\2770616247.py:12: RuntimeWarning: This filename (../SEED_FRA_OUTPUT/POSITIVE/8_2_trial_12_signals.fif) does not conform to MNE naming conventions. All raw files should end with raw.fif, raw_sss.fif, raw_tsss.fif, _meg.fif, _eeg.fif, _ieeg.fif, raw.fif.gz, raw_sss.fif.gz, raw_tsss.fif.gz, _meg.fif.gz, _eeg.fif.gz or _ieeg.fif.gz\n",
      "  eeg_data = mne.io.read_raw_fif(name, preload=True)\n"
     ]
    },
    {
     "name": "stdout",
     "output_type": "stream",
     "text": [
      "Opening raw data file ../SEED_FRA_OUTPUT/POSITIVE/8_2_trial_17_signals.fif...\n",
      "    Range : 3216000 ... 3349000 =   3216.000 ...  3349.000 secs\n",
      "Ready.\n",
      "Reading 0 ... 133000  =      0.000 ...   133.000 secs...\n"
     ]
    },
    {
     "name": "stderr",
     "output_type": "stream",
     "text": [
      "C:\\Users\\marco\\AppData\\Local\\Temp\\ipykernel_6904\\2770616247.py:12: RuntimeWarning: This filename (../SEED_FRA_OUTPUT/POSITIVE/8_2_trial_17_signals.fif) does not conform to MNE naming conventions. All raw files should end with raw.fif, raw_sss.fif, raw_tsss.fif, _meg.fif, _eeg.fif, _ieeg.fif, raw.fif.gz, raw_sss.fif.gz, raw_tsss.fif.gz, _meg.fif.gz, _eeg.fif.gz or _ieeg.fif.gz\n",
      "  eeg_data = mne.io.read_raw_fif(name, preload=True)\n"
     ]
    },
    {
     "name": "stdout",
     "output_type": "stream",
     "text": [
      "Opening raw data file ../SEED_FRA_OUTPUT/POSITIVE/8_2_trial_20_signals.fif...\n",
      "    Range : 3622000 ... 3797000 =   3622.000 ...  3797.000 secs\n",
      "Ready.\n",
      "Reading 0 ... 175000  =      0.000 ...   175.000 secs...\n"
     ]
    },
    {
     "name": "stderr",
     "output_type": "stream",
     "text": [
      "C:\\Users\\marco\\AppData\\Local\\Temp\\ipykernel_6904\\2770616247.py:12: RuntimeWarning: This filename (../SEED_FRA_OUTPUT/POSITIVE/8_2_trial_20_signals.fif) does not conform to MNE naming conventions. All raw files should end with raw.fif, raw_sss.fif, raw_tsss.fif, _meg.fif, _eeg.fif, _ieeg.fif, raw.fif.gz, raw_sss.fif.gz, raw_tsss.fif.gz, _meg.fif.gz, _eeg.fif.gz or _ieeg.fif.gz\n",
      "  eeg_data = mne.io.read_raw_fif(name, preload=True)\n"
     ]
    },
    {
     "name": "stdout",
     "output_type": "stream",
     "text": [
      "Opening raw data file ../SEED_FRA_OUTPUT/POSITIVE/8_2_trial_4_signals.fif...\n",
      "    Range : 982000 ... 1082000 =    982.000 ...  1082.000 secs\n",
      "Ready.\n",
      "Reading 0 ... 100000  =      0.000 ...   100.000 secs...\n"
     ]
    },
    {
     "name": "stderr",
     "output_type": "stream",
     "text": [
      "C:\\Users\\marco\\AppData\\Local\\Temp\\ipykernel_6904\\2770616247.py:12: RuntimeWarning: This filename (../SEED_FRA_OUTPUT/POSITIVE/8_2_trial_4_signals.fif) does not conform to MNE naming conventions. All raw files should end with raw.fif, raw_sss.fif, raw_tsss.fif, _meg.fif, _eeg.fif, _ieeg.fif, raw.fif.gz, raw_sss.fif.gz, raw_tsss.fif.gz, _meg.fif.gz, _eeg.fif.gz or _ieeg.fif.gz\n",
      "  eeg_data = mne.io.read_raw_fif(name, preload=True)\n"
     ]
    },
    {
     "name": "stdout",
     "output_type": "stream",
     "text": [
      "Opening raw data file ../SEED_FRA_OUTPUT/POSITIVE/8_2_trial_8_signals.fif...\n",
      "    Range : 1738000 ... 1867000 =   1738.000 ...  1867.000 secs\n",
      "Ready.\n",
      "Reading 0 ... 129000  =      0.000 ...   129.000 secs...\n"
     ]
    },
    {
     "name": "stderr",
     "output_type": "stream",
     "text": [
      "C:\\Users\\marco\\AppData\\Local\\Temp\\ipykernel_6904\\2770616247.py:12: RuntimeWarning: This filename (../SEED_FRA_OUTPUT/POSITIVE/8_2_trial_8_signals.fif) does not conform to MNE naming conventions. All raw files should end with raw.fif, raw_sss.fif, raw_tsss.fif, _meg.fif, _eeg.fif, _ieeg.fif, raw.fif.gz, raw_sss.fif.gz, raw_tsss.fif.gz, _meg.fif.gz, _eeg.fif.gz or _ieeg.fif.gz\n",
      "  eeg_data = mne.io.read_raw_fif(name, preload=True)\n"
     ]
    },
    {
     "name": "stdout",
     "output_type": "stream",
     "text": [
      "Opening raw data file ../SEED_FRA_OUTPUT/POSITIVE/8_3_trial_0_signals.fif...\n",
      "    Range : 21000 ... 193000 =     21.000 ...   193.000 secs\n",
      "Ready.\n",
      "Reading 0 ... 172000  =      0.000 ...   172.000 secs...\n"
     ]
    },
    {
     "name": "stderr",
     "output_type": "stream",
     "text": [
      "C:\\Users\\marco\\AppData\\Local\\Temp\\ipykernel_6904\\2770616247.py:12: RuntimeWarning: This filename (../SEED_FRA_OUTPUT/POSITIVE/8_3_trial_0_signals.fif) does not conform to MNE naming conventions. All raw files should end with raw.fif, raw_sss.fif, raw_tsss.fif, _meg.fif, _eeg.fif, _ieeg.fif, raw.fif.gz, raw_sss.fif.gz, raw_tsss.fif.gz, _meg.fif.gz, _eeg.fif.gz or _ieeg.fif.gz\n",
      "  eeg_data = mne.io.read_raw_fif(name, preload=True)\n"
     ]
    },
    {
     "name": "stdout",
     "output_type": "stream",
     "text": [
      "Opening raw data file ../SEED_FRA_OUTPUT/POSITIVE/8_3_trial_11_signals.fif...\n",
      "    Range : 2327000 ... 2471000 =   2327.000 ...  2471.000 secs\n",
      "Ready.\n",
      "Reading 0 ... 144000  =      0.000 ...   144.000 secs...\n"
     ]
    },
    {
     "name": "stderr",
     "output_type": "stream",
     "text": [
      "C:\\Users\\marco\\AppData\\Local\\Temp\\ipykernel_6904\\2770616247.py:12: RuntimeWarning: This filename (../SEED_FRA_OUTPUT/POSITIVE/8_3_trial_11_signals.fif) does not conform to MNE naming conventions. All raw files should end with raw.fif, raw_sss.fif, raw_tsss.fif, _meg.fif, _eeg.fif, _ieeg.fif, raw.fif.gz, raw_sss.fif.gz, raw_tsss.fif.gz, _meg.fif.gz, _eeg.fif.gz or _ieeg.fif.gz\n",
      "  eeg_data = mne.io.read_raw_fif(name, preload=True)\n"
     ]
    },
    {
     "name": "stdout",
     "output_type": "stream",
     "text": [
      "Opening raw data file ../SEED_FRA_OUTPUT/POSITIVE/8_3_trial_12_signals.fif...\n",
      "    Range : 2492000 ... 2599000 =   2492.000 ...  2599.000 secs\n",
      "Ready.\n",
      "Reading 0 ... 107000  =      0.000 ...   107.000 secs...\n"
     ]
    },
    {
     "name": "stderr",
     "output_type": "stream",
     "text": [
      "C:\\Users\\marco\\AppData\\Local\\Temp\\ipykernel_6904\\2770616247.py:12: RuntimeWarning: This filename (../SEED_FRA_OUTPUT/POSITIVE/8_3_trial_12_signals.fif) does not conform to MNE naming conventions. All raw files should end with raw.fif, raw_sss.fif, raw_tsss.fif, _meg.fif, _eeg.fif, _ieeg.fif, raw.fif.gz, raw_sss.fif.gz, raw_tsss.fif.gz, _meg.fif.gz, _eeg.fif.gz or _ieeg.fif.gz\n",
      "  eeg_data = mne.io.read_raw_fif(name, preload=True)\n"
     ]
    },
    {
     "name": "stdout",
     "output_type": "stream",
     "text": [
      "Opening raw data file ../SEED_FRA_OUTPUT/POSITIVE/8_3_trial_17_signals.fif...\n",
      "    Range : 3216000 ... 3349000 =   3216.000 ...  3349.000 secs\n",
      "Ready.\n",
      "Reading 0 ... 133000  =      0.000 ...   133.000 secs...\n"
     ]
    },
    {
     "name": "stderr",
     "output_type": "stream",
     "text": [
      "C:\\Users\\marco\\AppData\\Local\\Temp\\ipykernel_6904\\2770616247.py:12: RuntimeWarning: This filename (../SEED_FRA_OUTPUT/POSITIVE/8_3_trial_17_signals.fif) does not conform to MNE naming conventions. All raw files should end with raw.fif, raw_sss.fif, raw_tsss.fif, _meg.fif, _eeg.fif, _ieeg.fif, raw.fif.gz, raw_sss.fif.gz, raw_tsss.fif.gz, _meg.fif.gz, _eeg.fif.gz or _ieeg.fif.gz\n",
      "  eeg_data = mne.io.read_raw_fif(name, preload=True)\n"
     ]
    },
    {
     "name": "stdout",
     "output_type": "stream",
     "text": [
      "Opening raw data file ../SEED_FRA_OUTPUT/POSITIVE/8_3_trial_20_signals.fif...\n",
      "    Range : 3622000 ... 3797000 =   3622.000 ...  3797.000 secs\n",
      "Ready.\n",
      "Reading 0 ... 175000  =      0.000 ...   175.000 secs...\n"
     ]
    },
    {
     "name": "stderr",
     "output_type": "stream",
     "text": [
      "C:\\Users\\marco\\AppData\\Local\\Temp\\ipykernel_6904\\2770616247.py:12: RuntimeWarning: This filename (../SEED_FRA_OUTPUT/POSITIVE/8_3_trial_20_signals.fif) does not conform to MNE naming conventions. All raw files should end with raw.fif, raw_sss.fif, raw_tsss.fif, _meg.fif, _eeg.fif, _ieeg.fif, raw.fif.gz, raw_sss.fif.gz, raw_tsss.fif.gz, _meg.fif.gz, _eeg.fif.gz or _ieeg.fif.gz\n",
      "  eeg_data = mne.io.read_raw_fif(name, preload=True)\n"
     ]
    },
    {
     "name": "stdout",
     "output_type": "stream",
     "text": [
      "Opening raw data file ../SEED_FRA_OUTPUT/POSITIVE/8_3_trial_4_signals.fif...\n",
      "    Range : 982000 ... 1082000 =    982.000 ...  1082.000 secs\n",
      "Ready.\n",
      "Reading 0 ... 100000  =      0.000 ...   100.000 secs...\n"
     ]
    },
    {
     "name": "stderr",
     "output_type": "stream",
     "text": [
      "C:\\Users\\marco\\AppData\\Local\\Temp\\ipykernel_6904\\2770616247.py:12: RuntimeWarning: This filename (../SEED_FRA_OUTPUT/POSITIVE/8_3_trial_4_signals.fif) does not conform to MNE naming conventions. All raw files should end with raw.fif, raw_sss.fif, raw_tsss.fif, _meg.fif, _eeg.fif, _ieeg.fif, raw.fif.gz, raw_sss.fif.gz, raw_tsss.fif.gz, _meg.fif.gz, _eeg.fif.gz or _ieeg.fif.gz\n",
      "  eeg_data = mne.io.read_raw_fif(name, preload=True)\n"
     ]
    },
    {
     "name": "stdout",
     "output_type": "stream",
     "text": [
      "Opening raw data file ../SEED_FRA_OUTPUT/POSITIVE/8_3_trial_8_signals.fif...\n",
      "    Range : 1738000 ... 1867000 =   1738.000 ...  1867.000 secs\n",
      "Ready.\n",
      "Reading 0 ... 129000  =      0.000 ...   129.000 secs...\n"
     ]
    },
    {
     "name": "stderr",
     "output_type": "stream",
     "text": [
      "C:\\Users\\marco\\AppData\\Local\\Temp\\ipykernel_6904\\2770616247.py:12: RuntimeWarning: This filename (../SEED_FRA_OUTPUT/POSITIVE/8_3_trial_8_signals.fif) does not conform to MNE naming conventions. All raw files should end with raw.fif, raw_sss.fif, raw_tsss.fif, _meg.fif, _eeg.fif, _ieeg.fif, raw.fif.gz, raw_sss.fif.gz, raw_tsss.fif.gz, _meg.fif.gz, _eeg.fif.gz or _ieeg.fif.gz\n",
      "  eeg_data = mne.io.read_raw_fif(name, preload=True)\n"
     ]
    },
    {
     "name": "stdout",
     "output_type": "stream",
     "text": [
      "Opening raw data file ../SEED_FRA_OUTPUT/NEGATIVE/1_1_trial_14_signals.fif...\n",
      "    Range : 2783000 ... 2910000 =   2783.000 ...  2910.000 secs\n",
      "Ready.\n",
      "Reading 0 ... 127000  =      0.000 ...   127.000 secs...\n"
     ]
    },
    {
     "name": "stderr",
     "output_type": "stream",
     "text": [
      "C:\\Users\\marco\\AppData\\Local\\Temp\\ipykernel_6904\\2770616247.py:12: RuntimeWarning: This filename (../SEED_FRA_OUTPUT/NEGATIVE/1_1_trial_14_signals.fif) does not conform to MNE naming conventions. All raw files should end with raw.fif, raw_sss.fif, raw_tsss.fif, _meg.fif, _eeg.fif, _ieeg.fif, raw.fif.gz, raw_sss.fif.gz, raw_tsss.fif.gz, _meg.fif.gz, _eeg.fif.gz or _ieeg.fif.gz\n",
      "  eeg_data = mne.io.read_raw_fif(name, preload=True)\n"
     ]
    },
    {
     "name": "stdout",
     "output_type": "stream",
     "text": [
      "Opening raw data file ../SEED_FRA_OUTPUT/NEGATIVE/1_1_trial_15_signals.fif...\n",
      "    Range : 2931000 ... 3008000 =   2931.000 ...  3008.000 secs\n",
      "Ready.\n",
      "Reading 0 ... 77000  =      0.000 ...    77.000 secs...\n"
     ]
    },
    {
     "name": "stderr",
     "output_type": "stream",
     "text": [
      "C:\\Users\\marco\\AppData\\Local\\Temp\\ipykernel_6904\\2770616247.py:12: RuntimeWarning: This filename (../SEED_FRA_OUTPUT/NEGATIVE/1_1_trial_15_signals.fif) does not conform to MNE naming conventions. All raw files should end with raw.fif, raw_sss.fif, raw_tsss.fif, _meg.fif, _eeg.fif, _ieeg.fif, raw.fif.gz, raw_sss.fif.gz, raw_tsss.fif.gz, _meg.fif.gz, _eeg.fif.gz or _ieeg.fif.gz\n",
      "  eeg_data = mne.io.read_raw_fif(name, preload=True)\n"
     ]
    },
    {
     "name": "stdout",
     "output_type": "stream",
     "text": [
      "Opening raw data file ../SEED_FRA_OUTPUT/NEGATIVE/1_1_trial_18_signals.fif...\n",
      "    Range : 3369000 ... 3495000 =   3369.000 ...  3495.000 secs\n",
      "Ready.\n",
      "Reading 0 ... 126000  =      0.000 ...   126.000 secs...\n"
     ]
    },
    {
     "name": "stderr",
     "output_type": "stream",
     "text": [
      "C:\\Users\\marco\\AppData\\Local\\Temp\\ipykernel_6904\\2770616247.py:12: RuntimeWarning: This filename (../SEED_FRA_OUTPUT/NEGATIVE/1_1_trial_18_signals.fif) does not conform to MNE naming conventions. All raw files should end with raw.fif, raw_sss.fif, raw_tsss.fif, _meg.fif, _eeg.fif, _ieeg.fif, raw.fif.gz, raw_sss.fif.gz, raw_tsss.fif.gz, _meg.fif.gz, _eeg.fif.gz or _ieeg.fif.gz\n",
      "  eeg_data = mne.io.read_raw_fif(name, preload=True)\n"
     ]
    },
    {
     "name": "stdout",
     "output_type": "stream",
     "text": [
      "Opening raw data file ../SEED_FRA_OUTPUT/NEGATIVE/1_1_trial_1_signals.fif...\n",
      "    Range : 213000 ... 468000 =    213.000 ...   468.000 secs\n",
      "Ready.\n",
      "Reading 0 ... 255000  =      0.000 ...   255.000 secs...\n"
     ]
    },
    {
     "name": "stderr",
     "output_type": "stream",
     "text": [
      "C:\\Users\\marco\\AppData\\Local\\Temp\\ipykernel_6904\\2770616247.py:12: RuntimeWarning: This filename (../SEED_FRA_OUTPUT/NEGATIVE/1_1_trial_1_signals.fif) does not conform to MNE naming conventions. All raw files should end with raw.fif, raw_sss.fif, raw_tsss.fif, _meg.fif, _eeg.fif, _ieeg.fif, raw.fif.gz, raw_sss.fif.gz, raw_tsss.fif.gz, _meg.fif.gz, _eeg.fif.gz or _ieeg.fif.gz\n",
      "  eeg_data = mne.io.read_raw_fif(name, preload=True)\n"
     ]
    },
    {
     "name": "stdout",
     "output_type": "stream",
     "text": [
      "Opening raw data file ../SEED_FRA_OUTPUT/NEGATIVE/1_1_trial_3_signals.fif...\n",
      "    Range : 687000 ... 962000 =    687.000 ...   962.000 secs\n",
      "Ready.\n",
      "Reading 0 ... 275000  =      0.000 ...   275.000 secs...\n"
     ]
    },
    {
     "name": "stderr",
     "output_type": "stream",
     "text": [
      "C:\\Users\\marco\\AppData\\Local\\Temp\\ipykernel_6904\\2770616247.py:12: RuntimeWarning: This filename (../SEED_FRA_OUTPUT/NEGATIVE/1_1_trial_3_signals.fif) does not conform to MNE naming conventions. All raw files should end with raw.fif, raw_sss.fif, raw_tsss.fif, _meg.fif, _eeg.fif, _ieeg.fif, raw.fif.gz, raw_sss.fif.gz, raw_tsss.fif.gz, _meg.fif.gz, _eeg.fif.gz or _ieeg.fif.gz\n",
      "  eeg_data = mne.io.read_raw_fif(name, preload=True)\n"
     ]
    },
    {
     "name": "stdout",
     "output_type": "stream",
     "text": [
      "Opening raw data file ../SEED_FRA_OUTPUT/NEGATIVE/1_1_trial_6_signals.fif...\n",
      "    Range : 1252000 ... 1552000 =   1252.000 ...  1552.000 secs\n",
      "Ready.\n",
      "Reading 0 ... 300000  =      0.000 ...   300.000 secs...\n"
     ]
    },
    {
     "name": "stderr",
     "output_type": "stream",
     "text": [
      "C:\\Users\\marco\\AppData\\Local\\Temp\\ipykernel_6904\\2770616247.py:12: RuntimeWarning: This filename (../SEED_FRA_OUTPUT/NEGATIVE/1_1_trial_6_signals.fif) does not conform to MNE naming conventions. All raw files should end with raw.fif, raw_sss.fif, raw_tsss.fif, _meg.fif, _eeg.fif, _ieeg.fif, raw.fif.gz, raw_sss.fif.gz, raw_tsss.fif.gz, _meg.fif.gz, _eeg.fif.gz or _ieeg.fif.gz\n",
      "  eeg_data = mne.io.read_raw_fif(name, preload=True)\n"
     ]
    },
    {
     "name": "stdout",
     "output_type": "stream",
     "text": [
      "Opening raw data file ../SEED_FRA_OUTPUT/NEGATIVE/1_1_trial_9_signals.fif...\n",
      "    Range : 1887000 ... 2154000 =   1887.000 ...  2154.000 secs\n",
      "Ready.\n",
      "Reading 0 ... 267000  =      0.000 ...   267.000 secs...\n"
     ]
    },
    {
     "name": "stderr",
     "output_type": "stream",
     "text": [
      "C:\\Users\\marco\\AppData\\Local\\Temp\\ipykernel_6904\\2770616247.py:12: RuntimeWarning: This filename (../SEED_FRA_OUTPUT/NEGATIVE/1_1_trial_9_signals.fif) does not conform to MNE naming conventions. All raw files should end with raw.fif, raw_sss.fif, raw_tsss.fif, _meg.fif, _eeg.fif, _ieeg.fif, raw.fif.gz, raw_sss.fif.gz, raw_tsss.fif.gz, _meg.fif.gz, _eeg.fif.gz or _ieeg.fif.gz\n",
      "  eeg_data = mne.io.read_raw_fif(name, preload=True)\n"
     ]
    },
    {
     "name": "stdout",
     "output_type": "stream",
     "text": [
      "Opening raw data file ../SEED_FRA_OUTPUT/NEGATIVE/1_2_trial_14_signals.fif...\n",
      "    Range : 2783000 ... 2910000 =   2783.000 ...  2910.000 secs\n",
      "Ready.\n",
      "Reading 0 ... 127000  =      0.000 ...   127.000 secs...\n"
     ]
    },
    {
     "name": "stderr",
     "output_type": "stream",
     "text": [
      "C:\\Users\\marco\\AppData\\Local\\Temp\\ipykernel_6904\\2770616247.py:12: RuntimeWarning: This filename (../SEED_FRA_OUTPUT/NEGATIVE/1_2_trial_14_signals.fif) does not conform to MNE naming conventions. All raw files should end with raw.fif, raw_sss.fif, raw_tsss.fif, _meg.fif, _eeg.fif, _ieeg.fif, raw.fif.gz, raw_sss.fif.gz, raw_tsss.fif.gz, _meg.fif.gz, _eeg.fif.gz or _ieeg.fif.gz\n",
      "  eeg_data = mne.io.read_raw_fif(name, preload=True)\n"
     ]
    },
    {
     "name": "stdout",
     "output_type": "stream",
     "text": [
      "Opening raw data file ../SEED_FRA_OUTPUT/NEGATIVE/1_2_trial_15_signals.fif...\n",
      "    Range : 2931000 ... 3008000 =   2931.000 ...  3008.000 secs\n",
      "Ready.\n",
      "Reading 0 ... 77000  =      0.000 ...    77.000 secs...\n"
     ]
    },
    {
     "name": "stderr",
     "output_type": "stream",
     "text": [
      "C:\\Users\\marco\\AppData\\Local\\Temp\\ipykernel_6904\\2770616247.py:12: RuntimeWarning: This filename (../SEED_FRA_OUTPUT/NEGATIVE/1_2_trial_15_signals.fif) does not conform to MNE naming conventions. All raw files should end with raw.fif, raw_sss.fif, raw_tsss.fif, _meg.fif, _eeg.fif, _ieeg.fif, raw.fif.gz, raw_sss.fif.gz, raw_tsss.fif.gz, _meg.fif.gz, _eeg.fif.gz or _ieeg.fif.gz\n",
      "  eeg_data = mne.io.read_raw_fif(name, preload=True)\n"
     ]
    },
    {
     "name": "stdout",
     "output_type": "stream",
     "text": [
      "Opening raw data file ../SEED_FRA_OUTPUT/NEGATIVE/1_2_trial_18_signals.fif...\n",
      "    Range : 3369000 ... 3495000 =   3369.000 ...  3495.000 secs\n",
      "Ready.\n",
      "Reading 0 ... 126000  =      0.000 ...   126.000 secs...\n"
     ]
    },
    {
     "name": "stderr",
     "output_type": "stream",
     "text": [
      "C:\\Users\\marco\\AppData\\Local\\Temp\\ipykernel_6904\\2770616247.py:12: RuntimeWarning: This filename (../SEED_FRA_OUTPUT/NEGATIVE/1_2_trial_18_signals.fif) does not conform to MNE naming conventions. All raw files should end with raw.fif, raw_sss.fif, raw_tsss.fif, _meg.fif, _eeg.fif, _ieeg.fif, raw.fif.gz, raw_sss.fif.gz, raw_tsss.fif.gz, _meg.fif.gz, _eeg.fif.gz or _ieeg.fif.gz\n",
      "  eeg_data = mne.io.read_raw_fif(name, preload=True)\n"
     ]
    },
    {
     "name": "stdout",
     "output_type": "stream",
     "text": [
      "Opening raw data file ../SEED_FRA_OUTPUT/NEGATIVE/1_2_trial_1_signals.fif...\n",
      "    Range : 213000 ... 468000 =    213.000 ...   468.000 secs\n",
      "Ready.\n",
      "Reading 0 ... 255000  =      0.000 ...   255.000 secs...\n"
     ]
    },
    {
     "name": "stderr",
     "output_type": "stream",
     "text": [
      "C:\\Users\\marco\\AppData\\Local\\Temp\\ipykernel_6904\\2770616247.py:12: RuntimeWarning: This filename (../SEED_FRA_OUTPUT/NEGATIVE/1_2_trial_1_signals.fif) does not conform to MNE naming conventions. All raw files should end with raw.fif, raw_sss.fif, raw_tsss.fif, _meg.fif, _eeg.fif, _ieeg.fif, raw.fif.gz, raw_sss.fif.gz, raw_tsss.fif.gz, _meg.fif.gz, _eeg.fif.gz or _ieeg.fif.gz\n",
      "  eeg_data = mne.io.read_raw_fif(name, preload=True)\n"
     ]
    },
    {
     "name": "stdout",
     "output_type": "stream",
     "text": [
      "Opening raw data file ../SEED_FRA_OUTPUT/NEGATIVE/1_2_trial_3_signals.fif...\n",
      "    Range : 687000 ... 962000 =    687.000 ...   962.000 secs\n",
      "Ready.\n",
      "Reading 0 ... 275000  =      0.000 ...   275.000 secs...\n"
     ]
    },
    {
     "name": "stderr",
     "output_type": "stream",
     "text": [
      "C:\\Users\\marco\\AppData\\Local\\Temp\\ipykernel_6904\\2770616247.py:12: RuntimeWarning: This filename (../SEED_FRA_OUTPUT/NEGATIVE/1_2_trial_3_signals.fif) does not conform to MNE naming conventions. All raw files should end with raw.fif, raw_sss.fif, raw_tsss.fif, _meg.fif, _eeg.fif, _ieeg.fif, raw.fif.gz, raw_sss.fif.gz, raw_tsss.fif.gz, _meg.fif.gz, _eeg.fif.gz or _ieeg.fif.gz\n",
      "  eeg_data = mne.io.read_raw_fif(name, preload=True)\n"
     ]
    },
    {
     "name": "stdout",
     "output_type": "stream",
     "text": [
      "Opening raw data file ../SEED_FRA_OUTPUT/NEGATIVE/1_2_trial_6_signals.fif...\n",
      "    Range : 1252000 ... 1552000 =   1252.000 ...  1552.000 secs\n",
      "Ready.\n",
      "Reading 0 ... 300000  =      0.000 ...   300.000 secs...\n"
     ]
    },
    {
     "name": "stderr",
     "output_type": "stream",
     "text": [
      "C:\\Users\\marco\\AppData\\Local\\Temp\\ipykernel_6904\\2770616247.py:12: RuntimeWarning: This filename (../SEED_FRA_OUTPUT/NEGATIVE/1_2_trial_6_signals.fif) does not conform to MNE naming conventions. All raw files should end with raw.fif, raw_sss.fif, raw_tsss.fif, _meg.fif, _eeg.fif, _ieeg.fif, raw.fif.gz, raw_sss.fif.gz, raw_tsss.fif.gz, _meg.fif.gz, _eeg.fif.gz or _ieeg.fif.gz\n",
      "  eeg_data = mne.io.read_raw_fif(name, preload=True)\n"
     ]
    },
    {
     "name": "stdout",
     "output_type": "stream",
     "text": [
      "Opening raw data file ../SEED_FRA_OUTPUT/NEGATIVE/1_2_trial_9_signals.fif...\n",
      "    Range : 1887000 ... 2154000 =   1887.000 ...  2154.000 secs\n",
      "Ready.\n",
      "Reading 0 ... 267000  =      0.000 ...   267.000 secs...\n"
     ]
    },
    {
     "name": "stderr",
     "output_type": "stream",
     "text": [
      "C:\\Users\\marco\\AppData\\Local\\Temp\\ipykernel_6904\\2770616247.py:12: RuntimeWarning: This filename (../SEED_FRA_OUTPUT/NEGATIVE/1_2_trial_9_signals.fif) does not conform to MNE naming conventions. All raw files should end with raw.fif, raw_sss.fif, raw_tsss.fif, _meg.fif, _eeg.fif, _ieeg.fif, raw.fif.gz, raw_sss.fif.gz, raw_tsss.fif.gz, _meg.fif.gz, _eeg.fif.gz or _ieeg.fif.gz\n",
      "  eeg_data = mne.io.read_raw_fif(name, preload=True)\n"
     ]
    },
    {
     "name": "stdout",
     "output_type": "stream",
     "text": [
      "Opening raw data file ../SEED_FRA_OUTPUT/NEGATIVE/1_3_trial_14_signals.fif...\n",
      "    Range : 2783000 ... 2910000 =   2783.000 ...  2910.000 secs\n",
      "Ready.\n",
      "Reading 0 ... 127000  =      0.000 ...   127.000 secs...\n"
     ]
    },
    {
     "name": "stderr",
     "output_type": "stream",
     "text": [
      "C:\\Users\\marco\\AppData\\Local\\Temp\\ipykernel_6904\\2770616247.py:12: RuntimeWarning: This filename (../SEED_FRA_OUTPUT/NEGATIVE/1_3_trial_14_signals.fif) does not conform to MNE naming conventions. All raw files should end with raw.fif, raw_sss.fif, raw_tsss.fif, _meg.fif, _eeg.fif, _ieeg.fif, raw.fif.gz, raw_sss.fif.gz, raw_tsss.fif.gz, _meg.fif.gz, _eeg.fif.gz or _ieeg.fif.gz\n",
      "  eeg_data = mne.io.read_raw_fif(name, preload=True)\n"
     ]
    },
    {
     "name": "stdout",
     "output_type": "stream",
     "text": [
      "Opening raw data file ../SEED_FRA_OUTPUT/NEGATIVE/1_3_trial_15_signals.fif...\n",
      "    Range : 2931000 ... 3008000 =   2931.000 ...  3008.000 secs\n",
      "Ready.\n",
      "Reading 0 ... 77000  =      0.000 ...    77.000 secs...\n"
     ]
    },
    {
     "name": "stderr",
     "output_type": "stream",
     "text": [
      "C:\\Users\\marco\\AppData\\Local\\Temp\\ipykernel_6904\\2770616247.py:12: RuntimeWarning: This filename (../SEED_FRA_OUTPUT/NEGATIVE/1_3_trial_15_signals.fif) does not conform to MNE naming conventions. All raw files should end with raw.fif, raw_sss.fif, raw_tsss.fif, _meg.fif, _eeg.fif, _ieeg.fif, raw.fif.gz, raw_sss.fif.gz, raw_tsss.fif.gz, _meg.fif.gz, _eeg.fif.gz or _ieeg.fif.gz\n",
      "  eeg_data = mne.io.read_raw_fif(name, preload=True)\n"
     ]
    },
    {
     "name": "stdout",
     "output_type": "stream",
     "text": [
      "Opening raw data file ../SEED_FRA_OUTPUT/NEGATIVE/1_3_trial_18_signals.fif...\n",
      "    Range : 3369000 ... 3495000 =   3369.000 ...  3495.000 secs\n",
      "Ready.\n",
      "Reading 0 ... 126000  =      0.000 ...   126.000 secs...\n"
     ]
    },
    {
     "name": "stderr",
     "output_type": "stream",
     "text": [
      "C:\\Users\\marco\\AppData\\Local\\Temp\\ipykernel_6904\\2770616247.py:12: RuntimeWarning: This filename (../SEED_FRA_OUTPUT/NEGATIVE/1_3_trial_18_signals.fif) does not conform to MNE naming conventions. All raw files should end with raw.fif, raw_sss.fif, raw_tsss.fif, _meg.fif, _eeg.fif, _ieeg.fif, raw.fif.gz, raw_sss.fif.gz, raw_tsss.fif.gz, _meg.fif.gz, _eeg.fif.gz or _ieeg.fif.gz\n",
      "  eeg_data = mne.io.read_raw_fif(name, preload=True)\n"
     ]
    },
    {
     "name": "stdout",
     "output_type": "stream",
     "text": [
      "Opening raw data file ../SEED_FRA_OUTPUT/NEGATIVE/1_3_trial_1_signals.fif...\n",
      "    Range : 213000 ... 468000 =    213.000 ...   468.000 secs\n",
      "Ready.\n",
      "Reading 0 ... 255000  =      0.000 ...   255.000 secs...\n"
     ]
    },
    {
     "name": "stderr",
     "output_type": "stream",
     "text": [
      "C:\\Users\\marco\\AppData\\Local\\Temp\\ipykernel_6904\\2770616247.py:12: RuntimeWarning: This filename (../SEED_FRA_OUTPUT/NEGATIVE/1_3_trial_1_signals.fif) does not conform to MNE naming conventions. All raw files should end with raw.fif, raw_sss.fif, raw_tsss.fif, _meg.fif, _eeg.fif, _ieeg.fif, raw.fif.gz, raw_sss.fif.gz, raw_tsss.fif.gz, _meg.fif.gz, _eeg.fif.gz or _ieeg.fif.gz\n",
      "  eeg_data = mne.io.read_raw_fif(name, preload=True)\n"
     ]
    },
    {
     "name": "stdout",
     "output_type": "stream",
     "text": [
      "Opening raw data file ../SEED_FRA_OUTPUT/NEGATIVE/1_3_trial_3_signals.fif...\n",
      "    Range : 687000 ... 962000 =    687.000 ...   962.000 secs\n",
      "Ready.\n",
      "Reading 0 ... 275000  =      0.000 ...   275.000 secs...\n"
     ]
    },
    {
     "name": "stderr",
     "output_type": "stream",
     "text": [
      "C:\\Users\\marco\\AppData\\Local\\Temp\\ipykernel_6904\\2770616247.py:12: RuntimeWarning: This filename (../SEED_FRA_OUTPUT/NEGATIVE/1_3_trial_3_signals.fif) does not conform to MNE naming conventions. All raw files should end with raw.fif, raw_sss.fif, raw_tsss.fif, _meg.fif, _eeg.fif, _ieeg.fif, raw.fif.gz, raw_sss.fif.gz, raw_tsss.fif.gz, _meg.fif.gz, _eeg.fif.gz or _ieeg.fif.gz\n",
      "  eeg_data = mne.io.read_raw_fif(name, preload=True)\n"
     ]
    },
    {
     "name": "stdout",
     "output_type": "stream",
     "text": [
      "Opening raw data file ../SEED_FRA_OUTPUT/NEGATIVE/1_3_trial_6_signals.fif...\n",
      "    Range : 1252000 ... 1552000 =   1252.000 ...  1552.000 secs\n",
      "Ready.\n",
      "Reading 0 ... 300000  =      0.000 ...   300.000 secs...\n"
     ]
    },
    {
     "name": "stderr",
     "output_type": "stream",
     "text": [
      "C:\\Users\\marco\\AppData\\Local\\Temp\\ipykernel_6904\\2770616247.py:12: RuntimeWarning: This filename (../SEED_FRA_OUTPUT/NEGATIVE/1_3_trial_6_signals.fif) does not conform to MNE naming conventions. All raw files should end with raw.fif, raw_sss.fif, raw_tsss.fif, _meg.fif, _eeg.fif, _ieeg.fif, raw.fif.gz, raw_sss.fif.gz, raw_tsss.fif.gz, _meg.fif.gz, _eeg.fif.gz or _ieeg.fif.gz\n",
      "  eeg_data = mne.io.read_raw_fif(name, preload=True)\n"
     ]
    },
    {
     "name": "stdout",
     "output_type": "stream",
     "text": [
      "Opening raw data file ../SEED_FRA_OUTPUT/NEGATIVE/1_3_trial_9_signals.fif...\n",
      "    Range : 1887000 ... 2154000 =   1887.000 ...  2154.000 secs\n",
      "Ready.\n",
      "Reading 0 ... 267000  =      0.000 ...   267.000 secs...\n"
     ]
    },
    {
     "name": "stderr",
     "output_type": "stream",
     "text": [
      "C:\\Users\\marco\\AppData\\Local\\Temp\\ipykernel_6904\\2770616247.py:12: RuntimeWarning: This filename (../SEED_FRA_OUTPUT/NEGATIVE/1_3_trial_9_signals.fif) does not conform to MNE naming conventions. All raw files should end with raw.fif, raw_sss.fif, raw_tsss.fif, _meg.fif, _eeg.fif, _ieeg.fif, raw.fif.gz, raw_sss.fif.gz, raw_tsss.fif.gz, _meg.fif.gz, _eeg.fif.gz or _ieeg.fif.gz\n",
      "  eeg_data = mne.io.read_raw_fif(name, preload=True)\n"
     ]
    },
    {
     "name": "stdout",
     "output_type": "stream",
     "text": [
      "Opening raw data file ../SEED_FRA_OUTPUT/NEGATIVE/2_1_trial_14_signals.fif...\n",
      "    Range : 2783000 ... 2910000 =   2783.000 ...  2910.000 secs\n",
      "Ready.\n",
      "Reading 0 ... 127000  =      0.000 ...   127.000 secs...\n"
     ]
    },
    {
     "name": "stderr",
     "output_type": "stream",
     "text": [
      "C:\\Users\\marco\\AppData\\Local\\Temp\\ipykernel_6904\\2770616247.py:12: RuntimeWarning: This filename (../SEED_FRA_OUTPUT/NEGATIVE/2_1_trial_14_signals.fif) does not conform to MNE naming conventions. All raw files should end with raw.fif, raw_sss.fif, raw_tsss.fif, _meg.fif, _eeg.fif, _ieeg.fif, raw.fif.gz, raw_sss.fif.gz, raw_tsss.fif.gz, _meg.fif.gz, _eeg.fif.gz or _ieeg.fif.gz\n",
      "  eeg_data = mne.io.read_raw_fif(name, preload=True)\n"
     ]
    },
    {
     "name": "stdout",
     "output_type": "stream",
     "text": [
      "Opening raw data file ../SEED_FRA_OUTPUT/NEGATIVE/2_1_trial_15_signals.fif...\n",
      "    Range : 2931000 ... 3008000 =   2931.000 ...  3008.000 secs\n",
      "Ready.\n",
      "Reading 0 ... 77000  =      0.000 ...    77.000 secs...\n"
     ]
    },
    {
     "name": "stderr",
     "output_type": "stream",
     "text": [
      "C:\\Users\\marco\\AppData\\Local\\Temp\\ipykernel_6904\\2770616247.py:12: RuntimeWarning: This filename (../SEED_FRA_OUTPUT/NEGATIVE/2_1_trial_15_signals.fif) does not conform to MNE naming conventions. All raw files should end with raw.fif, raw_sss.fif, raw_tsss.fif, _meg.fif, _eeg.fif, _ieeg.fif, raw.fif.gz, raw_sss.fif.gz, raw_tsss.fif.gz, _meg.fif.gz, _eeg.fif.gz or _ieeg.fif.gz\n",
      "  eeg_data = mne.io.read_raw_fif(name, preload=True)\n"
     ]
    },
    {
     "name": "stdout",
     "output_type": "stream",
     "text": [
      "Opening raw data file ../SEED_FRA_OUTPUT/NEGATIVE/2_1_trial_18_signals.fif...\n",
      "    Range : 3369000 ... 3495000 =   3369.000 ...  3495.000 secs\n",
      "Ready.\n",
      "Reading 0 ... 126000  =      0.000 ...   126.000 secs...\n"
     ]
    },
    {
     "name": "stderr",
     "output_type": "stream",
     "text": [
      "C:\\Users\\marco\\AppData\\Local\\Temp\\ipykernel_6904\\2770616247.py:12: RuntimeWarning: This filename (../SEED_FRA_OUTPUT/NEGATIVE/2_1_trial_18_signals.fif) does not conform to MNE naming conventions. All raw files should end with raw.fif, raw_sss.fif, raw_tsss.fif, _meg.fif, _eeg.fif, _ieeg.fif, raw.fif.gz, raw_sss.fif.gz, raw_tsss.fif.gz, _meg.fif.gz, _eeg.fif.gz or _ieeg.fif.gz\n",
      "  eeg_data = mne.io.read_raw_fif(name, preload=True)\n"
     ]
    },
    {
     "name": "stdout",
     "output_type": "stream",
     "text": [
      "Opening raw data file ../SEED_FRA_OUTPUT/NEGATIVE/2_1_trial_1_signals.fif...\n",
      "    Range : 213000 ... 468000 =    213.000 ...   468.000 secs\n",
      "Ready.\n",
      "Reading 0 ... 255000  =      0.000 ...   255.000 secs...\n"
     ]
    },
    {
     "name": "stderr",
     "output_type": "stream",
     "text": [
      "C:\\Users\\marco\\AppData\\Local\\Temp\\ipykernel_6904\\2770616247.py:12: RuntimeWarning: This filename (../SEED_FRA_OUTPUT/NEGATIVE/2_1_trial_1_signals.fif) does not conform to MNE naming conventions. All raw files should end with raw.fif, raw_sss.fif, raw_tsss.fif, _meg.fif, _eeg.fif, _ieeg.fif, raw.fif.gz, raw_sss.fif.gz, raw_tsss.fif.gz, _meg.fif.gz, _eeg.fif.gz or _ieeg.fif.gz\n",
      "  eeg_data = mne.io.read_raw_fif(name, preload=True)\n"
     ]
    },
    {
     "name": "stdout",
     "output_type": "stream",
     "text": [
      "Opening raw data file ../SEED_FRA_OUTPUT/NEGATIVE/2_1_trial_3_signals.fif...\n",
      "    Range : 687000 ... 962000 =    687.000 ...   962.000 secs\n",
      "Ready.\n",
      "Reading 0 ... 275000  =      0.000 ...   275.000 secs...\n"
     ]
    },
    {
     "name": "stderr",
     "output_type": "stream",
     "text": [
      "C:\\Users\\marco\\AppData\\Local\\Temp\\ipykernel_6904\\2770616247.py:12: RuntimeWarning: This filename (../SEED_FRA_OUTPUT/NEGATIVE/2_1_trial_3_signals.fif) does not conform to MNE naming conventions. All raw files should end with raw.fif, raw_sss.fif, raw_tsss.fif, _meg.fif, _eeg.fif, _ieeg.fif, raw.fif.gz, raw_sss.fif.gz, raw_tsss.fif.gz, _meg.fif.gz, _eeg.fif.gz or _ieeg.fif.gz\n",
      "  eeg_data = mne.io.read_raw_fif(name, preload=True)\n"
     ]
    },
    {
     "name": "stdout",
     "output_type": "stream",
     "text": [
      "Opening raw data file ../SEED_FRA_OUTPUT/NEGATIVE/2_1_trial_6_signals.fif...\n",
      "    Range : 1252000 ... 1552000 =   1252.000 ...  1552.000 secs\n",
      "Ready.\n",
      "Reading 0 ... 300000  =      0.000 ...   300.000 secs...\n"
     ]
    },
    {
     "name": "stderr",
     "output_type": "stream",
     "text": [
      "C:\\Users\\marco\\AppData\\Local\\Temp\\ipykernel_6904\\2770616247.py:12: RuntimeWarning: This filename (../SEED_FRA_OUTPUT/NEGATIVE/2_1_trial_6_signals.fif) does not conform to MNE naming conventions. All raw files should end with raw.fif, raw_sss.fif, raw_tsss.fif, _meg.fif, _eeg.fif, _ieeg.fif, raw.fif.gz, raw_sss.fif.gz, raw_tsss.fif.gz, _meg.fif.gz, _eeg.fif.gz or _ieeg.fif.gz\n",
      "  eeg_data = mne.io.read_raw_fif(name, preload=True)\n"
     ]
    },
    {
     "name": "stdout",
     "output_type": "stream",
     "text": [
      "Opening raw data file ../SEED_FRA_OUTPUT/NEGATIVE/2_1_trial_9_signals.fif...\n",
      "    Range : 1887000 ... 2154000 =   1887.000 ...  2154.000 secs\n",
      "Ready.\n",
      "Reading 0 ... 267000  =      0.000 ...   267.000 secs...\n"
     ]
    },
    {
     "name": "stderr",
     "output_type": "stream",
     "text": [
      "C:\\Users\\marco\\AppData\\Local\\Temp\\ipykernel_6904\\2770616247.py:12: RuntimeWarning: This filename (../SEED_FRA_OUTPUT/NEGATIVE/2_1_trial_9_signals.fif) does not conform to MNE naming conventions. All raw files should end with raw.fif, raw_sss.fif, raw_tsss.fif, _meg.fif, _eeg.fif, _ieeg.fif, raw.fif.gz, raw_sss.fif.gz, raw_tsss.fif.gz, _meg.fif.gz, _eeg.fif.gz or _ieeg.fif.gz\n",
      "  eeg_data = mne.io.read_raw_fif(name, preload=True)\n"
     ]
    },
    {
     "name": "stdout",
     "output_type": "stream",
     "text": [
      "Opening raw data file ../SEED_FRA_OUTPUT/NEGATIVE/2_2_trial_14_signals.fif...\n",
      "    Range : 2783000 ... 2910000 =   2783.000 ...  2910.000 secs\n",
      "Ready.\n",
      "Reading 0 ... 127000  =      0.000 ...   127.000 secs...\n"
     ]
    },
    {
     "name": "stderr",
     "output_type": "stream",
     "text": [
      "C:\\Users\\marco\\AppData\\Local\\Temp\\ipykernel_6904\\2770616247.py:12: RuntimeWarning: This filename (../SEED_FRA_OUTPUT/NEGATIVE/2_2_trial_14_signals.fif) does not conform to MNE naming conventions. All raw files should end with raw.fif, raw_sss.fif, raw_tsss.fif, _meg.fif, _eeg.fif, _ieeg.fif, raw.fif.gz, raw_sss.fif.gz, raw_tsss.fif.gz, _meg.fif.gz, _eeg.fif.gz or _ieeg.fif.gz\n",
      "  eeg_data = mne.io.read_raw_fif(name, preload=True)\n"
     ]
    },
    {
     "name": "stdout",
     "output_type": "stream",
     "text": [
      "Opening raw data file ../SEED_FRA_OUTPUT/NEGATIVE/2_2_trial_15_signals.fif...\n",
      "    Range : 2931000 ... 3008000 =   2931.000 ...  3008.000 secs\n",
      "Ready.\n",
      "Reading 0 ... 77000  =      0.000 ...    77.000 secs...\n"
     ]
    },
    {
     "name": "stderr",
     "output_type": "stream",
     "text": [
      "C:\\Users\\marco\\AppData\\Local\\Temp\\ipykernel_6904\\2770616247.py:12: RuntimeWarning: This filename (../SEED_FRA_OUTPUT/NEGATIVE/2_2_trial_15_signals.fif) does not conform to MNE naming conventions. All raw files should end with raw.fif, raw_sss.fif, raw_tsss.fif, _meg.fif, _eeg.fif, _ieeg.fif, raw.fif.gz, raw_sss.fif.gz, raw_tsss.fif.gz, _meg.fif.gz, _eeg.fif.gz or _ieeg.fif.gz\n",
      "  eeg_data = mne.io.read_raw_fif(name, preload=True)\n"
     ]
    },
    {
     "name": "stdout",
     "output_type": "stream",
     "text": [
      "Opening raw data file ../SEED_FRA_OUTPUT/NEGATIVE/2_2_trial_18_signals.fif...\n",
      "    Range : 3369000 ... 3495000 =   3369.000 ...  3495.000 secs\n",
      "Ready.\n",
      "Reading 0 ... 126000  =      0.000 ...   126.000 secs...\n"
     ]
    },
    {
     "name": "stderr",
     "output_type": "stream",
     "text": [
      "C:\\Users\\marco\\AppData\\Local\\Temp\\ipykernel_6904\\2770616247.py:12: RuntimeWarning: This filename (../SEED_FRA_OUTPUT/NEGATIVE/2_2_trial_18_signals.fif) does not conform to MNE naming conventions. All raw files should end with raw.fif, raw_sss.fif, raw_tsss.fif, _meg.fif, _eeg.fif, _ieeg.fif, raw.fif.gz, raw_sss.fif.gz, raw_tsss.fif.gz, _meg.fif.gz, _eeg.fif.gz or _ieeg.fif.gz\n",
      "  eeg_data = mne.io.read_raw_fif(name, preload=True)\n"
     ]
    },
    {
     "name": "stdout",
     "output_type": "stream",
     "text": [
      "Opening raw data file ../SEED_FRA_OUTPUT/NEGATIVE/2_2_trial_1_signals.fif...\n",
      "    Range : 213000 ... 468000 =    213.000 ...   468.000 secs\n",
      "Ready.\n",
      "Reading 0 ... 255000  =      0.000 ...   255.000 secs...\n"
     ]
    },
    {
     "name": "stderr",
     "output_type": "stream",
     "text": [
      "C:\\Users\\marco\\AppData\\Local\\Temp\\ipykernel_6904\\2770616247.py:12: RuntimeWarning: This filename (../SEED_FRA_OUTPUT/NEGATIVE/2_2_trial_1_signals.fif) does not conform to MNE naming conventions. All raw files should end with raw.fif, raw_sss.fif, raw_tsss.fif, _meg.fif, _eeg.fif, _ieeg.fif, raw.fif.gz, raw_sss.fif.gz, raw_tsss.fif.gz, _meg.fif.gz, _eeg.fif.gz or _ieeg.fif.gz\n",
      "  eeg_data = mne.io.read_raw_fif(name, preload=True)\n"
     ]
    },
    {
     "name": "stdout",
     "output_type": "stream",
     "text": [
      "Opening raw data file ../SEED_FRA_OUTPUT/NEGATIVE/2_2_trial_3_signals.fif...\n",
      "    Range : 687000 ... 962000 =    687.000 ...   962.000 secs\n",
      "Ready.\n",
      "Reading 0 ... 275000  =      0.000 ...   275.000 secs...\n"
     ]
    },
    {
     "name": "stderr",
     "output_type": "stream",
     "text": [
      "C:\\Users\\marco\\AppData\\Local\\Temp\\ipykernel_6904\\2770616247.py:12: RuntimeWarning: This filename (../SEED_FRA_OUTPUT/NEGATIVE/2_2_trial_3_signals.fif) does not conform to MNE naming conventions. All raw files should end with raw.fif, raw_sss.fif, raw_tsss.fif, _meg.fif, _eeg.fif, _ieeg.fif, raw.fif.gz, raw_sss.fif.gz, raw_tsss.fif.gz, _meg.fif.gz, _eeg.fif.gz or _ieeg.fif.gz\n",
      "  eeg_data = mne.io.read_raw_fif(name, preload=True)\n"
     ]
    },
    {
     "name": "stdout",
     "output_type": "stream",
     "text": [
      "Opening raw data file ../SEED_FRA_OUTPUT/NEGATIVE/2_2_trial_6_signals.fif...\n",
      "    Range : 1252000 ... 1552000 =   1252.000 ...  1552.000 secs\n",
      "Ready.\n",
      "Reading 0 ... 300000  =      0.000 ...   300.000 secs...\n"
     ]
    },
    {
     "name": "stderr",
     "output_type": "stream",
     "text": [
      "C:\\Users\\marco\\AppData\\Local\\Temp\\ipykernel_6904\\2770616247.py:12: RuntimeWarning: This filename (../SEED_FRA_OUTPUT/NEGATIVE/2_2_trial_6_signals.fif) does not conform to MNE naming conventions. All raw files should end with raw.fif, raw_sss.fif, raw_tsss.fif, _meg.fif, _eeg.fif, _ieeg.fif, raw.fif.gz, raw_sss.fif.gz, raw_tsss.fif.gz, _meg.fif.gz, _eeg.fif.gz or _ieeg.fif.gz\n",
      "  eeg_data = mne.io.read_raw_fif(name, preload=True)\n"
     ]
    },
    {
     "name": "stdout",
     "output_type": "stream",
     "text": [
      "Opening raw data file ../SEED_FRA_OUTPUT/NEGATIVE/2_2_trial_9_signals.fif...\n",
      "    Range : 1887000 ... 2154000 =   1887.000 ...  2154.000 secs\n",
      "Ready.\n",
      "Reading 0 ... 267000  =      0.000 ...   267.000 secs...\n"
     ]
    },
    {
     "name": "stderr",
     "output_type": "stream",
     "text": [
      "C:\\Users\\marco\\AppData\\Local\\Temp\\ipykernel_6904\\2770616247.py:12: RuntimeWarning: This filename (../SEED_FRA_OUTPUT/NEGATIVE/2_2_trial_9_signals.fif) does not conform to MNE naming conventions. All raw files should end with raw.fif, raw_sss.fif, raw_tsss.fif, _meg.fif, _eeg.fif, _ieeg.fif, raw.fif.gz, raw_sss.fif.gz, raw_tsss.fif.gz, _meg.fif.gz, _eeg.fif.gz or _ieeg.fif.gz\n",
      "  eeg_data = mne.io.read_raw_fif(name, preload=True)\n"
     ]
    },
    {
     "name": "stdout",
     "output_type": "stream",
     "text": [
      "Opening raw data file ../SEED_FRA_OUTPUT/NEGATIVE/2_3_trial_14_signals.fif...\n",
      "    Range : 2783000 ... 2910000 =   2783.000 ...  2910.000 secs\n",
      "Ready.\n",
      "Reading 0 ... 127000  =      0.000 ...   127.000 secs...\n"
     ]
    },
    {
     "name": "stderr",
     "output_type": "stream",
     "text": [
      "C:\\Users\\marco\\AppData\\Local\\Temp\\ipykernel_6904\\2770616247.py:12: RuntimeWarning: This filename (../SEED_FRA_OUTPUT/NEGATIVE/2_3_trial_14_signals.fif) does not conform to MNE naming conventions. All raw files should end with raw.fif, raw_sss.fif, raw_tsss.fif, _meg.fif, _eeg.fif, _ieeg.fif, raw.fif.gz, raw_sss.fif.gz, raw_tsss.fif.gz, _meg.fif.gz, _eeg.fif.gz or _ieeg.fif.gz\n",
      "  eeg_data = mne.io.read_raw_fif(name, preload=True)\n"
     ]
    },
    {
     "name": "stdout",
     "output_type": "stream",
     "text": [
      "Opening raw data file ../SEED_FRA_OUTPUT/NEGATIVE/2_3_trial_15_signals.fif...\n",
      "    Range : 2931000 ... 3008000 =   2931.000 ...  3008.000 secs\n",
      "Ready.\n",
      "Reading 0 ... 77000  =      0.000 ...    77.000 secs...\n"
     ]
    },
    {
     "name": "stderr",
     "output_type": "stream",
     "text": [
      "C:\\Users\\marco\\AppData\\Local\\Temp\\ipykernel_6904\\2770616247.py:12: RuntimeWarning: This filename (../SEED_FRA_OUTPUT/NEGATIVE/2_3_trial_15_signals.fif) does not conform to MNE naming conventions. All raw files should end with raw.fif, raw_sss.fif, raw_tsss.fif, _meg.fif, _eeg.fif, _ieeg.fif, raw.fif.gz, raw_sss.fif.gz, raw_tsss.fif.gz, _meg.fif.gz, _eeg.fif.gz or _ieeg.fif.gz\n",
      "  eeg_data = mne.io.read_raw_fif(name, preload=True)\n"
     ]
    },
    {
     "name": "stdout",
     "output_type": "stream",
     "text": [
      "Opening raw data file ../SEED_FRA_OUTPUT/NEGATIVE/2_3_trial_18_signals.fif...\n",
      "    Range : 3369000 ... 3495000 =   3369.000 ...  3495.000 secs\n",
      "Ready.\n",
      "Reading 0 ... 126000  =      0.000 ...   126.000 secs...\n"
     ]
    },
    {
     "name": "stderr",
     "output_type": "stream",
     "text": [
      "C:\\Users\\marco\\AppData\\Local\\Temp\\ipykernel_6904\\2770616247.py:12: RuntimeWarning: This filename (../SEED_FRA_OUTPUT/NEGATIVE/2_3_trial_18_signals.fif) does not conform to MNE naming conventions. All raw files should end with raw.fif, raw_sss.fif, raw_tsss.fif, _meg.fif, _eeg.fif, _ieeg.fif, raw.fif.gz, raw_sss.fif.gz, raw_tsss.fif.gz, _meg.fif.gz, _eeg.fif.gz or _ieeg.fif.gz\n",
      "  eeg_data = mne.io.read_raw_fif(name, preload=True)\n"
     ]
    },
    {
     "name": "stdout",
     "output_type": "stream",
     "text": [
      "Opening raw data file ../SEED_FRA_OUTPUT/NEGATIVE/2_3_trial_1_signals.fif...\n",
      "    Range : 213000 ... 468000 =    213.000 ...   468.000 secs\n",
      "Ready.\n",
      "Reading 0 ... 255000  =      0.000 ...   255.000 secs...\n"
     ]
    },
    {
     "name": "stderr",
     "output_type": "stream",
     "text": [
      "C:\\Users\\marco\\AppData\\Local\\Temp\\ipykernel_6904\\2770616247.py:12: RuntimeWarning: This filename (../SEED_FRA_OUTPUT/NEGATIVE/2_3_trial_1_signals.fif) does not conform to MNE naming conventions. All raw files should end with raw.fif, raw_sss.fif, raw_tsss.fif, _meg.fif, _eeg.fif, _ieeg.fif, raw.fif.gz, raw_sss.fif.gz, raw_tsss.fif.gz, _meg.fif.gz, _eeg.fif.gz or _ieeg.fif.gz\n",
      "  eeg_data = mne.io.read_raw_fif(name, preload=True)\n"
     ]
    },
    {
     "name": "stdout",
     "output_type": "stream",
     "text": [
      "Opening raw data file ../SEED_FRA_OUTPUT/NEGATIVE/2_3_trial_3_signals.fif...\n",
      "    Range : 687000 ... 962000 =    687.000 ...   962.000 secs\n",
      "Ready.\n",
      "Reading 0 ... 275000  =      0.000 ...   275.000 secs...\n"
     ]
    },
    {
     "name": "stderr",
     "output_type": "stream",
     "text": [
      "C:\\Users\\marco\\AppData\\Local\\Temp\\ipykernel_6904\\2770616247.py:12: RuntimeWarning: This filename (../SEED_FRA_OUTPUT/NEGATIVE/2_3_trial_3_signals.fif) does not conform to MNE naming conventions. All raw files should end with raw.fif, raw_sss.fif, raw_tsss.fif, _meg.fif, _eeg.fif, _ieeg.fif, raw.fif.gz, raw_sss.fif.gz, raw_tsss.fif.gz, _meg.fif.gz, _eeg.fif.gz or _ieeg.fif.gz\n",
      "  eeg_data = mne.io.read_raw_fif(name, preload=True)\n"
     ]
    },
    {
     "name": "stdout",
     "output_type": "stream",
     "text": [
      "Opening raw data file ../SEED_FRA_OUTPUT/NEGATIVE/2_3_trial_6_signals.fif...\n",
      "    Range : 1252000 ... 1552000 =   1252.000 ...  1552.000 secs\n",
      "Ready.\n",
      "Reading 0 ... 300000  =      0.000 ...   300.000 secs...\n"
     ]
    },
    {
     "name": "stderr",
     "output_type": "stream",
     "text": [
      "C:\\Users\\marco\\AppData\\Local\\Temp\\ipykernel_6904\\2770616247.py:12: RuntimeWarning: This filename (../SEED_FRA_OUTPUT/NEGATIVE/2_3_trial_6_signals.fif) does not conform to MNE naming conventions. All raw files should end with raw.fif, raw_sss.fif, raw_tsss.fif, _meg.fif, _eeg.fif, _ieeg.fif, raw.fif.gz, raw_sss.fif.gz, raw_tsss.fif.gz, _meg.fif.gz, _eeg.fif.gz or _ieeg.fif.gz\n",
      "  eeg_data = mne.io.read_raw_fif(name, preload=True)\n"
     ]
    },
    {
     "name": "stdout",
     "output_type": "stream",
     "text": [
      "Opening raw data file ../SEED_FRA_OUTPUT/NEGATIVE/2_3_trial_9_signals.fif...\n",
      "    Range : 1887000 ... 2154000 =   1887.000 ...  2154.000 secs\n",
      "Ready.\n",
      "Reading 0 ... 267000  =      0.000 ...   267.000 secs...\n"
     ]
    },
    {
     "name": "stderr",
     "output_type": "stream",
     "text": [
      "C:\\Users\\marco\\AppData\\Local\\Temp\\ipykernel_6904\\2770616247.py:12: RuntimeWarning: This filename (../SEED_FRA_OUTPUT/NEGATIVE/2_3_trial_9_signals.fif) does not conform to MNE naming conventions. All raw files should end with raw.fif, raw_sss.fif, raw_tsss.fif, _meg.fif, _eeg.fif, _ieeg.fif, raw.fif.gz, raw_sss.fif.gz, raw_tsss.fif.gz, _meg.fif.gz, _eeg.fif.gz or _ieeg.fif.gz\n",
      "  eeg_data = mne.io.read_raw_fif(name, preload=True)\n"
     ]
    },
    {
     "name": "stdout",
     "output_type": "stream",
     "text": [
      "Opening raw data file ../SEED_FRA_OUTPUT/NEGATIVE/3_1_trial_14_signals.fif...\n",
      "    Range : 2783000 ... 2910000 =   2783.000 ...  2910.000 secs\n",
      "Ready.\n",
      "Reading 0 ... 127000  =      0.000 ...   127.000 secs...\n"
     ]
    },
    {
     "name": "stderr",
     "output_type": "stream",
     "text": [
      "C:\\Users\\marco\\AppData\\Local\\Temp\\ipykernel_6904\\2770616247.py:12: RuntimeWarning: This filename (../SEED_FRA_OUTPUT/NEGATIVE/3_1_trial_14_signals.fif) does not conform to MNE naming conventions. All raw files should end with raw.fif, raw_sss.fif, raw_tsss.fif, _meg.fif, _eeg.fif, _ieeg.fif, raw.fif.gz, raw_sss.fif.gz, raw_tsss.fif.gz, _meg.fif.gz, _eeg.fif.gz or _ieeg.fif.gz\n",
      "  eeg_data = mne.io.read_raw_fif(name, preload=True)\n"
     ]
    },
    {
     "name": "stdout",
     "output_type": "stream",
     "text": [
      "Opening raw data file ../SEED_FRA_OUTPUT/NEGATIVE/3_1_trial_15_signals.fif...\n",
      "    Range : 2931000 ... 3008000 =   2931.000 ...  3008.000 secs\n",
      "Ready.\n",
      "Reading 0 ... 77000  =      0.000 ...    77.000 secs...\n"
     ]
    },
    {
     "name": "stderr",
     "output_type": "stream",
     "text": [
      "C:\\Users\\marco\\AppData\\Local\\Temp\\ipykernel_6904\\2770616247.py:12: RuntimeWarning: This filename (../SEED_FRA_OUTPUT/NEGATIVE/3_1_trial_15_signals.fif) does not conform to MNE naming conventions. All raw files should end with raw.fif, raw_sss.fif, raw_tsss.fif, _meg.fif, _eeg.fif, _ieeg.fif, raw.fif.gz, raw_sss.fif.gz, raw_tsss.fif.gz, _meg.fif.gz, _eeg.fif.gz or _ieeg.fif.gz\n",
      "  eeg_data = mne.io.read_raw_fif(name, preload=True)\n"
     ]
    },
    {
     "name": "stdout",
     "output_type": "stream",
     "text": [
      "Opening raw data file ../SEED_FRA_OUTPUT/NEGATIVE/3_1_trial_18_signals.fif...\n",
      "    Range : 3369000 ... 3495000 =   3369.000 ...  3495.000 secs\n",
      "Ready.\n",
      "Reading 0 ... 126000  =      0.000 ...   126.000 secs...\n"
     ]
    },
    {
     "name": "stderr",
     "output_type": "stream",
     "text": [
      "C:\\Users\\marco\\AppData\\Local\\Temp\\ipykernel_6904\\2770616247.py:12: RuntimeWarning: This filename (../SEED_FRA_OUTPUT/NEGATIVE/3_1_trial_18_signals.fif) does not conform to MNE naming conventions. All raw files should end with raw.fif, raw_sss.fif, raw_tsss.fif, _meg.fif, _eeg.fif, _ieeg.fif, raw.fif.gz, raw_sss.fif.gz, raw_tsss.fif.gz, _meg.fif.gz, _eeg.fif.gz or _ieeg.fif.gz\n",
      "  eeg_data = mne.io.read_raw_fif(name, preload=True)\n"
     ]
    },
    {
     "name": "stdout",
     "output_type": "stream",
     "text": [
      "Opening raw data file ../SEED_FRA_OUTPUT/NEGATIVE/3_1_trial_1_signals.fif...\n",
      "    Range : 213000 ... 468000 =    213.000 ...   468.000 secs\n",
      "Ready.\n",
      "Reading 0 ... 255000  =      0.000 ...   255.000 secs...\n"
     ]
    },
    {
     "name": "stderr",
     "output_type": "stream",
     "text": [
      "C:\\Users\\marco\\AppData\\Local\\Temp\\ipykernel_6904\\2770616247.py:12: RuntimeWarning: This filename (../SEED_FRA_OUTPUT/NEGATIVE/3_1_trial_1_signals.fif) does not conform to MNE naming conventions. All raw files should end with raw.fif, raw_sss.fif, raw_tsss.fif, _meg.fif, _eeg.fif, _ieeg.fif, raw.fif.gz, raw_sss.fif.gz, raw_tsss.fif.gz, _meg.fif.gz, _eeg.fif.gz or _ieeg.fif.gz\n",
      "  eeg_data = mne.io.read_raw_fif(name, preload=True)\n"
     ]
    },
    {
     "name": "stdout",
     "output_type": "stream",
     "text": [
      "Opening raw data file ../SEED_FRA_OUTPUT/NEGATIVE/3_1_trial_3_signals.fif...\n",
      "    Range : 687000 ... 962000 =    687.000 ...   962.000 secs\n",
      "Ready.\n",
      "Reading 0 ... 275000  =      0.000 ...   275.000 secs...\n"
     ]
    },
    {
     "name": "stderr",
     "output_type": "stream",
     "text": [
      "C:\\Users\\marco\\AppData\\Local\\Temp\\ipykernel_6904\\2770616247.py:12: RuntimeWarning: This filename (../SEED_FRA_OUTPUT/NEGATIVE/3_1_trial_3_signals.fif) does not conform to MNE naming conventions. All raw files should end with raw.fif, raw_sss.fif, raw_tsss.fif, _meg.fif, _eeg.fif, _ieeg.fif, raw.fif.gz, raw_sss.fif.gz, raw_tsss.fif.gz, _meg.fif.gz, _eeg.fif.gz or _ieeg.fif.gz\n",
      "  eeg_data = mne.io.read_raw_fif(name, preload=True)\n"
     ]
    },
    {
     "name": "stdout",
     "output_type": "stream",
     "text": [
      "Opening raw data file ../SEED_FRA_OUTPUT/NEGATIVE/3_1_trial_6_signals.fif...\n",
      "    Range : 1252000 ... 1552000 =   1252.000 ...  1552.000 secs\n",
      "Ready.\n",
      "Reading 0 ... 300000  =      0.000 ...   300.000 secs...\n"
     ]
    },
    {
     "name": "stderr",
     "output_type": "stream",
     "text": [
      "C:\\Users\\marco\\AppData\\Local\\Temp\\ipykernel_6904\\2770616247.py:12: RuntimeWarning: This filename (../SEED_FRA_OUTPUT/NEGATIVE/3_1_trial_6_signals.fif) does not conform to MNE naming conventions. All raw files should end with raw.fif, raw_sss.fif, raw_tsss.fif, _meg.fif, _eeg.fif, _ieeg.fif, raw.fif.gz, raw_sss.fif.gz, raw_tsss.fif.gz, _meg.fif.gz, _eeg.fif.gz or _ieeg.fif.gz\n",
      "  eeg_data = mne.io.read_raw_fif(name, preload=True)\n"
     ]
    },
    {
     "name": "stdout",
     "output_type": "stream",
     "text": [
      "Opening raw data file ../SEED_FRA_OUTPUT/NEGATIVE/3_1_trial_9_signals.fif...\n",
      "    Range : 1887000 ... 2154000 =   1887.000 ...  2154.000 secs\n",
      "Ready.\n",
      "Reading 0 ... 267000  =      0.000 ...   267.000 secs...\n"
     ]
    },
    {
     "name": "stderr",
     "output_type": "stream",
     "text": [
      "C:\\Users\\marco\\AppData\\Local\\Temp\\ipykernel_6904\\2770616247.py:12: RuntimeWarning: This filename (../SEED_FRA_OUTPUT/NEGATIVE/3_1_trial_9_signals.fif) does not conform to MNE naming conventions. All raw files should end with raw.fif, raw_sss.fif, raw_tsss.fif, _meg.fif, _eeg.fif, _ieeg.fif, raw.fif.gz, raw_sss.fif.gz, raw_tsss.fif.gz, _meg.fif.gz, _eeg.fif.gz or _ieeg.fif.gz\n",
      "  eeg_data = mne.io.read_raw_fif(name, preload=True)\n"
     ]
    },
    {
     "name": "stdout",
     "output_type": "stream",
     "text": [
      "Opening raw data file ../SEED_FRA_OUTPUT/NEGATIVE/3_2_trial_14_signals.fif...\n",
      "    Range : 2783000 ... 2910000 =   2783.000 ...  2910.000 secs\n",
      "Ready.\n",
      "Reading 0 ... 127000  =      0.000 ...   127.000 secs...\n"
     ]
    },
    {
     "name": "stderr",
     "output_type": "stream",
     "text": [
      "C:\\Users\\marco\\AppData\\Local\\Temp\\ipykernel_6904\\2770616247.py:12: RuntimeWarning: This filename (../SEED_FRA_OUTPUT/NEGATIVE/3_2_trial_14_signals.fif) does not conform to MNE naming conventions. All raw files should end with raw.fif, raw_sss.fif, raw_tsss.fif, _meg.fif, _eeg.fif, _ieeg.fif, raw.fif.gz, raw_sss.fif.gz, raw_tsss.fif.gz, _meg.fif.gz, _eeg.fif.gz or _ieeg.fif.gz\n",
      "  eeg_data = mne.io.read_raw_fif(name, preload=True)\n"
     ]
    },
    {
     "name": "stdout",
     "output_type": "stream",
     "text": [
      "Opening raw data file ../SEED_FRA_OUTPUT/NEGATIVE/3_2_trial_15_signals.fif...\n",
      "    Range : 2931000 ... 3008000 =   2931.000 ...  3008.000 secs\n",
      "Ready.\n",
      "Reading 0 ... 77000  =      0.000 ...    77.000 secs...\n"
     ]
    },
    {
     "name": "stderr",
     "output_type": "stream",
     "text": [
      "C:\\Users\\marco\\AppData\\Local\\Temp\\ipykernel_6904\\2770616247.py:12: RuntimeWarning: This filename (../SEED_FRA_OUTPUT/NEGATIVE/3_2_trial_15_signals.fif) does not conform to MNE naming conventions. All raw files should end with raw.fif, raw_sss.fif, raw_tsss.fif, _meg.fif, _eeg.fif, _ieeg.fif, raw.fif.gz, raw_sss.fif.gz, raw_tsss.fif.gz, _meg.fif.gz, _eeg.fif.gz or _ieeg.fif.gz\n",
      "  eeg_data = mne.io.read_raw_fif(name, preload=True)\n"
     ]
    },
    {
     "name": "stdout",
     "output_type": "stream",
     "text": [
      "Opening raw data file ../SEED_FRA_OUTPUT/NEGATIVE/3_2_trial_18_signals.fif...\n",
      "    Range : 3369000 ... 3495000 =   3369.000 ...  3495.000 secs\n",
      "Ready.\n",
      "Reading 0 ... 126000  =      0.000 ...   126.000 secs...\n"
     ]
    },
    {
     "name": "stderr",
     "output_type": "stream",
     "text": [
      "C:\\Users\\marco\\AppData\\Local\\Temp\\ipykernel_6904\\2770616247.py:12: RuntimeWarning: This filename (../SEED_FRA_OUTPUT/NEGATIVE/3_2_trial_18_signals.fif) does not conform to MNE naming conventions. All raw files should end with raw.fif, raw_sss.fif, raw_tsss.fif, _meg.fif, _eeg.fif, _ieeg.fif, raw.fif.gz, raw_sss.fif.gz, raw_tsss.fif.gz, _meg.fif.gz, _eeg.fif.gz or _ieeg.fif.gz\n",
      "  eeg_data = mne.io.read_raw_fif(name, preload=True)\n"
     ]
    },
    {
     "name": "stdout",
     "output_type": "stream",
     "text": [
      "Opening raw data file ../SEED_FRA_OUTPUT/NEGATIVE/3_2_trial_1_signals.fif...\n",
      "    Range : 213000 ... 468000 =    213.000 ...   468.000 secs\n",
      "Ready.\n",
      "Reading 0 ... 255000  =      0.000 ...   255.000 secs...\n"
     ]
    },
    {
     "name": "stderr",
     "output_type": "stream",
     "text": [
      "C:\\Users\\marco\\AppData\\Local\\Temp\\ipykernel_6904\\2770616247.py:12: RuntimeWarning: This filename (../SEED_FRA_OUTPUT/NEGATIVE/3_2_trial_1_signals.fif) does not conform to MNE naming conventions. All raw files should end with raw.fif, raw_sss.fif, raw_tsss.fif, _meg.fif, _eeg.fif, _ieeg.fif, raw.fif.gz, raw_sss.fif.gz, raw_tsss.fif.gz, _meg.fif.gz, _eeg.fif.gz or _ieeg.fif.gz\n",
      "  eeg_data = mne.io.read_raw_fif(name, preload=True)\n"
     ]
    },
    {
     "name": "stdout",
     "output_type": "stream",
     "text": [
      "Opening raw data file ../SEED_FRA_OUTPUT/NEGATIVE/3_2_trial_3_signals.fif...\n",
      "    Range : 687000 ... 962000 =    687.000 ...   962.000 secs\n",
      "Ready.\n",
      "Reading 0 ... 275000  =      0.000 ...   275.000 secs...\n"
     ]
    },
    {
     "name": "stderr",
     "output_type": "stream",
     "text": [
      "C:\\Users\\marco\\AppData\\Local\\Temp\\ipykernel_6904\\2770616247.py:12: RuntimeWarning: This filename (../SEED_FRA_OUTPUT/NEGATIVE/3_2_trial_3_signals.fif) does not conform to MNE naming conventions. All raw files should end with raw.fif, raw_sss.fif, raw_tsss.fif, _meg.fif, _eeg.fif, _ieeg.fif, raw.fif.gz, raw_sss.fif.gz, raw_tsss.fif.gz, _meg.fif.gz, _eeg.fif.gz or _ieeg.fif.gz\n",
      "  eeg_data = mne.io.read_raw_fif(name, preload=True)\n"
     ]
    },
    {
     "name": "stdout",
     "output_type": "stream",
     "text": [
      "Opening raw data file ../SEED_FRA_OUTPUT/NEGATIVE/3_2_trial_6_signals.fif...\n",
      "    Range : 1252000 ... 1552000 =   1252.000 ...  1552.000 secs\n",
      "Ready.\n",
      "Reading 0 ... 300000  =      0.000 ...   300.000 secs...\n"
     ]
    },
    {
     "name": "stderr",
     "output_type": "stream",
     "text": [
      "C:\\Users\\marco\\AppData\\Local\\Temp\\ipykernel_6904\\2770616247.py:12: RuntimeWarning: This filename (../SEED_FRA_OUTPUT/NEGATIVE/3_2_trial_6_signals.fif) does not conform to MNE naming conventions. All raw files should end with raw.fif, raw_sss.fif, raw_tsss.fif, _meg.fif, _eeg.fif, _ieeg.fif, raw.fif.gz, raw_sss.fif.gz, raw_tsss.fif.gz, _meg.fif.gz, _eeg.fif.gz or _ieeg.fif.gz\n",
      "  eeg_data = mne.io.read_raw_fif(name, preload=True)\n"
     ]
    },
    {
     "name": "stdout",
     "output_type": "stream",
     "text": [
      "Opening raw data file ../SEED_FRA_OUTPUT/NEGATIVE/3_2_trial_9_signals.fif...\n",
      "    Range : 1887000 ... 2154000 =   1887.000 ...  2154.000 secs\n",
      "Ready.\n",
      "Reading 0 ... 267000  =      0.000 ...   267.000 secs...\n"
     ]
    },
    {
     "name": "stderr",
     "output_type": "stream",
     "text": [
      "C:\\Users\\marco\\AppData\\Local\\Temp\\ipykernel_6904\\2770616247.py:12: RuntimeWarning: This filename (../SEED_FRA_OUTPUT/NEGATIVE/3_2_trial_9_signals.fif) does not conform to MNE naming conventions. All raw files should end with raw.fif, raw_sss.fif, raw_tsss.fif, _meg.fif, _eeg.fif, _ieeg.fif, raw.fif.gz, raw_sss.fif.gz, raw_tsss.fif.gz, _meg.fif.gz, _eeg.fif.gz or _ieeg.fif.gz\n",
      "  eeg_data = mne.io.read_raw_fif(name, preload=True)\n"
     ]
    },
    {
     "name": "stdout",
     "output_type": "stream",
     "text": [
      "Opening raw data file ../SEED_FRA_OUTPUT/NEGATIVE/3_3_trial_14_signals.fif...\n",
      "    Range : 2783000 ... 2910000 =   2783.000 ...  2910.000 secs\n",
      "Ready.\n",
      "Reading 0 ... 127000  =      0.000 ...   127.000 secs...\n"
     ]
    },
    {
     "name": "stderr",
     "output_type": "stream",
     "text": [
      "C:\\Users\\marco\\AppData\\Local\\Temp\\ipykernel_6904\\2770616247.py:12: RuntimeWarning: This filename (../SEED_FRA_OUTPUT/NEGATIVE/3_3_trial_14_signals.fif) does not conform to MNE naming conventions. All raw files should end with raw.fif, raw_sss.fif, raw_tsss.fif, _meg.fif, _eeg.fif, _ieeg.fif, raw.fif.gz, raw_sss.fif.gz, raw_tsss.fif.gz, _meg.fif.gz, _eeg.fif.gz or _ieeg.fif.gz\n",
      "  eeg_data = mne.io.read_raw_fif(name, preload=True)\n"
     ]
    },
    {
     "name": "stdout",
     "output_type": "stream",
     "text": [
      "Opening raw data file ../SEED_FRA_OUTPUT/NEGATIVE/3_3_trial_15_signals.fif...\n",
      "    Range : 2931000 ... 3008000 =   2931.000 ...  3008.000 secs\n",
      "Ready.\n",
      "Reading 0 ... 77000  =      0.000 ...    77.000 secs...\n"
     ]
    },
    {
     "name": "stderr",
     "output_type": "stream",
     "text": [
      "C:\\Users\\marco\\AppData\\Local\\Temp\\ipykernel_6904\\2770616247.py:12: RuntimeWarning: This filename (../SEED_FRA_OUTPUT/NEGATIVE/3_3_trial_15_signals.fif) does not conform to MNE naming conventions. All raw files should end with raw.fif, raw_sss.fif, raw_tsss.fif, _meg.fif, _eeg.fif, _ieeg.fif, raw.fif.gz, raw_sss.fif.gz, raw_tsss.fif.gz, _meg.fif.gz, _eeg.fif.gz or _ieeg.fif.gz\n",
      "  eeg_data = mne.io.read_raw_fif(name, preload=True)\n"
     ]
    },
    {
     "name": "stdout",
     "output_type": "stream",
     "text": [
      "Opening raw data file ../SEED_FRA_OUTPUT/NEGATIVE/3_3_trial_18_signals.fif...\n",
      "    Range : 3369000 ... 3495000 =   3369.000 ...  3495.000 secs\n",
      "Ready.\n",
      "Reading 0 ... 126000  =      0.000 ...   126.000 secs...\n"
     ]
    },
    {
     "name": "stderr",
     "output_type": "stream",
     "text": [
      "C:\\Users\\marco\\AppData\\Local\\Temp\\ipykernel_6904\\2770616247.py:12: RuntimeWarning: This filename (../SEED_FRA_OUTPUT/NEGATIVE/3_3_trial_18_signals.fif) does not conform to MNE naming conventions. All raw files should end with raw.fif, raw_sss.fif, raw_tsss.fif, _meg.fif, _eeg.fif, _ieeg.fif, raw.fif.gz, raw_sss.fif.gz, raw_tsss.fif.gz, _meg.fif.gz, _eeg.fif.gz or _ieeg.fif.gz\n",
      "  eeg_data = mne.io.read_raw_fif(name, preload=True)\n"
     ]
    },
    {
     "name": "stdout",
     "output_type": "stream",
     "text": [
      "Opening raw data file ../SEED_FRA_OUTPUT/NEGATIVE/3_3_trial_1_signals.fif...\n",
      "    Range : 213000 ... 468000 =    213.000 ...   468.000 secs\n",
      "Ready.\n",
      "Reading 0 ... 255000  =      0.000 ...   255.000 secs...\n"
     ]
    },
    {
     "name": "stderr",
     "output_type": "stream",
     "text": [
      "C:\\Users\\marco\\AppData\\Local\\Temp\\ipykernel_6904\\2770616247.py:12: RuntimeWarning: This filename (../SEED_FRA_OUTPUT/NEGATIVE/3_3_trial_1_signals.fif) does not conform to MNE naming conventions. All raw files should end with raw.fif, raw_sss.fif, raw_tsss.fif, _meg.fif, _eeg.fif, _ieeg.fif, raw.fif.gz, raw_sss.fif.gz, raw_tsss.fif.gz, _meg.fif.gz, _eeg.fif.gz or _ieeg.fif.gz\n",
      "  eeg_data = mne.io.read_raw_fif(name, preload=True)\n"
     ]
    },
    {
     "name": "stdout",
     "output_type": "stream",
     "text": [
      "Opening raw data file ../SEED_FRA_OUTPUT/NEGATIVE/3_3_trial_3_signals.fif...\n",
      "    Range : 687000 ... 962000 =    687.000 ...   962.000 secs\n",
      "Ready.\n",
      "Reading 0 ... 275000  =      0.000 ...   275.000 secs...\n"
     ]
    },
    {
     "name": "stderr",
     "output_type": "stream",
     "text": [
      "C:\\Users\\marco\\AppData\\Local\\Temp\\ipykernel_6904\\2770616247.py:12: RuntimeWarning: This filename (../SEED_FRA_OUTPUT/NEGATIVE/3_3_trial_3_signals.fif) does not conform to MNE naming conventions. All raw files should end with raw.fif, raw_sss.fif, raw_tsss.fif, _meg.fif, _eeg.fif, _ieeg.fif, raw.fif.gz, raw_sss.fif.gz, raw_tsss.fif.gz, _meg.fif.gz, _eeg.fif.gz or _ieeg.fif.gz\n",
      "  eeg_data = mne.io.read_raw_fif(name, preload=True)\n"
     ]
    },
    {
     "name": "stdout",
     "output_type": "stream",
     "text": [
      "Opening raw data file ../SEED_FRA_OUTPUT/NEGATIVE/3_3_trial_6_signals.fif...\n",
      "    Range : 1252000 ... 1552000 =   1252.000 ...  1552.000 secs\n",
      "Ready.\n",
      "Reading 0 ... 300000  =      0.000 ...   300.000 secs...\n"
     ]
    },
    {
     "name": "stderr",
     "output_type": "stream",
     "text": [
      "C:\\Users\\marco\\AppData\\Local\\Temp\\ipykernel_6904\\2770616247.py:12: RuntimeWarning: This filename (../SEED_FRA_OUTPUT/NEGATIVE/3_3_trial_6_signals.fif) does not conform to MNE naming conventions. All raw files should end with raw.fif, raw_sss.fif, raw_tsss.fif, _meg.fif, _eeg.fif, _ieeg.fif, raw.fif.gz, raw_sss.fif.gz, raw_tsss.fif.gz, _meg.fif.gz, _eeg.fif.gz or _ieeg.fif.gz\n",
      "  eeg_data = mne.io.read_raw_fif(name, preload=True)\n"
     ]
    },
    {
     "name": "stdout",
     "output_type": "stream",
     "text": [
      "Opening raw data file ../SEED_FRA_OUTPUT/NEGATIVE/3_3_trial_9_signals.fif...\n",
      "    Range : 1887000 ... 2154000 =   1887.000 ...  2154.000 secs\n",
      "Ready.\n",
      "Reading 0 ... 267000  =      0.000 ...   267.000 secs...\n"
     ]
    },
    {
     "name": "stderr",
     "output_type": "stream",
     "text": [
      "C:\\Users\\marco\\AppData\\Local\\Temp\\ipykernel_6904\\2770616247.py:12: RuntimeWarning: This filename (../SEED_FRA_OUTPUT/NEGATIVE/3_3_trial_9_signals.fif) does not conform to MNE naming conventions. All raw files should end with raw.fif, raw_sss.fif, raw_tsss.fif, _meg.fif, _eeg.fif, _ieeg.fif, raw.fif.gz, raw_sss.fif.gz, raw_tsss.fif.gz, _meg.fif.gz, _eeg.fif.gz or _ieeg.fif.gz\n",
      "  eeg_data = mne.io.read_raw_fif(name, preload=True)\n"
     ]
    },
    {
     "name": "stdout",
     "output_type": "stream",
     "text": [
      "Opening raw data file ../SEED_FRA_OUTPUT/NEGATIVE/4_1_trial_14_signals.fif...\n",
      "    Range : 2783000 ... 2910000 =   2783.000 ...  2910.000 secs\n",
      "Ready.\n",
      "Reading 0 ... 127000  =      0.000 ...   127.000 secs...\n"
     ]
    },
    {
     "name": "stderr",
     "output_type": "stream",
     "text": [
      "C:\\Users\\marco\\AppData\\Local\\Temp\\ipykernel_6904\\2770616247.py:12: RuntimeWarning: This filename (../SEED_FRA_OUTPUT/NEGATIVE/4_1_trial_14_signals.fif) does not conform to MNE naming conventions. All raw files should end with raw.fif, raw_sss.fif, raw_tsss.fif, _meg.fif, _eeg.fif, _ieeg.fif, raw.fif.gz, raw_sss.fif.gz, raw_tsss.fif.gz, _meg.fif.gz, _eeg.fif.gz or _ieeg.fif.gz\n",
      "  eeg_data = mne.io.read_raw_fif(name, preload=True)\n"
     ]
    },
    {
     "name": "stdout",
     "output_type": "stream",
     "text": [
      "Opening raw data file ../SEED_FRA_OUTPUT/NEGATIVE/4_1_trial_15_signals.fif...\n",
      "    Range : 2931000 ... 3008000 =   2931.000 ...  3008.000 secs\n",
      "Ready.\n",
      "Reading 0 ... 77000  =      0.000 ...    77.000 secs...\n"
     ]
    },
    {
     "name": "stderr",
     "output_type": "stream",
     "text": [
      "C:\\Users\\marco\\AppData\\Local\\Temp\\ipykernel_6904\\2770616247.py:12: RuntimeWarning: This filename (../SEED_FRA_OUTPUT/NEGATIVE/4_1_trial_15_signals.fif) does not conform to MNE naming conventions. All raw files should end with raw.fif, raw_sss.fif, raw_tsss.fif, _meg.fif, _eeg.fif, _ieeg.fif, raw.fif.gz, raw_sss.fif.gz, raw_tsss.fif.gz, _meg.fif.gz, _eeg.fif.gz or _ieeg.fif.gz\n",
      "  eeg_data = mne.io.read_raw_fif(name, preload=True)\n"
     ]
    },
    {
     "name": "stdout",
     "output_type": "stream",
     "text": [
      "Opening raw data file ../SEED_FRA_OUTPUT/NEGATIVE/4_1_trial_18_signals.fif...\n",
      "    Range : 3369000 ... 3495000 =   3369.000 ...  3495.000 secs\n",
      "Ready.\n",
      "Reading 0 ... 126000  =      0.000 ...   126.000 secs...\n"
     ]
    },
    {
     "name": "stderr",
     "output_type": "stream",
     "text": [
      "C:\\Users\\marco\\AppData\\Local\\Temp\\ipykernel_6904\\2770616247.py:12: RuntimeWarning: This filename (../SEED_FRA_OUTPUT/NEGATIVE/4_1_trial_18_signals.fif) does not conform to MNE naming conventions. All raw files should end with raw.fif, raw_sss.fif, raw_tsss.fif, _meg.fif, _eeg.fif, _ieeg.fif, raw.fif.gz, raw_sss.fif.gz, raw_tsss.fif.gz, _meg.fif.gz, _eeg.fif.gz or _ieeg.fif.gz\n",
      "  eeg_data = mne.io.read_raw_fif(name, preload=True)\n"
     ]
    },
    {
     "name": "stdout",
     "output_type": "stream",
     "text": [
      "Opening raw data file ../SEED_FRA_OUTPUT/NEGATIVE/4_1_trial_1_signals.fif...\n",
      "    Range : 213000 ... 468000 =    213.000 ...   468.000 secs\n",
      "Ready.\n",
      "Reading 0 ... 255000  =      0.000 ...   255.000 secs...\n"
     ]
    },
    {
     "name": "stderr",
     "output_type": "stream",
     "text": [
      "C:\\Users\\marco\\AppData\\Local\\Temp\\ipykernel_6904\\2770616247.py:12: RuntimeWarning: This filename (../SEED_FRA_OUTPUT/NEGATIVE/4_1_trial_1_signals.fif) does not conform to MNE naming conventions. All raw files should end with raw.fif, raw_sss.fif, raw_tsss.fif, _meg.fif, _eeg.fif, _ieeg.fif, raw.fif.gz, raw_sss.fif.gz, raw_tsss.fif.gz, _meg.fif.gz, _eeg.fif.gz or _ieeg.fif.gz\n",
      "  eeg_data = mne.io.read_raw_fif(name, preload=True)\n"
     ]
    },
    {
     "name": "stdout",
     "output_type": "stream",
     "text": [
      "Opening raw data file ../SEED_FRA_OUTPUT/NEGATIVE/4_1_trial_3_signals.fif...\n",
      "    Range : 687000 ... 962000 =    687.000 ...   962.000 secs\n",
      "Ready.\n",
      "Reading 0 ... 275000  =      0.000 ...   275.000 secs...\n"
     ]
    },
    {
     "name": "stderr",
     "output_type": "stream",
     "text": [
      "C:\\Users\\marco\\AppData\\Local\\Temp\\ipykernel_6904\\2770616247.py:12: RuntimeWarning: This filename (../SEED_FRA_OUTPUT/NEGATIVE/4_1_trial_3_signals.fif) does not conform to MNE naming conventions. All raw files should end with raw.fif, raw_sss.fif, raw_tsss.fif, _meg.fif, _eeg.fif, _ieeg.fif, raw.fif.gz, raw_sss.fif.gz, raw_tsss.fif.gz, _meg.fif.gz, _eeg.fif.gz or _ieeg.fif.gz\n",
      "  eeg_data = mne.io.read_raw_fif(name, preload=True)\n"
     ]
    },
    {
     "name": "stdout",
     "output_type": "stream",
     "text": [
      "Opening raw data file ../SEED_FRA_OUTPUT/NEGATIVE/4_1_trial_6_signals.fif...\n",
      "    Range : 1252000 ... 1552000 =   1252.000 ...  1552.000 secs\n",
      "Ready.\n",
      "Reading 0 ... 300000  =      0.000 ...   300.000 secs...\n"
     ]
    },
    {
     "name": "stderr",
     "output_type": "stream",
     "text": [
      "C:\\Users\\marco\\AppData\\Local\\Temp\\ipykernel_6904\\2770616247.py:12: RuntimeWarning: This filename (../SEED_FRA_OUTPUT/NEGATIVE/4_1_trial_6_signals.fif) does not conform to MNE naming conventions. All raw files should end with raw.fif, raw_sss.fif, raw_tsss.fif, _meg.fif, _eeg.fif, _ieeg.fif, raw.fif.gz, raw_sss.fif.gz, raw_tsss.fif.gz, _meg.fif.gz, _eeg.fif.gz or _ieeg.fif.gz\n",
      "  eeg_data = mne.io.read_raw_fif(name, preload=True)\n"
     ]
    },
    {
     "name": "stdout",
     "output_type": "stream",
     "text": [
      "Opening raw data file ../SEED_FRA_OUTPUT/NEGATIVE/4_1_trial_9_signals.fif...\n",
      "    Range : 1887000 ... 2154000 =   1887.000 ...  2154.000 secs\n",
      "Ready.\n",
      "Reading 0 ... 267000  =      0.000 ...   267.000 secs...\n"
     ]
    },
    {
     "name": "stderr",
     "output_type": "stream",
     "text": [
      "C:\\Users\\marco\\AppData\\Local\\Temp\\ipykernel_6904\\2770616247.py:12: RuntimeWarning: This filename (../SEED_FRA_OUTPUT/NEGATIVE/4_1_trial_9_signals.fif) does not conform to MNE naming conventions. All raw files should end with raw.fif, raw_sss.fif, raw_tsss.fif, _meg.fif, _eeg.fif, _ieeg.fif, raw.fif.gz, raw_sss.fif.gz, raw_tsss.fif.gz, _meg.fif.gz, _eeg.fif.gz or _ieeg.fif.gz\n",
      "  eeg_data = mne.io.read_raw_fif(name, preload=True)\n"
     ]
    },
    {
     "name": "stdout",
     "output_type": "stream",
     "text": [
      "Opening raw data file ../SEED_FRA_OUTPUT/NEGATIVE/4_2_trial_14_signals.fif...\n",
      "    Range : 2783000 ... 2910000 =   2783.000 ...  2910.000 secs\n",
      "Ready.\n",
      "Reading 0 ... 127000  =      0.000 ...   127.000 secs...\n"
     ]
    },
    {
     "name": "stderr",
     "output_type": "stream",
     "text": [
      "C:\\Users\\marco\\AppData\\Local\\Temp\\ipykernel_6904\\2770616247.py:12: RuntimeWarning: This filename (../SEED_FRA_OUTPUT/NEGATIVE/4_2_trial_14_signals.fif) does not conform to MNE naming conventions. All raw files should end with raw.fif, raw_sss.fif, raw_tsss.fif, _meg.fif, _eeg.fif, _ieeg.fif, raw.fif.gz, raw_sss.fif.gz, raw_tsss.fif.gz, _meg.fif.gz, _eeg.fif.gz or _ieeg.fif.gz\n",
      "  eeg_data = mne.io.read_raw_fif(name, preload=True)\n"
     ]
    },
    {
     "name": "stdout",
     "output_type": "stream",
     "text": [
      "Opening raw data file ../SEED_FRA_OUTPUT/NEGATIVE/4_2_trial_15_signals.fif...\n",
      "    Range : 2931000 ... 3008000 =   2931.000 ...  3008.000 secs\n",
      "Ready.\n",
      "Reading 0 ... 77000  =      0.000 ...    77.000 secs...\n"
     ]
    },
    {
     "name": "stderr",
     "output_type": "stream",
     "text": [
      "C:\\Users\\marco\\AppData\\Local\\Temp\\ipykernel_6904\\2770616247.py:12: RuntimeWarning: This filename (../SEED_FRA_OUTPUT/NEGATIVE/4_2_trial_15_signals.fif) does not conform to MNE naming conventions. All raw files should end with raw.fif, raw_sss.fif, raw_tsss.fif, _meg.fif, _eeg.fif, _ieeg.fif, raw.fif.gz, raw_sss.fif.gz, raw_tsss.fif.gz, _meg.fif.gz, _eeg.fif.gz or _ieeg.fif.gz\n",
      "  eeg_data = mne.io.read_raw_fif(name, preload=True)\n"
     ]
    },
    {
     "name": "stdout",
     "output_type": "stream",
     "text": [
      "Opening raw data file ../SEED_FRA_OUTPUT/NEGATIVE/4_2_trial_18_signals.fif...\n",
      "    Range : 3369000 ... 3495000 =   3369.000 ...  3495.000 secs\n",
      "Ready.\n",
      "Reading 0 ... 126000  =      0.000 ...   126.000 secs...\n"
     ]
    },
    {
     "name": "stderr",
     "output_type": "stream",
     "text": [
      "C:\\Users\\marco\\AppData\\Local\\Temp\\ipykernel_6904\\2770616247.py:12: RuntimeWarning: This filename (../SEED_FRA_OUTPUT/NEGATIVE/4_2_trial_18_signals.fif) does not conform to MNE naming conventions. All raw files should end with raw.fif, raw_sss.fif, raw_tsss.fif, _meg.fif, _eeg.fif, _ieeg.fif, raw.fif.gz, raw_sss.fif.gz, raw_tsss.fif.gz, _meg.fif.gz, _eeg.fif.gz or _ieeg.fif.gz\n",
      "  eeg_data = mne.io.read_raw_fif(name, preload=True)\n"
     ]
    },
    {
     "name": "stdout",
     "output_type": "stream",
     "text": [
      "Opening raw data file ../SEED_FRA_OUTPUT/NEGATIVE/4_2_trial_1_signals.fif...\n",
      "    Range : 213000 ... 468000 =    213.000 ...   468.000 secs\n",
      "Ready.\n",
      "Reading 0 ... 255000  =      0.000 ...   255.000 secs...\n"
     ]
    },
    {
     "name": "stderr",
     "output_type": "stream",
     "text": [
      "C:\\Users\\marco\\AppData\\Local\\Temp\\ipykernel_6904\\2770616247.py:12: RuntimeWarning: This filename (../SEED_FRA_OUTPUT/NEGATIVE/4_2_trial_1_signals.fif) does not conform to MNE naming conventions. All raw files should end with raw.fif, raw_sss.fif, raw_tsss.fif, _meg.fif, _eeg.fif, _ieeg.fif, raw.fif.gz, raw_sss.fif.gz, raw_tsss.fif.gz, _meg.fif.gz, _eeg.fif.gz or _ieeg.fif.gz\n",
      "  eeg_data = mne.io.read_raw_fif(name, preload=True)\n"
     ]
    },
    {
     "name": "stdout",
     "output_type": "stream",
     "text": [
      "Opening raw data file ../SEED_FRA_OUTPUT/NEGATIVE/4_2_trial_3_signals.fif...\n",
      "    Range : 687000 ... 962000 =    687.000 ...   962.000 secs\n",
      "Ready.\n",
      "Reading 0 ... 275000  =      0.000 ...   275.000 secs...\n"
     ]
    },
    {
     "name": "stderr",
     "output_type": "stream",
     "text": [
      "C:\\Users\\marco\\AppData\\Local\\Temp\\ipykernel_6904\\2770616247.py:12: RuntimeWarning: This filename (../SEED_FRA_OUTPUT/NEGATIVE/4_2_trial_3_signals.fif) does not conform to MNE naming conventions. All raw files should end with raw.fif, raw_sss.fif, raw_tsss.fif, _meg.fif, _eeg.fif, _ieeg.fif, raw.fif.gz, raw_sss.fif.gz, raw_tsss.fif.gz, _meg.fif.gz, _eeg.fif.gz or _ieeg.fif.gz\n",
      "  eeg_data = mne.io.read_raw_fif(name, preload=True)\n"
     ]
    },
    {
     "name": "stdout",
     "output_type": "stream",
     "text": [
      "Opening raw data file ../SEED_FRA_OUTPUT/NEGATIVE/4_2_trial_6_signals.fif...\n",
      "    Range : 1252000 ... 1552000 =   1252.000 ...  1552.000 secs\n",
      "Ready.\n",
      "Reading 0 ... 300000  =      0.000 ...   300.000 secs...\n"
     ]
    },
    {
     "name": "stderr",
     "output_type": "stream",
     "text": [
      "C:\\Users\\marco\\AppData\\Local\\Temp\\ipykernel_6904\\2770616247.py:12: RuntimeWarning: This filename (../SEED_FRA_OUTPUT/NEGATIVE/4_2_trial_6_signals.fif) does not conform to MNE naming conventions. All raw files should end with raw.fif, raw_sss.fif, raw_tsss.fif, _meg.fif, _eeg.fif, _ieeg.fif, raw.fif.gz, raw_sss.fif.gz, raw_tsss.fif.gz, _meg.fif.gz, _eeg.fif.gz or _ieeg.fif.gz\n",
      "  eeg_data = mne.io.read_raw_fif(name, preload=True)\n"
     ]
    },
    {
     "name": "stdout",
     "output_type": "stream",
     "text": [
      "Opening raw data file ../SEED_FRA_OUTPUT/NEGATIVE/4_2_trial_9_signals.fif...\n",
      "    Range : 1887000 ... 2154000 =   1887.000 ...  2154.000 secs\n",
      "Ready.\n",
      "Reading 0 ... 267000  =      0.000 ...   267.000 secs...\n"
     ]
    },
    {
     "name": "stderr",
     "output_type": "stream",
     "text": [
      "C:\\Users\\marco\\AppData\\Local\\Temp\\ipykernel_6904\\2770616247.py:12: RuntimeWarning: This filename (../SEED_FRA_OUTPUT/NEGATIVE/4_2_trial_9_signals.fif) does not conform to MNE naming conventions. All raw files should end with raw.fif, raw_sss.fif, raw_tsss.fif, _meg.fif, _eeg.fif, _ieeg.fif, raw.fif.gz, raw_sss.fif.gz, raw_tsss.fif.gz, _meg.fif.gz, _eeg.fif.gz or _ieeg.fif.gz\n",
      "  eeg_data = mne.io.read_raw_fif(name, preload=True)\n"
     ]
    },
    {
     "name": "stdout",
     "output_type": "stream",
     "text": [
      "Opening raw data file ../SEED_FRA_OUTPUT/NEGATIVE/4_3_trial_14_signals.fif...\n",
      "    Range : 2783000 ... 2910000 =   2783.000 ...  2910.000 secs\n",
      "Ready.\n",
      "Reading 0 ... 127000  =      0.000 ...   127.000 secs...\n"
     ]
    },
    {
     "name": "stderr",
     "output_type": "stream",
     "text": [
      "C:\\Users\\marco\\AppData\\Local\\Temp\\ipykernel_6904\\2770616247.py:12: RuntimeWarning: This filename (../SEED_FRA_OUTPUT/NEGATIVE/4_3_trial_14_signals.fif) does not conform to MNE naming conventions. All raw files should end with raw.fif, raw_sss.fif, raw_tsss.fif, _meg.fif, _eeg.fif, _ieeg.fif, raw.fif.gz, raw_sss.fif.gz, raw_tsss.fif.gz, _meg.fif.gz, _eeg.fif.gz or _ieeg.fif.gz\n",
      "  eeg_data = mne.io.read_raw_fif(name, preload=True)\n"
     ]
    },
    {
     "name": "stdout",
     "output_type": "stream",
     "text": [
      "Opening raw data file ../SEED_FRA_OUTPUT/NEGATIVE/4_3_trial_15_signals.fif...\n",
      "    Range : 2931000 ... 3008000 =   2931.000 ...  3008.000 secs\n",
      "Ready.\n",
      "Reading 0 ... 77000  =      0.000 ...    77.000 secs...\n"
     ]
    },
    {
     "name": "stderr",
     "output_type": "stream",
     "text": [
      "C:\\Users\\marco\\AppData\\Local\\Temp\\ipykernel_6904\\2770616247.py:12: RuntimeWarning: This filename (../SEED_FRA_OUTPUT/NEGATIVE/4_3_trial_15_signals.fif) does not conform to MNE naming conventions. All raw files should end with raw.fif, raw_sss.fif, raw_tsss.fif, _meg.fif, _eeg.fif, _ieeg.fif, raw.fif.gz, raw_sss.fif.gz, raw_tsss.fif.gz, _meg.fif.gz, _eeg.fif.gz or _ieeg.fif.gz\n",
      "  eeg_data = mne.io.read_raw_fif(name, preload=True)\n"
     ]
    },
    {
     "name": "stdout",
     "output_type": "stream",
     "text": [
      "Opening raw data file ../SEED_FRA_OUTPUT/NEGATIVE/4_3_trial_18_signals.fif...\n",
      "    Range : 3369000 ... 3495000 =   3369.000 ...  3495.000 secs\n",
      "Ready.\n",
      "Reading 0 ... 126000  =      0.000 ...   126.000 secs...\n"
     ]
    },
    {
     "name": "stderr",
     "output_type": "stream",
     "text": [
      "C:\\Users\\marco\\AppData\\Local\\Temp\\ipykernel_6904\\2770616247.py:12: RuntimeWarning: This filename (../SEED_FRA_OUTPUT/NEGATIVE/4_3_trial_18_signals.fif) does not conform to MNE naming conventions. All raw files should end with raw.fif, raw_sss.fif, raw_tsss.fif, _meg.fif, _eeg.fif, _ieeg.fif, raw.fif.gz, raw_sss.fif.gz, raw_tsss.fif.gz, _meg.fif.gz, _eeg.fif.gz or _ieeg.fif.gz\n",
      "  eeg_data = mne.io.read_raw_fif(name, preload=True)\n"
     ]
    },
    {
     "name": "stdout",
     "output_type": "stream",
     "text": [
      "Opening raw data file ../SEED_FRA_OUTPUT/NEGATIVE/4_3_trial_1_signals.fif...\n",
      "    Range : 213000 ... 468000 =    213.000 ...   468.000 secs\n",
      "Ready.\n",
      "Reading 0 ... 255000  =      0.000 ...   255.000 secs...\n"
     ]
    },
    {
     "name": "stderr",
     "output_type": "stream",
     "text": [
      "C:\\Users\\marco\\AppData\\Local\\Temp\\ipykernel_6904\\2770616247.py:12: RuntimeWarning: This filename (../SEED_FRA_OUTPUT/NEGATIVE/4_3_trial_1_signals.fif) does not conform to MNE naming conventions. All raw files should end with raw.fif, raw_sss.fif, raw_tsss.fif, _meg.fif, _eeg.fif, _ieeg.fif, raw.fif.gz, raw_sss.fif.gz, raw_tsss.fif.gz, _meg.fif.gz, _eeg.fif.gz or _ieeg.fif.gz\n",
      "  eeg_data = mne.io.read_raw_fif(name, preload=True)\n"
     ]
    },
    {
     "name": "stdout",
     "output_type": "stream",
     "text": [
      "Opening raw data file ../SEED_FRA_OUTPUT/NEGATIVE/4_3_trial_3_signals.fif...\n",
      "    Range : 687000 ... 962000 =    687.000 ...   962.000 secs\n",
      "Ready.\n",
      "Reading 0 ... 275000  =      0.000 ...   275.000 secs...\n"
     ]
    },
    {
     "name": "stderr",
     "output_type": "stream",
     "text": [
      "C:\\Users\\marco\\AppData\\Local\\Temp\\ipykernel_6904\\2770616247.py:12: RuntimeWarning: This filename (../SEED_FRA_OUTPUT/NEGATIVE/4_3_trial_3_signals.fif) does not conform to MNE naming conventions. All raw files should end with raw.fif, raw_sss.fif, raw_tsss.fif, _meg.fif, _eeg.fif, _ieeg.fif, raw.fif.gz, raw_sss.fif.gz, raw_tsss.fif.gz, _meg.fif.gz, _eeg.fif.gz or _ieeg.fif.gz\n",
      "  eeg_data = mne.io.read_raw_fif(name, preload=True)\n"
     ]
    },
    {
     "name": "stdout",
     "output_type": "stream",
     "text": [
      "Opening raw data file ../SEED_FRA_OUTPUT/NEGATIVE/4_3_trial_6_signals.fif...\n",
      "    Range : 1252000 ... 1552000 =   1252.000 ...  1552.000 secs\n",
      "Ready.\n",
      "Reading 0 ... 300000  =      0.000 ...   300.000 secs...\n"
     ]
    },
    {
     "name": "stderr",
     "output_type": "stream",
     "text": [
      "C:\\Users\\marco\\AppData\\Local\\Temp\\ipykernel_6904\\2770616247.py:12: RuntimeWarning: This filename (../SEED_FRA_OUTPUT/NEGATIVE/4_3_trial_6_signals.fif) does not conform to MNE naming conventions. All raw files should end with raw.fif, raw_sss.fif, raw_tsss.fif, _meg.fif, _eeg.fif, _ieeg.fif, raw.fif.gz, raw_sss.fif.gz, raw_tsss.fif.gz, _meg.fif.gz, _eeg.fif.gz or _ieeg.fif.gz\n",
      "  eeg_data = mne.io.read_raw_fif(name, preload=True)\n"
     ]
    },
    {
     "name": "stdout",
     "output_type": "stream",
     "text": [
      "Opening raw data file ../SEED_FRA_OUTPUT/NEGATIVE/4_3_trial_9_signals.fif...\n",
      "    Range : 1887000 ... 2154000 =   1887.000 ...  2154.000 secs\n",
      "Ready.\n",
      "Reading 0 ... 267000  =      0.000 ...   267.000 secs...\n"
     ]
    },
    {
     "name": "stderr",
     "output_type": "stream",
     "text": [
      "C:\\Users\\marco\\AppData\\Local\\Temp\\ipykernel_6904\\2770616247.py:12: RuntimeWarning: This filename (../SEED_FRA_OUTPUT/NEGATIVE/4_3_trial_9_signals.fif) does not conform to MNE naming conventions. All raw files should end with raw.fif, raw_sss.fif, raw_tsss.fif, _meg.fif, _eeg.fif, _ieeg.fif, raw.fif.gz, raw_sss.fif.gz, raw_tsss.fif.gz, _meg.fif.gz, _eeg.fif.gz or _ieeg.fif.gz\n",
      "  eeg_data = mne.io.read_raw_fif(name, preload=True)\n"
     ]
    },
    {
     "name": "stdout",
     "output_type": "stream",
     "text": [
      "Opening raw data file ../SEED_FRA_OUTPUT/NEGATIVE/5_1_trial_14_signals.fif...\n",
      "    Range : 2783000 ... 2910000 =   2783.000 ...  2910.000 secs\n",
      "Ready.\n",
      "Reading 0 ... 127000  =      0.000 ...   127.000 secs...\n"
     ]
    },
    {
     "name": "stderr",
     "output_type": "stream",
     "text": [
      "C:\\Users\\marco\\AppData\\Local\\Temp\\ipykernel_6904\\2770616247.py:12: RuntimeWarning: This filename (../SEED_FRA_OUTPUT/NEGATIVE/5_1_trial_14_signals.fif) does not conform to MNE naming conventions. All raw files should end with raw.fif, raw_sss.fif, raw_tsss.fif, _meg.fif, _eeg.fif, _ieeg.fif, raw.fif.gz, raw_sss.fif.gz, raw_tsss.fif.gz, _meg.fif.gz, _eeg.fif.gz or _ieeg.fif.gz\n",
      "  eeg_data = mne.io.read_raw_fif(name, preload=True)\n"
     ]
    },
    {
     "name": "stdout",
     "output_type": "stream",
     "text": [
      "Opening raw data file ../SEED_FRA_OUTPUT/NEGATIVE/5_1_trial_15_signals.fif...\n",
      "    Range : 2931000 ... 3008000 =   2931.000 ...  3008.000 secs\n",
      "Ready.\n",
      "Reading 0 ... 77000  =      0.000 ...    77.000 secs...\n"
     ]
    },
    {
     "name": "stderr",
     "output_type": "stream",
     "text": [
      "C:\\Users\\marco\\AppData\\Local\\Temp\\ipykernel_6904\\2770616247.py:12: RuntimeWarning: This filename (../SEED_FRA_OUTPUT/NEGATIVE/5_1_trial_15_signals.fif) does not conform to MNE naming conventions. All raw files should end with raw.fif, raw_sss.fif, raw_tsss.fif, _meg.fif, _eeg.fif, _ieeg.fif, raw.fif.gz, raw_sss.fif.gz, raw_tsss.fif.gz, _meg.fif.gz, _eeg.fif.gz or _ieeg.fif.gz\n",
      "  eeg_data = mne.io.read_raw_fif(name, preload=True)\n"
     ]
    },
    {
     "name": "stdout",
     "output_type": "stream",
     "text": [
      "Opening raw data file ../SEED_FRA_OUTPUT/NEGATIVE/5_1_trial_18_signals.fif...\n",
      "    Range : 3369000 ... 3495000 =   3369.000 ...  3495.000 secs\n",
      "Ready.\n",
      "Reading 0 ... 126000  =      0.000 ...   126.000 secs...\n"
     ]
    },
    {
     "name": "stderr",
     "output_type": "stream",
     "text": [
      "C:\\Users\\marco\\AppData\\Local\\Temp\\ipykernel_6904\\2770616247.py:12: RuntimeWarning: This filename (../SEED_FRA_OUTPUT/NEGATIVE/5_1_trial_18_signals.fif) does not conform to MNE naming conventions. All raw files should end with raw.fif, raw_sss.fif, raw_tsss.fif, _meg.fif, _eeg.fif, _ieeg.fif, raw.fif.gz, raw_sss.fif.gz, raw_tsss.fif.gz, _meg.fif.gz, _eeg.fif.gz or _ieeg.fif.gz\n",
      "  eeg_data = mne.io.read_raw_fif(name, preload=True)\n"
     ]
    },
    {
     "name": "stdout",
     "output_type": "stream",
     "text": [
      "Opening raw data file ../SEED_FRA_OUTPUT/NEGATIVE/5_1_trial_1_signals.fif...\n",
      "    Range : 213000 ... 468000 =    213.000 ...   468.000 secs\n",
      "Ready.\n",
      "Reading 0 ... 255000  =      0.000 ...   255.000 secs...\n"
     ]
    },
    {
     "name": "stderr",
     "output_type": "stream",
     "text": [
      "C:\\Users\\marco\\AppData\\Local\\Temp\\ipykernel_6904\\2770616247.py:12: RuntimeWarning: This filename (../SEED_FRA_OUTPUT/NEGATIVE/5_1_trial_1_signals.fif) does not conform to MNE naming conventions. All raw files should end with raw.fif, raw_sss.fif, raw_tsss.fif, _meg.fif, _eeg.fif, _ieeg.fif, raw.fif.gz, raw_sss.fif.gz, raw_tsss.fif.gz, _meg.fif.gz, _eeg.fif.gz or _ieeg.fif.gz\n",
      "  eeg_data = mne.io.read_raw_fif(name, preload=True)\n"
     ]
    },
    {
     "name": "stdout",
     "output_type": "stream",
     "text": [
      "Opening raw data file ../SEED_FRA_OUTPUT/NEGATIVE/5_1_trial_3_signals.fif...\n",
      "    Range : 687000 ... 962000 =    687.000 ...   962.000 secs\n",
      "Ready.\n",
      "Reading 0 ... 275000  =      0.000 ...   275.000 secs...\n"
     ]
    },
    {
     "name": "stderr",
     "output_type": "stream",
     "text": [
      "C:\\Users\\marco\\AppData\\Local\\Temp\\ipykernel_6904\\2770616247.py:12: RuntimeWarning: This filename (../SEED_FRA_OUTPUT/NEGATIVE/5_1_trial_3_signals.fif) does not conform to MNE naming conventions. All raw files should end with raw.fif, raw_sss.fif, raw_tsss.fif, _meg.fif, _eeg.fif, _ieeg.fif, raw.fif.gz, raw_sss.fif.gz, raw_tsss.fif.gz, _meg.fif.gz, _eeg.fif.gz or _ieeg.fif.gz\n",
      "  eeg_data = mne.io.read_raw_fif(name, preload=True)\n"
     ]
    },
    {
     "name": "stdout",
     "output_type": "stream",
     "text": [
      "Opening raw data file ../SEED_FRA_OUTPUT/NEGATIVE/5_1_trial_6_signals.fif...\n",
      "    Range : 1252000 ... 1552000 =   1252.000 ...  1552.000 secs\n",
      "Ready.\n",
      "Reading 0 ... 300000  =      0.000 ...   300.000 secs...\n"
     ]
    },
    {
     "name": "stderr",
     "output_type": "stream",
     "text": [
      "C:\\Users\\marco\\AppData\\Local\\Temp\\ipykernel_6904\\2770616247.py:12: RuntimeWarning: This filename (../SEED_FRA_OUTPUT/NEGATIVE/5_1_trial_6_signals.fif) does not conform to MNE naming conventions. All raw files should end with raw.fif, raw_sss.fif, raw_tsss.fif, _meg.fif, _eeg.fif, _ieeg.fif, raw.fif.gz, raw_sss.fif.gz, raw_tsss.fif.gz, _meg.fif.gz, _eeg.fif.gz or _ieeg.fif.gz\n",
      "  eeg_data = mne.io.read_raw_fif(name, preload=True)\n"
     ]
    },
    {
     "name": "stdout",
     "output_type": "stream",
     "text": [
      "Opening raw data file ../SEED_FRA_OUTPUT/NEGATIVE/5_1_trial_9_signals.fif...\n",
      "    Range : 1887000 ... 2154000 =   1887.000 ...  2154.000 secs\n",
      "Ready.\n",
      "Reading 0 ... 267000  =      0.000 ...   267.000 secs...\n"
     ]
    },
    {
     "name": "stderr",
     "output_type": "stream",
     "text": [
      "C:\\Users\\marco\\AppData\\Local\\Temp\\ipykernel_6904\\2770616247.py:12: RuntimeWarning: This filename (../SEED_FRA_OUTPUT/NEGATIVE/5_1_trial_9_signals.fif) does not conform to MNE naming conventions. All raw files should end with raw.fif, raw_sss.fif, raw_tsss.fif, _meg.fif, _eeg.fif, _ieeg.fif, raw.fif.gz, raw_sss.fif.gz, raw_tsss.fif.gz, _meg.fif.gz, _eeg.fif.gz or _ieeg.fif.gz\n",
      "  eeg_data = mne.io.read_raw_fif(name, preload=True)\n"
     ]
    },
    {
     "name": "stdout",
     "output_type": "stream",
     "text": [
      "Opening raw data file ../SEED_FRA_OUTPUT/NEGATIVE/5_2_trial_14_signals.fif...\n",
      "    Range : 2783000 ... 2910000 =   2783.000 ...  2910.000 secs\n",
      "Ready.\n",
      "Reading 0 ... 127000  =      0.000 ...   127.000 secs...\n"
     ]
    },
    {
     "name": "stderr",
     "output_type": "stream",
     "text": [
      "C:\\Users\\marco\\AppData\\Local\\Temp\\ipykernel_6904\\2770616247.py:12: RuntimeWarning: This filename (../SEED_FRA_OUTPUT/NEGATIVE/5_2_trial_14_signals.fif) does not conform to MNE naming conventions. All raw files should end with raw.fif, raw_sss.fif, raw_tsss.fif, _meg.fif, _eeg.fif, _ieeg.fif, raw.fif.gz, raw_sss.fif.gz, raw_tsss.fif.gz, _meg.fif.gz, _eeg.fif.gz or _ieeg.fif.gz\n",
      "  eeg_data = mne.io.read_raw_fif(name, preload=True)\n"
     ]
    },
    {
     "name": "stdout",
     "output_type": "stream",
     "text": [
      "Opening raw data file ../SEED_FRA_OUTPUT/NEGATIVE/5_2_trial_15_signals.fif...\n",
      "    Range : 2931000 ... 3008000 =   2931.000 ...  3008.000 secs\n",
      "Ready.\n",
      "Reading 0 ... 77000  =      0.000 ...    77.000 secs...\n"
     ]
    },
    {
     "name": "stderr",
     "output_type": "stream",
     "text": [
      "C:\\Users\\marco\\AppData\\Local\\Temp\\ipykernel_6904\\2770616247.py:12: RuntimeWarning: This filename (../SEED_FRA_OUTPUT/NEGATIVE/5_2_trial_15_signals.fif) does not conform to MNE naming conventions. All raw files should end with raw.fif, raw_sss.fif, raw_tsss.fif, _meg.fif, _eeg.fif, _ieeg.fif, raw.fif.gz, raw_sss.fif.gz, raw_tsss.fif.gz, _meg.fif.gz, _eeg.fif.gz or _ieeg.fif.gz\n",
      "  eeg_data = mne.io.read_raw_fif(name, preload=True)\n"
     ]
    },
    {
     "name": "stdout",
     "output_type": "stream",
     "text": [
      "Opening raw data file ../SEED_FRA_OUTPUT/NEGATIVE/5_2_trial_18_signals.fif...\n",
      "    Range : 3369000 ... 3495000 =   3369.000 ...  3495.000 secs\n",
      "Ready.\n",
      "Reading 0 ... 126000  =      0.000 ...   126.000 secs...\n"
     ]
    },
    {
     "name": "stderr",
     "output_type": "stream",
     "text": [
      "C:\\Users\\marco\\AppData\\Local\\Temp\\ipykernel_6904\\2770616247.py:12: RuntimeWarning: This filename (../SEED_FRA_OUTPUT/NEGATIVE/5_2_trial_18_signals.fif) does not conform to MNE naming conventions. All raw files should end with raw.fif, raw_sss.fif, raw_tsss.fif, _meg.fif, _eeg.fif, _ieeg.fif, raw.fif.gz, raw_sss.fif.gz, raw_tsss.fif.gz, _meg.fif.gz, _eeg.fif.gz or _ieeg.fif.gz\n",
      "  eeg_data = mne.io.read_raw_fif(name, preload=True)\n"
     ]
    },
    {
     "name": "stdout",
     "output_type": "stream",
     "text": [
      "Opening raw data file ../SEED_FRA_OUTPUT/NEGATIVE/5_2_trial_1_signals.fif...\n",
      "    Range : 213000 ... 468000 =    213.000 ...   468.000 secs\n",
      "Ready.\n",
      "Reading 0 ... 255000  =      0.000 ...   255.000 secs...\n"
     ]
    },
    {
     "name": "stderr",
     "output_type": "stream",
     "text": [
      "C:\\Users\\marco\\AppData\\Local\\Temp\\ipykernel_6904\\2770616247.py:12: RuntimeWarning: This filename (../SEED_FRA_OUTPUT/NEGATIVE/5_2_trial_1_signals.fif) does not conform to MNE naming conventions. All raw files should end with raw.fif, raw_sss.fif, raw_tsss.fif, _meg.fif, _eeg.fif, _ieeg.fif, raw.fif.gz, raw_sss.fif.gz, raw_tsss.fif.gz, _meg.fif.gz, _eeg.fif.gz or _ieeg.fif.gz\n",
      "  eeg_data = mne.io.read_raw_fif(name, preload=True)\n"
     ]
    },
    {
     "name": "stdout",
     "output_type": "stream",
     "text": [
      "Opening raw data file ../SEED_FRA_OUTPUT/NEGATIVE/5_2_trial_3_signals.fif...\n",
      "    Range : 687000 ... 962000 =    687.000 ...   962.000 secs\n",
      "Ready.\n",
      "Reading 0 ... 275000  =      0.000 ...   275.000 secs...\n"
     ]
    },
    {
     "name": "stderr",
     "output_type": "stream",
     "text": [
      "C:\\Users\\marco\\AppData\\Local\\Temp\\ipykernel_6904\\2770616247.py:12: RuntimeWarning: This filename (../SEED_FRA_OUTPUT/NEGATIVE/5_2_trial_3_signals.fif) does not conform to MNE naming conventions. All raw files should end with raw.fif, raw_sss.fif, raw_tsss.fif, _meg.fif, _eeg.fif, _ieeg.fif, raw.fif.gz, raw_sss.fif.gz, raw_tsss.fif.gz, _meg.fif.gz, _eeg.fif.gz or _ieeg.fif.gz\n",
      "  eeg_data = mne.io.read_raw_fif(name, preload=True)\n"
     ]
    },
    {
     "name": "stdout",
     "output_type": "stream",
     "text": [
      "Opening raw data file ../SEED_FRA_OUTPUT/NEGATIVE/5_2_trial_6_signals.fif...\n",
      "    Range : 1252000 ... 1552000 =   1252.000 ...  1552.000 secs\n",
      "Ready.\n",
      "Reading 0 ... 300000  =      0.000 ...   300.000 secs...\n"
     ]
    },
    {
     "name": "stderr",
     "output_type": "stream",
     "text": [
      "C:\\Users\\marco\\AppData\\Local\\Temp\\ipykernel_6904\\2770616247.py:12: RuntimeWarning: This filename (../SEED_FRA_OUTPUT/NEGATIVE/5_2_trial_6_signals.fif) does not conform to MNE naming conventions. All raw files should end with raw.fif, raw_sss.fif, raw_tsss.fif, _meg.fif, _eeg.fif, _ieeg.fif, raw.fif.gz, raw_sss.fif.gz, raw_tsss.fif.gz, _meg.fif.gz, _eeg.fif.gz or _ieeg.fif.gz\n",
      "  eeg_data = mne.io.read_raw_fif(name, preload=True)\n"
     ]
    },
    {
     "name": "stdout",
     "output_type": "stream",
     "text": [
      "Opening raw data file ../SEED_FRA_OUTPUT/NEGATIVE/5_2_trial_9_signals.fif...\n",
      "    Range : 1887000 ... 2154000 =   1887.000 ...  2154.000 secs\n",
      "Ready.\n",
      "Reading 0 ... 267000  =      0.000 ...   267.000 secs...\n"
     ]
    },
    {
     "name": "stderr",
     "output_type": "stream",
     "text": [
      "C:\\Users\\marco\\AppData\\Local\\Temp\\ipykernel_6904\\2770616247.py:12: RuntimeWarning: This filename (../SEED_FRA_OUTPUT/NEGATIVE/5_2_trial_9_signals.fif) does not conform to MNE naming conventions. All raw files should end with raw.fif, raw_sss.fif, raw_tsss.fif, _meg.fif, _eeg.fif, _ieeg.fif, raw.fif.gz, raw_sss.fif.gz, raw_tsss.fif.gz, _meg.fif.gz, _eeg.fif.gz or _ieeg.fif.gz\n",
      "  eeg_data = mne.io.read_raw_fif(name, preload=True)\n"
     ]
    },
    {
     "name": "stdout",
     "output_type": "stream",
     "text": [
      "Opening raw data file ../SEED_FRA_OUTPUT/NEGATIVE/5_3_trial_14_signals.fif...\n",
      "    Range : 2783000 ... 2910000 =   2783.000 ...  2910.000 secs\n",
      "Ready.\n",
      "Reading 0 ... 127000  =      0.000 ...   127.000 secs...\n"
     ]
    },
    {
     "name": "stderr",
     "output_type": "stream",
     "text": [
      "C:\\Users\\marco\\AppData\\Local\\Temp\\ipykernel_6904\\2770616247.py:12: RuntimeWarning: This filename (../SEED_FRA_OUTPUT/NEGATIVE/5_3_trial_14_signals.fif) does not conform to MNE naming conventions. All raw files should end with raw.fif, raw_sss.fif, raw_tsss.fif, _meg.fif, _eeg.fif, _ieeg.fif, raw.fif.gz, raw_sss.fif.gz, raw_tsss.fif.gz, _meg.fif.gz, _eeg.fif.gz or _ieeg.fif.gz\n",
      "  eeg_data = mne.io.read_raw_fif(name, preload=True)\n"
     ]
    },
    {
     "name": "stdout",
     "output_type": "stream",
     "text": [
      "Opening raw data file ../SEED_FRA_OUTPUT/NEGATIVE/5_3_trial_15_signals.fif...\n",
      "    Range : 2931000 ... 3008000 =   2931.000 ...  3008.000 secs\n",
      "Ready.\n",
      "Reading 0 ... 77000  =      0.000 ...    77.000 secs...\n"
     ]
    },
    {
     "name": "stderr",
     "output_type": "stream",
     "text": [
      "C:\\Users\\marco\\AppData\\Local\\Temp\\ipykernel_6904\\2770616247.py:12: RuntimeWarning: This filename (../SEED_FRA_OUTPUT/NEGATIVE/5_3_trial_15_signals.fif) does not conform to MNE naming conventions. All raw files should end with raw.fif, raw_sss.fif, raw_tsss.fif, _meg.fif, _eeg.fif, _ieeg.fif, raw.fif.gz, raw_sss.fif.gz, raw_tsss.fif.gz, _meg.fif.gz, _eeg.fif.gz or _ieeg.fif.gz\n",
      "  eeg_data = mne.io.read_raw_fif(name, preload=True)\n"
     ]
    },
    {
     "name": "stdout",
     "output_type": "stream",
     "text": [
      "Opening raw data file ../SEED_FRA_OUTPUT/NEGATIVE/5_3_trial_18_signals.fif...\n",
      "    Range : 3369000 ... 3495000 =   3369.000 ...  3495.000 secs\n",
      "Ready.\n",
      "Reading 0 ... 126000  =      0.000 ...   126.000 secs...\n"
     ]
    },
    {
     "name": "stderr",
     "output_type": "stream",
     "text": [
      "C:\\Users\\marco\\AppData\\Local\\Temp\\ipykernel_6904\\2770616247.py:12: RuntimeWarning: This filename (../SEED_FRA_OUTPUT/NEGATIVE/5_3_trial_18_signals.fif) does not conform to MNE naming conventions. All raw files should end with raw.fif, raw_sss.fif, raw_tsss.fif, _meg.fif, _eeg.fif, _ieeg.fif, raw.fif.gz, raw_sss.fif.gz, raw_tsss.fif.gz, _meg.fif.gz, _eeg.fif.gz or _ieeg.fif.gz\n",
      "  eeg_data = mne.io.read_raw_fif(name, preload=True)\n"
     ]
    },
    {
     "name": "stdout",
     "output_type": "stream",
     "text": [
      "Opening raw data file ../SEED_FRA_OUTPUT/NEGATIVE/5_3_trial_1_signals.fif...\n",
      "    Range : 213000 ... 468000 =    213.000 ...   468.000 secs\n",
      "Ready.\n",
      "Reading 0 ... 255000  =      0.000 ...   255.000 secs...\n"
     ]
    },
    {
     "name": "stderr",
     "output_type": "stream",
     "text": [
      "C:\\Users\\marco\\AppData\\Local\\Temp\\ipykernel_6904\\2770616247.py:12: RuntimeWarning: This filename (../SEED_FRA_OUTPUT/NEGATIVE/5_3_trial_1_signals.fif) does not conform to MNE naming conventions. All raw files should end with raw.fif, raw_sss.fif, raw_tsss.fif, _meg.fif, _eeg.fif, _ieeg.fif, raw.fif.gz, raw_sss.fif.gz, raw_tsss.fif.gz, _meg.fif.gz, _eeg.fif.gz or _ieeg.fif.gz\n",
      "  eeg_data = mne.io.read_raw_fif(name, preload=True)\n"
     ]
    },
    {
     "name": "stdout",
     "output_type": "stream",
     "text": [
      "Opening raw data file ../SEED_FRA_OUTPUT/NEGATIVE/5_3_trial_3_signals.fif...\n",
      "    Range : 687000 ... 962000 =    687.000 ...   962.000 secs\n",
      "Ready.\n",
      "Reading 0 ... 275000  =      0.000 ...   275.000 secs...\n"
     ]
    },
    {
     "name": "stderr",
     "output_type": "stream",
     "text": [
      "C:\\Users\\marco\\AppData\\Local\\Temp\\ipykernel_6904\\2770616247.py:12: RuntimeWarning: This filename (../SEED_FRA_OUTPUT/NEGATIVE/5_3_trial_3_signals.fif) does not conform to MNE naming conventions. All raw files should end with raw.fif, raw_sss.fif, raw_tsss.fif, _meg.fif, _eeg.fif, _ieeg.fif, raw.fif.gz, raw_sss.fif.gz, raw_tsss.fif.gz, _meg.fif.gz, _eeg.fif.gz or _ieeg.fif.gz\n",
      "  eeg_data = mne.io.read_raw_fif(name, preload=True)\n"
     ]
    },
    {
     "name": "stdout",
     "output_type": "stream",
     "text": [
      "Opening raw data file ../SEED_FRA_OUTPUT/NEGATIVE/5_3_trial_6_signals.fif...\n",
      "    Range : 1252000 ... 1552000 =   1252.000 ...  1552.000 secs\n",
      "Ready.\n",
      "Reading 0 ... 300000  =      0.000 ...   300.000 secs...\n"
     ]
    },
    {
     "name": "stderr",
     "output_type": "stream",
     "text": [
      "C:\\Users\\marco\\AppData\\Local\\Temp\\ipykernel_6904\\2770616247.py:12: RuntimeWarning: This filename (../SEED_FRA_OUTPUT/NEGATIVE/5_3_trial_6_signals.fif) does not conform to MNE naming conventions. All raw files should end with raw.fif, raw_sss.fif, raw_tsss.fif, _meg.fif, _eeg.fif, _ieeg.fif, raw.fif.gz, raw_sss.fif.gz, raw_tsss.fif.gz, _meg.fif.gz, _eeg.fif.gz or _ieeg.fif.gz\n",
      "  eeg_data = mne.io.read_raw_fif(name, preload=True)\n"
     ]
    },
    {
     "name": "stdout",
     "output_type": "stream",
     "text": [
      "Opening raw data file ../SEED_FRA_OUTPUT/NEGATIVE/5_3_trial_9_signals.fif...\n",
      "    Range : 1887000 ... 2154000 =   1887.000 ...  2154.000 secs\n",
      "Ready.\n",
      "Reading 0 ... 267000  =      0.000 ...   267.000 secs...\n"
     ]
    },
    {
     "name": "stderr",
     "output_type": "stream",
     "text": [
      "C:\\Users\\marco\\AppData\\Local\\Temp\\ipykernel_6904\\2770616247.py:12: RuntimeWarning: This filename (../SEED_FRA_OUTPUT/NEGATIVE/5_3_trial_9_signals.fif) does not conform to MNE naming conventions. All raw files should end with raw.fif, raw_sss.fif, raw_tsss.fif, _meg.fif, _eeg.fif, _ieeg.fif, raw.fif.gz, raw_sss.fif.gz, raw_tsss.fif.gz, _meg.fif.gz, _eeg.fif.gz or _ieeg.fif.gz\n",
      "  eeg_data = mne.io.read_raw_fif(name, preload=True)\n"
     ]
    },
    {
     "name": "stdout",
     "output_type": "stream",
     "text": [
      "Opening raw data file ../SEED_FRA_OUTPUT/NEGATIVE/6_1_trial_14_signals.fif...\n",
      "    Range : 2783000 ... 2910000 =   2783.000 ...  2910.000 secs\n",
      "Ready.\n",
      "Reading 0 ... 127000  =      0.000 ...   127.000 secs...\n"
     ]
    },
    {
     "name": "stderr",
     "output_type": "stream",
     "text": [
      "C:\\Users\\marco\\AppData\\Local\\Temp\\ipykernel_6904\\2770616247.py:12: RuntimeWarning: This filename (../SEED_FRA_OUTPUT/NEGATIVE/6_1_trial_14_signals.fif) does not conform to MNE naming conventions. All raw files should end with raw.fif, raw_sss.fif, raw_tsss.fif, _meg.fif, _eeg.fif, _ieeg.fif, raw.fif.gz, raw_sss.fif.gz, raw_tsss.fif.gz, _meg.fif.gz, _eeg.fif.gz or _ieeg.fif.gz\n",
      "  eeg_data = mne.io.read_raw_fif(name, preload=True)\n"
     ]
    },
    {
     "name": "stdout",
     "output_type": "stream",
     "text": [
      "Opening raw data file ../SEED_FRA_OUTPUT/NEGATIVE/6_1_trial_15_signals.fif...\n",
      "    Range : 2931000 ... 3008000 =   2931.000 ...  3008.000 secs\n",
      "Ready.\n",
      "Reading 0 ... 77000  =      0.000 ...    77.000 secs...\n"
     ]
    },
    {
     "name": "stderr",
     "output_type": "stream",
     "text": [
      "C:\\Users\\marco\\AppData\\Local\\Temp\\ipykernel_6904\\2770616247.py:12: RuntimeWarning: This filename (../SEED_FRA_OUTPUT/NEGATIVE/6_1_trial_15_signals.fif) does not conform to MNE naming conventions. All raw files should end with raw.fif, raw_sss.fif, raw_tsss.fif, _meg.fif, _eeg.fif, _ieeg.fif, raw.fif.gz, raw_sss.fif.gz, raw_tsss.fif.gz, _meg.fif.gz, _eeg.fif.gz or _ieeg.fif.gz\n",
      "  eeg_data = mne.io.read_raw_fif(name, preload=True)\n"
     ]
    },
    {
     "name": "stdout",
     "output_type": "stream",
     "text": [
      "Opening raw data file ../SEED_FRA_OUTPUT/NEGATIVE/6_1_trial_18_signals.fif...\n",
      "    Range : 3369000 ... 3495000 =   3369.000 ...  3495.000 secs\n",
      "Ready.\n",
      "Reading 0 ... 126000  =      0.000 ...   126.000 secs...\n"
     ]
    },
    {
     "name": "stderr",
     "output_type": "stream",
     "text": [
      "C:\\Users\\marco\\AppData\\Local\\Temp\\ipykernel_6904\\2770616247.py:12: RuntimeWarning: This filename (../SEED_FRA_OUTPUT/NEGATIVE/6_1_trial_18_signals.fif) does not conform to MNE naming conventions. All raw files should end with raw.fif, raw_sss.fif, raw_tsss.fif, _meg.fif, _eeg.fif, _ieeg.fif, raw.fif.gz, raw_sss.fif.gz, raw_tsss.fif.gz, _meg.fif.gz, _eeg.fif.gz or _ieeg.fif.gz\n",
      "  eeg_data = mne.io.read_raw_fif(name, preload=True)\n"
     ]
    },
    {
     "name": "stdout",
     "output_type": "stream",
     "text": [
      "Opening raw data file ../SEED_FRA_OUTPUT/NEGATIVE/6_1_trial_1_signals.fif...\n",
      "    Range : 213000 ... 468000 =    213.000 ...   468.000 secs\n",
      "Ready.\n",
      "Reading 0 ... 255000  =      0.000 ...   255.000 secs...\n"
     ]
    },
    {
     "name": "stderr",
     "output_type": "stream",
     "text": [
      "C:\\Users\\marco\\AppData\\Local\\Temp\\ipykernel_6904\\2770616247.py:12: RuntimeWarning: This filename (../SEED_FRA_OUTPUT/NEGATIVE/6_1_trial_1_signals.fif) does not conform to MNE naming conventions. All raw files should end with raw.fif, raw_sss.fif, raw_tsss.fif, _meg.fif, _eeg.fif, _ieeg.fif, raw.fif.gz, raw_sss.fif.gz, raw_tsss.fif.gz, _meg.fif.gz, _eeg.fif.gz or _ieeg.fif.gz\n",
      "  eeg_data = mne.io.read_raw_fif(name, preload=True)\n"
     ]
    },
    {
     "name": "stdout",
     "output_type": "stream",
     "text": [
      "Opening raw data file ../SEED_FRA_OUTPUT/NEGATIVE/6_1_trial_3_signals.fif...\n",
      "    Range : 687000 ... 962000 =    687.000 ...   962.000 secs\n",
      "Ready.\n",
      "Reading 0 ... 275000  =      0.000 ...   275.000 secs...\n"
     ]
    },
    {
     "name": "stderr",
     "output_type": "stream",
     "text": [
      "C:\\Users\\marco\\AppData\\Local\\Temp\\ipykernel_6904\\2770616247.py:12: RuntimeWarning: This filename (../SEED_FRA_OUTPUT/NEGATIVE/6_1_trial_3_signals.fif) does not conform to MNE naming conventions. All raw files should end with raw.fif, raw_sss.fif, raw_tsss.fif, _meg.fif, _eeg.fif, _ieeg.fif, raw.fif.gz, raw_sss.fif.gz, raw_tsss.fif.gz, _meg.fif.gz, _eeg.fif.gz or _ieeg.fif.gz\n",
      "  eeg_data = mne.io.read_raw_fif(name, preload=True)\n"
     ]
    },
    {
     "name": "stdout",
     "output_type": "stream",
     "text": [
      "Opening raw data file ../SEED_FRA_OUTPUT/NEGATIVE/6_1_trial_6_signals.fif...\n",
      "    Range : 1252000 ... 1552000 =   1252.000 ...  1552.000 secs\n",
      "Ready.\n",
      "Reading 0 ... 300000  =      0.000 ...   300.000 secs...\n"
     ]
    },
    {
     "name": "stderr",
     "output_type": "stream",
     "text": [
      "C:\\Users\\marco\\AppData\\Local\\Temp\\ipykernel_6904\\2770616247.py:12: RuntimeWarning: This filename (../SEED_FRA_OUTPUT/NEGATIVE/6_1_trial_6_signals.fif) does not conform to MNE naming conventions. All raw files should end with raw.fif, raw_sss.fif, raw_tsss.fif, _meg.fif, _eeg.fif, _ieeg.fif, raw.fif.gz, raw_sss.fif.gz, raw_tsss.fif.gz, _meg.fif.gz, _eeg.fif.gz or _ieeg.fif.gz\n",
      "  eeg_data = mne.io.read_raw_fif(name, preload=True)\n"
     ]
    },
    {
     "name": "stdout",
     "output_type": "stream",
     "text": [
      "Opening raw data file ../SEED_FRA_OUTPUT/NEGATIVE/6_1_trial_9_signals.fif...\n",
      "    Range : 1887000 ... 2154000 =   1887.000 ...  2154.000 secs\n",
      "Ready.\n",
      "Reading 0 ... 267000  =      0.000 ...   267.000 secs...\n"
     ]
    },
    {
     "name": "stderr",
     "output_type": "stream",
     "text": [
      "C:\\Users\\marco\\AppData\\Local\\Temp\\ipykernel_6904\\2770616247.py:12: RuntimeWarning: This filename (../SEED_FRA_OUTPUT/NEGATIVE/6_1_trial_9_signals.fif) does not conform to MNE naming conventions. All raw files should end with raw.fif, raw_sss.fif, raw_tsss.fif, _meg.fif, _eeg.fif, _ieeg.fif, raw.fif.gz, raw_sss.fif.gz, raw_tsss.fif.gz, _meg.fif.gz, _eeg.fif.gz or _ieeg.fif.gz\n",
      "  eeg_data = mne.io.read_raw_fif(name, preload=True)\n"
     ]
    },
    {
     "name": "stdout",
     "output_type": "stream",
     "text": [
      "Opening raw data file ../SEED_FRA_OUTPUT/NEGATIVE/6_2_trial_14_signals.fif...\n",
      "    Range : 2783000 ... 2910000 =   2783.000 ...  2910.000 secs\n",
      "Ready.\n",
      "Reading 0 ... 127000  =      0.000 ...   127.000 secs...\n"
     ]
    },
    {
     "name": "stderr",
     "output_type": "stream",
     "text": [
      "C:\\Users\\marco\\AppData\\Local\\Temp\\ipykernel_6904\\2770616247.py:12: RuntimeWarning: This filename (../SEED_FRA_OUTPUT/NEGATIVE/6_2_trial_14_signals.fif) does not conform to MNE naming conventions. All raw files should end with raw.fif, raw_sss.fif, raw_tsss.fif, _meg.fif, _eeg.fif, _ieeg.fif, raw.fif.gz, raw_sss.fif.gz, raw_tsss.fif.gz, _meg.fif.gz, _eeg.fif.gz or _ieeg.fif.gz\n",
      "  eeg_data = mne.io.read_raw_fif(name, preload=True)\n"
     ]
    },
    {
     "name": "stdout",
     "output_type": "stream",
     "text": [
      "Opening raw data file ../SEED_FRA_OUTPUT/NEGATIVE/6_2_trial_15_signals.fif...\n",
      "    Range : 2931000 ... 3008000 =   2931.000 ...  3008.000 secs\n",
      "Ready.\n",
      "Reading 0 ... 77000  =      0.000 ...    77.000 secs...\n"
     ]
    },
    {
     "name": "stderr",
     "output_type": "stream",
     "text": [
      "C:\\Users\\marco\\AppData\\Local\\Temp\\ipykernel_6904\\2770616247.py:12: RuntimeWarning: This filename (../SEED_FRA_OUTPUT/NEGATIVE/6_2_trial_15_signals.fif) does not conform to MNE naming conventions. All raw files should end with raw.fif, raw_sss.fif, raw_tsss.fif, _meg.fif, _eeg.fif, _ieeg.fif, raw.fif.gz, raw_sss.fif.gz, raw_tsss.fif.gz, _meg.fif.gz, _eeg.fif.gz or _ieeg.fif.gz\n",
      "  eeg_data = mne.io.read_raw_fif(name, preload=True)\n"
     ]
    },
    {
     "name": "stdout",
     "output_type": "stream",
     "text": [
      "Opening raw data file ../SEED_FRA_OUTPUT/NEGATIVE/6_2_trial_18_signals.fif...\n",
      "    Range : 3369000 ... 3495000 =   3369.000 ...  3495.000 secs\n",
      "Ready.\n",
      "Reading 0 ... 126000  =      0.000 ...   126.000 secs...\n"
     ]
    },
    {
     "name": "stderr",
     "output_type": "stream",
     "text": [
      "C:\\Users\\marco\\AppData\\Local\\Temp\\ipykernel_6904\\2770616247.py:12: RuntimeWarning: This filename (../SEED_FRA_OUTPUT/NEGATIVE/6_2_trial_18_signals.fif) does not conform to MNE naming conventions. All raw files should end with raw.fif, raw_sss.fif, raw_tsss.fif, _meg.fif, _eeg.fif, _ieeg.fif, raw.fif.gz, raw_sss.fif.gz, raw_tsss.fif.gz, _meg.fif.gz, _eeg.fif.gz or _ieeg.fif.gz\n",
      "  eeg_data = mne.io.read_raw_fif(name, preload=True)\n"
     ]
    },
    {
     "name": "stdout",
     "output_type": "stream",
     "text": [
      "Opening raw data file ../SEED_FRA_OUTPUT/NEGATIVE/6_2_trial_1_signals.fif...\n",
      "    Range : 213000 ... 468000 =    213.000 ...   468.000 secs\n",
      "Ready.\n",
      "Reading 0 ... 255000  =      0.000 ...   255.000 secs...\n"
     ]
    },
    {
     "name": "stderr",
     "output_type": "stream",
     "text": [
      "C:\\Users\\marco\\AppData\\Local\\Temp\\ipykernel_6904\\2770616247.py:12: RuntimeWarning: This filename (../SEED_FRA_OUTPUT/NEGATIVE/6_2_trial_1_signals.fif) does not conform to MNE naming conventions. All raw files should end with raw.fif, raw_sss.fif, raw_tsss.fif, _meg.fif, _eeg.fif, _ieeg.fif, raw.fif.gz, raw_sss.fif.gz, raw_tsss.fif.gz, _meg.fif.gz, _eeg.fif.gz or _ieeg.fif.gz\n",
      "  eeg_data = mne.io.read_raw_fif(name, preload=True)\n"
     ]
    },
    {
     "name": "stdout",
     "output_type": "stream",
     "text": [
      "Opening raw data file ../SEED_FRA_OUTPUT/NEGATIVE/6_2_trial_3_signals.fif...\n",
      "    Range : 687000 ... 962000 =    687.000 ...   962.000 secs\n",
      "Ready.\n",
      "Reading 0 ... 275000  =      0.000 ...   275.000 secs...\n"
     ]
    },
    {
     "name": "stderr",
     "output_type": "stream",
     "text": [
      "C:\\Users\\marco\\AppData\\Local\\Temp\\ipykernel_6904\\2770616247.py:12: RuntimeWarning: This filename (../SEED_FRA_OUTPUT/NEGATIVE/6_2_trial_3_signals.fif) does not conform to MNE naming conventions. All raw files should end with raw.fif, raw_sss.fif, raw_tsss.fif, _meg.fif, _eeg.fif, _ieeg.fif, raw.fif.gz, raw_sss.fif.gz, raw_tsss.fif.gz, _meg.fif.gz, _eeg.fif.gz or _ieeg.fif.gz\n",
      "  eeg_data = mne.io.read_raw_fif(name, preload=True)\n"
     ]
    },
    {
     "name": "stdout",
     "output_type": "stream",
     "text": [
      "Opening raw data file ../SEED_FRA_OUTPUT/NEGATIVE/6_2_trial_6_signals.fif...\n",
      "    Range : 1252000 ... 1552000 =   1252.000 ...  1552.000 secs\n",
      "Ready.\n",
      "Reading 0 ... 300000  =      0.000 ...   300.000 secs...\n"
     ]
    },
    {
     "name": "stderr",
     "output_type": "stream",
     "text": [
      "C:\\Users\\marco\\AppData\\Local\\Temp\\ipykernel_6904\\2770616247.py:12: RuntimeWarning: This filename (../SEED_FRA_OUTPUT/NEGATIVE/6_2_trial_6_signals.fif) does not conform to MNE naming conventions. All raw files should end with raw.fif, raw_sss.fif, raw_tsss.fif, _meg.fif, _eeg.fif, _ieeg.fif, raw.fif.gz, raw_sss.fif.gz, raw_tsss.fif.gz, _meg.fif.gz, _eeg.fif.gz or _ieeg.fif.gz\n",
      "  eeg_data = mne.io.read_raw_fif(name, preload=True)\n"
     ]
    },
    {
     "name": "stdout",
     "output_type": "stream",
     "text": [
      "Opening raw data file ../SEED_FRA_OUTPUT/NEGATIVE/6_2_trial_9_signals.fif...\n",
      "    Range : 1887000 ... 2154000 =   1887.000 ...  2154.000 secs\n",
      "Ready.\n",
      "Reading 0 ... 267000  =      0.000 ...   267.000 secs...\n"
     ]
    },
    {
     "name": "stderr",
     "output_type": "stream",
     "text": [
      "C:\\Users\\marco\\AppData\\Local\\Temp\\ipykernel_6904\\2770616247.py:12: RuntimeWarning: This filename (../SEED_FRA_OUTPUT/NEGATIVE/6_2_trial_9_signals.fif) does not conform to MNE naming conventions. All raw files should end with raw.fif, raw_sss.fif, raw_tsss.fif, _meg.fif, _eeg.fif, _ieeg.fif, raw.fif.gz, raw_sss.fif.gz, raw_tsss.fif.gz, _meg.fif.gz, _eeg.fif.gz or _ieeg.fif.gz\n",
      "  eeg_data = mne.io.read_raw_fif(name, preload=True)\n"
     ]
    },
    {
     "name": "stdout",
     "output_type": "stream",
     "text": [
      "Opening raw data file ../SEED_FRA_OUTPUT/NEGATIVE/6_3_trial_14_signals.fif...\n",
      "    Range : 2783000 ... 2910000 =   2783.000 ...  2910.000 secs\n",
      "Ready.\n",
      "Reading 0 ... 127000  =      0.000 ...   127.000 secs...\n"
     ]
    },
    {
     "name": "stderr",
     "output_type": "stream",
     "text": [
      "C:\\Users\\marco\\AppData\\Local\\Temp\\ipykernel_6904\\2770616247.py:12: RuntimeWarning: This filename (../SEED_FRA_OUTPUT/NEGATIVE/6_3_trial_14_signals.fif) does not conform to MNE naming conventions. All raw files should end with raw.fif, raw_sss.fif, raw_tsss.fif, _meg.fif, _eeg.fif, _ieeg.fif, raw.fif.gz, raw_sss.fif.gz, raw_tsss.fif.gz, _meg.fif.gz, _eeg.fif.gz or _ieeg.fif.gz\n",
      "  eeg_data = mne.io.read_raw_fif(name, preload=True)\n"
     ]
    },
    {
     "name": "stdout",
     "output_type": "stream",
     "text": [
      "Opening raw data file ../SEED_FRA_OUTPUT/NEGATIVE/6_3_trial_15_signals.fif...\n",
      "    Range : 2931000 ... 3008000 =   2931.000 ...  3008.000 secs\n",
      "Ready.\n",
      "Reading 0 ... 77000  =      0.000 ...    77.000 secs...\n"
     ]
    },
    {
     "name": "stderr",
     "output_type": "stream",
     "text": [
      "C:\\Users\\marco\\AppData\\Local\\Temp\\ipykernel_6904\\2770616247.py:12: RuntimeWarning: This filename (../SEED_FRA_OUTPUT/NEGATIVE/6_3_trial_15_signals.fif) does not conform to MNE naming conventions. All raw files should end with raw.fif, raw_sss.fif, raw_tsss.fif, _meg.fif, _eeg.fif, _ieeg.fif, raw.fif.gz, raw_sss.fif.gz, raw_tsss.fif.gz, _meg.fif.gz, _eeg.fif.gz or _ieeg.fif.gz\n",
      "  eeg_data = mne.io.read_raw_fif(name, preload=True)\n"
     ]
    },
    {
     "name": "stdout",
     "output_type": "stream",
     "text": [
      "Opening raw data file ../SEED_FRA_OUTPUT/NEGATIVE/6_3_trial_18_signals.fif...\n",
      "    Range : 3369000 ... 3495000 =   3369.000 ...  3495.000 secs\n",
      "Ready.\n",
      "Reading 0 ... 126000  =      0.000 ...   126.000 secs...\n"
     ]
    },
    {
     "name": "stderr",
     "output_type": "stream",
     "text": [
      "C:\\Users\\marco\\AppData\\Local\\Temp\\ipykernel_6904\\2770616247.py:12: RuntimeWarning: This filename (../SEED_FRA_OUTPUT/NEGATIVE/6_3_trial_18_signals.fif) does not conform to MNE naming conventions. All raw files should end with raw.fif, raw_sss.fif, raw_tsss.fif, _meg.fif, _eeg.fif, _ieeg.fif, raw.fif.gz, raw_sss.fif.gz, raw_tsss.fif.gz, _meg.fif.gz, _eeg.fif.gz or _ieeg.fif.gz\n",
      "  eeg_data = mne.io.read_raw_fif(name, preload=True)\n"
     ]
    },
    {
     "name": "stdout",
     "output_type": "stream",
     "text": [
      "Opening raw data file ../SEED_FRA_OUTPUT/NEGATIVE/6_3_trial_1_signals.fif...\n",
      "    Range : 213000 ... 468000 =    213.000 ...   468.000 secs\n",
      "Ready.\n",
      "Reading 0 ... 255000  =      0.000 ...   255.000 secs...\n"
     ]
    },
    {
     "name": "stderr",
     "output_type": "stream",
     "text": [
      "C:\\Users\\marco\\AppData\\Local\\Temp\\ipykernel_6904\\2770616247.py:12: RuntimeWarning: This filename (../SEED_FRA_OUTPUT/NEGATIVE/6_3_trial_1_signals.fif) does not conform to MNE naming conventions. All raw files should end with raw.fif, raw_sss.fif, raw_tsss.fif, _meg.fif, _eeg.fif, _ieeg.fif, raw.fif.gz, raw_sss.fif.gz, raw_tsss.fif.gz, _meg.fif.gz, _eeg.fif.gz or _ieeg.fif.gz\n",
      "  eeg_data = mne.io.read_raw_fif(name, preload=True)\n"
     ]
    },
    {
     "name": "stdout",
     "output_type": "stream",
     "text": [
      "Opening raw data file ../SEED_FRA_OUTPUT/NEGATIVE/6_3_trial_3_signals.fif...\n",
      "    Range : 687000 ... 962000 =    687.000 ...   962.000 secs\n",
      "Ready.\n",
      "Reading 0 ... 275000  =      0.000 ...   275.000 secs...\n"
     ]
    },
    {
     "name": "stderr",
     "output_type": "stream",
     "text": [
      "C:\\Users\\marco\\AppData\\Local\\Temp\\ipykernel_6904\\2770616247.py:12: RuntimeWarning: This filename (../SEED_FRA_OUTPUT/NEGATIVE/6_3_trial_3_signals.fif) does not conform to MNE naming conventions. All raw files should end with raw.fif, raw_sss.fif, raw_tsss.fif, _meg.fif, _eeg.fif, _ieeg.fif, raw.fif.gz, raw_sss.fif.gz, raw_tsss.fif.gz, _meg.fif.gz, _eeg.fif.gz or _ieeg.fif.gz\n",
      "  eeg_data = mne.io.read_raw_fif(name, preload=True)\n"
     ]
    },
    {
     "name": "stdout",
     "output_type": "stream",
     "text": [
      "Opening raw data file ../SEED_FRA_OUTPUT/NEGATIVE/6_3_trial_6_signals.fif...\n",
      "    Range : 1252000 ... 1552000 =   1252.000 ...  1552.000 secs\n",
      "Ready.\n",
      "Reading 0 ... 300000  =      0.000 ...   300.000 secs...\n"
     ]
    },
    {
     "name": "stderr",
     "output_type": "stream",
     "text": [
      "C:\\Users\\marco\\AppData\\Local\\Temp\\ipykernel_6904\\2770616247.py:12: RuntimeWarning: This filename (../SEED_FRA_OUTPUT/NEGATIVE/6_3_trial_6_signals.fif) does not conform to MNE naming conventions. All raw files should end with raw.fif, raw_sss.fif, raw_tsss.fif, _meg.fif, _eeg.fif, _ieeg.fif, raw.fif.gz, raw_sss.fif.gz, raw_tsss.fif.gz, _meg.fif.gz, _eeg.fif.gz or _ieeg.fif.gz\n",
      "  eeg_data = mne.io.read_raw_fif(name, preload=True)\n"
     ]
    },
    {
     "name": "stdout",
     "output_type": "stream",
     "text": [
      "Opening raw data file ../SEED_FRA_OUTPUT/NEGATIVE/6_3_trial_9_signals.fif...\n",
      "    Range : 1887000 ... 2154000 =   1887.000 ...  2154.000 secs\n",
      "Ready.\n",
      "Reading 0 ... 267000  =      0.000 ...   267.000 secs...\n"
     ]
    },
    {
     "name": "stderr",
     "output_type": "stream",
     "text": [
      "C:\\Users\\marco\\AppData\\Local\\Temp\\ipykernel_6904\\2770616247.py:12: RuntimeWarning: This filename (../SEED_FRA_OUTPUT/NEGATIVE/6_3_trial_9_signals.fif) does not conform to MNE naming conventions. All raw files should end with raw.fif, raw_sss.fif, raw_tsss.fif, _meg.fif, _eeg.fif, _ieeg.fif, raw.fif.gz, raw_sss.fif.gz, raw_tsss.fif.gz, _meg.fif.gz, _eeg.fif.gz or _ieeg.fif.gz\n",
      "  eeg_data = mne.io.read_raw_fif(name, preload=True)\n"
     ]
    },
    {
     "name": "stdout",
     "output_type": "stream",
     "text": [
      "Opening raw data file ../SEED_FRA_OUTPUT/NEGATIVE/7_1_trial_14_signals.fif...\n",
      "    Range : 2783000 ... 2910000 =   2783.000 ...  2910.000 secs\n",
      "Ready.\n",
      "Reading 0 ... 127000  =      0.000 ...   127.000 secs...\n"
     ]
    },
    {
     "name": "stderr",
     "output_type": "stream",
     "text": [
      "C:\\Users\\marco\\AppData\\Local\\Temp\\ipykernel_6904\\2770616247.py:12: RuntimeWarning: This filename (../SEED_FRA_OUTPUT/NEGATIVE/7_1_trial_14_signals.fif) does not conform to MNE naming conventions. All raw files should end with raw.fif, raw_sss.fif, raw_tsss.fif, _meg.fif, _eeg.fif, _ieeg.fif, raw.fif.gz, raw_sss.fif.gz, raw_tsss.fif.gz, _meg.fif.gz, _eeg.fif.gz or _ieeg.fif.gz\n",
      "  eeg_data = mne.io.read_raw_fif(name, preload=True)\n"
     ]
    },
    {
     "name": "stdout",
     "output_type": "stream",
     "text": [
      "Opening raw data file ../SEED_FRA_OUTPUT/NEGATIVE/7_1_trial_15_signals.fif...\n",
      "    Range : 2931000 ... 3008000 =   2931.000 ...  3008.000 secs\n",
      "Ready.\n",
      "Reading 0 ... 77000  =      0.000 ...    77.000 secs...\n"
     ]
    },
    {
     "name": "stderr",
     "output_type": "stream",
     "text": [
      "C:\\Users\\marco\\AppData\\Local\\Temp\\ipykernel_6904\\2770616247.py:12: RuntimeWarning: This filename (../SEED_FRA_OUTPUT/NEGATIVE/7_1_trial_15_signals.fif) does not conform to MNE naming conventions. All raw files should end with raw.fif, raw_sss.fif, raw_tsss.fif, _meg.fif, _eeg.fif, _ieeg.fif, raw.fif.gz, raw_sss.fif.gz, raw_tsss.fif.gz, _meg.fif.gz, _eeg.fif.gz or _ieeg.fif.gz\n",
      "  eeg_data = mne.io.read_raw_fif(name, preload=True)\n"
     ]
    },
    {
     "name": "stdout",
     "output_type": "stream",
     "text": [
      "Opening raw data file ../SEED_FRA_OUTPUT/NEGATIVE/7_1_trial_18_signals.fif...\n",
      "    Range : 3369000 ... 3495000 =   3369.000 ...  3495.000 secs\n",
      "Ready.\n",
      "Reading 0 ... 126000  =      0.000 ...   126.000 secs...\n"
     ]
    },
    {
     "name": "stderr",
     "output_type": "stream",
     "text": [
      "C:\\Users\\marco\\AppData\\Local\\Temp\\ipykernel_6904\\2770616247.py:12: RuntimeWarning: This filename (../SEED_FRA_OUTPUT/NEGATIVE/7_1_trial_18_signals.fif) does not conform to MNE naming conventions. All raw files should end with raw.fif, raw_sss.fif, raw_tsss.fif, _meg.fif, _eeg.fif, _ieeg.fif, raw.fif.gz, raw_sss.fif.gz, raw_tsss.fif.gz, _meg.fif.gz, _eeg.fif.gz or _ieeg.fif.gz\n",
      "  eeg_data = mne.io.read_raw_fif(name, preload=True)\n"
     ]
    },
    {
     "name": "stdout",
     "output_type": "stream",
     "text": [
      "Opening raw data file ../SEED_FRA_OUTPUT/NEGATIVE/7_1_trial_1_signals.fif...\n",
      "    Range : 213000 ... 468000 =    213.000 ...   468.000 secs\n",
      "Ready.\n",
      "Reading 0 ... 255000  =      0.000 ...   255.000 secs...\n"
     ]
    },
    {
     "name": "stderr",
     "output_type": "stream",
     "text": [
      "C:\\Users\\marco\\AppData\\Local\\Temp\\ipykernel_6904\\2770616247.py:12: RuntimeWarning: This filename (../SEED_FRA_OUTPUT/NEGATIVE/7_1_trial_1_signals.fif) does not conform to MNE naming conventions. All raw files should end with raw.fif, raw_sss.fif, raw_tsss.fif, _meg.fif, _eeg.fif, _ieeg.fif, raw.fif.gz, raw_sss.fif.gz, raw_tsss.fif.gz, _meg.fif.gz, _eeg.fif.gz or _ieeg.fif.gz\n",
      "  eeg_data = mne.io.read_raw_fif(name, preload=True)\n"
     ]
    },
    {
     "name": "stdout",
     "output_type": "stream",
     "text": [
      "Opening raw data file ../SEED_FRA_OUTPUT/NEGATIVE/7_1_trial_3_signals.fif...\n",
      "    Range : 687000 ... 962000 =    687.000 ...   962.000 secs\n",
      "Ready.\n",
      "Reading 0 ... 275000  =      0.000 ...   275.000 secs...\n"
     ]
    },
    {
     "name": "stderr",
     "output_type": "stream",
     "text": [
      "C:\\Users\\marco\\AppData\\Local\\Temp\\ipykernel_6904\\2770616247.py:12: RuntimeWarning: This filename (../SEED_FRA_OUTPUT/NEGATIVE/7_1_trial_3_signals.fif) does not conform to MNE naming conventions. All raw files should end with raw.fif, raw_sss.fif, raw_tsss.fif, _meg.fif, _eeg.fif, _ieeg.fif, raw.fif.gz, raw_sss.fif.gz, raw_tsss.fif.gz, _meg.fif.gz, _eeg.fif.gz or _ieeg.fif.gz\n",
      "  eeg_data = mne.io.read_raw_fif(name, preload=True)\n"
     ]
    },
    {
     "name": "stdout",
     "output_type": "stream",
     "text": [
      "Opening raw data file ../SEED_FRA_OUTPUT/NEGATIVE/7_1_trial_6_signals.fif...\n",
      "    Range : 1252000 ... 1552000 =   1252.000 ...  1552.000 secs\n",
      "Ready.\n",
      "Reading 0 ... 300000  =      0.000 ...   300.000 secs...\n"
     ]
    },
    {
     "name": "stderr",
     "output_type": "stream",
     "text": [
      "C:\\Users\\marco\\AppData\\Local\\Temp\\ipykernel_6904\\2770616247.py:12: RuntimeWarning: This filename (../SEED_FRA_OUTPUT/NEGATIVE/7_1_trial_6_signals.fif) does not conform to MNE naming conventions. All raw files should end with raw.fif, raw_sss.fif, raw_tsss.fif, _meg.fif, _eeg.fif, _ieeg.fif, raw.fif.gz, raw_sss.fif.gz, raw_tsss.fif.gz, _meg.fif.gz, _eeg.fif.gz or _ieeg.fif.gz\n",
      "  eeg_data = mne.io.read_raw_fif(name, preload=True)\n"
     ]
    },
    {
     "name": "stdout",
     "output_type": "stream",
     "text": [
      "Opening raw data file ../SEED_FRA_OUTPUT/NEGATIVE/7_1_trial_9_signals.fif...\n",
      "    Range : 1887000 ... 2154000 =   1887.000 ...  2154.000 secs\n",
      "Ready.\n",
      "Reading 0 ... 267000  =      0.000 ...   267.000 secs...\n"
     ]
    },
    {
     "name": "stderr",
     "output_type": "stream",
     "text": [
      "C:\\Users\\marco\\AppData\\Local\\Temp\\ipykernel_6904\\2770616247.py:12: RuntimeWarning: This filename (../SEED_FRA_OUTPUT/NEGATIVE/7_1_trial_9_signals.fif) does not conform to MNE naming conventions. All raw files should end with raw.fif, raw_sss.fif, raw_tsss.fif, _meg.fif, _eeg.fif, _ieeg.fif, raw.fif.gz, raw_sss.fif.gz, raw_tsss.fif.gz, _meg.fif.gz, _eeg.fif.gz or _ieeg.fif.gz\n",
      "  eeg_data = mne.io.read_raw_fif(name, preload=True)\n"
     ]
    },
    {
     "name": "stdout",
     "output_type": "stream",
     "text": [
      "Opening raw data file ../SEED_FRA_OUTPUT/NEGATIVE/7_2_trial_14_signals.fif...\n",
      "    Range : 2783000 ... 2910000 =   2783.000 ...  2910.000 secs\n",
      "Ready.\n",
      "Reading 0 ... 127000  =      0.000 ...   127.000 secs...\n"
     ]
    },
    {
     "name": "stderr",
     "output_type": "stream",
     "text": [
      "C:\\Users\\marco\\AppData\\Local\\Temp\\ipykernel_6904\\2770616247.py:12: RuntimeWarning: This filename (../SEED_FRA_OUTPUT/NEGATIVE/7_2_trial_14_signals.fif) does not conform to MNE naming conventions. All raw files should end with raw.fif, raw_sss.fif, raw_tsss.fif, _meg.fif, _eeg.fif, _ieeg.fif, raw.fif.gz, raw_sss.fif.gz, raw_tsss.fif.gz, _meg.fif.gz, _eeg.fif.gz or _ieeg.fif.gz\n",
      "  eeg_data = mne.io.read_raw_fif(name, preload=True)\n"
     ]
    },
    {
     "name": "stdout",
     "output_type": "stream",
     "text": [
      "Opening raw data file ../SEED_FRA_OUTPUT/NEGATIVE/7_2_trial_15_signals.fif...\n",
      "    Range : 2931000 ... 3008000 =   2931.000 ...  3008.000 secs\n",
      "Ready.\n",
      "Reading 0 ... 77000  =      0.000 ...    77.000 secs...\n"
     ]
    },
    {
     "name": "stderr",
     "output_type": "stream",
     "text": [
      "C:\\Users\\marco\\AppData\\Local\\Temp\\ipykernel_6904\\2770616247.py:12: RuntimeWarning: This filename (../SEED_FRA_OUTPUT/NEGATIVE/7_2_trial_15_signals.fif) does not conform to MNE naming conventions. All raw files should end with raw.fif, raw_sss.fif, raw_tsss.fif, _meg.fif, _eeg.fif, _ieeg.fif, raw.fif.gz, raw_sss.fif.gz, raw_tsss.fif.gz, _meg.fif.gz, _eeg.fif.gz or _ieeg.fif.gz\n",
      "  eeg_data = mne.io.read_raw_fif(name, preload=True)\n"
     ]
    },
    {
     "name": "stdout",
     "output_type": "stream",
     "text": [
      "Opening raw data file ../SEED_FRA_OUTPUT/NEGATIVE/7_2_trial_18_signals.fif...\n",
      "    Range : 3369000 ... 3495000 =   3369.000 ...  3495.000 secs\n",
      "Ready.\n",
      "Reading 0 ... 126000  =      0.000 ...   126.000 secs...\n"
     ]
    },
    {
     "name": "stderr",
     "output_type": "stream",
     "text": [
      "C:\\Users\\marco\\AppData\\Local\\Temp\\ipykernel_6904\\2770616247.py:12: RuntimeWarning: This filename (../SEED_FRA_OUTPUT/NEGATIVE/7_2_trial_18_signals.fif) does not conform to MNE naming conventions. All raw files should end with raw.fif, raw_sss.fif, raw_tsss.fif, _meg.fif, _eeg.fif, _ieeg.fif, raw.fif.gz, raw_sss.fif.gz, raw_tsss.fif.gz, _meg.fif.gz, _eeg.fif.gz or _ieeg.fif.gz\n",
      "  eeg_data = mne.io.read_raw_fif(name, preload=True)\n"
     ]
    },
    {
     "name": "stdout",
     "output_type": "stream",
     "text": [
      "Opening raw data file ../SEED_FRA_OUTPUT/NEGATIVE/7_2_trial_1_signals.fif...\n",
      "    Range : 213000 ... 468000 =    213.000 ...   468.000 secs\n",
      "Ready.\n",
      "Reading 0 ... 255000  =      0.000 ...   255.000 secs...\n"
     ]
    },
    {
     "name": "stderr",
     "output_type": "stream",
     "text": [
      "C:\\Users\\marco\\AppData\\Local\\Temp\\ipykernel_6904\\2770616247.py:12: RuntimeWarning: This filename (../SEED_FRA_OUTPUT/NEGATIVE/7_2_trial_1_signals.fif) does not conform to MNE naming conventions. All raw files should end with raw.fif, raw_sss.fif, raw_tsss.fif, _meg.fif, _eeg.fif, _ieeg.fif, raw.fif.gz, raw_sss.fif.gz, raw_tsss.fif.gz, _meg.fif.gz, _eeg.fif.gz or _ieeg.fif.gz\n",
      "  eeg_data = mne.io.read_raw_fif(name, preload=True)\n"
     ]
    },
    {
     "name": "stdout",
     "output_type": "stream",
     "text": [
      "Opening raw data file ../SEED_FRA_OUTPUT/NEGATIVE/7_2_trial_3_signals.fif...\n",
      "    Range : 687000 ... 962000 =    687.000 ...   962.000 secs\n",
      "Ready.\n",
      "Reading 0 ... 275000  =      0.000 ...   275.000 secs...\n"
     ]
    },
    {
     "name": "stderr",
     "output_type": "stream",
     "text": [
      "C:\\Users\\marco\\AppData\\Local\\Temp\\ipykernel_6904\\2770616247.py:12: RuntimeWarning: This filename (../SEED_FRA_OUTPUT/NEGATIVE/7_2_trial_3_signals.fif) does not conform to MNE naming conventions. All raw files should end with raw.fif, raw_sss.fif, raw_tsss.fif, _meg.fif, _eeg.fif, _ieeg.fif, raw.fif.gz, raw_sss.fif.gz, raw_tsss.fif.gz, _meg.fif.gz, _eeg.fif.gz or _ieeg.fif.gz\n",
      "  eeg_data = mne.io.read_raw_fif(name, preload=True)\n"
     ]
    },
    {
     "name": "stdout",
     "output_type": "stream",
     "text": [
      "Opening raw data file ../SEED_FRA_OUTPUT/NEGATIVE/7_2_trial_6_signals.fif...\n",
      "    Range : 1252000 ... 1552000 =   1252.000 ...  1552.000 secs\n",
      "Ready.\n",
      "Reading 0 ... 300000  =      0.000 ...   300.000 secs...\n"
     ]
    },
    {
     "name": "stderr",
     "output_type": "stream",
     "text": [
      "C:\\Users\\marco\\AppData\\Local\\Temp\\ipykernel_6904\\2770616247.py:12: RuntimeWarning: This filename (../SEED_FRA_OUTPUT/NEGATIVE/7_2_trial_6_signals.fif) does not conform to MNE naming conventions. All raw files should end with raw.fif, raw_sss.fif, raw_tsss.fif, _meg.fif, _eeg.fif, _ieeg.fif, raw.fif.gz, raw_sss.fif.gz, raw_tsss.fif.gz, _meg.fif.gz, _eeg.fif.gz or _ieeg.fif.gz\n",
      "  eeg_data = mne.io.read_raw_fif(name, preload=True)\n"
     ]
    },
    {
     "name": "stdout",
     "output_type": "stream",
     "text": [
      "Opening raw data file ../SEED_FRA_OUTPUT/NEGATIVE/7_2_trial_9_signals.fif...\n",
      "    Range : 1887000 ... 2154000 =   1887.000 ...  2154.000 secs\n",
      "Ready.\n",
      "Reading 0 ... 267000  =      0.000 ...   267.000 secs...\n"
     ]
    },
    {
     "name": "stderr",
     "output_type": "stream",
     "text": [
      "C:\\Users\\marco\\AppData\\Local\\Temp\\ipykernel_6904\\2770616247.py:12: RuntimeWarning: This filename (../SEED_FRA_OUTPUT/NEGATIVE/7_2_trial_9_signals.fif) does not conform to MNE naming conventions. All raw files should end with raw.fif, raw_sss.fif, raw_tsss.fif, _meg.fif, _eeg.fif, _ieeg.fif, raw.fif.gz, raw_sss.fif.gz, raw_tsss.fif.gz, _meg.fif.gz, _eeg.fif.gz or _ieeg.fif.gz\n",
      "  eeg_data = mne.io.read_raw_fif(name, preload=True)\n"
     ]
    },
    {
     "name": "stdout",
     "output_type": "stream",
     "text": [
      "Opening raw data file ../SEED_FRA_OUTPUT/NEGATIVE/7_3_trial_14_signals.fif...\n",
      "    Range : 2783000 ... 2910000 =   2783.000 ...  2910.000 secs\n",
      "Ready.\n",
      "Reading 0 ... 127000  =      0.000 ...   127.000 secs...\n"
     ]
    },
    {
     "name": "stderr",
     "output_type": "stream",
     "text": [
      "C:\\Users\\marco\\AppData\\Local\\Temp\\ipykernel_6904\\2770616247.py:12: RuntimeWarning: This filename (../SEED_FRA_OUTPUT/NEGATIVE/7_3_trial_14_signals.fif) does not conform to MNE naming conventions. All raw files should end with raw.fif, raw_sss.fif, raw_tsss.fif, _meg.fif, _eeg.fif, _ieeg.fif, raw.fif.gz, raw_sss.fif.gz, raw_tsss.fif.gz, _meg.fif.gz, _eeg.fif.gz or _ieeg.fif.gz\n",
      "  eeg_data = mne.io.read_raw_fif(name, preload=True)\n"
     ]
    },
    {
     "name": "stdout",
     "output_type": "stream",
     "text": [
      "Opening raw data file ../SEED_FRA_OUTPUT/NEGATIVE/7_3_trial_15_signals.fif...\n",
      "    Range : 2931000 ... 3008000 =   2931.000 ...  3008.000 secs\n",
      "Ready.\n",
      "Reading 0 ... 77000  =      0.000 ...    77.000 secs...\n"
     ]
    },
    {
     "name": "stderr",
     "output_type": "stream",
     "text": [
      "C:\\Users\\marco\\AppData\\Local\\Temp\\ipykernel_6904\\2770616247.py:12: RuntimeWarning: This filename (../SEED_FRA_OUTPUT/NEGATIVE/7_3_trial_15_signals.fif) does not conform to MNE naming conventions. All raw files should end with raw.fif, raw_sss.fif, raw_tsss.fif, _meg.fif, _eeg.fif, _ieeg.fif, raw.fif.gz, raw_sss.fif.gz, raw_tsss.fif.gz, _meg.fif.gz, _eeg.fif.gz or _ieeg.fif.gz\n",
      "  eeg_data = mne.io.read_raw_fif(name, preload=True)\n"
     ]
    },
    {
     "name": "stdout",
     "output_type": "stream",
     "text": [
      "Opening raw data file ../SEED_FRA_OUTPUT/NEGATIVE/7_3_trial_18_signals.fif...\n",
      "    Range : 3369000 ... 3495000 =   3369.000 ...  3495.000 secs\n",
      "Ready.\n",
      "Reading 0 ... 126000  =      0.000 ...   126.000 secs...\n"
     ]
    },
    {
     "name": "stderr",
     "output_type": "stream",
     "text": [
      "C:\\Users\\marco\\AppData\\Local\\Temp\\ipykernel_6904\\2770616247.py:12: RuntimeWarning: This filename (../SEED_FRA_OUTPUT/NEGATIVE/7_3_trial_18_signals.fif) does not conform to MNE naming conventions. All raw files should end with raw.fif, raw_sss.fif, raw_tsss.fif, _meg.fif, _eeg.fif, _ieeg.fif, raw.fif.gz, raw_sss.fif.gz, raw_tsss.fif.gz, _meg.fif.gz, _eeg.fif.gz or _ieeg.fif.gz\n",
      "  eeg_data = mne.io.read_raw_fif(name, preload=True)\n"
     ]
    },
    {
     "name": "stdout",
     "output_type": "stream",
     "text": [
      "Opening raw data file ../SEED_FRA_OUTPUT/NEGATIVE/7_3_trial_1_signals.fif...\n",
      "    Range : 213000 ... 468000 =    213.000 ...   468.000 secs\n",
      "Ready.\n",
      "Reading 0 ... 255000  =      0.000 ...   255.000 secs...\n"
     ]
    },
    {
     "name": "stderr",
     "output_type": "stream",
     "text": [
      "C:\\Users\\marco\\AppData\\Local\\Temp\\ipykernel_6904\\2770616247.py:12: RuntimeWarning: This filename (../SEED_FRA_OUTPUT/NEGATIVE/7_3_trial_1_signals.fif) does not conform to MNE naming conventions. All raw files should end with raw.fif, raw_sss.fif, raw_tsss.fif, _meg.fif, _eeg.fif, _ieeg.fif, raw.fif.gz, raw_sss.fif.gz, raw_tsss.fif.gz, _meg.fif.gz, _eeg.fif.gz or _ieeg.fif.gz\n",
      "  eeg_data = mne.io.read_raw_fif(name, preload=True)\n"
     ]
    },
    {
     "name": "stdout",
     "output_type": "stream",
     "text": [
      "Opening raw data file ../SEED_FRA_OUTPUT/NEGATIVE/7_3_trial_3_signals.fif...\n",
      "    Range : 687000 ... 962000 =    687.000 ...   962.000 secs\n",
      "Ready.\n",
      "Reading 0 ... 275000  =      0.000 ...   275.000 secs...\n"
     ]
    },
    {
     "name": "stderr",
     "output_type": "stream",
     "text": [
      "C:\\Users\\marco\\AppData\\Local\\Temp\\ipykernel_6904\\2770616247.py:12: RuntimeWarning: This filename (../SEED_FRA_OUTPUT/NEGATIVE/7_3_trial_3_signals.fif) does not conform to MNE naming conventions. All raw files should end with raw.fif, raw_sss.fif, raw_tsss.fif, _meg.fif, _eeg.fif, _ieeg.fif, raw.fif.gz, raw_sss.fif.gz, raw_tsss.fif.gz, _meg.fif.gz, _eeg.fif.gz or _ieeg.fif.gz\n",
      "  eeg_data = mne.io.read_raw_fif(name, preload=True)\n"
     ]
    },
    {
     "name": "stdout",
     "output_type": "stream",
     "text": [
      "Opening raw data file ../SEED_FRA_OUTPUT/NEGATIVE/7_3_trial_6_signals.fif...\n",
      "    Range : 1252000 ... 1552000 =   1252.000 ...  1552.000 secs\n",
      "Ready.\n",
      "Reading 0 ... 300000  =      0.000 ...   300.000 secs...\n"
     ]
    },
    {
     "name": "stderr",
     "output_type": "stream",
     "text": [
      "C:\\Users\\marco\\AppData\\Local\\Temp\\ipykernel_6904\\2770616247.py:12: RuntimeWarning: This filename (../SEED_FRA_OUTPUT/NEGATIVE/7_3_trial_6_signals.fif) does not conform to MNE naming conventions. All raw files should end with raw.fif, raw_sss.fif, raw_tsss.fif, _meg.fif, _eeg.fif, _ieeg.fif, raw.fif.gz, raw_sss.fif.gz, raw_tsss.fif.gz, _meg.fif.gz, _eeg.fif.gz or _ieeg.fif.gz\n",
      "  eeg_data = mne.io.read_raw_fif(name, preload=True)\n"
     ]
    },
    {
     "name": "stdout",
     "output_type": "stream",
     "text": [
      "Opening raw data file ../SEED_FRA_OUTPUT/NEGATIVE/7_3_trial_9_signals.fif...\n",
      "    Range : 1887000 ... 2154000 =   1887.000 ...  2154.000 secs\n",
      "Ready.\n",
      "Reading 0 ... 267000  =      0.000 ...   267.000 secs...\n"
     ]
    },
    {
     "name": "stderr",
     "output_type": "stream",
     "text": [
      "C:\\Users\\marco\\AppData\\Local\\Temp\\ipykernel_6904\\2770616247.py:12: RuntimeWarning: This filename (../SEED_FRA_OUTPUT/NEGATIVE/7_3_trial_9_signals.fif) does not conform to MNE naming conventions. All raw files should end with raw.fif, raw_sss.fif, raw_tsss.fif, _meg.fif, _eeg.fif, _ieeg.fif, raw.fif.gz, raw_sss.fif.gz, raw_tsss.fif.gz, _meg.fif.gz, _eeg.fif.gz or _ieeg.fif.gz\n",
      "  eeg_data = mne.io.read_raw_fif(name, preload=True)\n"
     ]
    },
    {
     "name": "stdout",
     "output_type": "stream",
     "text": [
      "Opening raw data file ../SEED_FRA_OUTPUT/NEGATIVE/8_1_trial_14_signals.fif...\n",
      "    Range : 2783000 ... 2910000 =   2783.000 ...  2910.000 secs\n",
      "Ready.\n",
      "Reading 0 ... 127000  =      0.000 ...   127.000 secs...\n"
     ]
    },
    {
     "name": "stderr",
     "output_type": "stream",
     "text": [
      "C:\\Users\\marco\\AppData\\Local\\Temp\\ipykernel_6904\\2770616247.py:12: RuntimeWarning: This filename (../SEED_FRA_OUTPUT/NEGATIVE/8_1_trial_14_signals.fif) does not conform to MNE naming conventions. All raw files should end with raw.fif, raw_sss.fif, raw_tsss.fif, _meg.fif, _eeg.fif, _ieeg.fif, raw.fif.gz, raw_sss.fif.gz, raw_tsss.fif.gz, _meg.fif.gz, _eeg.fif.gz or _ieeg.fif.gz\n",
      "  eeg_data = mne.io.read_raw_fif(name, preload=True)\n"
     ]
    },
    {
     "name": "stdout",
     "output_type": "stream",
     "text": [
      "Opening raw data file ../SEED_FRA_OUTPUT/NEGATIVE/8_1_trial_15_signals.fif...\n",
      "    Range : 2931000 ... 3008000 =   2931.000 ...  3008.000 secs\n",
      "Ready.\n",
      "Reading 0 ... 77000  =      0.000 ...    77.000 secs...\n"
     ]
    },
    {
     "name": "stderr",
     "output_type": "stream",
     "text": [
      "C:\\Users\\marco\\AppData\\Local\\Temp\\ipykernel_6904\\2770616247.py:12: RuntimeWarning: This filename (../SEED_FRA_OUTPUT/NEGATIVE/8_1_trial_15_signals.fif) does not conform to MNE naming conventions. All raw files should end with raw.fif, raw_sss.fif, raw_tsss.fif, _meg.fif, _eeg.fif, _ieeg.fif, raw.fif.gz, raw_sss.fif.gz, raw_tsss.fif.gz, _meg.fif.gz, _eeg.fif.gz or _ieeg.fif.gz\n",
      "  eeg_data = mne.io.read_raw_fif(name, preload=True)\n"
     ]
    },
    {
     "name": "stdout",
     "output_type": "stream",
     "text": [
      "Opening raw data file ../SEED_FRA_OUTPUT/NEGATIVE/8_1_trial_18_signals.fif...\n",
      "    Range : 3369000 ... 3495000 =   3369.000 ...  3495.000 secs\n",
      "Ready.\n",
      "Reading 0 ... 126000  =      0.000 ...   126.000 secs...\n"
     ]
    },
    {
     "name": "stderr",
     "output_type": "stream",
     "text": [
      "C:\\Users\\marco\\AppData\\Local\\Temp\\ipykernel_6904\\2770616247.py:12: RuntimeWarning: This filename (../SEED_FRA_OUTPUT/NEGATIVE/8_1_trial_18_signals.fif) does not conform to MNE naming conventions. All raw files should end with raw.fif, raw_sss.fif, raw_tsss.fif, _meg.fif, _eeg.fif, _ieeg.fif, raw.fif.gz, raw_sss.fif.gz, raw_tsss.fif.gz, _meg.fif.gz, _eeg.fif.gz or _ieeg.fif.gz\n",
      "  eeg_data = mne.io.read_raw_fif(name, preload=True)\n"
     ]
    },
    {
     "name": "stdout",
     "output_type": "stream",
     "text": [
      "Opening raw data file ../SEED_FRA_OUTPUT/NEGATIVE/8_1_trial_1_signals.fif...\n",
      "    Range : 213000 ... 468000 =    213.000 ...   468.000 secs\n",
      "Ready.\n",
      "Reading 0 ... 255000  =      0.000 ...   255.000 secs...\n"
     ]
    },
    {
     "name": "stderr",
     "output_type": "stream",
     "text": [
      "C:\\Users\\marco\\AppData\\Local\\Temp\\ipykernel_6904\\2770616247.py:12: RuntimeWarning: This filename (../SEED_FRA_OUTPUT/NEGATIVE/8_1_trial_1_signals.fif) does not conform to MNE naming conventions. All raw files should end with raw.fif, raw_sss.fif, raw_tsss.fif, _meg.fif, _eeg.fif, _ieeg.fif, raw.fif.gz, raw_sss.fif.gz, raw_tsss.fif.gz, _meg.fif.gz, _eeg.fif.gz or _ieeg.fif.gz\n",
      "  eeg_data = mne.io.read_raw_fif(name, preload=True)\n"
     ]
    },
    {
     "name": "stdout",
     "output_type": "stream",
     "text": [
      "Opening raw data file ../SEED_FRA_OUTPUT/NEGATIVE/8_1_trial_3_signals.fif...\n",
      "    Range : 687000 ... 962000 =    687.000 ...   962.000 secs\n",
      "Ready.\n",
      "Reading 0 ... 275000  =      0.000 ...   275.000 secs...\n"
     ]
    },
    {
     "name": "stderr",
     "output_type": "stream",
     "text": [
      "C:\\Users\\marco\\AppData\\Local\\Temp\\ipykernel_6904\\2770616247.py:12: RuntimeWarning: This filename (../SEED_FRA_OUTPUT/NEGATIVE/8_1_trial_3_signals.fif) does not conform to MNE naming conventions. All raw files should end with raw.fif, raw_sss.fif, raw_tsss.fif, _meg.fif, _eeg.fif, _ieeg.fif, raw.fif.gz, raw_sss.fif.gz, raw_tsss.fif.gz, _meg.fif.gz, _eeg.fif.gz or _ieeg.fif.gz\n",
      "  eeg_data = mne.io.read_raw_fif(name, preload=True)\n"
     ]
    },
    {
     "name": "stdout",
     "output_type": "stream",
     "text": [
      "Opening raw data file ../SEED_FRA_OUTPUT/NEGATIVE/8_1_trial_6_signals.fif...\n",
      "    Range : 1252000 ... 1552000 =   1252.000 ...  1552.000 secs\n",
      "Ready.\n",
      "Reading 0 ... 300000  =      0.000 ...   300.000 secs...\n"
     ]
    },
    {
     "name": "stderr",
     "output_type": "stream",
     "text": [
      "C:\\Users\\marco\\AppData\\Local\\Temp\\ipykernel_6904\\2770616247.py:12: RuntimeWarning: This filename (../SEED_FRA_OUTPUT/NEGATIVE/8_1_trial_6_signals.fif) does not conform to MNE naming conventions. All raw files should end with raw.fif, raw_sss.fif, raw_tsss.fif, _meg.fif, _eeg.fif, _ieeg.fif, raw.fif.gz, raw_sss.fif.gz, raw_tsss.fif.gz, _meg.fif.gz, _eeg.fif.gz or _ieeg.fif.gz\n",
      "  eeg_data = mne.io.read_raw_fif(name, preload=True)\n"
     ]
    },
    {
     "name": "stdout",
     "output_type": "stream",
     "text": [
      "Opening raw data file ../SEED_FRA_OUTPUT/NEGATIVE/8_1_trial_9_signals.fif...\n",
      "    Range : 1887000 ... 2154000 =   1887.000 ...  2154.000 secs\n",
      "Ready.\n",
      "Reading 0 ... 267000  =      0.000 ...   267.000 secs...\n"
     ]
    },
    {
     "name": "stderr",
     "output_type": "stream",
     "text": [
      "C:\\Users\\marco\\AppData\\Local\\Temp\\ipykernel_6904\\2770616247.py:12: RuntimeWarning: This filename (../SEED_FRA_OUTPUT/NEGATIVE/8_1_trial_9_signals.fif) does not conform to MNE naming conventions. All raw files should end with raw.fif, raw_sss.fif, raw_tsss.fif, _meg.fif, _eeg.fif, _ieeg.fif, raw.fif.gz, raw_sss.fif.gz, raw_tsss.fif.gz, _meg.fif.gz, _eeg.fif.gz or _ieeg.fif.gz\n",
      "  eeg_data = mne.io.read_raw_fif(name, preload=True)\n"
     ]
    },
    {
     "name": "stdout",
     "output_type": "stream",
     "text": [
      "Opening raw data file ../SEED_FRA_OUTPUT/NEGATIVE/8_2_trial_14_signals.fif...\n",
      "    Range : 2783000 ... 2910000 =   2783.000 ...  2910.000 secs\n",
      "Ready.\n",
      "Reading 0 ... 127000  =      0.000 ...   127.000 secs...\n"
     ]
    },
    {
     "name": "stderr",
     "output_type": "stream",
     "text": [
      "C:\\Users\\marco\\AppData\\Local\\Temp\\ipykernel_6904\\2770616247.py:12: RuntimeWarning: This filename (../SEED_FRA_OUTPUT/NEGATIVE/8_2_trial_14_signals.fif) does not conform to MNE naming conventions. All raw files should end with raw.fif, raw_sss.fif, raw_tsss.fif, _meg.fif, _eeg.fif, _ieeg.fif, raw.fif.gz, raw_sss.fif.gz, raw_tsss.fif.gz, _meg.fif.gz, _eeg.fif.gz or _ieeg.fif.gz\n",
      "  eeg_data = mne.io.read_raw_fif(name, preload=True)\n"
     ]
    },
    {
     "name": "stdout",
     "output_type": "stream",
     "text": [
      "Opening raw data file ../SEED_FRA_OUTPUT/NEGATIVE/8_2_trial_15_signals.fif...\n",
      "    Range : 2931000 ... 3008000 =   2931.000 ...  3008.000 secs\n",
      "Ready.\n",
      "Reading 0 ... 77000  =      0.000 ...    77.000 secs...\n"
     ]
    },
    {
     "name": "stderr",
     "output_type": "stream",
     "text": [
      "C:\\Users\\marco\\AppData\\Local\\Temp\\ipykernel_6904\\2770616247.py:12: RuntimeWarning: This filename (../SEED_FRA_OUTPUT/NEGATIVE/8_2_trial_15_signals.fif) does not conform to MNE naming conventions. All raw files should end with raw.fif, raw_sss.fif, raw_tsss.fif, _meg.fif, _eeg.fif, _ieeg.fif, raw.fif.gz, raw_sss.fif.gz, raw_tsss.fif.gz, _meg.fif.gz, _eeg.fif.gz or _ieeg.fif.gz\n",
      "  eeg_data = mne.io.read_raw_fif(name, preload=True)\n"
     ]
    },
    {
     "name": "stdout",
     "output_type": "stream",
     "text": [
      "Opening raw data file ../SEED_FRA_OUTPUT/NEGATIVE/8_2_trial_18_signals.fif...\n",
      "    Range : 3369000 ... 3495000 =   3369.000 ...  3495.000 secs\n",
      "Ready.\n",
      "Reading 0 ... 126000  =      0.000 ...   126.000 secs...\n"
     ]
    },
    {
     "name": "stderr",
     "output_type": "stream",
     "text": [
      "C:\\Users\\marco\\AppData\\Local\\Temp\\ipykernel_6904\\2770616247.py:12: RuntimeWarning: This filename (../SEED_FRA_OUTPUT/NEGATIVE/8_2_trial_18_signals.fif) does not conform to MNE naming conventions. All raw files should end with raw.fif, raw_sss.fif, raw_tsss.fif, _meg.fif, _eeg.fif, _ieeg.fif, raw.fif.gz, raw_sss.fif.gz, raw_tsss.fif.gz, _meg.fif.gz, _eeg.fif.gz or _ieeg.fif.gz\n",
      "  eeg_data = mne.io.read_raw_fif(name, preload=True)\n"
     ]
    },
    {
     "name": "stdout",
     "output_type": "stream",
     "text": [
      "Opening raw data file ../SEED_FRA_OUTPUT/NEGATIVE/8_2_trial_1_signals.fif...\n",
      "    Range : 213000 ... 468000 =    213.000 ...   468.000 secs\n",
      "Ready.\n",
      "Reading 0 ... 255000  =      0.000 ...   255.000 secs...\n"
     ]
    },
    {
     "name": "stderr",
     "output_type": "stream",
     "text": [
      "C:\\Users\\marco\\AppData\\Local\\Temp\\ipykernel_6904\\2770616247.py:12: RuntimeWarning: This filename (../SEED_FRA_OUTPUT/NEGATIVE/8_2_trial_1_signals.fif) does not conform to MNE naming conventions. All raw files should end with raw.fif, raw_sss.fif, raw_tsss.fif, _meg.fif, _eeg.fif, _ieeg.fif, raw.fif.gz, raw_sss.fif.gz, raw_tsss.fif.gz, _meg.fif.gz, _eeg.fif.gz or _ieeg.fif.gz\n",
      "  eeg_data = mne.io.read_raw_fif(name, preload=True)\n"
     ]
    },
    {
     "name": "stdout",
     "output_type": "stream",
     "text": [
      "Opening raw data file ../SEED_FRA_OUTPUT/NEGATIVE/8_2_trial_3_signals.fif...\n",
      "    Range : 687000 ... 962000 =    687.000 ...   962.000 secs\n",
      "Ready.\n",
      "Reading 0 ... 275000  =      0.000 ...   275.000 secs...\n"
     ]
    },
    {
     "name": "stderr",
     "output_type": "stream",
     "text": [
      "C:\\Users\\marco\\AppData\\Local\\Temp\\ipykernel_6904\\2770616247.py:12: RuntimeWarning: This filename (../SEED_FRA_OUTPUT/NEGATIVE/8_2_trial_3_signals.fif) does not conform to MNE naming conventions. All raw files should end with raw.fif, raw_sss.fif, raw_tsss.fif, _meg.fif, _eeg.fif, _ieeg.fif, raw.fif.gz, raw_sss.fif.gz, raw_tsss.fif.gz, _meg.fif.gz, _eeg.fif.gz or _ieeg.fif.gz\n",
      "  eeg_data = mne.io.read_raw_fif(name, preload=True)\n"
     ]
    },
    {
     "name": "stdout",
     "output_type": "stream",
     "text": [
      "Opening raw data file ../SEED_FRA_OUTPUT/NEGATIVE/8_2_trial_6_signals.fif...\n",
      "    Range : 1252000 ... 1552000 =   1252.000 ...  1552.000 secs\n",
      "Ready.\n",
      "Reading 0 ... 300000  =      0.000 ...   300.000 secs...\n"
     ]
    },
    {
     "name": "stderr",
     "output_type": "stream",
     "text": [
      "C:\\Users\\marco\\AppData\\Local\\Temp\\ipykernel_6904\\2770616247.py:12: RuntimeWarning: This filename (../SEED_FRA_OUTPUT/NEGATIVE/8_2_trial_6_signals.fif) does not conform to MNE naming conventions. All raw files should end with raw.fif, raw_sss.fif, raw_tsss.fif, _meg.fif, _eeg.fif, _ieeg.fif, raw.fif.gz, raw_sss.fif.gz, raw_tsss.fif.gz, _meg.fif.gz, _eeg.fif.gz or _ieeg.fif.gz\n",
      "  eeg_data = mne.io.read_raw_fif(name, preload=True)\n"
     ]
    },
    {
     "name": "stdout",
     "output_type": "stream",
     "text": [
      "Opening raw data file ../SEED_FRA_OUTPUT/NEGATIVE/8_2_trial_9_signals.fif...\n",
      "    Range : 1887000 ... 2154000 =   1887.000 ...  2154.000 secs\n",
      "Ready.\n",
      "Reading 0 ... 267000  =      0.000 ...   267.000 secs...\n"
     ]
    },
    {
     "name": "stderr",
     "output_type": "stream",
     "text": [
      "C:\\Users\\marco\\AppData\\Local\\Temp\\ipykernel_6904\\2770616247.py:12: RuntimeWarning: This filename (../SEED_FRA_OUTPUT/NEGATIVE/8_2_trial_9_signals.fif) does not conform to MNE naming conventions. All raw files should end with raw.fif, raw_sss.fif, raw_tsss.fif, _meg.fif, _eeg.fif, _ieeg.fif, raw.fif.gz, raw_sss.fif.gz, raw_tsss.fif.gz, _meg.fif.gz, _eeg.fif.gz or _ieeg.fif.gz\n",
      "  eeg_data = mne.io.read_raw_fif(name, preload=True)\n"
     ]
    },
    {
     "name": "stdout",
     "output_type": "stream",
     "text": [
      "Opening raw data file ../SEED_FRA_OUTPUT/NEGATIVE/8_3_trial_14_signals.fif...\n",
      "    Range : 2783000 ... 2910000 =   2783.000 ...  2910.000 secs\n",
      "Ready.\n",
      "Reading 0 ... 127000  =      0.000 ...   127.000 secs...\n"
     ]
    },
    {
     "name": "stderr",
     "output_type": "stream",
     "text": [
      "C:\\Users\\marco\\AppData\\Local\\Temp\\ipykernel_6904\\2770616247.py:12: RuntimeWarning: This filename (../SEED_FRA_OUTPUT/NEGATIVE/8_3_trial_14_signals.fif) does not conform to MNE naming conventions. All raw files should end with raw.fif, raw_sss.fif, raw_tsss.fif, _meg.fif, _eeg.fif, _ieeg.fif, raw.fif.gz, raw_sss.fif.gz, raw_tsss.fif.gz, _meg.fif.gz, _eeg.fif.gz or _ieeg.fif.gz\n",
      "  eeg_data = mne.io.read_raw_fif(name, preload=True)\n"
     ]
    },
    {
     "name": "stdout",
     "output_type": "stream",
     "text": [
      "Opening raw data file ../SEED_FRA_OUTPUT/NEGATIVE/8_3_trial_15_signals.fif...\n",
      "    Range : 2931000 ... 3008000 =   2931.000 ...  3008.000 secs\n",
      "Ready.\n",
      "Reading 0 ... 77000  =      0.000 ...    77.000 secs...\n"
     ]
    },
    {
     "name": "stderr",
     "output_type": "stream",
     "text": [
      "C:\\Users\\marco\\AppData\\Local\\Temp\\ipykernel_6904\\2770616247.py:12: RuntimeWarning: This filename (../SEED_FRA_OUTPUT/NEGATIVE/8_3_trial_15_signals.fif) does not conform to MNE naming conventions. All raw files should end with raw.fif, raw_sss.fif, raw_tsss.fif, _meg.fif, _eeg.fif, _ieeg.fif, raw.fif.gz, raw_sss.fif.gz, raw_tsss.fif.gz, _meg.fif.gz, _eeg.fif.gz or _ieeg.fif.gz\n",
      "  eeg_data = mne.io.read_raw_fif(name, preload=True)\n"
     ]
    },
    {
     "name": "stdout",
     "output_type": "stream",
     "text": [
      "Opening raw data file ../SEED_FRA_OUTPUT/NEGATIVE/8_3_trial_18_signals.fif...\n",
      "    Range : 3369000 ... 3495000 =   3369.000 ...  3495.000 secs\n",
      "Ready.\n",
      "Reading 0 ... 126000  =      0.000 ...   126.000 secs...\n"
     ]
    },
    {
     "name": "stderr",
     "output_type": "stream",
     "text": [
      "C:\\Users\\marco\\AppData\\Local\\Temp\\ipykernel_6904\\2770616247.py:12: RuntimeWarning: This filename (../SEED_FRA_OUTPUT/NEGATIVE/8_3_trial_18_signals.fif) does not conform to MNE naming conventions. All raw files should end with raw.fif, raw_sss.fif, raw_tsss.fif, _meg.fif, _eeg.fif, _ieeg.fif, raw.fif.gz, raw_sss.fif.gz, raw_tsss.fif.gz, _meg.fif.gz, _eeg.fif.gz or _ieeg.fif.gz\n",
      "  eeg_data = mne.io.read_raw_fif(name, preload=True)\n"
     ]
    },
    {
     "name": "stdout",
     "output_type": "stream",
     "text": [
      "Opening raw data file ../SEED_FRA_OUTPUT/NEGATIVE/8_3_trial_1_signals.fif...\n",
      "    Range : 213000 ... 468000 =    213.000 ...   468.000 secs\n",
      "Ready.\n",
      "Reading 0 ... 255000  =      0.000 ...   255.000 secs...\n"
     ]
    },
    {
     "name": "stderr",
     "output_type": "stream",
     "text": [
      "C:\\Users\\marco\\AppData\\Local\\Temp\\ipykernel_6904\\2770616247.py:12: RuntimeWarning: This filename (../SEED_FRA_OUTPUT/NEGATIVE/8_3_trial_1_signals.fif) does not conform to MNE naming conventions. All raw files should end with raw.fif, raw_sss.fif, raw_tsss.fif, _meg.fif, _eeg.fif, _ieeg.fif, raw.fif.gz, raw_sss.fif.gz, raw_tsss.fif.gz, _meg.fif.gz, _eeg.fif.gz or _ieeg.fif.gz\n",
      "  eeg_data = mne.io.read_raw_fif(name, preload=True)\n"
     ]
    },
    {
     "name": "stdout",
     "output_type": "stream",
     "text": [
      "Opening raw data file ../SEED_FRA_OUTPUT/NEGATIVE/8_3_trial_3_signals.fif...\n",
      "    Range : 687000 ... 962000 =    687.000 ...   962.000 secs\n",
      "Ready.\n",
      "Reading 0 ... 275000  =      0.000 ...   275.000 secs...\n"
     ]
    },
    {
     "name": "stderr",
     "output_type": "stream",
     "text": [
      "C:\\Users\\marco\\AppData\\Local\\Temp\\ipykernel_6904\\2770616247.py:12: RuntimeWarning: This filename (../SEED_FRA_OUTPUT/NEGATIVE/8_3_trial_3_signals.fif) does not conform to MNE naming conventions. All raw files should end with raw.fif, raw_sss.fif, raw_tsss.fif, _meg.fif, _eeg.fif, _ieeg.fif, raw.fif.gz, raw_sss.fif.gz, raw_tsss.fif.gz, _meg.fif.gz, _eeg.fif.gz or _ieeg.fif.gz\n",
      "  eeg_data = mne.io.read_raw_fif(name, preload=True)\n"
     ]
    },
    {
     "name": "stdout",
     "output_type": "stream",
     "text": [
      "Opening raw data file ../SEED_FRA_OUTPUT/NEGATIVE/8_3_trial_6_signals.fif...\n",
      "    Range : 1252000 ... 1552000 =   1252.000 ...  1552.000 secs\n",
      "Ready.\n",
      "Reading 0 ... 300000  =      0.000 ...   300.000 secs...\n"
     ]
    },
    {
     "name": "stderr",
     "output_type": "stream",
     "text": [
      "C:\\Users\\marco\\AppData\\Local\\Temp\\ipykernel_6904\\2770616247.py:12: RuntimeWarning: This filename (../SEED_FRA_OUTPUT/NEGATIVE/8_3_trial_6_signals.fif) does not conform to MNE naming conventions. All raw files should end with raw.fif, raw_sss.fif, raw_tsss.fif, _meg.fif, _eeg.fif, _ieeg.fif, raw.fif.gz, raw_sss.fif.gz, raw_tsss.fif.gz, _meg.fif.gz, _eeg.fif.gz or _ieeg.fif.gz\n",
      "  eeg_data = mne.io.read_raw_fif(name, preload=True)\n"
     ]
    },
    {
     "name": "stdout",
     "output_type": "stream",
     "text": [
      "Opening raw data file ../SEED_FRA_OUTPUT/NEGATIVE/8_3_trial_9_signals.fif...\n",
      "    Range : 1887000 ... 2154000 =   1887.000 ...  2154.000 secs\n",
      "Ready.\n",
      "Reading 0 ... 267000  =      0.000 ...   267.000 secs...\n"
     ]
    },
    {
     "name": "stderr",
     "output_type": "stream",
     "text": [
      "C:\\Users\\marco\\AppData\\Local\\Temp\\ipykernel_6904\\2770616247.py:12: RuntimeWarning: This filename (../SEED_FRA_OUTPUT/NEGATIVE/8_3_trial_9_signals.fif) does not conform to MNE naming conventions. All raw files should end with raw.fif, raw_sss.fif, raw_tsss.fif, _meg.fif, _eeg.fif, _ieeg.fif, raw.fif.gz, raw_sss.fif.gz, raw_tsss.fif.gz, _meg.fif.gz, _eeg.fif.gz or _ieeg.fif.gz\n",
      "  eeg_data = mne.io.read_raw_fif(name, preload=True)\n"
     ]
    },
    {
     "name": "stdout",
     "output_type": "stream",
     "text": [
      "Opening raw data file ../SEED_FRA_OUTPUT/NEUTRAL/1_1_trial_10_signals.fif...\n",
      "    Range : 2174000 ... 2307000 =   2174.000 ...  2307.000 secs\n",
      "Ready.\n",
      "Reading 0 ... 133000  =      0.000 ...   133.000 secs...\n"
     ]
    },
    {
     "name": "stderr",
     "output_type": "stream",
     "text": [
      "C:\\Users\\marco\\AppData\\Local\\Temp\\ipykernel_6904\\2770616247.py:12: RuntimeWarning: This filename (../SEED_FRA_OUTPUT/NEUTRAL/1_1_trial_10_signals.fif) does not conform to MNE naming conventions. All raw files should end with raw.fif, raw_sss.fif, raw_tsss.fif, _meg.fif, _eeg.fif, _ieeg.fif, raw.fif.gz, raw_sss.fif.gz, raw_tsss.fif.gz, _meg.fif.gz, _eeg.fif.gz or _ieeg.fif.gz\n",
      "  eeg_data = mne.io.read_raw_fif(name, preload=True)\n"
     ]
    },
    {
     "name": "stdout",
     "output_type": "stream",
     "text": [
      "Opening raw data file ../SEED_FRA_OUTPUT/NEUTRAL/1_1_trial_13_signals.fif...\n",
      "    Range : 2619000 ... 2763000 =   2619.000 ...  2763.000 secs\n",
      "Ready.\n",
      "Reading 0 ... 144000  =      0.000 ...   144.000 secs...\n"
     ]
    },
    {
     "name": "stderr",
     "output_type": "stream",
     "text": [
      "C:\\Users\\marco\\AppData\\Local\\Temp\\ipykernel_6904\\2770616247.py:12: RuntimeWarning: This filename (../SEED_FRA_OUTPUT/NEUTRAL/1_1_trial_13_signals.fif) does not conform to MNE naming conventions. All raw files should end with raw.fif, raw_sss.fif, raw_tsss.fif, _meg.fif, _eeg.fif, _ieeg.fif, raw.fif.gz, raw_sss.fif.gz, raw_tsss.fif.gz, _meg.fif.gz, _eeg.fif.gz or _ieeg.fif.gz\n",
      "  eeg_data = mne.io.read_raw_fif(name, preload=True)\n"
     ]
    },
    {
     "name": "stdout",
     "output_type": "stream",
     "text": [
      "Opening raw data file ../SEED_FRA_OUTPUT/NEUTRAL/1_1_trial_16_signals.fif...\n",
      "    Range : 3029000 ... 3195000 =   3029.000 ...  3195.000 secs\n",
      "Ready.\n",
      "Reading 0 ... 166000  =      0.000 ...   166.000 secs...\n"
     ]
    },
    {
     "name": "stderr",
     "output_type": "stream",
     "text": [
      "C:\\Users\\marco\\AppData\\Local\\Temp\\ipykernel_6904\\2770616247.py:12: RuntimeWarning: This filename (../SEED_FRA_OUTPUT/NEUTRAL/1_1_trial_16_signals.fif) does not conform to MNE naming conventions. All raw files should end with raw.fif, raw_sss.fif, raw_tsss.fif, _meg.fif, _eeg.fif, _ieeg.fif, raw.fif.gz, raw_sss.fif.gz, raw_tsss.fif.gz, _meg.fif.gz, _eeg.fif.gz or _ieeg.fif.gz\n",
      "  eeg_data = mne.io.read_raw_fif(name, preload=True)\n"
     ]
    },
    {
     "name": "stdout",
     "output_type": "stream",
     "text": [
      "Opening raw data file ../SEED_FRA_OUTPUT/NEUTRAL/1_1_trial_19_signals.fif...\n",
      "    Range : 3515000 ... 3602000 =   3515.000 ...  3602.000 secs\n",
      "Ready.\n",
      "Reading 0 ... 87000  =      0.000 ...    87.000 secs...\n"
     ]
    },
    {
     "name": "stderr",
     "output_type": "stream",
     "text": [
      "C:\\Users\\marco\\AppData\\Local\\Temp\\ipykernel_6904\\2770616247.py:12: RuntimeWarning: This filename (../SEED_FRA_OUTPUT/NEUTRAL/1_1_trial_19_signals.fif) does not conform to MNE naming conventions. All raw files should end with raw.fif, raw_sss.fif, raw_tsss.fif, _meg.fif, _eeg.fif, _ieeg.fif, raw.fif.gz, raw_sss.fif.gz, raw_tsss.fif.gz, _meg.fif.gz, _eeg.fif.gz or _ieeg.fif.gz\n",
      "  eeg_data = mne.io.read_raw_fif(name, preload=True)\n"
     ]
    },
    {
     "name": "stdout",
     "output_type": "stream",
     "text": [
      "Opening raw data file ../SEED_FRA_OUTPUT/NEUTRAL/1_1_trial_2_signals.fif...\n",
      "    Range : 489000 ... 667000 =    489.000 ...   667.000 secs\n",
      "Ready.\n",
      "Reading 0 ... 178000  =      0.000 ...   178.000 secs...\n"
     ]
    },
    {
     "name": "stderr",
     "output_type": "stream",
     "text": [
      "C:\\Users\\marco\\AppData\\Local\\Temp\\ipykernel_6904\\2770616247.py:12: RuntimeWarning: This filename (../SEED_FRA_OUTPUT/NEUTRAL/1_1_trial_2_signals.fif) does not conform to MNE naming conventions. All raw files should end with raw.fif, raw_sss.fif, raw_tsss.fif, _meg.fif, _eeg.fif, _ieeg.fif, raw.fif.gz, raw_sss.fif.gz, raw_tsss.fif.gz, _meg.fif.gz, _eeg.fif.gz or _ieeg.fif.gz\n",
      "  eeg_data = mne.io.read_raw_fif(name, preload=True)\n"
     ]
    },
    {
     "name": "stdout",
     "output_type": "stream",
     "text": [
      "Opening raw data file ../SEED_FRA_OUTPUT/NEUTRAL/1_1_trial_5_signals.fif...\n",
      "    Range : 1103000 ... 1232000 =   1103.000 ...  1232.000 secs\n",
      "Ready.\n",
      "Reading 0 ... 129000  =      0.000 ...   129.000 secs...\n"
     ]
    },
    {
     "name": "stderr",
     "output_type": "stream",
     "text": [
      "C:\\Users\\marco\\AppData\\Local\\Temp\\ipykernel_6904\\2770616247.py:12: RuntimeWarning: This filename (../SEED_FRA_OUTPUT/NEUTRAL/1_1_trial_5_signals.fif) does not conform to MNE naming conventions. All raw files should end with raw.fif, raw_sss.fif, raw_tsss.fif, _meg.fif, _eeg.fif, _ieeg.fif, raw.fif.gz, raw_sss.fif.gz, raw_tsss.fif.gz, _meg.fif.gz, _eeg.fif.gz or _ieeg.fif.gz\n",
      "  eeg_data = mne.io.read_raw_fif(name, preload=True)\n"
     ]
    },
    {
     "name": "stdout",
     "output_type": "stream",
     "text": [
      "Opening raw data file ../SEED_FRA_OUTPUT/NEUTRAL/1_1_trial_7_signals.fif...\n",
      "    Range : 1572000 ... 1718000 =   1572.000 ...  1718.000 secs\n",
      "Ready.\n",
      "Reading 0 ... 146000  =      0.000 ...   146.000 secs...\n"
     ]
    },
    {
     "name": "stderr",
     "output_type": "stream",
     "text": [
      "C:\\Users\\marco\\AppData\\Local\\Temp\\ipykernel_6904\\2770616247.py:12: RuntimeWarning: This filename (../SEED_FRA_OUTPUT/NEUTRAL/1_1_trial_7_signals.fif) does not conform to MNE naming conventions. All raw files should end with raw.fif, raw_sss.fif, raw_tsss.fif, _meg.fif, _eeg.fif, _ieeg.fif, raw.fif.gz, raw_sss.fif.gz, raw_tsss.fif.gz, _meg.fif.gz, _eeg.fif.gz or _ieeg.fif.gz\n",
      "  eeg_data = mne.io.read_raw_fif(name, preload=True)\n"
     ]
    },
    {
     "name": "stdout",
     "output_type": "stream",
     "text": [
      "Opening raw data file ../SEED_FRA_OUTPUT/NEUTRAL/1_2_trial_10_signals.fif...\n",
      "    Range : 2174000 ... 2307000 =   2174.000 ...  2307.000 secs\n",
      "Ready.\n",
      "Reading 0 ... 133000  =      0.000 ...   133.000 secs...\n"
     ]
    },
    {
     "name": "stderr",
     "output_type": "stream",
     "text": [
      "C:\\Users\\marco\\AppData\\Local\\Temp\\ipykernel_6904\\2770616247.py:12: RuntimeWarning: This filename (../SEED_FRA_OUTPUT/NEUTRAL/1_2_trial_10_signals.fif) does not conform to MNE naming conventions. All raw files should end with raw.fif, raw_sss.fif, raw_tsss.fif, _meg.fif, _eeg.fif, _ieeg.fif, raw.fif.gz, raw_sss.fif.gz, raw_tsss.fif.gz, _meg.fif.gz, _eeg.fif.gz or _ieeg.fif.gz\n",
      "  eeg_data = mne.io.read_raw_fif(name, preload=True)\n"
     ]
    },
    {
     "name": "stdout",
     "output_type": "stream",
     "text": [
      "Opening raw data file ../SEED_FRA_OUTPUT/NEUTRAL/1_2_trial_13_signals.fif...\n",
      "    Range : 2619000 ... 2763000 =   2619.000 ...  2763.000 secs\n",
      "Ready.\n",
      "Reading 0 ... 144000  =      0.000 ...   144.000 secs...\n"
     ]
    },
    {
     "name": "stderr",
     "output_type": "stream",
     "text": [
      "C:\\Users\\marco\\AppData\\Local\\Temp\\ipykernel_6904\\2770616247.py:12: RuntimeWarning: This filename (../SEED_FRA_OUTPUT/NEUTRAL/1_2_trial_13_signals.fif) does not conform to MNE naming conventions. All raw files should end with raw.fif, raw_sss.fif, raw_tsss.fif, _meg.fif, _eeg.fif, _ieeg.fif, raw.fif.gz, raw_sss.fif.gz, raw_tsss.fif.gz, _meg.fif.gz, _eeg.fif.gz or _ieeg.fif.gz\n",
      "  eeg_data = mne.io.read_raw_fif(name, preload=True)\n"
     ]
    },
    {
     "name": "stdout",
     "output_type": "stream",
     "text": [
      "Opening raw data file ../SEED_FRA_OUTPUT/NEUTRAL/1_2_trial_16_signals.fif...\n",
      "    Range : 3029000 ... 3195000 =   3029.000 ...  3195.000 secs\n",
      "Ready.\n",
      "Reading 0 ... 166000  =      0.000 ...   166.000 secs...\n"
     ]
    },
    {
     "name": "stderr",
     "output_type": "stream",
     "text": [
      "C:\\Users\\marco\\AppData\\Local\\Temp\\ipykernel_6904\\2770616247.py:12: RuntimeWarning: This filename (../SEED_FRA_OUTPUT/NEUTRAL/1_2_trial_16_signals.fif) does not conform to MNE naming conventions. All raw files should end with raw.fif, raw_sss.fif, raw_tsss.fif, _meg.fif, _eeg.fif, _ieeg.fif, raw.fif.gz, raw_sss.fif.gz, raw_tsss.fif.gz, _meg.fif.gz, _eeg.fif.gz or _ieeg.fif.gz\n",
      "  eeg_data = mne.io.read_raw_fif(name, preload=True)\n"
     ]
    },
    {
     "name": "stdout",
     "output_type": "stream",
     "text": [
      "Opening raw data file ../SEED_FRA_OUTPUT/NEUTRAL/1_2_trial_19_signals.fif...\n",
      "    Range : 3515000 ... 3602000 =   3515.000 ...  3602.000 secs\n",
      "Ready.\n",
      "Reading 0 ... 87000  =      0.000 ...    87.000 secs...\n"
     ]
    },
    {
     "name": "stderr",
     "output_type": "stream",
     "text": [
      "C:\\Users\\marco\\AppData\\Local\\Temp\\ipykernel_6904\\2770616247.py:12: RuntimeWarning: This filename (../SEED_FRA_OUTPUT/NEUTRAL/1_2_trial_19_signals.fif) does not conform to MNE naming conventions. All raw files should end with raw.fif, raw_sss.fif, raw_tsss.fif, _meg.fif, _eeg.fif, _ieeg.fif, raw.fif.gz, raw_sss.fif.gz, raw_tsss.fif.gz, _meg.fif.gz, _eeg.fif.gz or _ieeg.fif.gz\n",
      "  eeg_data = mne.io.read_raw_fif(name, preload=True)\n"
     ]
    },
    {
     "name": "stdout",
     "output_type": "stream",
     "text": [
      "Opening raw data file ../SEED_FRA_OUTPUT/NEUTRAL/1_2_trial_2_signals.fif...\n",
      "    Range : 489000 ... 667000 =    489.000 ...   667.000 secs\n",
      "Ready.\n",
      "Reading 0 ... 178000  =      0.000 ...   178.000 secs...\n"
     ]
    },
    {
     "name": "stderr",
     "output_type": "stream",
     "text": [
      "C:\\Users\\marco\\AppData\\Local\\Temp\\ipykernel_6904\\2770616247.py:12: RuntimeWarning: This filename (../SEED_FRA_OUTPUT/NEUTRAL/1_2_trial_2_signals.fif) does not conform to MNE naming conventions. All raw files should end with raw.fif, raw_sss.fif, raw_tsss.fif, _meg.fif, _eeg.fif, _ieeg.fif, raw.fif.gz, raw_sss.fif.gz, raw_tsss.fif.gz, _meg.fif.gz, _eeg.fif.gz or _ieeg.fif.gz\n",
      "  eeg_data = mne.io.read_raw_fif(name, preload=True)\n"
     ]
    },
    {
     "name": "stdout",
     "output_type": "stream",
     "text": [
      "Opening raw data file ../SEED_FRA_OUTPUT/NEUTRAL/1_2_trial_5_signals.fif...\n",
      "    Range : 1103000 ... 1232000 =   1103.000 ...  1232.000 secs\n",
      "Ready.\n",
      "Reading 0 ... 129000  =      0.000 ...   129.000 secs...\n"
     ]
    },
    {
     "name": "stderr",
     "output_type": "stream",
     "text": [
      "C:\\Users\\marco\\AppData\\Local\\Temp\\ipykernel_6904\\2770616247.py:12: RuntimeWarning: This filename (../SEED_FRA_OUTPUT/NEUTRAL/1_2_trial_5_signals.fif) does not conform to MNE naming conventions. All raw files should end with raw.fif, raw_sss.fif, raw_tsss.fif, _meg.fif, _eeg.fif, _ieeg.fif, raw.fif.gz, raw_sss.fif.gz, raw_tsss.fif.gz, _meg.fif.gz, _eeg.fif.gz or _ieeg.fif.gz\n",
      "  eeg_data = mne.io.read_raw_fif(name, preload=True)\n"
     ]
    },
    {
     "name": "stdout",
     "output_type": "stream",
     "text": [
      "Opening raw data file ../SEED_FRA_OUTPUT/NEUTRAL/1_2_trial_7_signals.fif...\n",
      "    Range : 1572000 ... 1718000 =   1572.000 ...  1718.000 secs\n",
      "Ready.\n",
      "Reading 0 ... 146000  =      0.000 ...   146.000 secs...\n"
     ]
    },
    {
     "name": "stderr",
     "output_type": "stream",
     "text": [
      "C:\\Users\\marco\\AppData\\Local\\Temp\\ipykernel_6904\\2770616247.py:12: RuntimeWarning: This filename (../SEED_FRA_OUTPUT/NEUTRAL/1_2_trial_7_signals.fif) does not conform to MNE naming conventions. All raw files should end with raw.fif, raw_sss.fif, raw_tsss.fif, _meg.fif, _eeg.fif, _ieeg.fif, raw.fif.gz, raw_sss.fif.gz, raw_tsss.fif.gz, _meg.fif.gz, _eeg.fif.gz or _ieeg.fif.gz\n",
      "  eeg_data = mne.io.read_raw_fif(name, preload=True)\n"
     ]
    },
    {
     "name": "stdout",
     "output_type": "stream",
     "text": [
      "Opening raw data file ../SEED_FRA_OUTPUT/NEUTRAL/1_3_trial_10_signals.fif...\n",
      "    Range : 2174000 ... 2307000 =   2174.000 ...  2307.000 secs\n",
      "Ready.\n",
      "Reading 0 ... 133000  =      0.000 ...   133.000 secs...\n"
     ]
    },
    {
     "name": "stderr",
     "output_type": "stream",
     "text": [
      "C:\\Users\\marco\\AppData\\Local\\Temp\\ipykernel_6904\\2770616247.py:12: RuntimeWarning: This filename (../SEED_FRA_OUTPUT/NEUTRAL/1_3_trial_10_signals.fif) does not conform to MNE naming conventions. All raw files should end with raw.fif, raw_sss.fif, raw_tsss.fif, _meg.fif, _eeg.fif, _ieeg.fif, raw.fif.gz, raw_sss.fif.gz, raw_tsss.fif.gz, _meg.fif.gz, _eeg.fif.gz or _ieeg.fif.gz\n",
      "  eeg_data = mne.io.read_raw_fif(name, preload=True)\n"
     ]
    },
    {
     "name": "stdout",
     "output_type": "stream",
     "text": [
      "Opening raw data file ../SEED_FRA_OUTPUT/NEUTRAL/1_3_trial_13_signals.fif...\n",
      "    Range : 2619000 ... 2763000 =   2619.000 ...  2763.000 secs\n",
      "Ready.\n",
      "Reading 0 ... 144000  =      0.000 ...   144.000 secs...\n"
     ]
    },
    {
     "name": "stderr",
     "output_type": "stream",
     "text": [
      "C:\\Users\\marco\\AppData\\Local\\Temp\\ipykernel_6904\\2770616247.py:12: RuntimeWarning: This filename (../SEED_FRA_OUTPUT/NEUTRAL/1_3_trial_13_signals.fif) does not conform to MNE naming conventions. All raw files should end with raw.fif, raw_sss.fif, raw_tsss.fif, _meg.fif, _eeg.fif, _ieeg.fif, raw.fif.gz, raw_sss.fif.gz, raw_tsss.fif.gz, _meg.fif.gz, _eeg.fif.gz or _ieeg.fif.gz\n",
      "  eeg_data = mne.io.read_raw_fif(name, preload=True)\n"
     ]
    },
    {
     "name": "stdout",
     "output_type": "stream",
     "text": [
      "Opening raw data file ../SEED_FRA_OUTPUT/NEUTRAL/1_3_trial_16_signals.fif...\n",
      "    Range : 3029000 ... 3195000 =   3029.000 ...  3195.000 secs\n",
      "Ready.\n",
      "Reading 0 ... 166000  =      0.000 ...   166.000 secs...\n"
     ]
    },
    {
     "name": "stderr",
     "output_type": "stream",
     "text": [
      "C:\\Users\\marco\\AppData\\Local\\Temp\\ipykernel_6904\\2770616247.py:12: RuntimeWarning: This filename (../SEED_FRA_OUTPUT/NEUTRAL/1_3_trial_16_signals.fif) does not conform to MNE naming conventions. All raw files should end with raw.fif, raw_sss.fif, raw_tsss.fif, _meg.fif, _eeg.fif, _ieeg.fif, raw.fif.gz, raw_sss.fif.gz, raw_tsss.fif.gz, _meg.fif.gz, _eeg.fif.gz or _ieeg.fif.gz\n",
      "  eeg_data = mne.io.read_raw_fif(name, preload=True)\n"
     ]
    },
    {
     "name": "stdout",
     "output_type": "stream",
     "text": [
      "Opening raw data file ../SEED_FRA_OUTPUT/NEUTRAL/1_3_trial_19_signals.fif...\n",
      "    Range : 3515000 ... 3602000 =   3515.000 ...  3602.000 secs\n",
      "Ready.\n",
      "Reading 0 ... 87000  =      0.000 ...    87.000 secs...\n"
     ]
    },
    {
     "name": "stderr",
     "output_type": "stream",
     "text": [
      "C:\\Users\\marco\\AppData\\Local\\Temp\\ipykernel_6904\\2770616247.py:12: RuntimeWarning: This filename (../SEED_FRA_OUTPUT/NEUTRAL/1_3_trial_19_signals.fif) does not conform to MNE naming conventions. All raw files should end with raw.fif, raw_sss.fif, raw_tsss.fif, _meg.fif, _eeg.fif, _ieeg.fif, raw.fif.gz, raw_sss.fif.gz, raw_tsss.fif.gz, _meg.fif.gz, _eeg.fif.gz or _ieeg.fif.gz\n",
      "  eeg_data = mne.io.read_raw_fif(name, preload=True)\n"
     ]
    },
    {
     "name": "stdout",
     "output_type": "stream",
     "text": [
      "Opening raw data file ../SEED_FRA_OUTPUT/NEUTRAL/1_3_trial_2_signals.fif...\n",
      "    Range : 489000 ... 667000 =    489.000 ...   667.000 secs\n",
      "Ready.\n",
      "Reading 0 ... 178000  =      0.000 ...   178.000 secs...\n"
     ]
    },
    {
     "name": "stderr",
     "output_type": "stream",
     "text": [
      "C:\\Users\\marco\\AppData\\Local\\Temp\\ipykernel_6904\\2770616247.py:12: RuntimeWarning: This filename (../SEED_FRA_OUTPUT/NEUTRAL/1_3_trial_2_signals.fif) does not conform to MNE naming conventions. All raw files should end with raw.fif, raw_sss.fif, raw_tsss.fif, _meg.fif, _eeg.fif, _ieeg.fif, raw.fif.gz, raw_sss.fif.gz, raw_tsss.fif.gz, _meg.fif.gz, _eeg.fif.gz or _ieeg.fif.gz\n",
      "  eeg_data = mne.io.read_raw_fif(name, preload=True)\n"
     ]
    },
    {
     "name": "stdout",
     "output_type": "stream",
     "text": [
      "Opening raw data file ../SEED_FRA_OUTPUT/NEUTRAL/1_3_trial_5_signals.fif...\n",
      "    Range : 1103000 ... 1232000 =   1103.000 ...  1232.000 secs\n",
      "Ready.\n",
      "Reading 0 ... 129000  =      0.000 ...   129.000 secs...\n"
     ]
    },
    {
     "name": "stderr",
     "output_type": "stream",
     "text": [
      "C:\\Users\\marco\\AppData\\Local\\Temp\\ipykernel_6904\\2770616247.py:12: RuntimeWarning: This filename (../SEED_FRA_OUTPUT/NEUTRAL/1_3_trial_5_signals.fif) does not conform to MNE naming conventions. All raw files should end with raw.fif, raw_sss.fif, raw_tsss.fif, _meg.fif, _eeg.fif, _ieeg.fif, raw.fif.gz, raw_sss.fif.gz, raw_tsss.fif.gz, _meg.fif.gz, _eeg.fif.gz or _ieeg.fif.gz\n",
      "  eeg_data = mne.io.read_raw_fif(name, preload=True)\n"
     ]
    },
    {
     "name": "stdout",
     "output_type": "stream",
     "text": [
      "Opening raw data file ../SEED_FRA_OUTPUT/NEUTRAL/1_3_trial_7_signals.fif...\n",
      "    Range : 1572000 ... 1718000 =   1572.000 ...  1718.000 secs\n",
      "Ready.\n",
      "Reading 0 ... 146000  =      0.000 ...   146.000 secs...\n"
     ]
    },
    {
     "name": "stderr",
     "output_type": "stream",
     "text": [
      "C:\\Users\\marco\\AppData\\Local\\Temp\\ipykernel_6904\\2770616247.py:12: RuntimeWarning: This filename (../SEED_FRA_OUTPUT/NEUTRAL/1_3_trial_7_signals.fif) does not conform to MNE naming conventions. All raw files should end with raw.fif, raw_sss.fif, raw_tsss.fif, _meg.fif, _eeg.fif, _ieeg.fif, raw.fif.gz, raw_sss.fif.gz, raw_tsss.fif.gz, _meg.fif.gz, _eeg.fif.gz or _ieeg.fif.gz\n",
      "  eeg_data = mne.io.read_raw_fif(name, preload=True)\n"
     ]
    },
    {
     "name": "stdout",
     "output_type": "stream",
     "text": [
      "Opening raw data file ../SEED_FRA_OUTPUT/NEUTRAL/2_1_trial_10_signals.fif...\n",
      "    Range : 2174000 ... 2307000 =   2174.000 ...  2307.000 secs\n",
      "Ready.\n",
      "Reading 0 ... 133000  =      0.000 ...   133.000 secs...\n"
     ]
    },
    {
     "name": "stderr",
     "output_type": "stream",
     "text": [
      "C:\\Users\\marco\\AppData\\Local\\Temp\\ipykernel_6904\\2770616247.py:12: RuntimeWarning: This filename (../SEED_FRA_OUTPUT/NEUTRAL/2_1_trial_10_signals.fif) does not conform to MNE naming conventions. All raw files should end with raw.fif, raw_sss.fif, raw_tsss.fif, _meg.fif, _eeg.fif, _ieeg.fif, raw.fif.gz, raw_sss.fif.gz, raw_tsss.fif.gz, _meg.fif.gz, _eeg.fif.gz or _ieeg.fif.gz\n",
      "  eeg_data = mne.io.read_raw_fif(name, preload=True)\n"
     ]
    },
    {
     "name": "stdout",
     "output_type": "stream",
     "text": [
      "Opening raw data file ../SEED_FRA_OUTPUT/NEUTRAL/2_1_trial_13_signals.fif...\n",
      "    Range : 2619000 ... 2763000 =   2619.000 ...  2763.000 secs\n",
      "Ready.\n",
      "Reading 0 ... 144000  =      0.000 ...   144.000 secs...\n"
     ]
    },
    {
     "name": "stderr",
     "output_type": "stream",
     "text": [
      "C:\\Users\\marco\\AppData\\Local\\Temp\\ipykernel_6904\\2770616247.py:12: RuntimeWarning: This filename (../SEED_FRA_OUTPUT/NEUTRAL/2_1_trial_13_signals.fif) does not conform to MNE naming conventions. All raw files should end with raw.fif, raw_sss.fif, raw_tsss.fif, _meg.fif, _eeg.fif, _ieeg.fif, raw.fif.gz, raw_sss.fif.gz, raw_tsss.fif.gz, _meg.fif.gz, _eeg.fif.gz or _ieeg.fif.gz\n",
      "  eeg_data = mne.io.read_raw_fif(name, preload=True)\n"
     ]
    },
    {
     "name": "stdout",
     "output_type": "stream",
     "text": [
      "Opening raw data file ../SEED_FRA_OUTPUT/NEUTRAL/2_1_trial_16_signals.fif...\n",
      "    Range : 3029000 ... 3195000 =   3029.000 ...  3195.000 secs\n",
      "Ready.\n",
      "Reading 0 ... 166000  =      0.000 ...   166.000 secs...\n"
     ]
    },
    {
     "name": "stderr",
     "output_type": "stream",
     "text": [
      "C:\\Users\\marco\\AppData\\Local\\Temp\\ipykernel_6904\\2770616247.py:12: RuntimeWarning: This filename (../SEED_FRA_OUTPUT/NEUTRAL/2_1_trial_16_signals.fif) does not conform to MNE naming conventions. All raw files should end with raw.fif, raw_sss.fif, raw_tsss.fif, _meg.fif, _eeg.fif, _ieeg.fif, raw.fif.gz, raw_sss.fif.gz, raw_tsss.fif.gz, _meg.fif.gz, _eeg.fif.gz or _ieeg.fif.gz\n",
      "  eeg_data = mne.io.read_raw_fif(name, preload=True)\n"
     ]
    },
    {
     "name": "stdout",
     "output_type": "stream",
     "text": [
      "Opening raw data file ../SEED_FRA_OUTPUT/NEUTRAL/2_1_trial_19_signals.fif...\n",
      "    Range : 3515000 ... 3602000 =   3515.000 ...  3602.000 secs\n",
      "Ready.\n",
      "Reading 0 ... 87000  =      0.000 ...    87.000 secs...\n"
     ]
    },
    {
     "name": "stderr",
     "output_type": "stream",
     "text": [
      "C:\\Users\\marco\\AppData\\Local\\Temp\\ipykernel_6904\\2770616247.py:12: RuntimeWarning: This filename (../SEED_FRA_OUTPUT/NEUTRAL/2_1_trial_19_signals.fif) does not conform to MNE naming conventions. All raw files should end with raw.fif, raw_sss.fif, raw_tsss.fif, _meg.fif, _eeg.fif, _ieeg.fif, raw.fif.gz, raw_sss.fif.gz, raw_tsss.fif.gz, _meg.fif.gz, _eeg.fif.gz or _ieeg.fif.gz\n",
      "  eeg_data = mne.io.read_raw_fif(name, preload=True)\n"
     ]
    },
    {
     "name": "stdout",
     "output_type": "stream",
     "text": [
      "Opening raw data file ../SEED_FRA_OUTPUT/NEUTRAL/2_1_trial_2_signals.fif...\n",
      "    Range : 489000 ... 667000 =    489.000 ...   667.000 secs\n",
      "Ready.\n",
      "Reading 0 ... 178000  =      0.000 ...   178.000 secs...\n"
     ]
    },
    {
     "name": "stderr",
     "output_type": "stream",
     "text": [
      "C:\\Users\\marco\\AppData\\Local\\Temp\\ipykernel_6904\\2770616247.py:12: RuntimeWarning: This filename (../SEED_FRA_OUTPUT/NEUTRAL/2_1_trial_2_signals.fif) does not conform to MNE naming conventions. All raw files should end with raw.fif, raw_sss.fif, raw_tsss.fif, _meg.fif, _eeg.fif, _ieeg.fif, raw.fif.gz, raw_sss.fif.gz, raw_tsss.fif.gz, _meg.fif.gz, _eeg.fif.gz or _ieeg.fif.gz\n",
      "  eeg_data = mne.io.read_raw_fif(name, preload=True)\n"
     ]
    },
    {
     "name": "stdout",
     "output_type": "stream",
     "text": [
      "Opening raw data file ../SEED_FRA_OUTPUT/NEUTRAL/2_1_trial_5_signals.fif...\n",
      "    Range : 1103000 ... 1232000 =   1103.000 ...  1232.000 secs\n",
      "Ready.\n",
      "Reading 0 ... 129000  =      0.000 ...   129.000 secs...\n"
     ]
    },
    {
     "name": "stderr",
     "output_type": "stream",
     "text": [
      "C:\\Users\\marco\\AppData\\Local\\Temp\\ipykernel_6904\\2770616247.py:12: RuntimeWarning: This filename (../SEED_FRA_OUTPUT/NEUTRAL/2_1_trial_5_signals.fif) does not conform to MNE naming conventions. All raw files should end with raw.fif, raw_sss.fif, raw_tsss.fif, _meg.fif, _eeg.fif, _ieeg.fif, raw.fif.gz, raw_sss.fif.gz, raw_tsss.fif.gz, _meg.fif.gz, _eeg.fif.gz or _ieeg.fif.gz\n",
      "  eeg_data = mne.io.read_raw_fif(name, preload=True)\n"
     ]
    },
    {
     "name": "stdout",
     "output_type": "stream",
     "text": [
      "Opening raw data file ../SEED_FRA_OUTPUT/NEUTRAL/2_1_trial_7_signals.fif...\n",
      "    Range : 1572000 ... 1718000 =   1572.000 ...  1718.000 secs\n",
      "Ready.\n",
      "Reading 0 ... 146000  =      0.000 ...   146.000 secs...\n"
     ]
    },
    {
     "name": "stderr",
     "output_type": "stream",
     "text": [
      "C:\\Users\\marco\\AppData\\Local\\Temp\\ipykernel_6904\\2770616247.py:12: RuntimeWarning: This filename (../SEED_FRA_OUTPUT/NEUTRAL/2_1_trial_7_signals.fif) does not conform to MNE naming conventions. All raw files should end with raw.fif, raw_sss.fif, raw_tsss.fif, _meg.fif, _eeg.fif, _ieeg.fif, raw.fif.gz, raw_sss.fif.gz, raw_tsss.fif.gz, _meg.fif.gz, _eeg.fif.gz or _ieeg.fif.gz\n",
      "  eeg_data = mne.io.read_raw_fif(name, preload=True)\n"
     ]
    },
    {
     "name": "stdout",
     "output_type": "stream",
     "text": [
      "Opening raw data file ../SEED_FRA_OUTPUT/NEUTRAL/2_2_trial_10_signals.fif...\n",
      "    Range : 2174000 ... 2307000 =   2174.000 ...  2307.000 secs\n",
      "Ready.\n",
      "Reading 0 ... 133000  =      0.000 ...   133.000 secs...\n"
     ]
    },
    {
     "name": "stderr",
     "output_type": "stream",
     "text": [
      "C:\\Users\\marco\\AppData\\Local\\Temp\\ipykernel_6904\\2770616247.py:12: RuntimeWarning: This filename (../SEED_FRA_OUTPUT/NEUTRAL/2_2_trial_10_signals.fif) does not conform to MNE naming conventions. All raw files should end with raw.fif, raw_sss.fif, raw_tsss.fif, _meg.fif, _eeg.fif, _ieeg.fif, raw.fif.gz, raw_sss.fif.gz, raw_tsss.fif.gz, _meg.fif.gz, _eeg.fif.gz or _ieeg.fif.gz\n",
      "  eeg_data = mne.io.read_raw_fif(name, preload=True)\n"
     ]
    },
    {
     "name": "stdout",
     "output_type": "stream",
     "text": [
      "Opening raw data file ../SEED_FRA_OUTPUT/NEUTRAL/2_2_trial_13_signals.fif...\n",
      "    Range : 2619000 ... 2763000 =   2619.000 ...  2763.000 secs\n",
      "Ready.\n",
      "Reading 0 ... 144000  =      0.000 ...   144.000 secs...\n"
     ]
    },
    {
     "name": "stderr",
     "output_type": "stream",
     "text": [
      "C:\\Users\\marco\\AppData\\Local\\Temp\\ipykernel_6904\\2770616247.py:12: RuntimeWarning: This filename (../SEED_FRA_OUTPUT/NEUTRAL/2_2_trial_13_signals.fif) does not conform to MNE naming conventions. All raw files should end with raw.fif, raw_sss.fif, raw_tsss.fif, _meg.fif, _eeg.fif, _ieeg.fif, raw.fif.gz, raw_sss.fif.gz, raw_tsss.fif.gz, _meg.fif.gz, _eeg.fif.gz or _ieeg.fif.gz\n",
      "  eeg_data = mne.io.read_raw_fif(name, preload=True)\n"
     ]
    },
    {
     "name": "stdout",
     "output_type": "stream",
     "text": [
      "Opening raw data file ../SEED_FRA_OUTPUT/NEUTRAL/2_2_trial_16_signals.fif...\n",
      "    Range : 3029000 ... 3195000 =   3029.000 ...  3195.000 secs\n",
      "Ready.\n",
      "Reading 0 ... 166000  =      0.000 ...   166.000 secs...\n"
     ]
    },
    {
     "name": "stderr",
     "output_type": "stream",
     "text": [
      "C:\\Users\\marco\\AppData\\Local\\Temp\\ipykernel_6904\\2770616247.py:12: RuntimeWarning: This filename (../SEED_FRA_OUTPUT/NEUTRAL/2_2_trial_16_signals.fif) does not conform to MNE naming conventions. All raw files should end with raw.fif, raw_sss.fif, raw_tsss.fif, _meg.fif, _eeg.fif, _ieeg.fif, raw.fif.gz, raw_sss.fif.gz, raw_tsss.fif.gz, _meg.fif.gz, _eeg.fif.gz or _ieeg.fif.gz\n",
      "  eeg_data = mne.io.read_raw_fif(name, preload=True)\n"
     ]
    },
    {
     "name": "stdout",
     "output_type": "stream",
     "text": [
      "Opening raw data file ../SEED_FRA_OUTPUT/NEUTRAL/2_2_trial_19_signals.fif...\n",
      "    Range : 3515000 ... 3602000 =   3515.000 ...  3602.000 secs\n",
      "Ready.\n",
      "Reading 0 ... 87000  =      0.000 ...    87.000 secs...\n"
     ]
    },
    {
     "name": "stderr",
     "output_type": "stream",
     "text": [
      "C:\\Users\\marco\\AppData\\Local\\Temp\\ipykernel_6904\\2770616247.py:12: RuntimeWarning: This filename (../SEED_FRA_OUTPUT/NEUTRAL/2_2_trial_19_signals.fif) does not conform to MNE naming conventions. All raw files should end with raw.fif, raw_sss.fif, raw_tsss.fif, _meg.fif, _eeg.fif, _ieeg.fif, raw.fif.gz, raw_sss.fif.gz, raw_tsss.fif.gz, _meg.fif.gz, _eeg.fif.gz or _ieeg.fif.gz\n",
      "  eeg_data = mne.io.read_raw_fif(name, preload=True)\n"
     ]
    },
    {
     "name": "stdout",
     "output_type": "stream",
     "text": [
      "Opening raw data file ../SEED_FRA_OUTPUT/NEUTRAL/2_2_trial_2_signals.fif...\n",
      "    Range : 489000 ... 667000 =    489.000 ...   667.000 secs\n",
      "Ready.\n",
      "Reading 0 ... 178000  =      0.000 ...   178.000 secs...\n"
     ]
    },
    {
     "name": "stderr",
     "output_type": "stream",
     "text": [
      "C:\\Users\\marco\\AppData\\Local\\Temp\\ipykernel_6904\\2770616247.py:12: RuntimeWarning: This filename (../SEED_FRA_OUTPUT/NEUTRAL/2_2_trial_2_signals.fif) does not conform to MNE naming conventions. All raw files should end with raw.fif, raw_sss.fif, raw_tsss.fif, _meg.fif, _eeg.fif, _ieeg.fif, raw.fif.gz, raw_sss.fif.gz, raw_tsss.fif.gz, _meg.fif.gz, _eeg.fif.gz or _ieeg.fif.gz\n",
      "  eeg_data = mne.io.read_raw_fif(name, preload=True)\n"
     ]
    },
    {
     "name": "stdout",
     "output_type": "stream",
     "text": [
      "Opening raw data file ../SEED_FRA_OUTPUT/NEUTRAL/2_2_trial_5_signals.fif...\n",
      "    Range : 1103000 ... 1232000 =   1103.000 ...  1232.000 secs\n",
      "Ready.\n",
      "Reading 0 ... 129000  =      0.000 ...   129.000 secs...\n"
     ]
    },
    {
     "name": "stderr",
     "output_type": "stream",
     "text": [
      "C:\\Users\\marco\\AppData\\Local\\Temp\\ipykernel_6904\\2770616247.py:12: RuntimeWarning: This filename (../SEED_FRA_OUTPUT/NEUTRAL/2_2_trial_5_signals.fif) does not conform to MNE naming conventions. All raw files should end with raw.fif, raw_sss.fif, raw_tsss.fif, _meg.fif, _eeg.fif, _ieeg.fif, raw.fif.gz, raw_sss.fif.gz, raw_tsss.fif.gz, _meg.fif.gz, _eeg.fif.gz or _ieeg.fif.gz\n",
      "  eeg_data = mne.io.read_raw_fif(name, preload=True)\n"
     ]
    },
    {
     "name": "stdout",
     "output_type": "stream",
     "text": [
      "Opening raw data file ../SEED_FRA_OUTPUT/NEUTRAL/2_2_trial_7_signals.fif...\n",
      "    Range : 1572000 ... 1718000 =   1572.000 ...  1718.000 secs\n",
      "Ready.\n",
      "Reading 0 ... 146000  =      0.000 ...   146.000 secs...\n"
     ]
    },
    {
     "name": "stderr",
     "output_type": "stream",
     "text": [
      "C:\\Users\\marco\\AppData\\Local\\Temp\\ipykernel_6904\\2770616247.py:12: RuntimeWarning: This filename (../SEED_FRA_OUTPUT/NEUTRAL/2_2_trial_7_signals.fif) does not conform to MNE naming conventions. All raw files should end with raw.fif, raw_sss.fif, raw_tsss.fif, _meg.fif, _eeg.fif, _ieeg.fif, raw.fif.gz, raw_sss.fif.gz, raw_tsss.fif.gz, _meg.fif.gz, _eeg.fif.gz or _ieeg.fif.gz\n",
      "  eeg_data = mne.io.read_raw_fif(name, preload=True)\n"
     ]
    },
    {
     "name": "stdout",
     "output_type": "stream",
     "text": [
      "Opening raw data file ../SEED_FRA_OUTPUT/NEUTRAL/2_3_trial_10_signals.fif...\n",
      "    Range : 2174000 ... 2307000 =   2174.000 ...  2307.000 secs\n",
      "Ready.\n",
      "Reading 0 ... 133000  =      0.000 ...   133.000 secs...\n"
     ]
    },
    {
     "name": "stderr",
     "output_type": "stream",
     "text": [
      "C:\\Users\\marco\\AppData\\Local\\Temp\\ipykernel_6904\\2770616247.py:12: RuntimeWarning: This filename (../SEED_FRA_OUTPUT/NEUTRAL/2_3_trial_10_signals.fif) does not conform to MNE naming conventions. All raw files should end with raw.fif, raw_sss.fif, raw_tsss.fif, _meg.fif, _eeg.fif, _ieeg.fif, raw.fif.gz, raw_sss.fif.gz, raw_tsss.fif.gz, _meg.fif.gz, _eeg.fif.gz or _ieeg.fif.gz\n",
      "  eeg_data = mne.io.read_raw_fif(name, preload=True)\n"
     ]
    },
    {
     "name": "stdout",
     "output_type": "stream",
     "text": [
      "Opening raw data file ../SEED_FRA_OUTPUT/NEUTRAL/2_3_trial_13_signals.fif...\n",
      "    Range : 2619000 ... 2763000 =   2619.000 ...  2763.000 secs\n",
      "Ready.\n",
      "Reading 0 ... 144000  =      0.000 ...   144.000 secs...\n"
     ]
    },
    {
     "name": "stderr",
     "output_type": "stream",
     "text": [
      "C:\\Users\\marco\\AppData\\Local\\Temp\\ipykernel_6904\\2770616247.py:12: RuntimeWarning: This filename (../SEED_FRA_OUTPUT/NEUTRAL/2_3_trial_13_signals.fif) does not conform to MNE naming conventions. All raw files should end with raw.fif, raw_sss.fif, raw_tsss.fif, _meg.fif, _eeg.fif, _ieeg.fif, raw.fif.gz, raw_sss.fif.gz, raw_tsss.fif.gz, _meg.fif.gz, _eeg.fif.gz or _ieeg.fif.gz\n",
      "  eeg_data = mne.io.read_raw_fif(name, preload=True)\n"
     ]
    },
    {
     "name": "stdout",
     "output_type": "stream",
     "text": [
      "Opening raw data file ../SEED_FRA_OUTPUT/NEUTRAL/2_3_trial_16_signals.fif...\n",
      "    Range : 3029000 ... 3195000 =   3029.000 ...  3195.000 secs\n",
      "Ready.\n",
      "Reading 0 ... 166000  =      0.000 ...   166.000 secs...\n"
     ]
    },
    {
     "name": "stderr",
     "output_type": "stream",
     "text": [
      "C:\\Users\\marco\\AppData\\Local\\Temp\\ipykernel_6904\\2770616247.py:12: RuntimeWarning: This filename (../SEED_FRA_OUTPUT/NEUTRAL/2_3_trial_16_signals.fif) does not conform to MNE naming conventions. All raw files should end with raw.fif, raw_sss.fif, raw_tsss.fif, _meg.fif, _eeg.fif, _ieeg.fif, raw.fif.gz, raw_sss.fif.gz, raw_tsss.fif.gz, _meg.fif.gz, _eeg.fif.gz or _ieeg.fif.gz\n",
      "  eeg_data = mne.io.read_raw_fif(name, preload=True)\n"
     ]
    },
    {
     "name": "stdout",
     "output_type": "stream",
     "text": [
      "Opening raw data file ../SEED_FRA_OUTPUT/NEUTRAL/2_3_trial_19_signals.fif...\n",
      "    Range : 3515000 ... 3602000 =   3515.000 ...  3602.000 secs\n",
      "Ready.\n",
      "Reading 0 ... 87000  =      0.000 ...    87.000 secs...\n"
     ]
    },
    {
     "name": "stderr",
     "output_type": "stream",
     "text": [
      "C:\\Users\\marco\\AppData\\Local\\Temp\\ipykernel_6904\\2770616247.py:12: RuntimeWarning: This filename (../SEED_FRA_OUTPUT/NEUTRAL/2_3_trial_19_signals.fif) does not conform to MNE naming conventions. All raw files should end with raw.fif, raw_sss.fif, raw_tsss.fif, _meg.fif, _eeg.fif, _ieeg.fif, raw.fif.gz, raw_sss.fif.gz, raw_tsss.fif.gz, _meg.fif.gz, _eeg.fif.gz or _ieeg.fif.gz\n",
      "  eeg_data = mne.io.read_raw_fif(name, preload=True)\n"
     ]
    },
    {
     "name": "stdout",
     "output_type": "stream",
     "text": [
      "Opening raw data file ../SEED_FRA_OUTPUT/NEUTRAL/2_3_trial_2_signals.fif...\n",
      "    Range : 489000 ... 667000 =    489.000 ...   667.000 secs\n",
      "Ready.\n",
      "Reading 0 ... 178000  =      0.000 ...   178.000 secs...\n"
     ]
    },
    {
     "name": "stderr",
     "output_type": "stream",
     "text": [
      "C:\\Users\\marco\\AppData\\Local\\Temp\\ipykernel_6904\\2770616247.py:12: RuntimeWarning: This filename (../SEED_FRA_OUTPUT/NEUTRAL/2_3_trial_2_signals.fif) does not conform to MNE naming conventions. All raw files should end with raw.fif, raw_sss.fif, raw_tsss.fif, _meg.fif, _eeg.fif, _ieeg.fif, raw.fif.gz, raw_sss.fif.gz, raw_tsss.fif.gz, _meg.fif.gz, _eeg.fif.gz or _ieeg.fif.gz\n",
      "  eeg_data = mne.io.read_raw_fif(name, preload=True)\n"
     ]
    },
    {
     "name": "stdout",
     "output_type": "stream",
     "text": [
      "Opening raw data file ../SEED_FRA_OUTPUT/NEUTRAL/2_3_trial_5_signals.fif...\n",
      "    Range : 1103000 ... 1232000 =   1103.000 ...  1232.000 secs\n",
      "Ready.\n",
      "Reading 0 ... 129000  =      0.000 ...   129.000 secs...\n"
     ]
    },
    {
     "name": "stderr",
     "output_type": "stream",
     "text": [
      "C:\\Users\\marco\\AppData\\Local\\Temp\\ipykernel_6904\\2770616247.py:12: RuntimeWarning: This filename (../SEED_FRA_OUTPUT/NEUTRAL/2_3_trial_5_signals.fif) does not conform to MNE naming conventions. All raw files should end with raw.fif, raw_sss.fif, raw_tsss.fif, _meg.fif, _eeg.fif, _ieeg.fif, raw.fif.gz, raw_sss.fif.gz, raw_tsss.fif.gz, _meg.fif.gz, _eeg.fif.gz or _ieeg.fif.gz\n",
      "  eeg_data = mne.io.read_raw_fif(name, preload=True)\n"
     ]
    },
    {
     "name": "stdout",
     "output_type": "stream",
     "text": [
      "Opening raw data file ../SEED_FRA_OUTPUT/NEUTRAL/2_3_trial_7_signals.fif...\n",
      "    Range : 1572000 ... 1718000 =   1572.000 ...  1718.000 secs\n",
      "Ready.\n",
      "Reading 0 ... 146000  =      0.000 ...   146.000 secs...\n"
     ]
    },
    {
     "name": "stderr",
     "output_type": "stream",
     "text": [
      "C:\\Users\\marco\\AppData\\Local\\Temp\\ipykernel_6904\\2770616247.py:12: RuntimeWarning: This filename (../SEED_FRA_OUTPUT/NEUTRAL/2_3_trial_7_signals.fif) does not conform to MNE naming conventions. All raw files should end with raw.fif, raw_sss.fif, raw_tsss.fif, _meg.fif, _eeg.fif, _ieeg.fif, raw.fif.gz, raw_sss.fif.gz, raw_tsss.fif.gz, _meg.fif.gz, _eeg.fif.gz or _ieeg.fif.gz\n",
      "  eeg_data = mne.io.read_raw_fif(name, preload=True)\n"
     ]
    },
    {
     "name": "stdout",
     "output_type": "stream",
     "text": [
      "Opening raw data file ../SEED_FRA_OUTPUT/NEUTRAL/3_1_trial_10_signals.fif...\n",
      "    Range : 2174000 ... 2307000 =   2174.000 ...  2307.000 secs\n",
      "Ready.\n",
      "Reading 0 ... 133000  =      0.000 ...   133.000 secs...\n"
     ]
    },
    {
     "name": "stderr",
     "output_type": "stream",
     "text": [
      "C:\\Users\\marco\\AppData\\Local\\Temp\\ipykernel_6904\\2770616247.py:12: RuntimeWarning: This filename (../SEED_FRA_OUTPUT/NEUTRAL/3_1_trial_10_signals.fif) does not conform to MNE naming conventions. All raw files should end with raw.fif, raw_sss.fif, raw_tsss.fif, _meg.fif, _eeg.fif, _ieeg.fif, raw.fif.gz, raw_sss.fif.gz, raw_tsss.fif.gz, _meg.fif.gz, _eeg.fif.gz or _ieeg.fif.gz\n",
      "  eeg_data = mne.io.read_raw_fif(name, preload=True)\n"
     ]
    },
    {
     "name": "stdout",
     "output_type": "stream",
     "text": [
      "Opening raw data file ../SEED_FRA_OUTPUT/NEUTRAL/3_1_trial_13_signals.fif...\n",
      "    Range : 2619000 ... 2763000 =   2619.000 ...  2763.000 secs\n",
      "Ready.\n",
      "Reading 0 ... 144000  =      0.000 ...   144.000 secs...\n"
     ]
    },
    {
     "name": "stderr",
     "output_type": "stream",
     "text": [
      "C:\\Users\\marco\\AppData\\Local\\Temp\\ipykernel_6904\\2770616247.py:12: RuntimeWarning: This filename (../SEED_FRA_OUTPUT/NEUTRAL/3_1_trial_13_signals.fif) does not conform to MNE naming conventions. All raw files should end with raw.fif, raw_sss.fif, raw_tsss.fif, _meg.fif, _eeg.fif, _ieeg.fif, raw.fif.gz, raw_sss.fif.gz, raw_tsss.fif.gz, _meg.fif.gz, _eeg.fif.gz or _ieeg.fif.gz\n",
      "  eeg_data = mne.io.read_raw_fif(name, preload=True)\n"
     ]
    },
    {
     "name": "stdout",
     "output_type": "stream",
     "text": [
      "Opening raw data file ../SEED_FRA_OUTPUT/NEUTRAL/3_1_trial_16_signals.fif...\n",
      "    Range : 3029000 ... 3195000 =   3029.000 ...  3195.000 secs\n",
      "Ready.\n",
      "Reading 0 ... 166000  =      0.000 ...   166.000 secs...\n"
     ]
    },
    {
     "name": "stderr",
     "output_type": "stream",
     "text": [
      "C:\\Users\\marco\\AppData\\Local\\Temp\\ipykernel_6904\\2770616247.py:12: RuntimeWarning: This filename (../SEED_FRA_OUTPUT/NEUTRAL/3_1_trial_16_signals.fif) does not conform to MNE naming conventions. All raw files should end with raw.fif, raw_sss.fif, raw_tsss.fif, _meg.fif, _eeg.fif, _ieeg.fif, raw.fif.gz, raw_sss.fif.gz, raw_tsss.fif.gz, _meg.fif.gz, _eeg.fif.gz or _ieeg.fif.gz\n",
      "  eeg_data = mne.io.read_raw_fif(name, preload=True)\n"
     ]
    },
    {
     "name": "stdout",
     "output_type": "stream",
     "text": [
      "Opening raw data file ../SEED_FRA_OUTPUT/NEUTRAL/3_1_trial_19_signals.fif...\n",
      "    Range : 3515000 ... 3602000 =   3515.000 ...  3602.000 secs\n",
      "Ready.\n",
      "Reading 0 ... 87000  =      0.000 ...    87.000 secs...\n"
     ]
    },
    {
     "name": "stderr",
     "output_type": "stream",
     "text": [
      "C:\\Users\\marco\\AppData\\Local\\Temp\\ipykernel_6904\\2770616247.py:12: RuntimeWarning: This filename (../SEED_FRA_OUTPUT/NEUTRAL/3_1_trial_19_signals.fif) does not conform to MNE naming conventions. All raw files should end with raw.fif, raw_sss.fif, raw_tsss.fif, _meg.fif, _eeg.fif, _ieeg.fif, raw.fif.gz, raw_sss.fif.gz, raw_tsss.fif.gz, _meg.fif.gz, _eeg.fif.gz or _ieeg.fif.gz\n",
      "  eeg_data = mne.io.read_raw_fif(name, preload=True)\n"
     ]
    },
    {
     "name": "stdout",
     "output_type": "stream",
     "text": [
      "Opening raw data file ../SEED_FRA_OUTPUT/NEUTRAL/3_1_trial_2_signals.fif...\n",
      "    Range : 489000 ... 667000 =    489.000 ...   667.000 secs\n",
      "Ready.\n",
      "Reading 0 ... 178000  =      0.000 ...   178.000 secs...\n"
     ]
    },
    {
     "name": "stderr",
     "output_type": "stream",
     "text": [
      "C:\\Users\\marco\\AppData\\Local\\Temp\\ipykernel_6904\\2770616247.py:12: RuntimeWarning: This filename (../SEED_FRA_OUTPUT/NEUTRAL/3_1_trial_2_signals.fif) does not conform to MNE naming conventions. All raw files should end with raw.fif, raw_sss.fif, raw_tsss.fif, _meg.fif, _eeg.fif, _ieeg.fif, raw.fif.gz, raw_sss.fif.gz, raw_tsss.fif.gz, _meg.fif.gz, _eeg.fif.gz or _ieeg.fif.gz\n",
      "  eeg_data = mne.io.read_raw_fif(name, preload=True)\n"
     ]
    },
    {
     "name": "stdout",
     "output_type": "stream",
     "text": [
      "Opening raw data file ../SEED_FRA_OUTPUT/NEUTRAL/3_1_trial_5_signals.fif...\n",
      "    Range : 1103000 ... 1232000 =   1103.000 ...  1232.000 secs\n",
      "Ready.\n",
      "Reading 0 ... 129000  =      0.000 ...   129.000 secs...\n"
     ]
    },
    {
     "name": "stderr",
     "output_type": "stream",
     "text": [
      "C:\\Users\\marco\\AppData\\Local\\Temp\\ipykernel_6904\\2770616247.py:12: RuntimeWarning: This filename (../SEED_FRA_OUTPUT/NEUTRAL/3_1_trial_5_signals.fif) does not conform to MNE naming conventions. All raw files should end with raw.fif, raw_sss.fif, raw_tsss.fif, _meg.fif, _eeg.fif, _ieeg.fif, raw.fif.gz, raw_sss.fif.gz, raw_tsss.fif.gz, _meg.fif.gz, _eeg.fif.gz or _ieeg.fif.gz\n",
      "  eeg_data = mne.io.read_raw_fif(name, preload=True)\n"
     ]
    },
    {
     "name": "stdout",
     "output_type": "stream",
     "text": [
      "Opening raw data file ../SEED_FRA_OUTPUT/NEUTRAL/3_1_trial_7_signals.fif...\n",
      "    Range : 1572000 ... 1718000 =   1572.000 ...  1718.000 secs\n",
      "Ready.\n",
      "Reading 0 ... 146000  =      0.000 ...   146.000 secs...\n"
     ]
    },
    {
     "name": "stderr",
     "output_type": "stream",
     "text": [
      "C:\\Users\\marco\\AppData\\Local\\Temp\\ipykernel_6904\\2770616247.py:12: RuntimeWarning: This filename (../SEED_FRA_OUTPUT/NEUTRAL/3_1_trial_7_signals.fif) does not conform to MNE naming conventions. All raw files should end with raw.fif, raw_sss.fif, raw_tsss.fif, _meg.fif, _eeg.fif, _ieeg.fif, raw.fif.gz, raw_sss.fif.gz, raw_tsss.fif.gz, _meg.fif.gz, _eeg.fif.gz or _ieeg.fif.gz\n",
      "  eeg_data = mne.io.read_raw_fif(name, preload=True)\n"
     ]
    },
    {
     "name": "stdout",
     "output_type": "stream",
     "text": [
      "Opening raw data file ../SEED_FRA_OUTPUT/NEUTRAL/3_2_trial_10_signals.fif...\n",
      "    Range : 2174000 ... 2307000 =   2174.000 ...  2307.000 secs\n",
      "Ready.\n",
      "Reading 0 ... 133000  =      0.000 ...   133.000 secs...\n"
     ]
    },
    {
     "name": "stderr",
     "output_type": "stream",
     "text": [
      "C:\\Users\\marco\\AppData\\Local\\Temp\\ipykernel_6904\\2770616247.py:12: RuntimeWarning: This filename (../SEED_FRA_OUTPUT/NEUTRAL/3_2_trial_10_signals.fif) does not conform to MNE naming conventions. All raw files should end with raw.fif, raw_sss.fif, raw_tsss.fif, _meg.fif, _eeg.fif, _ieeg.fif, raw.fif.gz, raw_sss.fif.gz, raw_tsss.fif.gz, _meg.fif.gz, _eeg.fif.gz or _ieeg.fif.gz\n",
      "  eeg_data = mne.io.read_raw_fif(name, preload=True)\n"
     ]
    },
    {
     "name": "stdout",
     "output_type": "stream",
     "text": [
      "Opening raw data file ../SEED_FRA_OUTPUT/NEUTRAL/3_2_trial_13_signals.fif...\n",
      "    Range : 2619000 ... 2763000 =   2619.000 ...  2763.000 secs\n",
      "Ready.\n",
      "Reading 0 ... 144000  =      0.000 ...   144.000 secs...\n"
     ]
    },
    {
     "name": "stderr",
     "output_type": "stream",
     "text": [
      "C:\\Users\\marco\\AppData\\Local\\Temp\\ipykernel_6904\\2770616247.py:12: RuntimeWarning: This filename (../SEED_FRA_OUTPUT/NEUTRAL/3_2_trial_13_signals.fif) does not conform to MNE naming conventions. All raw files should end with raw.fif, raw_sss.fif, raw_tsss.fif, _meg.fif, _eeg.fif, _ieeg.fif, raw.fif.gz, raw_sss.fif.gz, raw_tsss.fif.gz, _meg.fif.gz, _eeg.fif.gz or _ieeg.fif.gz\n",
      "  eeg_data = mne.io.read_raw_fif(name, preload=True)\n"
     ]
    },
    {
     "name": "stdout",
     "output_type": "stream",
     "text": [
      "Opening raw data file ../SEED_FRA_OUTPUT/NEUTRAL/3_2_trial_16_signals.fif...\n",
      "    Range : 3029000 ... 3195000 =   3029.000 ...  3195.000 secs\n",
      "Ready.\n",
      "Reading 0 ... 166000  =      0.000 ...   166.000 secs...\n"
     ]
    },
    {
     "name": "stderr",
     "output_type": "stream",
     "text": [
      "C:\\Users\\marco\\AppData\\Local\\Temp\\ipykernel_6904\\2770616247.py:12: RuntimeWarning: This filename (../SEED_FRA_OUTPUT/NEUTRAL/3_2_trial_16_signals.fif) does not conform to MNE naming conventions. All raw files should end with raw.fif, raw_sss.fif, raw_tsss.fif, _meg.fif, _eeg.fif, _ieeg.fif, raw.fif.gz, raw_sss.fif.gz, raw_tsss.fif.gz, _meg.fif.gz, _eeg.fif.gz or _ieeg.fif.gz\n",
      "  eeg_data = mne.io.read_raw_fif(name, preload=True)\n"
     ]
    },
    {
     "name": "stdout",
     "output_type": "stream",
     "text": [
      "Opening raw data file ../SEED_FRA_OUTPUT/NEUTRAL/3_2_trial_19_signals.fif...\n",
      "    Range : 3515000 ... 3602000 =   3515.000 ...  3602.000 secs\n",
      "Ready.\n",
      "Reading 0 ... 87000  =      0.000 ...    87.000 secs...\n"
     ]
    },
    {
     "name": "stderr",
     "output_type": "stream",
     "text": [
      "C:\\Users\\marco\\AppData\\Local\\Temp\\ipykernel_6904\\2770616247.py:12: RuntimeWarning: This filename (../SEED_FRA_OUTPUT/NEUTRAL/3_2_trial_19_signals.fif) does not conform to MNE naming conventions. All raw files should end with raw.fif, raw_sss.fif, raw_tsss.fif, _meg.fif, _eeg.fif, _ieeg.fif, raw.fif.gz, raw_sss.fif.gz, raw_tsss.fif.gz, _meg.fif.gz, _eeg.fif.gz or _ieeg.fif.gz\n",
      "  eeg_data = mne.io.read_raw_fif(name, preload=True)\n"
     ]
    },
    {
     "name": "stdout",
     "output_type": "stream",
     "text": [
      "Opening raw data file ../SEED_FRA_OUTPUT/NEUTRAL/3_2_trial_2_signals.fif...\n",
      "    Range : 489000 ... 667000 =    489.000 ...   667.000 secs\n",
      "Ready.\n",
      "Reading 0 ... 178000  =      0.000 ...   178.000 secs...\n"
     ]
    },
    {
     "name": "stderr",
     "output_type": "stream",
     "text": [
      "C:\\Users\\marco\\AppData\\Local\\Temp\\ipykernel_6904\\2770616247.py:12: RuntimeWarning: This filename (../SEED_FRA_OUTPUT/NEUTRAL/3_2_trial_2_signals.fif) does not conform to MNE naming conventions. All raw files should end with raw.fif, raw_sss.fif, raw_tsss.fif, _meg.fif, _eeg.fif, _ieeg.fif, raw.fif.gz, raw_sss.fif.gz, raw_tsss.fif.gz, _meg.fif.gz, _eeg.fif.gz or _ieeg.fif.gz\n",
      "  eeg_data = mne.io.read_raw_fif(name, preload=True)\n"
     ]
    },
    {
     "name": "stdout",
     "output_type": "stream",
     "text": [
      "Opening raw data file ../SEED_FRA_OUTPUT/NEUTRAL/3_2_trial_5_signals.fif...\n",
      "    Range : 1103000 ... 1232000 =   1103.000 ...  1232.000 secs\n",
      "Ready.\n",
      "Reading 0 ... 129000  =      0.000 ...   129.000 secs...\n"
     ]
    },
    {
     "name": "stderr",
     "output_type": "stream",
     "text": [
      "C:\\Users\\marco\\AppData\\Local\\Temp\\ipykernel_6904\\2770616247.py:12: RuntimeWarning: This filename (../SEED_FRA_OUTPUT/NEUTRAL/3_2_trial_5_signals.fif) does not conform to MNE naming conventions. All raw files should end with raw.fif, raw_sss.fif, raw_tsss.fif, _meg.fif, _eeg.fif, _ieeg.fif, raw.fif.gz, raw_sss.fif.gz, raw_tsss.fif.gz, _meg.fif.gz, _eeg.fif.gz or _ieeg.fif.gz\n",
      "  eeg_data = mne.io.read_raw_fif(name, preload=True)\n"
     ]
    },
    {
     "name": "stdout",
     "output_type": "stream",
     "text": [
      "Opening raw data file ../SEED_FRA_OUTPUT/NEUTRAL/3_2_trial_7_signals.fif...\n",
      "    Range : 1572000 ... 1718000 =   1572.000 ...  1718.000 secs\n",
      "Ready.\n",
      "Reading 0 ... 146000  =      0.000 ...   146.000 secs...\n"
     ]
    },
    {
     "name": "stderr",
     "output_type": "stream",
     "text": [
      "C:\\Users\\marco\\AppData\\Local\\Temp\\ipykernel_6904\\2770616247.py:12: RuntimeWarning: This filename (../SEED_FRA_OUTPUT/NEUTRAL/3_2_trial_7_signals.fif) does not conform to MNE naming conventions. All raw files should end with raw.fif, raw_sss.fif, raw_tsss.fif, _meg.fif, _eeg.fif, _ieeg.fif, raw.fif.gz, raw_sss.fif.gz, raw_tsss.fif.gz, _meg.fif.gz, _eeg.fif.gz or _ieeg.fif.gz\n",
      "  eeg_data = mne.io.read_raw_fif(name, preload=True)\n"
     ]
    },
    {
     "name": "stdout",
     "output_type": "stream",
     "text": [
      "Opening raw data file ../SEED_FRA_OUTPUT/NEUTRAL/3_3_trial_10_signals.fif...\n",
      "    Range : 2174000 ... 2307000 =   2174.000 ...  2307.000 secs\n",
      "Ready.\n",
      "Reading 0 ... 133000  =      0.000 ...   133.000 secs...\n"
     ]
    },
    {
     "name": "stderr",
     "output_type": "stream",
     "text": [
      "C:\\Users\\marco\\AppData\\Local\\Temp\\ipykernel_6904\\2770616247.py:12: RuntimeWarning: This filename (../SEED_FRA_OUTPUT/NEUTRAL/3_3_trial_10_signals.fif) does not conform to MNE naming conventions. All raw files should end with raw.fif, raw_sss.fif, raw_tsss.fif, _meg.fif, _eeg.fif, _ieeg.fif, raw.fif.gz, raw_sss.fif.gz, raw_tsss.fif.gz, _meg.fif.gz, _eeg.fif.gz or _ieeg.fif.gz\n",
      "  eeg_data = mne.io.read_raw_fif(name, preload=True)\n"
     ]
    },
    {
     "name": "stdout",
     "output_type": "stream",
     "text": [
      "Opening raw data file ../SEED_FRA_OUTPUT/NEUTRAL/3_3_trial_13_signals.fif...\n",
      "    Range : 2619000 ... 2763000 =   2619.000 ...  2763.000 secs\n",
      "Ready.\n",
      "Reading 0 ... 144000  =      0.000 ...   144.000 secs...\n"
     ]
    },
    {
     "name": "stderr",
     "output_type": "stream",
     "text": [
      "C:\\Users\\marco\\AppData\\Local\\Temp\\ipykernel_6904\\2770616247.py:12: RuntimeWarning: This filename (../SEED_FRA_OUTPUT/NEUTRAL/3_3_trial_13_signals.fif) does not conform to MNE naming conventions. All raw files should end with raw.fif, raw_sss.fif, raw_tsss.fif, _meg.fif, _eeg.fif, _ieeg.fif, raw.fif.gz, raw_sss.fif.gz, raw_tsss.fif.gz, _meg.fif.gz, _eeg.fif.gz or _ieeg.fif.gz\n",
      "  eeg_data = mne.io.read_raw_fif(name, preload=True)\n"
     ]
    },
    {
     "name": "stdout",
     "output_type": "stream",
     "text": [
      "Opening raw data file ../SEED_FRA_OUTPUT/NEUTRAL/3_3_trial_16_signals.fif...\n",
      "    Range : 3029000 ... 3195000 =   3029.000 ...  3195.000 secs\n",
      "Ready.\n",
      "Reading 0 ... 166000  =      0.000 ...   166.000 secs...\n"
     ]
    },
    {
     "name": "stderr",
     "output_type": "stream",
     "text": [
      "C:\\Users\\marco\\AppData\\Local\\Temp\\ipykernel_6904\\2770616247.py:12: RuntimeWarning: This filename (../SEED_FRA_OUTPUT/NEUTRAL/3_3_trial_16_signals.fif) does not conform to MNE naming conventions. All raw files should end with raw.fif, raw_sss.fif, raw_tsss.fif, _meg.fif, _eeg.fif, _ieeg.fif, raw.fif.gz, raw_sss.fif.gz, raw_tsss.fif.gz, _meg.fif.gz, _eeg.fif.gz or _ieeg.fif.gz\n",
      "  eeg_data = mne.io.read_raw_fif(name, preload=True)\n"
     ]
    },
    {
     "name": "stdout",
     "output_type": "stream",
     "text": [
      "Opening raw data file ../SEED_FRA_OUTPUT/NEUTRAL/3_3_trial_19_signals.fif...\n",
      "    Range : 3515000 ... 3602000 =   3515.000 ...  3602.000 secs\n",
      "Ready.\n",
      "Reading 0 ... 87000  =      0.000 ...    87.000 secs...\n"
     ]
    },
    {
     "name": "stderr",
     "output_type": "stream",
     "text": [
      "C:\\Users\\marco\\AppData\\Local\\Temp\\ipykernel_6904\\2770616247.py:12: RuntimeWarning: This filename (../SEED_FRA_OUTPUT/NEUTRAL/3_3_trial_19_signals.fif) does not conform to MNE naming conventions. All raw files should end with raw.fif, raw_sss.fif, raw_tsss.fif, _meg.fif, _eeg.fif, _ieeg.fif, raw.fif.gz, raw_sss.fif.gz, raw_tsss.fif.gz, _meg.fif.gz, _eeg.fif.gz or _ieeg.fif.gz\n",
      "  eeg_data = mne.io.read_raw_fif(name, preload=True)\n"
     ]
    },
    {
     "name": "stdout",
     "output_type": "stream",
     "text": [
      "Opening raw data file ../SEED_FRA_OUTPUT/NEUTRAL/3_3_trial_2_signals.fif...\n",
      "    Range : 489000 ... 667000 =    489.000 ...   667.000 secs\n",
      "Ready.\n",
      "Reading 0 ... 178000  =      0.000 ...   178.000 secs...\n"
     ]
    },
    {
     "name": "stderr",
     "output_type": "stream",
     "text": [
      "C:\\Users\\marco\\AppData\\Local\\Temp\\ipykernel_6904\\2770616247.py:12: RuntimeWarning: This filename (../SEED_FRA_OUTPUT/NEUTRAL/3_3_trial_2_signals.fif) does not conform to MNE naming conventions. All raw files should end with raw.fif, raw_sss.fif, raw_tsss.fif, _meg.fif, _eeg.fif, _ieeg.fif, raw.fif.gz, raw_sss.fif.gz, raw_tsss.fif.gz, _meg.fif.gz, _eeg.fif.gz or _ieeg.fif.gz\n",
      "  eeg_data = mne.io.read_raw_fif(name, preload=True)\n"
     ]
    },
    {
     "name": "stdout",
     "output_type": "stream",
     "text": [
      "Opening raw data file ../SEED_FRA_OUTPUT/NEUTRAL/3_3_trial_5_signals.fif...\n",
      "    Range : 1103000 ... 1232000 =   1103.000 ...  1232.000 secs\n",
      "Ready.\n",
      "Reading 0 ... 129000  =      0.000 ...   129.000 secs...\n"
     ]
    },
    {
     "name": "stderr",
     "output_type": "stream",
     "text": [
      "C:\\Users\\marco\\AppData\\Local\\Temp\\ipykernel_6904\\2770616247.py:12: RuntimeWarning: This filename (../SEED_FRA_OUTPUT/NEUTRAL/3_3_trial_5_signals.fif) does not conform to MNE naming conventions. All raw files should end with raw.fif, raw_sss.fif, raw_tsss.fif, _meg.fif, _eeg.fif, _ieeg.fif, raw.fif.gz, raw_sss.fif.gz, raw_tsss.fif.gz, _meg.fif.gz, _eeg.fif.gz or _ieeg.fif.gz\n",
      "  eeg_data = mne.io.read_raw_fif(name, preload=True)\n"
     ]
    },
    {
     "name": "stdout",
     "output_type": "stream",
     "text": [
      "Opening raw data file ../SEED_FRA_OUTPUT/NEUTRAL/3_3_trial_7_signals.fif...\n",
      "    Range : 1572000 ... 1718000 =   1572.000 ...  1718.000 secs\n",
      "Ready.\n",
      "Reading 0 ... 146000  =      0.000 ...   146.000 secs...\n"
     ]
    },
    {
     "name": "stderr",
     "output_type": "stream",
     "text": [
      "C:\\Users\\marco\\AppData\\Local\\Temp\\ipykernel_6904\\2770616247.py:12: RuntimeWarning: This filename (../SEED_FRA_OUTPUT/NEUTRAL/3_3_trial_7_signals.fif) does not conform to MNE naming conventions. All raw files should end with raw.fif, raw_sss.fif, raw_tsss.fif, _meg.fif, _eeg.fif, _ieeg.fif, raw.fif.gz, raw_sss.fif.gz, raw_tsss.fif.gz, _meg.fif.gz, _eeg.fif.gz or _ieeg.fif.gz\n",
      "  eeg_data = mne.io.read_raw_fif(name, preload=True)\n"
     ]
    },
    {
     "name": "stdout",
     "output_type": "stream",
     "text": [
      "Opening raw data file ../SEED_FRA_OUTPUT/NEUTRAL/4_1_trial_10_signals.fif...\n",
      "    Range : 2174000 ... 2307000 =   2174.000 ...  2307.000 secs\n",
      "Ready.\n",
      "Reading 0 ... 133000  =      0.000 ...   133.000 secs...\n"
     ]
    },
    {
     "name": "stderr",
     "output_type": "stream",
     "text": [
      "C:\\Users\\marco\\AppData\\Local\\Temp\\ipykernel_6904\\2770616247.py:12: RuntimeWarning: This filename (../SEED_FRA_OUTPUT/NEUTRAL/4_1_trial_10_signals.fif) does not conform to MNE naming conventions. All raw files should end with raw.fif, raw_sss.fif, raw_tsss.fif, _meg.fif, _eeg.fif, _ieeg.fif, raw.fif.gz, raw_sss.fif.gz, raw_tsss.fif.gz, _meg.fif.gz, _eeg.fif.gz or _ieeg.fif.gz\n",
      "  eeg_data = mne.io.read_raw_fif(name, preload=True)\n"
     ]
    },
    {
     "name": "stdout",
     "output_type": "stream",
     "text": [
      "Opening raw data file ../SEED_FRA_OUTPUT/NEUTRAL/4_1_trial_13_signals.fif...\n",
      "    Range : 2619000 ... 2763000 =   2619.000 ...  2763.000 secs\n",
      "Ready.\n",
      "Reading 0 ... 144000  =      0.000 ...   144.000 secs...\n"
     ]
    },
    {
     "name": "stderr",
     "output_type": "stream",
     "text": [
      "C:\\Users\\marco\\AppData\\Local\\Temp\\ipykernel_6904\\2770616247.py:12: RuntimeWarning: This filename (../SEED_FRA_OUTPUT/NEUTRAL/4_1_trial_13_signals.fif) does not conform to MNE naming conventions. All raw files should end with raw.fif, raw_sss.fif, raw_tsss.fif, _meg.fif, _eeg.fif, _ieeg.fif, raw.fif.gz, raw_sss.fif.gz, raw_tsss.fif.gz, _meg.fif.gz, _eeg.fif.gz or _ieeg.fif.gz\n",
      "  eeg_data = mne.io.read_raw_fif(name, preload=True)\n"
     ]
    },
    {
     "name": "stdout",
     "output_type": "stream",
     "text": [
      "Opening raw data file ../SEED_FRA_OUTPUT/NEUTRAL/4_1_trial_16_signals.fif...\n",
      "    Range : 3029000 ... 3195000 =   3029.000 ...  3195.000 secs\n",
      "Ready.\n",
      "Reading 0 ... 166000  =      0.000 ...   166.000 secs...\n"
     ]
    },
    {
     "name": "stderr",
     "output_type": "stream",
     "text": [
      "C:\\Users\\marco\\AppData\\Local\\Temp\\ipykernel_6904\\2770616247.py:12: RuntimeWarning: This filename (../SEED_FRA_OUTPUT/NEUTRAL/4_1_trial_16_signals.fif) does not conform to MNE naming conventions. All raw files should end with raw.fif, raw_sss.fif, raw_tsss.fif, _meg.fif, _eeg.fif, _ieeg.fif, raw.fif.gz, raw_sss.fif.gz, raw_tsss.fif.gz, _meg.fif.gz, _eeg.fif.gz or _ieeg.fif.gz\n",
      "  eeg_data = mne.io.read_raw_fif(name, preload=True)\n"
     ]
    },
    {
     "name": "stdout",
     "output_type": "stream",
     "text": [
      "Opening raw data file ../SEED_FRA_OUTPUT/NEUTRAL/4_1_trial_19_signals.fif...\n",
      "    Range : 3515000 ... 3602000 =   3515.000 ...  3602.000 secs\n",
      "Ready.\n",
      "Reading 0 ... 87000  =      0.000 ...    87.000 secs...\n"
     ]
    },
    {
     "name": "stderr",
     "output_type": "stream",
     "text": [
      "C:\\Users\\marco\\AppData\\Local\\Temp\\ipykernel_6904\\2770616247.py:12: RuntimeWarning: This filename (../SEED_FRA_OUTPUT/NEUTRAL/4_1_trial_19_signals.fif) does not conform to MNE naming conventions. All raw files should end with raw.fif, raw_sss.fif, raw_tsss.fif, _meg.fif, _eeg.fif, _ieeg.fif, raw.fif.gz, raw_sss.fif.gz, raw_tsss.fif.gz, _meg.fif.gz, _eeg.fif.gz or _ieeg.fif.gz\n",
      "  eeg_data = mne.io.read_raw_fif(name, preload=True)\n"
     ]
    },
    {
     "name": "stdout",
     "output_type": "stream",
     "text": [
      "Opening raw data file ../SEED_FRA_OUTPUT/NEUTRAL/4_1_trial_2_signals.fif...\n",
      "    Range : 489000 ... 667000 =    489.000 ...   667.000 secs\n",
      "Ready.\n",
      "Reading 0 ... 178000  =      0.000 ...   178.000 secs...\n"
     ]
    },
    {
     "name": "stderr",
     "output_type": "stream",
     "text": [
      "C:\\Users\\marco\\AppData\\Local\\Temp\\ipykernel_6904\\2770616247.py:12: RuntimeWarning: This filename (../SEED_FRA_OUTPUT/NEUTRAL/4_1_trial_2_signals.fif) does not conform to MNE naming conventions. All raw files should end with raw.fif, raw_sss.fif, raw_tsss.fif, _meg.fif, _eeg.fif, _ieeg.fif, raw.fif.gz, raw_sss.fif.gz, raw_tsss.fif.gz, _meg.fif.gz, _eeg.fif.gz or _ieeg.fif.gz\n",
      "  eeg_data = mne.io.read_raw_fif(name, preload=True)\n"
     ]
    },
    {
     "name": "stdout",
     "output_type": "stream",
     "text": [
      "Opening raw data file ../SEED_FRA_OUTPUT/NEUTRAL/4_1_trial_5_signals.fif...\n",
      "    Range : 1103000 ... 1232000 =   1103.000 ...  1232.000 secs\n",
      "Ready.\n",
      "Reading 0 ... 129000  =      0.000 ...   129.000 secs...\n"
     ]
    },
    {
     "name": "stderr",
     "output_type": "stream",
     "text": [
      "C:\\Users\\marco\\AppData\\Local\\Temp\\ipykernel_6904\\2770616247.py:12: RuntimeWarning: This filename (../SEED_FRA_OUTPUT/NEUTRAL/4_1_trial_5_signals.fif) does not conform to MNE naming conventions. All raw files should end with raw.fif, raw_sss.fif, raw_tsss.fif, _meg.fif, _eeg.fif, _ieeg.fif, raw.fif.gz, raw_sss.fif.gz, raw_tsss.fif.gz, _meg.fif.gz, _eeg.fif.gz or _ieeg.fif.gz\n",
      "  eeg_data = mne.io.read_raw_fif(name, preload=True)\n"
     ]
    },
    {
     "name": "stdout",
     "output_type": "stream",
     "text": [
      "Opening raw data file ../SEED_FRA_OUTPUT/NEUTRAL/4_1_trial_7_signals.fif...\n",
      "    Range : 1572000 ... 1718000 =   1572.000 ...  1718.000 secs\n",
      "Ready.\n",
      "Reading 0 ... 146000  =      0.000 ...   146.000 secs...\n"
     ]
    },
    {
     "name": "stderr",
     "output_type": "stream",
     "text": [
      "C:\\Users\\marco\\AppData\\Local\\Temp\\ipykernel_6904\\2770616247.py:12: RuntimeWarning: This filename (../SEED_FRA_OUTPUT/NEUTRAL/4_1_trial_7_signals.fif) does not conform to MNE naming conventions. All raw files should end with raw.fif, raw_sss.fif, raw_tsss.fif, _meg.fif, _eeg.fif, _ieeg.fif, raw.fif.gz, raw_sss.fif.gz, raw_tsss.fif.gz, _meg.fif.gz, _eeg.fif.gz or _ieeg.fif.gz\n",
      "  eeg_data = mne.io.read_raw_fif(name, preload=True)\n"
     ]
    },
    {
     "name": "stdout",
     "output_type": "stream",
     "text": [
      "Opening raw data file ../SEED_FRA_OUTPUT/NEUTRAL/4_2_trial_10_signals.fif...\n",
      "    Range : 2174000 ... 2307000 =   2174.000 ...  2307.000 secs\n",
      "Ready.\n",
      "Reading 0 ... 133000  =      0.000 ...   133.000 secs...\n"
     ]
    },
    {
     "name": "stderr",
     "output_type": "stream",
     "text": [
      "C:\\Users\\marco\\AppData\\Local\\Temp\\ipykernel_6904\\2770616247.py:12: RuntimeWarning: This filename (../SEED_FRA_OUTPUT/NEUTRAL/4_2_trial_10_signals.fif) does not conform to MNE naming conventions. All raw files should end with raw.fif, raw_sss.fif, raw_tsss.fif, _meg.fif, _eeg.fif, _ieeg.fif, raw.fif.gz, raw_sss.fif.gz, raw_tsss.fif.gz, _meg.fif.gz, _eeg.fif.gz or _ieeg.fif.gz\n",
      "  eeg_data = mne.io.read_raw_fif(name, preload=True)\n"
     ]
    },
    {
     "name": "stdout",
     "output_type": "stream",
     "text": [
      "Opening raw data file ../SEED_FRA_OUTPUT/NEUTRAL/4_2_trial_13_signals.fif...\n",
      "    Range : 2619000 ... 2763000 =   2619.000 ...  2763.000 secs\n",
      "Ready.\n",
      "Reading 0 ... 144000  =      0.000 ...   144.000 secs...\n"
     ]
    },
    {
     "name": "stderr",
     "output_type": "stream",
     "text": [
      "C:\\Users\\marco\\AppData\\Local\\Temp\\ipykernel_6904\\2770616247.py:12: RuntimeWarning: This filename (../SEED_FRA_OUTPUT/NEUTRAL/4_2_trial_13_signals.fif) does not conform to MNE naming conventions. All raw files should end with raw.fif, raw_sss.fif, raw_tsss.fif, _meg.fif, _eeg.fif, _ieeg.fif, raw.fif.gz, raw_sss.fif.gz, raw_tsss.fif.gz, _meg.fif.gz, _eeg.fif.gz or _ieeg.fif.gz\n",
      "  eeg_data = mne.io.read_raw_fif(name, preload=True)\n"
     ]
    },
    {
     "name": "stdout",
     "output_type": "stream",
     "text": [
      "Opening raw data file ../SEED_FRA_OUTPUT/NEUTRAL/4_2_trial_16_signals.fif...\n",
      "    Range : 3029000 ... 3195000 =   3029.000 ...  3195.000 secs\n",
      "Ready.\n",
      "Reading 0 ... 166000  =      0.000 ...   166.000 secs...\n"
     ]
    },
    {
     "name": "stderr",
     "output_type": "stream",
     "text": [
      "C:\\Users\\marco\\AppData\\Local\\Temp\\ipykernel_6904\\2770616247.py:12: RuntimeWarning: This filename (../SEED_FRA_OUTPUT/NEUTRAL/4_2_trial_16_signals.fif) does not conform to MNE naming conventions. All raw files should end with raw.fif, raw_sss.fif, raw_tsss.fif, _meg.fif, _eeg.fif, _ieeg.fif, raw.fif.gz, raw_sss.fif.gz, raw_tsss.fif.gz, _meg.fif.gz, _eeg.fif.gz or _ieeg.fif.gz\n",
      "  eeg_data = mne.io.read_raw_fif(name, preload=True)\n"
     ]
    },
    {
     "name": "stdout",
     "output_type": "stream",
     "text": [
      "Opening raw data file ../SEED_FRA_OUTPUT/NEUTRAL/4_2_trial_19_signals.fif...\n",
      "    Range : 3515000 ... 3602000 =   3515.000 ...  3602.000 secs\n",
      "Ready.\n",
      "Reading 0 ... 87000  =      0.000 ...    87.000 secs...\n"
     ]
    },
    {
     "name": "stderr",
     "output_type": "stream",
     "text": [
      "C:\\Users\\marco\\AppData\\Local\\Temp\\ipykernel_6904\\2770616247.py:12: RuntimeWarning: This filename (../SEED_FRA_OUTPUT/NEUTRAL/4_2_trial_19_signals.fif) does not conform to MNE naming conventions. All raw files should end with raw.fif, raw_sss.fif, raw_tsss.fif, _meg.fif, _eeg.fif, _ieeg.fif, raw.fif.gz, raw_sss.fif.gz, raw_tsss.fif.gz, _meg.fif.gz, _eeg.fif.gz or _ieeg.fif.gz\n",
      "  eeg_data = mne.io.read_raw_fif(name, preload=True)\n"
     ]
    },
    {
     "name": "stdout",
     "output_type": "stream",
     "text": [
      "Opening raw data file ../SEED_FRA_OUTPUT/NEUTRAL/4_2_trial_2_signals.fif...\n",
      "    Range : 489000 ... 667000 =    489.000 ...   667.000 secs\n",
      "Ready.\n",
      "Reading 0 ... 178000  =      0.000 ...   178.000 secs...\n"
     ]
    },
    {
     "name": "stderr",
     "output_type": "stream",
     "text": [
      "C:\\Users\\marco\\AppData\\Local\\Temp\\ipykernel_6904\\2770616247.py:12: RuntimeWarning: This filename (../SEED_FRA_OUTPUT/NEUTRAL/4_2_trial_2_signals.fif) does not conform to MNE naming conventions. All raw files should end with raw.fif, raw_sss.fif, raw_tsss.fif, _meg.fif, _eeg.fif, _ieeg.fif, raw.fif.gz, raw_sss.fif.gz, raw_tsss.fif.gz, _meg.fif.gz, _eeg.fif.gz or _ieeg.fif.gz\n",
      "  eeg_data = mne.io.read_raw_fif(name, preload=True)\n"
     ]
    },
    {
     "name": "stdout",
     "output_type": "stream",
     "text": [
      "Opening raw data file ../SEED_FRA_OUTPUT/NEUTRAL/4_2_trial_5_signals.fif...\n",
      "    Range : 1103000 ... 1232000 =   1103.000 ...  1232.000 secs\n",
      "Ready.\n",
      "Reading 0 ... 129000  =      0.000 ...   129.000 secs...\n"
     ]
    },
    {
     "name": "stderr",
     "output_type": "stream",
     "text": [
      "C:\\Users\\marco\\AppData\\Local\\Temp\\ipykernel_6904\\2770616247.py:12: RuntimeWarning: This filename (../SEED_FRA_OUTPUT/NEUTRAL/4_2_trial_5_signals.fif) does not conform to MNE naming conventions. All raw files should end with raw.fif, raw_sss.fif, raw_tsss.fif, _meg.fif, _eeg.fif, _ieeg.fif, raw.fif.gz, raw_sss.fif.gz, raw_tsss.fif.gz, _meg.fif.gz, _eeg.fif.gz or _ieeg.fif.gz\n",
      "  eeg_data = mne.io.read_raw_fif(name, preload=True)\n"
     ]
    },
    {
     "name": "stdout",
     "output_type": "stream",
     "text": [
      "Opening raw data file ../SEED_FRA_OUTPUT/NEUTRAL/4_2_trial_7_signals.fif...\n",
      "    Range : 1572000 ... 1718000 =   1572.000 ...  1718.000 secs\n",
      "Ready.\n",
      "Reading 0 ... 146000  =      0.000 ...   146.000 secs...\n"
     ]
    },
    {
     "name": "stderr",
     "output_type": "stream",
     "text": [
      "C:\\Users\\marco\\AppData\\Local\\Temp\\ipykernel_6904\\2770616247.py:12: RuntimeWarning: This filename (../SEED_FRA_OUTPUT/NEUTRAL/4_2_trial_7_signals.fif) does not conform to MNE naming conventions. All raw files should end with raw.fif, raw_sss.fif, raw_tsss.fif, _meg.fif, _eeg.fif, _ieeg.fif, raw.fif.gz, raw_sss.fif.gz, raw_tsss.fif.gz, _meg.fif.gz, _eeg.fif.gz or _ieeg.fif.gz\n",
      "  eeg_data = mne.io.read_raw_fif(name, preload=True)\n"
     ]
    },
    {
     "name": "stdout",
     "output_type": "stream",
     "text": [
      "Opening raw data file ../SEED_FRA_OUTPUT/NEUTRAL/4_3_trial_10_signals.fif...\n",
      "    Range : 2174000 ... 2307000 =   2174.000 ...  2307.000 secs\n",
      "Ready.\n",
      "Reading 0 ... 133000  =      0.000 ...   133.000 secs...\n"
     ]
    },
    {
     "name": "stderr",
     "output_type": "stream",
     "text": [
      "C:\\Users\\marco\\AppData\\Local\\Temp\\ipykernel_6904\\2770616247.py:12: RuntimeWarning: This filename (../SEED_FRA_OUTPUT/NEUTRAL/4_3_trial_10_signals.fif) does not conform to MNE naming conventions. All raw files should end with raw.fif, raw_sss.fif, raw_tsss.fif, _meg.fif, _eeg.fif, _ieeg.fif, raw.fif.gz, raw_sss.fif.gz, raw_tsss.fif.gz, _meg.fif.gz, _eeg.fif.gz or _ieeg.fif.gz\n",
      "  eeg_data = mne.io.read_raw_fif(name, preload=True)\n"
     ]
    },
    {
     "name": "stdout",
     "output_type": "stream",
     "text": [
      "Opening raw data file ../SEED_FRA_OUTPUT/NEUTRAL/4_3_trial_13_signals.fif...\n",
      "    Range : 2619000 ... 2763000 =   2619.000 ...  2763.000 secs\n",
      "Ready.\n",
      "Reading 0 ... 144000  =      0.000 ...   144.000 secs...\n"
     ]
    },
    {
     "name": "stderr",
     "output_type": "stream",
     "text": [
      "C:\\Users\\marco\\AppData\\Local\\Temp\\ipykernel_6904\\2770616247.py:12: RuntimeWarning: This filename (../SEED_FRA_OUTPUT/NEUTRAL/4_3_trial_13_signals.fif) does not conform to MNE naming conventions. All raw files should end with raw.fif, raw_sss.fif, raw_tsss.fif, _meg.fif, _eeg.fif, _ieeg.fif, raw.fif.gz, raw_sss.fif.gz, raw_tsss.fif.gz, _meg.fif.gz, _eeg.fif.gz or _ieeg.fif.gz\n",
      "  eeg_data = mne.io.read_raw_fif(name, preload=True)\n"
     ]
    },
    {
     "name": "stdout",
     "output_type": "stream",
     "text": [
      "Opening raw data file ../SEED_FRA_OUTPUT/NEUTRAL/4_3_trial_16_signals.fif...\n",
      "    Range : 3029000 ... 3195000 =   3029.000 ...  3195.000 secs\n",
      "Ready.\n",
      "Reading 0 ... 166000  =      0.000 ...   166.000 secs...\n"
     ]
    },
    {
     "name": "stderr",
     "output_type": "stream",
     "text": [
      "C:\\Users\\marco\\AppData\\Local\\Temp\\ipykernel_6904\\2770616247.py:12: RuntimeWarning: This filename (../SEED_FRA_OUTPUT/NEUTRAL/4_3_trial_16_signals.fif) does not conform to MNE naming conventions. All raw files should end with raw.fif, raw_sss.fif, raw_tsss.fif, _meg.fif, _eeg.fif, _ieeg.fif, raw.fif.gz, raw_sss.fif.gz, raw_tsss.fif.gz, _meg.fif.gz, _eeg.fif.gz or _ieeg.fif.gz\n",
      "  eeg_data = mne.io.read_raw_fif(name, preload=True)\n"
     ]
    },
    {
     "name": "stdout",
     "output_type": "stream",
     "text": [
      "Opening raw data file ../SEED_FRA_OUTPUT/NEUTRAL/4_3_trial_19_signals.fif...\n",
      "    Range : 3515000 ... 3602000 =   3515.000 ...  3602.000 secs\n",
      "Ready.\n",
      "Reading 0 ... 87000  =      0.000 ...    87.000 secs...\n"
     ]
    },
    {
     "name": "stderr",
     "output_type": "stream",
     "text": [
      "C:\\Users\\marco\\AppData\\Local\\Temp\\ipykernel_6904\\2770616247.py:12: RuntimeWarning: This filename (../SEED_FRA_OUTPUT/NEUTRAL/4_3_trial_19_signals.fif) does not conform to MNE naming conventions. All raw files should end with raw.fif, raw_sss.fif, raw_tsss.fif, _meg.fif, _eeg.fif, _ieeg.fif, raw.fif.gz, raw_sss.fif.gz, raw_tsss.fif.gz, _meg.fif.gz, _eeg.fif.gz or _ieeg.fif.gz\n",
      "  eeg_data = mne.io.read_raw_fif(name, preload=True)\n"
     ]
    },
    {
     "name": "stdout",
     "output_type": "stream",
     "text": [
      "Opening raw data file ../SEED_FRA_OUTPUT/NEUTRAL/4_3_trial_2_signals.fif...\n",
      "    Range : 489000 ... 667000 =    489.000 ...   667.000 secs\n",
      "Ready.\n",
      "Reading 0 ... 178000  =      0.000 ...   178.000 secs...\n"
     ]
    },
    {
     "name": "stderr",
     "output_type": "stream",
     "text": [
      "C:\\Users\\marco\\AppData\\Local\\Temp\\ipykernel_6904\\2770616247.py:12: RuntimeWarning: This filename (../SEED_FRA_OUTPUT/NEUTRAL/4_3_trial_2_signals.fif) does not conform to MNE naming conventions. All raw files should end with raw.fif, raw_sss.fif, raw_tsss.fif, _meg.fif, _eeg.fif, _ieeg.fif, raw.fif.gz, raw_sss.fif.gz, raw_tsss.fif.gz, _meg.fif.gz, _eeg.fif.gz or _ieeg.fif.gz\n",
      "  eeg_data = mne.io.read_raw_fif(name, preload=True)\n"
     ]
    },
    {
     "name": "stdout",
     "output_type": "stream",
     "text": [
      "Opening raw data file ../SEED_FRA_OUTPUT/NEUTRAL/4_3_trial_5_signals.fif...\n",
      "    Range : 1103000 ... 1232000 =   1103.000 ...  1232.000 secs\n",
      "Ready.\n",
      "Reading 0 ... 129000  =      0.000 ...   129.000 secs...\n"
     ]
    },
    {
     "name": "stderr",
     "output_type": "stream",
     "text": [
      "C:\\Users\\marco\\AppData\\Local\\Temp\\ipykernel_6904\\2770616247.py:12: RuntimeWarning: This filename (../SEED_FRA_OUTPUT/NEUTRAL/4_3_trial_5_signals.fif) does not conform to MNE naming conventions. All raw files should end with raw.fif, raw_sss.fif, raw_tsss.fif, _meg.fif, _eeg.fif, _ieeg.fif, raw.fif.gz, raw_sss.fif.gz, raw_tsss.fif.gz, _meg.fif.gz, _eeg.fif.gz or _ieeg.fif.gz\n",
      "  eeg_data = mne.io.read_raw_fif(name, preload=True)\n"
     ]
    },
    {
     "name": "stdout",
     "output_type": "stream",
     "text": [
      "Opening raw data file ../SEED_FRA_OUTPUT/NEUTRAL/4_3_trial_7_signals.fif...\n",
      "    Range : 1572000 ... 1718000 =   1572.000 ...  1718.000 secs\n",
      "Ready.\n",
      "Reading 0 ... 146000  =      0.000 ...   146.000 secs...\n"
     ]
    },
    {
     "name": "stderr",
     "output_type": "stream",
     "text": [
      "C:\\Users\\marco\\AppData\\Local\\Temp\\ipykernel_6904\\2770616247.py:12: RuntimeWarning: This filename (../SEED_FRA_OUTPUT/NEUTRAL/4_3_trial_7_signals.fif) does not conform to MNE naming conventions. All raw files should end with raw.fif, raw_sss.fif, raw_tsss.fif, _meg.fif, _eeg.fif, _ieeg.fif, raw.fif.gz, raw_sss.fif.gz, raw_tsss.fif.gz, _meg.fif.gz, _eeg.fif.gz or _ieeg.fif.gz\n",
      "  eeg_data = mne.io.read_raw_fif(name, preload=True)\n"
     ]
    },
    {
     "name": "stdout",
     "output_type": "stream",
     "text": [
      "Opening raw data file ../SEED_FRA_OUTPUT/NEUTRAL/5_1_trial_10_signals.fif...\n",
      "    Range : 2174000 ... 2307000 =   2174.000 ...  2307.000 secs\n",
      "Ready.\n",
      "Reading 0 ... 133000  =      0.000 ...   133.000 secs...\n"
     ]
    },
    {
     "name": "stderr",
     "output_type": "stream",
     "text": [
      "C:\\Users\\marco\\AppData\\Local\\Temp\\ipykernel_6904\\2770616247.py:12: RuntimeWarning: This filename (../SEED_FRA_OUTPUT/NEUTRAL/5_1_trial_10_signals.fif) does not conform to MNE naming conventions. All raw files should end with raw.fif, raw_sss.fif, raw_tsss.fif, _meg.fif, _eeg.fif, _ieeg.fif, raw.fif.gz, raw_sss.fif.gz, raw_tsss.fif.gz, _meg.fif.gz, _eeg.fif.gz or _ieeg.fif.gz\n",
      "  eeg_data = mne.io.read_raw_fif(name, preload=True)\n"
     ]
    },
    {
     "name": "stdout",
     "output_type": "stream",
     "text": [
      "Opening raw data file ../SEED_FRA_OUTPUT/NEUTRAL/5_1_trial_13_signals.fif...\n",
      "    Range : 2619000 ... 2763000 =   2619.000 ...  2763.000 secs\n",
      "Ready.\n",
      "Reading 0 ... 144000  =      0.000 ...   144.000 secs...\n"
     ]
    },
    {
     "name": "stderr",
     "output_type": "stream",
     "text": [
      "C:\\Users\\marco\\AppData\\Local\\Temp\\ipykernel_6904\\2770616247.py:12: RuntimeWarning: This filename (../SEED_FRA_OUTPUT/NEUTRAL/5_1_trial_13_signals.fif) does not conform to MNE naming conventions. All raw files should end with raw.fif, raw_sss.fif, raw_tsss.fif, _meg.fif, _eeg.fif, _ieeg.fif, raw.fif.gz, raw_sss.fif.gz, raw_tsss.fif.gz, _meg.fif.gz, _eeg.fif.gz or _ieeg.fif.gz\n",
      "  eeg_data = mne.io.read_raw_fif(name, preload=True)\n"
     ]
    },
    {
     "name": "stdout",
     "output_type": "stream",
     "text": [
      "Opening raw data file ../SEED_FRA_OUTPUT/NEUTRAL/5_1_trial_16_signals.fif...\n",
      "    Range : 3029000 ... 3195000 =   3029.000 ...  3195.000 secs\n",
      "Ready.\n",
      "Reading 0 ... 166000  =      0.000 ...   166.000 secs...\n"
     ]
    },
    {
     "name": "stderr",
     "output_type": "stream",
     "text": [
      "C:\\Users\\marco\\AppData\\Local\\Temp\\ipykernel_6904\\2770616247.py:12: RuntimeWarning: This filename (../SEED_FRA_OUTPUT/NEUTRAL/5_1_trial_16_signals.fif) does not conform to MNE naming conventions. All raw files should end with raw.fif, raw_sss.fif, raw_tsss.fif, _meg.fif, _eeg.fif, _ieeg.fif, raw.fif.gz, raw_sss.fif.gz, raw_tsss.fif.gz, _meg.fif.gz, _eeg.fif.gz or _ieeg.fif.gz\n",
      "  eeg_data = mne.io.read_raw_fif(name, preload=True)\n"
     ]
    },
    {
     "name": "stdout",
     "output_type": "stream",
     "text": [
      "Opening raw data file ../SEED_FRA_OUTPUT/NEUTRAL/5_1_trial_19_signals.fif...\n",
      "    Range : 3515000 ... 3602000 =   3515.000 ...  3602.000 secs\n",
      "Ready.\n",
      "Reading 0 ... 87000  =      0.000 ...    87.000 secs...\n"
     ]
    },
    {
     "name": "stderr",
     "output_type": "stream",
     "text": [
      "C:\\Users\\marco\\AppData\\Local\\Temp\\ipykernel_6904\\2770616247.py:12: RuntimeWarning: This filename (../SEED_FRA_OUTPUT/NEUTRAL/5_1_trial_19_signals.fif) does not conform to MNE naming conventions. All raw files should end with raw.fif, raw_sss.fif, raw_tsss.fif, _meg.fif, _eeg.fif, _ieeg.fif, raw.fif.gz, raw_sss.fif.gz, raw_tsss.fif.gz, _meg.fif.gz, _eeg.fif.gz or _ieeg.fif.gz\n",
      "  eeg_data = mne.io.read_raw_fif(name, preload=True)\n"
     ]
    },
    {
     "name": "stdout",
     "output_type": "stream",
     "text": [
      "Opening raw data file ../SEED_FRA_OUTPUT/NEUTRAL/5_1_trial_2_signals.fif...\n",
      "    Range : 489000 ... 667000 =    489.000 ...   667.000 secs\n",
      "Ready.\n",
      "Reading 0 ... 178000  =      0.000 ...   178.000 secs...\n"
     ]
    },
    {
     "name": "stderr",
     "output_type": "stream",
     "text": [
      "C:\\Users\\marco\\AppData\\Local\\Temp\\ipykernel_6904\\2770616247.py:12: RuntimeWarning: This filename (../SEED_FRA_OUTPUT/NEUTRAL/5_1_trial_2_signals.fif) does not conform to MNE naming conventions. All raw files should end with raw.fif, raw_sss.fif, raw_tsss.fif, _meg.fif, _eeg.fif, _ieeg.fif, raw.fif.gz, raw_sss.fif.gz, raw_tsss.fif.gz, _meg.fif.gz, _eeg.fif.gz or _ieeg.fif.gz\n",
      "  eeg_data = mne.io.read_raw_fif(name, preload=True)\n"
     ]
    },
    {
     "name": "stdout",
     "output_type": "stream",
     "text": [
      "Opening raw data file ../SEED_FRA_OUTPUT/NEUTRAL/5_1_trial_5_signals.fif...\n",
      "    Range : 1103000 ... 1232000 =   1103.000 ...  1232.000 secs\n",
      "Ready.\n",
      "Reading 0 ... 129000  =      0.000 ...   129.000 secs...\n"
     ]
    },
    {
     "name": "stderr",
     "output_type": "stream",
     "text": [
      "C:\\Users\\marco\\AppData\\Local\\Temp\\ipykernel_6904\\2770616247.py:12: RuntimeWarning: This filename (../SEED_FRA_OUTPUT/NEUTRAL/5_1_trial_5_signals.fif) does not conform to MNE naming conventions. All raw files should end with raw.fif, raw_sss.fif, raw_tsss.fif, _meg.fif, _eeg.fif, _ieeg.fif, raw.fif.gz, raw_sss.fif.gz, raw_tsss.fif.gz, _meg.fif.gz, _eeg.fif.gz or _ieeg.fif.gz\n",
      "  eeg_data = mne.io.read_raw_fif(name, preload=True)\n"
     ]
    },
    {
     "name": "stdout",
     "output_type": "stream",
     "text": [
      "Opening raw data file ../SEED_FRA_OUTPUT/NEUTRAL/5_1_trial_7_signals.fif...\n",
      "    Range : 1572000 ... 1718000 =   1572.000 ...  1718.000 secs\n",
      "Ready.\n",
      "Reading 0 ... 146000  =      0.000 ...   146.000 secs...\n"
     ]
    },
    {
     "name": "stderr",
     "output_type": "stream",
     "text": [
      "C:\\Users\\marco\\AppData\\Local\\Temp\\ipykernel_6904\\2770616247.py:12: RuntimeWarning: This filename (../SEED_FRA_OUTPUT/NEUTRAL/5_1_trial_7_signals.fif) does not conform to MNE naming conventions. All raw files should end with raw.fif, raw_sss.fif, raw_tsss.fif, _meg.fif, _eeg.fif, _ieeg.fif, raw.fif.gz, raw_sss.fif.gz, raw_tsss.fif.gz, _meg.fif.gz, _eeg.fif.gz or _ieeg.fif.gz\n",
      "  eeg_data = mne.io.read_raw_fif(name, preload=True)\n"
     ]
    },
    {
     "name": "stdout",
     "output_type": "stream",
     "text": [
      "Opening raw data file ../SEED_FRA_OUTPUT/NEUTRAL/5_2_trial_10_signals.fif...\n",
      "    Range : 2174000 ... 2307000 =   2174.000 ...  2307.000 secs\n",
      "Ready.\n",
      "Reading 0 ... 133000  =      0.000 ...   133.000 secs...\n"
     ]
    },
    {
     "name": "stderr",
     "output_type": "stream",
     "text": [
      "C:\\Users\\marco\\AppData\\Local\\Temp\\ipykernel_6904\\2770616247.py:12: RuntimeWarning: This filename (../SEED_FRA_OUTPUT/NEUTRAL/5_2_trial_10_signals.fif) does not conform to MNE naming conventions. All raw files should end with raw.fif, raw_sss.fif, raw_tsss.fif, _meg.fif, _eeg.fif, _ieeg.fif, raw.fif.gz, raw_sss.fif.gz, raw_tsss.fif.gz, _meg.fif.gz, _eeg.fif.gz or _ieeg.fif.gz\n",
      "  eeg_data = mne.io.read_raw_fif(name, preload=True)\n"
     ]
    },
    {
     "name": "stdout",
     "output_type": "stream",
     "text": [
      "Opening raw data file ../SEED_FRA_OUTPUT/NEUTRAL/5_2_trial_13_signals.fif...\n",
      "    Range : 2619000 ... 2763000 =   2619.000 ...  2763.000 secs\n",
      "Ready.\n",
      "Reading 0 ... 144000  =      0.000 ...   144.000 secs...\n"
     ]
    },
    {
     "name": "stderr",
     "output_type": "stream",
     "text": [
      "C:\\Users\\marco\\AppData\\Local\\Temp\\ipykernel_6904\\2770616247.py:12: RuntimeWarning: This filename (../SEED_FRA_OUTPUT/NEUTRAL/5_2_trial_13_signals.fif) does not conform to MNE naming conventions. All raw files should end with raw.fif, raw_sss.fif, raw_tsss.fif, _meg.fif, _eeg.fif, _ieeg.fif, raw.fif.gz, raw_sss.fif.gz, raw_tsss.fif.gz, _meg.fif.gz, _eeg.fif.gz or _ieeg.fif.gz\n",
      "  eeg_data = mne.io.read_raw_fif(name, preload=True)\n"
     ]
    },
    {
     "name": "stdout",
     "output_type": "stream",
     "text": [
      "Opening raw data file ../SEED_FRA_OUTPUT/NEUTRAL/5_2_trial_16_signals.fif...\n",
      "    Range : 3029000 ... 3195000 =   3029.000 ...  3195.000 secs\n",
      "Ready.\n",
      "Reading 0 ... 166000  =      0.000 ...   166.000 secs...\n"
     ]
    },
    {
     "name": "stderr",
     "output_type": "stream",
     "text": [
      "C:\\Users\\marco\\AppData\\Local\\Temp\\ipykernel_6904\\2770616247.py:12: RuntimeWarning: This filename (../SEED_FRA_OUTPUT/NEUTRAL/5_2_trial_16_signals.fif) does not conform to MNE naming conventions. All raw files should end with raw.fif, raw_sss.fif, raw_tsss.fif, _meg.fif, _eeg.fif, _ieeg.fif, raw.fif.gz, raw_sss.fif.gz, raw_tsss.fif.gz, _meg.fif.gz, _eeg.fif.gz or _ieeg.fif.gz\n",
      "  eeg_data = mne.io.read_raw_fif(name, preload=True)\n"
     ]
    },
    {
     "name": "stdout",
     "output_type": "stream",
     "text": [
      "Opening raw data file ../SEED_FRA_OUTPUT/NEUTRAL/5_2_trial_19_signals.fif...\n",
      "    Range : 3515000 ... 3602000 =   3515.000 ...  3602.000 secs\n",
      "Ready.\n",
      "Reading 0 ... 87000  =      0.000 ...    87.000 secs...\n"
     ]
    },
    {
     "name": "stderr",
     "output_type": "stream",
     "text": [
      "C:\\Users\\marco\\AppData\\Local\\Temp\\ipykernel_6904\\2770616247.py:12: RuntimeWarning: This filename (../SEED_FRA_OUTPUT/NEUTRAL/5_2_trial_19_signals.fif) does not conform to MNE naming conventions. All raw files should end with raw.fif, raw_sss.fif, raw_tsss.fif, _meg.fif, _eeg.fif, _ieeg.fif, raw.fif.gz, raw_sss.fif.gz, raw_tsss.fif.gz, _meg.fif.gz, _eeg.fif.gz or _ieeg.fif.gz\n",
      "  eeg_data = mne.io.read_raw_fif(name, preload=True)\n"
     ]
    },
    {
     "name": "stdout",
     "output_type": "stream",
     "text": [
      "Opening raw data file ../SEED_FRA_OUTPUT/NEUTRAL/5_2_trial_2_signals.fif...\n",
      "    Range : 489000 ... 667000 =    489.000 ...   667.000 secs\n",
      "Ready.\n",
      "Reading 0 ... 178000  =      0.000 ...   178.000 secs...\n"
     ]
    },
    {
     "name": "stderr",
     "output_type": "stream",
     "text": [
      "C:\\Users\\marco\\AppData\\Local\\Temp\\ipykernel_6904\\2770616247.py:12: RuntimeWarning: This filename (../SEED_FRA_OUTPUT/NEUTRAL/5_2_trial_2_signals.fif) does not conform to MNE naming conventions. All raw files should end with raw.fif, raw_sss.fif, raw_tsss.fif, _meg.fif, _eeg.fif, _ieeg.fif, raw.fif.gz, raw_sss.fif.gz, raw_tsss.fif.gz, _meg.fif.gz, _eeg.fif.gz or _ieeg.fif.gz\n",
      "  eeg_data = mne.io.read_raw_fif(name, preload=True)\n"
     ]
    },
    {
     "name": "stdout",
     "output_type": "stream",
     "text": [
      "Opening raw data file ../SEED_FRA_OUTPUT/NEUTRAL/5_2_trial_5_signals.fif...\n",
      "    Range : 1103000 ... 1232000 =   1103.000 ...  1232.000 secs\n",
      "Ready.\n",
      "Reading 0 ... 129000  =      0.000 ...   129.000 secs...\n"
     ]
    },
    {
     "name": "stderr",
     "output_type": "stream",
     "text": [
      "C:\\Users\\marco\\AppData\\Local\\Temp\\ipykernel_6904\\2770616247.py:12: RuntimeWarning: This filename (../SEED_FRA_OUTPUT/NEUTRAL/5_2_trial_5_signals.fif) does not conform to MNE naming conventions. All raw files should end with raw.fif, raw_sss.fif, raw_tsss.fif, _meg.fif, _eeg.fif, _ieeg.fif, raw.fif.gz, raw_sss.fif.gz, raw_tsss.fif.gz, _meg.fif.gz, _eeg.fif.gz or _ieeg.fif.gz\n",
      "  eeg_data = mne.io.read_raw_fif(name, preload=True)\n"
     ]
    },
    {
     "name": "stdout",
     "output_type": "stream",
     "text": [
      "Opening raw data file ../SEED_FRA_OUTPUT/NEUTRAL/5_2_trial_7_signals.fif...\n",
      "    Range : 1572000 ... 1718000 =   1572.000 ...  1718.000 secs\n",
      "Ready.\n",
      "Reading 0 ... 146000  =      0.000 ...   146.000 secs...\n"
     ]
    },
    {
     "name": "stderr",
     "output_type": "stream",
     "text": [
      "C:\\Users\\marco\\AppData\\Local\\Temp\\ipykernel_6904\\2770616247.py:12: RuntimeWarning: This filename (../SEED_FRA_OUTPUT/NEUTRAL/5_2_trial_7_signals.fif) does not conform to MNE naming conventions. All raw files should end with raw.fif, raw_sss.fif, raw_tsss.fif, _meg.fif, _eeg.fif, _ieeg.fif, raw.fif.gz, raw_sss.fif.gz, raw_tsss.fif.gz, _meg.fif.gz, _eeg.fif.gz or _ieeg.fif.gz\n",
      "  eeg_data = mne.io.read_raw_fif(name, preload=True)\n"
     ]
    },
    {
     "name": "stdout",
     "output_type": "stream",
     "text": [
      "Opening raw data file ../SEED_FRA_OUTPUT/NEUTRAL/5_3_trial_10_signals.fif...\n",
      "    Range : 2174000 ... 2307000 =   2174.000 ...  2307.000 secs\n",
      "Ready.\n",
      "Reading 0 ... 133000  =      0.000 ...   133.000 secs...\n"
     ]
    },
    {
     "name": "stderr",
     "output_type": "stream",
     "text": [
      "C:\\Users\\marco\\AppData\\Local\\Temp\\ipykernel_6904\\2770616247.py:12: RuntimeWarning: This filename (../SEED_FRA_OUTPUT/NEUTRAL/5_3_trial_10_signals.fif) does not conform to MNE naming conventions. All raw files should end with raw.fif, raw_sss.fif, raw_tsss.fif, _meg.fif, _eeg.fif, _ieeg.fif, raw.fif.gz, raw_sss.fif.gz, raw_tsss.fif.gz, _meg.fif.gz, _eeg.fif.gz or _ieeg.fif.gz\n",
      "  eeg_data = mne.io.read_raw_fif(name, preload=True)\n"
     ]
    },
    {
     "name": "stdout",
     "output_type": "stream",
     "text": [
      "Opening raw data file ../SEED_FRA_OUTPUT/NEUTRAL/5_3_trial_13_signals.fif...\n",
      "    Range : 2619000 ... 2763000 =   2619.000 ...  2763.000 secs\n",
      "Ready.\n",
      "Reading 0 ... 144000  =      0.000 ...   144.000 secs...\n"
     ]
    },
    {
     "name": "stderr",
     "output_type": "stream",
     "text": [
      "C:\\Users\\marco\\AppData\\Local\\Temp\\ipykernel_6904\\2770616247.py:12: RuntimeWarning: This filename (../SEED_FRA_OUTPUT/NEUTRAL/5_3_trial_13_signals.fif) does not conform to MNE naming conventions. All raw files should end with raw.fif, raw_sss.fif, raw_tsss.fif, _meg.fif, _eeg.fif, _ieeg.fif, raw.fif.gz, raw_sss.fif.gz, raw_tsss.fif.gz, _meg.fif.gz, _eeg.fif.gz or _ieeg.fif.gz\n",
      "  eeg_data = mne.io.read_raw_fif(name, preload=True)\n"
     ]
    },
    {
     "name": "stdout",
     "output_type": "stream",
     "text": [
      "Opening raw data file ../SEED_FRA_OUTPUT/NEUTRAL/5_3_trial_16_signals.fif...\n",
      "    Range : 3029000 ... 3195000 =   3029.000 ...  3195.000 secs\n",
      "Ready.\n",
      "Reading 0 ... 166000  =      0.000 ...   166.000 secs...\n"
     ]
    },
    {
     "name": "stderr",
     "output_type": "stream",
     "text": [
      "C:\\Users\\marco\\AppData\\Local\\Temp\\ipykernel_6904\\2770616247.py:12: RuntimeWarning: This filename (../SEED_FRA_OUTPUT/NEUTRAL/5_3_trial_16_signals.fif) does not conform to MNE naming conventions. All raw files should end with raw.fif, raw_sss.fif, raw_tsss.fif, _meg.fif, _eeg.fif, _ieeg.fif, raw.fif.gz, raw_sss.fif.gz, raw_tsss.fif.gz, _meg.fif.gz, _eeg.fif.gz or _ieeg.fif.gz\n",
      "  eeg_data = mne.io.read_raw_fif(name, preload=True)\n"
     ]
    },
    {
     "name": "stdout",
     "output_type": "stream",
     "text": [
      "Opening raw data file ../SEED_FRA_OUTPUT/NEUTRAL/5_3_trial_19_signals.fif...\n",
      "    Range : 3515000 ... 3602000 =   3515.000 ...  3602.000 secs\n",
      "Ready.\n",
      "Reading 0 ... 87000  =      0.000 ...    87.000 secs...\n"
     ]
    },
    {
     "name": "stderr",
     "output_type": "stream",
     "text": [
      "C:\\Users\\marco\\AppData\\Local\\Temp\\ipykernel_6904\\2770616247.py:12: RuntimeWarning: This filename (../SEED_FRA_OUTPUT/NEUTRAL/5_3_trial_19_signals.fif) does not conform to MNE naming conventions. All raw files should end with raw.fif, raw_sss.fif, raw_tsss.fif, _meg.fif, _eeg.fif, _ieeg.fif, raw.fif.gz, raw_sss.fif.gz, raw_tsss.fif.gz, _meg.fif.gz, _eeg.fif.gz or _ieeg.fif.gz\n",
      "  eeg_data = mne.io.read_raw_fif(name, preload=True)\n"
     ]
    },
    {
     "name": "stdout",
     "output_type": "stream",
     "text": [
      "Opening raw data file ../SEED_FRA_OUTPUT/NEUTRAL/5_3_trial_2_signals.fif...\n",
      "    Range : 489000 ... 667000 =    489.000 ...   667.000 secs\n",
      "Ready.\n",
      "Reading 0 ... 178000  =      0.000 ...   178.000 secs...\n"
     ]
    },
    {
     "name": "stderr",
     "output_type": "stream",
     "text": [
      "C:\\Users\\marco\\AppData\\Local\\Temp\\ipykernel_6904\\2770616247.py:12: RuntimeWarning: This filename (../SEED_FRA_OUTPUT/NEUTRAL/5_3_trial_2_signals.fif) does not conform to MNE naming conventions. All raw files should end with raw.fif, raw_sss.fif, raw_tsss.fif, _meg.fif, _eeg.fif, _ieeg.fif, raw.fif.gz, raw_sss.fif.gz, raw_tsss.fif.gz, _meg.fif.gz, _eeg.fif.gz or _ieeg.fif.gz\n",
      "  eeg_data = mne.io.read_raw_fif(name, preload=True)\n"
     ]
    },
    {
     "name": "stdout",
     "output_type": "stream",
     "text": [
      "Opening raw data file ../SEED_FRA_OUTPUT/NEUTRAL/5_3_trial_5_signals.fif...\n",
      "    Range : 1103000 ... 1232000 =   1103.000 ...  1232.000 secs\n",
      "Ready.\n",
      "Reading 0 ... 129000  =      0.000 ...   129.000 secs...\n"
     ]
    },
    {
     "name": "stderr",
     "output_type": "stream",
     "text": [
      "C:\\Users\\marco\\AppData\\Local\\Temp\\ipykernel_6904\\2770616247.py:12: RuntimeWarning: This filename (../SEED_FRA_OUTPUT/NEUTRAL/5_3_trial_5_signals.fif) does not conform to MNE naming conventions. All raw files should end with raw.fif, raw_sss.fif, raw_tsss.fif, _meg.fif, _eeg.fif, _ieeg.fif, raw.fif.gz, raw_sss.fif.gz, raw_tsss.fif.gz, _meg.fif.gz, _eeg.fif.gz or _ieeg.fif.gz\n",
      "  eeg_data = mne.io.read_raw_fif(name, preload=True)\n"
     ]
    },
    {
     "name": "stdout",
     "output_type": "stream",
     "text": [
      "Opening raw data file ../SEED_FRA_OUTPUT/NEUTRAL/5_3_trial_7_signals.fif...\n",
      "    Range : 1572000 ... 1718000 =   1572.000 ...  1718.000 secs\n",
      "Ready.\n",
      "Reading 0 ... 146000  =      0.000 ...   146.000 secs...\n"
     ]
    },
    {
     "name": "stderr",
     "output_type": "stream",
     "text": [
      "C:\\Users\\marco\\AppData\\Local\\Temp\\ipykernel_6904\\2770616247.py:12: RuntimeWarning: This filename (../SEED_FRA_OUTPUT/NEUTRAL/5_3_trial_7_signals.fif) does not conform to MNE naming conventions. All raw files should end with raw.fif, raw_sss.fif, raw_tsss.fif, _meg.fif, _eeg.fif, _ieeg.fif, raw.fif.gz, raw_sss.fif.gz, raw_tsss.fif.gz, _meg.fif.gz, _eeg.fif.gz or _ieeg.fif.gz\n",
      "  eeg_data = mne.io.read_raw_fif(name, preload=True)\n"
     ]
    },
    {
     "name": "stdout",
     "output_type": "stream",
     "text": [
      "Opening raw data file ../SEED_FRA_OUTPUT/NEUTRAL/6_1_trial_10_signals.fif...\n",
      "    Range : 2174000 ... 2307000 =   2174.000 ...  2307.000 secs\n",
      "Ready.\n",
      "Reading 0 ... 133000  =      0.000 ...   133.000 secs...\n"
     ]
    },
    {
     "name": "stderr",
     "output_type": "stream",
     "text": [
      "C:\\Users\\marco\\AppData\\Local\\Temp\\ipykernel_6904\\2770616247.py:12: RuntimeWarning: This filename (../SEED_FRA_OUTPUT/NEUTRAL/6_1_trial_10_signals.fif) does not conform to MNE naming conventions. All raw files should end with raw.fif, raw_sss.fif, raw_tsss.fif, _meg.fif, _eeg.fif, _ieeg.fif, raw.fif.gz, raw_sss.fif.gz, raw_tsss.fif.gz, _meg.fif.gz, _eeg.fif.gz or _ieeg.fif.gz\n",
      "  eeg_data = mne.io.read_raw_fif(name, preload=True)\n"
     ]
    },
    {
     "name": "stdout",
     "output_type": "stream",
     "text": [
      "Opening raw data file ../SEED_FRA_OUTPUT/NEUTRAL/6_1_trial_13_signals.fif...\n",
      "    Range : 2619000 ... 2763000 =   2619.000 ...  2763.000 secs\n",
      "Ready.\n",
      "Reading 0 ... 144000  =      0.000 ...   144.000 secs...\n"
     ]
    },
    {
     "name": "stderr",
     "output_type": "stream",
     "text": [
      "C:\\Users\\marco\\AppData\\Local\\Temp\\ipykernel_6904\\2770616247.py:12: RuntimeWarning: This filename (../SEED_FRA_OUTPUT/NEUTRAL/6_1_trial_13_signals.fif) does not conform to MNE naming conventions. All raw files should end with raw.fif, raw_sss.fif, raw_tsss.fif, _meg.fif, _eeg.fif, _ieeg.fif, raw.fif.gz, raw_sss.fif.gz, raw_tsss.fif.gz, _meg.fif.gz, _eeg.fif.gz or _ieeg.fif.gz\n",
      "  eeg_data = mne.io.read_raw_fif(name, preload=True)\n"
     ]
    },
    {
     "name": "stdout",
     "output_type": "stream",
     "text": [
      "Opening raw data file ../SEED_FRA_OUTPUT/NEUTRAL/6_1_trial_16_signals.fif...\n",
      "    Range : 3029000 ... 3195000 =   3029.000 ...  3195.000 secs\n",
      "Ready.\n",
      "Reading 0 ... 166000  =      0.000 ...   166.000 secs...\n"
     ]
    },
    {
     "name": "stderr",
     "output_type": "stream",
     "text": [
      "C:\\Users\\marco\\AppData\\Local\\Temp\\ipykernel_6904\\2770616247.py:12: RuntimeWarning: This filename (../SEED_FRA_OUTPUT/NEUTRAL/6_1_trial_16_signals.fif) does not conform to MNE naming conventions. All raw files should end with raw.fif, raw_sss.fif, raw_tsss.fif, _meg.fif, _eeg.fif, _ieeg.fif, raw.fif.gz, raw_sss.fif.gz, raw_tsss.fif.gz, _meg.fif.gz, _eeg.fif.gz or _ieeg.fif.gz\n",
      "  eeg_data = mne.io.read_raw_fif(name, preload=True)\n"
     ]
    },
    {
     "name": "stdout",
     "output_type": "stream",
     "text": [
      "Opening raw data file ../SEED_FRA_OUTPUT/NEUTRAL/6_1_trial_19_signals.fif...\n",
      "    Range : 3515000 ... 3602000 =   3515.000 ...  3602.000 secs\n",
      "Ready.\n",
      "Reading 0 ... 87000  =      0.000 ...    87.000 secs...\n"
     ]
    },
    {
     "name": "stderr",
     "output_type": "stream",
     "text": [
      "C:\\Users\\marco\\AppData\\Local\\Temp\\ipykernel_6904\\2770616247.py:12: RuntimeWarning: This filename (../SEED_FRA_OUTPUT/NEUTRAL/6_1_trial_19_signals.fif) does not conform to MNE naming conventions. All raw files should end with raw.fif, raw_sss.fif, raw_tsss.fif, _meg.fif, _eeg.fif, _ieeg.fif, raw.fif.gz, raw_sss.fif.gz, raw_tsss.fif.gz, _meg.fif.gz, _eeg.fif.gz or _ieeg.fif.gz\n",
      "  eeg_data = mne.io.read_raw_fif(name, preload=True)\n"
     ]
    },
    {
     "name": "stdout",
     "output_type": "stream",
     "text": [
      "Opening raw data file ../SEED_FRA_OUTPUT/NEUTRAL/6_1_trial_2_signals.fif...\n",
      "    Range : 489000 ... 667000 =    489.000 ...   667.000 secs\n",
      "Ready.\n",
      "Reading 0 ... 178000  =      0.000 ...   178.000 secs...\n"
     ]
    },
    {
     "name": "stderr",
     "output_type": "stream",
     "text": [
      "C:\\Users\\marco\\AppData\\Local\\Temp\\ipykernel_6904\\2770616247.py:12: RuntimeWarning: This filename (../SEED_FRA_OUTPUT/NEUTRAL/6_1_trial_2_signals.fif) does not conform to MNE naming conventions. All raw files should end with raw.fif, raw_sss.fif, raw_tsss.fif, _meg.fif, _eeg.fif, _ieeg.fif, raw.fif.gz, raw_sss.fif.gz, raw_tsss.fif.gz, _meg.fif.gz, _eeg.fif.gz or _ieeg.fif.gz\n",
      "  eeg_data = mne.io.read_raw_fif(name, preload=True)\n"
     ]
    },
    {
     "name": "stdout",
     "output_type": "stream",
     "text": [
      "Opening raw data file ../SEED_FRA_OUTPUT/NEUTRAL/6_1_trial_5_signals.fif...\n",
      "    Range : 1103000 ... 1232000 =   1103.000 ...  1232.000 secs\n",
      "Ready.\n",
      "Reading 0 ... 129000  =      0.000 ...   129.000 secs...\n"
     ]
    },
    {
     "name": "stderr",
     "output_type": "stream",
     "text": [
      "C:\\Users\\marco\\AppData\\Local\\Temp\\ipykernel_6904\\2770616247.py:12: RuntimeWarning: This filename (../SEED_FRA_OUTPUT/NEUTRAL/6_1_trial_5_signals.fif) does not conform to MNE naming conventions. All raw files should end with raw.fif, raw_sss.fif, raw_tsss.fif, _meg.fif, _eeg.fif, _ieeg.fif, raw.fif.gz, raw_sss.fif.gz, raw_tsss.fif.gz, _meg.fif.gz, _eeg.fif.gz or _ieeg.fif.gz\n",
      "  eeg_data = mne.io.read_raw_fif(name, preload=True)\n"
     ]
    },
    {
     "name": "stdout",
     "output_type": "stream",
     "text": [
      "Opening raw data file ../SEED_FRA_OUTPUT/NEUTRAL/6_1_trial_7_signals.fif...\n",
      "    Range : 1572000 ... 1718000 =   1572.000 ...  1718.000 secs\n",
      "Ready.\n",
      "Reading 0 ... 146000  =      0.000 ...   146.000 secs...\n"
     ]
    },
    {
     "name": "stderr",
     "output_type": "stream",
     "text": [
      "C:\\Users\\marco\\AppData\\Local\\Temp\\ipykernel_6904\\2770616247.py:12: RuntimeWarning: This filename (../SEED_FRA_OUTPUT/NEUTRAL/6_1_trial_7_signals.fif) does not conform to MNE naming conventions. All raw files should end with raw.fif, raw_sss.fif, raw_tsss.fif, _meg.fif, _eeg.fif, _ieeg.fif, raw.fif.gz, raw_sss.fif.gz, raw_tsss.fif.gz, _meg.fif.gz, _eeg.fif.gz or _ieeg.fif.gz\n",
      "  eeg_data = mne.io.read_raw_fif(name, preload=True)\n"
     ]
    },
    {
     "name": "stdout",
     "output_type": "stream",
     "text": [
      "Opening raw data file ../SEED_FRA_OUTPUT/NEUTRAL/6_2_trial_10_signals.fif...\n",
      "    Range : 2174000 ... 2307000 =   2174.000 ...  2307.000 secs\n",
      "Ready.\n",
      "Reading 0 ... 133000  =      0.000 ...   133.000 secs...\n"
     ]
    },
    {
     "name": "stderr",
     "output_type": "stream",
     "text": [
      "C:\\Users\\marco\\AppData\\Local\\Temp\\ipykernel_6904\\2770616247.py:12: RuntimeWarning: This filename (../SEED_FRA_OUTPUT/NEUTRAL/6_2_trial_10_signals.fif) does not conform to MNE naming conventions. All raw files should end with raw.fif, raw_sss.fif, raw_tsss.fif, _meg.fif, _eeg.fif, _ieeg.fif, raw.fif.gz, raw_sss.fif.gz, raw_tsss.fif.gz, _meg.fif.gz, _eeg.fif.gz or _ieeg.fif.gz\n",
      "  eeg_data = mne.io.read_raw_fif(name, preload=True)\n"
     ]
    },
    {
     "name": "stdout",
     "output_type": "stream",
     "text": [
      "Opening raw data file ../SEED_FRA_OUTPUT/NEUTRAL/6_2_trial_13_signals.fif...\n",
      "    Range : 2619000 ... 2763000 =   2619.000 ...  2763.000 secs\n",
      "Ready.\n",
      "Reading 0 ... 144000  =      0.000 ...   144.000 secs...\n"
     ]
    },
    {
     "name": "stderr",
     "output_type": "stream",
     "text": [
      "C:\\Users\\marco\\AppData\\Local\\Temp\\ipykernel_6904\\2770616247.py:12: RuntimeWarning: This filename (../SEED_FRA_OUTPUT/NEUTRAL/6_2_trial_13_signals.fif) does not conform to MNE naming conventions. All raw files should end with raw.fif, raw_sss.fif, raw_tsss.fif, _meg.fif, _eeg.fif, _ieeg.fif, raw.fif.gz, raw_sss.fif.gz, raw_tsss.fif.gz, _meg.fif.gz, _eeg.fif.gz or _ieeg.fif.gz\n",
      "  eeg_data = mne.io.read_raw_fif(name, preload=True)\n"
     ]
    },
    {
     "name": "stdout",
     "output_type": "stream",
     "text": [
      "Opening raw data file ../SEED_FRA_OUTPUT/NEUTRAL/6_2_trial_16_signals.fif...\n",
      "    Range : 3029000 ... 3195000 =   3029.000 ...  3195.000 secs\n",
      "Ready.\n",
      "Reading 0 ... 166000  =      0.000 ...   166.000 secs...\n"
     ]
    },
    {
     "name": "stderr",
     "output_type": "stream",
     "text": [
      "C:\\Users\\marco\\AppData\\Local\\Temp\\ipykernel_6904\\2770616247.py:12: RuntimeWarning: This filename (../SEED_FRA_OUTPUT/NEUTRAL/6_2_trial_16_signals.fif) does not conform to MNE naming conventions. All raw files should end with raw.fif, raw_sss.fif, raw_tsss.fif, _meg.fif, _eeg.fif, _ieeg.fif, raw.fif.gz, raw_sss.fif.gz, raw_tsss.fif.gz, _meg.fif.gz, _eeg.fif.gz or _ieeg.fif.gz\n",
      "  eeg_data = mne.io.read_raw_fif(name, preload=True)\n"
     ]
    },
    {
     "name": "stdout",
     "output_type": "stream",
     "text": [
      "Opening raw data file ../SEED_FRA_OUTPUT/NEUTRAL/6_2_trial_19_signals.fif...\n",
      "    Range : 3515000 ... 3602000 =   3515.000 ...  3602.000 secs\n",
      "Ready.\n",
      "Reading 0 ... 87000  =      0.000 ...    87.000 secs...\n"
     ]
    },
    {
     "name": "stderr",
     "output_type": "stream",
     "text": [
      "C:\\Users\\marco\\AppData\\Local\\Temp\\ipykernel_6904\\2770616247.py:12: RuntimeWarning: This filename (../SEED_FRA_OUTPUT/NEUTRAL/6_2_trial_19_signals.fif) does not conform to MNE naming conventions. All raw files should end with raw.fif, raw_sss.fif, raw_tsss.fif, _meg.fif, _eeg.fif, _ieeg.fif, raw.fif.gz, raw_sss.fif.gz, raw_tsss.fif.gz, _meg.fif.gz, _eeg.fif.gz or _ieeg.fif.gz\n",
      "  eeg_data = mne.io.read_raw_fif(name, preload=True)\n"
     ]
    },
    {
     "name": "stdout",
     "output_type": "stream",
     "text": [
      "Opening raw data file ../SEED_FRA_OUTPUT/NEUTRAL/6_2_trial_2_signals.fif...\n",
      "    Range : 489000 ... 667000 =    489.000 ...   667.000 secs\n",
      "Ready.\n",
      "Reading 0 ... 178000  =      0.000 ...   178.000 secs...\n"
     ]
    },
    {
     "name": "stderr",
     "output_type": "stream",
     "text": [
      "C:\\Users\\marco\\AppData\\Local\\Temp\\ipykernel_6904\\2770616247.py:12: RuntimeWarning: This filename (../SEED_FRA_OUTPUT/NEUTRAL/6_2_trial_2_signals.fif) does not conform to MNE naming conventions. All raw files should end with raw.fif, raw_sss.fif, raw_tsss.fif, _meg.fif, _eeg.fif, _ieeg.fif, raw.fif.gz, raw_sss.fif.gz, raw_tsss.fif.gz, _meg.fif.gz, _eeg.fif.gz or _ieeg.fif.gz\n",
      "  eeg_data = mne.io.read_raw_fif(name, preload=True)\n"
     ]
    },
    {
     "name": "stdout",
     "output_type": "stream",
     "text": [
      "Opening raw data file ../SEED_FRA_OUTPUT/NEUTRAL/6_2_trial_5_signals.fif...\n",
      "    Range : 1103000 ... 1232000 =   1103.000 ...  1232.000 secs\n",
      "Ready.\n",
      "Reading 0 ... 129000  =      0.000 ...   129.000 secs...\n"
     ]
    },
    {
     "name": "stderr",
     "output_type": "stream",
     "text": [
      "C:\\Users\\marco\\AppData\\Local\\Temp\\ipykernel_6904\\2770616247.py:12: RuntimeWarning: This filename (../SEED_FRA_OUTPUT/NEUTRAL/6_2_trial_5_signals.fif) does not conform to MNE naming conventions. All raw files should end with raw.fif, raw_sss.fif, raw_tsss.fif, _meg.fif, _eeg.fif, _ieeg.fif, raw.fif.gz, raw_sss.fif.gz, raw_tsss.fif.gz, _meg.fif.gz, _eeg.fif.gz or _ieeg.fif.gz\n",
      "  eeg_data = mne.io.read_raw_fif(name, preload=True)\n"
     ]
    },
    {
     "name": "stdout",
     "output_type": "stream",
     "text": [
      "Opening raw data file ../SEED_FRA_OUTPUT/NEUTRAL/6_2_trial_7_signals.fif...\n",
      "    Range : 1572000 ... 1718000 =   1572.000 ...  1718.000 secs\n",
      "Ready.\n",
      "Reading 0 ... 146000  =      0.000 ...   146.000 secs...\n"
     ]
    },
    {
     "name": "stderr",
     "output_type": "stream",
     "text": [
      "C:\\Users\\marco\\AppData\\Local\\Temp\\ipykernel_6904\\2770616247.py:12: RuntimeWarning: This filename (../SEED_FRA_OUTPUT/NEUTRAL/6_2_trial_7_signals.fif) does not conform to MNE naming conventions. All raw files should end with raw.fif, raw_sss.fif, raw_tsss.fif, _meg.fif, _eeg.fif, _ieeg.fif, raw.fif.gz, raw_sss.fif.gz, raw_tsss.fif.gz, _meg.fif.gz, _eeg.fif.gz or _ieeg.fif.gz\n",
      "  eeg_data = mne.io.read_raw_fif(name, preload=True)\n"
     ]
    },
    {
     "name": "stdout",
     "output_type": "stream",
     "text": [
      "Opening raw data file ../SEED_FRA_OUTPUT/NEUTRAL/6_3_trial_10_signals.fif...\n",
      "    Range : 2174000 ... 2307000 =   2174.000 ...  2307.000 secs\n",
      "Ready.\n",
      "Reading 0 ... 133000  =      0.000 ...   133.000 secs...\n"
     ]
    },
    {
     "name": "stderr",
     "output_type": "stream",
     "text": [
      "C:\\Users\\marco\\AppData\\Local\\Temp\\ipykernel_6904\\2770616247.py:12: RuntimeWarning: This filename (../SEED_FRA_OUTPUT/NEUTRAL/6_3_trial_10_signals.fif) does not conform to MNE naming conventions. All raw files should end with raw.fif, raw_sss.fif, raw_tsss.fif, _meg.fif, _eeg.fif, _ieeg.fif, raw.fif.gz, raw_sss.fif.gz, raw_tsss.fif.gz, _meg.fif.gz, _eeg.fif.gz or _ieeg.fif.gz\n",
      "  eeg_data = mne.io.read_raw_fif(name, preload=True)\n"
     ]
    },
    {
     "name": "stdout",
     "output_type": "stream",
     "text": [
      "Opening raw data file ../SEED_FRA_OUTPUT/NEUTRAL/6_3_trial_13_signals.fif...\n",
      "    Range : 2619000 ... 2763000 =   2619.000 ...  2763.000 secs\n",
      "Ready.\n",
      "Reading 0 ... 144000  =      0.000 ...   144.000 secs...\n"
     ]
    },
    {
     "name": "stderr",
     "output_type": "stream",
     "text": [
      "C:\\Users\\marco\\AppData\\Local\\Temp\\ipykernel_6904\\2770616247.py:12: RuntimeWarning: This filename (../SEED_FRA_OUTPUT/NEUTRAL/6_3_trial_13_signals.fif) does not conform to MNE naming conventions. All raw files should end with raw.fif, raw_sss.fif, raw_tsss.fif, _meg.fif, _eeg.fif, _ieeg.fif, raw.fif.gz, raw_sss.fif.gz, raw_tsss.fif.gz, _meg.fif.gz, _eeg.fif.gz or _ieeg.fif.gz\n",
      "  eeg_data = mne.io.read_raw_fif(name, preload=True)\n"
     ]
    },
    {
     "name": "stdout",
     "output_type": "stream",
     "text": [
      "Opening raw data file ../SEED_FRA_OUTPUT/NEUTRAL/6_3_trial_16_signals.fif...\n",
      "    Range : 3029000 ... 3195000 =   3029.000 ...  3195.000 secs\n",
      "Ready.\n",
      "Reading 0 ... 166000  =      0.000 ...   166.000 secs...\n"
     ]
    },
    {
     "name": "stderr",
     "output_type": "stream",
     "text": [
      "C:\\Users\\marco\\AppData\\Local\\Temp\\ipykernel_6904\\2770616247.py:12: RuntimeWarning: This filename (../SEED_FRA_OUTPUT/NEUTRAL/6_3_trial_16_signals.fif) does not conform to MNE naming conventions. All raw files should end with raw.fif, raw_sss.fif, raw_tsss.fif, _meg.fif, _eeg.fif, _ieeg.fif, raw.fif.gz, raw_sss.fif.gz, raw_tsss.fif.gz, _meg.fif.gz, _eeg.fif.gz or _ieeg.fif.gz\n",
      "  eeg_data = mne.io.read_raw_fif(name, preload=True)\n"
     ]
    },
    {
     "name": "stdout",
     "output_type": "stream",
     "text": [
      "Opening raw data file ../SEED_FRA_OUTPUT/NEUTRAL/6_3_trial_19_signals.fif...\n",
      "    Range : 3515000 ... 3602000 =   3515.000 ...  3602.000 secs\n",
      "Ready.\n",
      "Reading 0 ... 87000  =      0.000 ...    87.000 secs...\n"
     ]
    },
    {
     "name": "stderr",
     "output_type": "stream",
     "text": [
      "C:\\Users\\marco\\AppData\\Local\\Temp\\ipykernel_6904\\2770616247.py:12: RuntimeWarning: This filename (../SEED_FRA_OUTPUT/NEUTRAL/6_3_trial_19_signals.fif) does not conform to MNE naming conventions. All raw files should end with raw.fif, raw_sss.fif, raw_tsss.fif, _meg.fif, _eeg.fif, _ieeg.fif, raw.fif.gz, raw_sss.fif.gz, raw_tsss.fif.gz, _meg.fif.gz, _eeg.fif.gz or _ieeg.fif.gz\n",
      "  eeg_data = mne.io.read_raw_fif(name, preload=True)\n"
     ]
    },
    {
     "name": "stdout",
     "output_type": "stream",
     "text": [
      "Opening raw data file ../SEED_FRA_OUTPUT/NEUTRAL/6_3_trial_2_signals.fif...\n",
      "    Range : 489000 ... 667000 =    489.000 ...   667.000 secs\n",
      "Ready.\n",
      "Reading 0 ... 178000  =      0.000 ...   178.000 secs...\n"
     ]
    },
    {
     "name": "stderr",
     "output_type": "stream",
     "text": [
      "C:\\Users\\marco\\AppData\\Local\\Temp\\ipykernel_6904\\2770616247.py:12: RuntimeWarning: This filename (../SEED_FRA_OUTPUT/NEUTRAL/6_3_trial_2_signals.fif) does not conform to MNE naming conventions. All raw files should end with raw.fif, raw_sss.fif, raw_tsss.fif, _meg.fif, _eeg.fif, _ieeg.fif, raw.fif.gz, raw_sss.fif.gz, raw_tsss.fif.gz, _meg.fif.gz, _eeg.fif.gz or _ieeg.fif.gz\n",
      "  eeg_data = mne.io.read_raw_fif(name, preload=True)\n"
     ]
    },
    {
     "name": "stdout",
     "output_type": "stream",
     "text": [
      "Opening raw data file ../SEED_FRA_OUTPUT/NEUTRAL/6_3_trial_5_signals.fif...\n",
      "    Range : 1103000 ... 1232000 =   1103.000 ...  1232.000 secs\n",
      "Ready.\n",
      "Reading 0 ... 129000  =      0.000 ...   129.000 secs...\n"
     ]
    },
    {
     "name": "stderr",
     "output_type": "stream",
     "text": [
      "C:\\Users\\marco\\AppData\\Local\\Temp\\ipykernel_6904\\2770616247.py:12: RuntimeWarning: This filename (../SEED_FRA_OUTPUT/NEUTRAL/6_3_trial_5_signals.fif) does not conform to MNE naming conventions. All raw files should end with raw.fif, raw_sss.fif, raw_tsss.fif, _meg.fif, _eeg.fif, _ieeg.fif, raw.fif.gz, raw_sss.fif.gz, raw_tsss.fif.gz, _meg.fif.gz, _eeg.fif.gz or _ieeg.fif.gz\n",
      "  eeg_data = mne.io.read_raw_fif(name, preload=True)\n"
     ]
    },
    {
     "name": "stdout",
     "output_type": "stream",
     "text": [
      "Opening raw data file ../SEED_FRA_OUTPUT/NEUTRAL/6_3_trial_7_signals.fif...\n",
      "    Range : 1572000 ... 1718000 =   1572.000 ...  1718.000 secs\n",
      "Ready.\n",
      "Reading 0 ... 146000  =      0.000 ...   146.000 secs...\n"
     ]
    },
    {
     "name": "stderr",
     "output_type": "stream",
     "text": [
      "C:\\Users\\marco\\AppData\\Local\\Temp\\ipykernel_6904\\2770616247.py:12: RuntimeWarning: This filename (../SEED_FRA_OUTPUT/NEUTRAL/6_3_trial_7_signals.fif) does not conform to MNE naming conventions. All raw files should end with raw.fif, raw_sss.fif, raw_tsss.fif, _meg.fif, _eeg.fif, _ieeg.fif, raw.fif.gz, raw_sss.fif.gz, raw_tsss.fif.gz, _meg.fif.gz, _eeg.fif.gz or _ieeg.fif.gz\n",
      "  eeg_data = mne.io.read_raw_fif(name, preload=True)\n"
     ]
    },
    {
     "name": "stdout",
     "output_type": "stream",
     "text": [
      "Opening raw data file ../SEED_FRA_OUTPUT/NEUTRAL/7_1_trial_10_signals.fif...\n",
      "    Range : 2174000 ... 2307000 =   2174.000 ...  2307.000 secs\n",
      "Ready.\n",
      "Reading 0 ... 133000  =      0.000 ...   133.000 secs...\n"
     ]
    },
    {
     "name": "stderr",
     "output_type": "stream",
     "text": [
      "C:\\Users\\marco\\AppData\\Local\\Temp\\ipykernel_6904\\2770616247.py:12: RuntimeWarning: This filename (../SEED_FRA_OUTPUT/NEUTRAL/7_1_trial_10_signals.fif) does not conform to MNE naming conventions. All raw files should end with raw.fif, raw_sss.fif, raw_tsss.fif, _meg.fif, _eeg.fif, _ieeg.fif, raw.fif.gz, raw_sss.fif.gz, raw_tsss.fif.gz, _meg.fif.gz, _eeg.fif.gz or _ieeg.fif.gz\n",
      "  eeg_data = mne.io.read_raw_fif(name, preload=True)\n"
     ]
    },
    {
     "name": "stdout",
     "output_type": "stream",
     "text": [
      "Opening raw data file ../SEED_FRA_OUTPUT/NEUTRAL/7_1_trial_13_signals.fif...\n",
      "    Range : 2619000 ... 2763000 =   2619.000 ...  2763.000 secs\n",
      "Ready.\n",
      "Reading 0 ... 144000  =      0.000 ...   144.000 secs...\n"
     ]
    },
    {
     "name": "stderr",
     "output_type": "stream",
     "text": [
      "C:\\Users\\marco\\AppData\\Local\\Temp\\ipykernel_6904\\2770616247.py:12: RuntimeWarning: This filename (../SEED_FRA_OUTPUT/NEUTRAL/7_1_trial_13_signals.fif) does not conform to MNE naming conventions. All raw files should end with raw.fif, raw_sss.fif, raw_tsss.fif, _meg.fif, _eeg.fif, _ieeg.fif, raw.fif.gz, raw_sss.fif.gz, raw_tsss.fif.gz, _meg.fif.gz, _eeg.fif.gz or _ieeg.fif.gz\n",
      "  eeg_data = mne.io.read_raw_fif(name, preload=True)\n"
     ]
    },
    {
     "name": "stdout",
     "output_type": "stream",
     "text": [
      "Opening raw data file ../SEED_FRA_OUTPUT/NEUTRAL/7_1_trial_16_signals.fif...\n",
      "    Range : 3029000 ... 3195000 =   3029.000 ...  3195.000 secs\n",
      "Ready.\n",
      "Reading 0 ... 166000  =      0.000 ...   166.000 secs...\n"
     ]
    },
    {
     "name": "stderr",
     "output_type": "stream",
     "text": [
      "C:\\Users\\marco\\AppData\\Local\\Temp\\ipykernel_6904\\2770616247.py:12: RuntimeWarning: This filename (../SEED_FRA_OUTPUT/NEUTRAL/7_1_trial_16_signals.fif) does not conform to MNE naming conventions. All raw files should end with raw.fif, raw_sss.fif, raw_tsss.fif, _meg.fif, _eeg.fif, _ieeg.fif, raw.fif.gz, raw_sss.fif.gz, raw_tsss.fif.gz, _meg.fif.gz, _eeg.fif.gz or _ieeg.fif.gz\n",
      "  eeg_data = mne.io.read_raw_fif(name, preload=True)\n"
     ]
    },
    {
     "name": "stdout",
     "output_type": "stream",
     "text": [
      "Opening raw data file ../SEED_FRA_OUTPUT/NEUTRAL/7_1_trial_19_signals.fif...\n",
      "    Range : 3515000 ... 3602000 =   3515.000 ...  3602.000 secs\n",
      "Ready.\n",
      "Reading 0 ... 87000  =      0.000 ...    87.000 secs...\n"
     ]
    },
    {
     "name": "stderr",
     "output_type": "stream",
     "text": [
      "C:\\Users\\marco\\AppData\\Local\\Temp\\ipykernel_6904\\2770616247.py:12: RuntimeWarning: This filename (../SEED_FRA_OUTPUT/NEUTRAL/7_1_trial_19_signals.fif) does not conform to MNE naming conventions. All raw files should end with raw.fif, raw_sss.fif, raw_tsss.fif, _meg.fif, _eeg.fif, _ieeg.fif, raw.fif.gz, raw_sss.fif.gz, raw_tsss.fif.gz, _meg.fif.gz, _eeg.fif.gz or _ieeg.fif.gz\n",
      "  eeg_data = mne.io.read_raw_fif(name, preload=True)\n"
     ]
    },
    {
     "name": "stdout",
     "output_type": "stream",
     "text": [
      "Opening raw data file ../SEED_FRA_OUTPUT/NEUTRAL/7_1_trial_2_signals.fif...\n",
      "    Range : 489000 ... 667000 =    489.000 ...   667.000 secs\n",
      "Ready.\n",
      "Reading 0 ... 178000  =      0.000 ...   178.000 secs...\n"
     ]
    },
    {
     "name": "stderr",
     "output_type": "stream",
     "text": [
      "C:\\Users\\marco\\AppData\\Local\\Temp\\ipykernel_6904\\2770616247.py:12: RuntimeWarning: This filename (../SEED_FRA_OUTPUT/NEUTRAL/7_1_trial_2_signals.fif) does not conform to MNE naming conventions. All raw files should end with raw.fif, raw_sss.fif, raw_tsss.fif, _meg.fif, _eeg.fif, _ieeg.fif, raw.fif.gz, raw_sss.fif.gz, raw_tsss.fif.gz, _meg.fif.gz, _eeg.fif.gz or _ieeg.fif.gz\n",
      "  eeg_data = mne.io.read_raw_fif(name, preload=True)\n"
     ]
    },
    {
     "name": "stdout",
     "output_type": "stream",
     "text": [
      "Opening raw data file ../SEED_FRA_OUTPUT/NEUTRAL/7_1_trial_5_signals.fif...\n",
      "    Range : 1103000 ... 1232000 =   1103.000 ...  1232.000 secs\n",
      "Ready.\n",
      "Reading 0 ... 129000  =      0.000 ...   129.000 secs...\n"
     ]
    },
    {
     "name": "stderr",
     "output_type": "stream",
     "text": [
      "C:\\Users\\marco\\AppData\\Local\\Temp\\ipykernel_6904\\2770616247.py:12: RuntimeWarning: This filename (../SEED_FRA_OUTPUT/NEUTRAL/7_1_trial_5_signals.fif) does not conform to MNE naming conventions. All raw files should end with raw.fif, raw_sss.fif, raw_tsss.fif, _meg.fif, _eeg.fif, _ieeg.fif, raw.fif.gz, raw_sss.fif.gz, raw_tsss.fif.gz, _meg.fif.gz, _eeg.fif.gz or _ieeg.fif.gz\n",
      "  eeg_data = mne.io.read_raw_fif(name, preload=True)\n"
     ]
    },
    {
     "name": "stdout",
     "output_type": "stream",
     "text": [
      "Opening raw data file ../SEED_FRA_OUTPUT/NEUTRAL/7_1_trial_7_signals.fif...\n",
      "    Range : 1572000 ... 1718000 =   1572.000 ...  1718.000 secs\n",
      "Ready.\n",
      "Reading 0 ... 146000  =      0.000 ...   146.000 secs...\n"
     ]
    },
    {
     "name": "stderr",
     "output_type": "stream",
     "text": [
      "C:\\Users\\marco\\AppData\\Local\\Temp\\ipykernel_6904\\2770616247.py:12: RuntimeWarning: This filename (../SEED_FRA_OUTPUT/NEUTRAL/7_1_trial_7_signals.fif) does not conform to MNE naming conventions. All raw files should end with raw.fif, raw_sss.fif, raw_tsss.fif, _meg.fif, _eeg.fif, _ieeg.fif, raw.fif.gz, raw_sss.fif.gz, raw_tsss.fif.gz, _meg.fif.gz, _eeg.fif.gz or _ieeg.fif.gz\n",
      "  eeg_data = mne.io.read_raw_fif(name, preload=True)\n"
     ]
    },
    {
     "name": "stdout",
     "output_type": "stream",
     "text": [
      "Opening raw data file ../SEED_FRA_OUTPUT/NEUTRAL/7_2_trial_10_signals.fif...\n",
      "    Range : 2174000 ... 2307000 =   2174.000 ...  2307.000 secs\n",
      "Ready.\n",
      "Reading 0 ... 133000  =      0.000 ...   133.000 secs...\n"
     ]
    },
    {
     "name": "stderr",
     "output_type": "stream",
     "text": [
      "C:\\Users\\marco\\AppData\\Local\\Temp\\ipykernel_6904\\2770616247.py:12: RuntimeWarning: This filename (../SEED_FRA_OUTPUT/NEUTRAL/7_2_trial_10_signals.fif) does not conform to MNE naming conventions. All raw files should end with raw.fif, raw_sss.fif, raw_tsss.fif, _meg.fif, _eeg.fif, _ieeg.fif, raw.fif.gz, raw_sss.fif.gz, raw_tsss.fif.gz, _meg.fif.gz, _eeg.fif.gz or _ieeg.fif.gz\n",
      "  eeg_data = mne.io.read_raw_fif(name, preload=True)\n"
     ]
    },
    {
     "name": "stdout",
     "output_type": "stream",
     "text": [
      "Opening raw data file ../SEED_FRA_OUTPUT/NEUTRAL/7_2_trial_13_signals.fif...\n",
      "    Range : 2619000 ... 2763000 =   2619.000 ...  2763.000 secs\n",
      "Ready.\n",
      "Reading 0 ... 144000  =      0.000 ...   144.000 secs...\n"
     ]
    },
    {
     "name": "stderr",
     "output_type": "stream",
     "text": [
      "C:\\Users\\marco\\AppData\\Local\\Temp\\ipykernel_6904\\2770616247.py:12: RuntimeWarning: This filename (../SEED_FRA_OUTPUT/NEUTRAL/7_2_trial_13_signals.fif) does not conform to MNE naming conventions. All raw files should end with raw.fif, raw_sss.fif, raw_tsss.fif, _meg.fif, _eeg.fif, _ieeg.fif, raw.fif.gz, raw_sss.fif.gz, raw_tsss.fif.gz, _meg.fif.gz, _eeg.fif.gz or _ieeg.fif.gz\n",
      "  eeg_data = mne.io.read_raw_fif(name, preload=True)\n"
     ]
    },
    {
     "name": "stdout",
     "output_type": "stream",
     "text": [
      "Opening raw data file ../SEED_FRA_OUTPUT/NEUTRAL/7_2_trial_16_signals.fif...\n",
      "    Range : 3029000 ... 3195000 =   3029.000 ...  3195.000 secs\n",
      "Ready.\n",
      "Reading 0 ... 166000  =      0.000 ...   166.000 secs...\n"
     ]
    },
    {
     "name": "stderr",
     "output_type": "stream",
     "text": [
      "C:\\Users\\marco\\AppData\\Local\\Temp\\ipykernel_6904\\2770616247.py:12: RuntimeWarning: This filename (../SEED_FRA_OUTPUT/NEUTRAL/7_2_trial_16_signals.fif) does not conform to MNE naming conventions. All raw files should end with raw.fif, raw_sss.fif, raw_tsss.fif, _meg.fif, _eeg.fif, _ieeg.fif, raw.fif.gz, raw_sss.fif.gz, raw_tsss.fif.gz, _meg.fif.gz, _eeg.fif.gz or _ieeg.fif.gz\n",
      "  eeg_data = mne.io.read_raw_fif(name, preload=True)\n"
     ]
    },
    {
     "name": "stdout",
     "output_type": "stream",
     "text": [
      "Opening raw data file ../SEED_FRA_OUTPUT/NEUTRAL/7_2_trial_19_signals.fif...\n",
      "    Range : 3515000 ... 3602000 =   3515.000 ...  3602.000 secs\n",
      "Ready.\n",
      "Reading 0 ... 87000  =      0.000 ...    87.000 secs...\n"
     ]
    },
    {
     "name": "stderr",
     "output_type": "stream",
     "text": [
      "C:\\Users\\marco\\AppData\\Local\\Temp\\ipykernel_6904\\2770616247.py:12: RuntimeWarning: This filename (../SEED_FRA_OUTPUT/NEUTRAL/7_2_trial_19_signals.fif) does not conform to MNE naming conventions. All raw files should end with raw.fif, raw_sss.fif, raw_tsss.fif, _meg.fif, _eeg.fif, _ieeg.fif, raw.fif.gz, raw_sss.fif.gz, raw_tsss.fif.gz, _meg.fif.gz, _eeg.fif.gz or _ieeg.fif.gz\n",
      "  eeg_data = mne.io.read_raw_fif(name, preload=True)\n"
     ]
    },
    {
     "name": "stdout",
     "output_type": "stream",
     "text": [
      "Opening raw data file ../SEED_FRA_OUTPUT/NEUTRAL/7_2_trial_2_signals.fif...\n",
      "    Range : 489000 ... 667000 =    489.000 ...   667.000 secs\n",
      "Ready.\n",
      "Reading 0 ... 178000  =      0.000 ...   178.000 secs...\n"
     ]
    },
    {
     "name": "stderr",
     "output_type": "stream",
     "text": [
      "C:\\Users\\marco\\AppData\\Local\\Temp\\ipykernel_6904\\2770616247.py:12: RuntimeWarning: This filename (../SEED_FRA_OUTPUT/NEUTRAL/7_2_trial_2_signals.fif) does not conform to MNE naming conventions. All raw files should end with raw.fif, raw_sss.fif, raw_tsss.fif, _meg.fif, _eeg.fif, _ieeg.fif, raw.fif.gz, raw_sss.fif.gz, raw_tsss.fif.gz, _meg.fif.gz, _eeg.fif.gz or _ieeg.fif.gz\n",
      "  eeg_data = mne.io.read_raw_fif(name, preload=True)\n"
     ]
    },
    {
     "name": "stdout",
     "output_type": "stream",
     "text": [
      "Opening raw data file ../SEED_FRA_OUTPUT/NEUTRAL/7_2_trial_5_signals.fif...\n",
      "    Range : 1103000 ... 1232000 =   1103.000 ...  1232.000 secs\n",
      "Ready.\n",
      "Reading 0 ... 129000  =      0.000 ...   129.000 secs...\n"
     ]
    },
    {
     "name": "stderr",
     "output_type": "stream",
     "text": [
      "C:\\Users\\marco\\AppData\\Local\\Temp\\ipykernel_6904\\2770616247.py:12: RuntimeWarning: This filename (../SEED_FRA_OUTPUT/NEUTRAL/7_2_trial_5_signals.fif) does not conform to MNE naming conventions. All raw files should end with raw.fif, raw_sss.fif, raw_tsss.fif, _meg.fif, _eeg.fif, _ieeg.fif, raw.fif.gz, raw_sss.fif.gz, raw_tsss.fif.gz, _meg.fif.gz, _eeg.fif.gz or _ieeg.fif.gz\n",
      "  eeg_data = mne.io.read_raw_fif(name, preload=True)\n"
     ]
    },
    {
     "name": "stdout",
     "output_type": "stream",
     "text": [
      "Opening raw data file ../SEED_FRA_OUTPUT/NEUTRAL/7_2_trial_7_signals.fif...\n",
      "    Range : 1572000 ... 1718000 =   1572.000 ...  1718.000 secs\n",
      "Ready.\n",
      "Reading 0 ... 146000  =      0.000 ...   146.000 secs...\n"
     ]
    },
    {
     "name": "stderr",
     "output_type": "stream",
     "text": [
      "C:\\Users\\marco\\AppData\\Local\\Temp\\ipykernel_6904\\2770616247.py:12: RuntimeWarning: This filename (../SEED_FRA_OUTPUT/NEUTRAL/7_2_trial_7_signals.fif) does not conform to MNE naming conventions. All raw files should end with raw.fif, raw_sss.fif, raw_tsss.fif, _meg.fif, _eeg.fif, _ieeg.fif, raw.fif.gz, raw_sss.fif.gz, raw_tsss.fif.gz, _meg.fif.gz, _eeg.fif.gz or _ieeg.fif.gz\n",
      "  eeg_data = mne.io.read_raw_fif(name, preload=True)\n"
     ]
    },
    {
     "name": "stdout",
     "output_type": "stream",
     "text": [
      "Opening raw data file ../SEED_FRA_OUTPUT/NEUTRAL/7_3_trial_10_signals.fif...\n",
      "    Range : 2174000 ... 2307000 =   2174.000 ...  2307.000 secs\n",
      "Ready.\n",
      "Reading 0 ... 133000  =      0.000 ...   133.000 secs...\n"
     ]
    },
    {
     "name": "stderr",
     "output_type": "stream",
     "text": [
      "C:\\Users\\marco\\AppData\\Local\\Temp\\ipykernel_6904\\2770616247.py:12: RuntimeWarning: This filename (../SEED_FRA_OUTPUT/NEUTRAL/7_3_trial_10_signals.fif) does not conform to MNE naming conventions. All raw files should end with raw.fif, raw_sss.fif, raw_tsss.fif, _meg.fif, _eeg.fif, _ieeg.fif, raw.fif.gz, raw_sss.fif.gz, raw_tsss.fif.gz, _meg.fif.gz, _eeg.fif.gz or _ieeg.fif.gz\n",
      "  eeg_data = mne.io.read_raw_fif(name, preload=True)\n"
     ]
    },
    {
     "name": "stdout",
     "output_type": "stream",
     "text": [
      "Opening raw data file ../SEED_FRA_OUTPUT/NEUTRAL/7_3_trial_13_signals.fif...\n",
      "    Range : 2619000 ... 2763000 =   2619.000 ...  2763.000 secs\n",
      "Ready.\n",
      "Reading 0 ... 144000  =      0.000 ...   144.000 secs...\n"
     ]
    },
    {
     "name": "stderr",
     "output_type": "stream",
     "text": [
      "C:\\Users\\marco\\AppData\\Local\\Temp\\ipykernel_6904\\2770616247.py:12: RuntimeWarning: This filename (../SEED_FRA_OUTPUT/NEUTRAL/7_3_trial_13_signals.fif) does not conform to MNE naming conventions. All raw files should end with raw.fif, raw_sss.fif, raw_tsss.fif, _meg.fif, _eeg.fif, _ieeg.fif, raw.fif.gz, raw_sss.fif.gz, raw_tsss.fif.gz, _meg.fif.gz, _eeg.fif.gz or _ieeg.fif.gz\n",
      "  eeg_data = mne.io.read_raw_fif(name, preload=True)\n"
     ]
    },
    {
     "name": "stdout",
     "output_type": "stream",
     "text": [
      "Opening raw data file ../SEED_FRA_OUTPUT/NEUTRAL/7_3_trial_16_signals.fif...\n",
      "    Range : 3029000 ... 3195000 =   3029.000 ...  3195.000 secs\n",
      "Ready.\n",
      "Reading 0 ... 166000  =      0.000 ...   166.000 secs...\n"
     ]
    },
    {
     "name": "stderr",
     "output_type": "stream",
     "text": [
      "C:\\Users\\marco\\AppData\\Local\\Temp\\ipykernel_6904\\2770616247.py:12: RuntimeWarning: This filename (../SEED_FRA_OUTPUT/NEUTRAL/7_3_trial_16_signals.fif) does not conform to MNE naming conventions. All raw files should end with raw.fif, raw_sss.fif, raw_tsss.fif, _meg.fif, _eeg.fif, _ieeg.fif, raw.fif.gz, raw_sss.fif.gz, raw_tsss.fif.gz, _meg.fif.gz, _eeg.fif.gz or _ieeg.fif.gz\n",
      "  eeg_data = mne.io.read_raw_fif(name, preload=True)\n"
     ]
    },
    {
     "name": "stdout",
     "output_type": "stream",
     "text": [
      "Opening raw data file ../SEED_FRA_OUTPUT/NEUTRAL/7_3_trial_19_signals.fif...\n",
      "    Range : 3515000 ... 3602000 =   3515.000 ...  3602.000 secs\n",
      "Ready.\n",
      "Reading 0 ... 87000  =      0.000 ...    87.000 secs...\n"
     ]
    },
    {
     "name": "stderr",
     "output_type": "stream",
     "text": [
      "C:\\Users\\marco\\AppData\\Local\\Temp\\ipykernel_6904\\2770616247.py:12: RuntimeWarning: This filename (../SEED_FRA_OUTPUT/NEUTRAL/7_3_trial_19_signals.fif) does not conform to MNE naming conventions. All raw files should end with raw.fif, raw_sss.fif, raw_tsss.fif, _meg.fif, _eeg.fif, _ieeg.fif, raw.fif.gz, raw_sss.fif.gz, raw_tsss.fif.gz, _meg.fif.gz, _eeg.fif.gz or _ieeg.fif.gz\n",
      "  eeg_data = mne.io.read_raw_fif(name, preload=True)\n"
     ]
    },
    {
     "name": "stdout",
     "output_type": "stream",
     "text": [
      "Opening raw data file ../SEED_FRA_OUTPUT/NEUTRAL/7_3_trial_2_signals.fif...\n",
      "    Range : 489000 ... 667000 =    489.000 ...   667.000 secs\n",
      "Ready.\n",
      "Reading 0 ... 178000  =      0.000 ...   178.000 secs...\n"
     ]
    },
    {
     "name": "stderr",
     "output_type": "stream",
     "text": [
      "C:\\Users\\marco\\AppData\\Local\\Temp\\ipykernel_6904\\2770616247.py:12: RuntimeWarning: This filename (../SEED_FRA_OUTPUT/NEUTRAL/7_3_trial_2_signals.fif) does not conform to MNE naming conventions. All raw files should end with raw.fif, raw_sss.fif, raw_tsss.fif, _meg.fif, _eeg.fif, _ieeg.fif, raw.fif.gz, raw_sss.fif.gz, raw_tsss.fif.gz, _meg.fif.gz, _eeg.fif.gz or _ieeg.fif.gz\n",
      "  eeg_data = mne.io.read_raw_fif(name, preload=True)\n"
     ]
    },
    {
     "name": "stdout",
     "output_type": "stream",
     "text": [
      "Opening raw data file ../SEED_FRA_OUTPUT/NEUTRAL/7_3_trial_5_signals.fif...\n",
      "    Range : 1103000 ... 1232000 =   1103.000 ...  1232.000 secs\n",
      "Ready.\n",
      "Reading 0 ... 129000  =      0.000 ...   129.000 secs...\n"
     ]
    },
    {
     "name": "stderr",
     "output_type": "stream",
     "text": [
      "C:\\Users\\marco\\AppData\\Local\\Temp\\ipykernel_6904\\2770616247.py:12: RuntimeWarning: This filename (../SEED_FRA_OUTPUT/NEUTRAL/7_3_trial_5_signals.fif) does not conform to MNE naming conventions. All raw files should end with raw.fif, raw_sss.fif, raw_tsss.fif, _meg.fif, _eeg.fif, _ieeg.fif, raw.fif.gz, raw_sss.fif.gz, raw_tsss.fif.gz, _meg.fif.gz, _eeg.fif.gz or _ieeg.fif.gz\n",
      "  eeg_data = mne.io.read_raw_fif(name, preload=True)\n"
     ]
    },
    {
     "name": "stdout",
     "output_type": "stream",
     "text": [
      "Opening raw data file ../SEED_FRA_OUTPUT/NEUTRAL/7_3_trial_7_signals.fif...\n",
      "    Range : 1572000 ... 1718000 =   1572.000 ...  1718.000 secs\n",
      "Ready.\n",
      "Reading 0 ... 146000  =      0.000 ...   146.000 secs...\n"
     ]
    },
    {
     "name": "stderr",
     "output_type": "stream",
     "text": [
      "C:\\Users\\marco\\AppData\\Local\\Temp\\ipykernel_6904\\2770616247.py:12: RuntimeWarning: This filename (../SEED_FRA_OUTPUT/NEUTRAL/7_3_trial_7_signals.fif) does not conform to MNE naming conventions. All raw files should end with raw.fif, raw_sss.fif, raw_tsss.fif, _meg.fif, _eeg.fif, _ieeg.fif, raw.fif.gz, raw_sss.fif.gz, raw_tsss.fif.gz, _meg.fif.gz, _eeg.fif.gz or _ieeg.fif.gz\n",
      "  eeg_data = mne.io.read_raw_fif(name, preload=True)\n"
     ]
    },
    {
     "name": "stdout",
     "output_type": "stream",
     "text": [
      "Opening raw data file ../SEED_FRA_OUTPUT/NEUTRAL/8_1_trial_10_signals.fif...\n",
      "    Range : 2174000 ... 2307000 =   2174.000 ...  2307.000 secs\n",
      "Ready.\n",
      "Reading 0 ... 133000  =      0.000 ...   133.000 secs...\n"
     ]
    },
    {
     "name": "stderr",
     "output_type": "stream",
     "text": [
      "C:\\Users\\marco\\AppData\\Local\\Temp\\ipykernel_6904\\2770616247.py:12: RuntimeWarning: This filename (../SEED_FRA_OUTPUT/NEUTRAL/8_1_trial_10_signals.fif) does not conform to MNE naming conventions. All raw files should end with raw.fif, raw_sss.fif, raw_tsss.fif, _meg.fif, _eeg.fif, _ieeg.fif, raw.fif.gz, raw_sss.fif.gz, raw_tsss.fif.gz, _meg.fif.gz, _eeg.fif.gz or _ieeg.fif.gz\n",
      "  eeg_data = mne.io.read_raw_fif(name, preload=True)\n"
     ]
    },
    {
     "name": "stdout",
     "output_type": "stream",
     "text": [
      "Opening raw data file ../SEED_FRA_OUTPUT/NEUTRAL/8_1_trial_13_signals.fif...\n",
      "    Range : 2619000 ... 2763000 =   2619.000 ...  2763.000 secs\n",
      "Ready.\n",
      "Reading 0 ... 144000  =      0.000 ...   144.000 secs...\n"
     ]
    },
    {
     "name": "stderr",
     "output_type": "stream",
     "text": [
      "C:\\Users\\marco\\AppData\\Local\\Temp\\ipykernel_6904\\2770616247.py:12: RuntimeWarning: This filename (../SEED_FRA_OUTPUT/NEUTRAL/8_1_trial_13_signals.fif) does not conform to MNE naming conventions. All raw files should end with raw.fif, raw_sss.fif, raw_tsss.fif, _meg.fif, _eeg.fif, _ieeg.fif, raw.fif.gz, raw_sss.fif.gz, raw_tsss.fif.gz, _meg.fif.gz, _eeg.fif.gz or _ieeg.fif.gz\n",
      "  eeg_data = mne.io.read_raw_fif(name, preload=True)\n"
     ]
    },
    {
     "name": "stdout",
     "output_type": "stream",
     "text": [
      "Opening raw data file ../SEED_FRA_OUTPUT/NEUTRAL/8_1_trial_16_signals.fif...\n",
      "    Range : 3029000 ... 3195000 =   3029.000 ...  3195.000 secs\n",
      "Ready.\n",
      "Reading 0 ... 166000  =      0.000 ...   166.000 secs...\n"
     ]
    },
    {
     "name": "stderr",
     "output_type": "stream",
     "text": [
      "C:\\Users\\marco\\AppData\\Local\\Temp\\ipykernel_6904\\2770616247.py:12: RuntimeWarning: This filename (../SEED_FRA_OUTPUT/NEUTRAL/8_1_trial_16_signals.fif) does not conform to MNE naming conventions. All raw files should end with raw.fif, raw_sss.fif, raw_tsss.fif, _meg.fif, _eeg.fif, _ieeg.fif, raw.fif.gz, raw_sss.fif.gz, raw_tsss.fif.gz, _meg.fif.gz, _eeg.fif.gz or _ieeg.fif.gz\n",
      "  eeg_data = mne.io.read_raw_fif(name, preload=True)\n"
     ]
    },
    {
     "name": "stdout",
     "output_type": "stream",
     "text": [
      "Opening raw data file ../SEED_FRA_OUTPUT/NEUTRAL/8_1_trial_19_signals.fif...\n",
      "    Range : 3515000 ... 3602000 =   3515.000 ...  3602.000 secs\n",
      "Ready.\n",
      "Reading 0 ... 87000  =      0.000 ...    87.000 secs...\n"
     ]
    },
    {
     "name": "stderr",
     "output_type": "stream",
     "text": [
      "C:\\Users\\marco\\AppData\\Local\\Temp\\ipykernel_6904\\2770616247.py:12: RuntimeWarning: This filename (../SEED_FRA_OUTPUT/NEUTRAL/8_1_trial_19_signals.fif) does not conform to MNE naming conventions. All raw files should end with raw.fif, raw_sss.fif, raw_tsss.fif, _meg.fif, _eeg.fif, _ieeg.fif, raw.fif.gz, raw_sss.fif.gz, raw_tsss.fif.gz, _meg.fif.gz, _eeg.fif.gz or _ieeg.fif.gz\n",
      "  eeg_data = mne.io.read_raw_fif(name, preload=True)\n"
     ]
    },
    {
     "name": "stdout",
     "output_type": "stream",
     "text": [
      "Opening raw data file ../SEED_FRA_OUTPUT/NEUTRAL/8_1_trial_2_signals.fif...\n",
      "    Range : 489000 ... 667000 =    489.000 ...   667.000 secs\n",
      "Ready.\n",
      "Reading 0 ... 178000  =      0.000 ...   178.000 secs...\n"
     ]
    },
    {
     "name": "stderr",
     "output_type": "stream",
     "text": [
      "C:\\Users\\marco\\AppData\\Local\\Temp\\ipykernel_6904\\2770616247.py:12: RuntimeWarning: This filename (../SEED_FRA_OUTPUT/NEUTRAL/8_1_trial_2_signals.fif) does not conform to MNE naming conventions. All raw files should end with raw.fif, raw_sss.fif, raw_tsss.fif, _meg.fif, _eeg.fif, _ieeg.fif, raw.fif.gz, raw_sss.fif.gz, raw_tsss.fif.gz, _meg.fif.gz, _eeg.fif.gz or _ieeg.fif.gz\n",
      "  eeg_data = mne.io.read_raw_fif(name, preload=True)\n"
     ]
    },
    {
     "name": "stdout",
     "output_type": "stream",
     "text": [
      "Opening raw data file ../SEED_FRA_OUTPUT/NEUTRAL/8_1_trial_5_signals.fif...\n",
      "    Range : 1103000 ... 1232000 =   1103.000 ...  1232.000 secs\n",
      "Ready.\n",
      "Reading 0 ... 129000  =      0.000 ...   129.000 secs...\n"
     ]
    },
    {
     "name": "stderr",
     "output_type": "stream",
     "text": [
      "C:\\Users\\marco\\AppData\\Local\\Temp\\ipykernel_6904\\2770616247.py:12: RuntimeWarning: This filename (../SEED_FRA_OUTPUT/NEUTRAL/8_1_trial_5_signals.fif) does not conform to MNE naming conventions. All raw files should end with raw.fif, raw_sss.fif, raw_tsss.fif, _meg.fif, _eeg.fif, _ieeg.fif, raw.fif.gz, raw_sss.fif.gz, raw_tsss.fif.gz, _meg.fif.gz, _eeg.fif.gz or _ieeg.fif.gz\n",
      "  eeg_data = mne.io.read_raw_fif(name, preload=True)\n"
     ]
    },
    {
     "name": "stdout",
     "output_type": "stream",
     "text": [
      "Opening raw data file ../SEED_FRA_OUTPUT/NEUTRAL/8_1_trial_7_signals.fif...\n",
      "    Range : 1572000 ... 1718000 =   1572.000 ...  1718.000 secs\n",
      "Ready.\n",
      "Reading 0 ... 146000  =      0.000 ...   146.000 secs...\n"
     ]
    },
    {
     "name": "stderr",
     "output_type": "stream",
     "text": [
      "C:\\Users\\marco\\AppData\\Local\\Temp\\ipykernel_6904\\2770616247.py:12: RuntimeWarning: This filename (../SEED_FRA_OUTPUT/NEUTRAL/8_1_trial_7_signals.fif) does not conform to MNE naming conventions. All raw files should end with raw.fif, raw_sss.fif, raw_tsss.fif, _meg.fif, _eeg.fif, _ieeg.fif, raw.fif.gz, raw_sss.fif.gz, raw_tsss.fif.gz, _meg.fif.gz, _eeg.fif.gz or _ieeg.fif.gz\n",
      "  eeg_data = mne.io.read_raw_fif(name, preload=True)\n"
     ]
    },
    {
     "name": "stdout",
     "output_type": "stream",
     "text": [
      "Opening raw data file ../SEED_FRA_OUTPUT/NEUTRAL/8_2_trial_10_signals.fif...\n",
      "    Range : 2174000 ... 2307000 =   2174.000 ...  2307.000 secs\n",
      "Ready.\n",
      "Reading 0 ... 133000  =      0.000 ...   133.000 secs...\n"
     ]
    },
    {
     "name": "stderr",
     "output_type": "stream",
     "text": [
      "C:\\Users\\marco\\AppData\\Local\\Temp\\ipykernel_6904\\2770616247.py:12: RuntimeWarning: This filename (../SEED_FRA_OUTPUT/NEUTRAL/8_2_trial_10_signals.fif) does not conform to MNE naming conventions. All raw files should end with raw.fif, raw_sss.fif, raw_tsss.fif, _meg.fif, _eeg.fif, _ieeg.fif, raw.fif.gz, raw_sss.fif.gz, raw_tsss.fif.gz, _meg.fif.gz, _eeg.fif.gz or _ieeg.fif.gz\n",
      "  eeg_data = mne.io.read_raw_fif(name, preload=True)\n"
     ]
    },
    {
     "name": "stdout",
     "output_type": "stream",
     "text": [
      "Opening raw data file ../SEED_FRA_OUTPUT/NEUTRAL/8_2_trial_13_signals.fif...\n",
      "    Range : 2619000 ... 2763000 =   2619.000 ...  2763.000 secs\n",
      "Ready.\n",
      "Reading 0 ... 144000  =      0.000 ...   144.000 secs...\n"
     ]
    },
    {
     "name": "stderr",
     "output_type": "stream",
     "text": [
      "C:\\Users\\marco\\AppData\\Local\\Temp\\ipykernel_6904\\2770616247.py:12: RuntimeWarning: This filename (../SEED_FRA_OUTPUT/NEUTRAL/8_2_trial_13_signals.fif) does not conform to MNE naming conventions. All raw files should end with raw.fif, raw_sss.fif, raw_tsss.fif, _meg.fif, _eeg.fif, _ieeg.fif, raw.fif.gz, raw_sss.fif.gz, raw_tsss.fif.gz, _meg.fif.gz, _eeg.fif.gz or _ieeg.fif.gz\n",
      "  eeg_data = mne.io.read_raw_fif(name, preload=True)\n"
     ]
    },
    {
     "name": "stdout",
     "output_type": "stream",
     "text": [
      "Opening raw data file ../SEED_FRA_OUTPUT/NEUTRAL/8_2_trial_16_signals.fif...\n",
      "    Range : 3029000 ... 3195000 =   3029.000 ...  3195.000 secs\n",
      "Ready.\n",
      "Reading 0 ... 166000  =      0.000 ...   166.000 secs...\n"
     ]
    },
    {
     "name": "stderr",
     "output_type": "stream",
     "text": [
      "C:\\Users\\marco\\AppData\\Local\\Temp\\ipykernel_6904\\2770616247.py:12: RuntimeWarning: This filename (../SEED_FRA_OUTPUT/NEUTRAL/8_2_trial_16_signals.fif) does not conform to MNE naming conventions. All raw files should end with raw.fif, raw_sss.fif, raw_tsss.fif, _meg.fif, _eeg.fif, _ieeg.fif, raw.fif.gz, raw_sss.fif.gz, raw_tsss.fif.gz, _meg.fif.gz, _eeg.fif.gz or _ieeg.fif.gz\n",
      "  eeg_data = mne.io.read_raw_fif(name, preload=True)\n"
     ]
    },
    {
     "name": "stdout",
     "output_type": "stream",
     "text": [
      "Opening raw data file ../SEED_FRA_OUTPUT/NEUTRAL/8_2_trial_19_signals.fif...\n",
      "    Range : 3515000 ... 3602000 =   3515.000 ...  3602.000 secs\n",
      "Ready.\n",
      "Reading 0 ... 87000  =      0.000 ...    87.000 secs...\n"
     ]
    },
    {
     "name": "stderr",
     "output_type": "stream",
     "text": [
      "C:\\Users\\marco\\AppData\\Local\\Temp\\ipykernel_6904\\2770616247.py:12: RuntimeWarning: This filename (../SEED_FRA_OUTPUT/NEUTRAL/8_2_trial_19_signals.fif) does not conform to MNE naming conventions. All raw files should end with raw.fif, raw_sss.fif, raw_tsss.fif, _meg.fif, _eeg.fif, _ieeg.fif, raw.fif.gz, raw_sss.fif.gz, raw_tsss.fif.gz, _meg.fif.gz, _eeg.fif.gz or _ieeg.fif.gz\n",
      "  eeg_data = mne.io.read_raw_fif(name, preload=True)\n"
     ]
    },
    {
     "name": "stdout",
     "output_type": "stream",
     "text": [
      "Opening raw data file ../SEED_FRA_OUTPUT/NEUTRAL/8_2_trial_2_signals.fif...\n",
      "    Range : 489000 ... 667000 =    489.000 ...   667.000 secs\n",
      "Ready.\n",
      "Reading 0 ... 178000  =      0.000 ...   178.000 secs...\n"
     ]
    },
    {
     "name": "stderr",
     "output_type": "stream",
     "text": [
      "C:\\Users\\marco\\AppData\\Local\\Temp\\ipykernel_6904\\2770616247.py:12: RuntimeWarning: This filename (../SEED_FRA_OUTPUT/NEUTRAL/8_2_trial_2_signals.fif) does not conform to MNE naming conventions. All raw files should end with raw.fif, raw_sss.fif, raw_tsss.fif, _meg.fif, _eeg.fif, _ieeg.fif, raw.fif.gz, raw_sss.fif.gz, raw_tsss.fif.gz, _meg.fif.gz, _eeg.fif.gz or _ieeg.fif.gz\n",
      "  eeg_data = mne.io.read_raw_fif(name, preload=True)\n"
     ]
    },
    {
     "name": "stdout",
     "output_type": "stream",
     "text": [
      "Opening raw data file ../SEED_FRA_OUTPUT/NEUTRAL/8_2_trial_5_signals.fif...\n",
      "    Range : 1103000 ... 1232000 =   1103.000 ...  1232.000 secs\n",
      "Ready.\n",
      "Reading 0 ... 129000  =      0.000 ...   129.000 secs...\n"
     ]
    },
    {
     "name": "stderr",
     "output_type": "stream",
     "text": [
      "C:\\Users\\marco\\AppData\\Local\\Temp\\ipykernel_6904\\2770616247.py:12: RuntimeWarning: This filename (../SEED_FRA_OUTPUT/NEUTRAL/8_2_trial_5_signals.fif) does not conform to MNE naming conventions. All raw files should end with raw.fif, raw_sss.fif, raw_tsss.fif, _meg.fif, _eeg.fif, _ieeg.fif, raw.fif.gz, raw_sss.fif.gz, raw_tsss.fif.gz, _meg.fif.gz, _eeg.fif.gz or _ieeg.fif.gz\n",
      "  eeg_data = mne.io.read_raw_fif(name, preload=True)\n"
     ]
    },
    {
     "name": "stdout",
     "output_type": "stream",
     "text": [
      "Opening raw data file ../SEED_FRA_OUTPUT/NEUTRAL/8_2_trial_7_signals.fif...\n",
      "    Range : 1572000 ... 1718000 =   1572.000 ...  1718.000 secs\n",
      "Ready.\n",
      "Reading 0 ... 146000  =      0.000 ...   146.000 secs...\n"
     ]
    },
    {
     "name": "stderr",
     "output_type": "stream",
     "text": [
      "C:\\Users\\marco\\AppData\\Local\\Temp\\ipykernel_6904\\2770616247.py:12: RuntimeWarning: This filename (../SEED_FRA_OUTPUT/NEUTRAL/8_2_trial_7_signals.fif) does not conform to MNE naming conventions. All raw files should end with raw.fif, raw_sss.fif, raw_tsss.fif, _meg.fif, _eeg.fif, _ieeg.fif, raw.fif.gz, raw_sss.fif.gz, raw_tsss.fif.gz, _meg.fif.gz, _eeg.fif.gz or _ieeg.fif.gz\n",
      "  eeg_data = mne.io.read_raw_fif(name, preload=True)\n"
     ]
    },
    {
     "name": "stdout",
     "output_type": "stream",
     "text": [
      "Opening raw data file ../SEED_FRA_OUTPUT/NEUTRAL/8_3_trial_10_signals.fif...\n",
      "    Range : 2174000 ... 2307000 =   2174.000 ...  2307.000 secs\n",
      "Ready.\n",
      "Reading 0 ... 133000  =      0.000 ...   133.000 secs...\n"
     ]
    },
    {
     "name": "stderr",
     "output_type": "stream",
     "text": [
      "C:\\Users\\marco\\AppData\\Local\\Temp\\ipykernel_6904\\2770616247.py:12: RuntimeWarning: This filename (../SEED_FRA_OUTPUT/NEUTRAL/8_3_trial_10_signals.fif) does not conform to MNE naming conventions. All raw files should end with raw.fif, raw_sss.fif, raw_tsss.fif, _meg.fif, _eeg.fif, _ieeg.fif, raw.fif.gz, raw_sss.fif.gz, raw_tsss.fif.gz, _meg.fif.gz, _eeg.fif.gz or _ieeg.fif.gz\n",
      "  eeg_data = mne.io.read_raw_fif(name, preload=True)\n"
     ]
    },
    {
     "name": "stdout",
     "output_type": "stream",
     "text": [
      "Opening raw data file ../SEED_FRA_OUTPUT/NEUTRAL/8_3_trial_13_signals.fif...\n",
      "    Range : 2619000 ... 2763000 =   2619.000 ...  2763.000 secs\n",
      "Ready.\n",
      "Reading 0 ... 144000  =      0.000 ...   144.000 secs...\n"
     ]
    },
    {
     "name": "stderr",
     "output_type": "stream",
     "text": [
      "C:\\Users\\marco\\AppData\\Local\\Temp\\ipykernel_6904\\2770616247.py:12: RuntimeWarning: This filename (../SEED_FRA_OUTPUT/NEUTRAL/8_3_trial_13_signals.fif) does not conform to MNE naming conventions. All raw files should end with raw.fif, raw_sss.fif, raw_tsss.fif, _meg.fif, _eeg.fif, _ieeg.fif, raw.fif.gz, raw_sss.fif.gz, raw_tsss.fif.gz, _meg.fif.gz, _eeg.fif.gz or _ieeg.fif.gz\n",
      "  eeg_data = mne.io.read_raw_fif(name, preload=True)\n"
     ]
    },
    {
     "name": "stdout",
     "output_type": "stream",
     "text": [
      "Opening raw data file ../SEED_FRA_OUTPUT/NEUTRAL/8_3_trial_16_signals.fif...\n",
      "    Range : 3029000 ... 3195000 =   3029.000 ...  3195.000 secs\n",
      "Ready.\n",
      "Reading 0 ... 166000  =      0.000 ...   166.000 secs...\n"
     ]
    },
    {
     "name": "stderr",
     "output_type": "stream",
     "text": [
      "C:\\Users\\marco\\AppData\\Local\\Temp\\ipykernel_6904\\2770616247.py:12: RuntimeWarning: This filename (../SEED_FRA_OUTPUT/NEUTRAL/8_3_trial_16_signals.fif) does not conform to MNE naming conventions. All raw files should end with raw.fif, raw_sss.fif, raw_tsss.fif, _meg.fif, _eeg.fif, _ieeg.fif, raw.fif.gz, raw_sss.fif.gz, raw_tsss.fif.gz, _meg.fif.gz, _eeg.fif.gz or _ieeg.fif.gz\n",
      "  eeg_data = mne.io.read_raw_fif(name, preload=True)\n"
     ]
    },
    {
     "name": "stdout",
     "output_type": "stream",
     "text": [
      "Opening raw data file ../SEED_FRA_OUTPUT/NEUTRAL/8_3_trial_19_signals.fif...\n",
      "    Range : 3515000 ... 3602000 =   3515.000 ...  3602.000 secs\n",
      "Ready.\n",
      "Reading 0 ... 87000  =      0.000 ...    87.000 secs...\n"
     ]
    },
    {
     "name": "stderr",
     "output_type": "stream",
     "text": [
      "C:\\Users\\marco\\AppData\\Local\\Temp\\ipykernel_6904\\2770616247.py:12: RuntimeWarning: This filename (../SEED_FRA_OUTPUT/NEUTRAL/8_3_trial_19_signals.fif) does not conform to MNE naming conventions. All raw files should end with raw.fif, raw_sss.fif, raw_tsss.fif, _meg.fif, _eeg.fif, _ieeg.fif, raw.fif.gz, raw_sss.fif.gz, raw_tsss.fif.gz, _meg.fif.gz, _eeg.fif.gz or _ieeg.fif.gz\n",
      "  eeg_data = mne.io.read_raw_fif(name, preload=True)\n"
     ]
    },
    {
     "name": "stdout",
     "output_type": "stream",
     "text": [
      "Opening raw data file ../SEED_FRA_OUTPUT/NEUTRAL/8_3_trial_2_signals.fif...\n",
      "    Range : 489000 ... 667000 =    489.000 ...   667.000 secs\n",
      "Ready.\n",
      "Reading 0 ... 178000  =      0.000 ...   178.000 secs...\n"
     ]
    },
    {
     "name": "stderr",
     "output_type": "stream",
     "text": [
      "C:\\Users\\marco\\AppData\\Local\\Temp\\ipykernel_6904\\2770616247.py:12: RuntimeWarning: This filename (../SEED_FRA_OUTPUT/NEUTRAL/8_3_trial_2_signals.fif) does not conform to MNE naming conventions. All raw files should end with raw.fif, raw_sss.fif, raw_tsss.fif, _meg.fif, _eeg.fif, _ieeg.fif, raw.fif.gz, raw_sss.fif.gz, raw_tsss.fif.gz, _meg.fif.gz, _eeg.fif.gz or _ieeg.fif.gz\n",
      "  eeg_data = mne.io.read_raw_fif(name, preload=True)\n"
     ]
    },
    {
     "name": "stdout",
     "output_type": "stream",
     "text": [
      "Opening raw data file ../SEED_FRA_OUTPUT/NEUTRAL/8_3_trial_5_signals.fif...\n",
      "    Range : 1103000 ... 1232000 =   1103.000 ...  1232.000 secs\n",
      "Ready.\n",
      "Reading 0 ... 129000  =      0.000 ...   129.000 secs...\n"
     ]
    },
    {
     "name": "stderr",
     "output_type": "stream",
     "text": [
      "C:\\Users\\marco\\AppData\\Local\\Temp\\ipykernel_6904\\2770616247.py:12: RuntimeWarning: This filename (../SEED_FRA_OUTPUT/NEUTRAL/8_3_trial_5_signals.fif) does not conform to MNE naming conventions. All raw files should end with raw.fif, raw_sss.fif, raw_tsss.fif, _meg.fif, _eeg.fif, _ieeg.fif, raw.fif.gz, raw_sss.fif.gz, raw_tsss.fif.gz, _meg.fif.gz, _eeg.fif.gz or _ieeg.fif.gz\n",
      "  eeg_data = mne.io.read_raw_fif(name, preload=True)\n"
     ]
    },
    {
     "name": "stdout",
     "output_type": "stream",
     "text": [
      "Opening raw data file ../SEED_FRA_OUTPUT/NEUTRAL/8_3_trial_7_signals.fif...\n",
      "    Range : 1572000 ... 1718000 =   1572.000 ...  1718.000 secs\n",
      "Ready.\n",
      "Reading 0 ... 146000  =      0.000 ...   146.000 secs...\n"
     ]
    },
    {
     "name": "stderr",
     "output_type": "stream",
     "text": [
      "C:\\Users\\marco\\AppData\\Local\\Temp\\ipykernel_6904\\2770616247.py:12: RuntimeWarning: This filename (../SEED_FRA_OUTPUT/NEUTRAL/8_3_trial_7_signals.fif) does not conform to MNE naming conventions. All raw files should end with raw.fif, raw_sss.fif, raw_tsss.fif, _meg.fif, _eeg.fif, _ieeg.fif, raw.fif.gz, raw_sss.fif.gz, raw_tsss.fif.gz, _meg.fif.gz, _eeg.fif.gz or _ieeg.fif.gz\n",
      "  eeg_data = mne.io.read_raw_fif(name, preload=True)\n"
     ]
    }
   ],
   "source": [
    "data_model_dl = np.array( [ *get_data_DL(\"../SEED_FRA_OUTPUT/POSITIVE\", 1), *get_data_DL(\"../SEED_FRA_OUTPUT/NEGATIVE\", -1), *get_data_DL(\"../SEED_FRA_OUTPUT/NEUTRAL\", 0) ] )"
   ]
  },
  {
   "cell_type": "code",
   "execution_count": 103,
   "id": "06424527",
   "metadata": {},
   "outputs": [],
   "source": [
    "#np.save('matrices_etiquetadas.npy', data_model_dl)"
   ]
  },
  {
   "cell_type": "code",
   "execution_count": 104,
   "id": "e63ba4b7",
   "metadata": {},
   "outputs": [],
   "source": []
  },
  {
   "cell_type": "code",
   "execution_count": 2,
   "id": "be96e511",
   "metadata": {},
   "outputs": [],
   "source": [
    "import numpy as np\n",
    "from keras.models import Sequential\n",
    "from keras.layers import Dense, Conv2D, MaxPooling2D, Flatten, Dropout\n",
    "from sklearn.model_selection import train_test_split"
   ]
  },
  {
   "cell_type": "code",
   "execution_count": 3,
   "id": "fb03b7fc",
   "metadata": {},
   "outputs": [],
   "source": [
    "X = np.load('matrices_etiquetadas.npy')"
   ]
  },
  {
   "cell_type": "code",
   "execution_count": 4,
   "id": "4e89def5",
   "metadata": {},
   "outputs": [],
   "source": [
    "y = np.array([*[1 for _ in range(168)], *[-1 for _ in range(168)], *[0 for _ in range(168)]] )"
   ]
  },
  {
   "cell_type": "code",
   "execution_count": 5,
   "id": "122344e8",
   "metadata": {},
   "outputs": [
    {
     "data": {
      "text/plain": [
       "array([ 1,  1,  1,  1,  1,  1,  1,  1,  1,  1,  1,  1,  1,  1,  1,  1,  1,\n",
       "        1,  1,  1,  1,  1,  1,  1,  1,  1,  1,  1,  1,  1,  1,  1,  1,  1,\n",
       "        1,  1,  1,  1,  1,  1,  1,  1,  1,  1,  1,  1,  1,  1,  1,  1,  1,\n",
       "        1,  1,  1,  1,  1,  1,  1,  1,  1,  1,  1,  1,  1,  1,  1,  1,  1,\n",
       "        1,  1,  1,  1,  1,  1,  1,  1,  1,  1,  1,  1,  1,  1,  1,  1,  1,\n",
       "        1,  1,  1,  1,  1,  1,  1,  1,  1,  1,  1,  1,  1,  1,  1,  1,  1,\n",
       "        1,  1,  1,  1,  1,  1,  1,  1,  1,  1,  1,  1,  1,  1,  1,  1,  1,\n",
       "        1,  1,  1,  1,  1,  1,  1,  1,  1,  1,  1,  1,  1,  1,  1,  1,  1,\n",
       "        1,  1,  1,  1,  1,  1,  1,  1,  1,  1,  1,  1,  1,  1,  1,  1,  1,\n",
       "        1,  1,  1,  1,  1,  1,  1,  1,  1,  1,  1,  1,  1,  1,  1, -1, -1,\n",
       "       -1, -1, -1, -1, -1, -1, -1, -1, -1, -1, -1, -1, -1, -1, -1, -1, -1,\n",
       "       -1, -1, -1, -1, -1, -1, -1, -1, -1, -1, -1, -1, -1, -1, -1, -1, -1,\n",
       "       -1, -1, -1, -1, -1, -1, -1, -1, -1, -1, -1, -1, -1, -1, -1, -1, -1,\n",
       "       -1, -1, -1, -1, -1, -1, -1, -1, -1, -1, -1, -1, -1, -1, -1, -1, -1,\n",
       "       -1, -1, -1, -1, -1, -1, -1, -1, -1, -1, -1, -1, -1, -1, -1, -1, -1,\n",
       "       -1, -1, -1, -1, -1, -1, -1, -1, -1, -1, -1, -1, -1, -1, -1, -1, -1,\n",
       "       -1, -1, -1, -1, -1, -1, -1, -1, -1, -1, -1, -1, -1, -1, -1, -1, -1,\n",
       "       -1, -1, -1, -1, -1, -1, -1, -1, -1, -1, -1, -1, -1, -1, -1, -1, -1,\n",
       "       -1, -1, -1, -1, -1, -1, -1, -1, -1, -1, -1, -1, -1, -1, -1, -1, -1,\n",
       "       -1, -1, -1, -1, -1, -1, -1, -1, -1, -1, -1, -1, -1,  0,  0,  0,  0,\n",
       "        0,  0,  0,  0,  0,  0,  0,  0,  0,  0,  0,  0,  0,  0,  0,  0,  0,\n",
       "        0,  0,  0,  0,  0,  0,  0,  0,  0,  0,  0,  0,  0,  0,  0,  0,  0,\n",
       "        0,  0,  0,  0,  0,  0,  0,  0,  0,  0,  0,  0,  0,  0,  0,  0,  0,\n",
       "        0,  0,  0,  0,  0,  0,  0,  0,  0,  0,  0,  0,  0,  0,  0,  0,  0,\n",
       "        0,  0,  0,  0,  0,  0,  0,  0,  0,  0,  0,  0,  0,  0,  0,  0,  0,\n",
       "        0,  0,  0,  0,  0,  0,  0,  0,  0,  0,  0,  0,  0,  0,  0,  0,  0,\n",
       "        0,  0,  0,  0,  0,  0,  0,  0,  0,  0,  0,  0,  0,  0,  0,  0,  0,\n",
       "        0,  0,  0,  0,  0,  0,  0,  0,  0,  0,  0,  0,  0,  0,  0,  0,  0,\n",
       "        0,  0,  0,  0,  0,  0,  0,  0,  0,  0,  0,  0,  0,  0,  0,  0,  0,\n",
       "        0,  0,  0,  0,  0,  0,  0,  0,  0,  0,  0])"
      ]
     },
     "execution_count": 5,
     "metadata": {},
     "output_type": "execute_result"
    }
   ],
   "source": [
    "y"
   ]
  },
  {
   "cell_type": "code",
   "execution_count": 6,
   "id": "e13bab39",
   "metadata": {},
   "outputs": [],
   "source": [
    "X_train, X_test, y_train, y_test = train_test_split(X, y, test_size=0.2, random_state=42)"
   ]
  },
  {
   "cell_type": "code",
   "execution_count": 128,
   "id": "294f2921",
   "metadata": {},
   "outputs": [],
   "source": [
    "X_train = X_train.reshape(X_train.shape[0], 62, 4, 1)\n",
    "X_test = X_test.reshape(X_test.shape[0], 62, 4, 1)"
   ]
  },
  {
   "cell_type": "code",
   "execution_count": 45,
   "id": "4fc4cfbd",
   "metadata": {},
   "outputs": [],
   "source": [
    "model = Sequential([\n",
    "  Flatten(input_shape=(62,4)),\n",
    "  Dense(403, activation='relu'),\n",
    "  Dropout(0.4),\n",
    "  Dense(10, activation='relu'),\n",
    "  Dense(1, activation=\"softmax\")\n",
    "])\n",
    "\n",
    "#Model compilation\n",
    "model.compile(optimizer='adam',\n",
    "              loss='binary_crossentropy',\n",
    "              #loss='sparse_categorical_crossentropy',\n",
    "              metrics=['accuracy'])"
   ]
  },
  {
   "cell_type": "code",
   "execution_count": 33,
   "id": "4ec3f814",
   "metadata": {},
   "outputs": [
    {
     "data": {
      "text/plain": [
       "dtype('float64')"
      ]
     },
     "execution_count": 33,
     "metadata": {},
     "output_type": "execute_result"
    }
   ],
   "source": [
    "X_train.dtype"
   ]
  },
  {
   "cell_type": "code",
   "execution_count": 35,
   "id": "e4fb202c",
   "metadata": {},
   "outputs": [],
   "source": [
    "y_train = y_train.astype('float64')"
   ]
  },
  {
   "cell_type": "code",
   "execution_count": 46,
   "id": "969a53a5",
   "metadata": {
    "scrolled": true
   },
   "outputs": [
    {
     "name": "stdout",
     "output_type": "stream",
     "text": [
      "Epoch 1/16\n",
      "13/13 [==============================] - 2s 9ms/step - loss: 0.6516 - accuracy: 0.3325\n",
      "Epoch 2/16\n",
      "13/13 [==============================] - 0s 8ms/step - loss: 0.5308 - accuracy: 0.3325\n",
      "Epoch 3/16\n",
      "13/13 [==============================] - 0s 8ms/step - loss: 0.3858 - accuracy: 0.3325\n",
      "Epoch 4/16\n",
      "13/13 [==============================] - 0s 8ms/step - loss: 0.2413 - accuracy: 0.3325\n",
      "Epoch 5/16\n",
      "13/13 [==============================] - 0s 8ms/step - loss: 0.1309 - accuracy: 0.3325\n",
      "Epoch 6/16\n",
      "13/13 [==============================] - 0s 8ms/step - loss: 0.0560 - accuracy: 0.3325\n",
      "Epoch 7/16\n",
      "13/13 [==============================] - 0s 8ms/step - loss: 0.0405 - accuracy: 0.3325\n",
      "Epoch 8/16\n",
      "13/13 [==============================] - 0s 9ms/step - loss: 0.0155 - accuracy: 0.3325\n",
      "Epoch 9/16\n",
      "13/13 [==============================] - 0s 8ms/step - loss: -0.0038 - accuracy: 0.3325\n",
      "Epoch 10/16\n",
      "13/13 [==============================] - 0s 8ms/step - loss: -0.0155 - accuracy: 0.3325\n",
      "Epoch 11/16\n",
      "13/13 [==============================] - 0s 8ms/step - loss: -0.0252 - accuracy: 0.3325\n",
      "Epoch 12/16\n",
      "13/13 [==============================] - 0s 8ms/step - loss: -0.0166 - accuracy: 0.3325\n",
      "Epoch 13/16\n",
      "13/13 [==============================] - 0s 8ms/step - loss: -0.0207 - accuracy: 0.3325\n",
      "Epoch 14/16\n",
      "13/13 [==============================] - 0s 8ms/step - loss: -0.0323 - accuracy: 0.3325\n",
      "Epoch 15/16\n",
      "13/13 [==============================] - 0s 8ms/step - loss: -0.0240 - accuracy: 0.3325\n",
      "Epoch 16/16\n",
      "13/13 [==============================] - 0s 7ms/step - loss: -0.0670 - accuracy: 0.3325\n"
     ]
    },
    {
     "data": {
      "text/plain": [
       "<keras.callbacks.History at 0x1dd5ba51930>"
      ]
     },
     "execution_count": 46,
     "metadata": {},
     "output_type": "execute_result"
    }
   ],
   "source": [
    "model.fit( X_train, y_train, epochs = 16 )"
   ]
  },
  {
   "cell_type": "code",
   "execution_count": 7,
   "id": "2b8b2add",
   "metadata": {},
   "outputs": [],
   "source": [
    "### LAST TRY"
   ]
  },
  {
   "cell_type": "code",
   "execution_count": 10,
   "id": "cff8e975",
   "metadata": {},
   "outputs": [
    {
     "ename": "ValueError",
     "evalue": "One of the dimensions in the output is <= 0 due to downsampling in conv2d_5. Consider increasing the input size. Received input shape [None, 30, 1, 32] which would produce output shape with a zero or negative value in a dimension.",
     "output_type": "error",
     "traceback": [
      "\u001b[1;31m---------------------------------------------------------------------------\u001b[0m",
      "\u001b[1;31mValueError\u001b[0m                                Traceback (most recent call last)",
      "Cell \u001b[1;32mIn[10], line 5\u001b[0m\n\u001b[0;32m      3\u001b[0m model\u001b[38;5;241m.\u001b[39madd(Conv2D(\u001b[38;5;241m32\u001b[39m, kernel_size\u001b[38;5;241m=\u001b[39m(\u001b[38;5;241m3\u001b[39m, \u001b[38;5;241m3\u001b[39m), activation\u001b[38;5;241m=\u001b[39m\u001b[38;5;124m'\u001b[39m\u001b[38;5;124mrelu\u001b[39m\u001b[38;5;124m'\u001b[39m, input_shape\u001b[38;5;241m=\u001b[39m(\u001b[38;5;241m62\u001b[39m, \u001b[38;5;241m4\u001b[39m, \u001b[38;5;241m1\u001b[39m)))\n\u001b[0;32m      4\u001b[0m model\u001b[38;5;241m.\u001b[39madd(MaxPooling2D(pool_size\u001b[38;5;241m=\u001b[39m(\u001b[38;5;241m2\u001b[39m, \u001b[38;5;241m2\u001b[39m)))\n\u001b[1;32m----> 5\u001b[0m \u001b[43mmodel\u001b[49m\u001b[38;5;241;43m.\u001b[39;49m\u001b[43madd\u001b[49m\u001b[43m(\u001b[49m\u001b[43mConv2D\u001b[49m\u001b[43m(\u001b[49m\u001b[38;5;241;43m64\u001b[39;49m\u001b[43m,\u001b[49m\u001b[43m \u001b[49m\u001b[43mkernel_size\u001b[49m\u001b[38;5;241;43m=\u001b[39;49m\u001b[43m(\u001b[49m\u001b[38;5;241;43m3\u001b[39;49m\u001b[43m,\u001b[49m\u001b[43m \u001b[49m\u001b[38;5;241;43m3\u001b[39;49m\u001b[43m)\u001b[49m\u001b[43m,\u001b[49m\u001b[43m \u001b[49m\u001b[43mactivation\u001b[49m\u001b[38;5;241;43m=\u001b[39;49m\u001b[38;5;124;43m'\u001b[39;49m\u001b[38;5;124;43mrelu\u001b[39;49m\u001b[38;5;124;43m'\u001b[39;49m\u001b[43m)\u001b[49m\u001b[43m)\u001b[49m\n\u001b[0;32m      6\u001b[0m model\u001b[38;5;241m.\u001b[39madd(MaxPooling2D(pool_size\u001b[38;5;241m=\u001b[39m(\u001b[38;5;241m2\u001b[39m, \u001b[38;5;241m2\u001b[39m)))\n\u001b[0;32m      7\u001b[0m model\u001b[38;5;241m.\u001b[39madd(MaxPooling2D(pool_size\u001b[38;5;241m=\u001b[39m(\u001b[38;5;241m2\u001b[39m, \u001b[38;5;241m2\u001b[39m))) \u001b[38;5;66;03m# Capa de agrupación adicional\u001b[39;00m\n",
      "File \u001b[1;32m~\\anaconda3\\envs\\Zug_zug_dl\\lib\\site-packages\\tensorflow\\python\\trackable\\base.py:205\u001b[0m, in \u001b[0;36mno_automatic_dependency_tracking.<locals>._method_wrapper\u001b[1;34m(self, *args, **kwargs)\u001b[0m\n\u001b[0;32m    203\u001b[0m \u001b[38;5;28mself\u001b[39m\u001b[38;5;241m.\u001b[39m_self_setattr_tracking \u001b[38;5;241m=\u001b[39m \u001b[38;5;28;01mFalse\u001b[39;00m  \u001b[38;5;66;03m# pylint: disable=protected-access\u001b[39;00m\n\u001b[0;32m    204\u001b[0m \u001b[38;5;28;01mtry\u001b[39;00m:\n\u001b[1;32m--> 205\u001b[0m   result \u001b[38;5;241m=\u001b[39m method(\u001b[38;5;28mself\u001b[39m, \u001b[38;5;241m*\u001b[39margs, \u001b[38;5;241m*\u001b[39m\u001b[38;5;241m*\u001b[39mkwargs)\n\u001b[0;32m    206\u001b[0m \u001b[38;5;28;01mfinally\u001b[39;00m:\n\u001b[0;32m    207\u001b[0m   \u001b[38;5;28mself\u001b[39m\u001b[38;5;241m.\u001b[39m_self_setattr_tracking \u001b[38;5;241m=\u001b[39m previous_value  \u001b[38;5;66;03m# pylint: disable=protected-access\u001b[39;00m\n",
      "File \u001b[1;32m~\\anaconda3\\envs\\Zug_zug_dl\\lib\\site-packages\\keras\\utils\\traceback_utils.py:70\u001b[0m, in \u001b[0;36mfilter_traceback.<locals>.error_handler\u001b[1;34m(*args, **kwargs)\u001b[0m\n\u001b[0;32m     67\u001b[0m     filtered_tb \u001b[38;5;241m=\u001b[39m _process_traceback_frames(e\u001b[38;5;241m.\u001b[39m__traceback__)\n\u001b[0;32m     68\u001b[0m     \u001b[38;5;66;03m# To get the full stack trace, call:\u001b[39;00m\n\u001b[0;32m     69\u001b[0m     \u001b[38;5;66;03m# `tf.debugging.disable_traceback_filtering()`\u001b[39;00m\n\u001b[1;32m---> 70\u001b[0m     \u001b[38;5;28;01mraise\u001b[39;00m e\u001b[38;5;241m.\u001b[39mwith_traceback(filtered_tb) \u001b[38;5;28;01mfrom\u001b[39;00m \u001b[38;5;28mNone\u001b[39m\n\u001b[0;32m     71\u001b[0m \u001b[38;5;28;01mfinally\u001b[39;00m:\n\u001b[0;32m     72\u001b[0m     \u001b[38;5;28;01mdel\u001b[39;00m filtered_tb\n",
      "File \u001b[1;32m~\\anaconda3\\envs\\Zug_zug_dl\\lib\\site-packages\\keras\\layers\\convolutional\\base_conv.py:354\u001b[0m, in \u001b[0;36mConv.compute_output_shape\u001b[1;34m(self, input_shape)\u001b[0m\n\u001b[0;32m    347\u001b[0m         \u001b[38;5;28;01mreturn\u001b[39;00m tf\u001b[38;5;241m.\u001b[39mTensorShape(\n\u001b[0;32m    348\u001b[0m             input_shape[:batch_rank]\n\u001b[0;32m    349\u001b[0m             \u001b[38;5;241m+\u001b[39m [\u001b[38;5;28mself\u001b[39m\u001b[38;5;241m.\u001b[39mfilters]\n\u001b[0;32m    350\u001b[0m             \u001b[38;5;241m+\u001b[39m \u001b[38;5;28mself\u001b[39m\u001b[38;5;241m.\u001b[39m_spatial_output_shape(input_shape[batch_rank \u001b[38;5;241m+\u001b[39m \u001b[38;5;241m1\u001b[39m :])\n\u001b[0;32m    351\u001b[0m         )\n\u001b[0;32m    353\u001b[0m \u001b[38;5;28;01mexcept\u001b[39;00m \u001b[38;5;167;01mValueError\u001b[39;00m:\n\u001b[1;32m--> 354\u001b[0m     \u001b[38;5;28;01mraise\u001b[39;00m \u001b[38;5;167;01mValueError\u001b[39;00m(\n\u001b[0;32m    355\u001b[0m         \u001b[38;5;124m\"\u001b[39m\u001b[38;5;124mOne of the dimensions in the output is <= 0 \u001b[39m\u001b[38;5;124m\"\u001b[39m\n\u001b[0;32m    356\u001b[0m         \u001b[38;5;124mf\u001b[39m\u001b[38;5;124m\"\u001b[39m\u001b[38;5;124mdue to downsampling in \u001b[39m\u001b[38;5;132;01m{\u001b[39;00m\u001b[38;5;28mself\u001b[39m\u001b[38;5;241m.\u001b[39mname\u001b[38;5;132;01m}\u001b[39;00m\u001b[38;5;124m. Consider \u001b[39m\u001b[38;5;124m\"\u001b[39m\n\u001b[0;32m    357\u001b[0m         \u001b[38;5;124m\"\u001b[39m\u001b[38;5;124mincreasing the input size. \u001b[39m\u001b[38;5;124m\"\u001b[39m\n\u001b[0;32m    358\u001b[0m         \u001b[38;5;124mf\u001b[39m\u001b[38;5;124m\"\u001b[39m\u001b[38;5;124mReceived input shape \u001b[39m\u001b[38;5;132;01m{\u001b[39;00minput_shape\u001b[38;5;132;01m}\u001b[39;00m\u001b[38;5;124m which would produce \u001b[39m\u001b[38;5;124m\"\u001b[39m\n\u001b[0;32m    359\u001b[0m         \u001b[38;5;124m\"\u001b[39m\u001b[38;5;124moutput shape with a zero or negative value in a \u001b[39m\u001b[38;5;124m\"\u001b[39m\n\u001b[0;32m    360\u001b[0m         \u001b[38;5;124m\"\u001b[39m\u001b[38;5;124mdimension.\u001b[39m\u001b[38;5;124m\"\u001b[39m\n\u001b[0;32m    361\u001b[0m     )\n",
      "\u001b[1;31mValueError\u001b[0m: One of the dimensions in the output is <= 0 due to downsampling in conv2d_5. Consider increasing the input size. Received input shape [None, 30, 1, 32] which would produce output shape with a zero or negative value in a dimension."
     ]
    }
   ],
   "source": [
    "# Definición del modelo\n",
    "model = Sequential()\n",
    "model.add(Conv2D(32, kernel_size=(3, 3), activation='relu', input_shape=(62, 4, 1)))\n",
    "model.add(MaxPooling2D(pool_size=(2, 2)))\n",
    "model.add(Conv2D(64, kernel_size=(3, 3), activation='relu'))\n",
    "model.add(MaxPooling2D(pool_size=(2, 2)))\n",
    "model.add(MaxPooling2D(pool_size=(2, 2))) # Capa de agrupación adicional\n",
    "model.add(Flatten())\n",
    "model.add(Dense(128, activation='relu'))\n",
    "model.add(Dense(3, activation='softmax'))\n",
    "\n"
   ]
  }
 ],
 "metadata": {
  "kernelspec": {
   "display_name": "Python 3 (ipykernel)",
   "language": "python",
   "name": "python3"
  },
  "language_info": {
   "codemirror_mode": {
    "name": "ipython",
    "version": 3
   },
   "file_extension": ".py",
   "mimetype": "text/x-python",
   "name": "python",
   "nbconvert_exporter": "python",
   "pygments_lexer": "ipython3",
   "version": "3.10.10"
  },
  "toc": {
   "base_numbering": 1,
   "nav_menu": {},
   "number_sections": true,
   "sideBar": true,
   "skip_h1_title": false,
   "title_cell": "Table of Contents",
   "title_sidebar": "Contents",
   "toc_cell": false,
   "toc_position": {},
   "toc_section_display": true,
   "toc_window_display": false
  }
 },
 "nbformat": 4,
 "nbformat_minor": 5
}
