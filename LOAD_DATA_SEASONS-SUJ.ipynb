{
 "cells": [
  {
   "cell_type": "markdown",
   "id": "drawn-winning",
   "metadata": {},
   "source": [
    "### In this tutorial, we will use ```mne``` to load ```.cnt``` file\n",
    "\n",
    "- author: Wei Liu\n",
    "- Date: May 11, 2021\n",
    "- [BCMI lab, Shanghai Jiao Tong University](http://bcmi.sjtu.edu.cn)"
   ]
  },
  {
   "cell_type": "markdown",
   "id": "numeric-bulletin",
   "metadata": {},
   "source": [
    "For more information about ```mne```, please go to website: [https://mne.tools/stable/index.html](https://mne.tools/stable/index.html)"
   ]
  },
  {
   "cell_type": "code",
   "execution_count": null,
   "id": "dc0c315c",
   "metadata": {},
   "outputs": [],
   "source": [
    "#!pip install tables\n",
    "#!pip install pyarrow"
   ]
  },
  {
   "cell_type": "code",
   "execution_count": 1,
   "id": "lyric-masters",
   "metadata": {},
   "outputs": [
    {
     "name": "stdout",
     "output_type": "stream",
     "text": [
      "1.23.5\n",
      "1.3.1\n"
     ]
    }
   ],
   "source": [
    "import numpy as np\n",
    "import mne\n",
    "import pandas as pd\n",
    "import h5py\n",
    "import tables\n",
    "import os\n",
    "\n",
    "print(np.__version__)\n",
    "print(mne.__version__)"
   ]
  },
  {
   "cell_type": "code",
   "execution_count": 5,
   "id": "c537ee75",
   "metadata": {},
   "outputs": [
    {
     "data": {
      "text/plain": [
       "'C:\\\\Users\\\\macka\\\\TFM\\\\SEED_V\\\\EEG_raw\\\\EEG_raw\\\\S1'"
      ]
     },
     "execution_count": 5,
     "metadata": {},
     "output_type": "execute_result"
    }
   ],
   "source": [
    "os.getcwd()"
   ]
  },
  {
   "cell_type": "code",
   "execution_count": 9,
   "id": "bea5b4c6",
   "metadata": {},
   "outputs": [],
   "source": [
    "# obtener una lista con los nombres de todos los archivos en la carpeta\n",
    "os.chdir('C:\\\\Users\\\\macka\\\\TFM\\\\SEED_V\\\\EEG_raw\\\\EEG_raw')\n",
    "ruta='S3/'\n",
    "archivos = os.listdir(ruta)\n",
    "names=[]\n",
    "# imprime los nombres de los archivos\n",
    "for archivo in archivos:\n",
    "    if archivo.endswith(\".cnt\"):\n",
    "        names.append(archivo)\n",
    "        \n",
    "os.chdir(ruta)"
   ]
  },
  {
   "cell_type": "code",
   "execution_count": 10,
   "id": "6d07044e",
   "metadata": {},
   "outputs": [
    {
     "data": {
      "text/plain": [
       "['10_3_20180626.cnt',\n",
       " '11_3_20180522.cnt',\n",
       " '12_3_20180517.cnt',\n",
       " '13_3_20180725.cnt',\n",
       " '14_3_20180427.cnt',\n",
       " '15_3_20180730.cnt',\n",
       " '16_3_20180813.cnt',\n",
       " '1_3_20180808.cnt',\n",
       " '2_3_20180425.cnt',\n",
       " '3_3_20180424.cnt',\n",
       " '4_3_20180501.cnt',\n",
       " '5_3_20180723.cnt',\n",
       " '6_3_20180802.cnt',\n",
       " '7_3_20180422.cnt',\n",
       " '8_3_20180726.cnt',\n",
       " '9_3_20180728.cnt']"
      ]
     },
     "execution_count": 10,
     "metadata": {},
     "output_type": "execute_result"
    }
   ],
   "source": [
    "names"
   ]
  },
  {
   "cell_type": "code",
   "execution_count": 12,
   "id": "continental-clearance",
   "metadata": {
    "scrolled": true
   },
   "outputs": [
    {
     "name": "stderr",
     "output_type": "stream",
     "text": [
      "C:\\Users\\macka\\AppData\\Local\\Temp\\ipykernel_9740\\1219662664.py:4: RuntimeWarning:   Could not parse meas date from the header. Setting to None.\n",
      "  eeg_raw = mne.io.read_raw_cnt(name)\n",
      "C:\\Users\\macka\\AppData\\Local\\Temp\\ipykernel_9740\\1219662664.py:4: RuntimeWarning:   Could not parse meas date from the header. Setting to None.\n",
      "  eeg_raw = mne.io.read_raw_cnt(name)\n",
      "C:\\Users\\macka\\AppData\\Local\\Temp\\ipykernel_9740\\1219662664.py:4: RuntimeWarning:   Could not parse meas date from the header. Setting to None.\n",
      "  eeg_raw = mne.io.read_raw_cnt(name)\n",
      "C:\\Users\\macka\\AppData\\Local\\Temp\\ipykernel_9740\\1219662664.py:4: RuntimeWarning:   Could not parse meas date from the header. Setting to None.\n",
      "  eeg_raw = mne.io.read_raw_cnt(name)\n",
      "C:\\Users\\macka\\AppData\\Local\\Temp\\ipykernel_9740\\1219662664.py:4: RuntimeWarning:   Could not parse meas date from the header. Setting to None.\n",
      "  eeg_raw = mne.io.read_raw_cnt(name)\n",
      "C:\\Users\\macka\\AppData\\Local\\Temp\\ipykernel_9740\\1219662664.py:4: RuntimeWarning:   Could not parse meas date from the header. Setting to None.\n",
      "  eeg_raw = mne.io.read_raw_cnt(name)\n",
      "C:\\Users\\macka\\AppData\\Local\\Temp\\ipykernel_9740\\1219662664.py:4: RuntimeWarning:   Could not parse meas date from the header. Setting to None.\n",
      "  eeg_raw = mne.io.read_raw_cnt(name)\n",
      "C:\\Users\\macka\\AppData\\Local\\Temp\\ipykernel_9740\\1219662664.py:4: RuntimeWarning:   Could not parse meas date from the header. Setting to None.\n",
      "  eeg_raw = mne.io.read_raw_cnt(name)\n",
      "C:\\Users\\macka\\AppData\\Local\\Temp\\ipykernel_9740\\1219662664.py:4: RuntimeWarning:   Could not parse meas date from the header. Setting to None.\n",
      "  eeg_raw = mne.io.read_raw_cnt(name)\n",
      "C:\\Users\\macka\\AppData\\Local\\Temp\\ipykernel_9740\\1219662664.py:4: RuntimeWarning:   Could not parse meas date from the header. Setting to None.\n",
      "  eeg_raw = mne.io.read_raw_cnt(name)\n",
      "C:\\Users\\macka\\AppData\\Local\\Temp\\ipykernel_9740\\1219662664.py:4: RuntimeWarning:   Could not parse meas date from the header. Setting to None.\n",
      "  eeg_raw = mne.io.read_raw_cnt(name)\n",
      "C:\\Users\\macka\\AppData\\Local\\Temp\\ipykernel_9740\\1219662664.py:4: RuntimeWarning:   Could not parse meas date from the header. Setting to None.\n",
      "  eeg_raw = mne.io.read_raw_cnt(name)\n",
      "C:\\Users\\macka\\AppData\\Local\\Temp\\ipykernel_9740\\1219662664.py:4: RuntimeWarning:   Could not parse meas date from the header. Setting to None.\n",
      "  eeg_raw = mne.io.read_raw_cnt(name)\n"
     ]
    }
   ],
   "source": [
    "for name in names:\n",
    "    # use mne to load the file name\n",
    "    \n",
    "    eeg_raw = mne.io.read_raw_cnt(name)\n",
    "    # check channel names\n",
    "    ch_names = eeg_raw.ch_names\n",
    "    # drop non-used channels\n",
    "    useless_ch = ['M1', 'M2', 'VEO', 'HEO']\n",
    "    eeg_raw.drop_channels(useless_ch)\n",
    "    new_ch = eeg_raw.ch_names\n",
    "    # get the data matrix\n",
    "    data_matrix = eeg_raw.get_data()\n",
    "    \n",
    "    trial_num=['Trial-1','Trial-2','Trial-3','Trial-4','Trial-5','Trial-6','Trial-7','Trial-8','Trial-9','Trial-10',\n",
    "                'Trial-11','Trial-12','Trial-13','Trial-14','Trial-15']\n",
    "    # First Sessions\n",
    "#     start_second= [30, 132, 287, 555, 773, 982, 1271, 1628, 1730, 2025, 2227, 2435, 2667, 2932, 3204]\n",
    "#     end_second= [102, 228, 524, 742, 920, 1240, 1568, 1697, 1994, 2166, 2401, 2607, 2901, 3172, 3359]\n",
    "    #Session 2:\n",
    "#     start_second: [30, 299, 548, 646, 836, 1000, 1091, 1392, 1657, 1809, 1966, 2186, 2333, 2490, 2741]\n",
    "#     end_second: [267, 488, 614, 773, 967, 1059, 1331, 1622, 1777, 1908, 2153, 2302, 2428, 2709, 2817]\n",
    "    #Session 3:\n",
    "    start_second: [30, 353, 478, 674, 825, 908, 1200, 1346, 1451, 1711, 2055, 2307, 2457, 2726, 2888]\n",
    "    end_second: [321, 418, 643, 764, 877, 1147, 1284, 1418, 1679, 1996, 2275, 2425, 2664, 2857, 3066]\n",
    "    \n",
    "    \n",
    "    sample_freq = 1000\n",
    "    # Carpeta Destino\n",
    "    output_folder = 'SEED_V-S3'\n",
    "\n",
    "    if not os.path.exists(output_folder):\n",
    "        os.makedirs(output_folder)\n",
    "\n",
    "    for trial, start, end in zip(trial_num, start_second, end_second):\n",
    "        data_name = data_matrix[:, start*sample_freq : end*sample_freq].T\n",
    "        df = pd.DataFrame(data_name, columns=new_ch)\n",
    "        file_path = os.path.join(output_folder, f\"{name}-{trial}.parquet\")\n",
    "        df.to_parquet(file_path, compression='gzip')"
   ]
  },
  {
   "cell_type": "code",
   "execution_count": null,
   "id": "7e81ec50",
   "metadata": {},
   "outputs": [],
   "source": [
    "# Para leer archivos h5\n",
    "with pd.HDFStore(f\"SUJ-1-Trial-1.h5\", \"r\") as store:\n",
    "    df = store.get(\"data\")"
   ]
  },
  {
   "cell_type": "code",
   "execution_count": null,
   "id": "narrative-affiliation",
   "metadata": {
    "jupyter": {
     "outputs_hidden": true
    },
    "tags": []
   },
   "outputs": [],
   "source": [
    "# see raw data wave\n",
    "eeg_raw.plot()"
   ]
  },
  {
   "cell_type": "code",
   "execution_count": null,
   "id": "changed-columbia",
   "metadata": {},
   "outputs": [],
   "source": [
    "# with file \"trial_start_end_timestamp.txt\", you can split the data into different trials\n",
    "###########################################################\n",
    "### Notice: we did not filt the orignal signal here #######\n",
    "### you may need to filt the data before other process ####\n",
    "### To filt the signal, please refer to MNE documents #####\n",
    "###########################################################\n",
    "# First Sessions\n",
    "start_second: [30, 132, 287, 555, 773, 982, 1271, 1628, 1730, 2025, 2227, 2435, 2667, 2932, 3204]\n",
    "end_second: [102, 228, 524, 742, 920, 1240, 1568, 1697, 1994, 2166, 2401, 2607, 2901, 3172, 3359]\n",
    "sample_freq = 1000\n",
    "\n",
    "data_trial_1 = data_matrix[:, start_second[0]*sample_freq : end_second[0]*sample_freq]\n",
    "\n",
    "\n",
    "\n"
   ]
  },
  {
   "cell_type": "markdown",
   "id": "effective-monitor",
   "metadata": {},
   "source": [
    "With the extract clips, you can extract any features."
   ]
  },
  {
   "cell_type": "code",
   "execution_count": null,
   "id": "standing-salmon",
   "metadata": {},
   "outputs": [],
   "source": [
    "data_trial_1"
   ]
  },
  {
   "cell_type": "code",
   "execution_count": null,
   "id": "c1f38b62",
   "metadata": {},
   "outputs": [],
   "source": []
  }
 ],
 "metadata": {
  "kernelspec": {
   "display_name": "Python 3 (ipykernel)",
   "language": "python",
   "name": "python3"
  },
  "language_info": {
   "codemirror_mode": {
    "name": "ipython",
    "version": 3
   },
   "file_extension": ".py",
   "mimetype": "text/x-python",
   "name": "python",
   "nbconvert_exporter": "python",
   "pygments_lexer": "ipython3",
   "version": "3.9.0"
  },
  "toc": {
   "base_numbering": 1,
   "nav_menu": {},
   "number_sections": true,
   "sideBar": true,
   "skip_h1_title": false,
   "title_cell": "Table of Contents",
   "title_sidebar": "Contents",
   "toc_cell": false,
   "toc_position": {},
   "toc_section_display": true,
   "toc_window_display": false
  }
 },
 "nbformat": 4,
 "nbformat_minor": 5
}
