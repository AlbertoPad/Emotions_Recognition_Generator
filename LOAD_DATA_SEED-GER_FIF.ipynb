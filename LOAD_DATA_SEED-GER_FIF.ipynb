{
 "cells": [
  {
   "cell_type": "markdown",
   "id": "drawn-winning",
   "metadata": {},
   "source": [
    "### In this tutorial, we will use ```mne``` to load ```.cnt``` file\n",
    "\n",
    "- author: Wei Liu\n",
    "- Date: May 11, 2021\n",
    "- [BCMI lab, Shanghai Jiao Tong University](http://bcmi.sjtu.edu.cn)"
   ]
  },
  {
   "cell_type": "markdown",
   "id": "numeric-bulletin",
   "metadata": {},
   "source": [
    "For more information about ```mne```, please go to website: [https://mne.tools/stable/index.html](https://mne.tools/stable/index.html)"
   ]
  },
  {
   "cell_type": "code",
   "execution_count": 1,
   "id": "dc0c315c",
   "metadata": {},
   "outputs": [],
   "source": [
    "#!pip install tables\n",
    "#!pip install pyarrow"
   ]
  },
  {
   "cell_type": "code",
   "execution_count": 2,
   "id": "lyric-masters",
   "metadata": {},
   "outputs": [
    {
     "name": "stdout",
     "output_type": "stream",
     "text": [
      "1.23.5\n",
      "1.3.1\n"
     ]
    }
   ],
   "source": [
    "#Library Processing EEG\n",
    "import mne\n",
    "\n",
    "#Library Data Analisys\n",
    "import pandas as pd\n",
    "import numpy as np\n",
    "\n",
    "#Library Tools System\n",
    "import os\n",
    "from tqdm import tqdm\n",
    "import re\n",
    "import time\n",
    "import shutil\n",
    "\n",
    "# No Warning\n",
    "import warnings\n",
    "warnings.filterwarnings(\"ignore\")\n",
    "mne.set_log_level(\"ERROR\")\n",
    "\n",
    "print(np.__version__)\n",
    "print(mne.__version__)"
   ]
  },
  {
   "cell_type": "code",
   "execution_count": 3,
   "id": "c537ee75",
   "metadata": {},
   "outputs": [
    {
     "data": {
      "text/plain": [
       "'C:\\\\Users\\\\macka\\\\TFM_WD\\\\ORI\\\\SEED_GER'"
      ]
     },
     "execution_count": 3,
     "metadata": {},
     "output_type": "execute_result"
    }
   ],
   "source": [
    "os.getcwd()"
   ]
  },
  {
   "cell_type": "code",
   "execution_count": null,
   "id": "bea5b4c6",
   "metadata": {},
   "outputs": [],
   "source": [
    "# obtener una lista con los nombres de todos los archivos en la carpeta\n",
    "os.chdir('C:\\\\Users\\\\macka\\\\TFM_WD\\\\ORI\\\\SEED_GER')\n",
    "ruta='01-EEG-raw/'\n",
    "archivos = os.listdir(ruta)\n",
    "names=[]\n",
    "# imprime los nombres de los archivos\n",
    "for archivo in archivos:\n",
    "    if archivo.endswith(\".cnt\"):\n",
    "        names.append(archivo)\n",
    "        \n",
    "os.chdir(ruta)"
   ]
  },
  {
   "cell_type": "code",
   "execution_count": null,
   "id": "832a3b46",
   "metadata": {},
   "outputs": [],
   "source": [
    "# Tiempo de ejecución del Código\n",
    "start_time = time.time()  # Record the start time\n",
    "\n",
    "# Características DataSets SEED-Ger\n",
    "trial_num=['Trial-1','Trial-2','Trial-3','Trial-4','Trial-5','Trial-6','Trial-7','Trial-8','Trial-9','Trial-10',\n",
    "            'Trial-11','Trial-12','Trial-13','Trial-14','Trial-15','Trial-16','Trial-17','Trial-18','Trial-19',\n",
    "           'Trial-20']\n",
    "\n",
    "emotions= ['POSITIVE', 'NEUTRAL', 'NEGATIVE', 'NEGATIVE', 'NEUTRAL', 'POSITIVE', 'NEGATIVE', 'NEUTRAL',\n",
    "           'POSITIVE', 'POSITIVE', 'NEUTRAL', 'NEGATIVE', 'NEUTRAL', 'POSITIVE', 'NEUTRAL', 'NEGATIVE', \n",
    "           'NEGATIVE', 'NEUTRAL', 'POSITIVE', 'POSITIVE']\n",
    "\n",
    "start_seconds = [5, 166, 411, 861, 1114, 1287, 1454, 1620, 1878, 2135, 2310, 2502, 2709, 3028, 3162, 3290, 3656, 3823, 4110, 4366]\n",
    "end_seconds = [136, 381, 831, 1084, 1257, 1423, 1589, 1848, 2105, 2280, 2472, 2677, 2998, 3131, 3259, 3626, 3792, 4079, 4336, 4538]\n",
    "\n",
    "# Creación carpetas\n",
    "output_folder_positive = 'SEED_GER/POSITIVE'\n",
    "output_folder_neutral = 'SEED_GER/NEUTRAL'\n",
    "output_folder_negative = 'SEED_GER/NEGATIVE'\n",
    "\n",
    "if not os.path.exists(output_folder_positive):\n",
    "    os.makedirs(output_folder_positive)\n",
    "if not os.path.exists(output_folder_neutral):\n",
    "    os.makedirs(output_folder_neutral)\n",
    "if not os.path.exists(output_folder_negative):\n",
    "    os.makedirs(output_folder_negative)\n",
    "\n",
    "#Separación de archivos\n",
    "for name in tqdm(names, desc=\"Processing\", total=len(names),leave=False):\n",
    "    \n",
    "    # Cargar archivo y eliminar canales no deseados\n",
    "    eeg_raw = mne.io.read_raw_cnt(name, preload=True)\n",
    "    useless_ch = ['M1', 'M2', 'VEO', 'HEO']\n",
    "    eeg_raw.drop_channels(useless_ch)\n",
    "    \n",
    "    # Aplicar filtro pasa-banda para eliminar ruido\n",
    "    l_freq = 0.5  # Frecuencia de corte baja\n",
    "    h_freq = 50  # Frecuencia de corte alta\n",
    "    eeg_raw.filter(l_freq, h_freq)\n",
    "    \n",
    "    # División de la señal EEG en los distintos experimentos realizados al sujeto:\n",
    "    for trial, start, end, emotion in tqdm(zip(trial_num, start_seconds, end_seconds, emotions), desc=f\"Processing {name}\", total=len(trial_num),leave=False):\n",
    "        \n",
    "        # Tiral-2 y Trial-19 no válidos (Solo SEED-Ger).\n",
    "        if trial in ['Trial-2', 'Trial-19']:\n",
    "            continue\n",
    "\n",
    "        # Extraer segmento de interés\n",
    "        start_sample = start * eeg_raw.info['sfreq']\n",
    "        end_sample = end * eeg_raw.info['sfreq']\n",
    "        eeg_trial = eeg_raw.copy().crop(tmin=start_sample / eeg_raw.info['sfreq'], tmax=end_sample / eeg_raw.info['sfreq'])\n",
    "\n",
    "        # Guardar segmento en archivo .fif\n",
    "        file_basename = os.path.splitext(os.path.basename(name))[0]\n",
    "        output_filename = f\"{file_basename}_{trial}_{emotion}_start_{start}_end_{end}.fif\"\n",
    "        if emotion == 'POSITIVE':\n",
    "            output_path = os.path.join(output_folder_positive, output_filename)\n",
    "        elif emotion == 'NEUTRAL':\n",
    "            output_path = os.path.join(output_folder_neutral, output_filename)\n",
    "        elif emotion == 'NEGATIVE':\n",
    "            output_path = os.path.join(output_folder_negative, output_filename)\n",
    "        eeg_trial.save(output_path, overwrite=True)\n",
    "\n",
    "elapsed_time = time.time() - start_time\n",
    "print(f\"El código tardó {elapsed_time:.2f} segundos en ejecutarse.\")\n"
   ]
  },
  {
   "cell_type": "markdown",
   "id": "df8786f9",
   "metadata": {},
   "source": [
    "### Explicaciones "
   ]
  },
  {
   "cell_type": "markdown",
   "id": "f211b0b4",
   "metadata": {},
   "source": [
    "**Filtros de Ruido**:\n",
    "\n",
    "**Componentes de la señal de interés:** Dependiendo del objetivo del análisis y las características de los datos, es posible que desees conservar ciertas bandas de frecuencia en la señal. Por ejemplo, las bandas de frecuencia típicas en el análisis de EEG incluyen **delta (0.5-4 Hz), theta (4-8 Hz), alfa (8-12 Hz), beta (12-30 Hz) y gamma (30-100 Hz)**. Asegúrate de que las frecuencias de corte no eliminen las bandas de frecuencia de interés.\n",
    "\n",
    "**Requisitos del estudio:** Algunos estudios pueden requerir análisis en rangos de frecuencia específicos. Por ejemplo, en el estudio de la actividad cerebral relacionada con las emociones, las bandas de frecuencia alfa y beta pueden ser de especial interés. Ajusta las frecuencias de corte según los requisitos específicos de tu estudio."
   ]
  },
  {
   "cell_type": "code",
   "execution_count": null,
   "id": "0dab3a73",
   "metadata": {},
   "outputs": [],
   "source": []
  }
 ],
 "metadata": {
  "kernelspec": {
   "display_name": "Python 3 (ipykernel)",
   "language": "python",
   "name": "python3"
  },
  "language_info": {
   "codemirror_mode": {
    "name": "ipython",
    "version": 3
   },
   "file_extension": ".py",
   "mimetype": "text/x-python",
   "name": "python",
   "nbconvert_exporter": "python",
   "pygments_lexer": "ipython3",
   "version": "3.9.0"
  },
  "toc": {
   "base_numbering": 1,
   "nav_menu": {},
   "number_sections": true,
   "sideBar": true,
   "skip_h1_title": false,
   "title_cell": "Table of Contents",
   "title_sidebar": "Contents",
   "toc_cell": false,
   "toc_position": {},
   "toc_section_display": true,
   "toc_window_display": false
  }
 },
 "nbformat": 4,
 "nbformat_minor": 5
}
